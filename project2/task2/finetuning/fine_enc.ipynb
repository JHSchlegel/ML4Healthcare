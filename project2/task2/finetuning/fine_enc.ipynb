{
 "cells": [
  {
   "cell_type": "code",
   "execution_count": 52,
   "metadata": {},
   "outputs": [],
   "source": [
    "#%autoreload\n",
    "\n",
    "import pandas as pd\n",
    "import numpy as np\n",
    "import torch\n",
    "import torch.nn as nn\n",
    "import torch.optim as optim\n",
    "import torch.nn.functional as F\n",
    "import yaml\n",
    "from tqdm import tqdm, trange\n",
    "import os\n",
    "import matplotlib.pyplot as plt\n",
    "from sklearn.metrics import (\n",
    "    f1_score, \n",
    "    balanced_accuracy_score, \n",
    "    confusion_matrix,\n",
    "    ConfusionMatrixDisplay, \n",
    "    accuracy_score,\n",
    "    classification_report\n",
    ")\n",
    "from torch.utils.data import Dataset, DataLoader\n",
    "\n",
    "from sklearn.model_selection import train_test_split\n",
    "\n",
    "from torch.utils.tensorboard import SummaryWriter\n",
    "from imblearn.over_sampling import SMOTE\n",
    "import pandas as pd\n",
    "import numpy as np\n",
    "import yaml\n",
    "import os\n",
    "\n",
    "from sklearn.metrics import (\n",
    "    f1_score, \n",
    "    balanced_accuracy_score,\n",
    "    confusion_matrix,\n",
    "    ConfusionMatrixDisplay,\n",
    "    accuracy_score,\n",
    "    classification_report\n",
    ")\n",
    "import matplotlib.pyplot as plt\n",
    "import seaborn as sns \n",
    "from lightgbm import LGBMClassifier\n",
    "pd.set_option('display.max_columns', None)\n",
    "from torch import nn, Tensor\n",
    "\n",
    "from cnn_utils import (\n",
    "    PTB_Dataset,\n",
    "    EarlyStopping,\n",
    "    set_all_seeds,\n",
    "    train_and_validate,\n",
    "    test,\n",
    ")\n",
    "#os.getcwd()"
   ]
  },
  {
   "cell_type": "code",
   "execution_count": 2,
   "metadata": {},
   "outputs": [],
   "source": [
    "#%load_ext autoreload"
   ]
  },
  {
   "cell_type": "code",
   "execution_count": 53,
   "metadata": {},
   "outputs": [],
   "source": [
    "DEVICE = torch.device(\"cuda:0\" if torch.cuda.is_available() else \"cpu\")\n",
    "SEED = 42\n",
    "\n",
    "TRAIN_BATCH_SIZE = 32\n",
    "VAL_BATCH_SIZE = 256\n",
    "TEST_BATCH_SIZE = 256\n",
    "\n",
    "N_EPOCHS=10"
   ]
  },
  {
   "cell_type": "code",
   "execution_count": 54,
   "metadata": {},
   "outputs": [
    {
     "name": "stdout",
     "output_type": "stream",
     "text": [
      "(16808, 187) (16808,)\n",
      "(array([0., 1.]), array([8404, 8404], dtype=int64))\n"
     ]
    }
   ],
   "source": [
    "path= r'C:\\Users\\pauls\\Desktop\\Studium\\Machine Learning for Health Care\\Projekt 2\\project2_TS_input'\n",
    "#path = \"../../data\"\n",
    "TEST_BATCH_SIZE = 256\n",
    "SEED = 42\n",
    "\n",
    "ptb_read_train = pd.read_csv(os.path.join(path, 'ptbdb_train.csv'), header=None)\n",
    "ptb_read_test = pd.read_csv(os.path.join(path, 'ptbdb_test.csv'), header=None)\n",
    "X_ptb_train = ptb_read_train.iloc[:, :-1].to_numpy()\n",
    "X_ptb_test = ptb_read_test.iloc[:, :-1].to_numpy()\n",
    "y_ptb_train = ptb_read_train.iloc[:, -1].to_numpy()\n",
    "y_ptb_test = ptb_read_test.iloc[:, -1].to_numpy()\n",
    "\n",
    "sm = SMOTE(random_state=SEED)\n",
    "X_ptb_train_resampled, y_ptb_train_resampled = sm.fit_resample(X_ptb_train, y_ptb_train)\n",
    "print(X_ptb_train_resampled.shape, y_ptb_train_resampled.shape)\n",
    "print(np.unique(y_ptb_train_resampled, return_counts=True))\n",
    "\n",
    "# Apply the data loader to the datasets ptb train\n",
    "ptb_loader_train = DataLoader(\n",
    "    PTB_Dataset(X_ptb_train_resampled, y_ptb_train_resampled),\n",
    "    batch_size=TEST_BATCH_SIZE,\n",
    "    shuffle=False,\n",
    "    pin_memory=True,\n",
    "    num_workers=0,\n",
    ")\n",
    "\n",
    "# Apply the data loader to the datasets ptb test\n",
    "ptb_loader_test = DataLoader(\n",
    "    PTB_Dataset(X_ptb_test, y_ptb_test),\n",
    "    batch_size=TEST_BATCH_SIZE,\n",
    "    shuffle=False,\n",
    "    pin_memory=True,\n",
    "    num_workers=0,\n",
    ")"
   ]
  },
  {
   "cell_type": "markdown",
   "metadata": {},
   "source": [
    "## Creating the embeddings:"
   ]
  },
  {
   "cell_type": "markdown",
   "metadata": {},
   "source": [
    "### Embeddings from the CNN encoder (Q1)"
   ]
  },
  {
   "cell_type": "code",
   "execution_count": 55,
   "metadata": {},
   "outputs": [
    {
     "data": {
      "text/plain": [
       "<All keys matched successfully>"
      ]
     },
     "execution_count": 55,
     "metadata": {},
     "output_type": "execute_result"
    }
   ],
   "source": [
    "class CNN(nn.Module):\n",
    "    def __init__(self, classes_num: int, in_channels: int):\n",
    "        super().__init__()\n",
    "\n",
    "        self.conv1 = self._create_conv_block(in_channels, 32, 3, 1)\n",
    "        self.conv2 = self._create_conv_block(32, 64, 3, 1)\n",
    "        self.conv3 = self._create_conv_block(64, 128, 3, 1)\n",
    "        self.adaptive_pool = nn.AdaptiveAvgPool1d(output_size = 10)\n",
    "\n",
    "        self.flatten = nn.Flatten(1)\n",
    "        self.fc = nn.Sequential(\n",
    "            #nn.Linear(1280, 256),\n",
    "            nn.Linear(1280, 16),\n",
    "            nn.Hardswish(),\n",
    "            nn.Dropout(p=0.2),\n",
    "            nn.Linear(16, classes_num)\n",
    "        )\n",
    "\n",
    "    def forward(self, x: Tensor) -> Tensor:\n",
    "        x = x.unsqueeze(1)\n",
    "        x = self.conv1(x)\n",
    "        x = self.conv2(x)\n",
    "        x = self.conv3(x)\n",
    "        x = self.adaptive_pool(x)\n",
    "        x = self.flatten(x)\n",
    "        x = self.fc(x)\n",
    "        return x  \n",
    "\n",
    "    def _create_conv_block(self, in_channels: int, out_channels: int, kernel_size: int, stride: int):\n",
    "        return nn.Sequential(\n",
    "            nn.Conv1d(\n",
    "                in_channels=in_channels,\n",
    "                out_channels=out_channels,\n",
    "                kernel_size=kernel_size,\n",
    "                stride=stride,\n",
    "                padding=1,\n",
    "                bias=False\n",
    "            ),\n",
    "            nn.BatchNorm1d(out_channels),\n",
    "            nn.ReLU(),\n",
    "            nn.MaxPool1d(kernel_size=2, stride=2)\n",
    "        )\n",
    "\n",
    "class ModifiedCNN(CNN):\n",
    "    def forward(self, x: torch.Tensor) -> torch.Tensor:\n",
    "        x = x.unsqueeze(1)\n",
    "        x = self.conv1(x)\n",
    "        x = self.conv2(x)\n",
    "        x = self.conv3(x)\n",
    "        x = self.adaptive_pool(x)\n",
    "        x = self.flatten(x)\n",
    "        x = self.fc[0](x)\n",
    "        return x\n",
    "\n",
    "# Replace CNN with the modified version that returns the last conv layer output\n",
    "model_Q1 = ModifiedCNN(classes_num=5, in_channels=1)\n",
    "\n",
    "path_Q1 = \"../weights/cnn_mitbih.pth\"\n",
    "\n",
    "model_Q1.load_state_dict(torch.load(path_Q1,map_location=DEVICE))"
   ]
  },
  {
   "cell_type": "code",
   "execution_count": 56,
   "metadata": {},
   "outputs": [],
   "source": [
    "# Obtain representations\n",
    "# Initialize an empty list to store the embeddings\n",
    "embeddings_ptb_train = []\n",
    "\n",
    "# Ensure the model is in evaluation mode\n",
    "model_Q1.eval()\n",
    "\n",
    "# No need to track gradients for this\n",
    "with torch.no_grad():\n",
    "    # Iterate over the dataset\n",
    "    for inputs, _ in ptb_loader_train:\n",
    "        # Move the inputs to the same device as the model\n",
    "        inputs = inputs.to(DEVICE)\n",
    "\n",
    "        # Get the embeddings for this batch and append to the list\n",
    "        embedding = model_Q1(inputs)\n",
    "        embeddings_ptb_train.append(embedding.cpu().numpy())\n",
    "\n",
    "# Convert the list of embeddings to a single numpy array\n",
    "emb_ptb_train_Q1 = np.concatenate(embeddings_ptb_train, axis=0)"
   ]
  },
  {
   "cell_type": "code",
   "execution_count": 57,
   "metadata": {},
   "outputs": [],
   "source": [
    "embeddings_ptb_test = []\n",
    "\n",
    "# No need to track gradients for this\n",
    "with torch.no_grad():\n",
    "    # Iterate over the dataset\n",
    "    for inputs, _ in ptb_loader_test:\n",
    "        # Move the inputs to the same device as the model\n",
    "        inputs = inputs.to(DEVICE)\n",
    "\n",
    "        # Get the embeddings for this batch and append to the list\n",
    "        embedding = model_Q1(inputs)\n",
    "        embeddings_ptb_test.append(embedding.cpu().numpy())\n",
    "\n",
    "# Convert the list of embeddings to a single numpy array\n",
    "emb_ptb_test_Q1 = np.concatenate(embeddings_ptb_test, axis=0)"
   ]
  },
  {
   "cell_type": "code",
   "execution_count": 58,
   "metadata": {},
   "outputs": [],
   "source": [
    "def stand(df):\n",
    "    df_new = (df-df.mean())/df.std()\n",
    "    return pd.DataFrame(df_new)\n",
    "\n",
    "emb_ptb_train_Q1 = stand(emb_ptb_train_Q1)\n",
    "emb_ptb_test_Q1 = stand(emb_ptb_test_Q1)"
   ]
  },
  {
   "cell_type": "code",
   "execution_count": 59,
   "metadata": {},
   "outputs": [
    {
     "name": "stdout",
     "output_type": "stream",
     "text": [
      "(16808, 16)\n",
      "(16808,)\n"
     ]
    }
   ],
   "source": [
    "print(emb_ptb_train_Q1.shape)\n",
    "print(y_ptb_train_resampled.shape)"
   ]
  },
  {
   "cell_type": "code",
   "execution_count": 60,
   "metadata": {},
   "outputs": [],
   "source": [
    "boost_no_feat_eng_Q1 =LGBMClassifier(\n",
    "    random_state=42,\n",
    "    verbose=-1,\n",
    "    n_jobs=-1,\n",
    "    n_estimators=1000\n",
    ")\n",
    "boost_no_feat_eng_Q1.fit(emb_ptb_train_Q1, y_ptb_train_resampled)\n",
    "\n",
    "y_preds = boost_no_feat_eng_Q1.predict(emb_ptb_test_Q1)"
   ]
  },
  {
   "cell_type": "code",
   "execution_count": 61,
   "metadata": {},
   "outputs": [
    {
     "data": {
      "text/plain": [
       "<sklearn.metrics._plot.confusion_matrix.ConfusionMatrixDisplay at 0x21089276b20>"
      ]
     },
     "execution_count": 61,
     "metadata": {},
     "output_type": "execute_result"
    },
    {
     "data": {
      "image/png": "[encoded data removed]",
      "text/plain": [
       "<Figure size 640x480 with 2 Axes>"
      ]
     },
     "metadata": {},
     "output_type": "display_data"
    }
   ],
   "source": [
    "cm = confusion_matrix(y_ptb_test, y_preds)\n",
    "disp = ConfusionMatrixDisplay(confusion_matrix=cm, display_labels=[0, 1])\n",
    "disp.plot()"
   ]
  },
  {
   "cell_type": "code",
   "execution_count": 62,
   "metadata": {},
   "outputs": [
    {
     "name": "stdout",
     "output_type": "stream",
     "text": [
      "Test accuracy: 0.918241\n",
      "Test balanced accuracy: 0.908031\n",
      "Test f1 score: 0.942678\n",
      "Test precision: 0.954634\n",
      "Test recall: 0.931018\n"
     ]
    }
   ],
   "source": [
    "# calculate precision and recall:\n",
    "tn, fp, fn, tp = cm.ravel()\n",
    "precision = tp / (tp + fp)\n",
    "recall = tp / (tp + fn)\n",
    "\n",
    "print(f\"Test accuracy: {accuracy_score(y_ptb_test, y_preds):.6f}\")\n",
    "print(f\"Test balanced accuracy: {balanced_accuracy_score(y_ptb_test, y_preds):.6f}\")\n",
    "print(f\"Test f1 score: {f1_score(y_ptb_test, y_preds):.6f}\")\n",
    "print(f\"Test precision: {precision:.6f}\")\n",
    "print(f\"Test recall: {recall:.6f}\")"
   ]
  },
  {
   "cell_type": "code",
   "execution_count": 63,
   "metadata": {},
   "outputs": [
    {
     "name": "stdout",
     "output_type": "stream",
     "text": [
      "              precision    recall  f1-score   support\n",
      "\n",
      "         0.0       0.83      0.89      0.86       809\n",
      "         1.0       0.95      0.93      0.94      2102\n",
      "\n",
      "    accuracy                           0.92      2911\n",
      "   macro avg       0.89      0.91      0.90      2911\n",
      "weighted avg       0.92      0.92      0.92      2911\n",
      "\n"
     ]
    }
   ],
   "source": [
    "print(classification_report(y_ptb_test, y_preds))"
   ]
  },
  {
   "cell_type": "markdown",
   "metadata": {},
   "source": [
    "## Embeddings Q2"
   ]
  },
  {
   "cell_type": "code",
   "execution_count": 16,
   "metadata": {},
   "outputs": [],
   "source": [
    "latent_dim = 16"
   ]
  },
  {
   "cell_type": "code",
   "execution_count": 17,
   "metadata": {},
   "outputs": [],
   "source": [
    "# We based our CNN on this: https://medium.com/@chen-yu/building-a-customized-residual-cnn-with-pytorch-471810e894ed\n",
    "class CNNEncoder(nn.Module):\n",
    "    def __init__(self, latent_dim: int, in_channels: int):\n",
    "        super().__init__()\n",
    "\n",
    "        self.conv1 = self._create_conv_block(in_channels, 32, 3, 1)\n",
    "        self.conv2 = self._create_conv_block(32, 64, 3, 1)\n",
    "        self.conv3 = self._create_conv_block(64, 128, 3, 1)\n",
    "        self.adaptive_pool = nn.AdaptiveAvgPool1d(output_size = 10)\n",
    "        \n",
    "        \n",
    "        # Flattening and final linear layer\n",
    "        self.flatten = nn.Flatten(1)\n",
    "        self.fc = nn.Linear(1280, latent_dim)\n",
    "\n",
    "    def forward(self, x: Tensor) -> Tensor:\n",
    "        x = x.unsqueeze(1) # Add channel dimension\n",
    "        # now: [batch_size, in_channels, seq_len] i.e. [batch_size, 1, 187]\n",
    "        \n",
    "        x = self.conv1(x)\n",
    "        x = self.conv2(x)\n",
    "        x = self.conv3(x)\n",
    "        x = self.adaptive_pool(x)\n",
    "        \n",
    "        x = self.flatten(x)\n",
    "        x = self.fc(x)\n",
    "        return x\n",
    "    \n",
    "    def _create_conv_block(self, in_channels: int, out_channels: int, kernel_size: int, stride: int):\n",
    "        return nn.Sequential(\n",
    "            nn.Conv1d(\n",
    "                in_channels=in_channels, \n",
    "                out_channels=out_channels, \n",
    "                kernel_size=kernel_size, \n",
    "                stride=stride, \n",
    "                padding=1, \n",
    "                bias=False\n",
    "            ),\n",
    "            nn.BatchNorm1d(out_channels),\n",
    "            nn.ReLU(),\n",
    "            nn.MaxPool1d(kernel_size=2, stride=2)\n",
    "        )\n",
    "\n",
    "\n",
    "set_all_seeds(SEED)\n",
    "encoder=CNNEncoder(latent_dim=latent_dim, in_channels=1).to(DEVICE)"
   ]
  },
  {
   "cell_type": "code",
   "execution_count": 18,
   "metadata": {},
   "outputs": [
    {
     "data": {
      "text/plain": [
       "<All keys matched successfully>"
      ]
     },
     "execution_count": 18,
     "metadata": {},
     "output_type": "execute_result"
    }
   ],
   "source": [
    "model_Q2 = CNNEncoder(latent_dim=latent_dim, in_channels=1).to(DEVICE)\n",
    "model_Q2.load_state_dict(torch.load(\"../weights/encoder_q2.pth\", map_location=DEVICE))"
   ]
  },
  {
   "cell_type": "code",
   "execution_count": 19,
   "metadata": {},
   "outputs": [],
   "source": [
    "embeddings_ptb_train = []\n",
    "\n",
    "# Ensure the model is in evaluation mode\n",
    "model_Q2.eval()\n",
    "\n",
    "# No need to track gradients for this\n",
    "with torch.no_grad():\n",
    "    # Iterate over the dataset\n",
    "    for inputs, _ in ptb_loader_train:\n",
    "        # Move the inputs to the same device as the model\n",
    "        inputs = inputs.to(DEVICE)\n",
    "\n",
    "        # Get the embeddings for this batch and append to the list\n",
    "        embedding = model_Q2(inputs)\n",
    "        embeddings_ptb_train.append(embedding.cpu().numpy())\n",
    "\n",
    "# Convert the list of embeddings to a single numpy array\n",
    "emb_ptb_train_Q2 = np.concatenate(embeddings_ptb_train, axis=0)"
   ]
  },
  {
   "cell_type": "code",
   "execution_count": 20,
   "metadata": {},
   "outputs": [],
   "source": [
    "embeddings_ptb_test = []\n",
    "\n",
    "# No need to track gradients for this\n",
    "with torch.no_grad():\n",
    "    # Iterate over the dataset\n",
    "    for inputs, _ in ptb_loader_test:\n",
    "        # Move the inputs to the same device as the model\n",
    "        inputs = inputs.to(DEVICE)\n",
    "\n",
    "        # Get the embeddings for this batch and append to the list\n",
    "        embedding = model_Q2(inputs)\n",
    "        embeddings_ptb_test.append(embedding.cpu().numpy())\n",
    "\n",
    "# Convert the list of embeddings to a single numpy array\n",
    "emb_ptb_test_Q2 = np.concatenate(embeddings_ptb_test, axis=0)"
   ]
  },
  {
   "cell_type": "code",
   "execution_count": 21,
   "metadata": {},
   "outputs": [],
   "source": [
    "emb_ptb_train_Q2 = stand(emb_ptb_train_Q2)\n",
    "emb_ptb_test_Q2 = stand(emb_ptb_test_Q2)"
   ]
  },
  {
   "cell_type": "code",
   "execution_count": 22,
   "metadata": {},
   "outputs": [],
   "source": [
    "boost_no_feat_eng_Q2 =LGBMClassifier(\n",
    "    random_state=42,\n",
    "    verbose=-1,\n",
    "    n_jobs=-1,\n",
    "    n_estimators=1000\n",
    ")\n",
    "boost_no_feat_eng_Q2.fit(emb_ptb_train_Q2, y_ptb_train_resampled)\n",
    "\n",
    "y_preds = boost_no_feat_eng_Q2.predict(emb_ptb_test_Q2)"
   ]
  },
  {
   "cell_type": "code",
   "execution_count": 23,
   "metadata": {},
   "outputs": [
    {
     "data": {
      "text/plain": [
       "<sklearn.metrics._plot.confusion_matrix.ConfusionMatrixDisplay at 0x21099d3e2b0>"
      ]
     },
     "execution_count": 23,
     "metadata": {},
     "output_type": "execute_result"
    },
    {
     "data": {
      "image/png": "[encoded data removed]",
      "text/plain": [
       "<Figure size 640x480 with 2 Axes>"
      ]
     },
     "metadata": {},
     "output_type": "display_data"
    }
   ],
   "source": [
    "cm = confusion_matrix(y_ptb_test, y_preds)\n",
    "disp = ConfusionMatrixDisplay(confusion_matrix=cm, display_labels=[0, 1])\n",
    "disp.plot()"
   ]
  },
  {
   "cell_type": "code",
   "execution_count": 24,
   "metadata": {},
   "outputs": [
    {
     "name": "stdout",
     "output_type": "stream",
     "text": [
      "Test accuracy: 0.931295\n",
      "Test balanced accuracy: 0.916309\n",
      "Test f1 score: 0.952313\n",
      "Test precision: 0.954589\n",
      "Test recall: 0.950048\n"
     ]
    }
   ],
   "source": [
    "# calculate precision and recall:\n",
    "tn, fp, fn, tp = cm.ravel()\n",
    "precision = tp / (tp + fp)\n",
    "recall = tp / (tp + fn)\n",
    "\n",
    "print(f\"Test accuracy: {accuracy_score(y_ptb_test, y_preds):.6f}\")\n",
    "print(f\"Test balanced accuracy: {balanced_accuracy_score(y_ptb_test, y_preds):.6f}\")\n",
    "print(f\"Test f1 score: {f1_score(y_ptb_test, y_preds):.6f}\")\n",
    "print(f\"Test precision: {precision:.6f}\")\n",
    "print(f\"Test recall: {recall:.6f}\")"
   ]
  },
  {
   "cell_type": "code",
   "execution_count": 58,
   "metadata": {},
   "outputs": [
    {
     "name": "stdout",
     "output_type": "stream",
     "text": [
      "              precision    recall  f1-score   support\n",
      "\n",
      "         0.0       0.96      0.95      0.95       809\n",
      "         1.0       0.98      0.98      0.98      2102\n",
      "\n",
      "    accuracy                           0.97      2911\n",
      "   macro avg       0.97      0.97      0.97      2911\n",
      "weighted avg       0.97      0.97      0.97      2911\n",
      "\n"
     ]
    }
   ],
   "source": [
    "print(classification_report(y_ptb_test, y_preds))"
   ]
  },
  {
   "cell_type": "markdown",
   "metadata": {},
   "source": [
    "# MLP output layers"
   ]
  },
  {
   "cell_type": "markdown",
   "metadata": {},
   "source": [
    "For the MLP layers, we'll first have to introduce a training / validation split. Note that we only apply SMOTE on the training set after the train/ validation split has been done."
   ]
  },
  {
   "cell_type": "code",
   "execution_count": 64,
   "metadata": {},
   "outputs": [
    {
     "name": "stdout",
     "output_type": "stream",
     "text": [
      "(15126, 187) (15126,)\n",
      "(array([0., 1.]), array([7563, 7563], dtype=int64))\n"
     ]
    }
   ],
   "source": [
    "X_ptb_train, X_ptb_val, y_ptb_train, y_ptb_val = train_test_split(\n",
    "    X_ptb_train,\n",
    "    y_ptb_train,\n",
    "    test_size=0.1, \n",
    "    stratify=y_ptb_train, \n",
    "    random_state=42\n",
    ")\n",
    "\n",
    "sm = SMOTE(random_state=SEED)\n",
    "X_ptb_train_resampled, y_ptb_train_resampled = sm.fit_resample(X_ptb_train, y_ptb_train)\n",
    "print(X_ptb_train_resampled.shape, y_ptb_train_resampled.shape)\n",
    "print(np.unique(y_ptb_train_resampled, return_counts=True))\n",
    "\n"
   ]
  },
  {
   "cell_type": "markdown",
   "metadata": {},
   "source": [
    "It seems like before the Dataloader got the embeddings as the intput. I will have to think about how to go about this."
   ]
  },
  {
   "cell_type": "code",
   "execution_count": 65,
   "metadata": {},
   "outputs": [],
   "source": [
    "ptb_train_loader_resampled = DataLoader(\n",
    "    PTB_Dataset(X_ptb_train_resampled, y_ptb_train_resampled),\n",
    "    batch_size=32,\n",
    "    shuffle=True,\n",
    "    pin_memory=True,\n",
    "    num_workers=0,\n",
    ")\n",
    "ptb_val_loader = DataLoader(\n",
    "    PTB_Dataset(X_ptb_val, y_ptb_val),\n",
    "    batch_size=32,\n",
    "    shuffle=True,\n",
    "    pin_memory=True,\n",
    "    num_workers=0,\n",
    ")\n",
    "ptb_test_loader = DataLoader(\n",
    "    PTB_Dataset(X_ptb_test, y_ptb_test),\n",
    "    batch_size=256,\n",
    "    shuffle=False,\n",
    "    pin_memory=True,\n",
    "    num_workers=0,\n",
    ")"
   ]
  },
  {
   "cell_type": "markdown",
   "metadata": {},
   "source": [
    "## Encoder Q1"
   ]
  },
  {
   "cell_type": "markdown",
   "metadata": {},
   "source": [
    "### Train the output layer(s) only on the PTB dataset, freezing the encoder."
   ]
  },
  {
   "cell_type": "code",
   "execution_count": 88,
   "metadata": {},
   "outputs": [],
   "source": [
    "class CNN_frozen_enc(nn.Module):\n",
    "    def __init__(self, classes_num: int, in_channels: int):\n",
    "        super().__init__()\n",
    "\n",
    "        self.conv1 = self._create_conv_block(in_channels, 32, 3, 1)\n",
    "        self.conv2 = self._create_conv_block(32, 64, 3, 1)\n",
    "        self.conv3 = self._create_conv_block(64, 128, 3, 1)\n",
    "        self.adaptive_pool = nn.AdaptiveAvgPool1d(output_size = 10)\n",
    "\n",
    "        self.flatten = nn.Flatten(1)\n",
    "        self.fc = nn.Sequential(\n",
    "            #nn.Linear(1280, 256),\n",
    "            nn.Linear(1280, 16),\n",
    "            nn.Hardswish(),\n",
    "            nn.Dropout(p=0.2),\n",
    "            nn.Linear(16, classes_num)\n",
    "        )\n",
    "        \n",
    "          # Freeze the convolutional layers\n",
    "        self._freeze_conv_layers()\n",
    "\n",
    "    def _freeze_conv_layers(self):\n",
    "        for param in self.conv1.parameters():\n",
    "            param.requires_grad = False\n",
    "        for param in self.conv2.parameters():\n",
    "            param.requires_grad = False\n",
    "        for param in self.conv3.parameters():\n",
    "            param.requires_grad = False\n",
    "            \n",
    "    def _unfreeze_all_layers(self):\n",
    "        for param in self.parameters():\n",
    "            param.requires_grad = True\n",
    "\n",
    "    def forward(self, x: Tensor) -> Tensor:\n",
    "        x = x.unsqueeze(1)\n",
    "        x = self.conv1(x)\n",
    "        x = self.conv2(x)\n",
    "        x = self.conv3(x)\n",
    "        x = self.adaptive_pool(x)\n",
    "        x = self.flatten(x)\n",
    "        x = self.fc(x)\n",
    "        return x  \n",
    "\n",
    "    def _create_conv_block(self, in_channels: int, out_channels: int, kernel_size: int, stride: int):\n",
    "        return nn.Sequential(\n",
    "            nn.Conv1d(\n",
    "                in_channels=in_channels,\n",
    "                out_channels=out_channels,\n",
    "                kernel_size=kernel_size,\n",
    "                stride=stride,\n",
    "                padding=1,\n",
    "                bias=False\n",
    "            ),\n",
    "            nn.BatchNorm1d(out_channels),\n",
    "            nn.ReLU(),\n",
    "            nn.MaxPool1d(kernel_size=2, stride=2)\n",
    "        )\n",
    "\n",
    "\n",
    "# Replace CNN with the modified version that returns the last conv layer output\n",
    "model_Q1_A = CNN_frozen_enc(classes_num=2, in_channels=1)"
   ]
  },
  {
   "cell_type": "code",
   "execution_count": 77,
   "metadata": {},
   "outputs": [
    {
     "name": "stderr",
     "output_type": "stream",
     "text": [
      "c:\\Users\\pauls\\miniconda3\\envs\\introtoml\\lib\\site-packages\\torch\\optim\\lr_scheduler.py:28: UserWarning: The verbose parameter is deprecated. Please use get_last_lr() to access the learning rate.\n",
      "  warnings.warn(\"The verbose parameter is deprecated. Please use get_last_lr() \"\n"
     ]
    }
   ],
   "source": [
    "model_Q1_A = model_Q1_A.to(DEVICE)\n",
    "\n",
    "optimizer = optim.AdamW(model_Q1_A.parameters(), lr=0.005, weight_decay=0.0001)\n",
    "criterion = torch.nn.CrossEntropyLoss()\n",
    "scheduler = optim.lr_scheduler.ReduceLROnPlateau(\n",
    "    optimizer, \"min\", factor=0.5, patience=5, threshold=1e-06, verbose=1\n",
    ")\n",
    "early_stopping = EarlyStopping(start=20, patience=20, verbose=1, mode=\"max\")"
   ]
  },
  {
   "cell_type": "code",
   "execution_count": 78,
   "metadata": {},
   "outputs": [
    {
     "name": "stderr",
     "output_type": "stream",
     "text": [
      "Training Transformer:  55%|█████▌    | 55/100 [08:06<06:38,  8.85s/it, train_balanced_acc=0.962, train_loss=0.00311, val_balanced_acc=0.97, val_loss=0.00406] "
     ]
    },
    {
     "name": "stdout",
     "output_type": "stream",
     "text": [
      "Early stopping at epoch 55. Best score was 0.9740 in epoch 35.\n"
     ]
    },
    {
     "name": "stderr",
     "output_type": "stream",
     "text": [
      "\n"
     ]
    }
   ],
   "source": [
    "N_EPOCHS=100\n",
    "\n",
    "model_Q1_A = train_and_validate(\n",
    "    model = model_Q1_A,\n",
    "    optimizer = optimizer,\n",
    "    scheduler = scheduler,\n",
    "    criterion = criterion,\n",
    "    train_loader = ptb_train_loader_resampled,\n",
    "    val_loader = ptb_val_loader,\n",
    "    best_model_path = \"../weights/cnn_Q1_A.pth\", #os.path.join(path, \"cnn_best_model_MIT_random.pth\"),\n",
    "    device = DEVICE,\n",
    "    num_epochs = N_EPOCHS,\n",
    "    ES = early_stopping\n",
    ")"
   ]
  },
  {
   "cell_type": "code",
   "execution_count": 89,
   "metadata": {},
   "outputs": [
    {
     "data": {
      "text/plain": [
       "<All keys matched successfully>"
      ]
     },
     "execution_count": 89,
     "metadata": {},
     "output_type": "execute_result"
    }
   ],
   "source": [
    "model_Q1_A.load_state_dict(torch.load(\"../weights/cnn_Q1_A.pth\",map_location=DEVICE))"
   ]
  },
  {
   "cell_type": "code",
   "execution_count": 80,
   "metadata": {},
   "outputs": [
    {
     "name": "stdout",
     "output_type": "stream",
     "text": [
      "Test loss: 0.0005, Test accuracy: 0.9698, Test balanced accuracy: 0.9616, Test F1 score: 0.9791\n"
     ]
    }
   ],
   "source": [
    "model_probs, y_preds, y_true, test_loss = test(\n",
    "    model = model_Q1_A,\n",
    "    criterion = criterion,\n",
    "    test_loader = ptb_loader_test,\n",
    "    device = DEVICE\n",
    ")"
   ]
  },
  {
   "cell_type": "markdown",
   "metadata": {},
   "source": [
    "### B. Train the entire model on the PTB dataset (encoder + output layers)"
   ]
  },
  {
   "cell_type": "code",
   "execution_count": 90,
   "metadata": {},
   "outputs": [],
   "source": [
    "class CNN(nn.Module):\n",
    "    def __init__(self, classes_num: int, in_channels: int):\n",
    "        super().__init__()\n",
    "\n",
    "        self.conv1 = self._create_conv_block(in_channels, 32, 3, 1)\n",
    "        self.conv2 = self._create_conv_block(32, 64, 3, 1)\n",
    "        self.conv3 = self._create_conv_block(64, 128, 3, 1)\n",
    "        self.adaptive_pool = nn.AdaptiveAvgPool1d(output_size = 10)\n",
    "\n",
    "        self.flatten = nn.Flatten(1)\n",
    "        self.fc = nn.Sequential(\n",
    "            #nn.Linear(1280, 256),\n",
    "            nn.Linear(1280, 16),\n",
    "            nn.Hardswish(),\n",
    "            nn.Dropout(p=0.2),\n",
    "            nn.Linear(16, classes_num)\n",
    "        )\n",
    "        \n",
    "          # Freeze the convolutional layers\n",
    "    #     self._freeze_conv_layers()\n",
    "\n",
    "    def _freeze_conv_layers(self):\n",
    "        for param in self.conv1.parameters():\n",
    "            param.requires_grad = False\n",
    "        for param in self.conv2.parameters():\n",
    "            param.requires_grad = False\n",
    "        for param in self.conv3.parameters():\n",
    "            param.requires_grad = False\n",
    "\n",
    "    def _unfreeze_all_layers(self):\n",
    "        for param in self.parameters():\n",
    "            param.requires_grad = True\n",
    "\n",
    "\n",
    "    def forward(self, x: Tensor) -> Tensor:\n",
    "        x = x.unsqueeze(1)\n",
    "        x = self.conv1(x)\n",
    "        x = self.conv2(x)\n",
    "        x = self.conv3(x)\n",
    "        x = self.adaptive_pool(x)\n",
    "        x = self.flatten(x)\n",
    "        x = self.fc(x)\n",
    "        return x  \n",
    "\n",
    "    def _create_conv_block(self, in_channels: int, out_channels: int, kernel_size: int, stride: int):\n",
    "        return nn.Sequential(\n",
    "            nn.Conv1d(\n",
    "                in_channels=in_channels,\n",
    "                out_channels=out_channels,\n",
    "                kernel_size=kernel_size,\n",
    "                stride=stride,\n",
    "                padding=1,\n",
    "                bias=False\n",
    "            ),\n",
    "            nn.BatchNorm1d(out_channels),\n",
    "            nn.ReLU(),\n",
    "            nn.MaxPool1d(kernel_size=2, stride=2)\n",
    "        )\n",
    "\n",
    "\n",
    "# Replace CNN with the modified version that returns the last conv layer output\n",
    "model_Q1_B = CNN(classes_num=2, in_channels=1)"
   ]
  },
  {
   "cell_type": "code",
   "execution_count": 84,
   "metadata": {},
   "outputs": [
    {
     "name": "stderr",
     "output_type": "stream",
     "text": [
      "c:\\Users\\pauls\\miniconda3\\envs\\introtoml\\lib\\site-packages\\torch\\optim\\lr_scheduler.py:28: UserWarning: The verbose parameter is deprecated. Please use get_last_lr() to access the learning rate.\n",
      "  warnings.warn(\"The verbose parameter is deprecated. Please use get_last_lr() \"\n"
     ]
    }
   ],
   "source": [
    "model_Q1_B = model_Q1_B.to(DEVICE)\n",
    "\n",
    "optimizer = optim.AdamW(model_Q1_B.parameters(), lr=0.005, weight_decay=0.0001)\n",
    "criterion = torch.nn.CrossEntropyLoss()\n",
    "scheduler = optim.lr_scheduler.ReduceLROnPlateau(\n",
    "    optimizer, \"min\", factor=0.5, patience=5, threshold=1e-06, verbose=1\n",
    ")\n",
    "early_stopping = EarlyStopping(start=20, patience=20, verbose=1, mode=\"max\")"
   ]
  },
  {
   "cell_type": "code",
   "execution_count": 85,
   "metadata": {},
   "outputs": [
    {
     "name": "stderr",
     "output_type": "stream",
     "text": [
      "Training Transformer:  47%|████▋     | 47/100 [12:43<14:21, 16.25s/it, train_balanced_acc=0.999, train_loss=0.000117, val_balanced_acc=0.985, val_loss=0.00204]"
     ]
    },
    {
     "name": "stdout",
     "output_type": "stream",
     "text": [
      "Early stopping at epoch 47. Best score was 0.9873 in epoch 27.\n"
     ]
    },
    {
     "name": "stderr",
     "output_type": "stream",
     "text": [
      "\n"
     ]
    }
   ],
   "source": [
    "N_EPOCHS=100\n",
    "\n",
    "model_Q1_B = train_and_validate(\n",
    "    model = model_Q1_B,\n",
    "    optimizer = optimizer,\n",
    "    scheduler = scheduler,\n",
    "    criterion = criterion,\n",
    "    train_loader = ptb_train_loader_resampled,\n",
    "    val_loader = ptb_val_loader,\n",
    "    best_model_path = \"../weights/cnn_Q1_B.pth\", #os.path.join(path, \"cnn_best_model_MIT_random.pth\"),\n",
    "    device = DEVICE,\n",
    "    num_epochs = N_EPOCHS,\n",
    "    ES = early_stopping\n",
    ")"
   ]
  },
  {
   "cell_type": "code",
   "execution_count": 91,
   "metadata": {},
   "outputs": [
    {
     "data": {
      "text/plain": [
       "<All keys matched successfully>"
      ]
     },
     "execution_count": 91,
     "metadata": {},
     "output_type": "execute_result"
    }
   ],
   "source": [
    "model_Q1_B.load_state_dict(torch.load(\"../weights/cnn_Q1_B.pth\",map_location=DEVICE))"
   ]
  },
  {
   "cell_type": "code",
   "execution_count": 87,
   "metadata": {},
   "outputs": [
    {
     "name": "stdout",
     "output_type": "stream",
     "text": [
      "Test loss: 0.0004, Test accuracy: 0.9876, Test balanced accuracy: 0.9892, Test F1 score: 0.9914\n"
     ]
    }
   ],
   "source": [
    "model_probs, y_preds, y_true, test_loss = test(\n",
    "    model = model_Q1_B,\n",
    "    criterion = criterion,\n",
    "    test_loader = ptb_loader_test,\n",
    "    device = DEVICE\n",
    ")"
   ]
  },
  {
   "cell_type": "markdown",
   "metadata": {},
   "source": [
    "### C. First, train the output layers, then unfreeze and train the entire joint model in two separate stages."
   ]
  },
  {
   "cell_type": "code",
   "execution_count": 99,
   "metadata": {},
   "outputs": [],
   "source": [
    "model_Q1_A._unfreeze_all_layers()\n",
    "model_Q1_C = model_Q1_A"
   ]
  },
  {
   "cell_type": "code",
   "execution_count": 101,
   "metadata": {},
   "outputs": [],
   "source": [
    "model_Q1_C = model_Q1_C.to(DEVICE)\n",
    "optimizer = optim.AdamW(model_Q1_C.parameters(), lr=0.005, weight_decay=0.0001)"
   ]
  },
  {
   "cell_type": "code",
   "execution_count": 102,
   "metadata": {},
   "outputs": [
    {
     "name": "stderr",
     "output_type": "stream",
     "text": [
      "Training Transformer:  21%|██        | 21/100 [06:05<22:54, 17.40s/it, train_balanced_acc=0.971, train_loss=0.00335, val_balanced_acc=0.965, val_loss=0.00287]"
     ]
    },
    {
     "name": "stdout",
     "output_type": "stream",
     "text": [
      "Early stopping at epoch 21. Best score was 0.9873 in epoch 27.\n"
     ]
    },
    {
     "name": "stderr",
     "output_type": "stream",
     "text": [
      "\n"
     ]
    }
   ],
   "source": [
    "N_EPOCHS=100\n",
    "\n",
    "model_Q1_C = train_and_validate(\n",
    "    model = model_Q1_C,\n",
    "    optimizer = optimizer,\n",
    "    scheduler = scheduler,\n",
    "    criterion = criterion,\n",
    "    train_loader = ptb_train_loader_resampled,\n",
    "    val_loader = ptb_val_loader,\n",
    "    best_model_path = \"../weights/cnn_Q1_C.pth\", #os.path.join(path, \"cnn_best_model_MIT_random.pth\"),\n",
    "    device = DEVICE,\n",
    "    num_epochs = N_EPOCHS,\n",
    "    ES = early_stopping\n",
    ")"
   ]
  },
  {
   "cell_type": "code",
   "execution_count": 103,
   "metadata": {},
   "outputs": [
    {
     "data": {
      "text/plain": [
       "<All keys matched successfully>"
      ]
     },
     "execution_count": 103,
     "metadata": {},
     "output_type": "execute_result"
    }
   ],
   "source": [
    "model_Q1_C.load_state_dict(torch.load(\"../weights/cnn_Q1_C.pth\",map_location=DEVICE))"
   ]
  },
  {
   "cell_type": "code",
   "execution_count": 104,
   "metadata": {},
   "outputs": [
    {
     "name": "stdout",
     "output_type": "stream",
     "text": [
      "Test loss: 0.0004, Test accuracy: 0.9876, Test balanced accuracy: 0.9892, Test F1 score: 0.9914\n"
     ]
    }
   ],
   "source": [
    "model_probs, y_preds, y_true, test_loss = test(\n",
    "    model = model_Q1_C,\n",
    "    criterion = criterion,\n",
    "    test_loader = ptb_loader_test,\n",
    "    device = DEVICE\n",
    ")"
   ]
  },
  {
   "cell_type": "markdown",
   "metadata": {},
   "source": [
    "## Encoder Q2"
   ]
  },
  {
   "cell_type": "markdown",
   "metadata": {},
   "source": []
  }
 ],
 "metadata": {
  "kernelspec": {
   "display_name": "Python 3",
   "language": "python",
   "name": "python3"
  },
  "language_info": {
   "codemirror_mode": {
    "name": "ipython",
    "version": 3
   },
   "file_extension": ".py",
   "mimetype": "text/x-python",
   "name": "python",
   "nbconvert_exporter": "python",
   "pygments_lexer": "ipython3",
   "version": "3.9.18"
  }
 },
 "nbformat": 4,
 "nbformat_minor": 2
}
