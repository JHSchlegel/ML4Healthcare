{
 "cells": [
  {
   "cell_type": "code",
   "execution_count": 32,
   "metadata": {},
   "outputs": [],
   "source": [
    "#%autoreload\n",
    "\n",
    "import pandas as pd\n",
    "import numpy as np\n",
    "import torch\n",
    "import torch.nn as nn\n",
    "import torch.optim as optim\n",
    "import torch.nn.functional as F\n",
    "import yaml\n",
    "from tqdm import tqdm, trange\n",
    "import os\n",
    "import matplotlib.pyplot as plt\n",
    "from sklearn.metrics import (\n",
    "    f1_score, \n",
    "    balanced_accuracy_score, \n",
    "    confusion_matrix,\n",
    "    ConfusionMatrixDisplay, \n",
    "    accuracy_score,\n",
    "    classification_report,\n",
    "    precision_score,\n",
    "    recall_score\n",
    ")\n",
    "from torch.utils.data import Dataset, DataLoader\n",
    "\n",
    "from sklearn.model_selection import train_test_split\n",
    "\n",
    "from torch.utils.tensorboard import SummaryWriter\n",
    "from imblearn.over_sampling import SMOTE\n",
    "import pandas as pd\n",
    "import numpy as np\n",
    "import yaml\n",
    "import os\n",
    "\n",
    "from sklearn.metrics import (\n",
    "    f1_score, \n",
    "    balanced_accuracy_score,\n",
    "    confusion_matrix,\n",
    "    ConfusionMatrixDisplay,\n",
    "    accuracy_score,\n",
    "    classification_report\n",
    ")\n",
    "import matplotlib.pyplot as plt\n",
    "import seaborn as sns \n",
    "from lightgbm import LGBMClassifier\n",
    "pd.set_option('display.max_columns', None)\n",
    "from torch import nn, Tensor\n",
    "import copy\n",
    "from sklearn.preprocessing import StandardScaler\n",
    "\n",
    "from cnn_utils import (\n",
    "    PTB_Dataset,\n",
    "    EarlyStopping,\n",
    "    set_all_seeds,\n",
    "    train_and_validate,\n",
    "    test,\n",
    ")\n",
    "#os.getcwd()"
   ]
  },
  {
   "cell_type": "code",
   "execution_count": 2,
   "metadata": {},
   "outputs": [],
   "source": [
    "#%load_ext autoreload"
   ]
  },
  {
   "cell_type": "code",
   "execution_count": 2,
   "metadata": {},
   "outputs": [],
   "source": [
    "DEVICE = torch.device(\"cuda:0\" if torch.cuda.is_available() else \"cpu\")\n",
    "SEED = 42\n",
    "\n",
    "TRAIN_BATCH_SIZE = 32\n",
    "VAL_BATCH_SIZE = 256\n",
    "TEST_BATCH_SIZE = 256\n"
   ]
  },
  {
   "cell_type": "code",
   "execution_count": 3,
   "metadata": {},
   "outputs": [
    {
     "name": "stdout",
     "output_type": "stream",
     "text": [
      "(16808, 187) (16808,)\n",
      "(array([0., 1.]), array([8404, 8404], dtype=int64))\n"
     ]
    }
   ],
   "source": [
    "#path= \"../../data\" \n",
    "path = r'C:\\Users\\pauls\\Desktop\\Studium\\Machine Learning for Health Care\\Projekt 2\\project2_TS_input'\n",
    "TEST_BATCH_SIZE = 256\n",
    "SEED = 42\n",
    "\n",
    "ptb_read_train = pd.read_csv(os.path.join(path, 'ptbdb_train.csv'), header=None)\n",
    "ptb_read_test = pd.read_csv(os.path.join(path, 'ptbdb_test.csv'), header=None)\n",
    "X_ptb_train = ptb_read_train.iloc[:, :-1].to_numpy()\n",
    "X_ptb_test = ptb_read_test.iloc[:, :-1].to_numpy()\n",
    "y_ptb_train = ptb_read_train.iloc[:, -1].to_numpy()\n",
    "y_ptb_test = ptb_read_test.iloc[:, -1].to_numpy()\n",
    "\n",
    "sm = SMOTE(random_state=SEED)\n",
    "X_ptb_train_resampled, y_ptb_train_resampled = sm.fit_resample(X_ptb_train, y_ptb_train)\n",
    "print(X_ptb_train_resampled.shape, y_ptb_train_resampled.shape)\n",
    "print(np.unique(y_ptb_train_resampled, return_counts=True))\n",
    "\n",
    "# Apply the data loader to the datasets ptb train\n",
    "ptb_loader_train = DataLoader(\n",
    "    PTB_Dataset(X_ptb_train_resampled, y_ptb_train_resampled),\n",
    "    batch_size=TEST_BATCH_SIZE,\n",
    "    shuffle=False,\n",
    "    pin_memory=True,\n",
    "    num_workers=0,\n",
    ")\n",
    "\n",
    "# Apply the data loader to the datasets ptb test\n",
    "ptb_loader_test = DataLoader(\n",
    "    PTB_Dataset(X_ptb_test, y_ptb_test),\n",
    "    batch_size=TEST_BATCH_SIZE,\n",
    "    shuffle=False,\n",
    "    pin_memory=True,\n",
    "    num_workers=0,\n",
    ")"
   ]
  },
  {
   "cell_type": "markdown",
   "metadata": {},
   "source": [
    "## Creating the embeddings:"
   ]
  },
  {
   "cell_type": "markdown",
   "metadata": {},
   "source": [
    "### Embeddings from the CNN encoder (Q1)"
   ]
  },
  {
   "cell_type": "code",
   "execution_count": 4,
   "metadata": {},
   "outputs": [
    {
     "data": {
      "text/plain": [
       "ModifiedCNN(\n",
       "  (conv1): Sequential(\n",
       "    (0): Conv1d(1, 32, kernel_size=(3,), stride=(1,), padding=(1,), bias=False)\n",
       "    (1): BatchNorm1d(32, eps=1e-05, momentum=0.1, affine=True, track_running_stats=True)\n",
       "    (2): ReLU()\n",
       "    (3): MaxPool1d(kernel_size=2, stride=2, padding=0, dilation=1, ceil_mode=False)\n",
       "  )\n",
       "  (conv2): Sequential(\n",
       "    (0): Conv1d(32, 64, kernel_size=(3,), stride=(1,), padding=(1,), bias=False)\n",
       "    (1): BatchNorm1d(64, eps=1e-05, momentum=0.1, affine=True, track_running_stats=True)\n",
       "    (2): ReLU()\n",
       "    (3): MaxPool1d(kernel_size=2, stride=2, padding=0, dilation=1, ceil_mode=False)\n",
       "  )\n",
       "  (conv3): Sequential(\n",
       "    (0): Conv1d(64, 128, kernel_size=(3,), stride=(1,), padding=(1,), bias=False)\n",
       "    (1): BatchNorm1d(128, eps=1e-05, momentum=0.1, affine=True, track_running_stats=True)\n",
       "    (2): ReLU()\n",
       "    (3): MaxPool1d(kernel_size=2, stride=2, padding=0, dilation=1, ceil_mode=False)\n",
       "  )\n",
       "  (adaptive_pool): AdaptiveAvgPool1d(output_size=10)\n",
       "  (flatten): Flatten(start_dim=1, end_dim=-1)\n",
       "  (fc): Sequential(\n",
       "    (0): Linear(in_features=1280, out_features=16, bias=True)\n",
       "    (1): Hardswish()\n",
       "    (2): Dropout(p=0.2, inplace=False)\n",
       "    (3): Linear(in_features=16, out_features=5, bias=True)\n",
       "  )\n",
       ")"
      ]
     },
     "execution_count": 4,
     "metadata": {},
     "output_type": "execute_result"
    }
   ],
   "source": [
    "class CNN(nn.Module):\n",
    "    def __init__(self, classes_num: int, in_channels: int):\n",
    "        super().__init__()\n",
    "\n",
    "        self.conv1 = self._create_conv_block(in_channels, 32, 3, 1)\n",
    "        self.conv2 = self._create_conv_block(32, 64, 3, 1)\n",
    "        self.conv3 = self._create_conv_block(64, 128, 3, 1)\n",
    "        self.adaptive_pool = nn.AdaptiveAvgPool1d(output_size = 10)\n",
    "\n",
    "        self.flatten = nn.Flatten(1)\n",
    "        self.fc = nn.Sequential(\n",
    "            #nn.Linear(1280, 256),\n",
    "            nn.Linear(1280, 16),\n",
    "            nn.Hardswish(),\n",
    "            nn.Dropout(p=0.2),\n",
    "            nn.Linear(16, classes_num)\n",
    "        )\n",
    "\n",
    "    def forward(self, x: Tensor) -> Tensor:\n",
    "        x = x.unsqueeze(1)\n",
    "        x = self.conv1(x)\n",
    "        x = self.conv2(x)\n",
    "        x = self.conv3(x)\n",
    "        x = self.adaptive_pool(x)\n",
    "        x = self.flatten(x)\n",
    "        x = self.fc(x)\n",
    "        return x  \n",
    "\n",
    "    def _create_conv_block(self, in_channels: int, out_channels: int, kernel_size: int, stride: int):\n",
    "        return nn.Sequential(\n",
    "            nn.Conv1d(\n",
    "                in_channels=in_channels,\n",
    "                out_channels=out_channels,\n",
    "                kernel_size=kernel_size,\n",
    "                stride=stride,\n",
    "                padding=1,\n",
    "                bias=False\n",
    "            ),\n",
    "            nn.BatchNorm1d(out_channels),\n",
    "            nn.ReLU(),\n",
    "            nn.MaxPool1d(kernel_size=2, stride=2)\n",
    "        )\n",
    "\n",
    "class ModifiedCNN(CNN):\n",
    "    def forward(self, x: torch.Tensor) -> torch.Tensor:\n",
    "        x = x.unsqueeze(1)\n",
    "        x = self.conv1(x)\n",
    "        x = self.conv2(x)\n",
    "        x = self.conv3(x)\n",
    "        x = self.adaptive_pool(x)\n",
    "        x = self.flatten(x)\n",
    "        x = self.fc[0](x)\n",
    "        return x\n",
    "\n",
    "# Replace CNN with the modified version that returns the last conv layer output\n",
    "model_Q1 = ModifiedCNN(classes_num=5, in_channels=1)\n",
    "\n",
    "path_Q1 = \"../weights/cnn_mitbih.pth\"\n",
    "\n",
    "model_Q1.load_state_dict(torch.load(path_Q1,map_location=DEVICE))\n",
    "model_Q1.to(DEVICE)"
   ]
  },
  {
   "cell_type": "code",
   "execution_count": 5,
   "metadata": {},
   "outputs": [],
   "source": [
    "# Obtain representations\n",
    "# Initialize an empty list to store the embeddings\n",
    "embeddings_ptb_train = []\n",
    "\n",
    "# Ensure the model is in evaluation mode\n",
    "model_Q1.eval()\n",
    "\n",
    "# No need to track gradients for this\n",
    "with torch.no_grad():\n",
    "    # Iterate over the dataset\n",
    "    for inputs, _ in ptb_loader_train:\n",
    "        # Move the inputs to the same device as the model\n",
    "        inputs = inputs.to(DEVICE)\n",
    "\n",
    "        # Get the embeddings for this batch and append to the list\n",
    "        embedding = model_Q1(inputs)\n",
    "        embeddings_ptb_train.append(embedding.cpu().numpy())\n",
    "\n",
    "# Convert the list of embeddings to a single numpy array\n",
    "emb_ptb_train_Q1 = np.concatenate(embeddings_ptb_train, axis=0)"
   ]
  },
  {
   "cell_type": "code",
   "execution_count": 6,
   "metadata": {},
   "outputs": [],
   "source": [
    "embeddings_ptb_test = []\n",
    "\n",
    "# No need to track gradients for this\n",
    "with torch.no_grad():\n",
    "    # Iterate over the dataset\n",
    "    for inputs, _ in ptb_loader_test:\n",
    "        # Move the inputs to the same device as the model\n",
    "        inputs = inputs.to(DEVICE)\n",
    "\n",
    "        # Get the embeddings for this batch and append to the list\n",
    "        embedding = model_Q1(inputs)\n",
    "        embeddings_ptb_test.append(embedding.cpu().numpy())\n",
    "\n",
    "# Convert the list of embeddings to a single numpy array\n",
    "emb_ptb_test_Q1 = np.concatenate(embeddings_ptb_test, axis=0)"
   ]
  },
  {
   "cell_type": "code",
   "execution_count": 7,
   "metadata": {},
   "outputs": [],
   "source": [
    "scaler = StandardScaler()\n",
    "emb_ptb_train_Q1 = scaler.fit_transform(emb_ptb_train_Q1)\n",
    "emb_ptb_test_Q1 = scaler.transform(emb_ptb_test_Q1)"
   ]
  },
  {
   "cell_type": "code",
   "execution_count": 8,
   "metadata": {},
   "outputs": [
    {
     "name": "stdout",
     "output_type": "stream",
     "text": [
      "(16808, 16)\n",
      "(16808,)\n"
     ]
    }
   ],
   "source": [
    "print(emb_ptb_train_Q1.shape)\n",
    "print(y_ptb_train_resampled.shape)"
   ]
  },
  {
   "cell_type": "code",
   "execution_count": 9,
   "metadata": {},
   "outputs": [],
   "source": [
    "boost_no_feat_eng_Q1 =LGBMClassifier(\n",
    "    random_state=42,\n",
    "    verbose=-1,\n",
    "    n_jobs=-1,\n",
    "    n_estimators=1000\n",
    ")\n",
    "boost_no_feat_eng_Q1.fit(emb_ptb_train_Q1, y_ptb_train_resampled)\n",
    "\n",
    "y_preds = boost_no_feat_eng_Q1.predict(emb_ptb_test_Q1)"
   ]
  },
  {
   "cell_type": "code",
   "execution_count": 10,
   "metadata": {},
   "outputs": [
    {
     "data": {
      "text/plain": [
       "<sklearn.metrics._plot.confusion_matrix.ConfusionMatrixDisplay at 0x24164e94c40>"
      ]
     },
     "execution_count": 10,
     "metadata": {},
     "output_type": "execute_result"
    },
    {
     "data": {
      "image/png": "[encoded data removed]",
      "text/plain": [
       "<Figure size 640x480 with 2 Axes>"
      ]
     },
     "metadata": {},
     "output_type": "display_data"
    }
   ],
   "source": [
    "cm = confusion_matrix(y_ptb_test, y_preds)\n",
    "disp = ConfusionMatrixDisplay(confusion_matrix=cm, display_labels=[0, 1])\n",
    "disp.plot()"
   ]
  },
  {
   "cell_type": "code",
   "execution_count": 11,
   "metadata": {},
   "outputs": [
    {
     "name": "stdout",
     "output_type": "stream",
     "text": [
      "Test accuracy: 0.919959\n",
      "Test balanced accuracy: 0.910741\n",
      "Test f1 score: 0.943842\n",
      "Test precision: 0.956522\n",
      "Test recall: 0.931494\n"
     ]
    }
   ],
   "source": [
    "# calculate precision and recall:\n",
    "tn, fp, fn, tp = cm.ravel()\n",
    "precision = tp / (tp + fp)\n",
    "recall = tp / (tp + fn)\n",
    "\n",
    "print(f\"Test accuracy: {accuracy_score(y_ptb_test, y_preds):.6f}\")\n",
    "print(f\"Test balanced accuracy: {balanced_accuracy_score(y_ptb_test, y_preds):.6f}\")\n",
    "print(f\"Test f1 score: {f1_score(y_ptb_test, y_preds):.6f}\")\n",
    "print(f\"Test precision: {precision:.6f}\")\n",
    "print(f\"Test recall: {recall:.6f}\")"
   ]
  },
  {
   "cell_type": "code",
   "execution_count": 12,
   "metadata": {},
   "outputs": [
    {
     "name": "stdout",
     "output_type": "stream",
     "text": [
      "              precision    recall  f1-score   support\n",
      "\n",
      "         0.0       0.83      0.89      0.86       809\n",
      "         1.0       0.96      0.93      0.94      2102\n",
      "\n",
      "    accuracy                           0.92      2911\n",
      "   macro avg       0.89      0.91      0.90      2911\n",
      "weighted avg       0.92      0.92      0.92      2911\n",
      "\n"
     ]
    }
   ],
   "source": [
    "print(classification_report(y_ptb_test, y_preds))"
   ]
  },
  {
   "cell_type": "markdown",
   "metadata": {},
   "source": [
    "## Embeddings Q2"
   ]
  },
  {
   "cell_type": "code",
   "execution_count": 13,
   "metadata": {},
   "outputs": [],
   "source": [
    "latent_dim = 16"
   ]
  },
  {
   "cell_type": "code",
   "execution_count": 14,
   "metadata": {},
   "outputs": [],
   "source": [
    "# We based our CNN on this: https://medium.com/@chen-yu/building-a-customized-residual-cnn-with-pytorch-471810e894ed\n",
    "class CNNEncoder(nn.Module):\n",
    "    def __init__(self, latent_dim: int, in_channels: int):\n",
    "        super().__init__()\n",
    "\n",
    "        self.conv1 = self._create_conv_block(in_channels, 32, 3, 1)\n",
    "        self.conv2 = self._create_conv_block(32, 64, 3, 1)\n",
    "        self.conv3 = self._create_conv_block(64, 128, 3, 1)\n",
    "        self.adaptive_pool = nn.AdaptiveAvgPool1d(output_size = 10)\n",
    "        \n",
    "        \n",
    "        # Flattening and final linear layer\n",
    "        self.flatten = nn.Flatten(1)\n",
    "        self.fc = nn.Linear(1280, latent_dim)\n",
    "\n",
    "    def forward(self, x: Tensor) -> Tensor:\n",
    "        x = x.unsqueeze(1) # Add channel dimension\n",
    "        # now: [batch_size, in_channels, seq_len] i.e. [batch_size, 1, 187]\n",
    "        \n",
    "        x = self.conv1(x)\n",
    "        x = self.conv2(x)\n",
    "        x = self.conv3(x)\n",
    "        x = self.adaptive_pool(x)\n",
    "        \n",
    "        x = self.flatten(x)\n",
    "        x = self.fc(x)\n",
    "        return x\n",
    "    \n",
    "    def _create_conv_block(self, in_channels: int, out_channels: int, kernel_size: int, stride: int):\n",
    "        return nn.Sequential(\n",
    "            nn.Conv1d(\n",
    "                in_channels=in_channels, \n",
    "                out_channels=out_channels, \n",
    "                kernel_size=kernel_size, \n",
    "                stride=stride, \n",
    "                padding=1, \n",
    "                bias=False\n",
    "            ),\n",
    "            nn.BatchNorm1d(out_channels),\n",
    "            nn.ReLU(),\n",
    "            nn.MaxPool1d(kernel_size=2, stride=2)\n",
    "        )\n",
    "\n",
    "\n",
    "set_all_seeds(SEED)\n",
    "encoder=CNNEncoder(latent_dim=latent_dim, in_channels=1).to(DEVICE)"
   ]
  },
  {
   "cell_type": "code",
   "execution_count": 15,
   "metadata": {},
   "outputs": [
    {
     "data": {
      "text/plain": [
       "CNNEncoder(\n",
       "  (conv1): Sequential(\n",
       "    (0): Conv1d(1, 32, kernel_size=(3,), stride=(1,), padding=(1,), bias=False)\n",
       "    (1): BatchNorm1d(32, eps=1e-05, momentum=0.1, affine=True, track_running_stats=True)\n",
       "    (2): ReLU()\n",
       "    (3): MaxPool1d(kernel_size=2, stride=2, padding=0, dilation=1, ceil_mode=False)\n",
       "  )\n",
       "  (conv2): Sequential(\n",
       "    (0): Conv1d(32, 64, kernel_size=(3,), stride=(1,), padding=(1,), bias=False)\n",
       "    (1): BatchNorm1d(64, eps=1e-05, momentum=0.1, affine=True, track_running_stats=True)\n",
       "    (2): ReLU()\n",
       "    (3): MaxPool1d(kernel_size=2, stride=2, padding=0, dilation=1, ceil_mode=False)\n",
       "  )\n",
       "  (conv3): Sequential(\n",
       "    (0): Conv1d(64, 128, kernel_size=(3,), stride=(1,), padding=(1,), bias=False)\n",
       "    (1): BatchNorm1d(128, eps=1e-05, momentum=0.1, affine=True, track_running_stats=True)\n",
       "    (2): ReLU()\n",
       "    (3): MaxPool1d(kernel_size=2, stride=2, padding=0, dilation=1, ceil_mode=False)\n",
       "  )\n",
       "  (adaptive_pool): AdaptiveAvgPool1d(output_size=10)\n",
       "  (flatten): Flatten(start_dim=1, end_dim=-1)\n",
       "  (fc): Linear(in_features=1280, out_features=16, bias=True)\n",
       ")"
      ]
     },
     "execution_count": 15,
     "metadata": {},
     "output_type": "execute_result"
    }
   ],
   "source": [
    "model_Q2 = CNNEncoder(latent_dim=latent_dim, in_channels=1).to(DEVICE)\n",
    "model_Q2.load_state_dict(torch.load(\"../weights/encoder_q2.pth\", map_location=DEVICE))\n",
    "model_Q2.to(DEVICE)"
   ]
  },
  {
   "cell_type": "code",
   "execution_count": 16,
   "metadata": {},
   "outputs": [],
   "source": [
    "embeddings_ptb_train = []\n",
    "\n",
    "# Ensure the model is in evaluation mode\n",
    "model_Q2.eval()\n",
    "\n",
    "# No need to track gradients for this\n",
    "with torch.no_grad():\n",
    "    # Iterate over the dataset\n",
    "    for inputs, _ in ptb_loader_train:\n",
    "        # Move the inputs to the same device as the model\n",
    "        inputs = inputs.to(DEVICE)\n",
    "\n",
    "        # Get the embeddings for this batch and append to the list\n",
    "        embedding = model_Q2(inputs)\n",
    "        embeddings_ptb_train.append(embedding.cpu().numpy())\n",
    "\n",
    "# Convert the list of embeddings to a single numpy array\n",
    "emb_ptb_train_Q2 = np.concatenate(embeddings_ptb_train, axis=0)"
   ]
  },
  {
   "cell_type": "code",
   "execution_count": 17,
   "metadata": {},
   "outputs": [],
   "source": [
    "embeddings_ptb_test = []\n",
    "\n",
    "# No need to track gradients for this\n",
    "with torch.no_grad():\n",
    "    # Iterate over the dataset\n",
    "    for inputs, _ in ptb_loader_test:\n",
    "        # Move the inputs to the same device as the model\n",
    "        inputs = inputs.to(DEVICE)\n",
    "\n",
    "        # Get the embeddings for this batch and append to the list\n",
    "        embedding = model_Q2(inputs)\n",
    "        embeddings_ptb_test.append(embedding.cpu().numpy())\n",
    "\n",
    "# Convert the list of embeddings to a single numpy array\n",
    "emb_ptb_test_Q2 = np.concatenate(embeddings_ptb_test, axis=0)"
   ]
  },
  {
   "cell_type": "code",
   "execution_count": 19,
   "metadata": {},
   "outputs": [],
   "source": [
    "# np.save(\"embeddings/emb_ptb_train_Q2\", emb_ptb_train_Q2)\n",
    "# np.save(\"embeddings/emb_ptb_test_Q2\", emb_ptb_test_Q2)"
   ]
  },
  {
   "cell_type": "code",
   "execution_count": 18,
   "metadata": {},
   "outputs": [],
   "source": [
    "emb_ptb_train_Q2 = scaler.fit_transform(emb_ptb_train_Q2)\n",
    "emb_ptb_test_Q2 = scaler.transform(emb_ptb_test_Q2)"
   ]
  },
  {
   "cell_type": "code",
   "execution_count": 19,
   "metadata": {},
   "outputs": [],
   "source": [
    "boost_no_feat_eng_Q2 =LGBMClassifier(\n",
    "    random_state=42,\n",
    "    verbose=-1,\n",
    "    n_jobs=-1,\n",
    "    n_estimators=1000\n",
    ")\n",
    "boost_no_feat_eng_Q2.fit(emb_ptb_train_Q2, y_ptb_train_resampled)\n",
    "\n",
    "y_preds = boost_no_feat_eng_Q2.predict(emb_ptb_test_Q2)"
   ]
  },
  {
   "cell_type": "code",
   "execution_count": 20,
   "metadata": {},
   "outputs": [
    {
     "data": {
      "text/plain": [
       "<sklearn.metrics._plot.confusion_matrix.ConfusionMatrixDisplay at 0x24164eb82b0>"
      ]
     },
     "execution_count": 20,
     "metadata": {},
     "output_type": "execute_result"
    },
    {
     "data": {
      "image/png": "[encoded data removed]",
      "text/plain": [
       "<Figure size 640x480 with 2 Axes>"
      ]
     },
     "metadata": {},
     "output_type": "display_data"
    }
   ],
   "source": [
    "cm = confusion_matrix(y_ptb_test, y_preds)\n",
    "disp = ConfusionMatrixDisplay(confusion_matrix=cm, display_labels=[0, 1])\n",
    "disp.plot()"
   ]
  },
  {
   "cell_type": "code",
   "execution_count": 21,
   "metadata": {},
   "outputs": [
    {
     "name": "stdout",
     "output_type": "stream",
     "text": [
      "Test accuracy: 0.955685\n",
      "Test balanced accuracy: 0.949546\n",
      "Test f1 score: 0.969131\n",
      "Test precision: 0.974964\n",
      "Test recall: 0.963368\n"
     ]
    }
   ],
   "source": [
    "# calculate precision and recall:\n",
    "tn, fp, fn, tp = cm.ravel()\n",
    "precision = tp / (tp + fp)\n",
    "recall = tp / (tp + fn)\n",
    "\n",
    "print(f\"Test accuracy: {accuracy_score(y_ptb_test, y_preds):.6f}\")\n",
    "print(f\"Test balanced accuracy: {balanced_accuracy_score(y_ptb_test, y_preds):.6f}\")\n",
    "print(f\"Test f1 score: {f1_score(y_ptb_test, y_preds):.6f}\")\n",
    "print(f\"Test precision: {precision:.6f}\")\n",
    "print(f\"Test recall: {recall:.6f}\")"
   ]
  },
  {
   "cell_type": "code",
   "execution_count": 22,
   "metadata": {},
   "outputs": [
    {
     "name": "stdout",
     "output_type": "stream",
     "text": [
      "              precision    recall  f1-score   support\n",
      "\n",
      "         0.0       0.91      0.94      0.92       809\n",
      "         1.0       0.97      0.96      0.97      2102\n",
      "\n",
      "    accuracy                           0.96      2911\n",
      "   macro avg       0.94      0.95      0.95      2911\n",
      "weighted avg       0.96      0.96      0.96      2911\n",
      "\n"
     ]
    }
   ],
   "source": [
    "print(classification_report(y_ptb_test, y_preds))"
   ]
  },
  {
   "cell_type": "markdown",
   "metadata": {},
   "source": [
    "# MLP output layers"
   ]
  },
  {
   "cell_type": "markdown",
   "metadata": {},
   "source": [
    "For the MLP layers, we'll first have to introduce a training / validation split. Note that we only apply SMOTE on the training set after the train/ validation split has been done."
   ]
  },
  {
   "cell_type": "code",
   "execution_count": 23,
   "metadata": {},
   "outputs": [
    {
     "name": "stdout",
     "output_type": "stream",
     "text": [
      "(15126, 187) (15126,)\n",
      "(array([0., 1.]), array([7563, 7563], dtype=int64))\n"
     ]
    }
   ],
   "source": [
    "X_ptb_train, X_ptb_val, y_ptb_train, y_ptb_val = train_test_split(\n",
    "    X_ptb_train,\n",
    "    y_ptb_train,\n",
    "    test_size=0.1, \n",
    "    stratify=y_ptb_train, \n",
    "    random_state=42\n",
    ")\n",
    "\n",
    "sm = SMOTE(random_state=SEED)\n",
    "X_ptb_train_resampled, y_ptb_train_resampled = sm.fit_resample(X_ptb_train, y_ptb_train)\n",
    "print(X_ptb_train_resampled.shape, y_ptb_train_resampled.shape)\n",
    "print(np.unique(y_ptb_train_resampled, return_counts=True))\n",
    "\n"
   ]
  },
  {
   "cell_type": "code",
   "execution_count": 24,
   "metadata": {},
   "outputs": [],
   "source": [
    "ptb_train_loader_resampled = DataLoader(\n",
    "    PTB_Dataset(X_ptb_train_resampled, y_ptb_train_resampled),\n",
    "    batch_size=32,\n",
    "    shuffle=True,\n",
    "    pin_memory=True,\n",
    "    num_workers=0,\n",
    ")\n",
    "ptb_val_loader = DataLoader(\n",
    "    PTB_Dataset(X_ptb_val, y_ptb_val),\n",
    "    batch_size=32,\n",
    "    shuffle=True,\n",
    "    pin_memory=True,\n",
    "    num_workers=0,\n",
    ")\n",
    "ptb_test_loader = DataLoader(\n",
    "    PTB_Dataset(X_ptb_test, y_ptb_test),\n",
    "    batch_size=256,\n",
    "    shuffle=False,\n",
    "    pin_memory=True,\n",
    "    num_workers=0,\n",
    ")"
   ]
  },
  {
   "cell_type": "markdown",
   "metadata": {},
   "source": [
    "## Encoder Q1"
   ]
  },
  {
   "cell_type": "code",
   "execution_count": 25,
   "metadata": {},
   "outputs": [],
   "source": [
    "def freeze_all_but_MLP(model: nn.Module):\n",
    "    for param in model.parameters():\n",
    "        param.requires_grad = False\n",
    "    for param in model.fc.parameters():\n",
    "        param.requires_grad = True"
   ]
  },
  {
   "cell_type": "code",
   "execution_count": 26,
   "metadata": {},
   "outputs": [],
   "source": [
    "def unfreeze_encoder(model: nn.Module):\n",
    "    for param in model.encoder.parameters():\n",
    "        param.requires_grad = True"
   ]
  },
  {
   "cell_type": "markdown",
   "metadata": {},
   "source": [
    "### Train the output layer(s) only on the PTB dataset, freezing the encoder."
   ]
  },
  {
   "cell_type": "code",
   "execution_count": 27,
   "metadata": {},
   "outputs": [],
   "source": [
    "class Q1_Model(nn.Module):\n",
    "    def __init__(self, classes_num: int, in_channels: int):\n",
    "        super().__init__()\n",
    "\n",
    "        self.encoder = ModifiedCNN(classes_num=5, in_channels=in_channels) # num_classes doesn't matter here; only needed to load encoder correctly\n",
    "        self.encoder.load_state_dict(torch.load(\"../weights/cnn_mitbih.pth\", map_location=DEVICE))\n",
    "\n",
    "        self.fc = nn.Sequential(\n",
    "            nn.Linear(16, 64),\n",
    "            nn.Hardswish(),\n",
    "            nn.Dropout(p=0.2),\n",
    "            nn.Linear(64, 256),\n",
    "            nn.ReLU(),\n",
    "            nn.Dropout(p=0.2),\n",
    "            nn.Linear(256, 128),\n",
    "            nn.ReLU(),\n",
    "            nn.Dropout(p=0.2),\n",
    "            nn.Linear(128, classes_num)\n",
    "        )\n",
    "\n",
    "    def forward(self, x: Tensor) -> Tensor:\n",
    "        x = self.encoder(x)\n",
    "        x = self.fc(x)\n",
    "        return x\n",
    "\n",
    "# Replace CNN with the modified version that returns the last conv layer output\n",
    "model_Q1_A = Q1_Model(classes_num=2, in_channels=1)"
   ]
  },
  {
   "cell_type": "code",
   "execution_count": 28,
   "metadata": {},
   "outputs": [
    {
     "name": "stderr",
     "output_type": "stream",
     "text": [
      "c:\\Users\\pauls\\miniconda3\\envs\\introtoml\\lib\\site-packages\\torch\\optim\\lr_scheduler.py:28: UserWarning: The verbose parameter is deprecated. Please use get_last_lr() to access the learning rate.\n",
      "  warnings.warn(\"The verbose parameter is deprecated. Please use get_last_lr() \"\n"
     ]
    }
   ],
   "source": [
    "model_Q1_A = model_Q1_A.to(DEVICE)\n",
    "\n",
    "freeze_all_but_MLP(model_Q1_A)\n",
    "\n",
    "optimizer = optim.AdamW(model_Q1_A.parameters(), lr=0.001, weight_decay=0.0001)\n",
    "criterion = torch.nn.CrossEntropyLoss()\n",
    "scheduler = optim.lr_scheduler.ReduceLROnPlateau(\n",
    "    optimizer, \"min\", factor=0.5, patience=5, threshold=1e-06, verbose=1\n",
    ")\n",
    "early_stopping = EarlyStopping(start=20, patience=20, verbose=1, mode=\"max\")"
   ]
  },
  {
   "cell_type": "code",
   "execution_count": 31,
   "metadata": {},
   "outputs": [
    {
     "name": "stderr",
     "output_type": "stream",
     "text": [
      "  0%|          | 0/100 [00:00<?, ?it/s]/home/janhsc/miniconda3/envs/ml4hc/lib/python3.10/site-packages/torch/nn/modules/conv.py:306: UserWarning: Plan failed with a cudnnException: CUDNN_BACKEND_EXECUTION_PLAN_DESCRIPTOR: cudnnFinalize Descriptor Failed cudnn_status: CUDNN_STATUS_NOT_SUPPORTED (Triggered internally at ../aten/src/ATen/native/cudnn/Conv_v8.cpp:919.)\n",
      "  return F.conv1d(input, weight, bias, self.stride,\n",
      "/home/janhsc/miniconda3/envs/ml4hc/lib/python3.10/site-packages/torch/nn/modules/conv.py:306: UserWarning: Plan failed with a cudnnException: CUDNN_BACKEND_EXECUTION_PLAN_DESCRIPTOR: cudnnFinalize Descriptor Failed cudnn_status: CUDNN_STATUS_NOT_SUPPORTED (Triggered internally at ../aten/src/ATen/native/cudnn/Conv_v8.cpp:919.)\n",
      "  return F.conv1d(input, weight, bias, self.stride,\n",
      "Training CNN:  87%|████████▋ | 87/100 [00:55<00:08,  1.58it/s, train_balanced_acc=0.938, train_loss=0.00473, val_balanced_acc=0.908, val_loss=0.00739]"
     ]
    },
    {
     "name": "stdout",
     "output_type": "stream",
     "text": [
      "Early stopping at epoch 87. Best score was 0.9177 in epoch 67.\n"
     ]
    },
    {
     "name": "stderr",
     "output_type": "stream",
     "text": [
      "\n"
     ]
    }
   ],
   "source": [
    "N_EPOCHS=100\n",
    "\n",
    "model_Q1_A = train_and_validate(\n",
    "    model = model_Q1_A,\n",
    "    optimizer = optimizer,\n",
    "    scheduler = scheduler,\n",
    "    criterion = criterion,\n",
    "    train_loader = ptb_train_loader_resampled,\n",
    "    val_loader = ptb_val_loader,\n",
    "    best_model_path = \"../weights/cnn_Q1_A.pth\", #os.path.join(path, \"cnn_best_model_MIT_random.pth\"),\n",
    "    device = DEVICE,\n",
    "    num_epochs = N_EPOCHS,\n",
    "    ES = early_stopping\n",
    ")"
   ]
  },
  {
   "cell_type": "code",
   "execution_count": 29,
   "metadata": {},
   "outputs": [
    {
     "data": {
      "text/plain": [
       "Q1_Model(\n",
       "  (encoder): ModifiedCNN(\n",
       "    (conv1): Sequential(\n",
       "      (0): Conv1d(1, 32, kernel_size=(3,), stride=(1,), padding=(1,), bias=False)\n",
       "      (1): BatchNorm1d(32, eps=1e-05, momentum=0.1, affine=True, track_running_stats=True)\n",
       "      (2): ReLU()\n",
       "      (3): MaxPool1d(kernel_size=2, stride=2, padding=0, dilation=1, ceil_mode=False)\n",
       "    )\n",
       "    (conv2): Sequential(\n",
       "      (0): Conv1d(32, 64, kernel_size=(3,), stride=(1,), padding=(1,), bias=False)\n",
       "      (1): BatchNorm1d(64, eps=1e-05, momentum=0.1, affine=True, track_running_stats=True)\n",
       "      (2): ReLU()\n",
       "      (3): MaxPool1d(kernel_size=2, stride=2, padding=0, dilation=1, ceil_mode=False)\n",
       "    )\n",
       "    (conv3): Sequential(\n",
       "      (0): Conv1d(64, 128, kernel_size=(3,), stride=(1,), padding=(1,), bias=False)\n",
       "      (1): BatchNorm1d(128, eps=1e-05, momentum=0.1, affine=True, track_running_stats=True)\n",
       "      (2): ReLU()\n",
       "      (3): MaxPool1d(kernel_size=2, stride=2, padding=0, dilation=1, ceil_mode=False)\n",
       "    )\n",
       "    (adaptive_pool): AdaptiveAvgPool1d(output_size=10)\n",
       "    (flatten): Flatten(start_dim=1, end_dim=-1)\n",
       "    (fc): Sequential(\n",
       "      (0): Linear(in_features=1280, out_features=16, bias=True)\n",
       "      (1): Hardswish()\n",
       "      (2): Dropout(p=0.2, inplace=False)\n",
       "      (3): Linear(in_features=16, out_features=5, bias=True)\n",
       "    )\n",
       "  )\n",
       "  (fc): Sequential(\n",
       "    (0): Linear(in_features=16, out_features=64, bias=True)\n",
       "    (1): Hardswish()\n",
       "    (2): Dropout(p=0.2, inplace=False)\n",
       "    (3): Linear(in_features=64, out_features=256, bias=True)\n",
       "    (4): ReLU()\n",
       "    (5): Dropout(p=0.2, inplace=False)\n",
       "    (6): Linear(in_features=256, out_features=128, bias=True)\n",
       "    (7): ReLU()\n",
       "    (8): Dropout(p=0.2, inplace=False)\n",
       "    (9): Linear(in_features=128, out_features=2, bias=True)\n",
       "  )\n",
       ")"
      ]
     },
     "execution_count": 29,
     "metadata": {},
     "output_type": "execute_result"
    }
   ],
   "source": [
    "model_Q1_A.load_state_dict(torch.load(\"../weights/cnn_Q1_A.pth\",map_location=DEVICE))\n",
    "model_Q1_A.to(DEVICE)"
   ]
  },
  {
   "cell_type": "code",
   "execution_count": 30,
   "metadata": {},
   "outputs": [
    {
     "name": "stdout",
     "output_type": "stream",
     "text": [
      "Test loss: 0.0009, Test accuracy: 0.9148, Test balanced accuracy: 0.9152, Test F1 score: 0.9394\n"
     ]
    }
   ],
   "source": [
    "model_probs, y_preds, y_true, test_loss = test(\n",
    "    model = model_Q1_A,\n",
    "    criterion = criterion,\n",
    "    test_loader = ptb_loader_test,\n",
    "    device = DEVICE\n",
    ")"
   ]
  },
  {
   "cell_type": "code",
   "execution_count": 33,
   "metadata": {},
   "outputs": [
    {
     "name": "stdout",
     "output_type": "stream",
     "text": [
      "Test precision: 0.885\n",
      "Test recall: 0.915\n"
     ]
    }
   ],
   "source": [
    "print(f\"Test precision: {precision_score(y_ptb_test, y_preds, average = 'macro'):.3f}\")\n",
    "print(f\"Test recall: {recall_score(y_ptb_test, y_preds, average = 'macro'):.3f}\")"
   ]
  },
  {
   "cell_type": "markdown",
   "metadata": {},
   "source": [
    "### B. Train the entire model on the PTB dataset (encoder + output layers)"
   ]
  },
  {
   "cell_type": "code",
   "execution_count": 34,
   "metadata": {},
   "outputs": [],
   "source": [
    "# Replace CNN with the modified version that returns the last conv layer output\n",
    "model_Q1_B = Q1_Model(classes_num=2, in_channels=1)"
   ]
  },
  {
   "cell_type": "code",
   "execution_count": 35,
   "metadata": {},
   "outputs": [
    {
     "name": "stderr",
     "output_type": "stream",
     "text": [
      "c:\\Users\\pauls\\miniconda3\\envs\\introtoml\\lib\\site-packages\\torch\\optim\\lr_scheduler.py:28: UserWarning: The verbose parameter is deprecated. Please use get_last_lr() to access the learning rate.\n",
      "  warnings.warn(\"The verbose parameter is deprecated. Please use get_last_lr() \"\n"
     ]
    }
   ],
   "source": [
    "model_Q1_B = model_Q1_B.to(DEVICE)\n",
    "\n",
    "optimizer = optim.AdamW(model_Q1_B.parameters(), lr=0.001, weight_decay=0.0001)\n",
    "criterion = torch.nn.CrossEntropyLoss()\n",
    "scheduler = optim.lr_scheduler.ReduceLROnPlateau(\n",
    "    optimizer, \"min\", factor=0.5, patience=5, threshold=1e-06, verbose=1\n",
    ")\n",
    "early_stopping = EarlyStopping(start=20, patience=20, verbose=1, mode=\"max\")"
   ]
  },
  {
   "cell_type": "code",
   "execution_count": 36,
   "metadata": {},
   "outputs": [
    {
     "name": "stderr",
     "output_type": "stream",
     "text": [
      "  0%|          | 0/100 [00:00<?, ?it/s]/home/janhsc/miniconda3/envs/ml4hc/lib/python3.10/site-packages/torch/autograd/graph.py:744: UserWarning: Plan failed with a cudnnException: CUDNN_BACKEND_EXECUTION_PLAN_DESCRIPTOR: cudnnFinalize Descriptor Failed cudnn_status: CUDNN_STATUS_NOT_SUPPORTED (Triggered internally at ../aten/src/ATen/native/cudnn/Conv_v8.cpp:919.)\n",
      "  return Variable._execution_engine.run_backward(  # Calls into the C++ engine to run the backward pass\n",
      "Training CNN:  64%|██████▍   | 64/100 [01:01<00:34,  1.05it/s, train_balanced_acc=1, train_loss=2.09e-6, val_balanced_acc=0.987, val_loss=0.00349]     "
     ]
    },
    {
     "name": "stdout",
     "output_type": "stream",
     "text": [
      "Early stopping at epoch 64. Best score was 0.9901 in epoch 44.\n"
     ]
    },
    {
     "name": "stderr",
     "output_type": "stream",
     "text": [
      "\n"
     ]
    }
   ],
   "source": [
    "N_EPOCHS=100\n",
    "\n",
    "model_Q1_B = train_and_validate(\n",
    "    model = model_Q1_B,\n",
    "    optimizer = optimizer,\n",
    "    scheduler = scheduler,\n",
    "    criterion = criterion,\n",
    "    train_loader = ptb_train_loader_resampled,\n",
    "    val_loader = ptb_val_loader,\n",
    "    best_model_path = \"../weights/cnn_Q1_B.pth\", #os.path.join(path, \"cnn_best_model_MIT_random.pth\"),\n",
    "    device = DEVICE,\n",
    "    num_epochs = N_EPOCHS,\n",
    "    ES = early_stopping\n",
    ")"
   ]
  },
  {
   "cell_type": "code",
   "execution_count": 36,
   "metadata": {},
   "outputs": [
    {
     "data": {
      "text/plain": [
       "Q1_Model(\n",
       "  (encoder): ModifiedCNN(\n",
       "    (conv1): Sequential(\n",
       "      (0): Conv1d(1, 32, kernel_size=(3,), stride=(1,), padding=(1,), bias=False)\n",
       "      (1): BatchNorm1d(32, eps=1e-05, momentum=0.1, affine=True, track_running_stats=True)\n",
       "      (2): ReLU()\n",
       "      (3): MaxPool1d(kernel_size=2, stride=2, padding=0, dilation=1, ceil_mode=False)\n",
       "    )\n",
       "    (conv2): Sequential(\n",
       "      (0): Conv1d(32, 64, kernel_size=(3,), stride=(1,), padding=(1,), bias=False)\n",
       "      (1): BatchNorm1d(64, eps=1e-05, momentum=0.1, affine=True, track_running_stats=True)\n",
       "      (2): ReLU()\n",
       "      (3): MaxPool1d(kernel_size=2, stride=2, padding=0, dilation=1, ceil_mode=False)\n",
       "    )\n",
       "    (conv3): Sequential(\n",
       "      (0): Conv1d(64, 128, kernel_size=(3,), stride=(1,), padding=(1,), bias=False)\n",
       "      (1): BatchNorm1d(128, eps=1e-05, momentum=0.1, affine=True, track_running_stats=True)\n",
       "      (2): ReLU()\n",
       "      (3): MaxPool1d(kernel_size=2, stride=2, padding=0, dilation=1, ceil_mode=False)\n",
       "    )\n",
       "    (adaptive_pool): AdaptiveAvgPool1d(output_size=10)\n",
       "    (flatten): Flatten(start_dim=1, end_dim=-1)\n",
       "    (fc): Sequential(\n",
       "      (0): Linear(in_features=1280, out_features=16, bias=True)\n",
       "      (1): Hardswish()\n",
       "      (2): Dropout(p=0.2, inplace=False)\n",
       "      (3): Linear(in_features=16, out_features=5, bias=True)\n",
       "    )\n",
       "  )\n",
       "  (fc): Sequential(\n",
       "    (0): Linear(in_features=16, out_features=64, bias=True)\n",
       "    (1): Hardswish()\n",
       "    (2): Dropout(p=0.2, inplace=False)\n",
       "    (3): Linear(in_features=64, out_features=256, bias=True)\n",
       "    (4): ReLU()\n",
       "    (5): Dropout(p=0.2, inplace=False)\n",
       "    (6): Linear(in_features=256, out_features=128, bias=True)\n",
       "    (7): ReLU()\n",
       "    (8): Dropout(p=0.2, inplace=False)\n",
       "    (9): Linear(in_features=128, out_features=2, bias=True)\n",
       "  )\n",
       ")"
      ]
     },
     "execution_count": 36,
     "metadata": {},
     "output_type": "execute_result"
    }
   ],
   "source": [
    "model_Q1_B.load_state_dict(torch.load(\"../weights/cnn_Q1_B.pth\",map_location=DEVICE))\n",
    "model_Q1_B.to(DEVICE)"
   ]
  },
  {
   "cell_type": "code",
   "execution_count": 37,
   "metadata": {},
   "outputs": [
    {
     "name": "stdout",
     "output_type": "stream",
     "text": [
      "Test loss: 0.0006, Test accuracy: 0.9890, Test balanced accuracy: 0.9852, Test F1 score: 0.9924\n"
     ]
    }
   ],
   "source": [
    "model_probs, y_preds, y_true, test_loss = test(\n",
    "    model = model_Q1_B,\n",
    "    criterion = criterion,\n",
    "    test_loader = ptb_loader_test,\n",
    "    device = DEVICE\n",
    ")"
   ]
  },
  {
   "cell_type": "code",
   "execution_count": 38,
   "metadata": {},
   "outputs": [
    {
     "name": "stdout",
     "output_type": "stream",
     "text": [
      "Test precision: 0.987\n",
      "Test recall: 0.985\n"
     ]
    }
   ],
   "source": [
    "print(f\"Test precision: {precision_score(y_ptb_test, y_preds, average = 'macro'):.3f}\")\n",
    "print(f\"Test recall: {recall_score(y_ptb_test, y_preds, average = 'macro'):.3f}\")"
   ]
  },
  {
   "cell_type": "markdown",
   "metadata": {},
   "source": [
    "### C. First, train the output layers, then unfreeze and train the entire joint model in two separate stages."
   ]
  },
  {
   "cell_type": "code",
   "execution_count": 39,
   "metadata": {},
   "outputs": [],
   "source": [
    "model_Q1_C = Q1_Model(classes_num=2, in_channels=1)\n",
    "model_Q1_C = model_Q1_C.to(DEVICE)"
   ]
  },
  {
   "cell_type": "markdown",
   "metadata": {},
   "source": [
    "We first train the output layers for a low number of epochs for the output layers to adapt to the PTB dataset. Then, we unfreeze the encoder and train the entire model for a higher number of epochs:"
   ]
  },
  {
   "cell_type": "code",
   "execution_count": 40,
   "metadata": {},
   "outputs": [],
   "source": [
    "freeze_all_but_MLP(model_Q1_C)\n",
    "optimizer = optim.AdamW(model_Q1_C.parameters(), lr=0.001, weight_decay=0.0001)"
   ]
  },
  {
   "cell_type": "code",
   "execution_count": null,
   "metadata": {},
   "outputs": [],
   "source": [
    "model_Q1_C = train_and_validate(\n",
    "    model = model_Q1_C,\n",
    "    optimizer = optimizer,\n",
    "    scheduler = scheduler,\n",
    "    criterion = criterion,\n",
    "    train_loader = ptb_train_loader_resampled,\n",
    "    val_loader = ptb_val_loader,\n",
    "    best_model_path = \"../weights/cnn_Q1_C.pth\", #os.path.join(path, \"cnn_best_model_MIT_random.pth\"),\n",
    "    device = DEVICE,\n",
    "    num_epochs = 15,\n",
    "    ES = None # no early stopping, train for full 10 epochs\n",
    ")"
   ]
  },
  {
   "cell_type": "markdown",
   "metadata": {},
   "source": [
    "Finally, we train the entire model on the PTB dataset for a higher number of epochs and with a lower learning rate."
   ]
  },
  {
   "cell_type": "code",
   "execution_count": 108,
   "metadata": {},
   "outputs": [],
   "source": [
    "unfreeze_encoder(model_Q1_C)\n",
    "\n",
    "optimizer = optim.AdamW(model_Q1_C.parameters(), lr=0.00005, weight_decay=0.0001)"
   ]
  },
  {
   "cell_type": "code",
   "execution_count": 43,
   "metadata": {},
   "outputs": [
    {
     "name": "stderr",
     "output_type": "stream",
     "text": [
      "Training CNN:  88%|████████▊ | 88/100 [01:22<00:11,  1.07it/s, train_balanced_acc=0.994, train_loss=0.000508, val_balanced_acc=0.977, val_loss=0.00292]"
     ]
    },
    {
     "name": "stdout",
     "output_type": "stream",
     "text": [
      "Early stopping at epoch 88. Best score was 0.9799 in epoch 68.\n"
     ]
    },
    {
     "name": "stderr",
     "output_type": "stream",
     "text": [
      "\n"
     ]
    }
   ],
   "source": [
    "N_EPOCHS=100\n",
    "\n",
    "early_stopping = EarlyStopping(start=20, patience=20, verbose=1, mode=\"max\")\n",
    "\n",
    "\n",
    "model_Q1_C = train_and_validate(\n",
    "    model = model_Q1_C,\n",
    "    optimizer = optimizer,\n",
    "    scheduler = scheduler,\n",
    "    criterion = criterion,\n",
    "    train_loader = ptb_train_loader_resampled,\n",
    "    val_loader = ptb_val_loader,\n",
    "    best_model_path = \"../weights/cnn_Q1_C.pth\", #os.path.join(path, \"cnn_best_model_MIT_random.pth\"),\n",
    "    device = DEVICE,\n",
    "    num_epochs = N_EPOCHS,\n",
    "    ES = early_stopping\n",
    ")"
   ]
  },
  {
   "cell_type": "code",
   "execution_count": 109,
   "metadata": {},
   "outputs": [
    {
     "data": {
      "text/plain": [
       "Q1_Model(\n",
       "  (encoder): ModifiedCNN(\n",
       "    (conv1): Sequential(\n",
       "      (0): Conv1d(1, 32, kernel_size=(3,), stride=(1,), padding=(1,), bias=False)\n",
       "      (1): BatchNorm1d(32, eps=1e-05, momentum=0.1, affine=True, track_running_stats=True)\n",
       "      (2): ReLU()\n",
       "      (3): MaxPool1d(kernel_size=2, stride=2, padding=0, dilation=1, ceil_mode=False)\n",
       "    )\n",
       "    (conv2): Sequential(\n",
       "      (0): Conv1d(32, 64, kernel_size=(3,), stride=(1,), padding=(1,), bias=False)\n",
       "      (1): BatchNorm1d(64, eps=1e-05, momentum=0.1, affine=True, track_running_stats=True)\n",
       "      (2): ReLU()\n",
       "      (3): MaxPool1d(kernel_size=2, stride=2, padding=0, dilation=1, ceil_mode=False)\n",
       "    )\n",
       "    (conv3): Sequential(\n",
       "      (0): Conv1d(64, 128, kernel_size=(3,), stride=(1,), padding=(1,), bias=False)\n",
       "      (1): BatchNorm1d(128, eps=1e-05, momentum=0.1, affine=True, track_running_stats=True)\n",
       "      (2): ReLU()\n",
       "      (3): MaxPool1d(kernel_size=2, stride=2, padding=0, dilation=1, ceil_mode=False)\n",
       "    )\n",
       "    (adaptive_pool): AdaptiveAvgPool1d(output_size=10)\n",
       "    (flatten): Flatten(start_dim=1, end_dim=-1)\n",
       "    (fc): Sequential(\n",
       "      (0): Linear(in_features=1280, out_features=16, bias=True)\n",
       "      (1): Hardswish()\n",
       "      (2): Dropout(p=0.2, inplace=False)\n",
       "      (3): Linear(in_features=16, out_features=5, bias=True)\n",
       "    )\n",
       "  )\n",
       "  (fc): Sequential(\n",
       "    (0): Linear(in_features=16, out_features=64, bias=True)\n",
       "    (1): Hardswish()\n",
       "    (2): Dropout(p=0.2, inplace=False)\n",
       "    (3): Linear(in_features=64, out_features=256, bias=True)\n",
       "    (4): ReLU()\n",
       "    (5): Dropout(p=0.2, inplace=False)\n",
       "    (6): Linear(in_features=256, out_features=128, bias=True)\n",
       "    (7): ReLU()\n",
       "    (8): Dropout(p=0.2, inplace=False)\n",
       "    (9): Linear(in_features=128, out_features=2, bias=True)\n",
       "  )\n",
       ")"
      ]
     },
     "execution_count": 109,
     "metadata": {},
     "output_type": "execute_result"
    }
   ],
   "source": [
    "model_Q1_C.load_state_dict(torch.load(\"../weights/cnn_Q1_C.pth\",map_location=DEVICE))\n",
    "model_Q1_C.to(DEVICE)"
   ]
  },
  {
   "cell_type": "code",
   "execution_count": 110,
   "metadata": {},
   "outputs": [
    {
     "name": "stdout",
     "output_type": "stream",
     "text": [
      "Test loss: 0.0004, Test accuracy: 0.9794, Test balanced accuracy: 0.9755, Test F1 score: 0.9857\n"
     ]
    }
   ],
   "source": [
    "model_probs, y_preds, y_true, test_loss = test(\n",
    "    model = model_Q1_C,\n",
    "    criterion = criterion,\n",
    "    test_loader = ptb_loader_test,\n",
    "    device = DEVICE\n",
    ")"
   ]
  },
  {
   "cell_type": "code",
   "execution_count": 111,
   "metadata": {},
   "outputs": [
    {
     "name": "stdout",
     "output_type": "stream",
     "text": [
      "Test precision: 0.973\n",
      "Test recall: 0.975\n"
     ]
    }
   ],
   "source": [
    "print(f\"Test precision: {precision_score(y_ptb_test, y_preds, average = 'macro'):.3f}\")\n",
    "print(f\"Test recall: {recall_score(y_ptb_test, y_preds, average = 'macro'):.3f}\")"
   ]
  },
  {
   "cell_type": "markdown",
   "metadata": {},
   "source": [
    "## Encoder Q2"
   ]
  },
  {
   "cell_type": "markdown",
   "metadata": {},
   "source": [
    "### Train the output layer(s) only on the PTB dataset, freezing the encoder."
   ]
  },
  {
   "cell_type": "markdown",
   "metadata": {},
   "source": [
    "We slightly modify the CCNEncoder function from the representation_learning.ipynb file by also adding output layers onto it"
   ]
  },
  {
   "cell_type": "code",
   "execution_count": 119,
   "metadata": {},
   "outputs": [],
   "source": [
    "class Q2_Model(nn.Module):\n",
    "    def __init__(self, classes_num: int, in_channels: int):\n",
    "        super().__init__()\n",
    "\n",
    "        self.encoder = CNNEncoder(latent_dim=16, in_channels=in_channels).to(DEVICE)\n",
    "        self.encoder.load_state_dict(torch.load(\"../weights/encoder_q2.pth\", map_location=DEVICE))\n",
    "\n",
    "        self.fc = nn.Sequential(\n",
    "            nn.Linear(16, 64),\n",
    "            nn.Hardswish(),\n",
    "            nn.Dropout(p=0.2),\n",
    "            nn.Linear(64, 256),\n",
    "            nn.ReLU(),\n",
    "            nn.Dropout(p=0.2),\n",
    "            nn.Linear(256, 128),\n",
    "            nn.ReLU(),\n",
    "            nn.Dropout(p=0.2),\n",
    "            nn.Linear(128, classes_num)\n",
    "        )\n",
    "\n",
    "    def forward(self, x: Tensor) -> Tensor:\n",
    "        x = self.encoder(x)\n",
    "        x = self.fc(x)\n",
    "        return x\n",
    "#encoder=CNNEncoder(latent_dim=latent_dim, in_channels=1).to(DEVICE)\n",
    "\n",
    "model_Q2_A = Q2_Model(classes_num=2, in_channels=1)"
   ]
  },
  {
   "cell_type": "code",
   "execution_count": 120,
   "metadata": {},
   "outputs": [
    {
     "name": "stderr",
     "output_type": "stream",
     "text": [
      "c:\\Users\\pauls\\miniconda3\\envs\\introtoml\\lib\\site-packages\\torch\\optim\\lr_scheduler.py:28: UserWarning: The verbose parameter is deprecated. Please use get_last_lr() to access the learning rate.\n",
      "  warnings.warn(\"The verbose parameter is deprecated. Please use get_last_lr() \"\n"
     ]
    }
   ],
   "source": [
    "model_Q2_A = model_Q2_A.to(DEVICE)\n",
    "\n",
    "optimizer = optim.AdamW(model_Q2_A.parameters(), lr=0.001, weight_decay=0.0001)\n",
    "criterion = torch.nn.CrossEntropyLoss()\n",
    "scheduler = optim.lr_scheduler.ReduceLROnPlateau(\n",
    "    optimizer, \"min\", factor=0.5, patience=5, threshold=1e-06, verbose=1\n",
    ")\n",
    "early_stopping = EarlyStopping(start=20, patience=20, verbose=1, mode=\"max\")"
   ]
  },
  {
   "cell_type": "code",
   "execution_count": 48,
   "metadata": {},
   "outputs": [
    {
     "name": "stderr",
     "output_type": "stream",
     "text": [
      "Training CNN:  68%|██████▊   | 68/100 [00:43<00:20,  1.55it/s, train_balanced_acc=0.957, train_loss=0.00355, val_balanced_acc=0.95, val_loss=0.00461] "
     ]
    },
    {
     "name": "stdout",
     "output_type": "stream",
     "text": [
      "Early stopping at epoch 68. Best score was 0.9553 in epoch 48.\n"
     ]
    },
    {
     "name": "stderr",
     "output_type": "stream",
     "text": [
      "\n"
     ]
    }
   ],
   "source": [
    "N_EPOCHS=100\n",
    "\n",
    "freeze_all_but_MLP(model_Q2_A)\n",
    "\n",
    "model_Q2_A = train_and_validate(\n",
    "    model = model_Q2_A,\n",
    "    optimizer = optimizer,\n",
    "    scheduler = scheduler,\n",
    "    criterion = criterion,\n",
    "    train_loader = ptb_train_loader_resampled,\n",
    "    val_loader = ptb_val_loader,\n",
    "    best_model_path = \"../weights/cnn_Q2_A.pth\", #os.path.join(path, \"cnn_best_model_MIT_random.pth\"),\n",
    "    device = DEVICE,\n",
    "    num_epochs = N_EPOCHS,\n",
    "    ES = early_stopping\n",
    ")"
   ]
  },
  {
   "cell_type": "code",
   "execution_count": 121,
   "metadata": {},
   "outputs": [
    {
     "data": {
      "text/plain": [
       "Q2_Model(\n",
       "  (encoder): CNNEncoder(\n",
       "    (conv1): Sequential(\n",
       "      (0): Conv1d(1, 32, kernel_size=(3,), stride=(1,), padding=(1,), bias=False)\n",
       "      (1): BatchNorm1d(32, eps=1e-05, momentum=0.1, affine=True, track_running_stats=True)\n",
       "      (2): ReLU()\n",
       "      (3): MaxPool1d(kernel_size=2, stride=2, padding=0, dilation=1, ceil_mode=False)\n",
       "    )\n",
       "    (conv2): Sequential(\n",
       "      (0): Conv1d(32, 64, kernel_size=(3,), stride=(1,), padding=(1,), bias=False)\n",
       "      (1): BatchNorm1d(64, eps=1e-05, momentum=0.1, affine=True, track_running_stats=True)\n",
       "      (2): ReLU()\n",
       "      (3): MaxPool1d(kernel_size=2, stride=2, padding=0, dilation=1, ceil_mode=False)\n",
       "    )\n",
       "    (conv3): Sequential(\n",
       "      (0): Conv1d(64, 128, kernel_size=(3,), stride=(1,), padding=(1,), bias=False)\n",
       "      (1): BatchNorm1d(128, eps=1e-05, momentum=0.1, affine=True, track_running_stats=True)\n",
       "      (2): ReLU()\n",
       "      (3): MaxPool1d(kernel_size=2, stride=2, padding=0, dilation=1, ceil_mode=False)\n",
       "    )\n",
       "    (adaptive_pool): AdaptiveAvgPool1d(output_size=10)\n",
       "    (flatten): Flatten(start_dim=1, end_dim=-1)\n",
       "    (fc): Linear(in_features=1280, out_features=16, bias=True)\n",
       "  )\n",
       "  (fc): Sequential(\n",
       "    (0): Linear(in_features=16, out_features=64, bias=True)\n",
       "    (1): Hardswish()\n",
       "    (2): Dropout(p=0.2, inplace=False)\n",
       "    (3): Linear(in_features=64, out_features=256, bias=True)\n",
       "    (4): ReLU()\n",
       "    (5): Dropout(p=0.2, inplace=False)\n",
       "    (6): Linear(in_features=256, out_features=128, bias=True)\n",
       "    (7): ReLU()\n",
       "    (8): Dropout(p=0.2, inplace=False)\n",
       "    (9): Linear(in_features=128, out_features=2, bias=True)\n",
       "  )\n",
       ")"
      ]
     },
     "execution_count": 121,
     "metadata": {},
     "output_type": "execute_result"
    }
   ],
   "source": [
    "model_Q2_A.load_state_dict(torch.load(\"../weights/cnn_Q2_A.pth\",map_location=DEVICE))\n",
    "model_Q2_A.to(DEVICE)"
   ]
  },
  {
   "cell_type": "code",
   "execution_count": 122,
   "metadata": {},
   "outputs": [
    {
     "name": "stdout",
     "output_type": "stream",
     "text": [
      "Test loss: 0.0005, Test accuracy: 0.9581, Test balanced accuracy: 0.9573, Test F1 score: 0.9706\n"
     ]
    }
   ],
   "source": [
    "model_probs, y_preds, y_true, test_loss = test(\n",
    "    model = model_Q2_A,\n",
    "    criterion = criterion,\n",
    "    test_loader = ptb_loader_test,\n",
    "    device = DEVICE\n",
    ")"
   ]
  },
  {
   "cell_type": "code",
   "execution_count": 123,
   "metadata": {},
   "outputs": [
    {
     "name": "stdout",
     "output_type": "stream",
     "text": [
      "Test precision: 0.941\n",
      "Test recall: 0.957\n"
     ]
    }
   ],
   "source": [
    "print(f\"Test precision: {precision_score(y_ptb_test, y_preds, average = 'macro'):.3f}\")\n",
    "print(f\"Test recall: {recall_score(y_ptb_test, y_preds, average = 'macro'):.3f}\")"
   ]
  },
  {
   "cell_type": "markdown",
   "metadata": {},
   "source": [
    "### B. Train the entire model on the PTB dataset (encoder + output layers)"
   ]
  },
  {
   "cell_type": "code",
   "execution_count": 124,
   "metadata": {},
   "outputs": [],
   "source": [
    "model_Q2_B = Q2_Model(classes_num=2, in_channels=1)\n",
    "model_Q2_B = model_Q2_B.to(DEVICE)\n",
    "\n",
    "optimizer = optim.AdamW(model_Q2_B.parameters(), lr=0.001, weight_decay=0.0001)\n",
    "early_stopping = EarlyStopping(start=20, patience=20, verbose=1, mode=\"max\")"
   ]
  },
  {
   "cell_type": "code",
   "execution_count": 52,
   "metadata": {},
   "outputs": [
    {
     "name": "stderr",
     "output_type": "stream",
     "text": [
      "Training CNN:  46%|████▌     | 46/100 [00:42<00:49,  1.08it/s, train_balanced_acc=0.998, train_loss=0.000192, val_balanced_acc=0.978, val_loss=0.00256] "
     ]
    },
    {
     "name": "stdout",
     "output_type": "stream",
     "text": [
      "Early stopping at epoch 46. Best score was 0.9936 in epoch 26.\n"
     ]
    },
    {
     "name": "stderr",
     "output_type": "stream",
     "text": [
      "\n"
     ]
    }
   ],
   "source": [
    "N_EPOCHS=100\n",
    "\n",
    "model_Q2_B = train_and_validate(\n",
    "    model = model_Q2_B,\n",
    "    optimizer = optimizer,\n",
    "    scheduler = scheduler,\n",
    "    criterion = criterion,\n",
    "    train_loader = ptb_train_loader_resampled,\n",
    "    val_loader = ptb_val_loader,\n",
    "    best_model_path = \"../weights/cnn_Q2_B.pth\", #os.path.join(path, \"cnn_best_model_MIT_random.pth\"),\n",
    "    device = DEVICE,\n",
    "    num_epochs = N_EPOCHS,\n",
    "    ES = early_stopping\n",
    ")"
   ]
  },
  {
   "cell_type": "code",
   "execution_count": 125,
   "metadata": {},
   "outputs": [
    {
     "data": {
      "text/plain": [
       "Q2_Model(\n",
       "  (encoder): CNNEncoder(\n",
       "    (conv1): Sequential(\n",
       "      (0): Conv1d(1, 32, kernel_size=(3,), stride=(1,), padding=(1,), bias=False)\n",
       "      (1): BatchNorm1d(32, eps=1e-05, momentum=0.1, affine=True, track_running_stats=True)\n",
       "      (2): ReLU()\n",
       "      (3): MaxPool1d(kernel_size=2, stride=2, padding=0, dilation=1, ceil_mode=False)\n",
       "    )\n",
       "    (conv2): Sequential(\n",
       "      (0): Conv1d(32, 64, kernel_size=(3,), stride=(1,), padding=(1,), bias=False)\n",
       "      (1): BatchNorm1d(64, eps=1e-05, momentum=0.1, affine=True, track_running_stats=True)\n",
       "      (2): ReLU()\n",
       "      (3): MaxPool1d(kernel_size=2, stride=2, padding=0, dilation=1, ceil_mode=False)\n",
       "    )\n",
       "    (conv3): Sequential(\n",
       "      (0): Conv1d(64, 128, kernel_size=(3,), stride=(1,), padding=(1,), bias=False)\n",
       "      (1): BatchNorm1d(128, eps=1e-05, momentum=0.1, affine=True, track_running_stats=True)\n",
       "      (2): ReLU()\n",
       "      (3): MaxPool1d(kernel_size=2, stride=2, padding=0, dilation=1, ceil_mode=False)\n",
       "    )\n",
       "    (adaptive_pool): AdaptiveAvgPool1d(output_size=10)\n",
       "    (flatten): Flatten(start_dim=1, end_dim=-1)\n",
       "    (fc): Linear(in_features=1280, out_features=16, bias=True)\n",
       "  )\n",
       "  (fc): Sequential(\n",
       "    (0): Linear(in_features=16, out_features=64, bias=True)\n",
       "    (1): Hardswish()\n",
       "    (2): Dropout(p=0.2, inplace=False)\n",
       "    (3): Linear(in_features=64, out_features=256, bias=True)\n",
       "    (4): ReLU()\n",
       "    (5): Dropout(p=0.2, inplace=False)\n",
       "    (6): Linear(in_features=256, out_features=128, bias=True)\n",
       "    (7): ReLU()\n",
       "    (8): Dropout(p=0.2, inplace=False)\n",
       "    (9): Linear(in_features=128, out_features=2, bias=True)\n",
       "  )\n",
       ")"
      ]
     },
     "execution_count": 125,
     "metadata": {},
     "output_type": "execute_result"
    }
   ],
   "source": [
    "model_Q2_B.load_state_dict(torch.load(\"../weights/cnn_Q2_B.pth\",map_location=DEVICE))\n",
    "model_Q2_B.to(DEVICE)"
   ]
  },
  {
   "cell_type": "code",
   "execution_count": 126,
   "metadata": {},
   "outputs": [
    {
     "name": "stdout",
     "output_type": "stream",
     "text": [
      "Test loss: 0.0004, Test accuracy: 0.9959, Test balanced accuracy: 0.9941, Test F1 score: 0.9971\n"
     ]
    }
   ],
   "source": [
    "model_probs, y_preds, y_true, test_loss = test(\n",
    "    model = model_Q2_B,\n",
    "    criterion = criterion,\n",
    "    test_loader = ptb_loader_test,\n",
    "    device = DEVICE\n",
    ")"
   ]
  },
  {
   "cell_type": "code",
   "execution_count": 127,
   "metadata": {},
   "outputs": [
    {
     "name": "stdout",
     "output_type": "stream",
     "text": [
      "Test precision: 0.996\n",
      "Test recall: 0.994\n"
     ]
    }
   ],
   "source": [
    "print(f\"Test precision: {precision_score(y_ptb_test, y_preds, average = 'macro'):.3f}\")\n",
    "print(f\"Test recall: {recall_score(y_ptb_test, y_preds, average = 'macro'):.3f}\")"
   ]
  },
  {
   "cell_type": "markdown",
   "metadata": {},
   "source": [
    "### C. First, train the output layers, then unfreeze and train the entire joint model in two separate stages."
   ]
  },
  {
   "cell_type": "code",
   "execution_count": 128,
   "metadata": {},
   "outputs": [],
   "source": [
    "model_Q2_C = Q2_Model(classes_num=2, in_channels=1)"
   ]
  },
  {
   "cell_type": "markdown",
   "metadata": {},
   "source": [
    "Again, we first train the output layers for a low number of epochs for the output layers to adapt to the PTB dataset. Then, we unfreeze the encoder and train the entire model for a higher number of epochs:"
   ]
  },
  {
   "cell_type": "code",
   "execution_count": 129,
   "metadata": {},
   "outputs": [],
   "source": [
    "model_Q2_C = model_Q2_C.to(DEVICE)\n",
    "freeze_all_but_MLP(model_Q2_C)\n",
    "optimizer = optim.AdamW(model_Q2_C.parameters(), lr=0.001, weight_decay=0.0001)"
   ]
  },
  {
   "cell_type": "code",
   "execution_count": 57,
   "metadata": {},
   "outputs": [
    {
     "name": "stderr",
     "output_type": "stream",
     "text": [
      "Training CNN: 100%|██████████| 15/15 [00:09<00:00,  1.63it/s, train_balanced_acc=0.926, train_loss=0.0058, val_balanced_acc=0.941, val_loss=0.00537] \n"
     ]
    }
   ],
   "source": [
    "model_Q2_C = train_and_validate(\n",
    "    model = model_Q2_C,\n",
    "    optimizer = optimizer,\n",
    "    scheduler = scheduler,\n",
    "    criterion = criterion,\n",
    "    train_loader = ptb_train_loader_resampled,\n",
    "    val_loader = ptb_val_loader,\n",
    "    best_model_path = \"../weights/cnn_Q1_C.pth\", #os.path.join(path, \"cnn_best_model_MIT_random.pth\"),\n",
    "    device = DEVICE,\n",
    "    num_epochs = 15,\n",
    "    ES = None # no early stopping, train for full 10 epochs\n",
    ")"
   ]
  },
  {
   "cell_type": "markdown",
   "metadata": {},
   "source": [
    "Finally, we train the entire model on the PTB dataset for a higher number of epochs and with a lower learning rate."
   ]
  },
  {
   "cell_type": "code",
   "execution_count": 130,
   "metadata": {},
   "outputs": [],
   "source": [
    "\n",
    "early_stopping = EarlyStopping(start=20, patience=20, verbose=1, mode=\"max\")\n",
    "#Note: We lowered the learning rate here\n",
    "optimizer = optim.AdamW(model_Q2_C.parameters(), lr=0.00005, weight_decay=0.0001)"
   ]
  },
  {
   "cell_type": "code",
   "execution_count": 59,
   "metadata": {},
   "outputs": [
    {
     "name": "stderr",
     "output_type": "stream",
     "text": [
      "Training CNN:  69%|██████▉   | 69/100 [01:04<00:28,  1.08it/s, train_balanced_acc=0.998, train_loss=0.000229, val_balanced_acc=0.989, val_loss=0.00146]"
     ]
    },
    {
     "name": "stdout",
     "output_type": "stream",
     "text": [
      "Early stopping at epoch 69. Best score was 0.9911 in epoch 49.\n"
     ]
    },
    {
     "name": "stderr",
     "output_type": "stream",
     "text": [
      "\n"
     ]
    }
   ],
   "source": [
    "N_EPOCHS=100\n",
    "\n",
    "unfreeze_encoder(model_Q2_C)\n",
    "\n",
    "model_Q2_C = train_and_validate(\n",
    "    model = model_Q2_C,\n",
    "    optimizer = optimizer,\n",
    "    scheduler = scheduler,\n",
    "    criterion = criterion,\n",
    "    train_loader = ptb_train_loader_resampled,\n",
    "    val_loader = ptb_val_loader,\n",
    "    best_model_path = \"../weights/cnn_Q2_C.pth\", #os.path.join(path, \"cnn_best_model_MIT_random.pth\"),\n",
    "    device = DEVICE,\n",
    "    num_epochs = N_EPOCHS,\n",
    "    ES = early_stopping\n",
    ")"
   ]
  },
  {
   "cell_type": "code",
   "execution_count": 131,
   "metadata": {},
   "outputs": [
    {
     "data": {
      "text/plain": [
       "Q2_Model(\n",
       "  (encoder): CNNEncoder(\n",
       "    (conv1): Sequential(\n",
       "      (0): Conv1d(1, 32, kernel_size=(3,), stride=(1,), padding=(1,), bias=False)\n",
       "      (1): BatchNorm1d(32, eps=1e-05, momentum=0.1, affine=True, track_running_stats=True)\n",
       "      (2): ReLU()\n",
       "      (3): MaxPool1d(kernel_size=2, stride=2, padding=0, dilation=1, ceil_mode=False)\n",
       "    )\n",
       "    (conv2): Sequential(\n",
       "      (0): Conv1d(32, 64, kernel_size=(3,), stride=(1,), padding=(1,), bias=False)\n",
       "      (1): BatchNorm1d(64, eps=1e-05, momentum=0.1, affine=True, track_running_stats=True)\n",
       "      (2): ReLU()\n",
       "      (3): MaxPool1d(kernel_size=2, stride=2, padding=0, dilation=1, ceil_mode=False)\n",
       "    )\n",
       "    (conv3): Sequential(\n",
       "      (0): Conv1d(64, 128, kernel_size=(3,), stride=(1,), padding=(1,), bias=False)\n",
       "      (1): BatchNorm1d(128, eps=1e-05, momentum=0.1, affine=True, track_running_stats=True)\n",
       "      (2): ReLU()\n",
       "      (3): MaxPool1d(kernel_size=2, stride=2, padding=0, dilation=1, ceil_mode=False)\n",
       "    )\n",
       "    (adaptive_pool): AdaptiveAvgPool1d(output_size=10)\n",
       "    (flatten): Flatten(start_dim=1, end_dim=-1)\n",
       "    (fc): Linear(in_features=1280, out_features=16, bias=True)\n",
       "  )\n",
       "  (fc): Sequential(\n",
       "    (0): Linear(in_features=16, out_features=64, bias=True)\n",
       "    (1): Hardswish()\n",
       "    (2): Dropout(p=0.2, inplace=False)\n",
       "    (3): Linear(in_features=64, out_features=256, bias=True)\n",
       "    (4): ReLU()\n",
       "    (5): Dropout(p=0.2, inplace=False)\n",
       "    (6): Linear(in_features=256, out_features=128, bias=True)\n",
       "    (7): ReLU()\n",
       "    (8): Dropout(p=0.2, inplace=False)\n",
       "    (9): Linear(in_features=128, out_features=2, bias=True)\n",
       "  )\n",
       ")"
      ]
     },
     "execution_count": 131,
     "metadata": {},
     "output_type": "execute_result"
    }
   ],
   "source": [
    "model_Q2_C.load_state_dict(torch.load(\"../weights/cnn_Q2_C.pth\",map_location=DEVICE))\n",
    "model_Q2_C.to(DEVICE)"
   ]
  },
  {
   "cell_type": "code",
   "execution_count": 132,
   "metadata": {},
   "outputs": [
    {
     "name": "stdout",
     "output_type": "stream",
     "text": [
      "Test loss: 0.0002, Test accuracy: 0.9924, Test balanced accuracy: 0.9898, Test F1 score: 0.9948\n"
     ]
    }
   ],
   "source": [
    "model_probs, y_preds, y_true, test_loss = test(\n",
    "    model = model_Q2_C,\n",
    "    criterion = criterion,\n",
    "    test_loader = ptb_loader_test,\n",
    "    device = DEVICE\n",
    ")"
   ]
  },
  {
   "cell_type": "code",
   "execution_count": 133,
   "metadata": {},
   "outputs": [
    {
     "name": "stdout",
     "output_type": "stream",
     "text": [
      "Test precision: 0.991\n",
      "Test recall: 0.990\n"
     ]
    }
   ],
   "source": [
    "print(f\"Test precision: {precision_score(y_ptb_test, y_preds, average = 'macro'):.3f}\")\n",
    "print(f\"Test recall: {recall_score(y_ptb_test, y_preds, average = 'macro'):.3f}\")"
   ]
  }
 ],
 "metadata": {
  "kernelspec": {
   "display_name": "Python 3",
   "language": "python",
   "name": "python3"
  },
  "language_info": {
   "codemirror_mode": {
    "name": "ipython",
    "version": 3
   },
   "file_extension": ".py",
   "mimetype": "text/x-python",
   "name": "python",
   "nbconvert_exporter": "python",
   "pygments_lexer": "ipython3",
   "version": "3.9.18"
  }
 },
 "nbformat": 4,
 "nbformat_minor": 2
}
