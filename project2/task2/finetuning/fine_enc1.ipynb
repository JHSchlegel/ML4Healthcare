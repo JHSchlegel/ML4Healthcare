{
 "cells": [
  {
   "cell_type": "code",
   "execution_count": 14,
   "metadata": {},
   "outputs": [],
   "source": [
    "#%autoreload\n",
    "\n",
    "import pandas as pd\n",
    "import numpy as np\n",
    "import torch\n",
    "import torch.nn as nn\n",
    "import torch.optim as optim\n",
    "import torch.nn.functional as F\n",
    "import yaml\n",
    "from tqdm import tqdm, trange\n",
    "import os\n",
    "import matplotlib.pyplot as plt\n",
    "from sklearn.metrics import (\n",
    "    f1_score, \n",
    "    balanced_accuracy_score, \n",
    "    confusion_matrix,\n",
    "    ConfusionMatrixDisplay, \n",
    "    accuracy_score,\n",
    "    classification_report\n",
    ")\n",
    "from torch.utils.data import Dataset, DataLoader\n",
    "\n",
    "from sklearn.model_selection import train_test_split\n",
    "\n",
    "from torch.utils.tensorboard import SummaryWriter\n",
    "from imblearn.over_sampling import SMOTE\n",
    "import pandas as pd\n",
    "import numpy as np\n",
    "import yaml\n",
    "import os\n",
    "\n",
    "from sklearn.metrics import (\n",
    "    f1_score, \n",
    "    balanced_accuracy_score,\n",
    "    confusion_matrix,\n",
    "    ConfusionMatrixDisplay,\n",
    "    accuracy_score,\n",
    "    classification_report\n",
    ")\n",
    "import matplotlib.pyplot as plt\n",
    "import seaborn as sns \n",
    "from lightgbm import LGBMClassifier\n",
    "pd.set_option('display.max_columns', None)\n",
    "from torch import nn, Tensor\n",
    "\n",
    "from cnn_utils import (\n",
    "    PTB_Dataset,\n",
    "    EarlyStopping,\n",
    "    set_all_seeds,\n",
    "    train_and_validate,\n",
    "    test,\n",
    ")\n",
    "#os.getcwd()"
   ]
  },
  {
   "cell_type": "code",
   "execution_count": 2,
   "metadata": {},
   "outputs": [],
   "source": [
    "#%load_ext autoreload"
   ]
  },
  {
   "cell_type": "code",
   "execution_count": 2,
   "metadata": {},
   "outputs": [],
   "source": [
    "DEVICE = torch.device(\"cuda:0\" if torch.cuda.is_available() else \"cpu\")\n",
    "SEED = 42\n",
    "\n",
    "TRAIN_BATCH_SIZE = 32\n",
    "VAL_BATCH_SIZE = 256\n",
    "TEST_BATCH_SIZE = 256\n",
    "\n",
    "N_EPOCHS=10"
   ]
  },
  {
   "cell_type": "code",
   "execution_count": 17,
   "metadata": {},
   "outputs": [],
   "source": [
    "path= r'C:\\Users\\pauls\\Desktop\\Studium\\Machine Learning for Health Care\\Projekt 2\\project2_TS_input'\n",
    "#path = \"../../data\"\n",
    "TEST_BATCH_SIZE = 256\n",
    "SEED = 42\n",
    "\n",
    "ptb_read_train = pd.read_csv(os.path.join(path, 'ptbdb_train.csv'), header=None)\n",
    "ptb_read_test = pd.read_csv(os.path.join(path, 'ptbdb_test.csv'), header=None)\n",
    "X_ptb_train = ptb_read_train.iloc[:, :-1].to_numpy()\n",
    "X_ptb_test = ptb_read_test.iloc[:, :-1].to_numpy()\n",
    "y_ptb_train = ptb_read_train.iloc[:, -1].to_numpy()\n",
    "y_ptb_test = ptb_read_test.iloc[:, -1].to_numpy()\n",
    "\n",
    "# Apply the data loader to the datasets ptb train\n",
    "ptb_loader_train = DataLoader(\n",
    "    PTB_Dataset(X_ptb_train, y_ptb_train),\n",
    "    batch_size=TEST_BATCH_SIZE,\n",
    "    shuffle=False,\n",
    "    pin_memory=True,\n",
    "    num_workers=0,\n",
    ")\n",
    "\n",
    "# Apply the data loader to the datasets ptb test\n",
    "ptb_loader_test = DataLoader(\n",
    "    PTB_Dataset(X_ptb_test, y_ptb_test),\n",
    "    batch_size=TEST_BATCH_SIZE,\n",
    "    shuffle=False,\n",
    "    pin_memory=True,\n",
    "    num_workers=0,\n",
    ")"
   ]
  },
  {
   "cell_type": "code",
   "execution_count": 4,
   "metadata": {},
   "outputs": [
    {
     "name": "stdout",
     "output_type": "stream",
     "text": [
      "(11641, 188)\n",
      "(2911, 188)\n"
     ]
    }
   ],
   "source": [
    "print(train_df.shape)\n",
    "print(test_df.shape)"
   ]
  },
  {
   "cell_type": "code",
   "execution_count": 22,
   "metadata": {},
   "outputs": [
    {
     "data": {
      "text/plain": [
       "(9312, 187)"
      ]
     },
     "execution_count": 22,
     "metadata": {},
     "output_type": "execute_result"
    }
   ],
   "source": [
    "X_train.shape\n"
   ]
  },
  {
   "cell_type": "markdown",
   "metadata": {},
   "source": [
    "## Creating the embeddings:"
   ]
  },
  {
   "cell_type": "markdown",
   "metadata": {},
   "source": [
    "### Embeddings from the CNN encoder (Q1)"
   ]
  },
  {
   "cell_type": "code",
   "execution_count": 16,
   "metadata": {},
   "outputs": [
    {
     "data": {
      "text/plain": [
       "<All keys matched successfully>"
      ]
     },
     "execution_count": 16,
     "metadata": {},
     "output_type": "execute_result"
    }
   ],
   "source": [
    "class CNN(nn.Module):\n",
    "    def __init__(self, classes_num: int, in_channels: int):\n",
    "        super().__init__()\n",
    "\n",
    "        self.conv1 = self._create_conv_block(in_channels, 32, 3, 1)\n",
    "        self.conv2 = self._create_conv_block(32, 64, 3, 1)\n",
    "        self.conv3 = self._create_conv_block(64, 128, 3, 1)\n",
    "        self.adaptive_pool = nn.AdaptiveAvgPool1d(output_size = 10)\n",
    "\n",
    "        self.flatten = nn.Flatten(1)\n",
    "        self.fc = nn.Sequential(\n",
    "            nn.Linear(1280, 256),\n",
    "            nn.Hardswish(),\n",
    "            nn.Dropout(p=0.2),\n",
    "            nn.Linear(256, classes_num)\n",
    "        )\n",
    "\n",
    "    def forward(self, x: Tensor) -> Tensor:\n",
    "        x = x.unsqueeze(1)\n",
    "        x = self.conv1(x)\n",
    "        x = self.conv2(x)\n",
    "        x = self.conv3(x)\n",
    "        x = self.adaptive_pool(x)\n",
    "        x = self.flatten(x)\n",
    "        x = self.fc(x)\n",
    "        return x  \n",
    "\n",
    "    def _create_conv_block(self, in_channels: int, out_channels: int, kernel_size: int, stride: int):\n",
    "        return nn.Sequential(\n",
    "            nn.Conv1d(\n",
    "                in_channels=in_channels,\n",
    "                out_channels=out_channels,\n",
    "                kernel_size=kernel_size,\n",
    "                stride=stride,\n",
    "                padding=1,\n",
    "                bias=False\n",
    "            ),\n",
    "            nn.BatchNorm1d(out_channels),\n",
    "            nn.ReLU(),\n",
    "            nn.MaxPool1d(kernel_size=2, stride=2)\n",
    "        )\n",
    "\n",
    "class ModifiedCNN(CNN):\n",
    "    def forward(self, x: torch.Tensor) -> torch.Tensor:\n",
    "        x = x.unsqueeze(1)\n",
    "        x = self.conv1(x)\n",
    "        x = self.conv2(x)\n",
    "        x = self.conv3(x)\n",
    "        x = self.adaptive_pool(x)\n",
    "        x = self.flatten(x)\n",
    "        x = self.fc[0](x)\n",
    "        return x\n",
    "\n",
    "# Replace CNN with the modified version that returns the last conv layer output\n",
    "model_Q1 = ModifiedCNN(classes_num=5, in_channels=1)\n",
    "\n",
    "path_Q1 = \"../transfer_learning/cnn_best_model_MIT.pth\"\n",
    "\n",
    "model_Q1.load_state_dict(torch.load(path_Q1,map_location=DEVICE))"
   ]
  },
  {
   "cell_type": "code",
   "execution_count": 21,
   "metadata": {},
   "outputs": [],
   "source": [
    "# Obtain representations\n",
    "# Initialize an empty list to store the embeddings\n",
    "embeddings_ptb_train = []\n",
    "\n",
    "# Ensure the model is in evaluation mode\n",
    "model_Q1.eval()\n",
    "\n",
    "# No need to track gradients for this\n",
    "with torch.no_grad():\n",
    "    # Iterate over the dataset\n",
    "    for inputs, _ in ptb_loader_train:\n",
    "        # Move the inputs to the same device as the model\n",
    "        inputs = inputs.to(DEVICE)\n",
    "\n",
    "        # Get the embeddings for this batch and append to the list\n",
    "        embedding = model_Q1(inputs)\n",
    "        embeddings_ptb_train.append(embedding.cpu().numpy())\n",
    "\n",
    "# Convert the list of embeddings to a single numpy array\n",
    "emb_ptb_train_Q1 = np.concatenate(embeddings_ptb_train, axis=0)"
   ]
  },
  {
   "cell_type": "code",
   "execution_count": 22,
   "metadata": {},
   "outputs": [],
   "source": [
    "embeddings_ptb_test = []\n",
    "\n",
    "# No need to track gradients for this\n",
    "with torch.no_grad():\n",
    "    # Iterate over the dataset\n",
    "    for inputs, _ in ptb_loader_test:\n",
    "        # Move the inputs to the same device as the model\n",
    "        inputs = inputs.to(DEVICE)\n",
    "\n",
    "        # Get the embeddings for this batch and append to the list\n",
    "        embedding = model_Q1(inputs)\n",
    "        embeddings_ptb_test.append(embedding.cpu().numpy())\n",
    "\n",
    "# Convert the list of embeddings to a single numpy array\n",
    "emb_ptb_test_Q1 = np.concatenate(embeddings_ptb_test, axis=0)"
   ]
  },
  {
   "cell_type": "code",
   "execution_count": 23,
   "metadata": {},
   "outputs": [],
   "source": [
    "def stand(df):\n",
    "    df_new = (df-df.mean())/df.std()\n",
    "    return pd.DataFrame(df_new)\n",
    "\n",
    "emb_ptb_train_Q1 = stand(emb_ptb_train_Q1)\n",
    "emb_ptb_test_Q1 = stand(emb_ptb_test_Q1)"
   ]
  },
  {
   "cell_type": "code",
   "execution_count": 24,
   "metadata": {},
   "outputs": [],
   "source": [
    "boost_no_feat_eng_Q1 =LGBMClassifier(\n",
    "    random_state=42,\n",
    "    verbose=-1,\n",
    "    n_jobs=-1\n",
    ")\n",
    "boost_no_feat_eng_Q1.fit(emb_ptb_train_Q1, y_ptb_train)\n",
    "\n",
    "y_preds = boost_no_feat_eng_Q1.predict(emb_ptb_test_Q1)"
   ]
  },
  {
   "cell_type": "code",
   "execution_count": 25,
   "metadata": {},
   "outputs": [
    {
     "data": {
      "text/plain": [
       "<sklearn.metrics._plot.confusion_matrix.ConfusionMatrixDisplay at 0x2390c7afee0>"
      ]
     },
     "execution_count": 25,
     "metadata": {},
     "output_type": "execute_result"
    },
    {
     "data": {
      "image/png": "[encoded data removed]",
      "text/plain": [
       "<Figure size 640x480 with 2 Axes>"
      ]
     },
     "metadata": {},
     "output_type": "display_data"
    }
   ],
   "source": [
    "cm = confusion_matrix(y_test, y_preds)\n",
    "disp = ConfusionMatrixDisplay(confusion_matrix=cm, display_labels=[0, 1])\n",
    "disp.plot()"
   ]
  },
  {
   "cell_type": "code",
   "execution_count": 26,
   "metadata": {},
   "outputs": [
    {
     "name": "stdout",
     "output_type": "stream",
     "text": [
      "Test accuracy: 0.976297\n",
      "Test balanced accuracy: 0.967620\n",
      "Test f1 score: 0.983645\n",
      "Test precision: 0.980161\n",
      "Test recall: 0.987155\n"
     ]
    }
   ],
   "source": [
    "# calculate precision and recall:\n",
    "tn, fp, fn, tp = cm.ravel()\n",
    "precision = tp / (tp + fp)\n",
    "recall = tp / (tp + fn)\n",
    "\n",
    "print(f\"Test accuracy: {accuracy_score(y_test, y_preds):.6f}\")\n",
    "print(f\"Test balanced accuracy: {balanced_accuracy_score(y_test, y_preds):.6f}\")\n",
    "print(f\"Test f1 score: {f1_score(y_test, y_preds):.6f}\")\n",
    "print(f\"Test precision: {precision:.6f}\")\n",
    "print(f\"Test recall: {recall:.6f}\")"
   ]
  },
  {
   "cell_type": "code",
   "execution_count": 27,
   "metadata": {},
   "outputs": [
    {
     "name": "stdout",
     "output_type": "stream",
     "text": [
      "              precision    recall  f1-score   support\n",
      "\n",
      "         0.0       0.97      0.95      0.96       809\n",
      "         1.0       0.98      0.99      0.98      2102\n",
      "\n",
      "    accuracy                           0.98      2911\n",
      "   macro avg       0.97      0.97      0.97      2911\n",
      "weighted avg       0.98      0.98      0.98      2911\n",
      "\n"
     ]
    }
   ],
   "source": [
    "print(classification_report(y_test, y_preds))"
   ]
  },
  {
   "cell_type": "markdown",
   "metadata": {},
   "source": [
    "### Embeddings Q2 - Still work in progress, but should be quick"
   ]
  },
  {
   "cell_type": "code",
   "execution_count": 8,
   "metadata": {},
   "outputs": [],
   "source": [
    "pretrained_q2 = torch.load(\"../weights/encoder_q2.pth\", map_location=DEVICE)"
   ]
  },
  {
   "cell_type": "code",
   "execution_count": 10,
   "metadata": {},
   "outputs": [
    {
     "data": {
      "text/plain": [
       "OrderedDict([('conv1.0.weight',\n",
       "              tensor([[[ 4.8228e-01,  4.9523e-01,  2.4977e-02]],\n",
       "              \n",
       "                      [[ 6.0589e-01, -1.5845e-02,  1.1083e-01]],\n",
       "              \n",
       "                      [[-5.7863e-02,  5.1756e-01,  6.4155e-01]],\n",
       "              \n",
       "                      [[-4.8657e-01,  4.3370e-01,  1.1751e-01]],\n",
       "              \n",
       "                      [[ 4.8451e-01,  2.6224e-01,  1.6041e-01]],\n",
       "              \n",
       "                      [[ 3.5547e-03,  3.9304e-01,  2.3461e-01]],\n",
       "              \n",
       "                      [[-3.1076e-01,  1.8816e-01, -2.2314e-01]],\n",
       "              \n",
       "                      [[-8.3778e-02, -1.9239e-01,  4.2628e-01]],\n",
       "              \n",
       "                      [[-7.6996e-02, -4.4436e-01, -4.4448e-01]],\n",
       "              \n",
       "                      [[-2.5893e-01, -3.7088e-01, -4.9013e-01]],\n",
       "              \n",
       "                      [[ 5.7737e-01, -5.2219e-01,  3.2795e-01]],\n",
       "              \n",
       "                      [[ 1.9348e-01, -5.4587e-02,  3.7243e-01]],\n",
       "              \n",
       "                      [[ 1.7989e-01,  3.3775e-01,  1.2838e-01]],\n",
       "              \n",
       "                      [[-3.6252e-01, -1.3105e-01, -1.1555e-01]],\n",
       "              \n",
       "                      [[ 3.0109e-01,  4.3789e-01,  3.4560e-01]],\n",
       "              \n",
       "                      [[-1.1982e-01,  4.0174e-01,  3.2922e-01]],\n",
       "              \n",
       "                      [[-5.2190e-03, -6.1196e-01, -6.2206e-01]],\n",
       "              \n",
       "                      [[-3.2571e-01, -4.1525e-01,  4.6350e-01]],\n",
       "              \n",
       "                      [[ 1.8309e-01,  2.8446e-01,  1.7089e-01]],\n",
       "              \n",
       "                      [[ 8.7452e-02,  4.2311e-01, -4.3560e-01]],\n",
       "              \n",
       "                      [[-7.1534e-06, -6.0106e-01,  3.9555e-02]],\n",
       "              \n",
       "                      [[-3.7820e-01,  1.5784e-01, -4.8424e-02]],\n",
       "              \n",
       "                      [[ 4.8869e-01, -2.6935e-01, -4.2372e-01]],\n",
       "              \n",
       "                      [[-1.5053e-01,  7.2162e-01,  2.6231e-01]],\n",
       "              \n",
       "                      [[ 5.5261e-01, -4.3953e-01, -6.2409e-01]],\n",
       "              \n",
       "                      [[-5.3721e-01, -5.3628e-01,  1.7785e-03]],\n",
       "              \n",
       "                      [[ 4.8879e-01,  5.3725e-01, -1.0394e-01]],\n",
       "              \n",
       "                      [[-4.2996e-01,  3.1265e-01, -2.1802e-01]],\n",
       "              \n",
       "                      [[ 3.8132e-01,  1.6607e-01,  3.1739e-01]],\n",
       "              \n",
       "                      [[-4.3957e-01, -4.3425e-01, -2.8450e-02]],\n",
       "              \n",
       "                      [[ 1.2943e-01,  1.3179e-02,  4.3256e-01]],\n",
       "              \n",
       "                      [[ 3.4212e-01, -4.6741e-01, -3.7742e-01]]])),\n",
       "             ('conv1.1.weight',\n",
       "              tensor([0.9766, 0.9868, 0.9760, 0.9164, 1.0198, 0.9818, 1.0133, 0.7896, 1.0825,\n",
       "                      1.0874, 0.6944, 0.9289, 0.9932, 1.0540, 0.9577, 0.8937, 1.0709, 0.9909,\n",
       "                      1.0193, 0.8135, 1.0390, 1.0198, 0.8718, 0.8851, 0.9960, 1.0357, 0.9322,\n",
       "                      0.9971, 0.9867, 1.0764, 0.7968, 0.9707])),\n",
       "             ('conv1.1.bias',\n",
       "              tensor([-0.2102, -0.0879, -0.1507, -0.0446, -0.0358,  0.1899, -0.0235,  0.0319,\n",
       "                       0.1835, -0.0312,  0.0743, -0.3553,  0.0969, -0.0692, -0.2771, -0.3434,\n",
       "                      -0.0987,  0.0850,  0.0631, -0.0183,  0.1268, -0.0321, -0.2036, -0.4753,\n",
       "                      -0.1692,  0.0515, -0.1611,  0.0780, -0.0438,  0.1649, -0.3348, -0.1279])),\n",
       "             ('conv1.1.running_mean',\n",
       "              tensor([ 0.1946,  0.1356,  0.2110,  0.0121,  0.1755,  0.1216, -0.0661,  0.0272,\n",
       "                      -0.1856, -0.2153,  0.0729,  0.0976,  0.1249, -0.1178,  0.2091,  0.1172,\n",
       "                      -0.2379, -0.0560,  0.1232,  0.0165, -0.1093, -0.0520, -0.0378,  0.1607,\n",
       "                      -0.0965, -0.2082,  0.1796, -0.0641,  0.1665, -0.1751,  0.1098, -0.0960])),\n",
       "             ('conv1.1.running_var',\n",
       "              tensor([0.0538, 0.0265, 0.0653, 0.0029, 0.0431, 0.0215, 0.0063, 0.0020, 0.0493,\n",
       "                      0.0651, 0.0089, 0.0133, 0.0220, 0.0194, 0.0613, 0.0208, 0.0821, 0.0068,\n",
       "                      0.0213, 0.0017, 0.0179, 0.0044, 0.0061, 0.0391, 0.0202, 0.0617, 0.0465,\n",
       "                      0.0064, 0.0385, 0.0435, 0.0170, 0.0163])),\n",
       "             ('conv1.1.num_batches_tracked', tensor(917280)),\n",
       "             ('conv2.0.weight',\n",
       "              tensor([[[ 0.0412, -0.1327, -0.0628],\n",
       "                       [-0.2079, -0.1770, -0.1201],\n",
       "                       [-0.0760, -0.2135, -0.1470],\n",
       "                       ...,\n",
       "                       [-0.0172,  0.0108,  0.0275],\n",
       "                       [ 0.0817, -0.0344, -0.0687],\n",
       "                       [ 0.0218, -0.0266, -0.0376]],\n",
       "              \n",
       "                      [[-0.0397,  0.0391, -0.0428],\n",
       "                       [-0.1196, -0.0153, -0.0082],\n",
       "                       [-0.0426,  0.0279, -0.1014],\n",
       "                       ...,\n",
       "                       [-0.1287, -0.0724, -0.1251],\n",
       "                       [-0.0476, -0.1070, -0.0559],\n",
       "                       [-0.1147, -0.1533,  0.0003]],\n",
       "              \n",
       "                      [[ 0.0134, -0.1113, -0.0488],\n",
       "                       [-0.0742, -0.1355, -0.1357],\n",
       "                       [ 0.0060, -0.1325, -0.1295],\n",
       "                       ...,\n",
       "                       [-0.1666, -0.0378,  0.0514],\n",
       "                       [ 0.0869, -0.1146, -0.0310],\n",
       "                       [-0.0657,  0.0509,  0.0754]],\n",
       "              \n",
       "                      ...,\n",
       "              \n",
       "                      [[ 0.0029, -0.0009, -0.0017],\n",
       "                       [-0.0981, -0.1170, -0.0197],\n",
       "                       [-0.0480, -0.0018, -0.1927],\n",
       "                       ...,\n",
       "                       [-0.1596, -0.1232, -0.0305],\n",
       "                       [-0.0109, -0.0905, -0.0882],\n",
       "                       [-0.0682, -0.1203, -0.0465]],\n",
       "              \n",
       "                      [[-0.0841, -0.0261,  0.1449],\n",
       "                       [-0.0346, -0.0070,  0.0525],\n",
       "                       [-0.0828,  0.0827,  0.1544],\n",
       "                       ...,\n",
       "                       [-0.0770, -0.1076,  0.0468],\n",
       "                       [-0.1625,  0.0006,  0.1588],\n",
       "                       [-0.1664, -0.0114,  0.0399]],\n",
       "              \n",
       "                      [[-0.0238,  0.0023, -0.0855],\n",
       "                       [ 0.1663, -0.1253, -0.0426],\n",
       "                       [ 0.0586, -0.0142, -0.0560],\n",
       "                       ...,\n",
       "                       [ 0.0997, -0.2430, -0.1874],\n",
       "                       [-0.0226, -0.0603, -0.0601],\n",
       "                       [-0.0947,  0.0195, -0.1705]]])),\n",
       "             ('conv2.1.weight',\n",
       "              tensor([1.0983, 1.0056, 1.1251, 0.8810, 0.9699, 0.9722, 1.0169, 0.9208, 1.0767,\n",
       "                      0.9629, 0.6135, 0.9626, 0.7608, 1.0535, 0.9483, 1.0458, 1.1037, 0.8335,\n",
       "                      0.7333, 1.0026, 1.0113, 0.7339, 1.1219, 1.0662, 1.0038, 0.7983, 1.0022,\n",
       "                      1.0142, 0.8130, 0.8983, 0.6861, 1.0532, 1.0357, 0.9137, 1.0018, 0.7741,\n",
       "                      0.9001, 1.0347, 1.0130, 0.9426, 0.9471, 0.8192, 0.9780, 1.0122, 0.9782,\n",
       "                      0.9453, 0.7820, 1.0827, 0.7951, 0.7559, 0.8670, 1.2929, 1.0328, 0.8683,\n",
       "                      0.8890, 1.0232, 1.0092, 1.1702, 0.9339, 0.9661, 1.0523, 0.8819, 0.8097,\n",
       "                      0.9763])),\n",
       "             ('conv2.1.bias',\n",
       "              tensor([-0.1179,  0.2041, -0.1017,  0.1613, -0.1718, -0.1907, -0.0965, -0.1952,\n",
       "                      -0.4086, -0.1531, -0.4231, -0.3431, -0.3569, -0.0767, -0.1539, -0.1303,\n",
       "                      -0.1025, -0.3257, -0.2994,  0.1381, -0.0923, -0.3606, -0.0651, -0.1454,\n",
       "                      -0.2054, -0.2034, -0.1085, -0.1197, -0.2600, -0.0282, -0.2893, -0.1674,\n",
       "                      -0.2948,  0.0338, -0.1937, -0.3519, -0.3913, -0.3506, -0.1225, -0.2112,\n",
       "                      -0.2004, -0.3440, -0.1720, -0.1752, -0.1268,  0.2898, -0.3912, -0.1746,\n",
       "                      -0.2071, -0.3501, -0.2922, -0.0783, -0.1698, -0.2674, -0.5299, -0.1342,\n",
       "                      -0.1477, -0.0688, -0.2298, -0.1814, -0.0906,  0.3778, -0.2488, -0.2308])),\n",
       "             ('conv2.1.running_mean',\n",
       "              tensor([-1.9108, -1.7571, -1.9756, -1.2784, -1.6716, -2.1756, -0.4953, -0.4474,\n",
       "                       1.7166, -1.5282, -0.2371,  2.0851,  1.0888, -1.0708,  0.1040, -0.7150,\n",
       "                      -1.5603, -1.3603,  1.5433, -1.4186, -0.1624,  0.1291, -2.0132, -1.5282,\n",
       "                      -1.1852,  0.8477, -2.3529, -0.3639,  1.8674, -1.5835,  1.0615, -1.0851,\n",
       "                       0.4123, -1.5165, -1.2967, -1.4370,  1.0727, -0.8880, -0.6841, -2.6895,\n",
       "                       1.9816,  0.1552, -1.7645, -0.1632, -2.0350, -2.1657, -1.8370,  2.2878,\n",
       "                      -0.5504, -0.6048, -1.4475,  2.3808,  0.9179, -1.3094, -0.0911, -1.4350,\n",
       "                       0.0405,  2.5423, -1.4842, -1.7143,  0.0333, -2.1255, -0.1996, -1.0506])),\n",
       "             ('conv2.1.running_var',\n",
       "              tensor([ 6.8243,  1.6470,  3.3194,  1.6894,  1.2884,  3.4269,  3.8216,  0.6639,\n",
       "                       0.7686,  0.7151,  1.1496,  0.9447,  0.5019,  9.0982,  1.2824,  3.9072,\n",
       "                       5.2433,  1.4761,  1.0215,  1.5477,  3.3700,  4.3724, 12.1306,  3.9222,\n",
       "                       2.5173,  1.4815,  1.8322,  5.6279,  3.2507,  2.8633,  1.9206,  2.0032,\n",
       "                       0.6445,  2.5830,  1.8437,  1.2448,  0.6664,  1.3567,  7.2370,  5.7052,\n",
       "                       1.2141,  0.4730,  1.4927,  1.7507, 10.6536,  2.4462,  2.0258,  1.2919,\n",
       "                       0.4262,  7.0836,  1.0197,  1.3114,  2.1941,  0.7345,  0.4010,  0.8648,\n",
       "                       1.6726,  1.4925,  5.3073,  2.6269,  2.9149,  2.1446,  0.5625,  1.8180])),\n",
       "             ('conv2.1.num_batches_tracked', tensor(917280)),\n",
       "             ('conv3.0.weight',\n",
       "              tensor([[[-0.0039,  0.0150,  0.0527],\n",
       "                       [ 0.1216, -0.0228,  0.0867],\n",
       "                       [ 0.1715,  0.1395,  0.1718],\n",
       "                       ...,\n",
       "                       [-0.0328,  0.0806,  0.1188],\n",
       "                       [-0.0676, -0.0932, -0.1438],\n",
       "                       [-0.0077, -0.0046,  0.0605]],\n",
       "              \n",
       "                      [[ 0.0653,  0.1001,  0.1004],\n",
       "                       [ 0.1558,  0.1175, -0.0266],\n",
       "                       [ 0.1465,  0.0403,  0.2064],\n",
       "                       ...,\n",
       "                       [ 0.1341,  0.0803,  0.0928],\n",
       "                       [-0.0484,  0.0121, -0.0948],\n",
       "                       [ 0.0522, -0.0070,  0.0003]],\n",
       "              \n",
       "                      [[ 0.0324,  0.0594, -0.0827],\n",
       "                       [-0.1731, -0.0046, -0.0534],\n",
       "                       [ 0.0031, -0.0197, -0.0925],\n",
       "                       ...,\n",
       "                       [ 0.0718, -0.0032, -0.1771],\n",
       "                       [-0.0488,  0.0206,  0.0082],\n",
       "                       [ 0.1397,  0.0415,  0.0346]],\n",
       "              \n",
       "                      ...,\n",
       "              \n",
       "                      [[-0.1007, -0.1109, -0.1524],\n",
       "                       [ 0.0898,  0.0563,  0.0854],\n",
       "                       [-0.0961, -0.0804,  0.1146],\n",
       "                       ...,\n",
       "                       [ 0.0508,  0.0564,  0.1273],\n",
       "                       [ 0.0606, -0.0274, -0.0148],\n",
       "                       [-0.0886, -0.1170, -0.0108]],\n",
       "              \n",
       "                      [[ 0.1026,  0.1007,  0.1045],\n",
       "                       [-0.1401,  0.0301,  0.0657],\n",
       "                       [-0.0075,  0.0720, -0.0798],\n",
       "                       ...,\n",
       "                       [-0.1096,  0.0244, -0.0152],\n",
       "                       [ 0.0009, -0.1235, -0.0553],\n",
       "                       [ 0.0934,  0.1392, -0.0038]],\n",
       "              \n",
       "                      [[ 0.0300,  0.0754,  0.0077],\n",
       "                       [-0.0002,  0.0296,  0.0369],\n",
       "                       [ 0.0864, -0.0285,  0.0230],\n",
       "                       ...,\n",
       "                       [-0.0218, -0.0077, -0.0477],\n",
       "                       [-0.0678, -0.0417,  0.0614],\n",
       "                       [ 0.1019,  0.1270,  0.0319]]])),\n",
       "             ('conv3.1.weight',\n",
       "              tensor([0.9461, 0.9007, 0.9310, 0.8590, 1.1811, 1.0207, 0.8779, 1.0496, 1.0462,\n",
       "                      1.0555, 0.9161, 1.0006, 0.9059, 0.9621, 0.7987, 0.9398, 0.9388, 0.9476,\n",
       "                      1.1578, 0.9720, 1.1176, 1.1385, 0.8496, 1.1658, 0.7545, 0.9942, 1.0350,\n",
       "                      0.9959, 1.1030, 1.0536, 0.9519, 0.9200, 1.1273, 1.1410, 0.9133, 0.9770,\n",
       "                      0.7675, 0.9871, 1.0507, 0.7039, 0.9018, 1.0526, 0.9631, 1.1134, 1.1582,\n",
       "                      1.1784, 0.9048, 1.1723, 0.9074, 0.9299, 0.8894, 0.8923, 1.0233, 1.0066,\n",
       "                      1.0236, 1.0843, 1.0766, 0.9362, 1.0589, 0.9054, 0.8628, 0.9745, 0.8523,\n",
       "                      0.9854, 1.1741, 1.0278, 0.9484, 0.9910, 0.9424, 1.0766, 0.6469, 1.1116,\n",
       "                      0.8528, 0.8618, 0.9586, 0.9984, 1.2949, 0.9420, 0.9441, 0.9337, 0.9727,\n",
       "                      0.9344, 0.8876, 0.8191, 0.8515, 0.9539, 1.0901, 0.9971, 1.0316, 1.0745,\n",
       "                      0.9555, 1.0822, 0.8838, 1.0630, 1.0791, 0.7170, 0.9141, 0.8694, 0.9292,\n",
       "                      1.0830, 0.8544, 0.9932, 0.8022, 1.0015, 0.8966, 0.8495, 1.0693, 0.9934,\n",
       "                      0.7128, 0.9167, 0.8763, 0.9800, 1.1028, 0.9914, 1.0062, 0.9923, 1.1381,\n",
       "                      0.9836, 1.1733, 1.0536, 0.8629, 0.7378, 1.0185, 0.8906, 1.0811, 0.8941,\n",
       "                      0.8401, 0.7342])),\n",
       "             ('conv3.1.bias',\n",
       "              tensor([-0.4192, -0.3220, -0.4466, -0.4446, -0.7054, -0.3807, -0.3012, -0.5851,\n",
       "                      -0.4708, -0.3265, -0.2137, -0.4934, -0.4605, -0.4894, -0.4006, -0.1933,\n",
       "                      -0.4445, -0.5922, -0.4964, -0.4638, -0.5061, -0.4760, -0.5407, -0.7621,\n",
       "                      -0.4676, -0.4912, -0.5912, -0.2770, -0.4648, -0.5623, -0.4313, -0.3026,\n",
       "                      -0.3861, -0.7125, -0.3604, -0.3252, -0.4198, -0.4167, -0.3681, -0.2417,\n",
       "                      -0.4772, -0.3650, -0.2995, -0.4792, -0.6562, -0.7493, -0.4389, -0.4772,\n",
       "                      -0.4196, -0.5160, -0.4007, -0.2871, -0.4403, -0.4187, -0.5023, -0.3503,\n",
       "                      -0.3269, -0.2612, -0.5180, -0.4441, -0.6020, -0.4474, -0.3137, -0.4557,\n",
       "                      -0.3168, -0.4997, -0.4539, -0.5234, -0.3504, -0.5765, -0.3466, -0.6666,\n",
       "                      -0.4353, -0.4973, -0.3503, -0.5416, -0.2193, -0.6613, -0.4420, -0.4992,\n",
       "                      -0.4132, -0.4857, -0.6204, -0.3718, -0.3530, -0.5395, -0.4410, -0.6875,\n",
       "                      -0.4171, -0.4077, -0.4260, -0.4439, -0.4861, -0.4637, -0.4424, -0.2211,\n",
       "                      -0.3661, -0.5081, -0.4626, -0.3038, -0.4207, -0.5158, -0.4075, -0.3148,\n",
       "                      -0.3669, -0.1786, -0.6500, -0.2149, -0.3438, -0.2076, -0.6009, -0.4037,\n",
       "                      -0.2181, -0.4535, -0.4828, -0.5039, -0.7178, -0.5428, -0.5045, -0.6032,\n",
       "                      -0.1933, -0.2262, -0.3526, -0.4820, -0.6583, -0.1713, -0.3728, -0.1915])),\n",
       "             ('conv3.1.running_mean',\n",
       "              tensor([ 1.8820,  3.7085,  1.5236,  2.3865, -0.1416, -0.8838,  3.0180, -1.5204,\n",
       "                      -0.5472, -1.0863,  3.3714,  1.2479, -0.4537,  1.9527,  2.6219,  3.4410,\n",
       "                      -2.2285, -0.1680, -0.3380, -1.4829, -1.5605, -0.2481, -1.4974, -1.5656,\n",
       "                      -0.6595,  0.0323,  1.3242,  2.6334,  0.8951, -1.1456, -1.4296, -1.9795,\n",
       "                      -1.6023, -0.6952,  1.0943,  2.3090,  2.0676, -1.5009, -0.7318,  1.1653,\n",
       "                       1.2329,  2.0896,  2.0416, -2.0218, -0.9417, -1.2618,  0.7351, -0.8905,\n",
       "                      -0.0598, -0.7825,  1.0682,  3.4576, -2.2510,  0.6920, -0.4306, -1.4238,\n",
       "                       0.2358,  2.3652, -0.4943,  0.0285,  1.4706, -0.7335,  2.8749, -0.7070,\n",
       "                      -2.0087, -0.4610, -2.2557,  0.8156, -0.0791,  0.0126,  0.5334, -0.8703,\n",
       "                      -0.0976, -0.4224, -1.4406,  1.0817,  2.3346,  1.1884,  1.1546, -0.6271,\n",
       "                      -0.8547, -0.0814,  1.5880, -1.2377,  3.7212,  0.7647, -1.1903, -1.2062,\n",
       "                      -1.1963, -1.1823, -1.5023, -0.3742, -0.4518, -2.8270,  0.6204,  2.7353,\n",
       "                       0.3344,  1.0326,  1.2472, -1.8842,  1.6420,  0.7114, -1.3976,  1.9317,\n",
       "                       1.1893,  2.9506, -0.1259,  2.9343,  1.5621,  3.7422,  0.8786,  0.2968,\n",
       "                       2.5546, -0.5266, -1.9010,  1.1660, -1.2186, -1.6008, -0.8388,  0.8109,\n",
       "                       2.6325,  1.6247,  1.1413,  1.9066,  0.2767, -2.1769,  2.2306,  3.2755])),\n",
       "             ('conv3.1.running_var',\n",
       "              tensor([0.9889, 1.1461, 0.4035, 0.3279, 0.1743, 0.2958, 1.1057, 0.1392, 0.2460,\n",
       "                      1.1447, 0.9575, 0.2650, 0.4441, 0.7582, 0.8656, 0.6441, 0.4919, 0.3203,\n",
       "                      0.3069, 0.8900, 0.1873, 0.4666, 0.4594, 0.1410, 0.3745, 0.2550, 0.3142,\n",
       "                      0.3356, 0.2485, 0.3149, 0.8468, 0.1779, 0.5818, 0.2575, 0.4715, 0.3236,\n",
       "                      0.6845, 0.3314, 0.2209, 0.8576, 0.4556, 0.1928, 0.4176, 0.7667, 0.1763,\n",
       "                      0.1563, 1.0883, 0.2780, 0.6489, 0.3873, 0.6577, 0.6352, 0.8720, 0.2991,\n",
       "                      0.5939, 0.4033, 0.5658, 0.2658, 0.2654, 0.4138, 0.4476, 0.1609, 0.5359,\n",
       "                      0.5407, 0.3909, 0.2583, 0.6396, 0.3392, 1.4304, 0.2098, 1.0568, 0.2824,\n",
       "                      0.3980, 0.4158, 1.0070, 0.3064, 0.1954, 0.3224, 0.1392, 0.5338, 0.7556,\n",
       "                      0.4889, 0.6354, 1.4315, 1.3873, 0.4827, 0.3006, 0.3720, 0.8054, 0.4449,\n",
       "                      1.0389, 0.4779, 0.5465, 0.9576, 0.3102, 3.4693, 0.7910, 0.4783, 0.2060,\n",
       "                      0.2774, 0.1498, 0.2472, 0.6606, 0.2086, 0.5803, 0.5405, 0.2914, 0.2916,\n",
       "                      0.2330, 1.3183, 0.3029, 0.4865, 0.1998, 0.7156, 0.6770, 0.2559, 0.3820,\n",
       "                      0.7282, 0.4855, 0.1284, 0.8110, 2.4734, 0.2522, 0.3948, 0.2791, 0.1287,\n",
       "                      0.3590, 1.3320])),\n",
       "             ('conv3.1.num_batches_tracked', tensor(917280)),\n",
       "             ('fc.weight',\n",
       "              tensor([[-0.0952, -0.0817, -0.0244,  ...,  0.0519,  0.0873,  0.0599],\n",
       "                      [-0.1164,  0.0047,  0.0333,  ...,  0.1108,  0.1078,  0.1143],\n",
       "                      [-0.1308,  0.0087,  0.0294,  ...,  0.0590,  0.0363,  0.0573],\n",
       "                      ...,\n",
       "                      [-0.0807, -0.0520,  0.0373,  ...,  0.0320,  0.0111,  0.1450],\n",
       "                      [ 0.0867,  0.0693, -0.0421,  ...,  0.0688,  0.0988,  0.1441],\n",
       "                      [-0.0023,  0.1071,  0.0862,  ..., -0.0271, -0.0389, -0.1888]])),\n",
       "             ('fc.bias',\n",
       "              tensor([ 0.0056,  0.0800, -0.0231,  0.0018,  0.0163,  0.0491, -0.0517, -0.0322,\n",
       "                       0.0198, -0.0146,  0.0079,  0.0482, -0.0283, -0.0225, -0.0353,  0.0066,\n",
       "                      -0.0563,  0.0588, -0.0268, -0.0539,  0.0239,  0.0285,  0.0332, -0.0039,\n",
       "                       0.0153, -0.0168, -0.0241,  0.0506,  0.0866,  0.0174,  0.0298,  0.0707,\n",
       "                      -0.0124,  0.0160, -0.0126,  0.0261, -0.0417,  0.0041,  0.1325, -0.0139,\n",
       "                      -0.0271,  0.0627, -0.0091, -0.0649,  0.0032,  0.0829,  0.0354, -0.0121,\n",
       "                      -0.0648,  0.0665, -0.0062,  0.0205, -0.0429,  0.0421,  0.0091,  0.0008,\n",
       "                      -0.0327, -0.0080, -0.0871, -0.0216,  0.0065, -0.0296, -0.0601,  0.0354,\n",
       "                      -0.0636, -0.0306, -0.0773,  0.0740,  0.0154, -0.0153, -0.0301,  0.0766,\n",
       "                      -0.0031,  0.0819,  0.0060,  0.0520, -0.0285,  0.0184, -0.0404,  0.0073,\n",
       "                      -0.0566,  0.0297,  0.0787, -0.0361, -0.0852,  0.1382, -0.0064,  0.0108,\n",
       "                      -0.0253,  0.0596, -0.0187,  0.0285,  0.0412, -0.0517, -0.0575,  0.0047,\n",
       "                      -0.0712, -0.0227,  0.0333, -0.0072, -0.0137, -0.0220,  0.0653, -0.0424,\n",
       "                      -0.0091,  0.0591, -0.0724, -0.0447, -0.0102, -0.0107,  0.0339,  0.0279,\n",
       "                       0.0291,  0.0971,  0.0197, -0.0938, -0.0944,  0.0529,  0.0218, -0.0248,\n",
       "                       0.0251,  0.0442,  0.0204,  0.0579,  0.0279, -0.0180,  0.0287, -0.0689,\n",
       "                       0.0165, -0.0061,  0.0213, -0.0584,  0.0031, -0.0015,  0.0206, -0.0017,\n",
       "                      -0.0120, -0.0259,  0.0112, -0.0469,  0.0377, -0.0215, -0.0489, -0.0089,\n",
       "                      -0.0060, -0.0433,  0.0468, -0.0270, -0.0051,  0.0039, -0.0480, -0.0106,\n",
       "                       0.0275, -0.0681,  0.0471,  0.0076,  0.0354, -0.0240,  0.0576,  0.0967,\n",
       "                       0.0363, -0.0689, -0.0597,  0.0283,  0.0018, -0.0196,  0.0491, -0.0634,\n",
       "                       0.0006, -0.0408,  0.0504, -0.0091, -0.0448,  0.0327, -0.0029,  0.0095,\n",
       "                       0.0079, -0.0370, -0.0333, -0.0100,  0.0064,  0.0489,  0.0888, -0.1001,\n",
       "                      -0.0520, -0.0620,  0.0108, -0.0251, -0.0359, -0.0860, -0.0362, -0.0166,\n",
       "                       0.0336, -0.0250,  0.0378, -0.0480,  0.0241, -0.0317, -0.0055, -0.0417,\n",
       "                       0.0333,  0.0255, -0.0186,  0.0317,  0.0208,  0.0767, -0.0489,  0.0182,\n",
       "                       0.0302,  0.0070, -0.0260, -0.0110,  0.0432, -0.0601, -0.0248, -0.0531,\n",
       "                      -0.0198, -0.0181,  0.0088,  0.0160,  0.0432, -0.0155, -0.0135, -0.0096,\n",
       "                      -0.0180, -0.0247,  0.0541, -0.0166, -0.0005, -0.0066, -0.0686, -0.0845,\n",
       "                       0.0834,  0.0795,  0.0367, -0.0608, -0.0196, -0.0437, -0.0057, -0.0518,\n",
       "                      -0.0119, -0.0725,  0.0398,  0.0617,  0.0367,  0.0367, -0.0058, -0.1046,\n",
       "                       0.0588, -0.0341,  0.0137,  0.0568, -0.0205, -0.0266,  0.0378,  0.0499]))])"
      ]
     },
     "execution_count": 10,
     "metadata": {},
     "output_type": "execute_result"
    }
   ],
   "source": [
    "pretrained_q2"
   ]
  },
  {
   "cell_type": "markdown",
   "metadata": {},
   "source": [
    "### Old code, might still need it."
   ]
  },
  {
   "cell_type": "code",
   "execution_count": 42,
   "metadata": {},
   "outputs": [],
   "source": [
    "path= r'C:\\Users\\pauls\\Desktop\\Studium\\Machine Learning for Health Care\\Projekt 2\\project2_TS_input'\n",
    "\n",
    "emb_ptb_train_Q1 = np.load(path+'\\\\embeddings_ptb_train_Q1.npy')\n",
    "emb_ptb_test_Q1 = np.load(path+'\\\\embeddings_ptb_test_Q1.npy')\n",
    "emb_ptb_train_Q2 = np.load(path+'\\\\embeddings_ptb_train_Q2.npy')\n",
    "emb_ptb_test_Q2 = np.load(path+'\\\\embeddings_ptb_test_Q2.npy')"
   ]
  },
  {
   "cell_type": "code",
   "execution_count": 43,
   "metadata": {},
   "outputs": [],
   "source": [
    "#Standardizing the embeddings:\n",
    "\n",
    "def stand(df):\n",
    "    df_new = (df-df.mean())/df.std()\n",
    "    return pd.DataFrame(df_new)\n",
    "\n",
    "emb_ptb_train_Q1 = stand(emb_ptb_train_Q1)\n",
    "emb_ptb_test_Q1 = stand(emb_ptb_test_Q1)\n",
    "emb_ptb_train_Q2 = stand(emb_ptb_train_Q2)\n",
    "emb_ptb_test_Q2 = stand(emb_ptb_test_Q2)\n"
   ]
  },
  {
   "cell_type": "markdown",
   "metadata": {},
   "source": [
    "### Gradient boosting with the Q1 Encoder"
   ]
  },
  {
   "cell_type": "code",
   "execution_count": 44,
   "metadata": {},
   "outputs": [
    {
     "data": {
      "text/html": [
       "<style>#sk-container-id-2 {color: black;}#sk-container-id-2 pre{padding: 0;}#sk-container-id-2 div.sk-toggleable {background-color: white;}#sk-container-id-2 label.sk-toggleable__label {cursor: pointer;display: block;width: 100%;margin-bottom: 0;padding: 0.3em;box-sizing: border-box;text-align: center;}#sk-container-id-2 label.sk-toggleable__label-arrow:before {content: \"▸\";float: left;margin-right: 0.25em;color: #696969;}#sk-container-id-2 label.sk-toggleable__label-arrow:hover:before {color: black;}#sk-container-id-2 div.sk-estimator:hover label.sk-toggleable__label-arrow:before {color: black;}#sk-container-id-2 div.sk-toggleable__content {max-height: 0;max-width: 0;overflow: hidden;text-align: left;background-color: #f0f8ff;}#sk-container-id-2 div.sk-toggleable__content pre {margin: 0.2em;color: black;border-radius: 0.25em;background-color: #f0f8ff;}#sk-container-id-2 input.sk-toggleable__control:checked~div.sk-toggleable__content {max-height: 200px;max-width: 100%;overflow: auto;}#sk-container-id-2 input.sk-toggleable__control:checked~label.sk-toggleable__label-arrow:before {content: \"▾\";}#sk-container-id-2 div.sk-estimator input.sk-toggleable__control:checked~label.sk-toggleable__label {background-color: #d4ebff;}#sk-container-id-2 div.sk-label input.sk-toggleable__control:checked~label.sk-toggleable__label {background-color: #d4ebff;}#sk-container-id-2 input.sk-hidden--visually {border: 0;clip: rect(1px 1px 1px 1px);clip: rect(1px, 1px, 1px, 1px);height: 1px;margin: -1px;overflow: hidden;padding: 0;position: absolute;width: 1px;}#sk-container-id-2 div.sk-estimator {font-family: monospace;background-color: #f0f8ff;border: 1px dotted black;border-radius: 0.25em;box-sizing: border-box;margin-bottom: 0.5em;}#sk-container-id-2 div.sk-estimator:hover {background-color: #d4ebff;}#sk-container-id-2 div.sk-parallel-item::after {content: \"\";width: 100%;border-bottom: 1px solid gray;flex-grow: 1;}#sk-container-id-2 div.sk-label:hover label.sk-toggleable__label {background-color: #d4ebff;}#sk-container-id-2 div.sk-serial::before {content: \"\";position: absolute;border-left: 1px solid gray;box-sizing: border-box;top: 0;bottom: 0;left: 50%;z-index: 0;}#sk-container-id-2 div.sk-serial {display: flex;flex-direction: column;align-items: center;background-color: white;padding-right: 0.2em;padding-left: 0.2em;position: relative;}#sk-container-id-2 div.sk-item {position: relative;z-index: 1;}#sk-container-id-2 div.sk-parallel {display: flex;align-items: stretch;justify-content: center;background-color: white;position: relative;}#sk-container-id-2 div.sk-item::before, #sk-container-id-2 div.sk-parallel-item::before {content: \"\";position: absolute;border-left: 1px solid gray;box-sizing: border-box;top: 0;bottom: 0;left: 50%;z-index: -1;}#sk-container-id-2 div.sk-parallel-item {display: flex;flex-direction: column;z-index: 1;position: relative;background-color: white;}#sk-container-id-2 div.sk-parallel-item:first-child::after {align-self: flex-end;width: 50%;}#sk-container-id-2 div.sk-parallel-item:last-child::after {align-self: flex-start;width: 50%;}#sk-container-id-2 div.sk-parallel-item:only-child::after {width: 0;}#sk-container-id-2 div.sk-dashed-wrapped {border: 1px dashed gray;margin: 0 0.4em 0.5em 0.4em;box-sizing: border-box;padding-bottom: 0.4em;background-color: white;}#sk-container-id-2 div.sk-label label {font-family: monospace;font-weight: bold;display: inline-block;line-height: 1.2em;}#sk-container-id-2 div.sk-label-container {text-align: center;}#sk-container-id-2 div.sk-container {/* jupyter's `normalize.less` sets `[hidden] { display: none; }` but bootstrap.min.css set `[hidden] { display: none !important; }` so we also need the `!important` here to be able to override the default hidden behavior on the sphinx rendered scikit-learn.org. See: https://github.com/scikit-learn/scikit-learn/issues/21755 */display: inline-block !important;position: relative;}#sk-container-id-2 div.sk-text-repr-fallback {display: none;}</style><div id=\"sk-container-id-2\" class=\"sk-top-container\"><div class=\"sk-text-repr-fallback\"><pre>LGBMClassifier(n_jobs=-1, random_state=42, verbose=-1)</pre><b>In a Jupyter environment, please rerun this cell to show the HTML representation or trust the notebook. <br />On GitHub, the HTML representation is unable to render, please try loading this page with nbviewer.org.</b></div><div class=\"sk-container\" hidden><div class=\"sk-item\"><div class=\"sk-estimator sk-toggleable\"><input class=\"sk-toggleable__control sk-hidden--visually\" id=\"sk-estimator-id-2\" type=\"checkbox\" checked><label for=\"sk-estimator-id-2\" class=\"sk-toggleable__label sk-toggleable__label-arrow\">LGBMClassifier</label><div class=\"sk-toggleable__content\"><pre>LGBMClassifier(n_jobs=-1, random_state=42, verbose=-1)</pre></div></div></div></div></div>"
      ],
      "text/plain": [
       "LGBMClassifier(n_jobs=-1, random_state=42, verbose=-1)"
      ]
     },
     "execution_count": 44,
     "metadata": {},
     "output_type": "execute_result"
    }
   ],
   "source": [
    "boost_no_feat_eng_Q1 =LGBMClassifier(\n",
    "    random_state=42,\n",
    "    verbose=-1,\n",
    "    n_jobs=-1\n",
    ")\n",
    "boost_no_feat_eng_Q1.fit(emb_ptb_train_Q1, y_train_full)\n",
    "\n",
    "y_preds = boost_no_feat_eng_Q1.predict(emb_ptb_test_Q1)"
   ]
  },
  {
   "cell_type": "code",
   "execution_count": 46,
   "metadata": {},
   "outputs": [
    {
     "data": {
      "text/plain": [
       "<sklearn.metrics._plot.confusion_matrix.ConfusionMatrixDisplay at 0x1e8070cd520>"
      ]
     },
     "execution_count": 46,
     "metadata": {},
     "output_type": "execute_result"
    },
    {
     "data": {
      "image/png": "[encoded data removed]",
      "text/plain": [
       "<Figure size 640x480 with 2 Axes>"
      ]
     },
     "metadata": {},
     "output_type": "display_data"
    }
   ],
   "source": [
    "cm = confusion_matrix(y_test, y_preds)\n",
    "disp = ConfusionMatrixDisplay(confusion_matrix=cm, display_labels=[0, 1])\n",
    "disp.plot()"
   ]
  },
  {
   "cell_type": "code",
   "execution_count": 47,
   "metadata": {},
   "outputs": [
    {
     "name": "stdout",
     "output_type": "stream",
     "text": [
      "Test accuracy: 0.974579\n",
      "Test balanced accuracy: 0.963389\n",
      "Test f1 score: 0.982506\n",
      "Test precision: 0.976504\n",
      "Test recall: 0.988582\n"
     ]
    }
   ],
   "source": [
    "# calculate precision and recall:\n",
    "tn, fp, fn, tp = cm.ravel()\n",
    "precision = tp / (tp + fp)\n",
    "recall = tp / (tp + fn)\n",
    "\n",
    "print(f\"Test accuracy: {accuracy_score(y_test, y_preds):.6f}\")\n",
    "print(f\"Test balanced accuracy: {balanced_accuracy_score(y_test, y_preds):.6f}\")\n",
    "print(f\"Test f1 score: {f1_score(y_test, y_preds):.6f}\")\n",
    "print(f\"Test precision: {precision:.6f}\")\n",
    "print(f\"Test recall: {recall:.6f}\")"
   ]
  },
  {
   "cell_type": "code",
   "execution_count": 27,
   "metadata": {},
   "outputs": [
    {
     "name": "stdout",
     "output_type": "stream",
     "text": [
      "              precision    recall  f1-score   support\n",
      "\n",
      "         0.0       0.97      0.95      0.96       809\n",
      "         1.0       0.98      0.99      0.98      2102\n",
      "\n",
      "    accuracy                           0.98      2911\n",
      "   macro avg       0.98      0.97      0.97      2911\n",
      "weighted avg       0.98      0.98      0.98      2911\n",
      "\n"
     ]
    }
   ],
   "source": [
    "print(classification_report(y_test, y_preds))"
   ]
  },
  {
   "cell_type": "markdown",
   "metadata": {},
   "source": [
    "### Gradient boosting with the Q1 Encoder"
   ]
  },
  {
   "cell_type": "code",
   "execution_count": 52,
   "metadata": {},
   "outputs": [
    {
     "name": "stdout",
     "output_type": "stream",
     "text": [
      "(11641, 256)\n",
      "(16808, 256)\n",
      "(11641,)\n"
     ]
    }
   ],
   "source": [
    "print(emb_ptb_train_Q1.shape)\n",
    "print(emb_ptb_train_Q2.shape)\n",
    "print(y_train_full.shape)"
   ]
  },
  {
   "cell_type": "code",
   "execution_count": 48,
   "metadata": {},
   "outputs": [
    {
     "ename": "LightGBMError",
     "evalue": "Length of labels differs from the length of #data",
     "output_type": "error",
     "traceback": [
      "\u001b[1;31m---------------------------------------------------------------------------\u001b[0m",
      "\u001b[1;31mLightGBMError\u001b[0m                             Traceback (most recent call last)",
      "Cell \u001b[1;32mIn[48], line 7\u001b[0m\n\u001b[0;32m      1\u001b[0m boost_no_feat_eng_Q2 \u001b[38;5;241m=\u001b[39mLGBMClassifier(\n\u001b[0;32m      2\u001b[0m     random_state\u001b[38;5;241m=\u001b[39m\u001b[38;5;241m42\u001b[39m,\n\u001b[0;32m      3\u001b[0m     verbose\u001b[38;5;241m=\u001b[39m\u001b[38;5;241m-\u001b[39m\u001b[38;5;241m1\u001b[39m,\n\u001b[0;32m      4\u001b[0m     n_jobs\u001b[38;5;241m=\u001b[39m\u001b[38;5;241m-\u001b[39m\u001b[38;5;241m1\u001b[39m\n\u001b[0;32m      5\u001b[0m )\n\u001b[1;32m----> 7\u001b[0m \u001b[43mboost_no_feat_eng_Q2\u001b[49m\u001b[38;5;241;43m.\u001b[39;49m\u001b[43mfit\u001b[49m\u001b[43m(\u001b[49m\u001b[43memb_ptb_train_Q2\u001b[49m\u001b[43m,\u001b[49m\u001b[43m \u001b[49m\u001b[43my_train_full\u001b[49m\u001b[43m)\u001b[49m\n\u001b[0;32m      9\u001b[0m y_preds \u001b[38;5;241m=\u001b[39m boost_no_feat_eng_Q2\u001b[38;5;241m.\u001b[39mpredict(emb_ptb_test_Q2)\n",
      "File \u001b[1;32mc:\\Users\\pauls\\miniconda3\\envs\\introtoml\\lib\\site-packages\\lightgbm\\sklearn.py:1187\u001b[0m, in \u001b[0;36mLGBMClassifier.fit\u001b[1;34m(self, X, y, sample_weight, init_score, eval_set, eval_names, eval_sample_weight, eval_class_weight, eval_init_score, eval_metric, feature_name, categorical_feature, callbacks, init_model)\u001b[0m\n\u001b[0;32m   1184\u001b[0m         \u001b[38;5;28;01melse\u001b[39;00m:\n\u001b[0;32m   1185\u001b[0m             valid_sets\u001b[38;5;241m.\u001b[39mappend((valid_x, \u001b[38;5;28mself\u001b[39m\u001b[38;5;241m.\u001b[39m_le\u001b[38;5;241m.\u001b[39mtransform(valid_y)))\n\u001b[1;32m-> 1187\u001b[0m \u001b[38;5;28;43msuper\u001b[39;49m\u001b[43m(\u001b[49m\u001b[43m)\u001b[49m\u001b[38;5;241;43m.\u001b[39;49m\u001b[43mfit\u001b[49m\u001b[43m(\u001b[49m\n\u001b[0;32m   1188\u001b[0m \u001b[43m    \u001b[49m\u001b[43mX\u001b[49m\u001b[43m,\u001b[49m\n\u001b[0;32m   1189\u001b[0m \u001b[43m    \u001b[49m\u001b[43m_y\u001b[49m\u001b[43m,\u001b[49m\n\u001b[0;32m   1190\u001b[0m \u001b[43m    \u001b[49m\u001b[43msample_weight\u001b[49m\u001b[38;5;241;43m=\u001b[39;49m\u001b[43msample_weight\u001b[49m\u001b[43m,\u001b[49m\n\u001b[0;32m   1191\u001b[0m \u001b[43m    \u001b[49m\u001b[43minit_score\u001b[49m\u001b[38;5;241;43m=\u001b[39;49m\u001b[43minit_score\u001b[49m\u001b[43m,\u001b[49m\n\u001b[0;32m   1192\u001b[0m \u001b[43m    \u001b[49m\u001b[43meval_set\u001b[49m\u001b[38;5;241;43m=\u001b[39;49m\u001b[43mvalid_sets\u001b[49m\u001b[43m,\u001b[49m\n\u001b[0;32m   1193\u001b[0m \u001b[43m    \u001b[49m\u001b[43meval_names\u001b[49m\u001b[38;5;241;43m=\u001b[39;49m\u001b[43meval_names\u001b[49m\u001b[43m,\u001b[49m\n\u001b[0;32m   1194\u001b[0m \u001b[43m    \u001b[49m\u001b[43meval_sample_weight\u001b[49m\u001b[38;5;241;43m=\u001b[39;49m\u001b[43meval_sample_weight\u001b[49m\u001b[43m,\u001b[49m\n\u001b[0;32m   1195\u001b[0m \u001b[43m    \u001b[49m\u001b[43meval_class_weight\u001b[49m\u001b[38;5;241;43m=\u001b[39;49m\u001b[43meval_class_weight\u001b[49m\u001b[43m,\u001b[49m\n\u001b[0;32m   1196\u001b[0m \u001b[43m    \u001b[49m\u001b[43meval_init_score\u001b[49m\u001b[38;5;241;43m=\u001b[39;49m\u001b[43meval_init_score\u001b[49m\u001b[43m,\u001b[49m\n\u001b[0;32m   1197\u001b[0m \u001b[43m    \u001b[49m\u001b[43meval_metric\u001b[49m\u001b[38;5;241;43m=\u001b[39;49m\u001b[43meval_metric\u001b[49m\u001b[43m,\u001b[49m\n\u001b[0;32m   1198\u001b[0m \u001b[43m    \u001b[49m\u001b[43mfeature_name\u001b[49m\u001b[38;5;241;43m=\u001b[39;49m\u001b[43mfeature_name\u001b[49m\u001b[43m,\u001b[49m\n\u001b[0;32m   1199\u001b[0m \u001b[43m    \u001b[49m\u001b[43mcategorical_feature\u001b[49m\u001b[38;5;241;43m=\u001b[39;49m\u001b[43mcategorical_feature\u001b[49m\u001b[43m,\u001b[49m\n\u001b[0;32m   1200\u001b[0m \u001b[43m    \u001b[49m\u001b[43mcallbacks\u001b[49m\u001b[38;5;241;43m=\u001b[39;49m\u001b[43mcallbacks\u001b[49m\u001b[43m,\u001b[49m\n\u001b[0;32m   1201\u001b[0m \u001b[43m    \u001b[49m\u001b[43minit_model\u001b[49m\u001b[38;5;241;43m=\u001b[39;49m\u001b[43minit_model\u001b[49m\n\u001b[0;32m   1202\u001b[0m \u001b[43m\u001b[49m\u001b[43m)\u001b[49m\n\u001b[0;32m   1203\u001b[0m \u001b[38;5;28;01mreturn\u001b[39;00m \u001b[38;5;28mself\u001b[39m\n",
      "File \u001b[1;32mc:\\Users\\pauls\\miniconda3\\envs\\introtoml\\lib\\site-packages\\lightgbm\\sklearn.py:885\u001b[0m, in \u001b[0;36mLGBMModel.fit\u001b[1;34m(self, X, y, sample_weight, init_score, group, eval_set, eval_names, eval_sample_weight, eval_class_weight, eval_init_score, eval_group, eval_metric, feature_name, categorical_feature, callbacks, init_model)\u001b[0m\n\u001b[0;32m    882\u001b[0m evals_result: _EvalResultDict \u001b[38;5;241m=\u001b[39m {}\n\u001b[0;32m    883\u001b[0m callbacks\u001b[38;5;241m.\u001b[39mappend(record_evaluation(evals_result))\n\u001b[1;32m--> 885\u001b[0m \u001b[38;5;28mself\u001b[39m\u001b[38;5;241m.\u001b[39m_Booster \u001b[38;5;241m=\u001b[39m \u001b[43mtrain\u001b[49m\u001b[43m(\u001b[49m\n\u001b[0;32m    886\u001b[0m \u001b[43m    \u001b[49m\u001b[43mparams\u001b[49m\u001b[38;5;241;43m=\u001b[39;49m\u001b[43mparams\u001b[49m\u001b[43m,\u001b[49m\n\u001b[0;32m    887\u001b[0m \u001b[43m    \u001b[49m\u001b[43mtrain_set\u001b[49m\u001b[38;5;241;43m=\u001b[39;49m\u001b[43mtrain_set\u001b[49m\u001b[43m,\u001b[49m\n\u001b[0;32m    888\u001b[0m \u001b[43m    \u001b[49m\u001b[43mnum_boost_round\u001b[49m\u001b[38;5;241;43m=\u001b[39;49m\u001b[38;5;28;43mself\u001b[39;49m\u001b[38;5;241;43m.\u001b[39;49m\u001b[43mn_estimators\u001b[49m\u001b[43m,\u001b[49m\n\u001b[0;32m    889\u001b[0m \u001b[43m    \u001b[49m\u001b[43mvalid_sets\u001b[49m\u001b[38;5;241;43m=\u001b[39;49m\u001b[43mvalid_sets\u001b[49m\u001b[43m,\u001b[49m\n\u001b[0;32m    890\u001b[0m \u001b[43m    \u001b[49m\u001b[43mvalid_names\u001b[49m\u001b[38;5;241;43m=\u001b[39;49m\u001b[43meval_names\u001b[49m\u001b[43m,\u001b[49m\n\u001b[0;32m    891\u001b[0m \u001b[43m    \u001b[49m\u001b[43mfeval\u001b[49m\u001b[38;5;241;43m=\u001b[39;49m\u001b[43meval_metrics_callable\u001b[49m\u001b[43m,\u001b[49m\u001b[43m  \u001b[49m\u001b[38;5;66;43;03m# type: ignore[arg-type]\u001b[39;49;00m\n\u001b[0;32m    892\u001b[0m \u001b[43m    \u001b[49m\u001b[43minit_model\u001b[49m\u001b[38;5;241;43m=\u001b[39;49m\u001b[43minit_model\u001b[49m\u001b[43m,\u001b[49m\n\u001b[0;32m    893\u001b[0m \u001b[43m    \u001b[49m\u001b[43mfeature_name\u001b[49m\u001b[38;5;241;43m=\u001b[39;49m\u001b[43mfeature_name\u001b[49m\u001b[43m,\u001b[49m\n\u001b[0;32m    894\u001b[0m \u001b[43m    \u001b[49m\u001b[43mcallbacks\u001b[49m\u001b[38;5;241;43m=\u001b[39;49m\u001b[43mcallbacks\u001b[49m\n\u001b[0;32m    895\u001b[0m \u001b[43m\u001b[49m\u001b[43m)\u001b[49m\n\u001b[0;32m    897\u001b[0m \u001b[38;5;28mself\u001b[39m\u001b[38;5;241m.\u001b[39m_evals_result \u001b[38;5;241m=\u001b[39m evals_result\n\u001b[0;32m    898\u001b[0m \u001b[38;5;28mself\u001b[39m\u001b[38;5;241m.\u001b[39m_best_iteration \u001b[38;5;241m=\u001b[39m \u001b[38;5;28mself\u001b[39m\u001b[38;5;241m.\u001b[39m_Booster\u001b[38;5;241m.\u001b[39mbest_iteration\n",
      "File \u001b[1;32mc:\\Users\\pauls\\miniconda3\\envs\\introtoml\\lib\\site-packages\\lightgbm\\engine.py:255\u001b[0m, in \u001b[0;36mtrain\u001b[1;34m(params, train_set, num_boost_round, valid_sets, valid_names, feval, init_model, feature_name, categorical_feature, keep_training_booster, callbacks)\u001b[0m\n\u001b[0;32m    253\u001b[0m \u001b[38;5;66;03m# construct booster\u001b[39;00m\n\u001b[0;32m    254\u001b[0m \u001b[38;5;28;01mtry\u001b[39;00m:\n\u001b[1;32m--> 255\u001b[0m     booster \u001b[38;5;241m=\u001b[39m \u001b[43mBooster\u001b[49m\u001b[43m(\u001b[49m\u001b[43mparams\u001b[49m\u001b[38;5;241;43m=\u001b[39;49m\u001b[43mparams\u001b[49m\u001b[43m,\u001b[49m\u001b[43m \u001b[49m\u001b[43mtrain_set\u001b[49m\u001b[38;5;241;43m=\u001b[39;49m\u001b[43mtrain_set\u001b[49m\u001b[43m)\u001b[49m\n\u001b[0;32m    256\u001b[0m     \u001b[38;5;28;01mif\u001b[39;00m is_valid_contain_train:\n\u001b[0;32m    257\u001b[0m         booster\u001b[38;5;241m.\u001b[39mset_train_data_name(train_data_name)\n",
      "File \u001b[1;32mc:\\Users\\pauls\\miniconda3\\envs\\introtoml\\lib\\site-packages\\lightgbm\\basic.py:3433\u001b[0m, in \u001b[0;36mBooster.__init__\u001b[1;34m(self, params, train_set, model_file, model_str)\u001b[0m\n\u001b[0;32m   3426\u001b[0m     \u001b[38;5;28mself\u001b[39m\u001b[38;5;241m.\u001b[39mset_network(\n\u001b[0;32m   3427\u001b[0m         machines\u001b[38;5;241m=\u001b[39mmachines,\n\u001b[0;32m   3428\u001b[0m         local_listen_port\u001b[38;5;241m=\u001b[39mparams[\u001b[38;5;124m\"\u001b[39m\u001b[38;5;124mlocal_listen_port\u001b[39m\u001b[38;5;124m\"\u001b[39m],\n\u001b[0;32m   3429\u001b[0m         listen_time_out\u001b[38;5;241m=\u001b[39mparams\u001b[38;5;241m.\u001b[39mget(\u001b[38;5;124m\"\u001b[39m\u001b[38;5;124mtime_out\u001b[39m\u001b[38;5;124m\"\u001b[39m, \u001b[38;5;241m120\u001b[39m),\n\u001b[0;32m   3430\u001b[0m         num_machines\u001b[38;5;241m=\u001b[39mparams[\u001b[38;5;124m\"\u001b[39m\u001b[38;5;124mnum_machines\u001b[39m\u001b[38;5;124m\"\u001b[39m]\n\u001b[0;32m   3431\u001b[0m     )\n\u001b[0;32m   3432\u001b[0m \u001b[38;5;66;03m# construct booster object\u001b[39;00m\n\u001b[1;32m-> 3433\u001b[0m \u001b[43mtrain_set\u001b[49m\u001b[38;5;241;43m.\u001b[39;49m\u001b[43mconstruct\u001b[49m\u001b[43m(\u001b[49m\u001b[43m)\u001b[49m\n\u001b[0;32m   3434\u001b[0m \u001b[38;5;66;03m# copy the parameters from train_set\u001b[39;00m\n\u001b[0;32m   3435\u001b[0m params\u001b[38;5;241m.\u001b[39mupdate(train_set\u001b[38;5;241m.\u001b[39mget_params())\n",
      "File \u001b[1;32mc:\\Users\\pauls\\miniconda3\\envs\\introtoml\\lib\\site-packages\\lightgbm\\basic.py:2462\u001b[0m, in \u001b[0;36mDataset.construct\u001b[1;34m(self)\u001b[0m\n\u001b[0;32m   2455\u001b[0m             \u001b[38;5;28mself\u001b[39m\u001b[38;5;241m.\u001b[39m_set_init_score_by_predictor(\n\u001b[0;32m   2456\u001b[0m                 predictor\u001b[38;5;241m=\u001b[39m\u001b[38;5;28mself\u001b[39m\u001b[38;5;241m.\u001b[39m_predictor,\n\u001b[0;32m   2457\u001b[0m                 data\u001b[38;5;241m=\u001b[39m\u001b[38;5;28mself\u001b[39m\u001b[38;5;241m.\u001b[39mdata,\n\u001b[0;32m   2458\u001b[0m                 used_indices\u001b[38;5;241m=\u001b[39mused_indices\n\u001b[0;32m   2459\u001b[0m             )\n\u001b[0;32m   2460\u001b[0m \u001b[38;5;28;01melse\u001b[39;00m:\n\u001b[0;32m   2461\u001b[0m     \u001b[38;5;66;03m# create train\u001b[39;00m\n\u001b[1;32m-> 2462\u001b[0m     \u001b[38;5;28;43mself\u001b[39;49m\u001b[38;5;241;43m.\u001b[39;49m\u001b[43m_lazy_init\u001b[49m\u001b[43m(\u001b[49m\u001b[43mdata\u001b[49m\u001b[38;5;241;43m=\u001b[39;49m\u001b[38;5;28;43mself\u001b[39;49m\u001b[38;5;241;43m.\u001b[39;49m\u001b[43mdata\u001b[49m\u001b[43m,\u001b[49m\u001b[43m \u001b[49m\u001b[43mlabel\u001b[49m\u001b[38;5;241;43m=\u001b[39;49m\u001b[38;5;28;43mself\u001b[39;49m\u001b[38;5;241;43m.\u001b[39;49m\u001b[43mlabel\u001b[49m\u001b[43m,\u001b[49m\u001b[43m \u001b[49m\u001b[43mreference\u001b[49m\u001b[38;5;241;43m=\u001b[39;49m\u001b[38;5;28;43;01mNone\u001b[39;49;00m\u001b[43m,\u001b[49m\n\u001b[0;32m   2463\u001b[0m \u001b[43m                    \u001b[49m\u001b[43mweight\u001b[49m\u001b[38;5;241;43m=\u001b[39;49m\u001b[38;5;28;43mself\u001b[39;49m\u001b[38;5;241;43m.\u001b[39;49m\u001b[43mweight\u001b[49m\u001b[43m,\u001b[49m\u001b[43m \u001b[49m\u001b[43mgroup\u001b[49m\u001b[38;5;241;43m=\u001b[39;49m\u001b[38;5;28;43mself\u001b[39;49m\u001b[38;5;241;43m.\u001b[39;49m\u001b[43mgroup\u001b[49m\u001b[43m,\u001b[49m\n\u001b[0;32m   2464\u001b[0m \u001b[43m                    \u001b[49m\u001b[43minit_score\u001b[49m\u001b[38;5;241;43m=\u001b[39;49m\u001b[38;5;28;43mself\u001b[39;49m\u001b[38;5;241;43m.\u001b[39;49m\u001b[43minit_score\u001b[49m\u001b[43m,\u001b[49m\u001b[43m \u001b[49m\u001b[43mpredictor\u001b[49m\u001b[38;5;241;43m=\u001b[39;49m\u001b[38;5;28;43mself\u001b[39;49m\u001b[38;5;241;43m.\u001b[39;49m\u001b[43m_predictor\u001b[49m\u001b[43m,\u001b[49m\n\u001b[0;32m   2465\u001b[0m \u001b[43m                    \u001b[49m\u001b[43mfeature_name\u001b[49m\u001b[38;5;241;43m=\u001b[39;49m\u001b[38;5;28;43mself\u001b[39;49m\u001b[38;5;241;43m.\u001b[39;49m\u001b[43mfeature_name\u001b[49m\u001b[43m,\u001b[49m\u001b[43m \u001b[49m\u001b[43mcategorical_feature\u001b[49m\u001b[38;5;241;43m=\u001b[39;49m\u001b[38;5;28;43mself\u001b[39;49m\u001b[38;5;241;43m.\u001b[39;49m\u001b[43mcategorical_feature\u001b[49m\u001b[43m,\u001b[49m\n\u001b[0;32m   2466\u001b[0m \u001b[43m                    \u001b[49m\u001b[43mparams\u001b[49m\u001b[38;5;241;43m=\u001b[39;49m\u001b[38;5;28;43mself\u001b[39;49m\u001b[38;5;241;43m.\u001b[39;49m\u001b[43mparams\u001b[49m\u001b[43m,\u001b[49m\u001b[43m \u001b[49m\u001b[43mposition\u001b[49m\u001b[38;5;241;43m=\u001b[39;49m\u001b[38;5;28;43mself\u001b[39;49m\u001b[38;5;241;43m.\u001b[39;49m\u001b[43mposition\u001b[49m\u001b[43m)\u001b[49m\n\u001b[0;32m   2467\u001b[0m \u001b[38;5;28;01mif\u001b[39;00m \u001b[38;5;28mself\u001b[39m\u001b[38;5;241m.\u001b[39mfree_raw_data:\n\u001b[0;32m   2468\u001b[0m     \u001b[38;5;28mself\u001b[39m\u001b[38;5;241m.\u001b[39mdata \u001b[38;5;241m=\u001b[39m \u001b[38;5;28;01mNone\u001b[39;00m\n",
      "File \u001b[1;32mc:\\Users\\pauls\\miniconda3\\envs\\introtoml\\lib\\site-packages\\lightgbm\\basic.py:2101\u001b[0m, in \u001b[0;36mDataset._lazy_init\u001b[1;34m(self, data, label, reference, weight, group, init_score, predictor, feature_name, categorical_feature, params, position)\u001b[0m\n\u001b[0;32m   2099\u001b[0m         \u001b[38;5;28;01mraise\u001b[39;00m \u001b[38;5;167;01mTypeError\u001b[39;00m(\u001b[38;5;124mf\u001b[39m\u001b[38;5;124m'\u001b[39m\u001b[38;5;124mCannot initialize Dataset from \u001b[39m\u001b[38;5;132;01m{\u001b[39;00m\u001b[38;5;28mtype\u001b[39m(data)\u001b[38;5;241m.\u001b[39m\u001b[38;5;18m__name__\u001b[39m\u001b[38;5;132;01m}\u001b[39;00m\u001b[38;5;124m'\u001b[39m) \u001b[38;5;28;01mfrom\u001b[39;00m \u001b[38;5;21;01merr\u001b[39;00m\n\u001b[0;32m   2100\u001b[0m \u001b[38;5;28;01mif\u001b[39;00m label \u001b[38;5;129;01mis\u001b[39;00m \u001b[38;5;129;01mnot\u001b[39;00m \u001b[38;5;28;01mNone\u001b[39;00m:\n\u001b[1;32m-> 2101\u001b[0m     \u001b[38;5;28;43mself\u001b[39;49m\u001b[38;5;241;43m.\u001b[39;49m\u001b[43mset_label\u001b[49m\u001b[43m(\u001b[49m\u001b[43mlabel\u001b[49m\u001b[43m)\u001b[49m\n\u001b[0;32m   2102\u001b[0m \u001b[38;5;28;01mif\u001b[39;00m \u001b[38;5;28mself\u001b[39m\u001b[38;5;241m.\u001b[39mget_label() \u001b[38;5;129;01mis\u001b[39;00m \u001b[38;5;28;01mNone\u001b[39;00m:\n\u001b[0;32m   2103\u001b[0m     \u001b[38;5;28;01mraise\u001b[39;00m \u001b[38;5;167;01mValueError\u001b[39;00m(\u001b[38;5;124m\"\u001b[39m\u001b[38;5;124mLabel should not be None\u001b[39m\u001b[38;5;124m\"\u001b[39m)\n",
      "File \u001b[1;32mc:\\Users\\pauls\\miniconda3\\envs\\introtoml\\lib\\site-packages\\lightgbm\\basic.py:2892\u001b[0m, in \u001b[0;36mDataset.set_label\u001b[1;34m(self, label)\u001b[0m\n\u001b[0;32m   2890\u001b[0m     \u001b[38;5;28;01melse\u001b[39;00m:\n\u001b[0;32m   2891\u001b[0m         label_array \u001b[38;5;241m=\u001b[39m _list_to_1d_numpy(label, dtype\u001b[38;5;241m=\u001b[39mnp\u001b[38;5;241m.\u001b[39mfloat32, name\u001b[38;5;241m=\u001b[39m\u001b[38;5;124m'\u001b[39m\u001b[38;5;124mlabel\u001b[39m\u001b[38;5;124m'\u001b[39m)\n\u001b[1;32m-> 2892\u001b[0m     \u001b[38;5;28;43mself\u001b[39;49m\u001b[38;5;241;43m.\u001b[39;49m\u001b[43mset_field\u001b[49m\u001b[43m(\u001b[49m\u001b[38;5;124;43m'\u001b[39;49m\u001b[38;5;124;43mlabel\u001b[39;49m\u001b[38;5;124;43m'\u001b[39;49m\u001b[43m,\u001b[49m\u001b[43m \u001b[49m\u001b[43mlabel_array\u001b[49m\u001b[43m)\u001b[49m\n\u001b[0;32m   2893\u001b[0m     \u001b[38;5;28mself\u001b[39m\u001b[38;5;241m.\u001b[39mlabel \u001b[38;5;241m=\u001b[39m \u001b[38;5;28mself\u001b[39m\u001b[38;5;241m.\u001b[39mget_field(\u001b[38;5;124m'\u001b[39m\u001b[38;5;124mlabel\u001b[39m\u001b[38;5;124m'\u001b[39m)  \u001b[38;5;66;03m# original values can be modified at cpp side\u001b[39;00m\n\u001b[0;32m   2894\u001b[0m \u001b[38;5;28;01mreturn\u001b[39;00m \u001b[38;5;28mself\u001b[39m\n",
      "File \u001b[1;32mc:\\Users\\pauls\\miniconda3\\envs\\introtoml\\lib\\site-packages\\lightgbm\\basic.py:2682\u001b[0m, in \u001b[0;36mDataset.set_field\u001b[1;34m(self, field_name, data)\u001b[0m\n\u001b[0;32m   2680\u001b[0m \u001b[38;5;28;01mif\u001b[39;00m type_data \u001b[38;5;241m!=\u001b[39m _FIELD_TYPE_MAPPER[field_name]:\n\u001b[0;32m   2681\u001b[0m     \u001b[38;5;28;01mraise\u001b[39;00m \u001b[38;5;167;01mTypeError\u001b[39;00m(\u001b[38;5;124m\"\u001b[39m\u001b[38;5;124mInput type error for set_field\u001b[39m\u001b[38;5;124m\"\u001b[39m)\n\u001b[1;32m-> 2682\u001b[0m \u001b[43m_safe_call\u001b[49m\u001b[43m(\u001b[49m\u001b[43m_LIB\u001b[49m\u001b[38;5;241;43m.\u001b[39;49m\u001b[43mLGBM_DatasetSetField\u001b[49m\u001b[43m(\u001b[49m\n\u001b[0;32m   2683\u001b[0m \u001b[43m    \u001b[49m\u001b[38;5;28;43mself\u001b[39;49m\u001b[38;5;241;43m.\u001b[39;49m\u001b[43m_handle\u001b[49m\u001b[43m,\u001b[49m\n\u001b[0;32m   2684\u001b[0m \u001b[43m    \u001b[49m\u001b[43m_c_str\u001b[49m\u001b[43m(\u001b[49m\u001b[43mfield_name\u001b[49m\u001b[43m)\u001b[49m\u001b[43m,\u001b[49m\n\u001b[0;32m   2685\u001b[0m \u001b[43m    \u001b[49m\u001b[43mptr_data\u001b[49m\u001b[43m,\u001b[49m\n\u001b[0;32m   2686\u001b[0m \u001b[43m    \u001b[49m\u001b[43mctypes\u001b[49m\u001b[38;5;241;43m.\u001b[39;49m\u001b[43mc_int\u001b[49m\u001b[43m(\u001b[49m\u001b[38;5;28;43mlen\u001b[39;49m\u001b[43m(\u001b[49m\u001b[43mdata\u001b[49m\u001b[43m)\u001b[49m\u001b[43m)\u001b[49m\u001b[43m,\u001b[49m\n\u001b[0;32m   2687\u001b[0m \u001b[43m    \u001b[49m\u001b[43mctypes\u001b[49m\u001b[38;5;241;43m.\u001b[39;49m\u001b[43mc_int\u001b[49m\u001b[43m(\u001b[49m\u001b[43mtype_data\u001b[49m\u001b[43m)\u001b[49m\u001b[43m)\u001b[49m\u001b[43m)\u001b[49m\n\u001b[0;32m   2688\u001b[0m \u001b[38;5;28mself\u001b[39m\u001b[38;5;241m.\u001b[39mversion \u001b[38;5;241m+\u001b[39m\u001b[38;5;241m=\u001b[39m \u001b[38;5;241m1\u001b[39m\n\u001b[0;32m   2689\u001b[0m \u001b[38;5;28;01mreturn\u001b[39;00m \u001b[38;5;28mself\u001b[39m\n",
      "File \u001b[1;32mc:\\Users\\pauls\\miniconda3\\envs\\introtoml\\lib\\site-packages\\lightgbm\\basic.py:263\u001b[0m, in \u001b[0;36m_safe_call\u001b[1;34m(ret)\u001b[0m\n\u001b[0;32m    255\u001b[0m \u001b[38;5;250m\u001b[39m\u001b[38;5;124;03m\"\"\"Check the return value from C API call.\u001b[39;00m\n\u001b[0;32m    256\u001b[0m \n\u001b[0;32m    257\u001b[0m \u001b[38;5;124;03mParameters\u001b[39;00m\n\u001b[1;32m   (...)\u001b[0m\n\u001b[0;32m    260\u001b[0m \u001b[38;5;124;03m    The return value from C API calls.\u001b[39;00m\n\u001b[0;32m    261\u001b[0m \u001b[38;5;124;03m\"\"\"\u001b[39;00m\n\u001b[0;32m    262\u001b[0m \u001b[38;5;28;01mif\u001b[39;00m ret \u001b[38;5;241m!=\u001b[39m \u001b[38;5;241m0\u001b[39m:\n\u001b[1;32m--> 263\u001b[0m     \u001b[38;5;28;01mraise\u001b[39;00m LightGBMError(_LIB\u001b[38;5;241m.\u001b[39mLGBM_GetLastError()\u001b[38;5;241m.\u001b[39mdecode(\u001b[38;5;124m'\u001b[39m\u001b[38;5;124mutf-8\u001b[39m\u001b[38;5;124m'\u001b[39m))\n",
      "\u001b[1;31mLightGBMError\u001b[0m: Length of labels differs from the length of #data"
     ]
    }
   ],
   "source": [
    "boost_no_feat_eng_Q2 =LGBMClassifier(\n",
    "    random_state=42,\n",
    "    verbose=-1,\n",
    "    n_jobs=-1\n",
    ")\n",
    "\n",
    "boost_no_feat_eng_Q2.fit(emb_ptb_train_Q2, y_train_full)\n",
    "\n",
    "y_preds = boost_no_feat_eng_Q2.predict(emb_ptb_test_Q2)"
   ]
  },
  {
   "cell_type": "code",
   "execution_count": null,
   "metadata": {},
   "outputs": [],
   "source": []
  },
  {
   "cell_type": "markdown",
   "metadata": {},
   "source": [
    "# MLP output layers"
   ]
  },
  {
   "cell_type": "code",
   "execution_count": 56,
   "metadata": {},
   "outputs": [
    {
     "ename": "NameError",
     "evalue": "name 'PTB_Dataset' is not defined",
     "output_type": "error",
     "traceback": [
      "\u001b[1;31m---------------------------------------------------------------------------\u001b[0m",
      "\u001b[1;31mNameError\u001b[0m                                 Traceback (most recent call last)",
      "Cell \u001b[1;32mIn[56], line 2\u001b[0m\n\u001b[0;32m      1\u001b[0m ptb_train_loader \u001b[38;5;241m=\u001b[39m DataLoader(\n\u001b[1;32m----> 2\u001b[0m     \u001b[43mPTB_Dataset\u001b[49m(emb_ptb_train_Q1, y_train_full),\n\u001b[0;32m      3\u001b[0m     batch_size\u001b[38;5;241m=\u001b[39m\u001b[38;5;241m32\u001b[39m,\n\u001b[0;32m      4\u001b[0m     shuffle\u001b[38;5;241m=\u001b[39m\u001b[38;5;28;01mTrue\u001b[39;00m,\n\u001b[0;32m      5\u001b[0m     pin_memory\u001b[38;5;241m=\u001b[39m\u001b[38;5;28;01mTrue\u001b[39;00m,\n\u001b[0;32m      6\u001b[0m     num_workers\u001b[38;5;241m=\u001b[39m\u001b[38;5;241m0\u001b[39m,\n\u001b[0;32m      7\u001b[0m )\n\u001b[0;32m      8\u001b[0m ptb_test_loader \u001b[38;5;241m=\u001b[39m DataLoader(\n\u001b[0;32m      9\u001b[0m     PTB_Dataset(emb_ptb_testn_Q1, y_test),\n\u001b[0;32m     10\u001b[0m     batch_size\u001b[38;5;241m=\u001b[39m\u001b[38;5;241m32\u001b[39m,\n\u001b[1;32m   (...)\u001b[0m\n\u001b[0;32m     13\u001b[0m     num_workers\u001b[38;5;241m=\u001b[39m\u001b[38;5;241m0\u001b[39m,\n\u001b[0;32m     14\u001b[0m )\n",
      "\u001b[1;31mNameError\u001b[0m: name 'PTB_Dataset' is not defined"
     ]
    }
   ],
   "source": [
    "ptb_train_loader = DataLoader(\n",
    "    PTB_Dataset(emb_ptb_train_Q1, y_train_full),\n",
    "    batch_size=32,\n",
    "    shuffle=True,\n",
    "    pin_memory=True,\n",
    "    num_workers=0,\n",
    ")\n",
    "ptb_test_loader = DataLoader(\n",
    "    PTB_Dataset(emb_ptb_testn_Q1, y_test),\n",
    "    batch_size=32,\n",
    "    shuffle=False,\n",
    "    pin_memory=True,\n",
    "    num_workers=0,\n",
    ")"
   ]
  },
  {
   "cell_type": "code",
   "execution_count": 55,
   "metadata": {},
   "outputs": [],
   "source": [
    "class MLP(nn.Module):\n",
    "    def __init__(\n",
    "        self,\n",
    "        in_size: int,\n",
    "        out_size: int = 2,\n",
    "        hidden_profile: list[int] = [1024],\n",
    "        dropout: float = 0.0,\n",
    "    ):\n",
    "        super(MLP, self).__init__()\n",
    "\n",
    "        self.layers = []\n",
    "        # add first hidden layer\n",
    "        self.layers.append(nn.Linear(in_size, hidden_profile[0]))\n",
    "        self.layers.append(nn.ReLU())\n",
    "        self.layers.append(nn.Dropout(dropout))\n",
    "\n",
    "        # loop through hidden profile and add hidden layers\n",
    "        for hidden_in_size, hidden_out_size in zip(\n",
    "            hidden_profile[:-1], hidden_profile[1:]\n",
    "        ):            \n",
    "            self.layers.append(nn.Linear(hidden_in_size, hidden_out_size))\n",
    "            self.layers.append(nn.ReLU())\n",
    "            self.layers.append(nn.Dropout(dropout))\n",
    "\n",
    "        # add output layer\n",
    "        self.layers.append(nn.Linear(hidden_profile[-1], out_size))\n",
    "\n",
    "        self.nn = nn.Sequential(*self.layers)\n",
    "\n",
    "    def forward(self, x: torch.Tensor) -> torch.Tensor:\n",
    "        x = self.nn(x)\n",
    "        return x  # Squeeze the output here to ensure correct shape for BCEWithLogitsLoss\n",
    "    \n",
    "\n",
    "model = MLP(\n",
    "    in_size=256,\n",
    "    out_size=2,\n",
    "    hidden_profile=[512, 256, 128, 64, 32],\n",
    "    dropout=0.3\n",
    ").to(DEVICE)\n"
   ]
  },
  {
   "cell_type": "code",
   "execution_count": null,
   "metadata": {},
   "outputs": [],
   "source": []
  },
  {
   "cell_type": "markdown",
   "metadata": {},
   "source": [
    "#TODO Check out HODL for step C, i.e. freezing the Encoder part for the first e.g. 20 epochs, only training the output layers and then after some point start training them both together"
   ]
  },
  {
   "cell_type": "code",
   "execution_count": null,
   "metadata": {},
   "outputs": [],
   "source": [
    "train_and_validate(\n",
    "    model=model,\n",
    "    train_loader=train_loader,\n",
    "    val_loader=val_loader,\n",
    "    optimizer=optimizer,\n",
    "    criterion=criterion,\n",
    "    n_epochs=N_EPOCHS,\n",
    "    ES=ES,\n",
    "    scheduler=scheduler,\n",
    "    summary_writer=writer,\n",
    "    device=DEVICE,\n",
    "    use_penalized_BCE=False\n",
    ")\n",
    "\n",
    "test_loss, test_f1_score, balanced_accuracy, model_probs, y_true = test(\n",
    "    model=model,\n",
    "    test_loader=test_loader,\n",
    "    criterion=criterion,\n",
    "    device=DEVICE,\n",
    ")"
   ]
  }
 ],
 "metadata": {
  "kernelspec": {
   "display_name": "Python 3",
   "language": "python",
   "name": "python3"
  },
  "language_info": {
   "codemirror_mode": {
    "name": "ipython",
    "version": 3
   },
   "file_extension": ".py",
   "mimetype": "text/x-python",
   "name": "python",
   "nbconvert_exporter": "python",
   "pygments_lexer": "ipython3",
   "version": "3.9.18"
  }
 },
 "nbformat": 4,
 "nbformat_minor": 2
}
