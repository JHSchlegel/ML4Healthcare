{
 "cells": [
  {
   "cell_type": "code",
   "execution_count": 1,
   "metadata": {},
   "outputs": [],
   "source": [
    "#%autoreload\n",
    "\n",
    "import pandas as pd\n",
    "import numpy as np\n",
    "import torch\n",
    "import torch.nn as nn\n",
    "import torch.optim as optim\n",
    "import torch.nn.functional as F\n",
    "import yaml\n",
    "from tqdm import tqdm, trange\n",
    "import os\n",
    "import matplotlib.pyplot as plt\n",
    "from sklearn.metrics import (\n",
    "    f1_score, \n",
    "    balanced_accuracy_score, \n",
    "    confusion_matrix,\n",
    "    ConfusionMatrixDisplay, \n",
    "    accuracy_score,\n",
    "    classification_report\n",
    ")\n",
    "from torch.utils.data import Dataset, DataLoader\n",
    "\n",
    "from sklearn.model_selection import train_test_split\n",
    "\n",
    "from torch.utils.tensorboard import SummaryWriter\n",
    "from imblearn.over_sampling import SMOTE\n",
    "import pandas as pd\n",
    "import numpy as np\n",
    "import yaml\n",
    "import os\n",
    "\n",
    "from sklearn.metrics import (\n",
    "    f1_score, \n",
    "    balanced_accuracy_score,\n",
    "    confusion_matrix,\n",
    "    ConfusionMatrixDisplay,\n",
    "    accuracy_score,\n",
    "    classification_report\n",
    ")\n",
    "import matplotlib.pyplot as plt\n",
    "import seaborn as sns \n",
    "from lightgbm import LGBMClassifier\n",
    "pd.set_option('display.max_columns', None)\n",
    "from torch import nn, Tensor\n",
    "\n",
    "from cnn_utils import (\n",
    "    PTB_Dataset,\n",
    "    EarlyStopping,\n",
    "    set_all_seeds,\n",
    "    train_and_validate,\n",
    "    test,\n",
    ")\n",
    "#os.getcwd()"
   ]
  },
  {
   "cell_type": "code",
   "execution_count": 2,
   "metadata": {},
   "outputs": [],
   "source": [
    "#%load_ext autoreload"
   ]
  },
  {
   "cell_type": "code",
   "execution_count": 2,
   "metadata": {},
   "outputs": [],
   "source": [
    "DEVICE = torch.device(\"cuda:0\" if torch.cuda.is_available() else \"cpu\")\n",
    "SEED = 42\n",
    "\n",
    "TRAIN_BATCH_SIZE = 32\n",
    "VAL_BATCH_SIZE = 256\n",
    "TEST_BATCH_SIZE = 256\n",
    "\n",
    "N_EPOCHS=10"
   ]
  },
  {
   "cell_type": "code",
   "execution_count": 39,
   "metadata": {},
   "outputs": [
    {
     "name": "stdout",
     "output_type": "stream",
     "text": [
      "(16808, 187) (16808,)\n",
      "(array([0., 1.]), array([8404, 8404], dtype=int64))\n"
     ]
    }
   ],
   "source": [
    "path= r'C:\\Users\\pauls\\Desktop\\Studium\\Machine Learning for Health Care\\Projekt 2\\project2_TS_input'\n",
    "#path = \"../../data\"\n",
    "TEST_BATCH_SIZE = 256\n",
    "SEED = 42\n",
    "\n",
    "ptb_read_train = pd.read_csv(os.path.join(path, 'ptbdb_train.csv'), header=None)\n",
    "ptb_read_test = pd.read_csv(os.path.join(path, 'ptbdb_test.csv'), header=None)\n",
    "X_ptb_train = ptb_read_train.iloc[:, :-1].to_numpy()\n",
    "X_ptb_test = ptb_read_test.iloc[:, :-1].to_numpy()\n",
    "y_ptb_train = ptb_read_train.iloc[:, -1].to_numpy()\n",
    "y_ptb_test = ptb_read_test.iloc[:, -1].to_numpy()\n",
    "\n",
    "sm = SMOTE(random_state=SEED)\n",
    "X_ptb_train_resampled, y_ptb_train_resampled = sm.fit_resample(X_ptb_train, y_ptb_train)\n",
    "print(X_ptb_train_resampled.shape, y_ptb_train_resampled.shape)\n",
    "print(np.unique(y_ptb_train_resampled, return_counts=True))\n",
    "\n",
    "# Apply the data loader to the datasets ptb train\n",
    "ptb_loader_train = DataLoader(\n",
    "    PTB_Dataset(X_ptb_train_resampled, y_ptb_train_resampled),\n",
    "    batch_size=TEST_BATCH_SIZE,\n",
    "    shuffle=False,\n",
    "    pin_memory=True,\n",
    "    num_workers=0,\n",
    ")\n",
    "\n",
    "# Apply the data loader to the datasets ptb test\n",
    "ptb_loader_test = DataLoader(\n",
    "    PTB_Dataset(X_ptb_test, y_ptb_test),\n",
    "    batch_size=TEST_BATCH_SIZE,\n",
    "    shuffle=False,\n",
    "    pin_memory=True,\n",
    "    num_workers=0,\n",
    ")"
   ]
  },
  {
   "cell_type": "markdown",
   "metadata": {},
   "source": [
    "## Creating the embeddings:"
   ]
  },
  {
   "cell_type": "markdown",
   "metadata": {},
   "source": [
    "### Embeddings from the CNN encoder (Q1)"
   ]
  },
  {
   "cell_type": "code",
   "execution_count": 40,
   "metadata": {},
   "outputs": [
    {
     "data": {
      "text/plain": [
       "<All keys matched successfully>"
      ]
     },
     "execution_count": 40,
     "metadata": {},
     "output_type": "execute_result"
    }
   ],
   "source": [
    "class CNN(nn.Module):\n",
    "    def __init__(self, classes_num: int, in_channels: int):\n",
    "        super().__init__()\n",
    "\n",
    "        self.conv1 = self._create_conv_block(in_channels, 32, 3, 1)\n",
    "        self.conv2 = self._create_conv_block(32, 64, 3, 1)\n",
    "        self.conv3 = self._create_conv_block(64, 128, 3, 1)\n",
    "        self.adaptive_pool = nn.AdaptiveAvgPool1d(output_size = 10)\n",
    "\n",
    "        self.flatten = nn.Flatten(1)\n",
    "        self.fc = nn.Sequential(\n",
    "            nn.Linear(1280, 256),\n",
    "            nn.Hardswish(),\n",
    "            nn.Dropout(p=0.2),\n",
    "            nn.Linear(256, classes_num)\n",
    "        )\n",
    "\n",
    "    def forward(self, x: Tensor) -> Tensor:\n",
    "        x = x.unsqueeze(1)\n",
    "        x = self.conv1(x)\n",
    "        x = self.conv2(x)\n",
    "        x = self.conv3(x)\n",
    "        x = self.adaptive_pool(x)\n",
    "        x = self.flatten(x)\n",
    "        x = self.fc(x)\n",
    "        return x  \n",
    "\n",
    "    def _create_conv_block(self, in_channels: int, out_channels: int, kernel_size: int, stride: int):\n",
    "        return nn.Sequential(\n",
    "            nn.Conv1d(\n",
    "                in_channels=in_channels,\n",
    "                out_channels=out_channels,\n",
    "                kernel_size=kernel_size,\n",
    "                stride=stride,\n",
    "                padding=1,\n",
    "                bias=False\n",
    "            ),\n",
    "            nn.BatchNorm1d(out_channels),\n",
    "            nn.ReLU(),\n",
    "            nn.MaxPool1d(kernel_size=2, stride=2)\n",
    "        )\n",
    "\n",
    "class ModifiedCNN(CNN):\n",
    "    def forward(self, x: torch.Tensor) -> torch.Tensor:\n",
    "        x = x.unsqueeze(1)\n",
    "        x = self.conv1(x)\n",
    "        x = self.conv2(x)\n",
    "        x = self.conv3(x)\n",
    "        x = self.adaptive_pool(x)\n",
    "        x = self.flatten(x)\n",
    "        x = self.fc[0](x)\n",
    "        return x\n",
    "\n",
    "# Replace CNN with the modified version that returns the last conv layer output\n",
    "model_Q1 = ModifiedCNN(classes_num=5, in_channels=1)\n",
    "\n",
    "path_Q1 = \"../transfer_learning/cnn_best_model_MIT.pth\"\n",
    "\n",
    "model_Q1.load_state_dict(torch.load(path_Q1,map_location=DEVICE))"
   ]
  },
  {
   "cell_type": "code",
   "execution_count": 41,
   "metadata": {},
   "outputs": [],
   "source": [
    "# Obtain representations\n",
    "# Initialize an empty list to store the embeddings\n",
    "embeddings_ptb_train = []\n",
    "\n",
    "# Ensure the model is in evaluation mode\n",
    "model_Q1.eval()\n",
    "\n",
    "# No need to track gradients for this\n",
    "with torch.no_grad():\n",
    "    # Iterate over the dataset\n",
    "    for inputs, _ in ptb_loader_train:\n",
    "        # Move the inputs to the same device as the model\n",
    "        inputs = inputs.to(DEVICE)\n",
    "\n",
    "        # Get the embeddings for this batch and append to the list\n",
    "        embedding = model_Q1(inputs)\n",
    "        embeddings_ptb_train.append(embedding.cpu().numpy())\n",
    "\n",
    "# Convert the list of embeddings to a single numpy array\n",
    "emb_ptb_train_Q1 = np.concatenate(embeddings_ptb_train, axis=0)"
   ]
  },
  {
   "cell_type": "code",
   "execution_count": 42,
   "metadata": {},
   "outputs": [],
   "source": [
    "embeddings_ptb_test = []\n",
    "\n",
    "# No need to track gradients for this\n",
    "with torch.no_grad():\n",
    "    # Iterate over the dataset\n",
    "    for inputs, _ in ptb_loader_test:\n",
    "        # Move the inputs to the same device as the model\n",
    "        inputs = inputs.to(DEVICE)\n",
    "\n",
    "        # Get the embeddings for this batch and append to the list\n",
    "        embedding = model_Q1(inputs)\n",
    "        embeddings_ptb_test.append(embedding.cpu().numpy())\n",
    "\n",
    "# Convert the list of embeddings to a single numpy array\n",
    "emb_ptb_test_Q1 = np.concatenate(embeddings_ptb_test, axis=0)"
   ]
  },
  {
   "cell_type": "code",
   "execution_count": 43,
   "metadata": {},
   "outputs": [],
   "source": [
    "def stand(df):\n",
    "    df_new = (df-df.mean())/df.std()\n",
    "    return pd.DataFrame(df_new)\n",
    "\n",
    "emb_ptb_train_Q1 = stand(emb_ptb_train_Q1)\n",
    "emb_ptb_test_Q1 = stand(emb_ptb_test_Q1)"
   ]
  },
  {
   "cell_type": "code",
   "execution_count": 47,
   "metadata": {},
   "outputs": [
    {
     "name": "stdout",
     "output_type": "stream",
     "text": [
      "(16808, 256)\n",
      "(16808,)\n"
     ]
    }
   ],
   "source": [
    "print(emb_ptb_train_Q1.shape)\n",
    "print(y_ptb_train_resampled.shape)"
   ]
  },
  {
   "cell_type": "code",
   "execution_count": 48,
   "metadata": {},
   "outputs": [],
   "source": [
    "boost_no_feat_eng_Q1 =LGBMClassifier(\n",
    "    random_state=42,\n",
    "    verbose=-1,\n",
    "    n_jobs=-1,\n",
    "    n_estimators=1000\n",
    ")\n",
    "boost_no_feat_eng_Q1.fit(emb_ptb_train_Q1, y_ptb_train_resampled)\n",
    "\n",
    "y_preds = boost_no_feat_eng_Q1.predict(emb_ptb_test_Q1)"
   ]
  },
  {
   "cell_type": "code",
   "execution_count": 49,
   "metadata": {},
   "outputs": [
    {
     "data": {
      "text/plain": [
       "<sklearn.metrics._plot.confusion_matrix.ConfusionMatrixDisplay at 0x2d2842805e0>"
      ]
     },
     "execution_count": 49,
     "metadata": {},
     "output_type": "execute_result"
    },
    {
     "data": {
      "image/png": "[encoded data removed]",
      "text/plain": [
       "<Figure size 640x480 with 2 Axes>"
      ]
     },
     "metadata": {},
     "output_type": "display_data"
    }
   ],
   "source": [
    "cm = confusion_matrix(y_ptb_test, y_preds)\n",
    "disp = ConfusionMatrixDisplay(confusion_matrix=cm, display_labels=[0, 1])\n",
    "disp.plot()"
   ]
  },
  {
   "cell_type": "code",
   "execution_count": 50,
   "metadata": {},
   "outputs": [
    {
     "name": "stdout",
     "output_type": "stream",
     "text": [
      "Test accuracy: 0.986946\n",
      "Test balanced accuracy: 0.982597\n",
      "Test f1 score: 0.990974\n",
      "Test precision: 0.989564\n",
      "Test recall: 0.992388\n"
     ]
    }
   ],
   "source": [
    "# calculate precision and recall:\n",
    "tn, fp, fn, tp = cm.ravel()\n",
    "precision = tp / (tp + fp)\n",
    "recall = tp / (tp + fn)\n",
    "\n",
    "print(f\"Test accuracy: {accuracy_score(y_ptb_test, y_preds):.6f}\")\n",
    "print(f\"Test balanced accuracy: {balanced_accuracy_score(y_ptb_test, y_preds):.6f}\")\n",
    "print(f\"Test f1 score: {f1_score(y_ptb_test, y_preds):.6f}\")\n",
    "print(f\"Test precision: {precision:.6f}\")\n",
    "print(f\"Test recall: {recall:.6f}\")"
   ]
  },
  {
   "cell_type": "code",
   "execution_count": 51,
   "metadata": {},
   "outputs": [
    {
     "name": "stdout",
     "output_type": "stream",
     "text": [
      "              precision    recall  f1-score   support\n",
      "\n",
      "         0.0       0.98      0.97      0.98       809\n",
      "         1.0       0.99      0.99      0.99      2102\n",
      "\n",
      "    accuracy                           0.99      2911\n",
      "   macro avg       0.98      0.98      0.98      2911\n",
      "weighted avg       0.99      0.99      0.99      2911\n",
      "\n"
     ]
    }
   ],
   "source": [
    "print(classification_report(y_ptb_test, y_preds))"
   ]
  },
  {
   "cell_type": "markdown",
   "metadata": {},
   "source": [
    "### Embeddings Q2"
   ]
  },
  {
   "cell_type": "code",
   "execution_count": 23,
   "metadata": {},
   "outputs": [],
   "source": [
    "latent_dim = 256"
   ]
  },
  {
   "cell_type": "code",
   "execution_count": 24,
   "metadata": {},
   "outputs": [],
   "source": [
    "# We based our CNN on this: https://medium.com/@chen-yu/building-a-customized-residual-cnn-with-pytorch-471810e894ed\n",
    "class CNNEncoder(nn.Module):\n",
    "    def __init__(self, latent_dim: int, in_channels: int):\n",
    "        super().__init__()\n",
    "\n",
    "        self.conv1 = self._create_conv_block(in_channels, 32, 3, 1)\n",
    "        self.conv2 = self._create_conv_block(32, 64, 3, 1)\n",
    "        self.conv3 = self._create_conv_block(64, 128, 3, 1)\n",
    "        self.adaptive_pool = nn.AdaptiveAvgPool1d(output_size = 10)\n",
    "        \n",
    "        \n",
    "        # Flattening and final linear layer\n",
    "        self.flatten = nn.Flatten(1)\n",
    "        self.fc = nn.Linear(1280, latent_dim)\n",
    "\n",
    "    def forward(self, x: Tensor) -> Tensor:\n",
    "        x = x.unsqueeze(1) # Add channel dimension\n",
    "        # now: [batch_size, in_channels, seq_len] i.e. [batch_size, 1, 187]\n",
    "        \n",
    "        x = self.conv1(x)\n",
    "        x = self.conv2(x)\n",
    "        x = self.conv3(x)\n",
    "        x = self.adaptive_pool(x)\n",
    "        \n",
    "        x = self.flatten(x)\n",
    "        x = self.fc(x)\n",
    "        return x\n",
    "    \n",
    "    def _create_conv_block(self, in_channels: int, out_channels: int, kernel_size: int, stride: int):\n",
    "        return nn.Sequential(\n",
    "            nn.Conv1d(\n",
    "                in_channels=in_channels, \n",
    "                out_channels=out_channels, \n",
    "                kernel_size=kernel_size, \n",
    "                stride=stride, \n",
    "                padding=1, \n",
    "                bias=False\n",
    "            ),\n",
    "            nn.BatchNorm1d(out_channels),\n",
    "            nn.ReLU(),\n",
    "            nn.MaxPool1d(kernel_size=2, stride=2)\n",
    "        )\n",
    "\n",
    "\n",
    "set_all_seeds(SEED)\n",
    "encoder=CNNEncoder(latent_dim=latent_dim, in_channels=1).to(DEVICE)"
   ]
  },
  {
   "cell_type": "code",
   "execution_count": 26,
   "metadata": {},
   "outputs": [
    {
     "data": {
      "text/plain": [
       "<All keys matched successfully>"
      ]
     },
     "execution_count": 26,
     "metadata": {},
     "output_type": "execute_result"
    }
   ],
   "source": [
    "model_Q2 = CNNEncoder(latent_dim=latent_dim, in_channels=1).to(DEVICE)\n",
    "model_Q2.load_state_dict(torch.load(\"../weights/encoder_q2.pth\", map_location=DEVICE))"
   ]
  },
  {
   "cell_type": "code",
   "execution_count": 52,
   "metadata": {},
   "outputs": [],
   "source": [
    "embeddings_ptb_train = []\n",
    "\n",
    "# Ensure the model is in evaluation mode\n",
    "model_Q2.eval()\n",
    "\n",
    "# No need to track gradients for this\n",
    "with torch.no_grad():\n",
    "    # Iterate over the dataset\n",
    "    for inputs, _ in ptb_loader_train:\n",
    "        # Move the inputs to the same device as the model\n",
    "        inputs = inputs.to(DEVICE)\n",
    "\n",
    "        # Get the embeddings for this batch and append to the list\n",
    "        embedding = model_Q2(inputs)\n",
    "        embeddings_ptb_train.append(embedding.cpu().numpy())\n",
    "\n",
    "# Convert the list of embeddings to a single numpy array\n",
    "emb_ptb_train_Q2 = np.concatenate(embeddings_ptb_train, axis=0)"
   ]
  },
  {
   "cell_type": "code",
   "execution_count": 53,
   "metadata": {},
   "outputs": [],
   "source": [
    "embeddings_ptb_test = []\n",
    "\n",
    "# No need to track gradients for this\n",
    "with torch.no_grad():\n",
    "    # Iterate over the dataset\n",
    "    for inputs, _ in ptb_loader_test:\n",
    "        # Move the inputs to the same device as the model\n",
    "        inputs = inputs.to(DEVICE)\n",
    "\n",
    "        # Get the embeddings for this batch and append to the list\n",
    "        embedding = model_Q2(inputs)\n",
    "        embeddings_ptb_test.append(embedding.cpu().numpy())\n",
    "\n",
    "# Convert the list of embeddings to a single numpy array\n",
    "emb_ptb_test_Q2 = np.concatenate(embeddings_ptb_test, axis=0)"
   ]
  },
  {
   "cell_type": "code",
   "execution_count": 54,
   "metadata": {},
   "outputs": [],
   "source": [
    "emb_ptb_train_Q2 = stand(emb_ptb_train_Q2)\n",
    "emb_ptb_test_Q2 = stand(emb_ptb_test_Q2)"
   ]
  },
  {
   "cell_type": "code",
   "execution_count": 55,
   "metadata": {},
   "outputs": [],
   "source": [
    "boost_no_feat_eng_Q2 =LGBMClassifier(\n",
    "    random_state=42,\n",
    "    verbose=-1,\n",
    "    n_jobs=-1,\n",
    "    n_estimators=1000\n",
    ")\n",
    "boost_no_feat_eng_Q2.fit(emb_ptb_train_Q2, y_ptb_train_resampled)\n",
    "\n",
    "y_preds = boost_no_feat_eng_Q2.predict(emb_ptb_test_Q2)"
   ]
  },
  {
   "cell_type": "code",
   "execution_count": 56,
   "metadata": {},
   "outputs": [
    {
     "data": {
      "text/plain": [
       "<sklearn.metrics._plot.confusion_matrix.ConfusionMatrixDisplay at 0x2d283e940d0>"
      ]
     },
     "execution_count": 56,
     "metadata": {},
     "output_type": "execute_result"
    },
    {
     "data": {
      "image/png": "[encoded data removed]",
      "text/plain": [
       "<Figure size 640x480 with 2 Axes>"
      ]
     },
     "metadata": {},
     "output_type": "display_data"
    }
   ],
   "source": [
    "cm = confusion_matrix(y_ptb_test, y_preds)\n",
    "disp = ConfusionMatrixDisplay(confusion_matrix=cm, display_labels=[0, 1])\n",
    "disp.plot()"
   ]
  },
  {
   "cell_type": "code",
   "execution_count": 57,
   "metadata": {},
   "outputs": [
    {
     "name": "stdout",
     "output_type": "stream",
     "text": [
      "Test accuracy: 0.974923\n",
      "Test balanced accuracy: 0.967048\n",
      "Test f1 score: 0.982673\n",
      "Test precision: 0.980578\n",
      "Test recall: 0.984776\n"
     ]
    }
   ],
   "source": [
    "# calculate precision and recall:\n",
    "tn, fp, fn, tp = cm.ravel()\n",
    "precision = tp / (tp + fp)\n",
    "recall = tp / (tp + fn)\n",
    "\n",
    "print(f\"Test accuracy: {accuracy_score(y_ptb_test, y_preds):.6f}\")\n",
    "print(f\"Test balanced accuracy: {balanced_accuracy_score(y_ptb_test, y_preds):.6f}\")\n",
    "print(f\"Test f1 score: {f1_score(y_ptb_test, y_preds):.6f}\")\n",
    "print(f\"Test precision: {precision:.6f}\")\n",
    "print(f\"Test recall: {recall:.6f}\")"
   ]
  },
  {
   "cell_type": "code",
   "execution_count": 58,
   "metadata": {},
   "outputs": [
    {
     "name": "stdout",
     "output_type": "stream",
     "text": [
      "              precision    recall  f1-score   support\n",
      "\n",
      "         0.0       0.96      0.95      0.95       809\n",
      "         1.0       0.98      0.98      0.98      2102\n",
      "\n",
      "    accuracy                           0.97      2911\n",
      "   macro avg       0.97      0.97      0.97      2911\n",
      "weighted avg       0.97      0.97      0.97      2911\n",
      "\n"
     ]
    }
   ],
   "source": [
    "print(classification_report(y_ptb_test, y_preds))"
   ]
  },
  {
   "cell_type": "markdown",
   "metadata": {},
   "source": [
    "# MLP output layers"
   ]
  },
  {
   "cell_type": "markdown",
   "metadata": {},
   "source": [
    "For the MLP layers, we'll first have to introduce a training / validation split. Note that we only apply SMOTE on the training set after the train/ validation split has been done."
   ]
  },
  {
   "cell_type": "code",
   "execution_count": 37,
   "metadata": {},
   "outputs": [
    {
     "name": "stdout",
     "output_type": "stream",
     "text": [
      "(13612, 187) (13612,)\n",
      "(array([0., 1.]), array([6806, 6806], dtype=int64))\n"
     ]
    }
   ],
   "source": [
    "X_ptb_train, X_ptb_val, y_ptb_train, y_ptb_val = train_test_split(\n",
    "    X_ptb_train,\n",
    "    y_ptb_train,\n",
    "    test_size=0.1, \n",
    "    stratify=y_ptb_train, \n",
    "    random_state=42\n",
    ")\n",
    "\n",
    "sm = SMOTE(random_state=SEED)\n",
    "X_ptb_train_resampled, y_ptb_train_resampled = sm.fit_resample(X_ptb_train, y_ptb_train)\n",
    "print(X_ptb_train_resampled.shape, y_ptb_train_resampled.shape)\n",
    "print(np.unique(y_ptb_train_resampled, return_counts=True))\n"
   ]
  },
  {
   "cell_type": "markdown",
   "metadata": {},
   "source": [
    "It seems like before the Dataloader got the embeddings as the intput. I will have to think about how to go about this."
   ]
  },
  {
   "cell_type": "code",
   "execution_count": 56,
   "metadata": {},
   "outputs": [
    {
     "ename": "NameError",
     "evalue": "name 'PTB_Dataset' is not defined",
     "output_type": "error",
     "traceback": [
      "\u001b[1;31m---------------------------------------------------------------------------\u001b[0m",
      "\u001b[1;31mNameError\u001b[0m                                 Traceback (most recent call last)",
      "Cell \u001b[1;32mIn[56], line 2\u001b[0m\n\u001b[0;32m      1\u001b[0m ptb_train_loader \u001b[38;5;241m=\u001b[39m DataLoader(\n\u001b[1;32m----> 2\u001b[0m     \u001b[43mPTB_Dataset\u001b[49m(emb_ptb_train_Q1, y_train_full),\n\u001b[0;32m      3\u001b[0m     batch_size\u001b[38;5;241m=\u001b[39m\u001b[38;5;241m32\u001b[39m,\n\u001b[0;32m      4\u001b[0m     shuffle\u001b[38;5;241m=\u001b[39m\u001b[38;5;28;01mTrue\u001b[39;00m,\n\u001b[0;32m      5\u001b[0m     pin_memory\u001b[38;5;241m=\u001b[39m\u001b[38;5;28;01mTrue\u001b[39;00m,\n\u001b[0;32m      6\u001b[0m     num_workers\u001b[38;5;241m=\u001b[39m\u001b[38;5;241m0\u001b[39m,\n\u001b[0;32m      7\u001b[0m )\n\u001b[0;32m      8\u001b[0m ptb_test_loader \u001b[38;5;241m=\u001b[39m DataLoader(\n\u001b[0;32m      9\u001b[0m     PTB_Dataset(emb_ptb_testn_Q1, y_test),\n\u001b[0;32m     10\u001b[0m     batch_size\u001b[38;5;241m=\u001b[39m\u001b[38;5;241m32\u001b[39m,\n\u001b[1;32m   (...)\u001b[0m\n\u001b[0;32m     13\u001b[0m     num_workers\u001b[38;5;241m=\u001b[39m\u001b[38;5;241m0\u001b[39m,\n\u001b[0;32m     14\u001b[0m )\n",
      "\u001b[1;31mNameError\u001b[0m: name 'PTB_Dataset' is not defined"
     ]
    }
   ],
   "source": [
    "ptb_train_loader = DataLoader(\n",
    "    PTB_Dataset(emb_ptb_train_Q1, y_train_full),\n",
    "    batch_size=32,\n",
    "    shuffle=True,\n",
    "    pin_memory=True,\n",
    "    num_workers=0,\n",
    ")\n",
    "ptb_test_loader = DataLoader(\n",
    "    PTB_Dataset(emb_ptb_testn_Q1, y_test),\n",
    "    batch_size=32,\n",
    "    shuffle=False,\n",
    "    pin_memory=True,\n",
    "    num_workers=0,\n",
    ")\n",
    "\n",
    "mitbih_train_loader_augmented = DataLoader(\n",
    "    MITBIH_Augment_Dataset(mitbih_X_train),\n",
    "    batch_size=config[\"dataloader\"][\"augmented_train_batch_size\"],\n",
    "    shuffle=True,\n",
    "    pin_memory=True,\n",
    "    num_workers=0,\n",
    ")\n",
    "\n",
    "mitbih_val_loader_augmented = DataLoader(\n",
    "    MITBIH_Augment_Dataset(mitbih_X_val),\n",
    "    batch_size=config[\"dataloader\"][\"augmented_val_batch_size\"],\n",
    "    shuffle=False,\n",
    "    pin_memory=True,\n",
    "    num_workers=0,\n",
    ")"
   ]
  },
  {
   "cell_type": "code",
   "execution_count": 55,
   "metadata": {},
   "outputs": [],
   "source": [
    "class MLP(nn.Module):\n",
    "    def __init__(\n",
    "        self,\n",
    "        in_size: int,\n",
    "        out_size: int = 2,\n",
    "        hidden_profile: list[int] = [1024],\n",
    "        dropout: float = 0.0,\n",
    "    ):\n",
    "        super(MLP, self).__init__()\n",
    "\n",
    "        self.layers = []\n",
    "        # add first hidden layer\n",
    "        self.layers.append(nn.Linear(in_size, hidden_profile[0]))\n",
    "        self.layers.append(nn.ReLU())\n",
    "        self.layers.append(nn.Dropout(dropout))\n",
    "\n",
    "        # loop through hidden profile and add hidden layers\n",
    "        for hidden_in_size, hidden_out_size in zip(\n",
    "            hidden_profile[:-1], hidden_profile[1:]\n",
    "        ):            \n",
    "            self.layers.append(nn.Linear(hidden_in_size, hidden_out_size))\n",
    "            self.layers.append(nn.ReLU())\n",
    "            self.layers.append(nn.Dropout(dropout))\n",
    "\n",
    "        # add output layer\n",
    "        self.layers.append(nn.Linear(hidden_profile[-1], out_size))\n",
    "\n",
    "        self.nn = nn.Sequential(*self.layers)\n",
    "\n",
    "    def forward(self, x: torch.Tensor) -> torch.Tensor:\n",
    "        x = self.nn(x)\n",
    "        return x  # Squeeze the output here to ensure correct shape for BCEWithLogitsLoss\n",
    "    \n",
    "\n",
    "model = MLP(\n",
    "    in_size=256,\n",
    "    out_size=2,\n",
    "    hidden_profile=[512, 256, 128, 64, 32],\n",
    "    dropout=0.3\n",
    ").to(DEVICE)\n"
   ]
  },
  {
   "cell_type": "code",
   "execution_count": null,
   "metadata": {},
   "outputs": [],
   "source": []
  },
  {
   "cell_type": "markdown",
   "metadata": {},
   "source": [
    "#TODO Check out HODL for step C, i.e. freezing the Encoder part for the first e.g. 20 epochs, only training the output layers and then after some point start training them both together"
   ]
  },
  {
   "cell_type": "code",
   "execution_count": null,
   "metadata": {},
   "outputs": [],
   "source": [
    "train_and_validate(\n",
    "    model=model,\n",
    "    train_loader=train_loader,\n",
    "    val_loader=val_loader,\n",
    "    optimizer=optimizer,\n",
    "    criterion=criterion,\n",
    "    n_epochs=N_EPOCHS,\n",
    "    ES=ES,\n",
    "    scheduler=scheduler,\n",
    "    summary_writer=writer,\n",
    "    device=DEVICE,\n",
    "    use_penalized_BCE=False\n",
    ")\n",
    "\n",
    "test_loss, test_f1_score, balanced_accuracy, model_probs, y_true = test(\n",
    "    model=model,\n",
    "    test_loader=test_loader,\n",
    "    criterion=criterion,\n",
    "    device=DEVICE,\n",
    ")"
   ]
  }
 ],
 "metadata": {
  "kernelspec": {
   "display_name": "Python 3",
   "language": "python",
   "name": "python3"
  },
  "language_info": {
   "codemirror_mode": {
    "name": "ipython",
    "version": 3
   },
   "file_extension": ".py",
   "mimetype": "text/x-python",
   "name": "python",
   "nbconvert_exporter": "python",
   "pygments_lexer": "ipython3",
   "version": "3.9.18"
  }
 },
 "nbformat": 4,
 "nbformat_minor": 2
}
