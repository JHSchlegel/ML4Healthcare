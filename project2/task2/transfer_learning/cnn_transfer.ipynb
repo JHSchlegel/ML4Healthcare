{
 "cells": [
  {
   "cell_type": "code",
   "execution_count": 24,
   "metadata": {
    "id": "cjmQlOC5iDGb",
    "executionInfo": {
     "status": "ok",
     "timestamp": 1715350179350,
     "user_tz": -120,
     "elapsed": 293,
     "user": {
      "displayName": "Gianfranco Basile",
      "userId": "13294037408742824037"
     }
    },
    "ExecuteTime": {
     "end_time": "2024-05-11T07:45:18.778023Z",
     "start_time": "2024-05-11T07:45:18.752897Z"
    }
   },
   "outputs": [],
   "source": [
    "import pandas as pd\n",
    "import numpy as np\n",
    "import torch\n",
    "import torch.nn as nn\n",
    "import torch.optim as optim\n",
    "\n",
    "import os\n",
    "\n",
    "import matplotlib.pyplot as plt\n",
    "import seaborn as sns\n",
    "\n",
    "\n",
    "from sklearn.metrics import (\n",
    "    f1_score,\n",
    "    balanced_accuracy_score,\n",
    "    confusion_matrix,\n",
    " \n",
    "    accuracy_score,\n",
    "\n",
    "    precision_score,\n",
    "    recall_score\n",
    ")\n",
    "from torch.utils.data import DataLoader\n",
    "\n",
    "from sklearn.model_selection import train_test_split\n",
    "\n",
    "from torch.utils.tensorboard import SummaryWriter\n",
    "from imblearn.over_sampling import SMOTE\n",
    "path =r\"C:\\Users\\gianf\\Desktop\\ETH\\II_Semestre\\ML4HC\\ML4Healthcare\\project2\\task2\\transfer_learning\"\n",
    "os.chdir(path)\n",
    "\n",
    "import warnings\n",
    "\n",
    "from cnn_utils_transf import (\n",
    "    PTB_Dataset,\n",
    "    EarlyStopping,\n",
    "    set_all_seeds,\n",
    "    train_and_validate,\n",
    "    test,\n",
    ")\n",
    "\n",
    "from torch import Tensor\n",
    "\n",
    "pd.set_option('display.max_columns', None)"
   ]
  },
  {
   "cell_type": "code",
   "execution_count": 4,
   "metadata": {
    "id": "aV7wb8sDiDGe",
    "executionInfo": {
     "status": "ok",
     "timestamp": 1715346931776,
     "user_tz": -120,
     "elapsed": 281,
     "user": {
      "displayName": "Gianfranco Basile",
      "userId": "13294037408742824037"
     }
    },
    "ExecuteTime": {
     "end_time": "2024-05-11T07:42:07.931660Z",
     "start_time": "2024-05-11T07:42:07.918940Z"
    }
   },
   "outputs": [],
   "source": [
    "DEVICE = torch.device(\"cuda:0\" if torch.cuda.is_available() else \"cpu\")\n",
    "SEED = 42\n",
    "\n",
    "TRAIN_BATCH_SIZE = 32\n",
    "VAL_BATCH_SIZE = 256\n",
    "TEST_BATCH_SIZE = 256\n",
    "\n",
    "N_EPOCHS=200\n"
   ]
  },
  {
   "cell_type": "code",
   "execution_count": 5,
   "metadata": {
    "id": "2gHcvMHoiDGh",
    "ExecuteTime": {
     "end_time": "2024-05-11T07:42:18.721076Z",
     "start_time": "2024-05-11T07:42:12.738301Z"
    }
   },
   "outputs": [],
   "source": [
    "# Load data\n",
    "train_df = pd.read_csv(os.path.join(path, 'mitbih_train.csv'), header=None)\n",
    "test_df = pd.read_csv(os.path.join(path, 'mitbih_test.csv'), header=None)"
   ]
  },
  {
   "cell_type": "code",
   "outputs": [
    {
     "data": {
      "text/plain": "array([0., 1., 2., 3., 4.])"
     },
     "execution_count": 6,
     "metadata": {},
     "output_type": "execute_result"
    }
   ],
   "source": [
    "train_df.iloc[:,-1].unique()"
   ],
   "metadata": {
    "id": "elS3SR1QiDGi",
    "ExecuteTime": {
     "end_time": "2024-05-11T07:42:21.021513Z",
     "start_time": "2024-05-11T07:42:20.994383Z"
    }
   },
   "execution_count": 6
  },
  {
   "cell_type": "code",
   "execution_count": 7,
   "metadata": {
    "id": "Y-X4EtPEiDGi",
    "executionInfo": {
     "status": "ok",
     "timestamp": 1715346961699,
     "user_tz": -120,
     "elapsed": 284,
     "user": {
      "displayName": "Gianfranco Basile",
      "userId": "13294037408742824037"
     }
    },
    "ExecuteTime": {
     "end_time": "2024-05-11T07:42:24.392089Z",
     "start_time": "2024-05-11T07:42:24.380738Z"
    }
   },
   "outputs": [],
   "source": [
    "X_train_full = train_df.iloc[:, :-1].to_numpy()\n",
    "y_train_full = train_df.iloc[:, -1].to_numpy()\n",
    "\n",
    "X_test = test_df.iloc[:, :-1].to_numpy()\n",
    "y_test = test_df.iloc[:, -1].to_numpy()"
   ]
  },
  {
   "cell_type": "code",
   "outputs": [],
   "source": [
    "import matplotlib as plt\n",
    "counts = [np.count_nonzero(y_train_full==0),\n",
    "np.count_nonzero(y_train_full==1),\n",
    "np.count_nonzero(y_train_full==2),\n",
    "np.count_nonzero(y_train_full==3),\n",
    "np.count_nonzero(y_train_full==4)]"
   ],
   "metadata": {
    "id": "ykTOI7mpiDGj",
    "executionInfo": {
     "status": "ok",
     "timestamp": 1715346961705,
     "user_tz": -120,
     "elapsed": 8,
     "user": {
      "displayName": "Gianfranco Basile",
      "userId": "13294037408742824037"
     }
    },
    "ExecuteTime": {
     "end_time": "2024-05-11T07:42:25.377375Z",
     "start_time": "2024-05-11T07:42:25.352371Z"
    }
   },
   "execution_count": 8
  },
  {
   "cell_type": "code",
   "outputs": [
    {
     "data": {
      "text/plain": "<BarContainer object of 5 artists>"
     },
     "execution_count": 9,
     "metadata": {},
     "output_type": "execute_result"
    },
    {
     "data": {
      "text/plain": "<Figure size 640x480 with 1 Axes>",
      "image/png": "[encoded data removed]"
     },
     "metadata": {},
     "output_type": "display_data"
    }
   ],
   "source": [
    "plt.pyplot.bar([0,1,2,3,4],counts)"
   ],
   "metadata": {
    "colab": {
     "base_uri": "https://localhost:8080/",
     "height": 447
    },
    "id": "ZhVT0EXViDGs",
    "executionInfo": {
     "status": "ok",
     "timestamp": 1715264725239,
     "user_tz": -120,
     "elapsed": 13,
     "user": {
      "displayName": "Gianfranco Basile",
      "userId": "13294037408742824037"
     }
    },
    "outputId": "157d25ec-1636-4576-9a5e-75ef65556b66",
    "ExecuteTime": {
     "end_time": "2024-05-11T07:42:26.506896Z",
     "start_time": "2024-05-11T07:42:26.074054Z"
    }
   },
   "execution_count": 9
  },
  {
   "cell_type": "markdown",
   "metadata": {
    "id": "nXKVCjcEiDGs"
   },
   "source": [
    "Split into train and validation sets:"
   ]
  },
  {
   "cell_type": "code",
   "execution_count": 10,
   "metadata": {
    "id": "Sf-icDcBiDGt",
    "executionInfo": {
     "status": "ok",
     "timestamp": 1715346971136,
     "user_tz": -120,
     "elapsed": 901,
     "user": {
      "displayName": "Gianfranco Basile",
      "userId": "13294037408742824037"
     }
    },
    "ExecuteTime": {
     "end_time": "2024-05-11T07:42:30.876718Z",
     "start_time": "2024-05-11T07:42:30.293578Z"
    }
   },
   "outputs": [],
   "source": [
    "X_train, X_val, y_train, y_val = train_test_split(\n",
    "    X_train_full, y_train_full, test_size=0.2, stratify=y_train_full, random_state=SEED\n",
    ")"
   ]
  },
  {
   "cell_type": "markdown",
   "metadata": {
    "id": "akpjBLlWiDGu"
   },
   "source": [
    "Moreover, to deal with the large class imbalance, which we discovered in our EDA, we will use SMOTE oversampling to balance the classes in the training set and provide some data augmentation."
   ]
  },
  {
   "cell_type": "code",
   "execution_count": 11,
   "metadata": {
    "id": "RyscCCxPiDGu",
    "executionInfo": {
     "status": "ok",
     "timestamp": 1715346976649,
     "user_tz": -120,
     "elapsed": 3722,
     "user": {
      "displayName": "Gianfranco Basile",
      "userId": "13294037408742824037"
     }
    },
    "ExecuteTime": {
     "end_time": "2024-05-11T07:42:35.207603Z",
     "start_time": "2024-05-11T07:42:32.879962Z"
    }
   },
   "outputs": [],
   "source": [
    "sm = SMOTE(random_state=SEED)\n",
    "X_train, y_train = sm.fit_resample(X_train, y_train)"
   ]
  },
  {
   "cell_type": "code",
   "execution_count": 12,
   "metadata": {
    "id": "0f0AotToiDGv",
    "executionInfo": {
     "status": "ok",
     "timestamp": 1715346981432,
     "user_tz": -120,
     "elapsed": 1414,
     "user": {
      "displayName": "Gianfranco Basile",
      "userId": "13294037408742824037"
     }
    },
    "ExecuteTime": {
     "end_time": "2024-05-11T07:42:36.927678Z",
     "start_time": "2024-05-11T07:42:36.843804Z"
    }
   },
   "outputs": [],
   "source": [
    "train_loader = DataLoader(\n",
    "        PTB_Dataset(X_train, y_train),\n",
    "        batch_size=TRAIN_BATCH_SIZE,\n",
    "        shuffle=True,\n",
    "        pin_memory=True,\n",
    "        num_workers=0,\n",
    "    )\n",
    "val_loader = DataLoader(\n",
    "    PTB_Dataset(X_val, y_val),\n",
    "    batch_size=VAL_BATCH_SIZE,\n",
    "    shuffle=False,\n",
    "    pin_memory=True,\n",
    "    num_workers=0,\n",
    ")\n",
    "\n",
    "test_loader = DataLoader(\n",
    "    PTB_Dataset(X_test, y_test),\n",
    "    batch_size=TEST_BATCH_SIZE,\n",
    "    shuffle=False,\n",
    "    pin_memory=True,\n",
    "    num_workers=0,\n",
    ")"
   ]
  },
  {
   "cell_type": "markdown",
   "metadata": {
    "id": "YkybkZ2KiDGw"
   },
   "source": [
    "# The CNN:"
   ]
  },
  {
   "cell_type": "markdown",
   "metadata": {
    "id": "wNivZPQOiDGw"
   },
   "source": [
    "## CNN Class Definition:"
   ]
  },
  {
   "cell_type": "code",
   "execution_count": 13,
   "metadata": {
    "id": "uXH8Zn1yiDGx",
    "executionInfo": {
     "status": "ok",
     "timestamp": 1715346982337,
     "user_tz": -120,
     "elapsed": 475,
     "user": {
      "displayName": "Gianfranco Basile",
      "userId": "13294037408742824037"
     }
    },
    "ExecuteTime": {
     "end_time": "2024-05-11T07:42:39.594113Z",
     "start_time": "2024-05-11T07:42:39.563147Z"
    }
   },
   "outputs": [],
   "source": [
    "# We based our CNN on this: https://medium.com/@chen-yu/building-a-customized-residual-cnn-with-pytorch-471810e894ed\n",
    "\n",
    "class CNN(nn.Module):\n",
    "    def __init__(self, classes_num: int, in_channels: int):\n",
    "        super().__init__()\n",
    "\n",
    "        # Initial convolution layer\n",
    "        # self.conv = nn.Conv1d(\n",
    "        #     in_channels=in_channels,\n",
    "        #     out_channels=16,\n",
    "        #     #kernel_size=(3, 3),\n",
    "        #     kernel_size=3,\n",
    "        #     padding='same',\n",
    "        #     bias=False\n",
    "        # )\n",
    "        # self.bn = nn.BatchNorm1d(16)\n",
    "        # self.relu = nn.ReLU()\n",
    "        self.conv1 = self._create_conv_block(in_channels, 32, 3, 1)\n",
    "        self.conv2 = self._create_conv_block(32, 64, 3, 1)\n",
    "        self.conv3 = self._create_conv_block(64, 128, 3, 1)\n",
    "        self.adaptive_pool = nn.AdaptiveAvgPool1d(output_size = 10)\n",
    "\n",
    "\n",
    "        #Out features from the 4 blocks of residual layers: 128\n",
    "\n",
    "\n",
    "        # Flattening and final linear layer\n",
    "        self.flatten = nn.Flatten(1)\n",
    "        #self.dropout = nn.Dropout(p=0.2)\n",
    "        self.fc = nn.Sequential(\n",
    "            nn.Linear(1280, 256),\n",
    "            nn.Hardswish(),\n",
    "            nn.Dropout(p=0.2),\n",
    "            nn.Linear(256, classes_num)\n",
    "        )\n",
    "\n",
    "    def forward(self, x: Tensor) -> Tensor:\n",
    "        x = x.unsqueeze(1) # Add channel dimension\n",
    "        # now: [batch_size, in_channels, seq_len] i.e. [batch_size, 1, 187]\n",
    "\n",
    "\n",
    "\n",
    "        # x = self.conv(x)\n",
    "        # x = self.bn(x)\n",
    "        # x = self.relu(x)\n",
    "\n",
    "        # #print(\"Shape after convolution and activation:\", x.shape)\n",
    "\n",
    "        # x = self.flatten(x)\n",
    "        # #print(\"Shape after flattening:\", x.shape)\n",
    "        # x = self.dropout(x)\n",
    "        # x = self.linear(x)\n",
    "        # #print(\"Shape after linear layer:\", x.shape)\n",
    "        x = self.conv1(x)\n",
    "        x = self.conv2(x)\n",
    "        x = self.conv3(x)\n",
    "        x = self.adaptive_pool(x)\n",
    "\n",
    "        x = self.flatten(x)\n",
    "        x = self.fc(x)\n",
    "        return x\n",
    "\n",
    "    def _create_conv_block(self, in_channels: int, out_channels: int, kernel_size: int, stride: int):\n",
    "        return nn.Sequential(\n",
    "            nn.Conv1d(\n",
    "                in_channels=in_channels,\n",
    "                out_channels=out_channels,\n",
    "                kernel_size=kernel_size,\n",
    "                stride=stride,\n",
    "                padding=1,\n",
    "                bias=False\n",
    "            ),\n",
    "            nn.BatchNorm1d(out_channels),\n",
    "            nn.ReLU(),\n",
    "            nn.MaxPool1d(kernel_size=2, stride=2)\n",
    "        )\n",
    "\n",
    "\n",
    "set_all_seeds(SEED)\n",
    "model=CNN(classes_num=5, in_channels=1)"
   ]
  },
  {
   "cell_type": "markdown",
   "metadata": {
    "id": "t1Nfn4bTiDGx"
   },
   "source": [
    "## Training the CNN:"
   ]
  },
  {
   "cell_type": "code",
   "execution_count": 14,
   "metadata": {
    "colab": {
     "base_uri": "https://localhost:8080/"
    },
    "id": "EmAlmyiNiDGy",
    "executionInfo": {
     "status": "ok",
     "timestamp": 1715347000994,
     "user_tz": -120,
     "elapsed": 10470,
     "user": {
      "displayName": "Gianfranco Basile",
      "userId": "13294037408742824037"
     }
    },
    "outputId": "5d6535dc-3d85-4d61-e3db-40b118ac089d",
    "ExecuteTime": {
     "end_time": "2024-05-11T07:42:45.432743Z",
     "start_time": "2024-05-11T07:42:42.202616Z"
    }
   },
   "outputs": [
    {
     "name": "stderr",
     "output_type": "stream",
     "text": [
      "C:\\Users\\gianf\\anaconda3\\envs\\ml4hc\\lib\\site-packages\\torch\\optim\\lr_scheduler.py:28: UserWarning: The verbose parameter is deprecated. Please use get_last_lr() to access the learning rate.\n",
      "  warnings.warn(\"The verbose parameter is deprecated. Please use get_last_lr() \"\n"
     ]
    }
   ],
   "source": [
    "model = model.to(DEVICE)\n",
    "\n",
    "optimizer = optim.AdamW(model.parameters(), lr=0.005, weight_decay=0.0001)\n",
    "criterion = torch.nn.CrossEntropyLoss()\n",
    "scheduler = optim.lr_scheduler.ReduceLROnPlateau(\n",
    "    optimizer, \"min\", factor=0.5, patience=5, threshold=1e-06, verbose=1\n",
    ")\n",
    "early_stopping = EarlyStopping(start=20, patience=20, verbose=1, mode=\"max\")"
   ]
  },
  {
   "cell_type": "code",
   "execution_count": 15,
   "metadata": {
    "colab": {
     "base_uri": "https://localhost:8080/",
     "height": 391
    },
    "id": "_DjVvzi2iDGy",
    "executionInfo": {
     "status": "error",
     "timestamp": 1715347004824,
     "user_tz": -120,
     "elapsed": 3840,
     "user": {
      "displayName": "Gianfranco Basile",
      "userId": "13294037408742824037"
     }
    },
    "outputId": "13ff0c02-6fd9-46ba-8950-30fa4cb0b409",
    "ExecuteTime": {
     "end_time": "2024-05-11T07:42:53.192277Z",
     "start_time": "2024-05-11T07:42:46.603574Z"
    }
   },
   "outputs": [
    {
     "name": "stderr",
     "output_type": "stream",
     "text": [
      "  0%|          | 0/200 [00:04<?, ?it/s]\n"
     ]
    },
    {
     "ename": "KeyboardInterrupt",
     "evalue": "",
     "output_type": "error",
     "traceback": [
      "\u001B[1;31m---------------------------------------------------------------------------\u001B[0m",
      "\u001B[1;31mKeyboardInterrupt\u001B[0m                         Traceback (most recent call last)",
      "Cell \u001B[1;32mIn[15], line 1\u001B[0m\n\u001B[1;32m----> 1\u001B[0m model \u001B[38;5;241m=\u001B[39m \u001B[43mtrain_and_validate\u001B[49m\u001B[43m(\u001B[49m\n\u001B[0;32m      2\u001B[0m \u001B[43m    \u001B[49m\u001B[43mmodel\u001B[49m\u001B[43m \u001B[49m\u001B[38;5;241;43m=\u001B[39;49m\u001B[43m \u001B[49m\u001B[43mmodel\u001B[49m\u001B[43m,\u001B[49m\n\u001B[0;32m      3\u001B[0m \u001B[43m    \u001B[49m\u001B[43moptimizer\u001B[49m\u001B[43m \u001B[49m\u001B[38;5;241;43m=\u001B[39;49m\u001B[43m \u001B[49m\u001B[43moptimizer\u001B[49m\u001B[43m,\u001B[49m\n\u001B[0;32m      4\u001B[0m \u001B[43m    \u001B[49m\u001B[43mscheduler\u001B[49m\u001B[43m \u001B[49m\u001B[38;5;241;43m=\u001B[39;49m\u001B[43m \u001B[49m\u001B[43mscheduler\u001B[49m\u001B[43m,\u001B[49m\n\u001B[0;32m      5\u001B[0m \u001B[43m    \u001B[49m\u001B[43mcriterion\u001B[49m\u001B[43m \u001B[49m\u001B[38;5;241;43m=\u001B[39;49m\u001B[43m \u001B[49m\u001B[43mcriterion\u001B[49m\u001B[43m,\u001B[49m\n\u001B[0;32m      6\u001B[0m \u001B[43m    \u001B[49m\u001B[43mtrain_loader\u001B[49m\u001B[43m \u001B[49m\u001B[38;5;241;43m=\u001B[39;49m\u001B[43m \u001B[49m\u001B[43mtrain_loader\u001B[49m\u001B[43m,\u001B[49m\n\u001B[0;32m      7\u001B[0m \u001B[43m    \u001B[49m\u001B[43mval_loader\u001B[49m\u001B[43m \u001B[49m\u001B[38;5;241;43m=\u001B[39;49m\u001B[43m \u001B[49m\u001B[43mval_loader\u001B[49m\u001B[43m,\u001B[49m\n\u001B[0;32m      8\u001B[0m \u001B[43m    \u001B[49m\u001B[43mbest_model_path\u001B[49m\u001B[43m \u001B[49m\u001B[38;5;241;43m=\u001B[39;49m\u001B[43m \u001B[49m\u001B[43mos\u001B[49m\u001B[38;5;241;43m.\u001B[39;49m\u001B[43mpath\u001B[49m\u001B[38;5;241;43m.\u001B[39;49m\u001B[43mjoin\u001B[49m\u001B[43m(\u001B[49m\u001B[43mpath\u001B[49m\u001B[43m,\u001B[49m\u001B[43m \u001B[49m\u001B[38;5;124;43m\"\u001B[39;49m\u001B[38;5;124;43mcnn_best_model_MIT_random.pth\u001B[39;49m\u001B[38;5;124;43m\"\u001B[39;49m\u001B[43m)\u001B[49m\u001B[43m,\u001B[49m\n\u001B[0;32m      9\u001B[0m \u001B[43m    \u001B[49m\u001B[43mdevice\u001B[49m\u001B[43m \u001B[49m\u001B[38;5;241;43m=\u001B[39;49m\u001B[43m \u001B[49m\u001B[43mDEVICE\u001B[49m\u001B[43m,\u001B[49m\n\u001B[0;32m     10\u001B[0m \u001B[43m    \u001B[49m\u001B[43mnum_epochs\u001B[49m\u001B[43m \u001B[49m\u001B[38;5;241;43m=\u001B[39;49m\u001B[43m \u001B[49m\u001B[43mN_EPOCHS\u001B[49m\u001B[43m,\u001B[49m\n\u001B[0;32m     11\u001B[0m \u001B[43m    \u001B[49m\u001B[43mES\u001B[49m\u001B[43m \u001B[49m\u001B[38;5;241;43m=\u001B[39;49m\u001B[43m \u001B[49m\u001B[43mearly_stopping\u001B[49m\n\u001B[0;32m     12\u001B[0m \u001B[43m)\u001B[49m\n",
      "File \u001B[1;32m~\\Desktop\\ETH\\II_Semestre\\ML4HC\\ML4Healthcare\\project2\\task2\\transfer_learning\\cnn_utils_transf.py:238\u001B[0m, in \u001B[0;36mtrain_and_validate\u001B[1;34m(model, optimizer, scheduler, criterion, train_loader, val_loader, best_model_path, device, num_epochs, ES)\u001B[0m\n\u001B[0;32m    236\u001B[0m \u001B[38;5;28;01mfor\u001B[39;00m epoch \u001B[38;5;129;01min\u001B[39;00m t:\n\u001B[0;32m    237\u001B[0m     dct \u001B[38;5;241m=\u001B[39m {}\n\u001B[1;32m--> 238\u001B[0m     train_loss, train_acc, train_balanced_acc, train_f1_score \u001B[38;5;241m=\u001B[39m \u001B[43mtrain_one_epoch\u001B[49m\u001B[43m(\u001B[49m\n\u001B[0;32m    239\u001B[0m \u001B[43m        \u001B[49m\u001B[43mmodel\u001B[49m\u001B[43m,\u001B[49m\u001B[43m \u001B[49m\u001B[43moptimizer\u001B[49m\u001B[43m,\u001B[49m\u001B[43m \u001B[49m\u001B[43mcriterion\u001B[49m\u001B[43m,\u001B[49m\u001B[43m \u001B[49m\u001B[43mtrain_loader\u001B[49m\u001B[43m,\u001B[49m\u001B[43m \u001B[49m\u001B[43mdevice\u001B[49m\n\u001B[0;32m    240\u001B[0m \u001B[43m    \u001B[49m\u001B[43m)\u001B[49m\n\u001B[0;32m    241\u001B[0m     val_loss, val_acc, val_balanced_acc, val_f1_score \u001B[38;5;241m=\u001B[39m validate_one_epoch(\n\u001B[0;32m    242\u001B[0m         model, criterion, val_loader, device\n\u001B[0;32m    243\u001B[0m     )\n\u001B[0;32m    245\u001B[0m     \u001B[38;5;66;03m# update progress bar\u001B[39;00m\n",
      "File \u001B[1;32m~\\Desktop\\ETH\\II_Semestre\\ML4HC\\ML4Healthcare\\project2\\task2\\transfer_learning\\cnn_utils_transf.py:160\u001B[0m, in \u001B[0;36mtrain_one_epoch\u001B[1;34m(model, optimizer, criterion, train_loader, device)\u001B[0m\n\u001B[0;32m    157\u001B[0m seq, label \u001B[38;5;241m=\u001B[39m seq\u001B[38;5;241m.\u001B[39mto(device), label\u001B[38;5;241m.\u001B[39mto(device)\n\u001B[0;32m    158\u001B[0m optimizer\u001B[38;5;241m.\u001B[39mzero_grad()\n\u001B[1;32m--> 160\u001B[0m output \u001B[38;5;241m=\u001B[39m \u001B[43mmodel\u001B[49m\u001B[43m(\u001B[49m\u001B[43mseq\u001B[49m\u001B[43m)\u001B[49m\n\u001B[0;32m    161\u001B[0m loss \u001B[38;5;241m=\u001B[39m criterion(output, label)\n\u001B[0;32m    162\u001B[0m loss\u001B[38;5;241m.\u001B[39mbackward()\n",
      "File \u001B[1;32m~\\anaconda3\\envs\\ml4hc\\lib\\site-packages\\torch\\nn\\modules\\module.py:1511\u001B[0m, in \u001B[0;36mModule._wrapped_call_impl\u001B[1;34m(self, *args, **kwargs)\u001B[0m\n\u001B[0;32m   1509\u001B[0m     \u001B[38;5;28;01mreturn\u001B[39;00m \u001B[38;5;28mself\u001B[39m\u001B[38;5;241m.\u001B[39m_compiled_call_impl(\u001B[38;5;241m*\u001B[39margs, \u001B[38;5;241m*\u001B[39m\u001B[38;5;241m*\u001B[39mkwargs)  \u001B[38;5;66;03m# type: ignore[misc]\u001B[39;00m\n\u001B[0;32m   1510\u001B[0m \u001B[38;5;28;01melse\u001B[39;00m:\n\u001B[1;32m-> 1511\u001B[0m     \u001B[38;5;28;01mreturn\u001B[39;00m \u001B[38;5;28mself\u001B[39m\u001B[38;5;241m.\u001B[39m_call_impl(\u001B[38;5;241m*\u001B[39margs, \u001B[38;5;241m*\u001B[39m\u001B[38;5;241m*\u001B[39mkwargs)\n",
      "File \u001B[1;32m~\\anaconda3\\envs\\ml4hc\\lib\\site-packages\\torch\\nn\\modules\\module.py:1520\u001B[0m, in \u001B[0;36mModule._call_impl\u001B[1;34m(self, *args, **kwargs)\u001B[0m\n\u001B[0;32m   1515\u001B[0m \u001B[38;5;66;03m# If we don't have any hooks, we want to skip the rest of the logic in\u001B[39;00m\n\u001B[0;32m   1516\u001B[0m \u001B[38;5;66;03m# this function, and just call forward.\u001B[39;00m\n\u001B[0;32m   1517\u001B[0m \u001B[38;5;28;01mif\u001B[39;00m \u001B[38;5;129;01mnot\u001B[39;00m (\u001B[38;5;28mself\u001B[39m\u001B[38;5;241m.\u001B[39m_backward_hooks \u001B[38;5;129;01mor\u001B[39;00m \u001B[38;5;28mself\u001B[39m\u001B[38;5;241m.\u001B[39m_backward_pre_hooks \u001B[38;5;129;01mor\u001B[39;00m \u001B[38;5;28mself\u001B[39m\u001B[38;5;241m.\u001B[39m_forward_hooks \u001B[38;5;129;01mor\u001B[39;00m \u001B[38;5;28mself\u001B[39m\u001B[38;5;241m.\u001B[39m_forward_pre_hooks\n\u001B[0;32m   1518\u001B[0m         \u001B[38;5;129;01mor\u001B[39;00m _global_backward_pre_hooks \u001B[38;5;129;01mor\u001B[39;00m _global_backward_hooks\n\u001B[0;32m   1519\u001B[0m         \u001B[38;5;129;01mor\u001B[39;00m _global_forward_hooks \u001B[38;5;129;01mor\u001B[39;00m _global_forward_pre_hooks):\n\u001B[1;32m-> 1520\u001B[0m     \u001B[38;5;28;01mreturn\u001B[39;00m forward_call(\u001B[38;5;241m*\u001B[39margs, \u001B[38;5;241m*\u001B[39m\u001B[38;5;241m*\u001B[39mkwargs)\n\u001B[0;32m   1522\u001B[0m \u001B[38;5;28;01mtry\u001B[39;00m:\n\u001B[0;32m   1523\u001B[0m     result \u001B[38;5;241m=\u001B[39m \u001B[38;5;28;01mNone\u001B[39;00m\n",
      "Cell \u001B[1;32mIn[13], line 56\u001B[0m, in \u001B[0;36mCNN.forward\u001B[1;34m(self, x)\u001B[0m\n\u001B[0;32m     54\u001B[0m x \u001B[38;5;241m=\u001B[39m \u001B[38;5;28mself\u001B[39m\u001B[38;5;241m.\u001B[39mconv1(x)\n\u001B[0;32m     55\u001B[0m x \u001B[38;5;241m=\u001B[39m \u001B[38;5;28mself\u001B[39m\u001B[38;5;241m.\u001B[39mconv2(x)\n\u001B[1;32m---> 56\u001B[0m x \u001B[38;5;241m=\u001B[39m \u001B[38;5;28;43mself\u001B[39;49m\u001B[38;5;241;43m.\u001B[39;49m\u001B[43mconv3\u001B[49m\u001B[43m(\u001B[49m\u001B[43mx\u001B[49m\u001B[43m)\u001B[49m\n\u001B[0;32m     57\u001B[0m x \u001B[38;5;241m=\u001B[39m \u001B[38;5;28mself\u001B[39m\u001B[38;5;241m.\u001B[39madaptive_pool(x)\n\u001B[0;32m     59\u001B[0m x \u001B[38;5;241m=\u001B[39m \u001B[38;5;28mself\u001B[39m\u001B[38;5;241m.\u001B[39mflatten(x)\n",
      "File \u001B[1;32m~\\anaconda3\\envs\\ml4hc\\lib\\site-packages\\torch\\nn\\modules\\module.py:1511\u001B[0m, in \u001B[0;36mModule._wrapped_call_impl\u001B[1;34m(self, *args, **kwargs)\u001B[0m\n\u001B[0;32m   1509\u001B[0m     \u001B[38;5;28;01mreturn\u001B[39;00m \u001B[38;5;28mself\u001B[39m\u001B[38;5;241m.\u001B[39m_compiled_call_impl(\u001B[38;5;241m*\u001B[39margs, \u001B[38;5;241m*\u001B[39m\u001B[38;5;241m*\u001B[39mkwargs)  \u001B[38;5;66;03m# type: ignore[misc]\u001B[39;00m\n\u001B[0;32m   1510\u001B[0m \u001B[38;5;28;01melse\u001B[39;00m:\n\u001B[1;32m-> 1511\u001B[0m     \u001B[38;5;28;01mreturn\u001B[39;00m \u001B[38;5;28mself\u001B[39m\u001B[38;5;241m.\u001B[39m_call_impl(\u001B[38;5;241m*\u001B[39margs, \u001B[38;5;241m*\u001B[39m\u001B[38;5;241m*\u001B[39mkwargs)\n",
      "File \u001B[1;32m~\\anaconda3\\envs\\ml4hc\\lib\\site-packages\\torch\\nn\\modules\\module.py:1520\u001B[0m, in \u001B[0;36mModule._call_impl\u001B[1;34m(self, *args, **kwargs)\u001B[0m\n\u001B[0;32m   1515\u001B[0m \u001B[38;5;66;03m# If we don't have any hooks, we want to skip the rest of the logic in\u001B[39;00m\n\u001B[0;32m   1516\u001B[0m \u001B[38;5;66;03m# this function, and just call forward.\u001B[39;00m\n\u001B[0;32m   1517\u001B[0m \u001B[38;5;28;01mif\u001B[39;00m \u001B[38;5;129;01mnot\u001B[39;00m (\u001B[38;5;28mself\u001B[39m\u001B[38;5;241m.\u001B[39m_backward_hooks \u001B[38;5;129;01mor\u001B[39;00m \u001B[38;5;28mself\u001B[39m\u001B[38;5;241m.\u001B[39m_backward_pre_hooks \u001B[38;5;129;01mor\u001B[39;00m \u001B[38;5;28mself\u001B[39m\u001B[38;5;241m.\u001B[39m_forward_hooks \u001B[38;5;129;01mor\u001B[39;00m \u001B[38;5;28mself\u001B[39m\u001B[38;5;241m.\u001B[39m_forward_pre_hooks\n\u001B[0;32m   1518\u001B[0m         \u001B[38;5;129;01mor\u001B[39;00m _global_backward_pre_hooks \u001B[38;5;129;01mor\u001B[39;00m _global_backward_hooks\n\u001B[0;32m   1519\u001B[0m         \u001B[38;5;129;01mor\u001B[39;00m _global_forward_hooks \u001B[38;5;129;01mor\u001B[39;00m _global_forward_pre_hooks):\n\u001B[1;32m-> 1520\u001B[0m     \u001B[38;5;28;01mreturn\u001B[39;00m forward_call(\u001B[38;5;241m*\u001B[39margs, \u001B[38;5;241m*\u001B[39m\u001B[38;5;241m*\u001B[39mkwargs)\n\u001B[0;32m   1522\u001B[0m \u001B[38;5;28;01mtry\u001B[39;00m:\n\u001B[0;32m   1523\u001B[0m     result \u001B[38;5;241m=\u001B[39m \u001B[38;5;28;01mNone\u001B[39;00m\n",
      "File \u001B[1;32m~\\anaconda3\\envs\\ml4hc\\lib\\site-packages\\torch\\nn\\modules\\container.py:217\u001B[0m, in \u001B[0;36mSequential.forward\u001B[1;34m(self, input)\u001B[0m\n\u001B[0;32m    215\u001B[0m \u001B[38;5;28;01mdef\u001B[39;00m \u001B[38;5;21mforward\u001B[39m(\u001B[38;5;28mself\u001B[39m, \u001B[38;5;28minput\u001B[39m):\n\u001B[0;32m    216\u001B[0m     \u001B[38;5;28;01mfor\u001B[39;00m module \u001B[38;5;129;01min\u001B[39;00m \u001B[38;5;28mself\u001B[39m:\n\u001B[1;32m--> 217\u001B[0m         \u001B[38;5;28minput\u001B[39m \u001B[38;5;241m=\u001B[39m \u001B[43mmodule\u001B[49m\u001B[43m(\u001B[49m\u001B[38;5;28;43minput\u001B[39;49m\u001B[43m)\u001B[49m\n\u001B[0;32m    218\u001B[0m     \u001B[38;5;28;01mreturn\u001B[39;00m \u001B[38;5;28minput\u001B[39m\n",
      "File \u001B[1;32m~\\anaconda3\\envs\\ml4hc\\lib\\site-packages\\torch\\nn\\modules\\module.py:1511\u001B[0m, in \u001B[0;36mModule._wrapped_call_impl\u001B[1;34m(self, *args, **kwargs)\u001B[0m\n\u001B[0;32m   1509\u001B[0m     \u001B[38;5;28;01mreturn\u001B[39;00m \u001B[38;5;28mself\u001B[39m\u001B[38;5;241m.\u001B[39m_compiled_call_impl(\u001B[38;5;241m*\u001B[39margs, \u001B[38;5;241m*\u001B[39m\u001B[38;5;241m*\u001B[39mkwargs)  \u001B[38;5;66;03m# type: ignore[misc]\u001B[39;00m\n\u001B[0;32m   1510\u001B[0m \u001B[38;5;28;01melse\u001B[39;00m:\n\u001B[1;32m-> 1511\u001B[0m     \u001B[38;5;28;01mreturn\u001B[39;00m \u001B[38;5;28mself\u001B[39m\u001B[38;5;241m.\u001B[39m_call_impl(\u001B[38;5;241m*\u001B[39margs, \u001B[38;5;241m*\u001B[39m\u001B[38;5;241m*\u001B[39mkwargs)\n",
      "File \u001B[1;32m~\\anaconda3\\envs\\ml4hc\\lib\\site-packages\\torch\\nn\\modules\\module.py:1520\u001B[0m, in \u001B[0;36mModule._call_impl\u001B[1;34m(self, *args, **kwargs)\u001B[0m\n\u001B[0;32m   1515\u001B[0m \u001B[38;5;66;03m# If we don't have any hooks, we want to skip the rest of the logic in\u001B[39;00m\n\u001B[0;32m   1516\u001B[0m \u001B[38;5;66;03m# this function, and just call forward.\u001B[39;00m\n\u001B[0;32m   1517\u001B[0m \u001B[38;5;28;01mif\u001B[39;00m \u001B[38;5;129;01mnot\u001B[39;00m (\u001B[38;5;28mself\u001B[39m\u001B[38;5;241m.\u001B[39m_backward_hooks \u001B[38;5;129;01mor\u001B[39;00m \u001B[38;5;28mself\u001B[39m\u001B[38;5;241m.\u001B[39m_backward_pre_hooks \u001B[38;5;129;01mor\u001B[39;00m \u001B[38;5;28mself\u001B[39m\u001B[38;5;241m.\u001B[39m_forward_hooks \u001B[38;5;129;01mor\u001B[39;00m \u001B[38;5;28mself\u001B[39m\u001B[38;5;241m.\u001B[39m_forward_pre_hooks\n\u001B[0;32m   1518\u001B[0m         \u001B[38;5;129;01mor\u001B[39;00m _global_backward_pre_hooks \u001B[38;5;129;01mor\u001B[39;00m _global_backward_hooks\n\u001B[0;32m   1519\u001B[0m         \u001B[38;5;129;01mor\u001B[39;00m _global_forward_hooks \u001B[38;5;129;01mor\u001B[39;00m _global_forward_pre_hooks):\n\u001B[1;32m-> 1520\u001B[0m     \u001B[38;5;28;01mreturn\u001B[39;00m forward_call(\u001B[38;5;241m*\u001B[39margs, \u001B[38;5;241m*\u001B[39m\u001B[38;5;241m*\u001B[39mkwargs)\n\u001B[0;32m   1522\u001B[0m \u001B[38;5;28;01mtry\u001B[39;00m:\n\u001B[0;32m   1523\u001B[0m     result \u001B[38;5;241m=\u001B[39m \u001B[38;5;28;01mNone\u001B[39;00m\n",
      "File \u001B[1;32m~\\anaconda3\\envs\\ml4hc\\lib\\site-packages\\torch\\nn\\modules\\conv.py:310\u001B[0m, in \u001B[0;36mConv1d.forward\u001B[1;34m(self, input)\u001B[0m\n\u001B[0;32m    309\u001B[0m \u001B[38;5;28;01mdef\u001B[39;00m \u001B[38;5;21mforward\u001B[39m(\u001B[38;5;28mself\u001B[39m, \u001B[38;5;28minput\u001B[39m: Tensor) \u001B[38;5;241m-\u001B[39m\u001B[38;5;241m>\u001B[39m Tensor:\n\u001B[1;32m--> 310\u001B[0m     \u001B[38;5;28;01mreturn\u001B[39;00m \u001B[38;5;28;43mself\u001B[39;49m\u001B[38;5;241;43m.\u001B[39;49m\u001B[43m_conv_forward\u001B[49m\u001B[43m(\u001B[49m\u001B[38;5;28;43minput\u001B[39;49m\u001B[43m,\u001B[49m\u001B[43m \u001B[49m\u001B[38;5;28;43mself\u001B[39;49m\u001B[38;5;241;43m.\u001B[39;49m\u001B[43mweight\u001B[49m\u001B[43m,\u001B[49m\u001B[43m \u001B[49m\u001B[38;5;28;43mself\u001B[39;49m\u001B[38;5;241;43m.\u001B[39;49m\u001B[43mbias\u001B[49m\u001B[43m)\u001B[49m\n",
      "File \u001B[1;32m~\\anaconda3\\envs\\ml4hc\\lib\\site-packages\\torch\\nn\\modules\\conv.py:306\u001B[0m, in \u001B[0;36mConv1d._conv_forward\u001B[1;34m(self, input, weight, bias)\u001B[0m\n\u001B[0;32m    302\u001B[0m \u001B[38;5;28;01mif\u001B[39;00m \u001B[38;5;28mself\u001B[39m\u001B[38;5;241m.\u001B[39mpadding_mode \u001B[38;5;241m!=\u001B[39m \u001B[38;5;124m'\u001B[39m\u001B[38;5;124mzeros\u001B[39m\u001B[38;5;124m'\u001B[39m:\n\u001B[0;32m    303\u001B[0m     \u001B[38;5;28;01mreturn\u001B[39;00m F\u001B[38;5;241m.\u001B[39mconv1d(F\u001B[38;5;241m.\u001B[39mpad(\u001B[38;5;28minput\u001B[39m, \u001B[38;5;28mself\u001B[39m\u001B[38;5;241m.\u001B[39m_reversed_padding_repeated_twice, mode\u001B[38;5;241m=\u001B[39m\u001B[38;5;28mself\u001B[39m\u001B[38;5;241m.\u001B[39mpadding_mode),\n\u001B[0;32m    304\u001B[0m                     weight, bias, \u001B[38;5;28mself\u001B[39m\u001B[38;5;241m.\u001B[39mstride,\n\u001B[0;32m    305\u001B[0m                     _single(\u001B[38;5;241m0\u001B[39m), \u001B[38;5;28mself\u001B[39m\u001B[38;5;241m.\u001B[39mdilation, \u001B[38;5;28mself\u001B[39m\u001B[38;5;241m.\u001B[39mgroups)\n\u001B[1;32m--> 306\u001B[0m \u001B[38;5;28;01mreturn\u001B[39;00m \u001B[43mF\u001B[49m\u001B[38;5;241;43m.\u001B[39;49m\u001B[43mconv1d\u001B[49m\u001B[43m(\u001B[49m\u001B[38;5;28;43minput\u001B[39;49m\u001B[43m,\u001B[49m\u001B[43m \u001B[49m\u001B[43mweight\u001B[49m\u001B[43m,\u001B[49m\u001B[43m \u001B[49m\u001B[43mbias\u001B[49m\u001B[43m,\u001B[49m\u001B[43m \u001B[49m\u001B[38;5;28;43mself\u001B[39;49m\u001B[38;5;241;43m.\u001B[39;49m\u001B[43mstride\u001B[49m\u001B[43m,\u001B[49m\n\u001B[0;32m    307\u001B[0m \u001B[43m                \u001B[49m\u001B[38;5;28;43mself\u001B[39;49m\u001B[38;5;241;43m.\u001B[39;49m\u001B[43mpadding\u001B[49m\u001B[43m,\u001B[49m\u001B[43m \u001B[49m\u001B[38;5;28;43mself\u001B[39;49m\u001B[38;5;241;43m.\u001B[39;49m\u001B[43mdilation\u001B[49m\u001B[43m,\u001B[49m\u001B[43m \u001B[49m\u001B[38;5;28;43mself\u001B[39;49m\u001B[38;5;241;43m.\u001B[39;49m\u001B[43mgroups\u001B[49m\u001B[43m)\u001B[49m\n",
      "\u001B[1;31mKeyboardInterrupt\u001B[0m: "
     ]
    }
   ],
   "source": [
    "model = train_and_validate(\n",
    "    model = model,\n",
    "    optimizer = optimizer,\n",
    "    scheduler = scheduler,\n",
    "    criterion = criterion,\n",
    "    train_loader = train_loader,\n",
    "    val_loader = val_loader,\n",
    "    best_model_path = os.path.join(path, \"cnn_best_model_MIT_random.pth\"),\n",
    "    device = DEVICE,\n",
    "    num_epochs = N_EPOCHS,\n",
    "    ES = early_stopping\n",
    ")"
   ]
  },
  {
   "cell_type": "code",
   "source": [
    "model = CNN(classes_num=5, in_channels=1)\n",
    "model.load_state_dict(torch.load(\"cnn_best_model_MIT.pth\", map_location = torch.device(DEVICE)))\n",
    "model.to(DEVICE)"
   ],
   "metadata": {
    "colab": {
     "base_uri": "https://localhost:8080/"
    },
    "id": "dRdF-xmCrfWR",
    "executionInfo": {
     "status": "ok",
     "timestamp": 1715347057548,
     "user_tz": -120,
     "elapsed": 14,
     "user": {
      "displayName": "Gianfranco Basile",
      "userId": "13294037408742824037"
     }
    },
    "outputId": "ee1f0c46-d818-4e7a-94b5-94e1df850494",
    "ExecuteTime": {
     "end_time": "2024-05-11T07:42:57.868148Z",
     "start_time": "2024-05-11T07:42:57.825365Z"
    }
   },
   "execution_count": 16,
   "outputs": [
    {
     "data": {
      "text/plain": "CNN(\n  (conv1): Sequential(\n    (0): Conv1d(1, 32, kernel_size=(3,), stride=(1,), padding=(1,), bias=False)\n    (1): BatchNorm1d(32, eps=1e-05, momentum=0.1, affine=True, track_running_stats=True)\n    (2): ReLU()\n    (3): MaxPool1d(kernel_size=2, stride=2, padding=0, dilation=1, ceil_mode=False)\n  )\n  (conv2): Sequential(\n    (0): Conv1d(32, 64, kernel_size=(3,), stride=(1,), padding=(1,), bias=False)\n    (1): BatchNorm1d(64, eps=1e-05, momentum=0.1, affine=True, track_running_stats=True)\n    (2): ReLU()\n    (3): MaxPool1d(kernel_size=2, stride=2, padding=0, dilation=1, ceil_mode=False)\n  )\n  (conv3): Sequential(\n    (0): Conv1d(64, 128, kernel_size=(3,), stride=(1,), padding=(1,), bias=False)\n    (1): BatchNorm1d(128, eps=1e-05, momentum=0.1, affine=True, track_running_stats=True)\n    (2): ReLU()\n    (3): MaxPool1d(kernel_size=2, stride=2, padding=0, dilation=1, ceil_mode=False)\n  )\n  (adaptive_pool): AdaptiveAvgPool1d(output_size=10)\n  (flatten): Flatten(start_dim=1, end_dim=-1)\n  (fc): Sequential(\n    (0): Linear(in_features=1280, out_features=256, bias=True)\n    (1): Hardswish()\n    (2): Dropout(p=0.2, inplace=False)\n    (3): Linear(in_features=256, out_features=5, bias=True)\n  )\n)"
     },
     "execution_count": 16,
     "metadata": {},
     "output_type": "execute_result"
    }
   ]
  },
  {
   "cell_type": "markdown",
   "metadata": {
    "id": "STbYrK9aiDGz"
   },
   "source": [
    "## Evaluating the CNN:"
   ]
  },
  {
   "cell_type": "code",
   "execution_count": 17,
   "metadata": {
    "colab": {
     "base_uri": "https://localhost:8080/"
    },
    "id": "i3oGQqMbiDGz",
    "executionInfo": {
     "status": "ok",
     "timestamp": 1715347072761,
     "user_tz": -120,
     "elapsed": 11524,
     "user": {
      "displayName": "Gianfranco Basile",
      "userId": "13294037408742824037"
     }
    },
    "outputId": "008992ba-c416-44e6-af53-3b31df6a3a27",
    "ExecuteTime": {
     "end_time": "2024-05-11T07:43:03.192095Z",
     "start_time": "2024-05-11T07:43:00.313558Z"
    }
   },
   "outputs": [
    {
     "name": "stdout",
     "output_type": "stream",
     "text": [
      "Test loss: 0.0006, Test accuracy: 0.9814, Test balanced accuracy: 0.9339S\n"
     ]
    }
   ],
   "source": [
    "model_probs, y_preds, y_true, test_loss = test(\n",
    "    model = model,\n",
    "    criterion = criterion,\n",
    "    test_loader = test_loader,\n",
    "    device = DEVICE\n",
    ")"
   ]
  },
  {
   "cell_type": "markdown",
   "source": [
    "## Metrics"
   ],
   "metadata": {
    "id": "G1yQ6WT6AHpM"
   }
  },
  {
   "cell_type": "markdown",
   "source": [
    "The metrics reported in the following part of the code are inspired by: https://www.kaggle.com/code/nkitgupta/evaluation-metrics-for-multi-class-classification/notebook"
   ],
   "metadata": {
    "id": "pi95_S-jsND7"
   }
  },
  {
   "cell_type": "markdown",
   "source": [
    "In the following chunck we are plotting the Confusion Matrix. In this case we have on the diagonal the number of observation that are correctly classifed, while on the off diagonal we represent the number of observation that are classified wrongly."
   ],
   "metadata": {
    "id": "SkJ2jWmEr3Pi"
   }
  },
  {
   "cell_type": "code",
   "execution_count": 26,
   "metadata": {
    "colab": {
     "base_uri": "https://localhost:8080/",
     "height": 399
    },
    "id": "JQIrFOuJiDGz",
    "executionInfo": {
     "status": "ok",
     "timestamp": 1715347125940,
     "user_tz": -120,
     "elapsed": 1814,
     "user": {
      "displayName": "Gianfranco Basile",
      "userId": "13294037408742824037"
     }
    },
    "outputId": "e957302e-62ae-4e91-d206-4060cc941887",
    "ExecuteTime": {
     "end_time": "2024-05-11T07:45:38.557786Z",
     "start_time": "2024-05-11T07:45:37.946623Z"
    }
   },
   "outputs": [
    {
     "data": {
      "text/plain": "<Figure size 1800x800 with 2 Axes>",
      "image/png": "[encoded data removed]"
     },
     "metadata": {},
     "output_type": "display_data"
    }
   ],
   "source": [
    "plt.figure(figsize = (18,8))\n",
    "sns.heatmap(confusion_matrix(y_true, y_preds), annot = True, xticklabels = np.unique(y_true), yticklabels = np.unique(y_true), cmap = 'summer')\n",
    "plt.xlabel('Predicted Labels')\n",
    "plt.ylabel('True Labels')\n",
    "plt.show()"
   ]
  },
  {
   "cell_type": "markdown",
   "source": [
    "***In the following part we calculate differents indexes to evaluate the perfomance of the model***"
   ],
   "metadata": {
    "id": "GXwkrwyn10TI"
   }
  },
  {
   "cell_type": "markdown",
   "source": [
    "**Accuracy**: it is astraightforward metrics, and it describe how accurate the model is. In this case a value of 0.9814, suggest that the models has good prediction capability. The trade off of this metric is that it doesn't provide an estimate of the overall model quality, in particular it disregards class inbalance. In fact can happen that the model is very good at predicting the majority class, but very poor at predicting the minority class."
   ],
   "metadata": {
    "id": "TEm_GIAcATof"
   }
  },
  {
   "cell_type": "code",
   "source": [
    "accuracy_score(y_preds, y_true)"
   ],
   "metadata": {
    "colab": {
     "base_uri": "https://localhost:8080/"
    },
    "id": "_WPAcX83r2vF",
    "executionInfo": {
     "status": "ok",
     "timestamp": 1715347859597,
     "user_tz": -120,
     "elapsed": 971,
     "user": {
      "displayName": "Gianfranco Basile",
      "userId": "13294037408742824037"
     }
    },
    "outputId": "b4bde1ea-1b20-41b0-a425-d16995f590a8",
    "ExecuteTime": {
     "end_time": "2024-05-11T07:45:45.275701Z",
     "start_time": "2024-05-11T07:45:45.248134Z"
    }
   },
   "execution_count": 27,
   "outputs": [
    {
     "data": {
      "text/plain": "0.9813630549972593"
     },
     "execution_count": 27,
     "metadata": {},
     "output_type": "execute_result"
    }
   ]
  },
  {
   "cell_type": "markdown",
   "source": [
    "To overcome the poor capability of the accuracy to deal with class inbalance, we emploied the use of other possible metrics such as precision, recall and balanced accuracy. "
   ],
   "metadata": {
    "id": "asA2VdVl4Rkr"
   }
  },
  {
   "cell_type": "code",
   "source": [
    "# Calculate precision for each class\n",
    "precision = precision_score(y_true, y_preds, average=None)\n",
    "\n",
    "# Calculate recall for each class\n",
    "recall = recall_score(y_true, y_preds, average=None)\n",
    "\n",
    "# Calculate macro-average precision and recall\n",
    "macro_precision = precision_score(y_true, y_preds, average='macro')\n",
    "macro_recall = recall_score(y_true, y_preds, average='macro')\n",
    "\n"
   ],
   "metadata": {
    "id": "GiDxVk6E1dbi",
    "executionInfo": {
     "status": "ok",
     "timestamp": 1715352605955,
     "user_tz": -120,
     "elapsed": 719,
     "user": {
      "displayName": "Gianfranco Basile",
      "userId": "13294037408742824037"
     }
    },
    "ExecuteTime": {
     "end_time": "2024-05-11T07:45:46.813393Z",
     "start_time": "2024-05-11T07:45:46.659558Z"
    }
   },
   "execution_count": 28,
   "outputs": []
  },
  {
   "cell_type": "markdown",
   "source": [
    "**Precision**: In multi-class classification, precision correspond to the fraction of observations correctly classifed as being of a certain class over all the observations that the model predict to belong to that class. So with this metric we can measure the model's ability to identify instances of a particular class correctly. It is possible to notice that for certain classes the precision is higher compared to others."
   ],
   "metadata": {
    "id": "lOgqWQGW2Cva"
   }
  },
  {
   "cell_type": "code",
   "source": [
    "print(\"Precision for each class:\", precision)\n"
   ],
   "metadata": {
    "colab": {
     "base_uri": "https://localhost:8080/"
    },
    "id": "IhqDtAjk1wA8",
    "executionInfo": {
     "status": "ok",
     "timestamp": 1715350232949,
     "user_tz": -120,
     "elapsed": 8,
     "user": {
      "displayName": "Gianfranco Basile",
      "userId": "13294037408742824037"
     }
    },
    "outputId": "78053fb8-0ae6-498b-ae76-646c12b1514a",
    "ExecuteTime": {
     "end_time": "2024-05-11T07:45:48.264700Z",
     "start_time": "2024-05-11T07:45:48.251649Z"
    }
   },
   "execution_count": 29,
   "outputs": [
    {
     "name": "stdout",
     "output_type": "stream",
     "text": [
      "Precision for each class: [0.99278619 0.75757576 0.96780966 0.71144279 0.98636927]\n"
     ]
    }
   ]
  },
  {
   "cell_type": "markdown",
   "source": [
    "**Recall**:  In multi-class classification, precision correspond to the fraction of observations correctly classifed as being of a certain class over all the observations that belong to that class. So with this metric we can measure the model's ability to identify all instances of a particular class correctly."
   ],
   "metadata": {
    "id": "ociXpuYK-g4r"
   }
  },
  {
   "cell_type": "code",
   "source": [
    "print(\"Recall for each class:\", recall)\n"
   ],
   "metadata": {
    "colab": {
     "base_uri": "https://localhost:8080/"
    },
    "id": "rscdtUca1w5U",
    "executionInfo": {
     "status": "ok",
     "timestamp": 1715353009633,
     "user_tz": -120,
     "elapsed": 254,
     "user": {
      "displayName": "Gianfranco Basile",
      "userId": "13294037408742824037"
     }
    },
    "outputId": "ff730a29-5d97-43f5-e164-ff11ea708c7b",
    "ExecuteTime": {
     "end_time": "2024-05-11T07:45:50.196689Z",
     "start_time": "2024-05-11T07:45:50.186584Z"
    }
   },
   "execution_count": 30,
   "outputs": [
    {
     "name": "stdout",
     "output_type": "stream",
     "text": [
      "Recall for each class: [0.98747102 0.85431655 0.9551105  0.88271605 0.99004975]\n"
     ]
    }
   ]
  },
  {
   "cell_type": "markdown",
   "source": [
    "**Macro-average precision/recall**: The idea behind this metric is that, instead of having the precision for every class, it is possible to reduce them into one \"average\" metric. In this case we opted for a Macro-averaging precision and Macro-averagin racall. The reason we emploied the \"Macro-average\" is that it gives equal weight to each class, regardless of the number of instances."
   ],
   "metadata": {
    "id": "iVcfttH97knm"
   }
  },
  {
   "cell_type": "code",
   "source": [
    "print(\"Macro-average precision:\", macro_precision)\n"
   ],
   "metadata": {
    "colab": {
     "base_uri": "https://localhost:8080/"
    },
    "id": "s25gn9sS1x9Y",
    "executionInfo": {
     "status": "ok",
     "timestamp": 1715352551690,
     "user_tz": -120,
     "elapsed": 12,
     "user": {
      "displayName": "Gianfranco Basile",
      "userId": "13294037408742824037"
     }
    },
    "outputId": "a984d044-2a4d-465a-ceaa-55d9afb031c8",
    "ExecuteTime": {
     "end_time": "2024-05-11T07:45:51.180426Z",
     "start_time": "2024-05-11T07:45:51.167884Z"
    }
   },
   "execution_count": 31,
   "outputs": [
    {
     "name": "stdout",
     "output_type": "stream",
     "text": [
      "Macro-average precision: 0.8831967327060681\n"
     ]
    }
   ]
  },
  {
   "cell_type": "markdown",
   "source": [],
   "metadata": {
    "id": "_cBcGy0O-hXl"
   }
  },
  {
   "cell_type": "code",
   "source": [
    "print(\"Macro-average recall:\", macro_recall)"
   ],
   "metadata": {
    "colab": {
     "base_uri": "https://localhost:8080/"
    },
    "id": "A1f_uQyU1yXS",
    "executionInfo": {
     "status": "ok",
     "timestamp": 1715352550386,
     "user_tz": -120,
     "elapsed": 401,
     "user": {
      "displayName": "Gianfranco Basile",
      "userId": "13294037408742824037"
     }
    },
    "outputId": "39521a8c-eab3-46a5-9476-12940d5a5d7f",
    "ExecuteTime": {
     "end_time": "2024-05-11T07:45:52.120677Z",
     "start_time": "2024-05-11T07:45:52.109128Z"
    }
   },
   "execution_count": 32,
   "outputs": [
    {
     "name": "stdout",
     "output_type": "stream",
     "text": [
      "Macro-average recall: 0.933932773583682\n"
     ]
    }
   ]
  },
  {
   "cell_type": "markdown",
   "source": [
    "**Balanced Accuracy**: This metric is the average of recall obtained on each class. It is a good metric to use when the classes are imbalanced. In this case we have a value of 0.9339, which is very similar to the accuracy. This is due to the fact that the classes are balanced."
   ],
   "metadata": {
    "collapsed": false
   }
  },
  {
   "cell_type": "code",
   "outputs": [
    {
     "data": {
      "text/plain": "0.933932773583682"
     },
     "execution_count": 34,
     "metadata": {},
     "output_type": "execute_result"
    }
   ],
   "source": [
    "balanced_accuracy_score(y_true, y_preds)\n"
   ],
   "metadata": {
    "collapsed": false,
    "ExecuteTime": {
     "end_time": "2024-05-11T07:49:23.262880Z",
     "start_time": "2024-05-11T07:49:23.224127Z"
    }
   },
   "execution_count": 34
  }
 ],
 "metadata": {
  "kernelspec": {
   "name": "python3",
   "language": "python",
   "display_name": "Python 3 (ipykernel)"
  },
  "language_info": {
   "codemirror_mode": {
    "name": "ipython",
    "version": 3
   },
   "file_extension": ".py",
   "mimetype": "text/x-python",
   "name": "python",
   "nbconvert_exporter": "python",
   "pygments_lexer": "ipython3",
   "version": "3.10.14"
  },
  "colab": {
   "provenance": [],
   "machine_shape": "hm"
  }
 },
 "nbformat": 4,
 "nbformat_minor": 0
}
