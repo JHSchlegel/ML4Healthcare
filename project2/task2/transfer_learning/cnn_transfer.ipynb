{
 "cells": [
  {
   "cell_type": "code",
   "execution_count": 1,
   "metadata": {
    "ExecuteTime": {
     "end_time": "2024-05-11T07:45:18.778023Z",
     "start_time": "2024-05-11T07:45:18.752897Z"
    },
    "executionInfo": {
     "elapsed": 293,
     "status": "ok",
     "timestamp": 1715350179350,
     "user": {
      "displayName": "Gianfranco Basile",
      "userId": "13294037408742824037"
     },
     "user_tz": -120
    },
    "id": "cjmQlOC5iDGb"
   },
   "outputs": [],
   "source": [
    "import pandas as pd\n",
    "import numpy as np\n",
    "import torch\n",
    "import torch.nn as nn\n",
    "import torch.optim as optim\n",
    "\n",
    "import os\n",
    "\n",
    "import matplotlib.pyplot as plt\n",
    "import seaborn as sns\n",
    "\n",
    "\n",
    "from sklearn.metrics import (\n",
    "    f1_score,\n",
    "    balanced_accuracy_score,\n",
    "    confusion_matrix,\n",
    "    ConfusionMatrixDisplay,\n",
    "    accuracy_score,\n",
    "\n",
    "    precision_score,\n",
    "    recall_score\n",
    ")\n",
    "from torch.utils.data import DataLoader\n",
    "\n",
    "from sklearn.model_selection import train_test_split\n",
    "\n",
    "from torch.utils.tensorboard import SummaryWriter\n",
    "from imblearn.over_sampling import SMOTE\n",
    "#path =r\"C:\\Users\\gianf\\Desktop\\ETH\\II_Semestre\\ML4HC\\ML4Healthcare\\project2\\task2\\transfer_learning\"\n",
    "#os.chdir(path)\n",
    "\n",
    "import warnings\n",
    "\n",
    "from cnn_utils_transf import (\n",
    "    PTB_Dataset,\n",
    "    EarlyStopping,\n",
    "    set_all_seeds,\n",
    "    train_and_validate,\n",
    "    test,\n",
    ")\n",
    "\n",
    "from torch import Tensor\n",
    "\n",
    "pd.set_option('display.max_columns', None)"
   ]
  },
  {
   "cell_type": "code",
   "execution_count": 2,
   "metadata": {
    "ExecuteTime": {
     "end_time": "2024-05-11T07:42:07.931660Z",
     "start_time": "2024-05-11T07:42:07.918940Z"
    },
    "executionInfo": {
     "elapsed": 281,
     "status": "ok",
     "timestamp": 1715346931776,
     "user": {
      "displayName": "Gianfranco Basile",
      "userId": "13294037408742824037"
     },
     "user_tz": -120
    },
    "id": "aV7wb8sDiDGe"
   },
   "outputs": [],
   "source": [
    "DEVICE = torch.device(\"cuda:0\" if torch.cuda.is_available() else \"cpu\")\n",
    "SEED = 42\n",
    "\n",
    "TRAIN_BATCH_SIZE = 32\n",
    "VAL_BATCH_SIZE = 256\n",
    "TEST_BATCH_SIZE = 256\n",
    "\n",
    "N_EPOCHS=200\n"
   ]
  },
  {
   "cell_type": "code",
   "execution_count": 3,
   "metadata": {
    "ExecuteTime": {
     "end_time": "2024-05-11T07:42:18.721076Z",
     "start_time": "2024-05-11T07:42:12.738301Z"
    },
    "id": "2gHcvMHoiDGh"
   },
   "outputs": [],
   "source": [
    "# Load data\n",
    "#train_df = pd.read_csv(os.path.join(path, 'mitbih_train.csv'), header=None)\n",
    "#test_df = pd.read_csv(os.path.join(path, 'mitbih_test.csv'), header=None)\n",
    "\n",
    "train_df = pd.read_csv('../../data/mitbih_train.csv', header=None)\n",
    "test_df = pd.read_csv('../../data/mitbih_test.csv', header=None)"
   ]
  },
  {
   "cell_type": "code",
   "execution_count": 4,
   "metadata": {
    "ExecuteTime": {
     "end_time": "2024-05-11T07:42:21.021513Z",
     "start_time": "2024-05-11T07:42:20.994383Z"
    },
    "id": "elS3SR1QiDGi"
   },
   "outputs": [
    {
     "data": {
      "text/plain": [
       "array([0., 1., 2., 3., 4.])"
      ]
     },
     "execution_count": 4,
     "metadata": {},
     "output_type": "execute_result"
    }
   ],
   "source": [
    "train_df.iloc[:,-1].unique()"
   ]
  },
  {
   "cell_type": "code",
   "execution_count": 5,
   "metadata": {
    "ExecuteTime": {
     "end_time": "2024-05-11T07:42:24.392089Z",
     "start_time": "2024-05-11T07:42:24.380738Z"
    },
    "executionInfo": {
     "elapsed": 284,
     "status": "ok",
     "timestamp": 1715346961699,
     "user": {
      "displayName": "Gianfranco Basile",
      "userId": "13294037408742824037"
     },
     "user_tz": -120
    },
    "id": "Y-X4EtPEiDGi"
   },
   "outputs": [],
   "source": [
    "X_train_full = train_df.iloc[:, :-1].to_numpy()\n",
    "y_train_full = train_df.iloc[:, -1].to_numpy()\n",
    "\n",
    "X_test = test_df.iloc[:, :-1].to_numpy()\n",
    "y_test = test_df.iloc[:, -1].to_numpy()"
   ]
  },
  {
   "cell_type": "code",
   "execution_count": 6,
   "metadata": {
    "ExecuteTime": {
     "end_time": "2024-05-11T07:42:25.377375Z",
     "start_time": "2024-05-11T07:42:25.352371Z"
    },
    "executionInfo": {
     "elapsed": 8,
     "status": "ok",
     "timestamp": 1715346961705,
     "user": {
      "displayName": "Gianfranco Basile",
      "userId": "13294037408742824037"
     },
     "user_tz": -120
    },
    "id": "ykTOI7mpiDGj"
   },
   "outputs": [],
   "source": [
    "import matplotlib as plt\n",
    "counts = [np.count_nonzero(y_train_full==0),\n",
    "np.count_nonzero(y_train_full==1),\n",
    "np.count_nonzero(y_train_full==2),\n",
    "np.count_nonzero(y_train_full==3),\n",
    "np.count_nonzero(y_train_full==4)]"
   ]
  },
  {
   "cell_type": "code",
   "execution_count": 7,
   "metadata": {
    "ExecuteTime": {
     "end_time": "2024-05-11T07:42:26.506896Z",
     "start_time": "2024-05-11T07:42:26.074054Z"
    },
    "colab": {
     "base_uri": "https://localhost:8080/",
     "height": 447
    },
    "executionInfo": {
     "elapsed": 13,
     "status": "ok",
     "timestamp": 1715264725239,
     "user": {
      "displayName": "Gianfranco Basile",
      "userId": "13294037408742824037"
     },
     "user_tz": -120
    },
    "id": "ZhVT0EXViDGs",
    "outputId": "157d25ec-1636-4576-9a5e-75ef65556b66"
   },
   "outputs": [
    {
     "data": {
      "text/plain": [
       "<BarContainer object of 5 artists>"
      ]
     },
     "execution_count": 7,
     "metadata": {},
     "output_type": "execute_result"
    },
    {
     "data": {
      "image/png": "[encoded data removed]",
      "text/plain": [
       "<Figure size 640x480 with 1 Axes>"
      ]
     },
     "metadata": {},
     "output_type": "display_data"
    }
   ],
   "source": [
    "plt.pyplot.bar([0,1,2,3,4],counts)"
   ]
  },
  {
   "cell_type": "markdown",
   "metadata": {
    "id": "nXKVCjcEiDGs"
   },
   "source": [
    "Split into train and validation sets:"
   ]
  },
  {
   "cell_type": "code",
   "execution_count": 8,
   "metadata": {
    "ExecuteTime": {
     "end_time": "2024-05-11T07:42:30.876718Z",
     "start_time": "2024-05-11T07:42:30.293578Z"
    },
    "executionInfo": {
     "elapsed": 901,
     "status": "ok",
     "timestamp": 1715346971136,
     "user": {
      "displayName": "Gianfranco Basile",
      "userId": "13294037408742824037"
     },
     "user_tz": -120
    },
    "id": "Sf-icDcBiDGt"
   },
   "outputs": [],
   "source": [
    "X_train, X_val, y_train, y_val = train_test_split(\n",
    "    X_train_full, y_train_full, test_size=0.2, stratify=y_train_full, random_state=SEED\n",
    ")"
   ]
  },
  {
   "cell_type": "markdown",
   "metadata": {
    "id": "akpjBLlWiDGu"
   },
   "source": [
    "Moreover, to deal with the large class imbalance, which we discovered in our EDA, we will use SMOTE oversampling to balance the classes in the training set and provide some data augmentation."
   ]
  },
  {
   "cell_type": "code",
   "execution_count": 9,
   "metadata": {
    "ExecuteTime": {
     "end_time": "2024-05-11T07:42:35.207603Z",
     "start_time": "2024-05-11T07:42:32.879962Z"
    },
    "executionInfo": {
     "elapsed": 3722,
     "status": "ok",
     "timestamp": 1715346976649,
     "user": {
      "displayName": "Gianfranco Basile",
      "userId": "13294037408742824037"
     },
     "user_tz": -120
    },
    "id": "RyscCCxPiDGu"
   },
   "outputs": [],
   "source": [
    "sm = SMOTE(random_state=SEED)\n",
    "X_train, y_train = sm.fit_resample(X_train, y_train)"
   ]
  },
  {
   "cell_type": "code",
   "execution_count": 10,
   "metadata": {
    "ExecuteTime": {
     "end_time": "2024-05-11T07:42:36.927678Z",
     "start_time": "2024-05-11T07:42:36.843804Z"
    },
    "executionInfo": {
     "elapsed": 1414,
     "status": "ok",
     "timestamp": 1715346981432,
     "user": {
      "displayName": "Gianfranco Basile",
      "userId": "13294037408742824037"
     },
     "user_tz": -120
    },
    "id": "0f0AotToiDGv"
   },
   "outputs": [],
   "source": [
    "train_loader = DataLoader(\n",
    "        PTB_Dataset(X_train, y_train),\n",
    "        batch_size=TRAIN_BATCH_SIZE,\n",
    "        shuffle=True,\n",
    "        pin_memory=True,\n",
    "        num_workers=0,\n",
    "    )\n",
    "val_loader = DataLoader(\n",
    "    PTB_Dataset(X_val, y_val),\n",
    "    batch_size=VAL_BATCH_SIZE,\n",
    "    shuffle=False,\n",
    "    pin_memory=True,\n",
    "    num_workers=0,\n",
    ")\n",
    "\n",
    "test_loader = DataLoader(\n",
    "    PTB_Dataset(X_test, y_test),\n",
    "    batch_size=TEST_BATCH_SIZE,\n",
    "    shuffle=False,\n",
    "    pin_memory=True,\n",
    "    num_workers=0,\n",
    ")"
   ]
  },
  {
   "cell_type": "markdown",
   "metadata": {
    "id": "YkybkZ2KiDGw"
   },
   "source": [
    "# The CNN:"
   ]
  },
  {
   "cell_type": "markdown",
   "metadata": {
    "id": "wNivZPQOiDGw"
   },
   "source": [
    "## CNN Class Definition:"
   ]
  },
  {
   "cell_type": "code",
   "execution_count": 11,
   "metadata": {
    "ExecuteTime": {
     "end_time": "2024-05-11T07:42:39.594113Z",
     "start_time": "2024-05-11T07:42:39.563147Z"
    },
    "executionInfo": {
     "elapsed": 475,
     "status": "ok",
     "timestamp": 1715346982337,
     "user": {
      "displayName": "Gianfranco Basile",
      "userId": "13294037408742824037"
     },
     "user_tz": -120
    },
    "id": "uXH8Zn1yiDGx"
   },
   "outputs": [],
   "source": [
    "# We based our CNN on this: https://medium.com/@chen-yu/building-a-customized-residual-cnn-with-pytorch-471810e894ed\n",
    "\n",
    "class CNN(nn.Module):\n",
    "    def __init__(self, classes_num: int, in_channels: int):\n",
    "        super().__init__()\n",
    "\n",
    "        # Initial convolution layer\n",
    "        # self.conv = nn.Conv1d(\n",
    "        #     in_channels=in_channels,\n",
    "        #     out_channels=16,\n",
    "        #     #kernel_size=(3, 3),\n",
    "        #     kernel_size=3,\n",
    "        #     padding='same',\n",
    "        #     bias=False\n",
    "        # )\n",
    "        # self.bn = nn.BatchNorm1d(16)\n",
    "        # self.relu = nn.ReLU()\n",
    "        self.conv1 = self._create_conv_block(in_channels, 32, 3, 1)\n",
    "        self.conv2 = self._create_conv_block(32, 64, 3, 1)\n",
    "        self.conv3 = self._create_conv_block(64, 128, 3, 1)\n",
    "        self.adaptive_pool = nn.AdaptiveAvgPool1d(output_size = 10)\n",
    "\n",
    "\n",
    "        #Out features from the 4 blocks of residual layers: 128\n",
    "\n",
    "\n",
    "        # Flattening and final linear layer\n",
    "        self.flatten = nn.Flatten(1)\n",
    "        #self.dropout = nn.Dropout(p=0.2)\n",
    "        self.fc = nn.Sequential(\n",
    "            nn.Linear(1280, 16),\n",
    "            nn.Hardswish(),\n",
    "            nn.Dropout(p=0.2),\n",
    "            nn.Linear(16, classes_num)\n",
    "        )\n",
    "\n",
    "    def forward(self, x: Tensor) -> Tensor:\n",
    "        x = x.unsqueeze(1) # Add channel dimension\n",
    "        # now: [batch_size, in_channels, seq_len] i.e. [batch_size, 1, 187]\n",
    "\n",
    "\n",
    "\n",
    "        # x = self.conv(x)\n",
    "        # x = self.bn(x)\n",
    "        # x = self.relu(x)\n",
    "\n",
    "        # #print(\"Shape after convolution and activation:\", x.shape)\n",
    "\n",
    "        # x = self.flatten(x)\n",
    "        # #print(\"Shape after flattening:\", x.shape)\n",
    "        # x = self.dropout(x)\n",
    "        # x = self.linear(x)\n",
    "        # #print(\"Shape after linear layer:\", x.shape)\n",
    "        x = self.conv1(x)\n",
    "        x = self.conv2(x)\n",
    "        x = self.conv3(x)\n",
    "        x = self.adaptive_pool(x)\n",
    "\n",
    "        x = self.flatten(x)\n",
    "        x = self.fc(x)\n",
    "        return x\n",
    "\n",
    "    def _create_conv_block(self, in_channels: int, out_channels: int, kernel_size: int, stride: int):\n",
    "        return nn.Sequential(\n",
    "            nn.Conv1d(\n",
    "                in_channels=in_channels,\n",
    "                out_channels=out_channels,\n",
    "                kernel_size=kernel_size,\n",
    "                stride=stride,\n",
    "                padding=1,\n",
    "                bias=False\n",
    "            ),\n",
    "            nn.BatchNorm1d(out_channels),\n",
    "            nn.ReLU(),\n",
    "            nn.MaxPool1d(kernel_size=2, stride=2)\n",
    "        )\n",
    "\n",
    "\n",
    "set_all_seeds(SEED)\n",
    "model=CNN(classes_num=5, in_channels=1)"
   ]
  },
  {
   "cell_type": "markdown",
   "metadata": {
    "id": "t1Nfn4bTiDGx"
   },
   "source": [
    "## Training the CNN:"
   ]
  },
  {
   "cell_type": "code",
   "execution_count": 12,
   "metadata": {
    "ExecuteTime": {
     "end_time": "2024-05-11T07:42:45.432743Z",
     "start_time": "2024-05-11T07:42:42.202616Z"
    },
    "colab": {
     "base_uri": "https://localhost:8080/"
    },
    "executionInfo": {
     "elapsed": 10470,
     "status": "ok",
     "timestamp": 1715347000994,
     "user": {
      "displayName": "Gianfranco Basile",
      "userId": "13294037408742824037"
     },
     "user_tz": -120
    },
    "id": "EmAlmyiNiDGy",
    "outputId": "5d6535dc-3d85-4d61-e3db-40b118ac089d"
   },
   "outputs": [
    {
     "name": "stderr",
     "output_type": "stream",
     "text": [
      "/home/janhsc/miniconda3/envs/ml4hc/lib/python3.10/site-packages/torch/optim/lr_scheduler.py:28: UserWarning: The verbose parameter is deprecated. Please use get_last_lr() to access the learning rate.\n",
      "  warnings.warn(\"The verbose parameter is deprecated. Please use get_last_lr() \"\n"
     ]
    }
   ],
   "source": [
    "model = model.to(DEVICE)\n",
    "\n",
    "optimizer = optim.AdamW(model.parameters(), lr=0.005, weight_decay=0.0001)\n",
    "criterion = torch.nn.CrossEntropyLoss()\n",
    "scheduler = optim.lr_scheduler.ReduceLROnPlateau(\n",
    "    optimizer, \"min\", factor=0.5, patience=5, threshold=1e-06, verbose=1\n",
    ")\n",
    "early_stopping = EarlyStopping(start=20, patience=20, verbose=1, mode=\"max\")"
   ]
  },
  {
   "cell_type": "code",
   "execution_count": 13,
   "metadata": {
    "ExecuteTime": {
     "end_time": "2024-05-11T07:42:53.192277Z",
     "start_time": "2024-05-11T07:42:46.603574Z"
    },
    "colab": {
     "base_uri": "https://localhost:8080/",
     "height": 391
    },
    "executionInfo": {
     "elapsed": 3840,
     "status": "error",
     "timestamp": 1715347004824,
     "user": {
      "displayName": "Gianfranco Basile",
      "userId": "13294037408742824037"
     },
     "user_tz": -120
    },
    "id": "_DjVvzi2iDGy",
    "outputId": "13ff0c02-6fd9-46ba-8950-30fa4cb0b409"
   },
   "outputs": [
    {
     "name": "stderr",
     "output_type": "stream",
     "text": [
      "  0%|          | 0/200 [00:00<?, ?it/s]/home/janhsc/miniconda3/envs/ml4hc/lib/python3.10/site-packages/torch/nn/modules/conv.py:306: UserWarning: Plan failed with a cudnnException: CUDNN_BACKEND_EXECUTION_PLAN_DESCRIPTOR: cudnnFinalize Descriptor Failed cudnn_status: CUDNN_STATUS_NOT_SUPPORTED (Triggered internally at ../aten/src/ATen/native/cudnn/Conv_v8.cpp:919.)\n",
      "  return F.conv1d(input, weight, bias, self.stride,\n",
      "/home/janhsc/miniconda3/envs/ml4hc/lib/python3.10/site-packages/torch/autograd/graph.py:744: UserWarning: Plan failed with a cudnnException: CUDNN_BACKEND_EXECUTION_PLAN_DESCRIPTOR: cudnnFinalize Descriptor Failed cudnn_status: CUDNN_STATUS_NOT_SUPPORTED (Triggered internally at ../aten/src/ATen/native/cudnn/Conv_v8.cpp:919.)\n",
      "  return Variable._execution_engine.run_backward(  # Calls into the C++ engine to run the backward pass\n",
      "/home/janhsc/miniconda3/envs/ml4hc/lib/python3.10/site-packages/torch/nn/modules/conv.py:306: UserWarning: Plan failed with a cudnnException: CUDNN_BACKEND_EXECUTION_PLAN_DESCRIPTOR: cudnnFinalize Descriptor Failed cudnn_status: CUDNN_STATUS_NOT_SUPPORTED (Triggered internally at ../aten/src/ATen/native/cudnn/Conv_v8.cpp:919.)\n",
      "  return F.conv1d(input, weight, bias, self.stride,\n",
      "Training Transformer:  20%|██        | 40/200 [10:06<40:27, 15.17s/it, train_balanced_acc=0.999, train_loss=8.23e-5, val_balanced_acc=0.918, val_loss=0.000719] "
     ]
    },
    {
     "name": "stdout",
     "output_type": "stream",
     "text": [
      "Early stopping at epoch 40. Best score was 0.9347 in epoch 3.\n"
     ]
    },
    {
     "name": "stderr",
     "output_type": "stream",
     "text": [
      "\n"
     ]
    }
   ],
   "source": [
    "model = train_and_validate(\n",
    "    model = model,\n",
    "    optimizer = optimizer,\n",
    "    scheduler = scheduler,\n",
    "    criterion = criterion,\n",
    "    train_loader = train_loader,\n",
    "    val_loader = val_loader,\n",
    "    best_model_path = \"../weights/cnn_mitbih.pth\", #os.path.join(path, \"cnn_best_model_MIT_random.pth\"),\n",
    "    device = DEVICE,\n",
    "    num_epochs = N_EPOCHS,\n",
    "    ES = early_stopping\n",
    ")"
   ]
  },
  {
   "cell_type": "code",
   "execution_count": 14,
   "metadata": {
    "ExecuteTime": {
     "end_time": "2024-05-11T07:42:57.868148Z",
     "start_time": "2024-05-11T07:42:57.825365Z"
    },
    "colab": {
     "base_uri": "https://localhost:8080/"
    },
    "executionInfo": {
     "elapsed": 14,
     "status": "ok",
     "timestamp": 1715347057548,
     "user": {
      "displayName": "Gianfranco Basile",
      "userId": "13294037408742824037"
     },
     "user_tz": -120
    },
    "id": "dRdF-xmCrfWR",
    "outputId": "ee1f0c46-d818-4e7a-94b5-94e1df850494"
   },
   "outputs": [
    {
     "data": {
      "text/plain": [
       "CNN(\n",
       "  (conv1): Sequential(\n",
       "    (0): Conv1d(1, 32, kernel_size=(3,), stride=(1,), padding=(1,), bias=False)\n",
       "    (1): BatchNorm1d(32, eps=1e-05, momentum=0.1, affine=True, track_running_stats=True)\n",
       "    (2): ReLU()\n",
       "    (3): MaxPool1d(kernel_size=2, stride=2, padding=0, dilation=1, ceil_mode=False)\n",
       "  )\n",
       "  (conv2): Sequential(\n",
       "    (0): Conv1d(32, 64, kernel_size=(3,), stride=(1,), padding=(1,), bias=False)\n",
       "    (1): BatchNorm1d(64, eps=1e-05, momentum=0.1, affine=True, track_running_stats=True)\n",
       "    (2): ReLU()\n",
       "    (3): MaxPool1d(kernel_size=2, stride=2, padding=0, dilation=1, ceil_mode=False)\n",
       "  )\n",
       "  (conv3): Sequential(\n",
       "    (0): Conv1d(64, 128, kernel_size=(3,), stride=(1,), padding=(1,), bias=False)\n",
       "    (1): BatchNorm1d(128, eps=1e-05, momentum=0.1, affine=True, track_running_stats=True)\n",
       "    (2): ReLU()\n",
       "    (3): MaxPool1d(kernel_size=2, stride=2, padding=0, dilation=1, ceil_mode=False)\n",
       "  )\n",
       "  (adaptive_pool): AdaptiveAvgPool1d(output_size=10)\n",
       "  (flatten): Flatten(start_dim=1, end_dim=-1)\n",
       "  (fc): Sequential(\n",
       "    (0): Linear(in_features=1280, out_features=16, bias=True)\n",
       "    (1): Hardswish()\n",
       "    (2): Dropout(p=0.2, inplace=False)\n",
       "    (3): Linear(in_features=16, out_features=5, bias=True)\n",
       "  )\n",
       ")"
      ]
     },
     "execution_count": 14,
     "metadata": {},
     "output_type": "execute_result"
    }
   ],
   "source": [
    "model = CNN(classes_num=5, in_channels=1)\n",
    "model.load_state_dict(torch.load(\"../weights/cnn_mitbih.pth\", map_location = torch.device(DEVICE)))\n",
    "model.to(DEVICE)"
   ]
  },
  {
   "cell_type": "markdown",
   "metadata": {
    "id": "STbYrK9aiDGz"
   },
   "source": [
    "## Evaluating the CNN:"
   ]
  },
  {
   "cell_type": "code",
   "execution_count": 15,
   "metadata": {
    "ExecuteTime": {
     "end_time": "2024-05-11T07:43:03.192095Z",
     "start_time": "2024-05-11T07:43:00.313558Z"
    },
    "colab": {
     "base_uri": "https://localhost:8080/"
    },
    "executionInfo": {
     "elapsed": 11524,
     "status": "ok",
     "timestamp": 1715347072761,
     "user": {
      "displayName": "Gianfranco Basile",
      "userId": "13294037408742824037"
     },
     "user_tz": -120
    },
    "id": "i3oGQqMbiDGz",
    "outputId": "008992ba-c416-44e6-af53-3b31df6a3a27"
   },
   "outputs": [
    {
     "name": "stdout",
     "output_type": "stream",
     "text": [
      "Test loss: 0.0005, Test accuracy: 0.9683, Test balanced accuracy: 0.9220S\n"
     ]
    },
    {
     "name": "stderr",
     "output_type": "stream",
     "text": [
      "/home/janhsc/miniconda3/envs/ml4hc/lib/python3.10/site-packages/torch/nn/modules/conv.py:306: UserWarning: Plan failed with a cudnnException: CUDNN_BACKEND_EXECUTION_PLAN_DESCRIPTOR: cudnnFinalize Descriptor Failed cudnn_status: CUDNN_STATUS_NOT_SUPPORTED (Triggered internally at ../aten/src/ATen/native/cudnn/Conv_v8.cpp:919.)\n",
      "  return F.conv1d(input, weight, bias, self.stride,\n"
     ]
    }
   ],
   "source": [
    "model_probs, y_preds, y_true, test_loss = test(\n",
    "    model = model,\n",
    "    criterion = criterion,\n",
    "    test_loader = test_loader,\n",
    "    device = DEVICE\n",
    ")"
   ]
  },
  {
   "cell_type": "markdown",
   "metadata": {
    "id": "G1yQ6WT6AHpM"
   },
   "source": [
    "## Metrics"
   ]
  },
  {
   "cell_type": "markdown",
   "metadata": {
    "id": "pi95_S-jsND7"
   },
   "source": [
    "The metrics reported in the following part of the code are inspired by: https://www.kaggle.com/code/nkitgupta/evaluation-metrics-for-multi-class-classification/notebook"
   ]
  },
  {
   "cell_type": "markdown",
   "metadata": {
    "id": "SkJ2jWmEr3Pi"
   },
   "source": [
    "In the following chunck we are plotting the Confusion Matrix. In this case we have on the diagonal the number of observation that are correctly classifed, while on the off diagonal we represent the number of observation that are classified wrongly."
   ]
  },
  {
   "cell_type": "code",
   "execution_count": 16,
   "metadata": {
    "ExecuteTime": {
     "end_time": "2024-05-11T07:45:38.557786Z",
     "start_time": "2024-05-11T07:45:37.946623Z"
    },
    "colab": {
     "base_uri": "https://localhost:8080/",
     "height": 399
    },
    "executionInfo": {
     "elapsed": 1814,
     "status": "ok",
     "timestamp": 1715347125940,
     "user": {
      "displayName": "Gianfranco Basile",
      "userId": "13294037408742824037"
     },
     "user_tz": -120
    },
    "id": "JQIrFOuJiDGz",
    "outputId": "e957302e-62ae-4e91-d206-4060cc941887"
   },
   "outputs": [
    {
     "data": {
      "text/plain": [
       "<sklearn.metrics._plot.confusion_matrix.ConfusionMatrixDisplay at 0x7f2870b1e5f0>"
      ]
     },
     "execution_count": 16,
     "metadata": {},
     "output_type": "execute_result"
    },
    {
     "data": {
      "image/png": "[encoded data removed]",
      "text/plain": [
       "<Figure size 640x480 with 2 Axes>"
      ]
     },
     "metadata": {},
     "output_type": "display_data"
    }
   ],
   "source": [
    "cm = confusion_matrix(y_true, y_preds)\n",
    "disp = ConfusionMatrixDisplay(confusion_matrix=cm, display_labels=[0, 1, 2, 3, 4])\n",
    "disp.plot()"
   ]
  },
  {
   "cell_type": "markdown",
   "metadata": {
    "id": "GXwkrwyn10TI"
   },
   "source": [
    "***In the following part we calculate differents indexes to evaluate the perfomance of the model***"
   ]
  },
  {
   "cell_type": "markdown",
   "metadata": {
    "id": "TEm_GIAcATof"
   },
   "source": [
    "**Accuracy**: it is astraightforward metrics, and it describe how accurate the model is. In this case a value of 0.9814, suggest that the models has good prediction capability. The trade off of this metric is that it doesn't provide an estimate of the overall model quality, in particular it disregards class inbalance. In fact can happen that the model is very good at predicting the majority class, but very poor at predicting the minority class."
   ]
  },
  {
   "cell_type": "code",
   "execution_count": 17,
   "metadata": {
    "ExecuteTime": {
     "end_time": "2024-05-11T07:45:45.275701Z",
     "start_time": "2024-05-11T07:45:45.248134Z"
    },
    "colab": {
     "base_uri": "https://localhost:8080/"
    },
    "executionInfo": {
     "elapsed": 971,
     "status": "ok",
     "timestamp": 1715347859597,
     "user": {
      "displayName": "Gianfranco Basile",
      "userId": "13294037408742824037"
     },
     "user_tz": -120
    },
    "id": "_WPAcX83r2vF",
    "outputId": "b4bde1ea-1b20-41b0-a425-d16995f590a8"
   },
   "outputs": [
    {
     "data": {
      "text/plain": [
       "0.9683446007674036"
      ]
     },
     "execution_count": 17,
     "metadata": {},
     "output_type": "execute_result"
    }
   ],
   "source": [
    "accuracy_score(y_preds, y_true)"
   ]
  },
  {
   "cell_type": "markdown",
   "metadata": {
    "id": "asA2VdVl4Rkr"
   },
   "source": [
    "To overcome the poor capability of the accuracy to deal with class inbalance, we emploied the use of other possible metrics such as precision, recall and balanced accuracy. "
   ]
  },
  {
   "cell_type": "code",
   "execution_count": 18,
   "metadata": {
    "ExecuteTime": {
     "end_time": "2024-05-11T07:45:46.813393Z",
     "start_time": "2024-05-11T07:45:46.659558Z"
    },
    "executionInfo": {
     "elapsed": 719,
     "status": "ok",
     "timestamp": 1715352605955,
     "user": {
      "displayName": "Gianfranco Basile",
      "userId": "13294037408742824037"
     },
     "user_tz": -120
    },
    "id": "GiDxVk6E1dbi"
   },
   "outputs": [],
   "source": [
    "# Calculate precision for each class\n",
    "precision = precision_score(y_true, y_preds, average=None)\n",
    "\n",
    "# Calculate recall for each class\n",
    "recall = recall_score(y_true, y_preds, average=None)\n",
    "\n",
    "# Calculate macro-average precision and recall\n",
    "macro_precision = precision_score(y_true, y_preds, average='macro')\n",
    "macro_recall = recall_score(y_true, y_preds, average='macro')\n",
    "\n"
   ]
  },
  {
   "cell_type": "markdown",
   "metadata": {
    "id": "lOgqWQGW2Cva"
   },
   "source": [
    "**Precision**: In multi-class classification, precision correspond to the fraction of observations correctly classifed as being of a certain class over all the observations that the model predict to belong to that class. So with this metric we can measure the model's ability to identify instances of a particular class correctly. It is possible to notice that for certain classes the precision is higher compared to others."
   ]
  },
  {
   "cell_type": "code",
   "execution_count": 19,
   "metadata": {
    "ExecuteTime": {
     "end_time": "2024-05-11T07:45:48.264700Z",
     "start_time": "2024-05-11T07:45:48.251649Z"
    },
    "colab": {
     "base_uri": "https://localhost:8080/"
    },
    "executionInfo": {
     "elapsed": 8,
     "status": "ok",
     "timestamp": 1715350232949,
     "user": {
      "displayName": "Gianfranco Basile",
      "userId": "13294037408742824037"
     },
     "user_tz": -120
    },
    "id": "IhqDtAjk1wA8",
    "outputId": "78053fb8-0ae6-498b-ae76-646c12b1514a"
   },
   "outputs": [
    {
     "name": "stdout",
     "output_type": "stream",
     "text": [
      "Precision for each class: [0.99295616 0.62195122 0.9029316  0.60085837 0.97134146]\n"
     ]
    }
   ],
   "source": [
    "print(\"Precision for each class:\", precision)\n"
   ]
  },
  {
   "cell_type": "markdown",
   "metadata": {
    "id": "ociXpuYK-g4r"
   },
   "source": [
    "**Recall**:  In multi-class classification, precision correspond to the fraction of observations correctly classifed as being of a certain class over all the observations that belong to that class. So with this metric we can measure the model's ability to identify all instances of a particular class correctly."
   ]
  },
  {
   "cell_type": "code",
   "execution_count": 20,
   "metadata": {
    "ExecuteTime": {
     "end_time": "2024-05-11T07:45:50.196689Z",
     "start_time": "2024-05-11T07:45:50.186584Z"
    },
    "colab": {
     "base_uri": "https://localhost:8080/"
    },
    "executionInfo": {
     "elapsed": 254,
     "status": "ok",
     "timestamp": 1715353009633,
     "user": {
      "displayName": "Gianfranco Basile",
      "userId": "13294037408742824037"
     },
     "user_tz": -120
    },
    "id": "rscdtUca1w5U",
    "outputId": "ff730a29-5d97-43f5-e164-ff11ea708c7b"
   },
   "outputs": [
    {
     "name": "stdout",
     "output_type": "stream",
     "text": [
      "Recall for each class: [0.97256872 0.82553957 0.95718232 0.86419753 0.99067164]\n"
     ]
    }
   ],
   "source": [
    "print(\"Recall for each class:\", recall)\n"
   ]
  },
  {
   "cell_type": "markdown",
   "metadata": {
    "id": "iVcfttH97knm"
   },
   "source": [
    "**Macro-average precision/recall**: The idea behind this metric is that, instead of having the precision for every class, it is possible to reduce them into one \"average\" metric. In this case we opted for a Macro-averaging precision and Macro-averagin racall. The reason we emploied the \"Macro-average\" is that it gives equal weight to each class, regardless of the number of instances."
   ]
  },
  {
   "cell_type": "code",
   "execution_count": 21,
   "metadata": {
    "ExecuteTime": {
     "end_time": "2024-05-11T07:45:51.180426Z",
     "start_time": "2024-05-11T07:45:51.167884Z"
    },
    "colab": {
     "base_uri": "https://localhost:8080/"
    },
    "executionInfo": {
     "elapsed": 12,
     "status": "ok",
     "timestamp": 1715352551690,
     "user": {
      "displayName": "Gianfranco Basile",
      "userId": "13294037408742824037"
     },
     "user_tz": -120
    },
    "id": "s25gn9sS1x9Y",
    "outputId": "a984d044-2a4d-465a-ceaa-55d9afb031c8"
   },
   "outputs": [
    {
     "name": "stdout",
     "output_type": "stream",
     "text": [
      "Macro-average precision: 0.81800776145024\n"
     ]
    }
   ],
   "source": [
    "print(\"Macro-average precision:\", macro_precision)\n"
   ]
  },
  {
   "cell_type": "markdown",
   "metadata": {
    "id": "_cBcGy0O-hXl"
   },
   "source": []
  },
  {
   "cell_type": "code",
   "execution_count": 22,
   "metadata": {
    "ExecuteTime": {
     "end_time": "2024-05-11T07:45:52.120677Z",
     "start_time": "2024-05-11T07:45:52.109128Z"
    },
    "colab": {
     "base_uri": "https://localhost:8080/"
    },
    "executionInfo": {
     "elapsed": 401,
     "status": "ok",
     "timestamp": 1715352550386,
     "user": {
      "displayName": "Gianfranco Basile",
      "userId": "13294037408742824037"
     },
     "user_tz": -120
    },
    "id": "A1f_uQyU1yXS",
    "outputId": "39521a8c-eab3-46a5-9476-12940d5a5d7f"
   },
   "outputs": [
    {
     "name": "stdout",
     "output_type": "stream",
     "text": [
      "Macro-average recall: 0.9220319555272789\n"
     ]
    }
   ],
   "source": [
    "print(\"Macro-average recall:\", macro_recall)"
   ]
  },
  {
   "cell_type": "markdown",
   "metadata": {
    "collapsed": false
   },
   "source": [
    "**Balanced Accuracy**: This metric is the average of recall obtained on each class. It is a good metric to use when the classes are imbalanced. In this case we have a value of 0.9339, which is very similar to the accuracy. This is due to the fact that the classes are balanced."
   ]
  },
  {
   "cell_type": "code",
   "execution_count": 23,
   "metadata": {
    "ExecuteTime": {
     "end_time": "2024-05-11T07:49:23.262880Z",
     "start_time": "2024-05-11T07:49:23.224127Z"
    },
    "collapsed": false
   },
   "outputs": [
    {
     "data": {
      "text/plain": [
       "0.9220319555272789"
      ]
     },
     "execution_count": 23,
     "metadata": {},
     "output_type": "execute_result"
    }
   ],
   "source": [
    "balanced_accuracy_score(y_true, y_preds)\n"
   ]
  }
 ],
 "metadata": {
  "colab": {
   "machine_shape": "hm",
   "provenance": []
  },
  "kernelspec": {
   "display_name": "Python 3 (ipykernel)",
   "language": "python",
   "name": "python3"
  },
  "language_info": {
   "codemirror_mode": {
    "name": "ipython",
    "version": 3
   },
   "file_extension": ".py",
   "mimetype": "text/x-python",
   "name": "python",
   "nbconvert_exporter": "python",
   "pygments_lexer": "ipython3",
   "version": "3.10.14"
  }
 },
 "nbformat": 4,
 "nbformat_minor": 0
}
