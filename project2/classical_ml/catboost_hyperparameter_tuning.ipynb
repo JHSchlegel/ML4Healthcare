{
 "cells": [
  {
   "cell_type": "markdown",
   "metadata": {},
   "source": [
    "# Gradient Boosting: Hyperparameter Tuning"
   ]
  },
  {
   "cell_type": "markdown",
   "metadata": {},
   "source": [
    "## Packages and Presets"
   ]
  },
  {
   "cell_type": "code",
   "execution_count": 1,
   "metadata": {},
   "outputs": [],
   "source": [
    "import pandas as pd\n",
    "import numpy as np\n",
    "import yaml\n",
    "import os\n",
    "import joblib\n",
    "\n",
    "from sklearn.metrics import (\n",
    "    f1_score, \n",
    "    balanced_accuracy_score,\n",
    ")\n",
    "\n",
    "from sklearn.model_selection import StratifiedKFold\n",
    "\n",
    "import matplotlib.pyplot as plt\n",
    "import seaborn as sns \n",
    "\n",
    "from imblearn.over_sampling import SMOTE\n",
    "\n",
    "import catboost as cb\n",
    "\n",
    "from tsfresh.transformers.per_column_imputer import PerColumnImputer\n",
    "from tsfresh.feature_extraction.settings import EfficientFCParameters, ComprehensiveFCParameters\n",
    "from tsfresh.feature_extraction import extract_features\n",
    "\n",
    "\n",
    "pd.set_option('display.max_columns', None)\n",
    "%load_ext blackcellmagic\n",
    "%load_ext autoreload\n",
    "\n",
    "import optuna\n",
    "import warnings"
   ]
  },
  {
   "cell_type": "code",
   "execution_count": 2,
   "metadata": {},
   "outputs": [],
   "source": [
    "NUM_TRIALS = 200\n",
    "\n",
    "with open(\"classical_ml_config.yaml\", \"r\") as file:\n",
    "    config = yaml.safe_load(file)"
   ]
  },
  {
   "cell_type": "markdown",
   "metadata": {},
   "source": [
    "## No Feature Engineering"
   ]
  },
  {
   "cell_type": "code",
   "execution_count": 3,
   "metadata": {},
   "outputs": [],
   "source": [
    "# Load data\n",
    "train_df = pd.read_csv(config[\"paths\"][\"ptb_train\"], header=None)"
   ]
  },
  {
   "cell_type": "code",
   "execution_count": 4,
   "metadata": {},
   "outputs": [],
   "source": [
    "X_train_all = train_df.iloc[:, :-1]\n",
    "y_train_all = train_df.iloc[:, -1]"
   ]
  },
  {
   "cell_type": "code",
   "execution_count": 5,
   "metadata": {},
   "outputs": [],
   "source": [
    "# create objective function for optuna\n",
    "def objective_no_feat_eng(trial):\n",
    "    use_smote = trial.suggest_categorical(\"use_smote\", [True, False]),\n",
    "\n",
    "    # see: https://forecastegy.com/posts/catboost-hyperparameter-tuning-guide-with-optuna/\n",
    "    hyperparams = {\n",
    "        \"learning_rate\": trial.suggest_float(\"learning_rate\", 1e-4, 0.5, log=True),\n",
    "        \"depth\": trial.suggest_int(\"depth\", 5, 10),\n",
    "        \"iterations\": trial.suggest_int(\"n_estimators\", 100, 1000),\n",
    "        \"l2_leaf_reg\": trial.suggest_float(\"l2_leaf_reg\", 1e-4, 1e2, log=True),\n",
    "        \"min_data_in_leaf\": trial.suggest_int(\"min_data_in_leaf\", 1, 100),\n",
    "    }\n",
    "    \n",
    "    \n",
    "    f1_scores = []\n",
    "    \n",
    "    skf = StratifiedKFold(n_splits=5, random_state=config[\"general\"][\"seed\"], shuffle=True)\n",
    "    for fold_num, (train_idx, val_idx) in enumerate(skf.split(X_train_all, y_train_all)):\n",
    "        X_train, X_val = X_train_all.iloc[train_idx], X_train_all.iloc[val_idx]\n",
    "        y_train, y_val = y_train_all[train_idx], y_train_all[val_idx]\n",
    "        \n",
    "        if use_smote:\n",
    "            smote = SMOTE(random_state=config[\"general\"][\"seed\"])\n",
    "            X_train, y_train = smote.fit_resample(X_train, y_train) \n",
    "        \n",
    "        \n",
    "        boost = cb.CatBoostClassifier(\n",
    "            task_type=\"CPU\", \n",
    "            random_state=config[\"general\"][\"seed\"],\n",
    "            **hyperparams\n",
    "        )\n",
    "        boost.fit(X_train, y_train, verbose=0)\n",
    "        \n",
    "        y_preds = boost.predict(X_val)\n",
    "        \n",
    "        score = f1_score(y_val, y_preds)\n",
    "            \n",
    "        trial.report(score, fold_num)\n",
    "        if trial.should_prune():\n",
    "            raise optuna.TrialPruned()\n",
    "        \n",
    "        f1_scores.append(score)\n",
    "            \n",
    "        \n",
    "    return np.mean(f1_scores)"
   ]
  },
  {
   "cell_type": "code",
   "execution_count": 6,
   "metadata": {},
   "outputs": [
    {
     "name": "stderr",
     "output_type": "stream",
     "text": [
      "[I 2024-04-30 00:01:53,060] A new study created in memory with name: boost_no_feat_eng\n"
     ]
    }
   ],
   "source": [
    "# prune bad trials \n",
    "pruner = optuna.pruners.MedianPruner(n_startup_trials=20, n_warmup_steps=2)\n",
    "\n",
    "study_no_feat_eng = optuna.create_study(\n",
    "    direction=\"maximize\",\n",
    "    study_name=\"boost_no_feat_eng\",\n",
    "    sampler=optuna.samplers.TPESampler(seed=config[\"general\"][\"seed\"]),\n",
    "    pruner=pruner,\n",
    ")"
   ]
  },
  {
   "cell_type": "code",
   "execution_count": 7,
   "metadata": {},
   "outputs": [
    {
     "data": {
      "application/vnd.jupyter.widget-view+json": {
       "model_id": "64ec6b6b41e84515a91a6ef25123b8cb",
       "version_major": 2,
       "version_minor": 0
      },
      "text/plain": [
       "  0%|          | 0/200 [00:00<?, ?it/s]"
      ]
     },
     "metadata": {},
     "output_type": "display_data"
    },
    {
     "name": "stdout",
     "output_type": "stream",
     "text": [
      "[I 2024-04-30 00:02:23,365] Trial 0 finished with value: 0.9826618956905921 and parameters: {'use_smote': False, 'learning_rate': 0.05100627805979915, 'depth': 8, 'n_estimators': 240, 'l2_leaf_reg': 0.0008629132190071859, 'min_data_in_leaf': 6}. Best is trial 0 with value: 0.9826618956905921.\n",
      "[I 2024-04-30 00:02:53,045] Trial 1 finished with value: 0.9811083732676746 and parameters: {'use_smote': True, 'learning_rate': 0.04160439645256607, 'depth': 5, 'n_estimators': 973, 'l2_leaf_reg': 9.877700294007917, 'min_data_in_leaf': 22}. Best is trial 0 with value: 0.9826618956905921.\n",
      "[I 2024-04-30 00:03:47,363] Trial 2 finished with value: 0.9014263125566135 and parameters: {'use_smote': False, 'learning_rate': 0.00133469775741781, 'depth': 8, 'n_estimators': 489, 'l2_leaf_reg': 0.005589524205217926, 'min_data_in_leaf': 62}. Best is trial 0 with value: 0.9826618956905921.\n",
      "[I 2024-04-30 00:04:37,204] Trial 3 finished with value: 0.9227342334581738 and parameters: {'use_smote': False, 'learning_rate': 0.002265486450485179, 'depth': 7, 'n_estimators': 807, 'l2_leaf_reg': 0.0015777663630582469, 'min_data_in_leaf': 52}. Best is trial 0 with value: 0.9826618956905921.\n",
      "[I 2024-04-30 00:04:44,679] Trial 4 finished with value: 0.9084360958934763 and parameters: {'use_smote': True, 'learning_rate': 0.01767218232266507, 'depth': 6, 'n_estimators': 158, 'l2_leaf_reg': 49.35296209402104, 'min_data_in_leaf': 97}. Best is trial 0 with value: 0.9826618956905921.\n",
      "[I 2024-04-30 00:06:36,783] Trial 5 finished with value: 0.8937356832419976 and parameters: {'use_smote': True, 'learning_rate': 0.0002297662414082499, 'depth': 9, 'n_estimators': 496, 'l2_leaf_reg': 0.0005397956855996448, 'min_data_in_leaf': 50}. Best is trial 0 with value: 0.9826618956905921.\n",
      "[I 2024-04-30 00:07:19,389] Trial 6 finished with value: 0.8870996964161803 and parameters: {'use_smote': False, 'learning_rate': 0.0009061902594114382, 'depth': 8, 'n_estimators': 380, 'l2_leaf_reg': 0.1319496149042567, 'min_data_in_leaf': 55}. Best is trial 0 with value: 0.9826618956905921.\n",
      "[I 2024-04-30 00:10:47,012] Trial 7 finished with value: 0.986275188123529 and parameters: {'use_smote': False, 'learning_rate': 0.0736534446668837, 'depth': 10, 'n_estimators': 906, 'l2_leaf_reg': 0.3867228849117747, 'min_data_in_leaf': 93}. Best is trial 7 with value: 0.986275188123529.\n",
      "[I 2024-04-30 00:11:02,343] Trial 8 finished with value: 0.8608498272352261 and parameters: {'use_smote': False, 'learning_rate': 0.00014699223219374907, 'depth': 6, 'n_estimators': 450, 'l2_leaf_reg': 0.004247116662617146, 'min_data_in_leaf': 83}. Best is trial 7 with value: 0.986275188123529.\n",
      "[I 2024-04-30 00:11:25,591] Trial 9 finished with value: 0.957178994296159 and parameters: {'use_smote': True, 'learning_rate': 0.010172238474449055, 'depth': 5, 'n_estimators': 822, 'l2_leaf_reg': 0.00028009403633756793, 'min_data_in_leaf': 99}. Best is trial 7 with value: 0.986275188123529.\n",
      "[I 2024-04-30 00:13:58,232] Trial 10 finished with value: 0.9844231897482445 and parameters: {'use_smote': False, 'learning_rate': 0.2500079596315153, 'depth': 10, 'n_estimators': 704, 'l2_leaf_reg': 0.526059318173317, 'min_data_in_leaf': 74}. Best is trial 7 with value: 0.986275188123529.\n",
      "[I 2024-04-30 00:16:26,196] Trial 11 finished with value: 0.9816767934994491 and parameters: {'use_smote': False, 'learning_rate': 0.40780593388708014, 'depth': 10, 'n_estimators': 690, 'l2_leaf_reg': 0.80187885086786, 'min_data_in_leaf': 76}. Best is trial 7 with value: 0.986275188123529.\n",
      "[I 2024-04-30 00:18:54,151] Trial 12 finished with value: 0.9812403824941868 and parameters: {'use_smote': False, 'learning_rate': 0.45871593902613605, 'depth': 10, 'n_estimators': 696, 'l2_leaf_reg': 0.9695593631143825, 'min_data_in_leaf': 77}. Best is trial 7 with value: 0.986275188123529.\n",
      "[I 2024-04-30 00:22:31,624] Trial 13 finished with value: 0.9857987269141779 and parameters: {'use_smote': False, 'learning_rate': 0.11778790368374273, 'depth': 10, 'n_estimators': 1000, 'l2_leaf_reg': 0.06489800003437501, 'min_data_in_leaf': 88}. Best is trial 7 with value: 0.986275188123529.\n",
      "[I 2024-04-30 00:25:46,654] Trial 14 finished with value: 0.9852592843844661 and parameters: {'use_smote': False, 'learning_rate': 0.11156523715078995, 'depth': 9, 'n_estimators': 997, 'l2_leaf_reg': 0.027795604922870122, 'min_data_in_leaf': 37}. Best is trial 7 with value: 0.986275188123529.\n",
      "[I 2024-04-30 00:28:41,554] Trial 15 finished with value: 0.9859772670594067 and parameters: {'use_smote': False, 'learning_rate': 0.09449542161218008, 'depth': 9, 'n_estimators': 886, 'l2_leaf_reg': 0.05959601193113042, 'min_data_in_leaf': 89}. Best is trial 7 with value: 0.986275188123529.\n",
      "[I 2024-04-30 00:31:37,211] Trial 16 finished with value: 0.9858561888971975 and parameters: {'use_smote': False, 'learning_rate': 0.022202706288648344, 'depth': 9, 'n_estimators': 852, 'l2_leaf_reg': 4.830744940208232, 'min_data_in_leaf': 66}. Best is trial 7 with value: 0.986275188123529.\n",
      "[I 2024-04-30 00:34:47,852] Trial 17 finished with value: 0.974482005246065 and parameters: {'use_smote': False, 'learning_rate': 0.004351514638535655, 'depth': 9, 'n_estimators': 887, 'l2_leaf_reg': 0.031176308581394186, 'min_data_in_leaf': 97}. Best is trial 7 with value: 0.986275188123529.\n",
      "[I 2024-04-30 00:36:46,456] Trial 18 finished with value: 0.9871777100101768 and parameters: {'use_smote': True, 'learning_rate': 0.10307288968491364, 'depth': 9, 'n_estimators': 588, 'l2_leaf_reg': 0.3352101319874658, 'min_data_in_leaf': 88}. Best is trial 18 with value: 0.9871777100101768.\n",
      "[I 2024-04-30 00:37:14,450] Trial 19 finished with value: 0.9833843688968826 and parameters: {'use_smote': True, 'learning_rate': 0.03477429205503161, 'depth': 7, 'n_estimators': 605, 'l2_leaf_reg': 3.823704916741752, 'min_data_in_leaf': 66}. Best is trial 18 with value: 0.9871777100101768.\n",
      "[I 2024-04-30 00:38:05,771] Trial 20 pruned. \n",
      "[I 2024-04-30 00:40:01,960] Trial 21 finished with value: 0.9851290529537235 and parameters: {'use_smote': True, 'learning_rate': 0.09866580668773767, 'depth': 9, 'n_estimators': 580, 'l2_leaf_reg': 0.01018881154011713, 'min_data_in_leaf': 89}. Best is trial 18 with value: 0.9871777100101768.\n",
      "[I 2024-04-30 00:42:26,366] Trial 22 finished with value: 0.985198880468524 and parameters: {'use_smote': True, 'learning_rate': 0.1974566505132452, 'depth': 9, 'n_estimators': 752, 'l2_leaf_reg': 0.1570851367360595, 'min_data_in_leaf': 86}. Best is trial 18 with value: 0.9871777100101768.\n",
      "[I 2024-04-30 00:43:59,126] Trial 23 finished with value: 0.9878977570934827 and parameters: {'use_smote': True, 'learning_rate': 0.06487575207675508, 'depth': 8, 'n_estimators': 915, 'l2_leaf_reg': 1.5718713677684326, 'min_data_in_leaf': 92}. Best is trial 23 with value: 0.9878977570934827.\n",
      "[I 2024-04-30 00:44:58,064] Trial 24 finished with value: 0.9871826235642622 and parameters: {'use_smote': True, 'learning_rate': 0.061265593030804165, 'depth': 8, 'n_estimators': 631, 'l2_leaf_reg': 2.160378503295735, 'min_data_in_leaf': 99}. Best is trial 23 with value: 0.9878977570934827.\n",
      "[I 2024-04-30 00:45:43,619] Trial 25 pruned. \n",
      "[I 2024-04-30 00:45:57,594] Trial 26 finished with value: 0.9858557578159853 and parameters: {'use_smote': True, 'learning_rate': 0.1697179012579953, 'depth': 7, 'n_estimators': 402, 'l2_leaf_reg': 2.463211234595801, 'min_data_in_leaf': 68}. Best is trial 23 with value: 0.9878977570934827.\n",
      "[I 2024-04-30 00:46:55,974] Trial 27 finished with value: 0.9863330814079732 and parameters: {'use_smote': True, 'learning_rate': 0.04937979422096688, 'depth': 8, 'n_estimators': 554, 'l2_leaf_reg': 1.8329946959613954, 'min_data_in_leaf': 100}. Best is trial 23 with value: 0.9878977570934827.\n",
      "[I 2024-04-30 00:47:20,638] Trial 28 pruned. \n",
      "[I 2024-04-30 00:47:31,098] Trial 29 pruned. \n",
      "[I 2024-04-30 00:48:48,337] Trial 30 finished with value: 0.9874803598099675 and parameters: {'use_smote': True, 'learning_rate': 0.051896815920118876, 'depth': 8, 'n_estimators': 753, 'l2_leaf_reg': 1.1437841461177254, 'min_data_in_leaf': 11}. Best is trial 23 with value: 0.9878977570934827.\n",
      "[I 2024-04-30 00:49:59,044] Trial 31 finished with value: 0.9875333504073721 and parameters: {'use_smote': True, 'learning_rate': 0.05859968227521117, 'depth': 8, 'n_estimators': 738, 'l2_leaf_reg': 1.5098052190353701, 'min_data_in_leaf': 4}. Best is trial 23 with value: 0.9878977570934827.\n",
      "[I 2024-04-30 00:51:17,270] Trial 32 finished with value: 0.9858641025982593 and parameters: {'use_smote': True, 'learning_rate': 0.05505146385077374, 'depth': 8, 'n_estimators': 751, 'l2_leaf_reg': 14.590627015847932, 'min_data_in_leaf': 1}. Best is trial 23 with value: 0.9878977570934827.\n",
      "[I 2024-04-30 00:51:39,514] Trial 33 pruned. \n",
      "[I 2024-04-30 00:53:10,408] Trial 34 finished with value: 0.9878965479765421 and parameters: {'use_smote': True, 'learning_rate': 0.04727593169751486, 'depth': 8, 'n_estimators': 932, 'l2_leaf_reg': 1.2678366722165249, 'min_data_in_leaf': 14}. Best is trial 23 with value: 0.9878977570934827.\n",
      "[I 2024-04-30 00:54:48,379] Trial 35 finished with value: 0.9875918322242672 and parameters: {'use_smote': True, 'learning_rate': 0.04437860635641264, 'depth': 8, 'n_estimators': 919, 'l2_leaf_reg': 1.1938964442202078, 'min_data_in_leaf': 15}. Best is trial 23 with value: 0.9878977570934827.\n",
      "[I 2024-04-30 00:55:18,286] Trial 36 pruned. \n",
      "[I 2024-04-30 00:55:40,858] Trial 37 pruned. \n",
      "[I 2024-04-30 00:57:04,062] Trial 38 finished with value: 0.9853954188969445 and parameters: {'use_smote': True, 'learning_rate': 0.26527439637794237, 'depth': 8, 'n_estimators': 854, 'l2_leaf_reg': 69.90427913994696, 'min_data_in_leaf': 17}. Best is trial 23 with value: 0.9878977570934827.\n",
      "[I 2024-04-30 00:58:02,783] Trial 39 pruned. \n",
      "[I 2024-04-30 00:58:17,182] Trial 40 pruned. \n",
      "[I 2024-04-30 00:59:39,983] Trial 41 finished with value: 0.9869973036474866 and parameters: {'use_smote': True, 'learning_rate': 0.04089679665546112, 'depth': 8, 'n_estimators': 763, 'l2_leaf_reg': 0.9352632933696169, 'min_data_in_leaf': 10}. Best is trial 23 with value: 0.9878977570934827.\n",
      "[I 2024-04-30 01:00:31,248] Trial 42 pruned. \n",
      "[I 2024-04-30 01:01:54,963] Trial 43 finished with value: 0.9861664770086603 and parameters: {'use_smote': True, 'learning_rate': 0.15731884650772396, 'depth': 8, 'n_estimators': 896, 'l2_leaf_reg': 1.2492044413858492, 'min_data_in_leaf': 22}. Best is trial 23 with value: 0.9878977570934827.\n",
      "[I 2024-04-30 01:02:21,903] Trial 44 finished with value: 0.98604144560341 and parameters: {'use_smote': True, 'learning_rate': 0.06484168403888883, 'depth': 7, 'n_estimators': 504, 'l2_leaf_reg': 3.3946573229438743, 'min_data_in_leaf': 6}. Best is trial 23 with value: 0.9878977570934827.\n",
      "[I 2024-04-30 01:03:19,565] Trial 45 pruned. \n",
      "[I 2024-04-30 01:03:38,156] Trial 46 pruned. \n",
      "[I 2024-04-30 01:06:49,280] Trial 47 finished with value: 0.9875352622711793 and parameters: {'use_smote': True, 'learning_rate': 0.07550979646960167, 'depth': 9, 'n_estimators': 912, 'l2_leaf_reg': 0.5332897309695229, 'min_data_in_leaf': 21}. Best is trial 23 with value: 0.9878977570934827.\n",
      "[I 2024-04-30 01:08:29,539] Trial 48 pruned. \n",
      "[I 2024-04-30 01:11:45,440] Trial 49 finished with value: 0.9879574332827309 and parameters: {'use_smote': True, 'learning_rate': 0.07607529270889558, 'depth': 9, 'n_estimators': 980, 'l2_leaf_reg': 0.5420382729591812, 'min_data_in_leaf': 21}. Best is trial 49 with value: 0.9879574332827309.\n",
      "[I 2024-04-30 01:14:59,796] Trial 50 finished with value: 0.9868795564432695 and parameters: {'use_smote': True, 'learning_rate': 0.13118399386562163, 'depth': 9, 'n_estimators': 980, 'l2_leaf_reg': 0.5615835615523227, 'min_data_in_leaf': 29}. Best is trial 49 with value: 0.9879574332827309.\n",
      "[I 2024-04-30 01:17:45,955] Trial 51 finished with value: 0.987001869010327 and parameters: {'use_smote': True, 'learning_rate': 0.08439172402538823, 'depth': 9, 'n_estimators': 867, 'l2_leaf_reg': 0.17900416445009704, 'min_data_in_leaf': 21}. Best is trial 49 with value: 0.9879574332827309.\n",
      "[I 2024-04-30 01:20:44,753] Trial 52 finished with value: 0.9863323659211671 and parameters: {'use_smote': True, 'learning_rate': 0.07684105997711943, 'depth': 9, 'n_estimators': 908, 'l2_leaf_reg': 0.06559051804766199, 'min_data_in_leaf': 6}. Best is trial 49 with value: 0.9879574332827309.\n",
      "[I 2024-04-30 01:24:25,439] Trial 53 finished with value: 0.9864566847962738 and parameters: {'use_smote': True, 'learning_rate': 0.017991232496668504, 'depth': 10, 'n_estimators': 974, 'l2_leaf_reg': 0.5602637366855064, 'min_data_in_leaf': 21}. Best is trial 49 with value: 0.9879574332827309.\n",
      "[I 2024-04-30 01:26:06,161] Trial 54 pruned. \n",
      "[I 2024-04-30 01:29:19,825] Trial 55 finished with value: 0.9875402731406243 and parameters: {'use_smote': True, 'learning_rate': 0.04454481340584691, 'depth': 9, 'n_estimators': 999, 'l2_leaf_reg': 0.09612912724801312, 'min_data_in_leaf': 44}. Best is trial 49 with value: 0.9879574332827309.\n",
      "[I 2024-04-30 01:31:28,254] Trial 56 pruned. \n",
      "[I 2024-04-30 01:34:30,076] Trial 57 finished with value: 0.9854367391040594 and parameters: {'use_smote': False, 'learning_rate': 0.04111907531529174, 'depth': 10, 'n_estimators': 934, 'l2_leaf_reg': 0.00012268847940077938, 'min_data_in_leaf': 32}. Best is trial 49 with value: 0.9879574332827309.\n",
      "[I 2024-04-30 01:37:25,621] Trial 58 finished with value: 0.9862830492958488 and parameters: {'use_smote': True, 'learning_rate': 0.13631684895761215, 'depth': 9, 'n_estimators': 890, 'l2_leaf_reg': 0.08986350907488976, 'min_data_in_leaf': 57}. Best is trial 49 with value: 0.9879574332827309.\n",
      "[I 2024-04-30 01:37:37,647] Trial 59 pruned. \n",
      "[I 2024-04-30 01:40:45,551] Trial 60 finished with value: 0.9870508057475578 and parameters: {'use_smote': True, 'learning_rate': 0.07343282963053953, 'depth': 9, 'n_estimators': 998, 'l2_leaf_reg': 0.012946983255125508, 'min_data_in_leaf': 24}. Best is trial 49 with value: 0.9879574332827309.\n",
      "[I 2024-04-30 01:42:21,949] Trial 61 finished with value: 0.9867543787737493 and parameters: {'use_smote': True, 'learning_rate': 0.028882081989989643, 'depth': 8, 'n_estimators': 962, 'l2_leaf_reg': 0.23041198449750683, 'min_data_in_leaf': 5}. Best is trial 49 with value: 0.9879574332827309.\n",
      "[I 2024-04-30 01:45:23,335] Trial 62 finished with value: 0.9870684340436904 and parameters: {'use_smote': True, 'learning_rate': 0.10131972041248062, 'depth': 9, 'n_estimators': 878, 'l2_leaf_reg': 0.6391952509210459, 'min_data_in_leaf': 18}. Best is trial 49 with value: 0.9879574332827309.\n",
      "[I 2024-04-30 01:46:48,474] Trial 63 finished with value: 0.9877221604738292 and parameters: {'use_smote': True, 'learning_rate': 0.04967485793281997, 'depth': 8, 'n_estimators': 915, 'l2_leaf_reg': 0.36006224221163213, 'min_data_in_leaf': 31}. Best is trial 49 with value: 0.9879574332827309.\n",
      "[I 2024-04-30 01:48:13,210] Trial 64 finished with value: 0.9879571101701753 and parameters: {'use_smote': True, 'learning_rate': 0.04703579349154474, 'depth': 8, 'n_estimators': 902, 'l2_leaf_reg': 0.347245010192743, 'min_data_in_leaf': 44}. Best is trial 49 with value: 0.9879574332827309.\n",
      "[I 2024-04-30 01:49:43,581] Trial 65 finished with value: 0.9872388254366676 and parameters: {'use_smote': False, 'learning_rate': 0.02567494077211475, 'depth': 8, 'n_estimators': 957, 'l2_leaf_reg': 0.09711725019525978, 'min_data_in_leaf': 41}. Best is trial 49 with value: 0.9879574332827309.\n",
      "[I 2024-04-30 01:51:11,445] Trial 66 finished with value: 0.9872962193414752 and parameters: {'use_smote': True, 'learning_rate': 0.045522689889905266, 'depth': 8, 'n_estimators': 832, 'l2_leaf_reg': 0.303090128148872, 'min_data_in_leaf': 46}. Best is trial 49 with value: 0.9879574332827309.\n",
      "[I 2024-04-30 01:51:17,617] Trial 67 pruned. \n",
      "[I 2024-04-30 01:52:48,277] Trial 68 finished with value: 0.9871167405351494 and parameters: {'use_smote': True, 'learning_rate': 0.03371966536667835, 'depth': 8, 'n_estimators': 915, 'l2_leaf_reg': 0.32042041783370434, 'min_data_in_leaf': 33}. Best is trial 49 with value: 0.9879574332827309.\n",
      "[I 2024-04-30 01:53:10,027] Trial 69 pruned. \n",
      "[I 2024-04-30 01:54:40,629] Trial 70 finished with value: 0.9866517238449836 and parameters: {'use_smote': False, 'learning_rate': 0.17038676161598987, 'depth': 8, 'n_estimators': 927, 'l2_leaf_reg': 0.1821616787292396, 'min_data_in_leaf': 47}. Best is trial 49 with value: 0.9879574332827309.\n",
      "[I 2024-04-30 01:57:44,766] Trial 71 finished with value: 0.9880127574081407 and parameters: {'use_smote': True, 'learning_rate': 0.06306701805077518, 'depth': 9, 'n_estimators': 912, 'l2_leaf_reg': 0.4825386348707952, 'min_data_in_leaf': 30}. Best is trial 71 with value: 0.9880127574081407.\n",
      "[I 2024-04-30 02:00:59,107] Trial 72 finished with value: 0.9880232591234878 and parameters: {'use_smote': True, 'learning_rate': 0.051252695733912355, 'depth': 9, 'n_estimators': 961, 'l2_leaf_reg': 1.0410255270561004, 'min_data_in_leaf': 32}. Best is trial 72 with value: 0.9880232591234878.\n",
      "[I 2024-04-30 02:03:59,551] Trial 73 finished with value: 0.9877215488218892 and parameters: {'use_smote': True, 'learning_rate': 0.057557884581643404, 'depth': 10, 'n_estimators': 844, 'l2_leaf_reg': 0.8147681444187511, 'min_data_in_leaf': 31}. Best is trial 72 with value: 0.9880232591234878.\n",
      "[I 2024-04-30 02:07:14,229] Trial 74 finished with value: 0.9868837358081087 and parameters: {'use_smote': True, 'learning_rate': 0.09340500167952055, 'depth': 10, 'n_estimators': 966, 'l2_leaf_reg': 0.8377492847424131, 'min_data_in_leaf': 29}. Best is trial 72 with value: 0.9880232591234878.\n",
      "[I 2024-04-30 02:10:16,508] Trial 75 finished with value: 0.9885016102956301 and parameters: {'use_smote': True, 'learning_rate': 0.06111785339864093, 'depth': 10, 'n_estimators': 854, 'l2_leaf_reg': 1.9151241607277159, 'min_data_in_leaf': 36}. Best is trial 75 with value: 0.9885016102956301.\n",
      "[I 2024-04-30 02:13:06,102] Trial 76 finished with value: 0.9870662046140227 and parameters: {'use_smote': True, 'learning_rate': 0.11842389484957173, 'depth': 10, 'n_estimators': 867, 'l2_leaf_reg': 1.9285207982991166, 'min_data_in_leaf': 35}. Best is trial 75 with value: 0.9885016102956301.\n",
      "[I 2024-04-30 02:14:53,254] Trial 77 pruned. \n",
      "[I 2024-04-30 02:17:38,462] Trial 78 finished with value: 0.9878382480822043 and parameters: {'use_smote': True, 'learning_rate': 0.0587903335529309, 'depth': 9, 'n_estimators': 779, 'l2_leaf_reg': 0.46846030336461914, 'min_data_in_leaf': 27}. Best is trial 75 with value: 0.9885016102956301.\n",
      "[I 2024-04-30 02:20:15,406] Trial 79 finished with value: 0.9877812649566324 and parameters: {'use_smote': True, 'learning_rate': 0.06358565085140089, 'depth': 9, 'n_estimators': 775, 'l2_leaf_reg': 1.6550856220862602, 'min_data_in_leaf': 25}. Best is trial 75 with value: 0.9885016102956301.\n",
      "[I 2024-04-30 02:22:15,493] Trial 80 pruned. \n",
      "[I 2024-04-30 02:24:33,456] Trial 81 finished with value: 0.9872438017710412 and parameters: {'use_smote': True, 'learning_rate': 0.06662992668364741, 'depth': 9, 'n_estimators': 675, 'l2_leaf_reg': 1.454581639248403, 'min_data_in_leaf': 24}. Best is trial 75 with value: 0.9885016102956301.\n",
      "[I 2024-04-30 02:27:04,940] Trial 82 finished with value: 0.987353412132553 and parameters: {'use_smote': True, 'learning_rate': 0.08587744759546609, 'depth': 9, 'n_estimators': 729, 'l2_leaf_reg': 2.912174659174172, 'min_data_in_leaf': 26}. Best is trial 75 with value: 0.9885016102956301.\n",
      "[I 2024-04-30 02:29:46,913] Trial 83 finished with value: 0.9871697640946252 and parameters: {'use_smote': True, 'learning_rate': 0.06503094719064816, 'depth': 10, 'n_estimators': 768, 'l2_leaf_reg': 0.44938323985372364, 'min_data_in_leaf': 29}. Best is trial 75 with value: 0.9885016102956301.\n",
      "[I 2024-04-30 02:32:15,660] Trial 84 finished with value: 0.9867062326617013 and parameters: {'use_smote': True, 'learning_rate': 0.14646945232275937, 'depth': 9, 'n_estimators': 782, 'l2_leaf_reg': 1.7101758242931737, 'min_data_in_leaf': 18}. Best is trial 75 with value: 0.9885016102956301.\n",
      "[I 2024-04-30 02:35:17,148] Trial 85 finished with value: 0.986704925092847 and parameters: {'use_smote': True, 'learning_rate': 0.10507241783361607, 'depth': 9, 'n_estimators': 891, 'l2_leaf_reg': 1.0040464068834187, 'min_data_in_leaf': 27}. Best is trial 75 with value: 0.9885016102956301.\n",
      "[I 2024-04-30 02:38:08,993] Trial 86 finished with value: 0.9878972954840328 and parameters: {'use_smote': True, 'learning_rate': 0.05368496485917292, 'depth': 9, 'n_estimators': 826, 'l2_leaf_reg': 4.367037835502721, 'min_data_in_leaf': 49}. Best is trial 75 with value: 0.9885016102956301.\n",
      "[I 2024-04-30 02:40:59,770] Trial 87 finished with value: 0.9870645385989617 and parameters: {'use_smote': True, 'learning_rate': 0.19102658325169503, 'depth': 10, 'n_estimators': 820, 'l2_leaf_reg': 6.418603652207048, 'min_data_in_leaf': 54}. Best is trial 75 with value: 0.9885016102956301.\n",
      "[I 2024-04-30 02:43:53,343] Trial 88 finished with value: 0.9877822640867608 and parameters: {'use_smote': True, 'learning_rate': 0.0521369043311944, 'depth': 9, 'n_estimators': 854, 'l2_leaf_reg': 4.215898311001212, 'min_data_in_leaf': 43}. Best is trial 75 with value: 0.9885016102956301.\n",
      "[I 2024-04-30 02:44:30,927] Trial 89 pruned. \n",
      "[I 2024-04-30 02:47:39,761] Trial 90 finished with value: 0.9870504877109714 and parameters: {'use_smote': True, 'learning_rate': 0.020965335171747795, 'depth': 9, 'n_estimators': 898, 'l2_leaf_reg': 0.23189366895011107, 'min_data_in_leaf': 48}. Best is trial 75 with value: 0.9885016102956301.\n",
      "[I 2024-04-30 02:50:45,083] Trial 91 finished with value: 0.9873586154389994 and parameters: {'use_smote': True, 'learning_rate': 0.05268923755519636, 'depth': 9, 'n_estimators': 853, 'l2_leaf_reg': 4.366243003327285, 'min_data_in_leaf': 50}. Best is trial 75 with value: 0.9885016102956301.\n",
      "[I 2024-04-30 02:53:36,043] Trial 92 finished with value: 0.988079336176123 and parameters: {'use_smote': True, 'learning_rate': 0.07851179989047283, 'depth': 9, 'n_estimators': 869, 'l2_leaf_reg': 2.3698985447108125, 'min_data_in_leaf': 41}. Best is trial 75 with value: 0.9885016102956301.\n",
      "[I 2024-04-30 02:55:30,877] Trial 93 pruned. \n",
      "[I 2024-04-30 02:58:40,416] Trial 94 finished with value: 0.9881888398720179 and parameters: {'use_smote': True, 'learning_rate': 0.07680573323673966, 'depth': 9, 'n_estimators': 939, 'l2_leaf_reg': 2.5747840829785553, 'min_data_in_leaf': 53}. Best is trial 75 with value: 0.9885016102956301.\n",
      "[I 2024-04-30 03:00:04,584] Trial 95 finished with value: 0.9880726871285402 and parameters: {'use_smote': True, 'learning_rate': 0.11333884548048545, 'depth': 8, 'n_estimators': 934, 'l2_leaf_reg': 2.566922420407005, 'min_data_in_leaf': 84}. Best is trial 75 with value: 0.9885016102956301.\n",
      "[I 2024-04-30 03:03:18,787] Trial 96 finished with value: 0.9874248946864747 and parameters: {'use_smote': True, 'learning_rate': 0.13014400360339534, 'depth': 9, 'n_estimators': 949, 'l2_leaf_reg': 2.5946061825912525, 'min_data_in_leaf': 94}. Best is trial 75 with value: 0.9885016102956301.\n",
      "[I 2024-04-30 03:03:58,522] Trial 97 pruned. \n",
      "[I 2024-04-30 03:07:23,256] Trial 98 finished with value: 0.9868847306143855 and parameters: {'use_smote': True, 'learning_rate': 0.07829408661263224, 'depth': 9, 'n_estimators': 972, 'l2_leaf_reg': 7.1946009524863745, 'min_data_in_leaf': 70}. Best is trial 75 with value: 0.9885016102956301.\n",
      "[I 2024-04-30 03:07:39,298] Trial 99 pruned. \n",
      "[I 2024-04-30 03:09:07,149] Trial 100 finished with value: 0.987362553144564 and parameters: {'use_smote': True, 'learning_rate': 0.11190403300749356, 'depth': 8, 'n_estimators': 891, 'l2_leaf_reg': 3.438689696833691, 'min_data_in_leaf': 82}. Best is trial 75 with value: 0.9885016102956301.\n",
      "[I 2024-04-30 03:10:00,140] Trial 101 pruned. \n",
      "[I 2024-04-30 03:11:25,550] Trial 102 finished with value: 0.9877161175213642 and parameters: {'use_smote': True, 'learning_rate': 0.07488173641354096, 'depth': 8, 'n_estimators': 914, 'l2_leaf_reg': 1.33108808960575, 'min_data_in_leaf': 63}. Best is trial 75 with value: 0.9885016102956301.\n",
      "[I 2024-04-30 03:13:01,498] Trial 103 finished with value: 0.9870567077695565 and parameters: {'use_smote': True, 'learning_rate': 0.09019459091527839, 'depth': 8, 'n_estimators': 979, 'l2_leaf_reg': 4.958448756239068, 'min_data_in_leaf': 79}. Best is trial 75 with value: 0.9885016102956301.\n",
      "[I 2024-04-30 03:13:12,953] Trial 104 pruned. \n",
      "[I 2024-04-30 03:13:42,992] Trial 105 pruned. \n",
      "[I 2024-04-30 03:14:38,946] Trial 106 pruned. \n",
      "[I 2024-04-30 03:17:33,696] Trial 107 finished with value: 0.9859312965544083 and parameters: {'use_smote': True, 'learning_rate': 0.26828249959254036, 'depth': 9, 'n_estimators': 906, 'l2_leaf_reg': 3.285373433402659, 'min_data_in_leaf': 40}. Best is trial 75 with value: 0.9885016102956301.\n",
      "[I 2024-04-30 03:18:25,268] Trial 108 pruned. \n",
      "[I 2024-04-30 03:21:12,675] Trial 109 finished with value: 0.9868749351841535 and parameters: {'use_smote': True, 'learning_rate': 0.12212367781812156, 'depth': 9, 'n_estimators': 862, 'l2_leaf_reg': 1.6550000054821568, 'min_data_in_leaf': 9}. Best is trial 75 with value: 0.9885016102956301.\n",
      "[I 2024-04-30 03:22:44,180] Trial 110 finished with value: 0.987840309215535 and parameters: {'use_smote': True, 'learning_rate': 0.07442048711795868, 'depth': 8, 'n_estimators': 962, 'l2_leaf_reg': 0.5903011052802112, 'min_data_in_leaf': 12}. Best is trial 75 with value: 0.9885016102956301.\n",
      "[I 2024-04-30 03:24:15,901] Trial 111 finished with value: 0.9867008992667057 and parameters: {'use_smote': True, 'learning_rate': 0.0706719537635071, 'depth': 8, 'n_estimators': 966, 'l2_leaf_reg': 0.6294560657113096, 'min_data_in_leaf': 16}. Best is trial 75 with value: 0.9885016102956301.\n",
      "[I 2024-04-30 03:25:55,405] Trial 112 finished with value: 0.9874758379617988 and parameters: {'use_smote': True, 'learning_rate': 0.05114097705307537, 'depth': 8, 'n_estimators': 996, 'l2_leaf_reg': 0.4606000545049491, 'min_data_in_leaf': 13}. Best is trial 75 with value: 0.9885016102956301.\n",
      "[I 2024-04-30 03:27:18,220] Trial 113 finished with value: 0.9883855764531979 and parameters: {'use_smote': True, 'learning_rate': 0.10328983149568222, 'depth': 8, 'n_estimators': 899, 'l2_leaf_reg': 0.8951733935936779, 'min_data_in_leaf': 19}. Best is trial 75 with value: 0.9885016102956301.\n",
      "[I 2024-04-30 03:28:39,004] Trial 114 finished with value: 0.988019610773577 and parameters: {'use_smote': True, 'learning_rate': 0.06147020482348325, 'depth': 8, 'n_estimators': 878, 'l2_leaf_reg': 1.1677653454851418, 'min_data_in_leaf': 19}. Best is trial 75 with value: 0.9885016102956301.\n",
      "[I 2024-04-30 03:31:28,289] Trial 115 finished with value: 0.9872378188443302 and parameters: {'use_smote': True, 'learning_rate': 0.09577585673023592, 'depth': 9, 'n_estimators': 818, 'l2_leaf_reg': 2.409356718432036, 'min_data_in_leaf': 43}. Best is trial 75 with value: 0.9885016102956301.\n",
      "[I 2024-04-30 03:32:10,232] Trial 116 pruned. \n",
      "[I 2024-04-30 03:35:27,473] Trial 117 finished with value: 0.9877146776385313 and parameters: {'use_smote': True, 'learning_rate': 0.03264461835247876, 'depth': 9, 'n_estimators': 904, 'l2_leaf_reg': 0.9155963654936946, 'min_data_in_leaf': 20}. Best is trial 75 with value: 0.9885016102956301.\n",
      "[I 2024-04-30 03:35:49,849] Trial 118 pruned. \n",
      "[I 2024-04-30 03:39:01,421] Trial 119 finished with value: 0.988201063584533 and parameters: {'use_smote': True, 'learning_rate': 0.059531049753716515, 'depth': 10, 'n_estimators': 890, 'l2_leaf_reg': 1.921431067914085, 'min_data_in_leaf': 98}. Best is trial 75 with value: 0.9885016102956301.\n",
      "[I 2024-04-30 03:40:48,287] Trial 120 pruned. \n",
      "[I 2024-04-30 03:43:44,323] Trial 121 finished with value: 0.987662502226969 and parameters: {'use_smote': True, 'learning_rate': 0.05715684878836605, 'depth': 10, 'n_estimators': 807, 'l2_leaf_reg': 1.8391047304171468, 'min_data_in_leaf': 98}. Best is trial 75 with value: 0.9885016102956301.\n",
      "[I 2024-04-30 03:46:44,619] Trial 122 finished with value: 0.9880213704427454 and parameters: {'use_smote': True, 'learning_rate': 0.0620980023678777, 'depth': 10, 'n_estimators': 840, 'l2_leaf_reg': 3.1134655205782735, 'min_data_in_leaf': 91}. Best is trial 75 with value: 0.9885016102956301.\n",
      "[I 2024-04-30 03:49:58,080] Trial 123 finished with value: 0.9879066920315772 and parameters: {'use_smote': True, 'learning_rate': 0.042774576967535755, 'depth': 10, 'n_estimators': 864, 'l2_leaf_reg': 2.8654506971325464, 'min_data_in_leaf': 96}. Best is trial 75 with value: 0.9885016102956301.\n",
      "[I 2024-04-30 03:53:08,661] Trial 124 finished with value: 0.9871267260471631 and parameters: {'use_smote': True, 'learning_rate': 0.04147783849013323, 'depth': 10, 'n_estimators': 861, 'l2_leaf_reg': 2.8571328024460425, 'min_data_in_leaf': 95}. Best is trial 75 with value: 0.9885016102956301.\n",
      "[I 2024-04-30 03:56:12,192] Trial 125 finished with value: 0.987184935990498 and parameters: {'use_smote': True, 'learning_rate': 0.06578133451149863, 'depth': 10, 'n_estimators': 836, 'l2_leaf_reg': 5.865034636917105, 'min_data_in_leaf': 92}. Best is trial 75 with value: 0.9885016102956301.\n",
      "[I 2024-04-30 03:57:45,763] Trial 126 finished with value: 0.9869427540525182 and parameters: {'use_smote': True, 'learning_rate': 0.10562376335557347, 'depth': 10, 'n_estimators': 435, 'l2_leaf_reg': 1.0682735588847228, 'min_data_in_leaf': 85}. Best is trial 75 with value: 0.9885016102956301.\n",
      "[I 2024-04-30 04:01:04,736] Trial 127 finished with value: 0.9874794582205402 and parameters: {'use_smote': True, 'learning_rate': 0.04426779886030819, 'depth': 10, 'n_estimators': 895, 'l2_leaf_reg': 2.044475178397884, 'min_data_in_leaf': 92}. Best is trial 75 with value: 0.9885016102956301.\n",
      "[I 2024-04-30 04:04:07,740] Trial 128 finished with value: 0.9876033828868236 and parameters: {'use_smote': False, 'learning_rate': 0.08212881323816267, 'depth': 10, 'n_estimators': 873, 'l2_leaf_reg': 3.421867697513568, 'min_data_in_leaf': 96}. Best is trial 75 with value: 0.9885016102956301.\n",
      "[I 2024-04-30 04:07:25,684] Trial 129 finished with value: 0.9875383834126283 and parameters: {'use_smote': True, 'learning_rate': 0.06069607693129131, 'depth': 10, 'n_estimators': 944, 'l2_leaf_reg': 0.8770055392376277, 'min_data_in_leaf': 100}. Best is trial 75 with value: 0.9885016102956301.\n",
      "[I 2024-04-30 04:10:37,244] Trial 130 finished with value: 0.987124170777524 and parameters: {'use_smote': True, 'learning_rate': 0.03569189512554457, 'depth': 10, 'n_estimators': 842, 'l2_leaf_reg': 1.4775923201886991, 'min_data_in_leaf': 89}. Best is trial 75 with value: 0.9885016102956301.\n",
      "[I 2024-04-30 04:12:44,168] Trial 131 pruned. \n",
      "[I 2024-04-30 04:15:54,067] Trial 132 finished with value: 0.9871117281073938 and parameters: {'use_smote': True, 'learning_rate': 0.08967284819184423, 'depth': 10, 'n_estimators': 933, 'l2_leaf_reg': 1.5577929631801704, 'min_data_in_leaf': 97}. Best is trial 75 with value: 0.9885016102956301.\n",
      "[I 2024-04-30 04:18:58,358] Trial 133 finished with value: 0.9882534040582392 and parameters: {'use_smote': True, 'learning_rate': 0.06770293321451895, 'depth': 10, 'n_estimators': 879, 'l2_leaf_reg': 2.076822752120457, 'min_data_in_leaf': 84}. Best is trial 75 with value: 0.9885016102956301.\n",
      "[I 2024-04-30 04:22:00,703] Trial 134 finished with value: 0.9874182726420562 and parameters: {'use_smote': True, 'learning_rate': 0.06817198968932811, 'depth': 10, 'n_estimators': 879, 'l2_leaf_reg': 2.062691237031154, 'min_data_in_leaf': 75}. Best is trial 75 with value: 0.9885016102956301.\n",
      "[I 2024-04-30 04:23:56,294] Trial 135 pruned. \n",
      "[I 2024-04-30 04:27:17,099] Trial 136 finished with value: 0.9871285682112176 and parameters: {'use_smote': True, 'learning_rate': 0.04841591842362163, 'depth': 10, 'n_estimators': 897, 'l2_leaf_reg': 3.844829724849825, 'min_data_in_leaf': 84}. Best is trial 75 with value: 0.9885016102956301.\n",
      "[I 2024-04-30 04:28:01,605] Trial 137 pruned. \n",
      "[I 2024-04-30 04:28:10,470] Trial 138 pruned. \n",
      "[I 2024-04-30 04:31:24,801] Trial 139 finished with value: 0.9880791164506342 and parameters: {'use_smote': True, 'learning_rate': 0.07678386069829753, 'depth': 10, 'n_estimators': 918, 'l2_leaf_reg': 1.228132980645632, 'min_data_in_leaf': 32}. Best is trial 75 with value: 0.9885016102956301.\n",
      "[I 2024-04-30 04:33:19,297] Trial 140 pruned. \n",
      "[I 2024-04-30 04:35:04,442] Trial 141 pruned. \n",
      "[I 2024-04-30 04:38:30,495] Trial 142 finished with value: 0.9875364458925562 and parameters: {'use_smote': True, 'learning_rate': 0.05016820714031657, 'depth': 10, 'n_estimators': 951, 'l2_leaf_reg': 2.6128212120571903, 'min_data_in_leaf': 33}. Best is trial 75 with value: 0.9885016102956301.\n",
      "[I 2024-04-30 04:41:42,255] Trial 143 finished with value: 0.9875451983766332 and parameters: {'use_smote': True, 'learning_rate': 0.06782189303686227, 'depth': 10, 'n_estimators': 920, 'l2_leaf_reg': 1.282008644389172, 'min_data_in_leaf': 39}. Best is trial 75 with value: 0.9885016102956301.\n",
      "[I 2024-04-30 04:43:59,914] Trial 144 pruned. \n",
      "[I 2024-04-30 04:45:49,839] Trial 145 pruned. \n",
      "[I 2024-04-30 04:48:55,371] Trial 146 finished with value: 0.9869981697392737 and parameters: {'use_smote': True, 'learning_rate': 0.05822293169563485, 'depth': 10, 'n_estimators': 904, 'l2_leaf_reg': 0.6735741207372479, 'min_data_in_leaf': 30}. Best is trial 75 with value: 0.9885016102956301.\n",
      "[I 2024-04-30 04:52:27,577] Trial 147 finished with value: 0.9874780892021586 and parameters: {'use_smote': True, 'learning_rate': 0.039975383537817204, 'depth': 10, 'n_estimators': 940, 'l2_leaf_reg': 2.1894695235796537, 'min_data_in_leaf': 33}. Best is trial 75 with value: 0.9885016102956301.\n",
      "[I 2024-04-30 04:55:13,104] Trial 148 finished with value: 0.9870569484802676 and parameters: {'use_smote': True, 'learning_rate': 0.07965297670305628, 'depth': 9, 'n_estimators': 859, 'l2_leaf_reg': 0.4029405311392081, 'min_data_in_leaf': 72}. Best is trial 75 with value: 0.9885016102956301.\n",
      "[I 2024-04-30 04:57:05,051] Trial 149 pruned. \n",
      "[I 2024-04-30 04:58:47,309] Trial 150 pruned. \n",
      "[I 2024-04-30 05:00:23,591] Trial 151 finished with value: 0.9883239441572366 and parameters: {'use_smote': True, 'learning_rate': 0.048265160668808905, 'depth': 8, 'n_estimators': 923, 'l2_leaf_reg': 1.4744979103710611, 'min_data_in_leaf': 88}. Best is trial 75 with value: 0.9885016102956301.\n",
      "[I 2024-04-30 05:01:09,277] Trial 152 pruned. \n",
      "[I 2024-04-30 05:02:42,292] Trial 153 finished with value: 0.9877205070547346 and parameters: {'use_smote': True, 'learning_rate': 0.046228533455429016, 'depth': 8, 'n_estimators': 908, 'l2_leaf_reg': 1.2632596679531733, 'min_data_in_leaf': 83}. Best is trial 75 with value: 0.9885016102956301.\n",
      "[I 2024-04-30 05:04:15,850] Trial 154 finished with value: 0.9881987299597084 and parameters: {'use_smote': True, 'learning_rate': 0.05596286680555686, 'depth': 8, 'n_estimators': 949, 'l2_leaf_reg': 1.8007243375806312, 'min_data_in_leaf': 93}. Best is trial 75 with value: 0.9885016102956301.\n",
      "[I 2024-04-30 05:05:52,805] Trial 155 finished with value: 0.9882557189529125 and parameters: {'use_smote': True, 'learning_rate': 0.08675472611108255, 'depth': 8, 'n_estimators': 978, 'l2_leaf_reg': 1.7251911324055602, 'min_data_in_leaf': 93}. Best is trial 75 with value: 0.9885016102956301.\n",
      "[I 2024-04-30 05:07:27,281] Trial 156 finished with value: 0.9878998776896584 and parameters: {'use_smote': True, 'learning_rate': 0.09191892885857782, 'depth': 8, 'n_estimators': 981, 'l2_leaf_reg': 1.9950575510348538, 'min_data_in_leaf': 93}. Best is trial 75 with value: 0.9885016102956301.\n",
      "[I 2024-04-30 05:08:17,136] Trial 157 pruned. \n",
      "[I 2024-04-30 05:09:19,954] Trial 158 pruned. \n",
      "[I 2024-04-30 05:10:51,981] Trial 159 finished with value: 0.9875983644145057 and parameters: {'use_smote': True, 'learning_rate': 0.0565179396549378, 'depth': 8, 'n_estimators': 976, 'l2_leaf_reg': 1.2619775245940807, 'min_data_in_leaf': 87}. Best is trial 75 with value: 0.9885016102956301.\n",
      "[I 2024-04-30 05:11:16,801] Trial 160 pruned. \n",
      "[I 2024-04-30 05:12:51,395] Trial 161 finished with value: 0.9874817343698531 and parameters: {'use_smote': True, 'learning_rate': 0.06961075638516916, 'depth': 8, 'n_estimators': 918, 'l2_leaf_reg': 2.3681102327181476, 'min_data_in_leaf': 93}. Best is trial 75 with value: 0.9885016102956301.\n",
      "[I 2024-04-30 05:14:25,637] Trial 162 finished with value: 0.9876578095983174 and parameters: {'use_smote': True, 'learning_rate': 0.056026427597114535, 'depth': 8, 'n_estimators': 956, 'l2_leaf_reg': 0.506607110770354, 'min_data_in_leaf': 36}. Best is trial 75 with value: 0.9885016102956301.\n",
      "[I 2024-04-30 05:15:55,396] Trial 163 finished with value: 0.9883758561068255 and parameters: {'use_smote': True, 'learning_rate': 0.08065805600684191, 'depth': 8, 'n_estimators': 935, 'l2_leaf_reg': 1.0430797184081733, 'min_data_in_leaf': 90}. Best is trial 75 with value: 0.9885016102956301.\n",
      "[I 2024-04-30 05:17:20,464] Trial 164 finished with value: 0.9876603499213699 and parameters: {'use_smote': True, 'learning_rate': 0.10633397461428913, 'depth': 8, 'n_estimators': 937, 'l2_leaf_reg': 1.022675830556646, 'min_data_in_leaf': 90}. Best is trial 75 with value: 0.9885016102956301.\n",
      "[I 2024-04-30 05:18:55,673] Trial 165 finished with value: 0.9879557933829304 and parameters: {'use_smote': True, 'learning_rate': 0.08531076154036736, 'depth': 8, 'n_estimators': 975, 'l2_leaf_reg': 3.5932005006801724, 'min_data_in_leaf': 95}. Best is trial 75 with value: 0.9885016102956301.\n",
      "[I 2024-04-30 05:22:24,972] Trial 166 finished with value: 0.9878358228951868 and parameters: {'use_smote': True, 'learning_rate': 0.06579062962523176, 'depth': 9, 'n_estimators': 961, 'l2_leaf_reg': 1.8511686853726772, 'min_data_in_leaf': 85}. Best is trial 75 with value: 0.9885016102956301.\n",
      "[I 2024-04-30 05:23:46,036] Trial 167 finished with value: 0.9868785188116919 and parameters: {'use_smote': True, 'learning_rate': 0.14224601550143362, 'depth': 8, 'n_estimators': 893, 'l2_leaf_reg': 0.8346616218966222, 'min_data_in_leaf': 88}. Best is trial 75 with value: 0.9885016102956301.\n",
      "[I 2024-04-30 05:25:16,225] Trial 168 finished with value: 0.9881353852042946 and parameters: {'use_smote': True, 'learning_rate': 0.07976619683839763, 'depth': 8, 'n_estimators': 931, 'l2_leaf_reg': 1.3376035442810734, 'min_data_in_leaf': 94}. Best is trial 75 with value: 0.9885016102956301.\n",
      "[I 2024-04-30 05:26:14,685] Trial 169 pruned. \n",
      "[I 2024-04-30 05:27:53,712] Trial 170 finished with value: 0.9880751193258025 and parameters: {'use_smote': True, 'learning_rate': 0.05872977466165233, 'depth': 8, 'n_estimators': 940, 'l2_leaf_reg': 2.5447335449689263, 'min_data_in_leaf': 93}. Best is trial 75 with value: 0.9885016102956301.\n",
      "[I 2024-04-30 05:29:27,689] Trial 171 finished with value: 0.9876567049623773 and parameters: {'use_smote': True, 'learning_rate': 0.05991539778397946, 'depth': 8, 'n_estimators': 931, 'l2_leaf_reg': 2.4111947480496174, 'min_data_in_leaf': 94}. Best is trial 75 with value: 0.9885016102956301.\n",
      "[I 2024-04-30 05:31:01,544] Trial 172 finished with value: 0.98765159199547 and parameters: {'use_smote': True, 'learning_rate': 0.05083441367326711, 'depth': 8, 'n_estimators': 949, 'l2_leaf_reg': 4.648931918777379, 'min_data_in_leaf': 91}. Best is trial 75 with value: 0.9885016102956301.\n",
      "[I 2024-04-30 05:31:48,690] Trial 173 pruned. \n",
      "[I 2024-04-30 05:33:25,763] Trial 174 finished with value: 0.9873541672659097 and parameters: {'use_smote': True, 'learning_rate': 0.07133684402985188, 'depth': 8, 'n_estimators': 926, 'l2_leaf_reg': 3.187693576984849, 'min_data_in_leaf': 90}. Best is trial 75 with value: 0.9885016102956301.\n",
      "[I 2024-04-30 05:34:10,914] Trial 175 pruned. \n",
      "[I 2024-04-30 05:35:09,030] Trial 176 pruned. \n",
      "[I 2024-04-30 05:36:48,768] Trial 177 finished with value: 0.9877720046655595 and parameters: {'use_smote': True, 'learning_rate': 0.062334018637621405, 'depth': 8, 'n_estimators': 961, 'l2_leaf_reg': 2.553964886307173, 'min_data_in_leaf': 94}. Best is trial 75 with value: 0.9885016102956301.\n",
      "[I 2024-04-30 05:38:12,853] Trial 178 finished with value: 0.9879050756524744 and parameters: {'use_smote': True, 'learning_rate': 0.11855847188132149, 'depth': 8, 'n_estimators': 940, 'l2_leaf_reg': 1.0289931048784728, 'min_data_in_leaf': 86}. Best is trial 75 with value: 0.9885016102956301.\n",
      "[I 2024-04-30 05:39:38,548] Trial 179 finished with value: 0.9879581792230946 and parameters: {'use_smote': True, 'learning_rate': 0.048445056720346186, 'depth': 8, 'n_estimators': 846, 'l2_leaf_reg': 1.478750110436722, 'min_data_in_leaf': 78}. Best is trial 75 with value: 0.9885016102956301.\n",
      "[I 2024-04-30 05:41:08,788] Trial 180 finished with value: 0.9877826802852671 and parameters: {'use_smote': False, 'learning_rate': 0.039764133837247806, 'depth': 8, 'n_estimators': 880, 'l2_leaf_reg': 2.0887313506288456, 'min_data_in_leaf': 88}. Best is trial 75 with value: 0.9885016102956301.\n",
      "[I 2024-04-30 05:42:39,162] Trial 181 finished with value: 0.9884326348727516 and parameters: {'use_smote': True, 'learning_rate': 0.05139970686808328, 'depth': 8, 'n_estimators': 848, 'l2_leaf_reg': 1.3579898176155376, 'min_data_in_leaf': 83}. Best is trial 75 with value: 0.9885016102956301.\n",
      "[I 2024-04-30 05:44:07,463] Trial 182 finished with value: 0.9881362113342205 and parameters: {'use_smote': True, 'learning_rate': 0.05908245508914299, 'depth': 8, 'n_estimators': 814, 'l2_leaf_reg': 0.6582462215529555, 'min_data_in_leaf': 81}. Best is trial 75 with value: 0.9885016102956301.\n",
      "[I 2024-04-30 05:45:27,145] Trial 183 finished with value: 0.9880728679487396 and parameters: {'use_smote': True, 'learning_rate': 0.0541673335009569, 'depth': 8, 'n_estimators': 822, 'l2_leaf_reg': 0.7832701742328585, 'min_data_in_leaf': 83}. Best is trial 75 with value: 0.9885016102956301.\n",
      "[I 2024-04-30 05:46:18,478] Trial 184 pruned. \n",
      "[I 2024-04-30 05:47:49,148] Trial 185 finished with value: 0.9874780735830994 and parameters: {'use_smote': True, 'learning_rate': 0.05006783177365862, 'depth': 8, 'n_estimators': 831, 'l2_leaf_reg': 2.7901285082374163, 'min_data_in_leaf': 81}. Best is trial 75 with value: 0.9885016102956301.\n",
      "[I 2024-04-30 05:49:07,329] Trial 186 finished with value: 0.9871867657220388 and parameters: {'use_smote': True, 'learning_rate': 0.07530512069080969, 'depth': 8, 'n_estimators': 803, 'l2_leaf_reg': 4.143139530055349, 'min_data_in_leaf': 84}. Best is trial 75 with value: 0.9885016102956301.\n",
      "[I 2024-04-30 05:49:57,261] Trial 187 pruned. \n",
      "[I 2024-04-30 05:51:27,341] Trial 188 finished with value: 0.9877158993722578 and parameters: {'use_smote': True, 'learning_rate': 0.05277245954941142, 'depth': 8, 'n_estimators': 808, 'l2_leaf_reg': 1.2629584961704983, 'min_data_in_leaf': 80}. Best is trial 75 with value: 0.9885016102956301.\n",
      "[I 2024-04-30 05:52:08,220] Trial 189 pruned. \n",
      "[I 2024-04-30 05:53:37,613] Trial 190 finished with value: 0.9870009751933683 and parameters: {'use_smote': True, 'learning_rate': 0.06753794786138877, 'depth': 8, 'n_estimators': 856, 'l2_leaf_reg': 6.609353280405454, 'min_data_in_leaf': 77}. Best is trial 75 with value: 0.9885016102956301.\n",
      "[I 2024-04-30 05:54:29,421] Trial 191 pruned. \n",
      "[I 2024-04-30 05:55:46,175] Trial 192 finished with value: 0.9880239017090027 and parameters: {'use_smote': True, 'learning_rate': 0.08374974692975189, 'depth': 8, 'n_estimators': 791, 'l2_leaf_reg': 1.3891201123640933, 'min_data_in_leaf': 58}. Best is trial 75 with value: 0.9885016102956301.\n",
      "[I 2024-04-30 05:57:12,740] Trial 193 finished with value: 0.9871850086027916 and parameters: {'use_smote': True, 'learning_rate': 0.08040372735669674, 'depth': 8, 'n_estimators': 817, 'l2_leaf_reg': 2.2422896668099788, 'min_data_in_leaf': 55}. Best is trial 75 with value: 0.9885016102956301.\n",
      "[I 2024-04-30 05:57:55,595] Trial 194 pruned. \n",
      "[I 2024-04-30 05:59:13,199] Trial 195 finished with value: 0.9877140038407883 and parameters: {'use_smote': True, 'learning_rate': 0.09309731498650307, 'depth': 8, 'n_estimators': 753, 'l2_leaf_reg': 3.0295394792458286, 'min_data_in_leaf': 63}. Best is trial 75 with value: 0.9885016102956301.\n",
      "[I 2024-04-30 06:00:41,374] Trial 196 finished with value: 0.9883805534581407 and parameters: {'use_smote': True, 'learning_rate': 0.07167150163361491, 'depth': 8, 'n_estimators': 792, 'l2_leaf_reg': 1.3379077252541258, 'min_data_in_leaf': 59}. Best is trial 75 with value: 0.9885016102956301.\n",
      "[I 2024-04-30 06:01:50,592] Trial 197 finished with value: 0.9870534300823444 and parameters: {'use_smote': True, 'learning_rate': 0.13046541810391976, 'depth': 8, 'n_estimators': 805, 'l2_leaf_reg': 0.8809467310476709, 'min_data_in_leaf': 60}. Best is trial 75 with value: 0.9885016102956301.\n",
      "[I 2024-04-30 06:03:06,296] Trial 198 finished with value: 0.9867663538660076 and parameters: {'use_smote': True, 'learning_rate': 0.07886681358318454, 'depth': 8, 'n_estimators': 724, 'l2_leaf_reg': 1.48997033190315, 'min_data_in_leaf': 58}. Best is trial 75 with value: 0.9885016102956301.\n",
      "[I 2024-04-30 06:03:55,931] Trial 199 pruned. \n"
     ]
    }
   ],
   "source": [
    "study_no_feat_eng.optimize(\n",
    "    objective_no_feat_eng, \n",
    "    n_trials=NUM_TRIALS,\n",
    "    timeout = 10 * 60 * 60, # timeout after 10 hours\n",
    "    show_progress_bar=True\n",
    ")"
   ]
  },
  {
   "cell_type": "code",
   "execution_count": 8,
   "metadata": {},
   "outputs": [
    {
     "name": "stdout",
     "output_type": "stream",
     "text": [
      "{'use_smote': True, 'learning_rate': 0.06111785339864093, 'depth': 10, 'n_estimators': 854, 'l2_leaf_reg': 1.9151241607277159, 'min_data_in_leaf': 36}\n"
     ]
    }
   ],
   "source": [
    "best_params = study_no_feat_eng.best_params\n",
    "    \n",
    "print(best_params)\n",
    "\n",
    "if \"catboost_no_feat_eng\" in config:\n",
    "    config[\"catboost_no_feat_eng\"].update(best_params)\n",
    "else:\n",
    "    config[\"catboost_no_feat_eng\"] = best_params\n",
    "\n",
    "# see: https://stackoverflow.com/questions/12470665/how-can-i-write-data-in-yaml-format-in-a-file\n",
    "with open(\"classical_ml_config.yaml\", \"w\") as file:\n",
    "    yaml.dump(config, file, default_flow_style=False)"
   ]
  },
  {
   "cell_type": "code",
   "execution_count": 9,
   "metadata": {},
   "outputs": [
    {
     "data": {
      "application/vnd.plotly.v1+json": {
       "config": {
        "plotlyServerURL": "https://plot.ly"
       },
       "data": [
        {
         "cliponaxis": false,
         "hovertemplate": [
          "min_data_in_leaf (IntDistribution): 0.000987184437122666<extra></extra>",
          "use_smote (CategoricalDistribution): 0.004186502795170349<extra></extra>",
          "l2_leaf_reg (FloatDistribution): 0.016818716343630358<extra></extra>",
          "depth (IntDistribution): 0.03231072485130989<extra></extra>",
          "n_estimators (IntDistribution): 0.1012652954686638<extra></extra>",
          "learning_rate (FloatDistribution): 0.844431576104103<extra></extra>"
         ],
         "name": "Objective Value",
         "orientation": "h",
         "text": [
          "<0.01",
          "<0.01",
          "0.02",
          "0.03",
          "0.10",
          "0.84"
         ],
         "textposition": "outside",
         "type": "bar",
         "x": [
          0.000987184437122666,
          0.004186502795170349,
          0.016818716343630358,
          0.03231072485130989,
          0.1012652954686638,
          0.844431576104103
         ],
         "y": [
          "min_data_in_leaf",
          "use_smote",
          "l2_leaf_reg",
          "depth",
          "n_estimators",
          "learning_rate"
         ]
        }
       ],
       "layout": {
        "template": {
         "data": {
          "bar": [
           {
            "error_x": {
             "color": "#2a3f5f"
            },
            "error_y": {
             "color": "#2a3f5f"
            },
            "marker": {
             "line": {
              "color": "#E5ECF6",
              "width": 0.5
             },
             "pattern": {
              "fillmode": "overlay",
              "size": 10,
              "solidity": 0.2
             }
            },
            "type": "bar"
           }
          ],
          "barpolar": [
           {
            "marker": {
             "line": {
              "color": "#E5ECF6",
              "width": 0.5
             },
             "pattern": {
              "fillmode": "overlay",
              "size": 10,
              "solidity": 0.2
             }
            },
            "type": "barpolar"
           }
          ],
          "carpet": [
           {
            "aaxis": {
             "endlinecolor": "#2a3f5f",
             "gridcolor": "white",
             "linecolor": "white",
             "minorgridcolor": "white",
             "startlinecolor": "#2a3f5f"
            },
            "baxis": {
             "endlinecolor": "#2a3f5f",
             "gridcolor": "white",
             "linecolor": "white",
             "minorgridcolor": "white",
             "startlinecolor": "#2a3f5f"
            },
            "type": "carpet"
           }
          ],
          "choropleth": [
           {
            "colorbar": {
             "outlinewidth": 0,
             "ticks": ""
            },
            "type": "choropleth"
           }
          ],
          "contour": [
           {
            "colorbar": {
             "outlinewidth": 0,
             "ticks": ""
            },
            "colorscale": [
             [
              0,
              "#0d0887"
             ],
             [
              0.1111111111111111,
              "#46039f"
             ],
             [
              0.2222222222222222,
              "#7201a8"
             ],
             [
              0.3333333333333333,
              "#9c179e"
             ],
             [
              0.4444444444444444,
              "#bd3786"
             ],
             [
              0.5555555555555556,
              "#d8576b"
             ],
             [
              0.6666666666666666,
              "#ed7953"
             ],
             [
              0.7777777777777778,
              "#fb9f3a"
             ],
             [
              0.8888888888888888,
              "#fdca26"
             ],
             [
              1,
              "#f0f921"
             ]
            ],
            "type": "contour"
           }
          ],
          "contourcarpet": [
           {
            "colorbar": {
             "outlinewidth": 0,
             "ticks": ""
            },
            "type": "contourcarpet"
           }
          ],
          "heatmap": [
           {
            "colorbar": {
             "outlinewidth": 0,
             "ticks": ""
            },
            "colorscale": [
             [
              0,
              "#0d0887"
             ],
             [
              0.1111111111111111,
              "#46039f"
             ],
             [
              0.2222222222222222,
              "#7201a8"
             ],
             [
              0.3333333333333333,
              "#9c179e"
             ],
             [
              0.4444444444444444,
              "#bd3786"
             ],
             [
              0.5555555555555556,
              "#d8576b"
             ],
             [
              0.6666666666666666,
              "#ed7953"
             ],
             [
              0.7777777777777778,
              "#fb9f3a"
             ],
             [
              0.8888888888888888,
              "#fdca26"
             ],
             [
              1,
              "#f0f921"
             ]
            ],
            "type": "heatmap"
           }
          ],
          "heatmapgl": [
           {
            "colorbar": {
             "outlinewidth": 0,
             "ticks": ""
            },
            "colorscale": [
             [
              0,
              "#0d0887"
             ],
             [
              0.1111111111111111,
              "#46039f"
             ],
             [
              0.2222222222222222,
              "#7201a8"
             ],
             [
              0.3333333333333333,
              "#9c179e"
             ],
             [
              0.4444444444444444,
              "#bd3786"
             ],
             [
              0.5555555555555556,
              "#d8576b"
             ],
             [
              0.6666666666666666,
              "#ed7953"
             ],
             [
              0.7777777777777778,
              "#fb9f3a"
             ],
             [
              0.8888888888888888,
              "#fdca26"
             ],
             [
              1,
              "#f0f921"
             ]
            ],
            "type": "heatmapgl"
           }
          ],
          "histogram": [
           {
            "marker": {
             "pattern": {
              "fillmode": "overlay",
              "size": 10,
              "solidity": 0.2
             }
            },
            "type": "histogram"
           }
          ],
          "histogram2d": [
           {
            "colorbar": {
             "outlinewidth": 0,
             "ticks": ""
            },
            "colorscale": [
             [
              0,
              "#0d0887"
             ],
             [
              0.1111111111111111,
              "#46039f"
             ],
             [
              0.2222222222222222,
              "#7201a8"
             ],
             [
              0.3333333333333333,
              "#9c179e"
             ],
             [
              0.4444444444444444,
              "#bd3786"
             ],
             [
              0.5555555555555556,
              "#d8576b"
             ],
             [
              0.6666666666666666,
              "#ed7953"
             ],
             [
              0.7777777777777778,
              "#fb9f3a"
             ],
             [
              0.8888888888888888,
              "#fdca26"
             ],
             [
              1,
              "#f0f921"
             ]
            ],
            "type": "histogram2d"
           }
          ],
          "histogram2dcontour": [
           {
            "colorbar": {
             "outlinewidth": 0,
             "ticks": ""
            },
            "colorscale": [
             [
              0,
              "#0d0887"
             ],
             [
              0.1111111111111111,
              "#46039f"
             ],
             [
              0.2222222222222222,
              "#7201a8"
             ],
             [
              0.3333333333333333,
              "#9c179e"
             ],
             [
              0.4444444444444444,
              "#bd3786"
             ],
             [
              0.5555555555555556,
              "#d8576b"
             ],
             [
              0.6666666666666666,
              "#ed7953"
             ],
             [
              0.7777777777777778,
              "#fb9f3a"
             ],
             [
              0.8888888888888888,
              "#fdca26"
             ],
             [
              1,
              "#f0f921"
             ]
            ],
            "type": "histogram2dcontour"
           }
          ],
          "mesh3d": [
           {
            "colorbar": {
             "outlinewidth": 0,
             "ticks": ""
            },
            "type": "mesh3d"
           }
          ],
          "parcoords": [
           {
            "line": {
             "colorbar": {
              "outlinewidth": 0,
              "ticks": ""
             }
            },
            "type": "parcoords"
           }
          ],
          "pie": [
           {
            "automargin": true,
            "type": "pie"
           }
          ],
          "scatter": [
           {
            "fillpattern": {
             "fillmode": "overlay",
             "size": 10,
             "solidity": 0.2
            },
            "type": "scatter"
           }
          ],
          "scatter3d": [
           {
            "line": {
             "colorbar": {
              "outlinewidth": 0,
              "ticks": ""
             }
            },
            "marker": {
             "colorbar": {
              "outlinewidth": 0,
              "ticks": ""
             }
            },
            "type": "scatter3d"
           }
          ],
          "scattercarpet": [
           {
            "marker": {
             "colorbar": {
              "outlinewidth": 0,
              "ticks": ""
             }
            },
            "type": "scattercarpet"
           }
          ],
          "scattergeo": [
           {
            "marker": {
             "colorbar": {
              "outlinewidth": 0,
              "ticks": ""
             }
            },
            "type": "scattergeo"
           }
          ],
          "scattergl": [
           {
            "marker": {
             "colorbar": {
              "outlinewidth": 0,
              "ticks": ""
             }
            },
            "type": "scattergl"
           }
          ],
          "scattermapbox": [
           {
            "marker": {
             "colorbar": {
              "outlinewidth": 0,
              "ticks": ""
             }
            },
            "type": "scattermapbox"
           }
          ],
          "scatterpolar": [
           {
            "marker": {
             "colorbar": {
              "outlinewidth": 0,
              "ticks": ""
             }
            },
            "type": "scatterpolar"
           }
          ],
          "scatterpolargl": [
           {
            "marker": {
             "colorbar": {
              "outlinewidth": 0,
              "ticks": ""
             }
            },
            "type": "scatterpolargl"
           }
          ],
          "scatterternary": [
           {
            "marker": {
             "colorbar": {
              "outlinewidth": 0,
              "ticks": ""
             }
            },
            "type": "scatterternary"
           }
          ],
          "surface": [
           {
            "colorbar": {
             "outlinewidth": 0,
             "ticks": ""
            },
            "colorscale": [
             [
              0,
              "#0d0887"
             ],
             [
              0.1111111111111111,
              "#46039f"
             ],
             [
              0.2222222222222222,
              "#7201a8"
             ],
             [
              0.3333333333333333,
              "#9c179e"
             ],
             [
              0.4444444444444444,
              "#bd3786"
             ],
             [
              0.5555555555555556,
              "#d8576b"
             ],
             [
              0.6666666666666666,
              "#ed7953"
             ],
             [
              0.7777777777777778,
              "#fb9f3a"
             ],
             [
              0.8888888888888888,
              "#fdca26"
             ],
             [
              1,
              "#f0f921"
             ]
            ],
            "type": "surface"
           }
          ],
          "table": [
           {
            "cells": {
             "fill": {
              "color": "#EBF0F8"
             },
             "line": {
              "color": "white"
             }
            },
            "header": {
             "fill": {
              "color": "#C8D4E3"
             },
             "line": {
              "color": "white"
             }
            },
            "type": "table"
           }
          ]
         },
         "layout": {
          "annotationdefaults": {
           "arrowcolor": "#2a3f5f",
           "arrowhead": 0,
           "arrowwidth": 1
          },
          "autotypenumbers": "strict",
          "coloraxis": {
           "colorbar": {
            "outlinewidth": 0,
            "ticks": ""
           }
          },
          "colorscale": {
           "diverging": [
            [
             0,
             "#8e0152"
            ],
            [
             0.1,
             "#c51b7d"
            ],
            [
             0.2,
             "#de77ae"
            ],
            [
             0.3,
             "#f1b6da"
            ],
            [
             0.4,
             "#fde0ef"
            ],
            [
             0.5,
             "#f7f7f7"
            ],
            [
             0.6,
             "#e6f5d0"
            ],
            [
             0.7,
             "#b8e186"
            ],
            [
             0.8,
             "#7fbc41"
            ],
            [
             0.9,
             "#4d9221"
            ],
            [
             1,
             "#276419"
            ]
           ],
           "sequential": [
            [
             0,
             "#0d0887"
            ],
            [
             0.1111111111111111,
             "#46039f"
            ],
            [
             0.2222222222222222,
             "#7201a8"
            ],
            [
             0.3333333333333333,
             "#9c179e"
            ],
            [
             0.4444444444444444,
             "#bd3786"
            ],
            [
             0.5555555555555556,
             "#d8576b"
            ],
            [
             0.6666666666666666,
             "#ed7953"
            ],
            [
             0.7777777777777778,
             "#fb9f3a"
            ],
            [
             0.8888888888888888,
             "#fdca26"
            ],
            [
             1,
             "#f0f921"
            ]
           ],
           "sequentialminus": [
            [
             0,
             "#0d0887"
            ],
            [
             0.1111111111111111,
             "#46039f"
            ],
            [
             0.2222222222222222,
             "#7201a8"
            ],
            [
             0.3333333333333333,
             "#9c179e"
            ],
            [
             0.4444444444444444,
             "#bd3786"
            ],
            [
             0.5555555555555556,
             "#d8576b"
            ],
            [
             0.6666666666666666,
             "#ed7953"
            ],
            [
             0.7777777777777778,
             "#fb9f3a"
            ],
            [
             0.8888888888888888,
             "#fdca26"
            ],
            [
             1,
             "#f0f921"
            ]
           ]
          },
          "colorway": [
           "#636efa",
           "#EF553B",
           "#00cc96",
           "#ab63fa",
           "#FFA15A",
           "#19d3f3",
           "#FF6692",
           "#B6E880",
           "#FF97FF",
           "#FECB52"
          ],
          "font": {
           "color": "#2a3f5f"
          },
          "geo": {
           "bgcolor": "white",
           "lakecolor": "white",
           "landcolor": "#E5ECF6",
           "showlakes": true,
           "showland": true,
           "subunitcolor": "white"
          },
          "hoverlabel": {
           "align": "left"
          },
          "hovermode": "closest",
          "mapbox": {
           "style": "light"
          },
          "paper_bgcolor": "white",
          "plot_bgcolor": "#E5ECF6",
          "polar": {
           "angularaxis": {
            "gridcolor": "white",
            "linecolor": "white",
            "ticks": ""
           },
           "bgcolor": "#E5ECF6",
           "radialaxis": {
            "gridcolor": "white",
            "linecolor": "white",
            "ticks": ""
           }
          },
          "scene": {
           "xaxis": {
            "backgroundcolor": "#E5ECF6",
            "gridcolor": "white",
            "gridwidth": 2,
            "linecolor": "white",
            "showbackground": true,
            "ticks": "",
            "zerolinecolor": "white"
           },
           "yaxis": {
            "backgroundcolor": "#E5ECF6",
            "gridcolor": "white",
            "gridwidth": 2,
            "linecolor": "white",
            "showbackground": true,
            "ticks": "",
            "zerolinecolor": "white"
           },
           "zaxis": {
            "backgroundcolor": "#E5ECF6",
            "gridcolor": "white",
            "gridwidth": 2,
            "linecolor": "white",
            "showbackground": true,
            "ticks": "",
            "zerolinecolor": "white"
           }
          },
          "shapedefaults": {
           "line": {
            "color": "#2a3f5f"
           }
          },
          "ternary": {
           "aaxis": {
            "gridcolor": "white",
            "linecolor": "white",
            "ticks": ""
           },
           "baxis": {
            "gridcolor": "white",
            "linecolor": "white",
            "ticks": ""
           },
           "bgcolor": "#E5ECF6",
           "caxis": {
            "gridcolor": "white",
            "linecolor": "white",
            "ticks": ""
           }
          },
          "title": {
           "x": 0.05
          },
          "xaxis": {
           "automargin": true,
           "gridcolor": "white",
           "linecolor": "white",
           "ticks": "",
           "title": {
            "standoff": 15
           },
           "zerolinecolor": "white",
           "zerolinewidth": 2
          },
          "yaxis": {
           "automargin": true,
           "gridcolor": "white",
           "linecolor": "white",
           "ticks": "",
           "title": {
            "standoff": 15
           },
           "zerolinecolor": "white",
           "zerolinewidth": 2
          }
         }
        },
        "title": {
         "text": "Hyperparameter Importances"
        },
        "xaxis": {
         "title": {
          "text": "Hyperparameter Importance"
         }
        },
        "yaxis": {
         "title": {
          "text": "Hyperparameter"
         }
        }
       }
      }
     },
     "metadata": {},
     "output_type": "display_data"
    }
   ],
   "source": [
    "p_importance_no_feat_eng = optuna.visualization.plot_param_importances(study_no_feat_eng)\n",
    "p_importance_no_feat_eng.show()"
   ]
  },
  {
   "cell_type": "code",
   "execution_count": 10,
   "metadata": {},
   "outputs": [
    {
     "data": {
      "application/vnd.plotly.v1+json": {
       "config": {
        "plotlyServerURL": "https://plot.ly"
       },
       "data": [
        {
         "mode": "markers",
         "name": "Objective Value",
         "type": "scatter",
         "x": [
          0,
          1,
          2,
          3,
          4,
          5,
          6,
          7,
          8,
          9,
          10,
          11,
          12,
          13,
          14,
          15,
          16,
          17,
          18,
          19,
          21,
          22,
          23,
          24,
          26,
          27,
          30,
          31,
          32,
          34,
          35,
          38,
          41,
          43,
          44,
          47,
          49,
          50,
          51,
          52,
          53,
          55,
          57,
          58,
          60,
          61,
          62,
          63,
          64,
          65,
          66,
          68,
          70,
          71,
          72,
          73,
          74,
          75,
          76,
          78,
          79,
          81,
          82,
          83,
          84,
          85,
          86,
          87,
          88,
          90,
          91,
          92,
          94,
          95,
          96,
          98,
          100,
          102,
          103,
          107,
          109,
          110,
          111,
          112,
          113,
          114,
          115,
          117,
          119,
          121,
          122,
          123,
          124,
          125,
          126,
          127,
          128,
          129,
          130,
          132,
          133,
          134,
          136,
          139,
          142,
          143,
          146,
          147,
          148,
          151,
          153,
          154,
          155,
          156,
          159,
          161,
          162,
          163,
          164,
          165,
          166,
          167,
          168,
          170,
          171,
          172,
          174,
          177,
          178,
          179,
          180,
          181,
          182,
          183,
          185,
          186,
          188,
          190,
          192,
          193,
          195,
          196,
          197,
          198
         ],
         "y": [
          0.9826618956905921,
          0.9811083732676746,
          0.9014263125566135,
          0.9227342334581738,
          0.9084360958934763,
          0.8937356832419976,
          0.8870996964161803,
          0.986275188123529,
          0.8608498272352261,
          0.957178994296159,
          0.9844231897482445,
          0.9816767934994491,
          0.9812403824941868,
          0.9857987269141779,
          0.9852592843844661,
          0.9859772670594067,
          0.9858561888971975,
          0.974482005246065,
          0.9871777100101768,
          0.9833843688968826,
          0.9851290529537235,
          0.985198880468524,
          0.9878977570934827,
          0.9871826235642622,
          0.9858557578159853,
          0.9863330814079732,
          0.9874803598099675,
          0.9875333504073721,
          0.9858641025982593,
          0.9878965479765421,
          0.9875918322242672,
          0.9853954188969445,
          0.9869973036474866,
          0.9861664770086603,
          0.98604144560341,
          0.9875352622711793,
          0.9879574332827309,
          0.9868795564432695,
          0.987001869010327,
          0.9863323659211671,
          0.9864566847962738,
          0.9875402731406243,
          0.9854367391040594,
          0.9862830492958488,
          0.9870508057475578,
          0.9867543787737493,
          0.9870684340436904,
          0.9877221604738292,
          0.9879571101701753,
          0.9872388254366676,
          0.9872962193414752,
          0.9871167405351494,
          0.9866517238449836,
          0.9880127574081407,
          0.9880232591234878,
          0.9877215488218892,
          0.9868837358081087,
          0.9885016102956301,
          0.9870662046140227,
          0.9878382480822043,
          0.9877812649566324,
          0.9872438017710412,
          0.987353412132553,
          0.9871697640946252,
          0.9867062326617013,
          0.986704925092847,
          0.9878972954840328,
          0.9870645385989617,
          0.9877822640867608,
          0.9870504877109714,
          0.9873586154389994,
          0.988079336176123,
          0.9881888398720179,
          0.9880726871285402,
          0.9874248946864747,
          0.9868847306143855,
          0.987362553144564,
          0.9877161175213642,
          0.9870567077695565,
          0.9859312965544083,
          0.9868749351841535,
          0.987840309215535,
          0.9867008992667057,
          0.9874758379617988,
          0.9883855764531979,
          0.988019610773577,
          0.9872378188443302,
          0.9877146776385313,
          0.988201063584533,
          0.987662502226969,
          0.9880213704427454,
          0.9879066920315772,
          0.9871267260471631,
          0.987184935990498,
          0.9869427540525182,
          0.9874794582205402,
          0.9876033828868236,
          0.9875383834126283,
          0.987124170777524,
          0.9871117281073938,
          0.9882534040582392,
          0.9874182726420562,
          0.9871285682112176,
          0.9880791164506342,
          0.9875364458925562,
          0.9875451983766332,
          0.9869981697392737,
          0.9874780892021586,
          0.9870569484802676,
          0.9883239441572366,
          0.9877205070547346,
          0.9881987299597084,
          0.9882557189529125,
          0.9878998776896584,
          0.9875983644145057,
          0.9874817343698531,
          0.9876578095983174,
          0.9883758561068255,
          0.9876603499213699,
          0.9879557933829304,
          0.9878358228951868,
          0.9868785188116919,
          0.9881353852042946,
          0.9880751193258025,
          0.9876567049623773,
          0.98765159199547,
          0.9873541672659097,
          0.9877720046655595,
          0.9879050756524744,
          0.9879581792230946,
          0.9877826802852671,
          0.9884326348727516,
          0.9881362113342205,
          0.9880728679487396,
          0.9874780735830994,
          0.9871867657220388,
          0.9877158993722578,
          0.9870009751933683,
          0.9880239017090027,
          0.9871850086027916,
          0.9877140038407883,
          0.9883805534581407,
          0.9870534300823444,
          0.9867663538660076
         ]
        },
        {
         "mode": "lines",
         "name": "Best Value",
         "type": "scatter",
         "x": [
          0,
          1,
          2,
          3,
          4,
          5,
          6,
          7,
          8,
          9,
          10,
          11,
          12,
          13,
          14,
          15,
          16,
          17,
          18,
          19,
          20,
          21,
          22,
          23,
          24,
          25,
          26,
          27,
          28,
          29,
          30,
          31,
          32,
          33,
          34,
          35,
          36,
          37,
          38,
          39,
          40,
          41,
          42,
          43,
          44,
          45,
          46,
          47,
          48,
          49,
          50,
          51,
          52,
          53,
          54,
          55,
          56,
          57,
          58,
          59,
          60,
          61,
          62,
          63,
          64,
          65,
          66,
          67,
          68,
          69,
          70,
          71,
          72,
          73,
          74,
          75,
          76,
          77,
          78,
          79,
          80,
          81,
          82,
          83,
          84,
          85,
          86,
          87,
          88,
          89,
          90,
          91,
          92,
          93,
          94,
          95,
          96,
          97,
          98,
          99,
          100,
          101,
          102,
          103,
          104,
          105,
          106,
          107,
          108,
          109,
          110,
          111,
          112,
          113,
          114,
          115,
          116,
          117,
          118,
          119,
          120,
          121,
          122,
          123,
          124,
          125,
          126,
          127,
          128,
          129,
          130,
          131,
          132,
          133,
          134,
          135,
          136,
          137,
          138,
          139,
          140,
          141,
          142,
          143,
          144,
          145,
          146,
          147,
          148,
          149,
          150,
          151,
          152,
          153,
          154,
          155,
          156,
          157,
          158,
          159,
          160,
          161,
          162,
          163,
          164,
          165,
          166,
          167,
          168,
          169,
          170,
          171,
          172,
          173,
          174,
          175,
          176,
          177,
          178,
          179,
          180,
          181,
          182,
          183,
          184,
          185,
          186,
          187,
          188,
          189,
          190,
          191,
          192,
          193,
          194,
          195,
          196,
          197,
          198,
          199
         ],
         "y": [
          0.9826618956905921,
          0.9826618956905921,
          0.9826618956905921,
          0.9826618956905921,
          0.9826618956905921,
          0.9826618956905921,
          0.9826618956905921,
          0.986275188123529,
          0.986275188123529,
          0.986275188123529,
          0.986275188123529,
          0.986275188123529,
          0.986275188123529,
          0.986275188123529,
          0.986275188123529,
          0.986275188123529,
          0.986275188123529,
          0.986275188123529,
          0.9871777100101768,
          0.9871777100101768,
          0.9871777100101768,
          0.9871777100101768,
          0.9871777100101768,
          0.9878977570934827,
          0.9878977570934827,
          0.9878977570934827,
          0.9878977570934827,
          0.9878977570934827,
          0.9878977570934827,
          0.9878977570934827,
          0.9878977570934827,
          0.9878977570934827,
          0.9878977570934827,
          0.9878977570934827,
          0.9878977570934827,
          0.9878977570934827,
          0.9878977570934827,
          0.9878977570934827,
          0.9878977570934827,
          0.9878977570934827,
          0.9878977570934827,
          0.9878977570934827,
          0.9878977570934827,
          0.9878977570934827,
          0.9878977570934827,
          0.9878977570934827,
          0.9878977570934827,
          0.9878977570934827,
          0.9878977570934827,
          0.9879574332827309,
          0.9879574332827309,
          0.9879574332827309,
          0.9879574332827309,
          0.9879574332827309,
          0.9879574332827309,
          0.9879574332827309,
          0.9879574332827309,
          0.9879574332827309,
          0.9879574332827309,
          0.9879574332827309,
          0.9879574332827309,
          0.9879574332827309,
          0.9879574332827309,
          0.9879574332827309,
          0.9879574332827309,
          0.9879574332827309,
          0.9879574332827309,
          0.9879574332827309,
          0.9879574332827309,
          0.9879574332827309,
          0.9879574332827309,
          0.9880127574081407,
          0.9880232591234878,
          0.9880232591234878,
          0.9880232591234878,
          0.9885016102956301,
          0.9885016102956301,
          0.9885016102956301,
          0.9885016102956301,
          0.9885016102956301,
          0.9885016102956301,
          0.9885016102956301,
          0.9885016102956301,
          0.9885016102956301,
          0.9885016102956301,
          0.9885016102956301,
          0.9885016102956301,
          0.9885016102956301,
          0.9885016102956301,
          0.9885016102956301,
          0.9885016102956301,
          0.9885016102956301,
          0.9885016102956301,
          0.9885016102956301,
          0.9885016102956301,
          0.9885016102956301,
          0.9885016102956301,
          0.9885016102956301,
          0.9885016102956301,
          0.9885016102956301,
          0.9885016102956301,
          0.9885016102956301,
          0.9885016102956301,
          0.9885016102956301,
          0.9885016102956301,
          0.9885016102956301,
          0.9885016102956301,
          0.9885016102956301,
          0.9885016102956301,
          0.9885016102956301,
          0.9885016102956301,
          0.9885016102956301,
          0.9885016102956301,
          0.9885016102956301,
          0.9885016102956301,
          0.9885016102956301,
          0.9885016102956301,
          0.9885016102956301,
          0.9885016102956301,
          0.9885016102956301,
          0.9885016102956301,
          0.9885016102956301,
          0.9885016102956301,
          0.9885016102956301,
          0.9885016102956301,
          0.9885016102956301,
          0.9885016102956301,
          0.9885016102956301,
          0.9885016102956301,
          0.9885016102956301,
          0.9885016102956301,
          0.9885016102956301,
          0.9885016102956301,
          0.9885016102956301,
          0.9885016102956301,
          0.9885016102956301,
          0.9885016102956301,
          0.9885016102956301,
          0.9885016102956301,
          0.9885016102956301,
          0.9885016102956301,
          0.9885016102956301,
          0.9885016102956301,
          0.9885016102956301,
          0.9885016102956301,
          0.9885016102956301,
          0.9885016102956301,
          0.9885016102956301,
          0.9885016102956301,
          0.9885016102956301,
          0.9885016102956301,
          0.9885016102956301,
          0.9885016102956301,
          0.9885016102956301,
          0.9885016102956301,
          0.9885016102956301,
          0.9885016102956301,
          0.9885016102956301,
          0.9885016102956301,
          0.9885016102956301,
          0.9885016102956301,
          0.9885016102956301,
          0.9885016102956301,
          0.9885016102956301,
          0.9885016102956301,
          0.9885016102956301,
          0.9885016102956301,
          0.9885016102956301,
          0.9885016102956301,
          0.9885016102956301,
          0.9885016102956301,
          0.9885016102956301,
          0.9885016102956301,
          0.9885016102956301,
          0.9885016102956301,
          0.9885016102956301,
          0.9885016102956301,
          0.9885016102956301,
          0.9885016102956301,
          0.9885016102956301,
          0.9885016102956301,
          0.9885016102956301,
          0.9885016102956301,
          0.9885016102956301,
          0.9885016102956301,
          0.9885016102956301,
          0.9885016102956301,
          0.9885016102956301,
          0.9885016102956301,
          0.9885016102956301,
          0.9885016102956301,
          0.9885016102956301,
          0.9885016102956301,
          0.9885016102956301,
          0.9885016102956301,
          0.9885016102956301,
          0.9885016102956301,
          0.9885016102956301,
          0.9885016102956301,
          0.9885016102956301
         ]
        },
        {
         "marker": {
          "color": "#cccccc"
         },
         "mode": "markers",
         "name": "Infeasible Trial",
         "showlegend": false,
         "type": "scatter",
         "x": [],
         "y": []
        }
       ],
       "layout": {
        "template": {
         "data": {
          "bar": [
           {
            "error_x": {
             "color": "#2a3f5f"
            },
            "error_y": {
             "color": "#2a3f5f"
            },
            "marker": {
             "line": {
              "color": "#E5ECF6",
              "width": 0.5
             },
             "pattern": {
              "fillmode": "overlay",
              "size": 10,
              "solidity": 0.2
             }
            },
            "type": "bar"
           }
          ],
          "barpolar": [
           {
            "marker": {
             "line": {
              "color": "#E5ECF6",
              "width": 0.5
             },
             "pattern": {
              "fillmode": "overlay",
              "size": 10,
              "solidity": 0.2
             }
            },
            "type": "barpolar"
           }
          ],
          "carpet": [
           {
            "aaxis": {
             "endlinecolor": "#2a3f5f",
             "gridcolor": "white",
             "linecolor": "white",
             "minorgridcolor": "white",
             "startlinecolor": "#2a3f5f"
            },
            "baxis": {
             "endlinecolor": "#2a3f5f",
             "gridcolor": "white",
             "linecolor": "white",
             "minorgridcolor": "white",
             "startlinecolor": "#2a3f5f"
            },
            "type": "carpet"
           }
          ],
          "choropleth": [
           {
            "colorbar": {
             "outlinewidth": 0,
             "ticks": ""
            },
            "type": "choropleth"
           }
          ],
          "contour": [
           {
            "colorbar": {
             "outlinewidth": 0,
             "ticks": ""
            },
            "colorscale": [
             [
              0,
              "#0d0887"
             ],
             [
              0.1111111111111111,
              "#46039f"
             ],
             [
              0.2222222222222222,
              "#7201a8"
             ],
             [
              0.3333333333333333,
              "#9c179e"
             ],
             [
              0.4444444444444444,
              "#bd3786"
             ],
             [
              0.5555555555555556,
              "#d8576b"
             ],
             [
              0.6666666666666666,
              "#ed7953"
             ],
             [
              0.7777777777777778,
              "#fb9f3a"
             ],
             [
              0.8888888888888888,
              "#fdca26"
             ],
             [
              1,
              "#f0f921"
             ]
            ],
            "type": "contour"
           }
          ],
          "contourcarpet": [
           {
            "colorbar": {
             "outlinewidth": 0,
             "ticks": ""
            },
            "type": "contourcarpet"
           }
          ],
          "heatmap": [
           {
            "colorbar": {
             "outlinewidth": 0,
             "ticks": ""
            },
            "colorscale": [
             [
              0,
              "#0d0887"
             ],
             [
              0.1111111111111111,
              "#46039f"
             ],
             [
              0.2222222222222222,
              "#7201a8"
             ],
             [
              0.3333333333333333,
              "#9c179e"
             ],
             [
              0.4444444444444444,
              "#bd3786"
             ],
             [
              0.5555555555555556,
              "#d8576b"
             ],
             [
              0.6666666666666666,
              "#ed7953"
             ],
             [
              0.7777777777777778,
              "#fb9f3a"
             ],
             [
              0.8888888888888888,
              "#fdca26"
             ],
             [
              1,
              "#f0f921"
             ]
            ],
            "type": "heatmap"
           }
          ],
          "heatmapgl": [
           {
            "colorbar": {
             "outlinewidth": 0,
             "ticks": ""
            },
            "colorscale": [
             [
              0,
              "#0d0887"
             ],
             [
              0.1111111111111111,
              "#46039f"
             ],
             [
              0.2222222222222222,
              "#7201a8"
             ],
             [
              0.3333333333333333,
              "#9c179e"
             ],
             [
              0.4444444444444444,
              "#bd3786"
             ],
             [
              0.5555555555555556,
              "#d8576b"
             ],
             [
              0.6666666666666666,
              "#ed7953"
             ],
             [
              0.7777777777777778,
              "#fb9f3a"
             ],
             [
              0.8888888888888888,
              "#fdca26"
             ],
             [
              1,
              "#f0f921"
             ]
            ],
            "type": "heatmapgl"
           }
          ],
          "histogram": [
           {
            "marker": {
             "pattern": {
              "fillmode": "overlay",
              "size": 10,
              "solidity": 0.2
             }
            },
            "type": "histogram"
           }
          ],
          "histogram2d": [
           {
            "colorbar": {
             "outlinewidth": 0,
             "ticks": ""
            },
            "colorscale": [
             [
              0,
              "#0d0887"
             ],
             [
              0.1111111111111111,
              "#46039f"
             ],
             [
              0.2222222222222222,
              "#7201a8"
             ],
             [
              0.3333333333333333,
              "#9c179e"
             ],
             [
              0.4444444444444444,
              "#bd3786"
             ],
             [
              0.5555555555555556,
              "#d8576b"
             ],
             [
              0.6666666666666666,
              "#ed7953"
             ],
             [
              0.7777777777777778,
              "#fb9f3a"
             ],
             [
              0.8888888888888888,
              "#fdca26"
             ],
             [
              1,
              "#f0f921"
             ]
            ],
            "type": "histogram2d"
           }
          ],
          "histogram2dcontour": [
           {
            "colorbar": {
             "outlinewidth": 0,
             "ticks": ""
            },
            "colorscale": [
             [
              0,
              "#0d0887"
             ],
             [
              0.1111111111111111,
              "#46039f"
             ],
             [
              0.2222222222222222,
              "#7201a8"
             ],
             [
              0.3333333333333333,
              "#9c179e"
             ],
             [
              0.4444444444444444,
              "#bd3786"
             ],
             [
              0.5555555555555556,
              "#d8576b"
             ],
             [
              0.6666666666666666,
              "#ed7953"
             ],
             [
              0.7777777777777778,
              "#fb9f3a"
             ],
             [
              0.8888888888888888,
              "#fdca26"
             ],
             [
              1,
              "#f0f921"
             ]
            ],
            "type": "histogram2dcontour"
           }
          ],
          "mesh3d": [
           {
            "colorbar": {
             "outlinewidth": 0,
             "ticks": ""
            },
            "type": "mesh3d"
           }
          ],
          "parcoords": [
           {
            "line": {
             "colorbar": {
              "outlinewidth": 0,
              "ticks": ""
             }
            },
            "type": "parcoords"
           }
          ],
          "pie": [
           {
            "automargin": true,
            "type": "pie"
           }
          ],
          "scatter": [
           {
            "fillpattern": {
             "fillmode": "overlay",
             "size": 10,
             "solidity": 0.2
            },
            "type": "scatter"
           }
          ],
          "scatter3d": [
           {
            "line": {
             "colorbar": {
              "outlinewidth": 0,
              "ticks": ""
             }
            },
            "marker": {
             "colorbar": {
              "outlinewidth": 0,
              "ticks": ""
             }
            },
            "type": "scatter3d"
           }
          ],
          "scattercarpet": [
           {
            "marker": {
             "colorbar": {
              "outlinewidth": 0,
              "ticks": ""
             }
            },
            "type": "scattercarpet"
           }
          ],
          "scattergeo": [
           {
            "marker": {
             "colorbar": {
              "outlinewidth": 0,
              "ticks": ""
             }
            },
            "type": "scattergeo"
           }
          ],
          "scattergl": [
           {
            "marker": {
             "colorbar": {
              "outlinewidth": 0,
              "ticks": ""
             }
            },
            "type": "scattergl"
           }
          ],
          "scattermapbox": [
           {
            "marker": {
             "colorbar": {
              "outlinewidth": 0,
              "ticks": ""
             }
            },
            "type": "scattermapbox"
           }
          ],
          "scatterpolar": [
           {
            "marker": {
             "colorbar": {
              "outlinewidth": 0,
              "ticks": ""
             }
            },
            "type": "scatterpolar"
           }
          ],
          "scatterpolargl": [
           {
            "marker": {
             "colorbar": {
              "outlinewidth": 0,
              "ticks": ""
             }
            },
            "type": "scatterpolargl"
           }
          ],
          "scatterternary": [
           {
            "marker": {
             "colorbar": {
              "outlinewidth": 0,
              "ticks": ""
             }
            },
            "type": "scatterternary"
           }
          ],
          "surface": [
           {
            "colorbar": {
             "outlinewidth": 0,
             "ticks": ""
            },
            "colorscale": [
             [
              0,
              "#0d0887"
             ],
             [
              0.1111111111111111,
              "#46039f"
             ],
             [
              0.2222222222222222,
              "#7201a8"
             ],
             [
              0.3333333333333333,
              "#9c179e"
             ],
             [
              0.4444444444444444,
              "#bd3786"
             ],
             [
              0.5555555555555556,
              "#d8576b"
             ],
             [
              0.6666666666666666,
              "#ed7953"
             ],
             [
              0.7777777777777778,
              "#fb9f3a"
             ],
             [
              0.8888888888888888,
              "#fdca26"
             ],
             [
              1,
              "#f0f921"
             ]
            ],
            "type": "surface"
           }
          ],
          "table": [
           {
            "cells": {
             "fill": {
              "color": "#EBF0F8"
             },
             "line": {
              "color": "white"
             }
            },
            "header": {
             "fill": {
              "color": "#C8D4E3"
             },
             "line": {
              "color": "white"
             }
            },
            "type": "table"
           }
          ]
         },
         "layout": {
          "annotationdefaults": {
           "arrowcolor": "#2a3f5f",
           "arrowhead": 0,
           "arrowwidth": 1
          },
          "autotypenumbers": "strict",
          "coloraxis": {
           "colorbar": {
            "outlinewidth": 0,
            "ticks": ""
           }
          },
          "colorscale": {
           "diverging": [
            [
             0,
             "#8e0152"
            ],
            [
             0.1,
             "#c51b7d"
            ],
            [
             0.2,
             "#de77ae"
            ],
            [
             0.3,
             "#f1b6da"
            ],
            [
             0.4,
             "#fde0ef"
            ],
            [
             0.5,
             "#f7f7f7"
            ],
            [
             0.6,
             "#e6f5d0"
            ],
            [
             0.7,
             "#b8e186"
            ],
            [
             0.8,
             "#7fbc41"
            ],
            [
             0.9,
             "#4d9221"
            ],
            [
             1,
             "#276419"
            ]
           ],
           "sequential": [
            [
             0,
             "#0d0887"
            ],
            [
             0.1111111111111111,
             "#46039f"
            ],
            [
             0.2222222222222222,
             "#7201a8"
            ],
            [
             0.3333333333333333,
             "#9c179e"
            ],
            [
             0.4444444444444444,
             "#bd3786"
            ],
            [
             0.5555555555555556,
             "#d8576b"
            ],
            [
             0.6666666666666666,
             "#ed7953"
            ],
            [
             0.7777777777777778,
             "#fb9f3a"
            ],
            [
             0.8888888888888888,
             "#fdca26"
            ],
            [
             1,
             "#f0f921"
            ]
           ],
           "sequentialminus": [
            [
             0,
             "#0d0887"
            ],
            [
             0.1111111111111111,
             "#46039f"
            ],
            [
             0.2222222222222222,
             "#7201a8"
            ],
            [
             0.3333333333333333,
             "#9c179e"
            ],
            [
             0.4444444444444444,
             "#bd3786"
            ],
            [
             0.5555555555555556,
             "#d8576b"
            ],
            [
             0.6666666666666666,
             "#ed7953"
            ],
            [
             0.7777777777777778,
             "#fb9f3a"
            ],
            [
             0.8888888888888888,
             "#fdca26"
            ],
            [
             1,
             "#f0f921"
            ]
           ]
          },
          "colorway": [
           "#636efa",
           "#EF553B",
           "#00cc96",
           "#ab63fa",
           "#FFA15A",
           "#19d3f3",
           "#FF6692",
           "#B6E880",
           "#FF97FF",
           "#FECB52"
          ],
          "font": {
           "color": "#2a3f5f"
          },
          "geo": {
           "bgcolor": "white",
           "lakecolor": "white",
           "landcolor": "#E5ECF6",
           "showlakes": true,
           "showland": true,
           "subunitcolor": "white"
          },
          "hoverlabel": {
           "align": "left"
          },
          "hovermode": "closest",
          "mapbox": {
           "style": "light"
          },
          "paper_bgcolor": "white",
          "plot_bgcolor": "#E5ECF6",
          "polar": {
           "angularaxis": {
            "gridcolor": "white",
            "linecolor": "white",
            "ticks": ""
           },
           "bgcolor": "#E5ECF6",
           "radialaxis": {
            "gridcolor": "white",
            "linecolor": "white",
            "ticks": ""
           }
          },
          "scene": {
           "xaxis": {
            "backgroundcolor": "#E5ECF6",
            "gridcolor": "white",
            "gridwidth": 2,
            "linecolor": "white",
            "showbackground": true,
            "ticks": "",
            "zerolinecolor": "white"
           },
           "yaxis": {
            "backgroundcolor": "#E5ECF6",
            "gridcolor": "white",
            "gridwidth": 2,
            "linecolor": "white",
            "showbackground": true,
            "ticks": "",
            "zerolinecolor": "white"
           },
           "zaxis": {
            "backgroundcolor": "#E5ECF6",
            "gridcolor": "white",
            "gridwidth": 2,
            "linecolor": "white",
            "showbackground": true,
            "ticks": "",
            "zerolinecolor": "white"
           }
          },
          "shapedefaults": {
           "line": {
            "color": "#2a3f5f"
           }
          },
          "ternary": {
           "aaxis": {
            "gridcolor": "white",
            "linecolor": "white",
            "ticks": ""
           },
           "baxis": {
            "gridcolor": "white",
            "linecolor": "white",
            "ticks": ""
           },
           "bgcolor": "#E5ECF6",
           "caxis": {
            "gridcolor": "white",
            "linecolor": "white",
            "ticks": ""
           }
          },
          "title": {
           "x": 0.05
          },
          "xaxis": {
           "automargin": true,
           "gridcolor": "white",
           "linecolor": "white",
           "ticks": "",
           "title": {
            "standoff": 15
           },
           "zerolinecolor": "white",
           "zerolinewidth": 2
          },
          "yaxis": {
           "automargin": true,
           "gridcolor": "white",
           "linecolor": "white",
           "ticks": "",
           "title": {
            "standoff": 15
           },
           "zerolinecolor": "white",
           "zerolinewidth": 2
          }
         }
        },
        "title": {
         "text": "Optimization History Plot"
        },
        "xaxis": {
         "title": {
          "text": "Trial"
         }
        },
        "yaxis": {
         "title": {
          "text": "Objective Value"
         }
        }
       }
      }
     },
     "metadata": {},
     "output_type": "display_data"
    }
   ],
   "source": [
    "p_history_no_feat_eng = optuna.visualization.plot_optimization_history(study_no_feat_eng)\n",
    "p_history_no_feat_eng.show()"
   ]
  },
  {
   "cell_type": "markdown",
   "metadata": {},
   "source": [
    "## With Feature Engineering"
   ]
  },
  {
   "cell_type": "code",
   "execution_count": 11,
   "metadata": {},
   "outputs": [],
   "source": [
    "# Load data\n",
    "train_df = pd.read_csv(config[\"paths\"][\"ptb_train\"], header=None)"
   ]
  },
  {
   "cell_type": "code",
   "execution_count": 12,
   "metadata": {},
   "outputs": [],
   "source": [
    "X_train_all = train_df.iloc[:, :-1]\n",
    "y_train_all = train_df.iloc[:, -1]"
   ]
  },
  {
   "cell_type": "code",
   "execution_count": 13,
   "metadata": {},
   "outputs": [],
   "source": [
    "X_train_all.columns = X_train_all.columns.astype(str)"
   ]
  },
  {
   "cell_type": "code",
   "execution_count": 14,
   "metadata": {},
   "outputs": [],
   "source": [
    "# create objective function for optuna\n",
    "def objective_feat_eng(trial):\n",
    "    use_smote = trial.suggest_categorical(\"use_smote\", [True, False]),\n",
    "\n",
    "    # see: https://forecastegy.com/posts/catboost-hyperparameter-tuning-guide-with-optuna/\n",
    "    hyperparams = {\n",
    "        \"learning_rate\": trial.suggest_float(\"learning_rate\", 1e-4, 0.5, log=True),\n",
    "        \"depth\": trial.suggest_int(\"depth\", 5, 10),\n",
    "        \"iterations\": trial.suggest_int(\"n_estimators\", 100, 1000),\n",
    "        \"l2_leaf_reg\": trial.suggest_float(\"l2_leaf_reg\", 1e-4, 1e2, log=True),\n",
    "        \"min_data_in_leaf\": trial.suggest_int(\"min_data_in_leaf\", 1, 100),\n",
    "    }\n",
    "    \n",
    "    \n",
    "    f1_scores = []\n",
    "    \n",
    "    skf = StratifiedKFold(n_splits=5, random_state=config[\"general\"][\"seed\"], shuffle=True)\n",
    "    for fold_num, (train_idx, val_idx) in enumerate(skf.split(X_train_all, y_train_all)):\n",
    "        X_train, X_val = X_train_all.iloc[train_idx], X_train_all.iloc[val_idx]\n",
    "        y_train, y_val = y_train_all[train_idx], y_train_all[val_idx]\n",
    "        \n",
    "        \n",
    "        if use_smote:\n",
    "            smote = SMOTE(random_state=config[\"general\"][\"seed\"])\n",
    "            X_train, y_train = smote.fit_resample(X_train, y_train) \n",
    "        \n",
    "        \n",
    "        X_train[\"id\"] = X_train.index\n",
    "        X_train_melted =(\n",
    "            X_train\n",
    "            .melt(id_vars=\"id\", var_name=\"time\", value_name=\"value\")\n",
    "            .sort_values(by=[\"id\", \"time\"])\n",
    "        )\n",
    "        # get rid of padding to not ruin the engineered features\n",
    "        # for simplicity, we drop all 0s, as only few \"true\" 0s are in the data\n",
    "        X_train_melted[\"value\"] = X_train_melted[\"value\"].replace(0, np.nan)\n",
    "        X_train_melted = X_train_melted.dropna()\n",
    "        \n",
    "        X_val[\"id\"] = X_val.index\n",
    "        X_val_melted =(\n",
    "            X_val\n",
    "            .melt(id_vars=\"id\", var_name=\"time\", value_name=\"value\")\n",
    "            .sort_values(by=[\"id\", \"time\"])\n",
    "        )\n",
    "        # get rid of padding to not ruin the engineered features\n",
    "        # for simplicity, we drop all 0s, as only few \"true\" 0s are in the data\n",
    "        X_val_melted[\"value\"] = X_val_melted[\"value\"].replace(0, np.nan)\n",
    "        X_val_melted = X_val_melted.dropna()\n",
    "        \n",
    "        \n",
    "        # We will follow this tutorial:\n",
    "        # https://towardsdatascience.com/expanding-your-regression-repertoire-with-regularisation-903d2c9f7b28\n",
    "        # but will use the ComprehensiveFCParameters instead of the EfficientFCParameters\n",
    "        # for feature extraction\n",
    "        X_train_augmented = extract_features(\n",
    "            X_train_melted,\n",
    "            column_id=\"id\",\n",
    "            column_sort=\"time\",\n",
    "            column_value=\"value\",\n",
    "            default_fc_parameters=ComprehensiveFCParameters(),\n",
    "        )  \n",
    "        X_val_augmented = extract_features(\n",
    "            X_val_melted,\n",
    "            column_id=\"id\",\n",
    "            column_sort=\"time\",\n",
    "            column_value=\"value\",\n",
    "            default_fc_parameters=ComprehensiveFCParameters(),\n",
    "        )  \n",
    "        \n",
    "        X_train_merged = pd.merge(\n",
    "            X_train, X_train_augmented, left_index=True, right_index=True\n",
    "        )\n",
    "        X_val_merged = pd.merge(\n",
    "            X_val, X_val_augmented, left_index=True, right_index=True\n",
    "        )\n",
    "\n",
    "        # assert that no rows were lost\n",
    "        assert X_train_merged.shape[0] == X_train.shape[0]\n",
    "        assert X_val_merged.shape[0] == X_val.shape[0]\n",
    "        assert X_train_merged.index.equals(X_train.index)\n",
    "        assert X_val_merged.index.equals(X_val.index)\n",
    "        \n",
    "        imputer = PerColumnImputer()\n",
    "        X_train_merged = imputer.fit_transform(X_train_merged)\n",
    "        X_val_merged = imputer.transform(X_val_merged)\n",
    "        \n",
    "        boost = cb.CatBoostClassifier(\n",
    "            task_type=\"CPU\", \n",
    "            random_state=config[\"general\"][\"seed\"],\n",
    "            **hyperparams\n",
    "        )\n",
    "        boost.fit(X_train_merged, y_train, verbose=0)\n",
    "        \n",
    "        y_preds = boost.predict(X_val_merged)\n",
    "        \n",
    "        score = f1_score(y_val, y_preds)\n",
    "            \n",
    "        trial.report(score, fold_num)\n",
    "        if trial.should_prune():\n",
    "            raise optuna.TrialPruned()\n",
    "        \n",
    "        f1_scores.append(f1_score)\n",
    "            \n",
    "        \n",
    "    return np.mean(score)"
   ]
  },
  {
   "cell_type": "code",
   "execution_count": 15,
   "metadata": {},
   "outputs": [
    {
     "name": "stderr",
     "output_type": "stream",
     "text": [
      "[I 2024-04-30 06:03:57,268] A new study created in memory with name: boost_feat_eng\n"
     ]
    }
   ],
   "source": [
    "# prune bad trials \n",
    "pruner = optuna.pruners.MedianPruner(n_startup_trials=20, n_warmup_steps=2)\n",
    "\n",
    "study_feat_eng = optuna.create_study(\n",
    "    direction=\"maximize\",\n",
    "    study_name=\"boost_feat_eng\",\n",
    "    sampler=optuna.samplers.TPESampler(seed=config[\"general\"][\"seed\"]),\n",
    "    pruner=pruner,\n",
    ")"
   ]
  },
  {
   "cell_type": "code",
   "execution_count": 16,
   "metadata": {},
   "outputs": [
    {
     "data": {
      "application/vnd.jupyter.widget-view+json": {
       "model_id": "6ce3b98fdf6b4fadaf90395e8642232d",
       "version_major": 2,
       "version_minor": 0
      },
      "text/plain": [
       "  0%|          | 0/200 [00:00<?, ?it/s]"
      ]
     },
     "metadata": {},
     "output_type": "display_data"
    },
    {
     "name": "stderr",
     "output_type": "stream",
     "text": [
      "Feature Extraction: 100%|██████████| 80/80 [00:55<00:00,  1.44it/s]\n",
      "Feature Extraction: 100%|██████████| 78/78 [00:10<00:00,  7.31it/s]\n",
      "Feature Extraction: 100%|██████████| 80/80 [00:57<00:00,  1.39it/s]\n",
      "Feature Extraction: 100%|██████████| 78/78 [00:10<00:00,  7.10it/s]\n",
      "Feature Extraction: 100%|██████████| 80/80 [00:55<00:00,  1.44it/s]\n",
      "Feature Extraction: 100%|██████████| 78/78 [00:11<00:00,  6.79it/s]\n",
      "Feature Extraction: 100%|██████████| 80/80 [00:57<00:00,  1.39it/s]\n",
      "Feature Extraction: 100%|██████████| 78/78 [00:10<00:00,  7.11it/s]\n",
      "Feature Extraction: 100%|██████████| 80/80 [00:59<00:00,  1.35it/s]\n",
      "Feature Extraction: 100%|██████████| 78/78 [00:11<00:00,  7.04it/s]\n"
     ]
    },
    {
     "name": "stdout",
     "output_type": "stream",
     "text": [
      "[I 2024-04-30 06:12:25,631] Trial 0 finished with value: 0.9824769824769825 and parameters: {'use_smote': False, 'learning_rate': 0.05100627805979915, 'depth': 8, 'n_estimators': 240, 'l2_leaf_reg': 0.0008629132190071859, 'min_data_in_leaf': 6}. Best is trial 0 with value: 0.9824769824769825.\n"
     ]
    },
    {
     "name": "stderr",
     "output_type": "stream",
     "text": [
      "Feature Extraction: 100%|██████████| 80/80 [01:00<00:00,  1.32it/s]\n",
      "Feature Extraction: 100%|██████████| 78/78 [00:11<00:00,  6.98it/s]\n",
      "Feature Extraction: 100%|██████████| 80/80 [01:00<00:00,  1.32it/s]\n",
      "Feature Extraction: 100%|██████████| 78/78 [00:11<00:00,  6.97it/s]\n",
      "Feature Extraction: 100%|██████████| 80/80 [00:58<00:00,  1.36it/s]\n",
      "Feature Extraction: 100%|██████████| 78/78 [00:11<00:00,  7.01it/s]\n",
      "Feature Extraction: 100%|██████████| 80/80 [00:59<00:00,  1.35it/s]\n",
      "Feature Extraction: 100%|██████████| 78/78 [00:11<00:00,  7.04it/s]\n",
      "Feature Extraction: 100%|██████████| 80/80 [00:58<00:00,  1.37it/s]\n",
      "Feature Extraction: 100%|██████████| 78/78 [00:10<00:00,  7.12it/s]\n"
     ]
    },
    {
     "name": "stdout",
     "output_type": "stream",
     "text": [
      "[I 2024-04-30 06:20:03,113] Trial 1 finished with value: 0.9806490026793688 and parameters: {'use_smote': True, 'learning_rate': 0.04160439645256607, 'depth': 5, 'n_estimators': 973, 'l2_leaf_reg': 9.877700294007917, 'min_data_in_leaf': 22}. Best is trial 0 with value: 0.9824769824769825.\n"
     ]
    },
    {
     "name": "stderr",
     "output_type": "stream",
     "text": [
      "Feature Extraction: 100%|██████████| 80/80 [00:59<00:00,  1.35it/s]\n",
      "Feature Extraction: 100%|██████████| 78/78 [00:10<00:00,  7.11it/s]\n",
      "Feature Extraction: 100%|██████████| 80/80 [00:57<00:00,  1.39it/s]\n",
      "Feature Extraction: 100%|██████████| 78/78 [00:10<00:00,  7.11it/s]\n",
      "Feature Extraction: 100%|██████████| 80/80 [01:00<00:00,  1.32it/s]\n",
      "Feature Extraction: 100%|██████████| 78/78 [00:11<00:00,  6.98it/s]\n",
      "Feature Extraction: 100%|██████████| 80/80 [00:59<00:00,  1.35it/s]\n",
      "Feature Extraction: 100%|██████████| 78/78 [00:11<00:00,  6.96it/s]\n",
      "Feature Extraction: 100%|██████████| 80/80 [01:00<00:00,  1.33it/s]\n",
      "Feature Extraction: 100%|██████████| 78/78 [00:11<00:00,  7.01it/s]\n"
     ]
    },
    {
     "name": "stdout",
     "output_type": "stream",
     "text": [
      "[I 2024-04-30 06:29:56,434] Trial 2 finished with value: 0.9137148047229791 and parameters: {'use_smote': False, 'learning_rate': 0.00133469775741781, 'depth': 8, 'n_estimators': 489, 'l2_leaf_reg': 0.005589524205217926, 'min_data_in_leaf': 62}. Best is trial 0 with value: 0.9824769824769825.\n"
     ]
    },
    {
     "name": "stderr",
     "output_type": "stream",
     "text": [
      "Feature Extraction: 100%|██████████| 80/80 [01:00<00:00,  1.31it/s]\n",
      "Feature Extraction: 100%|██████████| 78/78 [00:10<00:00,  7.51it/s]\n",
      "Feature Extraction: 100%|██████████| 80/80 [01:01<00:00,  1.29it/s]\n",
      "Feature Extraction: 100%|██████████| 78/78 [00:09<00:00,  8.42it/s]\n",
      "Feature Extraction: 100%|██████████| 80/80 [00:56<00:00,  1.42it/s]\n",
      "Feature Extraction: 100%|██████████| 78/78 [00:10<00:00,  7.15it/s]\n",
      "Feature Extraction: 100%|██████████| 80/80 [00:58<00:00,  1.38it/s]\n",
      "Feature Extraction: 100%|██████████| 78/78 [00:11<00:00,  7.00it/s]\n",
      "Feature Extraction: 100%|██████████| 80/80 [00:59<00:00,  1.34it/s]\n",
      "Feature Extraction: 100%|██████████| 78/78 [00:11<00:00,  6.95it/s]\n"
     ]
    },
    {
     "name": "stdout",
     "output_type": "stream",
     "text": [
      "[I 2024-04-30 06:39:54,116] Trial 3 finished with value: 0.9338146811070999 and parameters: {'use_smote': False, 'learning_rate': 0.002265486450485179, 'depth': 7, 'n_estimators': 807, 'l2_leaf_reg': 0.0015777663630582469, 'min_data_in_leaf': 52}. Best is trial 0 with value: 0.9824769824769825.\n"
     ]
    },
    {
     "name": "stderr",
     "output_type": "stream",
     "text": [
      "Feature Extraction: 100%|██████████| 80/80 [01:00<00:00,  1.33it/s]\n",
      "Feature Extraction: 100%|██████████| 78/78 [00:09<00:00,  8.46it/s]\n",
      "Feature Extraction: 100%|██████████| 80/80 [01:00<00:00,  1.32it/s]\n",
      "Feature Extraction: 100%|██████████| 78/78 [00:09<00:00,  8.14it/s]\n",
      "Feature Extraction: 100%|██████████| 80/80 [00:59<00:00,  1.34it/s]\n",
      "Feature Extraction: 100%|██████████| 78/78 [00:10<00:00,  7.54it/s]\n",
      "Feature Extraction: 100%|██████████| 80/80 [00:59<00:00,  1.34it/s]\n",
      "Feature Extraction: 100%|██████████| 78/78 [00:10<00:00,  7.19it/s]\n",
      "Feature Extraction: 100%|██████████| 80/80 [00:58<00:00,  1.36it/s]\n",
      "Feature Extraction: 100%|██████████| 78/78 [00:10<00:00,  7.12it/s]\n"
     ]
    },
    {
     "name": "stdout",
     "output_type": "stream",
     "text": [
      "[I 2024-04-30 06:47:04,315] Trial 4 finished with value: 0.9234029669996973 and parameters: {'use_smote': True, 'learning_rate': 0.01767218232266507, 'depth': 6, 'n_estimators': 158, 'l2_leaf_reg': 49.35296209402104, 'min_data_in_leaf': 97}. Best is trial 0 with value: 0.9824769824769825.\n"
     ]
    },
    {
     "name": "stderr",
     "output_type": "stream",
     "text": [
      "Feature Extraction: 100%|██████████| 80/80 [00:59<00:00,  1.35it/s]\n",
      "Feature Extraction: 100%|██████████| 78/78 [00:11<00:00,  6.96it/s]\n",
      "Feature Extraction: 100%|██████████| 80/80 [01:03<00:00,  1.27it/s]\n",
      "Feature Extraction: 100%|██████████| 78/78 [00:08<00:00,  9.57it/s]\n",
      "Feature Extraction: 100%|██████████| 80/80 [00:54<00:00,  1.45it/s]\n",
      "Feature Extraction: 100%|██████████| 78/78 [00:11<00:00,  6.88it/s]\n",
      "Feature Extraction: 100%|██████████| 80/80 [00:59<00:00,  1.35it/s]\n",
      "Feature Extraction: 100%|██████████| 78/78 [00:11<00:00,  6.81it/s]\n",
      "Feature Extraction: 100%|██████████| 80/80 [01:01<00:00,  1.30it/s]\n",
      "Feature Extraction: 100%|██████████| 78/78 [00:10<00:00,  7.17it/s]\n"
     ]
    },
    {
     "name": "stdout",
     "output_type": "stream",
     "text": [
      "[I 2024-04-30 07:00:46,223] Trial 5 finished with value: 0.855608214849921 and parameters: {'use_smote': True, 'learning_rate': 0.0002297662414082499, 'depth': 9, 'n_estimators': 496, 'l2_leaf_reg': 0.0005397956855996448, 'min_data_in_leaf': 50}. Best is trial 0 with value: 0.9824769824769825.\n"
     ]
    },
    {
     "name": "stderr",
     "output_type": "stream",
     "text": [
      "Feature Extraction: 100%|██████████| 80/80 [00:54<00:00,  1.47it/s]\n",
      "Feature Extraction: 100%|██████████| 78/78 [00:11<00:00,  7.05it/s]\n",
      "Feature Extraction: 100%|██████████| 80/80 [00:59<00:00,  1.34it/s]\n",
      "Feature Extraction: 100%|██████████| 78/78 [00:11<00:00,  7.04it/s]\n",
      "Feature Extraction: 100%|██████████| 80/80 [00:59<00:00,  1.35it/s]\n",
      "Feature Extraction: 100%|██████████| 78/78 [00:08<00:00,  8.71it/s]\n",
      "Feature Extraction: 100%|██████████| 80/80 [01:01<00:00,  1.29it/s]\n",
      "Feature Extraction: 100%|██████████| 78/78 [00:10<00:00,  7.33it/s]\n",
      "Feature Extraction: 100%|██████████| 80/80 [01:00<00:00,  1.33it/s]\n",
      "Feature Extraction: 100%|██████████| 78/78 [00:11<00:00,  6.80it/s]\n"
     ]
    },
    {
     "name": "stdout",
     "output_type": "stream",
     "text": [
      "[I 2024-04-30 07:10:16,063] Trial 6 finished with value: 0.8761254268860602 and parameters: {'use_smote': False, 'learning_rate': 0.0009061902594114382, 'depth': 8, 'n_estimators': 380, 'l2_leaf_reg': 0.1319496149042567, 'min_data_in_leaf': 55}. Best is trial 0 with value: 0.9824769824769825.\n"
     ]
    },
    {
     "name": "stderr",
     "output_type": "stream",
     "text": [
      "Feature Extraction: 100%|██████████| 80/80 [00:57<00:00,  1.40it/s]\n",
      "Feature Extraction: 100%|██████████| 78/78 [00:11<00:00,  6.92it/s]\n",
      "Feature Extraction: 100%|██████████| 80/80 [00:57<00:00,  1.39it/s]\n",
      "Feature Extraction: 100%|██████████| 78/78 [00:11<00:00,  7.07it/s]\n",
      "Feature Extraction: 100%|██████████| 80/80 [00:57<00:00,  1.39it/s]\n",
      "Feature Extraction: 100%|██████████| 78/78 [00:10<00:00,  7.16it/s]\n",
      "Feature Extraction: 100%|██████████| 80/80 [00:57<00:00,  1.40it/s]\n",
      "Feature Extraction: 100%|██████████| 78/78 [00:11<00:00,  6.86it/s]\n",
      "Feature Extraction: 100%|██████████| 80/80 [00:59<00:00,  1.34it/s]\n",
      "Feature Extraction: 100%|██████████| 78/78 [00:11<00:00,  6.95it/s]\n"
     ]
    },
    {
     "name": "stdout",
     "output_type": "stream",
     "text": [
      "[I 2024-04-30 07:26:34,343] Trial 7 finished with value: 0.9854728728135191 and parameters: {'use_smote': False, 'learning_rate': 0.0736534446668837, 'depth': 10, 'n_estimators': 906, 'l2_leaf_reg': 0.3867228849117747, 'min_data_in_leaf': 93}. Best is trial 7 with value: 0.9854728728135191.\n"
     ]
    },
    {
     "name": "stderr",
     "output_type": "stream",
     "text": [
      "Feature Extraction: 100%|██████████| 80/80 [01:00<00:00,  1.33it/s]\n",
      "Feature Extraction: 100%|██████████| 78/78 [00:08<00:00,  8.88it/s]\n",
      "Feature Extraction: 100%|██████████| 80/80 [00:59<00:00,  1.35it/s]\n",
      "Feature Extraction: 100%|██████████| 78/78 [00:11<00:00,  6.91it/s]\n",
      "Feature Extraction: 100%|██████████| 80/80 [00:56<00:00,  1.42it/s]\n",
      "Feature Extraction: 100%|██████████| 78/78 [00:11<00:00,  7.03it/s]\n",
      "Feature Extraction: 100%|██████████| 80/80 [00:56<00:00,  1.40it/s]\n",
      "Feature Extraction: 100%|██████████| 78/78 [00:10<00:00,  7.16it/s]\n",
      "Feature Extraction: 100%|██████████| 80/80 [00:56<00:00,  1.42it/s]\n",
      "Feature Extraction: 100%|██████████| 78/78 [00:10<00:00,  7.15it/s]\n"
     ]
    },
    {
     "name": "stdout",
     "output_type": "stream",
     "text": [
      "[I 2024-04-30 07:34:33,049] Trial 8 finished with value: 0.8240917782026769 and parameters: {'use_smote': False, 'learning_rate': 0.00014699223219374907, 'depth': 6, 'n_estimators': 450, 'l2_leaf_reg': 0.004247116662617146, 'min_data_in_leaf': 83}. Best is trial 7 with value: 0.9854728728135191.\n"
     ]
    },
    {
     "name": "stderr",
     "output_type": "stream",
     "text": [
      "Feature Extraction: 100%|██████████| 80/80 [00:52<00:00,  1.51it/s]\n",
      "Feature Extraction: 100%|██████████| 78/78 [00:11<00:00,  6.91it/s]\n",
      "Feature Extraction: 100%|██████████| 80/80 [00:55<00:00,  1.43it/s]\n",
      "Feature Extraction: 100%|██████████| 78/78 [00:11<00:00,  7.06it/s]\n",
      "Feature Extraction: 100%|██████████| 80/80 [00:58<00:00,  1.37it/s]\n",
      "Feature Extraction: 100%|██████████| 78/78 [00:11<00:00,  6.82it/s]\n",
      "Feature Extraction: 100%|██████████| 80/80 [00:57<00:00,  1.39it/s]\n",
      "Feature Extraction: 100%|██████████| 78/78 [00:10<00:00,  7.10it/s]\n",
      "Feature Extraction: 100%|██████████| 80/80 [00:56<00:00,  1.41it/s]\n",
      "Feature Extraction: 100%|██████████| 78/78 [00:11<00:00,  7.00it/s]\n"
     ]
    },
    {
     "name": "stdout",
     "output_type": "stream",
     "text": [
      "[I 2024-04-30 07:42:06,236] Trial 9 finished with value: 0.9365521510368306 and parameters: {'use_smote': True, 'learning_rate': 0.010172238474449055, 'depth': 5, 'n_estimators': 822, 'l2_leaf_reg': 0.00028009403633756793, 'min_data_in_leaf': 99}. Best is trial 7 with value: 0.9854728728135191.\n"
     ]
    },
    {
     "name": "stderr",
     "output_type": "stream",
     "text": [
      "Feature Extraction: 100%|██████████| 80/80 [00:57<00:00,  1.38it/s]\n",
      "Feature Extraction: 100%|██████████| 78/78 [00:11<00:00,  7.06it/s]\n",
      "Feature Extraction: 100%|██████████| 80/80 [00:57<00:00,  1.39it/s]\n",
      "Feature Extraction: 100%|██████████| 78/78 [00:10<00:00,  7.16it/s]\n",
      "Feature Extraction: 100%|██████████| 80/80 [01:03<00:00,  1.27it/s]\n",
      "Feature Extraction: 100%|██████████| 78/78 [00:10<00:00,  7.41it/s]\n",
      "Feature Extraction: 100%|██████████| 80/80 [01:00<00:00,  1.33it/s]\n",
      "Feature Extraction: 100%|██████████| 78/78 [00:11<00:00,  7.08it/s]\n",
      "Feature Extraction: 100%|██████████| 80/80 [00:55<00:00,  1.43it/s]\n",
      "Feature Extraction: 100%|██████████| 78/78 [00:11<00:00,  7.08it/s]\n"
     ]
    },
    {
     "name": "stdout",
     "output_type": "stream",
     "text": [
      "[I 2024-04-30 07:56:01,905] Trial 10 finished with value: 0.9833134684147795 and parameters: {'use_smote': False, 'learning_rate': 0.2500079596315153, 'depth': 10, 'n_estimators': 704, 'l2_leaf_reg': 0.526059318173317, 'min_data_in_leaf': 74}. Best is trial 7 with value: 0.9854728728135191.\n"
     ]
    },
    {
     "name": "stderr",
     "output_type": "stream",
     "text": [
      "Feature Extraction: 100%|██████████| 80/80 [00:59<00:00,  1.34it/s]\n",
      "Feature Extraction: 100%|██████████| 78/78 [00:08<00:00,  8.75it/s]\n",
      "Feature Extraction: 100%|██████████| 80/80 [00:59<00:00,  1.34it/s]\n",
      "Feature Extraction: 100%|██████████| 78/78 [00:11<00:00,  7.05it/s]\n",
      "Feature Extraction: 100%|██████████| 80/80 [00:53<00:00,  1.48it/s]\n",
      "Feature Extraction: 100%|██████████| 78/78 [00:11<00:00,  7.04it/s]\n",
      "Feature Extraction: 100%|██████████| 80/80 [01:00<00:00,  1.31it/s]\n",
      "Feature Extraction: 100%|██████████| 78/78 [00:09<00:00,  7.87it/s]\n",
      "Feature Extraction: 100%|██████████| 80/80 [01:01<00:00,  1.31it/s]\n",
      "Feature Extraction: 100%|██████████| 78/78 [00:09<00:00,  8.34it/s]\n"
     ]
    },
    {
     "name": "stdout",
     "output_type": "stream",
     "text": [
      "[I 2024-04-30 08:10:05,140] Trial 11 finished with value: 0.9831010969463386 and parameters: {'use_smote': False, 'learning_rate': 0.40780593388708014, 'depth': 10, 'n_estimators': 690, 'l2_leaf_reg': 0.80187885086786, 'min_data_in_leaf': 76}. Best is trial 7 with value: 0.9854728728135191.\n"
     ]
    },
    {
     "name": "stderr",
     "output_type": "stream",
     "text": [
      "Feature Extraction: 100%|██████████| 80/80 [00:57<00:00,  1.39it/s]\n",
      "Feature Extraction: 100%|██████████| 78/78 [00:11<00:00,  7.07it/s]\n",
      "Feature Extraction: 100%|██████████| 80/80 [00:57<00:00,  1.40it/s]\n",
      "Feature Extraction: 100%|██████████| 78/78 [00:12<00:00,  6.32it/s]\n",
      "Feature Extraction: 100%|██████████| 80/80 [01:00<00:00,  1.31it/s]\n",
      "Feature Extraction: 100%|██████████| 78/78 [00:09<00:00,  8.50it/s]\n",
      "Feature Extraction: 100%|██████████| 80/80 [00:58<00:00,  1.36it/s]\n",
      "Feature Extraction: 100%|██████████| 78/78 [00:11<00:00,  7.04it/s]\n",
      "Feature Extraction: 100%|██████████| 80/80 [00:56<00:00,  1.41it/s]\n",
      "Feature Extraction: 100%|██████████| 78/78 [00:11<00:00,  6.83it/s]\n"
     ]
    },
    {
     "name": "stdout",
     "output_type": "stream",
     "text": [
      "[I 2024-04-30 08:24:09,072] Trial 12 finished with value: 0.9815366289458011 and parameters: {'use_smote': False, 'learning_rate': 0.45871593902613605, 'depth': 10, 'n_estimators': 696, 'l2_leaf_reg': 0.9695593631143825, 'min_data_in_leaf': 77}. Best is trial 7 with value: 0.9854728728135191.\n"
     ]
    },
    {
     "name": "stderr",
     "output_type": "stream",
     "text": [
      "Feature Extraction: 100%|██████████| 80/80 [00:59<00:00,  1.34it/s]\n",
      "Feature Extraction: 100%|██████████| 78/78 [00:07<00:00, 10.18it/s]\n",
      "Feature Extraction: 100%|██████████| 80/80 [01:03<00:00,  1.27it/s]\n",
      "Feature Extraction: 100%|██████████| 78/78 [00:09<00:00,  8.04it/s]\n",
      "Feature Extraction: 100%|██████████| 80/80 [00:57<00:00,  1.39it/s]\n",
      "Feature Extraction: 100%|██████████| 78/78 [00:11<00:00,  7.00it/s]\n",
      "Feature Extraction: 100%|██████████| 80/80 [00:55<00:00,  1.44it/s]\n",
      "Feature Extraction: 100%|██████████| 78/78 [00:10<00:00,  7.12it/s]\n",
      "Feature Extraction: 100%|██████████| 80/80 [00:57<00:00,  1.40it/s]\n",
      "Feature Extraction: 100%|██████████| 78/78 [00:11<00:00,  7.03it/s]\n"
     ]
    },
    {
     "name": "stdout",
     "output_type": "stream",
     "text": [
      "[I 2024-04-30 08:41:36,808] Trial 13 finished with value: 0.9845513963161022 and parameters: {'use_smote': False, 'learning_rate': 0.11778790368374273, 'depth': 10, 'n_estimators': 1000, 'l2_leaf_reg': 0.06489800003437501, 'min_data_in_leaf': 88}. Best is trial 7 with value: 0.9854728728135191.\n"
     ]
    },
    {
     "name": "stderr",
     "output_type": "stream",
     "text": [
      "Feature Extraction: 100%|██████████| 80/80 [00:57<00:00,  1.40it/s]\n",
      "Feature Extraction: 100%|██████████| 78/78 [00:11<00:00,  7.02it/s]\n",
      "Feature Extraction: 100%|██████████| 80/80 [00:57<00:00,  1.39it/s]\n",
      "Feature Extraction: 100%|██████████| 78/78 [00:11<00:00,  6.95it/s]\n",
      "Feature Extraction: 100%|██████████| 80/80 [01:04<00:00,  1.24it/s]\n",
      "Feature Extraction: 100%|██████████| 78/78 [00:10<00:00,  7.19it/s]\n",
      "Feature Extraction: 100%|██████████| 80/80 [01:00<00:00,  1.32it/s]\n",
      "Feature Extraction: 100%|██████████| 78/78 [00:10<00:00,  7.18it/s]\n",
      "Feature Extraction: 100%|██████████| 80/80 [00:58<00:00,  1.37it/s]\n",
      "Feature Extraction: 100%|██████████| 78/78 [00:10<00:00,  7.22it/s]\n"
     ]
    },
    {
     "name": "stdout",
     "output_type": "stream",
     "text": [
      "[I 2024-04-30 09:01:57,938] Trial 14 finished with value: 0.9865951742627346 and parameters: {'use_smote': False, 'learning_rate': 0.11156523715078995, 'depth': 9, 'n_estimators': 997, 'l2_leaf_reg': 0.027795604922870122, 'min_data_in_leaf': 37}. Best is trial 14 with value: 0.9865951742627346.\n"
     ]
    },
    {
     "name": "stderr",
     "output_type": "stream",
     "text": [
      "Feature Extraction: 100%|██████████| 80/80 [00:58<00:00,  1.38it/s]\n",
      "Feature Extraction: 100%|██████████| 78/78 [00:10<00:00,  7.24it/s]\n",
      "Feature Extraction: 100%|██████████| 80/80 [01:03<00:00,  1.26it/s]\n",
      "Feature Extraction: 100%|██████████| 78/78 [00:09<00:00,  8.40it/s]\n",
      "Feature Extraction: 100%|██████████| 80/80 [01:00<00:00,  1.32it/s]\n",
      "Feature Extraction: 100%|██████████| 78/78 [00:11<00:00,  6.96it/s]\n",
      "Feature Extraction: 100%|██████████| 80/80 [00:56<00:00,  1.43it/s]\n",
      "Feature Extraction: 100%|██████████| 78/78 [00:10<00:00,  7.16it/s]\n",
      "Feature Extraction: 100%|██████████| 80/80 [01:03<00:00,  1.26it/s]\n",
      "Feature Extraction: 100%|██████████| 78/78 [00:08<00:00,  9.51it/s]\n"
     ]
    },
    {
     "name": "stdout",
     "output_type": "stream",
     "text": [
      "[I 2024-04-30 09:20:48,463] Trial 15 finished with value: 0.9869436201780415 and parameters: {'use_smote': False, 'learning_rate': 0.08014673811832856, 'depth': 9, 'n_estimators': 886, 'l2_leaf_reg': 0.025452814834808823, 'min_data_in_leaf': 34}. Best is trial 15 with value: 0.9869436201780415.\n"
     ]
    },
    {
     "name": "stderr",
     "output_type": "stream",
     "text": [
      "Feature Extraction: 100%|██████████| 80/80 [00:57<00:00,  1.38it/s]\n",
      "Feature Extraction: 100%|██████████| 78/78 [00:10<00:00,  7.16it/s]\n",
      "Feature Extraction: 100%|██████████| 80/80 [00:57<00:00,  1.40it/s]\n",
      "Feature Extraction: 100%|██████████| 78/78 [00:10<00:00,  7.12it/s]\n",
      "Feature Extraction: 100%|██████████| 80/80 [01:01<00:00,  1.30it/s]\n",
      "Feature Extraction: 100%|██████████| 78/78 [00:07<00:00,  9.88it/s]\n",
      "Feature Extraction: 100%|██████████| 80/80 [00:59<00:00,  1.35it/s]\n",
      "Feature Extraction: 100%|██████████| 78/78 [00:11<00:00,  7.06it/s]\n",
      "Feature Extraction: 100%|██████████| 80/80 [00:57<00:00,  1.39it/s]\n",
      "Feature Extraction: 100%|██████████| 78/78 [00:10<00:00,  7.18it/s]\n"
     ]
    },
    {
     "name": "stdout",
     "output_type": "stream",
     "text": [
      "[I 2024-04-30 09:39:19,797] Trial 16 finished with value: 0.9857651245551602 and parameters: {'use_smote': False, 'learning_rate': 0.018821887854678535, 'depth': 9, 'n_estimators': 852, 'l2_leaf_reg': 0.019543261927417906, 'min_data_in_leaf': 34}. Best is trial 15 with value: 0.9869436201780415.\n"
     ]
    },
    {
     "name": "stderr",
     "output_type": "stream",
     "text": [
      "Feature Extraction: 100%|██████████| 80/80 [01:01<00:00,  1.30it/s]\n",
      "Feature Extraction: 100%|██████████| 78/78 [00:10<00:00,  7.30it/s]\n",
      "Feature Extraction: 100%|██████████| 80/80 [00:59<00:00,  1.34it/s]\n",
      "Feature Extraction: 100%|██████████| 78/78 [00:11<00:00,  7.02it/s]\n",
      "Feature Extraction: 100%|██████████| 80/80 [00:58<00:00,  1.36it/s]\n",
      "Feature Extraction: 100%|██████████| 78/78 [00:10<00:00,  7.47it/s]\n",
      "Feature Extraction: 100%|██████████| 80/80 [00:59<00:00,  1.35it/s]\n",
      "Feature Extraction: 100%|██████████| 78/78 [00:11<00:00,  6.89it/s]\n",
      "Feature Extraction: 100%|██████████| 80/80 [00:58<00:00,  1.36it/s]\n",
      "Feature Extraction: 100%|██████████| 78/78 [00:09<00:00,  8.13it/s]\n"
     ]
    },
    {
     "name": "stdout",
     "output_type": "stream",
     "text": [
      "[I 2024-04-30 09:56:23,347] Trial 17 finished with value: 0.9872289872289872 and parameters: {'use_smote': False, 'learning_rate': 0.1627334199785534, 'depth': 9, 'n_estimators': 755, 'l2_leaf_reg': 0.037007410339764624, 'min_data_in_leaf': 36}. Best is trial 17 with value: 0.9872289872289872.\n"
     ]
    },
    {
     "name": "stderr",
     "output_type": "stream",
     "text": [
      "Feature Extraction: 100%|██████████| 80/80 [01:00<00:00,  1.33it/s]\n",
      "Feature Extraction: 100%|██████████| 78/78 [00:11<00:00,  6.97it/s]\n",
      "Feature Extraction: 100%|██████████| 80/80 [01:04<00:00,  1.24it/s]\n",
      "Feature Extraction: 100%|██████████| 78/78 [00:09<00:00,  8.24it/s]\n",
      "Feature Extraction: 100%|██████████| 80/80 [00:58<00:00,  1.38it/s]\n",
      "Feature Extraction: 100%|██████████| 78/78 [00:11<00:00,  7.03it/s]\n",
      "Feature Extraction: 100%|██████████| 80/80 [01:13<00:00,  1.09it/s]\n",
      "Feature Extraction: 100%|██████████| 78/78 [00:10<00:00,  7.28it/s]\n",
      "Feature Extraction: 100%|██████████| 80/80 [00:58<00:00,  1.37it/s]\n",
      "Feature Extraction: 100%|██████████| 78/78 [00:11<00:00,  6.97it/s]\n"
     ]
    },
    {
     "name": "stdout",
     "output_type": "stream",
     "text": [
      "[I 2024-04-30 10:11:47,646] Trial 18 finished with value: 0.9765509053131493 and parameters: {'use_smote': True, 'learning_rate': 0.004562110581076508, 'depth': 9, 'n_estimators': 601, 'l2_leaf_reg': 0.00012389742830281927, 'min_data_in_leaf': 14}. Best is trial 17 with value: 0.9872289872289872.\n"
     ]
    },
    {
     "name": "stderr",
     "output_type": "stream",
     "text": [
      "Feature Extraction: 100%|██████████| 80/80 [01:01<00:00,  1.30it/s]\n",
      "Feature Extraction: 100%|██████████| 78/78 [00:10<00:00,  7.71it/s]\n",
      "Feature Extraction: 100%|██████████| 80/80 [00:56<00:00,  1.41it/s]\n",
      "Feature Extraction: 100%|██████████| 78/78 [00:11<00:00,  6.58it/s]\n",
      "Feature Extraction: 100%|██████████| 80/80 [00:57<00:00,  1.38it/s]\n",
      "Feature Extraction: 100%|██████████| 78/78 [00:11<00:00,  7.06it/s]\n",
      "Feature Extraction: 100%|██████████| 80/80 [00:59<00:00,  1.35it/s]\n",
      "Feature Extraction: 100%|██████████| 78/78 [00:11<00:00,  7.02it/s]\n",
      "Feature Extraction: 100%|██████████| 80/80 [00:59<00:00,  1.35it/s]\n",
      "Feature Extraction: 100%|██████████| 78/78 [00:10<00:00,  7.31it/s]\n"
     ]
    },
    {
     "name": "stdout",
     "output_type": "stream",
     "text": [
      "[I 2024-04-30 10:21:30,396] Trial 19 finished with value: 0.9784560143626571 and parameters: {'use_smote': False, 'learning_rate': 0.1627369509717598, 'depth': 7, 'n_estimators': 775, 'l2_leaf_reg': 3.823704916741752, 'min_data_in_leaf': 34}. Best is trial 17 with value: 0.9872289872289872.\n"
     ]
    },
    {
     "name": "stderr",
     "output_type": "stream",
     "text": [
      "Feature Extraction: 100%|██████████| 80/80 [01:01<00:00,  1.30it/s]\n",
      "Feature Extraction: 100%|██████████| 78/78 [00:10<00:00,  7.65it/s]\n",
      "Feature Extraction: 100%|██████████| 80/80 [00:58<00:00,  1.38it/s]\n",
      "Feature Extraction: 100%|██████████| 78/78 [00:11<00:00,  7.08it/s]\n",
      "Feature Extraction: 100%|██████████| 80/80 [01:01<00:00,  1.30it/s]\n",
      "Feature Extraction: 100%|██████████| 78/78 [00:10<00:00,  7.43it/s]\n",
      "Feature Extraction: 100%|██████████| 80/80 [00:57<00:00,  1.40it/s]\n",
      "Feature Extraction: 100%|██████████| 78/78 [00:11<00:00,  6.89it/s]\n",
      "Feature Extraction: 100%|██████████| 80/80 [01:01<00:00,  1.29it/s]\n",
      "Feature Extraction: 100%|██████████| 78/78 [00:10<00:00,  7.25it/s]\n"
     ]
    },
    {
     "name": "stdout",
     "output_type": "stream",
     "text": [
      "[I 2024-04-30 10:36:49,449] Trial 20 finished with value: 0.9866508454464551 and parameters: {'use_smote': False, 'learning_rate': 0.03672608284184885, 'depth': 9, 'n_estimators': 602, 'l2_leaf_reg': 0.003960354006182484, 'min_data_in_leaf': 23}. Best is trial 17 with value: 0.9872289872289872.\n"
     ]
    },
    {
     "name": "stderr",
     "output_type": "stream",
     "text": [
      "Feature Extraction: 100%|██████████| 80/80 [00:56<00:00,  1.41it/s]\n",
      "Feature Extraction: 100%|██████████| 78/78 [00:11<00:00,  6.97it/s]\n",
      "Feature Extraction: 100%|██████████| 80/80 [01:03<00:00,  1.27it/s]\n",
      "Feature Extraction: 100%|██████████| 78/78 [00:09<00:00,  7.86it/s]\n",
      "Feature Extraction: 100%|██████████| 80/80 [00:57<00:00,  1.39it/s]\n",
      "Feature Extraction: 100%|██████████| 78/78 [00:11<00:00,  7.08it/s]\n",
      "Feature Extraction: 100%|██████████| 80/80 [01:02<00:00,  1.28it/s]\n",
      "Feature Extraction: 100%|██████████| 78/78 [00:08<00:00,  9.14it/s]\n",
      "Feature Extraction: 100%|██████████| 80/80 [00:57<00:00,  1.39it/s]\n",
      "Feature Extraction: 100%|██████████| 78/78 [00:11<00:00,  7.09it/s]\n"
     ]
    },
    {
     "name": "stdout",
     "output_type": "stream",
     "text": [
      "[I 2024-04-30 10:51:51,334] Trial 21 finished with value: 0.9869436201780415 and parameters: {'use_smote': False, 'learning_rate': 0.03786221058841184, 'depth': 9, 'n_estimators': 603, 'l2_leaf_reg': 0.01125291865209966, 'min_data_in_leaf': 24}. Best is trial 17 with value: 0.9872289872289872.\n"
     ]
    },
    {
     "name": "stderr",
     "output_type": "stream",
     "text": [
      "Feature Extraction: 100%|██████████| 80/80 [01:02<00:00,  1.29it/s]\n",
      "Feature Extraction: 100%|██████████| 78/78 [00:08<00:00,  8.98it/s]\n",
      "Feature Extraction: 100%|██████████| 80/80 [00:55<00:00,  1.43it/s]\n",
      "Feature Extraction: 100%|██████████| 78/78 [00:10<00:00,  7.12it/s]\n",
      "Feature Extraction: 100%|██████████| 80/80 [00:59<00:00,  1.35it/s]\n",
      "Feature Extraction: 100%|██████████| 78/78 [00:11<00:00,  6.87it/s]\n",
      "Feature Extraction: 100%|██████████| 80/80 [01:01<00:00,  1.30it/s]\n",
      "Feature Extraction: 100%|██████████| 78/78 [00:09<00:00,  8.54it/s]\n",
      "Feature Extraction: 100%|██████████| 80/80 [00:59<00:00,  1.35it/s]\n",
      "Feature Extraction: 100%|██████████| 78/78 [00:10<00:00,  7.25it/s]\n"
     ]
    },
    {
     "name": "stdout",
     "output_type": "stream",
     "text": [
      "[I 2024-04-30 11:03:50,740] Trial 22 finished with value: 0.9848529848529849 and parameters: {'use_smote': False, 'learning_rate': 0.021139770535546158, 'depth': 8, 'n_estimators': 725, 'l2_leaf_reg': 0.02028965202203345, 'min_data_in_leaf': 41}. Best is trial 17 with value: 0.9872289872289872.\n"
     ]
    },
    {
     "name": "stderr",
     "output_type": "stream",
     "text": [
      "Feature Extraction: 100%|██████████| 80/80 [00:57<00:00,  1.39it/s]\n",
      "Feature Extraction: 100%|██████████| 78/78 [00:11<00:00,  6.76it/s]\n",
      "Feature Extraction: 100%|██████████| 80/80 [01:01<00:00,  1.29it/s]\n",
      "Feature Extraction: 100%|██████████| 78/78 [00:07<00:00,  9.87it/s]\n",
      "Feature Extraction: 100%|██████████| 80/80 [00:54<00:00,  1.48it/s]\n",
      "Feature Extraction: 100%|██████████| 78/78 [00:11<00:00,  6.86it/s]\n",
      "Feature Extraction: 100%|██████████| 80/80 [00:58<00:00,  1.37it/s]\n",
      "Feature Extraction: 100%|██████████| 78/78 [00:10<00:00,  7.09it/s]\n",
      "Feature Extraction: 100%|██████████| 80/80 [00:59<00:00,  1.33it/s]\n",
      "Feature Extraction: 100%|██████████| 78/78 [00:11<00:00,  6.87it/s]\n"
     ]
    },
    {
     "name": "stdout",
     "output_type": "stream",
     "text": [
      "[I 2024-04-30 11:18:46,708] Trial 23 finished with value: 0.9875370919881306 and parameters: {'use_smote': False, 'learning_rate': 0.2029778371888283, 'depth': 9, 'n_estimators': 606, 'l2_leaf_reg': 0.12229360521210861, 'min_data_in_leaf': 24}. Best is trial 23 with value: 0.9875370919881306.\n"
     ]
    },
    {
     "name": "stderr",
     "output_type": "stream",
     "text": [
      "Feature Extraction: 100%|██████████| 80/80 [00:59<00:00,  1.34it/s]\n",
      "Feature Extraction: 100%|██████████| 78/78 [00:11<00:00,  6.98it/s]\n",
      "Feature Extraction: 100%|██████████| 80/80 [01:02<00:00,  1.29it/s]\n",
      "Feature Extraction: 100%|██████████| 78/78 [00:10<00:00,  7.38it/s]\n",
      "Feature Extraction: 100%|██████████| 80/80 [00:53<00:00,  1.50it/s]\n",
      "Feature Extraction: 100%|██████████| 78/78 [00:11<00:00,  6.93it/s]\n",
      "Feature Extraction: 100%|██████████| 80/80 [00:59<00:00,  1.34it/s]\n",
      "Feature Extraction: 100%|██████████| 78/78 [00:09<00:00,  8.01it/s]\n",
      "Feature Extraction: 100%|██████████| 80/80 [00:57<00:00,  1.40it/s]\n",
      "Feature Extraction: 100%|██████████| 78/78 [00:10<00:00,  7.14it/s]\n"
     ]
    },
    {
     "name": "stdout",
     "output_type": "stream",
     "text": [
      "[I 2024-04-30 11:31:58,970] Trial 24 finished with value: 0.9809069212410502 and parameters: {'use_smote': False, 'learning_rate': 0.2578586465228446, 'depth': 8, 'n_estimators': 920, 'l2_leaf_reg': 0.10980732571463532, 'min_data_in_leaf': 5}. Best is trial 23 with value: 0.9875370919881306.\n"
     ]
    },
    {
     "name": "stderr",
     "output_type": "stream",
     "text": [
      "Feature Extraction: 100%|██████████| 80/80 [00:59<00:00,  1.34it/s]\n",
      "Feature Extraction: 100%|██████████| 78/78 [00:11<00:00,  6.94it/s]\n",
      "Feature Extraction: 100%|██████████| 80/80 [00:57<00:00,  1.38it/s]\n",
      "Feature Extraction: 100%|██████████| 78/78 [00:10<00:00,  7.22it/s]\n",
      "Feature Extraction: 100%|██████████| 80/80 [01:03<00:00,  1.26it/s]\n",
      "Feature Extraction: 100%|██████████| 78/78 [00:08<00:00,  9.42it/s]\n",
      "Feature Extraction: 100%|██████████| 80/80 [00:59<00:00,  1.35it/s]\n",
      "Feature Extraction: 100%|██████████| 78/78 [00:11<00:00,  6.86it/s]\n",
      "Feature Extraction: 100%|██████████| 80/80 [00:59<00:00,  1.35it/s]\n",
      "Feature Extraction: 100%|██████████| 78/78 [00:11<00:00,  7.08it/s]\n"
     ]
    },
    {
     "name": "stdout",
     "output_type": "stream",
     "text": [
      "[I 2024-04-30 11:50:51,049] Trial 25 finished with value: 0.9866111276405831 and parameters: {'use_smote': False, 'learning_rate': 0.09068188910459861, 'depth': 9, 'n_estimators': 892, 'l2_leaf_reg': 0.08563079996364127, 'min_data_in_leaf': 44}. Best is trial 23 with value: 0.9875370919881306.\n"
     ]
    },
    {
     "name": "stderr",
     "output_type": "stream",
     "text": [
      "Feature Extraction: 100%|██████████| 80/80 [01:00<00:00,  1.32it/s]\n",
      "Feature Extraction: 100%|██████████| 78/78 [00:08<00:00,  9.48it/s]\n",
      "Feature Extraction: 100%|██████████| 80/80 [01:02<00:00,  1.28it/s]\n",
      "Feature Extraction: 100%|██████████| 78/78 [00:08<00:00,  9.23it/s]\n",
      "Feature Extraction: 100%|██████████| 80/80 [01:02<00:00,  1.28it/s]\n",
      "Feature Extraction: 100%|██████████| 78/78 [00:10<00:00,  7.68it/s]\n",
      "Feature Extraction: 100%|██████████| 80/80 [01:00<00:00,  1.32it/s]\n",
      "Feature Extraction: 100%|██████████| 78/78 [00:09<00:00,  7.91it/s]\n",
      "Feature Extraction: 100%|██████████| 80/80 [00:57<00:00,  1.39it/s]\n",
      "Feature Extraction: 100%|██████████| 78/78 [00:11<00:00,  7.07it/s]\n"
     ]
    },
    {
     "name": "stdout",
     "output_type": "stream",
     "text": [
      "[I 2024-04-30 11:59:09,407] Trial 26 finished with value: 0.982078853046595 and parameters: {'use_smote': False, 'learning_rate': 0.24518700197561846, 'depth': 7, 'n_estimators': 368, 'l2_leaf_reg': 0.26023708935803064, 'min_data_in_leaf': 28}. Best is trial 23 with value: 0.9875370919881306.\n"
     ]
    },
    {
     "name": "stderr",
     "output_type": "stream",
     "text": [
      "Feature Extraction: 100%|██████████| 80/80 [00:56<00:00,  1.41it/s]\n",
      "Feature Extraction: 100%|██████████| 78/78 [00:11<00:00,  7.01it/s]\n",
      "Feature Extraction: 100%|██████████| 80/80 [01:02<00:00,  1.28it/s]\n",
      "Feature Extraction: 100%|██████████| 78/78 [00:07<00:00, 10.23it/s]\n",
      "Feature Extraction: 100%|██████████| 80/80 [00:56<00:00,  1.41it/s]\n",
      "Feature Extraction: 100%|██████████| 78/78 [00:10<00:00,  7.09it/s]\n"
     ]
    },
    {
     "name": "stdout",
     "output_type": "stream",
     "text": [
      "[I 2024-04-30 12:09:27,306] Trial 27 pruned. \n"
     ]
    },
    {
     "name": "stderr",
     "output_type": "stream",
     "text": [
      "Feature Extraction: 100%|██████████| 80/80 [00:59<00:00,  1.34it/s]\n",
      "Feature Extraction: 100%|██████████| 78/78 [00:10<00:00,  7.42it/s]\n",
      "Feature Extraction: 100%|██████████| 80/80 [00:56<00:00,  1.42it/s]\n",
      "Feature Extraction: 100%|██████████| 78/78 [00:11<00:00,  7.03it/s]\n",
      "Feature Extraction: 100%|██████████| 80/80 [01:00<00:00,  1.32it/s]\n",
      "Feature Extraction: 100%|██████████| 78/78 [00:11<00:00,  7.06it/s]\n",
      "Feature Extraction: 100%|██████████| 80/80 [00:59<00:00,  1.34it/s]\n",
      "Feature Extraction: 100%|██████████| 78/78 [00:09<00:00,  8.06it/s]\n",
      "Feature Extraction: 100%|██████████| 80/80 [00:59<00:00,  1.34it/s]\n",
      "Feature Extraction: 100%|██████████| 78/78 [00:09<00:00,  8.18it/s]\n"
     ]
    },
    {
     "name": "stdout",
     "output_type": "stream",
     "text": [
      "[I 2024-04-30 12:20:41,972] Trial 28 finished with value: 0.977326968973747 and parameters: {'use_smote': False, 'learning_rate': 0.23069950607396955, 'depth': 8, 'n_estimators': 641, 'l2_leaf_reg': 0.03410342621546927, 'min_data_in_leaf': 14}. Best is trial 23 with value: 0.9875370919881306.\n"
     ]
    },
    {
     "name": "stderr",
     "output_type": "stream",
     "text": [
      "Feature Extraction: 100%|██████████| 80/80 [00:54<00:00,  1.46it/s]\n",
      "Feature Extraction: 100%|██████████| 78/78 [00:11<00:00,  7.07it/s]\n",
      "Feature Extraction: 100%|██████████| 80/80 [01:03<00:00,  1.25it/s]\n",
      "Feature Extraction: 100%|██████████| 78/78 [00:08<00:00,  8.84it/s]\n",
      "Feature Extraction: 100%|██████████| 80/80 [00:55<00:00,  1.44it/s]\n",
      "Feature Extraction: 100%|██████████| 78/78 [00:11<00:00,  7.03it/s]\n",
      "Feature Extraction: 100%|██████████| 80/80 [01:01<00:00,  1.30it/s]\n",
      "Feature Extraction: 100%|██████████| 78/78 [00:10<00:00,  7.79it/s]\n",
      "Feature Extraction: 100%|██████████| 80/80 [00:57<00:00,  1.39it/s]\n",
      "Feature Extraction: 100%|██████████| 78/78 [00:10<00:00,  7.10it/s]\n"
     ]
    },
    {
     "name": "stdout",
     "output_type": "stream",
     "text": [
      "[I 2024-04-30 12:32:57,531] Trial 29 finished with value: 0.9833926453143536 and parameters: {'use_smote': False, 'learning_rate': 0.07827227190774119, 'depth': 10, 'n_estimators': 524, 'l2_leaf_reg': 0.0010387942003180126, 'min_data_in_leaf': 59}. Best is trial 23 with value: 0.9875370919881306.\n"
     ]
    },
    {
     "name": "stderr",
     "output_type": "stream",
     "text": [
      "Feature Extraction: 100%|██████████| 80/80 [00:58<00:00,  1.36it/s]\n",
      "Feature Extraction: 100%|██████████| 78/78 [00:10<00:00,  7.13it/s]\n",
      "Feature Extraction: 100%|██████████| 80/80 [00:57<00:00,  1.38it/s]\n",
      "Feature Extraction: 100%|██████████| 78/78 [00:10<00:00,  7.10it/s]\n",
      "Feature Extraction: 100%|██████████| 80/80 [00:56<00:00,  1.41it/s]\n",
      "Feature Extraction: 100%|██████████| 78/78 [00:11<00:00,  6.83it/s]\n",
      "Feature Extraction: 100%|██████████| 80/80 [01:03<00:00,  1.26it/s]\n",
      "Feature Extraction: 100%|██████████| 78/78 [00:10<00:00,  7.51it/s]\n",
      "Feature Extraction: 100%|██████████| 80/80 [01:00<00:00,  1.33it/s]\n",
      "Feature Extraction: 100%|██████████| 78/78 [00:11<00:00,  6.98it/s]\n"
     ]
    },
    {
     "name": "stdout",
     "output_type": "stream",
     "text": [
      "[I 2024-04-30 12:51:37,495] Trial 30 finished with value: 0.9863501483679525 and parameters: {'use_smote': False, 'learning_rate': 0.06645796834504566, 'depth': 9, 'n_estimators': 865, 'l2_leaf_reg': 0.20413146222538875, 'min_data_in_leaf': 46}. Best is trial 23 with value: 0.9875370919881306.\n"
     ]
    },
    {
     "name": "stderr",
     "output_type": "stream",
     "text": [
      "Feature Extraction: 100%|██████████| 80/80 [00:56<00:00,  1.41it/s]\n",
      "Feature Extraction: 100%|██████████| 78/78 [00:11<00:00,  7.05it/s]\n",
      "Feature Extraction: 100%|██████████| 80/80 [00:59<00:00,  1.34it/s]\n",
      "Feature Extraction: 100%|██████████| 78/78 [00:08<00:00,  9.41it/s]\n",
      "Feature Extraction: 100%|██████████| 80/80 [00:55<00:00,  1.44it/s]\n",
      "Feature Extraction: 100%|██████████| 78/78 [00:11<00:00,  7.00it/s]\n",
      "Feature Extraction: 100%|██████████| 80/80 [01:01<00:00,  1.31it/s]\n",
      "Feature Extraction: 100%|██████████| 78/78 [00:07<00:00,  9.90it/s]\n",
      "Feature Extraction: 100%|██████████| 80/80 [00:54<00:00,  1.47it/s]\n",
      "Feature Extraction: 100%|██████████| 78/78 [00:11<00:00,  6.72it/s]\n"
     ]
    },
    {
     "name": "stdout",
     "output_type": "stream",
     "text": [
      "[I 2024-04-30 13:06:52,582] Trial 31 finished with value: 0.985731272294887 and parameters: {'use_smote': False, 'learning_rate': 0.031681531786968024, 'depth': 9, 'n_estimators': 623, 'l2_leaf_reg': 0.008376668749711012, 'min_data_in_leaf': 27}. Best is trial 23 with value: 0.9875370919881306.\n"
     ]
    },
    {
     "name": "stderr",
     "output_type": "stream",
     "text": [
      "Feature Extraction: 100%|██████████| 80/80 [01:01<00:00,  1.30it/s]\n",
      "Feature Extraction: 100%|██████████| 78/78 [00:07<00:00, 10.27it/s]\n",
      "Feature Extraction: 100%|██████████| 80/80 [00:58<00:00,  1.37it/s]\n",
      "Feature Extraction: 100%|██████████| 78/78 [00:11<00:00,  6.58it/s]\n",
      "Feature Extraction: 100%|██████████| 80/80 [00:57<00:00,  1.40it/s]\n",
      "Feature Extraction: 100%|██████████| 78/78 [00:11<00:00,  6.91it/s]\n",
      "Feature Extraction: 100%|██████████| 80/80 [01:00<00:00,  1.33it/s]\n",
      "Feature Extraction: 100%|██████████| 78/78 [00:10<00:00,  7.41it/s]\n",
      "Feature Extraction: 100%|██████████| 80/80 [00:59<00:00,  1.35it/s]\n",
      "Feature Extraction: 100%|██████████| 78/78 [00:10<00:00,  7.40it/s]\n"
     ]
    },
    {
     "name": "stdout",
     "output_type": "stream",
     "text": [
      "[I 2024-04-30 13:19:21,976] Trial 32 finished with value: 0.9845605700712589 and parameters: {'use_smote': False, 'learning_rate': 0.034868549872115996, 'depth': 9, 'n_estimators': 397, 'l2_leaf_reg': 0.0095224875953553, 'min_data_in_leaf': 18}. Best is trial 23 with value: 0.9875370919881306.\n"
     ]
    },
    {
     "name": "stderr",
     "output_type": "stream",
     "text": [
      "Feature Extraction: 100%|██████████| 80/80 [00:56<00:00,  1.42it/s]\n",
      "Feature Extraction: 100%|██████████| 78/78 [00:11<00:00,  7.01it/s]\n",
      "Feature Extraction: 100%|██████████| 80/80 [00:58<00:00,  1.36it/s]\n",
      "Feature Extraction: 100%|██████████| 78/78 [00:11<00:00,  6.92it/s]\n",
      "Feature Extraction: 100%|██████████| 80/80 [01:00<00:00,  1.33it/s]\n",
      "Feature Extraction: 100%|██████████| 78/78 [00:10<00:00,  7.28it/s]\n",
      "Feature Extraction: 100%|██████████| 80/80 [01:01<00:00,  1.29it/s]\n",
      "Feature Extraction: 100%|██████████| 78/78 [00:10<00:00,  7.36it/s]\n",
      "Feature Extraction: 100%|██████████| 80/80 [00:57<00:00,  1.39it/s]\n",
      "Feature Extraction: 100%|██████████| 78/78 [00:10<00:00,  7.14it/s]\n"
     ]
    },
    {
     "name": "stdout",
     "output_type": "stream",
     "text": [
      "[I 2024-04-30 13:30:09,345] Trial 33 finished with value: 0.9827483640690066 and parameters: {'use_smote': False, 'learning_rate': 0.15304299369121424, 'depth': 8, 'n_estimators': 582, 'l2_leaf_reg': 0.0507354282692777, 'min_data_in_leaf': 2}. Best is trial 23 with value: 0.9875370919881306.\n"
     ]
    },
    {
     "name": "stderr",
     "output_type": "stream",
     "text": [
      "Feature Extraction: 100%|██████████| 80/80 [00:58<00:00,  1.36it/s]\n",
      "Feature Extraction: 100%|██████████| 78/78 [00:11<00:00,  7.04it/s]\n",
      "Feature Extraction: 100%|██████████| 80/80 [01:00<00:00,  1.32it/s]\n",
      "Feature Extraction: 100%|██████████| 78/78 [00:08<00:00,  8.90it/s]\n",
      "Feature Extraction: 100%|██████████| 80/80 [00:59<00:00,  1.35it/s]\n",
      "Feature Extraction: 100%|██████████| 78/78 [00:09<00:00,  7.84it/s]\n"
     ]
    },
    {
     "name": "stdout",
     "output_type": "stream",
     "text": [
      "[I 2024-04-30 13:36:07,489] Trial 34 pruned. \n"
     ]
    },
    {
     "name": "stderr",
     "output_type": "stream",
     "text": [
      "Feature Extraction: 100%|██████████| 80/80 [00:55<00:00,  1.43it/s]\n",
      "Feature Extraction: 100%|██████████| 78/78 [00:11<00:00,  6.83it/s]\n",
      "Feature Extraction: 100%|██████████| 80/80 [00:58<00:00,  1.36it/s]\n",
      "Feature Extraction: 100%|██████████| 78/78 [00:11<00:00,  7.03it/s]\n",
      "Feature Extraction: 100%|██████████| 80/80 [00:58<00:00,  1.37it/s]\n",
      "Feature Extraction: 100%|██████████| 78/78 [00:11<00:00,  7.03it/s]\n",
      "Feature Extraction: 100%|██████████| 80/80 [01:01<00:00,  1.30it/s]\n",
      "Feature Extraction: 100%|██████████| 78/78 [00:08<00:00,  9.36it/s]\n",
      "Feature Extraction: 100%|██████████| 80/80 [00:58<00:00,  1.36it/s]\n",
      "Feature Extraction: 100%|██████████| 78/78 [00:10<00:00,  7.71it/s]\n"
     ]
    },
    {
     "name": "stdout",
     "output_type": "stream",
     "text": [
      "[I 2024-04-30 13:47:16,810] Trial 35 finished with value: 0.983957219251337 and parameters: {'use_smote': True, 'learning_rate': 0.16258146264869075, 'depth': 8, 'n_estimators': 660, 'l2_leaf_reg': 0.02182589663959246, 'min_data_in_leaf': 21}. Best is trial 23 with value: 0.9875370919881306.\n"
     ]
    },
    {
     "name": "stderr",
     "output_type": "stream",
     "text": [
      "Feature Extraction: 100%|██████████| 80/80 [00:55<00:00,  1.44it/s]\n",
      "Feature Extraction: 100%|██████████| 78/78 [00:11<00:00,  6.94it/s]\n",
      "Feature Extraction: 100%|██████████| 80/80 [01:00<00:00,  1.33it/s]\n",
      "Feature Extraction: 100%|██████████| 78/78 [00:11<00:00,  7.04it/s]\n",
      "Feature Extraction: 100%|██████████| 80/80 [01:01<00:00,  1.30it/s]\n",
      "Feature Extraction: 100%|██████████| 78/78 [00:08<00:00,  8.96it/s]\n"
     ]
    },
    {
     "name": "stdout",
     "output_type": "stream",
     "text": [
      "[I 2024-04-30 13:53:31,076] Trial 36 pruned. \n"
     ]
    },
    {
     "name": "stderr",
     "output_type": "stream",
     "text": [
      "Feature Extraction: 100%|██████████| 80/80 [01:01<00:00,  1.30it/s]\n",
      "Feature Extraction: 100%|██████████| 78/78 [00:08<00:00,  9.56it/s]\n",
      "Feature Extraction: 100%|██████████| 80/80 [01:00<00:00,  1.32it/s]\n",
      "Feature Extraction: 100%|██████████| 78/78 [00:11<00:00,  6.96it/s]\n",
      "Feature Extraction: 100%|██████████| 80/80 [00:55<00:00,  1.43it/s]\n",
      "Feature Extraction: 100%|██████████| 78/78 [00:11<00:00,  7.01it/s]\n",
      "Feature Extraction: 100%|██████████| 80/80 [01:00<00:00,  1.33it/s]\n",
      "Feature Extraction: 100%|██████████| 78/78 [00:08<00:00,  8.94it/s]\n",
      "Feature Extraction: 100%|██████████| 80/80 [00:55<00:00,  1.44it/s]\n",
      "Feature Extraction: 100%|██████████| 78/78 [00:11<00:00,  6.92it/s]\n"
     ]
    },
    {
     "name": "stdout",
     "output_type": "stream",
     "text": [
      "[I 2024-04-30 14:10:55,900] Trial 37 finished with value: 0.9851632047477745 and parameters: {'use_smote': False, 'learning_rate': 0.04550367723760154, 'depth': 9, 'n_estimators': 781, 'l2_leaf_reg': 0.0023709821274604426, 'min_data_in_leaf': 10}. Best is trial 23 with value: 0.9875370919881306.\n"
     ]
    },
    {
     "name": "stderr",
     "output_type": "stream",
     "text": [
      "Feature Extraction: 100%|██████████| 80/80 [01:01<00:00,  1.30it/s]\n",
      "Feature Extraction: 100%|██████████| 78/78 [00:08<00:00,  8.97it/s]\n",
      "Feature Extraction: 100%|██████████| 80/80 [00:56<00:00,  1.42it/s]\n",
      "Feature Extraction: 100%|██████████| 78/78 [00:10<00:00,  7.37it/s]\n",
      "Feature Extraction: 100%|██████████| 80/80 [00:55<00:00,  1.45it/s]\n",
      "Feature Extraction: 100%|██████████| 78/78 [00:11<00:00,  7.04it/s]\n"
     ]
    },
    {
     "name": "stdout",
     "output_type": "stream",
     "text": [
      "[I 2024-04-30 14:17:02,001] Trial 38 pruned. \n"
     ]
    },
    {
     "name": "stderr",
     "output_type": "stream",
     "text": [
      "Feature Extraction: 100%|██████████| 80/80 [00:59<00:00,  1.34it/s]\n",
      "Feature Extraction: 100%|██████████| 78/78 [00:11<00:00,  7.03it/s]\n",
      "Feature Extraction: 100%|██████████| 80/80 [00:55<00:00,  1.44it/s]\n",
      "Feature Extraction: 100%|██████████| 78/78 [00:11<00:00,  6.85it/s]\n",
      "Feature Extraction: 100%|██████████| 80/80 [00:56<00:00,  1.42it/s]\n",
      "Feature Extraction: 100%|██████████| 78/78 [00:10<00:00,  7.10it/s]\n"
     ]
    },
    {
     "name": "stdout",
     "output_type": "stream",
     "text": [
      "[I 2024-04-30 14:25:54,508] Trial 39 pruned. \n"
     ]
    },
    {
     "name": "stderr",
     "output_type": "stream",
     "text": [
      "Feature Extraction: 100%|██████████| 80/80 [01:00<00:00,  1.31it/s]\n",
      "Feature Extraction: 100%|██████████| 78/78 [00:09<00:00,  8.38it/s]\n",
      "Feature Extraction: 100%|██████████| 80/80 [00:56<00:00,  1.43it/s]\n",
      "Feature Extraction: 100%|██████████| 78/78 [00:11<00:00,  6.94it/s]\n",
      "Feature Extraction: 100%|██████████| 80/80 [00:58<00:00,  1.37it/s]\n",
      "Feature Extraction: 100%|██████████| 78/78 [00:11<00:00,  6.99it/s]\n",
      "Feature Extraction: 100%|██████████| 80/80 [00:59<00:00,  1.34it/s]\n",
      "Feature Extraction: 100%|██████████| 78/78 [00:10<00:00,  7.62it/s]\n",
      "Feature Extraction: 100%|██████████| 80/80 [00:59<00:00,  1.35it/s]\n",
      "Feature Extraction: 100%|██████████| 78/78 [00:07<00:00,  9.97it/s]\n"
     ]
    },
    {
     "name": "stdout",
     "output_type": "stream",
     "text": [
      "[I 2024-04-30 14:36:30,817] Trial 40 finished with value: 0.9857227840571089 and parameters: {'use_smote': False, 'learning_rate': 0.027715999751219165, 'depth': 7, 'n_estimators': 946, 'l2_leaf_reg': 0.05044270485930327, 'min_data_in_leaf': 49}. Best is trial 23 with value: 0.9875370919881306.\n"
     ]
    },
    {
     "name": "stderr",
     "output_type": "stream",
     "text": [
      "Feature Extraction: 100%|██████████| 80/80 [00:56<00:00,  1.41it/s]\n",
      "Feature Extraction: 100%|██████████| 78/78 [00:11<00:00,  6.95it/s]\n",
      "Feature Extraction: 100%|██████████| 80/80 [01:00<00:00,  1.32it/s]\n",
      "Feature Extraction: 100%|██████████| 78/78 [00:09<00:00,  8.60it/s]\n",
      "Feature Extraction: 100%|██████████| 80/80 [00:56<00:00,  1.42it/s]\n",
      "Feature Extraction: 100%|██████████| 78/78 [00:10<00:00,  7.23it/s]\n",
      "Feature Extraction: 100%|██████████| 80/80 [00:58<00:00,  1.36it/s]\n",
      "Feature Extraction: 100%|██████████| 78/78 [00:11<00:00,  7.00it/s]\n",
      "Feature Extraction: 100%|██████████| 80/80 [01:02<00:00,  1.28it/s]\n",
      "Feature Extraction: 100%|██████████| 78/78 [00:10<00:00,  7.44it/s]\n"
     ]
    },
    {
     "name": "stdout",
     "output_type": "stream",
     "text": [
      "[I 2024-04-30 14:51:14,119] Trial 41 finished with value: 0.9869436201780415 and parameters: {'use_smote': False, 'learning_rate': 0.04669642791039123, 'depth': 9, 'n_estimators': 574, 'l2_leaf_reg': 0.005273865711689841, 'min_data_in_leaf': 22}. Best is trial 23 with value: 0.9875370919881306.\n"
     ]
    },
    {
     "name": "stderr",
     "output_type": "stream",
     "text": [
      "Feature Extraction: 100%|██████████| 80/80 [00:57<00:00,  1.40it/s]\n",
      "Feature Extraction: 100%|██████████| 78/78 [00:11<00:00,  6.91it/s]\n",
      "Feature Extraction: 100%|██████████| 80/80 [01:02<00:00,  1.29it/s]\n",
      "Feature Extraction: 100%|██████████| 78/78 [00:08<00:00,  9.26it/s]\n",
      "Feature Extraction: 100%|██████████| 80/80 [00:56<00:00,  1.43it/s]\n",
      "Feature Extraction: 100%|██████████| 78/78 [00:11<00:00,  7.02it/s]\n"
     ]
    },
    {
     "name": "stdout",
     "output_type": "stream",
     "text": [
      "[I 2024-04-30 14:59:56,156] Trial 42 pruned. \n"
     ]
    },
    {
     "name": "stderr",
     "output_type": "stream",
     "text": [
      "Feature Extraction: 100%|██████████| 80/80 [01:00<00:00,  1.32it/s]\n",
      "Feature Extraction: 100%|██████████| 78/78 [00:10<00:00,  7.15it/s]\n",
      "Feature Extraction: 100%|██████████| 80/80 [01:01<00:00,  1.31it/s]\n",
      "Feature Extraction: 100%|██████████| 78/78 [00:10<00:00,  7.30it/s]\n",
      "Feature Extraction: 100%|██████████| 80/80 [00:59<00:00,  1.34it/s]\n",
      "Feature Extraction: 100%|██████████| 78/78 [00:11<00:00,  6.93it/s]\n"
     ]
    },
    {
     "name": "stdout",
     "output_type": "stream",
     "text": [
      "[I 2024-04-30 15:09:33,111] Trial 43 pruned. \n"
     ]
    },
    {
     "name": "stderr",
     "output_type": "stream",
     "text": [
      "Feature Extraction: 100%|██████████| 80/80 [00:59<00:00,  1.35it/s]\n",
      "Feature Extraction: 100%|██████████| 78/78 [00:10<00:00,  7.26it/s]\n",
      "Feature Extraction: 100%|██████████| 80/80 [00:58<00:00,  1.36it/s]\n",
      "Feature Extraction: 100%|██████████| 78/78 [00:11<00:00,  6.93it/s]\n",
      "Feature Extraction: 100%|██████████| 80/80 [01:02<00:00,  1.28it/s]\n",
      "Feature Extraction: 100%|██████████| 78/78 [00:08<00:00,  9.39it/s]\n",
      "Feature Extraction: 100%|██████████| 80/80 [00:56<00:00,  1.40it/s]\n",
      "Feature Extraction: 100%|██████████| 78/78 [00:11<00:00,  7.05it/s]\n",
      "Feature Extraction: 100%|██████████| 80/80 [01:00<00:00,  1.32it/s]\n",
      "Feature Extraction: 100%|██████████| 78/78 [00:10<00:00,  7.13it/s]\n"
     ]
    },
    {
     "name": "stdout",
     "output_type": "stream",
     "text": [
      "[I 2024-04-30 15:23:22,305] Trial 44 finished with value: 0.9863258026159334 and parameters: {'use_smote': False, 'learning_rate': 0.05794201121454085, 'depth': 9, 'n_estimators': 511, 'l2_leaf_reg': 0.1587813786286834, 'min_data_in_leaf': 17}. Best is trial 23 with value: 0.9875370919881306.\n"
     ]
    },
    {
     "name": "stderr",
     "output_type": "stream",
     "text": [
      "Feature Extraction: 100%|██████████| 80/80 [01:02<00:00,  1.28it/s]\n",
      "Feature Extraction: 100%|██████████| 78/78 [00:07<00:00, 10.04it/s]\n",
      "Feature Extraction: 100%|██████████| 80/80 [00:57<00:00,  1.38it/s]\n",
      "Feature Extraction: 100%|██████████| 78/78 [00:10<00:00,  7.14it/s]\n",
      "Feature Extraction: 100%|██████████| 80/80 [00:57<00:00,  1.38it/s]\n",
      "Feature Extraction: 100%|██████████| 78/78 [00:11<00:00,  7.01it/s]\n",
      "Feature Extraction: 100%|██████████| 80/80 [00:57<00:00,  1.38it/s]\n",
      "Feature Extraction: 100%|██████████| 78/78 [00:11<00:00,  6.85it/s]\n",
      "Feature Extraction: 100%|██████████| 80/80 [01:00<00:00,  1.33it/s]\n",
      "Feature Extraction: 100%|██████████| 78/78 [00:11<00:00,  7.06it/s]\n"
     ]
    },
    {
     "name": "stdout",
     "output_type": "stream",
     "text": [
      "[I 2024-04-30 15:32:00,618] Trial 45 finished with value: 0.97999402806808 and parameters: {'use_smote': False, 'learning_rate': 0.10792446598486403, 'depth': 6, 'n_estimators': 821, 'l2_leaf_reg': 0.012589824347804405, 'min_data_in_leaf': 9}. Best is trial 23 with value: 0.9875370919881306.\n"
     ]
    },
    {
     "name": "stderr",
     "output_type": "stream",
     "text": [
      "Feature Extraction: 100%|██████████| 80/80 [01:00<00:00,  1.32it/s]\n",
      "Feature Extraction: 100%|██████████| 78/78 [00:11<00:00,  6.96it/s]\n",
      "Feature Extraction: 100%|██████████| 80/80 [00:59<00:00,  1.35it/s]\n",
      "Feature Extraction: 100%|██████████| 78/78 [00:10<00:00,  7.21it/s]\n",
      "Feature Extraction: 100%|██████████| 80/80 [00:57<00:00,  1.38it/s]\n",
      "Feature Extraction: 100%|██████████| 78/78 [00:11<00:00,  7.02it/s]\n"
     ]
    },
    {
     "name": "stdout",
     "output_type": "stream",
     "text": [
      "[I 2024-04-30 15:38:55,713] Trial 46 pruned. \n"
     ]
    },
    {
     "name": "stderr",
     "output_type": "stream",
     "text": [
      "Feature Extraction: 100%|██████████| 80/80 [01:01<00:00,  1.29it/s]\n",
      "Feature Extraction: 100%|██████████| 78/78 [00:10<00:00,  7.74it/s]\n",
      "Feature Extraction: 100%|██████████| 80/80 [00:56<00:00,  1.41it/s]\n",
      "Feature Extraction: 100%|██████████| 78/78 [00:11<00:00,  7.07it/s]\n",
      "Feature Extraction: 100%|██████████| 80/80 [00:57<00:00,  1.38it/s]\n",
      "Feature Extraction: 100%|██████████| 78/78 [00:11<00:00,  6.70it/s]\n",
      "Feature Extraction: 100%|██████████| 80/80 [01:00<00:00,  1.33it/s]\n",
      "Feature Extraction: 100%|██████████| 78/78 [00:11<00:00,  6.82it/s]\n",
      "Feature Extraction: 100%|██████████| 80/80 [01:00<00:00,  1.33it/s]\n",
      "Feature Extraction: 100%|██████████| 78/78 [00:09<00:00,  8.05it/s]\n"
     ]
    },
    {
     "name": "stdout",
     "output_type": "stream",
     "text": [
      "[I 2024-04-30 15:49:39,047] Trial 47 finished with value: 0.9857566765578635 and parameters: {'use_smote': False, 'learning_rate': 0.15258802641897307, 'depth': 8, 'n_estimators': 555, 'l2_leaf_reg': 0.004227273922810982, 'min_data_in_leaf': 55}. Best is trial 23 with value: 0.9875370919881306.\n"
     ]
    },
    {
     "name": "stderr",
     "output_type": "stream",
     "text": [
      "Feature Extraction: 100%|██████████| 80/80 [01:01<00:00,  1.29it/s]\n",
      "Feature Extraction: 100%|██████████| 78/78 [00:10<00:00,  7.54it/s]\n",
      "Feature Extraction: 100%|██████████| 80/80 [00:59<00:00,  1.34it/s]\n",
      "Feature Extraction: 100%|██████████| 78/78 [00:10<00:00,  7.14it/s]\n",
      "Feature Extraction: 100%|██████████| 80/80 [00:57<00:00,  1.38it/s]\n",
      "Feature Extraction: 100%|██████████| 78/78 [00:11<00:00,  6.99it/s]\n",
      "Feature Extraction: 100%|██████████| 80/80 [00:58<00:00,  1.38it/s]\n",
      "Feature Extraction: 100%|██████████| 78/78 [00:10<00:00,  7.17it/s]\n",
      "Feature Extraction: 100%|██████████| 80/80 [01:02<00:00,  1.28it/s]\n",
      "Feature Extraction: 100%|██████████| 78/78 [00:10<00:00,  7.62it/s]\n"
     ]
    },
    {
     "name": "stdout",
     "output_type": "stream",
     "text": [
      "[I 2024-04-30 16:03:59,239] Trial 48 finished with value: 0.9854469854469855 and parameters: {'use_smote': False, 'learning_rate': 0.07619018055278756, 'depth': 10, 'n_estimators': 680, 'l2_leaf_reg': 0.03708244948904577, 'min_data_in_leaf': 25}. Best is trial 23 with value: 0.9875370919881306.\n"
     ]
    }
   ],
   "source": [
    "warnings.filterwarnings('ignore') #ignore pandas warnings\n",
    "\n",
    "study_feat_eng.optimize(\n",
    "    objective_feat_eng, \n",
    "    n_trials=NUM_TRIALS,\n",
    "    timeout = 10 * 60 * 60, # timeout after 8 hours\n",
    "    show_progress_bar=True\n",
    ")"
   ]
  },
  {
   "cell_type": "code",
   "execution_count": 17,
   "metadata": {},
   "outputs": [
    {
     "name": "stdout",
     "output_type": "stream",
     "text": [
      "{'use_smote': False, 'learning_rate': 0.2029778371888283, 'depth': 9, 'n_estimators': 606, 'l2_leaf_reg': 0.12229360521210861, 'min_data_in_leaf': 24}\n"
     ]
    }
   ],
   "source": [
    "best_params = study_feat_eng.best_params\n",
    "    \n",
    "print(best_params)\n",
    "\n",
    "if \"catboost_feat_eng\" in config:\n",
    "    config[\"catboost_feat_eng\"].update(best_params)\n",
    "else:\n",
    "    config[\"catboost_feat_eng\"] = best_params\n",
    "\n",
    "# see: https://stackoverflow.com/questions/12470665/how-can-i-write-data-in-yaml-format-in-a-file\n",
    "with open(\"classical_ml_config.yaml\", \"w\") as file:\n",
    "    yaml.dump(config, file, default_flow_style=False)"
   ]
  },
  {
   "cell_type": "code",
   "execution_count": 18,
   "metadata": {},
   "outputs": [
    {
     "data": {
      "application/vnd.plotly.v1+json": {
       "config": {
        "plotlyServerURL": "https://plot.ly"
       },
       "data": [
        {
         "cliponaxis": false,
         "hovertemplate": [
          "l2_leaf_reg (FloatDistribution): 0.0003948617709830355<extra></extra>",
          "use_smote (CategoricalDistribution): 0.014427008370821792<extra></extra>",
          "depth (IntDistribution): 0.04530995023512454<extra></extra>",
          "n_estimators (IntDistribution): 0.07752978219325195<extra></extra>",
          "min_data_in_leaf (IntDistribution): 0.1522270910017004<extra></extra>",
          "learning_rate (FloatDistribution): 0.7101113064281184<extra></extra>"
         ],
         "name": "Objective Value",
         "orientation": "h",
         "text": [
          "<0.01",
          "0.01",
          "0.05",
          "0.08",
          "0.15",
          "0.71"
         ],
         "textposition": "outside",
         "type": "bar",
         "x": [
          0.0003948617709830355,
          0.014427008370821792,
          0.04530995023512454,
          0.07752978219325195,
          0.1522270910017004,
          0.7101113064281184
         ],
         "y": [
          "l2_leaf_reg",
          "use_smote",
          "depth",
          "n_estimators",
          "min_data_in_leaf",
          "learning_rate"
         ]
        }
       ],
       "layout": {
        "template": {
         "data": {
          "bar": [
           {
            "error_x": {
             "color": "#2a3f5f"
            },
            "error_y": {
             "color": "#2a3f5f"
            },
            "marker": {
             "line": {
              "color": "#E5ECF6",
              "width": 0.5
             },
             "pattern": {
              "fillmode": "overlay",
              "size": 10,
              "solidity": 0.2
             }
            },
            "type": "bar"
           }
          ],
          "barpolar": [
           {
            "marker": {
             "line": {
              "color": "#E5ECF6",
              "width": 0.5
             },
             "pattern": {
              "fillmode": "overlay",
              "size": 10,
              "solidity": 0.2
             }
            },
            "type": "barpolar"
           }
          ],
          "carpet": [
           {
            "aaxis": {
             "endlinecolor": "#2a3f5f",
             "gridcolor": "white",
             "linecolor": "white",
             "minorgridcolor": "white",
             "startlinecolor": "#2a3f5f"
            },
            "baxis": {
             "endlinecolor": "#2a3f5f",
             "gridcolor": "white",
             "linecolor": "white",
             "minorgridcolor": "white",
             "startlinecolor": "#2a3f5f"
            },
            "type": "carpet"
           }
          ],
          "choropleth": [
           {
            "colorbar": {
             "outlinewidth": 0,
             "ticks": ""
            },
            "type": "choropleth"
           }
          ],
          "contour": [
           {
            "colorbar": {
             "outlinewidth": 0,
             "ticks": ""
            },
            "colorscale": [
             [
              0,
              "#0d0887"
             ],
             [
              0.1111111111111111,
              "#46039f"
             ],
             [
              0.2222222222222222,
              "#7201a8"
             ],
             [
              0.3333333333333333,
              "#9c179e"
             ],
             [
              0.4444444444444444,
              "#bd3786"
             ],
             [
              0.5555555555555556,
              "#d8576b"
             ],
             [
              0.6666666666666666,
              "#ed7953"
             ],
             [
              0.7777777777777778,
              "#fb9f3a"
             ],
             [
              0.8888888888888888,
              "#fdca26"
             ],
             [
              1,
              "#f0f921"
             ]
            ],
            "type": "contour"
           }
          ],
          "contourcarpet": [
           {
            "colorbar": {
             "outlinewidth": 0,
             "ticks": ""
            },
            "type": "contourcarpet"
           }
          ],
          "heatmap": [
           {
            "colorbar": {
             "outlinewidth": 0,
             "ticks": ""
            },
            "colorscale": [
             [
              0,
              "#0d0887"
             ],
             [
              0.1111111111111111,
              "#46039f"
             ],
             [
              0.2222222222222222,
              "#7201a8"
             ],
             [
              0.3333333333333333,
              "#9c179e"
             ],
             [
              0.4444444444444444,
              "#bd3786"
             ],
             [
              0.5555555555555556,
              "#d8576b"
             ],
             [
              0.6666666666666666,
              "#ed7953"
             ],
             [
              0.7777777777777778,
              "#fb9f3a"
             ],
             [
              0.8888888888888888,
              "#fdca26"
             ],
             [
              1,
              "#f0f921"
             ]
            ],
            "type": "heatmap"
           }
          ],
          "heatmapgl": [
           {
            "colorbar": {
             "outlinewidth": 0,
             "ticks": ""
            },
            "colorscale": [
             [
              0,
              "#0d0887"
             ],
             [
              0.1111111111111111,
              "#46039f"
             ],
             [
              0.2222222222222222,
              "#7201a8"
             ],
             [
              0.3333333333333333,
              "#9c179e"
             ],
             [
              0.4444444444444444,
              "#bd3786"
             ],
             [
              0.5555555555555556,
              "#d8576b"
             ],
             [
              0.6666666666666666,
              "#ed7953"
             ],
             [
              0.7777777777777778,
              "#fb9f3a"
             ],
             [
              0.8888888888888888,
              "#fdca26"
             ],
             [
              1,
              "#f0f921"
             ]
            ],
            "type": "heatmapgl"
           }
          ],
          "histogram": [
           {
            "marker": {
             "pattern": {
              "fillmode": "overlay",
              "size": 10,
              "solidity": 0.2
             }
            },
            "type": "histogram"
           }
          ],
          "histogram2d": [
           {
            "colorbar": {
             "outlinewidth": 0,
             "ticks": ""
            },
            "colorscale": [
             [
              0,
              "#0d0887"
             ],
             [
              0.1111111111111111,
              "#46039f"
             ],
             [
              0.2222222222222222,
              "#7201a8"
             ],
             [
              0.3333333333333333,
              "#9c179e"
             ],
             [
              0.4444444444444444,
              "#bd3786"
             ],
             [
              0.5555555555555556,
              "#d8576b"
             ],
             [
              0.6666666666666666,
              "#ed7953"
             ],
             [
              0.7777777777777778,
              "#fb9f3a"
             ],
             [
              0.8888888888888888,
              "#fdca26"
             ],
             [
              1,
              "#f0f921"
             ]
            ],
            "type": "histogram2d"
           }
          ],
          "histogram2dcontour": [
           {
            "colorbar": {
             "outlinewidth": 0,
             "ticks": ""
            },
            "colorscale": [
             [
              0,
              "#0d0887"
             ],
             [
              0.1111111111111111,
              "#46039f"
             ],
             [
              0.2222222222222222,
              "#7201a8"
             ],
             [
              0.3333333333333333,
              "#9c179e"
             ],
             [
              0.4444444444444444,
              "#bd3786"
             ],
             [
              0.5555555555555556,
              "#d8576b"
             ],
             [
              0.6666666666666666,
              "#ed7953"
             ],
             [
              0.7777777777777778,
              "#fb9f3a"
             ],
             [
              0.8888888888888888,
              "#fdca26"
             ],
             [
              1,
              "#f0f921"
             ]
            ],
            "type": "histogram2dcontour"
           }
          ],
          "mesh3d": [
           {
            "colorbar": {
             "outlinewidth": 0,
             "ticks": ""
            },
            "type": "mesh3d"
           }
          ],
          "parcoords": [
           {
            "line": {
             "colorbar": {
              "outlinewidth": 0,
              "ticks": ""
             }
            },
            "type": "parcoords"
           }
          ],
          "pie": [
           {
            "automargin": true,
            "type": "pie"
           }
          ],
          "scatter": [
           {
            "fillpattern": {
             "fillmode": "overlay",
             "size": 10,
             "solidity": 0.2
            },
            "type": "scatter"
           }
          ],
          "scatter3d": [
           {
            "line": {
             "colorbar": {
              "outlinewidth": 0,
              "ticks": ""
             }
            },
            "marker": {
             "colorbar": {
              "outlinewidth": 0,
              "ticks": ""
             }
            },
            "type": "scatter3d"
           }
          ],
          "scattercarpet": [
           {
            "marker": {
             "colorbar": {
              "outlinewidth": 0,
              "ticks": ""
             }
            },
            "type": "scattercarpet"
           }
          ],
          "scattergeo": [
           {
            "marker": {
             "colorbar": {
              "outlinewidth": 0,
              "ticks": ""
             }
            },
            "type": "scattergeo"
           }
          ],
          "scattergl": [
           {
            "marker": {
             "colorbar": {
              "outlinewidth": 0,
              "ticks": ""
             }
            },
            "type": "scattergl"
           }
          ],
          "scattermapbox": [
           {
            "marker": {
             "colorbar": {
              "outlinewidth": 0,
              "ticks": ""
             }
            },
            "type": "scattermapbox"
           }
          ],
          "scatterpolar": [
           {
            "marker": {
             "colorbar": {
              "outlinewidth": 0,
              "ticks": ""
             }
            },
            "type": "scatterpolar"
           }
          ],
          "scatterpolargl": [
           {
            "marker": {
             "colorbar": {
              "outlinewidth": 0,
              "ticks": ""
             }
            },
            "type": "scatterpolargl"
           }
          ],
          "scatterternary": [
           {
            "marker": {
             "colorbar": {
              "outlinewidth": 0,
              "ticks": ""
             }
            },
            "type": "scatterternary"
           }
          ],
          "surface": [
           {
            "colorbar": {
             "outlinewidth": 0,
             "ticks": ""
            },
            "colorscale": [
             [
              0,
              "#0d0887"
             ],
             [
              0.1111111111111111,
              "#46039f"
             ],
             [
              0.2222222222222222,
              "#7201a8"
             ],
             [
              0.3333333333333333,
              "#9c179e"
             ],
             [
              0.4444444444444444,
              "#bd3786"
             ],
             [
              0.5555555555555556,
              "#d8576b"
             ],
             [
              0.6666666666666666,
              "#ed7953"
             ],
             [
              0.7777777777777778,
              "#fb9f3a"
             ],
             [
              0.8888888888888888,
              "#fdca26"
             ],
             [
              1,
              "#f0f921"
             ]
            ],
            "type": "surface"
           }
          ],
          "table": [
           {
            "cells": {
             "fill": {
              "color": "#EBF0F8"
             },
             "line": {
              "color": "white"
             }
            },
            "header": {
             "fill": {
              "color": "#C8D4E3"
             },
             "line": {
              "color": "white"
             }
            },
            "type": "table"
           }
          ]
         },
         "layout": {
          "annotationdefaults": {
           "arrowcolor": "#2a3f5f",
           "arrowhead": 0,
           "arrowwidth": 1
          },
          "autotypenumbers": "strict",
          "coloraxis": {
           "colorbar": {
            "outlinewidth": 0,
            "ticks": ""
           }
          },
          "colorscale": {
           "diverging": [
            [
             0,
             "#8e0152"
            ],
            [
             0.1,
             "#c51b7d"
            ],
            [
             0.2,
             "#de77ae"
            ],
            [
             0.3,
             "#f1b6da"
            ],
            [
             0.4,
             "#fde0ef"
            ],
            [
             0.5,
             "#f7f7f7"
            ],
            [
             0.6,
             "#e6f5d0"
            ],
            [
             0.7,
             "#b8e186"
            ],
            [
             0.8,
             "#7fbc41"
            ],
            [
             0.9,
             "#4d9221"
            ],
            [
             1,
             "#276419"
            ]
           ],
           "sequential": [
            [
             0,
             "#0d0887"
            ],
            [
             0.1111111111111111,
             "#46039f"
            ],
            [
             0.2222222222222222,
             "#7201a8"
            ],
            [
             0.3333333333333333,
             "#9c179e"
            ],
            [
             0.4444444444444444,
             "#bd3786"
            ],
            [
             0.5555555555555556,
             "#d8576b"
            ],
            [
             0.6666666666666666,
             "#ed7953"
            ],
            [
             0.7777777777777778,
             "#fb9f3a"
            ],
            [
             0.8888888888888888,
             "#fdca26"
            ],
            [
             1,
             "#f0f921"
            ]
           ],
           "sequentialminus": [
            [
             0,
             "#0d0887"
            ],
            [
             0.1111111111111111,
             "#46039f"
            ],
            [
             0.2222222222222222,
             "#7201a8"
            ],
            [
             0.3333333333333333,
             "#9c179e"
            ],
            [
             0.4444444444444444,
             "#bd3786"
            ],
            [
             0.5555555555555556,
             "#d8576b"
            ],
            [
             0.6666666666666666,
             "#ed7953"
            ],
            [
             0.7777777777777778,
             "#fb9f3a"
            ],
            [
             0.8888888888888888,
             "#fdca26"
            ],
            [
             1,
             "#f0f921"
            ]
           ]
          },
          "colorway": [
           "#636efa",
           "#EF553B",
           "#00cc96",
           "#ab63fa",
           "#FFA15A",
           "#19d3f3",
           "#FF6692",
           "#B6E880",
           "#FF97FF",
           "#FECB52"
          ],
          "font": {
           "color": "#2a3f5f"
          },
          "geo": {
           "bgcolor": "white",
           "lakecolor": "white",
           "landcolor": "#E5ECF6",
           "showlakes": true,
           "showland": true,
           "subunitcolor": "white"
          },
          "hoverlabel": {
           "align": "left"
          },
          "hovermode": "closest",
          "mapbox": {
           "style": "light"
          },
          "paper_bgcolor": "white",
          "plot_bgcolor": "#E5ECF6",
          "polar": {
           "angularaxis": {
            "gridcolor": "white",
            "linecolor": "white",
            "ticks": ""
           },
           "bgcolor": "#E5ECF6",
           "radialaxis": {
            "gridcolor": "white",
            "linecolor": "white",
            "ticks": ""
           }
          },
          "scene": {
           "xaxis": {
            "backgroundcolor": "#E5ECF6",
            "gridcolor": "white",
            "gridwidth": 2,
            "linecolor": "white",
            "showbackground": true,
            "ticks": "",
            "zerolinecolor": "white"
           },
           "yaxis": {
            "backgroundcolor": "#E5ECF6",
            "gridcolor": "white",
            "gridwidth": 2,
            "linecolor": "white",
            "showbackground": true,
            "ticks": "",
            "zerolinecolor": "white"
           },
           "zaxis": {
            "backgroundcolor": "#E5ECF6",
            "gridcolor": "white",
            "gridwidth": 2,
            "linecolor": "white",
            "showbackground": true,
            "ticks": "",
            "zerolinecolor": "white"
           }
          },
          "shapedefaults": {
           "line": {
            "color": "#2a3f5f"
           }
          },
          "ternary": {
           "aaxis": {
            "gridcolor": "white",
            "linecolor": "white",
            "ticks": ""
           },
           "baxis": {
            "gridcolor": "white",
            "linecolor": "white",
            "ticks": ""
           },
           "bgcolor": "#E5ECF6",
           "caxis": {
            "gridcolor": "white",
            "linecolor": "white",
            "ticks": ""
           }
          },
          "title": {
           "x": 0.05
          },
          "xaxis": {
           "automargin": true,
           "gridcolor": "white",
           "linecolor": "white",
           "ticks": "",
           "title": {
            "standoff": 15
           },
           "zerolinecolor": "white",
           "zerolinewidth": 2
          },
          "yaxis": {
           "automargin": true,
           "gridcolor": "white",
           "linecolor": "white",
           "ticks": "",
           "title": {
            "standoff": 15
           },
           "zerolinecolor": "white",
           "zerolinewidth": 2
          }
         }
        },
        "title": {
         "text": "Hyperparameter Importances"
        },
        "xaxis": {
         "title": {
          "text": "Hyperparameter Importance"
         }
        },
        "yaxis": {
         "title": {
          "text": "Hyperparameter"
         }
        }
       }
      }
     },
     "metadata": {},
     "output_type": "display_data"
    }
   ],
   "source": [
    "p_importance_feat_eng = optuna.visualization.plot_param_importances(study_feat_eng)\n",
    "p_importance_feat_eng.show()"
   ]
  },
  {
   "cell_type": "code",
   "execution_count": 19,
   "metadata": {},
   "outputs": [
    {
     "data": {
      "application/vnd.plotly.v1+json": {
       "config": {
        "plotlyServerURL": "https://plot.ly"
       },
       "data": [
        {
         "mode": "markers",
         "name": "Objective Value",
         "type": "scatter",
         "x": [
          0,
          1,
          2,
          3,
          4,
          5,
          6,
          7,
          8,
          9,
          10,
          11,
          12,
          13,
          14,
          15,
          16,
          17,
          18,
          19,
          20,
          21,
          22,
          23,
          24,
          25,
          26,
          28,
          29,
          30,
          31,
          32,
          33,
          35,
          37,
          40,
          41,
          44,
          45,
          47,
          48
         ],
         "y": [
          0.9824769824769825,
          0.9806490026793688,
          0.9137148047229791,
          0.9338146811070999,
          0.9234029669996973,
          0.855608214849921,
          0.8761254268860602,
          0.9854728728135191,
          0.8240917782026769,
          0.9365521510368306,
          0.9833134684147795,
          0.9831010969463386,
          0.9815366289458011,
          0.9845513963161022,
          0.9865951742627346,
          0.9869436201780415,
          0.9857651245551602,
          0.9872289872289872,
          0.9765509053131493,
          0.9784560143626571,
          0.9866508454464551,
          0.9869436201780415,
          0.9848529848529849,
          0.9875370919881306,
          0.9809069212410502,
          0.9866111276405831,
          0.982078853046595,
          0.977326968973747,
          0.9833926453143536,
          0.9863501483679525,
          0.985731272294887,
          0.9845605700712589,
          0.9827483640690066,
          0.983957219251337,
          0.9851632047477745,
          0.9857227840571089,
          0.9869436201780415,
          0.9863258026159334,
          0.97999402806808,
          0.9857566765578635,
          0.9854469854469855
         ]
        },
        {
         "mode": "lines",
         "name": "Best Value",
         "type": "scatter",
         "x": [
          0,
          1,
          2,
          3,
          4,
          5,
          6,
          7,
          8,
          9,
          10,
          11,
          12,
          13,
          14,
          15,
          16,
          17,
          18,
          19,
          20,
          21,
          22,
          23,
          24,
          25,
          26,
          27,
          28,
          29,
          30,
          31,
          32,
          33,
          34,
          35,
          36,
          37,
          38,
          39,
          40,
          41,
          42,
          43,
          44,
          45,
          46,
          47,
          48
         ],
         "y": [
          0.9824769824769825,
          0.9824769824769825,
          0.9824769824769825,
          0.9824769824769825,
          0.9824769824769825,
          0.9824769824769825,
          0.9824769824769825,
          0.9854728728135191,
          0.9854728728135191,
          0.9854728728135191,
          0.9854728728135191,
          0.9854728728135191,
          0.9854728728135191,
          0.9854728728135191,
          0.9865951742627346,
          0.9869436201780415,
          0.9869436201780415,
          0.9872289872289872,
          0.9872289872289872,
          0.9872289872289872,
          0.9872289872289872,
          0.9872289872289872,
          0.9872289872289872,
          0.9875370919881306,
          0.9875370919881306,
          0.9875370919881306,
          0.9875370919881306,
          0.9875370919881306,
          0.9875370919881306,
          0.9875370919881306,
          0.9875370919881306,
          0.9875370919881306,
          0.9875370919881306,
          0.9875370919881306,
          0.9875370919881306,
          0.9875370919881306,
          0.9875370919881306,
          0.9875370919881306,
          0.9875370919881306,
          0.9875370919881306,
          0.9875370919881306,
          0.9875370919881306,
          0.9875370919881306,
          0.9875370919881306,
          0.9875370919881306,
          0.9875370919881306,
          0.9875370919881306,
          0.9875370919881306,
          0.9875370919881306
         ]
        },
        {
         "marker": {
          "color": "#cccccc"
         },
         "mode": "markers",
         "name": "Infeasible Trial",
         "showlegend": false,
         "type": "scatter",
         "x": [],
         "y": []
        }
       ],
       "layout": {
        "template": {
         "data": {
          "bar": [
           {
            "error_x": {
             "color": "#2a3f5f"
            },
            "error_y": {
             "color": "#2a3f5f"
            },
            "marker": {
             "line": {
              "color": "#E5ECF6",
              "width": 0.5
             },
             "pattern": {
              "fillmode": "overlay",
              "size": 10,
              "solidity": 0.2
             }
            },
            "type": "bar"
           }
          ],
          "barpolar": [
           {
            "marker": {
             "line": {
              "color": "#E5ECF6",
              "width": 0.5
             },
             "pattern": {
              "fillmode": "overlay",
              "size": 10,
              "solidity": 0.2
             }
            },
            "type": "barpolar"
           }
          ],
          "carpet": [
           {
            "aaxis": {
             "endlinecolor": "#2a3f5f",
             "gridcolor": "white",
             "linecolor": "white",
             "minorgridcolor": "white",
             "startlinecolor": "#2a3f5f"
            },
            "baxis": {
             "endlinecolor": "#2a3f5f",
             "gridcolor": "white",
             "linecolor": "white",
             "minorgridcolor": "white",
             "startlinecolor": "#2a3f5f"
            },
            "type": "carpet"
           }
          ],
          "choropleth": [
           {
            "colorbar": {
             "outlinewidth": 0,
             "ticks": ""
            },
            "type": "choropleth"
           }
          ],
          "contour": [
           {
            "colorbar": {
             "outlinewidth": 0,
             "ticks": ""
            },
            "colorscale": [
             [
              0,
              "#0d0887"
             ],
             [
              0.1111111111111111,
              "#46039f"
             ],
             [
              0.2222222222222222,
              "#7201a8"
             ],
             [
              0.3333333333333333,
              "#9c179e"
             ],
             [
              0.4444444444444444,
              "#bd3786"
             ],
             [
              0.5555555555555556,
              "#d8576b"
             ],
             [
              0.6666666666666666,
              "#ed7953"
             ],
             [
              0.7777777777777778,
              "#fb9f3a"
             ],
             [
              0.8888888888888888,
              "#fdca26"
             ],
             [
              1,
              "#f0f921"
             ]
            ],
            "type": "contour"
           }
          ],
          "contourcarpet": [
           {
            "colorbar": {
             "outlinewidth": 0,
             "ticks": ""
            },
            "type": "contourcarpet"
           }
          ],
          "heatmap": [
           {
            "colorbar": {
             "outlinewidth": 0,
             "ticks": ""
            },
            "colorscale": [
             [
              0,
              "#0d0887"
             ],
             [
              0.1111111111111111,
              "#46039f"
             ],
             [
              0.2222222222222222,
              "#7201a8"
             ],
             [
              0.3333333333333333,
              "#9c179e"
             ],
             [
              0.4444444444444444,
              "#bd3786"
             ],
             [
              0.5555555555555556,
              "#d8576b"
             ],
             [
              0.6666666666666666,
              "#ed7953"
             ],
             [
              0.7777777777777778,
              "#fb9f3a"
             ],
             [
              0.8888888888888888,
              "#fdca26"
             ],
             [
              1,
              "#f0f921"
             ]
            ],
            "type": "heatmap"
           }
          ],
          "heatmapgl": [
           {
            "colorbar": {
             "outlinewidth": 0,
             "ticks": ""
            },
            "colorscale": [
             [
              0,
              "#0d0887"
             ],
             [
              0.1111111111111111,
              "#46039f"
             ],
             [
              0.2222222222222222,
              "#7201a8"
             ],
             [
              0.3333333333333333,
              "#9c179e"
             ],
             [
              0.4444444444444444,
              "#bd3786"
             ],
             [
              0.5555555555555556,
              "#d8576b"
             ],
             [
              0.6666666666666666,
              "#ed7953"
             ],
             [
              0.7777777777777778,
              "#fb9f3a"
             ],
             [
              0.8888888888888888,
              "#fdca26"
             ],
             [
              1,
              "#f0f921"
             ]
            ],
            "type": "heatmapgl"
           }
          ],
          "histogram": [
           {
            "marker": {
             "pattern": {
              "fillmode": "overlay",
              "size": 10,
              "solidity": 0.2
             }
            },
            "type": "histogram"
           }
          ],
          "histogram2d": [
           {
            "colorbar": {
             "outlinewidth": 0,
             "ticks": ""
            },
            "colorscale": [
             [
              0,
              "#0d0887"
             ],
             [
              0.1111111111111111,
              "#46039f"
             ],
             [
              0.2222222222222222,
              "#7201a8"
             ],
             [
              0.3333333333333333,
              "#9c179e"
             ],
             [
              0.4444444444444444,
              "#bd3786"
             ],
             [
              0.5555555555555556,
              "#d8576b"
             ],
             [
              0.6666666666666666,
              "#ed7953"
             ],
             [
              0.7777777777777778,
              "#fb9f3a"
             ],
             [
              0.8888888888888888,
              "#fdca26"
             ],
             [
              1,
              "#f0f921"
             ]
            ],
            "type": "histogram2d"
           }
          ],
          "histogram2dcontour": [
           {
            "colorbar": {
             "outlinewidth": 0,
             "ticks": ""
            },
            "colorscale": [
             [
              0,
              "#0d0887"
             ],
             [
              0.1111111111111111,
              "#46039f"
             ],
             [
              0.2222222222222222,
              "#7201a8"
             ],
             [
              0.3333333333333333,
              "#9c179e"
             ],
             [
              0.4444444444444444,
              "#bd3786"
             ],
             [
              0.5555555555555556,
              "#d8576b"
             ],
             [
              0.6666666666666666,
              "#ed7953"
             ],
             [
              0.7777777777777778,
              "#fb9f3a"
             ],
             [
              0.8888888888888888,
              "#fdca26"
             ],
             [
              1,
              "#f0f921"
             ]
            ],
            "type": "histogram2dcontour"
           }
          ],
          "mesh3d": [
           {
            "colorbar": {
             "outlinewidth": 0,
             "ticks": ""
            },
            "type": "mesh3d"
           }
          ],
          "parcoords": [
           {
            "line": {
             "colorbar": {
              "outlinewidth": 0,
              "ticks": ""
             }
            },
            "type": "parcoords"
           }
          ],
          "pie": [
           {
            "automargin": true,
            "type": "pie"
           }
          ],
          "scatter": [
           {
            "fillpattern": {
             "fillmode": "overlay",
             "size": 10,
             "solidity": 0.2
            },
            "type": "scatter"
           }
          ],
          "scatter3d": [
           {
            "line": {
             "colorbar": {
              "outlinewidth": 0,
              "ticks": ""
             }
            },
            "marker": {
             "colorbar": {
              "outlinewidth": 0,
              "ticks": ""
             }
            },
            "type": "scatter3d"
           }
          ],
          "scattercarpet": [
           {
            "marker": {
             "colorbar": {
              "outlinewidth": 0,
              "ticks": ""
             }
            },
            "type": "scattercarpet"
           }
          ],
          "scattergeo": [
           {
            "marker": {
             "colorbar": {
              "outlinewidth": 0,
              "ticks": ""
             }
            },
            "type": "scattergeo"
           }
          ],
          "scattergl": [
           {
            "marker": {
             "colorbar": {
              "outlinewidth": 0,
              "ticks": ""
             }
            },
            "type": "scattergl"
           }
          ],
          "scattermapbox": [
           {
            "marker": {
             "colorbar": {
              "outlinewidth": 0,
              "ticks": ""
             }
            },
            "type": "scattermapbox"
           }
          ],
          "scatterpolar": [
           {
            "marker": {
             "colorbar": {
              "outlinewidth": 0,
              "ticks": ""
             }
            },
            "type": "scatterpolar"
           }
          ],
          "scatterpolargl": [
           {
            "marker": {
             "colorbar": {
              "outlinewidth": 0,
              "ticks": ""
             }
            },
            "type": "scatterpolargl"
           }
          ],
          "scatterternary": [
           {
            "marker": {
             "colorbar": {
              "outlinewidth": 0,
              "ticks": ""
             }
            },
            "type": "scatterternary"
           }
          ],
          "surface": [
           {
            "colorbar": {
             "outlinewidth": 0,
             "ticks": ""
            },
            "colorscale": [
             [
              0,
              "#0d0887"
             ],
             [
              0.1111111111111111,
              "#46039f"
             ],
             [
              0.2222222222222222,
              "#7201a8"
             ],
             [
              0.3333333333333333,
              "#9c179e"
             ],
             [
              0.4444444444444444,
              "#bd3786"
             ],
             [
              0.5555555555555556,
              "#d8576b"
             ],
             [
              0.6666666666666666,
              "#ed7953"
             ],
             [
              0.7777777777777778,
              "#fb9f3a"
             ],
             [
              0.8888888888888888,
              "#fdca26"
             ],
             [
              1,
              "#f0f921"
             ]
            ],
            "type": "surface"
           }
          ],
          "table": [
           {
            "cells": {
             "fill": {
              "color": "#EBF0F8"
             },
             "line": {
              "color": "white"
             }
            },
            "header": {
             "fill": {
              "color": "#C8D4E3"
             },
             "line": {
              "color": "white"
             }
            },
            "type": "table"
           }
          ]
         },
         "layout": {
          "annotationdefaults": {
           "arrowcolor": "#2a3f5f",
           "arrowhead": 0,
           "arrowwidth": 1
          },
          "autotypenumbers": "strict",
          "coloraxis": {
           "colorbar": {
            "outlinewidth": 0,
            "ticks": ""
           }
          },
          "colorscale": {
           "diverging": [
            [
             0,
             "#8e0152"
            ],
            [
             0.1,
             "#c51b7d"
            ],
            [
             0.2,
             "#de77ae"
            ],
            [
             0.3,
             "#f1b6da"
            ],
            [
             0.4,
             "#fde0ef"
            ],
            [
             0.5,
             "#f7f7f7"
            ],
            [
             0.6,
             "#e6f5d0"
            ],
            [
             0.7,
             "#b8e186"
            ],
            [
             0.8,
             "#7fbc41"
            ],
            [
             0.9,
             "#4d9221"
            ],
            [
             1,
             "#276419"
            ]
           ],
           "sequential": [
            [
             0,
             "#0d0887"
            ],
            [
             0.1111111111111111,
             "#46039f"
            ],
            [
             0.2222222222222222,
             "#7201a8"
            ],
            [
             0.3333333333333333,
             "#9c179e"
            ],
            [
             0.4444444444444444,
             "#bd3786"
            ],
            [
             0.5555555555555556,
             "#d8576b"
            ],
            [
             0.6666666666666666,
             "#ed7953"
            ],
            [
             0.7777777777777778,
             "#fb9f3a"
            ],
            [
             0.8888888888888888,
             "#fdca26"
            ],
            [
             1,
             "#f0f921"
            ]
           ],
           "sequentialminus": [
            [
             0,
             "#0d0887"
            ],
            [
             0.1111111111111111,
             "#46039f"
            ],
            [
             0.2222222222222222,
             "#7201a8"
            ],
            [
             0.3333333333333333,
             "#9c179e"
            ],
            [
             0.4444444444444444,
             "#bd3786"
            ],
            [
             0.5555555555555556,
             "#d8576b"
            ],
            [
             0.6666666666666666,
             "#ed7953"
            ],
            [
             0.7777777777777778,
             "#fb9f3a"
            ],
            [
             0.8888888888888888,
             "#fdca26"
            ],
            [
             1,
             "#f0f921"
            ]
           ]
          },
          "colorway": [
           "#636efa",
           "#EF553B",
           "#00cc96",
           "#ab63fa",
           "#FFA15A",
           "#19d3f3",
           "#FF6692",
           "#B6E880",
           "#FF97FF",
           "#FECB52"
          ],
          "font": {
           "color": "#2a3f5f"
          },
          "geo": {
           "bgcolor": "white",
           "lakecolor": "white",
           "landcolor": "#E5ECF6",
           "showlakes": true,
           "showland": true,
           "subunitcolor": "white"
          },
          "hoverlabel": {
           "align": "left"
          },
          "hovermode": "closest",
          "mapbox": {
           "style": "light"
          },
          "paper_bgcolor": "white",
          "plot_bgcolor": "#E5ECF6",
          "polar": {
           "angularaxis": {
            "gridcolor": "white",
            "linecolor": "white",
            "ticks": ""
           },
           "bgcolor": "#E5ECF6",
           "radialaxis": {
            "gridcolor": "white",
            "linecolor": "white",
            "ticks": ""
           }
          },
          "scene": {
           "xaxis": {
            "backgroundcolor": "#E5ECF6",
            "gridcolor": "white",
            "gridwidth": 2,
            "linecolor": "white",
            "showbackground": true,
            "ticks": "",
            "zerolinecolor": "white"
           },
           "yaxis": {
            "backgroundcolor": "#E5ECF6",
            "gridcolor": "white",
            "gridwidth": 2,
            "linecolor": "white",
            "showbackground": true,
            "ticks": "",
            "zerolinecolor": "white"
           },
           "zaxis": {
            "backgroundcolor": "#E5ECF6",
            "gridcolor": "white",
            "gridwidth": 2,
            "linecolor": "white",
            "showbackground": true,
            "ticks": "",
            "zerolinecolor": "white"
           }
          },
          "shapedefaults": {
           "line": {
            "color": "#2a3f5f"
           }
          },
          "ternary": {
           "aaxis": {
            "gridcolor": "white",
            "linecolor": "white",
            "ticks": ""
           },
           "baxis": {
            "gridcolor": "white",
            "linecolor": "white",
            "ticks": ""
           },
           "bgcolor": "#E5ECF6",
           "caxis": {
            "gridcolor": "white",
            "linecolor": "white",
            "ticks": ""
           }
          },
          "title": {
           "x": 0.05
          },
          "xaxis": {
           "automargin": true,
           "gridcolor": "white",
           "linecolor": "white",
           "ticks": "",
           "title": {
            "standoff": 15
           },
           "zerolinecolor": "white",
           "zerolinewidth": 2
          },
          "yaxis": {
           "automargin": true,
           "gridcolor": "white",
           "linecolor": "white",
           "ticks": "",
           "title": {
            "standoff": 15
           },
           "zerolinecolor": "white",
           "zerolinewidth": 2
          }
         }
        },
        "title": {
         "text": "Optimization History Plot"
        },
        "xaxis": {
         "title": {
          "text": "Trial"
         }
        },
        "yaxis": {
         "title": {
          "text": "Objective Value"
         }
        }
       }
      }
     },
     "metadata": {},
     "output_type": "display_data"
    }
   ],
   "source": [
    "p_history_feat_eng = optuna.visualization.plot_optimization_history(study_feat_eng)\n",
    "p_history_feat_eng.show()"
   ]
  }
 ],
 "metadata": {
  "kernelspec": {
   "display_name": "ml4hc",
   "language": "python",
   "name": "python3"
  },
  "language_info": {
   "codemirror_mode": {
    "name": "ipython",
    "version": 3
   },
   "file_extension": ".py",
   "mimetype": "text/x-python",
   "name": "python",
   "nbconvert_exporter": "python",
   "pygments_lexer": "ipython3",
   "version": "3.10.14"
  }
 },
 "nbformat": 4,
 "nbformat_minor": 2
}
