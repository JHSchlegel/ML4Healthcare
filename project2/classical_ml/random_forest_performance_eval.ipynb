{
 "cells": [
  {
   "cell_type": "markdown",
   "metadata": {},
   "source": [
    "# Classical ML Methods: Random Forest"
   ]
  },
  {
   "cell_type": "markdown",
   "metadata": {},
   "source": [
    "## Packages and Presets"
   ]
  },
  {
   "cell_type": "code",
   "execution_count": 1,
   "metadata": {},
   "outputs": [],
   "source": [
    "import pandas as pd\n",
    "import numpy as np\n",
    "import yaml\n",
    "from icecream import ic\n",
    "import os\n",
    "import joblib\n",
    "\n",
    "from sklearn.metrics import (\n",
    "    f1_score, \n",
    "    balanced_accuracy_score,\n",
    "    confusion_matrix,\n",
    "    ConfusionMatrixDisplay,\n",
    "    accuracy_score,\n",
    "    classification_report\n",
    ")\n",
    "\n",
    "\n",
    "from imblearn.over_sampling import SMOTE\n",
    "\n",
    "from sklearn.ensemble import RandomForestClassifier\n",
    "\n",
    "from tsfresh.transformers.per_column_imputer import PerColumnImputer\n",
    "from tsfresh.feature_extraction.settings import ComprehensiveFCParameters\n",
    "from tsfresh.feature_extraction import extract_features\n",
    "\n",
    "\n",
    "pd.set_option('display.max_columns', None)\n",
    "%load_ext blackcellmagic\n",
    "%load_ext autoreload\n",
    "\n",
    "import warnings\n",
    "warnings.filterwarnings(\"ignore\") # sanest python user"
   ]
  },
  {
   "cell_type": "code",
   "execution_count": 2,
   "metadata": {},
   "outputs": [],
   "source": [
    "with open(\"classical_ml_config.yaml\", \"r\") as file:\n",
    "    config = yaml.safe_load(file)"
   ]
  },
  {
   "cell_type": "markdown",
   "metadata": {},
   "source": [
    "## Performance Without Feature Engineering"
   ]
  },
  {
   "cell_type": "markdown",
   "metadata": {},
   "source": [
    "Preprocessing data: Since the data is already clean, we only need to split it into training and testing sets. Moreover, all the feature values lie between 0 and 1, so we do not see the need to scale them."
   ]
  },
  {
   "cell_type": "code",
   "execution_count": 3,
   "metadata": {},
   "outputs": [],
   "source": [
    "# Load data\n",
    "train_df = pd.read_csv(config[\"paths\"][\"ptb_train\"], header=None)\n",
    "test_df = pd.read_csv(config[\"paths\"][\"ptb_test\"], header=None)"
   ]
  },
  {
   "cell_type": "code",
   "execution_count": 4,
   "metadata": {},
   "outputs": [],
   "source": [
    "X_train = train_df.iloc[:, :-1]\n",
    "y_train = train_df.iloc[:, -1]\n",
    "\n",
    "\n",
    "X_test = test_df.iloc[:, :-1]\n",
    "y_test = test_df.iloc[:, -1]"
   ]
  },
  {
   "cell_type": "code",
   "execution_count": 5,
   "metadata": {},
   "outputs": [],
   "source": [
    "# sm = SMOTE(random_state=config[\"general\"][\"seed\"])\n",
    "# X_train, y_train = sm.fit_resample(X_train, y_train)\n",
    "# ic(X_train.shape, y_train.shape)\n",
    "# ic(np.unique(y_train, return_counts=True))"
   ]
  },
  {
   "cell_type": "code",
   "execution_count": 6,
   "metadata": {},
   "outputs": [],
   "source": [
    "rf_no_feat_eng = RandomForestClassifier(\n",
    "    n_estimators=config[\"random_forest_no_feat_eng\"][\"n_estimators\"],\n",
    "    max_depth=config[\"random_forest_no_feat_eng\"][\"max_depth\"],\n",
    "    min_samples_leaf=config[\"random_forest_no_feat_eng\"][\"min_samples_leaf\"],\n",
    "    max_features=config[\"random_forest_no_feat_eng\"][\"max_features\"],\n",
    "    bootstrap=config[\"random_forest_no_feat_eng\"][\"bootstrap\"],\n",
    "    criterion=config[\"random_forest_no_feat_eng\"][\"criterion\"],\n",
    "    random_state=config[\"general\"][\"seed\"],\n",
    "    n_jobs=-1,\n",
    ")"
   ]
  },
  {
   "cell_type": "code",
   "execution_count": 7,
   "metadata": {},
   "outputs": [],
   "source": [
    "rf_no_feat_eng.fit(X_train, y_train)"
   ]
  },
  {
   "cell_type": "code",
   "execution_count": null,
   "metadata": {},
   "outputs": [
    {
     "data": {
      "text/plain": [
       "['../weights/catboost_no_feat_eng.pkl']"
      ]
     },
     "execution_count": 8,
     "metadata": {},
     "output_type": "execute_result"
    }
   ],
   "source": [
    "joblib.dump(rf_no_feat_eng, config[\"paths\"][\"rf_no_feat_eng\"])"
   ]
  },
  {
   "cell_type": "code",
   "execution_count": null,
   "metadata": {},
   "outputs": [],
   "source": [
    "y_preds = rf_no_feat_eng.predict(X_test)"
   ]
  },
  {
   "cell_type": "code",
   "execution_count": null,
   "metadata": {},
   "outputs": [
    {
     "data": {
      "text/plain": [
       "<sklearn.metrics._plot.confusion_matrix.ConfusionMatrixDisplay at 0x7fcb3bf8fb50>"
      ]
     },
     "execution_count": 10,
     "metadata": {},
     "output_type": "execute_result"
    },
    {
     "data": {
      "image/png": "[encoded data removed]",
      "text/plain": [
       "<Figure size 640x480 with 2 Axes>"
      ]
     },
     "metadata": {},
     "output_type": "display_data"
    }
   ],
   "source": [
    "cm = confusion_matrix(y_test, y_preds)\n",
    "disp = ConfusionMatrixDisplay(confusion_matrix=cm, display_labels=[0, 1])\n",
    "disp.plot()"
   ]
  },
  {
   "cell_type": "code",
   "execution_count": null,
   "metadata": {},
   "outputs": [
    {
     "name": "stdout",
     "output_type": "stream",
     "text": [
      "Test accuracy: 0.947441\n",
      "Test balanced accuracy: 0.931291\n",
      "Test f1 score: 0.963753\n",
      "Test precision: 0.959887\n",
      "Test recall: 0.967650\n"
     ]
    }
   ],
   "source": [
    "# calculate precision and recall:\n",
    "tn, fp, fn, tp = cm.ravel()\n",
    "precision = tp / (tp + fp)\n",
    "recall = tp / (tp + fn)\n",
    "\n",
    "print(f\"Test accuracy: {accuracy_score(y_test, y_preds):.6f}\")\n",
    "print(f\"Test balanced accuracy: {balanced_accuracy_score(y_test, y_preds):.6f}\")\n",
    "print(f\"Test f1 score: {f1_score(y_test, y_preds):.6f}\")\n",
    "print(f\"Test precision: {precision:.6f}\")\n",
    "print(f\"Test recall: {recall:.6f}\")"
   ]
  },
  {
   "cell_type": "code",
   "execution_count": null,
   "metadata": {},
   "outputs": [
    {
     "name": "stdout",
     "output_type": "stream",
     "text": [
      "              precision    recall  f1-score   support\n",
      "\n",
      "         0.0       0.91      0.89      0.90       809\n",
      "         1.0       0.96      0.97      0.96      2102\n",
      "\n",
      "    accuracy                           0.95      2911\n",
      "   macro avg       0.94      0.93      0.93      2911\n",
      "weighted avg       0.95      0.95      0.95      2911\n",
      "\n"
     ]
    }
   ],
   "source": [
    "print(classification_report(y_test, y_preds))"
   ]
  },
  {
   "cell_type": "markdown",
   "metadata": {},
   "source": [
    "## Performance with Feature Engineering"
   ]
  },
  {
   "cell_type": "markdown",
   "metadata": {},
   "source": [
    "First, RelevantFeatureAugmenter requires the column names to be strings. Thus, we first have to convert the column names to strings:"
   ]
  },
  {
   "cell_type": "code",
   "execution_count": null,
   "metadata": {},
   "outputs": [],
   "source": [
    "X_train.columns = X_train.columns.astype(str)\n",
    "X_test.columns = X_test.columns.astype(str)"
   ]
  },
  {
   "cell_type": "code",
   "execution_count": null,
   "metadata": {},
   "outputs": [],
   "source": [
    "rf_feat_eng = RandomForestClassifier(\n",
    "    n_estimators=config[\"random_forest_feat_eng\"][\"n_estimators\"],\n",
    "    max_depth=config[\"random_forest_feat_eng\"][\"max_depth\"],\n",
    "    min_samples_leaf=config[\"random_forest_feat_eng\"][\"min_samples_leaf\"],\n",
    "    max_features=config[\"random_forest_feat_eng\"][\"max_features\"],\n",
    "    bootstrap=config[\"random_forest_feat_eng\"][\"bootstrap\"],\n",
    "    criterion=config[\"random_forest_feat_eng\"][\"criterion\"],\n",
    "    random_state=config[\"general\"][\"seed\"],\n",
    "    n_jobs=-1,\n",
    ")"
   ]
  },
  {
   "cell_type": "markdown",
   "metadata": {},
   "source": [
    "In the following, we will use the `tsfresh` library (see [here](https://tsfresh.readthedocs.io/en/latest/)) to extract features from the time series data. We will then train a CatBoostClassifier on the extracted features and evaluate the model performance. For using the `tsfresh` library, we first have to bring our data into the correct format:"
   ]
  },
  {
   "cell_type": "code",
   "execution_count": null,
   "metadata": {},
   "outputs": [],
   "source": [
    "# melt the training dataframe\n",
    "X_train_copy = X_train.copy(deep=True)\n",
    "X_train_copy[\"id\"] = X_train_copy.index\n",
    "X_train_melted =(\n",
    "    X_train_copy\n",
    "    .melt(id_vars=\"id\", var_name=\"time\", value_name=\"value\")\n",
    "    .sort_values(by=[\"id\", \"time\"])\n",
    ")\n",
    "# get rid of padding to not ruin the engineered features\n",
    "# for simplicity, we drop all 0s, as only few \"true\" 0s are in the data\n",
    "X_train_melted[\"value\"] = X_train_melted[\"value\"].replace(0, np.nan)\n",
    "X_train_melted = X_train_melted.dropna()\n",
    "\n",
    "# melt the test dataframe\n",
    "X_test_copy = X_test.copy(deep=True) \n",
    "X_test_copy[\"id\"] = X_test_copy.index\n",
    "X_test_melted =(\n",
    "    X_test_copy\n",
    "    .melt(id_vars=\"id\", var_name=\"time\", value_name=\"value\")\n",
    "    .sort_values(by=[\"id\", \"time\"])\n",
    ")\n",
    "# get rid of padding to not ruin the engineered features\n",
    "# for simplicity, we drop all 0s, as only few \"true\" 0s are in the data\n",
    "X_test_melted[\"value\"] = X_test_melted[\"value\"].replace(0, np.nan)\n",
    "X_test_melted = X_test_melted.dropna()"
   ]
  },
  {
   "cell_type": "code",
   "execution_count": null,
   "metadata": {},
   "outputs": [
    {
     "name": "stderr",
     "output_type": "stream",
     "text": [
      "Feature Extraction: 100%|██████████| 80/80 [00:40<00:00,  1.97it/s]\n",
      "Feature Extraction: 100%|██████████| 79/79 [00:14<00:00,  5.62it/s]\n"
     ]
    }
   ],
   "source": [
    "# We will follow this tutorial:\n",
    "# https://towardsdatascience.com/expanding-your-regression-repertoire-with-regularisation-903d2c9f7b28\n",
    "# but will use the ComprehensiveFCParameters instead of the EfficientFCParameters\n",
    "# for feature extraction\n",
    "X_train_augmented = extract_features(\n",
    "    X_train_melted,\n",
    "    column_id=\"id\",\n",
    "    column_sort=\"time\",\n",
    "    column_value=\"value\",\n",
    "    default_fc_parameters=ComprehensiveFCParameters(),\n",
    ")  \n",
    "X_test_augmented = extract_features(\n",
    "    X_test_melted,\n",
    "    column_id=\"id\",\n",
    "    column_sort=\"time\",\n",
    "    column_value=\"value\",\n",
    "    default_fc_parameters=ComprehensiveFCParameters(),\n",
    ")  "
   ]
  },
  {
   "cell_type": "code",
   "execution_count": null,
   "metadata": {},
   "outputs": [],
   "source": [
    "X_train_merged = pd.merge(\n",
    "    X_train, X_train_augmented, left_index=True, right_index=True\n",
    ")\n",
    "X_test_merged = pd.merge(\n",
    "    X_test, X_test_augmented, left_index=True, right_index=True\n",
    ")\n",
    "\n",
    "# assert that no rows were lost\n",
    "assert X_train_merged.shape[0] == X_train.shape[0]\n",
    "assert X_test_merged.shape[0] == X_test.shape[0]\n",
    "assert X_train_merged.index.equals(X_train.index)\n",
    "assert X_test_merged.index.equals(X_test.index)"
   ]
  },
  {
   "cell_type": "code",
   "execution_count": null,
   "metadata": {},
   "outputs": [],
   "source": [
    "imputer = PerColumnImputer()\n",
    "X_train_merged = imputer.fit_transform(X_train_merged)\n",
    "X_test_merged = imputer.transform(X_test_merged)"
   ]
  },
  {
   "cell_type": "code",
   "execution_count": null,
   "metadata": {},
   "outputs": [],
   "source": [
    "rf_feat_eng.fit(X_train_merged, y_train)\n",
    "y_preds = rf_feat_eng.predict(X_test_merged)"
   ]
  },
  {
   "cell_type": "code",
   "execution_count": null,
   "metadata": {},
   "outputs": [
    {
     "data": {
      "text/plain": [
       "['../weights/catboost_feat_eng.pkl']"
      ]
     },
     "execution_count": 20,
     "metadata": {},
     "output_type": "execute_result"
    }
   ],
   "source": [
    "joblib.dump(rf_feat_eng, config[\"paths\"][\"rf_feat_eng\"])"
   ]
  },
  {
   "cell_type": "code",
   "execution_count": null,
   "metadata": {},
   "outputs": [
    {
     "data": {
      "text/plain": [
       "<sklearn.metrics._plot.confusion_matrix.ConfusionMatrixDisplay at 0x7fcb3c16a7d0>"
      ]
     },
     "execution_count": 21,
     "metadata": {},
     "output_type": "execute_result"
    },
    {
     "data": {
      "image/png": "[encoded data removed]",
      "text/plain": [
       "<Figure size 640x480 with 2 Axes>"
      ]
     },
     "metadata": {},
     "output_type": "display_data"
    }
   ],
   "source": [
    "cm = confusion_matrix(y_test, y_preds)\n",
    "disp = ConfusionMatrixDisplay(confusion_matrix=cm, display_labels=[0, 1])\n",
    "disp.plot()"
   ]
  },
  {
   "cell_type": "code",
   "execution_count": null,
   "metadata": {},
   "outputs": [
    {
     "name": "stdout",
     "output_type": "stream",
     "text": [
      "Test accuracy: 0.950876\n",
      "Test balanced accuracy: 0.923405\n",
      "Test f1 score: 0.966628\n",
      "Test precision: 0.948694\n",
      "Test recall: 0.985252\n"
     ]
    }
   ],
   "source": [
    "# calculate precision and recall:\n",
    "tn, fp, fn, tp = cm.ravel()\n",
    "precision = tp / (tp + fp)\n",
    "recall = tp / (tp + fn)\n",
    "\n",
    "print(f\"Test accuracy: {accuracy_score(y_test, y_preds):.6f}\")\n",
    "print(f\"Test balanced accuracy: {balanced_accuracy_score(y_test, y_preds):.6f}\")\n",
    "print(f\"Test f1 score: {f1_score(y_test, y_preds):.6f}\")\n",
    "print(f\"Test precision: {precision:.6f}\")\n",
    "print(f\"Test recall: {recall:.6f}\")"
   ]
  },
  {
   "cell_type": "code",
   "execution_count": null,
   "metadata": {},
   "outputs": [
    {
     "name": "stdout",
     "output_type": "stream",
     "text": [
      "              precision    recall  f1-score   support\n",
      "\n",
      "         0.0       0.96      0.86      0.91       809\n",
      "         1.0       0.95      0.99      0.97      2102\n",
      "\n",
      "    accuracy                           0.95      2911\n",
      "   macro avg       0.95      0.92      0.94      2911\n",
      "weighted avg       0.95      0.95      0.95      2911\n",
      "\n"
     ]
    }
   ],
   "source": [
    "print(classification_report(y_test, y_preds))"
   ]
  }
 ],
 "metadata": {
  "kernelspec": {
   "display_name": "ml4hc",
   "language": "python",
   "name": "python3"
  },
  "language_info": {
   "codemirror_mode": {
    "name": "ipython",
    "version": 3
   },
   "file_extension": ".py",
   "mimetype": "text/x-python",
   "name": "python",
   "nbconvert_exporter": "python",
   "pygments_lexer": "ipython3",
   "version": "3.10.14"
  }
 },
 "nbformat": 4,
 "nbformat_minor": 2
}
