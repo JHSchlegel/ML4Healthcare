{
 "cells": [
  {
   "cell_type": "markdown",
   "metadata": {},
   "source": [
    "# Random Forest: Hyperparameter Tuning"
   ]
  },
  {
   "cell_type": "markdown",
   "metadata": {},
   "source": [
    "## Packages and Presets"
   ]
  },
  {
   "cell_type": "code",
   "execution_count": 1,
   "metadata": {},
   "outputs": [],
   "source": [
    "import pandas as pd\n",
    "import numpy as np\n",
    "import yaml\n",
    "import os\n",
    "import joblib\n",
    "\n",
    "from sklearn.metrics import (\n",
    "    f1_score, \n",
    "    balanced_accuracy_score,\n",
    ")\n",
    "\n",
    "from sklearn.model_selection import StratifiedKFold\n",
    "\n",
    "import matplotlib.pyplot as plt\n",
    "import seaborn as sns \n",
    "\n",
    "from imblearn.over_sampling import SMOTE\n",
    "\n",
    "from sklearn.ensemble import RandomForestClassifier\n",
    "\n",
    "from tsfresh.transformers.per_column_imputer import PerColumnImputer\n",
    "from tsfresh.feature_extraction.settings import EfficientFCParameters, ComprehensiveFCParameters\n",
    "from tsfresh.feature_extraction import extract_features\n",
    "\n",
    "\n",
    "pd.set_option('display.max_columns', None)\n",
    "%load_ext blackcellmagic\n",
    "%load_ext autoreload\n",
    "\n",
    "import optuna\n",
    "import warnings"
   ]
  },
  {
   "cell_type": "code",
   "execution_count": 2,
   "metadata": {},
   "outputs": [],
   "source": [
    "NUM_TRIALS = 200\n",
    "\n",
    "with open(\"classical_ml_config.yaml\", \"r\") as file:\n",
    "    config = yaml.safe_load(file)"
   ]
  },
  {
   "cell_type": "markdown",
   "metadata": {},
   "source": [
    "## No Feature Engineering"
   ]
  },
  {
   "cell_type": "code",
   "execution_count": 3,
   "metadata": {},
   "outputs": [],
   "source": [
    "# Load data\n",
    "train_df = pd.read_csv(config[\"paths\"][\"ptb_train\"], header=None)"
   ]
  },
  {
   "cell_type": "code",
   "execution_count": 4,
   "metadata": {},
   "outputs": [],
   "source": [
    "X_train_all = train_df.iloc[:, :-1]\n",
    "y_train_all = train_df.iloc[:, -1]"
   ]
  },
  {
   "cell_type": "code",
   "execution_count": 5,
   "metadata": {},
   "outputs": [],
   "source": [
    "# create objective function for optuna\n",
    "def objective_no_feat_eng(trial):\n",
    "    use_smote = trial.suggest_categorical(\"use_smote\", [True, False]),\n",
    "\n",
    "    # see: https://medium.com/@ethannabatchian/optimizing-random-forest-models-a-deep-dive-into-hyperparameter-tuning-with-optuna-b8e4fe7f3670\n",
    "    hyperparams = {\n",
    "        \"n_estimators\": trial.suggest_int(\"n_estimators\", 100, 1000),\n",
    "        \"max_depth\": trial.suggest_int(\"max_depth\", 10, 50),\n",
    "        \"min_samples_split\": trial.suggest_int(\"min_samples_split\", 2, 32),\n",
    "        \"min_samples_leaf\": trial.suggest_int(\"min_samples_leaf\", 1, 32),\n",
    "        \"max_features\": trial.suggest_categorical(\"max_features\", [\"sqrt\", \"log2\"]),\n",
    "        \"criterion\": trial.suggest_categorical(\"criterion\", [\"gini\", \"entropy\", \"log_loss\"]),\n",
    "    }\n",
    "    \n",
    "    \n",
    "    f1_scores = []\n",
    "    \n",
    "    skf = StratifiedKFold(n_splits=5, random_state=config[\"general\"][\"seed\"], shuffle=True)\n",
    "    for fold_num, (train_idx, val_idx) in enumerate(skf.split(X_train_all, y_train_all)):\n",
    "        X_train, X_val = X_train_all.iloc[train_idx], X_train_all.iloc[val_idx]\n",
    "        y_train, y_val = y_train_all[train_idx], y_train_all[val_idx]\n",
    "        \n",
    "        if use_smote:\n",
    "            smote = SMOTE(random_state=config[\"general\"][\"seed\"])\n",
    "            X_train, y_train = smote.fit_resample(X_train, y_train) \n",
    "        \n",
    "        \n",
    "        rf = RandomForestClassifier(\n",
    "            random_state=config[\"general\"][\"seed\"],\n",
    "            n_jobs=-1,\n",
    "            **hyperparams\n",
    "        )\n",
    "        rf.fit(X_train, y_train)\n",
    "        \n",
    "        y_preds = rf.predict(X_val)\n",
    "        \n",
    "        score = f1_score(y_val, y_preds)\n",
    "            \n",
    "        trial.report(score, fold_num)\n",
    "        if trial.should_prune():\n",
    "            raise optuna.TrialPruned()\n",
    "        \n",
    "        f1_scores.append(score)\n",
    "            \n",
    "        \n",
    "    return np.mean(f1_scores)"
   ]
  },
  {
   "cell_type": "code",
   "execution_count": 6,
   "metadata": {},
   "outputs": [
    {
     "name": "stderr",
     "output_type": "stream",
     "text": [
      "[I 2024-04-29 23:28:47,105] A new study created in memory with name: rf_no_feat_eng\n"
     ]
    }
   ],
   "source": [
    "# prune bad trials \n",
    "pruner = optuna.pruners.MedianPruner(n_startup_trials=20, n_warmup_steps=2)\n",
    "\n",
    "study_no_feat_eng = optuna.create_study(\n",
    "    direction=\"maximize\",\n",
    "    study_name=\"rf_no_feat_eng\",\n",
    "    sampler=optuna.samplers.TPESampler(seed=config[\"general\"][\"seed\"]),\n",
    "    pruner=pruner,\n",
    ")"
   ]
  },
  {
   "cell_type": "code",
   "execution_count": 7,
   "metadata": {},
   "outputs": [
    {
     "data": {
      "application/vnd.jupyter.widget-view+json": {
       "model_id": "2d3863e0e983408980ebb595716ab84d",
       "version_major": 2,
       "version_minor": 0
      },
      "text/plain": [
       "  0%|          | 0/200 [00:00<?, ?it/s]"
      ]
     },
     "metadata": {},
     "output_type": "display_data"
    },
    {
     "name": "stdout",
     "output_type": "stream",
     "text": [
      "[I 2024-04-29 23:28:56,758] Trial 0 finished with value: 0.9739029780153174 and parameters: {'use_smote': False, 'n_estimators': 759, 'max_depth': 34, 'min_samples_split': 6, 'min_samples_leaf': 5, 'max_features': 'log2', 'criterion': 'entropy'}. Best is trial 0 with value: 0.9739029780153174.\n",
      "[I 2024-04-29 23:29:02,299] Trial 1 finished with value: 0.9680749280411456 and parameters: {'use_smote': True, 'n_estimators': 291, 'max_depth': 17, 'min_samples_split': 7, 'min_samples_leaf': 10, 'max_features': 'sqrt', 'criterion': 'entropy'}. Best is trial 0 with value: 0.9739029780153174.\n",
      "[I 2024-04-29 23:29:10,155] Trial 2 finished with value: 0.9600977295684471 and parameters: {'use_smote': False, 'n_estimators': 510, 'max_depth': 42, 'min_samples_split': 8, 'min_samples_leaf': 17, 'max_features': 'sqrt', 'criterion': 'gini'}. Best is trial 0 with value: 0.9739029780153174.\n",
      "[I 2024-04-29 23:29:24,381] Trial 3 finished with value: 0.9590623025154524 and parameters: {'use_smote': False, 'n_estimators': 828, 'max_depth': 22, 'min_samples_split': 5, 'min_samples_leaf': 22, 'max_features': 'sqrt', 'criterion': 'log_loss'}. Best is trial 0 with value: 0.9739029780153174.\n",
      "[I 2024-04-29 23:29:30,750] Trial 4 finished with value: 0.9697435930550901 and parameters: {'use_smote': False, 'n_estimators': 380, 'max_depth': 31, 'min_samples_split': 18, 'min_samples_leaf': 6, 'max_features': 'sqrt', 'criterion': 'gini'}. Best is trial 0 with value: 0.9739029780153174.\n",
      "[I 2024-04-29 23:29:33,862] Trial 5 finished with value: 0.9402229572395069 and parameters: {'use_smote': True, 'n_estimators': 276, 'max_depth': 11, 'min_samples_split': 12, 'min_samples_leaf': 13, 'max_features': 'log2', 'criterion': 'log_loss'}. Best is trial 0 with value: 0.9739029780153174.\n",
      "[I 2024-04-29 23:29:36,153] Trial 6 finished with value: 0.9684312689133021 and parameters: {'use_smote': False, 'n_estimators': 167, 'max_depth': 50, 'min_samples_split': 25, 'min_samples_leaf': 7, 'max_features': 'log2', 'criterion': 'log_loss'}. Best is trial 0 with value: 0.9739029780153174.\n",
      "[I 2024-04-29 23:29:39,002] Trial 7 finished with value: 0.9665769635758503 and parameters: {'use_smote': False, 'n_estimators': 204, 'max_depth': 45, 'min_samples_split': 21, 'min_samples_leaf': 11, 'max_features': 'log2', 'criterion': 'entropy'}. Best is trial 0 with value: 0.9739029780153174.\n",
      "[I 2024-04-29 23:29:42,665] Trial 8 finished with value: 0.958685500681321 and parameters: {'use_smote': True, 'n_estimators': 207, 'max_depth': 39, 'min_samples_split': 25, 'min_samples_leaf': 18, 'max_features': 'sqrt', 'criterion': 'gini'}. Best is trial 0 with value: 0.9739029780153174.\n",
      "[I 2024-04-29 23:29:48,819] Trial 9 finished with value: 0.9468253976796606 and parameters: {'use_smote': True, 'n_estimators': 673, 'max_depth': 22, 'min_samples_split': 17, 'min_samples_leaf': 30, 'max_features': 'log2', 'criterion': 'gini'}. Best is trial 0 with value: 0.9739029780153174.\n",
      "[I 2024-04-29 23:30:00,510] Trial 10 finished with value: 0.9796573147618671 and parameters: {'use_smote': False, 'n_estimators': 918, 'max_depth': 33, 'min_samples_split': 2, 'min_samples_leaf': 1, 'max_features': 'log2', 'criterion': 'entropy'}. Best is trial 10 with value: 0.9796573147618671.\n",
      "[I 2024-04-29 23:30:12,054] Trial 11 finished with value: 0.9796593312085559 and parameters: {'use_smote': False, 'n_estimators': 961, 'max_depth': 33, 'min_samples_split': 2, 'min_samples_leaf': 1, 'max_features': 'log2', 'criterion': 'entropy'}. Best is trial 11 with value: 0.9796593312085559.\n",
      "[I 2024-04-29 23:30:23,869] Trial 12 finished with value: 0.979896713097396 and parameters: {'use_smote': False, 'n_estimators': 970, 'max_depth': 27, 'min_samples_split': 2, 'min_samples_leaf': 1, 'max_features': 'log2', 'criterion': 'entropy'}. Best is trial 12 with value: 0.979896713097396.\n",
      "[I 2024-04-29 23:30:35,823] Trial 13 finished with value: 0.975823673763631 and parameters: {'use_smote': False, 'n_estimators': 998, 'max_depth': 25, 'min_samples_split': 12, 'min_samples_leaf': 2, 'max_features': 'log2', 'criterion': 'entropy'}. Best is trial 12 with value: 0.979896713097396.\n",
      "[I 2024-04-29 23:30:43,689] Trial 14 finished with value: 0.979654752657747 and parameters: {'use_smote': False, 'n_estimators': 634, 'max_depth': 27, 'min_samples_split': 2, 'min_samples_leaf': 1, 'max_features': 'log2', 'criterion': 'entropy'}. Best is trial 12 with value: 0.979896713097396.\n",
      "[I 2024-04-29 23:30:54,278] Trial 15 finished with value: 0.9532453639000013 and parameters: {'use_smote': False, 'n_estimators': 988, 'max_depth': 36, 'min_samples_split': 31, 'min_samples_leaf': 24, 'max_features': 'log2', 'criterion': 'entropy'}. Best is trial 12 with value: 0.979896713097396.\n",
      "[I 2024-04-29 23:31:09,478] Trial 16 finished with value: 0.971940940901107 and parameters: {'use_smote': False, 'n_estimators': 849, 'max_depth': 28, 'min_samples_split': 10, 'min_samples_leaf': 7, 'max_features': 'log2', 'criterion': 'entropy'}. Best is trial 12 with value: 0.979896713097396.\n",
      "[I 2024-04-29 23:31:27,010] Trial 17 finished with value: 0.9458191776990438 and parameters: {'use_smote': False, 'n_estimators': 745, 'max_depth': 17, 'min_samples_split': 2, 'min_samples_leaf': 32, 'max_features': 'log2', 'criterion': 'entropy'}. Best is trial 12 with value: 0.979896713097396.\n",
      "[I 2024-04-29 23:31:41,138] Trial 18 finished with value: 0.9744660770462625 and parameters: {'use_smote': True, 'n_estimators': 503, 'max_depth': 38, 'min_samples_split': 13, 'min_samples_leaf': 4, 'max_features': 'log2', 'criterion': 'entropy'}. Best is trial 12 with value: 0.979896713097396.\n",
      "[I 2024-04-29 23:31:55,275] Trial 19 finished with value: 0.964011443257134 and parameters: {'use_smote': False, 'n_estimators': 885, 'max_depth': 30, 'min_samples_split': 16, 'min_samples_leaf': 14, 'max_features': 'log2', 'criterion': 'log_loss'}. Best is trial 12 with value: 0.979896713097396.\n",
      "[I 2024-04-29 23:32:03,095] Trial 20 pruned. \n",
      "[I 2024-04-29 23:32:15,323] Trial 21 finished with value: 0.9796011509987972 and parameters: {'use_smote': False, 'n_estimators': 909, 'max_depth': 31, 'min_samples_split': 2, 'min_samples_leaf': 1, 'max_features': 'log2', 'criterion': 'entropy'}. Best is trial 12 with value: 0.979896713097396.\n",
      "[I 2024-04-29 23:32:34,767] Trial 22 finished with value: 0.9760992369104576 and parameters: {'use_smote': False, 'n_estimators': 942, 'max_depth': 34, 'min_samples_split': 4, 'min_samples_leaf': 3, 'max_features': 'log2', 'criterion': 'entropy'}. Best is trial 12 with value: 0.979896713097396.\n",
      "[I 2024-04-29 23:32:51,006] Trial 23 pruned. \n",
      "[I 2024-04-29 23:33:13,234] Trial 24 finished with value: 0.9744161918820888 and parameters: {'use_smote': False, 'n_estimators': 950, 'max_depth': 34, 'min_samples_split': 9, 'min_samples_leaf': 4, 'max_features': 'log2', 'criterion': 'entropy'}. Best is trial 12 with value: 0.979896713097396.\n",
      "[I 2024-04-29 23:33:23,385] Trial 25 finished with value: 0.9798480526166167 and parameters: {'use_smote': False, 'n_estimators': 840, 'max_depth': 26, 'min_samples_split': 3, 'min_samples_leaf': 1, 'max_features': 'log2', 'criterion': 'entropy'}. Best is trial 12 with value: 0.979896713097396.\n",
      "[I 2024-04-29 23:33:31,590] Trial 26 pruned. \n",
      "[I 2024-04-29 23:33:39,173] Trial 27 pruned. \n",
      "[I 2024-04-29 23:33:43,708] Trial 28 pruned. \n",
      "[I 2024-04-29 23:33:52,749] Trial 29 finished with value: 0.973779992607974 and parameters: {'use_smote': False, 'n_estimators': 755, 'max_depth': 26, 'min_samples_split': 6, 'min_samples_leaf': 5, 'max_features': 'log2', 'criterion': 'log_loss'}. Best is trial 12 with value: 0.979896713097396.\n",
      "[I 2024-04-29 23:33:58,078] Trial 30 pruned. \n",
      "[I 2024-04-29 23:34:09,277] Trial 31 finished with value: 0.9796601223804003 and parameters: {'use_smote': False, 'n_estimators': 927, 'max_depth': 32, 'min_samples_split': 2, 'min_samples_leaf': 1, 'max_features': 'log2', 'criterion': 'entropy'}. Best is trial 12 with value: 0.979896713097396.\n",
      "[I 2024-04-29 23:34:21,104] Trial 32 finished with value: 0.976459688265266 and parameters: {'use_smote': False, 'n_estimators': 992, 'max_depth': 29, 'min_samples_split': 7, 'min_samples_leaf': 3, 'max_features': 'log2', 'criterion': 'entropy'}. Best is trial 12 with value: 0.979896713097396.\n",
      "[I 2024-04-29 23:34:27,640] Trial 33 pruned. \n",
      "[I 2024-04-29 23:34:43,908] Trial 34 finished with value: 0.9795169497244276 and parameters: {'use_smote': False, 'n_estimators': 856, 'max_depth': 36, 'min_samples_split': 4, 'min_samples_leaf': 1, 'max_features': 'sqrt', 'criterion': 'entropy'}. Best is trial 12 with value: 0.979896713097396.\n",
      "[I 2024-04-29 23:34:52,823] Trial 35 finished with value: 0.9742233234534294 and parameters: {'use_smote': False, 'n_estimators': 469, 'max_depth': 28, 'min_samples_split': 8, 'min_samples_leaf': 6, 'max_features': 'sqrt', 'criterion': 'entropy'}. Best is trial 12 with value: 0.979896713097396.\n",
      "[I 2024-04-29 23:35:02,220] Trial 36 finished with value: 0.9747515548453503 and parameters: {'use_smote': True, 'n_estimators': 905, 'max_depth': 24, 'min_samples_split': 3, 'min_samples_leaf': 3, 'max_features': 'log2', 'criterion': 'gini'}. Best is trial 12 with value: 0.979896713097396.\n",
      "[I 2024-04-29 23:35:09,978] Trial 37 pruned. \n",
      "[I 2024-04-29 23:35:14,314] Trial 38 pruned. \n",
      "[I 2024-04-29 23:35:20,727] Trial 39 pruned. \n",
      "[I 2024-04-29 23:35:25,085] Trial 40 pruned. \n",
      "[I 2024-04-29 23:35:36,153] Trial 41 finished with value: 0.9797158337387003 and parameters: {'use_smote': False, 'n_estimators': 906, 'max_depth': 32, 'min_samples_split': 2, 'min_samples_leaf': 1, 'max_features': 'log2', 'criterion': 'entropy'}. Best is trial 12 with value: 0.979896713097396.\n",
      "[I 2024-04-29 23:35:47,081] Trial 42 finished with value: 0.978041652669418 and parameters: {'use_smote': False, 'n_estimators': 882, 'max_depth': 31, 'min_samples_split': 3, 'min_samples_leaf': 2, 'max_features': 'log2', 'criterion': 'entropy'}. Best is trial 12 with value: 0.979896713097396.\n",
      "[I 2024-04-29 23:35:57,132] Trial 43 finished with value: 0.9786497884569577 and parameters: {'use_smote': False, 'n_estimators': 788, 'max_depth': 35, 'min_samples_split': 2, 'min_samples_leaf': 2, 'max_features': 'log2', 'criterion': 'entropy'}. Best is trial 12 with value: 0.979896713097396.\n",
      "[I 2024-04-29 23:36:09,563] Trial 44 finished with value: 0.9773400956048544 and parameters: {'use_smote': False, 'n_estimators': 1000, 'max_depth': 32, 'min_samples_split': 7, 'min_samples_leaf': 1, 'max_features': 'log2', 'criterion': 'entropy'}. Best is trial 12 with value: 0.979896713097396.\n",
      "[I 2024-04-29 23:36:21,007] Trial 45 finished with value: 0.9761570616326031 and parameters: {'use_smote': False, 'n_estimators': 954, 'max_depth': 24, 'min_samples_split': 3, 'min_samples_leaf': 3, 'max_features': 'log2', 'criterion': 'log_loss'}. Best is trial 12 with value: 0.979896713097396.\n",
      "[I 2024-04-29 23:36:30,322] Trial 46 pruned. \n",
      "[I 2024-04-29 23:36:36,668] Trial 47 pruned. \n",
      "[I 2024-04-29 23:36:43,231] Trial 48 pruned. \n",
      "[I 2024-04-29 23:36:53,039] Trial 49 finished with value: 0.9783237009618715 and parameters: {'use_smote': False, 'n_estimators': 891, 'max_depth': 30, 'min_samples_split': 2, 'min_samples_leaf': 1, 'max_features': 'log2', 'criterion': 'gini'}. Best is trial 12 with value: 0.979896713097396.\n",
      "[I 2024-04-29 23:36:58,845] Trial 50 pruned. \n",
      "[I 2024-04-29 23:37:10,124] Trial 51 finished with value: 0.9783477321661934 and parameters: {'use_smote': False, 'n_estimators': 917, 'max_depth': 33, 'min_samples_split': 2, 'min_samples_leaf': 2, 'max_features': 'log2', 'criterion': 'entropy'}. Best is trial 12 with value: 0.979896713097396.\n",
      "[I 2024-04-29 23:37:20,772] Trial 52 finished with value: 0.9800834957571887 and parameters: {'use_smote': False, 'n_estimators': 869, 'max_depth': 37, 'min_samples_split': 3, 'min_samples_leaf': 1, 'max_features': 'log2', 'criterion': 'entropy'}. Best is trial 52 with value: 0.9800834957571887.\n",
      "[I 2024-04-29 23:37:30,916] Trial 53 finished with value: 0.9765220789632926 and parameters: {'use_smote': False, 'n_estimators': 849, 'max_depth': 41, 'min_samples_split': 3, 'min_samples_leaf': 3, 'max_features': 'log2', 'criterion': 'entropy'}. Best is trial 52 with value: 0.9800834957571887.\n",
      "[I 2024-04-29 23:37:32,950] Trial 54 finished with value: 0.9776484118639864 and parameters: {'use_smote': False, 'n_estimators': 133, 'max_depth': 37, 'min_samples_split': 7, 'min_samples_leaf': 1, 'max_features': 'log2', 'criterion': 'entropy'}. Best is trial 52 with value: 0.9800834957571887.\n",
      "[I 2024-04-29 23:37:44,295] Trial 55 finished with value: 0.9781651660271061 and parameters: {'use_smote': False, 'n_estimators': 928, 'max_depth': 27, 'min_samples_split': 4, 'min_samples_leaf': 2, 'max_features': 'log2', 'criterion': 'entropy'}. Best is trial 52 with value: 0.9800834957571887.\n",
      "[I 2024-04-29 23:37:49,438] Trial 56 pruned. \n",
      "[I 2024-04-29 23:37:54,166] Trial 57 pruned. \n",
      "[I 2024-04-29 23:38:02,664] Trial 58 pruned. \n",
      "[I 2024-04-29 23:38:10,908] Trial 59 pruned. \n",
      "[I 2024-04-29 23:38:22,381] Trial 60 finished with value: 0.9791775929828841 and parameters: {'use_smote': False, 'n_estimators': 966, 'max_depth': 23, 'min_samples_split': 2, 'min_samples_leaf': 1, 'max_features': 'log2', 'criterion': 'entropy'}. Best is trial 52 with value: 0.9800834957571887.\n",
      "[I 2024-04-29 23:38:33,507] Trial 61 finished with value: 0.9782867948756863 and parameters: {'use_smote': False, 'n_estimators': 905, 'max_depth': 33, 'min_samples_split': 2, 'min_samples_leaf': 2, 'max_features': 'log2', 'criterion': 'entropy'}. Best is trial 52 with value: 0.9800834957571887.\n",
      "[I 2024-04-29 23:38:45,445] Trial 62 finished with value: 0.9800860746092868 and parameters: {'use_smote': False, 'n_estimators': 976, 'max_depth': 32, 'min_samples_split': 3, 'min_samples_leaf': 1, 'max_features': 'log2', 'criterion': 'entropy'}. Best is trial 62 with value: 0.9800860746092868.\n",
      "[I 2024-04-29 23:38:52,321] Trial 63 pruned. \n",
      "[I 2024-04-29 23:39:03,648] Trial 64 finished with value: 0.9775556827956049 and parameters: {'use_smote': False, 'n_estimators': 935, 'max_depth': 29, 'min_samples_split': 5, 'min_samples_leaf': 2, 'max_features': 'log2', 'criterion': 'entropy'}. Best is trial 62 with value: 0.9800860746092868.\n",
      "[I 2024-04-29 23:39:10,690] Trial 65 pruned. \n",
      "[I 2024-04-29 23:39:20,692] Trial 66 finished with value: 0.977577747153742 and parameters: {'use_smote': False, 'n_estimators': 822, 'max_depth': 34, 'min_samples_split': 7, 'min_samples_leaf': 1, 'max_features': 'log2', 'criterion': 'entropy'}. Best is trial 62 with value: 0.9800860746092868.\n",
      "[I 2024-04-29 23:39:26,042] Trial 67 pruned. \n",
      "[I 2024-04-29 23:39:32,927] Trial 68 pruned. \n",
      "[I 2024-04-29 23:39:39,275] Trial 69 pruned. \n",
      "[I 2024-04-29 23:39:57,092] Trial 70 finished with value: 0.9792122484198627 and parameters: {'use_smote': False, 'n_estimators': 938, 'max_depth': 37, 'min_samples_split': 3, 'min_samples_leaf': 2, 'max_features': 'sqrt', 'criterion': 'log_loss'}. Best is trial 62 with value: 0.9800860746092868.\n",
      "[I 2024-04-29 23:40:07,818] Trial 71 finished with value: 0.9797843320101732 and parameters: {'use_smote': False, 'n_estimators': 923, 'max_depth': 35, 'min_samples_split': 2, 'min_samples_leaf': 1, 'max_features': 'log2', 'criterion': 'entropy'}. Best is trial 62 with value: 0.9800860746092868.\n",
      "[I 2024-04-29 23:40:17,168] Trial 72 finished with value: 0.9799011807189567 and parameters: {'use_smote': False, 'n_estimators': 831, 'max_depth': 36, 'min_samples_split': 2, 'min_samples_leaf': 1, 'max_features': 'log2', 'criterion': 'entropy'}. Best is trial 62 with value: 0.9800860746092868.\n",
      "[I 2024-04-29 23:40:33,829] Trial 73 finished with value: 0.9787618226904782 and parameters: {'use_smote': False, 'n_estimators': 834, 'max_depth': 38, 'min_samples_split': 4, 'min_samples_leaf': 1, 'max_features': 'log2', 'criterion': 'entropy'}. Best is trial 62 with value: 0.9800860746092868.\n",
      "[I 2024-04-29 23:40:47,325] Trial 74 pruned. \n",
      "[I 2024-04-29 23:40:53,982] Trial 75 pruned. \n",
      "[I 2024-04-29 23:41:01,769] Trial 76 pruned. \n",
      "[I 2024-04-29 23:41:12,248] Trial 77 finished with value: 0.978222617383954 and parameters: {'use_smote': False, 'n_estimators': 883, 'max_depth': 35, 'min_samples_split': 4, 'min_samples_leaf': 2, 'max_features': 'log2', 'criterion': 'entropy'}. Best is trial 62 with value: 0.9800860746092868.\n",
      "[I 2024-04-29 23:41:14,287] Trial 78 pruned. \n",
      "[I 2024-04-29 23:41:24,703] Trial 79 pruned. \n",
      "[I 2024-04-29 23:41:33,288] Trial 80 pruned. \n",
      "[I 2024-04-29 23:42:00,480] Trial 81 finished with value: 0.9801444390652441 and parameters: {'use_smote': False, 'n_estimators': 954, 'max_depth': 30, 'min_samples_split': 3, 'min_samples_leaf': 1, 'max_features': 'log2', 'criterion': 'entropy'}. Best is trial 81 with value: 0.9801444390652441.\n",
      "[I 2024-04-29 23:42:30,874] Trial 82 finished with value: 0.9779867374996961 and parameters: {'use_smote': False, 'n_estimators': 957, 'max_depth': 31, 'min_samples_split': 3, 'min_samples_leaf': 2, 'max_features': 'log2', 'criterion': 'entropy'}. Best is trial 81 with value: 0.9801444390652441.\n",
      "[I 2024-04-29 23:42:58,938] Trial 83 finished with value: 0.97846777914083 and parameters: {'use_smote': False, 'n_estimators': 906, 'max_depth': 29, 'min_samples_split': 5, 'min_samples_leaf': 1, 'max_features': 'log2', 'criterion': 'entropy'}. Best is trial 81 with value: 0.9801444390652441.\n",
      "[I 2024-04-29 23:43:15,326] Trial 84 pruned. \n",
      "[I 2024-04-29 23:43:29,426] Trial 85 pruned. \n",
      "[I 2024-04-29 23:43:58,975] Trial 86 finished with value: 0.9798403552423673 and parameters: {'use_smote': False, 'n_estimators': 918, 'max_depth': 31, 'min_samples_split': 2, 'min_samples_leaf': 1, 'max_features': 'log2', 'criterion': 'entropy'}. Best is trial 81 with value: 0.9801444390652441.\n",
      "[I 2024-04-29 23:44:15,927] Trial 87 pruned. \n",
      "[I 2024-04-29 23:44:48,888] Trial 88 finished with value: 0.9796904464714056 and parameters: {'use_smote': False, 'n_estimators': 868, 'max_depth': 30, 'min_samples_split': 2, 'min_samples_leaf': 1, 'max_features': 'sqrt', 'criterion': 'entropy'}. Best is trial 81 with value: 0.9801444390652441.\n",
      "[I 2024-04-29 23:45:07,757] Trial 89 pruned. \n",
      "[I 2024-04-29 23:45:24,900] Trial 90 pruned. \n",
      "[I 2024-04-29 23:45:55,695] Trial 91 finished with value: 0.9797513145548576 and parameters: {'use_smote': False, 'n_estimators': 855, 'max_depth': 31, 'min_samples_split': 2, 'min_samples_leaf': 1, 'max_features': 'sqrt', 'criterion': 'entropy'}. Best is trial 81 with value: 0.9801444390652441.\n",
      "[I 2024-04-29 23:46:24,596] Trial 92 finished with value: 0.9789628040778489 and parameters: {'use_smote': False, 'n_estimators': 888, 'max_depth': 34, 'min_samples_split': 2, 'min_samples_leaf': 2, 'max_features': 'sqrt', 'criterion': 'entropy'}. Best is trial 81 with value: 0.9801444390652441.\n",
      "[I 2024-04-29 23:46:56,290] Trial 93 finished with value: 0.9799252250693504 and parameters: {'use_smote': False, 'n_estimators': 940, 'max_depth': 31, 'min_samples_split': 3, 'min_samples_leaf': 1, 'max_features': 'sqrt', 'criterion': 'entropy'}. Best is trial 81 with value: 0.9801444390652441.\n",
      "[I 2024-04-29 23:47:15,639] Trial 94 pruned. \n",
      "[I 2024-04-29 23:47:30,028] Trial 95 pruned. \n",
      "[I 2024-04-29 23:48:03,474] Trial 96 finished with value: 0.9793928365127895 and parameters: {'use_smote': False, 'n_estimators': 988, 'max_depth': 24, 'min_samples_split': 4, 'min_samples_leaf': 1, 'max_features': 'sqrt', 'criterion': 'entropy'}. Best is trial 81 with value: 0.9801444390652441.\n",
      "[I 2024-04-29 23:48:31,373] Trial 97 finished with value: 0.9784789101828351 and parameters: {'use_smote': False, 'n_estimators': 850, 'max_depth': 21, 'min_samples_split': 5, 'min_samples_leaf': 2, 'max_features': 'sqrt', 'criterion': 'entropy'}. Best is trial 81 with value: 0.9801444390652441.\n",
      "[I 2024-04-29 23:48:49,605] Trial 98 pruned. \n",
      "[I 2024-04-29 23:49:03,854] Trial 99 pruned. \n",
      "[I 2024-04-29 23:49:32,974] Trial 100 finished with value: 0.9796874228655625 and parameters: {'use_smote': True, 'n_estimators': 873, 'max_depth': 28, 'min_samples_split': 2, 'min_samples_leaf': 1, 'max_features': 'sqrt', 'criterion': 'entropy'}. Best is trial 81 with value: 0.9801444390652441.\n",
      "[I 2024-04-29 23:50:01,054] Trial 101 finished with value: 0.9796893363453203 and parameters: {'use_smote': False, 'n_estimators': 893, 'max_depth': 32, 'min_samples_split': 3, 'min_samples_leaf': 1, 'max_features': 'sqrt', 'criterion': 'entropy'}. Best is trial 81 with value: 0.9801444390652441.\n",
      "[I 2024-04-29 23:50:28,376] Trial 102 finished with value: 0.9782233002880435 and parameters: {'use_smote': False, 'n_estimators': 966, 'max_depth': 34, 'min_samples_split': 2, 'min_samples_leaf': 2, 'max_features': 'log2', 'criterion': 'entropy'}. Best is trial 81 with value: 0.9801444390652441.\n",
      "[I 2024-04-29 23:50:55,392] Trial 103 finished with value: 0.9789371245178595 and parameters: {'use_smote': False, 'n_estimators': 913, 'max_depth': 35, 'min_samples_split': 4, 'min_samples_leaf': 1, 'max_features': 'log2', 'criterion': 'entropy'}. Best is trial 81 with value: 0.9801444390652441.\n",
      "[I 2024-04-29 23:51:11,874] Trial 104 pruned. \n",
      "[I 2024-04-29 23:51:26,710] Trial 105 pruned. \n",
      "[I 2024-04-29 23:51:56,341] Trial 106 finished with value: 0.9788762263601372 and parameters: {'use_smote': False, 'n_estimators': 977, 'max_depth': 39, 'min_samples_split': 4, 'min_samples_leaf': 1, 'max_features': 'log2', 'criterion': 'entropy'}. Best is trial 81 with value: 0.9801444390652441.\n",
      "[I 2024-04-29 23:52:08,394] Trial 107 pruned. \n",
      "[I 2024-04-29 23:52:23,179] Trial 108 pruned. \n",
      "[I 2024-04-29 23:52:39,472] Trial 109 pruned. \n",
      "[I 2024-04-29 23:52:59,863] Trial 110 pruned. \n",
      "[I 2024-04-29 23:53:31,523] Trial 111 finished with value: 0.979031835414316 and parameters: {'use_smote': False, 'n_estimators': 924, 'max_depth': 30, 'min_samples_split': 2, 'min_samples_leaf': 2, 'max_features': 'sqrt', 'criterion': 'entropy'}. Best is trial 81 with value: 0.9801444390652441.\n",
      "[I 2024-04-29 23:54:01,745] Trial 112 finished with value: 0.9797461428818016 and parameters: {'use_smote': False, 'n_estimators': 875, 'max_depth': 27, 'min_samples_split': 2, 'min_samples_leaf': 1, 'max_features': 'sqrt', 'criterion': 'entropy'}. Best is trial 81 with value: 0.9801444390652441.\n",
      "[I 2024-04-29 23:54:17,519] Trial 113 pruned. \n",
      "[I 2024-04-29 23:54:38,121] Trial 114 pruned. \n",
      "[I 2024-04-29 23:55:08,626] Trial 115 finished with value: 0.9795757390482759 and parameters: {'use_smote': False, 'n_estimators': 886, 'max_depth': 31, 'min_samples_split': 5, 'min_samples_leaf': 1, 'max_features': 'sqrt', 'criterion': 'entropy'}. Best is trial 81 with value: 0.9801444390652441.\n",
      "[I 2024-04-29 23:55:24,675] Trial 116 pruned. \n",
      "[I 2024-04-29 23:55:44,124] Trial 117 pruned. \n",
      "[I 2024-04-29 23:56:00,026] Trial 118 pruned. \n",
      "[I 2024-04-29 23:56:16,948] Trial 119 pruned. \n",
      "[I 2024-04-29 23:56:30,915] Trial 120 pruned. \n",
      "[I 2024-04-29 23:56:59,497] Trial 121 finished with value: 0.9798142452213158 and parameters: {'use_smote': False, 'n_estimators': 857, 'max_depth': 33, 'min_samples_split': 2, 'min_samples_leaf': 1, 'max_features': 'sqrt', 'criterion': 'entropy'}. Best is trial 81 with value: 0.9801444390652441.\n",
      "[I 2024-04-29 23:57:30,272] Trial 122 finished with value: 0.9789017610070605 and parameters: {'use_smote': False, 'n_estimators': 902, 'max_depth': 33, 'min_samples_split': 2, 'min_samples_leaf': 2, 'max_features': 'sqrt', 'criterion': 'entropy'}. Best is trial 81 with value: 0.9801444390652441.\n",
      "[I 2024-04-29 23:57:59,169] Trial 123 finished with value: 0.9799231711386638 and parameters: {'use_smote': False, 'n_estimators': 849, 'max_depth': 32, 'min_samples_split': 3, 'min_samples_leaf': 1, 'max_features': 'sqrt', 'criterion': 'entropy'}. Best is trial 81 with value: 0.9801444390652441.\n",
      "[I 2024-04-29 23:58:27,219] Trial 124 finished with value: 0.9799815728268998 and parameters: {'use_smote': False, 'n_estimators': 849, 'max_depth': 34, 'min_samples_split': 3, 'min_samples_leaf': 1, 'max_features': 'sqrt', 'criterion': 'entropy'}. Best is trial 81 with value: 0.9801444390652441.\n",
      "[I 2024-04-29 23:58:56,537] Trial 125 finished with value: 0.9789095750017213 and parameters: {'use_smote': False, 'n_estimators': 851, 'max_depth': 35, 'min_samples_split': 4, 'min_samples_leaf': 2, 'max_features': 'sqrt', 'criterion': 'entropy'}. Best is trial 81 with value: 0.9801444390652441.\n",
      "[I 2024-04-29 23:59:12,499] Trial 126 pruned. \n",
      "[I 2024-04-29 23:59:29,838] Trial 127 pruned. \n",
      "[I 2024-04-29 23:59:46,252] Trial 128 pruned. \n",
      "[I 2024-04-30 00:00:04,760] Trial 129 pruned. \n",
      "[I 2024-04-30 00:00:37,465] Trial 130 finished with value: 0.9799888364565243 and parameters: {'use_smote': False, 'n_estimators': 927, 'max_depth': 33, 'min_samples_split': 3, 'min_samples_leaf': 1, 'max_features': 'sqrt', 'criterion': 'log_loss'}. Best is trial 81 with value: 0.9801444390652441.\n",
      "[I 2024-04-30 00:01:12,082] Trial 131 finished with value: 0.9798061255965693 and parameters: {'use_smote': False, 'n_estimators': 857, 'max_depth': 33, 'min_samples_split': 3, 'min_samples_leaf': 1, 'max_features': 'sqrt', 'criterion': 'log_loss'}. Best is trial 81 with value: 0.9801444390652441.\n",
      "[I 2024-04-30 00:01:42,578] Trial 132 finished with value: 0.9791512075934078 and parameters: {'use_smote': False, 'n_estimators': 930, 'max_depth': 50, 'min_samples_split': 4, 'min_samples_leaf': 2, 'max_features': 'sqrt', 'criterion': 'log_loss'}. Best is trial 81 with value: 0.9801444390652441.\n",
      "[I 2024-04-30 00:02:01,580] Trial 133 finished with value: 0.9798621022547673 and parameters: {'use_smote': False, 'n_estimators': 811, 'max_depth': 34, 'min_samples_split': 3, 'min_samples_leaf': 1, 'max_features': 'sqrt', 'criterion': 'log_loss'}. Best is trial 81 with value: 0.9801444390652441.\n",
      "[I 2024-04-30 00:02:28,956] Trial 134 finished with value: 0.9789068943681591 and parameters: {'use_smote': False, 'n_estimators': 814, 'max_depth': 33, 'min_samples_split': 3, 'min_samples_leaf': 2, 'max_features': 'sqrt', 'criterion': 'log_loss'}. Best is trial 81 with value: 0.9801444390652441.\n",
      "[I 2024-04-30 00:02:57,247] Trial 135 finished with value: 0.9798645098003507 and parameters: {'use_smote': False, 'n_estimators': 890, 'max_depth': 34, 'min_samples_split': 3, 'min_samples_leaf': 1, 'max_features': 'sqrt', 'criterion': 'log_loss'}. Best is trial 81 with value: 0.9801444390652441.\n",
      "[I 2024-04-30 00:03:15,017] Trial 136 pruned. \n",
      "[I 2024-04-30 00:03:32,117] Trial 137 pruned. \n",
      "[I 2024-04-30 00:03:50,947] Trial 138 pruned. \n",
      "[I 2024-04-30 00:04:22,785] Trial 139 finished with value: 0.9797636741925249 and parameters: {'use_smote': False, 'n_estimators': 978, 'max_depth': 35, 'min_samples_split': 5, 'min_samples_leaf': 1, 'max_features': 'sqrt', 'criterion': 'log_loss'}. Best is trial 81 with value: 0.9801444390652441.\n",
      "[I 2024-04-30 00:04:48,986] Trial 140 finished with value: 0.9790873803999626 and parameters: {'use_smote': False, 'n_estimators': 777, 'max_depth': 34, 'min_samples_split': 4, 'min_samples_leaf': 2, 'max_features': 'sqrt', 'criterion': 'log_loss'}. Best is trial 81 with value: 0.9801444390652441.\n",
      "[I 2024-04-30 00:05:15,104] Trial 141 finished with value: 0.9798649463114689 and parameters: {'use_smote': False, 'n_estimators': 699, 'max_depth': 33, 'min_samples_split': 3, 'min_samples_leaf': 1, 'max_features': 'sqrt', 'criterion': 'log_loss'}. Best is trial 81 with value: 0.9801444390652441.\n",
      "[I 2024-04-30 00:05:33,655] Trial 142 pruned. \n",
      "[I 2024-04-30 00:05:48,533] Trial 143 pruned. \n",
      "[I 2024-04-30 00:06:14,365] Trial 144 finished with value: 0.979925508182764 and parameters: {'use_smote': False, 'n_estimators': 686, 'max_depth': 32, 'min_samples_split': 3, 'min_samples_leaf': 1, 'max_features': 'sqrt', 'criterion': 'log_loss'}. Best is trial 81 with value: 0.9801444390652441.\n",
      "[I 2024-04-30 00:06:42,151] Trial 145 finished with value: 0.9789092104397478 and parameters: {'use_smote': False, 'n_estimators': 749, 'max_depth': 32, 'min_samples_split': 5, 'min_samples_leaf': 2, 'max_features': 'sqrt', 'criterion': 'log_loss'}. Best is trial 81 with value: 0.9801444390652441.\n",
      "[I 2024-04-30 00:07:08,640] Trial 146 finished with value: 0.979821471377598 and parameters: {'use_smote': True, 'n_estimators': 730, 'max_depth': 30, 'min_samples_split': 4, 'min_samples_leaf': 1, 'max_features': 'sqrt', 'criterion': 'log_loss'}. Best is trial 81 with value: 0.9801444390652441.\n",
      "[I 2024-04-30 00:07:19,860] Trial 147 pruned. \n",
      "[I 2024-04-30 00:07:41,512] Trial 148 finished with value: 0.979943797250899 and parameters: {'use_smote': False, 'n_estimators': 654, 'max_depth': 31, 'min_samples_split': 4, 'min_samples_leaf': 1, 'max_features': 'sqrt', 'criterion': 'log_loss'}. Best is trial 81 with value: 0.9801444390652441.\n",
      "[I 2024-04-30 00:07:55,977] Trial 149 pruned. \n",
      "[I 2024-04-30 00:08:16,317] Trial 150 finished with value: 0.9793204892395962 and parameters: {'use_smote': False, 'n_estimators': 617, 'max_depth': 34, 'min_samples_split': 3, 'min_samples_leaf': 1, 'max_features': 'sqrt', 'criterion': 'log_loss'}. Best is trial 81 with value: 0.9801444390652441.\n",
      "[I 2024-04-30 00:08:38,761] Trial 151 finished with value: 0.9796205936764928 and parameters: {'use_smote': False, 'n_estimators': 651, 'max_depth': 32, 'min_samples_split': 3, 'min_samples_leaf': 1, 'max_features': 'sqrt', 'criterion': 'log_loss'}. Best is trial 81 with value: 0.9801444390652441.\n",
      "[I 2024-04-30 00:08:53,065] Trial 152 pruned. \n",
      "[I 2024-04-30 00:09:13,445] Trial 153 finished with value: 0.9794018728022182 and parameters: {'use_smote': False, 'n_estimators': 590, 'max_depth': 30, 'min_samples_split': 4, 'min_samples_leaf': 1, 'max_features': 'sqrt', 'criterion': 'log_loss'}. Best is trial 81 with value: 0.9801444390652441.\n",
      "[I 2024-04-30 00:09:25,876] Trial 154 pruned. \n",
      "[I 2024-04-30 00:09:39,030] Trial 155 pruned. \n",
      "[I 2024-04-30 00:10:02,756] Trial 156 finished with value: 0.9798149060119709 and parameters: {'use_smote': False, 'n_estimators': 685, 'max_depth': 32, 'min_samples_split': 2, 'min_samples_leaf': 1, 'max_features': 'sqrt', 'criterion': 'log_loss'}. Best is trial 81 with value: 0.9801444390652441.\n",
      "[I 2024-04-30 00:10:20,718] Trial 157 pruned. \n",
      "[I 2024-04-30 00:10:52,716] Trial 158 finished with value: 0.9792097801199754 and parameters: {'use_smote': False, 'n_estimators': 957, 'max_depth': 30, 'min_samples_split': 3, 'min_samples_leaf': 2, 'max_features': 'sqrt', 'criterion': 'log_loss'}. Best is trial 81 with value: 0.9801444390652441.\n",
      "[I 2024-04-30 00:11:03,370] Trial 159 pruned. \n",
      "[I 2024-04-30 00:11:12,416] Trial 160 pruned. \n",
      "[I 2024-04-30 00:11:35,160] Trial 161 finished with value: 0.9798827989734269 and parameters: {'use_smote': True, 'n_estimators': 681, 'max_depth': 30, 'min_samples_split': 4, 'min_samples_leaf': 1, 'max_features': 'sqrt', 'criterion': 'log_loss'}. Best is trial 81 with value: 0.9801444390652441.\n",
      "[I 2024-04-30 00:11:59,862] Trial 162 finished with value: 0.980101436718312 and parameters: {'use_smote': True, 'n_estimators': 708, 'max_depth': 34, 'min_samples_split': 3, 'min_samples_leaf': 1, 'max_features': 'sqrt', 'criterion': 'log_loss'}. Best is trial 81 with value: 0.9801444390652441.\n",
      "[I 2024-04-30 00:12:25,566] Trial 163 finished with value: 0.9798218247452934 and parameters: {'use_smote': True, 'n_estimators': 728, 'max_depth': 34, 'min_samples_split': 4, 'min_samples_leaf': 1, 'max_features': 'sqrt', 'criterion': 'log_loss'}. Best is trial 81 with value: 0.9801444390652441.\n",
      "[I 2024-04-30 00:12:40,113] Trial 164 pruned. \n",
      "[I 2024-04-30 00:13:03,863] Trial 165 finished with value: 0.97976100221398 and parameters: {'use_smote': True, 'n_estimators': 684, 'max_depth': 34, 'min_samples_split': 4, 'min_samples_leaf': 1, 'max_features': 'sqrt', 'criterion': 'log_loss'}. Best is trial 81 with value: 0.9801444390652441.\n",
      "[I 2024-04-30 00:13:18,566] Trial 166 pruned. \n",
      "[I 2024-04-30 00:13:31,578] Trial 167 pruned. \n",
      "[I 2024-04-30 00:13:55,031] Trial 168 finished with value: 0.9798803068457099 and parameters: {'use_smote': True, 'n_estimators': 672, 'max_depth': 28, 'min_samples_split': 4, 'min_samples_leaf': 1, 'max_features': 'sqrt', 'criterion': 'log_loss'}. Best is trial 81 with value: 0.9801444390652441.\n",
      "[I 2024-04-30 00:14:08,912] Trial 169 pruned. \n",
      "[I 2024-04-30 00:14:29,601] Trial 170 pruned. \n",
      "[I 2024-04-30 00:14:52,901] Trial 171 finished with value: 0.9797025717348558 and parameters: {'use_smote': True, 'n_estimators': 658, 'max_depth': 26, 'min_samples_split': 4, 'min_samples_leaf': 1, 'max_features': 'sqrt', 'criterion': 'log_loss'}. Best is trial 81 with value: 0.9801444390652441.\n",
      "[I 2024-04-30 00:15:13,816] Trial 172 finished with value: 0.9798652707898438 and parameters: {'use_smote': True, 'n_estimators': 574, 'max_depth': 28, 'min_samples_split': 2, 'min_samples_leaf': 1, 'max_features': 'sqrt', 'criterion': 'log_loss'}. Best is trial 81 with value: 0.9801444390652441.\n",
      "[I 2024-04-30 00:15:34,140] Trial 173 finished with value: 0.9801092857705911 and parameters: {'use_smote': True, 'n_estimators': 573, 'max_depth': 37, 'min_samples_split': 2, 'min_samples_leaf': 1, 'max_features': 'sqrt', 'criterion': 'log_loss'}. Best is trial 81 with value: 0.9801444390652441.\n",
      "[I 2024-04-30 00:15:46,376] Trial 174 pruned. \n",
      "[I 2024-04-30 00:16:03,642] Trial 175 pruned. \n",
      "[I 2024-04-30 00:16:15,486] Trial 176 pruned. \n",
      "[I 2024-04-30 00:16:26,136] Trial 177 pruned. \n",
      "[I 2024-04-30 00:16:38,303] Trial 178 pruned. \n",
      "[I 2024-04-30 00:16:50,226] Trial 179 pruned. \n",
      "[I 2024-04-30 00:17:01,888] Trial 180 pruned. \n",
      "[I 2024-04-30 00:17:26,054] Trial 181 finished with value: 0.9798646880026715 and parameters: {'use_smote': True, 'n_estimators': 675, 'max_depth': 36, 'min_samples_split': 3, 'min_samples_leaf': 1, 'max_features': 'sqrt', 'criterion': 'log_loss'}. Best is trial 81 with value: 0.9801444390652441.\n",
      "[I 2024-04-30 00:17:44,601] Trial 182 pruned. \n",
      "[I 2024-04-30 00:18:06,280] Trial 183 finished with value: 0.9799457935925178 and parameters: {'use_smote': True, 'n_estimators': 630, 'max_depth': 37, 'min_samples_split': 4, 'min_samples_leaf': 1, 'max_features': 'sqrt', 'criterion': 'log_loss'}. Best is trial 81 with value: 0.9801444390652441.\n",
      "[I 2024-04-30 00:18:20,050] Trial 184 pruned. \n",
      "[I 2024-04-30 00:18:44,414] Trial 185 finished with value: 0.9798218928937293 and parameters: {'use_smote': True, 'n_estimators': 698, 'max_depth': 37, 'min_samples_split': 4, 'min_samples_leaf': 1, 'max_features': 'sqrt', 'criterion': 'log_loss'}. Best is trial 81 with value: 0.9801444390652441.\n",
      "[I 2024-04-30 00:18:56,277] Trial 186 pruned. \n",
      "[I 2024-04-30 00:19:19,513] Trial 187 finished with value: 0.9796905718969585 and parameters: {'use_smote': True, 'n_estimators': 670, 'max_depth': 37, 'min_samples_split': 2, 'min_samples_leaf': 1, 'max_features': 'sqrt', 'criterion': 'log_loss'}. Best is trial 81 with value: 0.9801444390652441.\n",
      "[I 2024-04-30 00:19:41,340] Trial 188 finished with value: 0.9800602790211063 and parameters: {'use_smote': True, 'n_estimators': 634, 'max_depth': 35, 'min_samples_split': 4, 'min_samples_leaf': 1, 'max_features': 'sqrt', 'criterion': 'log_loss'}. Best is trial 81 with value: 0.9801444390652441.\n",
      "[I 2024-04-30 00:19:57,755] Trial 189 pruned. \n",
      "[I 2024-04-30 00:20:11,604] Trial 190 pruned. \n",
      "[I 2024-04-30 00:20:33,208] Trial 191 finished with value: 0.9796817853584482 and parameters: {'use_smote': True, 'n_estimators': 651, 'max_depth': 36, 'min_samples_split': 3, 'min_samples_leaf': 1, 'max_features': 'sqrt', 'criterion': 'log_loss'}. Best is trial 81 with value: 0.9801444390652441.\n",
      "[I 2024-04-30 00:20:53,051] Trial 192 pruned. \n",
      "[I 2024-04-30 00:21:12,004] Trial 193 finished with value: 0.9791522568351472 and parameters: {'use_smote': True, 'n_estimators': 521, 'max_depth': 35, 'min_samples_split': 4, 'min_samples_leaf': 2, 'max_features': 'sqrt', 'criterion': 'log_loss'}. Best is trial 81 with value: 0.9801444390652441.\n",
      "[I 2024-04-30 00:21:36,936] Trial 194 finished with value: 0.980101436718312 and parameters: {'use_smote': True, 'n_estimators': 708, 'max_depth': 32, 'min_samples_split': 3, 'min_samples_leaf': 1, 'max_features': 'sqrt', 'criterion': 'log_loss'}. Best is trial 81 with value: 0.9801444390652441.\n",
      "[I 2024-04-30 00:22:01,252] Trial 195 finished with value: 0.9798779742019652 and parameters: {'use_smote': True, 'n_estimators': 705, 'max_depth': 32, 'min_samples_split': 2, 'min_samples_leaf': 1, 'max_features': 'sqrt', 'criterion': 'log_loss'}. Best is trial 81 with value: 0.9801444390652441.\n",
      "[I 2024-04-30 00:22:23,862] Trial 196 finished with value: 0.9804165732206183 and parameters: {'use_smote': True, 'n_estimators': 615, 'max_depth': 32, 'min_samples_split': 2, 'min_samples_leaf': 1, 'max_features': 'sqrt', 'criterion': 'log_loss'}. Best is trial 196 with value: 0.9804165732206183.\n",
      "[I 2024-04-30 00:22:36,877] Trial 197 pruned. \n",
      "[I 2024-04-30 00:22:51,826] Trial 198 pruned. \n",
      "[I 2024-04-30 00:23:09,821] Trial 199 pruned. \n"
     ]
    }
   ],
   "source": [
    "study_no_feat_eng.optimize(\n",
    "    objective_no_feat_eng, \n",
    "    n_trials=NUM_TRIALS,\n",
    "    timeout = 20 * 60 * 60, # timeout after 20 hours\n",
    "    show_progress_bar=True\n",
    ")"
   ]
  },
  {
   "cell_type": "code",
   "execution_count": 8,
   "metadata": {},
   "outputs": [
    {
     "name": "stdout",
     "output_type": "stream",
     "text": [
      "{'use_smote': True, 'n_estimators': 615, 'max_depth': 32, 'min_samples_split': 2, 'min_samples_leaf': 1, 'max_features': 'sqrt', 'criterion': 'log_loss'}\n"
     ]
    }
   ],
   "source": [
    "best_params = study_no_feat_eng.best_params\n",
    "    \n",
    "print(best_params)\n",
    "\n",
    "if \"random_forest_no_feat_eng\" in config:\n",
    "    config[\"random_forest_no_feat_eng\"].update(best_params)\n",
    "else:\n",
    "    config[\"random_forest_no_feat_eng\"] = best_params\n",
    "\n",
    "# see: https://stackoverflow.com/questions/12470665/how-can-i-write-data-in-yaml-format-in-a-file\n",
    "with open(\"classical_ml_config.yaml\", \"w\") as file:\n",
    "    yaml.dump(config, file, default_flow_style=False)"
   ]
  },
  {
   "cell_type": "code",
   "execution_count": 9,
   "metadata": {},
   "outputs": [
    {
     "data": {
      "application/vnd.plotly.v1+json": {
       "config": {
        "plotlyServerURL": "https://plot.ly"
       },
       "data": [
        {
         "cliponaxis": false,
         "hovertemplate": [
          "criterion (CategoricalDistribution): 0.012249514636470395<extra></extra>",
          "use_smote (CategoricalDistribution): 0.01318404447523731<extra></extra>",
          "min_samples_split (IntDistribution): 0.014112821962132321<extra></extra>",
          "n_estimators (IntDistribution): 0.02190660512585379<extra></extra>",
          "max_features (CategoricalDistribution): 0.024110644245403014<extra></extra>",
          "max_depth (IntDistribution): 0.08460675500813403<extra></extra>",
          "min_samples_leaf (IntDistribution): 0.8298296145467691<extra></extra>"
         ],
         "name": "Objective Value",
         "orientation": "h",
         "text": [
          "0.01",
          "0.01",
          "0.01",
          "0.02",
          "0.02",
          "0.08",
          "0.83"
         ],
         "textposition": "outside",
         "type": "bar",
         "x": [
          0.012249514636470395,
          0.01318404447523731,
          0.014112821962132321,
          0.02190660512585379,
          0.024110644245403014,
          0.08460675500813403,
          0.8298296145467691
         ],
         "y": [
          "criterion",
          "use_smote",
          "min_samples_split",
          "n_estimators",
          "max_features",
          "max_depth",
          "min_samples_leaf"
         ]
        }
       ],
       "layout": {
        "template": {
         "data": {
          "bar": [
           {
            "error_x": {
             "color": "#2a3f5f"
            },
            "error_y": {
             "color": "#2a3f5f"
            },
            "marker": {
             "line": {
              "color": "#E5ECF6",
              "width": 0.5
             },
             "pattern": {
              "fillmode": "overlay",
              "size": 10,
              "solidity": 0.2
             }
            },
            "type": "bar"
           }
          ],
          "barpolar": [
           {
            "marker": {
             "line": {
              "color": "#E5ECF6",
              "width": 0.5
             },
             "pattern": {
              "fillmode": "overlay",
              "size": 10,
              "solidity": 0.2
             }
            },
            "type": "barpolar"
           }
          ],
          "carpet": [
           {
            "aaxis": {
             "endlinecolor": "#2a3f5f",
             "gridcolor": "white",
             "linecolor": "white",
             "minorgridcolor": "white",
             "startlinecolor": "#2a3f5f"
            },
            "baxis": {
             "endlinecolor": "#2a3f5f",
             "gridcolor": "white",
             "linecolor": "white",
             "minorgridcolor": "white",
             "startlinecolor": "#2a3f5f"
            },
            "type": "carpet"
           }
          ],
          "choropleth": [
           {
            "colorbar": {
             "outlinewidth": 0,
             "ticks": ""
            },
            "type": "choropleth"
           }
          ],
          "contour": [
           {
            "colorbar": {
             "outlinewidth": 0,
             "ticks": ""
            },
            "colorscale": [
             [
              0,
              "#0d0887"
             ],
             [
              0.1111111111111111,
              "#46039f"
             ],
             [
              0.2222222222222222,
              "#7201a8"
             ],
             [
              0.3333333333333333,
              "#9c179e"
             ],
             [
              0.4444444444444444,
              "#bd3786"
             ],
             [
              0.5555555555555556,
              "#d8576b"
             ],
             [
              0.6666666666666666,
              "#ed7953"
             ],
             [
              0.7777777777777778,
              "#fb9f3a"
             ],
             [
              0.8888888888888888,
              "#fdca26"
             ],
             [
              1,
              "#f0f921"
             ]
            ],
            "type": "contour"
           }
          ],
          "contourcarpet": [
           {
            "colorbar": {
             "outlinewidth": 0,
             "ticks": ""
            },
            "type": "contourcarpet"
           }
          ],
          "heatmap": [
           {
            "colorbar": {
             "outlinewidth": 0,
             "ticks": ""
            },
            "colorscale": [
             [
              0,
              "#0d0887"
             ],
             [
              0.1111111111111111,
              "#46039f"
             ],
             [
              0.2222222222222222,
              "#7201a8"
             ],
             [
              0.3333333333333333,
              "#9c179e"
             ],
             [
              0.4444444444444444,
              "#bd3786"
             ],
             [
              0.5555555555555556,
              "#d8576b"
             ],
             [
              0.6666666666666666,
              "#ed7953"
             ],
             [
              0.7777777777777778,
              "#fb9f3a"
             ],
             [
              0.8888888888888888,
              "#fdca26"
             ],
             [
              1,
              "#f0f921"
             ]
            ],
            "type": "heatmap"
           }
          ],
          "heatmapgl": [
           {
            "colorbar": {
             "outlinewidth": 0,
             "ticks": ""
            },
            "colorscale": [
             [
              0,
              "#0d0887"
             ],
             [
              0.1111111111111111,
              "#46039f"
             ],
             [
              0.2222222222222222,
              "#7201a8"
             ],
             [
              0.3333333333333333,
              "#9c179e"
             ],
             [
              0.4444444444444444,
              "#bd3786"
             ],
             [
              0.5555555555555556,
              "#d8576b"
             ],
             [
              0.6666666666666666,
              "#ed7953"
             ],
             [
              0.7777777777777778,
              "#fb9f3a"
             ],
             [
              0.8888888888888888,
              "#fdca26"
             ],
             [
              1,
              "#f0f921"
             ]
            ],
            "type": "heatmapgl"
           }
          ],
          "histogram": [
           {
            "marker": {
             "pattern": {
              "fillmode": "overlay",
              "size": 10,
              "solidity": 0.2
             }
            },
            "type": "histogram"
           }
          ],
          "histogram2d": [
           {
            "colorbar": {
             "outlinewidth": 0,
             "ticks": ""
            },
            "colorscale": [
             [
              0,
              "#0d0887"
             ],
             [
              0.1111111111111111,
              "#46039f"
             ],
             [
              0.2222222222222222,
              "#7201a8"
             ],
             [
              0.3333333333333333,
              "#9c179e"
             ],
             [
              0.4444444444444444,
              "#bd3786"
             ],
             [
              0.5555555555555556,
              "#d8576b"
             ],
             [
              0.6666666666666666,
              "#ed7953"
             ],
             [
              0.7777777777777778,
              "#fb9f3a"
             ],
             [
              0.8888888888888888,
              "#fdca26"
             ],
             [
              1,
              "#f0f921"
             ]
            ],
            "type": "histogram2d"
           }
          ],
          "histogram2dcontour": [
           {
            "colorbar": {
             "outlinewidth": 0,
             "ticks": ""
            },
            "colorscale": [
             [
              0,
              "#0d0887"
             ],
             [
              0.1111111111111111,
              "#46039f"
             ],
             [
              0.2222222222222222,
              "#7201a8"
             ],
             [
              0.3333333333333333,
              "#9c179e"
             ],
             [
              0.4444444444444444,
              "#bd3786"
             ],
             [
              0.5555555555555556,
              "#d8576b"
             ],
             [
              0.6666666666666666,
              "#ed7953"
             ],
             [
              0.7777777777777778,
              "#fb9f3a"
             ],
             [
              0.8888888888888888,
              "#fdca26"
             ],
             [
              1,
              "#f0f921"
             ]
            ],
            "type": "histogram2dcontour"
           }
          ],
          "mesh3d": [
           {
            "colorbar": {
             "outlinewidth": 0,
             "ticks": ""
            },
            "type": "mesh3d"
           }
          ],
          "parcoords": [
           {
            "line": {
             "colorbar": {
              "outlinewidth": 0,
              "ticks": ""
             }
            },
            "type": "parcoords"
           }
          ],
          "pie": [
           {
            "automargin": true,
            "type": "pie"
           }
          ],
          "scatter": [
           {
            "fillpattern": {
             "fillmode": "overlay",
             "size": 10,
             "solidity": 0.2
            },
            "type": "scatter"
           }
          ],
          "scatter3d": [
           {
            "line": {
             "colorbar": {
              "outlinewidth": 0,
              "ticks": ""
             }
            },
            "marker": {
             "colorbar": {
              "outlinewidth": 0,
              "ticks": ""
             }
            },
            "type": "scatter3d"
           }
          ],
          "scattercarpet": [
           {
            "marker": {
             "colorbar": {
              "outlinewidth": 0,
              "ticks": ""
             }
            },
            "type": "scattercarpet"
           }
          ],
          "scattergeo": [
           {
            "marker": {
             "colorbar": {
              "outlinewidth": 0,
              "ticks": ""
             }
            },
            "type": "scattergeo"
           }
          ],
          "scattergl": [
           {
            "marker": {
             "colorbar": {
              "outlinewidth": 0,
              "ticks": ""
             }
            },
            "type": "scattergl"
           }
          ],
          "scattermapbox": [
           {
            "marker": {
             "colorbar": {
              "outlinewidth": 0,
              "ticks": ""
             }
            },
            "type": "scattermapbox"
           }
          ],
          "scatterpolar": [
           {
            "marker": {
             "colorbar": {
              "outlinewidth": 0,
              "ticks": ""
             }
            },
            "type": "scatterpolar"
           }
          ],
          "scatterpolargl": [
           {
            "marker": {
             "colorbar": {
              "outlinewidth": 0,
              "ticks": ""
             }
            },
            "type": "scatterpolargl"
           }
          ],
          "scatterternary": [
           {
            "marker": {
             "colorbar": {
              "outlinewidth": 0,
              "ticks": ""
             }
            },
            "type": "scatterternary"
           }
          ],
          "surface": [
           {
            "colorbar": {
             "outlinewidth": 0,
             "ticks": ""
            },
            "colorscale": [
             [
              0,
              "#0d0887"
             ],
             [
              0.1111111111111111,
              "#46039f"
             ],
             [
              0.2222222222222222,
              "#7201a8"
             ],
             [
              0.3333333333333333,
              "#9c179e"
             ],
             [
              0.4444444444444444,
              "#bd3786"
             ],
             [
              0.5555555555555556,
              "#d8576b"
             ],
             [
              0.6666666666666666,
              "#ed7953"
             ],
             [
              0.7777777777777778,
              "#fb9f3a"
             ],
             [
              0.8888888888888888,
              "#fdca26"
             ],
             [
              1,
              "#f0f921"
             ]
            ],
            "type": "surface"
           }
          ],
          "table": [
           {
            "cells": {
             "fill": {
              "color": "#EBF0F8"
             },
             "line": {
              "color": "white"
             }
            },
            "header": {
             "fill": {
              "color": "#C8D4E3"
             },
             "line": {
              "color": "white"
             }
            },
            "type": "table"
           }
          ]
         },
         "layout": {
          "annotationdefaults": {
           "arrowcolor": "#2a3f5f",
           "arrowhead": 0,
           "arrowwidth": 1
          },
          "autotypenumbers": "strict",
          "coloraxis": {
           "colorbar": {
            "outlinewidth": 0,
            "ticks": ""
           }
          },
          "colorscale": {
           "diverging": [
            [
             0,
             "#8e0152"
            ],
            [
             0.1,
             "#c51b7d"
            ],
            [
             0.2,
             "#de77ae"
            ],
            [
             0.3,
             "#f1b6da"
            ],
            [
             0.4,
             "#fde0ef"
            ],
            [
             0.5,
             "#f7f7f7"
            ],
            [
             0.6,
             "#e6f5d0"
            ],
            [
             0.7,
             "#b8e186"
            ],
            [
             0.8,
             "#7fbc41"
            ],
            [
             0.9,
             "#4d9221"
            ],
            [
             1,
             "#276419"
            ]
           ],
           "sequential": [
            [
             0,
             "#0d0887"
            ],
            [
             0.1111111111111111,
             "#46039f"
            ],
            [
             0.2222222222222222,
             "#7201a8"
            ],
            [
             0.3333333333333333,
             "#9c179e"
            ],
            [
             0.4444444444444444,
             "#bd3786"
            ],
            [
             0.5555555555555556,
             "#d8576b"
            ],
            [
             0.6666666666666666,
             "#ed7953"
            ],
            [
             0.7777777777777778,
             "#fb9f3a"
            ],
            [
             0.8888888888888888,
             "#fdca26"
            ],
            [
             1,
             "#f0f921"
            ]
           ],
           "sequentialminus": [
            [
             0,
             "#0d0887"
            ],
            [
             0.1111111111111111,
             "#46039f"
            ],
            [
             0.2222222222222222,
             "#7201a8"
            ],
            [
             0.3333333333333333,
             "#9c179e"
            ],
            [
             0.4444444444444444,
             "#bd3786"
            ],
            [
             0.5555555555555556,
             "#d8576b"
            ],
            [
             0.6666666666666666,
             "#ed7953"
            ],
            [
             0.7777777777777778,
             "#fb9f3a"
            ],
            [
             0.8888888888888888,
             "#fdca26"
            ],
            [
             1,
             "#f0f921"
            ]
           ]
          },
          "colorway": [
           "#636efa",
           "#EF553B",
           "#00cc96",
           "#ab63fa",
           "#FFA15A",
           "#19d3f3",
           "#FF6692",
           "#B6E880",
           "#FF97FF",
           "#FECB52"
          ],
          "font": {
           "color": "#2a3f5f"
          },
          "geo": {
           "bgcolor": "white",
           "lakecolor": "white",
           "landcolor": "#E5ECF6",
           "showlakes": true,
           "showland": true,
           "subunitcolor": "white"
          },
          "hoverlabel": {
           "align": "left"
          },
          "hovermode": "closest",
          "mapbox": {
           "style": "light"
          },
          "paper_bgcolor": "white",
          "plot_bgcolor": "#E5ECF6",
          "polar": {
           "angularaxis": {
            "gridcolor": "white",
            "linecolor": "white",
            "ticks": ""
           },
           "bgcolor": "#E5ECF6",
           "radialaxis": {
            "gridcolor": "white",
            "linecolor": "white",
            "ticks": ""
           }
          },
          "scene": {
           "xaxis": {
            "backgroundcolor": "#E5ECF6",
            "gridcolor": "white",
            "gridwidth": 2,
            "linecolor": "white",
            "showbackground": true,
            "ticks": "",
            "zerolinecolor": "white"
           },
           "yaxis": {
            "backgroundcolor": "#E5ECF6",
            "gridcolor": "white",
            "gridwidth": 2,
            "linecolor": "white",
            "showbackground": true,
            "ticks": "",
            "zerolinecolor": "white"
           },
           "zaxis": {
            "backgroundcolor": "#E5ECF6",
            "gridcolor": "white",
            "gridwidth": 2,
            "linecolor": "white",
            "showbackground": true,
            "ticks": "",
            "zerolinecolor": "white"
           }
          },
          "shapedefaults": {
           "line": {
            "color": "#2a3f5f"
           }
          },
          "ternary": {
           "aaxis": {
            "gridcolor": "white",
            "linecolor": "white",
            "ticks": ""
           },
           "baxis": {
            "gridcolor": "white",
            "linecolor": "white",
            "ticks": ""
           },
           "bgcolor": "#E5ECF6",
           "caxis": {
            "gridcolor": "white",
            "linecolor": "white",
            "ticks": ""
           }
          },
          "title": {
           "x": 0.05
          },
          "xaxis": {
           "automargin": true,
           "gridcolor": "white",
           "linecolor": "white",
           "ticks": "",
           "title": {
            "standoff": 15
           },
           "zerolinecolor": "white",
           "zerolinewidth": 2
          },
          "yaxis": {
           "automargin": true,
           "gridcolor": "white",
           "linecolor": "white",
           "ticks": "",
           "title": {
            "standoff": 15
           },
           "zerolinecolor": "white",
           "zerolinewidth": 2
          }
         }
        },
        "title": {
         "text": "Hyperparameter Importances"
        },
        "xaxis": {
         "title": {
          "text": "Hyperparameter Importance"
         }
        },
        "yaxis": {
         "title": {
          "text": "Hyperparameter"
         }
        }
       }
      }
     },
     "metadata": {},
     "output_type": "display_data"
    }
   ],
   "source": [
    "p_importance_no_feat_eng = optuna.visualization.plot_param_importances(study_no_feat_eng)\n",
    "p_importance_no_feat_eng.show()"
   ]
  },
  {
   "cell_type": "code",
   "execution_count": 10,
   "metadata": {},
   "outputs": [
    {
     "data": {
      "application/vnd.plotly.v1+json": {
       "config": {
        "plotlyServerURL": "https://plot.ly"
       },
       "data": [
        {
         "mode": "markers",
         "name": "Objective Value",
         "type": "scatter",
         "x": [
          0,
          1,
          2,
          3,
          4,
          5,
          6,
          7,
          8,
          9,
          10,
          11,
          12,
          13,
          14,
          15,
          16,
          17,
          18,
          19,
          21,
          22,
          24,
          25,
          29,
          31,
          32,
          34,
          35,
          36,
          41,
          42,
          43,
          44,
          45,
          49,
          51,
          52,
          53,
          54,
          55,
          60,
          61,
          62,
          64,
          66,
          70,
          71,
          72,
          73,
          77,
          81,
          82,
          83,
          86,
          88,
          91,
          92,
          93,
          96,
          97,
          100,
          101,
          102,
          103,
          106,
          111,
          112,
          115,
          121,
          122,
          123,
          124,
          125,
          130,
          131,
          132,
          133,
          134,
          135,
          139,
          140,
          141,
          144,
          145,
          146,
          148,
          150,
          151,
          153,
          156,
          158,
          161,
          162,
          163,
          165,
          168,
          171,
          172,
          173,
          181,
          183,
          185,
          187,
          188,
          191,
          193,
          194,
          195,
          196
         ],
         "y": [
          0.9739029780153174,
          0.9680749280411456,
          0.9600977295684471,
          0.9590623025154524,
          0.9697435930550901,
          0.9402229572395069,
          0.9684312689133021,
          0.9665769635758503,
          0.958685500681321,
          0.9468253976796606,
          0.9796573147618671,
          0.9796593312085559,
          0.979896713097396,
          0.975823673763631,
          0.979654752657747,
          0.9532453639000013,
          0.971940940901107,
          0.9458191776990438,
          0.9744660770462625,
          0.964011443257134,
          0.9796011509987972,
          0.9760992369104576,
          0.9744161918820888,
          0.9798480526166167,
          0.973779992607974,
          0.9796601223804003,
          0.976459688265266,
          0.9795169497244276,
          0.9742233234534294,
          0.9747515548453503,
          0.9797158337387003,
          0.978041652669418,
          0.9786497884569577,
          0.9773400956048544,
          0.9761570616326031,
          0.9783237009618715,
          0.9783477321661934,
          0.9800834957571887,
          0.9765220789632926,
          0.9776484118639864,
          0.9781651660271061,
          0.9791775929828841,
          0.9782867948756863,
          0.9800860746092868,
          0.9775556827956049,
          0.977577747153742,
          0.9792122484198627,
          0.9797843320101732,
          0.9799011807189567,
          0.9787618226904782,
          0.978222617383954,
          0.9801444390652441,
          0.9779867374996961,
          0.97846777914083,
          0.9798403552423673,
          0.9796904464714056,
          0.9797513145548576,
          0.9789628040778489,
          0.9799252250693504,
          0.9793928365127895,
          0.9784789101828351,
          0.9796874228655625,
          0.9796893363453203,
          0.9782233002880435,
          0.9789371245178595,
          0.9788762263601372,
          0.979031835414316,
          0.9797461428818016,
          0.9795757390482759,
          0.9798142452213158,
          0.9789017610070605,
          0.9799231711386638,
          0.9799815728268998,
          0.9789095750017213,
          0.9799888364565243,
          0.9798061255965693,
          0.9791512075934078,
          0.9798621022547673,
          0.9789068943681591,
          0.9798645098003507,
          0.9797636741925249,
          0.9790873803999626,
          0.9798649463114689,
          0.979925508182764,
          0.9789092104397478,
          0.979821471377598,
          0.979943797250899,
          0.9793204892395962,
          0.9796205936764928,
          0.9794018728022182,
          0.9798149060119709,
          0.9792097801199754,
          0.9798827989734269,
          0.980101436718312,
          0.9798218247452934,
          0.97976100221398,
          0.9798803068457099,
          0.9797025717348558,
          0.9798652707898438,
          0.9801092857705911,
          0.9798646880026715,
          0.9799457935925178,
          0.9798218928937293,
          0.9796905718969585,
          0.9800602790211063,
          0.9796817853584482,
          0.9791522568351472,
          0.980101436718312,
          0.9798779742019652,
          0.9804165732206183
         ]
        },
        {
         "mode": "lines",
         "name": "Best Value",
         "type": "scatter",
         "x": [
          0,
          1,
          2,
          3,
          4,
          5,
          6,
          7,
          8,
          9,
          10,
          11,
          12,
          13,
          14,
          15,
          16,
          17,
          18,
          19,
          20,
          21,
          22,
          23,
          24,
          25,
          26,
          27,
          28,
          29,
          30,
          31,
          32,
          33,
          34,
          35,
          36,
          37,
          38,
          39,
          40,
          41,
          42,
          43,
          44,
          45,
          46,
          47,
          48,
          49,
          50,
          51,
          52,
          53,
          54,
          55,
          56,
          57,
          58,
          59,
          60,
          61,
          62,
          63,
          64,
          65,
          66,
          67,
          68,
          69,
          70,
          71,
          72,
          73,
          74,
          75,
          76,
          77,
          78,
          79,
          80,
          81,
          82,
          83,
          84,
          85,
          86,
          87,
          88,
          89,
          90,
          91,
          92,
          93,
          94,
          95,
          96,
          97,
          98,
          99,
          100,
          101,
          102,
          103,
          104,
          105,
          106,
          107,
          108,
          109,
          110,
          111,
          112,
          113,
          114,
          115,
          116,
          117,
          118,
          119,
          120,
          121,
          122,
          123,
          124,
          125,
          126,
          127,
          128,
          129,
          130,
          131,
          132,
          133,
          134,
          135,
          136,
          137,
          138,
          139,
          140,
          141,
          142,
          143,
          144,
          145,
          146,
          147,
          148,
          149,
          150,
          151,
          152,
          153,
          154,
          155,
          156,
          157,
          158,
          159,
          160,
          161,
          162,
          163,
          164,
          165,
          166,
          167,
          168,
          169,
          170,
          171,
          172,
          173,
          174,
          175,
          176,
          177,
          178,
          179,
          180,
          181,
          182,
          183,
          184,
          185,
          186,
          187,
          188,
          189,
          190,
          191,
          192,
          193,
          194,
          195,
          196,
          197,
          198,
          199
         ],
         "y": [
          0.9739029780153174,
          0.9739029780153174,
          0.9739029780153174,
          0.9739029780153174,
          0.9739029780153174,
          0.9739029780153174,
          0.9739029780153174,
          0.9739029780153174,
          0.9739029780153174,
          0.9739029780153174,
          0.9796573147618671,
          0.9796593312085559,
          0.979896713097396,
          0.979896713097396,
          0.979896713097396,
          0.979896713097396,
          0.979896713097396,
          0.979896713097396,
          0.979896713097396,
          0.979896713097396,
          0.979896713097396,
          0.979896713097396,
          0.979896713097396,
          0.979896713097396,
          0.979896713097396,
          0.979896713097396,
          0.979896713097396,
          0.979896713097396,
          0.979896713097396,
          0.979896713097396,
          0.979896713097396,
          0.979896713097396,
          0.979896713097396,
          0.979896713097396,
          0.979896713097396,
          0.979896713097396,
          0.979896713097396,
          0.979896713097396,
          0.979896713097396,
          0.979896713097396,
          0.979896713097396,
          0.979896713097396,
          0.979896713097396,
          0.979896713097396,
          0.979896713097396,
          0.979896713097396,
          0.979896713097396,
          0.979896713097396,
          0.979896713097396,
          0.979896713097396,
          0.979896713097396,
          0.979896713097396,
          0.9800834957571887,
          0.9800834957571887,
          0.9800834957571887,
          0.9800834957571887,
          0.9800834957571887,
          0.9800834957571887,
          0.9800834957571887,
          0.9800834957571887,
          0.9800834957571887,
          0.9800834957571887,
          0.9800860746092868,
          0.9800860746092868,
          0.9800860746092868,
          0.9800860746092868,
          0.9800860746092868,
          0.9800860746092868,
          0.9800860746092868,
          0.9800860746092868,
          0.9800860746092868,
          0.9800860746092868,
          0.9800860746092868,
          0.9800860746092868,
          0.9800860746092868,
          0.9800860746092868,
          0.9800860746092868,
          0.9800860746092868,
          0.9800860746092868,
          0.9800860746092868,
          0.9800860746092868,
          0.9801444390652441,
          0.9801444390652441,
          0.9801444390652441,
          0.9801444390652441,
          0.9801444390652441,
          0.9801444390652441,
          0.9801444390652441,
          0.9801444390652441,
          0.9801444390652441,
          0.9801444390652441,
          0.9801444390652441,
          0.9801444390652441,
          0.9801444390652441,
          0.9801444390652441,
          0.9801444390652441,
          0.9801444390652441,
          0.9801444390652441,
          0.9801444390652441,
          0.9801444390652441,
          0.9801444390652441,
          0.9801444390652441,
          0.9801444390652441,
          0.9801444390652441,
          0.9801444390652441,
          0.9801444390652441,
          0.9801444390652441,
          0.9801444390652441,
          0.9801444390652441,
          0.9801444390652441,
          0.9801444390652441,
          0.9801444390652441,
          0.9801444390652441,
          0.9801444390652441,
          0.9801444390652441,
          0.9801444390652441,
          0.9801444390652441,
          0.9801444390652441,
          0.9801444390652441,
          0.9801444390652441,
          0.9801444390652441,
          0.9801444390652441,
          0.9801444390652441,
          0.9801444390652441,
          0.9801444390652441,
          0.9801444390652441,
          0.9801444390652441,
          0.9801444390652441,
          0.9801444390652441,
          0.9801444390652441,
          0.9801444390652441,
          0.9801444390652441,
          0.9801444390652441,
          0.9801444390652441,
          0.9801444390652441,
          0.9801444390652441,
          0.9801444390652441,
          0.9801444390652441,
          0.9801444390652441,
          0.9801444390652441,
          0.9801444390652441,
          0.9801444390652441,
          0.9801444390652441,
          0.9801444390652441,
          0.9801444390652441,
          0.9801444390652441,
          0.9801444390652441,
          0.9801444390652441,
          0.9801444390652441,
          0.9801444390652441,
          0.9801444390652441,
          0.9801444390652441,
          0.9801444390652441,
          0.9801444390652441,
          0.9801444390652441,
          0.9801444390652441,
          0.9801444390652441,
          0.9801444390652441,
          0.9801444390652441,
          0.9801444390652441,
          0.9801444390652441,
          0.9801444390652441,
          0.9801444390652441,
          0.9801444390652441,
          0.9801444390652441,
          0.9801444390652441,
          0.9801444390652441,
          0.9801444390652441,
          0.9801444390652441,
          0.9801444390652441,
          0.9801444390652441,
          0.9801444390652441,
          0.9801444390652441,
          0.9801444390652441,
          0.9801444390652441,
          0.9801444390652441,
          0.9801444390652441,
          0.9801444390652441,
          0.9801444390652441,
          0.9801444390652441,
          0.9801444390652441,
          0.9801444390652441,
          0.9801444390652441,
          0.9801444390652441,
          0.9801444390652441,
          0.9801444390652441,
          0.9801444390652441,
          0.9801444390652441,
          0.9801444390652441,
          0.9801444390652441,
          0.9801444390652441,
          0.9801444390652441,
          0.9801444390652441,
          0.9801444390652441,
          0.9801444390652441,
          0.9801444390652441,
          0.9804165732206183,
          0.9804165732206183,
          0.9804165732206183,
          0.9804165732206183
         ]
        },
        {
         "marker": {
          "color": "#cccccc"
         },
         "mode": "markers",
         "name": "Infeasible Trial",
         "showlegend": false,
         "type": "scatter",
         "x": [],
         "y": []
        }
       ],
       "layout": {
        "template": {
         "data": {
          "bar": [
           {
            "error_x": {
             "color": "#2a3f5f"
            },
            "error_y": {
             "color": "#2a3f5f"
            },
            "marker": {
             "line": {
              "color": "#E5ECF6",
              "width": 0.5
             },
             "pattern": {
              "fillmode": "overlay",
              "size": 10,
              "solidity": 0.2
             }
            },
            "type": "bar"
           }
          ],
          "barpolar": [
           {
            "marker": {
             "line": {
              "color": "#E5ECF6",
              "width": 0.5
             },
             "pattern": {
              "fillmode": "overlay",
              "size": 10,
              "solidity": 0.2
             }
            },
            "type": "barpolar"
           }
          ],
          "carpet": [
           {
            "aaxis": {
             "endlinecolor": "#2a3f5f",
             "gridcolor": "white",
             "linecolor": "white",
             "minorgridcolor": "white",
             "startlinecolor": "#2a3f5f"
            },
            "baxis": {
             "endlinecolor": "#2a3f5f",
             "gridcolor": "white",
             "linecolor": "white",
             "minorgridcolor": "white",
             "startlinecolor": "#2a3f5f"
            },
            "type": "carpet"
           }
          ],
          "choropleth": [
           {
            "colorbar": {
             "outlinewidth": 0,
             "ticks": ""
            },
            "type": "choropleth"
           }
          ],
          "contour": [
           {
            "colorbar": {
             "outlinewidth": 0,
             "ticks": ""
            },
            "colorscale": [
             [
              0,
              "#0d0887"
             ],
             [
              0.1111111111111111,
              "#46039f"
             ],
             [
              0.2222222222222222,
              "#7201a8"
             ],
             [
              0.3333333333333333,
              "#9c179e"
             ],
             [
              0.4444444444444444,
              "#bd3786"
             ],
             [
              0.5555555555555556,
              "#d8576b"
             ],
             [
              0.6666666666666666,
              "#ed7953"
             ],
             [
              0.7777777777777778,
              "#fb9f3a"
             ],
             [
              0.8888888888888888,
              "#fdca26"
             ],
             [
              1,
              "#f0f921"
             ]
            ],
            "type": "contour"
           }
          ],
          "contourcarpet": [
           {
            "colorbar": {
             "outlinewidth": 0,
             "ticks": ""
            },
            "type": "contourcarpet"
           }
          ],
          "heatmap": [
           {
            "colorbar": {
             "outlinewidth": 0,
             "ticks": ""
            },
            "colorscale": [
             [
              0,
              "#0d0887"
             ],
             [
              0.1111111111111111,
              "#46039f"
             ],
             [
              0.2222222222222222,
              "#7201a8"
             ],
             [
              0.3333333333333333,
              "#9c179e"
             ],
             [
              0.4444444444444444,
              "#bd3786"
             ],
             [
              0.5555555555555556,
              "#d8576b"
             ],
             [
              0.6666666666666666,
              "#ed7953"
             ],
             [
              0.7777777777777778,
              "#fb9f3a"
             ],
             [
              0.8888888888888888,
              "#fdca26"
             ],
             [
              1,
              "#f0f921"
             ]
            ],
            "type": "heatmap"
           }
          ],
          "heatmapgl": [
           {
            "colorbar": {
             "outlinewidth": 0,
             "ticks": ""
            },
            "colorscale": [
             [
              0,
              "#0d0887"
             ],
             [
              0.1111111111111111,
              "#46039f"
             ],
             [
              0.2222222222222222,
              "#7201a8"
             ],
             [
              0.3333333333333333,
              "#9c179e"
             ],
             [
              0.4444444444444444,
              "#bd3786"
             ],
             [
              0.5555555555555556,
              "#d8576b"
             ],
             [
              0.6666666666666666,
              "#ed7953"
             ],
             [
              0.7777777777777778,
              "#fb9f3a"
             ],
             [
              0.8888888888888888,
              "#fdca26"
             ],
             [
              1,
              "#f0f921"
             ]
            ],
            "type": "heatmapgl"
           }
          ],
          "histogram": [
           {
            "marker": {
             "pattern": {
              "fillmode": "overlay",
              "size": 10,
              "solidity": 0.2
             }
            },
            "type": "histogram"
           }
          ],
          "histogram2d": [
           {
            "colorbar": {
             "outlinewidth": 0,
             "ticks": ""
            },
            "colorscale": [
             [
              0,
              "#0d0887"
             ],
             [
              0.1111111111111111,
              "#46039f"
             ],
             [
              0.2222222222222222,
              "#7201a8"
             ],
             [
              0.3333333333333333,
              "#9c179e"
             ],
             [
              0.4444444444444444,
              "#bd3786"
             ],
             [
              0.5555555555555556,
              "#d8576b"
             ],
             [
              0.6666666666666666,
              "#ed7953"
             ],
             [
              0.7777777777777778,
              "#fb9f3a"
             ],
             [
              0.8888888888888888,
              "#fdca26"
             ],
             [
              1,
              "#f0f921"
             ]
            ],
            "type": "histogram2d"
           }
          ],
          "histogram2dcontour": [
           {
            "colorbar": {
             "outlinewidth": 0,
             "ticks": ""
            },
            "colorscale": [
             [
              0,
              "#0d0887"
             ],
             [
              0.1111111111111111,
              "#46039f"
             ],
             [
              0.2222222222222222,
              "#7201a8"
             ],
             [
              0.3333333333333333,
              "#9c179e"
             ],
             [
              0.4444444444444444,
              "#bd3786"
             ],
             [
              0.5555555555555556,
              "#d8576b"
             ],
             [
              0.6666666666666666,
              "#ed7953"
             ],
             [
              0.7777777777777778,
              "#fb9f3a"
             ],
             [
              0.8888888888888888,
              "#fdca26"
             ],
             [
              1,
              "#f0f921"
             ]
            ],
            "type": "histogram2dcontour"
           }
          ],
          "mesh3d": [
           {
            "colorbar": {
             "outlinewidth": 0,
             "ticks": ""
            },
            "type": "mesh3d"
           }
          ],
          "parcoords": [
           {
            "line": {
             "colorbar": {
              "outlinewidth": 0,
              "ticks": ""
             }
            },
            "type": "parcoords"
           }
          ],
          "pie": [
           {
            "automargin": true,
            "type": "pie"
           }
          ],
          "scatter": [
           {
            "fillpattern": {
             "fillmode": "overlay",
             "size": 10,
             "solidity": 0.2
            },
            "type": "scatter"
           }
          ],
          "scatter3d": [
           {
            "line": {
             "colorbar": {
              "outlinewidth": 0,
              "ticks": ""
             }
            },
            "marker": {
             "colorbar": {
              "outlinewidth": 0,
              "ticks": ""
             }
            },
            "type": "scatter3d"
           }
          ],
          "scattercarpet": [
           {
            "marker": {
             "colorbar": {
              "outlinewidth": 0,
              "ticks": ""
             }
            },
            "type": "scattercarpet"
           }
          ],
          "scattergeo": [
           {
            "marker": {
             "colorbar": {
              "outlinewidth": 0,
              "ticks": ""
             }
            },
            "type": "scattergeo"
           }
          ],
          "scattergl": [
           {
            "marker": {
             "colorbar": {
              "outlinewidth": 0,
              "ticks": ""
             }
            },
            "type": "scattergl"
           }
          ],
          "scattermapbox": [
           {
            "marker": {
             "colorbar": {
              "outlinewidth": 0,
              "ticks": ""
             }
            },
            "type": "scattermapbox"
           }
          ],
          "scatterpolar": [
           {
            "marker": {
             "colorbar": {
              "outlinewidth": 0,
              "ticks": ""
             }
            },
            "type": "scatterpolar"
           }
          ],
          "scatterpolargl": [
           {
            "marker": {
             "colorbar": {
              "outlinewidth": 0,
              "ticks": ""
             }
            },
            "type": "scatterpolargl"
           }
          ],
          "scatterternary": [
           {
            "marker": {
             "colorbar": {
              "outlinewidth": 0,
              "ticks": ""
             }
            },
            "type": "scatterternary"
           }
          ],
          "surface": [
           {
            "colorbar": {
             "outlinewidth": 0,
             "ticks": ""
            },
            "colorscale": [
             [
              0,
              "#0d0887"
             ],
             [
              0.1111111111111111,
              "#46039f"
             ],
             [
              0.2222222222222222,
              "#7201a8"
             ],
             [
              0.3333333333333333,
              "#9c179e"
             ],
             [
              0.4444444444444444,
              "#bd3786"
             ],
             [
              0.5555555555555556,
              "#d8576b"
             ],
             [
              0.6666666666666666,
              "#ed7953"
             ],
             [
              0.7777777777777778,
              "#fb9f3a"
             ],
             [
              0.8888888888888888,
              "#fdca26"
             ],
             [
              1,
              "#f0f921"
             ]
            ],
            "type": "surface"
           }
          ],
          "table": [
           {
            "cells": {
             "fill": {
              "color": "#EBF0F8"
             },
             "line": {
              "color": "white"
             }
            },
            "header": {
             "fill": {
              "color": "#C8D4E3"
             },
             "line": {
              "color": "white"
             }
            },
            "type": "table"
           }
          ]
         },
         "layout": {
          "annotationdefaults": {
           "arrowcolor": "#2a3f5f",
           "arrowhead": 0,
           "arrowwidth": 1
          },
          "autotypenumbers": "strict",
          "coloraxis": {
           "colorbar": {
            "outlinewidth": 0,
            "ticks": ""
           }
          },
          "colorscale": {
           "diverging": [
            [
             0,
             "#8e0152"
            ],
            [
             0.1,
             "#c51b7d"
            ],
            [
             0.2,
             "#de77ae"
            ],
            [
             0.3,
             "#f1b6da"
            ],
            [
             0.4,
             "#fde0ef"
            ],
            [
             0.5,
             "#f7f7f7"
            ],
            [
             0.6,
             "#e6f5d0"
            ],
            [
             0.7,
             "#b8e186"
            ],
            [
             0.8,
             "#7fbc41"
            ],
            [
             0.9,
             "#4d9221"
            ],
            [
             1,
             "#276419"
            ]
           ],
           "sequential": [
            [
             0,
             "#0d0887"
            ],
            [
             0.1111111111111111,
             "#46039f"
            ],
            [
             0.2222222222222222,
             "#7201a8"
            ],
            [
             0.3333333333333333,
             "#9c179e"
            ],
            [
             0.4444444444444444,
             "#bd3786"
            ],
            [
             0.5555555555555556,
             "#d8576b"
            ],
            [
             0.6666666666666666,
             "#ed7953"
            ],
            [
             0.7777777777777778,
             "#fb9f3a"
            ],
            [
             0.8888888888888888,
             "#fdca26"
            ],
            [
             1,
             "#f0f921"
            ]
           ],
           "sequentialminus": [
            [
             0,
             "#0d0887"
            ],
            [
             0.1111111111111111,
             "#46039f"
            ],
            [
             0.2222222222222222,
             "#7201a8"
            ],
            [
             0.3333333333333333,
             "#9c179e"
            ],
            [
             0.4444444444444444,
             "#bd3786"
            ],
            [
             0.5555555555555556,
             "#d8576b"
            ],
            [
             0.6666666666666666,
             "#ed7953"
            ],
            [
             0.7777777777777778,
             "#fb9f3a"
            ],
            [
             0.8888888888888888,
             "#fdca26"
            ],
            [
             1,
             "#f0f921"
            ]
           ]
          },
          "colorway": [
           "#636efa",
           "#EF553B",
           "#00cc96",
           "#ab63fa",
           "#FFA15A",
           "#19d3f3",
           "#FF6692",
           "#B6E880",
           "#FF97FF",
           "#FECB52"
          ],
          "font": {
           "color": "#2a3f5f"
          },
          "geo": {
           "bgcolor": "white",
           "lakecolor": "white",
           "landcolor": "#E5ECF6",
           "showlakes": true,
           "showland": true,
           "subunitcolor": "white"
          },
          "hoverlabel": {
           "align": "left"
          },
          "hovermode": "closest",
          "mapbox": {
           "style": "light"
          },
          "paper_bgcolor": "white",
          "plot_bgcolor": "#E5ECF6",
          "polar": {
           "angularaxis": {
            "gridcolor": "white",
            "linecolor": "white",
            "ticks": ""
           },
           "bgcolor": "#E5ECF6",
           "radialaxis": {
            "gridcolor": "white",
            "linecolor": "white",
            "ticks": ""
           }
          },
          "scene": {
           "xaxis": {
            "backgroundcolor": "#E5ECF6",
            "gridcolor": "white",
            "gridwidth": 2,
            "linecolor": "white",
            "showbackground": true,
            "ticks": "",
            "zerolinecolor": "white"
           },
           "yaxis": {
            "backgroundcolor": "#E5ECF6",
            "gridcolor": "white",
            "gridwidth": 2,
            "linecolor": "white",
            "showbackground": true,
            "ticks": "",
            "zerolinecolor": "white"
           },
           "zaxis": {
            "backgroundcolor": "#E5ECF6",
            "gridcolor": "white",
            "gridwidth": 2,
            "linecolor": "white",
            "showbackground": true,
            "ticks": "",
            "zerolinecolor": "white"
           }
          },
          "shapedefaults": {
           "line": {
            "color": "#2a3f5f"
           }
          },
          "ternary": {
           "aaxis": {
            "gridcolor": "white",
            "linecolor": "white",
            "ticks": ""
           },
           "baxis": {
            "gridcolor": "white",
            "linecolor": "white",
            "ticks": ""
           },
           "bgcolor": "#E5ECF6",
           "caxis": {
            "gridcolor": "white",
            "linecolor": "white",
            "ticks": ""
           }
          },
          "title": {
           "x": 0.05
          },
          "xaxis": {
           "automargin": true,
           "gridcolor": "white",
           "linecolor": "white",
           "ticks": "",
           "title": {
            "standoff": 15
           },
           "zerolinecolor": "white",
           "zerolinewidth": 2
          },
          "yaxis": {
           "automargin": true,
           "gridcolor": "white",
           "linecolor": "white",
           "ticks": "",
           "title": {
            "standoff": 15
           },
           "zerolinecolor": "white",
           "zerolinewidth": 2
          }
         }
        },
        "title": {
         "text": "Optimization History Plot"
        },
        "xaxis": {
         "title": {
          "text": "Trial"
         }
        },
        "yaxis": {
         "title": {
          "text": "Objective Value"
         }
        }
       }
      }
     },
     "metadata": {},
     "output_type": "display_data"
    }
   ],
   "source": [
    "p_history_no_feat_eng = optuna.visualization.plot_optimization_history(study_no_feat_eng)\n",
    "p_history_no_feat_eng.show()"
   ]
  },
  {
   "cell_type": "markdown",
   "metadata": {},
   "source": [
    "## With Feature Engineering"
   ]
  },
  {
   "cell_type": "code",
   "execution_count": 11,
   "metadata": {},
   "outputs": [],
   "source": [
    "# Load data\n",
    "train_df = pd.read_csv(config[\"paths\"][\"ptb_train\"], header=None)"
   ]
  },
  {
   "cell_type": "code",
   "execution_count": 12,
   "metadata": {},
   "outputs": [],
   "source": [
    "X_train_all = train_df.iloc[:, :-1]\n",
    "y_train_all = train_df.iloc[:, -1]"
   ]
  },
  {
   "cell_type": "code",
   "execution_count": 13,
   "metadata": {},
   "outputs": [],
   "source": [
    "X_train_all.columns = X_train_all.columns.astype(str)"
   ]
  },
  {
   "cell_type": "code",
   "execution_count": 14,
   "metadata": {},
   "outputs": [],
   "source": [
    "# create objective function for optuna\n",
    "def objective_feat_eng(trial):\n",
    "    use_smote = trial.suggest_categorical(\"use_smote\", [True, False]),\n",
    "\n",
    "    # see: https://medium.com/@ethannabatchian/optimizing-random-forest-models-a-deep-dive-into-hyperparameter-tuning-with-optuna-b8e4fe7f3670\n",
    "    hyperparams = {\n",
    "        \"n_estimators\": trial.suggest_int(\"n_estimators\", 100, 1000),\n",
    "        \"max_depth\": trial.suggest_int(\"max_depth\", 10, 50),\n",
    "        \"min_samples_split\": trial.suggest_int(\"min_samples_split\", 2, 32),\n",
    "        \"min_samples_leaf\": trial.suggest_int(\"min_samples_leaf\", 1, 32),\n",
    "        \"max_features\": trial.suggest_categorical(\"max_features\", [\"sqrt\", \"log2\"]),\n",
    "        \"criterion\": trial.suggest_categorical(\"criterion\", [\"gini\", \"entropy\", \"log_loss\"]),\n",
    "    }\n",
    "    \n",
    "    \n",
    "    \n",
    "    f1_scores = []\n",
    "    \n",
    "    skf = StratifiedKFold(n_splits=5, random_state=config[\"general\"][\"seed\"], shuffle=True)\n",
    "    for fold_num, (train_idx, val_idx) in enumerate(skf.split(X_train_all, y_train_all)):\n",
    "        X_train, X_val = X_train_all.iloc[train_idx], X_train_all.iloc[val_idx]\n",
    "        y_train, y_val = y_train_all[train_idx], y_train_all[val_idx]\n",
    "        \n",
    "        if use_smote:\n",
    "            smote = SMOTE(random_state=config[\"general\"][\"seed\"])\n",
    "            X_train, y_train = smote.fit_resample(X_train, y_train) \n",
    "        \n",
    "        \n",
    "        X_train[\"id\"] = X_train.index\n",
    "        X_train_melted =(\n",
    "            X_train\n",
    "            .melt(id_vars=\"id\", var_name=\"time\", value_name=\"value\")\n",
    "            .sort_values(by=[\"id\", \"time\"])\n",
    "        )\n",
    "        # get rid of padding to not ruin the engineered features\n",
    "        # for simplicity, we drop all 0s, as only few \"true\" 0s are in the data\n",
    "        X_train_melted[\"value\"] = X_train_melted[\"value\"].replace(0, np.nan)\n",
    "        X_train_melted = X_train_melted.dropna()\n",
    "        \n",
    "        X_val[\"id\"] = X_val.index\n",
    "        X_val_melted =(\n",
    "            X_val\n",
    "            .melt(id_vars=\"id\", var_name=\"time\", value_name=\"value\")\n",
    "            .sort_values(by=[\"id\", \"time\"])\n",
    "        )\n",
    "        # get rid of padding to not ruin the engineered features\n",
    "        # for simplicity, we drop all 0s, as only few \"true\" 0s are in the data\n",
    "        X_val_melted[\"value\"] = X_val_melted[\"value\"].replace(0, np.nan)\n",
    "        X_val_melted = X_val_melted.dropna()\n",
    "        \n",
    "        \n",
    "        # We will follow this tutorial:\n",
    "        # https://towardsdatascience.com/expanding-your-regression-repertoire-with-regularisation-903d2c9f7b28\n",
    "        # but will use the ComprehensiveFCParameters instead of the EfficientFCParameters\n",
    "        # for feature extraction\n",
    "        X_train_augmented = extract_features(\n",
    "            X_train_melted,\n",
    "            column_id=\"id\",\n",
    "            column_sort=\"time\",\n",
    "            column_value=\"value\",\n",
    "            default_fc_parameters=ComprehensiveFCParameters(),\n",
    "        )  \n",
    "        X_val_augmented = extract_features(\n",
    "            X_val_melted,\n",
    "            column_id=\"id\",\n",
    "            column_sort=\"time\",\n",
    "            column_value=\"value\",\n",
    "            default_fc_parameters=ComprehensiveFCParameters(),\n",
    "        )  \n",
    "        \n",
    "        X_train_merged = pd.merge(\n",
    "            X_train, X_train_augmented, left_index=True, right_index=True\n",
    "        )\n",
    "        X_val_merged = pd.merge(\n",
    "            X_val, X_val_augmented, left_index=True, right_index=True\n",
    "        )\n",
    "\n",
    "        # assert that no rows were lost\n",
    "        assert X_train_merged.shape[0] == X_train.shape[0]\n",
    "        assert X_val_merged.shape[0] == X_val.shape[0]\n",
    "        assert X_train_merged.index.equals(X_train.index)\n",
    "        assert X_val_merged.index.equals(X_val.index)\n",
    "        \n",
    "        imputer = PerColumnImputer()\n",
    "        X_train_merged = imputer.fit_transform(X_train_merged)\n",
    "        X_val_merged = imputer.transform(X_val_merged)\n",
    "        \n",
    "        rf = RandomForestClassifier(\n",
    "            random_state=config[\"general\"][\"seed\"],\n",
    "            n_jobs=-1,\n",
    "            **hyperparams\n",
    "        )\n",
    "        rf.fit(X_train_merged, y_train)\n",
    "        \n",
    "        y_preds = rf.predict(X_val_merged)\n",
    "        \n",
    "        score = f1_score(y_val, y_preds)\n",
    "            \n",
    "        trial.report(score, fold_num)\n",
    "        if trial.should_prune():\n",
    "            raise optuna.TrialPruned()\n",
    "        \n",
    "        f1_scores.append(score)\n",
    "            \n",
    "        \n",
    "    return np.mean(score)"
   ]
  },
  {
   "cell_type": "code",
   "execution_count": 15,
   "metadata": {},
   "outputs": [
    {
     "name": "stderr",
     "output_type": "stream",
     "text": [
      "[I 2024-04-30 00:23:11,874] A new study created in memory with name: rf_feat_eng\n"
     ]
    }
   ],
   "source": [
    "# prune bad trials \n",
    "pruner = optuna.pruners.MedianPruner(n_startup_trials=20, n_warmup_steps=2)\n",
    "\n",
    "study_feat_eng = optuna.create_study(\n",
    "    direction=\"maximize\",\n",
    "    study_name=\"rf_feat_eng\",\n",
    "    sampler=optuna.samplers.TPESampler(seed=config[\"general\"][\"seed\"]),\n",
    "    pruner=pruner,\n",
    ")"
   ]
  },
  {
   "cell_type": "code",
   "execution_count": 16,
   "metadata": {},
   "outputs": [
    {
     "data": {
      "application/vnd.jupyter.widget-view+json": {
       "model_id": "d537b8c1bb044feb87ffa247dd96c8cb",
       "version_major": 2,
       "version_minor": 0
      },
      "text/plain": [
       "  0%|          | 0/200 [00:00<?, ?it/s]"
      ]
     },
     "metadata": {},
     "output_type": "display_data"
    },
    {
     "name": "stderr",
     "output_type": "stream",
     "text": [
      "Feature Extraction: 100%|██████████| 80/80 [01:11<00:00,  1.12it/s]\n",
      "Feature Extraction: 100%|██████████| 78/78 [00:12<00:00,  6.12it/s]\n",
      "Feature Extraction: 100%|██████████| 80/80 [01:13<00:00,  1.09it/s]\n",
      "Feature Extraction: 100%|██████████| 78/78 [00:12<00:00,  6.08it/s]\n",
      "Feature Extraction: 100%|██████████| 80/80 [01:11<00:00,  1.11it/s]\n",
      "Feature Extraction: 100%|██████████| 78/78 [00:11<00:00,  6.62it/s]\n",
      "Feature Extraction: 100%|██████████| 80/80 [01:09<00:00,  1.16it/s]\n",
      "Feature Extraction: 100%|██████████| 78/78 [00:12<00:00,  6.44it/s]\n",
      "Feature Extraction: 100%|██████████| 80/80 [01:07<00:00,  1.19it/s]\n",
      "Feature Extraction: 100%|██████████| 78/78 [00:11<00:00,  6.84it/s]\n"
     ]
    },
    {
     "name": "stdout",
     "output_type": "stream",
     "text": [
      "[I 2024-04-30 00:33:22,435] Trial 0 finished with value: 0.9760991442903512 and parameters: {'use_smote': False, 'n_estimators': 759, 'max_depth': 34, 'min_samples_split': 6, 'min_samples_leaf': 5, 'max_features': 'log2', 'criterion': 'entropy'}. Best is trial 0 with value: 0.9760991442903512.\n"
     ]
    },
    {
     "name": "stderr",
     "output_type": "stream",
     "text": [
      "Feature Extraction: 100%|██████████| 80/80 [01:07<00:00,  1.18it/s]\n",
      "Feature Extraction: 100%|██████████| 78/78 [00:12<00:00,  6.43it/s]\n",
      "Feature Extraction: 100%|██████████| 80/80 [01:11<00:00,  1.12it/s]\n",
      "Feature Extraction: 100%|██████████| 78/78 [00:10<00:00,  7.56it/s]\n",
      "Feature Extraction: 100%|██████████| 80/80 [01:01<00:00,  1.31it/s]\n",
      "Feature Extraction: 100%|██████████| 78/78 [00:12<00:00,  6.15it/s]\n",
      "Feature Extraction: 100%|██████████| 80/80 [01:09<00:00,  1.15it/s]\n",
      "Feature Extraction: 100%|██████████| 78/78 [00:12<00:00,  6.13it/s]\n",
      "Feature Extraction: 100%|██████████| 80/80 [01:13<00:00,  1.10it/s]\n",
      "Feature Extraction: 100%|██████████| 78/78 [00:10<00:00,  7.11it/s]\n"
     ]
    },
    {
     "name": "stdout",
     "output_type": "stream",
     "text": [
      "[I 2024-04-30 00:43:00,933] Trial 1 finished with value: 0.975177304964539 and parameters: {'use_smote': True, 'n_estimators': 291, 'max_depth': 17, 'min_samples_split': 7, 'min_samples_leaf': 10, 'max_features': 'sqrt', 'criterion': 'entropy'}. Best is trial 0 with value: 0.9760991442903512.\n"
     ]
    },
    {
     "name": "stderr",
     "output_type": "stream",
     "text": [
      "Feature Extraction: 100%|██████████| 80/80 [01:02<00:00,  1.29it/s]\n",
      "Feature Extraction: 100%|██████████| 78/78 [00:11<00:00,  6.82it/s]\n",
      "Feature Extraction: 100%|██████████| 80/80 [01:02<00:00,  1.29it/s]\n",
      "Feature Extraction: 100%|██████████| 78/78 [00:10<00:00,  7.13it/s]\n",
      "Feature Extraction: 100%|██████████| 80/80 [01:01<00:00,  1.29it/s]\n",
      "Feature Extraction: 100%|██████████| 78/78 [00:11<00:00,  6.88it/s]\n",
      "Feature Extraction: 100%|██████████| 80/80 [01:02<00:00,  1.29it/s]\n",
      "Feature Extraction: 100%|██████████| 78/78 [00:11<00:00,  7.03it/s]\n",
      "Feature Extraction: 100%|██████████| 80/80 [01:02<00:00,  1.28it/s]\n",
      "Feature Extraction: 100%|██████████| 78/78 [00:10<00:00,  7.22it/s]\n"
     ]
    },
    {
     "name": "stdout",
     "output_type": "stream",
     "text": [
      "[I 2024-04-30 00:51:29,952] Trial 2 finished with value: 0.9708909144369303 and parameters: {'use_smote': False, 'n_estimators': 510, 'max_depth': 42, 'min_samples_split': 8, 'min_samples_leaf': 17, 'max_features': 'sqrt', 'criterion': 'gini'}. Best is trial 0 with value: 0.9760991442903512.\n"
     ]
    },
    {
     "name": "stderr",
     "output_type": "stream",
     "text": [
      "Feature Extraction: 100%|██████████| 80/80 [01:01<00:00,  1.31it/s]\n",
      "Feature Extraction: 100%|██████████| 78/78 [00:11<00:00,  7.00it/s]\n",
      "Feature Extraction: 100%|██████████| 80/80 [01:02<00:00,  1.29it/s]\n",
      "Feature Extraction: 100%|██████████| 78/78 [00:11<00:00,  6.83it/s]\n",
      "Feature Extraction: 100%|██████████| 80/80 [00:59<00:00,  1.34it/s]\n",
      "Feature Extraction: 100%|██████████| 78/78 [00:11<00:00,  6.52it/s]\n",
      "Feature Extraction: 100%|██████████| 80/80 [01:01<00:00,  1.30it/s]\n",
      "Feature Extraction: 100%|██████████| 78/78 [00:09<00:00,  7.88it/s]\n",
      "Feature Extraction: 100%|██████████| 80/80 [01:03<00:00,  1.26it/s]\n",
      "Feature Extraction: 100%|██████████| 78/78 [00:11<00:00,  6.59it/s]\n"
     ]
    },
    {
     "name": "stdout",
     "output_type": "stream",
     "text": [
      "[I 2024-04-30 01:00:17,900] Trial 3 finished with value: 0.9714621947631656 and parameters: {'use_smote': False, 'n_estimators': 828, 'max_depth': 22, 'min_samples_split': 5, 'min_samples_leaf': 22, 'max_features': 'sqrt', 'criterion': 'log_loss'}. Best is trial 0 with value: 0.9760991442903512.\n"
     ]
    },
    {
     "name": "stderr",
     "output_type": "stream",
     "text": [
      "Feature Extraction: 100%|██████████| 80/80 [01:03<00:00,  1.26it/s]\n",
      "Feature Extraction: 100%|██████████| 78/78 [00:11<00:00,  6.86it/s]\n",
      "Feature Extraction: 100%|██████████| 80/80 [01:01<00:00,  1.30it/s]\n",
      "Feature Extraction: 100%|██████████| 78/78 [00:10<00:00,  7.60it/s]\n",
      "Feature Extraction: 100%|██████████| 80/80 [01:10<00:00,  1.14it/s]\n",
      "Feature Extraction: 100%|██████████| 78/78 [00:12<00:00,  6.13it/s]\n",
      "Feature Extraction: 100%|██████████| 80/80 [01:11<00:00,  1.11it/s]\n",
      "Feature Extraction: 100%|██████████| 78/78 [00:13<00:00,  5.87it/s]\n",
      "Feature Extraction: 100%|██████████| 80/80 [01:10<00:00,  1.13it/s]\n",
      "Feature Extraction: 100%|██████████| 78/78 [00:12<00:00,  6.26it/s]\n"
     ]
    },
    {
     "name": "stdout",
     "output_type": "stream",
     "text": [
      "[I 2024-04-30 01:09:56,572] Trial 4 finished with value: 0.9758397171479081 and parameters: {'use_smote': False, 'n_estimators': 380, 'max_depth': 31, 'min_samples_split': 18, 'min_samples_leaf': 6, 'max_features': 'sqrt', 'criterion': 'gini'}. Best is trial 0 with value: 0.9760991442903512.\n"
     ]
    },
    {
     "name": "stderr",
     "output_type": "stream",
     "text": [
      "Feature Extraction: 100%|██████████| 80/80 [01:09<00:00,  1.15it/s]\n",
      "Feature Extraction: 100%|██████████| 78/78 [00:13<00:00,  5.94it/s]\n",
      "Feature Extraction: 100%|██████████| 80/80 [01:11<00:00,  1.13it/s]\n",
      "Feature Extraction: 100%|██████████| 78/78 [00:13<00:00,  6.00it/s]\n",
      "Feature Extraction: 100%|██████████| 80/80 [01:11<00:00,  1.12it/s]\n",
      "Feature Extraction: 100%|██████████| 78/78 [00:12<00:00,  6.27it/s]\n",
      "Feature Extraction: 100%|██████████| 80/80 [01:09<00:00,  1.15it/s]\n",
      "Feature Extraction: 100%|██████████| 78/78 [00:12<00:00,  6.29it/s]\n",
      "Feature Extraction: 100%|██████████| 80/80 [01:10<00:00,  1.14it/s]\n",
      "Feature Extraction: 100%|██████████| 78/78 [00:12<00:00,  6.45it/s]\n"
     ]
    },
    {
     "name": "stdout",
     "output_type": "stream",
     "text": [
      "[I 2024-04-30 01:20:05,877] Trial 5 finished with value: 0.966804979253112 and parameters: {'use_smote': True, 'n_estimators': 276, 'max_depth': 11, 'min_samples_split': 12, 'min_samples_leaf': 13, 'max_features': 'log2', 'criterion': 'log_loss'}. Best is trial 0 with value: 0.9760991442903512.\n"
     ]
    },
    {
     "name": "stderr",
     "output_type": "stream",
     "text": [
      "Feature Extraction: 100%|██████████| 80/80 [01:04<00:00,  1.24it/s]\n",
      "Feature Extraction: 100%|██████████| 78/78 [00:10<00:00,  7.58it/s]\n",
      "Feature Extraction: 100%|██████████| 80/80 [00:58<00:00,  1.36it/s]\n",
      "Feature Extraction: 100%|██████████| 78/78 [00:10<00:00,  7.43it/s]\n",
      "Feature Extraction: 100%|██████████| 80/80 [00:59<00:00,  1.33it/s]\n",
      "Feature Extraction: 100%|██████████| 78/78 [00:14<00:00,  5.55it/s]\n",
      "Feature Extraction: 100%|██████████| 80/80 [01:13<00:00,  1.08it/s]\n",
      "Feature Extraction: 100%|██████████| 78/78 [00:12<00:00,  6.33it/s]\n",
      "Feature Extraction: 100%|██████████| 80/80 [01:10<00:00,  1.13it/s]\n",
      "Feature Extraction: 100%|██████████| 78/78 [00:12<00:00,  6.47it/s]\n"
     ]
    },
    {
     "name": "stdout",
     "output_type": "stream",
     "text": [
      "[I 2024-04-30 01:29:04,582] Trial 6 finished with value: 0.9746312684365782 and parameters: {'use_smote': False, 'n_estimators': 167, 'max_depth': 50, 'min_samples_split': 25, 'min_samples_leaf': 7, 'max_features': 'log2', 'criterion': 'log_loss'}. Best is trial 0 with value: 0.9760991442903512.\n"
     ]
    },
    {
     "name": "stderr",
     "output_type": "stream",
     "text": [
      "Feature Extraction: 100%|██████████| 80/80 [01:08<00:00,  1.16it/s]\n",
      "Feature Extraction: 100%|██████████| 78/78 [00:12<00:00,  6.41it/s]\n",
      "Feature Extraction: 100%|██████████| 80/80 [01:05<00:00,  1.22it/s]\n",
      "Feature Extraction: 100%|██████████| 78/78 [00:11<00:00,  6.65it/s]\n",
      "Feature Extraction: 100%|██████████| 80/80 [01:03<00:00,  1.26it/s]\n",
      "Feature Extraction: 100%|██████████| 78/78 [00:10<00:00,  7.22it/s]\n",
      "Feature Extraction: 100%|██████████| 80/80 [01:12<00:00,  1.11it/s]\n",
      "Feature Extraction: 100%|██████████| 78/78 [00:12<00:00,  6.05it/s]\n",
      "Feature Extraction: 100%|██████████| 80/80 [01:06<00:00,  1.20it/s]\n",
      "Feature Extraction: 100%|██████████| 78/78 [00:13<00:00,  5.93it/s]\n"
     ]
    },
    {
     "name": "stdout",
     "output_type": "stream",
     "text": [
      "[I 2024-04-30 01:38:23,770] Trial 7 finished with value: 0.9723040659988215 and parameters: {'use_smote': False, 'n_estimators': 204, 'max_depth': 45, 'min_samples_split': 21, 'min_samples_leaf': 11, 'max_features': 'log2', 'criterion': 'entropy'}. Best is trial 0 with value: 0.9760991442903512.\n"
     ]
    },
    {
     "name": "stderr",
     "output_type": "stream",
     "text": [
      "Feature Extraction: 100%|██████████| 80/80 [01:12<00:00,  1.11it/s]\n",
      "Feature Extraction: 100%|██████████| 78/78 [00:12<00:00,  6.22it/s]\n",
      "Feature Extraction: 100%|██████████| 80/80 [01:05<00:00,  1.23it/s]\n",
      "Feature Extraction: 100%|██████████| 78/78 [00:11<00:00,  6.99it/s]\n",
      "Feature Extraction: 100%|██████████| 80/80 [01:09<00:00,  1.14it/s]\n",
      "Feature Extraction: 100%|██████████| 78/78 [00:13<00:00,  5.93it/s]\n",
      "Feature Extraction: 100%|██████████| 80/80 [01:09<00:00,  1.15it/s]\n",
      "Feature Extraction: 100%|██████████| 78/78 [00:12<00:00,  6.38it/s]\n",
      "Feature Extraction: 100%|██████████| 80/80 [01:02<00:00,  1.29it/s]\n",
      "Feature Extraction: 100%|██████████| 78/78 [00:11<00:00,  7.05it/s]\n"
     ]
    },
    {
     "name": "stdout",
     "output_type": "stream",
     "text": [
      "[I 2024-04-30 01:47:54,046] Trial 8 finished with value: 0.969732588892154 and parameters: {'use_smote': True, 'n_estimators': 207, 'max_depth': 39, 'min_samples_split': 25, 'min_samples_leaf': 18, 'max_features': 'sqrt', 'criterion': 'gini'}. Best is trial 0 with value: 0.9760991442903512.\n"
     ]
    },
    {
     "name": "stderr",
     "output_type": "stream",
     "text": [
      "Feature Extraction: 100%|██████████| 80/80 [01:02<00:00,  1.27it/s]\n",
      "Feature Extraction: 100%|██████████| 78/78 [00:11<00:00,  6.94it/s]\n",
      "Feature Extraction: 100%|██████████| 80/80 [01:02<00:00,  1.28it/s]\n",
      "Feature Extraction: 100%|██████████| 78/78 [00:11<00:00,  6.96it/s]\n",
      "Feature Extraction: 100%|██████████| 80/80 [01:02<00:00,  1.29it/s]\n",
      "Feature Extraction: 100%|██████████| 78/78 [00:10<00:00,  7.61it/s]\n",
      "Feature Extraction: 100%|██████████| 80/80 [01:04<00:00,  1.23it/s]\n",
      "Feature Extraction: 100%|██████████| 78/78 [00:11<00:00,  6.91it/s]\n",
      "Feature Extraction: 100%|██████████| 80/80 [01:10<00:00,  1.13it/s]\n",
      "Feature Extraction: 100%|██████████| 78/78 [00:12<00:00,  6.46it/s]\n"
     ]
    },
    {
     "name": "stdout",
     "output_type": "stream",
     "text": [
      "[I 2024-04-30 01:57:02,829] Trial 9 finished with value: 0.9637702503681885 and parameters: {'use_smote': True, 'n_estimators': 673, 'max_depth': 22, 'min_samples_split': 17, 'min_samples_leaf': 30, 'max_features': 'log2', 'criterion': 'gini'}. Best is trial 0 with value: 0.9760991442903512.\n"
     ]
    },
    {
     "name": "stderr",
     "output_type": "stream",
     "text": [
      "Feature Extraction: 100%|██████████| 80/80 [01:09<00:00,  1.15it/s]\n",
      "Feature Extraction: 100%|██████████| 78/78 [00:12<00:00,  6.34it/s]\n",
      "Feature Extraction: 100%|██████████| 80/80 [01:09<00:00,  1.15it/s]\n",
      "Feature Extraction: 100%|██████████| 78/78 [00:12<00:00,  6.26it/s]\n",
      "Feature Extraction: 100%|██████████| 80/80 [00:59<00:00,  1.35it/s]\n",
      "Feature Extraction: 100%|██████████| 78/78 [00:10<00:00,  7.46it/s]\n",
      "Feature Extraction: 100%|██████████| 80/80 [01:00<00:00,  1.33it/s]\n",
      "Feature Extraction: 100%|██████████| 78/78 [00:10<00:00,  7.39it/s]\n",
      "Feature Extraction: 100%|██████████| 80/80 [01:02<00:00,  1.29it/s]\n",
      "Feature Extraction: 100%|██████████| 78/78 [00:11<00:00,  6.73it/s]\n"
     ]
    },
    {
     "name": "stdout",
     "output_type": "stream",
     "text": [
      "[I 2024-04-30 02:06:06,019] Trial 10 finished with value: 0.9796400118028917 and parameters: {'use_smote': False, 'n_estimators': 918, 'max_depth': 33, 'min_samples_split': 2, 'min_samples_leaf': 1, 'max_features': 'log2', 'criterion': 'entropy'}. Best is trial 10 with value: 0.9796400118028917.\n"
     ]
    },
    {
     "name": "stderr",
     "output_type": "stream",
     "text": [
      "Feature Extraction: 100%|██████████| 80/80 [01:01<00:00,  1.29it/s]\n",
      "Feature Extraction: 100%|██████████| 78/78 [00:10<00:00,  7.46it/s]\n",
      "Feature Extraction: 100%|██████████| 80/80 [01:01<00:00,  1.31it/s]\n",
      "Feature Extraction: 100%|██████████| 78/78 [00:10<00:00,  7.57it/s]\n",
      "Feature Extraction: 100%|██████████| 80/80 [01:00<00:00,  1.33it/s]\n",
      "Feature Extraction: 100%|██████████| 78/78 [00:10<00:00,  7.42it/s]\n",
      "Feature Extraction: 100%|██████████| 80/80 [01:02<00:00,  1.29it/s]\n",
      "Feature Extraction: 100%|██████████| 78/78 [00:10<00:00,  7.28it/s]\n",
      "Feature Extraction: 100%|██████████| 80/80 [01:00<00:00,  1.32it/s]\n",
      "Feature Extraction: 100%|██████████| 78/78 [00:10<00:00,  7.36it/s]\n"
     ]
    },
    {
     "name": "stdout",
     "output_type": "stream",
     "text": [
      "[I 2024-04-30 02:14:33,680] Trial 11 finished with value: 0.9796400118028917 and parameters: {'use_smote': False, 'n_estimators': 961, 'max_depth': 33, 'min_samples_split': 2, 'min_samples_leaf': 1, 'max_features': 'log2', 'criterion': 'entropy'}. Best is trial 10 with value: 0.9796400118028917.\n"
     ]
    },
    {
     "name": "stderr",
     "output_type": "stream",
     "text": [
      "Feature Extraction: 100%|██████████| 80/80 [01:05<00:00,  1.21it/s]\n",
      "Feature Extraction: 100%|██████████| 78/78 [00:12<00:00,  6.33it/s]\n",
      "Feature Extraction: 100%|██████████| 80/80 [01:09<00:00,  1.16it/s]\n",
      "Feature Extraction: 100%|██████████| 78/78 [00:12<00:00,  6.34it/s]\n",
      "Feature Extraction: 100%|██████████| 80/80 [01:09<00:00,  1.15it/s]\n",
      "Feature Extraction: 100%|██████████| 78/78 [00:12<00:00,  6.37it/s]\n",
      "Feature Extraction: 100%|██████████| 80/80 [01:07<00:00,  1.19it/s]\n",
      "Feature Extraction: 100%|██████████| 78/78 [00:11<00:00,  6.55it/s]\n",
      "Feature Extraction: 100%|██████████| 80/80 [01:08<00:00,  1.17it/s]\n",
      "Feature Extraction: 100%|██████████| 78/78 [00:12<00:00,  6.17it/s]\n"
     ]
    },
    {
     "name": "stdout",
     "output_type": "stream",
     "text": [
      "[I 2024-04-30 02:24:31,223] Trial 12 finished with value: 0.9796400118028917 and parameters: {'use_smote': False, 'n_estimators': 970, 'max_depth': 27, 'min_samples_split': 2, 'min_samples_leaf': 1, 'max_features': 'log2', 'criterion': 'entropy'}. Best is trial 10 with value: 0.9796400118028917.\n"
     ]
    },
    {
     "name": "stderr",
     "output_type": "stream",
     "text": [
      "Feature Extraction: 100%|██████████| 80/80 [01:10<00:00,  1.13it/s]\n",
      "Feature Extraction: 100%|██████████| 78/78 [00:11<00:00,  6.57it/s]\n",
      "Feature Extraction: 100%|██████████| 80/80 [01:04<00:00,  1.24it/s]\n",
      "Feature Extraction: 100%|██████████| 78/78 [00:11<00:00,  6.96it/s]\n",
      "Feature Extraction: 100%|██████████| 80/80 [01:00<00:00,  1.33it/s]\n",
      "Feature Extraction: 100%|██████████| 78/78 [00:11<00:00,  6.65it/s]\n",
      "Feature Extraction: 100%|██████████| 80/80 [01:11<00:00,  1.12it/s]\n",
      "Feature Extraction: 100%|██████████| 78/78 [00:12<00:00,  6.32it/s]\n",
      "Feature Extraction: 100%|██████████| 80/80 [01:10<00:00,  1.14it/s]\n",
      "Feature Extraction: 100%|██████████| 78/78 [00:12<00:00,  6.12it/s]\n"
     ]
    },
    {
     "name": "stdout",
     "output_type": "stream",
     "text": [
      "[I 2024-04-30 02:34:24,453] Trial 13 finished with value: 0.976401179941003 and parameters: {'use_smote': False, 'n_estimators': 998, 'max_depth': 36, 'min_samples_split': 12, 'min_samples_leaf': 2, 'max_features': 'log2', 'criterion': 'entropy'}. Best is trial 10 with value: 0.9796400118028917.\n"
     ]
    },
    {
     "name": "stderr",
     "output_type": "stream",
     "text": [
      "Feature Extraction: 100%|██████████| 80/80 [01:10<00:00,  1.13it/s]\n",
      "Feature Extraction: 100%|██████████| 78/78 [00:12<00:00,  6.26it/s]\n",
      "Feature Extraction: 100%|██████████| 80/80 [01:08<00:00,  1.17it/s]\n",
      "Feature Extraction: 100%|██████████| 78/78 [00:11<00:00,  6.53it/s]\n",
      "Feature Extraction: 100%|██████████| 80/80 [01:01<00:00,  1.29it/s]\n",
      "Feature Extraction: 100%|██████████| 78/78 [00:10<00:00,  7.10it/s]\n",
      "Feature Extraction: 100%|██████████| 80/80 [01:05<00:00,  1.22it/s]\n",
      "Feature Extraction: 100%|██████████| 78/78 [00:12<00:00,  6.47it/s]\n",
      "Feature Extraction: 100%|██████████| 80/80 [01:08<00:00,  1.16it/s]\n",
      "Feature Extraction: 100%|██████████| 78/78 [00:12<00:00,  6.40it/s]\n"
     ]
    },
    {
     "name": "stdout",
     "output_type": "stream",
     "text": [
      "[I 2024-04-30 02:43:59,946] Trial 14 finished with value: 0.9793388429752066 and parameters: {'use_smote': False, 'n_estimators': 883, 'max_depth': 28, 'min_samples_split': 2, 'min_samples_leaf': 1, 'max_features': 'log2', 'criterion': 'entropy'}. Best is trial 10 with value: 0.9796400118028917.\n"
     ]
    },
    {
     "name": "stderr",
     "output_type": "stream",
     "text": [
      "Feature Extraction: 100%|██████████| 80/80 [01:06<00:00,  1.20it/s]\n",
      "Feature Extraction: 100%|██████████| 78/78 [00:11<00:00,  6.66it/s]\n",
      "Feature Extraction: 100%|██████████| 80/80 [01:09<00:00,  1.16it/s]\n",
      "Feature Extraction: 100%|██████████| 78/78 [00:12<00:00,  6.37it/s]\n",
      "Feature Extraction: 100%|██████████| 80/80 [01:07<00:00,  1.19it/s]\n",
      "Feature Extraction: 100%|██████████| 78/78 [00:12<00:00,  6.38it/s]\n",
      "Feature Extraction: 100%|██████████| 80/80 [01:08<00:00,  1.17it/s]\n",
      "Feature Extraction: 100%|██████████| 78/78 [00:11<00:00,  6.51it/s]\n",
      "Feature Extraction: 100%|██████████| 80/80 [01:10<00:00,  1.13it/s]\n",
      "Feature Extraction: 100%|██████████| 78/78 [00:12<00:00,  6.17it/s]\n"
     ]
    },
    {
     "name": "stdout",
     "output_type": "stream",
     "text": [
      "[I 2024-04-30 02:53:56,811] Trial 15 finished with value: 0.9677800768548626 and parameters: {'use_smote': False, 'n_estimators': 603, 'max_depth': 35, 'min_samples_split': 31, 'min_samples_leaf': 24, 'max_features': 'log2', 'criterion': 'entropy'}. Best is trial 10 with value: 0.9796400118028917.\n"
     ]
    },
    {
     "name": "stderr",
     "output_type": "stream",
     "text": [
      "Feature Extraction: 100%|██████████| 80/80 [01:10<00:00,  1.13it/s]\n",
      "Feature Extraction: 100%|██████████| 78/78 [00:11<00:00,  6.59it/s]\n",
      "Feature Extraction: 100%|██████████| 80/80 [01:09<00:00,  1.16it/s]\n",
      "Feature Extraction: 100%|██████████| 78/78 [00:12<00:00,  6.26it/s]\n",
      "Feature Extraction: 100%|██████████| 80/80 [01:06<00:00,  1.20it/s]\n",
      "Feature Extraction: 100%|██████████| 78/78 [00:11<00:00,  6.95it/s]\n",
      "Feature Extraction: 100%|██████████| 80/80 [01:11<00:00,  1.12it/s]\n",
      "Feature Extraction: 100%|██████████| 78/78 [00:12<00:00,  6.17it/s]\n",
      "Feature Extraction: 100%|██████████| 80/80 [01:10<00:00,  1.14it/s]\n",
      "Feature Extraction: 100%|██████████| 78/78 [00:11<00:00,  6.71it/s]\n"
     ]
    },
    {
     "name": "stdout",
     "output_type": "stream",
     "text": [
      "[I 2024-04-30 03:04:06,801] Trial 16 finished with value: 0.9752212389380531 and parameters: {'use_smote': False, 'n_estimators': 881, 'max_depth': 24, 'min_samples_split': 10, 'min_samples_leaf': 7, 'max_features': 'log2', 'criterion': 'entropy'}. Best is trial 10 with value: 0.9796400118028917.\n"
     ]
    },
    {
     "name": "stderr",
     "output_type": "stream",
     "text": [
      "Feature Extraction: 100%|██████████| 80/80 [01:08<00:00,  1.17it/s]\n",
      "Feature Extraction: 100%|██████████| 78/78 [00:12<00:00,  6.43it/s]\n",
      "Feature Extraction: 100%|██████████| 80/80 [01:08<00:00,  1.17it/s]\n",
      "Feature Extraction: 100%|██████████| 78/78 [00:09<00:00,  7.88it/s]\n",
      "Feature Extraction: 100%|██████████| 80/80 [01:03<00:00,  1.26it/s]\n",
      "Feature Extraction: 100%|██████████| 78/78 [00:10<00:00,  7.13it/s]\n",
      "Feature Extraction: 100%|██████████| 80/80 [01:03<00:00,  1.26it/s]\n",
      "Feature Extraction: 100%|██████████| 78/78 [00:11<00:00,  6.90it/s]\n",
      "Feature Extraction: 100%|██████████| 80/80 [01:02<00:00,  1.27it/s]\n",
      "Feature Extraction: 100%|██████████| 78/78 [00:11<00:00,  7.04it/s]\n"
     ]
    },
    {
     "name": "stdout",
     "output_type": "stream",
     "text": [
      "[I 2024-04-30 03:13:09,763] Trial 17 finished with value: 0.9634218289085545 and parameters: {'use_smote': False, 'n_estimators': 741, 'max_depth': 32, 'min_samples_split': 2, 'min_samples_leaf': 32, 'max_features': 'log2', 'criterion': 'entropy'}. Best is trial 10 with value: 0.9796400118028917.\n"
     ]
    },
    {
     "name": "stderr",
     "output_type": "stream",
     "text": [
      "Feature Extraction: 100%|██████████| 80/80 [00:59<00:00,  1.34it/s]\n",
      "Feature Extraction: 100%|██████████| 78/78 [00:11<00:00,  6.94it/s]\n",
      "Feature Extraction: 100%|██████████| 80/80 [01:09<00:00,  1.15it/s]\n",
      "Feature Extraction: 100%|██████████| 78/78 [00:13<00:00,  5.93it/s]\n",
      "Feature Extraction: 100%|██████████| 80/80 [01:09<00:00,  1.15it/s]\n",
      "Feature Extraction: 100%|██████████| 78/78 [00:12<00:00,  6.11it/s]\n",
      "Feature Extraction: 100%|██████████| 80/80 [01:08<00:00,  1.17it/s]\n",
      "Feature Extraction: 100%|██████████| 78/78 [00:12<00:00,  6.08it/s]\n",
      "Feature Extraction: 100%|██████████| 80/80 [01:04<00:00,  1.25it/s]\n",
      "Feature Extraction: 100%|██████████| 78/78 [00:10<00:00,  7.17it/s]\n"
     ]
    },
    {
     "name": "stdout",
     "output_type": "stream",
     "text": [
      "[I 2024-04-30 03:22:51,855] Trial 18 finished with value: 0.9760850310008857 and parameters: {'use_smote': True, 'n_estimators': 492, 'max_depth': 39, 'min_samples_split': 13, 'min_samples_leaf': 4, 'max_features': 'log2', 'criterion': 'entropy'}. Best is trial 10 with value: 0.9796400118028917.\n"
     ]
    },
    {
     "name": "stderr",
     "output_type": "stream",
     "text": [
      "Feature Extraction: 100%|██████████| 80/80 [01:03<00:00,  1.27it/s]\n",
      "Feature Extraction: 100%|██████████| 78/78 [00:11<00:00,  6.92it/s]\n",
      "Feature Extraction: 100%|██████████| 80/80 [01:02<00:00,  1.27it/s]\n",
      "Feature Extraction: 100%|██████████| 78/78 [00:11<00:00,  6.88it/s]\n",
      "Feature Extraction: 100%|██████████| 80/80 [01:02<00:00,  1.28it/s]\n",
      "Feature Extraction: 100%|██████████| 78/78 [00:10<00:00,  7.15it/s]\n",
      "Feature Extraction: 100%|██████████| 80/80 [01:07<00:00,  1.18it/s]\n",
      "Feature Extraction: 100%|██████████| 78/78 [00:12<00:00,  6.13it/s]\n",
      "Feature Extraction: 100%|██████████| 80/80 [01:08<00:00,  1.17it/s]\n",
      "Feature Extraction: 100%|██████████| 78/78 [00:11<00:00,  7.00it/s]\n"
     ]
    },
    {
     "name": "stdout",
     "output_type": "stream",
     "text": [
      "[I 2024-04-30 03:32:21,227] Trial 19 finished with value: 0.9711255156157925 and parameters: {'use_smote': False, 'n_estimators': 916, 'max_depth': 17, 'min_samples_split': 16, 'min_samples_leaf': 14, 'max_features': 'log2', 'criterion': 'log_loss'}. Best is trial 10 with value: 0.9796400118028917.\n"
     ]
    },
    {
     "name": "stderr",
     "output_type": "stream",
     "text": [
      "Feature Extraction: 100%|██████████| 80/80 [01:08<00:00,  1.16it/s]\n",
      "Feature Extraction: 100%|██████████| 78/78 [00:11<00:00,  6.55it/s]\n",
      "Feature Extraction: 100%|██████████| 80/80 [01:07<00:00,  1.18it/s]\n",
      "Feature Extraction: 100%|██████████| 78/78 [00:10<00:00,  7.76it/s]\n",
      "Feature Extraction: 100%|██████████| 80/80 [01:00<00:00,  1.31it/s]\n",
      "Feature Extraction: 100%|██████████| 78/78 [00:10<00:00,  7.25it/s]\n",
      "Feature Extraction: 100%|██████████| 80/80 [01:00<00:00,  1.33it/s]\n",
      "Feature Extraction: 100%|██████████| 78/78 [00:11<00:00,  6.78it/s]\n",
      "Feature Extraction: 100%|██████████| 80/80 [01:02<00:00,  1.28it/s]\n",
      "Feature Extraction: 100%|██████████| 78/78 [00:11<00:00,  6.73it/s]\n"
     ]
    },
    {
     "name": "stdout",
     "output_type": "stream",
     "text": [
      "[I 2024-04-30 03:41:00,560] Trial 20 finished with value: 0.9728613569321534 and parameters: {'use_smote': False, 'n_estimators': 781, 'max_depth': 46, 'min_samples_split': 5, 'min_samples_leaf': 10, 'max_features': 'log2', 'criterion': 'entropy'}. Best is trial 10 with value: 0.9796400118028917.\n"
     ]
    },
    {
     "name": "stderr",
     "output_type": "stream",
     "text": [
      "Feature Extraction: 100%|██████████| 80/80 [01:00<00:00,  1.33it/s]\n",
      "Feature Extraction: 100%|██████████| 78/78 [00:10<00:00,  7.24it/s]\n",
      "Feature Extraction: 100%|██████████| 80/80 [01:00<00:00,  1.32it/s]\n",
      "Feature Extraction: 100%|██████████| 78/78 [00:10<00:00,  7.37it/s]\n",
      "Feature Extraction: 100%|██████████| 80/80 [01:00<00:00,  1.32it/s]\n",
      "Feature Extraction: 100%|██████████| 78/78 [00:10<00:00,  7.25it/s]\n",
      "Feature Extraction: 100%|██████████| 80/80 [00:59<00:00,  1.35it/s]\n",
      "Feature Extraction: 100%|██████████| 78/78 [00:10<00:00,  7.37it/s]\n",
      "Feature Extraction: 100%|██████████| 80/80 [00:59<00:00,  1.34it/s]\n",
      "Feature Extraction: 100%|██████████| 78/78 [00:10<00:00,  7.49it/s]\n"
     ]
    },
    {
     "name": "stdout",
     "output_type": "stream",
     "text": [
      "[I 2024-04-30 03:49:14,175] Trial 21 finished with value: 0.9796400118028917 and parameters: {'use_smote': False, 'n_estimators': 995, 'max_depth': 27, 'min_samples_split': 2, 'min_samples_leaf': 1, 'max_features': 'log2', 'criterion': 'entropy'}. Best is trial 10 with value: 0.9796400118028917.\n"
     ]
    },
    {
     "name": "stderr",
     "output_type": "stream",
     "text": [
      "Feature Extraction: 100%|██████████| 80/80 [01:00<00:00,  1.33it/s]\n",
      "Feature Extraction: 100%|██████████| 78/78 [00:10<00:00,  7.21it/s]\n",
      "Feature Extraction: 100%|██████████| 80/80 [01:00<00:00,  1.31it/s]\n",
      "Feature Extraction: 100%|██████████| 78/78 [00:10<00:00,  7.41it/s]\n",
      "Feature Extraction: 100%|██████████| 80/80 [00:59<00:00,  1.35it/s]\n",
      "Feature Extraction: 100%|██████████| 78/78 [00:10<00:00,  7.28it/s]\n",
      "Feature Extraction: 100%|██████████| 80/80 [00:59<00:00,  1.33it/s]\n",
      "Feature Extraction: 100%|██████████| 78/78 [00:10<00:00,  7.18it/s]\n",
      "Feature Extraction: 100%|██████████| 80/80 [01:00<00:00,  1.32it/s]\n",
      "Feature Extraction: 100%|██████████| 78/78 [00:10<00:00,  7.27it/s]\n"
     ]
    },
    {
     "name": "stdout",
     "output_type": "stream",
     "text": [
      "[I 2024-04-30 03:57:22,041] Trial 22 finished with value: 0.9772794334611979 and parameters: {'use_smote': False, 'n_estimators': 942, 'max_depth': 27, 'min_samples_split': 4, 'min_samples_leaf': 3, 'max_features': 'log2', 'criterion': 'entropy'}. Best is trial 10 with value: 0.9796400118028917.\n"
     ]
    },
    {
     "name": "stderr",
     "output_type": "stream",
     "text": [
      "Feature Extraction: 100%|██████████| 80/80 [00:59<00:00,  1.33it/s]\n",
      "Feature Extraction: 100%|██████████| 78/78 [00:10<00:00,  7.43it/s]\n",
      "Feature Extraction: 100%|██████████| 80/80 [01:01<00:00,  1.31it/s]\n",
      "Feature Extraction: 100%|██████████| 78/78 [00:11<00:00,  6.85it/s]\n",
      "Feature Extraction: 100%|██████████| 80/80 [01:00<00:00,  1.33it/s]\n",
      "Feature Extraction: 100%|██████████| 78/78 [00:10<00:00,  7.32it/s]\n"
     ]
    },
    {
     "name": "stdout",
     "output_type": "stream",
     "text": [
      "[I 2024-04-30 04:02:15,013] Trial 23 pruned. \n"
     ]
    },
    {
     "name": "stderr",
     "output_type": "stream",
     "text": [
      "Feature Extraction: 100%|██████████| 80/80 [01:01<00:00,  1.30it/s]\n",
      "Feature Extraction: 100%|██████████| 78/78 [00:10<00:00,  7.24it/s]\n",
      "Feature Extraction: 100%|██████████| 80/80 [01:00<00:00,  1.33it/s]\n",
      "Feature Extraction: 100%|██████████| 78/78 [00:10<00:00,  7.33it/s]\n",
      "Feature Extraction: 100%|██████████| 80/80 [01:00<00:00,  1.33it/s]\n",
      "Feature Extraction: 100%|██████████| 78/78 [00:11<00:00,  7.07it/s]\n",
      "Feature Extraction: 100%|██████████| 80/80 [00:59<00:00,  1.34it/s]\n",
      "Feature Extraction: 100%|██████████| 78/78 [00:10<00:00,  7.36it/s]\n",
      "Feature Extraction: 100%|██████████| 80/80 [00:59<00:00,  1.35it/s]\n",
      "Feature Extraction: 100%|██████████| 78/78 [00:10<00:00,  7.49it/s]\n"
     ]
    },
    {
     "name": "stdout",
     "output_type": "stream",
     "text": [
      "[I 2024-04-30 04:10:16,735] Trial 24 finished with value: 0.9778695780466214 and parameters: {'use_smote': False, 'n_estimators': 667, 'max_depth': 38, 'min_samples_split': 9, 'min_samples_leaf': 4, 'max_features': 'log2', 'criterion': 'entropy'}. Best is trial 10 with value: 0.9796400118028917.\n"
     ]
    },
    {
     "name": "stderr",
     "output_type": "stream",
     "text": [
      "Feature Extraction: 100%|██████████| 80/80 [00:59<00:00,  1.35it/s]\n",
      "Feature Extraction: 100%|██████████| 78/78 [00:10<00:00,  7.39it/s]\n",
      "Feature Extraction: 100%|██████████| 80/80 [00:59<00:00,  1.36it/s]\n",
      "Feature Extraction: 100%|██████████| 78/78 [00:11<00:00,  6.68it/s]\n",
      "Feature Extraction: 100%|██████████| 80/80 [01:03<00:00,  1.25it/s]\n",
      "Feature Extraction: 100%|██████████| 78/78 [00:11<00:00,  6.83it/s]\n",
      "Feature Extraction: 100%|██████████| 80/80 [01:01<00:00,  1.30it/s]\n",
      "Feature Extraction: 100%|██████████| 78/78 [00:10<00:00,  7.55it/s]\n",
      "Feature Extraction: 100%|██████████| 80/80 [01:00<00:00,  1.33it/s]\n",
      "Feature Extraction: 100%|██████████| 78/78 [00:10<00:00,  7.11it/s]\n"
     ]
    },
    {
     "name": "stdout",
     "output_type": "stream",
     "text": [
      "[I 2024-04-30 04:18:33,789] Trial 25 finished with value: 0.9784342688330872 and parameters: {'use_smote': False, 'n_estimators': 965, 'max_depth': 24, 'min_samples_split': 3, 'min_samples_leaf': 1, 'max_features': 'log2', 'criterion': 'entropy'}. Best is trial 10 with value: 0.9796400118028917.\n"
     ]
    },
    {
     "name": "stderr",
     "output_type": "stream",
     "text": [
      "Feature Extraction: 100%|██████████| 80/80 [01:00<00:00,  1.32it/s]\n",
      "Feature Extraction: 100%|██████████| 78/78 [00:10<00:00,  7.30it/s]\n",
      "Feature Extraction: 100%|██████████| 80/80 [01:01<00:00,  1.31it/s]\n",
      "Feature Extraction: 100%|██████████| 78/78 [00:10<00:00,  7.48it/s]\n",
      "Feature Extraction: 100%|██████████| 80/80 [01:00<00:00,  1.31it/s]\n",
      "Feature Extraction: 100%|██████████| 78/78 [00:10<00:00,  7.21it/s]\n",
      "Feature Extraction: 100%|██████████| 80/80 [01:00<00:00,  1.31it/s]\n",
      "Feature Extraction: 100%|██████████| 78/78 [00:10<00:00,  7.46it/s]\n",
      "Feature Extraction: 100%|██████████| 80/80 [01:00<00:00,  1.32it/s]\n",
      "Feature Extraction: 100%|██████████| 78/78 [00:10<00:00,  7.36it/s]\n"
     ]
    },
    {
     "name": "stdout",
     "output_type": "stream",
     "text": [
      "[I 2024-04-30 04:26:48,718] Trial 26 finished with value: 0.9769911504424779 and parameters: {'use_smote': True, 'n_estimators': 839, 'max_depth': 19, 'min_samples_split': 5, 'min_samples_leaf': 4, 'max_features': 'log2', 'criterion': 'entropy'}. Best is trial 10 with value: 0.9796400118028917.\n"
     ]
    },
    {
     "name": "stderr",
     "output_type": "stream",
     "text": [
      "Feature Extraction: 100%|██████████| 80/80 [01:00<00:00,  1.33it/s]\n",
      "Feature Extraction: 100%|██████████| 78/78 [00:09<00:00,  7.85it/s]\n",
      "Feature Extraction: 100%|██████████| 80/80 [01:01<00:00,  1.31it/s]\n",
      "Feature Extraction: 100%|██████████| 78/78 [00:11<00:00,  7.06it/s]\n",
      "Feature Extraction: 100%|██████████| 80/80 [01:01<00:00,  1.31it/s]\n",
      "Feature Extraction: 100%|██████████| 78/78 [00:10<00:00,  7.35it/s]\n"
     ]
    },
    {
     "name": "stdout",
     "output_type": "stream",
     "text": [
      "[I 2024-04-30 04:31:51,947] Trial 27 pruned. \n"
     ]
    },
    {
     "name": "stderr",
     "output_type": "stream",
     "text": [
      "Feature Extraction: 100%|██████████| 80/80 [01:01<00:00,  1.31it/s]\n",
      "Feature Extraction: 100%|██████████| 78/78 [00:11<00:00,  6.93it/s]\n",
      "Feature Extraction: 100%|██████████| 80/80 [01:01<00:00,  1.30it/s]\n",
      "Feature Extraction: 100%|██████████| 78/78 [00:11<00:00,  7.00it/s]\n",
      "Feature Extraction: 100%|██████████| 80/80 [00:59<00:00,  1.34it/s]\n",
      "Feature Extraction: 100%|██████████| 78/78 [00:10<00:00,  7.29it/s]\n"
     ]
    },
    {
     "name": "stdout",
     "output_type": "stream",
     "text": [
      "[I 2024-04-30 04:36:47,059] Trial 28 pruned. \n"
     ]
    },
    {
     "name": "stderr",
     "output_type": "stream",
     "text": [
      "Feature Extraction: 100%|██████████| 80/80 [00:59<00:00,  1.34it/s]\n",
      "Feature Extraction: 100%|██████████| 78/78 [00:10<00:00,  7.19it/s]\n",
      "Feature Extraction: 100%|██████████| 80/80 [01:00<00:00,  1.32it/s]\n",
      "Feature Extraction: 100%|██████████| 78/78 [00:10<00:00,  7.24it/s]\n",
      "Feature Extraction: 100%|██████████| 80/80 [01:02<00:00,  1.29it/s]\n",
      "Feature Extraction: 100%|██████████| 78/78 [00:10<00:00,  7.34it/s]\n",
      "Feature Extraction: 100%|██████████| 80/80 [00:59<00:00,  1.34it/s]\n",
      "Feature Extraction: 100%|██████████| 78/78 [00:10<00:00,  7.46it/s]\n",
      "Feature Extraction: 100%|██████████| 80/80 [00:59<00:00,  1.34it/s]\n",
      "Feature Extraction: 100%|██████████| 78/78 [00:10<00:00,  7.28it/s]\n"
     ]
    },
    {
     "name": "stdout",
     "output_type": "stream",
     "text": [
      "[I 2024-04-30 04:44:56,361] Trial 29 finished with value: 0.9760991442903512 and parameters: {'use_smote': False, 'n_estimators': 784, 'max_depth': 33, 'min_samples_split': 6, 'min_samples_leaf': 5, 'max_features': 'log2', 'criterion': 'log_loss'}. Best is trial 10 with value: 0.9796400118028917.\n"
     ]
    },
    {
     "name": "stderr",
     "output_type": "stream",
     "text": [
      "Feature Extraction: 100%|██████████| 80/80 [01:00<00:00,  1.31it/s]\n",
      "Feature Extraction: 100%|██████████| 78/78 [00:11<00:00,  6.77it/s]\n",
      "Feature Extraction: 100%|██████████| 80/80 [01:02<00:00,  1.29it/s]\n",
      "Feature Extraction: 100%|██████████| 78/78 [00:10<00:00,  7.40it/s]\n",
      "Feature Extraction: 100%|██████████| 80/80 [01:00<00:00,  1.32it/s]\n",
      "Feature Extraction: 100%|██████████| 78/78 [00:10<00:00,  7.23it/s]\n"
     ]
    },
    {
     "name": "stdout",
     "output_type": "stream",
     "text": [
      "[I 2024-04-30 04:49:51,273] Trial 30 pruned. \n"
     ]
    },
    {
     "name": "stderr",
     "output_type": "stream",
     "text": [
      "Feature Extraction: 100%|██████████| 80/80 [00:59<00:00,  1.33it/s]\n",
      "Feature Extraction: 100%|██████████| 78/78 [00:10<00:00,  7.11it/s]\n",
      "Feature Extraction: 100%|██████████| 80/80 [01:00<00:00,  1.32it/s]\n",
      "Feature Extraction: 100%|██████████| 78/78 [00:12<00:00,  6.17it/s]\n",
      "Feature Extraction: 100%|██████████| 80/80 [01:10<00:00,  1.14it/s]\n",
      "Feature Extraction: 100%|██████████| 78/78 [00:12<00:00,  6.13it/s]\n",
      "Feature Extraction: 100%|██████████| 80/80 [01:03<00:00,  1.27it/s]\n",
      "Feature Extraction: 100%|██████████| 78/78 [00:11<00:00,  6.92it/s]\n",
      "Feature Extraction: 100%|██████████| 80/80 [01:13<00:00,  1.09it/s]\n",
      "Feature Extraction: 100%|██████████| 78/78 [00:11<00:00,  6.97it/s]\n"
     ]
    },
    {
     "name": "stdout",
     "output_type": "stream",
     "text": [
      "[I 2024-04-30 04:59:18,900] Trial 31 finished with value: 0.9796400118028917 and parameters: {'use_smote': False, 'n_estimators': 971, 'max_depth': 27, 'min_samples_split': 2, 'min_samples_leaf': 1, 'max_features': 'log2', 'criterion': 'entropy'}. Best is trial 10 with value: 0.9796400118028917.\n"
     ]
    },
    {
     "name": "stderr",
     "output_type": "stream",
     "text": [
      "Feature Extraction: 100%|██████████| 80/80 [01:02<00:00,  1.28it/s]\n",
      "Feature Extraction: 100%|██████████| 78/78 [00:11<00:00,  6.80it/s]\n",
      "Feature Extraction: 100%|██████████| 80/80 [01:03<00:00,  1.27it/s]\n",
      "Feature Extraction: 100%|██████████| 78/78 [00:11<00:00,  6.60it/s]\n",
      "Feature Extraction: 100%|██████████| 80/80 [01:02<00:00,  1.27it/s]\n",
      "Feature Extraction: 100%|██████████| 78/78 [00:11<00:00,  6.88it/s]\n",
      "Feature Extraction: 100%|██████████| 80/80 [01:02<00:00,  1.28it/s]\n",
      "Feature Extraction: 100%|██████████| 78/78 [00:10<00:00,  7.10it/s]\n",
      "Feature Extraction: 100%|██████████| 80/80 [01:02<00:00,  1.28it/s]\n",
      "Feature Extraction: 100%|██████████| 78/78 [00:11<00:00,  7.05it/s]\n"
     ]
    },
    {
     "name": "stdout",
     "output_type": "stream",
     "text": [
      "[I 2024-04-30 05:08:17,642] Trial 32 finished with value: 0.9775678866587958 and parameters: {'use_smote': False, 'n_estimators': 991, 'max_depth': 25, 'min_samples_split': 4, 'min_samples_leaf': 3, 'max_features': 'log2', 'criterion': 'entropy'}. Best is trial 10 with value: 0.9796400118028917.\n"
     ]
    },
    {
     "name": "stderr",
     "output_type": "stream",
     "text": [
      "Feature Extraction: 100%|██████████| 80/80 [01:02<00:00,  1.27it/s]\n",
      "Feature Extraction: 100%|██████████| 78/78 [00:11<00:00,  6.84it/s]\n",
      "Feature Extraction: 100%|██████████| 80/80 [01:00<00:00,  1.31it/s]\n",
      "Feature Extraction: 100%|██████████| 78/78 [00:11<00:00,  6.91it/s]\n",
      "Feature Extraction: 100%|██████████| 80/80 [01:02<00:00,  1.29it/s]\n",
      "Feature Extraction: 100%|██████████| 78/78 [00:11<00:00,  6.87it/s]\n"
     ]
    },
    {
     "name": "stdout",
     "output_type": "stream",
     "text": [
      "[I 2024-04-30 05:13:29,285] Trial 33 pruned. \n"
     ]
    },
    {
     "name": "stderr",
     "output_type": "stream",
     "text": [
      "Feature Extraction: 100%|██████████| 80/80 [01:02<00:00,  1.28it/s]\n",
      "Feature Extraction: 100%|██████████| 78/78 [00:11<00:00,  6.90it/s]\n",
      "Feature Extraction: 100%|██████████| 80/80 [01:02<00:00,  1.27it/s]\n",
      "Feature Extraction: 100%|██████████| 78/78 [00:11<00:00,  6.89it/s]\n",
      "Feature Extraction: 100%|██████████| 80/80 [01:03<00:00,  1.26it/s]\n",
      "Feature Extraction: 100%|██████████| 78/78 [00:11<00:00,  7.05it/s]\n",
      "Feature Extraction: 100%|██████████| 80/80 [01:11<00:00,  1.12it/s]\n",
      "Feature Extraction: 100%|██████████| 78/78 [00:12<00:00,  6.17it/s]\n",
      "Feature Extraction: 100%|██████████| 80/80 [01:10<00:00,  1.13it/s]\n",
      "Feature Extraction: 100%|██████████| 78/78 [00:11<00:00,  7.05it/s]\n"
     ]
    },
    {
     "name": "stdout",
     "output_type": "stream",
     "text": [
      "[I 2024-04-30 05:23:14,552] Trial 34 finished with value: 0.9810874704491725 and parameters: {'use_smote': False, 'n_estimators': 933, 'max_depth': 37, 'min_samples_split': 2, 'min_samples_leaf': 1, 'max_features': 'sqrt', 'criterion': 'entropy'}. Best is trial 34 with value: 0.9810874704491725.\n"
     ]
    },
    {
     "name": "stderr",
     "output_type": "stream",
     "text": [
      "Feature Extraction: 100%|██████████| 80/80 [01:03<00:00,  1.26it/s]\n",
      "Feature Extraction: 100%|██████████| 78/78 [00:11<00:00,  6.94it/s]\n",
      "Feature Extraction: 100%|██████████| 80/80 [01:03<00:00,  1.26it/s]\n",
      "Feature Extraction: 100%|██████████| 78/78 [00:11<00:00,  7.00it/s]\n",
      "Feature Extraction: 100%|██████████| 80/80 [01:02<00:00,  1.29it/s]\n",
      "Feature Extraction: 100%|██████████| 78/78 [00:11<00:00,  6.92it/s]\n"
     ]
    },
    {
     "name": "stdout",
     "output_type": "stream",
     "text": [
      "[I 2024-04-30 05:28:36,374] Trial 35 pruned. \n"
     ]
    },
    {
     "name": "stderr",
     "output_type": "stream",
     "text": [
      "Feature Extraction: 100%|██████████| 80/80 [01:03<00:00,  1.26it/s]\n",
      "Feature Extraction: 100%|██████████| 78/78 [00:11<00:00,  6.92it/s]\n",
      "Feature Extraction: 100%|██████████| 80/80 [01:03<00:00,  1.26it/s]\n",
      "Feature Extraction: 100%|██████████| 78/78 [00:11<00:00,  6.83it/s]\n",
      "Feature Extraction: 100%|██████████| 80/80 [01:03<00:00,  1.26it/s]\n",
      "Feature Extraction: 100%|██████████| 78/78 [00:11<00:00,  6.96it/s]\n"
     ]
    },
    {
     "name": "stdout",
     "output_type": "stream",
     "text": [
      "[I 2024-04-30 05:34:02,672] Trial 36 pruned. \n"
     ]
    },
    {
     "name": "stderr",
     "output_type": "stream",
     "text": [
      "Feature Extraction: 100%|██████████| 80/80 [01:03<00:00,  1.26it/s]\n",
      "Feature Extraction: 100%|██████████| 78/78 [00:11<00:00,  7.04it/s]\n",
      "Feature Extraction: 100%|██████████| 80/80 [01:03<00:00,  1.27it/s]\n",
      "Feature Extraction: 100%|██████████| 78/78 [00:10<00:00,  7.23it/s]\n",
      "Feature Extraction: 100%|██████████| 80/80 [01:04<00:00,  1.24it/s]\n",
      "Feature Extraction: 100%|██████████| 78/78 [00:11<00:00,  6.87it/s]\n"
     ]
    },
    {
     "name": "stdout",
     "output_type": "stream",
     "text": [
      "[I 2024-04-30 05:39:32,600] Trial 37 pruned. \n"
     ]
    },
    {
     "name": "stderr",
     "output_type": "stream",
     "text": [
      "Feature Extraction: 100%|██████████| 80/80 [01:02<00:00,  1.29it/s]\n",
      "Feature Extraction: 100%|██████████| 78/78 [00:11<00:00,  6.82it/s]\n",
      "Feature Extraction: 100%|██████████| 80/80 [01:02<00:00,  1.27it/s]\n",
      "Feature Extraction: 100%|██████████| 78/78 [00:11<00:00,  6.93it/s]\n",
      "Feature Extraction: 100%|██████████| 80/80 [01:03<00:00,  1.25it/s]\n",
      "Feature Extraction: 100%|██████████| 78/78 [00:11<00:00,  6.95it/s]\n"
     ]
    },
    {
     "name": "stdout",
     "output_type": "stream",
     "text": [
      "[I 2024-04-30 05:45:01,474] Trial 38 pruned. \n"
     ]
    },
    {
     "name": "stderr",
     "output_type": "stream",
     "text": [
      "Feature Extraction: 100%|██████████| 80/80 [01:02<00:00,  1.28it/s]\n",
      "Feature Extraction: 100%|██████████| 78/78 [00:11<00:00,  6.95it/s]\n",
      "Feature Extraction: 100%|██████████| 80/80 [01:03<00:00,  1.26it/s]\n",
      "Feature Extraction: 100%|██████████| 78/78 [00:11<00:00,  6.83it/s]\n",
      "Feature Extraction: 100%|██████████| 80/80 [01:02<00:00,  1.27it/s]\n",
      "Feature Extraction: 100%|██████████| 78/78 [00:11<00:00,  7.06it/s]\n"
     ]
    },
    {
     "name": "stdout",
     "output_type": "stream",
     "text": [
      "[I 2024-04-30 05:50:28,487] Trial 39 pruned. \n"
     ]
    },
    {
     "name": "stderr",
     "output_type": "stream",
     "text": [
      "Feature Extraction: 100%|██████████| 80/80 [01:02<00:00,  1.27it/s]\n",
      "Feature Extraction: 100%|██████████| 78/78 [00:11<00:00,  6.99it/s]\n",
      "Feature Extraction: 100%|██████████| 80/80 [01:02<00:00,  1.28it/s]\n",
      "Feature Extraction: 100%|██████████| 78/78 [00:11<00:00,  6.89it/s]\n",
      "Feature Extraction: 100%|██████████| 80/80 [01:02<00:00,  1.28it/s]\n",
      "Feature Extraction: 100%|██████████| 78/78 [00:11<00:00,  6.75it/s]\n"
     ]
    },
    {
     "name": "stdout",
     "output_type": "stream",
     "text": [
      "[I 2024-04-30 05:56:00,518] Trial 40 pruned. \n"
     ]
    },
    {
     "name": "stderr",
     "output_type": "stream",
     "text": [
      "Feature Extraction: 100%|██████████| 80/80 [01:03<00:00,  1.27it/s]\n",
      "Feature Extraction: 100%|██████████| 78/78 [00:11<00:00,  7.09it/s]\n",
      "Feature Extraction: 100%|██████████| 80/80 [01:03<00:00,  1.26it/s]\n",
      "Feature Extraction: 100%|██████████| 78/78 [00:11<00:00,  6.99it/s]\n",
      "Feature Extraction: 100%|██████████| 80/80 [01:03<00:00,  1.26it/s]\n",
      "Feature Extraction: 100%|██████████| 78/78 [00:11<00:00,  6.76it/s]\n",
      "Feature Extraction: 100%|██████████| 80/80 [01:03<00:00,  1.27it/s]\n",
      "Feature Extraction: 100%|██████████| 78/78 [00:11<00:00,  6.75it/s]\n",
      "Feature Extraction: 100%|██████████| 80/80 [01:02<00:00,  1.29it/s]\n",
      "Feature Extraction: 100%|██████████| 78/78 [00:11<00:00,  7.08it/s]\n"
     ]
    },
    {
     "name": "stdout",
     "output_type": "stream",
     "text": [
      "[I 2024-04-30 06:04:58,995] Trial 41 finished with value: 0.981377475613361 and parameters: {'use_smote': False, 'n_estimators': 950, 'max_depth': 20, 'min_samples_split': 2, 'min_samples_leaf': 1, 'max_features': 'sqrt', 'criterion': 'entropy'}. Best is trial 41 with value: 0.981377475613361.\n"
     ]
    },
    {
     "name": "stderr",
     "output_type": "stream",
     "text": [
      "Feature Extraction: 100%|██████████| 80/80 [01:03<00:00,  1.25it/s]\n",
      "Feature Extraction: 100%|██████████| 78/78 [00:11<00:00,  7.07it/s]\n",
      "Feature Extraction: 100%|██████████| 80/80 [00:59<00:00,  1.34it/s]\n",
      "Feature Extraction: 100%|██████████| 78/78 [00:11<00:00,  6.94it/s]\n",
      "Feature Extraction: 100%|██████████| 80/80 [00:59<00:00,  1.33it/s]\n",
      "Feature Extraction: 100%|██████████| 78/78 [00:10<00:00,  7.16it/s]\n"
     ]
    },
    {
     "name": "stdout",
     "output_type": "stream",
     "text": [
      "[I 2024-04-30 06:09:37,703] Trial 42 pruned. \n"
     ]
    },
    {
     "name": "stderr",
     "output_type": "stream",
     "text": [
      "Feature Extraction: 100%|██████████| 80/80 [00:59<00:00,  1.35it/s]\n",
      "Feature Extraction: 100%|██████████| 78/78 [00:10<00:00,  7.27it/s]\n",
      "Feature Extraction: 100%|██████████| 80/80 [01:02<00:00,  1.29it/s]\n",
      "Feature Extraction: 100%|██████████| 78/78 [00:11<00:00,  6.94it/s]\n",
      "Feature Extraction: 100%|██████████| 80/80 [00:54<00:00,  1.47it/s]\n",
      "Feature Extraction: 100%|██████████| 78/78 [00:11<00:00,  7.07it/s]\n",
      "Feature Extraction: 100%|██████████| 80/80 [00:57<00:00,  1.38it/s]\n",
      "Feature Extraction: 100%|██████████| 78/78 [00:11<00:00,  7.09it/s]\n",
      "Feature Extraction: 100%|██████████| 80/80 [00:57<00:00,  1.38it/s]\n",
      "Feature Extraction: 100%|██████████| 78/78 [00:10<00:00,  7.11it/s]\n"
     ]
    },
    {
     "name": "stdout",
     "output_type": "stream",
     "text": [
      "[I 2024-04-30 06:17:29,064] Trial 43 finished with value: 0.9804964539007093 and parameters: {'use_smote': False, 'n_estimators': 946, 'max_depth': 21, 'min_samples_split': 3, 'min_samples_leaf': 3, 'max_features': 'sqrt', 'criterion': 'entropy'}. Best is trial 41 with value: 0.981377475613361.\n"
     ]
    },
    {
     "name": "stderr",
     "output_type": "stream",
     "text": [
      "Feature Extraction: 100%|██████████| 80/80 [00:56<00:00,  1.41it/s]\n",
      "Feature Extraction: 100%|██████████| 78/78 [00:11<00:00,  7.07it/s]\n",
      "Feature Extraction: 100%|██████████| 80/80 [00:55<00:00,  1.45it/s]\n",
      "Feature Extraction: 100%|██████████| 78/78 [00:11<00:00,  6.99it/s]\n",
      "Feature Extraction: 100%|██████████| 80/80 [00:58<00:00,  1.37it/s]\n",
      "Feature Extraction: 100%|██████████| 78/78 [00:11<00:00,  6.90it/s]\n"
     ]
    },
    {
     "name": "stdout",
     "output_type": "stream",
     "text": [
      "[I 2024-04-30 06:22:26,105] Trial 44 pruned. \n"
     ]
    },
    {
     "name": "stderr",
     "output_type": "stream",
     "text": [
      "Feature Extraction: 100%|██████████| 80/80 [01:01<00:00,  1.31it/s]\n",
      "Feature Extraction: 100%|██████████| 78/78 [00:11<00:00,  7.05it/s]\n",
      "Feature Extraction: 100%|██████████| 80/80 [00:57<00:00,  1.40it/s]\n",
      "Feature Extraction: 100%|██████████| 78/78 [00:10<00:00,  7.63it/s]\n",
      "Feature Extraction: 100%|██████████| 80/80 [00:58<00:00,  1.36it/s]\n",
      "Feature Extraction: 100%|██████████| 78/78 [00:11<00:00,  7.01it/s]\n",
      "Feature Extraction: 100%|██████████| 80/80 [00:55<00:00,  1.43it/s]\n",
      "Feature Extraction: 100%|██████████| 78/78 [00:12<00:00,  6.38it/s]\n",
      "Feature Extraction: 100%|██████████| 80/80 [00:58<00:00,  1.38it/s]\n",
      "Feature Extraction: 100%|██████████| 78/78 [00:11<00:00,  6.62it/s]\n"
     ]
    },
    {
     "name": "stdout",
     "output_type": "stream",
     "text": [
      "[I 2024-04-30 06:31:52,302] Trial 45 finished with value: 0.9802184824328314 and parameters: {'use_smote': False, 'n_estimators': 917, 'max_depth': 20, 'min_samples_split': 7, 'min_samples_leaf': 2, 'max_features': 'sqrt', 'criterion': 'log_loss'}. Best is trial 41 with value: 0.981377475613361.\n"
     ]
    },
    {
     "name": "stderr",
     "output_type": "stream",
     "text": [
      "Feature Extraction: 100%|██████████| 80/80 [01:02<00:00,  1.27it/s]\n",
      "Feature Extraction: 100%|██████████| 78/78 [00:09<00:00,  8.25it/s]\n",
      "Feature Extraction: 100%|██████████| 80/80 [01:05<00:00,  1.23it/s]\n",
      "Feature Extraction: 100%|██████████| 78/78 [00:11<00:00,  6.93it/s]\n",
      "Feature Extraction: 100%|██████████| 80/80 [00:59<00:00,  1.33it/s]\n",
      "Feature Extraction: 100%|██████████| 78/78 [00:10<00:00,  7.09it/s]\n"
     ]
    },
    {
     "name": "stdout",
     "output_type": "stream",
     "text": [
      "[I 2024-04-30 06:36:35,861] Trial 46 pruned. \n"
     ]
    },
    {
     "name": "stderr",
     "output_type": "stream",
     "text": [
      "Feature Extraction: 100%|██████████| 80/80 [01:01<00:00,  1.30it/s]\n",
      "Feature Extraction: 100%|██████████| 78/78 [00:10<00:00,  7.32it/s]\n",
      "Feature Extraction: 100%|██████████| 80/80 [00:57<00:00,  1.39it/s]\n",
      "Feature Extraction: 100%|██████████| 78/78 [00:12<00:00,  6.20it/s]\n",
      "Feature Extraction: 100%|██████████| 80/80 [01:01<00:00,  1.30it/s]\n",
      "Feature Extraction: 100%|██████████| 78/78 [00:09<00:00,  8.50it/s]\n"
     ]
    },
    {
     "name": "stdout",
     "output_type": "stream",
     "text": [
      "[I 2024-04-30 06:41:33,922] Trial 47 pruned. \n"
     ]
    },
    {
     "name": "stderr",
     "output_type": "stream",
     "text": [
      "Feature Extraction: 100%|██████████| 80/80 [01:00<00:00,  1.33it/s]\n",
      "Feature Extraction: 100%|██████████| 78/78 [00:09<00:00,  8.55it/s]\n",
      "Feature Extraction: 100%|██████████| 80/80 [00:59<00:00,  1.35it/s]\n",
      "Feature Extraction: 100%|██████████| 78/78 [00:09<00:00,  8.38it/s]\n",
      "Feature Extraction: 100%|██████████| 80/80 [00:58<00:00,  1.36it/s]\n",
      "Feature Extraction: 100%|██████████| 78/78 [00:10<00:00,  7.55it/s]\n",
      "Feature Extraction: 100%|██████████| 80/80 [00:57<00:00,  1.40it/s]\n",
      "Feature Extraction: 100%|██████████| 78/78 [00:11<00:00,  6.91it/s]\n",
      "Feature Extraction: 100%|██████████| 80/80 [01:02<00:00,  1.28it/s]\n",
      "Feature Extraction: 100%|██████████| 78/78 [00:16<00:00,  4.66it/s]\n"
     ]
    },
    {
     "name": "stdout",
     "output_type": "stream",
     "text": [
      "[I 2024-04-30 06:49:52,705] Trial 48 finished with value: 0.9801833776989056 and parameters: {'use_smote': False, 'n_estimators': 809, 'max_depth': 21, 'min_samples_split': 6, 'min_samples_leaf': 2, 'max_features': 'sqrt', 'criterion': 'log_loss'}. Best is trial 41 with value: 0.981377475613361.\n"
     ]
    },
    {
     "name": "stderr",
     "output_type": "stream",
     "text": [
      "Feature Extraction: 100%|██████████| 80/80 [00:59<00:00,  1.34it/s]\n",
      "Feature Extraction: 100%|██████████| 78/78 [00:07<00:00,  9.96it/s]\n",
      "Feature Extraction: 100%|██████████| 80/80 [01:18<00:00,  1.02it/s]\n",
      "Feature Extraction: 100%|██████████| 78/78 [00:11<00:00,  6.97it/s]\n",
      "Feature Extraction: 100%|██████████| 80/80 [01:13<00:00,  1.09it/s]\n",
      "Feature Extraction: 100%|██████████| 78/78 [00:11<00:00,  6.98it/s]\n"
     ]
    },
    {
     "name": "stdout",
     "output_type": "stream",
     "text": [
      "[I 2024-04-30 06:55:35,780] Trial 49 pruned. \n"
     ]
    },
    {
     "name": "stderr",
     "output_type": "stream",
     "text": [
      "Feature Extraction: 100%|██████████| 80/80 [00:57<00:00,  1.40it/s]\n",
      "Feature Extraction: 100%|██████████| 78/78 [00:17<00:00,  4.54it/s]\n",
      "Feature Extraction: 100%|██████████| 80/80 [01:01<00:00,  1.29it/s]\n",
      "Feature Extraction: 100%|██████████| 78/78 [00:10<00:00,  7.36it/s]\n",
      "Feature Extraction: 100%|██████████| 80/80 [01:28<00:00,  1.10s/it]\n",
      "Feature Extraction: 100%|██████████| 78/78 [00:11<00:00,  7.03it/s]\n",
      "Feature Extraction: 100%|██████████| 80/80 [01:01<00:00,  1.31it/s]\n",
      "Feature Extraction: 100%|██████████| 78/78 [00:11<00:00,  7.02it/s]\n",
      "Feature Extraction: 100%|██████████| 80/80 [00:56<00:00,  1.41it/s]\n",
      "Feature Extraction: 100%|██████████| 78/78 [00:13<00:00,  5.66it/s]\n"
     ]
    },
    {
     "name": "stdout",
     "output_type": "stream",
     "text": [
      "[I 2024-04-30 07:04:36,172] Trial 50 finished with value: 0.9793144208037825 and parameters: {'use_smote': False, 'n_estimators': 333, 'max_depth': 19, 'min_samples_split': 8, 'min_samples_leaf': 2, 'max_features': 'sqrt', 'criterion': 'log_loss'}. Best is trial 41 with value: 0.981377475613361.\n"
     ]
    },
    {
     "name": "stderr",
     "output_type": "stream",
     "text": [
      "Feature Extraction: 100%|██████████| 80/80 [01:00<00:00,  1.33it/s]\n",
      "Feature Extraction: 100%|██████████| 78/78 [00:11<00:00,  6.89it/s]\n",
      "Feature Extraction: 100%|██████████| 80/80 [01:02<00:00,  1.28it/s]\n",
      "Feature Extraction: 100%|██████████| 78/78 [00:10<00:00,  7.33it/s]\n",
      "Feature Extraction: 100%|██████████| 80/80 [01:06<00:00,  1.21it/s]\n",
      "Feature Extraction: 100%|██████████| 78/78 [00:10<00:00,  7.69it/s]\n"
     ]
    },
    {
     "name": "stdout",
     "output_type": "stream",
     "text": [
      "[I 2024-04-30 07:09:34,211] Trial 51 pruned. \n"
     ]
    },
    {
     "name": "stderr",
     "output_type": "stream",
     "text": [
      "Feature Extraction: 100%|██████████| 80/80 [01:06<00:00,  1.21it/s]\n",
      "Feature Extraction: 100%|██████████| 78/78 [00:10<00:00,  7.18it/s]\n",
      "Feature Extraction: 100%|██████████| 80/80 [00:58<00:00,  1.37it/s]\n",
      "Feature Extraction: 100%|██████████| 78/78 [00:12<00:00,  6.46it/s]\n",
      "Feature Extraction: 100%|██████████| 80/80 [01:04<00:00,  1.24it/s]\n",
      "Feature Extraction: 100%|██████████| 78/78 [00:11<00:00,  7.04it/s]\n"
     ]
    },
    {
     "name": "stdout",
     "output_type": "stream",
     "text": [
      "[I 2024-04-30 07:14:28,965] Trial 52 pruned. \n"
     ]
    },
    {
     "name": "stderr",
     "output_type": "stream",
     "text": [
      "Feature Extraction: 100%|██████████| 80/80 [01:00<00:00,  1.33it/s]\n",
      "Feature Extraction: 100%|██████████| 78/78 [00:12<00:00,  6.00it/s]\n",
      "Feature Extraction: 100%|██████████| 80/80 [01:02<00:00,  1.27it/s]\n",
      "Feature Extraction: 100%|██████████| 78/78 [00:11<00:00,  7.02it/s]\n",
      "Feature Extraction: 100%|██████████| 80/80 [01:03<00:00,  1.26it/s]\n",
      "Feature Extraction: 100%|██████████| 78/78 [00:12<00:00,  6.44it/s]\n"
     ]
    },
    {
     "name": "stdout",
     "output_type": "stream",
     "text": [
      "[I 2024-04-30 07:19:35,420] Trial 53 pruned. \n"
     ]
    },
    {
     "name": "stderr",
     "output_type": "stream",
     "text": [
      "Feature Extraction: 100%|██████████| 80/80 [01:02<00:00,  1.27it/s]\n",
      "Feature Extraction: 100%|██████████| 78/78 [00:11<00:00,  7.02it/s]\n",
      "Feature Extraction: 100%|██████████| 80/80 [01:02<00:00,  1.29it/s]\n",
      "Feature Extraction: 100%|██████████| 78/78 [00:12<00:00,  6.41it/s]\n",
      "Feature Extraction: 100%|██████████| 80/80 [01:03<00:00,  1.26it/s]\n",
      "Feature Extraction: 100%|██████████| 78/78 [00:10<00:00,  7.70it/s]\n",
      "Feature Extraction: 100%|██████████| 80/80 [01:04<00:00,  1.24it/s]\n",
      "Feature Extraction: 100%|██████████| 78/78 [00:12<00:00,  6.48it/s]\n",
      "Feature Extraction: 100%|██████████| 80/80 [01:03<00:00,  1.27it/s]\n",
      "Feature Extraction: 100%|██████████| 78/78 [00:07<00:00, 10.09it/s]\n"
     ]
    },
    {
     "name": "stdout",
     "output_type": "stream",
     "text": [
      "[I 2024-04-30 07:27:52,793] Trial 54 finished with value: 0.9796279893711249 and parameters: {'use_smote': False, 'n_estimators': 904, 'max_depth': 17, 'min_samples_split': 6, 'min_samples_leaf': 1, 'max_features': 'sqrt', 'criterion': 'log_loss'}. Best is trial 41 with value: 0.981377475613361.\n"
     ]
    },
    {
     "name": "stderr",
     "output_type": "stream",
     "text": [
      "Feature Extraction: 100%|██████████| 80/80 [01:00<00:00,  1.33it/s]\n",
      "Feature Extraction: 100%|██████████| 78/78 [00:10<00:00,  7.78it/s]\n",
      "Feature Extraction: 100%|██████████| 80/80 [00:57<00:00,  1.39it/s]\n",
      "Feature Extraction: 100%|██████████| 78/78 [00:11<00:00,  7.06it/s]\n",
      "Feature Extraction: 100%|██████████| 80/80 [00:57<00:00,  1.39it/s]\n",
      "Feature Extraction: 100%|██████████| 78/78 [00:11<00:00,  7.05it/s]\n",
      "Feature Extraction: 100%|██████████| 80/80 [00:55<00:00,  1.45it/s]\n",
      "Feature Extraction: 100%|██████████| 78/78 [00:11<00:00,  7.04it/s]\n",
      "Feature Extraction: 100%|██████████| 80/80 [00:53<00:00,  1.49it/s]\n",
      "Feature Extraction: 100%|██████████| 78/78 [00:11<00:00,  7.02it/s]\n"
     ]
    },
    {
     "name": "stdout",
     "output_type": "stream",
     "text": [
      "[I 2024-04-30 07:35:12,468] Trial 55 finished with value: 0.9802067946824224 and parameters: {'use_smote': False, 'n_estimators': 830, 'max_depth': 22, 'min_samples_split': 2, 'min_samples_leaf': 3, 'max_features': 'sqrt', 'criterion': 'log_loss'}. Best is trial 41 with value: 0.981377475613361.\n"
     ]
    },
    {
     "name": "stderr",
     "output_type": "stream",
     "text": [
      "Feature Extraction: 100%|██████████| 80/80 [00:54<00:00,  1.46it/s]\n",
      "Feature Extraction: 100%|██████████| 78/78 [00:10<00:00,  7.11it/s]\n",
      "Feature Extraction: 100%|██████████| 80/80 [00:55<00:00,  1.44it/s]\n",
      "Feature Extraction: 100%|██████████| 78/78 [00:11<00:00,  7.00it/s]\n",
      "Feature Extraction: 100%|██████████| 80/80 [00:55<00:00,  1.43it/s]\n",
      "Feature Extraction: 100%|██████████| 78/78 [00:10<00:00,  7.17it/s]\n",
      "Feature Extraction: 100%|██████████| 80/80 [00:56<00:00,  1.41it/s]\n",
      "Feature Extraction: 100%|██████████| 78/78 [00:10<00:00,  7.16it/s]\n",
      "Feature Extraction: 100%|██████████| 80/80 [00:56<00:00,  1.41it/s]\n",
      "Feature Extraction: 100%|██████████| 78/78 [00:10<00:00,  7.10it/s]\n"
     ]
    },
    {
     "name": "stdout",
     "output_type": "stream",
     "text": [
      "[I 2024-04-30 07:42:36,036] Trial 56 finished with value: 0.9796279893711249 and parameters: {'use_smote': False, 'n_estimators': 818, 'max_depth': 23, 'min_samples_split': 4, 'min_samples_leaf': 4, 'max_features': 'sqrt', 'criterion': 'log_loss'}. Best is trial 41 with value: 0.981377475613361.\n"
     ]
    },
    {
     "name": "stderr",
     "output_type": "stream",
     "text": [
      "Feature Extraction: 100%|██████████| 80/80 [00:58<00:00,  1.37it/s]\n",
      "Feature Extraction: 100%|██████████| 78/78 [00:12<00:00,  6.29it/s]\n",
      "Feature Extraction: 100%|██████████| 80/80 [01:04<00:00,  1.23it/s]\n",
      "Feature Extraction: 100%|██████████| 78/78 [00:11<00:00,  7.00it/s]\n",
      "Feature Extraction: 100%|██████████| 80/80 [01:03<00:00,  1.27it/s]\n",
      "Feature Extraction: 100%|██████████| 78/78 [00:12<00:00,  6.45it/s]\n"
     ]
    },
    {
     "name": "stdout",
     "output_type": "stream",
     "text": [
      "[I 2024-04-30 07:47:27,875] Trial 57 pruned. \n"
     ]
    },
    {
     "name": "stderr",
     "output_type": "stream",
     "text": [
      "Feature Extraction: 100%|██████████| 80/80 [01:03<00:00,  1.27it/s]\n",
      "Feature Extraction: 100%|██████████| 78/78 [00:10<00:00,  7.39it/s]\n",
      "Feature Extraction: 100%|██████████| 80/80 [01:07<00:00,  1.19it/s]\n",
      "Feature Extraction: 100%|██████████| 78/78 [00:10<00:00,  7.36it/s]\n",
      "Feature Extraction: 100%|██████████| 80/80 [00:56<00:00,  1.43it/s]\n",
      "Feature Extraction: 100%|██████████| 78/78 [00:12<00:00,  6.36it/s]\n",
      "Feature Extraction: 100%|██████████| 80/80 [01:05<00:00,  1.23it/s]\n",
      "Feature Extraction: 100%|██████████| 78/78 [00:11<00:00,  7.08it/s]\n",
      "Feature Extraction: 100%|██████████| 80/80 [00:57<00:00,  1.38it/s]\n",
      "Feature Extraction: 100%|██████████| 78/78 [00:12<00:00,  6.45it/s]\n"
     ]
    },
    {
     "name": "stdout",
     "output_type": "stream",
     "text": [
      "[I 2024-04-30 07:55:53,223] Trial 58 finished with value: 0.9802067946824224 and parameters: {'use_smote': False, 'n_estimators': 997, 'max_depth': 21, 'min_samples_split': 3, 'min_samples_leaf': 2, 'max_features': 'sqrt', 'criterion': 'log_loss'}. Best is trial 41 with value: 0.981377475613361.\n"
     ]
    },
    {
     "name": "stderr",
     "output_type": "stream",
     "text": [
      "Feature Extraction: 100%|██████████| 80/80 [01:03<00:00,  1.26it/s]\n",
      "Feature Extraction: 100%|██████████| 78/78 [00:09<00:00,  8.52it/s]\n",
      "Feature Extraction: 100%|██████████| 80/80 [01:07<00:00,  1.19it/s]\n",
      "Feature Extraction: 100%|██████████| 78/78 [00:11<00:00,  6.93it/s]\n",
      "Feature Extraction: 100%|██████████| 80/80 [00:58<00:00,  1.38it/s]\n",
      "Feature Extraction: 100%|██████████| 78/78 [00:11<00:00,  6.63it/s]\n"
     ]
    },
    {
     "name": "stdout",
     "output_type": "stream",
     "text": [
      "[I 2024-04-30 08:00:47,335] Trial 59 pruned. \n"
     ]
    },
    {
     "name": "stderr",
     "output_type": "stream",
     "text": [
      "Feature Extraction: 100%|██████████| 80/80 [01:06<00:00,  1.20it/s]\n",
      "Feature Extraction: 100%|██████████| 78/78 [00:11<00:00,  6.99it/s]\n",
      "Feature Extraction: 100%|██████████| 80/80 [00:57<00:00,  1.39it/s]\n",
      "Feature Extraction: 100%|██████████| 78/78 [00:12<00:00,  6.20it/s]\n",
      "Feature Extraction: 100%|██████████| 80/80 [01:01<00:00,  1.30it/s]\n",
      "Feature Extraction: 100%|██████████| 78/78 [00:09<00:00,  8.34it/s]\n"
     ]
    },
    {
     "name": "stdout",
     "output_type": "stream",
     "text": [
      "[I 2024-04-30 08:05:40,222] Trial 60 pruned. \n"
     ]
    },
    {
     "name": "stderr",
     "output_type": "stream",
     "text": [
      "Feature Extraction: 100%|██████████| 80/80 [01:03<00:00,  1.25it/s]\n",
      "Feature Extraction: 100%|██████████| 78/78 [00:12<00:00,  6.33it/s]\n",
      "Feature Extraction: 100%|██████████| 80/80 [00:59<00:00,  1.36it/s]\n",
      "Feature Extraction: 100%|██████████| 78/78 [00:10<00:00,  7.65it/s]\n",
      "Feature Extraction: 100%|██████████| 80/80 [01:06<00:00,  1.20it/s]\n",
      "Feature Extraction: 100%|██████████| 78/78 [00:10<00:00,  7.12it/s]\n",
      "Feature Extraction: 100%|██████████| 80/80 [00:54<00:00,  1.48it/s]\n",
      "Feature Extraction: 100%|██████████| 78/78 [00:12<00:00,  6.50it/s]\n",
      "Feature Extraction: 100%|██████████| 80/80 [01:05<00:00,  1.21it/s]\n",
      "Feature Extraction: 100%|██████████| 78/78 [00:11<00:00,  7.01it/s]\n"
     ]
    },
    {
     "name": "stdout",
     "output_type": "stream",
     "text": [
      "[I 2024-04-30 08:13:49,941] Trial 61 finished with value: 0.9807862843629914 and parameters: {'use_smote': False, 'n_estimators': 860, 'max_depth': 21, 'min_samples_split': 6, 'min_samples_leaf': 2, 'max_features': 'sqrt', 'criterion': 'log_loss'}. Best is trial 41 with value: 0.981377475613361.\n"
     ]
    },
    {
     "name": "stderr",
     "output_type": "stream",
     "text": [
      "Feature Extraction: 100%|██████████| 80/80 [01:00<00:00,  1.33it/s]\n",
      "Feature Extraction: 100%|██████████| 78/78 [00:12<00:00,  6.28it/s]\n",
      "Feature Extraction: 100%|██████████| 80/80 [01:01<00:00,  1.29it/s]\n",
      "Feature Extraction: 100%|██████████| 78/78 [00:09<00:00,  8.40it/s]\n",
      "Feature Extraction: 100%|██████████| 80/80 [01:08<00:00,  1.17it/s]\n",
      "Feature Extraction: 100%|██████████| 78/78 [00:10<00:00,  7.36it/s]\n",
      "Feature Extraction: 100%|██████████| 80/80 [00:57<00:00,  1.40it/s]\n",
      "Feature Extraction: 100%|██████████| 78/78 [00:12<00:00,  6.26it/s]\n",
      "Feature Extraction: 100%|██████████| 80/80 [01:05<00:00,  1.22it/s]\n",
      "Feature Extraction: 100%|██████████| 78/78 [00:11<00:00,  6.62it/s]\n"
     ]
    },
    {
     "name": "stdout",
     "output_type": "stream",
     "text": [
      "[I 2024-04-30 08:22:11,554] Trial 62 finished with value: 0.9796279893711249 and parameters: {'use_smote': False, 'n_estimators': 853, 'max_depth': 20, 'min_samples_split': 5, 'min_samples_leaf': 4, 'max_features': 'sqrt', 'criterion': 'log_loss'}. Best is trial 41 with value: 0.981377475613361.\n"
     ]
    },
    {
     "name": "stderr",
     "output_type": "stream",
     "text": [
      "Feature Extraction: 100%|██████████| 80/80 [00:59<00:00,  1.34it/s]\n",
      "Feature Extraction: 100%|██████████| 78/78 [00:12<00:00,  6.42it/s]\n",
      "Feature Extraction: 100%|██████████| 80/80 [01:04<00:00,  1.24it/s]\n",
      "Feature Extraction: 100%|██████████| 78/78 [00:07<00:00,  9.94it/s]\n",
      "Feature Extraction: 100%|██████████| 80/80 [01:09<00:00,  1.15it/s]\n",
      "Feature Extraction: 100%|██████████| 78/78 [00:11<00:00,  6.53it/s]\n",
      "Feature Extraction: 100%|██████████| 80/80 [01:06<00:00,  1.21it/s]\n",
      "Feature Extraction: 100%|██████████| 78/78 [00:08<00:00,  9.24it/s]\n",
      "Feature Extraction: 100%|██████████| 80/80 [01:06<00:00,  1.20it/s]\n",
      "Feature Extraction: 100%|██████████| 78/78 [00:11<00:00,  6.70it/s]\n"
     ]
    },
    {
     "name": "stdout",
     "output_type": "stream",
     "text": [
      "[I 2024-04-30 08:30:42,998] Trial 63 finished with value: 0.9810762862211709 and parameters: {'use_smote': False, 'n_estimators': 888, 'max_depth': 23, 'min_samples_split': 2, 'min_samples_leaf': 2, 'max_features': 'sqrt', 'criterion': 'log_loss'}. Best is trial 41 with value: 0.981377475613361.\n"
     ]
    },
    {
     "name": "stderr",
     "output_type": "stream",
     "text": [
      "Feature Extraction: 100%|██████████| 80/80 [01:04<00:00,  1.24it/s]\n",
      "Feature Extraction: 100%|██████████| 78/78 [00:11<00:00,  7.03it/s]\n",
      "Feature Extraction: 100%|██████████| 80/80 [01:01<00:00,  1.29it/s]\n",
      "Feature Extraction: 100%|██████████| 78/78 [00:12<00:00,  6.47it/s]\n",
      "Feature Extraction: 100%|██████████| 80/80 [01:03<00:00,  1.25it/s]\n",
      "Feature Extraction: 100%|██████████| 78/78 [00:11<00:00,  7.04it/s]\n",
      "Feature Extraction: 100%|██████████| 80/80 [00:59<00:00,  1.34it/s]\n",
      "Feature Extraction: 100%|██████████| 78/78 [00:12<00:00,  6.41it/s]\n",
      "Feature Extraction: 100%|██████████| 80/80 [01:04<00:00,  1.23it/s]\n",
      "Feature Extraction: 100%|██████████| 78/78 [00:11<00:00,  7.03it/s]\n"
     ]
    },
    {
     "name": "stdout",
     "output_type": "stream",
     "text": [
      "[I 2024-04-30 08:38:55,783] Trial 64 finished with value: 0.9804964539007093 and parameters: {'use_smote': False, 'n_estimators': 770, 'max_depth': 23, 'min_samples_split': 2, 'min_samples_leaf': 3, 'max_features': 'sqrt', 'criterion': 'log_loss'}. Best is trial 41 with value: 0.981377475613361.\n"
     ]
    },
    {
     "name": "stderr",
     "output_type": "stream",
     "text": [
      "Feature Extraction: 100%|██████████| 80/80 [00:57<00:00,  1.39it/s]\n",
      "Feature Extraction: 100%|██████████| 78/78 [00:12<00:00,  6.41it/s]\n",
      "Feature Extraction: 100%|██████████| 80/80 [01:05<00:00,  1.22it/s]\n",
      "Feature Extraction: 100%|██████████| 78/78 [00:11<00:00,  6.92it/s]\n",
      "Feature Extraction: 100%|██████████| 80/80 [01:06<00:00,  1.21it/s]\n",
      "Feature Extraction: 100%|██████████| 78/78 [00:16<00:00,  4.66it/s]\n",
      "Feature Extraction: 100%|██████████| 80/80 [01:14<00:00,  1.08it/s]\n",
      "Feature Extraction: 100%|██████████| 78/78 [00:10<00:00,  7.14it/s]\n",
      "Feature Extraction: 100%|██████████| 80/80 [01:23<00:00,  1.05s/it]\n",
      "Feature Extraction: 100%|██████████| 78/78 [00:17<00:00,  4.44it/s]\n"
     ]
    },
    {
     "name": "stdout",
     "output_type": "stream",
     "text": [
      "[I 2024-04-30 08:49:41,619] Trial 65 finished with value: 0.981377475613361 and parameters: {'use_smote': False, 'n_estimators': 887, 'max_depth': 25, 'min_samples_split': 4, 'min_samples_leaf': 1, 'max_features': 'sqrt', 'criterion': 'log_loss'}. Best is trial 41 with value: 0.981377475613361.\n"
     ]
    },
    {
     "name": "stderr",
     "output_type": "stream",
     "text": [
      "Feature Extraction: 100%|██████████| 80/80 [01:04<00:00,  1.25it/s]\n",
      "Feature Extraction: 100%|██████████| 78/78 [00:10<00:00,  7.21it/s]\n",
      "Feature Extraction: 100%|██████████| 80/80 [01:37<00:00,  1.22s/it]\n",
      "Feature Extraction: 100%|██████████| 78/78 [00:12<00:00,  6.04it/s]\n",
      "Feature Extraction: 100%|██████████| 80/80 [00:59<00:00,  1.34it/s]\n",
      "Feature Extraction: 100%|██████████| 78/78 [00:17<00:00,  4.51it/s]\n",
      "Feature Extraction: 100%|██████████| 80/80 [01:41<00:00,  1.26s/it]\n",
      "Feature Extraction: 100%|██████████| 78/78 [00:11<00:00,  7.08it/s]\n",
      "Feature Extraction: 100%|██████████| 80/80 [01:04<00:00,  1.23it/s]\n",
      "Feature Extraction: 100%|██████████| 78/78 [00:17<00:00,  4.43it/s]\n"
     ]
    },
    {
     "name": "stdout",
     "output_type": "stream",
     "text": [
      "[I 2024-04-30 09:01:00,583] Trial 66 finished with value: 0.9810874704491725 and parameters: {'use_smote': False, 'n_estimators': 760, 'max_depth': 25, 'min_samples_split': 4, 'min_samples_leaf': 1, 'max_features': 'sqrt', 'criterion': 'log_loss'}. Best is trial 41 with value: 0.981377475613361.\n"
     ]
    },
    {
     "name": "stderr",
     "output_type": "stream",
     "text": [
      "Feature Extraction: 100%|██████████| 80/80 [01:18<00:00,  1.02it/s]\n",
      "Feature Extraction: 100%|██████████| 78/78 [00:11<00:00,  6.96it/s]\n",
      "Feature Extraction: 100%|██████████| 80/80 [01:15<00:00,  1.06it/s]\n",
      "Feature Extraction: 100%|██████████| 78/78 [00:18<00:00,  4.33it/s]\n",
      "Feature Extraction: 100%|██████████| 80/80 [01:01<00:00,  1.31it/s]\n",
      "Feature Extraction: 100%|██████████| 78/78 [00:08<00:00,  8.82it/s]\n",
      "Feature Extraction: 100%|██████████| 80/80 [01:33<00:00,  1.17s/it]\n",
      "Feature Extraction: 100%|██████████| 78/78 [00:11<00:00,  7.06it/s]\n",
      "Feature Extraction: 100%|██████████| 80/80 [00:56<00:00,  1.41it/s]\n",
      "Feature Extraction: 100%|██████████| 78/78 [00:17<00:00,  4.40it/s]\n"
     ]
    },
    {
     "name": "stdout",
     "output_type": "stream",
     "text": [
      "[I 2024-04-30 09:12:23,924] Trial 67 finished with value: 0.981377475613361 and parameters: {'use_smote': False, 'n_estimators': 879, 'max_depth': 24, 'min_samples_split': 4, 'min_samples_leaf': 1, 'max_features': 'sqrt', 'criterion': 'log_loss'}. Best is trial 41 with value: 0.981377475613361.\n"
     ]
    },
    {
     "name": "stderr",
     "output_type": "stream",
     "text": [
      "Feature Extraction: 100%|██████████| 80/80 [01:16<00:00,  1.05it/s]\n",
      "Feature Extraction: 100%|██████████| 78/78 [00:11<00:00,  7.03it/s]\n",
      "Feature Extraction: 100%|██████████| 80/80 [01:15<00:00,  1.06it/s]\n",
      "Feature Extraction: 100%|██████████| 78/78 [00:18<00:00,  4.30it/s]\n",
      "Feature Extraction: 100%|██████████| 80/80 [00:59<00:00,  1.34it/s]\n",
      "Feature Extraction: 100%|██████████| 78/78 [00:08<00:00,  9.25it/s]\n",
      "Feature Extraction: 100%|██████████| 80/80 [01:40<00:00,  1.26s/it]\n",
      "Feature Extraction: 100%|██████████| 78/78 [00:11<00:00,  6.95it/s]\n",
      "Feature Extraction: 100%|██████████| 80/80 [01:03<00:00,  1.26it/s]\n",
      "Feature Extraction: 100%|██████████| 78/78 [00:16<00:00,  4.59it/s]\n"
     ]
    },
    {
     "name": "stdout",
     "output_type": "stream",
     "text": [
      "[I 2024-04-30 09:23:47,335] Trial 68 finished with value: 0.9807976366322009 and parameters: {'use_smote': False, 'n_estimators': 750, 'max_depth': 25, 'min_samples_split': 9, 'min_samples_leaf': 1, 'max_features': 'sqrt', 'criterion': 'log_loss'}. Best is trial 41 with value: 0.981377475613361.\n"
     ]
    },
    {
     "name": "stderr",
     "output_type": "stream",
     "text": [
      "Feature Extraction: 100%|██████████| 80/80 [01:12<00:00,  1.11it/s]\n",
      "Feature Extraction: 100%|██████████| 78/78 [00:11<00:00,  7.05it/s]\n",
      "Feature Extraction: 100%|██████████| 80/80 [01:24<00:00,  1.05s/it]\n",
      "Feature Extraction: 100%|██████████| 78/78 [00:16<00:00,  4.79it/s]\n",
      "Feature Extraction: 100%|██████████| 80/80 [01:00<00:00,  1.32it/s]\n",
      "Feature Extraction: 100%|██████████| 78/78 [00:12<00:00,  6.46it/s]\n",
      "Feature Extraction: 100%|██████████| 80/80 [01:35<00:00,  1.20s/it]\n",
      "Feature Extraction: 100%|██████████| 78/78 [00:10<00:00,  7.13it/s]\n",
      "Feature Extraction: 100%|██████████| 80/80 [01:00<00:00,  1.33it/s]\n",
      "Feature Extraction: 100%|██████████| 78/78 [00:16<00:00,  4.61it/s]\n"
     ]
    },
    {
     "name": "stdout",
     "output_type": "stream",
     "text": [
      "[I 2024-04-30 09:34:49,843] Trial 69 finished with value: 0.9810874704491725 and parameters: {'use_smote': False, 'n_estimators': 717, 'max_depth': 26, 'min_samples_split': 9, 'min_samples_leaf': 1, 'max_features': 'sqrt', 'criterion': 'log_loss'}. Best is trial 41 with value: 0.981377475613361.\n"
     ]
    },
    {
     "name": "stderr",
     "output_type": "stream",
     "text": [
      "Feature Extraction: 100%|██████████| 80/80 [01:16<00:00,  1.05it/s]\n",
      "Feature Extraction: 100%|██████████| 78/78 [00:11<00:00,  7.05it/s]\n",
      "Feature Extraction: 100%|██████████| 80/80 [01:19<00:00,  1.01it/s]\n",
      "Feature Extraction: 100%|██████████| 78/78 [00:17<00:00,  4.54it/s]\n",
      "Feature Extraction: 100%|██████████| 80/80 [01:02<00:00,  1.29it/s]\n",
      "Feature Extraction: 100%|██████████| 78/78 [00:10<00:00,  7.10it/s]\n"
     ]
    },
    {
     "name": "stdout",
     "output_type": "stream",
     "text": [
      "[I 2024-04-30 09:40:50,968] Trial 70 pruned. \n"
     ]
    },
    {
     "name": "stderr",
     "output_type": "stream",
     "text": [
      "Feature Extraction: 100%|██████████| 80/80 [01:38<00:00,  1.24s/it]\n",
      "Feature Extraction: 100%|██████████| 78/78 [00:10<00:00,  7.11it/s]\n",
      "Feature Extraction: 100%|██████████| 80/80 [00:55<00:00,  1.43it/s]\n",
      "Feature Extraction: 100%|██████████| 78/78 [00:16<00:00,  4.68it/s]\n",
      "Feature Extraction: 100%|██████████| 80/80 [01:10<00:00,  1.14it/s]\n",
      "Feature Extraction: 100%|██████████| 78/78 [00:11<00:00,  6.85it/s]\n",
      "Feature Extraction: 100%|██████████| 80/80 [01:26<00:00,  1.08s/it]\n",
      "Feature Extraction: 100%|██████████| 78/78 [00:10<00:00,  7.39it/s]\n",
      "Feature Extraction: 100%|██████████| 80/80 [00:57<00:00,  1.38it/s]\n",
      "Feature Extraction: 100%|██████████| 78/78 [00:17<00:00,  4.56it/s]\n"
     ]
    },
    {
     "name": "stdout",
     "output_type": "stream",
     "text": [
      "[I 2024-04-30 09:52:33,055] Trial 71 finished with value: 0.9810874704491725 and parameters: {'use_smote': False, 'n_estimators': 710, 'max_depth': 25, 'min_samples_split': 9, 'min_samples_leaf': 1, 'max_features': 'sqrt', 'criterion': 'log_loss'}. Best is trial 41 with value: 0.981377475613361.\n"
     ]
    },
    {
     "name": "stderr",
     "output_type": "stream",
     "text": [
      "Feature Extraction: 100%|██████████| 80/80 [01:08<00:00,  1.17it/s]\n",
      "Feature Extraction: 100%|██████████| 78/78 [00:07<00:00,  9.96it/s]\n",
      "Feature Extraction: 100%|██████████| 80/80 [01:29<00:00,  1.12s/it]\n",
      "Feature Extraction: 100%|██████████| 78/78 [00:10<00:00,  7.27it/s]\n",
      "Feature Extraction: 100%|██████████| 80/80 [00:57<00:00,  1.38it/s]\n",
      "Feature Extraction: 100%|██████████| 78/78 [00:17<00:00,  4.43it/s]\n",
      "Feature Extraction: 100%|██████████| 80/80 [01:06<00:00,  1.20it/s]\n",
      "Feature Extraction: 100%|██████████| 78/78 [00:09<00:00,  8.19it/s]\n",
      "Feature Extraction: 100%|██████████| 80/80 [01:31<00:00,  1.14s/it]\n",
      "Feature Extraction: 100%|██████████| 78/78 [00:11<00:00,  6.93it/s]\n"
     ]
    },
    {
     "name": "stdout",
     "output_type": "stream",
     "text": [
      "[I 2024-04-30 10:03:02,362] Trial 72 finished with value: 0.9784342688330872 and parameters: {'use_smote': False, 'n_estimators': 703, 'max_depth': 26, 'min_samples_split': 14, 'min_samples_leaf': 1, 'max_features': 'sqrt', 'criterion': 'log_loss'}. Best is trial 41 with value: 0.981377475613361.\n"
     ]
    },
    {
     "name": "stderr",
     "output_type": "stream",
     "text": [
      "Feature Extraction: 100%|██████████| 80/80 [01:04<00:00,  1.24it/s]\n",
      "Feature Extraction: 100%|██████████| 78/78 [00:16<00:00,  4.63it/s]\n",
      "Feature Extraction: 100%|██████████| 80/80 [01:13<00:00,  1.08it/s]\n",
      "Feature Extraction: 100%|██████████| 78/78 [00:10<00:00,  7.24it/s]\n",
      "Feature Extraction: 100%|██████████| 80/80 [01:29<00:00,  1.12s/it]\n",
      "Feature Extraction: 100%|██████████| 78/78 [00:10<00:00,  7.14it/s]\n"
     ]
    },
    {
     "name": "stdout",
     "output_type": "stream",
     "text": [
      "[I 2024-04-30 10:09:17,729] Trial 73 pruned. \n"
     ]
    },
    {
     "name": "stderr",
     "output_type": "stream",
     "text": [
      "Feature Extraction: 100%|██████████| 80/80 [00:57<00:00,  1.39it/s]\n",
      "Feature Extraction: 100%|██████████| 78/78 [00:18<00:00,  4.20it/s]\n",
      "Feature Extraction: 100%|██████████| 80/80 [01:03<00:00,  1.27it/s]\n",
      "Feature Extraction: 100%|██████████| 78/78 [00:10<00:00,  7.59it/s]\n",
      "Feature Extraction: 100%|██████████| 80/80 [01:04<00:00,  1.25it/s]\n",
      "Feature Extraction: 100%|██████████| 78/78 [00:11<00:00,  7.01it/s]\n"
     ]
    },
    {
     "name": "stdout",
     "output_type": "stream",
     "text": [
      "[I 2024-04-30 10:14:48,695] Trial 74 pruned. \n"
     ]
    },
    {
     "name": "stderr",
     "output_type": "stream",
     "text": [
      "Feature Extraction: 100%|██████████| 80/80 [01:00<00:00,  1.31it/s]\n",
      "Feature Extraction: 100%|██████████| 78/78 [00:10<00:00,  7.16it/s]\n",
      "Feature Extraction: 100%|██████████| 80/80 [00:59<00:00,  1.34it/s]\n",
      "Feature Extraction: 100%|██████████| 78/78 [00:11<00:00,  7.01it/s]\n",
      "Feature Extraction: 100%|██████████| 80/80 [00:58<00:00,  1.37it/s]\n",
      "Feature Extraction: 100%|██████████| 78/78 [00:10<00:00,  7.14it/s]\n",
      "Feature Extraction: 100%|██████████| 80/80 [00:58<00:00,  1.37it/s]\n",
      "Feature Extraction: 100%|██████████| 78/78 [00:11<00:00,  6.60it/s]\n",
      "Feature Extraction: 100%|██████████| 80/80 [01:01<00:00,  1.30it/s]\n",
      "Feature Extraction: 100%|██████████| 78/78 [00:10<00:00,  7.62it/s]\n"
     ]
    },
    {
     "name": "stdout",
     "output_type": "stream",
     "text": [
      "[I 2024-04-30 10:22:59,333] Trial 75 finished with value: 0.981377475613361 and parameters: {'use_smote': False, 'n_estimators': 723, 'max_depth': 28, 'min_samples_split': 8, 'min_samples_leaf': 1, 'max_features': 'sqrt', 'criterion': 'log_loss'}. Best is trial 41 with value: 0.981377475613361.\n"
     ]
    },
    {
     "name": "stderr",
     "output_type": "stream",
     "text": [
      "Feature Extraction: 100%|██████████| 80/80 [01:34<00:00,  1.18s/it]\n",
      "Feature Extraction: 100%|██████████| 78/78 [00:10<00:00,  7.16it/s]\n",
      "Feature Extraction: 100%|██████████| 80/80 [01:03<00:00,  1.25it/s]\n",
      "Feature Extraction: 100%|██████████| 78/78 [00:15<00:00,  4.96it/s]\n",
      "Feature Extraction: 100%|██████████| 80/80 [01:02<00:00,  1.28it/s]\n",
      "Feature Extraction: 100%|██████████| 78/78 [00:10<00:00,  7.53it/s]\n"
     ]
    },
    {
     "name": "stdout",
     "output_type": "stream",
     "text": [
      "[I 2024-04-30 10:29:10,095] Trial 76 pruned. \n"
     ]
    },
    {
     "name": "stderr",
     "output_type": "stream",
     "text": [
      "Feature Extraction: 100%|██████████| 80/80 [01:29<00:00,  1.12s/it]\n",
      "Feature Extraction: 100%|██████████| 78/78 [00:11<00:00,  7.02it/s]\n",
      "Feature Extraction: 100%|██████████| 80/80 [01:01<00:00,  1.30it/s]\n",
      "Feature Extraction: 100%|██████████| 78/78 [00:16<00:00,  4.76it/s]\n",
      "Feature Extraction: 100%|██████████| 80/80 [01:01<00:00,  1.30it/s]\n",
      "Feature Extraction: 100%|██████████| 78/78 [00:10<00:00,  7.34it/s]\n"
     ]
    },
    {
     "name": "stdout",
     "output_type": "stream",
     "text": [
      "[I 2024-04-30 10:35:10,183] Trial 77 pruned. \n"
     ]
    },
    {
     "name": "stderr",
     "output_type": "stream",
     "text": [
      "Feature Extraction: 100%|██████████| 80/80 [01:33<00:00,  1.17s/it]\n",
      "Feature Extraction: 100%|██████████| 78/78 [00:11<00:00,  7.06it/s]\n",
      "Feature Extraction: 100%|██████████| 80/80 [00:58<00:00,  1.36it/s]\n",
      "Feature Extraction: 100%|██████████| 78/78 [00:17<00:00,  4.58it/s]\n",
      "Feature Extraction: 100%|██████████| 80/80 [01:04<00:00,  1.25it/s]\n",
      "Feature Extraction: 100%|██████████| 78/78 [00:10<00:00,  7.70it/s]\n"
     ]
    },
    {
     "name": "stdout",
     "output_type": "stream",
     "text": [
      "[I 2024-04-30 10:41:11,564] Trial 78 pruned. \n"
     ]
    },
    {
     "name": "stderr",
     "output_type": "stream",
     "text": [
      "Feature Extraction: 100%|██████████| 80/80 [01:36<00:00,  1.21s/it]\n",
      "Feature Extraction: 100%|██████████| 78/78 [00:11<00:00,  6.81it/s]\n",
      "Feature Extraction: 100%|██████████| 80/80 [01:06<00:00,  1.21it/s]\n",
      "Feature Extraction: 100%|██████████| 78/78 [00:16<00:00,  4.82it/s]\n",
      "Feature Extraction: 100%|██████████| 80/80 [01:01<00:00,  1.30it/s]\n",
      "Feature Extraction: 100%|██████████| 78/78 [00:08<00:00,  9.11it/s]\n"
     ]
    },
    {
     "name": "stdout",
     "output_type": "stream",
     "text": [
      "[I 2024-04-30 10:47:33,853] Trial 79 pruned. \n"
     ]
    },
    {
     "name": "stderr",
     "output_type": "stream",
     "text": [
      "Feature Extraction: 100%|██████████| 80/80 [01:25<00:00,  1.07s/it]\n",
      "Feature Extraction: 100%|██████████| 78/78 [00:11<00:00,  6.93it/s]\n",
      "Feature Extraction: 100%|██████████| 80/80 [01:04<00:00,  1.24it/s]\n",
      "Feature Extraction: 100%|██████████| 78/78 [00:16<00:00,  4.82it/s]\n",
      "Feature Extraction: 100%|██████████| 80/80 [00:58<00:00,  1.36it/s]\n",
      "Feature Extraction: 100%|██████████| 78/78 [00:08<00:00,  9.43it/s]\n"
     ]
    },
    {
     "name": "stdout",
     "output_type": "stream",
     "text": [
      "[I 2024-04-30 10:53:31,880] Trial 80 pruned. \n"
     ]
    },
    {
     "name": "stderr",
     "output_type": "stream",
     "text": [
      "Feature Extraction: 100%|██████████| 80/80 [01:10<00:00,  1.14it/s]\n",
      "Feature Extraction: 100%|██████████| 78/78 [00:11<00:00,  6.76it/s]\n",
      "Feature Extraction: 100%|██████████| 80/80 [01:06<00:00,  1.20it/s]\n",
      "Feature Extraction: 100%|██████████| 78/78 [00:11<00:00,  7.08it/s]\n",
      "Feature Extraction: 100%|██████████| 80/80 [00:58<00:00,  1.37it/s]\n",
      "Feature Extraction: 100%|██████████| 78/78 [00:15<00:00,  5.11it/s]\n"
     ]
    },
    {
     "name": "stdout",
     "output_type": "stream",
     "text": [
      "[I 2024-04-30 10:59:13,343] Trial 81 pruned. \n"
     ]
    },
    {
     "name": "stderr",
     "output_type": "stream",
     "text": [
      "Feature Extraction: 100%|██████████| 80/80 [01:00<00:00,  1.33it/s]\n",
      "Feature Extraction: 100%|██████████| 78/78 [00:12<00:00,  6.27it/s]\n",
      "Feature Extraction: 100%|██████████| 80/80 [01:06<00:00,  1.20it/s]\n",
      "Feature Extraction: 100%|██████████| 78/78 [00:10<00:00,  7.43it/s]\n",
      "Feature Extraction: 100%|██████████| 80/80 [01:12<00:00,  1.11it/s]\n",
      "Feature Extraction: 100%|██████████| 78/78 [00:11<00:00,  7.06it/s]\n"
     ]
    },
    {
     "name": "stdout",
     "output_type": "stream",
     "text": [
      "[I 2024-04-30 11:04:17,538] Trial 82 pruned. \n"
     ]
    },
    {
     "name": "stderr",
     "output_type": "stream",
     "text": [
      "Feature Extraction: 100%|██████████| 80/80 [01:04<00:00,  1.23it/s]\n",
      "Feature Extraction: 100%|██████████| 78/78 [00:18<00:00,  4.24it/s]\n",
      "Feature Extraction: 100%|██████████| 80/80 [00:59<00:00,  1.35it/s]\n",
      "Feature Extraction: 100%|██████████| 78/78 [00:08<00:00,  8.80it/s]\n",
      "Feature Extraction: 100%|██████████| 80/80 [01:22<00:00,  1.03s/it]\n",
      "Feature Extraction: 100%|██████████| 78/78 [00:11<00:00,  6.97it/s]\n"
     ]
    },
    {
     "name": "stdout",
     "output_type": "stream",
     "text": [
      "[I 2024-04-30 11:10:34,931] Trial 83 pruned. \n"
     ]
    },
    {
     "name": "stderr",
     "output_type": "stream",
     "text": [
      "Feature Extraction: 100%|██████████| 80/80 [01:07<00:00,  1.19it/s]\n",
      "Feature Extraction: 100%|██████████| 78/78 [00:14<00:00,  5.42it/s]\n",
      "Feature Extraction: 100%|██████████| 80/80 [00:58<00:00,  1.37it/s]\n",
      "Feature Extraction: 100%|██████████| 78/78 [00:16<00:00,  4.64it/s]\n",
      "Feature Extraction: 100%|██████████| 80/80 [01:11<00:00,  1.12it/s]\n",
      "Feature Extraction: 100%|██████████| 78/78 [00:10<00:00,  7.68it/s]\n"
     ]
    },
    {
     "name": "stdout",
     "output_type": "stream",
     "text": [
      "[I 2024-04-30 11:16:58,803] Trial 84 pruned. \n"
     ]
    },
    {
     "name": "stderr",
     "output_type": "stream",
     "text": [
      "Feature Extraction: 100%|██████████| 80/80 [01:29<00:00,  1.12s/it]\n",
      "Feature Extraction: 100%|██████████| 78/78 [00:11<00:00,  7.04it/s]\n",
      "Feature Extraction: 100%|██████████| 80/80 [00:55<00:00,  1.44it/s]\n",
      "Feature Extraction: 100%|██████████| 78/78 [00:13<00:00,  5.65it/s]\n",
      "Feature Extraction: 100%|██████████| 80/80 [01:02<00:00,  1.28it/s]\n",
      "Feature Extraction: 100%|██████████| 78/78 [00:10<00:00,  7.18it/s]\n"
     ]
    },
    {
     "name": "stdout",
     "output_type": "stream",
     "text": [
      "[I 2024-04-30 11:22:55,146] Trial 85 pruned. \n"
     ]
    },
    {
     "name": "stderr",
     "output_type": "stream",
     "text": [
      "Feature Extraction: 100%|██████████| 80/80 [01:17<00:00,  1.03it/s]\n",
      "Feature Extraction: 100%|██████████| 78/78 [00:11<00:00,  6.72it/s]\n",
      "Feature Extraction: 100%|██████████| 80/80 [01:01<00:00,  1.29it/s]\n",
      "Feature Extraction: 100%|██████████| 78/78 [00:13<00:00,  5.70it/s]\n",
      "Feature Extraction: 100%|██████████| 80/80 [00:59<00:00,  1.34it/s]\n",
      "Feature Extraction: 100%|██████████| 78/78 [00:13<00:00,  5.80it/s]\n"
     ]
    },
    {
     "name": "stdout",
     "output_type": "stream",
     "text": [
      "[I 2024-04-30 11:28:40,766] Trial 86 pruned. \n"
     ]
    },
    {
     "name": "stderr",
     "output_type": "stream",
     "text": [
      "Feature Extraction: 100%|██████████| 80/80 [01:10<00:00,  1.13it/s]\n",
      "Feature Extraction: 100%|██████████| 78/78 [00:11<00:00,  7.00it/s]\n",
      "Feature Extraction: 100%|██████████| 80/80 [01:13<00:00,  1.09it/s]\n",
      "Feature Extraction: 100%|██████████| 78/78 [00:11<00:00,  7.03it/s]\n",
      "Feature Extraction: 100%|██████████| 80/80 [00:59<00:00,  1.35it/s]\n",
      "Feature Extraction: 100%|██████████| 78/78 [00:17<00:00,  4.47it/s]\n",
      "Feature Extraction: 100%|██████████| 80/80 [01:16<00:00,  1.05it/s]\n",
      "Feature Extraction: 100%|██████████| 78/78 [00:11<00:00,  6.85it/s]\n",
      "Feature Extraction: 100%|██████████| 80/80 [01:20<00:00,  1.01s/it]\n",
      "Feature Extraction: 100%|██████████| 78/78 [00:18<00:00,  4.33it/s]\n"
     ]
    },
    {
     "name": "stdout",
     "output_type": "stream",
     "text": [
      "[I 2024-04-30 11:39:36,912] Trial 87 finished with value: 0.9796279893711249 and parameters: {'use_smote': False, 'n_estimators': 843, 'max_depth': 27, 'min_samples_split': 4, 'min_samples_leaf': 4, 'max_features': 'sqrt', 'criterion': 'log_loss'}. Best is trial 41 with value: 0.981377475613361.\n"
     ]
    },
    {
     "name": "stderr",
     "output_type": "stream",
     "text": [
      "Feature Extraction: 100%|██████████| 80/80 [01:00<00:00,  1.32it/s]\n",
      "Feature Extraction: 100%|██████████| 78/78 [00:08<00:00,  9.27it/s]\n",
      "Feature Extraction: 100%|██████████| 80/80 [01:39<00:00,  1.24s/it]\n",
      "Feature Extraction: 100%|██████████| 78/78 [00:11<00:00,  6.99it/s]\n",
      "Feature Extraction: 100%|██████████| 80/80 [01:00<00:00,  1.32it/s]\n",
      "Feature Extraction: 100%|██████████| 78/78 [00:19<00:00,  4.10it/s]\n"
     ]
    },
    {
     "name": "stdout",
     "output_type": "stream",
     "text": [
      "[I 2024-04-30 11:46:28,223] Trial 88 pruned. \n"
     ]
    },
    {
     "name": "stderr",
     "output_type": "stream",
     "text": [
      "Feature Extraction: 100%|██████████| 80/80 [01:13<00:00,  1.09it/s]\n",
      "Feature Extraction: 100%|██████████| 78/78 [00:10<00:00,  7.12it/s]\n",
      "Feature Extraction: 100%|██████████| 80/80 [01:28<00:00,  1.10s/it]\n",
      "Feature Extraction: 100%|██████████| 78/78 [00:17<00:00,  4.37it/s]\n",
      "Feature Extraction: 100%|██████████| 80/80 [01:00<00:00,  1.33it/s]\n",
      "Feature Extraction: 100%|██████████| 78/78 [00:09<00:00,  8.21it/s]\n",
      "Feature Extraction: 100%|██████████| 80/80 [01:00<00:00,  1.31it/s]\n",
      "Feature Extraction: 100%|██████████| 78/78 [00:08<00:00,  9.49it/s]\n",
      "Feature Extraction: 100%|██████████| 80/80 [01:02<00:00,  1.28it/s]\n",
      "Feature Extraction: 100%|██████████| 78/78 [00:10<00:00,  7.49it/s]\n"
     ]
    },
    {
     "name": "stdout",
     "output_type": "stream",
     "text": [
      "[I 2024-04-30 11:55:31,826] Trial 89 finished with value: 0.9804964539007093 and parameters: {'use_smote': False, 'n_estimators': 449, 'max_depth': 28, 'min_samples_split': 2, 'min_samples_leaf': 1, 'max_features': 'sqrt', 'criterion': 'entropy'}. Best is trial 41 with value: 0.981377475613361.\n"
     ]
    },
    {
     "name": "stderr",
     "output_type": "stream",
     "text": [
      "Feature Extraction: 100%|██████████| 80/80 [01:03<00:00,  1.26it/s]\n",
      "Feature Extraction: 100%|██████████| 78/78 [00:08<00:00,  8.83it/s]\n",
      "Feature Extraction: 100%|██████████| 80/80 [01:00<00:00,  1.31it/s]\n",
      "Feature Extraction: 100%|██████████| 78/78 [00:11<00:00,  7.03it/s]\n",
      "Feature Extraction: 100%|██████████| 80/80 [00:59<00:00,  1.34it/s]\n",
      "Feature Extraction: 100%|██████████| 78/78 [00:11<00:00,  6.95it/s]\n"
     ]
    },
    {
     "name": "stdout",
     "output_type": "stream",
     "text": [
      "[I 2024-04-30 12:00:09,263] Trial 90 pruned. \n"
     ]
    },
    {
     "name": "stderr",
     "output_type": "stream",
     "text": [
      "Feature Extraction: 100%|██████████| 80/80 [01:17<00:00,  1.03it/s]\n",
      "Feature Extraction: 100%|██████████| 78/78 [00:16<00:00,  4.79it/s]\n",
      "Feature Extraction: 100%|██████████| 80/80 [00:58<00:00,  1.36it/s]\n",
      "Feature Extraction: 100%|██████████| 78/78 [00:10<00:00,  7.10it/s]\n",
      "Feature Extraction: 100%|██████████| 80/80 [01:30<00:00,  1.13s/it]\n",
      "Feature Extraction: 100%|██████████| 78/78 [00:10<00:00,  7.13it/s]\n",
      "Feature Extraction: 100%|██████████| 80/80 [01:03<00:00,  1.27it/s]\n",
      "Feature Extraction: 100%|██████████| 78/78 [00:16<00:00,  4.72it/s]\n",
      "Feature Extraction: 100%|██████████| 80/80 [01:08<00:00,  1.18it/s]\n",
      "Feature Extraction: 100%|██████████| 78/78 [00:08<00:00,  8.87it/s]\n"
     ]
    },
    {
     "name": "stdout",
     "output_type": "stream",
     "text": [
      "[I 2024-04-30 12:10:43,791] Trial 91 finished with value: 0.9807976366322009 and parameters: {'use_smote': False, 'n_estimators': 756, 'max_depth': 25, 'min_samples_split': 9, 'min_samples_leaf': 1, 'max_features': 'sqrt', 'criterion': 'log_loss'}. Best is trial 41 with value: 0.981377475613361.\n"
     ]
    },
    {
     "name": "stderr",
     "output_type": "stream",
     "text": [
      "Feature Extraction: 100%|██████████| 80/80 [01:11<00:00,  1.12it/s]\n",
      "Feature Extraction: 100%|██████████| 78/78 [00:11<00:00,  7.01it/s]\n",
      "Feature Extraction: 100%|██████████| 80/80 [01:03<00:00,  1.27it/s]\n",
      "Feature Extraction: 100%|██████████| 78/78 [00:11<00:00,  6.91it/s]\n",
      "Feature Extraction: 100%|██████████| 80/80 [00:57<00:00,  1.39it/s]\n",
      "Feature Extraction: 100%|██████████| 78/78 [00:13<00:00,  5.75it/s]\n"
     ]
    },
    {
     "name": "stdout",
     "output_type": "stream",
     "text": [
      "[I 2024-04-30 12:16:20,992] Trial 92 pruned. \n"
     ]
    },
    {
     "name": "stderr",
     "output_type": "stream",
     "text": [
      "Feature Extraction: 100%|██████████| 80/80 [01:00<00:00,  1.32it/s]\n",
      "Feature Extraction: 100%|██████████| 78/78 [00:13<00:00,  5.89it/s]\n",
      "Feature Extraction: 100%|██████████| 80/80 [01:04<00:00,  1.24it/s]\n",
      "Feature Extraction: 100%|██████████| 78/78 [00:07<00:00,  9.83it/s]\n",
      "Feature Extraction: 100%|██████████| 80/80 [01:11<00:00,  1.12it/s]\n",
      "Feature Extraction: 100%|██████████| 78/78 [00:11<00:00,  7.02it/s]\n",
      "Feature Extraction: 100%|██████████| 80/80 [01:01<00:00,  1.31it/s]\n",
      "Feature Extraction: 100%|██████████| 78/78 [00:12<00:00,  6.46it/s]\n",
      "Feature Extraction: 100%|██████████| 80/80 [01:01<00:00,  1.30it/s]\n",
      "Feature Extraction: 100%|██████████| 78/78 [00:08<00:00,  8.88it/s]\n"
     ]
    },
    {
     "name": "stdout",
     "output_type": "stream",
     "text": [
      "[I 2024-04-30 12:24:36,086] Trial 93 finished with value: 0.9793388429752066 and parameters: {'use_smote': False, 'n_estimators': 742, 'max_depth': 27, 'min_samples_split': 10, 'min_samples_leaf': 3, 'max_features': 'sqrt', 'criterion': 'log_loss'}. Best is trial 41 with value: 0.981377475613361.\n"
     ]
    },
    {
     "name": "stderr",
     "output_type": "stream",
     "text": [
      "Feature Extraction: 100%|██████████| 80/80 [01:05<00:00,  1.22it/s]\n",
      "Feature Extraction: 100%|██████████| 78/78 [00:11<00:00,  6.95it/s]\n",
      "Feature Extraction: 100%|██████████| 80/80 [00:55<00:00,  1.45it/s]\n",
      "Feature Extraction: 100%|██████████| 78/78 [00:12<00:00,  6.35it/s]\n",
      "Feature Extraction: 100%|██████████| 80/80 [01:01<00:00,  1.30it/s]\n",
      "Feature Extraction: 100%|██████████| 78/78 [00:10<00:00,  7.67it/s]\n",
      "Feature Extraction: 100%|██████████| 80/80 [01:08<00:00,  1.16it/s]\n",
      "Feature Extraction: 100%|██████████| 78/78 [00:11<00:00,  7.06it/s]\n",
      "Feature Extraction: 100%|██████████| 80/80 [00:55<00:00,  1.44it/s]\n",
      "Feature Extraction: 100%|██████████| 78/78 [00:12<00:00,  6.36it/s]\n"
     ]
    },
    {
     "name": "stdout",
     "output_type": "stream",
     "text": [
      "[I 2024-04-30 12:32:36,786] Trial 94 finished with value: 0.9793266391021854 and parameters: {'use_smote': False, 'n_estimators': 641, 'max_depth': 48, 'min_samples_split': 9, 'min_samples_leaf': 2, 'max_features': 'sqrt', 'criterion': 'log_loss'}. Best is trial 41 with value: 0.981377475613361.\n"
     ]
    },
    {
     "name": "stderr",
     "output_type": "stream",
     "text": [
      "Feature Extraction: 100%|██████████| 80/80 [01:04<00:00,  1.25it/s]\n",
      "Feature Extraction: 100%|██████████| 78/78 [00:09<00:00,  7.94it/s]\n",
      "Feature Extraction: 100%|██████████| 80/80 [01:28<00:00,  1.11s/it]\n",
      "Feature Extraction: 100%|██████████| 78/78 [00:13<00:00,  5.79it/s]\n",
      "Feature Extraction: 100%|██████████| 80/80 [00:58<00:00,  1.36it/s]\n",
      "Feature Extraction: 100%|██████████| 78/78 [00:17<00:00,  4.47it/s]\n",
      "Feature Extraction: 100%|██████████| 80/80 [01:22<00:00,  1.03s/it]\n",
      "Feature Extraction: 100%|██████████| 78/78 [00:11<00:00,  7.03it/s]\n",
      "Feature Extraction: 100%|██████████| 80/80 [01:09<00:00,  1.15it/s]\n",
      "Feature Extraction: 100%|██████████| 78/78 [00:17<00:00,  4.46it/s]\n"
     ]
    },
    {
     "name": "stdout",
     "output_type": "stream",
     "text": [
      "[I 2024-04-30 12:43:55,906] Trial 95 finished with value: 0.9804964539007093 and parameters: {'use_smote': False, 'n_estimators': 812, 'max_depth': 29, 'min_samples_split': 3, 'min_samples_leaf': 2, 'max_features': 'sqrt', 'criterion': 'log_loss'}. Best is trial 41 with value: 0.981377475613361.\n"
     ]
    },
    {
     "name": "stderr",
     "output_type": "stream",
     "text": [
      "Feature Extraction: 100%|██████████| 80/80 [01:03<00:00,  1.26it/s]\n",
      "Feature Extraction: 100%|██████████| 78/78 [00:10<00:00,  7.47it/s]\n",
      "Feature Extraction: 100%|██████████| 80/80 [01:32<00:00,  1.15s/it]\n",
      "Feature Extraction: 100%|██████████| 78/78 [00:10<00:00,  7.20it/s]\n",
      "Feature Extraction: 100%|██████████| 80/80 [00:56<00:00,  1.41it/s]\n",
      "Feature Extraction: 100%|██████████| 78/78 [00:17<00:00,  4.49it/s]\n"
     ]
    },
    {
     "name": "stdout",
     "output_type": "stream",
     "text": [
      "[I 2024-04-30 12:50:39,273] Trial 96 pruned. \n"
     ]
    },
    {
     "name": "stderr",
     "output_type": "stream",
     "text": [
      "Feature Extraction: 100%|██████████| 80/80 [01:17<00:00,  1.03it/s]\n",
      "Feature Extraction: 100%|██████████| 78/78 [00:11<00:00,  7.00it/s]\n",
      "Feature Extraction: 100%|██████████| 80/80 [01:11<00:00,  1.12it/s]\n",
      "Feature Extraction: 100%|██████████| 78/78 [00:17<00:00,  4.44it/s]\n",
      "Feature Extraction: 100%|██████████| 80/80 [00:59<00:00,  1.34it/s]\n",
      "Feature Extraction: 100%|██████████| 78/78 [00:11<00:00,  6.66it/s]\n"
     ]
    },
    {
     "name": "stdout",
     "output_type": "stream",
     "text": [
      "[I 2024-04-30 12:56:32,276] Trial 97 pruned. \n"
     ]
    },
    {
     "name": "stderr",
     "output_type": "stream",
     "text": [
      "Feature Extraction: 100%|██████████| 80/80 [01:21<00:00,  1.01s/it]\n",
      "Feature Extraction: 100%|██████████| 78/78 [00:11<00:00,  7.01it/s]\n",
      "Feature Extraction: 100%|██████████| 80/80 [01:12<00:00,  1.10it/s]\n",
      "Feature Extraction: 100%|██████████| 78/78 [00:17<00:00,  4.36it/s]\n",
      "Feature Extraction: 100%|██████████| 80/80 [00:58<00:00,  1.37it/s]\n",
      "Feature Extraction: 100%|██████████| 78/78 [00:08<00:00,  8.92it/s]\n"
     ]
    },
    {
     "name": "stdout",
     "output_type": "stream",
     "text": [
      "[I 2024-04-30 13:02:36,755] Trial 98 pruned. \n"
     ]
    },
    {
     "name": "stderr",
     "output_type": "stream",
     "text": [
      "Feature Extraction: 100%|██████████| 80/80 [01:22<00:00,  1.04s/it]\n",
      "Feature Extraction: 100%|██████████| 78/78 [00:10<00:00,  7.13it/s]\n",
      "Feature Extraction: 100%|██████████| 80/80 [01:09<00:00,  1.15it/s]\n",
      "Feature Extraction: 100%|██████████| 78/78 [00:17<00:00,  4.48it/s]\n",
      "Feature Extraction: 100%|██████████| 80/80 [00:58<00:00,  1.37it/s]\n",
      "Feature Extraction: 100%|██████████| 78/78 [00:10<00:00,  7.29it/s]\n"
     ]
    },
    {
     "name": "stdout",
     "output_type": "stream",
     "text": [
      "[I 2024-04-30 13:08:48,716] Trial 99 pruned. \n"
     ]
    },
    {
     "name": "stderr",
     "output_type": "stream",
     "text": [
      "Feature Extraction: 100%|██████████| 80/80 [01:10<00:00,  1.14it/s]\n",
      "Feature Extraction: 100%|██████████| 78/78 [00:11<00:00,  7.07it/s]\n",
      "Feature Extraction: 100%|██████████| 80/80 [01:21<00:00,  1.02s/it]\n",
      "Feature Extraction: 100%|██████████| 78/78 [00:11<00:00,  7.07it/s]\n",
      "Feature Extraction: 100%|██████████| 80/80 [01:02<00:00,  1.29it/s]\n",
      "Feature Extraction: 100%|██████████| 78/78 [00:12<00:00,  6.36it/s]\n"
     ]
    },
    {
     "name": "stdout",
     "output_type": "stream",
     "text": [
      "[I 2024-04-30 13:14:36,824] Trial 100 pruned. \n"
     ]
    },
    {
     "name": "stderr",
     "output_type": "stream",
     "text": [
      "Feature Extraction: 100%|██████████| 80/80 [00:58<00:00,  1.37it/s]\n",
      "Feature Extraction: 100%|██████████| 78/78 [00:14<00:00,  5.32it/s]\n",
      "Feature Extraction: 100%|██████████| 80/80 [01:08<00:00,  1.17it/s]\n",
      "Feature Extraction: 100%|██████████| 78/78 [00:09<00:00,  7.84it/s]\n",
      "Feature Extraction: 100%|██████████| 80/80 [01:19<00:00,  1.00it/s]\n",
      "Feature Extraction: 100%|██████████| 78/78 [00:11<00:00,  6.99it/s]\n",
      "Feature Extraction: 100%|██████████| 80/80 [01:02<00:00,  1.29it/s]\n",
      "Feature Extraction: 100%|██████████| 78/78 [00:11<00:00,  7.01it/s]\n",
      "Feature Extraction: 100%|██████████| 80/80 [00:59<00:00,  1.35it/s]\n",
      "Feature Extraction: 100%|██████████| 78/78 [00:11<00:00,  6.82it/s]\n"
     ]
    },
    {
     "name": "stdout",
     "output_type": "stream",
     "text": [
      "[I 2024-04-30 13:23:50,981] Trial 101 finished with value: 0.9810986414648553 and parameters: {'use_smote': False, 'n_estimators': 738, 'max_depth': 25, 'min_samples_split': 8, 'min_samples_leaf': 1, 'max_features': 'sqrt', 'criterion': 'log_loss'}. Best is trial 41 with value: 0.981377475613361.\n"
     ]
    },
    {
     "name": "stderr",
     "output_type": "stream",
     "text": [
      "Feature Extraction: 100%|██████████| 80/80 [00:57<00:00,  1.39it/s]\n",
      "Feature Extraction: 100%|██████████| 78/78 [00:14<00:00,  5.37it/s]\n",
      "Feature Extraction: 100%|██████████| 80/80 [01:02<00:00,  1.28it/s]\n",
      "Feature Extraction: 100%|██████████| 78/78 [00:10<00:00,  7.19it/s]\n",
      "Feature Extraction: 100%|██████████| 80/80 [01:09<00:00,  1.16it/s]\n",
      "Feature Extraction: 100%|██████████| 78/78 [00:11<00:00,  6.97it/s]\n",
      "Feature Extraction: 100%|██████████| 80/80 [01:07<00:00,  1.18it/s]\n",
      "Feature Extraction: 100%|██████████| 78/78 [00:11<00:00,  7.07it/s]\n",
      "Feature Extraction: 100%|██████████| 80/80 [00:57<00:00,  1.40it/s]\n",
      "Feature Extraction: 100%|██████████| 78/78 [00:11<00:00,  6.51it/s]\n"
     ]
    },
    {
     "name": "stdout",
     "output_type": "stream",
     "text": [
      "[I 2024-04-30 13:32:15,050] Trial 102 finished with value: 0.981377475613361 and parameters: {'use_smote': False, 'n_estimators': 721, 'max_depth': 27, 'min_samples_split': 8, 'min_samples_leaf': 1, 'max_features': 'sqrt', 'criterion': 'log_loss'}. Best is trial 41 with value: 0.981377475613361.\n"
     ]
    },
    {
     "name": "stderr",
     "output_type": "stream",
     "text": [
      "Feature Extraction: 100%|██████████| 80/80 [01:00<00:00,  1.32it/s]\n",
      "Feature Extraction: 100%|██████████| 78/78 [00:10<00:00,  7.70it/s]\n",
      "Feature Extraction: 100%|██████████| 80/80 [01:02<00:00,  1.28it/s]\n",
      "Feature Extraction: 100%|██████████| 78/78 [00:08<00:00,  8.92it/s]\n",
      "Feature Extraction: 100%|██████████| 80/80 [01:02<00:00,  1.29it/s]\n",
      "Feature Extraction: 100%|██████████| 78/78 [00:11<00:00,  6.91it/s]\n",
      "Feature Extraction: 100%|██████████| 80/80 [01:04<00:00,  1.23it/s]\n",
      "Feature Extraction: 100%|██████████| 78/78 [00:11<00:00,  6.93it/s]\n",
      "Feature Extraction: 100%|██████████| 80/80 [01:02<00:00,  1.29it/s]\n",
      "Feature Extraction: 100%|██████████| 78/78 [00:11<00:00,  7.06it/s]\n"
     ]
    },
    {
     "name": "stdout",
     "output_type": "stream",
     "text": [
      "[I 2024-04-30 13:40:50,019] Trial 103 finished with value: 0.9793388429752066 and parameters: {'use_smote': False, 'n_estimators': 720, 'max_depth': 26, 'min_samples_split': 8, 'min_samples_leaf': 3, 'max_features': 'sqrt', 'criterion': 'log_loss'}. Best is trial 41 with value: 0.981377475613361.\n"
     ]
    },
    {
     "name": "stderr",
     "output_type": "stream",
     "text": [
      "Feature Extraction: 100%|██████████| 80/80 [00:57<00:00,  1.38it/s]\n",
      "Feature Extraction: 100%|██████████| 78/78 [00:15<00:00,  5.17it/s]\n",
      "Feature Extraction: 100%|██████████| 80/80 [01:00<00:00,  1.31it/s]\n",
      "Feature Extraction: 100%|██████████| 78/78 [00:11<00:00,  6.84it/s]\n",
      "Feature Extraction: 100%|██████████| 80/80 [01:06<00:00,  1.20it/s]\n",
      "Feature Extraction: 100%|██████████| 78/78 [00:08<00:00,  9.25it/s]\n",
      "Feature Extraction: 100%|██████████| 80/80 [01:12<00:00,  1.10it/s]\n",
      "Feature Extraction: 100%|██████████| 78/78 [00:11<00:00,  6.99it/s]\n",
      "Feature Extraction: 100%|██████████| 80/80 [01:02<00:00,  1.28it/s]\n",
      "Feature Extraction: 100%|██████████| 78/78 [00:11<00:00,  6.97it/s]\n"
     ]
    },
    {
     "name": "stdout",
     "output_type": "stream",
     "text": [
      "[I 2024-04-30 13:49:44,290] Trial 104 finished with value: 0.9804849201655825 and parameters: {'use_smote': False, 'n_estimators': 659, 'max_depth': 22, 'min_samples_split': 7, 'min_samples_leaf': 1, 'max_features': 'sqrt', 'criterion': 'log_loss'}. Best is trial 41 with value: 0.981377475613361.\n"
     ]
    },
    {
     "name": "stderr",
     "output_type": "stream",
     "text": [
      "Feature Extraction: 100%|██████████| 80/80 [00:55<00:00,  1.44it/s]\n",
      "Feature Extraction: 100%|██████████| 78/78 [00:14<00:00,  5.50it/s]\n",
      "Feature Extraction: 100%|██████████| 80/80 [01:01<00:00,  1.31it/s]\n",
      "Feature Extraction: 100%|██████████| 78/78 [00:12<00:00,  6.34it/s]\n",
      "Feature Extraction: 100%|██████████| 80/80 [01:02<00:00,  1.27it/s]\n",
      "Feature Extraction: 100%|██████████| 78/78 [00:08<00:00,  9.52it/s]\n",
      "Feature Extraction: 100%|██████████| 80/80 [01:34<00:00,  1.18s/it]\n",
      "Feature Extraction: 100%|██████████| 78/78 [00:10<00:00,  7.32it/s]\n",
      "Feature Extraction: 100%|██████████| 80/80 [00:57<00:00,  1.40it/s]\n",
      "Feature Extraction: 100%|██████████| 78/78 [00:17<00:00,  4.49it/s]\n"
     ]
    },
    {
     "name": "stdout",
     "output_type": "stream",
     "text": [
      "[I 2024-04-30 13:59:43,481] Trial 105 finished with value: 0.9799173065564087 and parameters: {'use_smote': False, 'n_estimators': 691, 'max_depth': 28, 'min_samples_split': 4, 'min_samples_leaf': 2, 'max_features': 'sqrt', 'criterion': 'log_loss'}. Best is trial 41 with value: 0.981377475613361.\n"
     ]
    },
    {
     "name": "stderr",
     "output_type": "stream",
     "text": [
      "Feature Extraction: 100%|██████████| 80/80 [01:17<00:00,  1.03it/s]\n",
      "Feature Extraction: 100%|██████████| 78/78 [00:11<00:00,  6.92it/s]\n",
      "Feature Extraction: 100%|██████████| 80/80 [01:19<00:00,  1.00it/s]\n",
      "Feature Extraction: 100%|██████████| 78/78 [00:18<00:00,  4.26it/s]\n",
      "Feature Extraction: 100%|██████████| 80/80 [01:00<00:00,  1.32it/s]\n",
      "Feature Extraction: 100%|██████████| 78/78 [00:13<00:00,  5.72it/s]\n"
     ]
    },
    {
     "name": "stdout",
     "output_type": "stream",
     "text": [
      "[I 2024-04-30 14:05:58,094] Trial 106 pruned. \n"
     ]
    },
    {
     "name": "stderr",
     "output_type": "stream",
     "text": [
      "Feature Extraction: 100%|██████████| 80/80 [01:31<00:00,  1.15s/it]\n",
      "Feature Extraction: 100%|██████████| 78/78 [00:11<00:00,  6.97it/s]\n",
      "Feature Extraction: 100%|██████████| 80/80 [01:06<00:00,  1.20it/s]\n",
      "Feature Extraction: 100%|██████████| 78/78 [00:17<00:00,  4.48it/s]\n",
      "Feature Extraction: 100%|██████████| 80/80 [01:04<00:00,  1.24it/s]\n",
      "Feature Extraction: 100%|██████████| 78/78 [00:08<00:00,  8.73it/s]\n",
      "Feature Extraction: 100%|██████████| 80/80 [01:10<00:00,  1.14it/s]\n",
      "Feature Extraction: 100%|██████████| 78/78 [00:11<00:00,  6.85it/s]\n",
      "Feature Extraction: 100%|██████████| 80/80 [01:07<00:00,  1.19it/s]\n",
      "Feature Extraction: 100%|██████████| 78/78 [00:11<00:00,  6.99it/s]\n"
     ]
    },
    {
     "name": "stdout",
     "output_type": "stream",
     "text": [
      "[I 2024-04-30 14:15:45,180] Trial 107 finished with value: 0.980507974010632 and parameters: {'use_smote': False, 'n_estimators': 944, 'max_depth': 26, 'min_samples_split': 7, 'min_samples_leaf': 3, 'max_features': 'sqrt', 'criterion': 'log_loss'}. Best is trial 41 with value: 0.981377475613361.\n"
     ]
    },
    {
     "name": "stderr",
     "output_type": "stream",
     "text": [
      "Feature Extraction: 100%|██████████| 80/80 [01:02<00:00,  1.28it/s]\n",
      "Feature Extraction: 100%|██████████| 78/78 [00:11<00:00,  6.92it/s]\n",
      "Feature Extraction: 100%|██████████| 80/80 [00:57<00:00,  1.40it/s]\n",
      "Feature Extraction: 100%|██████████| 78/78 [00:11<00:00,  6.70it/s]\n",
      "Feature Extraction: 100%|██████████| 80/80 [01:05<00:00,  1.22it/s]\n",
      "Feature Extraction: 100%|██████████| 78/78 [00:11<00:00,  6.96it/s]\n"
     ]
    },
    {
     "name": "stdout",
     "output_type": "stream",
     "text": [
      "[I 2024-04-30 14:20:45,128] Trial 108 pruned. \n"
     ]
    },
    {
     "name": "stderr",
     "output_type": "stream",
     "text": [
      "Feature Extraction: 100%|██████████| 80/80 [00:56<00:00,  1.43it/s]\n",
      "Feature Extraction: 100%|██████████| 78/78 [00:12<00:00,  6.47it/s]\n",
      "Feature Extraction: 100%|██████████| 80/80 [01:03<00:00,  1.26it/s]\n",
      "Feature Extraction: 100%|██████████| 78/78 [00:11<00:00,  6.97it/s]\n",
      "Feature Extraction: 100%|██████████| 80/80 [01:04<00:00,  1.25it/s]\n",
      "Feature Extraction: 100%|██████████| 78/78 [00:12<00:00,  6.48it/s]\n"
     ]
    },
    {
     "name": "stdout",
     "output_type": "stream",
     "text": [
      "[I 2024-04-30 14:25:49,022] Trial 109 pruned. \n"
     ]
    },
    {
     "name": "stderr",
     "output_type": "stream",
     "text": [
      "Feature Extraction: 100%|██████████| 80/80 [01:02<00:00,  1.28it/s]\n",
      "Feature Extraction: 100%|██████████| 78/78 [00:09<00:00,  8.03it/s]\n",
      "Feature Extraction: 100%|██████████| 80/80 [01:05<00:00,  1.22it/s]\n",
      "Feature Extraction: 100%|██████████| 78/78 [00:11<00:00,  7.00it/s]\n",
      "Feature Extraction: 100%|██████████| 80/80 [00:59<00:00,  1.35it/s]\n",
      "Feature Extraction: 100%|██████████| 78/78 [00:11<00:00,  6.97it/s]\n",
      "Feature Extraction: 100%|██████████| 80/80 [00:57<00:00,  1.40it/s]\n",
      "Feature Extraction: 100%|██████████| 78/78 [00:12<00:00,  6.33it/s]\n",
      "Feature Extraction: 100%|██████████| 80/80 [01:00<00:00,  1.33it/s]\n",
      "Feature Extraction: 100%|██████████| 78/78 [00:11<00:00,  6.80it/s]\n"
     ]
    },
    {
     "name": "stdout",
     "output_type": "stream",
     "text": [
      "[I 2024-04-30 14:34:05,684] Trial 110 finished with value: 0.9816784869976359 and parameters: {'use_smote': False, 'n_estimators': 788, 'max_depth': 34, 'min_samples_split': 5, 'min_samples_leaf': 1, 'max_features': 'sqrt', 'criterion': 'log_loss'}. Best is trial 110 with value: 0.9816784869976359.\n"
     ]
    },
    {
     "name": "stderr",
     "output_type": "stream",
     "text": [
      "Feature Extraction: 100%|██████████| 80/80 [01:02<00:00,  1.28it/s]\n",
      "Feature Extraction: 100%|██████████| 78/78 [00:07<00:00,  9.91it/s]\n",
      "Feature Extraction: 100%|██████████| 80/80 [01:04<00:00,  1.24it/s]\n",
      "Feature Extraction: 100%|██████████| 78/78 [00:11<00:00,  7.02it/s]\n",
      "Feature Extraction: 100%|██████████| 80/80 [01:11<00:00,  1.12it/s]\n",
      "Feature Extraction: 100%|██████████| 78/78 [00:17<00:00,  4.36it/s]\n",
      "Feature Extraction: 100%|██████████| 80/80 [01:00<00:00,  1.32it/s]\n",
      "Feature Extraction: 100%|██████████| 78/78 [00:13<00:00,  5.59it/s]\n",
      "Feature Extraction: 100%|██████████| 80/80 [01:17<00:00,  1.03it/s]\n",
      "Feature Extraction: 100%|██████████| 78/78 [00:11<00:00,  6.99it/s]\n"
     ]
    },
    {
     "name": "stdout",
     "output_type": "stream",
     "text": [
      "[I 2024-04-30 14:43:15,272] Trial 111 finished with value: 0.9807976366322009 and parameters: {'use_smote': False, 'n_estimators': 705, 'max_depth': 36, 'min_samples_split': 5, 'min_samples_leaf': 1, 'max_features': 'sqrt', 'criterion': 'log_loss'}. Best is trial 110 with value: 0.9816784869976359.\n"
     ]
    },
    {
     "name": "stderr",
     "output_type": "stream",
     "text": [
      "Feature Extraction: 100%|██████████| 80/80 [01:14<00:00,  1.07it/s]\n",
      "Feature Extraction: 100%|██████████| 78/78 [00:10<00:00,  7.37it/s]\n",
      "Feature Extraction: 100%|██████████| 80/80 [00:56<00:00,  1.42it/s]\n",
      "Feature Extraction: 100%|██████████| 78/78 [00:17<00:00,  4.54it/s]\n",
      "Feature Extraction: 100%|██████████| 80/80 [01:02<00:00,  1.27it/s]\n",
      "Feature Extraction: 100%|██████████| 78/78 [00:10<00:00,  7.32it/s]\n"
     ]
    },
    {
     "name": "stdout",
     "output_type": "stream",
     "text": [
      "[I 2024-04-30 14:49:38,722] Trial 112 pruned. \n"
     ]
    },
    {
     "name": "stderr",
     "output_type": "stream",
     "text": [
      "Feature Extraction: 100%|██████████| 80/80 [01:30<00:00,  1.13s/it]\n",
      "Feature Extraction: 100%|██████████| 78/78 [00:10<00:00,  7.23it/s]\n",
      "Feature Extraction: 100%|██████████| 80/80 [01:04<00:00,  1.25it/s]\n",
      "Feature Extraction: 100%|██████████| 78/78 [00:15<00:00,  4.98it/s]\n",
      "Feature Extraction: 100%|██████████| 80/80 [00:59<00:00,  1.35it/s]\n",
      "Feature Extraction: 100%|██████████| 78/78 [00:10<00:00,  7.68it/s]\n",
      "Feature Extraction: 100%|██████████| 80/80 [01:20<00:00,  1.00s/it]\n",
      "Feature Extraction: 100%|██████████| 78/78 [00:11<00:00,  6.94it/s]\n",
      "Feature Extraction: 100%|██████████| 80/80 [01:19<00:00,  1.01it/s]\n",
      "Feature Extraction: 100%|██████████| 78/78 [00:10<00:00,  7.20it/s]\n"
     ]
    },
    {
     "name": "stdout",
     "output_type": "stream",
     "text": [
      "[I 2024-04-30 15:00:21,607] Trial 113 finished with value: 0.9810762862211709 and parameters: {'use_smote': False, 'n_estimators': 912, 'max_depth': 38, 'min_samples_split': 3, 'min_samples_leaf': 2, 'max_features': 'sqrt', 'criterion': 'log_loss'}. Best is trial 110 with value: 0.9816784869976359.\n"
     ]
    },
    {
     "name": "stderr",
     "output_type": "stream",
     "text": [
      "Feature Extraction: 100%|██████████| 80/80 [00:57<00:00,  1.40it/s]\n",
      "Feature Extraction: 100%|██████████| 78/78 [00:17<00:00,  4.33it/s]\n",
      "Feature Extraction: 100%|██████████| 80/80 [01:06<00:00,  1.21it/s]\n",
      "Feature Extraction: 100%|██████████| 78/78 [00:09<00:00,  8.13it/s]\n",
      "Feature Extraction: 100%|██████████| 80/80 [01:26<00:00,  1.08s/it]\n",
      "Feature Extraction: 100%|██████████| 78/78 [00:10<00:00,  7.17it/s]\n",
      "Feature Extraction: 100%|██████████| 80/80 [00:56<00:00,  1.41it/s]\n",
      "Feature Extraction: 100%|██████████| 78/78 [00:16<00:00,  4.77it/s]\n",
      "Feature Extraction: 100%|██████████| 80/80 [01:07<00:00,  1.18it/s]\n",
      "Feature Extraction: 100%|██████████| 78/78 [00:09<00:00,  7.95it/s]\n"
     ]
    },
    {
     "name": "stdout",
     "output_type": "stream",
     "text": [
      "[I 2024-04-30 15:10:47,904] Trial 114 finished with value: 0.9810874704491725 and parameters: {'use_smote': False, 'n_estimators': 728, 'max_depth': 37, 'min_samples_split': 4, 'min_samples_leaf': 1, 'max_features': 'sqrt', 'criterion': 'log_loss'}. Best is trial 110 with value: 0.9816784869976359.\n"
     ]
    },
    {
     "name": "stderr",
     "output_type": "stream",
     "text": [
      "Feature Extraction: 100%|██████████| 80/80 [01:28<00:00,  1.10s/it]\n",
      "Feature Extraction: 100%|██████████| 78/78 [00:11<00:00,  7.05it/s]\n",
      "Feature Extraction: 100%|██████████| 80/80 [00:55<00:00,  1.43it/s]\n",
      "Feature Extraction: 100%|██████████| 78/78 [00:17<00:00,  4.48it/s]\n",
      "Feature Extraction: 100%|██████████| 80/80 [00:59<00:00,  1.34it/s]\n",
      "Feature Extraction: 100%|██████████| 78/78 [00:08<00:00,  9.52it/s]\n"
     ]
    },
    {
     "name": "stdout",
     "output_type": "stream",
     "text": [
      "[I 2024-04-30 15:16:51,328] Trial 115 pruned. \n"
     ]
    },
    {
     "name": "stderr",
     "output_type": "stream",
     "text": [
      "Feature Extraction: 100%|██████████| 80/80 [01:17<00:00,  1.03it/s]\n",
      "Feature Extraction: 100%|██████████| 78/78 [00:11<00:00,  7.01it/s]\n",
      "Feature Extraction: 100%|██████████| 80/80 [01:08<00:00,  1.16it/s]\n",
      "Feature Extraction: 100%|██████████| 78/78 [00:10<00:00,  7.68it/s]\n",
      "Feature Extraction: 100%|██████████| 80/80 [00:57<00:00,  1.39it/s]\n",
      "Feature Extraction: 100%|██████████| 78/78 [00:16<00:00,  4.85it/s]\n",
      "Feature Extraction: 100%|██████████| 80/80 [01:07<00:00,  1.19it/s]\n",
      "Feature Extraction: 100%|██████████| 78/78 [00:08<00:00,  9.72it/s]\n",
      "Feature Extraction: 100%|██████████| 80/80 [01:02<00:00,  1.28it/s]\n",
      "Feature Extraction: 100%|██████████| 78/78 [00:11<00:00,  7.00it/s]\n"
     ]
    },
    {
     "name": "stdout",
     "output_type": "stream",
     "text": [
      "[I 2024-04-30 15:26:14,575] Trial 116 finished with value: 0.9790002957704821 and parameters: {'use_smote': False, 'n_estimators': 741, 'max_depth': 40, 'min_samples_split': 6, 'min_samples_leaf': 1, 'max_features': 'sqrt', 'criterion': 'entropy'}. Best is trial 110 with value: 0.9816784869976359.\n"
     ]
    },
    {
     "name": "stderr",
     "output_type": "stream",
     "text": [
      "Feature Extraction: 100%|██████████| 80/80 [00:58<00:00,  1.38it/s]\n",
      "Feature Extraction: 100%|██████████| 78/78 [00:11<00:00,  6.85it/s]\n",
      "Feature Extraction: 100%|██████████| 80/80 [00:58<00:00,  1.37it/s]\n",
      "Feature Extraction: 100%|██████████| 78/78 [00:11<00:00,  7.01it/s]\n",
      "Feature Extraction: 100%|██████████| 80/80 [00:56<00:00,  1.42it/s]\n",
      "Feature Extraction: 100%|██████████| 78/78 [00:11<00:00,  6.93it/s]\n"
     ]
    },
    {
     "name": "stdout",
     "output_type": "stream",
     "text": [
      "[I 2024-04-30 15:30:47,811] Trial 117 pruned. \n"
     ]
    },
    {
     "name": "stderr",
     "output_type": "stream",
     "text": [
      "Feature Extraction: 100%|██████████| 80/80 [00:58<00:00,  1.38it/s]\n",
      "Feature Extraction: 100%|██████████| 78/78 [00:10<00:00,  7.31it/s]\n",
      "Feature Extraction: 100%|██████████| 80/80 [00:57<00:00,  1.38it/s]\n",
      "Feature Extraction: 100%|██████████| 78/78 [00:11<00:00,  6.53it/s]\n",
      "Feature Extraction: 100%|██████████| 80/80 [01:03<00:00,  1.26it/s]\n",
      "Feature Extraction: 100%|██████████| 78/78 [00:10<00:00,  7.78it/s]\n",
      "Feature Extraction: 100%|██████████| 80/80 [01:05<00:00,  1.22it/s]\n",
      "Feature Extraction: 100%|██████████| 78/78 [00:10<00:00,  7.09it/s]\n",
      "Feature Extraction: 100%|██████████| 80/80 [00:55<00:00,  1.44it/s]\n",
      "Feature Extraction: 100%|██████████| 78/78 [00:12<00:00,  6.18it/s]\n"
     ]
    },
    {
     "name": "stdout",
     "output_type": "stream",
     "text": [
      "[I 2024-04-30 15:38:52,054] Trial 118 finished with value: 0.9787234042553191 and parameters: {'use_smote': False, 'n_estimators': 696, 'max_depth': 39, 'min_samples_split': 6, 'min_samples_leaf': 1, 'max_features': 'sqrt', 'criterion': 'log_loss'}. Best is trial 110 with value: 0.9816784869976359.\n"
     ]
    },
    {
     "name": "stderr",
     "output_type": "stream",
     "text": [
      "Feature Extraction: 100%|██████████| 80/80 [01:02<00:00,  1.28it/s]\n",
      "Feature Extraction: 100%|██████████| 78/78 [00:10<00:00,  7.73it/s]\n",
      "Feature Extraction: 100%|██████████| 80/80 [01:11<00:00,  1.12it/s]\n",
      "Feature Extraction: 100%|██████████| 78/78 [00:11<00:00,  6.94it/s]\n",
      "Feature Extraction: 100%|██████████| 80/80 [01:10<00:00,  1.14it/s]\n",
      "Feature Extraction: 100%|██████████| 78/78 [00:11<00:00,  7.09it/s]\n"
     ]
    },
    {
     "name": "stdout",
     "output_type": "stream",
     "text": [
      "[I 2024-04-30 15:43:51,274] Trial 119 pruned. \n"
     ]
    },
    {
     "name": "stderr",
     "output_type": "stream",
     "text": [
      "Feature Extraction: 100%|██████████| 80/80 [01:02<00:00,  1.28it/s]\n",
      "Feature Extraction: 100%|██████████| 78/78 [00:11<00:00,  7.01it/s]\n",
      "Feature Extraction: 100%|██████████| 80/80 [00:57<00:00,  1.40it/s]\n",
      "Feature Extraction: 100%|██████████| 78/78 [00:13<00:00,  5.96it/s]\n",
      "Feature Extraction: 100%|██████████| 80/80 [01:00<00:00,  1.33it/s]\n",
      "Feature Extraction: 100%|██████████| 78/78 [00:13<00:00,  5.70it/s]\n",
      "Feature Extraction: 100%|██████████| 80/80 [01:04<00:00,  1.25it/s]\n",
      "Feature Extraction: 100%|██████████| 78/78 [00:10<00:00,  7.41it/s]\n",
      "Feature Extraction: 100%|██████████| 80/80 [01:08<00:00,  1.16it/s]\n",
      "Feature Extraction: 100%|██████████| 78/78 [00:10<00:00,  7.29it/s]\n"
     ]
    },
    {
     "name": "stdout",
     "output_type": "stream",
     "text": [
      "[I 2024-04-30 15:52:52,354] Trial 120 finished with value: 0.980507974010632 and parameters: {'use_smote': False, 'n_estimators': 760, 'max_depth': 35, 'min_samples_split': 5, 'min_samples_leaf': 2, 'max_features': 'sqrt', 'criterion': 'entropy'}. Best is trial 110 with value: 0.9816784869976359.\n"
     ]
    },
    {
     "name": "stderr",
     "output_type": "stream",
     "text": [
      "Feature Extraction: 100%|██████████| 80/80 [01:00<00:00,  1.33it/s]\n",
      "Feature Extraction: 100%|██████████| 78/78 [00:11<00:00,  6.85it/s]\n",
      "Feature Extraction: 100%|██████████| 80/80 [01:06<00:00,  1.20it/s]\n",
      "Feature Extraction: 100%|██████████| 78/78 [00:11<00:00,  7.03it/s]\n",
      "Feature Extraction: 100%|██████████| 80/80 [00:55<00:00,  1.45it/s]\n",
      "Feature Extraction: 100%|██████████| 78/78 [00:12<00:00,  6.45it/s]\n",
      "Feature Extraction: 100%|██████████| 80/80 [01:05<00:00,  1.23it/s]\n",
      "Feature Extraction: 100%|██████████| 78/78 [00:11<00:00,  6.77it/s]\n",
      "Feature Extraction: 100%|██████████| 80/80 [00:58<00:00,  1.38it/s]\n",
      "Feature Extraction: 100%|██████████| 78/78 [00:12<00:00,  6.15it/s]\n"
     ]
    },
    {
     "name": "stdout",
     "output_type": "stream",
     "text": [
      "[I 2024-04-30 16:01:02,342] Trial 121 finished with value: 0.9810986414648553 and parameters: {'use_smote': False, 'n_estimators': 729, 'max_depth': 27, 'min_samples_split': 2, 'min_samples_leaf': 1, 'max_features': 'sqrt', 'criterion': 'log_loss'}. Best is trial 110 with value: 0.9816784869976359.\n"
     ]
    },
    {
     "name": "stderr",
     "output_type": "stream",
     "text": [
      "Feature Extraction: 100%|██████████| 80/80 [01:02<00:00,  1.28it/s]\n",
      "Feature Extraction: 100%|██████████| 78/78 [00:10<00:00,  7.69it/s]\n",
      "Feature Extraction: 100%|██████████| 80/80 [01:06<00:00,  1.20it/s]\n",
      "Feature Extraction: 100%|██████████| 78/78 [00:09<00:00,  8.38it/s]\n",
      "Feature Extraction: 100%|██████████| 80/80 [00:39<00:00,  2.01it/s]\n",
      "Feature Extraction: 100%|██████████| 78/78 [00:07<00:00, 10.76it/s]\n",
      "Feature Extraction: 100%|██████████| 80/80 [00:39<00:00,  2.01it/s]\n",
      "Feature Extraction: 100%|██████████| 78/78 [00:07<00:00, 10.75it/s]\n",
      "Feature Extraction: 100%|██████████| 80/80 [00:40<00:00,  1.99it/s]\n",
      "Feature Extraction: 100%|██████████| 78/78 [00:07<00:00, 10.72it/s]\n"
     ]
    },
    {
     "name": "stdout",
     "output_type": "stream",
     "text": [
      "[I 2024-04-30 16:07:19,110] Trial 122 finished with value: 0.9810762862211709 and parameters: {'use_smote': False, 'n_estimators': 671, 'max_depth': 27, 'min_samples_split': 3, 'min_samples_leaf': 1, 'max_features': 'sqrt', 'criterion': 'log_loss'}. Best is trial 110 with value: 0.9816784869976359.\n"
     ]
    },
    {
     "name": "stderr",
     "output_type": "stream",
     "text": [
      "Feature Extraction: 100%|██████████| 80/80 [00:41<00:00,  1.94it/s]\n",
      "Feature Extraction: 100%|██████████| 78/78 [00:07<00:00, 10.81it/s]\n",
      "Feature Extraction: 100%|██████████| 80/80 [00:39<00:00,  2.01it/s]\n",
      "Feature Extraction: 100%|██████████| 78/78 [00:07<00:00, 10.86it/s]\n",
      "Feature Extraction: 100%|██████████| 80/80 [00:39<00:00,  2.02it/s]\n",
      "Feature Extraction: 100%|██████████| 78/78 [00:07<00:00, 11.03it/s]\n"
     ]
    },
    {
     "name": "stdout",
     "output_type": "stream",
     "text": [
      "[I 2024-04-30 16:10:27,235] Trial 123 pruned. \n"
     ]
    },
    {
     "name": "stderr",
     "output_type": "stream",
     "text": [
      "Feature Extraction: 100%|██████████| 80/80 [00:39<00:00,  2.00it/s]\n",
      "Feature Extraction: 100%|██████████| 78/78 [00:07<00:00, 10.56it/s]\n",
      "Feature Extraction: 100%|██████████| 80/80 [00:41<00:00,  1.91it/s]\n",
      "Feature Extraction: 100%|██████████| 78/78 [00:07<00:00, 10.60it/s]\n",
      "Feature Extraction: 100%|██████████| 80/80 [00:39<00:00,  2.00it/s]\n",
      "Feature Extraction: 100%|██████████| 78/78 [00:07<00:00, 11.09it/s]\n",
      "Feature Extraction: 100%|██████████| 80/80 [00:40<00:00,  1.96it/s]\n",
      "Feature Extraction: 100%|██████████| 78/78 [00:07<00:00, 10.75it/s]\n",
      "Feature Extraction: 100%|██████████| 80/80 [00:42<00:00,  1.89it/s]\n",
      "Feature Extraction: 100%|██████████| 78/78 [00:07<00:00, 11.02it/s]\n"
     ]
    },
    {
     "name": "stdout",
     "output_type": "stream",
     "text": [
      "[I 2024-04-30 16:15:45,390] Trial 124 finished with value: 0.9807862843629914 and parameters: {'use_smote': False, 'n_estimators': 751, 'max_depth': 28, 'min_samples_split': 4, 'min_samples_leaf': 1, 'max_features': 'sqrt', 'criterion': 'log_loss'}. Best is trial 110 with value: 0.9816784869976359.\n"
     ]
    },
    {
     "name": "stderr",
     "output_type": "stream",
     "text": [
      "Feature Extraction: 100%|██████████| 80/80 [00:41<00:00,  1.94it/s]\n",
      "Feature Extraction: 100%|██████████| 78/78 [00:07<00:00, 10.63it/s]\n",
      "Feature Extraction: 100%|██████████| 80/80 [00:40<00:00,  1.99it/s]\n",
      "Feature Extraction: 100%|██████████| 78/78 [00:07<00:00, 10.69it/s]\n",
      "Feature Extraction: 100%|██████████| 80/80 [00:41<00:00,  1.93it/s]\n",
      "Feature Extraction: 100%|██████████| 78/78 [00:07<00:00, 10.25it/s]\n"
     ]
    },
    {
     "name": "stdout",
     "output_type": "stream",
     "text": [
      "[I 2024-04-30 16:18:56,058] Trial 125 pruned. \n"
     ]
    },
    {
     "name": "stderr",
     "output_type": "stream",
     "text": [
      "Feature Extraction: 100%|██████████| 80/80 [00:41<00:00,  1.92it/s]\n",
      "Feature Extraction: 100%|██████████| 78/78 [00:07<00:00, 10.78it/s]\n",
      "Feature Extraction: 100%|██████████| 80/80 [00:40<00:00,  1.95it/s]\n",
      "Feature Extraction: 100%|██████████| 78/78 [00:07<00:00, 10.46it/s]\n",
      "Feature Extraction: 100%|██████████| 80/80 [00:41<00:00,  1.91it/s]\n",
      "Feature Extraction: 100%|██████████| 78/78 [00:07<00:00, 10.29it/s]\n",
      "Feature Extraction: 100%|██████████| 80/80 [00:41<00:00,  1.94it/s]\n",
      "Feature Extraction: 100%|██████████| 78/78 [00:07<00:00, 10.89it/s]\n",
      "Feature Extraction: 100%|██████████| 80/80 [00:41<00:00,  1.93it/s]\n",
      "Feature Extraction: 100%|██████████| 78/78 [00:07<00:00, 10.63it/s]\n"
     ]
    },
    {
     "name": "stdout",
     "output_type": "stream",
     "text": [
      "[I 2024-04-30 16:24:24,651] Trial 126 finished with value: 0.981377475613361 and parameters: {'use_smote': True, 'n_estimators': 957, 'max_depth': 31, 'min_samples_split': 3, 'min_samples_leaf': 1, 'max_features': 'sqrt', 'criterion': 'log_loss'}. Best is trial 110 with value: 0.9816784869976359.\n"
     ]
    },
    {
     "name": "stderr",
     "output_type": "stream",
     "text": [
      "Feature Extraction: 100%|██████████| 80/80 [00:42<00:00,  1.90it/s]\n",
      "Feature Extraction: 100%|██████████| 78/78 [00:07<00:00, 10.30it/s]\n",
      "Feature Extraction: 100%|██████████| 80/80 [00:41<00:00,  1.91it/s]\n",
      "Feature Extraction: 100%|██████████| 78/78 [00:07<00:00, 10.56it/s]\n",
      "Feature Extraction: 100%|██████████| 80/80 [00:40<00:00,  1.97it/s]\n",
      "Feature Extraction: 100%|██████████| 78/78 [00:07<00:00, 10.88it/s]\n",
      "Feature Extraction: 100%|██████████| 80/80 [00:41<00:00,  1.93it/s]\n",
      "Feature Extraction: 100%|██████████| 78/78 [00:07<00:00, 10.71it/s]\n",
      "Feature Extraction: 100%|██████████| 80/80 [00:41<00:00,  1.92it/s]\n",
      "Feature Extraction: 100%|██████████| 78/78 [00:07<00:00, 10.81it/s]\n"
     ]
    },
    {
     "name": "stdout",
     "output_type": "stream",
     "text": [
      "[I 2024-04-30 16:29:54,774] Trial 127 finished with value: 0.9810762862211709 and parameters: {'use_smote': True, 'n_estimators': 974, 'max_depth': 25, 'min_samples_split': 3, 'min_samples_leaf': 2, 'max_features': 'sqrt', 'criterion': 'log_loss'}. Best is trial 110 with value: 0.9816784869976359.\n"
     ]
    },
    {
     "name": "stderr",
     "output_type": "stream",
     "text": [
      "Feature Extraction: 100%|██████████| 80/80 [00:41<00:00,  1.91it/s]\n",
      "Feature Extraction: 100%|██████████| 78/78 [00:07<00:00, 10.80it/s]\n",
      "Feature Extraction: 100%|██████████| 80/80 [00:41<00:00,  1.93it/s]\n",
      "Feature Extraction: 100%|██████████| 78/78 [00:07<00:00, 10.63it/s]\n",
      "Feature Extraction: 100%|██████████| 80/80 [00:41<00:00,  1.95it/s]\n",
      "Feature Extraction: 100%|██████████| 78/78 [00:07<00:00, 10.64it/s]\n"
     ]
    },
    {
     "name": "stdout",
     "output_type": "stream",
     "text": [
      "[I 2024-04-30 16:33:11,597] Trial 128 pruned. \n"
     ]
    },
    {
     "name": "stderr",
     "output_type": "stream",
     "text": [
      "Feature Extraction: 100%|██████████| 80/80 [00:41<00:00,  1.91it/s]\n",
      "Feature Extraction: 100%|██████████| 78/78 [00:07<00:00, 10.29it/s]\n",
      "Feature Extraction: 100%|██████████| 80/80 [00:40<00:00,  1.97it/s]\n",
      "Feature Extraction: 100%|██████████| 78/78 [00:07<00:00, 10.85it/s]\n",
      "Feature Extraction: 100%|██████████| 80/80 [00:41<00:00,  1.94it/s]\n",
      "Feature Extraction: 100%|██████████| 78/78 [00:07<00:00, 10.69it/s]\n"
     ]
    },
    {
     "name": "stdout",
     "output_type": "stream",
     "text": [
      "[I 2024-04-30 16:36:28,133] Trial 129 pruned. \n"
     ]
    },
    {
     "name": "stderr",
     "output_type": "stream",
     "text": [
      "Feature Extraction: 100%|██████████| 80/80 [00:42<00:00,  1.90it/s]\n",
      "Feature Extraction: 100%|██████████| 78/78 [00:07<00:00, 10.50it/s]\n",
      "Feature Extraction: 100%|██████████| 80/80 [00:39<00:00,  2.00it/s]\n",
      "Feature Extraction: 100%|██████████| 78/78 [00:07<00:00, 10.74it/s]\n",
      "Feature Extraction: 100%|██████████| 80/80 [00:41<00:00,  1.93it/s]\n",
      "Feature Extraction: 100%|██████████| 78/78 [00:07<00:00, 10.89it/s]\n"
     ]
    },
    {
     "name": "stdout",
     "output_type": "stream",
     "text": [
      "[I 2024-04-30 16:39:41,237] Trial 130 pruned. \n"
     ]
    },
    {
     "name": "stderr",
     "output_type": "stream",
     "text": [
      "Feature Extraction: 100%|██████████| 80/80 [00:40<00:00,  1.97it/s]\n",
      "Feature Extraction: 100%|██████████| 78/78 [00:07<00:00, 10.56it/s]\n",
      "Feature Extraction: 100%|██████████| 80/80 [00:41<00:00,  1.94it/s]\n",
      "Feature Extraction: 100%|██████████| 78/78 [00:07<00:00, 10.97it/s]\n",
      "Feature Extraction: 100%|██████████| 80/80 [00:40<00:00,  1.99it/s]\n",
      "Feature Extraction: 100%|██████████| 78/78 [00:07<00:00, 10.95it/s]\n",
      "Feature Extraction: 100%|██████████| 80/80 [00:39<00:00,  2.02it/s]\n",
      "Feature Extraction: 100%|██████████| 78/78 [00:07<00:00, 10.49it/s]\n",
      "Feature Extraction: 100%|██████████| 80/80 [00:40<00:00,  1.99it/s]\n",
      "Feature Extraction: 100%|██████████| 78/78 [00:07<00:00, 10.70it/s]\n"
     ]
    },
    {
     "name": "stdout",
     "output_type": "stream",
     "text": [
      "[I 2024-04-30 16:44:55,949] Trial 131 finished with value: 0.9807976366322009 and parameters: {'use_smote': True, 'n_estimators': 724, 'max_depth': 29, 'min_samples_split': 4, 'min_samples_leaf': 1, 'max_features': 'sqrt', 'criterion': 'log_loss'}. Best is trial 110 with value: 0.9816784869976359.\n"
     ]
    },
    {
     "name": "stderr",
     "output_type": "stream",
     "text": [
      "Feature Extraction: 100%|██████████| 80/80 [00:42<00:00,  1.90it/s]\n",
      "Feature Extraction: 100%|██████████| 78/78 [00:07<00:00, 10.47it/s]\n",
      "Feature Extraction: 100%|██████████| 80/80 [00:41<00:00,  1.92it/s]\n",
      "Feature Extraction: 100%|██████████| 78/78 [00:07<00:00, 10.67it/s]\n",
      "Feature Extraction: 100%|██████████| 80/80 [00:42<00:00,  1.90it/s]\n",
      "Feature Extraction: 100%|██████████| 78/78 [00:07<00:00, 10.42it/s]\n",
      "Feature Extraction: 100%|██████████| 80/80 [00:42<00:00,  1.89it/s]\n",
      "Feature Extraction: 100%|██████████| 78/78 [00:07<00:00, 10.57it/s]\n",
      "Feature Extraction: 100%|██████████| 80/80 [00:41<00:00,  1.91it/s]\n",
      "Feature Extraction: 100%|██████████| 78/78 [00:07<00:00, 11.06it/s]\n"
     ]
    },
    {
     "name": "stdout",
     "output_type": "stream",
     "text": [
      "[I 2024-04-30 16:50:06,008] Trial 132 finished with value: 0.9790374963094184 and parameters: {'use_smote': False, 'n_estimators': 256, 'max_depth': 34, 'min_samples_split': 6, 'min_samples_leaf': 2, 'max_features': 'sqrt', 'criterion': 'log_loss'}. Best is trial 110 with value: 0.9816784869976359.\n"
     ]
    },
    {
     "name": "stderr",
     "output_type": "stream",
     "text": [
      "Feature Extraction: 100%|██████████| 80/80 [00:40<00:00,  1.98it/s]\n",
      "Feature Extraction: 100%|██████████| 78/78 [00:07<00:00, 10.34it/s]\n",
      "Feature Extraction: 100%|██████████| 80/80 [00:43<00:00,  1.82it/s]\n",
      "Feature Extraction: 100%|██████████| 78/78 [00:07<00:00, 10.29it/s]\n",
      "Feature Extraction: 100%|██████████| 80/80 [00:39<00:00,  2.02it/s]\n",
      "Feature Extraction: 100%|██████████| 78/78 [00:07<00:00, 10.43it/s]\n",
      "Feature Extraction: 100%|██████████| 80/80 [00:42<00:00,  1.88it/s]\n",
      "Feature Extraction: 100%|██████████| 78/78 [00:07<00:00, 10.37it/s]\n",
      "Feature Extraction: 100%|██████████| 80/80 [00:42<00:00,  1.90it/s]\n",
      "Feature Extraction: 100%|██████████| 78/78 [00:07<00:00, 11.02it/s]\n"
     ]
    },
    {
     "name": "stdout",
     "output_type": "stream",
     "text": [
      "[I 2024-04-30 16:55:26,900] Trial 133 finished with value: 0.9810874704491725 and parameters: {'use_smote': False, 'n_estimators': 660, 'max_depth': 24, 'min_samples_split': 5, 'min_samples_leaf': 1, 'max_features': 'sqrt', 'criterion': 'log_loss'}. Best is trial 110 with value: 0.9816784869976359.\n"
     ]
    },
    {
     "name": "stderr",
     "output_type": "stream",
     "text": [
      "Feature Extraction: 100%|██████████| 80/80 [00:41<00:00,  1.93it/s]\n",
      "Feature Extraction: 100%|██████████| 78/78 [00:07<00:00, 10.48it/s]\n",
      "Feature Extraction: 100%|██████████| 80/80 [00:41<00:00,  1.91it/s]\n",
      "Feature Extraction: 100%|██████████| 78/78 [00:07<00:00, 10.50it/s]\n",
      "Feature Extraction: 100%|██████████| 80/80 [00:42<00:00,  1.86it/s]\n",
      "Feature Extraction: 100%|██████████| 78/78 [00:07<00:00, 10.52it/s]\n"
     ]
    },
    {
     "name": "stdout",
     "output_type": "stream",
     "text": [
      "[I 2024-04-30 16:58:44,287] Trial 134 pruned. \n"
     ]
    },
    {
     "name": "stderr",
     "output_type": "stream",
     "text": [
      "Feature Extraction: 100%|██████████| 80/80 [00:40<00:00,  1.99it/s]\n",
      "Feature Extraction: 100%|██████████| 78/78 [00:07<00:00, 10.57it/s]\n",
      "Feature Extraction: 100%|██████████| 80/80 [00:42<00:00,  1.90it/s]\n",
      "Feature Extraction: 100%|██████████| 78/78 [00:07<00:00, 10.29it/s]\n",
      "Feature Extraction: 100%|██████████| 80/80 [00:41<00:00,  1.91it/s]\n",
      "Feature Extraction: 100%|██████████| 78/78 [00:07<00:00, 10.51it/s]\n"
     ]
    },
    {
     "name": "stdout",
     "output_type": "stream",
     "text": [
      "[I 2024-04-30 17:01:58,930] Trial 135 pruned. \n"
     ]
    },
    {
     "name": "stderr",
     "output_type": "stream",
     "text": [
      "Feature Extraction: 100%|██████████| 80/80 [00:39<00:00,  2.01it/s]\n",
      "Feature Extraction: 100%|██████████| 78/78 [00:07<00:00, 10.82it/s]\n",
      "Feature Extraction: 100%|██████████| 80/80 [00:39<00:00,  2.01it/s]\n",
      "Feature Extraction: 100%|██████████| 78/78 [00:07<00:00, 10.98it/s]\n",
      "Feature Extraction: 100%|██████████| 80/80 [00:40<00:00,  1.99it/s]\n",
      "Feature Extraction: 100%|██████████| 78/78 [00:07<00:00, 10.38it/s]\n"
     ]
    },
    {
     "name": "stdout",
     "output_type": "stream",
     "text": [
      "[I 2024-04-30 17:04:59,367] Trial 136 pruned. \n"
     ]
    },
    {
     "name": "stderr",
     "output_type": "stream",
     "text": [
      "Feature Extraction: 100%|██████████| 80/80 [00:42<00:00,  1.87it/s]\n",
      "Feature Extraction: 100%|██████████| 78/78 [00:07<00:00, 10.34it/s]\n",
      "Feature Extraction: 100%|██████████| 80/80 [00:42<00:00,  1.87it/s]\n",
      "Feature Extraction: 100%|██████████| 78/78 [00:07<00:00, 10.48it/s]\n",
      "Feature Extraction: 100%|██████████| 80/80 [00:41<00:00,  1.93it/s]\n",
      "Feature Extraction: 100%|██████████| 78/78 [00:07<00:00, 11.06it/s]\n"
     ]
    },
    {
     "name": "stdout",
     "output_type": "stream",
     "text": [
      "[I 2024-04-30 17:08:14,491] Trial 137 pruned. \n"
     ]
    },
    {
     "name": "stderr",
     "output_type": "stream",
     "text": [
      "Feature Extraction: 100%|██████████| 80/80 [00:40<00:00,  1.99it/s]\n",
      "Feature Extraction: 100%|██████████| 78/78 [00:07<00:00, 11.01it/s]\n",
      "Feature Extraction: 100%|██████████| 80/80 [00:39<00:00,  2.01it/s]\n",
      "Feature Extraction: 100%|██████████| 78/78 [00:07<00:00, 11.00it/s]\n",
      "Feature Extraction: 100%|██████████| 80/80 [00:39<00:00,  2.01it/s]\n",
      "Feature Extraction: 100%|██████████| 78/78 [00:07<00:00, 11.07it/s]\n"
     ]
    },
    {
     "name": "stdout",
     "output_type": "stream",
     "text": [
      "[I 2024-04-30 17:11:24,111] Trial 138 pruned. \n"
     ]
    },
    {
     "name": "stderr",
     "output_type": "stream",
     "text": [
      "Feature Extraction: 100%|██████████| 80/80 [00:40<00:00,  1.96it/s]\n",
      "Feature Extraction: 100%|██████████| 78/78 [00:07<00:00, 10.95it/s]\n",
      "Feature Extraction: 100%|██████████| 80/80 [00:39<00:00,  2.02it/s]\n",
      "Feature Extraction: 100%|██████████| 78/78 [00:07<00:00, 10.87it/s]\n",
      "Feature Extraction: 100%|██████████| 80/80 [00:39<00:00,  2.01it/s]\n",
      "Feature Extraction: 100%|██████████| 78/78 [00:07<00:00, 11.01it/s]\n"
     ]
    },
    {
     "name": "stdout",
     "output_type": "stream",
     "text": [
      "[I 2024-04-30 17:14:30,183] Trial 139 pruned. \n"
     ]
    },
    {
     "name": "stderr",
     "output_type": "stream",
     "text": [
      "Feature Extraction: 100%|██████████| 80/80 [00:40<00:00,  1.99it/s]\n",
      "Feature Extraction: 100%|██████████| 78/78 [00:06<00:00, 11.14it/s]\n",
      "Feature Extraction: 100%|██████████| 80/80 [00:40<00:00,  1.99it/s]\n",
      "Feature Extraction: 100%|██████████| 78/78 [00:07<00:00, 10.75it/s]\n",
      "Feature Extraction: 100%|██████████| 80/80 [00:41<00:00,  1.92it/s]\n",
      "Feature Extraction: 100%|██████████| 78/78 [00:07<00:00, 10.59it/s]\n"
     ]
    },
    {
     "name": "stdout",
     "output_type": "stream",
     "text": [
      "[I 2024-04-30 17:17:43,217] Trial 140 pruned. \n"
     ]
    },
    {
     "name": "stderr",
     "output_type": "stream",
     "text": [
      "Feature Extraction: 100%|██████████| 80/80 [00:42<00:00,  1.86it/s]\n",
      "Feature Extraction: 100%|██████████| 78/78 [00:07<00:00, 10.29it/s]\n",
      "Feature Extraction: 100%|██████████| 80/80 [00:43<00:00,  1.84it/s]\n",
      "Feature Extraction: 100%|██████████| 78/78 [00:07<00:00, 10.33it/s]\n",
      "Feature Extraction: 100%|██████████| 80/80 [00:43<00:00,  1.84it/s]\n",
      "Feature Extraction: 100%|██████████| 78/78 [00:07<00:00, 10.47it/s]\n",
      "Feature Extraction: 100%|██████████| 80/80 [00:42<00:00,  1.90it/s]\n",
      "Feature Extraction: 100%|██████████| 78/78 [00:07<00:00, 10.90it/s]\n",
      "Feature Extraction: 100%|██████████| 80/80 [00:39<00:00,  2.01it/s]\n",
      "Feature Extraction: 100%|██████████| 78/78 [00:07<00:00, 10.80it/s]\n"
     ]
    },
    {
     "name": "stdout",
     "output_type": "stream",
     "text": [
      "[I 2024-04-30 17:23:09,825] Trial 141 finished with value: 0.9807862843629914 and parameters: {'use_smote': False, 'n_estimators': 696, 'max_depth': 24, 'min_samples_split': 4, 'min_samples_leaf': 1, 'max_features': 'sqrt', 'criterion': 'log_loss'}. Best is trial 110 with value: 0.9816784869976359.\n"
     ]
    },
    {
     "name": "stderr",
     "output_type": "stream",
     "text": [
      "Feature Extraction: 100%|██████████| 80/80 [00:39<00:00,  2.03it/s]\n",
      "Feature Extraction: 100%|██████████| 78/78 [00:07<00:00, 11.12it/s]\n",
      "Feature Extraction: 100%|██████████| 80/80 [00:39<00:00,  2.02it/s]\n",
      "Feature Extraction: 100%|██████████| 78/78 [00:07<00:00, 10.75it/s]\n",
      "Feature Extraction: 100%|██████████| 80/80 [00:39<00:00,  2.00it/s]\n",
      "Feature Extraction: 100%|██████████| 78/78 [00:07<00:00, 10.94it/s]\n",
      "Feature Extraction: 100%|██████████| 80/80 [00:40<00:00,  2.00it/s]\n",
      "Feature Extraction: 100%|██████████| 78/78 [00:07<00:00, 10.67it/s]\n",
      "Feature Extraction: 100%|██████████| 80/80 [00:39<00:00,  2.01it/s]\n",
      "Feature Extraction: 100%|██████████| 78/78 [00:07<00:00, 11.08it/s]\n"
     ]
    },
    {
     "name": "stdout",
     "output_type": "stream",
     "text": [
      "[I 2024-04-30 17:28:18,417] Trial 142 finished with value: 0.9810874704491725 and parameters: {'use_smote': False, 'n_estimators': 652, 'max_depth': 30, 'min_samples_split': 5, 'min_samples_leaf': 1, 'max_features': 'sqrt', 'criterion': 'log_loss'}. Best is trial 110 with value: 0.9816784869976359.\n"
     ]
    },
    {
     "name": "stderr",
     "output_type": "stream",
     "text": [
      "Feature Extraction: 100%|██████████| 80/80 [00:39<00:00,  2.01it/s]\n",
      "Feature Extraction: 100%|██████████| 78/78 [00:07<00:00, 10.76it/s]\n",
      "Feature Extraction: 100%|██████████| 80/80 [00:39<00:00,  2.01it/s]\n",
      "Feature Extraction: 100%|██████████| 78/78 [00:07<00:00, 10.82it/s]\n",
      "Feature Extraction: 100%|██████████| 80/80 [00:40<00:00,  1.97it/s]\n",
      "Feature Extraction: 100%|██████████| 78/78 [00:07<00:00, 10.65it/s]\n"
     ]
    },
    {
     "name": "stdout",
     "output_type": "stream",
     "text": [
      "[I 2024-04-30 17:31:25,617] Trial 143 pruned. \n"
     ]
    },
    {
     "name": "stderr",
     "output_type": "stream",
     "text": [
      "Feature Extraction: 100%|██████████| 80/80 [00:39<00:00,  2.01it/s]\n",
      "Feature Extraction: 100%|██████████| 78/78 [00:07<00:00, 11.09it/s]\n",
      "Feature Extraction: 100%|██████████| 80/80 [00:39<00:00,  2.00it/s]\n",
      "Feature Extraction: 100%|██████████| 78/78 [00:07<00:00, 11.05it/s]\n",
      "Feature Extraction: 100%|██████████| 80/80 [00:40<00:00,  2.00it/s]\n",
      "Feature Extraction: 100%|██████████| 78/78 [00:07<00:00, 10.79it/s]\n",
      "Feature Extraction: 100%|██████████| 80/80 [00:39<00:00,  2.01it/s]\n",
      "Feature Extraction: 100%|██████████| 78/78 [00:07<00:00, 11.02it/s]\n",
      "Feature Extraction: 100%|██████████| 80/80 [00:40<00:00,  1.97it/s]\n",
      "Feature Extraction: 100%|██████████| 78/78 [00:07<00:00, 10.98it/s]\n"
     ]
    },
    {
     "name": "stdout",
     "output_type": "stream",
     "text": [
      "[I 2024-04-30 17:36:35,474] Trial 144 finished with value: 0.9810762862211709 and parameters: {'use_smote': False, 'n_estimators': 671, 'max_depth': 24, 'min_samples_split': 3, 'min_samples_leaf': 1, 'max_features': 'sqrt', 'criterion': 'log_loss'}. Best is trial 110 with value: 0.9816784869976359.\n"
     ]
    },
    {
     "name": "stderr",
     "output_type": "stream",
     "text": [
      "Feature Extraction: 100%|██████████| 80/80 [00:40<00:00,  1.98it/s]\n",
      "Feature Extraction: 100%|██████████| 78/78 [00:07<00:00, 11.07it/s]\n",
      "Feature Extraction: 100%|██████████| 80/80 [00:39<00:00,  2.01it/s]\n",
      "Feature Extraction: 100%|██████████| 78/78 [00:07<00:00, 11.06it/s]\n",
      "Feature Extraction: 100%|██████████| 80/80 [00:40<00:00,  1.98it/s]\n",
      "Feature Extraction: 100%|██████████| 78/78 [00:07<00:00, 10.83it/s]\n"
     ]
    },
    {
     "name": "stdout",
     "output_type": "stream",
     "text": [
      "[I 2024-04-30 17:39:43,211] Trial 145 pruned. \n"
     ]
    },
    {
     "name": "stderr",
     "output_type": "stream",
     "text": [
      "Feature Extraction: 100%|██████████| 80/80 [00:39<00:00,  2.02it/s]\n",
      "Feature Extraction: 100%|██████████| 78/78 [00:07<00:00, 11.05it/s]\n",
      "Feature Extraction: 100%|██████████| 80/80 [00:40<00:00,  2.00it/s]\n",
      "Feature Extraction: 100%|██████████| 78/78 [00:07<00:00, 11.09it/s]\n",
      "Feature Extraction: 100%|██████████| 80/80 [00:40<00:00,  2.00it/s]\n",
      "Feature Extraction: 100%|██████████| 78/78 [00:06<00:00, 11.15it/s]\n"
     ]
    },
    {
     "name": "stdout",
     "output_type": "stream",
     "text": [
      "[I 2024-04-30 17:42:49,948] Trial 146 pruned. \n"
     ]
    },
    {
     "name": "stderr",
     "output_type": "stream",
     "text": [
      "Feature Extraction: 100%|██████████| 80/80 [00:39<00:00,  2.01it/s]\n",
      "Feature Extraction: 100%|██████████| 78/78 [00:07<00:00, 10.94it/s]\n",
      "Feature Extraction: 100%|██████████| 80/80 [00:39<00:00,  2.01it/s]\n",
      "Feature Extraction: 100%|██████████| 78/78 [00:07<00:00, 10.92it/s]\n",
      "Feature Extraction: 100%|██████████| 80/80 [00:40<00:00,  1.99it/s]\n",
      "Feature Extraction: 100%|██████████| 78/78 [00:07<00:00, 10.93it/s]\n",
      "Feature Extraction: 100%|██████████| 80/80 [00:39<00:00,  2.00it/s]\n",
      "Feature Extraction: 100%|██████████| 78/78 [00:07<00:00, 11.13it/s]\n",
      "Feature Extraction: 100%|██████████| 80/80 [00:39<00:00,  2.01it/s]\n",
      "Feature Extraction: 100%|██████████| 78/78 [00:07<00:00, 11.12it/s]\n"
     ]
    },
    {
     "name": "stdout",
     "output_type": "stream",
     "text": [
      "[I 2024-04-30 17:47:58,052] Trial 147 finished with value: 0.9792899408284024 and parameters: {'use_smote': False, 'n_estimators': 624, 'max_depth': 27, 'min_samples_split': 6, 'min_samples_leaf': 1, 'max_features': 'sqrt', 'criterion': 'log_loss'}. Best is trial 110 with value: 0.9816784869976359.\n"
     ]
    },
    {
     "name": "stderr",
     "output_type": "stream",
     "text": [
      "Feature Extraction: 100%|██████████| 80/80 [00:39<00:00,  2.01it/s]\n",
      "Feature Extraction: 100%|██████████| 78/78 [00:07<00:00, 10.60it/s]\n",
      "Feature Extraction: 100%|██████████| 80/80 [00:39<00:00,  2.03it/s]\n",
      "Feature Extraction: 100%|██████████| 78/78 [00:07<00:00, 11.09it/s]\n",
      "Feature Extraction: 100%|██████████| 80/80 [00:39<00:00,  2.03it/s]\n",
      "Feature Extraction: 100%|██████████| 78/78 [00:07<00:00, 10.58it/s]\n"
     ]
    },
    {
     "name": "stdout",
     "output_type": "stream",
     "text": [
      "[I 2024-04-30 17:51:03,563] Trial 148 pruned. \n"
     ]
    },
    {
     "name": "stderr",
     "output_type": "stream",
     "text": [
      "Feature Extraction: 100%|██████████| 80/80 [00:39<00:00,  2.01it/s]\n",
      "Feature Extraction: 100%|██████████| 78/78 [00:07<00:00, 10.96it/s]\n",
      "Feature Extraction: 100%|██████████| 80/80 [00:39<00:00,  2.01it/s]\n",
      "Feature Extraction: 100%|██████████| 78/78 [00:07<00:00, 10.88it/s]\n",
      "Feature Extraction: 100%|██████████| 80/80 [00:39<00:00,  2.04it/s]\n",
      "Feature Extraction: 100%|██████████| 78/78 [00:07<00:00, 10.66it/s]\n",
      "Feature Extraction: 100%|██████████| 80/80 [00:39<00:00,  2.01it/s]\n",
      "Feature Extraction: 100%|██████████| 78/78 [00:07<00:00, 11.01it/s]\n",
      "Feature Extraction: 100%|██████████| 80/80 [00:39<00:00,  2.00it/s]\n",
      "Feature Extraction: 100%|██████████| 78/78 [00:07<00:00, 11.03it/s]\n"
     ]
    },
    {
     "name": "stdout",
     "output_type": "stream",
     "text": [
      "[I 2024-04-30 17:56:15,018] Trial 149 finished with value: 0.9816784869976359 and parameters: {'use_smote': False, 'n_estimators': 752, 'max_depth': 23, 'min_samples_split': 5, 'min_samples_leaf': 1, 'max_features': 'sqrt', 'criterion': 'log_loss'}. Best is trial 110 with value: 0.9816784869976359.\n"
     ]
    },
    {
     "name": "stderr",
     "output_type": "stream",
     "text": [
      "Feature Extraction: 100%|██████████| 80/80 [00:39<00:00,  2.01it/s]\n",
      "Feature Extraction: 100%|██████████| 78/78 [00:07<00:00, 10.78it/s]\n",
      "Feature Extraction: 100%|██████████| 80/80 [00:39<00:00,  2.03it/s]\n",
      "Feature Extraction: 100%|██████████| 78/78 [00:07<00:00, 10.83it/s]\n",
      "Feature Extraction: 100%|██████████| 80/80 [00:39<00:00,  2.02it/s]\n",
      "Feature Extraction: 100%|██████████| 78/78 [00:07<00:00, 10.72it/s]\n",
      "Feature Extraction: 100%|██████████| 80/80 [00:51<00:00,  1.57it/s]\n",
      "Feature Extraction: 100%|██████████| 78/78 [00:07<00:00, 10.69it/s]\n",
      "Feature Extraction: 100%|██████████| 80/80 [00:40<00:00,  1.99it/s]\n",
      "Feature Extraction: 100%|██████████| 78/78 [00:06<00:00, 11.19it/s]\n"
     ]
    },
    {
     "name": "stdout",
     "output_type": "stream",
     "text": [
      "[I 2024-04-30 18:01:38,493] Trial 150 finished with value: 0.9804964539007093 and parameters: {'use_smote': False, 'n_estimators': 778, 'max_depth': 23, 'min_samples_split': 3, 'min_samples_leaf': 2, 'max_features': 'sqrt', 'criterion': 'entropy'}. Best is trial 110 with value: 0.9816784869976359.\n"
     ]
    },
    {
     "name": "stderr",
     "output_type": "stream",
     "text": [
      "Feature Extraction: 100%|██████████| 80/80 [00:39<00:00,  2.01it/s]\n",
      "Feature Extraction: 100%|██████████| 78/78 [00:07<00:00, 10.91it/s]\n",
      "Feature Extraction: 100%|██████████| 80/80 [00:39<00:00,  2.00it/s]\n",
      "Feature Extraction: 100%|██████████| 78/78 [00:07<00:00, 11.06it/s]\n",
      "Feature Extraction: 100%|██████████| 80/80 [00:40<00:00,  1.99it/s]\n",
      "Feature Extraction: 100%|██████████| 78/78 [00:07<00:00, 10.86it/s]\n",
      "Feature Extraction: 100%|██████████| 80/80 [00:39<00:00,  2.01it/s]\n",
      "Feature Extraction: 100%|██████████| 78/78 [00:07<00:00, 10.94it/s]\n",
      "Feature Extraction: 100%|██████████| 80/80 [00:39<00:00,  2.01it/s]\n",
      "Feature Extraction: 100%|██████████| 78/78 [00:07<00:00, 10.87it/s]\n"
     ]
    },
    {
     "name": "stdout",
     "output_type": "stream",
     "text": [
      "[I 2024-04-30 18:06:50,577] Trial 151 finished with value: 0.980507974010632 and parameters: {'use_smote': False, 'n_estimators': 751, 'max_depth': 20, 'min_samples_split': 5, 'min_samples_leaf': 1, 'max_features': 'sqrt', 'criterion': 'log_loss'}. Best is trial 110 with value: 0.9816784869976359.\n"
     ]
    },
    {
     "name": "stderr",
     "output_type": "stream",
     "text": [
      "Feature Extraction: 100%|██████████| 80/80 [00:39<00:00,  2.01it/s]\n",
      "Feature Extraction: 100%|██████████| 78/78 [00:07<00:00, 10.97it/s]\n",
      "Feature Extraction: 100%|██████████| 80/80 [00:39<00:00,  2.03it/s]\n",
      "Feature Extraction: 100%|██████████| 78/78 [00:07<00:00, 11.05it/s]\n",
      "Feature Extraction: 100%|██████████| 80/80 [00:40<00:00,  1.99it/s]\n",
      "Feature Extraction: 100%|██████████| 78/78 [00:07<00:00, 10.81it/s]\n"
     ]
    },
    {
     "name": "stdout",
     "output_type": "stream",
     "text": [
      "[I 2024-04-30 18:09:57,716] Trial 152 pruned. \n"
     ]
    },
    {
     "name": "stderr",
     "output_type": "stream",
     "text": [
      "Feature Extraction: 100%|██████████| 80/80 [00:40<00:00,  2.00it/s]\n",
      "Feature Extraction: 100%|██████████| 78/78 [00:07<00:00, 10.92it/s]\n",
      "Feature Extraction: 100%|██████████| 80/80 [00:39<00:00,  2.01it/s]\n",
      "Feature Extraction: 100%|██████████| 78/78 [00:07<00:00, 10.71it/s]\n",
      "Feature Extraction: 100%|██████████| 80/80 [00:39<00:00,  2.00it/s]\n",
      "Feature Extraction: 100%|██████████| 78/78 [00:07<00:00, 10.98it/s]\n",
      "Feature Extraction: 100%|██████████| 80/80 [00:39<00:00,  2.03it/s]\n",
      "Feature Extraction: 100%|██████████| 78/78 [00:07<00:00, 10.64it/s]\n",
      "Feature Extraction: 100%|██████████| 80/80 [00:39<00:00,  2.02it/s]\n",
      "Feature Extraction: 100%|██████████| 78/78 [00:07<00:00, 10.11it/s]\n"
     ]
    },
    {
     "name": "stdout",
     "output_type": "stream",
     "text": [
      "[I 2024-04-30 18:15:11,950] Trial 153 finished with value: 0.981377475613361 and parameters: {'use_smote': False, 'n_estimators': 812, 'max_depth': 25, 'min_samples_split': 4, 'min_samples_leaf': 1, 'max_features': 'sqrt', 'criterion': 'log_loss'}. Best is trial 110 with value: 0.9816784869976359.\n"
     ]
    },
    {
     "name": "stderr",
     "output_type": "stream",
     "text": [
      "Feature Extraction: 100%|██████████| 80/80 [00:39<00:00,  2.01it/s]\n",
      "Feature Extraction: 100%|██████████| 78/78 [00:07<00:00, 11.02it/s]\n",
      "Feature Extraction: 100%|██████████| 80/80 [00:39<00:00,  2.03it/s]\n",
      "Feature Extraction: 100%|██████████| 78/78 [00:07<00:00, 11.02it/s]\n",
      "Feature Extraction: 100%|██████████| 80/80 [00:40<00:00,  2.00it/s]\n",
      "Feature Extraction: 100%|██████████| 78/78 [00:07<00:00, 10.76it/s]\n",
      "Feature Extraction: 100%|██████████| 80/80 [00:39<00:00,  2.01it/s]\n",
      "Feature Extraction: 100%|██████████| 78/78 [00:07<00:00, 11.07it/s]\n",
      "Feature Extraction: 100%|██████████| 80/80 [00:39<00:00,  2.01it/s]\n",
      "Feature Extraction: 100%|██████████| 78/78 [00:07<00:00, 11.08it/s]\n"
     ]
    },
    {
     "name": "stdout",
     "output_type": "stream",
     "text": [
      "[I 2024-04-30 18:20:24,777] Trial 154 finished with value: 0.9807976366322009 and parameters: {'use_smote': False, 'n_estimators': 827, 'max_depth': 26, 'min_samples_split': 2, 'min_samples_leaf': 1, 'max_features': 'sqrt', 'criterion': 'log_loss'}. Best is trial 110 with value: 0.9816784869976359.\n"
     ]
    },
    {
     "name": "stderr",
     "output_type": "stream",
     "text": [
      "Feature Extraction: 100%|██████████| 80/80 [00:39<00:00,  2.02it/s]\n",
      "Feature Extraction: 100%|██████████| 78/78 [00:07<00:00, 10.94it/s]\n",
      "Feature Extraction: 100%|██████████| 80/80 [00:39<00:00,  2.01it/s]\n",
      "Feature Extraction: 100%|██████████| 78/78 [00:07<00:00, 11.07it/s]\n",
      "Feature Extraction: 100%|██████████| 80/80 [00:39<00:00,  2.02it/s]\n",
      "Feature Extraction: 100%|██████████| 78/78 [00:07<00:00, 11.06it/s]\n",
      "Feature Extraction: 100%|██████████| 80/80 [00:39<00:00,  2.01it/s]\n",
      "Feature Extraction: 100%|██████████| 78/78 [00:07<00:00, 10.93it/s]\n",
      "Feature Extraction: 100%|██████████| 80/80 [00:39<00:00,  2.01it/s]\n",
      "Feature Extraction: 100%|██████████| 78/78 [00:06<00:00, 11.36it/s]\n"
     ]
    },
    {
     "name": "stdout",
     "output_type": "stream",
     "text": [
      "[I 2024-04-30 18:25:36,581] Trial 155 finished with value: 0.9804964539007093 and parameters: {'use_smote': False, 'n_estimators': 795, 'max_depth': 28, 'min_samples_split': 4, 'min_samples_leaf': 2, 'max_features': 'sqrt', 'criterion': 'log_loss'}. Best is trial 110 with value: 0.9816784869976359.\n"
     ]
    },
    {
     "name": "stderr",
     "output_type": "stream",
     "text": [
      "Feature Extraction: 100%|██████████| 80/80 [00:39<00:00,  2.01it/s]\n",
      "Feature Extraction: 100%|██████████| 78/78 [00:07<00:00, 10.86it/s]\n",
      "Feature Extraction: 100%|██████████| 80/80 [00:40<00:00,  1.98it/s]\n",
      "Feature Extraction: 100%|██████████| 78/78 [00:07<00:00, 11.02it/s]\n",
      "Feature Extraction: 100%|██████████| 80/80 [00:39<00:00,  2.01it/s]\n",
      "Feature Extraction: 100%|██████████| 78/78 [00:07<00:00, 11.09it/s]\n"
     ]
    },
    {
     "name": "stdout",
     "output_type": "stream",
     "text": [
      "[I 2024-04-30 18:28:45,656] Trial 156 pruned. \n"
     ]
    },
    {
     "name": "stderr",
     "output_type": "stream",
     "text": [
      "Feature Extraction: 100%|██████████| 80/80 [00:39<00:00,  2.02it/s]\n",
      "Feature Extraction: 100%|██████████| 78/78 [00:07<00:00, 10.92it/s]\n",
      "Feature Extraction: 100%|██████████| 80/80 [00:40<00:00,  1.97it/s]\n",
      "Feature Extraction: 100%|██████████| 78/78 [00:07<00:00, 10.91it/s]\n",
      "Feature Extraction: 100%|██████████| 80/80 [00:39<00:00,  2.02it/s]\n",
      "Feature Extraction: 100%|██████████| 78/78 [00:07<00:00, 11.06it/s]\n"
     ]
    },
    {
     "name": "stdout",
     "output_type": "stream",
     "text": [
      "[I 2024-04-30 18:31:44,862] Trial 157 pruned. \n"
     ]
    },
    {
     "name": "stderr",
     "output_type": "stream",
     "text": [
      "Feature Extraction: 100%|██████████| 80/80 [00:39<00:00,  2.02it/s]\n",
      "Feature Extraction: 100%|██████████| 78/78 [00:07<00:00, 10.76it/s]\n",
      "Feature Extraction: 100%|██████████| 80/80 [00:40<00:00,  2.00it/s]\n",
      "Feature Extraction: 100%|██████████| 78/78 [00:07<00:00, 10.98it/s]\n",
      "Feature Extraction: 100%|██████████| 80/80 [00:39<00:00,  2.01it/s]\n",
      "Feature Extraction: 100%|██████████| 78/78 [00:07<00:00, 10.80it/s]\n"
     ]
    },
    {
     "name": "stdout",
     "output_type": "stream",
     "text": [
      "[I 2024-04-30 18:34:52,687] Trial 158 pruned. \n"
     ]
    },
    {
     "name": "stderr",
     "output_type": "stream",
     "text": [
      "Feature Extraction: 100%|██████████| 80/80 [00:39<00:00,  2.01it/s]\n",
      "Feature Extraction: 100%|██████████| 78/78 [00:07<00:00, 10.46it/s]\n",
      "Feature Extraction: 100%|██████████| 80/80 [00:39<00:00,  2.01it/s]\n",
      "Feature Extraction: 100%|██████████| 78/78 [00:07<00:00, 11.00it/s]\n",
      "Feature Extraction: 100%|██████████| 80/80 [00:39<00:00,  2.01it/s]\n",
      "Feature Extraction: 100%|██████████| 78/78 [00:07<00:00, 10.85it/s]\n",
      "Feature Extraction: 100%|██████████| 80/80 [00:39<00:00,  2.01it/s]\n",
      "Feature Extraction: 100%|██████████| 78/78 [00:07<00:00, 11.13it/s]\n",
      "Feature Extraction: 100%|██████████| 80/80 [00:39<00:00,  2.00it/s]\n",
      "Feature Extraction: 100%|██████████| 78/78 [00:06<00:00, 11.24it/s]\n"
     ]
    },
    {
     "name": "stdout",
     "output_type": "stream",
     "text": [
      "[I 2024-04-30 18:40:07,500] Trial 159 finished with value: 0.981377475613361 and parameters: {'use_smote': False, 'n_estimators': 874, 'max_depth': 21, 'min_samples_split': 4, 'min_samples_leaf': 1, 'max_features': 'sqrt', 'criterion': 'log_loss'}. Best is trial 110 with value: 0.9816784869976359.\n"
     ]
    },
    {
     "name": "stderr",
     "output_type": "stream",
     "text": [
      "Feature Extraction: 100%|██████████| 80/80 [00:39<00:00,  2.00it/s]\n",
      "Feature Extraction: 100%|██████████| 78/78 [00:07<00:00, 10.79it/s]\n",
      "Feature Extraction: 100%|██████████| 80/80 [00:39<00:00,  2.01it/s]\n",
      "Feature Extraction: 100%|██████████| 78/78 [00:07<00:00, 10.43it/s]\n",
      "Feature Extraction: 100%|██████████| 80/80 [00:39<00:00,  2.02it/s]\n",
      "Feature Extraction: 100%|██████████| 78/78 [00:07<00:00, 11.12it/s]\n"
     ]
    },
    {
     "name": "stdout",
     "output_type": "stream",
     "text": [
      "[I 2024-04-30 18:43:16,843] Trial 160 pruned. \n"
     ]
    },
    {
     "name": "stderr",
     "output_type": "stream",
     "text": [
      "Feature Extraction: 100%|██████████| 80/80 [00:39<00:00,  2.01it/s]\n",
      "Feature Extraction: 100%|██████████| 78/78 [00:07<00:00, 11.12it/s]\n",
      "Feature Extraction: 100%|██████████| 80/80 [00:39<00:00,  2.00it/s]\n",
      "Feature Extraction: 100%|██████████| 78/78 [00:07<00:00, 10.63it/s]\n",
      "Feature Extraction: 100%|██████████| 80/80 [00:39<00:00,  2.01it/s]\n",
      "Feature Extraction: 100%|██████████| 78/78 [00:07<00:00, 11.01it/s]\n",
      "Feature Extraction: 100%|██████████| 80/80 [00:39<00:00,  2.02it/s]\n",
      "Feature Extraction: 100%|██████████| 78/78 [00:07<00:00, 10.94it/s]\n",
      "Feature Extraction: 100%|██████████| 80/80 [00:39<00:00,  2.00it/s]\n",
      "Feature Extraction: 100%|██████████| 78/78 [00:07<00:00, 10.72it/s]\n"
     ]
    },
    {
     "name": "stdout",
     "output_type": "stream",
     "text": [
      "[I 2024-04-30 18:48:28,861] Trial 161 finished with value: 0.9810874704491725 and parameters: {'use_smote': False, 'n_estimators': 766, 'max_depth': 35, 'min_samples_split': 4, 'min_samples_leaf': 1, 'max_features': 'sqrt', 'criterion': 'log_loss'}. Best is trial 110 with value: 0.9816784869976359.\n"
     ]
    },
    {
     "name": "stderr",
     "output_type": "stream",
     "text": [
      "Feature Extraction: 100%|██████████| 80/80 [00:39<00:00,  2.02it/s]\n",
      "Feature Extraction: 100%|██████████| 78/78 [00:06<00:00, 11.19it/s]\n",
      "Feature Extraction: 100%|██████████| 80/80 [00:40<00:00,  1.99it/s]\n",
      "Feature Extraction: 100%|██████████| 78/78 [00:07<00:00, 10.76it/s]\n",
      "Feature Extraction: 100%|██████████| 80/80 [00:39<00:00,  2.01it/s]\n",
      "Feature Extraction: 100%|██████████| 78/78 [00:07<00:00, 10.95it/s]\n",
      "Feature Extraction: 100%|██████████| 80/80 [00:39<00:00,  2.03it/s]\n",
      "Feature Extraction: 100%|██████████| 78/78 [00:07<00:00, 10.69it/s]\n",
      "Feature Extraction: 100%|██████████| 80/80 [00:39<00:00,  2.02it/s]\n",
      "Feature Extraction: 100%|██████████| 78/78 [00:07<00:00, 10.62it/s]\n"
     ]
    },
    {
     "name": "stdout",
     "output_type": "stream",
     "text": [
      "[I 2024-04-30 18:53:45,092] Trial 162 finished with value: 0.9819686668637304 and parameters: {'use_smote': False, 'n_estimators': 905, 'max_depth': 21, 'min_samples_split': 2, 'min_samples_leaf': 1, 'max_features': 'sqrt', 'criterion': 'log_loss'}. Best is trial 162 with value: 0.9819686668637304.\n"
     ]
    },
    {
     "name": "stderr",
     "output_type": "stream",
     "text": [
      "Feature Extraction: 100%|██████████| 80/80 [00:39<00:00,  2.01it/s]\n",
      "Feature Extraction: 100%|██████████| 78/78 [00:06<00:00, 11.15it/s]\n",
      "Feature Extraction: 100%|██████████| 80/80 [00:39<00:00,  2.02it/s]\n",
      "Feature Extraction: 100%|██████████| 78/78 [00:07<00:00, 10.95it/s]\n",
      "Feature Extraction: 100%|██████████| 80/80 [00:39<00:00,  2.02it/s]\n",
      "Feature Extraction: 100%|██████████| 78/78 [00:07<00:00, 10.76it/s]\n",
      "Feature Extraction: 100%|██████████| 80/80 [00:40<00:00,  1.99it/s]\n",
      "Feature Extraction: 100%|██████████| 78/78 [00:07<00:00, 11.04it/s]\n",
      "Feature Extraction: 100%|██████████| 80/80 [00:39<00:00,  2.01it/s]\n",
      "Feature Extraction: 100%|██████████| 78/78 [00:07<00:00, 11.12it/s]\n"
     ]
    },
    {
     "name": "stdout",
     "output_type": "stream",
     "text": [
      "[I 2024-04-30 18:59:01,451] Trial 163 finished with value: 0.9819686668637304 and parameters: {'use_smote': False, 'n_estimators': 913, 'max_depth': 21, 'min_samples_split': 2, 'min_samples_leaf': 1, 'max_features': 'sqrt', 'criterion': 'log_loss'}. Best is trial 162 with value: 0.9819686668637304.\n"
     ]
    },
    {
     "name": "stderr",
     "output_type": "stream",
     "text": [
      "Feature Extraction: 100%|██████████| 80/80 [00:39<00:00,  2.02it/s]\n",
      "Feature Extraction: 100%|██████████| 78/78 [00:07<00:00, 10.92it/s]\n",
      "Feature Extraction: 100%|██████████| 80/80 [00:39<00:00,  2.02it/s]\n",
      "Feature Extraction: 100%|██████████| 78/78 [00:07<00:00, 10.93it/s]\n",
      "Feature Extraction: 100%|██████████| 80/80 [00:39<00:00,  2.01it/s]\n",
      "Feature Extraction: 100%|██████████| 78/78 [00:07<00:00, 10.76it/s]\n"
     ]
    },
    {
     "name": "stdout",
     "output_type": "stream",
     "text": [
      "[I 2024-04-30 19:02:11,082] Trial 164 pruned. \n"
     ]
    },
    {
     "name": "stderr",
     "output_type": "stream",
     "text": [
      "Feature Extraction: 100%|██████████| 80/80 [00:39<00:00,  2.01it/s]\n",
      "Feature Extraction: 100%|██████████| 78/78 [00:07<00:00, 10.85it/s]\n",
      "Feature Extraction: 100%|██████████| 80/80 [00:39<00:00,  2.00it/s]\n",
      "Feature Extraction: 100%|██████████| 78/78 [00:07<00:00, 10.88it/s]\n",
      "Feature Extraction: 100%|██████████| 80/80 [00:40<00:00,  2.00it/s]\n",
      "Feature Extraction: 100%|██████████| 78/78 [00:07<00:00, 10.94it/s]\n"
     ]
    },
    {
     "name": "stdout",
     "output_type": "stream",
     "text": [
      "[I 2024-04-30 19:05:21,797] Trial 165 pruned. \n"
     ]
    },
    {
     "name": "stderr",
     "output_type": "stream",
     "text": [
      "Feature Extraction: 100%|██████████| 80/80 [00:39<00:00,  2.00it/s]\n",
      "Feature Extraction: 100%|██████████| 78/78 [00:07<00:00, 11.01it/s]\n",
      "Feature Extraction: 100%|██████████| 80/80 [00:39<00:00,  2.02it/s]\n",
      "Feature Extraction: 100%|██████████| 78/78 [00:07<00:00, 10.73it/s]\n",
      "Feature Extraction: 100%|██████████| 80/80 [00:40<00:00,  2.00it/s]\n",
      "Feature Extraction: 100%|██████████| 78/78 [00:07<00:00, 10.74it/s]\n"
     ]
    },
    {
     "name": "stdout",
     "output_type": "stream",
     "text": [
      "[I 2024-04-30 19:08:33,620] Trial 166 pruned. \n"
     ]
    },
    {
     "name": "stderr",
     "output_type": "stream",
     "text": [
      "Feature Extraction: 100%|██████████| 80/80 [00:40<00:00,  2.00it/s]\n",
      "Feature Extraction: 100%|██████████| 78/78 [00:07<00:00, 10.90it/s]\n",
      "Feature Extraction: 100%|██████████| 80/80 [00:39<00:00,  2.01it/s]\n",
      "Feature Extraction: 100%|██████████| 78/78 [00:07<00:00, 10.81it/s]\n",
      "Feature Extraction: 100%|██████████| 80/80 [00:40<00:00,  2.00it/s]\n",
      "Feature Extraction: 100%|██████████| 78/78 [00:07<00:00, 11.01it/s]\n"
     ]
    },
    {
     "name": "stdout",
     "output_type": "stream",
     "text": [
      "[I 2024-04-30 19:11:43,700] Trial 167 pruned. \n"
     ]
    },
    {
     "name": "stderr",
     "output_type": "stream",
     "text": [
      "Feature Extraction: 100%|██████████| 80/80 [00:39<00:00,  2.01it/s]\n",
      "Feature Extraction: 100%|██████████| 78/78 [00:07<00:00, 11.07it/s]\n",
      "Feature Extraction: 100%|██████████| 80/80 [00:39<00:00,  2.02it/s]\n",
      "Feature Extraction: 100%|██████████| 78/78 [00:07<00:00, 10.67it/s]\n",
      "Feature Extraction: 100%|██████████| 80/80 [00:39<00:00,  2.02it/s]\n",
      "Feature Extraction: 100%|██████████| 78/78 [00:07<00:00, 11.06it/s]\n"
     ]
    },
    {
     "name": "stdout",
     "output_type": "stream",
     "text": [
      "[I 2024-04-30 19:14:53,221] Trial 168 pruned. \n"
     ]
    },
    {
     "name": "stderr",
     "output_type": "stream",
     "text": [
      "Feature Extraction: 100%|██████████| 80/80 [00:40<00:00,  1.99it/s]\n",
      "Feature Extraction: 100%|██████████| 78/78 [00:07<00:00, 10.95it/s]\n",
      "Feature Extraction: 100%|██████████| 80/80 [00:39<00:00,  2.02it/s]\n",
      "Feature Extraction: 100%|██████████| 78/78 [00:07<00:00, 11.06it/s]\n",
      "Feature Extraction: 100%|██████████| 80/80 [00:39<00:00,  2.00it/s]\n",
      "Feature Extraction: 100%|██████████| 78/78 [00:07<00:00, 10.58it/s]\n"
     ]
    },
    {
     "name": "stdout",
     "output_type": "stream",
     "text": [
      "[I 2024-04-30 19:18:02,654] Trial 169 pruned. \n"
     ]
    },
    {
     "name": "stderr",
     "output_type": "stream",
     "text": [
      "Feature Extraction: 100%|██████████| 80/80 [00:39<00:00,  2.02it/s]\n",
      "Feature Extraction: 100%|██████████| 78/78 [00:07<00:00, 10.58it/s]\n",
      "Feature Extraction: 100%|██████████| 80/80 [00:39<00:00,  2.01it/s]\n",
      "Feature Extraction: 100%|██████████| 78/78 [00:07<00:00, 11.04it/s]\n",
      "Feature Extraction: 100%|██████████| 80/80 [00:40<00:00,  1.98it/s]\n",
      "Feature Extraction: 100%|██████████| 78/78 [00:07<00:00, 10.79it/s]\n",
      "Feature Extraction: 100%|██████████| 80/80 [00:39<00:00,  2.03it/s]\n",
      "Feature Extraction: 100%|██████████| 78/78 [00:07<00:00, 10.78it/s]\n",
      "Feature Extraction: 100%|██████████| 80/80 [00:39<00:00,  2.03it/s]\n",
      "Feature Extraction: 100%|██████████| 78/78 [00:07<00:00, 11.12it/s]\n"
     ]
    },
    {
     "name": "stdout",
     "output_type": "stream",
     "text": [
      "[I 2024-04-30 19:23:20,441] Trial 170 finished with value: 0.9816784869976359 and parameters: {'use_smote': False, 'n_estimators': 960, 'max_depth': 18, 'min_samples_split': 4, 'min_samples_leaf': 1, 'max_features': 'sqrt', 'criterion': 'log_loss'}. Best is trial 162 with value: 0.9819686668637304.\n"
     ]
    },
    {
     "name": "stderr",
     "output_type": "stream",
     "text": [
      "Feature Extraction: 100%|██████████| 80/80 [00:39<00:00,  2.00it/s]\n",
      "Feature Extraction: 100%|██████████| 78/78 [00:07<00:00, 10.59it/s]\n",
      "Feature Extraction: 100%|██████████| 80/80 [00:40<00:00,  1.98it/s]\n",
      "Feature Extraction: 100%|██████████| 78/78 [00:07<00:00, 10.83it/s]\n",
      "Feature Extraction: 100%|██████████| 80/80 [00:39<00:00,  2.02it/s]\n",
      "Feature Extraction: 100%|██████████| 78/78 [00:07<00:00, 10.74it/s]\n"
     ]
    },
    {
     "name": "stdout",
     "output_type": "stream",
     "text": [
      "[I 2024-04-30 19:26:31,611] Trial 171 pruned. \n"
     ]
    },
    {
     "name": "stderr",
     "output_type": "stream",
     "text": [
      "Feature Extraction: 100%|██████████| 80/80 [00:39<00:00,  2.00it/s]\n",
      "Feature Extraction: 100%|██████████| 78/78 [00:07<00:00, 10.54it/s]\n",
      "Feature Extraction: 100%|██████████| 80/80 [00:39<00:00,  2.03it/s]\n",
      "Feature Extraction: 100%|██████████| 78/78 [00:07<00:00, 11.07it/s]\n",
      "Feature Extraction: 100%|██████████| 80/80 [00:39<00:00,  2.01it/s]\n",
      "Feature Extraction: 100%|██████████| 78/78 [00:07<00:00, 11.00it/s]\n",
      "Feature Extraction: 100%|██████████| 80/80 [00:40<00:00,  1.97it/s]\n",
      "Feature Extraction: 100%|██████████| 78/78 [00:07<00:00, 11.02it/s]\n",
      "Feature Extraction: 100%|██████████| 80/80 [00:39<00:00,  2.00it/s]\n",
      "Feature Extraction: 100%|██████████| 78/78 [00:07<00:00, 11.07it/s]\n"
     ]
    },
    {
     "name": "stdout",
     "output_type": "stream",
     "text": [
      "[I 2024-04-30 19:31:50,343] Trial 172 finished with value: 0.9810762862211709 and parameters: {'use_smote': False, 'n_estimators': 958, 'max_depth': 21, 'min_samples_split': 4, 'min_samples_leaf': 1, 'max_features': 'sqrt', 'criterion': 'log_loss'}. Best is trial 162 with value: 0.9819686668637304.\n"
     ]
    },
    {
     "name": "stderr",
     "output_type": "stream",
     "text": [
      "Feature Extraction: 100%|██████████| 80/80 [00:39<00:00,  2.01it/s]\n",
      "Feature Extraction: 100%|██████████| 78/78 [00:07<00:00, 10.59it/s]\n",
      "Feature Extraction: 100%|██████████| 80/80 [00:39<00:00,  2.01it/s]\n",
      "Feature Extraction: 100%|██████████| 78/78 [00:07<00:00, 11.05it/s]\n",
      "Feature Extraction: 100%|██████████| 80/80 [00:39<00:00,  2.03it/s]\n",
      "Feature Extraction: 100%|██████████| 78/78 [00:07<00:00, 11.05it/s]\n"
     ]
    },
    {
     "name": "stdout",
     "output_type": "stream",
     "text": [
      "[I 2024-04-30 19:34:59,261] Trial 173 pruned. \n"
     ]
    },
    {
     "name": "stderr",
     "output_type": "stream",
     "text": [
      "Feature Extraction: 100%|██████████| 80/80 [00:39<00:00,  2.02it/s]\n",
      "Feature Extraction: 100%|██████████| 78/78 [00:07<00:00, 11.07it/s]\n",
      "Feature Extraction: 100%|██████████| 80/80 [00:39<00:00,  2.03it/s]\n",
      "Feature Extraction: 100%|██████████| 78/78 [00:07<00:00, 11.02it/s]\n",
      "Feature Extraction: 100%|██████████| 80/80 [00:39<00:00,  2.02it/s]\n",
      "Feature Extraction: 100%|██████████| 78/78 [00:07<00:00, 10.93it/s]\n"
     ]
    },
    {
     "name": "stdout",
     "output_type": "stream",
     "text": [
      "[I 2024-04-30 19:38:08,194] Trial 174 pruned. \n"
     ]
    },
    {
     "name": "stderr",
     "output_type": "stream",
     "text": [
      "Feature Extraction: 100%|██████████| 80/80 [00:39<00:00,  2.03it/s]\n",
      "Feature Extraction: 100%|██████████| 78/78 [00:07<00:00, 11.05it/s]\n",
      "Feature Extraction: 100%|██████████| 80/80 [00:39<00:00,  2.02it/s]\n",
      "Feature Extraction: 100%|██████████| 78/78 [00:07<00:00, 11.02it/s]\n",
      "Feature Extraction: 100%|██████████| 80/80 [00:39<00:00,  2.01it/s]\n",
      "Feature Extraction: 100%|██████████| 78/78 [00:07<00:00, 10.99it/s]\n"
     ]
    },
    {
     "name": "stdout",
     "output_type": "stream",
     "text": [
      "[I 2024-04-30 19:41:17,402] Trial 175 pruned. \n"
     ]
    },
    {
     "name": "stderr",
     "output_type": "stream",
     "text": [
      "Feature Extraction: 100%|██████████| 80/80 [00:39<00:00,  2.02it/s]\n",
      "Feature Extraction: 100%|██████████| 78/78 [00:07<00:00, 11.07it/s]\n",
      "Feature Extraction: 100%|██████████| 80/80 [00:39<00:00,  2.02it/s]\n",
      "Feature Extraction: 100%|██████████| 78/78 [00:07<00:00, 11.13it/s]\n",
      "Feature Extraction: 100%|██████████| 80/80 [00:39<00:00,  2.00it/s]\n",
      "Feature Extraction: 100%|██████████| 78/78 [00:07<00:00, 11.00it/s]\n",
      "Feature Extraction: 100%|██████████| 80/80 [00:40<00:00,  2.00it/s]\n",
      "Feature Extraction: 100%|██████████| 78/78 [00:07<00:00, 10.76it/s]\n",
      "Feature Extraction: 100%|██████████| 80/80 [00:39<00:00,  2.02it/s]\n",
      "Feature Extraction: 100%|██████████| 78/78 [00:07<00:00, 10.85it/s]\n"
     ]
    },
    {
     "name": "stdout",
     "output_type": "stream",
     "text": [
      "[I 2024-04-30 19:46:35,756] Trial 176 finished with value: 0.9807862843629914 and parameters: {'use_smote': False, 'n_estimators': 985, 'max_depth': 17, 'min_samples_split': 4, 'min_samples_leaf': 1, 'max_features': 'sqrt', 'criterion': 'log_loss'}. Best is trial 162 with value: 0.9819686668637304.\n"
     ]
    },
    {
     "name": "stderr",
     "output_type": "stream",
     "text": [
      "Feature Extraction: 100%|██████████| 80/80 [00:39<00:00,  2.01it/s]\n",
      "Feature Extraction: 100%|██████████| 78/78 [00:06<00:00, 11.18it/s]\n",
      "Feature Extraction: 100%|██████████| 80/80 [00:39<00:00,  2.01it/s]\n",
      "Feature Extraction: 100%|██████████| 78/78 [00:07<00:00, 10.80it/s]\n",
      "Feature Extraction: 100%|██████████| 80/80 [00:39<00:00,  2.02it/s]\n",
      "Feature Extraction: 100%|██████████| 78/78 [00:07<00:00, 10.96it/s]\n"
     ]
    },
    {
     "name": "stdout",
     "output_type": "stream",
     "text": [
      "[I 2024-04-30 19:49:45,211] Trial 177 pruned. \n"
     ]
    },
    {
     "name": "stderr",
     "output_type": "stream",
     "text": [
      "Feature Extraction: 100%|██████████| 80/80 [00:40<00:00,  1.99it/s]\n",
      "Feature Extraction: 100%|██████████| 78/78 [00:06<00:00, 11.20it/s]\n",
      "Feature Extraction: 100%|██████████| 80/80 [00:39<00:00,  2.01it/s]\n",
      "Feature Extraction: 100%|██████████| 78/78 [00:07<00:00, 10.77it/s]\n",
      "Feature Extraction: 100%|██████████| 80/80 [00:39<00:00,  2.01it/s]\n",
      "Feature Extraction: 100%|██████████| 78/78 [00:07<00:00, 11.06it/s]\n"
     ]
    },
    {
     "name": "stdout",
     "output_type": "stream",
     "text": [
      "[I 2024-04-30 19:52:55,992] Trial 178 pruned. \n"
     ]
    },
    {
     "name": "stderr",
     "output_type": "stream",
     "text": [
      "Feature Extraction: 100%|██████████| 80/80 [00:39<00:00,  2.02it/s]\n",
      "Feature Extraction: 100%|██████████| 78/78 [00:07<00:00, 10.96it/s]\n",
      "Feature Extraction: 100%|██████████| 80/80 [00:39<00:00,  2.03it/s]\n",
      "Feature Extraction: 100%|██████████| 78/78 [00:07<00:00, 10.99it/s]\n",
      "Feature Extraction: 100%|██████████| 80/80 [00:39<00:00,  2.00it/s]\n",
      "Feature Extraction: 100%|██████████| 78/78 [00:06<00:00, 11.18it/s]\n"
     ]
    },
    {
     "name": "stdout",
     "output_type": "stream",
     "text": [
      "[I 2024-04-30 19:56:07,087] Trial 179 pruned. \n"
     ]
    },
    {
     "name": "stderr",
     "output_type": "stream",
     "text": [
      "Feature Extraction: 100%|██████████| 80/80 [00:39<00:00,  2.02it/s]\n",
      "Feature Extraction: 100%|██████████| 78/78 [00:07<00:00, 10.88it/s]\n",
      "Feature Extraction: 100%|██████████| 80/80 [00:39<00:00,  2.03it/s]\n",
      "Feature Extraction: 100%|██████████| 78/78 [00:07<00:00, 10.78it/s]\n",
      "Feature Extraction: 100%|██████████| 80/80 [00:40<00:00,  2.00it/s]\n",
      "Feature Extraction: 100%|██████████| 78/78 [00:07<00:00, 11.08it/s]\n"
     ]
    },
    {
     "name": "stdout",
     "output_type": "stream",
     "text": [
      "[I 2024-04-30 19:59:16,458] Trial 180 pruned. \n"
     ]
    },
    {
     "name": "stderr",
     "output_type": "stream",
     "text": [
      "Feature Extraction: 100%|██████████| 80/80 [00:45<00:00,  1.77it/s]\n",
      "Feature Extraction: 100%|██████████| 78/78 [00:07<00:00, 10.68it/s]\n",
      "Feature Extraction: 100%|██████████| 80/80 [00:39<00:00,  2.02it/s]\n",
      "Feature Extraction: 100%|██████████| 78/78 [00:07<00:00, 10.61it/s]\n",
      "Feature Extraction: 100%|██████████| 80/80 [00:39<00:00,  2.01it/s]\n",
      "Feature Extraction: 100%|██████████| 78/78 [00:07<00:00, 10.70it/s]\n",
      "Feature Extraction: 100%|██████████| 80/80 [00:39<00:00,  2.02it/s]\n",
      "Feature Extraction: 100%|██████████| 78/78 [00:07<00:00, 10.64it/s]\n",
      "Feature Extraction: 100%|██████████| 80/80 [00:39<00:00,  2.03it/s]\n",
      "Feature Extraction: 100%|██████████| 78/78 [00:06<00:00, 11.23it/s]\n"
     ]
    },
    {
     "name": "stdout",
     "output_type": "stream",
     "text": [
      "[I 2024-04-30 20:04:38,644] Trial 181 finished with value: 0.980195093112622 and parameters: {'use_smote': False, 'n_estimators': 903, 'max_depth': 25, 'min_samples_split': 8, 'min_samples_leaf': 1, 'max_features': 'sqrt', 'criterion': 'log_loss'}. Best is trial 162 with value: 0.9819686668637304.\n"
     ]
    },
    {
     "name": "stderr",
     "output_type": "stream",
     "text": [
      "Feature Extraction: 100%|██████████| 80/80 [00:39<00:00,  2.03it/s]\n",
      "Feature Extraction: 100%|██████████| 78/78 [00:07<00:00, 11.01it/s]\n",
      "Feature Extraction: 100%|██████████| 80/80 [00:39<00:00,  2.01it/s]\n",
      "Feature Extraction: 100%|██████████| 78/78 [00:07<00:00, 11.02it/s]\n",
      "Feature Extraction: 100%|██████████| 80/80 [00:39<00:00,  2.01it/s]\n",
      "Feature Extraction: 100%|██████████| 78/78 [00:07<00:00, 10.98it/s]\n"
     ]
    },
    {
     "name": "stdout",
     "output_type": "stream",
     "text": [
      "[I 2024-04-30 20:07:48,388] Trial 182 pruned. \n"
     ]
    },
    {
     "name": "stderr",
     "output_type": "stream",
     "text": [
      "Feature Extraction: 100%|██████████| 80/80 [00:39<00:00,  2.01it/s]\n",
      "Feature Extraction: 100%|██████████| 78/78 [00:06<00:00, 11.18it/s]\n",
      "Feature Extraction: 100%|██████████| 80/80 [00:39<00:00,  2.02it/s]\n",
      "Feature Extraction: 100%|██████████| 78/78 [00:07<00:00, 11.12it/s]\n",
      "Feature Extraction: 100%|██████████| 80/80 [00:39<00:00,  2.01it/s]\n",
      "Feature Extraction: 100%|██████████| 78/78 [00:07<00:00, 10.92it/s]\n"
     ]
    },
    {
     "name": "stdout",
     "output_type": "stream",
     "text": [
      "[I 2024-04-30 20:10:55,274] Trial 183 pruned. \n"
     ]
    },
    {
     "name": "stderr",
     "output_type": "stream",
     "text": [
      "Feature Extraction: 100%|██████████| 80/80 [00:39<00:00,  2.01it/s]\n",
      "Feature Extraction: 100%|██████████| 78/78 [00:06<00:00, 11.17it/s]\n",
      "Feature Extraction: 100%|██████████| 80/80 [00:39<00:00,  2.01it/s]\n",
      "Feature Extraction: 100%|██████████| 78/78 [00:07<00:00, 10.79it/s]\n",
      "Feature Extraction: 100%|██████████| 80/80 [00:39<00:00,  2.01it/s]\n",
      "Feature Extraction: 100%|██████████| 78/78 [00:07<00:00, 10.73it/s]\n"
     ]
    },
    {
     "name": "stdout",
     "output_type": "stream",
     "text": [
      "[I 2024-04-30 20:14:03,750] Trial 184 pruned. \n"
     ]
    },
    {
     "name": "stderr",
     "output_type": "stream",
     "text": [
      "Feature Extraction: 100%|██████████| 80/80 [00:39<00:00,  2.03it/s]\n",
      "Feature Extraction: 100%|██████████| 78/78 [00:07<00:00, 10.71it/s]\n",
      "Feature Extraction: 100%|██████████| 80/80 [00:39<00:00,  2.02it/s]\n",
      "Feature Extraction: 100%|██████████| 78/78 [00:07<00:00, 10.77it/s]\n",
      "Feature Extraction: 100%|██████████| 80/80 [00:39<00:00,  2.01it/s]\n",
      "Feature Extraction: 100%|██████████| 78/78 [00:07<00:00, 10.97it/s]\n"
     ]
    },
    {
     "name": "stdout",
     "output_type": "stream",
     "text": [
      "[I 2024-04-30 20:17:11,516] Trial 185 pruned. \n"
     ]
    },
    {
     "name": "stderr",
     "output_type": "stream",
     "text": [
      "Feature Extraction: 100%|██████████| 80/80 [00:39<00:00,  2.00it/s]\n",
      "Feature Extraction: 100%|██████████| 78/78 [00:07<00:00, 10.67it/s]\n",
      "Feature Extraction: 100%|██████████| 80/80 [00:39<00:00,  2.02it/s]\n",
      "Feature Extraction: 100%|██████████| 78/78 [00:07<00:00, 10.90it/s]\n",
      "Feature Extraction: 100%|██████████| 80/80 [00:39<00:00,  2.03it/s]\n",
      "Feature Extraction: 100%|██████████| 78/78 [00:07<00:00, 10.86it/s]\n"
     ]
    },
    {
     "name": "stdout",
     "output_type": "stream",
     "text": [
      "[I 2024-04-30 20:20:19,859] Trial 186 pruned. \n"
     ]
    },
    {
     "name": "stderr",
     "output_type": "stream",
     "text": [
      "Feature Extraction: 100%|██████████| 80/80 [00:39<00:00,  2.01it/s]\n",
      "Feature Extraction: 100%|██████████| 78/78 [00:07<00:00, 10.70it/s]\n",
      "Feature Extraction: 100%|██████████| 80/80 [00:39<00:00,  2.02it/s]\n",
      "Feature Extraction: 100%|██████████| 78/78 [00:07<00:00, 10.80it/s]\n",
      "Feature Extraction: 100%|██████████| 80/80 [00:39<00:00,  2.02it/s]\n",
      "Feature Extraction: 100%|██████████| 78/78 [00:07<00:00, 11.11it/s]\n",
      "Feature Extraction: 100%|██████████| 80/80 [00:39<00:00,  2.01it/s]\n",
      "Feature Extraction: 100%|██████████| 78/78 [00:07<00:00, 10.90it/s]\n",
      "Feature Extraction: 100%|██████████| 80/80 [00:39<00:00,  2.01it/s]\n",
      "Feature Extraction: 100%|██████████| 78/78 [00:07<00:00, 11.11it/s]\n"
     ]
    },
    {
     "name": "stdout",
     "output_type": "stream",
     "text": [
      "[I 2024-04-30 20:25:37,110] Trial 187 finished with value: 0.9787359716479622 and parameters: {'use_smote': False, 'n_estimators': 973, 'max_depth': 29, 'min_samples_split': 10, 'min_samples_leaf': 2, 'max_features': 'sqrt', 'criterion': 'log_loss'}. Best is trial 162 with value: 0.9819686668637304.\n"
     ]
    }
   ],
   "source": [
    "warnings.filterwarnings('ignore') #ignore pandas warnings\n",
    "\n",
    "study_feat_eng.optimize(\n",
    "    objective_feat_eng, \n",
    "    n_trials=NUM_TRIALS,\n",
    "    timeout = 20 * 60 * 60, # timeout after 8 hours\n",
    "    show_progress_bar=True\n",
    ")"
   ]
  },
  {
   "cell_type": "code",
   "execution_count": 17,
   "metadata": {},
   "outputs": [
    {
     "name": "stdout",
     "output_type": "stream",
     "text": [
      "{'use_smote': False, 'n_estimators': 905, 'max_depth': 21, 'min_samples_split': 2, 'min_samples_leaf': 1, 'max_features': 'sqrt', 'criterion': 'log_loss'}\n"
     ]
    }
   ],
   "source": [
    "best_params = study_feat_eng.best_params\n",
    "    \n",
    "print(best_params)\n",
    "\n",
    "if \"random_forest_feat_eng\" in config:\n",
    "    config[\"random_forest_feat_eng\"].update(best_params)\n",
    "else:\n",
    "    config[\"random_forest_feat_eng\"] = best_params\n",
    "\n",
    "# see: https://stackoverflow.com/questions/12470665/how-can-i-write-data-in-yaml-format-in-a-file\n",
    "with open(\"classical_ml_config.yaml\", \"w\") as file:\n",
    "    yaml.dump(config, file, default_flow_style=False)"
   ]
  },
  {
   "cell_type": "code",
   "execution_count": 18,
   "metadata": {},
   "outputs": [
    {
     "data": {
      "application/vnd.plotly.v1+json": {
       "config": {
        "plotlyServerURL": "https://plot.ly"
       },
       "data": [
        {
         "cliponaxis": false,
         "hovertemplate": [
          "criterion (CategoricalDistribution): 0.003465957347879103<extra></extra>",
          "n_estimators (IntDistribution): 0.012129760198438236<extra></extra>",
          "max_features (CategoricalDistribution): 0.014873821512354895<extra></extra>",
          "max_depth (IntDistribution): 0.021640678604543755<extra></extra>",
          "use_smote (CategoricalDistribution): 0.028046288687007363<extra></extra>",
          "min_samples_split (IntDistribution): 0.02959786521783124<extra></extra>",
          "min_samples_leaf (IntDistribution): 0.8902456284319454<extra></extra>"
         ],
         "name": "Objective Value",
         "orientation": "h",
         "text": [
          "<0.01",
          "0.01",
          "0.01",
          "0.02",
          "0.03",
          "0.03",
          "0.89"
         ],
         "textposition": "outside",
         "type": "bar",
         "x": [
          0.003465957347879103,
          0.012129760198438236,
          0.014873821512354895,
          0.021640678604543755,
          0.028046288687007363,
          0.02959786521783124,
          0.8902456284319454
         ],
         "y": [
          "criterion",
          "n_estimators",
          "max_features",
          "max_depth",
          "use_smote",
          "min_samples_split",
          "min_samples_leaf"
         ]
        }
       ],
       "layout": {
        "template": {
         "data": {
          "bar": [
           {
            "error_x": {
             "color": "#2a3f5f"
            },
            "error_y": {
             "color": "#2a3f5f"
            },
            "marker": {
             "line": {
              "color": "#E5ECF6",
              "width": 0.5
             },
             "pattern": {
              "fillmode": "overlay",
              "size": 10,
              "solidity": 0.2
             }
            },
            "type": "bar"
           }
          ],
          "barpolar": [
           {
            "marker": {
             "line": {
              "color": "#E5ECF6",
              "width": 0.5
             },
             "pattern": {
              "fillmode": "overlay",
              "size": 10,
              "solidity": 0.2
             }
            },
            "type": "barpolar"
           }
          ],
          "carpet": [
           {
            "aaxis": {
             "endlinecolor": "#2a3f5f",
             "gridcolor": "white",
             "linecolor": "white",
             "minorgridcolor": "white",
             "startlinecolor": "#2a3f5f"
            },
            "baxis": {
             "endlinecolor": "#2a3f5f",
             "gridcolor": "white",
             "linecolor": "white",
             "minorgridcolor": "white",
             "startlinecolor": "#2a3f5f"
            },
            "type": "carpet"
           }
          ],
          "choropleth": [
           {
            "colorbar": {
             "outlinewidth": 0,
             "ticks": ""
            },
            "type": "choropleth"
           }
          ],
          "contour": [
           {
            "colorbar": {
             "outlinewidth": 0,
             "ticks": ""
            },
            "colorscale": [
             [
              0,
              "#0d0887"
             ],
             [
              0.1111111111111111,
              "#46039f"
             ],
             [
              0.2222222222222222,
              "#7201a8"
             ],
             [
              0.3333333333333333,
              "#9c179e"
             ],
             [
              0.4444444444444444,
              "#bd3786"
             ],
             [
              0.5555555555555556,
              "#d8576b"
             ],
             [
              0.6666666666666666,
              "#ed7953"
             ],
             [
              0.7777777777777778,
              "#fb9f3a"
             ],
             [
              0.8888888888888888,
              "#fdca26"
             ],
             [
              1,
              "#f0f921"
             ]
            ],
            "type": "contour"
           }
          ],
          "contourcarpet": [
           {
            "colorbar": {
             "outlinewidth": 0,
             "ticks": ""
            },
            "type": "contourcarpet"
           }
          ],
          "heatmap": [
           {
            "colorbar": {
             "outlinewidth": 0,
             "ticks": ""
            },
            "colorscale": [
             [
              0,
              "#0d0887"
             ],
             [
              0.1111111111111111,
              "#46039f"
             ],
             [
              0.2222222222222222,
              "#7201a8"
             ],
             [
              0.3333333333333333,
              "#9c179e"
             ],
             [
              0.4444444444444444,
              "#bd3786"
             ],
             [
              0.5555555555555556,
              "#d8576b"
             ],
             [
              0.6666666666666666,
              "#ed7953"
             ],
             [
              0.7777777777777778,
              "#fb9f3a"
             ],
             [
              0.8888888888888888,
              "#fdca26"
             ],
             [
              1,
              "#f0f921"
             ]
            ],
            "type": "heatmap"
           }
          ],
          "heatmapgl": [
           {
            "colorbar": {
             "outlinewidth": 0,
             "ticks": ""
            },
            "colorscale": [
             [
              0,
              "#0d0887"
             ],
             [
              0.1111111111111111,
              "#46039f"
             ],
             [
              0.2222222222222222,
              "#7201a8"
             ],
             [
              0.3333333333333333,
              "#9c179e"
             ],
             [
              0.4444444444444444,
              "#bd3786"
             ],
             [
              0.5555555555555556,
              "#d8576b"
             ],
             [
              0.6666666666666666,
              "#ed7953"
             ],
             [
              0.7777777777777778,
              "#fb9f3a"
             ],
             [
              0.8888888888888888,
              "#fdca26"
             ],
             [
              1,
              "#f0f921"
             ]
            ],
            "type": "heatmapgl"
           }
          ],
          "histogram": [
           {
            "marker": {
             "pattern": {
              "fillmode": "overlay",
              "size": 10,
              "solidity": 0.2
             }
            },
            "type": "histogram"
           }
          ],
          "histogram2d": [
           {
            "colorbar": {
             "outlinewidth": 0,
             "ticks": ""
            },
            "colorscale": [
             [
              0,
              "#0d0887"
             ],
             [
              0.1111111111111111,
              "#46039f"
             ],
             [
              0.2222222222222222,
              "#7201a8"
             ],
             [
              0.3333333333333333,
              "#9c179e"
             ],
             [
              0.4444444444444444,
              "#bd3786"
             ],
             [
              0.5555555555555556,
              "#d8576b"
             ],
             [
              0.6666666666666666,
              "#ed7953"
             ],
             [
              0.7777777777777778,
              "#fb9f3a"
             ],
             [
              0.8888888888888888,
              "#fdca26"
             ],
             [
              1,
              "#f0f921"
             ]
            ],
            "type": "histogram2d"
           }
          ],
          "histogram2dcontour": [
           {
            "colorbar": {
             "outlinewidth": 0,
             "ticks": ""
            },
            "colorscale": [
             [
              0,
              "#0d0887"
             ],
             [
              0.1111111111111111,
              "#46039f"
             ],
             [
              0.2222222222222222,
              "#7201a8"
             ],
             [
              0.3333333333333333,
              "#9c179e"
             ],
             [
              0.4444444444444444,
              "#bd3786"
             ],
             [
              0.5555555555555556,
              "#d8576b"
             ],
             [
              0.6666666666666666,
              "#ed7953"
             ],
             [
              0.7777777777777778,
              "#fb9f3a"
             ],
             [
              0.8888888888888888,
              "#fdca26"
             ],
             [
              1,
              "#f0f921"
             ]
            ],
            "type": "histogram2dcontour"
           }
          ],
          "mesh3d": [
           {
            "colorbar": {
             "outlinewidth": 0,
             "ticks": ""
            },
            "type": "mesh3d"
           }
          ],
          "parcoords": [
           {
            "line": {
             "colorbar": {
              "outlinewidth": 0,
              "ticks": ""
             }
            },
            "type": "parcoords"
           }
          ],
          "pie": [
           {
            "automargin": true,
            "type": "pie"
           }
          ],
          "scatter": [
           {
            "fillpattern": {
             "fillmode": "overlay",
             "size": 10,
             "solidity": 0.2
            },
            "type": "scatter"
           }
          ],
          "scatter3d": [
           {
            "line": {
             "colorbar": {
              "outlinewidth": 0,
              "ticks": ""
             }
            },
            "marker": {
             "colorbar": {
              "outlinewidth": 0,
              "ticks": ""
             }
            },
            "type": "scatter3d"
           }
          ],
          "scattercarpet": [
           {
            "marker": {
             "colorbar": {
              "outlinewidth": 0,
              "ticks": ""
             }
            },
            "type": "scattercarpet"
           }
          ],
          "scattergeo": [
           {
            "marker": {
             "colorbar": {
              "outlinewidth": 0,
              "ticks": ""
             }
            },
            "type": "scattergeo"
           }
          ],
          "scattergl": [
           {
            "marker": {
             "colorbar": {
              "outlinewidth": 0,
              "ticks": ""
             }
            },
            "type": "scattergl"
           }
          ],
          "scattermapbox": [
           {
            "marker": {
             "colorbar": {
              "outlinewidth": 0,
              "ticks": ""
             }
            },
            "type": "scattermapbox"
           }
          ],
          "scatterpolar": [
           {
            "marker": {
             "colorbar": {
              "outlinewidth": 0,
              "ticks": ""
             }
            },
            "type": "scatterpolar"
           }
          ],
          "scatterpolargl": [
           {
            "marker": {
             "colorbar": {
              "outlinewidth": 0,
              "ticks": ""
             }
            },
            "type": "scatterpolargl"
           }
          ],
          "scatterternary": [
           {
            "marker": {
             "colorbar": {
              "outlinewidth": 0,
              "ticks": ""
             }
            },
            "type": "scatterternary"
           }
          ],
          "surface": [
           {
            "colorbar": {
             "outlinewidth": 0,
             "ticks": ""
            },
            "colorscale": [
             [
              0,
              "#0d0887"
             ],
             [
              0.1111111111111111,
              "#46039f"
             ],
             [
              0.2222222222222222,
              "#7201a8"
             ],
             [
              0.3333333333333333,
              "#9c179e"
             ],
             [
              0.4444444444444444,
              "#bd3786"
             ],
             [
              0.5555555555555556,
              "#d8576b"
             ],
             [
              0.6666666666666666,
              "#ed7953"
             ],
             [
              0.7777777777777778,
              "#fb9f3a"
             ],
             [
              0.8888888888888888,
              "#fdca26"
             ],
             [
              1,
              "#f0f921"
             ]
            ],
            "type": "surface"
           }
          ],
          "table": [
           {
            "cells": {
             "fill": {
              "color": "#EBF0F8"
             },
             "line": {
              "color": "white"
             }
            },
            "header": {
             "fill": {
              "color": "#C8D4E3"
             },
             "line": {
              "color": "white"
             }
            },
            "type": "table"
           }
          ]
         },
         "layout": {
          "annotationdefaults": {
           "arrowcolor": "#2a3f5f",
           "arrowhead": 0,
           "arrowwidth": 1
          },
          "autotypenumbers": "strict",
          "coloraxis": {
           "colorbar": {
            "outlinewidth": 0,
            "ticks": ""
           }
          },
          "colorscale": {
           "diverging": [
            [
             0,
             "#8e0152"
            ],
            [
             0.1,
             "#c51b7d"
            ],
            [
             0.2,
             "#de77ae"
            ],
            [
             0.3,
             "#f1b6da"
            ],
            [
             0.4,
             "#fde0ef"
            ],
            [
             0.5,
             "#f7f7f7"
            ],
            [
             0.6,
             "#e6f5d0"
            ],
            [
             0.7,
             "#b8e186"
            ],
            [
             0.8,
             "#7fbc41"
            ],
            [
             0.9,
             "#4d9221"
            ],
            [
             1,
             "#276419"
            ]
           ],
           "sequential": [
            [
             0,
             "#0d0887"
            ],
            [
             0.1111111111111111,
             "#46039f"
            ],
            [
             0.2222222222222222,
             "#7201a8"
            ],
            [
             0.3333333333333333,
             "#9c179e"
            ],
            [
             0.4444444444444444,
             "#bd3786"
            ],
            [
             0.5555555555555556,
             "#d8576b"
            ],
            [
             0.6666666666666666,
             "#ed7953"
            ],
            [
             0.7777777777777778,
             "#fb9f3a"
            ],
            [
             0.8888888888888888,
             "#fdca26"
            ],
            [
             1,
             "#f0f921"
            ]
           ],
           "sequentialminus": [
            [
             0,
             "#0d0887"
            ],
            [
             0.1111111111111111,
             "#46039f"
            ],
            [
             0.2222222222222222,
             "#7201a8"
            ],
            [
             0.3333333333333333,
             "#9c179e"
            ],
            [
             0.4444444444444444,
             "#bd3786"
            ],
            [
             0.5555555555555556,
             "#d8576b"
            ],
            [
             0.6666666666666666,
             "#ed7953"
            ],
            [
             0.7777777777777778,
             "#fb9f3a"
            ],
            [
             0.8888888888888888,
             "#fdca26"
            ],
            [
             1,
             "#f0f921"
            ]
           ]
          },
          "colorway": [
           "#636efa",
           "#EF553B",
           "#00cc96",
           "#ab63fa",
           "#FFA15A",
           "#19d3f3",
           "#FF6692",
           "#B6E880",
           "#FF97FF",
           "#FECB52"
          ],
          "font": {
           "color": "#2a3f5f"
          },
          "geo": {
           "bgcolor": "white",
           "lakecolor": "white",
           "landcolor": "#E5ECF6",
           "showlakes": true,
           "showland": true,
           "subunitcolor": "white"
          },
          "hoverlabel": {
           "align": "left"
          },
          "hovermode": "closest",
          "mapbox": {
           "style": "light"
          },
          "paper_bgcolor": "white",
          "plot_bgcolor": "#E5ECF6",
          "polar": {
           "angularaxis": {
            "gridcolor": "white",
            "linecolor": "white",
            "ticks": ""
           },
           "bgcolor": "#E5ECF6",
           "radialaxis": {
            "gridcolor": "white",
            "linecolor": "white",
            "ticks": ""
           }
          },
          "scene": {
           "xaxis": {
            "backgroundcolor": "#E5ECF6",
            "gridcolor": "white",
            "gridwidth": 2,
            "linecolor": "white",
            "showbackground": true,
            "ticks": "",
            "zerolinecolor": "white"
           },
           "yaxis": {
            "backgroundcolor": "#E5ECF6",
            "gridcolor": "white",
            "gridwidth": 2,
            "linecolor": "white",
            "showbackground": true,
            "ticks": "",
            "zerolinecolor": "white"
           },
           "zaxis": {
            "backgroundcolor": "#E5ECF6",
            "gridcolor": "white",
            "gridwidth": 2,
            "linecolor": "white",
            "showbackground": true,
            "ticks": "",
            "zerolinecolor": "white"
           }
          },
          "shapedefaults": {
           "line": {
            "color": "#2a3f5f"
           }
          },
          "ternary": {
           "aaxis": {
            "gridcolor": "white",
            "linecolor": "white",
            "ticks": ""
           },
           "baxis": {
            "gridcolor": "white",
            "linecolor": "white",
            "ticks": ""
           },
           "bgcolor": "#E5ECF6",
           "caxis": {
            "gridcolor": "white",
            "linecolor": "white",
            "ticks": ""
           }
          },
          "title": {
           "x": 0.05
          },
          "xaxis": {
           "automargin": true,
           "gridcolor": "white",
           "linecolor": "white",
           "ticks": "",
           "title": {
            "standoff": 15
           },
           "zerolinecolor": "white",
           "zerolinewidth": 2
          },
          "yaxis": {
           "automargin": true,
           "gridcolor": "white",
           "linecolor": "white",
           "ticks": "",
           "title": {
            "standoff": 15
           },
           "zerolinecolor": "white",
           "zerolinewidth": 2
          }
         }
        },
        "title": {
         "text": "Hyperparameter Importances"
        },
        "xaxis": {
         "title": {
          "text": "Hyperparameter Importance"
         }
        },
        "yaxis": {
         "title": {
          "text": "Hyperparameter"
         }
        }
       }
      }
     },
     "metadata": {},
     "output_type": "display_data"
    }
   ],
   "source": [
    "p_importance_feat_eng = optuna.visualization.plot_param_importances(study_feat_eng)\n",
    "p_importance_feat_eng.show()"
   ]
  },
  {
   "cell_type": "code",
   "execution_count": 19,
   "metadata": {},
   "outputs": [
    {
     "data": {
      "application/vnd.plotly.v1+json": {
       "config": {
        "plotlyServerURL": "https://plot.ly"
       },
       "data": [
        {
         "mode": "markers",
         "name": "Objective Value",
         "type": "scatter",
         "x": [
          0,
          1,
          2,
          3,
          4,
          5,
          6,
          7,
          8,
          9,
          10,
          11,
          12,
          13,
          14,
          15,
          16,
          17,
          18,
          19,
          20,
          21,
          22,
          24,
          25,
          26,
          29,
          31,
          32,
          34,
          41,
          43,
          45,
          48,
          50,
          54,
          55,
          56,
          58,
          61,
          62,
          63,
          64,
          65,
          66,
          67,
          68,
          69,
          71,
          72,
          75,
          87,
          89,
          91,
          93,
          94,
          95,
          101,
          102,
          103,
          104,
          105,
          107,
          110,
          111,
          113,
          114,
          116,
          118,
          120,
          121,
          122,
          124,
          126,
          127,
          131,
          132,
          133,
          141,
          142,
          144,
          147,
          149,
          150,
          151,
          153,
          154,
          155,
          159,
          161,
          162,
          163,
          170,
          172,
          176,
          181,
          187
         ],
         "y": [
          0.9760991442903512,
          0.975177304964539,
          0.9708909144369303,
          0.9714621947631656,
          0.9758397171479081,
          0.966804979253112,
          0.9746312684365782,
          0.9723040659988215,
          0.969732588892154,
          0.9637702503681885,
          0.9796400118028917,
          0.9796400118028917,
          0.9796400118028917,
          0.976401179941003,
          0.9793388429752066,
          0.9677800768548626,
          0.9752212389380531,
          0.9634218289085545,
          0.9760850310008857,
          0.9711255156157925,
          0.9728613569321534,
          0.9796400118028917,
          0.9772794334611979,
          0.9778695780466214,
          0.9784342688330872,
          0.9769911504424779,
          0.9760991442903512,
          0.9796400118028917,
          0.9775678866587958,
          0.9810874704491725,
          0.981377475613361,
          0.9804964539007093,
          0.9802184824328314,
          0.9801833776989056,
          0.9793144208037825,
          0.9796279893711249,
          0.9802067946824224,
          0.9796279893711249,
          0.9802067946824224,
          0.9807862843629914,
          0.9796279893711249,
          0.9810762862211709,
          0.9804964539007093,
          0.981377475613361,
          0.9810874704491725,
          0.981377475613361,
          0.9807976366322009,
          0.9810874704491725,
          0.9810874704491725,
          0.9784342688330872,
          0.981377475613361,
          0.9796279893711249,
          0.9804964539007093,
          0.9807976366322009,
          0.9793388429752066,
          0.9793266391021854,
          0.9804964539007093,
          0.9810986414648553,
          0.981377475613361,
          0.9793388429752066,
          0.9804849201655825,
          0.9799173065564087,
          0.980507974010632,
          0.9816784869976359,
          0.9807976366322009,
          0.9810762862211709,
          0.9810874704491725,
          0.9790002957704821,
          0.9787234042553191,
          0.980507974010632,
          0.9810986414648553,
          0.9810762862211709,
          0.9807862843629914,
          0.981377475613361,
          0.9810762862211709,
          0.9807976366322009,
          0.9790374963094184,
          0.9810874704491725,
          0.9807862843629914,
          0.9810874704491725,
          0.9810762862211709,
          0.9792899408284024,
          0.9816784869976359,
          0.9804964539007093,
          0.980507974010632,
          0.981377475613361,
          0.9807976366322009,
          0.9804964539007093,
          0.981377475613361,
          0.9810874704491725,
          0.9819686668637304,
          0.9819686668637304,
          0.9816784869976359,
          0.9810762862211709,
          0.9807862843629914,
          0.980195093112622,
          0.9787359716479622
         ]
        },
        {
         "mode": "lines",
         "name": "Best Value",
         "type": "scatter",
         "x": [
          0,
          1,
          2,
          3,
          4,
          5,
          6,
          7,
          8,
          9,
          10,
          11,
          12,
          13,
          14,
          15,
          16,
          17,
          18,
          19,
          20,
          21,
          22,
          23,
          24,
          25,
          26,
          27,
          28,
          29,
          30,
          31,
          32,
          33,
          34,
          35,
          36,
          37,
          38,
          39,
          40,
          41,
          42,
          43,
          44,
          45,
          46,
          47,
          48,
          49,
          50,
          51,
          52,
          53,
          54,
          55,
          56,
          57,
          58,
          59,
          60,
          61,
          62,
          63,
          64,
          65,
          66,
          67,
          68,
          69,
          70,
          71,
          72,
          73,
          74,
          75,
          76,
          77,
          78,
          79,
          80,
          81,
          82,
          83,
          84,
          85,
          86,
          87,
          88,
          89,
          90,
          91,
          92,
          93,
          94,
          95,
          96,
          97,
          98,
          99,
          100,
          101,
          102,
          103,
          104,
          105,
          106,
          107,
          108,
          109,
          110,
          111,
          112,
          113,
          114,
          115,
          116,
          117,
          118,
          119,
          120,
          121,
          122,
          123,
          124,
          125,
          126,
          127,
          128,
          129,
          130,
          131,
          132,
          133,
          134,
          135,
          136,
          137,
          138,
          139,
          140,
          141,
          142,
          143,
          144,
          145,
          146,
          147,
          148,
          149,
          150,
          151,
          152,
          153,
          154,
          155,
          156,
          157,
          158,
          159,
          160,
          161,
          162,
          163,
          164,
          165,
          166,
          167,
          168,
          169,
          170,
          171,
          172,
          173,
          174,
          175,
          176,
          177,
          178,
          179,
          180,
          181,
          182,
          183,
          184,
          185,
          186,
          187
         ],
         "y": [
          0.9760991442903512,
          0.9760991442903512,
          0.9760991442903512,
          0.9760991442903512,
          0.9760991442903512,
          0.9760991442903512,
          0.9760991442903512,
          0.9760991442903512,
          0.9760991442903512,
          0.9760991442903512,
          0.9796400118028917,
          0.9796400118028917,
          0.9796400118028917,
          0.9796400118028917,
          0.9796400118028917,
          0.9796400118028917,
          0.9796400118028917,
          0.9796400118028917,
          0.9796400118028917,
          0.9796400118028917,
          0.9796400118028917,
          0.9796400118028917,
          0.9796400118028917,
          0.9796400118028917,
          0.9796400118028917,
          0.9796400118028917,
          0.9796400118028917,
          0.9796400118028917,
          0.9796400118028917,
          0.9796400118028917,
          0.9796400118028917,
          0.9796400118028917,
          0.9796400118028917,
          0.9796400118028917,
          0.9810874704491725,
          0.9810874704491725,
          0.9810874704491725,
          0.9810874704491725,
          0.9810874704491725,
          0.9810874704491725,
          0.9810874704491725,
          0.981377475613361,
          0.981377475613361,
          0.981377475613361,
          0.981377475613361,
          0.981377475613361,
          0.981377475613361,
          0.981377475613361,
          0.981377475613361,
          0.981377475613361,
          0.981377475613361,
          0.981377475613361,
          0.981377475613361,
          0.981377475613361,
          0.981377475613361,
          0.981377475613361,
          0.981377475613361,
          0.981377475613361,
          0.981377475613361,
          0.981377475613361,
          0.981377475613361,
          0.981377475613361,
          0.981377475613361,
          0.981377475613361,
          0.981377475613361,
          0.981377475613361,
          0.981377475613361,
          0.981377475613361,
          0.981377475613361,
          0.981377475613361,
          0.981377475613361,
          0.981377475613361,
          0.981377475613361,
          0.981377475613361,
          0.981377475613361,
          0.981377475613361,
          0.981377475613361,
          0.981377475613361,
          0.981377475613361,
          0.981377475613361,
          0.981377475613361,
          0.981377475613361,
          0.981377475613361,
          0.981377475613361,
          0.981377475613361,
          0.981377475613361,
          0.981377475613361,
          0.981377475613361,
          0.981377475613361,
          0.981377475613361,
          0.981377475613361,
          0.981377475613361,
          0.981377475613361,
          0.981377475613361,
          0.981377475613361,
          0.981377475613361,
          0.981377475613361,
          0.981377475613361,
          0.981377475613361,
          0.981377475613361,
          0.981377475613361,
          0.981377475613361,
          0.981377475613361,
          0.981377475613361,
          0.981377475613361,
          0.981377475613361,
          0.981377475613361,
          0.981377475613361,
          0.981377475613361,
          0.981377475613361,
          0.9816784869976359,
          0.9816784869976359,
          0.9816784869976359,
          0.9816784869976359,
          0.9816784869976359,
          0.9816784869976359,
          0.9816784869976359,
          0.9816784869976359,
          0.9816784869976359,
          0.9816784869976359,
          0.9816784869976359,
          0.9816784869976359,
          0.9816784869976359,
          0.9816784869976359,
          0.9816784869976359,
          0.9816784869976359,
          0.9816784869976359,
          0.9816784869976359,
          0.9816784869976359,
          0.9816784869976359,
          0.9816784869976359,
          0.9816784869976359,
          0.9816784869976359,
          0.9816784869976359,
          0.9816784869976359,
          0.9816784869976359,
          0.9816784869976359,
          0.9816784869976359,
          0.9816784869976359,
          0.9816784869976359,
          0.9816784869976359,
          0.9816784869976359,
          0.9816784869976359,
          0.9816784869976359,
          0.9816784869976359,
          0.9816784869976359,
          0.9816784869976359,
          0.9816784869976359,
          0.9816784869976359,
          0.9816784869976359,
          0.9816784869976359,
          0.9816784869976359,
          0.9816784869976359,
          0.9816784869976359,
          0.9816784869976359,
          0.9816784869976359,
          0.9816784869976359,
          0.9816784869976359,
          0.9816784869976359,
          0.9816784869976359,
          0.9816784869976359,
          0.9816784869976359,
          0.9819686668637304,
          0.9819686668637304,
          0.9819686668637304,
          0.9819686668637304,
          0.9819686668637304,
          0.9819686668637304,
          0.9819686668637304,
          0.9819686668637304,
          0.9819686668637304,
          0.9819686668637304,
          0.9819686668637304,
          0.9819686668637304,
          0.9819686668637304,
          0.9819686668637304,
          0.9819686668637304,
          0.9819686668637304,
          0.9819686668637304,
          0.9819686668637304,
          0.9819686668637304,
          0.9819686668637304,
          0.9819686668637304,
          0.9819686668637304,
          0.9819686668637304,
          0.9819686668637304,
          0.9819686668637304,
          0.9819686668637304
         ]
        },
        {
         "marker": {
          "color": "#cccccc"
         },
         "mode": "markers",
         "name": "Infeasible Trial",
         "showlegend": false,
         "type": "scatter",
         "x": [],
         "y": []
        }
       ],
       "layout": {
        "template": {
         "data": {
          "bar": [
           {
            "error_x": {
             "color": "#2a3f5f"
            },
            "error_y": {
             "color": "#2a3f5f"
            },
            "marker": {
             "line": {
              "color": "#E5ECF6",
              "width": 0.5
             },
             "pattern": {
              "fillmode": "overlay",
              "size": 10,
              "solidity": 0.2
             }
            },
            "type": "bar"
           }
          ],
          "barpolar": [
           {
            "marker": {
             "line": {
              "color": "#E5ECF6",
              "width": 0.5
             },
             "pattern": {
              "fillmode": "overlay",
              "size": 10,
              "solidity": 0.2
             }
            },
            "type": "barpolar"
           }
          ],
          "carpet": [
           {
            "aaxis": {
             "endlinecolor": "#2a3f5f",
             "gridcolor": "white",
             "linecolor": "white",
             "minorgridcolor": "white",
             "startlinecolor": "#2a3f5f"
            },
            "baxis": {
             "endlinecolor": "#2a3f5f",
             "gridcolor": "white",
             "linecolor": "white",
             "minorgridcolor": "white",
             "startlinecolor": "#2a3f5f"
            },
            "type": "carpet"
           }
          ],
          "choropleth": [
           {
            "colorbar": {
             "outlinewidth": 0,
             "ticks": ""
            },
            "type": "choropleth"
           }
          ],
          "contour": [
           {
            "colorbar": {
             "outlinewidth": 0,
             "ticks": ""
            },
            "colorscale": [
             [
              0,
              "#0d0887"
             ],
             [
              0.1111111111111111,
              "#46039f"
             ],
             [
              0.2222222222222222,
              "#7201a8"
             ],
             [
              0.3333333333333333,
              "#9c179e"
             ],
             [
              0.4444444444444444,
              "#bd3786"
             ],
             [
              0.5555555555555556,
              "#d8576b"
             ],
             [
              0.6666666666666666,
              "#ed7953"
             ],
             [
              0.7777777777777778,
              "#fb9f3a"
             ],
             [
              0.8888888888888888,
              "#fdca26"
             ],
             [
              1,
              "#f0f921"
             ]
            ],
            "type": "contour"
           }
          ],
          "contourcarpet": [
           {
            "colorbar": {
             "outlinewidth": 0,
             "ticks": ""
            },
            "type": "contourcarpet"
           }
          ],
          "heatmap": [
           {
            "colorbar": {
             "outlinewidth": 0,
             "ticks": ""
            },
            "colorscale": [
             [
              0,
              "#0d0887"
             ],
             [
              0.1111111111111111,
              "#46039f"
             ],
             [
              0.2222222222222222,
              "#7201a8"
             ],
             [
              0.3333333333333333,
              "#9c179e"
             ],
             [
              0.4444444444444444,
              "#bd3786"
             ],
             [
              0.5555555555555556,
              "#d8576b"
             ],
             [
              0.6666666666666666,
              "#ed7953"
             ],
             [
              0.7777777777777778,
              "#fb9f3a"
             ],
             [
              0.8888888888888888,
              "#fdca26"
             ],
             [
              1,
              "#f0f921"
             ]
            ],
            "type": "heatmap"
           }
          ],
          "heatmapgl": [
           {
            "colorbar": {
             "outlinewidth": 0,
             "ticks": ""
            },
            "colorscale": [
             [
              0,
              "#0d0887"
             ],
             [
              0.1111111111111111,
              "#46039f"
             ],
             [
              0.2222222222222222,
              "#7201a8"
             ],
             [
              0.3333333333333333,
              "#9c179e"
             ],
             [
              0.4444444444444444,
              "#bd3786"
             ],
             [
              0.5555555555555556,
              "#d8576b"
             ],
             [
              0.6666666666666666,
              "#ed7953"
             ],
             [
              0.7777777777777778,
              "#fb9f3a"
             ],
             [
              0.8888888888888888,
              "#fdca26"
             ],
             [
              1,
              "#f0f921"
             ]
            ],
            "type": "heatmapgl"
           }
          ],
          "histogram": [
           {
            "marker": {
             "pattern": {
              "fillmode": "overlay",
              "size": 10,
              "solidity": 0.2
             }
            },
            "type": "histogram"
           }
          ],
          "histogram2d": [
           {
            "colorbar": {
             "outlinewidth": 0,
             "ticks": ""
            },
            "colorscale": [
             [
              0,
              "#0d0887"
             ],
             [
              0.1111111111111111,
              "#46039f"
             ],
             [
              0.2222222222222222,
              "#7201a8"
             ],
             [
              0.3333333333333333,
              "#9c179e"
             ],
             [
              0.4444444444444444,
              "#bd3786"
             ],
             [
              0.5555555555555556,
              "#d8576b"
             ],
             [
              0.6666666666666666,
              "#ed7953"
             ],
             [
              0.7777777777777778,
              "#fb9f3a"
             ],
             [
              0.8888888888888888,
              "#fdca26"
             ],
             [
              1,
              "#f0f921"
             ]
            ],
            "type": "histogram2d"
           }
          ],
          "histogram2dcontour": [
           {
            "colorbar": {
             "outlinewidth": 0,
             "ticks": ""
            },
            "colorscale": [
             [
              0,
              "#0d0887"
             ],
             [
              0.1111111111111111,
              "#46039f"
             ],
             [
              0.2222222222222222,
              "#7201a8"
             ],
             [
              0.3333333333333333,
              "#9c179e"
             ],
             [
              0.4444444444444444,
              "#bd3786"
             ],
             [
              0.5555555555555556,
              "#d8576b"
             ],
             [
              0.6666666666666666,
              "#ed7953"
             ],
             [
              0.7777777777777778,
              "#fb9f3a"
             ],
             [
              0.8888888888888888,
              "#fdca26"
             ],
             [
              1,
              "#f0f921"
             ]
            ],
            "type": "histogram2dcontour"
           }
          ],
          "mesh3d": [
           {
            "colorbar": {
             "outlinewidth": 0,
             "ticks": ""
            },
            "type": "mesh3d"
           }
          ],
          "parcoords": [
           {
            "line": {
             "colorbar": {
              "outlinewidth": 0,
              "ticks": ""
             }
            },
            "type": "parcoords"
           }
          ],
          "pie": [
           {
            "automargin": true,
            "type": "pie"
           }
          ],
          "scatter": [
           {
            "fillpattern": {
             "fillmode": "overlay",
             "size": 10,
             "solidity": 0.2
            },
            "type": "scatter"
           }
          ],
          "scatter3d": [
           {
            "line": {
             "colorbar": {
              "outlinewidth": 0,
              "ticks": ""
             }
            },
            "marker": {
             "colorbar": {
              "outlinewidth": 0,
              "ticks": ""
             }
            },
            "type": "scatter3d"
           }
          ],
          "scattercarpet": [
           {
            "marker": {
             "colorbar": {
              "outlinewidth": 0,
              "ticks": ""
             }
            },
            "type": "scattercarpet"
           }
          ],
          "scattergeo": [
           {
            "marker": {
             "colorbar": {
              "outlinewidth": 0,
              "ticks": ""
             }
            },
            "type": "scattergeo"
           }
          ],
          "scattergl": [
           {
            "marker": {
             "colorbar": {
              "outlinewidth": 0,
              "ticks": ""
             }
            },
            "type": "scattergl"
           }
          ],
          "scattermapbox": [
           {
            "marker": {
             "colorbar": {
              "outlinewidth": 0,
              "ticks": ""
             }
            },
            "type": "scattermapbox"
           }
          ],
          "scatterpolar": [
           {
            "marker": {
             "colorbar": {
              "outlinewidth": 0,
              "ticks": ""
             }
            },
            "type": "scatterpolar"
           }
          ],
          "scatterpolargl": [
           {
            "marker": {
             "colorbar": {
              "outlinewidth": 0,
              "ticks": ""
             }
            },
            "type": "scatterpolargl"
           }
          ],
          "scatterternary": [
           {
            "marker": {
             "colorbar": {
              "outlinewidth": 0,
              "ticks": ""
             }
            },
            "type": "scatterternary"
           }
          ],
          "surface": [
           {
            "colorbar": {
             "outlinewidth": 0,
             "ticks": ""
            },
            "colorscale": [
             [
              0,
              "#0d0887"
             ],
             [
              0.1111111111111111,
              "#46039f"
             ],
             [
              0.2222222222222222,
              "#7201a8"
             ],
             [
              0.3333333333333333,
              "#9c179e"
             ],
             [
              0.4444444444444444,
              "#bd3786"
             ],
             [
              0.5555555555555556,
              "#d8576b"
             ],
             [
              0.6666666666666666,
              "#ed7953"
             ],
             [
              0.7777777777777778,
              "#fb9f3a"
             ],
             [
              0.8888888888888888,
              "#fdca26"
             ],
             [
              1,
              "#f0f921"
             ]
            ],
            "type": "surface"
           }
          ],
          "table": [
           {
            "cells": {
             "fill": {
              "color": "#EBF0F8"
             },
             "line": {
              "color": "white"
             }
            },
            "header": {
             "fill": {
              "color": "#C8D4E3"
             },
             "line": {
              "color": "white"
             }
            },
            "type": "table"
           }
          ]
         },
         "layout": {
          "annotationdefaults": {
           "arrowcolor": "#2a3f5f",
           "arrowhead": 0,
           "arrowwidth": 1
          },
          "autotypenumbers": "strict",
          "coloraxis": {
           "colorbar": {
            "outlinewidth": 0,
            "ticks": ""
           }
          },
          "colorscale": {
           "diverging": [
            [
             0,
             "#8e0152"
            ],
            [
             0.1,
             "#c51b7d"
            ],
            [
             0.2,
             "#de77ae"
            ],
            [
             0.3,
             "#f1b6da"
            ],
            [
             0.4,
             "#fde0ef"
            ],
            [
             0.5,
             "#f7f7f7"
            ],
            [
             0.6,
             "#e6f5d0"
            ],
            [
             0.7,
             "#b8e186"
            ],
            [
             0.8,
             "#7fbc41"
            ],
            [
             0.9,
             "#4d9221"
            ],
            [
             1,
             "#276419"
            ]
           ],
           "sequential": [
            [
             0,
             "#0d0887"
            ],
            [
             0.1111111111111111,
             "#46039f"
            ],
            [
             0.2222222222222222,
             "#7201a8"
            ],
            [
             0.3333333333333333,
             "#9c179e"
            ],
            [
             0.4444444444444444,
             "#bd3786"
            ],
            [
             0.5555555555555556,
             "#d8576b"
            ],
            [
             0.6666666666666666,
             "#ed7953"
            ],
            [
             0.7777777777777778,
             "#fb9f3a"
            ],
            [
             0.8888888888888888,
             "#fdca26"
            ],
            [
             1,
             "#f0f921"
            ]
           ],
           "sequentialminus": [
            [
             0,
             "#0d0887"
            ],
            [
             0.1111111111111111,
             "#46039f"
            ],
            [
             0.2222222222222222,
             "#7201a8"
            ],
            [
             0.3333333333333333,
             "#9c179e"
            ],
            [
             0.4444444444444444,
             "#bd3786"
            ],
            [
             0.5555555555555556,
             "#d8576b"
            ],
            [
             0.6666666666666666,
             "#ed7953"
            ],
            [
             0.7777777777777778,
             "#fb9f3a"
            ],
            [
             0.8888888888888888,
             "#fdca26"
            ],
            [
             1,
             "#f0f921"
            ]
           ]
          },
          "colorway": [
           "#636efa",
           "#EF553B",
           "#00cc96",
           "#ab63fa",
           "#FFA15A",
           "#19d3f3",
           "#FF6692",
           "#B6E880",
           "#FF97FF",
           "#FECB52"
          ],
          "font": {
           "color": "#2a3f5f"
          },
          "geo": {
           "bgcolor": "white",
           "lakecolor": "white",
           "landcolor": "#E5ECF6",
           "showlakes": true,
           "showland": true,
           "subunitcolor": "white"
          },
          "hoverlabel": {
           "align": "left"
          },
          "hovermode": "closest",
          "mapbox": {
           "style": "light"
          },
          "paper_bgcolor": "white",
          "plot_bgcolor": "#E5ECF6",
          "polar": {
           "angularaxis": {
            "gridcolor": "white",
            "linecolor": "white",
            "ticks": ""
           },
           "bgcolor": "#E5ECF6",
           "radialaxis": {
            "gridcolor": "white",
            "linecolor": "white",
            "ticks": ""
           }
          },
          "scene": {
           "xaxis": {
            "backgroundcolor": "#E5ECF6",
            "gridcolor": "white",
            "gridwidth": 2,
            "linecolor": "white",
            "showbackground": true,
            "ticks": "",
            "zerolinecolor": "white"
           },
           "yaxis": {
            "backgroundcolor": "#E5ECF6",
            "gridcolor": "white",
            "gridwidth": 2,
            "linecolor": "white",
            "showbackground": true,
            "ticks": "",
            "zerolinecolor": "white"
           },
           "zaxis": {
            "backgroundcolor": "#E5ECF6",
            "gridcolor": "white",
            "gridwidth": 2,
            "linecolor": "white",
            "showbackground": true,
            "ticks": "",
            "zerolinecolor": "white"
           }
          },
          "shapedefaults": {
           "line": {
            "color": "#2a3f5f"
           }
          },
          "ternary": {
           "aaxis": {
            "gridcolor": "white",
            "linecolor": "white",
            "ticks": ""
           },
           "baxis": {
            "gridcolor": "white",
            "linecolor": "white",
            "ticks": ""
           },
           "bgcolor": "#E5ECF6",
           "caxis": {
            "gridcolor": "white",
            "linecolor": "white",
            "ticks": ""
           }
          },
          "title": {
           "x": 0.05
          },
          "xaxis": {
           "automargin": true,
           "gridcolor": "white",
           "linecolor": "white",
           "ticks": "",
           "title": {
            "standoff": 15
           },
           "zerolinecolor": "white",
           "zerolinewidth": 2
          },
          "yaxis": {
           "automargin": true,
           "gridcolor": "white",
           "linecolor": "white",
           "ticks": "",
           "title": {
            "standoff": 15
           },
           "zerolinecolor": "white",
           "zerolinewidth": 2
          }
         }
        },
        "title": {
         "text": "Optimization History Plot"
        },
        "xaxis": {
         "title": {
          "text": "Trial"
         }
        },
        "yaxis": {
         "title": {
          "text": "Objective Value"
         }
        }
       }
      }
     },
     "metadata": {},
     "output_type": "display_data"
    }
   ],
   "source": [
    "p_history_feat_eng = optuna.visualization.plot_optimization_history(study_feat_eng)\n",
    "p_history_feat_eng.show()"
   ]
  }
 ],
 "metadata": {
  "kernelspec": {
   "display_name": "ml4hc",
   "language": "python",
   "name": "python3"
  },
  "language_info": {
   "codemirror_mode": {
    "name": "ipython",
    "version": 3
   },
   "file_extension": ".py",
   "mimetype": "text/x-python",
   "name": "python",
   "nbconvert_exporter": "python",
   "pygments_lexer": "ipython3",
   "version": "3.10.14"
  }
 },
 "nbformat": 4,
 "nbformat_minor": 2
}
