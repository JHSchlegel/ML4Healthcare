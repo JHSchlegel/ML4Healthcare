{
 "cells": [
  {
   "cell_type": "markdown",
   "id": "7c2ae36c",
   "metadata": {},
   "source": [
    "# Transformer Experiments"
   ]
  },
  {
   "cell_type": "markdown",
   "id": "58f3458d",
   "metadata": {},
   "source": [
    "## Packages and Presets"
   ]
  },
  {
   "cell_type": "code",
   "execution_count": 36,
   "id": "6fabd938",
   "metadata": {},
   "outputs": [
    {
     "name": "stdout",
     "output_type": "stream",
     "text": [
      "The blackcellmagic extension is already loaded. To reload it, use:\n",
      "  %reload_ext blackcellmagic\n",
      "The autoreload extension is already loaded. To reload it, use:\n",
      "  %reload_ext autoreload\n"
     ]
    }
   ],
   "source": [
    "\n",
    "import pandas as pd\n",
    "import numpy as np\n",
    "import torch\n",
    "import torch.nn as nn\n",
    "import torch.optim as optim\n",
    "import torch.nn.functional as F\n",
    "import yaml\n",
    "from icecream import ic\n",
    "\n",
    "\n",
    "import matplotlib.pyplot as plt\n",
    "import seaborn as sns   \n",
    "\n",
    "from sklearn.metrics import (\n",
    "    f1_score, \n",
    "    balanced_accuracy_score,\n",
    "    confusion_matrix,\n",
    "    ConfusionMatrixDisplay,\n",
    "    accuracy_score,\n",
    "    classification_report\n",
    ")\n",
    "from torch.utils.data import Dataset, DataLoader, TensorDataset\n",
    "\n",
    "from sklearn.model_selection import train_test_split\n",
    "\n",
    "from imblearn.over_sampling import SMOTE\n",
    "\n",
    "\n",
    "\n",
    "pd.set_option('display.max_columns', None)\n",
    "%load_ext blackcellmagic\n",
    "%load_ext autoreload"
   ]
  },
  {
   "cell_type": "code",
   "execution_count": 37,
   "id": "f498d9da",
   "metadata": {},
   "outputs": [],
   "source": [
    "DEVICE = torch.device(\"cuda:0\" if torch.cuda.is_available() else \"cpu\")\n",
    "\n",
    "input_dim = 1  # x_train.shape[1]\n",
    "\n",
    "hidden_dim = 128\n",
    "layer_dim = 2\n",
    "output_dim = 1"
   ]
  },
  {
   "cell_type": "markdown",
   "id": "311d7cd2",
   "metadata": {},
   "source": [
    "## Performance Evaluation"
   ]
  },
  {
   "cell_type": "code",
   "execution_count": 38,
   "id": "db4d30fc",
   "metadata": {},
   "outputs": [],
   "source": [
    "# Load data\n",
    "ptbdb_train = pd.read_csv(\"../../data/ptbdb_train.csv\", header=None)\n",
    "ptbdb_test = pd.read_csv(\"../../data/ptbdb_test.csv\", header = None)"
   ]
  },
  {
   "cell_type": "code",
   "execution_count": 39,
   "id": "f118410a",
   "metadata": {},
   "outputs": [],
   "source": [
    "x_train = ptbdb_train.iloc[:, :-1].values\n",
    "y_train = ptbdb_train.iloc[:, -1].values\n",
    "\n",
    "x_train, x_val, y_train, y_val = train_test_split(\n",
    "    x_train, y_train, test_size=0.2, random_state=42\n",
    ")\n",
    "\n",
    "sm = SMOTE(random_state=42)\n",
    "x_train, y_train = sm.fit_resample(x_train, y_train)\n",
    "\n",
    "\n",
    "x_test = ptbdb_test.iloc[:, :-1].values\n",
    "y_test = ptbdb_test.iloc[:, -1].values\n",
    "\n",
    "# Convert data to PyTorch tensors\n",
    "x_train_tensor = torch.tensor(x_train, dtype=torch.float32)\n",
    "y_train_tensor = torch.tensor(y_train, dtype=torch.float32)\n",
    "x_val_tensor = torch.tensor(x_val, dtype=torch.float32)\n",
    "y_val_tensor = torch.tensor(y_val, dtype=torch.float32)\n",
    "x_test_tensor = torch.tensor(x_test, dtype=torch.float32)\n",
    "y_test_tensor = torch.tensor(y_test, dtype=torch.float32)\n",
    "\n",
    "# Create TensorDatasets\n",
    "train_dataset = TensorDataset(x_train_tensor, y_train_tensor)\n",
    "val_dataset = TensorDataset(x_val_tensor, y_val_tensor)\n",
    "test_dataset = TensorDataset(x_test_tensor, y_test_tensor)\n",
    "\n",
    "# Create DataLoader\n",
    "\n",
    "train_loader = DataLoader(train_dataset, batch_size=32, shuffle=True)\n",
    "val_loader = DataLoader(val_dataset, batch_size=128, shuffle=False)\n",
    "test_loader = DataLoader(test_dataset, batch_size=128, shuffle=False)"
   ]
  },
  {
   "cell_type": "code",
   "execution_count": 40,
   "id": "5658a967",
   "metadata": {},
   "outputs": [
    {
     "name": "stdout",
     "output_type": "stream",
     "text": [
      "(11641, 188)\n",
      "(2911, 188)\n"
     ]
    }
   ],
   "source": [
    "print(ptbdb_train.shape)\n",
    "print(ptbdb_test.shape)"
   ]
  },
  {
   "cell_type": "markdown",
   "id": "df640557",
   "metadata": {},
   "source": [
    "## Evaluating Model Performance"
   ]
  },
  {
   "cell_type": "code",
   "execution_count": 41,
   "id": "07f49452",
   "metadata": {},
   "outputs": [],
   "source": [
    "class LSTM(nn.Module):\n",
    "    def __init__(\n",
    "        self, input_dim, hidden_dim, layer_dim, output_dim, bidirectional=False\n",
    "    ):\n",
    "        super().__init__()\n",
    "        self.input_dim = input_dim  # Size of the imput\n",
    "        self.hidden_dim = hidden_dim  # Number ho hidden size\n",
    "        self.layer_dim = layer_dim  # Number of hidden layer\n",
    "        self.target_size = output_dim  # Number of size of the output\n",
    "        self.lstm = nn.LSTM(\n",
    "            input_size=input_dim,\n",
    "            hidden_size=hidden_dim,\n",
    "            num_layers=layer_dim,\n",
    "            batch_first=False,\n",
    "            dropout=0.2,\n",
    "            bidirectional=bidirectional,\n",
    "        )\n",
    "        self.fc = nn.Sequential(\n",
    "            nn.Linear(2 * (1 + bidirectional) * hidden_dim, 256),\n",
    "            nn.ReLU(),\n",
    "            nn.Linear(256, output_dim),\n",
    "        )\n",
    "\n",
    "    def forward(self, input):\n",
    "        # ic(input.shape)\n",
    "        input = input.unsqueeze(2).permute(1, 0, 2)\n",
    "\n",
    "        # ic(input.shape)\n",
    "        out, _ = self.lstm(input)\n",
    "        # pooled = self.pool(out.transpose(1, 2)).squeeze(-1)\n",
    "        out = torch.concat([out.mean(dim=0), out.max(dim=0).values], dim=1)\n",
    "        logits = self.fc(out)\n",
    "        scores = F.sigmoid(logits)\n",
    "        return scores"
   ]
  },
  {
   "cell_type": "code",
   "execution_count": 42,
   "id": "96d9382f",
   "metadata": {},
   "outputs": [],
   "source": [
    "def test(\n",
    "    model: nn.Module,\n",
    "    test_loader: DataLoader,\n",
    "    criterion: nn.Module,\n",
    "    device: torch.device = torch.device(\"cuda\" if torch.cuda.is_available() else \"cpu\"),\n",
    ") -> tuple[float, float, float]:\n",
    "    test_loss = 0.0\n",
    "    y_true = []\n",
    "    y_pred = []\n",
    "    model_probs = []\n",
    "    with torch.no_grad():\n",
    "        model.eval()\n",
    "        for inputs, labels in test_loader:\n",
    "            labels = labels.unsqueeze(1)\n",
    "            y_true.extend(labels.numpy())\n",
    "            logits = model(inputs.to(device))\n",
    "            # logits = logits.detach().cpu().numpy().round().astype(int)\n",
    "            # probs = F.sigmoid(logits)\n",
    "            y_pred.extend(logits.detach().cpu().numpy().round().astype(int))\n",
    "            # model_probs.extend(probs)\n",
    "            # print(probs)\n",
    "            # print(y_pred)\n",
    "            # calculate validation loss\n",
    "            loss = criterion(logits, labels.to(device))\n",
    "            test_loss += loss.item()\n",
    "            # avg valdation loss for epoch\n",
    "        test_loss /= len(test_loader)\n",
    "        # calculate validation f1 score and balanced accuracy\n",
    "    f1 = f1_score(y_true, y_pred)\n",
    "    bal_acc = balanced_accuracy_score(y_true, y_pred)\n",
    "\n",
    "    print(f\"Test Loss: {test_loss}\")\n",
    "    print(f\"Test F1 Score: {f1}\")\n",
    "    print(f\"Test Balanced Accuracy: {bal_acc}\")\n",
    "\n",
    "    return test_loss, y_pred, y_true"
   ]
  },
  {
   "cell_type": "markdown",
   "id": "8b7226e6",
   "metadata": {},
   "source": [
    "### Unidirectional LSTM:"
   ]
  },
  {
   "cell_type": "code",
   "execution_count": 43,
   "id": "2174a346",
   "metadata": {},
   "outputs": [],
   "source": [
    "model = model = LSTM(input_dim, hidden_dim, layer_dim, output_dim, bidirectional=False).to(\n",
    "    DEVICE\n",
    ")\n",
    "model.load_state_dict(\n",
    "    torch.load(\"../weights/lstm_unidirectional.pth\", map_location=DEVICE)\n",
    ")\n",
    "model = model.to(DEVICE)"
   ]
  },
  {
   "cell_type": "code",
   "execution_count": 44,
   "id": "6c457f4e",
   "metadata": {},
   "outputs": [
    {
     "name": "stdout",
     "output_type": "stream",
     "text": [
      "Test Loss: 0.03785322151025352\n",
      "Test F1 Score: 0.9933269780743565\n",
      "Test Balanced Accuracy: 0.9895378937476698\n"
     ]
    }
   ],
   "source": [
    "loss_function = nn.BCELoss()\n",
    "optim = torch.optim.Adam(model.parameters(), lr=3e-4)\n",
    "DEVICE = torch.device(\"cuda\" if torch.cuda.is_available() else \"cpu\")\n",
    "\n",
    "test_loss, y_preds, y_true = test(model, test_loader, loss_function, DEVICE)"
   ]
  },
  {
   "cell_type": "code",
   "execution_count": 45,
   "id": "ab9b2225",
   "metadata": {},
   "outputs": [
    {
     "data": {
      "text/plain": [
       "<sklearn.metrics._plot.confusion_matrix.ConfusionMatrixDisplay at 0x7fcbb8a1b7c0>"
      ]
     },
     "execution_count": 45,
     "metadata": {},
     "output_type": "execute_result"
    },
    {
     "data": {
      "image/png": "[encoded data removed]",
      "text/plain": [
       "<Figure size 640x480 with 2 Axes>"
      ]
     },
     "metadata": {},
     "output_type": "display_data"
    }
   ],
   "source": [
    "cm = confusion_matrix(y_true, y_preds)\n",
    "disp = ConfusionMatrixDisplay(confusion_matrix=cm, display_labels=[0, 1])\n",
    "disp.plot()"
   ]
  },
  {
   "cell_type": "code",
   "execution_count": 46,
   "id": "5982df1b",
   "metadata": {},
   "outputs": [
    {
     "name": "stdout",
     "output_type": "stream",
     "text": [
      "Test loss: 0.037853\n",
      "Test accuracy: 0.990381\n",
      "Test balanced accuracy: 0.989538\n",
      "Test f1 score: 0.993327\n",
      "Test precision: 0.995224\n",
      "Test recall: 0.991437\n"
     ]
    }
   ],
   "source": [
    "# calculate precision and recall:\n",
    "tn, fp, fn, tp = cm.ravel()\n",
    "precision = tp / (tp + fp)\n",
    "recall = tp / (tp + fn)\n",
    "\n",
    "print(f\"Test loss: {test_loss:.6f}\")\n",
    "print(f\"Test accuracy: {accuracy_score(y_true, y_preds):.6f}\")\n",
    "print(f\"Test balanced accuracy: {balanced_accuracy_score(y_true, y_preds):.6f}\")\n",
    "print(f\"Test f1 score: {f1_score(y_true, y_preds):.6f}\")\n",
    "print(f\"Test precision: {precision:.6f}\")\n",
    "print(f\"Test recall: {recall:.6f}\")"
   ]
  },
  {
   "cell_type": "code",
   "execution_count": 47,
   "id": "84b4cb0e",
   "metadata": {},
   "outputs": [
    {
     "name": "stdout",
     "output_type": "stream",
     "text": [
      "              precision    recall  f1-score   support\n",
      "\n",
      "         0.0       0.98      0.99      0.98       809\n",
      "         1.0       1.00      0.99      0.99      2102\n",
      "\n",
      "    accuracy                           0.99      2911\n",
      "   macro avg       0.99      0.99      0.99      2911\n",
      "weighted avg       0.99      0.99      0.99      2911\n",
      "\n"
     ]
    }
   ],
   "source": [
    "print(classification_report(y_true, y_preds))"
   ]
  },
  {
   "cell_type": "markdown",
   "id": "31d9c3f5",
   "metadata": {},
   "source": [
    "## Bidirectional:"
   ]
  },
  {
   "cell_type": "code",
   "execution_count": 48,
   "id": "9c42b620",
   "metadata": {},
   "outputs": [],
   "source": [
    "model = model = LSTM(input_dim, hidden_dim, layer_dim, output_dim, bidirectional=True).to(\n",
    "    DEVICE\n",
    ")\n",
    "model.load_state_dict(\n",
    "    torch.load(\"../weights/lstm_bidirectional.pth\", map_location=DEVICE)\n",
    ")\n",
    "model = model.to(DEVICE)"
   ]
  },
  {
   "cell_type": "code",
   "execution_count": 49,
   "id": "8e62684c",
   "metadata": {},
   "outputs": [
    {
     "name": "stdout",
     "output_type": "stream",
     "text": [
      "Test Loss: 0.12287476200372507\n",
      "Test F1 Score: 0.995249406175772\n",
      "Test Balanced Accuracy: 0.9903003084942352\n"
     ]
    }
   ],
   "source": [
    "loss_function = nn.BCELoss()\n",
    "optim = torch.optim.Adam(model.parameters(), lr=3e-4)\n",
    "DEVICE = torch.device(\"cuda\" if torch.cuda.is_available() else \"cpu\")\n",
    "\n",
    "test_loss, y_preds, y_true = test(model, test_loader, loss_function, DEVICE)"
   ]
  },
  {
   "cell_type": "code",
   "execution_count": 50,
   "id": "6768a977",
   "metadata": {},
   "outputs": [
    {
     "data": {
      "text/plain": [
       "<sklearn.metrics._plot.confusion_matrix.ConfusionMatrixDisplay at 0x7fcbb982b010>"
      ]
     },
     "execution_count": 50,
     "metadata": {},
     "output_type": "execute_result"
    },
    {
     "data": {
      "image/png": "[encoded data removed]",
      "text/plain": [
       "<Figure size 640x480 with 2 Axes>"
      ]
     },
     "metadata": {},
     "output_type": "display_data"
    }
   ],
   "source": [
    "cm = confusion_matrix(y_true, y_preds)\n",
    "disp = ConfusionMatrixDisplay(confusion_matrix=cm, display_labels=[0, 1])\n",
    "disp.plot()"
   ]
  },
  {
   "cell_type": "code",
   "execution_count": 51,
   "id": "35b892eb",
   "metadata": {},
   "outputs": [
    {
     "name": "stdout",
     "output_type": "stream",
     "text": [
      "Test loss: 0.122875\n",
      "Test accuracy: 0.993130\n",
      "Test balanced accuracy: 0.990300\n",
      "Test f1 score: 0.995249\n",
      "Test precision: 0.993833\n",
      "Test recall: 0.996670\n"
     ]
    }
   ],
   "source": [
    "# calculate precision and recall:\n",
    "tn, fp, fn, tp = cm.ravel()\n",
    "precision = tp / (tp + fp)\n",
    "recall = tp / (tp + fn)\n",
    "\n",
    "print(f\"Test loss: {test_loss:.6f}\")\n",
    "print(f\"Test accuracy: {accuracy_score(y_true, y_preds):.6f}\")\n",
    "print(f\"Test balanced accuracy: {balanced_accuracy_score(y_true, y_preds):.6f}\")\n",
    "print(f\"Test f1 score: {f1_score(y_true, y_preds):.6f}\")\n",
    "print(f\"Test precision: {precision:.6f}\")\n",
    "print(f\"Test recall: {recall:.6f}\")"
   ]
  },
  {
   "cell_type": "code",
   "execution_count": 52,
   "id": "050401d1",
   "metadata": {},
   "outputs": [
    {
     "name": "stdout",
     "output_type": "stream",
     "text": [
      "              precision    recall  f1-score   support\n",
      "\n",
      "         0.0       0.99      0.98      0.99       809\n",
      "         1.0       0.99      1.00      1.00      2102\n",
      "\n",
      "    accuracy                           0.99      2911\n",
      "   macro avg       0.99      0.99      0.99      2911\n",
      "weighted avg       0.99      0.99      0.99      2911\n",
      "\n"
     ]
    }
   ],
   "source": [
    "print(classification_report(y_true, y_preds))"
   ]
  }
 ],
 "metadata": {
  "kernelspec": {
   "display_name": "Python 3",
   "language": "python",
   "name": "python3"
  },
  "language_info": {
   "codemirror_mode": {
    "name": "ipython",
    "version": 3
   },
   "file_extension": ".py",
   "mimetype": "text/x-python",
   "name": "python",
   "nbconvert_exporter": "python",
   "pygments_lexer": "ipython3",
   "version": "3.10.14"
  }
 },
 "nbformat": 4,
 "nbformat_minor": 5
}
