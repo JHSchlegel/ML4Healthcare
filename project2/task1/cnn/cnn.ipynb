{
 "cells": [
  {
   "cell_type": "code",
   "execution_count": 1,
   "metadata": {},
   "outputs": [],
   "source": [
    "import pandas as pd\n",
    "import numpy as np\n",
    "import torch\n",
    "import torch.nn as nn\n",
    "import torch.optim as optim\n",
    "import torch.nn.functional as F\n",
    "import yaml\n",
    "import math\n",
    "from tqdm import tqdm, trange\n",
    "import os\n",
    "\n",
    "import matplotlib.pyplot as plt\n",
    "import seaborn as sns   \n",
    "\n",
    "import copy\n",
    "from tqdm import tqdm\n",
    "\n",
    "from sklearn.metrics import (\n",
    "    f1_score, \n",
    "    balanced_accuracy_score, \n",
    "    confusion_matrix,\n",
    "    ConfusionMatrixDisplay, \n",
    "    accuracy_score,\n",
    "    classification_report\n",
    ")\n",
    "from torch.utils.data import Dataset, DataLoader\n",
    "\n",
    "from sklearn.model_selection import train_test_split\n",
    "\n",
    "from torch.utils.tensorboard import SummaryWriter\n",
    "from imblearn.over_sampling import SMOTE\n",
    "\n",
    "import warnings\n",
    "from cnn_utils import (\n",
    "    PTB_Dataset,\n",
    "    EarlyStopping,\n",
    "    set_all_seeds,\n",
    "    train_and_validate,\n",
    "    test,\n",
    ")\n",
    "\n",
    "from torch import Tensor\n",
    "\n",
    "pd.set_option('display.max_columns', None)"
   ]
  },
  {
   "cell_type": "code",
   "execution_count": 2,
   "metadata": {},
   "outputs": [],
   "source": [
    "DEVICE = torch.device(\"cuda:0\" if torch.cuda.is_available() else \"cpu\")\n",
    "SEED = 42\n",
    "\n",
    "TRAIN_BATCH_SIZE = 32\n",
    "VAL_BATCH_SIZE = 256\n",
    "TEST_BATCH_SIZE = 256\n",
    "\n",
    "N_EPOCHS=200\n"
   ]
  },
  {
   "cell_type": "code",
   "execution_count": 5,
   "metadata": {},
   "outputs": [],
   "source": [
    "path= r'C:\\Users\\pauls\\Desktop\\Studium\\Machine Learning for Health Care\\Projekt 2\\project2_TS_input'\n",
    "#path = \"../../data\""
   ]
  },
  {
   "cell_type": "code",
   "execution_count": 6,
   "metadata": {},
   "outputs": [],
   "source": [
    "# Load data\n",
    "train_df = pd.read_csv(os.path.join(path, 'ptbdb_train.csv'), header=None)\n",
    "test_df = pd.read_csv(os.path.join(path, 'ptbdb_test.csv'), header=None)"
   ]
  },
  {
   "cell_type": "code",
   "execution_count": 7,
   "metadata": {},
   "outputs": [],
   "source": [
    "X_train_full = train_df.iloc[:, :-1].to_numpy()\n",
    "y_train_full = train_df.iloc[:, -1].to_numpy()\n",
    "\n",
    "X_test = test_df.iloc[:, :-1].to_numpy()\n",
    "y_test = test_df.iloc[:, -1].to_numpy()"
   ]
  },
  {
   "cell_type": "markdown",
   "metadata": {},
   "source": [
    "Split into train and validation sets:"
   ]
  },
  {
   "cell_type": "code",
   "execution_count": 8,
   "metadata": {},
   "outputs": [],
   "source": [
    "X_train, X_val, y_train, y_val = train_test_split(\n",
    "    X_train_full, y_train_full, test_size=0.2, stratify=y_train_full, random_state=SEED\n",
    ")"
   ]
  },
  {
   "cell_type": "markdown",
   "metadata": {},
   "source": [
    "Moreover, to deal with the large class imbalance, which we discovered in our EDA, we will use SMOTE oversampling to balance the classes in the training set and provide some data augmentation."
   ]
  },
  {
   "cell_type": "code",
   "execution_count": 9,
   "metadata": {},
   "outputs": [],
   "source": [
    "sm = SMOTE(random_state=SEED)\n",
    "X_train, y_train = sm.fit_resample(X_train, y_train)"
   ]
  },
  {
   "cell_type": "code",
   "execution_count": 10,
   "metadata": {},
   "outputs": [],
   "source": [
    "train_loader = DataLoader(\n",
    "        PTB_Dataset(X_train, y_train),\n",
    "        batch_size=TRAIN_BATCH_SIZE,\n",
    "        shuffle=True,\n",
    "        pin_memory=True,\n",
    "        num_workers=0,\n",
    "    )\n",
    "val_loader = DataLoader(\n",
    "    PTB_Dataset(X_val, y_val),\n",
    "    batch_size=VAL_BATCH_SIZE,\n",
    "    shuffle=False,\n",
    "    pin_memory=True,\n",
    "    num_workers=0,\n",
    ")\n",
    "\n",
    "test_loader = DataLoader(\n",
    "    PTB_Dataset(X_test, y_test),\n",
    "    batch_size=TEST_BATCH_SIZE,\n",
    "    shuffle=False,\n",
    "    pin_memory=True,\n",
    "    num_workers=0,\n",
    ")"
   ]
  },
  {
   "cell_type": "markdown",
   "metadata": {},
   "source": [
    "# The CNN:"
   ]
  },
  {
   "cell_type": "markdown",
   "metadata": {},
   "source": [
    "## CNN Class Definition: "
   ]
  },
  {
   "cell_type": "code",
   "execution_count": 15,
   "metadata": {},
   "outputs": [],
   "source": [
    "class CNN(nn.Module):\n",
    "    def __init__(self, classes_num: int, in_channels: int):\n",
    "        super().__init__()\n",
    "\n",
    "        # Initial convolution layer\n",
    "        # self.conv = nn.Conv1d(\n",
    "        #     in_channels=in_channels, \n",
    "        #     out_channels=16, \n",
    "        #     #kernel_size=(3, 3), \n",
    "        #     kernel_size=3,\n",
    "        #     padding='same', \n",
    "        #     bias=False\n",
    "        # )\n",
    "        # self.bn = nn.BatchNorm1d(16)\n",
    "        # self.relu = nn.ReLU()\n",
    "        self.conv1 = self._create_conv_block(in_channels, 32, 3, 1)\n",
    "        self.conv2 = self._create_conv_block(32, 64, 3, 1)\n",
    "        self.conv3 = self._create_conv_block(64, 128, 3, 1)\n",
    "        self.adaptive_pool = nn.AdaptiveAvgPool1d(output_size = 10)\n",
    "        \n",
    "\n",
    "        #Out features from the 4 blocks of residual layers: 128\n",
    "        \n",
    "        \n",
    "        # Flattening and final linear layer\n",
    "        self.flatten = nn.Flatten(1)\n",
    "        #self.dropout = nn.Dropout(p=0.2)\n",
    "        self.fc = nn.Sequential(\n",
    "            nn.Linear(1280, 256),\n",
    "            nn.Hardswish(),\n",
    "            nn.Dropout(p=0.2),  \n",
    "            nn.Linear(256, classes_num)\n",
    "        )\n",
    "\n",
    "    def forward(self, x: Tensor) -> Tensor:\n",
    "        x = x.unsqueeze(1)    \n",
    "        x = self.conv1(x)\n",
    "        x = self.conv2(x)\n",
    "        x = self.conv3(x)\n",
    "        x = self.adaptive_pool(x)\n",
    "        \n",
    "        x = self.flatten(x)\n",
    "        x = self.fc(x)\n",
    "        return x\n",
    "    \n",
    "    def _create_conv_block(self, in_channels: int, out_channels: int, kernel_size: int, stride: int):\n",
    "        return nn.Sequential(\n",
    "            nn.Conv1d(\n",
    "                in_channels=in_channels, \n",
    "                out_channels=out_channels, \n",
    "                kernel_size=kernel_size, \n",
    "                stride=stride, \n",
    "                padding=1, \n",
    "                bias=False\n",
    "            ),\n",
    "            nn.BatchNorm1d(out_channels),\n",
    "            nn.ReLU(),\n",
    "            nn.MaxPool1d(kernel_size=2, stride=2)\n",
    "        )\n",
    "\n",
    "\n",
    "set_all_seeds(SEED)\n",
    "model=CNN(classes_num=2, in_channels=1)"
   ]
  },
  {
   "cell_type": "markdown",
   "metadata": {},
   "source": [
    "## CNN with residual blocks:"
   ]
  },
  {
   "cell_type": "code",
   "execution_count": 59,
   "metadata": {},
   "outputs": [],
   "source": [
    "# We based our CNN with residual blocks on this: https://medium.com/@chen-yu/building-a-customized-residual-cnn-with-pytorch-471810e894ed\n",
    "\n",
    "\n",
    "class ResidualBlock(nn.Module):\n",
    "    def __init__(self, in_channels: int, out_channels: int) -> None:\n",
    "        super().__init__()\n",
    "        self.conv1 = nn.Conv1d(\n",
    "            in_channels=in_channels, \n",
    "            out_channels=out_channels, \n",
    "            kernel_size=3, \n",
    "            padding='same', \n",
    "            bias=False\n",
    "        )\n",
    "        self.bn1 = nn.BatchNorm1d(out_channels)\n",
    "        self.relu = nn.ReLU()\n",
    "        self.conv2 = nn.Conv1d(\n",
    "            in_channels=out_channels, \n",
    "            out_channels=out_channels, \n",
    "            kernel_size=3, \n",
    "            padding='same', \n",
    "            bias=False\n",
    "        )\n",
    "        self.bn2 = nn.BatchNorm1d(out_channels)\n",
    "        \n",
    "        self.downsample = None\n",
    "        if in_channels != out_channels:\n",
    "            self.downsample = nn.Sequential(\n",
    "                nn.Conv1d(\n",
    "                    in_channels, \n",
    "                    out_channels, \n",
    "                    kernel_size=3, \n",
    "                    padding='same', \n",
    "                    bias=False\n",
    "                ),\n",
    "                nn.BatchNorm1d(out_channels)\n",
    "            )\n",
    "\n",
    "    def forward(self, x: Tensor) -> Tensor:\n",
    "        identity = self.downsample(x) if self.downsample else x\n",
    "        \n",
    "        x = self.conv1(x)\n",
    "        x = self.bn1(x)\n",
    "        x = self.relu(x)\n",
    "        x = self.conv2(x)\n",
    "        x = self.bn2(x)\n",
    "        x = self.relu(x + identity)\n",
    "\n",
    "        return x\n",
    "    "
   ]
  },
  {
   "cell_type": "code",
   "execution_count": 66,
   "metadata": {},
   "outputs": [],
   "source": [
    "class ResidualCNN(nn.Module):\n",
    "    def __init__(self, classes_num: int, in_channels: int = 1, image_size: tuple = (128, 128)):\n",
    "        super().__init__()\n",
    "\n",
    "        self.conv = self._create_conv_block(in_channels=in_channels, out_channels=32, kernel_size=3, stride=1)\n",
    "\n",
    "        # First block of residual layers and pooling\n",
    "        self.layer1 = nn.Sequential(\n",
    "            ResidualBlock(32, 16),\n",
    "            ResidualBlock(16, 16),\n",
    "            ResidualBlock(16, 16),\n",
    "            nn.AvgPool1d(kernel_size=2, stride=2)\n",
    "        )\n",
    "        \n",
    "        # Second block of residual layers and pooling\n",
    "        self.layer2 = nn.Sequential(\n",
    "            ResidualBlock(16, 32),\n",
    "            ResidualBlock(32, 32),\n",
    "            ResidualBlock(32, 32),\n",
    "            nn.AvgPool1d(kernel_size=2, stride=2)\n",
    "        )\n",
    "        \n",
    "        # Third block of residual layers and pooling\n",
    "        self.layer3 = nn.Sequential(\n",
    "            ResidualBlock(32, 64),\n",
    "            ResidualBlock(64, 64),\n",
    "            ResidualBlock(64, 64),\n",
    "            nn.AvgPool1d(kernel_size=2, stride=2)\n",
    "        )\n",
    "        \n",
    "        # Fourth block of residual layers and pooling\n",
    "        self.layer4 = nn.Sequential(\n",
    "            ResidualBlock(64, 128),\n",
    "            ResidualBlock(128, 128),\n",
    "            ResidualBlock(128, 128),\n",
    "            nn.AvgPool1d(kernel_size=2, stride=2)\n",
    "        )\n",
    "        \n",
    "        # Flattening and final linear layer\n",
    "        self.flatten = nn.Flatten(1)\n",
    "        self.dropout = nn.Dropout(p=0.2)\n",
    "        self.linear = nn.Linear(\n",
    "            in_features=int(640),\n",
    "            out_features=classes_num\n",
    "        )\n",
    "\n",
    "    def forward(self, x: Tensor) -> Tensor:\n",
    "        x = x.unsqueeze(1) # Add channel dimension\n",
    "        x = self.conv(x)\n",
    "\n",
    "        x = self.layer1(x)\n",
    "        x = self.layer2(x)\n",
    "        x = self.layer3(x)\n",
    "        x = self.layer4(x)\n",
    "\n",
    "        x = self.flatten(x)\n",
    "        x = self.dropout(x)\n",
    "        x = self.linear(x)\n",
    "\n",
    "        return x\n",
    "    \n",
    "    def _create_conv_block(self, in_channels: int, out_channels: int, kernel_size: int, stride: int):\n",
    "        return nn.Sequential(\n",
    "            nn.Conv1d(\n",
    "                in_channels=in_channels, \n",
    "                out_channels=out_channels, \n",
    "                kernel_size=kernel_size, \n",
    "                stride=stride, \n",
    "                padding=1, \n",
    "                bias=False\n",
    "            ),\n",
    "            nn.BatchNorm1d(out_channels),\n",
    "            nn.ReLU(),\n",
    "            nn.MaxPool1d(kernel_size=2, stride=2)\n",
    "        )\n",
    "    \n",
    "model_res=ResidualCNN(classes_num=2, in_channels=1)\n"
   ]
  },
  {
   "cell_type": "code",
   "execution_count": 67,
   "metadata": {},
   "outputs": [
    {
     "name": "stderr",
     "output_type": "stream",
     "text": [
      "c:\\Users\\pauls\\miniconda3\\envs\\introtoml\\lib\\site-packages\\torch\\optim\\lr_scheduler.py:28: UserWarning: The verbose parameter is deprecated. Please use get_last_lr() to access the learning rate.\n",
      "  warnings.warn(\"The verbose parameter is deprecated. Please use get_last_lr() \"\n",
      "  0%|          | 0/200 [00:00<?, ?it/s]"
     ]
    },
    {
     "name": "stderr",
     "output_type": "stream",
     "text": [
      "Training Transformer: 100%|██████████| 200/200 [3:20:39<00:00, 60.20s/it, train_balanced_acc=1, train_loss=1.18e-6, val_balanced_acc=0.997, val_loss=0.000115]    \n"
     ]
    }
   ],
   "source": [
    "model_res = model_res.to(DEVICE)\n",
    "\n",
    "optimizer_res = optim.AdamW(model_res.parameters(), lr=0.005, weight_decay=0.0001)\n",
    "criterion = torch.nn.CrossEntropyLoss()\n",
    "scheduler = optim.lr_scheduler.ReduceLROnPlateau(\n",
    "    optimizer_res, \"min\", factor=0.5, patience=5, threshold=1e-06, verbose=1\n",
    ")\n",
    "early_stopping = EarlyStopping(start=20, patience=20, verbose=1, mode=\"max\")\n",
    "summary_writer = SummaryWriter(log_dir=\"logs/cnn\")\n",
    "\n",
    "model_res = train_and_validate(\n",
    "    model = model_res,\n",
    "    optimizer = optimizer_res,\n",
    "    scheduler = scheduler,\n",
    "    criterion = criterion,\n",
    "    train_loader = train_loader,\n",
    "    val_loader = val_loader,\n",
    "    best_model_path = \"../weights/cnn_res_blocks.pth\", #os.path.join(path, 'cnn_best_model.pth'),\n",
    "    device = DEVICE,\n",
    "    num_epochs = N_EPOCHS,\n",
    "    ES = early_stopping,\n",
    "    summary_writer = summary_writer\n",
    ")"
   ]
  },
  {
   "cell_type": "markdown",
   "metadata": {},
   "source": [
    "## Training the CNN:"
   ]
  },
  {
   "cell_type": "code",
   "execution_count": 13,
   "metadata": {},
   "outputs": [
    {
     "ename": "NameError",
     "evalue": "name 'model' is not defined",
     "output_type": "error",
     "traceback": [
      "\u001b[1;31m---------------------------------------------------------------------------\u001b[0m",
      "\u001b[1;31mNameError\u001b[0m                                 Traceback (most recent call last)",
      "Cell \u001b[1;32mIn[13], line 1\u001b[0m\n\u001b[1;32m----> 1\u001b[0m model \u001b[38;5;241m=\u001b[39m \u001b[43mmodel\u001b[49m\u001b[38;5;241m.\u001b[39mto(DEVICE)\n\u001b[0;32m      3\u001b[0m optimizer \u001b[38;5;241m=\u001b[39m optim\u001b[38;5;241m.\u001b[39mAdamW(model\u001b[38;5;241m.\u001b[39mparameters(), lr\u001b[38;5;241m=\u001b[39m\u001b[38;5;241m0.005\u001b[39m, weight_decay\u001b[38;5;241m=\u001b[39m\u001b[38;5;241m0.0001\u001b[39m)\n\u001b[0;32m      4\u001b[0m criterion \u001b[38;5;241m=\u001b[39m torch\u001b[38;5;241m.\u001b[39mnn\u001b[38;5;241m.\u001b[39mCrossEntropyLoss()\n",
      "\u001b[1;31mNameError\u001b[0m: name 'model' is not defined"
     ]
    }
   ],
   "source": [
    "model = model.to(DEVICE)\n",
    "\n",
    "optimizer = optim.AdamW(model.parameters(), lr=0.005, weight_decay=0.0001)\n",
    "criterion = torch.nn.CrossEntropyLoss()\n",
    "scheduler = optim.lr_scheduler.ReduceLROnPlateau(\n",
    "    optimizer, \"min\", factor=0.5, patience=5, threshold=1e-06, verbose=1\n",
    ")\n",
    "early_stopping = EarlyStopping(start=20, patience=20, verbose=1, mode=\"max\")\n",
    "summary_writer = SummaryWriter(log_dir=\"logs/cnn\")"
   ]
  },
  {
   "cell_type": "code",
   "execution_count": 17,
   "metadata": {},
   "outputs": [
    {
     "name": "stderr",
     "output_type": "stream",
     "text": [
      "Training Transformer:  25%|██▌       | 50/200 [01:35<04:45,  1.91s/it, train_balanced_acc=1, train_loss=4.37e-6, val_balanced_acc=0.994, val_loss=0.000275]     "
     ]
    },
    {
     "name": "stdout",
     "output_type": "stream",
     "text": [
      "Early stopping at epoch 50. Best score was 0.9942 in epoch 30.\n"
     ]
    },
    {
     "name": "stderr",
     "output_type": "stream",
     "text": [
      "\n"
     ]
    }
   ],
   "source": [
    "model = train_and_validate(\n",
    "    model = model,\n",
    "    optimizer = optimizer,\n",
    "    scheduler = scheduler,\n",
    "    criterion = criterion,\n",
    "    train_loader = train_loader,\n",
    "    val_loader = val_loader,\n",
    "    best_model_path = \"../weights/cnn_no_res_blocks.pth\", #os.path.join(path, 'cnn_best_model.pth'),\n",
    "    device = DEVICE,\n",
    "    num_epochs = N_EPOCHS,\n",
    "    ES = early_stopping,\n",
    "    summary_writer = summary_writer\n",
    ")"
   ]
  },
  {
   "cell_type": "markdown",
   "metadata": {},
   "source": [
    "## Evaluating the CNN:"
   ]
  },
  {
   "cell_type": "code",
   "execution_count": 18,
   "metadata": {},
   "outputs": [
    {
     "name": "stdout",
     "output_type": "stream",
     "text": [
      "Test loss: 0.0004, Test accuracy: 0.9966, Test balanced accuracy: 0.9946, Test F1 score: 0.9976\n"
     ]
    }
   ],
   "source": [
    "model_probs, y_preds, y_true, test_loss = test(\n",
    "    model = model,\n",
    "    criterion = criterion, \n",
    "    test_loader = test_loader, \n",
    "    device = DEVICE\n",
    ")"
   ]
  },
  {
   "cell_type": "code",
   "execution_count": 19,
   "metadata": {},
   "outputs": [
    {
     "data": {
      "text/plain": [
       "<sklearn.metrics._plot.confusion_matrix.ConfusionMatrixDisplay at 0x7f6737842350>"
      ]
     },
     "execution_count": 19,
     "metadata": {},
     "output_type": "execute_result"
    },
    {
     "data": {
      "image/png": "[encoded data removed]",
      "text/plain": [
       "<Figure size 640x480 with 2 Axes>"
      ]
     },
     "metadata": {},
     "output_type": "display_data"
    }
   ],
   "source": [
    "cm = confusion_matrix(y_true, y_preds)\n",
    "disp = ConfusionMatrixDisplay(confusion_matrix=cm, display_labels=[0, 1])\n",
    "disp.plot()"
   ]
  },
  {
   "cell_type": "code",
   "execution_count": 20,
   "metadata": {},
   "outputs": [
    {
     "name": "stdout",
     "output_type": "stream",
     "text": [
      "Test loss: 0.000403\n",
      "Test accuracy: 0.996565\n",
      "Test balanced accuracy: 0.994580\n",
      "Test f1 score: 0.997625\n",
      "Test precision: 0.996205\n",
      "Test recall: 0.999049\n"
     ]
    }
   ],
   "source": [
    "# calculate precision and recall:\n",
    "tn, fp, fn, tp = cm.ravel()\n",
    "precision = tp / (tp + fp)\n",
    "recall = tp / (tp + fn)\n",
    "\n",
    "print(f\"Test loss: {test_loss:.6f}\")\n",
    "print(f\"Test accuracy: {accuracy_score(y_true, y_preds):.6f}\")\n",
    "print(f\"Test balanced accuracy: {balanced_accuracy_score(y_true, y_preds):.6f}\")\n",
    "print(f\"Test f1 score: {f1_score(y_true, y_preds):.6f}\")\n",
    "print(f\"Test precision: {precision:.6f}\")\n",
    "print(f\"Test recall: {recall:.6f}\")"
   ]
  },
  {
   "cell_type": "code",
   "execution_count": 23,
   "metadata": {},
   "outputs": [
    {
     "name": "stdout",
     "output_type": "stream",
     "text": [
      "              precision    recall  f1-score   support\n",
      "\n",
      "           0       1.00      0.99      0.99       809\n",
      "           1       1.00      1.00      1.00      2102\n",
      "\n",
      "    accuracy                           1.00      2911\n",
      "   macro avg       1.00      0.99      1.00      2911\n",
      "weighted avg       1.00      1.00      1.00      2911\n",
      "\n"
     ]
    }
   ],
   "source": [
    "print(classification_report(y_true, y_preds))"
   ]
  },
  {
   "cell_type": "code",
   "execution_count": null,
   "metadata": {},
   "outputs": [
    {
     "data": {
      "text/plain": [
       "'../../datacnn_best_model.pth'"
      ]
     },
     "execution_count": 30,
     "metadata": {},
     "output_type": "execute_result"
    }
   ],
   "source": [
    "path+'cnn_best_model.pth'"
   ]
  },
  {
   "cell_type": "markdown",
   "metadata": {},
   "source": [
    "## Evaluating the CNN with residual blocks"
   ]
  },
  {
   "cell_type": "code",
   "execution_count": 68,
   "metadata": {},
   "outputs": [
    {
     "name": "stdout",
     "output_type": "stream",
     "text": [
      "Test loss: 0.0003, Test accuracy: 0.9969, Test balanced accuracy: 0.9952, Test F1 score: 0.9979\n"
     ]
    }
   ],
   "source": [
    "model_probs, y_preds, y_true, test_loss = test(\n",
    "    model = model_res,\n",
    "    criterion = criterion, \n",
    "    test_loader = test_loader, \n",
    "    device = DEVICE\n",
    ")"
   ]
  },
  {
   "cell_type": "code",
   "execution_count": 69,
   "metadata": {},
   "outputs": [
    {
     "data": {
      "text/plain": [
       "<sklearn.metrics._plot.confusion_matrix.ConfusionMatrixDisplay at 0x1d8bdb11c10>"
      ]
     },
     "execution_count": 69,
     "metadata": {},
     "output_type": "execute_result"
    },
    {
     "data": {
      "image/png": "[encoded data removed]",
      "text/plain": [
       "<Figure size 640x480 with 2 Axes>"
      ]
     },
     "metadata": {},
     "output_type": "display_data"
    }
   ],
   "source": [
    "cm = confusion_matrix(y_true, y_preds)\n",
    "disp = ConfusionMatrixDisplay(confusion_matrix=cm, display_labels=[0, 1])\n",
    "disp.plot()"
   ]
  },
  {
   "cell_type": "code",
   "execution_count": 70,
   "metadata": {},
   "outputs": [
    {
     "name": "stdout",
     "output_type": "stream",
     "text": [
      "Test loss: 0.000266\n",
      "Test accuracy: 0.996908\n",
      "Test balanced accuracy: 0.995198\n",
      "Test f1 score: 0.997862\n",
      "Test precision: 0.996678\n",
      "Test recall: 0.999049\n"
     ]
    }
   ],
   "source": [
    "# calculate precision and recall:\n",
    "tn, fp, fn, tp = cm.ravel()\n",
    "precision = tp / (tp + fp)\n",
    "recall = tp / (tp + fn)\n",
    "\n",
    "print(f\"Test loss: {test_loss:.6f}\")\n",
    "print(f\"Test accuracy: {accuracy_score(y_true, y_preds):.6f}\")\n",
    "print(f\"Test balanced accuracy: {balanced_accuracy_score(y_true, y_preds):.6f}\")\n",
    "print(f\"Test f1 score: {f1_score(y_true, y_preds):.6f}\")\n",
    "print(f\"Test precision: {precision:.6f}\")\n",
    "print(f\"Test recall: {recall:.6f}\")"
   ]
  },
  {
   "cell_type": "code",
   "execution_count": 71,
   "metadata": {},
   "outputs": [
    {
     "name": "stdout",
     "output_type": "stream",
     "text": [
      "              precision    recall  f1-score   support\n",
      "\n",
      "           0       1.00      0.99      0.99       809\n",
      "           1       1.00      1.00      1.00      2102\n",
      "\n",
      "    accuracy                           1.00      2911\n",
      "   macro avg       1.00      1.00      1.00      2911\n",
      "weighted avg       1.00      1.00      1.00      2911\n",
      "\n"
     ]
    }
   ],
   "source": [
    "print(classification_report(y_true, y_preds))"
   ]
  },
  {
   "cell_type": "markdown",
   "metadata": {},
   "source": [
    "Nice summary of the advantes of residual networks:\n",
    "https://www.geeksforgeeks.org/residual-networks-resnet-deep-learning/"
   ]
  },
  {
   "cell_type": "markdown",
   "metadata": {},
   "source": []
  }
 ],
 "metadata": {
  "kernelspec": {
   "display_name": "Python 3",
   "language": "python",
   "name": "python3"
  },
  "language_info": {
   "codemirror_mode": {
    "name": "ipython",
    "version": 3
   },
   "file_extension": ".py",
   "mimetype": "text/x-python",
   "name": "python",
   "nbconvert_exporter": "python",
   "pygments_lexer": "ipython3",
   "version": "3.9.18"
  }
 },
 "nbformat": 4,
 "nbformat_minor": 2
}
