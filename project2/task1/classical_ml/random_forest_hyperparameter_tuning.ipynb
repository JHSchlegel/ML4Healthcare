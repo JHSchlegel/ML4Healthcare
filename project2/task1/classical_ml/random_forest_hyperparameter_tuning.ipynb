{
 "cells": [
  {
   "cell_type": "markdown",
   "metadata": {},
   "source": [
    "# Random Forest: Hyperparameter Tuning"
   ]
  },
  {
   "cell_type": "markdown",
   "metadata": {},
   "source": [
    "## Packages and Presets"
   ]
  },
  {
   "cell_type": "code",
   "execution_count": 1,
   "metadata": {},
   "outputs": [],
   "source": [
    "import pandas as pd\n",
    "import numpy as np\n",
    "import yaml\n",
    "import os\n",
    "import joblib\n",
    "\n",
    "from sklearn.metrics import (\n",
    "    f1_score, \n",
    "    balanced_accuracy_score,\n",
    ")\n",
    "\n",
    "from sklearn.preprocessing import StandardScaler\n",
    "\n",
    "from sklearn.model_selection import StratifiedKFold\n",
    "\n",
    "import matplotlib.pyplot as plt\n",
    "import seaborn as sns \n",
    "\n",
    "from imblearn.over_sampling import SMOTE\n",
    "\n",
    "from sklearn.ensemble import RandomForestClassifier\n",
    "\n",
    "from tsfresh.transformers.per_column_imputer import PerColumnImputer\n",
    "from tsfresh.feature_extraction.settings import EfficientFCParameters, ComprehensiveFCParameters\n",
    "from tsfresh.feature_extraction import extract_features\n",
    "\n",
    "\n",
    "pd.set_option('display.max_columns', None)\n",
    "%load_ext blackcellmagic\n",
    "%load_ext autoreload\n",
    "\n",
    "import optuna\n",
    "import warnings"
   ]
  },
  {
   "cell_type": "code",
   "execution_count": 2,
   "metadata": {},
   "outputs": [],
   "source": [
    "NUM_TRIALS = 200\n",
    "\n",
    "with open(\"classical_ml_config.yaml\", \"r\") as file:\n",
    "    config = yaml.safe_load(file)"
   ]
  },
  {
   "cell_type": "markdown",
   "metadata": {},
   "source": [
    "## No Feature Engineering"
   ]
  },
  {
   "cell_type": "code",
   "execution_count": 3,
   "metadata": {},
   "outputs": [],
   "source": [
    "# Load data\n",
    "train_df = pd.read_csv(config[\"paths\"][\"ptb_train\"], header=None)"
   ]
  },
  {
   "cell_type": "code",
   "execution_count": 4,
   "metadata": {},
   "outputs": [],
   "source": [
    "X_train_all = train_df.iloc[:, :-1]\n",
    "y_train_all = train_df.iloc[:, -1]"
   ]
  },
  {
   "cell_type": "code",
   "execution_count": 5,
   "metadata": {},
   "outputs": [],
   "source": [
    "smote = SMOTE(random_state=config[\"general\"][\"seed\"])\n",
    "X_train_all, y_train_all = smote.fit_resample(X_train_all, y_train_all)"
   ]
  },
  {
   "cell_type": "code",
   "execution_count": 6,
   "metadata": {},
   "outputs": [],
   "source": [
    "# create objective function for optuna\n",
    "def objective_no_feat_eng(trial):\n",
    "\n",
    "    # see: https://medium.com/@ethannabatchian/optimizing-random-forest-models-a-deep-dive-into-hyperparameter-tuning-with-optuna-b8e4fe7f3670\n",
    "    hyperparams = {\n",
    "        \"n_estimators\": trial.suggest_int(\"n_estimators\", 100, 1000),\n",
    "        \"max_depth\": trial.suggest_int(\"max_depth\", 10, 50),\n",
    "        \"min_samples_split\": trial.suggest_int(\"min_samples_split\", 2, 32),\n",
    "        \"min_samples_leaf\": trial.suggest_int(\"min_samples_leaf\", 1, 32),\n",
    "        \"max_features\": trial.suggest_categorical(\"max_features\", [\"sqrt\", \"log2\"]),\n",
    "        \"criterion\": trial.suggest_categorical(\"criterion\", [\"gini\", \"entropy\", \"log_loss\"]),\n",
    "    }\n",
    "    \n",
    "    \n",
    "    f1_scores = []\n",
    "    \n",
    "    skf = StratifiedKFold(n_splits=5, random_state=config[\"general\"][\"seed\"], shuffle=True)\n",
    "    for fold_num, (train_idx, val_idx) in enumerate(skf.split(X_train_all, y_train_all)):\n",
    "        X_train, X_val = X_train_all.iloc[train_idx], X_train_all.iloc[val_idx]\n",
    "        y_train, y_val = y_train_all[train_idx], y_train_all[val_idx]\n",
    "        \n",
    "        \n",
    "        rf = RandomForestClassifier(\n",
    "            random_state=config[\"general\"][\"seed\"],\n",
    "            n_jobs=-1,\n",
    "            **hyperparams\n",
    "        )\n",
    "        rf.fit(X_train, y_train)\n",
    "        \n",
    "        y_preds = rf.predict(X_val)\n",
    "        \n",
    "        score = f1_score(y_val, y_preds)\n",
    "            \n",
    "        trial.report(score, fold_num)\n",
    "        if trial.should_prune():\n",
    "            raise optuna.TrialPruned()\n",
    "        \n",
    "        f1_scores.append(score)\n",
    "            \n",
    "        \n",
    "    return np.mean(f1_scores)"
   ]
  },
  {
   "cell_type": "code",
   "execution_count": 7,
   "metadata": {},
   "outputs": [
    {
     "name": "stderr",
     "output_type": "stream",
     "text": [
      "[I 2024-05-09 02:12:42,643] A new study created in memory with name: rf_no_feat_eng\n"
     ]
    }
   ],
   "source": [
    "# prune bad trials \n",
    "pruner = optuna.pruners.MedianPruner(n_startup_trials=20, n_warmup_steps=2)\n",
    "\n",
    "study_no_feat_eng = optuna.create_study(\n",
    "    direction=\"maximize\",\n",
    "    study_name=\"rf_no_feat_eng\",\n",
    "    sampler=optuna.samplers.TPESampler(seed=config[\"general\"][\"seed\"]),\n",
    "    pruner=pruner,\n",
    ")"
   ]
  },
  {
   "cell_type": "code",
   "execution_count": 8,
   "metadata": {},
   "outputs": [
    {
     "data": {
      "application/vnd.jupyter.widget-view+json": {
       "model_id": "6c92577fb3e746c9b0f756588032d862",
       "version_major": 2,
       "version_minor": 0
      },
      "text/plain": [
       "  0%|          | 0/200 [00:00<?, ?it/s]"
      ]
     },
     "metadata": {},
     "output_type": "display_data"
    },
    {
     "name": "stdout",
     "output_type": "stream",
     "text": [
      "[I 2024-05-09 02:12:56,251] Trial 0 finished with value: 0.957659803364671 and parameters: {'n_estimators': 437, 'max_depth': 48, 'min_samples_split': 24, 'min_samples_leaf': 20, 'max_features': 'sqrt', 'criterion': 'entropy'}. Best is trial 0 with value: 0.957659803364671.\n",
      "[I 2024-05-09 02:13:16,571] Trial 1 finished with value: 0.9273140227649449 and parameters: {'n_estimators': 737, 'max_depth': 10, 'min_samples_split': 32, 'min_samples_leaf': 27, 'max_features': 'sqrt', 'criterion': 'log_loss'}. Best is trial 0 with value: 0.957659803364671.\n",
      "[I 2024-05-09 02:13:29,205] Trial 2 finished with value: 0.9695713437811596 and parameters: {'n_estimators': 489, 'max_depth': 21, 'min_samples_split': 20, 'min_samples_leaf': 5, 'max_features': 'log2', 'criterion': 'entropy'}. Best is trial 2 with value: 0.9695713437811596.\n",
      "[I 2024-05-09 02:13:46,204] Trial 3 finished with value: 0.9578510929823476 and parameters: {'n_estimators': 563, 'max_depth': 34, 'min_samples_split': 3, 'min_samples_leaf': 20, 'max_features': 'sqrt', 'criterion': 'entropy'}. Best is trial 2 with value: 0.9695713437811596.\n",
      "[I 2024-05-09 02:13:55,630] Trial 4 finished with value: 0.951106725953174 and parameters: {'n_estimators': 374, 'max_depth': 14, 'min_samples_split': 23, 'min_samples_leaf': 15, 'max_features': 'log2', 'criterion': 'entropy'}. Best is trial 2 with value: 0.9695713437811596.\n",
      "[I 2024-05-09 02:14:12,934] Trial 5 finished with value: 0.9555968532633315 and parameters: {'n_estimators': 696, 'max_depth': 22, 'min_samples_split': 18, 'min_samples_leaf': 18, 'max_features': 'log2', 'criterion': 'entropy'}. Best is trial 2 with value: 0.9695713437811596.\n",
      "[I 2024-05-09 02:14:29,116] Trial 6 finished with value: 0.9701688670217559 and parameters: {'n_estimators': 638, 'max_depth': 47, 'min_samples_split': 4, 'min_samples_leaf': 7, 'max_features': 'log2', 'criterion': 'log_loss'}. Best is trial 6 with value: 0.9701688670217559.\n",
      "[I 2024-05-09 02:14:41,522] Trial 7 finished with value: 0.968340773546028 and parameters: {'n_estimators': 421, 'max_depth': 21, 'min_samples_split': 18, 'min_samples_leaf': 5, 'max_features': 'sqrt', 'criterion': 'gini'}. Best is trial 6 with value: 0.9701688670217559.\n",
      "[I 2024-05-09 02:14:45,268] Trial 8 finished with value: 0.9532628254632876 and parameters: {'n_estimators': 104, 'max_depth': 43, 'min_samples_split': 23, 'min_samples_leaf': 24, 'max_features': 'sqrt', 'criterion': 'log_loss'}. Best is trial 6 with value: 0.9701688670217559.\n",
      "[I 2024-05-09 02:15:02,020] Trial 9 finished with value: 0.9657302696889477 and parameters: {'n_estimators': 661, 'max_depth': 23, 'min_samples_split': 3, 'min_samples_leaf': 10, 'max_features': 'log2', 'criterion': 'entropy'}. Best is trial 6 with value: 0.9701688670217559.\n",
      "[I 2024-05-09 02:15:26,721] Trial 10 finished with value: 0.9783107012149495 and parameters: {'n_estimators': 959, 'max_depth': 38, 'min_samples_split': 9, 'min_samples_leaf': 1, 'max_features': 'log2', 'criterion': 'log_loss'}. Best is trial 10 with value: 0.9783107012149495.\n",
      "[I 2024-05-09 02:15:52,362] Trial 11 finished with value: 0.9782545686271508 and parameters: {'n_estimators': 984, 'max_depth': 36, 'min_samples_split': 10, 'min_samples_leaf': 1, 'max_features': 'log2', 'criterion': 'log_loss'}. Best is trial 10 with value: 0.9783107012149495.\n",
      "[I 2024-05-09 02:16:17,804] Trial 12 finished with value: 0.9782557280169932 and parameters: {'n_estimators': 977, 'max_depth': 37, 'min_samples_split': 10, 'min_samples_leaf': 1, 'max_features': 'log2', 'criterion': 'log_loss'}. Best is trial 10 with value: 0.9783107012149495.\n",
      "[I 2024-05-09 02:16:42,693] Trial 13 finished with value: 0.97754764877275 and parameters: {'n_estimators': 969, 'max_depth': 39, 'min_samples_split': 11, 'min_samples_leaf': 1, 'max_features': 'log2', 'criterion': 'log_loss'}. Best is trial 10 with value: 0.9783107012149495.\n",
      "[I 2024-05-09 02:17:02,749] Trial 14 finished with value: 0.9380382493054418 and parameters: {'n_estimators': 869, 'max_depth': 29, 'min_samples_split': 11, 'min_samples_leaf': 32, 'max_features': 'log2', 'criterion': 'gini'}. Best is trial 10 with value: 0.9783107012149495.\n",
      "[I 2024-05-09 02:17:23,491] Trial 15 finished with value: 0.9628166630339351 and parameters: {'n_estimators': 829, 'max_depth': 30, 'min_samples_split': 8, 'min_samples_leaf': 12, 'max_features': 'log2', 'criterion': 'log_loss'}. Best is trial 10 with value: 0.9783107012149495.\n",
      "[I 2024-05-09 02:17:45,092] Trial 16 finished with value: 0.9689726920018253 and parameters: {'n_estimators': 835, 'max_depth': 41, 'min_samples_split': 14, 'min_samples_leaf': 8, 'max_features': 'log2', 'criterion': 'log_loss'}. Best is trial 10 with value: 0.9783107012149495.\n",
      "[I 2024-05-09 02:17:52,851] Trial 17 finished with value: 0.9799480208127174 and parameters: {'n_estimators': 288, 'max_depth': 35, 'min_samples_split': 6, 'min_samples_leaf': 1, 'max_features': 'log2', 'criterion': 'gini'}. Best is trial 17 with value: 0.9799480208127174.\n",
      "[I 2024-05-09 02:18:00,208] Trial 18 finished with value: 0.9591447540664255 and parameters: {'n_estimators': 292, 'max_depth': 32, 'min_samples_split': 6, 'min_samples_leaf': 13, 'max_features': 'log2', 'criterion': 'gini'}. Best is trial 17 with value: 0.9799480208127174.\n",
      "[I 2024-05-09 02:18:05,057] Trial 19 finished with value: 0.9716399764550611 and parameters: {'n_estimators': 185, 'max_depth': 27, 'min_samples_split': 14, 'min_samples_leaf': 4, 'max_features': 'log2', 'criterion': 'gini'}. Best is trial 17 with value: 0.9799480208127174.\n",
      "[I 2024-05-09 02:18:10,690] Trial 20 pruned. \n",
      "[I 2024-05-09 02:18:34,451] Trial 21 finished with value: 0.9755687886719666 and parameters: {'n_estimators': 918, 'max_depth': 37, 'min_samples_split': 14, 'min_samples_leaf': 2, 'max_features': 'log2', 'criterion': 'log_loss'}. Best is trial 17 with value: 0.9799480208127174.\n",
      "[I 2024-05-09 02:18:54,233] Trial 22 finished with value: 0.9751848290783149 and parameters: {'n_estimators': 776, 'max_depth': 39, 'min_samples_split': 9, 'min_samples_leaf': 3, 'max_features': 'log2', 'criterion': 'gini'}. Best is trial 17 with value: 0.9799480208127174.\n",
      "[I 2024-05-09 02:19:19,484] Trial 23 finished with value: 0.9722272527232498 and parameters: {'n_estimators': 996, 'max_depth': 34, 'min_samples_split': 6, 'min_samples_leaf': 6, 'max_features': 'log2', 'criterion': 'log_loss'}. Best is trial 17 with value: 0.9799480208127174.\n",
      "[I 2024-05-09 02:19:43,911] Trial 24 finished with value: 0.9765996694043766 and parameters: {'n_estimators': 903, 'max_depth': 26, 'min_samples_split': 13, 'min_samples_leaf': 1, 'max_features': 'log2', 'criterion': 'log_loss'}. Best is trial 17 with value: 0.9799480208127174.\n",
      "[I 2024-05-09 02:20:00,456] Trial 25 finished with value: 0.9740350125004541 and parameters: {'n_estimators': 553, 'max_depth': 50, 'min_samples_split': 2, 'min_samples_leaf': 4, 'max_features': 'log2', 'criterion': 'gini'}. Best is trial 17 with value: 0.9799480208127174.\n",
      "[I 2024-05-09 02:20:06,867] Trial 26 pruned. \n",
      "[I 2024-05-09 02:20:32,625] Trial 27 finished with value: 0.9694260514670365 and parameters: {'n_estimators': 784, 'max_depth': 41, 'min_samples_split': 12, 'min_samples_leaf': 7, 'max_features': 'sqrt', 'criterion': 'gini'}. Best is trial 17 with value: 0.9799480208127174.\n",
      "[I 2024-05-09 02:21:01,366] Trial 28 finished with value: 0.9768581235274553 and parameters: {'n_estimators': 939, 'max_depth': 36, 'min_samples_split': 8, 'min_samples_leaf': 3, 'max_features': 'log2', 'criterion': 'log_loss'}. Best is trial 17 with value: 0.9799480208127174.\n",
      "[I 2024-05-09 02:21:08,449] Trial 29 pruned. \n",
      "[I 2024-05-09 02:21:10,803] Trial 30 pruned. \n",
      "[I 2024-05-09 02:21:40,933] Trial 31 finished with value: 0.976322925397913 and parameters: {'n_estimators': 993, 'max_depth': 36, 'min_samples_split': 10, 'min_samples_leaf': 2, 'max_features': 'log2', 'criterion': 'log_loss'}. Best is trial 17 with value: 0.9799480208127174.\n",
      "[I 2024-05-09 02:22:08,820] Trial 32 finished with value: 0.9782551070358357 and parameters: {'n_estimators': 882, 'max_depth': 33, 'min_samples_split': 9, 'min_samples_leaf': 1, 'max_features': 'log2', 'criterion': 'log_loss'}. Best is trial 17 with value: 0.9799480208127174.\n",
      "[I 2024-05-09 02:22:31,447] Trial 33 pruned. \n",
      "[I 2024-05-09 02:22:53,738] Trial 34 finished with value: 0.976149103313079 and parameters: {'n_estimators': 607, 'max_depth': 30, 'min_samples_split': 16, 'min_samples_leaf': 1, 'max_features': 'sqrt', 'criterion': 'log_loss'}. Best is trial 17 with value: 0.9799480208127174.\n",
      "[I 2024-05-09 02:23:17,506] Trial 35 finished with value: 0.9759540481310551 and parameters: {'n_estimators': 734, 'max_depth': 41, 'min_samples_split': 5, 'min_samples_leaf': 4, 'max_features': 'log2', 'criterion': 'log_loss'}. Best is trial 17 with value: 0.9799480208127174.\n",
      "[I 2024-05-09 02:23:26,210] Trial 36 pruned. \n",
      "[I 2024-05-09 02:23:47,626] Trial 37 pruned. \n",
      "[I 2024-05-09 02:24:02,916] Trial 38 pruned. \n",
      "[I 2024-05-09 02:24:32,003] Trial 39 finished with value: 0.9712906043924667 and parameters: {'n_estimators': 880, 'max_depth': 46, 'min_samples_split': 21, 'min_samples_leaf': 3, 'max_features': 'log2', 'criterion': 'log_loss'}. Best is trial 17 with value: 0.9799480208127174.\n",
      "[I 2024-05-09 02:24:55,895] Trial 40 finished with value: 0.9720579981518156 and parameters: {'n_estimators': 729, 'max_depth': 34, 'min_samples_split': 2, 'min_samples_leaf': 6, 'max_features': 'log2', 'criterion': 'entropy'}. Best is trial 17 with value: 0.9799480208127174.\n",
      "[I 2024-05-09 02:25:26,635] Trial 41 finished with value: 0.9778908761592848 and parameters: {'n_estimators': 937, 'max_depth': 36, 'min_samples_split': 10, 'min_samples_leaf': 1, 'max_features': 'log2', 'criterion': 'log_loss'}. Best is trial 17 with value: 0.9799480208127174.\n",
      "[I 2024-05-09 02:25:57,208] Trial 42 finished with value: 0.9765565344365896 and parameters: {'n_estimators': 958, 'max_depth': 42, 'min_samples_split': 9, 'min_samples_leaf': 3, 'max_features': 'log2', 'criterion': 'log_loss'}. Best is trial 17 with value: 0.9799480208127174.\n",
      "[I 2024-05-09 02:26:29,495] Trial 43 finished with value: 0.9793829687430549 and parameters: {'n_estimators': 998, 'max_depth': 35, 'min_samples_split': 7, 'min_samples_leaf': 1, 'max_features': 'log2', 'criterion': 'log_loss'}. Best is trial 17 with value: 0.9799480208127174.\n",
      "[I 2024-05-09 02:26:45,899] Trial 44 pruned. \n",
      "[I 2024-05-09 02:27:12,898] Trial 45 finished with value: 0.9791905546470898 and parameters: {'n_estimators': 851, 'max_depth': 31, 'min_samples_split': 4, 'min_samples_leaf': 2, 'max_features': 'log2', 'criterion': 'log_loss'}. Best is trial 17 with value: 0.9799480208127174.\n",
      "[I 2024-05-09 02:27:30,050] Trial 46 pruned. \n",
      "[I 2024-05-09 02:27:46,692] Trial 47 pruned. \n",
      "[I 2024-05-09 02:28:01,160] Trial 48 pruned. \n",
      "[I 2024-05-09 02:28:11,150] Trial 49 pruned. \n",
      "[I 2024-05-09 02:28:37,089] Trial 50 pruned. \n",
      "[I 2024-05-09 02:29:07,177] Trial 51 finished with value: 0.9790823654180585 and parameters: {'n_estimators': 895, 'max_depth': 32, 'min_samples_split': 7, 'min_samples_leaf': 1, 'max_features': 'log2', 'criterion': 'log_loss'}. Best is trial 17 with value: 0.9799480208127174.\n",
      "[I 2024-05-09 02:29:37,975] Trial 52 finished with value: 0.9769761736594654 and parameters: {'n_estimators': 910, 'max_depth': 35, 'min_samples_split': 7, 'min_samples_leaf': 3, 'max_features': 'log2', 'criterion': 'log_loss'}. Best is trial 17 with value: 0.9799480208127174.\n",
      "[I 2024-05-09 02:30:06,462] Trial 53 finished with value: 0.9768821661032752 and parameters: {'n_estimators': 837, 'max_depth': 28, 'min_samples_split': 11, 'min_samples_leaf': 2, 'max_features': 'log2', 'criterion': 'log_loss'}. Best is trial 17 with value: 0.9799480208127174.\n",
      "[I 2024-05-09 02:30:37,460] Trial 54 finished with value: 0.9760760210882795 and parameters: {'n_estimators': 954, 'max_depth': 32, 'min_samples_split': 3, 'min_samples_leaf': 4, 'max_features': 'log2', 'criterion': 'log_loss'}. Best is trial 17 with value: 0.9799480208127174.\n",
      "[I 2024-05-09 02:31:04,073] Trial 55 finished with value: 0.9792644063629965 and parameters: {'n_estimators': 806, 'max_depth': 37, 'min_samples_split': 7, 'min_samples_leaf': 1, 'max_features': 'log2', 'criterion': 'log_loss'}. Best is trial 17 with value: 0.9799480208127174.\n",
      "[I 2024-05-09 02:31:24,296] Trial 56 pruned. \n",
      "[I 2024-05-09 02:31:44,662] Trial 57 finished with value: 0.9792061540340505 and parameters: {'n_estimators': 630, 'max_depth': 31, 'min_samples_split': 4, 'min_samples_leaf': 2, 'max_features': 'log2', 'criterion': 'log_loss'}. Best is trial 17 with value: 0.9799480208127174.\n",
      "[I 2024-05-09 02:32:01,071] Trial 58 pruned. \n",
      "[I 2024-05-09 02:32:18,218] Trial 59 finished with value: 0.9778352266916472 and parameters: {'n_estimators': 520, 'max_depth': 24, 'min_samples_split': 2, 'min_samples_leaf': 2, 'max_features': 'log2', 'criterion': 'gini'}. Best is trial 17 with value: 0.9799480208127174.\n",
      "[I 2024-05-09 02:32:33,684] Trial 60 finished with value: 0.9762641927252844 and parameters: {'n_estimators': 419, 'max_depth': 20, 'min_samples_split': 7, 'min_samples_leaf': 4, 'max_features': 'sqrt', 'criterion': 'log_loss'}. Best is trial 17 with value: 0.9799480208127174.\n",
      "[I 2024-05-09 02:32:55,509] Trial 61 finished with value: 0.980691859563394 and parameters: {'n_estimators': 669, 'max_depth': 37, 'min_samples_split': 4, 'min_samples_leaf': 1, 'max_features': 'log2', 'criterion': 'log_loss'}. Best is trial 61 with value: 0.980691859563394.\n",
      "[I 2024-05-09 02:33:16,803] Trial 62 finished with value: 0.9790196912518677 and parameters: {'n_estimators': 669, 'max_depth': 29, 'min_samples_split': 4, 'min_samples_leaf': 2, 'max_features': 'log2', 'criterion': 'log_loss'}. Best is trial 61 with value: 0.980691859563394.\n",
      "[I 2024-05-09 02:33:38,092] Trial 63 finished with value: 0.98062613786751 and parameters: {'n_estimators': 687, 'max_depth': 35, 'min_samples_split': 4, 'min_samples_leaf': 1, 'max_features': 'log2', 'criterion': 'log_loss'}. Best is trial 61 with value: 0.980691859563394.\n",
      "[I 2024-05-09 02:33:53,784] Trial 64 finished with value: 0.9776354479396616 and parameters: {'n_estimators': 590, 'max_depth': 37, 'min_samples_split': 2, 'min_samples_leaf': 3, 'max_features': 'log2', 'criterion': 'log_loss'}. Best is trial 61 with value: 0.980691859563394.\n",
      "[I 2024-05-09 02:34:07,332] Trial 65 pruned. \n",
      "[I 2024-05-09 02:34:24,685] Trial 66 finished with value: 0.9807202241611023 and parameters: {'n_estimators': 695, 'max_depth': 35, 'min_samples_split': 3, 'min_samples_leaf': 1, 'max_features': 'log2', 'criterion': 'gini'}. Best is trial 66 with value: 0.9807202241611023.\n",
      "[I 2024-05-09 02:34:42,349] Trial 67 finished with value: 0.9798218667767769 and parameters: {'n_estimators': 682, 'max_depth': 35, 'min_samples_split': 5, 'min_samples_leaf': 1, 'max_features': 'log2', 'criterion': 'gini'}. Best is trial 66 with value: 0.9807202241611023.\n",
      "[I 2024-05-09 02:35:00,137] Trial 68 finished with value: 0.978963327514107 and parameters: {'n_estimators': 711, 'max_depth': 43, 'min_samples_split': 8, 'min_samples_leaf': 1, 'max_features': 'log2', 'criterion': 'gini'}. Best is trial 66 with value: 0.9807202241611023.\n",
      "[I 2024-05-09 02:35:13,773] Trial 69 pruned. \n",
      "[I 2024-05-09 02:35:29,679] Trial 70 pruned. \n",
      "[I 2024-05-09 02:35:44,352] Trial 71 finished with value: 0.9805971845503578 and parameters: {'n_estimators': 592, 'max_depth': 33, 'min_samples_split': 3, 'min_samples_leaf': 1, 'max_features': 'log2', 'criterion': 'gini'}. Best is trial 66 with value: 0.9807202241611023.\n",
      "[I 2024-05-09 02:36:01,813] Trial 72 finished with value: 0.9800568268160742 and parameters: {'n_estimators': 688, 'max_depth': 37, 'min_samples_split': 5, 'min_samples_leaf': 1, 'max_features': 'log2', 'criterion': 'gini'}. Best is trial 66 with value: 0.9807202241611023.\n",
      "[I 2024-05-09 02:36:16,898] Trial 73 finished with value: 0.9764776866858501 and parameters: {'n_estimators': 599, 'max_depth': 33, 'min_samples_split': 3, 'min_samples_leaf': 3, 'max_features': 'log2', 'criterion': 'gini'}. Best is trial 66 with value: 0.9807202241611023.\n",
      "[I 2024-05-09 02:36:31,206] Trial 74 finished with value: 0.980009618612374 and parameters: {'n_estimators': 563, 'max_depth': 35, 'min_samples_split': 5, 'min_samples_leaf': 1, 'max_features': 'log2', 'criterion': 'gini'}. Best is trial 66 with value: 0.9807202241611023.\n",
      "[I 2024-05-09 02:36:40,207] Trial 75 pruned. \n",
      "[I 2024-05-09 02:36:49,527] Trial 76 pruned. \n",
      "[I 2024-05-09 02:37:07,495] Trial 77 finished with value: 0.9783884634888256 and parameters: {'n_estimators': 565, 'max_depth': 34, 'min_samples_split': 4, 'min_samples_leaf': 2, 'max_features': 'log2', 'criterion': 'gini'}. Best is trial 66 with value: 0.9807202241611023.\n",
      "[I 2024-05-09 02:37:25,039] Trial 78 pruned. \n",
      "[I 2024-05-09 02:37:37,365] Trial 79 pruned. \n",
      "[I 2024-05-09 02:38:01,355] Trial 80 finished with value: 0.9800775069548381 and parameters: {'n_estimators': 744, 'max_depth': 38, 'min_samples_split': 6, 'min_samples_leaf': 1, 'max_features': 'log2', 'criterion': 'gini'}. Best is trial 66 with value: 0.9807202241611023.\n",
      "[I 2024-05-09 02:38:24,944] Trial 81 finished with value: 0.9800748272201292 and parameters: {'n_estimators': 752, 'max_depth': 38, 'min_samples_split': 6, 'min_samples_leaf': 1, 'max_features': 'log2', 'criterion': 'gini'}. Best is trial 66 with value: 0.9807202241611023.\n",
      "[I 2024-05-09 02:38:48,666] Trial 82 finished with value: 0.9801383153687226 and parameters: {'n_estimators': 744, 'max_depth': 40, 'min_samples_split': 6, 'min_samples_leaf': 1, 'max_features': 'log2', 'criterion': 'gini'}. Best is trial 66 with value: 0.9807202241611023.\n",
      "[I 2024-05-09 02:39:12,388] Trial 83 finished with value: 0.9776288790136037 and parameters: {'n_estimators': 754, 'max_depth': 38, 'min_samples_split': 6, 'min_samples_leaf': 2, 'max_features': 'log2', 'criterion': 'gini'}. Best is trial 66 with value: 0.9807202241611023.\n",
      "[I 2024-05-09 02:39:34,725] Trial 84 finished with value: 0.97707935657604 and parameters: {'n_estimators': 715, 'max_depth': 40, 'min_samples_split': 3, 'min_samples_leaf': 3, 'max_features': 'log2', 'criterion': 'gini'}. Best is trial 66 with value: 0.9807202241611023.\n",
      "[I 2024-05-09 02:39:58,316] Trial 85 finished with value: 0.9788417063610744 and parameters: {'n_estimators': 746, 'max_depth': 43, 'min_samples_split': 8, 'min_samples_leaf': 1, 'max_features': 'log2', 'criterion': 'gini'}. Best is trial 66 with value: 0.9807202241611023.\n",
      "[I 2024-05-09 02:40:23,553] Trial 86 finished with value: 0.9788547865918853 and parameters: {'n_estimators': 799, 'max_depth': 38, 'min_samples_split': 2, 'min_samples_leaf': 2, 'max_features': 'log2', 'criterion': 'gini'}. Best is trial 66 with value: 0.9807202241611023.\n",
      "[I 2024-05-09 02:40:42,091] Trial 87 pruned. \n",
      "[I 2024-05-09 02:40:57,762] Trial 88 pruned. \n",
      "[I 2024-05-09 02:41:20,834] Trial 89 finished with value: 0.9790797733982199 and parameters: {'n_estimators': 652, 'max_depth': 36, 'min_samples_split': 5, 'min_samples_leaf': 1, 'max_features': 'sqrt', 'criterion': 'gini'}. Best is trial 66 with value: 0.9807202241611023.\n",
      "[I 2024-05-09 02:41:41,851] Trial 90 pruned. \n",
      "[I 2024-05-09 02:41:56,934] Trial 91 finished with value: 0.976871394670542 and parameters: {'n_estimators': 467, 'max_depth': 37, 'min_samples_split': 9, 'min_samples_leaf': 2, 'max_features': 'log2', 'criterion': 'gini'}. Best is trial 66 with value: 0.9807202241611023.\n",
      "[I 2024-05-09 02:42:20,590] Trial 92 finished with value: 0.9798944647248551 and parameters: {'n_estimators': 702, 'max_depth': 36, 'min_samples_split': 6, 'min_samples_leaf': 1, 'max_features': 'log2', 'criterion': 'gini'}. Best is trial 66 with value: 0.9807202241611023.\n",
      "[I 2024-05-09 02:42:24,655] Trial 93 pruned. \n",
      "[I 2024-05-09 02:42:50,512] Trial 94 finished with value: 0.9770230582322673 and parameters: {'n_estimators': 788, 'max_depth': 34, 'min_samples_split': 3, 'min_samples_leaf': 3, 'max_features': 'log2', 'criterion': 'gini'}. Best is trial 66 with value: 0.9807202241611023.\n",
      "[I 2024-05-09 02:43:09,686] Trial 95 finished with value: 0.9769272011526781 and parameters: {'n_estimators': 561, 'max_depth': 39, 'min_samples_split': 8, 'min_samples_leaf': 2, 'max_features': 'log2', 'criterion': 'gini'}. Best is trial 66 with value: 0.9807202241611023.\n",
      "[I 2024-05-09 02:43:32,316] Trial 96 pruned. \n",
      "[I 2024-05-09 02:43:50,103] Trial 97 finished with value: 0.9799507390348839 and parameters: {'n_estimators': 684, 'max_depth': 41, 'min_samples_split': 6, 'min_samples_leaf': 1, 'max_features': 'log2', 'criterion': 'gini'}. Best is trial 66 with value: 0.9807202241611023.\n",
      "[I 2024-05-09 02:44:07,184] Trial 98 finished with value: 0.9793104662583867 and parameters: {'n_estimators': 679, 'max_depth': 41, 'min_samples_split': 7, 'min_samples_leaf': 1, 'max_features': 'log2', 'criterion': 'gini'}. Best is trial 66 with value: 0.9807202241611023.\n",
      "[I 2024-05-09 02:44:19,837] Trial 99 pruned. \n",
      "[I 2024-05-09 02:44:37,690] Trial 100 finished with value: 0.9786771240318419 and parameters: {'n_estimators': 733, 'max_depth': 37, 'min_samples_split': 2, 'min_samples_leaf': 2, 'max_features': 'log2', 'criterion': 'gini'}. Best is trial 66 with value: 0.9807202241611023.\n",
      "[I 2024-05-09 02:44:56,718] Trial 101 finished with value: 0.9803741355749647 and parameters: {'n_estimators': 762, 'max_depth': 44, 'min_samples_split': 6, 'min_samples_leaf': 1, 'max_features': 'log2', 'criterion': 'gini'}. Best is trial 66 with value: 0.9807202241611023.\n",
      "[I 2024-05-09 02:45:15,670] Trial 102 finished with value: 0.9803155436091551 and parameters: {'n_estimators': 759, 'max_depth': 45, 'min_samples_split': 6, 'min_samples_leaf': 1, 'max_features': 'log2', 'criterion': 'gini'}. Best is trial 66 with value: 0.9807202241611023.\n",
      "[I 2024-05-09 02:45:35,496] Trial 103 finished with value: 0.977967443083972 and parameters: {'n_estimators': 783, 'max_depth': 44, 'min_samples_split': 5, 'min_samples_leaf': 2, 'max_features': 'log2', 'criterion': 'gini'}. Best is trial 66 with value: 0.9807202241611023.\n",
      "[I 2024-05-09 02:45:50,861] Trial 104 pruned. \n",
      "[I 2024-05-09 02:46:09,822] Trial 105 finished with value: 0.9789024338037049 and parameters: {'n_estimators': 708, 'max_depth': 47, 'min_samples_split': 8, 'min_samples_leaf': 1, 'max_features': 'log2', 'criterion': 'gini'}. Best is trial 66 with value: 0.9807202241611023.\n",
      "[I 2024-05-09 02:46:24,659] Trial 106 pruned. \n",
      "[I 2024-05-09 02:46:42,955] Trial 107 pruned. \n",
      "[I 2024-05-09 02:47:05,027] Trial 108 pruned. \n",
      "[I 2024-05-09 02:47:20,240] Trial 109 pruned. \n",
      "[I 2024-05-09 02:47:37,356] Trial 110 finished with value: 0.9793600685076067 and parameters: {'n_estimators': 527, 'max_depth': 33, 'min_samples_split': 7, 'min_samples_leaf': 1, 'max_features': 'log2', 'criterion': 'gini'}. Best is trial 66 with value: 0.9807202241611023.\n",
      "[I 2024-05-09 02:47:58,109] Trial 111 finished with value: 0.9798314204040374 and parameters: {'n_estimators': 677, 'max_depth': 41, 'min_samples_split': 6, 'min_samples_leaf': 1, 'max_features': 'log2', 'criterion': 'gini'}. Best is trial 66 with value: 0.9807202241611023.\n",
      "[I 2024-05-09 02:48:16,291] Trial 112 finished with value: 0.9778058737374637 and parameters: {'n_estimators': 700, 'max_depth': 42, 'min_samples_split': 6, 'min_samples_leaf': 2, 'max_features': 'log2', 'criterion': 'gini'}. Best is trial 66 with value: 0.9807202241611023.\n",
      "[I 2024-05-09 02:48:33,430] Trial 113 finished with value: 0.9791883253202787 and parameters: {'n_estimators': 689, 'max_depth': 44, 'min_samples_split': 7, 'min_samples_leaf': 1, 'max_features': 'log2', 'criterion': 'gini'}. Best is trial 66 with value: 0.9807202241611023.\n",
      "[I 2024-05-09 02:48:46,327] Trial 114 pruned. \n",
      "[I 2024-05-09 02:49:00,664] Trial 115 finished with value: 0.97983037409136 and parameters: {'n_estimators': 580, 'max_depth': 39, 'min_samples_split': 6, 'min_samples_leaf': 1, 'max_features': 'log2', 'criterion': 'gini'}. Best is trial 66 with value: 0.9807202241611023.\n",
      "[I 2024-05-09 02:49:19,683] Trial 116 finished with value: 0.978741077275157 and parameters: {'n_estimators': 777, 'max_depth': 40, 'min_samples_split': 4, 'min_samples_leaf': 2, 'max_features': 'log2', 'criterion': 'gini'}. Best is trial 66 with value: 0.9807202241611023.\n",
      "[I 2024-05-09 02:49:30,538] Trial 117 pruned. \n",
      "[I 2024-05-09 02:49:48,483] Trial 118 finished with value: 0.9782758846834965 and parameters: {'n_estimators': 604, 'max_depth': 34, 'min_samples_split': 5, 'min_samples_leaf': 2, 'max_features': 'log2', 'criterion': 'gini'}. Best is trial 66 with value: 0.9807202241611023.\n",
      "[I 2024-05-09 02:50:00,854] Trial 119 pruned. \n",
      "[I 2024-05-09 02:50:21,424] Trial 120 finished with value: 0.980752053066676 and parameters: {'n_estimators': 659, 'max_depth': 46, 'min_samples_split': 4, 'min_samples_leaf': 1, 'max_features': 'log2', 'criterion': 'entropy'}. Best is trial 120 with value: 0.980752053066676.\n",
      "[I 2024-05-09 02:50:43,772] Trial 121 finished with value: 0.9808115671625879 and parameters: {'n_estimators': 654, 'max_depth': 46, 'min_samples_split': 4, 'min_samples_leaf': 1, 'max_features': 'log2', 'criterion': 'entropy'}. Best is trial 121 with value: 0.9808115671625879.\n",
      "[I 2024-05-09 02:51:05,670] Trial 122 finished with value: 0.9800869285050746 and parameters: {'n_estimators': 661, 'max_depth': 47, 'min_samples_split': 3, 'min_samples_leaf': 1, 'max_features': 'log2', 'criterion': 'entropy'}. Best is trial 121 with value: 0.9808115671625879.\n",
      "[I 2024-05-09 02:51:27,720] Trial 123 finished with value: 0.9791411200294646 and parameters: {'n_estimators': 663, 'max_depth': 47, 'min_samples_split': 3, 'min_samples_leaf': 2, 'max_features': 'log2', 'criterion': 'entropy'}. Best is trial 121 with value: 0.9808115671625879.\n",
      "[I 2024-05-09 02:51:44,093] Trial 124 pruned. \n",
      "[I 2024-05-09 02:52:05,419] Trial 125 finished with value: 0.9800232371343043 and parameters: {'n_estimators': 654, 'max_depth': 50, 'min_samples_split': 3, 'min_samples_leaf': 1, 'max_features': 'log2', 'criterion': 'entropy'}. Best is trial 121 with value: 0.9808115671625879.\n",
      "[I 2024-05-09 02:52:22,273] Trial 126 finished with value: 0.9791979355448508 and parameters: {'n_estimators': 637, 'max_depth': 48, 'min_samples_split': 4, 'min_samples_leaf': 2, 'max_features': 'log2', 'criterion': 'entropy'}. Best is trial 121 with value: 0.9808115671625879.\n",
      "[I 2024-05-09 02:52:36,896] Trial 127 pruned. \n",
      "[I 2024-05-09 02:53:00,331] Trial 128 finished with value: 0.9803666776751339 and parameters: {'n_estimators': 767, 'max_depth': 49, 'min_samples_split': 4, 'min_samples_leaf': 1, 'max_features': 'sqrt', 'criterion': 'entropy'}. Best is trial 121 with value: 0.9808115671625879.\n",
      "[I 2024-05-09 02:53:19,448] Trial 129 pruned. \n",
      "[I 2024-05-09 02:53:43,521] Trial 130 finished with value: 0.9795878119133878 and parameters: {'n_estimators': 791, 'max_depth': 44, 'min_samples_split': 2, 'min_samples_leaf': 2, 'max_features': 'sqrt', 'criterion': 'entropy'}. Best is trial 121 with value: 0.9808115671625879.\n",
      "[I 2024-05-09 02:54:01,736] Trial 131 pruned. \n",
      "[I 2024-05-09 02:54:23,714] Trial 132 finished with value: 0.9813253755753815 and parameters: {'n_estimators': 700, 'max_depth': 46, 'min_samples_split': 3, 'min_samples_leaf': 1, 'max_features': 'sqrt', 'criterion': 'entropy'}. Best is trial 132 with value: 0.9813253755753815.\n",
      "[I 2024-05-09 02:54:48,539] Trial 133 finished with value: 0.9795296291408407 and parameters: {'n_estimators': 768, 'max_depth': 46, 'min_samples_split': 4, 'min_samples_leaf': 2, 'max_features': 'sqrt', 'criterion': 'entropy'}. Best is trial 132 with value: 0.9813253755753815.\n",
      "[I 2024-05-09 02:55:15,043] Trial 134 finished with value: 0.9814450131550014 and parameters: {'n_estimators': 729, 'max_depth': 48, 'min_samples_split': 3, 'min_samples_leaf': 1, 'max_features': 'sqrt', 'criterion': 'entropy'}. Best is trial 134 with value: 0.9814450131550014.\n",
      "[I 2024-05-09 02:55:39,739] Trial 135 finished with value: 0.9813814425675915 and parameters: {'n_estimators': 697, 'max_depth': 48, 'min_samples_split': 3, 'min_samples_leaf': 1, 'max_features': 'sqrt', 'criterion': 'entropy'}. Best is trial 134 with value: 0.9814450131550014.\n",
      "[I 2024-05-09 02:55:59,190] Trial 136 pruned. \n",
      "[I 2024-05-09 02:56:25,230] Trial 137 finished with value: 0.9814394073859927 and parameters: {'n_estimators': 704, 'max_depth': 50, 'min_samples_split': 2, 'min_samples_leaf': 1, 'max_features': 'sqrt', 'criterion': 'entropy'}. Best is trial 134 with value: 0.9814450131550014.\n",
      "[I 2024-05-09 02:56:45,349] Trial 138 pruned. \n",
      "[I 2024-05-09 02:57:05,896] Trial 139 pruned. \n",
      "[I 2024-05-09 02:57:32,651] Trial 140 finished with value: 0.9813243671770302 and parameters: {'n_estimators': 729, 'max_depth': 45, 'min_samples_split': 2, 'min_samples_leaf': 1, 'max_features': 'sqrt', 'criterion': 'entropy'}. Best is trial 134 with value: 0.9814450131550014.\n",
      "[I 2024-05-09 02:57:59,099] Trial 141 finished with value: 0.9812634672318472 and parameters: {'n_estimators': 728, 'max_depth': 45, 'min_samples_split': 2, 'min_samples_leaf': 1, 'max_features': 'sqrt', 'criterion': 'entropy'}. Best is trial 134 with value: 0.9814450131550014.\n",
      "[I 2024-05-09 02:58:20,399] Trial 142 pruned. \n",
      "[I 2024-05-09 02:58:34,390] Trial 143 pruned. \n",
      "[I 2024-05-09 02:59:00,387] Trial 144 finished with value: 0.9814452642251881 and parameters: {'n_estimators': 722, 'max_depth': 45, 'min_samples_split': 3, 'min_samples_leaf': 1, 'max_features': 'sqrt', 'criterion': 'entropy'}. Best is trial 144 with value: 0.9814452642251881.\n",
      "[I 2024-05-09 02:59:15,174] Trial 145 pruned. \n",
      "[I 2024-05-09 02:59:35,666] Trial 146 pruned. \n",
      "[I 2024-05-09 02:59:58,889] Trial 147 finished with value: 0.9804227211144058 and parameters: {'n_estimators': 641, 'max_depth': 47, 'min_samples_split': 4, 'min_samples_leaf': 1, 'max_features': 'sqrt', 'criterion': 'entropy'}. Best is trial 144 with value: 0.9814452642251881.\n",
      "[I 2024-05-09 03:00:16,134] Trial 148 pruned. \n",
      "[I 2024-05-09 03:00:36,012] Trial 149 finished with value: 0.98042465602085 and parameters: {'n_estimators': 626, 'max_depth': 46, 'min_samples_split': 4, 'min_samples_leaf': 1, 'max_features': 'sqrt', 'criterion': 'entropy'}. Best is trial 144 with value: 0.9814452642251881.\n",
      "[I 2024-05-09 03:00:47,822] Trial 150 pruned. \n",
      "[I 2024-05-09 03:01:06,919] Trial 151 finished with value: 0.9804860679890363 and parameters: {'n_estimators': 611, 'max_depth': 48, 'min_samples_split': 4, 'min_samples_leaf': 1, 'max_features': 'sqrt', 'criterion': 'entropy'}. Best is trial 144 with value: 0.9814452642251881.\n",
      "[I 2024-05-09 03:01:25,966] Trial 152 finished with value: 0.9801217654545813 and parameters: {'n_estimators': 589, 'max_depth': 47, 'min_samples_split': 4, 'min_samples_leaf': 1, 'max_features': 'sqrt', 'criterion': 'entropy'}. Best is trial 144 with value: 0.9814452642251881.\n",
      "[I 2024-05-09 03:01:40,544] Trial 153 pruned. \n",
      "[I 2024-05-09 03:01:56,377] Trial 154 pruned. \n",
      "[I 2024-05-09 03:02:17,259] Trial 155 finished with value: 0.9814370821127664 and parameters: {'n_estimators': 673, 'max_depth': 47, 'min_samples_split': 2, 'min_samples_leaf': 1, 'max_features': 'sqrt', 'criterion': 'entropy'}. Best is trial 144 with value: 0.9814452642251881.\n",
      "[I 2024-05-09 03:02:39,230] Trial 156 finished with value: 0.9816176763402856 and parameters: {'n_estimators': 667, 'max_depth': 47, 'min_samples_split': 2, 'min_samples_leaf': 1, 'max_features': 'sqrt', 'criterion': 'entropy'}. Best is trial 156 with value: 0.9816176763402856.\n",
      "[I 2024-05-09 03:02:55,145] Trial 157 pruned. \n",
      "[I 2024-05-09 03:03:08,544] Trial 158 pruned. \n",
      "[I 2024-05-09 03:03:26,476] Trial 159 pruned. \n",
      "[I 2024-05-09 03:03:51,298] Trial 160 finished with value: 0.981500308605826 and parameters: {'n_estimators': 705, 'max_depth': 47, 'min_samples_split': 2, 'min_samples_leaf': 1, 'max_features': 'sqrt', 'criterion': 'entropy'}. Best is trial 156 with value: 0.9816176763402856.\n",
      "[I 2024-05-09 03:04:14,898] Trial 161 finished with value: 0.9813739154699764 and parameters: {'n_estimators': 676, 'max_depth': 47, 'min_samples_split': 2, 'min_samples_leaf': 1, 'max_features': 'sqrt', 'criterion': 'entropy'}. Best is trial 156 with value: 0.9816176763402856.\n",
      "[I 2024-05-09 03:04:34,534] Trial 162 pruned. \n",
      "[I 2024-05-09 03:04:58,788] Trial 163 finished with value: 0.9813857710071684 and parameters: {'n_estimators': 685, 'max_depth': 45, 'min_samples_split': 3, 'min_samples_leaf': 1, 'max_features': 'sqrt', 'criterion': 'entropy'}. Best is trial 156 with value: 0.9816176763402856.\n",
      "[I 2024-05-09 03:05:23,273] Trial 164 finished with value: 0.9814349653662078 and parameters: {'n_estimators': 681, 'max_depth': 45, 'min_samples_split': 2, 'min_samples_leaf': 1, 'max_features': 'sqrt', 'criterion': 'entropy'}. Best is trial 156 with value: 0.9816176763402856.\n",
      "[I 2024-05-09 03:05:49,966] Trial 165 finished with value: 0.9812654410684625 and parameters: {'n_estimators': 727, 'max_depth': 45, 'min_samples_split': 2, 'min_samples_leaf': 1, 'max_features': 'sqrt', 'criterion': 'entropy'}. Best is trial 156 with value: 0.9816176763402856.\n",
      "[I 2024-05-09 03:06:11,449] Trial 166 pruned. \n",
      "[I 2024-05-09 03:06:31,461] Trial 167 pruned. \n",
      "[I 2024-05-09 03:06:56,833] Trial 168 finished with value: 0.9815082888474052 and parameters: {'n_estimators': 709, 'max_depth': 45, 'min_samples_split': 3, 'min_samples_leaf': 1, 'max_features': 'sqrt', 'criterion': 'entropy'}. Best is trial 156 with value: 0.9816176763402856.\n",
      "[I 2024-05-09 03:07:12,143] Trial 169 pruned. \n",
      "[I 2024-05-09 03:07:33,521] Trial 170 pruned. \n",
      "[I 2024-05-09 03:07:59,735] Trial 171 finished with value: 0.9815082888474052 and parameters: {'n_estimators': 707, 'max_depth': 43, 'min_samples_split': 3, 'min_samples_leaf': 1, 'max_features': 'sqrt', 'criterion': 'entropy'}. Best is trial 156 with value: 0.9816176763402856.\n",
      "[I 2024-05-09 03:08:21,899] Trial 172 finished with value: 0.9814393277260114 and parameters: {'n_estimators': 714, 'max_depth': 43, 'min_samples_split': 2, 'min_samples_leaf': 1, 'max_features': 'sqrt', 'criterion': 'entropy'}. Best is trial 156 with value: 0.9816176763402856.\n",
      "[I 2024-05-09 03:08:39,351] Trial 173 pruned. \n",
      "[I 2024-05-09 03:09:01,433] Trial 174 finished with value: 0.9814450131550014 and parameters: {'n_estimators': 730, 'max_depth': 43, 'min_samples_split': 3, 'min_samples_leaf': 1, 'max_features': 'sqrt', 'criterion': 'entropy'}. Best is trial 156 with value: 0.9816176763402856.\n",
      "[I 2024-05-09 03:09:24,107] Trial 175 finished with value: 0.981506273604215 and parameters: {'n_estimators': 725, 'max_depth': 45, 'min_samples_split': 3, 'min_samples_leaf': 1, 'max_features': 'sqrt', 'criterion': 'entropy'}. Best is trial 156 with value: 0.9816176763402856.\n",
      "[I 2024-05-09 03:09:42,296] Trial 176 pruned. \n",
      "[I 2024-05-09 03:09:59,569] Trial 177 pruned. \n",
      "[I 2024-05-09 03:10:20,250] Trial 178 finished with value: 0.9813739154699764 and parameters: {'n_estimators': 680, 'max_depth': 42, 'min_samples_split': 2, 'min_samples_leaf': 1, 'max_features': 'sqrt', 'criterion': 'entropy'}. Best is trial 156 with value: 0.9816176763402856.\n",
      "[I 2024-05-09 03:10:37,004] Trial 179 pruned. \n",
      "[I 2024-05-09 03:10:58,899] Trial 180 finished with value: 0.981564848125223 and parameters: {'n_estimators': 712, 'max_depth': 43, 'min_samples_split': 3, 'min_samples_leaf': 1, 'max_features': 'sqrt', 'criterion': 'entropy'}. Best is trial 156 with value: 0.9816176763402856.\n",
      "[I 2024-05-09 03:11:21,175] Trial 181 finished with value: 0.9815671443117594 and parameters: {'n_estimators': 708, 'max_depth': 43, 'min_samples_split': 3, 'min_samples_leaf': 1, 'max_features': 'sqrt', 'criterion': 'entropy'}. Best is trial 156 with value: 0.9816176763402856.\n",
      "[I 2024-05-09 03:11:45,689] Trial 182 finished with value: 0.9814472429248747 and parameters: {'n_estimators': 706, 'max_depth': 47, 'min_samples_split': 3, 'min_samples_leaf': 1, 'max_features': 'sqrt', 'criterion': 'entropy'}. Best is trial 156 with value: 0.9816176763402856.\n",
      "[I 2024-05-09 03:12:10,394] Trial 183 finished with value: 0.981564848125223 and parameters: {'n_estimators': 711, 'max_depth': 43, 'min_samples_split': 3, 'min_samples_leaf': 1, 'max_features': 'sqrt', 'criterion': 'entropy'}. Best is trial 156 with value: 0.9816176763402856.\n",
      "[I 2024-05-09 03:12:27,772] Trial 184 pruned. \n",
      "[I 2024-05-09 03:12:50,398] Trial 185 finished with value: 0.9815040146488692 and parameters: {'n_estimators': 743, 'max_depth': 43, 'min_samples_split': 3, 'min_samples_leaf': 1, 'max_features': 'sqrt', 'criterion': 'entropy'}. Best is trial 156 with value: 0.9816176763402856.\n",
      "[I 2024-05-09 03:13:08,947] Trial 186 pruned. \n",
      "[I 2024-05-09 03:13:21,776] Trial 187 pruned. \n",
      "[I 2024-05-09 03:13:44,986] Trial 188 finished with value: 0.9815040146488692 and parameters: {'n_estimators': 743, 'max_depth': 44, 'min_samples_split': 3, 'min_samples_leaf': 1, 'max_features': 'sqrt', 'criterion': 'entropy'}. Best is trial 156 with value: 0.9816176763402856.\n",
      "[I 2024-05-09 03:14:04,141] Trial 189 pruned. \n",
      "[I 2024-05-09 03:14:22,635] Trial 190 pruned. \n",
      "[I 2024-05-09 03:14:44,873] Trial 191 finished with value: 0.9814472429248747 and parameters: {'n_estimators': 705, 'max_depth': 43, 'min_samples_split': 3, 'min_samples_leaf': 1, 'max_features': 'sqrt', 'criterion': 'entropy'}. Best is trial 156 with value: 0.9816176763402856.\n",
      "[I 2024-05-09 03:15:07,009] Trial 192 finished with value: 0.9813215117768628 and parameters: {'n_estimators': 718, 'max_depth': 44, 'min_samples_split': 2, 'min_samples_leaf': 1, 'max_features': 'sqrt', 'criterion': 'entropy'}. Best is trial 156 with value: 0.9816176763402856.\n",
      "[I 2024-05-09 03:15:30,119] Trial 193 finished with value: 0.9814429680386517 and parameters: {'n_estimators': 745, 'max_depth': 43, 'min_samples_split': 3, 'min_samples_leaf': 1, 'max_features': 'sqrt', 'criterion': 'entropy'}. Best is trial 156 with value: 0.9816176763402856.\n",
      "[I 2024-05-09 03:15:49,404] Trial 194 pruned. \n",
      "[I 2024-05-09 03:16:13,833] Trial 195 finished with value: 0.9814425131585371 and parameters: {'n_estimators': 756, 'max_depth': 41, 'min_samples_split': 3, 'min_samples_leaf': 1, 'max_features': 'sqrt', 'criterion': 'entropy'}. Best is trial 156 with value: 0.9816176763402856.\n",
      "[I 2024-05-09 03:16:38,199] Trial 196 finished with value: 0.9805614417814983 and parameters: {'n_estimators': 791, 'max_depth': 43, 'min_samples_split': 5, 'min_samples_leaf': 1, 'max_features': 'sqrt', 'criterion': 'entropy'}. Best is trial 156 with value: 0.9816176763402856.\n",
      "[I 2024-05-09 03:16:57,403] Trial 197 pruned. \n",
      "[I 2024-05-09 03:17:21,670] Trial 198 finished with value: 0.9813871784616441 and parameters: {'n_estimators': 777, 'max_depth': 42, 'min_samples_split': 3, 'min_samples_leaf': 1, 'max_features': 'sqrt', 'criterion': 'entropy'}. Best is trial 156 with value: 0.9816176763402856.\n",
      "[I 2024-05-09 03:17:40,326] Trial 199 pruned. \n"
     ]
    }
   ],
   "source": [
    "study_no_feat_eng.optimize(\n",
    "    objective_no_feat_eng, \n",
    "    n_trials=NUM_TRIALS,\n",
    "    timeout = 20 * 60 * 60, # timeout after 20 hours\n",
    "    show_progress_bar=True\n",
    ")"
   ]
  },
  {
   "cell_type": "code",
   "execution_count": 9,
   "metadata": {},
   "outputs": [
    {
     "name": "stdout",
     "output_type": "stream",
     "text": [
      "{'n_estimators': 667, 'max_depth': 47, 'min_samples_split': 2, 'min_samples_leaf': 1, 'max_features': 'sqrt', 'criterion': 'entropy'}\n"
     ]
    }
   ],
   "source": [
    "best_params = study_no_feat_eng.best_params\n",
    "    \n",
    "print(best_params)\n",
    "\n",
    "if \"random_forest_no_feat_eng\" in config:\n",
    "    config[\"random_forest_no_feat_eng\"].update(best_params)\n",
    "else:\n",
    "    config[\"random_forest_no_feat_eng\"] = best_params\n",
    "\n",
    "# see: https://stackoverflow.com/questions/12470665/how-can-i-write-data-in-yaml-format-in-a-file\n",
    "with open(\"classical_ml_config.yaml\", \"w\") as file:\n",
    "    yaml.dump(config, file, default_flow_style=False)"
   ]
  },
  {
   "cell_type": "code",
   "execution_count": 10,
   "metadata": {},
   "outputs": [
    {
     "data": {
      "application/vnd.plotly.v1+json": {
       "config": {
        "plotlyServerURL": "https://plot.ly"
       },
       "data": [
        {
         "cliponaxis": false,
         "hovertemplate": [
          "max_features (CategoricalDistribution): 0.00585584036840571<extra></extra>",
          "criterion (CategoricalDistribution): 0.007529665418298316<extra></extra>",
          "min_samples_split (IntDistribution): 0.03466236006064553<extra></extra>",
          "max_depth (IntDistribution): 0.04462289707840713<extra></extra>",
          "n_estimators (IntDistribution): 0.0454712227314552<extra></extra>",
          "min_samples_leaf (IntDistribution): 0.8618580143427881<extra></extra>"
         ],
         "name": "Objective Value",
         "orientation": "h",
         "text": [
          "<0.01",
          "<0.01",
          "0.03",
          "0.04",
          "0.05",
          "0.86"
         ],
         "textposition": "outside",
         "type": "bar",
         "x": [
          0.00585584036840571,
          0.007529665418298316,
          0.03466236006064553,
          0.04462289707840713,
          0.0454712227314552,
          0.8618580143427881
         ],
         "y": [
          "max_features",
          "criterion",
          "min_samples_split",
          "max_depth",
          "n_estimators",
          "min_samples_leaf"
         ]
        }
       ],
       "layout": {
        "template": {
         "data": {
          "bar": [
           {
            "error_x": {
             "color": "#2a3f5f"
            },
            "error_y": {
             "color": "#2a3f5f"
            },
            "marker": {
             "line": {
              "color": "#E5ECF6",
              "width": 0.5
             },
             "pattern": {
              "fillmode": "overlay",
              "size": 10,
              "solidity": 0.2
             }
            },
            "type": "bar"
           }
          ],
          "barpolar": [
           {
            "marker": {
             "line": {
              "color": "#E5ECF6",
              "width": 0.5
             },
             "pattern": {
              "fillmode": "overlay",
              "size": 10,
              "solidity": 0.2
             }
            },
            "type": "barpolar"
           }
          ],
          "carpet": [
           {
            "aaxis": {
             "endlinecolor": "#2a3f5f",
             "gridcolor": "white",
             "linecolor": "white",
             "minorgridcolor": "white",
             "startlinecolor": "#2a3f5f"
            },
            "baxis": {
             "endlinecolor": "#2a3f5f",
             "gridcolor": "white",
             "linecolor": "white",
             "minorgridcolor": "white",
             "startlinecolor": "#2a3f5f"
            },
            "type": "carpet"
           }
          ],
          "choropleth": [
           {
            "colorbar": {
             "outlinewidth": 0,
             "ticks": ""
            },
            "type": "choropleth"
           }
          ],
          "contour": [
           {
            "colorbar": {
             "outlinewidth": 0,
             "ticks": ""
            },
            "colorscale": [
             [
              0,
              "#0d0887"
             ],
             [
              0.1111111111111111,
              "#46039f"
             ],
             [
              0.2222222222222222,
              "#7201a8"
             ],
             [
              0.3333333333333333,
              "#9c179e"
             ],
             [
              0.4444444444444444,
              "#bd3786"
             ],
             [
              0.5555555555555556,
              "#d8576b"
             ],
             [
              0.6666666666666666,
              "#ed7953"
             ],
             [
              0.7777777777777778,
              "#fb9f3a"
             ],
             [
              0.8888888888888888,
              "#fdca26"
             ],
             [
              1,
              "#f0f921"
             ]
            ],
            "type": "contour"
           }
          ],
          "contourcarpet": [
           {
            "colorbar": {
             "outlinewidth": 0,
             "ticks": ""
            },
            "type": "contourcarpet"
           }
          ],
          "heatmap": [
           {
            "colorbar": {
             "outlinewidth": 0,
             "ticks": ""
            },
            "colorscale": [
             [
              0,
              "#0d0887"
             ],
             [
              0.1111111111111111,
              "#46039f"
             ],
             [
              0.2222222222222222,
              "#7201a8"
             ],
             [
              0.3333333333333333,
              "#9c179e"
             ],
             [
              0.4444444444444444,
              "#bd3786"
             ],
             [
              0.5555555555555556,
              "#d8576b"
             ],
             [
              0.6666666666666666,
              "#ed7953"
             ],
             [
              0.7777777777777778,
              "#fb9f3a"
             ],
             [
              0.8888888888888888,
              "#fdca26"
             ],
             [
              1,
              "#f0f921"
             ]
            ],
            "type": "heatmap"
           }
          ],
          "heatmapgl": [
           {
            "colorbar": {
             "outlinewidth": 0,
             "ticks": ""
            },
            "colorscale": [
             [
              0,
              "#0d0887"
             ],
             [
              0.1111111111111111,
              "#46039f"
             ],
             [
              0.2222222222222222,
              "#7201a8"
             ],
             [
              0.3333333333333333,
              "#9c179e"
             ],
             [
              0.4444444444444444,
              "#bd3786"
             ],
             [
              0.5555555555555556,
              "#d8576b"
             ],
             [
              0.6666666666666666,
              "#ed7953"
             ],
             [
              0.7777777777777778,
              "#fb9f3a"
             ],
             [
              0.8888888888888888,
              "#fdca26"
             ],
             [
              1,
              "#f0f921"
             ]
            ],
            "type": "heatmapgl"
           }
          ],
          "histogram": [
           {
            "marker": {
             "pattern": {
              "fillmode": "overlay",
              "size": 10,
              "solidity": 0.2
             }
            },
            "type": "histogram"
           }
          ],
          "histogram2d": [
           {
            "colorbar": {
             "outlinewidth": 0,
             "ticks": ""
            },
            "colorscale": [
             [
              0,
              "#0d0887"
             ],
             [
              0.1111111111111111,
              "#46039f"
             ],
             [
              0.2222222222222222,
              "#7201a8"
             ],
             [
              0.3333333333333333,
              "#9c179e"
             ],
             [
              0.4444444444444444,
              "#bd3786"
             ],
             [
              0.5555555555555556,
              "#d8576b"
             ],
             [
              0.6666666666666666,
              "#ed7953"
             ],
             [
              0.7777777777777778,
              "#fb9f3a"
             ],
             [
              0.8888888888888888,
              "#fdca26"
             ],
             [
              1,
              "#f0f921"
             ]
            ],
            "type": "histogram2d"
           }
          ],
          "histogram2dcontour": [
           {
            "colorbar": {
             "outlinewidth": 0,
             "ticks": ""
            },
            "colorscale": [
             [
              0,
              "#0d0887"
             ],
             [
              0.1111111111111111,
              "#46039f"
             ],
             [
              0.2222222222222222,
              "#7201a8"
             ],
             [
              0.3333333333333333,
              "#9c179e"
             ],
             [
              0.4444444444444444,
              "#bd3786"
             ],
             [
              0.5555555555555556,
              "#d8576b"
             ],
             [
              0.6666666666666666,
              "#ed7953"
             ],
             [
              0.7777777777777778,
              "#fb9f3a"
             ],
             [
              0.8888888888888888,
              "#fdca26"
             ],
             [
              1,
              "#f0f921"
             ]
            ],
            "type": "histogram2dcontour"
           }
          ],
          "mesh3d": [
           {
            "colorbar": {
             "outlinewidth": 0,
             "ticks": ""
            },
            "type": "mesh3d"
           }
          ],
          "parcoords": [
           {
            "line": {
             "colorbar": {
              "outlinewidth": 0,
              "ticks": ""
             }
            },
            "type": "parcoords"
           }
          ],
          "pie": [
           {
            "automargin": true,
            "type": "pie"
           }
          ],
          "scatter": [
           {
            "fillpattern": {
             "fillmode": "overlay",
             "size": 10,
             "solidity": 0.2
            },
            "type": "scatter"
           }
          ],
          "scatter3d": [
           {
            "line": {
             "colorbar": {
              "outlinewidth": 0,
              "ticks": ""
             }
            },
            "marker": {
             "colorbar": {
              "outlinewidth": 0,
              "ticks": ""
             }
            },
            "type": "scatter3d"
           }
          ],
          "scattercarpet": [
           {
            "marker": {
             "colorbar": {
              "outlinewidth": 0,
              "ticks": ""
             }
            },
            "type": "scattercarpet"
           }
          ],
          "scattergeo": [
           {
            "marker": {
             "colorbar": {
              "outlinewidth": 0,
              "ticks": ""
             }
            },
            "type": "scattergeo"
           }
          ],
          "scattergl": [
           {
            "marker": {
             "colorbar": {
              "outlinewidth": 0,
              "ticks": ""
             }
            },
            "type": "scattergl"
           }
          ],
          "scattermapbox": [
           {
            "marker": {
             "colorbar": {
              "outlinewidth": 0,
              "ticks": ""
             }
            },
            "type": "scattermapbox"
           }
          ],
          "scatterpolar": [
           {
            "marker": {
             "colorbar": {
              "outlinewidth": 0,
              "ticks": ""
             }
            },
            "type": "scatterpolar"
           }
          ],
          "scatterpolargl": [
           {
            "marker": {
             "colorbar": {
              "outlinewidth": 0,
              "ticks": ""
             }
            },
            "type": "scatterpolargl"
           }
          ],
          "scatterternary": [
           {
            "marker": {
             "colorbar": {
              "outlinewidth": 0,
              "ticks": ""
             }
            },
            "type": "scatterternary"
           }
          ],
          "surface": [
           {
            "colorbar": {
             "outlinewidth": 0,
             "ticks": ""
            },
            "colorscale": [
             [
              0,
              "#0d0887"
             ],
             [
              0.1111111111111111,
              "#46039f"
             ],
             [
              0.2222222222222222,
              "#7201a8"
             ],
             [
              0.3333333333333333,
              "#9c179e"
             ],
             [
              0.4444444444444444,
              "#bd3786"
             ],
             [
              0.5555555555555556,
              "#d8576b"
             ],
             [
              0.6666666666666666,
              "#ed7953"
             ],
             [
              0.7777777777777778,
              "#fb9f3a"
             ],
             [
              0.8888888888888888,
              "#fdca26"
             ],
             [
              1,
              "#f0f921"
             ]
            ],
            "type": "surface"
           }
          ],
          "table": [
           {
            "cells": {
             "fill": {
              "color": "#EBF0F8"
             },
             "line": {
              "color": "white"
             }
            },
            "header": {
             "fill": {
              "color": "#C8D4E3"
             },
             "line": {
              "color": "white"
             }
            },
            "type": "table"
           }
          ]
         },
         "layout": {
          "annotationdefaults": {
           "arrowcolor": "#2a3f5f",
           "arrowhead": 0,
           "arrowwidth": 1
          },
          "autotypenumbers": "strict",
          "coloraxis": {
           "colorbar": {
            "outlinewidth": 0,
            "ticks": ""
           }
          },
          "colorscale": {
           "diverging": [
            [
             0,
             "#8e0152"
            ],
            [
             0.1,
             "#c51b7d"
            ],
            [
             0.2,
             "#de77ae"
            ],
            [
             0.3,
             "#f1b6da"
            ],
            [
             0.4,
             "#fde0ef"
            ],
            [
             0.5,
             "#f7f7f7"
            ],
            [
             0.6,
             "#e6f5d0"
            ],
            [
             0.7,
             "#b8e186"
            ],
            [
             0.8,
             "#7fbc41"
            ],
            [
             0.9,
             "#4d9221"
            ],
            [
             1,
             "#276419"
            ]
           ],
           "sequential": [
            [
             0,
             "#0d0887"
            ],
            [
             0.1111111111111111,
             "#46039f"
            ],
            [
             0.2222222222222222,
             "#7201a8"
            ],
            [
             0.3333333333333333,
             "#9c179e"
            ],
            [
             0.4444444444444444,
             "#bd3786"
            ],
            [
             0.5555555555555556,
             "#d8576b"
            ],
            [
             0.6666666666666666,
             "#ed7953"
            ],
            [
             0.7777777777777778,
             "#fb9f3a"
            ],
            [
             0.8888888888888888,
             "#fdca26"
            ],
            [
             1,
             "#f0f921"
            ]
           ],
           "sequentialminus": [
            [
             0,
             "#0d0887"
            ],
            [
             0.1111111111111111,
             "#46039f"
            ],
            [
             0.2222222222222222,
             "#7201a8"
            ],
            [
             0.3333333333333333,
             "#9c179e"
            ],
            [
             0.4444444444444444,
             "#bd3786"
            ],
            [
             0.5555555555555556,
             "#d8576b"
            ],
            [
             0.6666666666666666,
             "#ed7953"
            ],
            [
             0.7777777777777778,
             "#fb9f3a"
            ],
            [
             0.8888888888888888,
             "#fdca26"
            ],
            [
             1,
             "#f0f921"
            ]
           ]
          },
          "colorway": [
           "#636efa",
           "#EF553B",
           "#00cc96",
           "#ab63fa",
           "#FFA15A",
           "#19d3f3",
           "#FF6692",
           "#B6E880",
           "#FF97FF",
           "#FECB52"
          ],
          "font": {
           "color": "#2a3f5f"
          },
          "geo": {
           "bgcolor": "white",
           "lakecolor": "white",
           "landcolor": "#E5ECF6",
           "showlakes": true,
           "showland": true,
           "subunitcolor": "white"
          },
          "hoverlabel": {
           "align": "left"
          },
          "hovermode": "closest",
          "mapbox": {
           "style": "light"
          },
          "paper_bgcolor": "white",
          "plot_bgcolor": "#E5ECF6",
          "polar": {
           "angularaxis": {
            "gridcolor": "white",
            "linecolor": "white",
            "ticks": ""
           },
           "bgcolor": "#E5ECF6",
           "radialaxis": {
            "gridcolor": "white",
            "linecolor": "white",
            "ticks": ""
           }
          },
          "scene": {
           "xaxis": {
            "backgroundcolor": "#E5ECF6",
            "gridcolor": "white",
            "gridwidth": 2,
            "linecolor": "white",
            "showbackground": true,
            "ticks": "",
            "zerolinecolor": "white"
           },
           "yaxis": {
            "backgroundcolor": "#E5ECF6",
            "gridcolor": "white",
            "gridwidth": 2,
            "linecolor": "white",
            "showbackground": true,
            "ticks": "",
            "zerolinecolor": "white"
           },
           "zaxis": {
            "backgroundcolor": "#E5ECF6",
            "gridcolor": "white",
            "gridwidth": 2,
            "linecolor": "white",
            "showbackground": true,
            "ticks": "",
            "zerolinecolor": "white"
           }
          },
          "shapedefaults": {
           "line": {
            "color": "#2a3f5f"
           }
          },
          "ternary": {
           "aaxis": {
            "gridcolor": "white",
            "linecolor": "white",
            "ticks": ""
           },
           "baxis": {
            "gridcolor": "white",
            "linecolor": "white",
            "ticks": ""
           },
           "bgcolor": "#E5ECF6",
           "caxis": {
            "gridcolor": "white",
            "linecolor": "white",
            "ticks": ""
           }
          },
          "title": {
           "x": 0.05
          },
          "xaxis": {
           "automargin": true,
           "gridcolor": "white",
           "linecolor": "white",
           "ticks": "",
           "title": {
            "standoff": 15
           },
           "zerolinecolor": "white",
           "zerolinewidth": 2
          },
          "yaxis": {
           "automargin": true,
           "gridcolor": "white",
           "linecolor": "white",
           "ticks": "",
           "title": {
            "standoff": 15
           },
           "zerolinecolor": "white",
           "zerolinewidth": 2
          }
         }
        },
        "title": {
         "text": "Hyperparameter Importances"
        },
        "xaxis": {
         "title": {
          "text": "Hyperparameter Importance"
         }
        },
        "yaxis": {
         "title": {
          "text": "Hyperparameter"
         }
        }
       }
      }
     },
     "metadata": {},
     "output_type": "display_data"
    }
   ],
   "source": [
    "p_importance_no_feat_eng = optuna.visualization.plot_param_importances(study_no_feat_eng)\n",
    "p_importance_no_feat_eng.show()"
   ]
  },
  {
   "cell_type": "code",
   "execution_count": 11,
   "metadata": {},
   "outputs": [
    {
     "data": {
      "application/vnd.plotly.v1+json": {
       "config": {
        "plotlyServerURL": "https://plot.ly"
       },
       "data": [
        {
         "mode": "markers",
         "name": "Objective Value",
         "type": "scatter",
         "x": [
          0,
          1,
          2,
          3,
          4,
          5,
          6,
          7,
          8,
          9,
          10,
          11,
          12,
          13,
          14,
          15,
          16,
          17,
          18,
          19,
          21,
          22,
          23,
          24,
          25,
          27,
          28,
          31,
          32,
          34,
          35,
          39,
          40,
          41,
          42,
          43,
          45,
          51,
          52,
          53,
          54,
          55,
          57,
          59,
          60,
          61,
          62,
          63,
          64,
          66,
          67,
          68,
          71,
          72,
          73,
          74,
          77,
          80,
          81,
          82,
          83,
          84,
          85,
          86,
          89,
          91,
          92,
          94,
          95,
          97,
          98,
          100,
          101,
          102,
          103,
          105,
          110,
          111,
          112,
          113,
          115,
          116,
          118,
          120,
          121,
          122,
          123,
          125,
          126,
          128,
          130,
          132,
          133,
          134,
          135,
          137,
          140,
          141,
          144,
          147,
          149,
          151,
          152,
          155,
          156,
          160,
          161,
          163,
          164,
          165,
          168,
          171,
          172,
          174,
          175,
          178,
          180,
          181,
          182,
          183,
          185,
          188,
          191,
          192,
          193,
          195,
          196,
          198
         ],
         "y": [
          0.957659803364671,
          0.9273140227649449,
          0.9695713437811596,
          0.9578510929823476,
          0.951106725953174,
          0.9555968532633315,
          0.9701688670217559,
          0.968340773546028,
          0.9532628254632876,
          0.9657302696889477,
          0.9783107012149495,
          0.9782545686271508,
          0.9782557280169932,
          0.97754764877275,
          0.9380382493054418,
          0.9628166630339351,
          0.9689726920018253,
          0.9799480208127174,
          0.9591447540664255,
          0.9716399764550611,
          0.9755687886719666,
          0.9751848290783149,
          0.9722272527232498,
          0.9765996694043766,
          0.9740350125004541,
          0.9694260514670365,
          0.9768581235274553,
          0.976322925397913,
          0.9782551070358357,
          0.976149103313079,
          0.9759540481310551,
          0.9712906043924667,
          0.9720579981518156,
          0.9778908761592848,
          0.9765565344365896,
          0.9793829687430549,
          0.9791905546470898,
          0.9790823654180585,
          0.9769761736594654,
          0.9768821661032752,
          0.9760760210882795,
          0.9792644063629965,
          0.9792061540340505,
          0.9778352266916472,
          0.9762641927252844,
          0.980691859563394,
          0.9790196912518677,
          0.98062613786751,
          0.9776354479396616,
          0.9807202241611023,
          0.9798218667767769,
          0.978963327514107,
          0.9805971845503578,
          0.9800568268160742,
          0.9764776866858501,
          0.980009618612374,
          0.9783884634888256,
          0.9800775069548381,
          0.9800748272201292,
          0.9801383153687226,
          0.9776288790136037,
          0.97707935657604,
          0.9788417063610744,
          0.9788547865918853,
          0.9790797733982199,
          0.976871394670542,
          0.9798944647248551,
          0.9770230582322673,
          0.9769272011526781,
          0.9799507390348839,
          0.9793104662583867,
          0.9786771240318419,
          0.9803741355749647,
          0.9803155436091551,
          0.977967443083972,
          0.9789024338037049,
          0.9793600685076067,
          0.9798314204040374,
          0.9778058737374637,
          0.9791883253202787,
          0.97983037409136,
          0.978741077275157,
          0.9782758846834965,
          0.980752053066676,
          0.9808115671625879,
          0.9800869285050746,
          0.9791411200294646,
          0.9800232371343043,
          0.9791979355448508,
          0.9803666776751339,
          0.9795878119133878,
          0.9813253755753815,
          0.9795296291408407,
          0.9814450131550014,
          0.9813814425675915,
          0.9814394073859927,
          0.9813243671770302,
          0.9812634672318472,
          0.9814452642251881,
          0.9804227211144058,
          0.98042465602085,
          0.9804860679890363,
          0.9801217654545813,
          0.9814370821127664,
          0.9816176763402856,
          0.981500308605826,
          0.9813739154699764,
          0.9813857710071684,
          0.9814349653662078,
          0.9812654410684625,
          0.9815082888474052,
          0.9815082888474052,
          0.9814393277260114,
          0.9814450131550014,
          0.981506273604215,
          0.9813739154699764,
          0.981564848125223,
          0.9815671443117594,
          0.9814472429248747,
          0.981564848125223,
          0.9815040146488692,
          0.9815040146488692,
          0.9814472429248747,
          0.9813215117768628,
          0.9814429680386517,
          0.9814425131585371,
          0.9805614417814983,
          0.9813871784616441
         ]
        },
        {
         "mode": "lines",
         "name": "Best Value",
         "type": "scatter",
         "x": [
          0,
          1,
          2,
          3,
          4,
          5,
          6,
          7,
          8,
          9,
          10,
          11,
          12,
          13,
          14,
          15,
          16,
          17,
          18,
          19,
          20,
          21,
          22,
          23,
          24,
          25,
          26,
          27,
          28,
          29,
          30,
          31,
          32,
          33,
          34,
          35,
          36,
          37,
          38,
          39,
          40,
          41,
          42,
          43,
          44,
          45,
          46,
          47,
          48,
          49,
          50,
          51,
          52,
          53,
          54,
          55,
          56,
          57,
          58,
          59,
          60,
          61,
          62,
          63,
          64,
          65,
          66,
          67,
          68,
          69,
          70,
          71,
          72,
          73,
          74,
          75,
          76,
          77,
          78,
          79,
          80,
          81,
          82,
          83,
          84,
          85,
          86,
          87,
          88,
          89,
          90,
          91,
          92,
          93,
          94,
          95,
          96,
          97,
          98,
          99,
          100,
          101,
          102,
          103,
          104,
          105,
          106,
          107,
          108,
          109,
          110,
          111,
          112,
          113,
          114,
          115,
          116,
          117,
          118,
          119,
          120,
          121,
          122,
          123,
          124,
          125,
          126,
          127,
          128,
          129,
          130,
          131,
          132,
          133,
          134,
          135,
          136,
          137,
          138,
          139,
          140,
          141,
          142,
          143,
          144,
          145,
          146,
          147,
          148,
          149,
          150,
          151,
          152,
          153,
          154,
          155,
          156,
          157,
          158,
          159,
          160,
          161,
          162,
          163,
          164,
          165,
          166,
          167,
          168,
          169,
          170,
          171,
          172,
          173,
          174,
          175,
          176,
          177,
          178,
          179,
          180,
          181,
          182,
          183,
          184,
          185,
          186,
          187,
          188,
          189,
          190,
          191,
          192,
          193,
          194,
          195,
          196,
          197,
          198,
          199
         ],
         "y": [
          0.957659803364671,
          0.957659803364671,
          0.9695713437811596,
          0.9695713437811596,
          0.9695713437811596,
          0.9695713437811596,
          0.9701688670217559,
          0.9701688670217559,
          0.9701688670217559,
          0.9701688670217559,
          0.9783107012149495,
          0.9783107012149495,
          0.9783107012149495,
          0.9783107012149495,
          0.9783107012149495,
          0.9783107012149495,
          0.9783107012149495,
          0.9799480208127174,
          0.9799480208127174,
          0.9799480208127174,
          0.9799480208127174,
          0.9799480208127174,
          0.9799480208127174,
          0.9799480208127174,
          0.9799480208127174,
          0.9799480208127174,
          0.9799480208127174,
          0.9799480208127174,
          0.9799480208127174,
          0.9799480208127174,
          0.9799480208127174,
          0.9799480208127174,
          0.9799480208127174,
          0.9799480208127174,
          0.9799480208127174,
          0.9799480208127174,
          0.9799480208127174,
          0.9799480208127174,
          0.9799480208127174,
          0.9799480208127174,
          0.9799480208127174,
          0.9799480208127174,
          0.9799480208127174,
          0.9799480208127174,
          0.9799480208127174,
          0.9799480208127174,
          0.9799480208127174,
          0.9799480208127174,
          0.9799480208127174,
          0.9799480208127174,
          0.9799480208127174,
          0.9799480208127174,
          0.9799480208127174,
          0.9799480208127174,
          0.9799480208127174,
          0.9799480208127174,
          0.9799480208127174,
          0.9799480208127174,
          0.9799480208127174,
          0.9799480208127174,
          0.9799480208127174,
          0.980691859563394,
          0.980691859563394,
          0.980691859563394,
          0.980691859563394,
          0.980691859563394,
          0.9807202241611023,
          0.9807202241611023,
          0.9807202241611023,
          0.9807202241611023,
          0.9807202241611023,
          0.9807202241611023,
          0.9807202241611023,
          0.9807202241611023,
          0.9807202241611023,
          0.9807202241611023,
          0.9807202241611023,
          0.9807202241611023,
          0.9807202241611023,
          0.9807202241611023,
          0.9807202241611023,
          0.9807202241611023,
          0.9807202241611023,
          0.9807202241611023,
          0.9807202241611023,
          0.9807202241611023,
          0.9807202241611023,
          0.9807202241611023,
          0.9807202241611023,
          0.9807202241611023,
          0.9807202241611023,
          0.9807202241611023,
          0.9807202241611023,
          0.9807202241611023,
          0.9807202241611023,
          0.9807202241611023,
          0.9807202241611023,
          0.9807202241611023,
          0.9807202241611023,
          0.9807202241611023,
          0.9807202241611023,
          0.9807202241611023,
          0.9807202241611023,
          0.9807202241611023,
          0.9807202241611023,
          0.9807202241611023,
          0.9807202241611023,
          0.9807202241611023,
          0.9807202241611023,
          0.9807202241611023,
          0.9807202241611023,
          0.9807202241611023,
          0.9807202241611023,
          0.9807202241611023,
          0.9807202241611023,
          0.9807202241611023,
          0.9807202241611023,
          0.9807202241611023,
          0.9807202241611023,
          0.9807202241611023,
          0.980752053066676,
          0.9808115671625879,
          0.9808115671625879,
          0.9808115671625879,
          0.9808115671625879,
          0.9808115671625879,
          0.9808115671625879,
          0.9808115671625879,
          0.9808115671625879,
          0.9808115671625879,
          0.9808115671625879,
          0.9808115671625879,
          0.9813253755753815,
          0.9813253755753815,
          0.9814450131550014,
          0.9814450131550014,
          0.9814450131550014,
          0.9814450131550014,
          0.9814450131550014,
          0.9814450131550014,
          0.9814450131550014,
          0.9814450131550014,
          0.9814450131550014,
          0.9814450131550014,
          0.9814452642251881,
          0.9814452642251881,
          0.9814452642251881,
          0.9814452642251881,
          0.9814452642251881,
          0.9814452642251881,
          0.9814452642251881,
          0.9814452642251881,
          0.9814452642251881,
          0.9814452642251881,
          0.9814452642251881,
          0.9814452642251881,
          0.9816176763402856,
          0.9816176763402856,
          0.9816176763402856,
          0.9816176763402856,
          0.9816176763402856,
          0.9816176763402856,
          0.9816176763402856,
          0.9816176763402856,
          0.9816176763402856,
          0.9816176763402856,
          0.9816176763402856,
          0.9816176763402856,
          0.9816176763402856,
          0.9816176763402856,
          0.9816176763402856,
          0.9816176763402856,
          0.9816176763402856,
          0.9816176763402856,
          0.9816176763402856,
          0.9816176763402856,
          0.9816176763402856,
          0.9816176763402856,
          0.9816176763402856,
          0.9816176763402856,
          0.9816176763402856,
          0.9816176763402856,
          0.9816176763402856,
          0.9816176763402856,
          0.9816176763402856,
          0.9816176763402856,
          0.9816176763402856,
          0.9816176763402856,
          0.9816176763402856,
          0.9816176763402856,
          0.9816176763402856,
          0.9816176763402856,
          0.9816176763402856,
          0.9816176763402856,
          0.9816176763402856,
          0.9816176763402856,
          0.9816176763402856,
          0.9816176763402856,
          0.9816176763402856,
          0.9816176763402856
         ]
        },
        {
         "marker": {
          "color": "#cccccc"
         },
         "mode": "markers",
         "name": "Infeasible Trial",
         "showlegend": false,
         "type": "scatter",
         "x": [],
         "y": []
        }
       ],
       "layout": {
        "template": {
         "data": {
          "bar": [
           {
            "error_x": {
             "color": "#2a3f5f"
            },
            "error_y": {
             "color": "#2a3f5f"
            },
            "marker": {
             "line": {
              "color": "#E5ECF6",
              "width": 0.5
             },
             "pattern": {
              "fillmode": "overlay",
              "size": 10,
              "solidity": 0.2
             }
            },
            "type": "bar"
           }
          ],
          "barpolar": [
           {
            "marker": {
             "line": {
              "color": "#E5ECF6",
              "width": 0.5
             },
             "pattern": {
              "fillmode": "overlay",
              "size": 10,
              "solidity": 0.2
             }
            },
            "type": "barpolar"
           }
          ],
          "carpet": [
           {
            "aaxis": {
             "endlinecolor": "#2a3f5f",
             "gridcolor": "white",
             "linecolor": "white",
             "minorgridcolor": "white",
             "startlinecolor": "#2a3f5f"
            },
            "baxis": {
             "endlinecolor": "#2a3f5f",
             "gridcolor": "white",
             "linecolor": "white",
             "minorgridcolor": "white",
             "startlinecolor": "#2a3f5f"
            },
            "type": "carpet"
           }
          ],
          "choropleth": [
           {
            "colorbar": {
             "outlinewidth": 0,
             "ticks": ""
            },
            "type": "choropleth"
           }
          ],
          "contour": [
           {
            "colorbar": {
             "outlinewidth": 0,
             "ticks": ""
            },
            "colorscale": [
             [
              0,
              "#0d0887"
             ],
             [
              0.1111111111111111,
              "#46039f"
             ],
             [
              0.2222222222222222,
              "#7201a8"
             ],
             [
              0.3333333333333333,
              "#9c179e"
             ],
             [
              0.4444444444444444,
              "#bd3786"
             ],
             [
              0.5555555555555556,
              "#d8576b"
             ],
             [
              0.6666666666666666,
              "#ed7953"
             ],
             [
              0.7777777777777778,
              "#fb9f3a"
             ],
             [
              0.8888888888888888,
              "#fdca26"
             ],
             [
              1,
              "#f0f921"
             ]
            ],
            "type": "contour"
           }
          ],
          "contourcarpet": [
           {
            "colorbar": {
             "outlinewidth": 0,
             "ticks": ""
            },
            "type": "contourcarpet"
           }
          ],
          "heatmap": [
           {
            "colorbar": {
             "outlinewidth": 0,
             "ticks": ""
            },
            "colorscale": [
             [
              0,
              "#0d0887"
             ],
             [
              0.1111111111111111,
              "#46039f"
             ],
             [
              0.2222222222222222,
              "#7201a8"
             ],
             [
              0.3333333333333333,
              "#9c179e"
             ],
             [
              0.4444444444444444,
              "#bd3786"
             ],
             [
              0.5555555555555556,
              "#d8576b"
             ],
             [
              0.6666666666666666,
              "#ed7953"
             ],
             [
              0.7777777777777778,
              "#fb9f3a"
             ],
             [
              0.8888888888888888,
              "#fdca26"
             ],
             [
              1,
              "#f0f921"
             ]
            ],
            "type": "heatmap"
           }
          ],
          "heatmapgl": [
           {
            "colorbar": {
             "outlinewidth": 0,
             "ticks": ""
            },
            "colorscale": [
             [
              0,
              "#0d0887"
             ],
             [
              0.1111111111111111,
              "#46039f"
             ],
             [
              0.2222222222222222,
              "#7201a8"
             ],
             [
              0.3333333333333333,
              "#9c179e"
             ],
             [
              0.4444444444444444,
              "#bd3786"
             ],
             [
              0.5555555555555556,
              "#d8576b"
             ],
             [
              0.6666666666666666,
              "#ed7953"
             ],
             [
              0.7777777777777778,
              "#fb9f3a"
             ],
             [
              0.8888888888888888,
              "#fdca26"
             ],
             [
              1,
              "#f0f921"
             ]
            ],
            "type": "heatmapgl"
           }
          ],
          "histogram": [
           {
            "marker": {
             "pattern": {
              "fillmode": "overlay",
              "size": 10,
              "solidity": 0.2
             }
            },
            "type": "histogram"
           }
          ],
          "histogram2d": [
           {
            "colorbar": {
             "outlinewidth": 0,
             "ticks": ""
            },
            "colorscale": [
             [
              0,
              "#0d0887"
             ],
             [
              0.1111111111111111,
              "#46039f"
             ],
             [
              0.2222222222222222,
              "#7201a8"
             ],
             [
              0.3333333333333333,
              "#9c179e"
             ],
             [
              0.4444444444444444,
              "#bd3786"
             ],
             [
              0.5555555555555556,
              "#d8576b"
             ],
             [
              0.6666666666666666,
              "#ed7953"
             ],
             [
              0.7777777777777778,
              "#fb9f3a"
             ],
             [
              0.8888888888888888,
              "#fdca26"
             ],
             [
              1,
              "#f0f921"
             ]
            ],
            "type": "histogram2d"
           }
          ],
          "histogram2dcontour": [
           {
            "colorbar": {
             "outlinewidth": 0,
             "ticks": ""
            },
            "colorscale": [
             [
              0,
              "#0d0887"
             ],
             [
              0.1111111111111111,
              "#46039f"
             ],
             [
              0.2222222222222222,
              "#7201a8"
             ],
             [
              0.3333333333333333,
              "#9c179e"
             ],
             [
              0.4444444444444444,
              "#bd3786"
             ],
             [
              0.5555555555555556,
              "#d8576b"
             ],
             [
              0.6666666666666666,
              "#ed7953"
             ],
             [
              0.7777777777777778,
              "#fb9f3a"
             ],
             [
              0.8888888888888888,
              "#fdca26"
             ],
             [
              1,
              "#f0f921"
             ]
            ],
            "type": "histogram2dcontour"
           }
          ],
          "mesh3d": [
           {
            "colorbar": {
             "outlinewidth": 0,
             "ticks": ""
            },
            "type": "mesh3d"
           }
          ],
          "parcoords": [
           {
            "line": {
             "colorbar": {
              "outlinewidth": 0,
              "ticks": ""
             }
            },
            "type": "parcoords"
           }
          ],
          "pie": [
           {
            "automargin": true,
            "type": "pie"
           }
          ],
          "scatter": [
           {
            "fillpattern": {
             "fillmode": "overlay",
             "size": 10,
             "solidity": 0.2
            },
            "type": "scatter"
           }
          ],
          "scatter3d": [
           {
            "line": {
             "colorbar": {
              "outlinewidth": 0,
              "ticks": ""
             }
            },
            "marker": {
             "colorbar": {
              "outlinewidth": 0,
              "ticks": ""
             }
            },
            "type": "scatter3d"
           }
          ],
          "scattercarpet": [
           {
            "marker": {
             "colorbar": {
              "outlinewidth": 0,
              "ticks": ""
             }
            },
            "type": "scattercarpet"
           }
          ],
          "scattergeo": [
           {
            "marker": {
             "colorbar": {
              "outlinewidth": 0,
              "ticks": ""
             }
            },
            "type": "scattergeo"
           }
          ],
          "scattergl": [
           {
            "marker": {
             "colorbar": {
              "outlinewidth": 0,
              "ticks": ""
             }
            },
            "type": "scattergl"
           }
          ],
          "scattermapbox": [
           {
            "marker": {
             "colorbar": {
              "outlinewidth": 0,
              "ticks": ""
             }
            },
            "type": "scattermapbox"
           }
          ],
          "scatterpolar": [
           {
            "marker": {
             "colorbar": {
              "outlinewidth": 0,
              "ticks": ""
             }
            },
            "type": "scatterpolar"
           }
          ],
          "scatterpolargl": [
           {
            "marker": {
             "colorbar": {
              "outlinewidth": 0,
              "ticks": ""
             }
            },
            "type": "scatterpolargl"
           }
          ],
          "scatterternary": [
           {
            "marker": {
             "colorbar": {
              "outlinewidth": 0,
              "ticks": ""
             }
            },
            "type": "scatterternary"
           }
          ],
          "surface": [
           {
            "colorbar": {
             "outlinewidth": 0,
             "ticks": ""
            },
            "colorscale": [
             [
              0,
              "#0d0887"
             ],
             [
              0.1111111111111111,
              "#46039f"
             ],
             [
              0.2222222222222222,
              "#7201a8"
             ],
             [
              0.3333333333333333,
              "#9c179e"
             ],
             [
              0.4444444444444444,
              "#bd3786"
             ],
             [
              0.5555555555555556,
              "#d8576b"
             ],
             [
              0.6666666666666666,
              "#ed7953"
             ],
             [
              0.7777777777777778,
              "#fb9f3a"
             ],
             [
              0.8888888888888888,
              "#fdca26"
             ],
             [
              1,
              "#f0f921"
             ]
            ],
            "type": "surface"
           }
          ],
          "table": [
           {
            "cells": {
             "fill": {
              "color": "#EBF0F8"
             },
             "line": {
              "color": "white"
             }
            },
            "header": {
             "fill": {
              "color": "#C8D4E3"
             },
             "line": {
              "color": "white"
             }
            },
            "type": "table"
           }
          ]
         },
         "layout": {
          "annotationdefaults": {
           "arrowcolor": "#2a3f5f",
           "arrowhead": 0,
           "arrowwidth": 1
          },
          "autotypenumbers": "strict",
          "coloraxis": {
           "colorbar": {
            "outlinewidth": 0,
            "ticks": ""
           }
          },
          "colorscale": {
           "diverging": [
            [
             0,
             "#8e0152"
            ],
            [
             0.1,
             "#c51b7d"
            ],
            [
             0.2,
             "#de77ae"
            ],
            [
             0.3,
             "#f1b6da"
            ],
            [
             0.4,
             "#fde0ef"
            ],
            [
             0.5,
             "#f7f7f7"
            ],
            [
             0.6,
             "#e6f5d0"
            ],
            [
             0.7,
             "#b8e186"
            ],
            [
             0.8,
             "#7fbc41"
            ],
            [
             0.9,
             "#4d9221"
            ],
            [
             1,
             "#276419"
            ]
           ],
           "sequential": [
            [
             0,
             "#0d0887"
            ],
            [
             0.1111111111111111,
             "#46039f"
            ],
            [
             0.2222222222222222,
             "#7201a8"
            ],
            [
             0.3333333333333333,
             "#9c179e"
            ],
            [
             0.4444444444444444,
             "#bd3786"
            ],
            [
             0.5555555555555556,
             "#d8576b"
            ],
            [
             0.6666666666666666,
             "#ed7953"
            ],
            [
             0.7777777777777778,
             "#fb9f3a"
            ],
            [
             0.8888888888888888,
             "#fdca26"
            ],
            [
             1,
             "#f0f921"
            ]
           ],
           "sequentialminus": [
            [
             0,
             "#0d0887"
            ],
            [
             0.1111111111111111,
             "#46039f"
            ],
            [
             0.2222222222222222,
             "#7201a8"
            ],
            [
             0.3333333333333333,
             "#9c179e"
            ],
            [
             0.4444444444444444,
             "#bd3786"
            ],
            [
             0.5555555555555556,
             "#d8576b"
            ],
            [
             0.6666666666666666,
             "#ed7953"
            ],
            [
             0.7777777777777778,
             "#fb9f3a"
            ],
            [
             0.8888888888888888,
             "#fdca26"
            ],
            [
             1,
             "#f0f921"
            ]
           ]
          },
          "colorway": [
           "#636efa",
           "#EF553B",
           "#00cc96",
           "#ab63fa",
           "#FFA15A",
           "#19d3f3",
           "#FF6692",
           "#B6E880",
           "#FF97FF",
           "#FECB52"
          ],
          "font": {
           "color": "#2a3f5f"
          },
          "geo": {
           "bgcolor": "white",
           "lakecolor": "white",
           "landcolor": "#E5ECF6",
           "showlakes": true,
           "showland": true,
           "subunitcolor": "white"
          },
          "hoverlabel": {
           "align": "left"
          },
          "hovermode": "closest",
          "mapbox": {
           "style": "light"
          },
          "paper_bgcolor": "white",
          "plot_bgcolor": "#E5ECF6",
          "polar": {
           "angularaxis": {
            "gridcolor": "white",
            "linecolor": "white",
            "ticks": ""
           },
           "bgcolor": "#E5ECF6",
           "radialaxis": {
            "gridcolor": "white",
            "linecolor": "white",
            "ticks": ""
           }
          },
          "scene": {
           "xaxis": {
            "backgroundcolor": "#E5ECF6",
            "gridcolor": "white",
            "gridwidth": 2,
            "linecolor": "white",
            "showbackground": true,
            "ticks": "",
            "zerolinecolor": "white"
           },
           "yaxis": {
            "backgroundcolor": "#E5ECF6",
            "gridcolor": "white",
            "gridwidth": 2,
            "linecolor": "white",
            "showbackground": true,
            "ticks": "",
            "zerolinecolor": "white"
           },
           "zaxis": {
            "backgroundcolor": "#E5ECF6",
            "gridcolor": "white",
            "gridwidth": 2,
            "linecolor": "white",
            "showbackground": true,
            "ticks": "",
            "zerolinecolor": "white"
           }
          },
          "shapedefaults": {
           "line": {
            "color": "#2a3f5f"
           }
          },
          "ternary": {
           "aaxis": {
            "gridcolor": "white",
            "linecolor": "white",
            "ticks": ""
           },
           "baxis": {
            "gridcolor": "white",
            "linecolor": "white",
            "ticks": ""
           },
           "bgcolor": "#E5ECF6",
           "caxis": {
            "gridcolor": "white",
            "linecolor": "white",
            "ticks": ""
           }
          },
          "title": {
           "x": 0.05
          },
          "xaxis": {
           "automargin": true,
           "gridcolor": "white",
           "linecolor": "white",
           "ticks": "",
           "title": {
            "standoff": 15
           },
           "zerolinecolor": "white",
           "zerolinewidth": 2
          },
          "yaxis": {
           "automargin": true,
           "gridcolor": "white",
           "linecolor": "white",
           "ticks": "",
           "title": {
            "standoff": 15
           },
           "zerolinecolor": "white",
           "zerolinewidth": 2
          }
         }
        },
        "title": {
         "text": "Optimization History Plot"
        },
        "xaxis": {
         "title": {
          "text": "Trial"
         }
        },
        "yaxis": {
         "title": {
          "text": "Objective Value"
         }
        }
       }
      }
     },
     "metadata": {},
     "output_type": "display_data"
    }
   ],
   "source": [
    "p_history_no_feat_eng = optuna.visualization.plot_optimization_history(study_no_feat_eng)\n",
    "p_history_no_feat_eng.show()"
   ]
  },
  {
   "cell_type": "markdown",
   "metadata": {},
   "source": [
    "## With Feature Engineering"
   ]
  },
  {
   "cell_type": "code",
   "execution_count": 12,
   "metadata": {},
   "outputs": [],
   "source": [
    "# Load data\n",
    "train_df = pd.read_csv(config[\"paths\"][\"ptb_train\"], header=None)"
   ]
  },
  {
   "cell_type": "code",
   "execution_count": 13,
   "metadata": {},
   "outputs": [],
   "source": [
    "X_train_all = train_df.iloc[:, :-1]\n",
    "y_train_all = train_df.iloc[:, -1]"
   ]
  },
  {
   "cell_type": "code",
   "execution_count": 14,
   "metadata": {},
   "outputs": [],
   "source": [
    "smote = SMOTE(random_state=config[\"general\"][\"seed\"])\n",
    "X_train_all, y_train_all = smote.fit_resample(X_train_all, y_train_all)"
   ]
  },
  {
   "cell_type": "code",
   "execution_count": 15,
   "metadata": {},
   "outputs": [],
   "source": [
    "X_train_all.columns = X_train_all.columns.astype(str)"
   ]
  },
  {
   "cell_type": "markdown",
   "metadata": {},
   "source": [
    "Note that for reasons of time, we will not carry out feature engineering for every validation split separately. Instead, we will use the same feature engineering for all validation splits. This is not ideal, but it is a compromise that we have to make in order to keep the runtime of this notebook within reasonable limits."
   ]
  },
  {
   "cell_type": "code",
   "execution_count": 16,
   "metadata": {},
   "outputs": [
    {
     "name": "stderr",
     "output_type": "stream",
     "text": [
      "/tmp/ipykernel_7786/3679911473.py:1: PerformanceWarning:\n",
      "\n",
      "DataFrame is highly fragmented.  This is usually the result of calling `frame.insert` many times, which has poor performance.  Consider joining all columns at once using pd.concat(axis=1) instead. To get a de-fragmented frame, use `newframe = frame.copy()`\n",
      "\n"
     ]
    }
   ],
   "source": [
    "X_train_all[\"id\"] = X_train_all.index\n",
    "X_train_melted =(\n",
    "    X_train_all\n",
    "    .melt(id_vars=\"id\", var_name=\"time\", value_name=\"value\")\n",
    "    .sort_values(by=[\"id\", \"time\"])\n",
    ")\n",
    "\n",
    "# get rid of padding to not ruin the engineered features\n",
    "# for simplicity, we drop all 0s, as only few \"true\" 0s are in the data\n",
    "X_train_melted[\"value\"] = X_train_melted[\"value\"].replace(0, np.nan)\n",
    "X_train_melted = X_train_melted.dropna()"
   ]
  },
  {
   "cell_type": "code",
   "execution_count": 17,
   "metadata": {},
   "outputs": [
    {
     "name": "stderr",
     "output_type": "stream",
     "text": [
      "Feature Extraction: 100%|██████████| 80/80 [01:23<00:00,  1.04s/it]\n"
     ]
    }
   ],
   "source": [
    "# We will follow this tutorial:\n",
    "# https://towardsdatascience.com/expanding-your-regression-repertoire-with-regularisation-903d2c9f7b28\n",
    "# but will use the ComprehensiveFCParameters instead of the EfficientFCParameters\n",
    "# for feature extraction\n",
    "X_train_augmented = extract_features(\n",
    "    X_train_melted,\n",
    "    column_id=\"id\",\n",
    "    column_sort=\"time\",\n",
    "    column_value=\"value\",\n",
    "    default_fc_parameters=ComprehensiveFCParameters(),\n",
    ")  \n",
    "\n",
    "X_train_merged = pd.merge(\n",
    "    X_train_all, X_train_augmented, left_index=True, right_index=True\n",
    ")\n",
    "\n",
    "# assert that no rows were lost\n",
    "assert X_train_merged.shape[0] == X_train_all.shape[0]\n",
    "assert X_train_merged.index.equals(X_train_all.index)"
   ]
  },
  {
   "cell_type": "code",
   "execution_count": 18,
   "metadata": {},
   "outputs": [],
   "source": [
    "scaler = StandardScaler()\n",
    "\n",
    "\n",
    "# create objective function for optuna\n",
    "def objective_feat_eng(trial):\n",
    "    use_smote = trial.suggest_categorical(\"use_smote\", [True, False]),\n",
    "\n",
    "    # see: https://medium.com/@ethannabatchian/optimizing-random-forest-models-a-deep-dive-into-hyperparameter-tuning-with-optuna-b8e4fe7f3670\n",
    "    hyperparams = {\n",
    "        \"n_estimators\": trial.suggest_int(\"n_estimators\", 100, 1000),\n",
    "        \"max_depth\": trial.suggest_int(\"max_depth\", 10, 50),\n",
    "        \"min_samples_split\": trial.suggest_int(\"min_samples_split\", 2, 32),\n",
    "        \"min_samples_leaf\": trial.suggest_int(\"min_samples_leaf\", 1, 32),\n",
    "        \"max_features\": trial.suggest_categorical(\"max_features\", [\"sqrt\", \"log2\"]),\n",
    "        \"criterion\": trial.suggest_categorical(\"criterion\", [\"gini\", \"entropy\", \"log_loss\"]),\n",
    "    }\n",
    "    \n",
    "    \n",
    "    \n",
    "    f1_scores = []\n",
    "    \n",
    "    skf = StratifiedKFold(n_splits=5, random_state=config[\"general\"][\"seed\"], shuffle=True)\n",
    "    for fold_num, (train_idx, val_idx) in enumerate(skf.split(X_train_merged, y_train_all)):\n",
    "        X_train, X_val = X_train_merged.iloc[train_idx], X_train_merged.iloc[val_idx]\n",
    "        y_train, y_val = y_train_all[train_idx], y_train_all[val_idx] \n",
    "        \n",
    "       \n",
    "        X_train = scaler.fit_transform(X_train)\n",
    "        X_val = scaler.transform(X_val)\n",
    "        \n",
    "        rf = RandomForestClassifier(\n",
    "            random_state=config[\"general\"][\"seed\"],\n",
    "            n_jobs=-1,\n",
    "            **hyperparams\n",
    "        )\n",
    "        rf.fit(X_train, y_train)\n",
    "        \n",
    "        y_preds = rf.predict(X_val)\n",
    "        \n",
    "        score = f1_score(y_val, y_preds)\n",
    "            \n",
    "        trial.report(score, fold_num)\n",
    "        if trial.should_prune():\n",
    "            raise optuna.TrialPruned()\n",
    "        \n",
    "        f1_scores.append(score)\n",
    "            \n",
    "        \n",
    "    return np.mean(score)"
   ]
  },
  {
   "cell_type": "code",
   "execution_count": 19,
   "metadata": {},
   "outputs": [
    {
     "name": "stderr",
     "output_type": "stream",
     "text": [
      "[I 2024-05-09 03:19:29,633] A new study created in memory with name: rf_feat_eng\n"
     ]
    }
   ],
   "source": [
    "# prune bad trials \n",
    "pruner = optuna.pruners.MedianPruner(n_startup_trials=20, n_warmup_steps=2)\n",
    "\n",
    "study_feat_eng = optuna.create_study(\n",
    "    direction=\"maximize\",\n",
    "    study_name=\"rf_feat_eng\",\n",
    "    sampler=optuna.samplers.TPESampler(seed=config[\"general\"][\"seed\"]),\n",
    "    pruner=pruner,\n",
    ")"
   ]
  },
  {
   "cell_type": "code",
   "execution_count": 20,
   "metadata": {},
   "outputs": [
    {
     "data": {
      "application/vnd.jupyter.widget-view+json": {
       "model_id": "4c6c9ff7971d4ad7b1d0fcdc37bad919",
       "version_major": 2,
       "version_minor": 0
      },
      "text/plain": [
       "  0%|          | 0/200 [00:00<?, ?it/s]"
      ]
     },
     "metadata": {},
     "output_type": "display_data"
    },
    {
     "name": "stdout",
     "output_type": "stream",
     "text": [
      "[I 2024-05-09 03:19:59,949] Trial 0 finished with value: 0.9801833776989056 and parameters: {'use_smote': False, 'n_estimators': 759, 'max_depth': 34, 'min_samples_split': 6, 'min_samples_leaf': 5, 'max_features': 'log2', 'criterion': 'entropy'}. Best is trial 0 with value: 0.9801833776989056.\n",
      "[I 2024-05-09 03:20:18,117] Trial 1 finished with value: 0.9764428739693758 and parameters: {'use_smote': True, 'n_estimators': 291, 'max_depth': 17, 'min_samples_split': 7, 'min_samples_leaf': 10, 'max_features': 'sqrt', 'criterion': 'entropy'}. Best is trial 0 with value: 0.9801833776989056.\n",
      "[I 2024-05-09 03:20:43,494] Trial 2 finished with value: 0.9692712906057945 and parameters: {'use_smote': False, 'n_estimators': 510, 'max_depth': 42, 'min_samples_split': 8, 'min_samples_leaf': 17, 'max_features': 'sqrt', 'criterion': 'gini'}. Best is trial 0 with value: 0.9801833776989056.\n",
      "[I 2024-05-09 03:21:20,572] Trial 3 finished with value: 0.9712609970674487 and parameters: {'use_smote': False, 'n_estimators': 828, 'max_depth': 22, 'min_samples_split': 5, 'min_samples_leaf': 22, 'max_features': 'sqrt', 'criterion': 'log_loss'}. Best is trial 0 with value: 0.9801833776989056.\n",
      "[I 2024-05-09 03:21:40,704] Trial 4 finished with value: 0.9767578699617535 and parameters: {'use_smote': False, 'n_estimators': 380, 'max_depth': 31, 'min_samples_split': 18, 'min_samples_leaf': 6, 'max_features': 'sqrt', 'criterion': 'gini'}. Best is trial 0 with value: 0.9801833776989056.\n",
      "[I 2024-05-09 03:21:50,855] Trial 5 finished with value: 0.9694814814814815 and parameters: {'use_smote': True, 'n_estimators': 276, 'max_depth': 11, 'min_samples_split': 12, 'min_samples_leaf': 13, 'max_features': 'log2', 'criterion': 'log_loss'}. Best is trial 0 with value: 0.9801833776989056.\n",
      "[I 2024-05-09 03:21:58,618] Trial 6 finished with value: 0.9769911504424779 and parameters: {'use_smote': False, 'n_estimators': 167, 'max_depth': 50, 'min_samples_split': 25, 'min_samples_leaf': 7, 'max_features': 'log2', 'criterion': 'log_loss'}. Best is trial 0 with value: 0.9801833776989056.\n",
      "[I 2024-05-09 03:22:07,425] Trial 7 finished with value: 0.976634131913635 and parameters: {'use_smote': False, 'n_estimators': 204, 'max_depth': 45, 'min_samples_split': 21, 'min_samples_leaf': 11, 'max_features': 'log2', 'criterion': 'entropy'}. Best is trial 0 with value: 0.9801833776989056.\n",
      "[I 2024-05-09 03:22:18,548] Trial 8 finished with value: 0.9703725432678205 and parameters: {'use_smote': True, 'n_estimators': 207, 'max_depth': 39, 'min_samples_split': 25, 'min_samples_leaf': 18, 'max_features': 'sqrt', 'criterion': 'gini'}. Best is trial 0 with value: 0.9801833776989056.\n",
      "[I 2024-05-09 03:22:39,125] Trial 9 finished with value: 0.9652122641509434 and parameters: {'use_smote': True, 'n_estimators': 673, 'max_depth': 22, 'min_samples_split': 17, 'min_samples_leaf': 30, 'max_features': 'log2', 'criterion': 'gini'}. Best is trial 0 with value: 0.9801833776989056.\n",
      "[I 2024-05-09 03:23:08,386] Trial 10 finished with value: 0.9837037037037037 and parameters: {'use_smote': False, 'n_estimators': 918, 'max_depth': 33, 'min_samples_split': 2, 'min_samples_leaf': 1, 'max_features': 'log2', 'criterion': 'entropy'}. Best is trial 10 with value: 0.9837037037037037.\n",
      "[I 2024-05-09 03:23:41,650] Trial 11 finished with value: 0.9834123222748815 and parameters: {'use_smote': False, 'n_estimators': 961, 'max_depth': 33, 'min_samples_split': 2, 'min_samples_leaf': 1, 'max_features': 'log2', 'criterion': 'entropy'}. Best is trial 10 with value: 0.9837037037037037.\n",
      "[I 2024-05-09 03:24:18,698] Trial 12 finished with value: 0.9837037037037037 and parameters: {'use_smote': False, 'n_estimators': 970, 'max_depth': 27, 'min_samples_split': 2, 'min_samples_leaf': 1, 'max_features': 'log2', 'criterion': 'entropy'}. Best is trial 10 with value: 0.9837037037037037.\n",
      "[I 2024-05-09 03:24:57,042] Trial 13 finished with value: 0.9804849201655825 and parameters: {'use_smote': False, 'n_estimators': 998, 'max_depth': 25, 'min_samples_split': 12, 'min_samples_leaf': 2, 'max_features': 'log2', 'criterion': 'entropy'}. Best is trial 10 with value: 0.9837037037037037.\n",
      "[I 2024-05-09 03:25:29,771] Trial 14 finished with value: 0.9842962962962963 and parameters: {'use_smote': False, 'n_estimators': 842, 'max_depth': 27, 'min_samples_split': 2, 'min_samples_leaf': 1, 'max_features': 'log2', 'criterion': 'entropy'}. Best is trial 14 with value: 0.9842962962962963.\n",
      "[I 2024-05-09 03:25:55,933] Trial 15 finished with value: 0.9707878430215403 and parameters: {'use_smote': False, 'n_estimators': 804, 'max_depth': 36, 'min_samples_split': 31, 'min_samples_leaf': 24, 'max_features': 'log2', 'criterion': 'entropy'}. Best is trial 14 with value: 0.9842962962962963.\n",
      "[I 2024-05-09 03:26:15,954] Trial 16 finished with value: 0.9781194559432289 and parameters: {'use_smote': False, 'n_estimators': 617, 'max_depth': 28, 'min_samples_split': 10, 'min_samples_leaf': 7, 'max_features': 'log2', 'criterion': 'entropy'}. Best is trial 14 with value: 0.9842962962962963.\n",
      "[I 2024-05-09 03:26:45,371] Trial 17 finished with value: 0.96667649660867 and parameters: {'use_smote': False, 'n_estimators': 830, 'max_depth': 17, 'min_samples_split': 2, 'min_samples_leaf': 32, 'max_features': 'log2', 'criterion': 'entropy'}. Best is trial 14 with value: 0.9842962962962963.\n",
      "[I 2024-05-09 03:27:04,842] Trial 18 finished with value: 0.9793021880544057 and parameters: {'use_smote': True, 'n_estimators': 492, 'max_depth': 38, 'min_samples_split': 13, 'min_samples_leaf': 4, 'max_features': 'log2', 'criterion': 'entropy'}. Best is trial 14 with value: 0.9842962962962963.\n",
      "[I 2024-05-09 03:27:39,053] Trial 19 finished with value: 0.9740412979351032 and parameters: {'use_smote': False, 'n_estimators': 898, 'max_depth': 30, 'min_samples_split': 16, 'min_samples_leaf': 14, 'max_features': 'log2', 'criterion': 'log_loss'}. Best is trial 14 with value: 0.9842962962962963.\n",
      "[I 2024-05-09 03:28:07,288] Trial 20 finished with value: 0.9769503546099291 and parameters: {'use_smote': False, 'n_estimators': 704, 'max_depth': 22, 'min_samples_split': 5, 'min_samples_leaf': 10, 'max_features': 'log2', 'criterion': 'entropy'}. Best is trial 14 with value: 0.9842962962962963.\n",
      "[I 2024-05-09 03:28:42,860] Trial 21 finished with value: 0.9837133550488599 and parameters: {'use_smote': False, 'n_estimators': 911, 'max_depth': 27, 'min_samples_split': 2, 'min_samples_leaf': 1, 'max_features': 'log2', 'criterion': 'entropy'}. Best is trial 14 with value: 0.9842962962962963.\n",
      "[I 2024-05-09 03:29:12,694] Trial 22 finished with value: 0.9822485207100592 and parameters: {'use_smote': False, 'n_estimators': 895, 'max_depth': 25, 'min_samples_split': 4, 'min_samples_leaf': 3, 'max_features': 'log2', 'criterion': 'entropy'}. Best is trial 14 with value: 0.9842962962962963.\n",
      "[I 2024-05-09 03:29:39,588] Trial 23 finished with value: 0.9763593380614657 and parameters: {'use_smote': False, 'n_estimators': 868, 'max_depth': 18, 'min_samples_split': 8, 'min_samples_leaf': 8, 'max_features': 'log2', 'criterion': 'entropy'}. Best is trial 14 with value: 0.9842962962962963.\n",
      "[I 2024-05-09 03:30:03,114] Trial 24 finished with value: 0.9799054373522459 and parameters: {'use_smote': False, 'n_estimators': 764, 'max_depth': 30, 'min_samples_split': 9, 'min_samples_leaf': 4, 'max_features': 'log2', 'criterion': 'entropy'}. Best is trial 14 with value: 0.9842962962962963.\n",
      "[I 2024-05-09 03:30:22,338] Trial 25 finished with value: 0.9834123222748815 and parameters: {'use_smote': False, 'n_estimators': 599, 'max_depth': 33, 'min_samples_split': 3, 'min_samples_leaf': 1, 'max_features': 'log2', 'criterion': 'entropy'}. Best is trial 14 with value: 0.9842962962962963.\n",
      "[I 2024-05-09 03:30:50,719] Trial 26 finished with value: 0.9804849201655825 and parameters: {'use_smote': False, 'n_estimators': 930, 'max_depth': 27, 'min_samples_split': 5, 'min_samples_leaf': 4, 'max_features': 'log2', 'criterion': 'entropy'}. Best is trial 14 with value: 0.9842962962962963.\n",
      "[I 2024-05-09 03:31:10,889] Trial 27 pruned. \n",
      "[I 2024-05-09 03:31:27,641] Trial 28 pruned. \n",
      "[I 2024-05-09 03:31:52,753] Trial 29 finished with value: 0.980195093112622 and parameters: {'use_smote': False, 'n_estimators': 784, 'max_depth': 41, 'min_samples_split': 6, 'min_samples_leaf': 5, 'max_features': 'log2', 'criterion': 'log_loss'}. Best is trial 14 with value: 0.9842962962962963.\n",
      "[I 2024-05-09 03:32:09,135] Trial 30 pruned. \n",
      "[I 2024-05-09 03:32:39,823] Trial 31 finished with value: 0.9837037037037037 and parameters: {'use_smote': False, 'n_estimators': 948, 'max_depth': 27, 'min_samples_split': 2, 'min_samples_leaf': 1, 'max_features': 'log2', 'criterion': 'entropy'}. Best is trial 14 with value: 0.9842962962962963.\n",
      "[I 2024-05-09 03:33:11,691] Trial 32 finished with value: 0.9822380106571936 and parameters: {'use_smote': False, 'n_estimators': 866, 'max_depth': 25, 'min_samples_split': 4, 'min_samples_leaf': 3, 'max_features': 'log2', 'criterion': 'entropy'}. Best is trial 14 with value: 0.9842962962962963.\n",
      "[I 2024-05-09 03:33:38,142] Trial 33 pruned. \n",
      "[I 2024-05-09 03:34:20,809] Trial 34 finished with value: 0.9825701624815362 and parameters: {'use_smote': False, 'n_estimators': 835, 'max_depth': 28, 'min_samples_split': 2, 'min_samples_leaf': 1, 'max_features': 'sqrt', 'criterion': 'entropy'}. Best is trial 14 with value: 0.9842962962962963.\n",
      "[I 2024-05-09 03:34:52,320] Trial 35 pruned. \n",
      "[I 2024-05-09 03:35:07,695] Trial 36 pruned. \n",
      "[I 2024-05-09 03:35:45,228] Trial 37 finished with value: 0.9798935541099941 and parameters: {'use_smote': False, 'n_estimators': 977, 'max_depth': 33, 'min_samples_split': 4, 'min_samples_leaf': 5, 'max_features': 'log2', 'criterion': 'log_loss'}. Best is trial 14 with value: 0.9842962962962963.\n",
      "[I 2024-05-09 03:36:11,876] Trial 38 pruned. \n",
      "[I 2024-05-09 03:36:31,356] Trial 39 pruned. \n",
      "[I 2024-05-09 03:36:48,355] Trial 40 pruned. \n",
      "[I 2024-05-09 03:37:22,014] Trial 41 finished with value: 0.9837037037037037 and parameters: {'use_smote': False, 'n_estimators': 927, 'max_depth': 27, 'min_samples_split': 2, 'min_samples_leaf': 1, 'max_features': 'log2', 'criterion': 'entropy'}. Best is trial 14 with value: 0.9842962962962963.\n",
      "[I 2024-05-09 03:37:52,900] Trial 42 finished with value: 0.9819580005915409 and parameters: {'use_smote': False, 'n_estimators': 838, 'max_depth': 20, 'min_samples_split': 3, 'min_samples_leaf': 2, 'max_features': 'log2', 'criterion': 'entropy'}. Best is trial 14 with value: 0.9842962962962963.\n",
      "[I 2024-05-09 03:38:28,188] Trial 43 finished with value: 0.981377475613361 and parameters: {'use_smote': False, 'n_estimators': 964, 'max_depth': 29, 'min_samples_split': 3, 'min_samples_leaf': 2, 'max_features': 'log2', 'criterion': 'entropy'}. Best is trial 14 with value: 0.9842962962962963.\n",
      "[I 2024-05-09 03:38:57,662] Trial 44 finished with value: 0.9843055966834469 and parameters: {'use_smote': False, 'n_estimators': 787, 'max_depth': 23, 'min_samples_split': 2, 'min_samples_leaf': 1, 'max_features': 'log2', 'criterion': 'entropy'}. Best is trial 44 with value: 0.9843055966834469.\n",
      "[I 2024-05-09 03:39:14,299] Trial 45 pruned. \n",
      "[I 2024-05-09 03:39:47,320] Trial 46 pruned. \n",
      "[I 2024-05-09 03:40:02,783] Trial 47 pruned. \n",
      "[I 2024-05-09 03:40:21,107] Trial 48 pruned. \n",
      "[I 2024-05-09 03:40:50,859] Trial 49 finished with value: 0.9801833776989056 and parameters: {'use_smote': False, 'n_estimators': 800, 'max_depth': 38, 'min_samples_split': 3, 'min_samples_leaf': 3, 'max_features': 'log2', 'criterion': 'gini'}. Best is trial 44 with value: 0.9843055966834469.\n",
      "[I 2024-05-09 03:41:06,635] Trial 50 finished with value: 0.9836843666567784 and parameters: {'use_smote': False, 'n_estimators': 333, 'max_depth': 26, 'min_samples_split': 5, 'min_samples_leaf': 1, 'max_features': 'log2', 'criterion': 'entropy'}. Best is trial 44 with value: 0.9843055966834469.\n",
      "[I 2024-05-09 03:41:41,381] Trial 51 finished with value: 0.9845971563981043 and parameters: {'use_smote': False, 'n_estimators': 903, 'max_depth': 23, 'min_samples_split': 2, 'min_samples_leaf': 1, 'max_features': 'log2', 'criterion': 'entropy'}. Best is trial 51 with value: 0.9845971563981043.\n",
      "[I 2024-05-09 03:42:08,573] Trial 52 pruned. \n",
      "[I 2024-05-09 03:42:42,125] Trial 53 finished with value: 0.9822485207100592 and parameters: {'use_smote': False, 'n_estimators': 861, 'max_depth': 23, 'min_samples_split': 4, 'min_samples_leaf': 2, 'max_features': 'log2', 'criterion': 'entropy'}. Best is trial 51 with value: 0.9845971563981043.\n",
      "[I 2024-05-09 03:43:11,868] Trial 54 pruned. \n",
      "[I 2024-05-09 03:43:42,660] Trial 55 finished with value: 0.9819580005915409 and parameters: {'use_smote': False, 'n_estimators': 894, 'max_depth': 29, 'min_samples_split': 3, 'min_samples_leaf': 2, 'max_features': 'log2', 'criterion': 'entropy'}. Best is trial 51 with value: 0.9845971563981043.\n",
      "[I 2024-05-09 03:44:02,994] Trial 56 pruned. \n",
      "[I 2024-05-09 03:44:10,228] Trial 57 pruned. \n",
      "[I 2024-05-09 03:44:40,883] Trial 58 finished with value: 0.9819473216928085 and parameters: {'use_smote': False, 'n_estimators': 731, 'max_depth': 24, 'min_samples_split': 7, 'min_samples_leaf': 1, 'max_features': 'log2', 'criterion': 'entropy'}. Best is trial 51 with value: 0.9845971563981043.\n",
      "[I 2024-05-09 03:45:10,134] Trial 59 pruned. \n",
      "[I 2024-05-09 03:45:36,717] Trial 60 pruned. \n",
      "[I 2024-05-09 03:46:14,640] Trial 61 finished with value: 0.9837037037037037 and parameters: {'use_smote': False, 'n_estimators': 950, 'max_depth': 27, 'min_samples_split': 2, 'min_samples_leaf': 1, 'max_features': 'log2', 'criterion': 'entropy'}. Best is trial 51 with value: 0.9845971563981043.\n",
      "[I 2024-05-09 03:46:52,247] Trial 62 finished with value: 0.9816676522767593 and parameters: {'use_smote': False, 'n_estimators': 948, 'max_depth': 26, 'min_samples_split': 2, 'min_samples_leaf': 2, 'max_features': 'log2', 'criterion': 'entropy'}. Best is trial 51 with value: 0.9845971563981043.\n",
      "[I 2024-05-09 03:47:15,489] Trial 63 pruned. \n",
      "[I 2024-05-09 03:47:43,403] Trial 64 pruned. \n",
      "[I 2024-05-09 03:48:20,341] Trial 65 finished with value: 0.9816676522767593 and parameters: {'use_smote': False, 'n_estimators': 1000, 'max_depth': 24, 'min_samples_split': 3, 'min_samples_leaf': 2, 'max_features': 'log2', 'criterion': 'entropy'}. Best is trial 51 with value: 0.9845971563981043.\n",
      "[I 2024-05-09 03:48:38,561] Trial 66 pruned. \n",
      "[I 2024-05-09 03:49:04,178] Trial 67 pruned. \n",
      "[I 2024-05-09 03:49:28,988] Trial 68 pruned. \n",
      "[I 2024-05-09 03:49:58,930] Trial 69 pruned. \n",
      "[I 2024-05-09 03:50:36,412] Trial 70 pruned. \n",
      "[I 2024-05-09 03:51:13,038] Trial 71 finished with value: 0.9837037037037037 and parameters: {'use_smote': False, 'n_estimators': 929, 'max_depth': 28, 'min_samples_split': 2, 'min_samples_leaf': 1, 'max_features': 'log2', 'criterion': 'entropy'}. Best is trial 51 with value: 0.9845971563981043.\n",
      "[I 2024-05-09 03:51:34,479] Trial 72 pruned. \n",
      "[I 2024-05-09 03:52:09,936] Trial 73 finished with value: 0.9813554306007695 and parameters: {'use_smote': False, 'n_estimators': 910, 'max_depth': 27, 'min_samples_split': 4, 'min_samples_leaf': 3, 'max_features': 'log2', 'criterion': 'entropy'}. Best is trial 51 with value: 0.9845971563981043.\n",
      "[I 2024-05-09 03:52:38,883] Trial 74 pruned. \n",
      "[I 2024-05-09 03:53:07,962] Trial 75 finished with value: 0.9825392127848476 and parameters: {'use_smote': False, 'n_estimators': 814, 'max_depth': 30, 'min_samples_split': 3, 'min_samples_leaf': 1, 'max_features': 'log2', 'criterion': 'entropy'}. Best is trial 51 with value: 0.9845971563981043.\n",
      "[I 2024-05-09 03:53:20,377] Trial 76 pruned. \n",
      "[I 2024-05-09 03:53:44,364] Trial 77 pruned. \n",
      "[I 2024-05-09 03:54:01,522] Trial 78 pruned. \n",
      "[I 2024-05-09 03:54:24,913] Trial 79 pruned. \n",
      "[I 2024-05-09 03:54:46,867] Trial 80 pruned. \n",
      "[I 2024-05-09 03:55:22,844] Trial 81 finished with value: 0.9837037037037037 and parameters: {'use_smote': False, 'n_estimators': 947, 'max_depth': 28, 'min_samples_split': 2, 'min_samples_leaf': 1, 'max_features': 'log2', 'criterion': 'entropy'}. Best is trial 51 with value: 0.9845971563981043.\n",
      "[I 2024-05-09 03:55:58,726] Trial 82 finished with value: 0.9828199052132701 and parameters: {'use_smote': False, 'n_estimators': 944, 'max_depth': 27, 'min_samples_split': 3, 'min_samples_leaf': 1, 'max_features': 'log2', 'criterion': 'entropy'}. Best is trial 51 with value: 0.9845971563981043.\n",
      "[I 2024-05-09 03:56:35,368] Trial 83 finished with value: 0.9819473216928085 and parameters: {'use_smote': False, 'n_estimators': 971, 'max_depth': 29, 'min_samples_split': 2, 'min_samples_leaf': 3, 'max_features': 'log2', 'criterion': 'entropy'}. Best is trial 51 with value: 0.9845971563981043.\n",
      "[I 2024-05-09 03:57:09,984] Trial 84 finished with value: 0.9819580005915409 and parameters: {'use_smote': False, 'n_estimators': 897, 'max_depth': 27, 'min_samples_split': 4, 'min_samples_leaf': 2, 'max_features': 'log2', 'criterion': 'entropy'}. Best is trial 51 with value: 0.9845971563981043.\n",
      "[I 2024-05-09 03:57:43,961] Trial 85 finished with value: 0.9822485207100592 and parameters: {'use_smote': False, 'n_estimators': 881, 'max_depth': 26, 'min_samples_split': 3, 'min_samples_leaf': 1, 'max_features': 'log2', 'criterion': 'entropy'}. Best is trial 51 with value: 0.9845971563981043.\n",
      "[I 2024-05-09 03:58:22,141] Trial 86 pruned. \n",
      "[I 2024-05-09 03:58:59,554] Trial 87 finished with value: 0.9831111111111112 and parameters: {'use_smote': False, 'n_estimators': 976, 'max_depth': 24, 'min_samples_split': 5, 'min_samples_leaf': 2, 'max_features': 'log2', 'criterion': 'entropy'}. Best is trial 51 with value: 0.9845971563981043.\n",
      "[I 2024-05-09 03:59:19,227] Trial 88 pruned. \n",
      "[I 2024-05-09 03:59:39,011] Trial 89 pruned. \n",
      "[I 2024-05-09 04:00:08,381] Trial 90 pruned. \n",
      "[I 2024-05-09 04:00:44,791] Trial 91 finished with value: 0.9837037037037037 and parameters: {'use_smote': False, 'n_estimators': 928, 'max_depth': 28, 'min_samples_split': 2, 'min_samples_leaf': 1, 'max_features': 'log2', 'criterion': 'entropy'}. Best is trial 51 with value: 0.9845971563981043.\n",
      "[I 2024-05-09 04:01:20,741] Trial 92 finished with value: 0.9837037037037037 and parameters: {'use_smote': False, 'n_estimators': 919, 'max_depth': 30, 'min_samples_split': 2, 'min_samples_leaf': 1, 'max_features': 'log2', 'criterion': 'entropy'}. Best is trial 51 with value: 0.9845971563981043.\n",
      "[I 2024-05-09 04:01:50,744] Trial 93 pruned. \n",
      "[I 2024-05-09 04:02:24,967] Trial 94 finished with value: 0.9825288717796861 and parameters: {'use_smote': False, 'n_estimators': 888, 'max_depth': 28, 'min_samples_split': 5, 'min_samples_leaf': 2, 'max_features': 'log2', 'criterion': 'entropy'}. Best is trial 51 with value: 0.9845971563981043.\n",
      "[I 2024-05-09 04:03:00,883] Trial 95 finished with value: 0.9828300769686205 and parameters: {'use_smote': False, 'n_estimators': 942, 'max_depth': 23, 'min_samples_split': 6, 'min_samples_leaf': 1, 'max_features': 'log2', 'criterion': 'entropy'}. Best is trial 51 with value: 0.9845971563981043.\n",
      "[I 2024-05-09 04:03:25,971] Trial 96 pruned. \n",
      "[I 2024-05-09 04:03:53,190] Trial 97 pruned. \n",
      "[I 2024-05-09 04:04:33,666] Trial 98 pruned. \n",
      "[I 2024-05-09 04:04:57,366] Trial 99 pruned. \n",
      "[I 2024-05-09 04:05:23,060] Trial 100 pruned. \n",
      "[I 2024-05-09 04:05:58,352] Trial 101 finished with value: 0.9837037037037037 and parameters: {'use_smote': False, 'n_estimators': 929, 'max_depth': 50, 'min_samples_split': 2, 'min_samples_leaf': 1, 'max_features': 'log2', 'criterion': 'entropy'}. Best is trial 51 with value: 0.9845971563981043.\n",
      "[I 2024-05-09 04:06:34,168] Trial 102 finished with value: 0.9819580005915409 and parameters: {'use_smote': False, 'n_estimators': 943, 'max_depth': 28, 'min_samples_split': 3, 'min_samples_leaf': 2, 'max_features': 'log2', 'criterion': 'entropy'}. Best is trial 51 with value: 0.9845971563981043.\n",
      "[I 2024-05-09 04:07:05,967] Trial 103 finished with value: 0.982809721398933 and parameters: {'use_smote': False, 'n_estimators': 866, 'max_depth': 29, 'min_samples_split': 4, 'min_samples_leaf': 1, 'max_features': 'log2', 'criterion': 'entropy'}. Best is trial 51 with value: 0.9845971563981043.\n",
      "[I 2024-05-09 04:07:41,844] Trial 104 finished with value: 0.9819580005915409 and parameters: {'use_smote': False, 'n_estimators': 996, 'max_depth': 31, 'min_samples_split': 2, 'min_samples_leaf': 2, 'max_features': 'log2', 'criterion': 'entropy'}. Best is trial 51 with value: 0.9845971563981043.\n",
      "[I 2024-05-09 04:08:10,110] Trial 105 pruned. \n",
      "[I 2024-05-09 04:08:30,338] Trial 106 pruned. \n",
      "[I 2024-05-09 04:08:49,086] Trial 107 pruned. \n",
      "[I 2024-05-09 04:09:16,942] Trial 108 pruned. \n",
      "[I 2024-05-09 04:09:32,836] Trial 109 pruned. \n",
      "[I 2024-05-09 04:10:09,554] Trial 110 finished with value: 0.981377475613361 and parameters: {'use_smote': False, 'n_estimators': 978, 'max_depth': 46, 'min_samples_split': 4, 'min_samples_leaf': 2, 'max_features': 'log2', 'criterion': 'entropy'}. Best is trial 51 with value: 0.9845971563981043.\n",
      "[I 2024-05-09 04:10:45,243] Trial 111 finished with value: 0.9837037037037037 and parameters: {'use_smote': False, 'n_estimators': 932, 'max_depth': 28, 'min_samples_split': 2, 'min_samples_leaf': 1, 'max_features': 'log2', 'criterion': 'entropy'}. Best is trial 51 with value: 0.9845971563981043.\n",
      "[I 2024-05-09 04:11:13,779] Trial 112 finished with value: 0.9837037037037037 and parameters: {'use_smote': False, 'n_estimators': 947, 'max_depth': 29, 'min_samples_split': 2, 'min_samples_leaf': 1, 'max_features': 'log2', 'criterion': 'entropy'}. Best is trial 51 with value: 0.9845971563981043.\n",
      "[I 2024-05-09 04:11:40,124] Trial 113 finished with value: 0.9834123222748815 and parameters: {'use_smote': False, 'n_estimators': 874, 'max_depth': 24, 'min_samples_split': 3, 'min_samples_leaf': 1, 'max_features': 'log2', 'criterion': 'entropy'}. Best is trial 51 with value: 0.9845971563981043.\n",
      "[I 2024-05-09 04:12:01,963] Trial 114 pruned. \n",
      "[I 2024-05-09 04:12:27,918] Trial 115 finished with value: 0.9822590183323477 and parameters: {'use_smote': False, 'n_estimators': 849, 'max_depth': 28, 'min_samples_split': 3, 'min_samples_leaf': 2, 'max_features': 'log2', 'criterion': 'entropy'}. Best is trial 51 with value: 0.9845971563981043.\n",
      "[I 2024-05-09 04:12:46,964] Trial 116 pruned. \n",
      "[I 2024-05-09 04:13:11,293] Trial 117 pruned. \n",
      "[I 2024-05-09 04:13:31,216] Trial 118 pruned. \n",
      "[I 2024-05-09 04:13:58,970] Trial 119 pruned. \n",
      "[I 2024-05-09 04:14:30,850] Trial 120 pruned. \n",
      "[I 2024-05-09 04:15:08,616] Trial 121 finished with value: 0.9837037037037037 and parameters: {'use_smote': False, 'n_estimators': 925, 'max_depth': 29, 'min_samples_split': 2, 'min_samples_leaf': 1, 'max_features': 'log2', 'criterion': 'entropy'}. Best is trial 51 with value: 0.9845971563981043.\n",
      "[I 2024-05-09 04:15:47,123] Trial 122 finished with value: 0.9816676522767593 and parameters: {'use_smote': False, 'n_estimators': 949, 'max_depth': 30, 'min_samples_split': 2, 'min_samples_leaf': 2, 'max_features': 'log2', 'criterion': 'entropy'}. Best is trial 51 with value: 0.9845971563981043.\n",
      "[I 2024-05-09 04:16:23,139] Trial 123 finished with value: 0.9843055966834469 and parameters: {'use_smote': False, 'n_estimators': 894, 'max_depth': 30, 'min_samples_split': 2, 'min_samples_leaf': 1, 'max_features': 'log2', 'criterion': 'entropy'}. Best is trial 51 with value: 0.9845971563981043.\n",
      "[I 2024-05-09 04:16:29,030] Trial 124 pruned. \n",
      "[I 2024-05-09 04:16:57,127] Trial 125 finished with value: 0.9828300769686205 and parameters: {'use_smote': False, 'n_estimators': 887, 'max_depth': 27, 'min_samples_split': 3, 'min_samples_leaf': 1, 'max_features': 'log2', 'criterion': 'entropy'}. Best is trial 51 with value: 0.9845971563981043.\n",
      "[I 2024-05-09 04:17:27,744] Trial 126 finished with value: 0.9816676522767593 and parameters: {'use_smote': False, 'n_estimators': 1000, 'max_depth': 30, 'min_samples_split': 3, 'min_samples_leaf': 2, 'max_features': 'log2', 'criterion': 'entropy'}. Best is trial 51 with value: 0.9845971563981043.\n",
      "[I 2024-05-09 04:17:50,391] Trial 127 pruned. \n",
      "[I 2024-05-09 04:18:11,489] Trial 128 pruned. \n",
      "[I 2024-05-09 04:18:33,317] Trial 129 pruned. \n",
      "[I 2024-05-09 04:19:00,408] Trial 130 finished with value: 0.982809721398933 and parameters: {'use_smote': False, 'n_estimators': 837, 'max_depth': 25, 'min_samples_split': 5, 'min_samples_leaf': 1, 'max_features': 'log2', 'criterion': 'entropy'}. Best is trial 51 with value: 0.9845971563981043.\n",
      "[I 2024-05-09 04:19:29,276] Trial 131 finished with value: 0.9837037037037037 and parameters: {'use_smote': False, 'n_estimators': 926, 'max_depth': 29, 'min_samples_split': 2, 'min_samples_leaf': 1, 'max_features': 'log2', 'criterion': 'entropy'}. Best is trial 51 with value: 0.9845971563981043.\n",
      "[I 2024-05-09 04:20:02,735] Trial 132 finished with value: 0.9819580005915409 and parameters: {'use_smote': False, 'n_estimators': 913, 'max_depth': 30, 'min_samples_split': 3, 'min_samples_leaf': 2, 'max_features': 'log2', 'criterion': 'entropy'}. Best is trial 51 with value: 0.9845971563981043.\n",
      "[I 2024-05-09 04:20:39,300] Trial 133 finished with value: 0.9837037037037037 and parameters: {'use_smote': False, 'n_estimators': 942, 'max_depth': 31, 'min_samples_split': 2, 'min_samples_leaf': 1, 'max_features': 'log2', 'criterion': 'entropy'}. Best is trial 51 with value: 0.9845971563981043.\n",
      "[I 2024-05-09 04:20:59,887] Trial 134 pruned. \n",
      "[I 2024-05-09 04:21:27,355] Trial 135 pruned. \n",
      "[I 2024-05-09 04:21:58,708] Trial 136 finished with value: 0.9819580005915409 and parameters: {'use_smote': True, 'n_estimators': 881, 'max_depth': 35, 'min_samples_split': 4, 'min_samples_leaf': 2, 'max_features': 'log2', 'criterion': 'entropy'}. Best is trial 51 with value: 0.9845971563981043.\n",
      "[I 2024-05-09 04:22:32,966] Trial 137 finished with value: 0.9825392127848476 and parameters: {'use_smote': False, 'n_estimators': 822, 'max_depth': 27, 'min_samples_split': 3, 'min_samples_leaf': 1, 'max_features': 'log2', 'criterion': 'entropy'}. Best is trial 51 with value: 0.9845971563981043.\n",
      "[I 2024-05-09 04:23:11,013] Trial 138 pruned. \n",
      "[I 2024-05-09 04:23:48,187] Trial 139 finished with value: 0.9819580005915409 and parameters: {'use_smote': False, 'n_estimators': 940, 'max_depth': 34, 'min_samples_split': 4, 'min_samples_leaf': 2, 'max_features': 'log2', 'criterion': 'entropy'}. Best is trial 51 with value: 0.9845971563981043.\n",
      "[I 2024-05-09 04:24:22,860] Trial 140 finished with value: 0.9828300769686205 and parameters: {'use_smote': False, 'n_estimators': 896, 'max_depth': 33, 'min_samples_split': 3, 'min_samples_leaf': 1, 'max_features': 'log2', 'criterion': 'entropy'}. Best is trial 51 with value: 0.9845971563981043.\n",
      "[I 2024-05-09 04:24:58,655] Trial 141 finished with value: 0.9837037037037037 and parameters: {'use_smote': False, 'n_estimators': 926, 'max_depth': 39, 'min_samples_split': 2, 'min_samples_leaf': 1, 'max_features': 'log2', 'criterion': 'entropy'}. Best is trial 51 with value: 0.9845971563981043.\n",
      "[I 2024-05-09 04:25:27,363] Trial 142 pruned. \n",
      "[I 2024-05-09 04:25:57,044] Trial 143 pruned. \n",
      "[I 2024-05-09 04:26:19,181] Trial 144 pruned. \n",
      "[I 2024-05-09 04:26:41,365] Trial 145 finished with value: 0.9819580005915409 and parameters: {'use_smote': False, 'n_estimators': 515, 'max_depth': 28, 'min_samples_split': 2, 'min_samples_leaf': 2, 'max_features': 'log2', 'criterion': 'entropy'}. Best is trial 51 with value: 0.9845971563981043.\n",
      "[I 2024-05-09 04:27:16,770] Trial 146 finished with value: 0.9831010969463386 and parameters: {'use_smote': False, 'n_estimators': 921, 'max_depth': 49, 'min_samples_split': 4, 'min_samples_leaf': 1, 'max_features': 'log2', 'criterion': 'entropy'}. Best is trial 51 with value: 0.9845971563981043.\n",
      "[I 2024-05-09 04:27:43,329] Trial 147 pruned. \n",
      "[I 2024-05-09 04:28:20,959] Trial 148 finished with value: 0.9837037037037037 and parameters: {'use_smote': False, 'n_estimators': 965, 'max_depth': 27, 'min_samples_split': 2, 'min_samples_leaf': 1, 'max_features': 'log2', 'criterion': 'log_loss'}. Best is trial 51 with value: 0.9845971563981043.\n",
      "[I 2024-05-09 04:28:49,396] Trial 149 pruned. \n",
      "[I 2024-05-09 04:29:17,394] Trial 150 pruned. \n",
      "[I 2024-05-09 04:29:45,402] Trial 151 finished with value: 0.9837037037037037 and parameters: {'use_smote': False, 'n_estimators': 915, 'max_depth': 28, 'min_samples_split': 2, 'min_samples_leaf': 1, 'max_features': 'log2', 'criterion': 'entropy'}. Best is trial 51 with value: 0.9845971563981043.\n",
      "[I 2024-05-09 04:30:14,434] Trial 152 finished with value: 0.9837037037037037 and parameters: {'use_smote': False, 'n_estimators': 939, 'max_depth': 30, 'min_samples_split': 2, 'min_samples_leaf': 1, 'max_features': 'log2', 'criterion': 'entropy'}. Best is trial 51 with value: 0.9845971563981043.\n",
      "[I 2024-05-09 04:30:38,160] Trial 153 pruned. \n",
      "[I 2024-05-09 04:31:06,092] Trial 154 finished with value: 0.9843055966834469 and parameters: {'use_smote': False, 'n_estimators': 880, 'max_depth': 31, 'min_samples_split': 2, 'min_samples_leaf': 1, 'max_features': 'log2', 'criterion': 'entropy'}. Best is trial 51 with value: 0.9845971563981043.\n",
      "[I 2024-05-09 04:31:16,596] Trial 155 pruned. \n",
      "[I 2024-05-09 04:31:43,978] Trial 156 finished with value: 0.9828300769686205 and parameters: {'use_smote': False, 'n_estimators': 879, 'max_depth': 29, 'min_samples_split': 3, 'min_samples_leaf': 1, 'max_features': 'log2', 'criterion': 'entropy'}. Best is trial 51 with value: 0.9845971563981043.\n",
      "[I 2024-05-09 04:31:59,845] Trial 157 pruned. \n",
      "[I 2024-05-09 04:32:22,217] Trial 158 pruned. \n",
      "[I 2024-05-09 04:32:50,014] Trial 159 pruned. \n",
      "[I 2024-05-09 04:33:19,701] Trial 160 pruned. \n",
      "[I 2024-05-09 04:33:55,828] Trial 161 finished with value: 0.9837037037037037 and parameters: {'use_smote': False, 'n_estimators': 928, 'max_depth': 28, 'min_samples_split': 2, 'min_samples_leaf': 1, 'max_features': 'log2', 'criterion': 'entropy'}. Best is trial 51 with value: 0.9845971563981043.\n",
      "[I 2024-05-09 04:34:27,303] Trial 162 finished with value: 0.9837037037037037 and parameters: {'use_smote': False, 'n_estimators': 951, 'max_depth': 29, 'min_samples_split': 2, 'min_samples_leaf': 1, 'max_features': 'log2', 'criterion': 'entropy'}. Best is trial 51 with value: 0.9845971563981043.\n",
      "[I 2024-05-09 04:35:03,571] Trial 163 finished with value: 0.9828300769686205 and parameters: {'use_smote': False, 'n_estimators': 987, 'max_depth': 30, 'min_samples_split': 3, 'min_samples_leaf': 1, 'max_features': 'log2', 'criterion': 'entropy'}. Best is trial 51 with value: 0.9845971563981043.\n",
      "[I 2024-05-09 04:35:23,399] Trial 164 pruned. \n",
      "[I 2024-05-09 04:35:59,919] Trial 165 finished with value: 0.9827995255041518 and parameters: {'use_smote': False, 'n_estimators': 935, 'max_depth': 27, 'min_samples_split': 4, 'min_samples_leaf': 1, 'max_features': 'log2', 'criterion': 'entropy'}. Best is trial 51 with value: 0.9845971563981043.\n",
      "[I 2024-05-09 04:36:30,488] Trial 166 pruned. \n",
      "[I 2024-05-09 04:36:58,534] Trial 167 pruned. \n",
      "[I 2024-05-09 04:37:27,871] Trial 168 pruned. \n",
      "[I 2024-05-09 04:38:04,324] Trial 169 finished with value: 0.9840047393364929 and parameters: {'use_smote': False, 'n_estimators': 915, 'max_depth': 29, 'min_samples_split': 2, 'min_samples_leaf': 1, 'max_features': 'log2', 'criterion': 'entropy'}. Best is trial 51 with value: 0.9845971563981043.\n",
      "[I 2024-05-09 04:38:19,940] Trial 170 pruned. \n",
      "[I 2024-05-09 04:38:47,541] Trial 171 finished with value: 0.9840047393364929 and parameters: {'use_smote': False, 'n_estimators': 914, 'max_depth': 29, 'min_samples_split': 2, 'min_samples_leaf': 1, 'max_features': 'log2', 'criterion': 'entropy'}. Best is trial 51 with value: 0.9845971563981043.\n",
      "[I 2024-05-09 04:39:15,471] Trial 172 finished with value: 0.9843055966834469 and parameters: {'use_smote': False, 'n_estimators': 894, 'max_depth': 30, 'min_samples_split': 2, 'min_samples_leaf': 1, 'max_features': 'log2', 'criterion': 'entropy'}. Best is trial 51 with value: 0.9845971563981043.\n",
      "[I 2024-05-09 04:39:37,192] Trial 173 pruned. \n",
      "[I 2024-05-09 04:40:04,627] Trial 174 finished with value: 0.9840047393364929 and parameters: {'use_smote': False, 'n_estimators': 905, 'max_depth': 33, 'min_samples_split': 2, 'min_samples_leaf': 1, 'max_features': 'log2', 'criterion': 'entropy'}. Best is trial 51 with value: 0.9845971563981043.\n",
      "[I 2024-05-09 04:40:25,484] Trial 175 pruned. \n",
      "[I 2024-05-09 04:40:57,081] Trial 176 finished with value: 0.9828300769686205 and parameters: {'use_smote': False, 'n_estimators': 869, 'max_depth': 35, 'min_samples_split': 3, 'min_samples_leaf': 1, 'max_features': 'log2', 'criterion': 'entropy'}. Best is trial 51 with value: 0.9845971563981043.\n",
      "[I 2024-05-09 04:41:17,307] Trial 177 pruned. \n",
      "[I 2024-05-09 04:41:45,218] Trial 178 pruned. \n",
      "[I 2024-05-09 04:42:21,015] Trial 179 finished with value: 0.9840047393364929 and parameters: {'use_smote': False, 'n_estimators': 910, 'max_depth': 33, 'min_samples_split': 2, 'min_samples_leaf': 1, 'max_features': 'log2', 'criterion': 'log_loss'}. Best is trial 51 with value: 0.9845971563981043.\n",
      "[I 2024-05-09 04:42:53,078] Trial 180 finished with value: 0.9825495415557527 and parameters: {'use_smote': False, 'n_estimators': 780, 'max_depth': 33, 'min_samples_split': 4, 'min_samples_leaf': 2, 'max_features': 'log2', 'criterion': 'log_loss'}. Best is trial 51 with value: 0.9845971563981043.\n",
      "[I 2024-05-09 04:43:30,171] Trial 181 finished with value: 0.9837037037037037 and parameters: {'use_smote': False, 'n_estimators': 913, 'max_depth': 32, 'min_samples_split': 2, 'min_samples_leaf': 1, 'max_features': 'log2', 'criterion': 'log_loss'}. Best is trial 51 with value: 0.9845971563981043.\n",
      "[I 2024-05-09 04:44:07,557] Trial 182 finished with value: 0.9843055966834469 and parameters: {'use_smote': False, 'n_estimators': 885, 'max_depth': 34, 'min_samples_split': 2, 'min_samples_leaf': 1, 'max_features': 'log2', 'criterion': 'log_loss'}. Best is trial 51 with value: 0.9845971563981043.\n",
      "[I 2024-05-09 04:44:43,173] Trial 183 finished with value: 0.9843055966834469 and parameters: {'use_smote': False, 'n_estimators': 883, 'max_depth': 34, 'min_samples_split': 2, 'min_samples_leaf': 1, 'max_features': 'log2', 'criterion': 'log_loss'}. Best is trial 51 with value: 0.9845971563981043.\n",
      "[I 2024-05-09 04:45:11,125] Trial 184 pruned. \n",
      "[I 2024-05-09 04:45:38,720] Trial 185 pruned. \n",
      "[I 2024-05-09 04:46:04,828] Trial 186 pruned. \n",
      "[I 2024-05-09 04:46:37,011] Trial 187 finished with value: 0.9834123222748815 and parameters: {'use_smote': False, 'n_estimators': 814, 'max_depth': 36, 'min_samples_split': 2, 'min_samples_leaf': 1, 'max_features': 'log2', 'criterion': 'log_loss'}. Best is trial 51 with value: 0.9845971563981043.\n",
      "[I 2024-05-09 04:47:11,988] Trial 188 finished with value: 0.9840047393364929 and parameters: {'use_smote': True, 'n_estimators': 896, 'max_depth': 34, 'min_samples_split': 2, 'min_samples_leaf': 1, 'max_features': 'log2', 'criterion': 'log_loss'}. Best is trial 51 with value: 0.9845971563981043.\n",
      "[I 2024-05-09 04:47:39,574] Trial 189 pruned. \n",
      "[I 2024-05-09 04:48:06,371] Trial 190 pruned. \n",
      "[I 2024-05-09 04:48:41,808] Trial 191 finished with value: 0.9840047393364929 and parameters: {'use_smote': True, 'n_estimators': 906, 'max_depth': 36, 'min_samples_split': 2, 'min_samples_leaf': 1, 'max_features': 'log2', 'criterion': 'log_loss'}. Best is trial 51 with value: 0.9845971563981043.\n",
      "[I 2024-05-09 04:49:09,401] Trial 192 pruned. \n",
      "[I 2024-05-09 04:49:38,007] Trial 193 pruned. \n",
      "[I 2024-05-09 04:50:09,016] Trial 194 pruned. \n",
      "[I 2024-05-09 04:50:44,939] Trial 195 finished with value: 0.9825392127848476 and parameters: {'use_smote': True, 'n_estimators': 842, 'max_depth': 34, 'min_samples_split': 3, 'min_samples_leaf': 1, 'max_features': 'log2', 'criterion': 'log_loss'}. Best is trial 51 with value: 0.9845971563981043.\n",
      "[I 2024-05-09 04:51:24,271] Trial 196 pruned. \n",
      "[I 2024-05-09 04:51:53,360] Trial 197 pruned. \n",
      "[I 2024-05-09 04:52:28,409] Trial 198 finished with value: 0.982809721398933 and parameters: {'use_smote': True, 'n_estimators': 913, 'max_depth': 33, 'min_samples_split': 4, 'min_samples_leaf': 1, 'max_features': 'log2', 'criterion': 'log_loss'}. Best is trial 51 with value: 0.9845971563981043.\n",
      "[I 2024-05-09 04:52:51,235] Trial 199 pruned. \n"
     ]
    }
   ],
   "source": [
    "warnings.filterwarnings('ignore') #ignore pandas warnings\n",
    "\n",
    "study_feat_eng.optimize(\n",
    "    objective_feat_eng, \n",
    "    n_trials=NUM_TRIALS,\n",
    "    timeout = 20 * 60 * 60, # timeout after 8 hours\n",
    "    show_progress_bar=True\n",
    ")"
   ]
  },
  {
   "cell_type": "code",
   "execution_count": 21,
   "metadata": {},
   "outputs": [
    {
     "name": "stdout",
     "output_type": "stream",
     "text": [
      "{'use_smote': False, 'n_estimators': 903, 'max_depth': 23, 'min_samples_split': 2, 'min_samples_leaf': 1, 'max_features': 'log2', 'criterion': 'entropy'}\n"
     ]
    }
   ],
   "source": [
    "best_params = study_feat_eng.best_params\n",
    "    \n",
    "print(best_params)\n",
    "\n",
    "if \"random_forest_feat_eng\" in config:\n",
    "    config[\"random_forest_feat_eng\"].update(best_params)\n",
    "else:\n",
    "    config[\"random_forest_feat_eng\"] = best_params\n",
    "\n",
    "# see: https://stackoverflow.com/questions/12470665/how-can-i-write-data-in-yaml-format-in-a-file\n",
    "with open(\"classical_ml_config.yaml\", \"w\") as file:\n",
    "    yaml.dump(config, file, default_flow_style=False)"
   ]
  },
  {
   "cell_type": "code",
   "execution_count": 22,
   "metadata": {},
   "outputs": [
    {
     "data": {
      "application/vnd.plotly.v1+json": {
       "config": {
        "plotlyServerURL": "https://plot.ly"
       },
       "data": [
        {
         "cliponaxis": false,
         "hovertemplate": [
          "max_features (CategoricalDistribution): 0.0009335389788431559<extra></extra>",
          "use_smote (CategoricalDistribution): 0.003606788126409239<extra></extra>",
          "min_samples_split (IntDistribution): 0.004142297499466352<extra></extra>",
          "criterion (CategoricalDistribution): 0.012697799760898515<extra></extra>",
          "n_estimators (IntDistribution): 0.015658656107875406<extra></extra>",
          "max_depth (IntDistribution): 0.017988296223076565<extra></extra>",
          "min_samples_leaf (IntDistribution): 0.9449726233034309<extra></extra>"
         ],
         "name": "Objective Value",
         "orientation": "h",
         "text": [
          "<0.01",
          "<0.01",
          "<0.01",
          "0.01",
          "0.02",
          "0.02",
          "0.94"
         ],
         "textposition": "outside",
         "type": "bar",
         "x": [
          0.0009335389788431559,
          0.003606788126409239,
          0.004142297499466352,
          0.012697799760898515,
          0.015658656107875406,
          0.017988296223076565,
          0.9449726233034309
         ],
         "y": [
          "max_features",
          "use_smote",
          "min_samples_split",
          "criterion",
          "n_estimators",
          "max_depth",
          "min_samples_leaf"
         ]
        }
       ],
       "layout": {
        "template": {
         "data": {
          "bar": [
           {
            "error_x": {
             "color": "#2a3f5f"
            },
            "error_y": {
             "color": "#2a3f5f"
            },
            "marker": {
             "line": {
              "color": "#E5ECF6",
              "width": 0.5
             },
             "pattern": {
              "fillmode": "overlay",
              "size": 10,
              "solidity": 0.2
             }
            },
            "type": "bar"
           }
          ],
          "barpolar": [
           {
            "marker": {
             "line": {
              "color": "#E5ECF6",
              "width": 0.5
             },
             "pattern": {
              "fillmode": "overlay",
              "size": 10,
              "solidity": 0.2
             }
            },
            "type": "barpolar"
           }
          ],
          "carpet": [
           {
            "aaxis": {
             "endlinecolor": "#2a3f5f",
             "gridcolor": "white",
             "linecolor": "white",
             "minorgridcolor": "white",
             "startlinecolor": "#2a3f5f"
            },
            "baxis": {
             "endlinecolor": "#2a3f5f",
             "gridcolor": "white",
             "linecolor": "white",
             "minorgridcolor": "white",
             "startlinecolor": "#2a3f5f"
            },
            "type": "carpet"
           }
          ],
          "choropleth": [
           {
            "colorbar": {
             "outlinewidth": 0,
             "ticks": ""
            },
            "type": "choropleth"
           }
          ],
          "contour": [
           {
            "colorbar": {
             "outlinewidth": 0,
             "ticks": ""
            },
            "colorscale": [
             [
              0,
              "#0d0887"
             ],
             [
              0.1111111111111111,
              "#46039f"
             ],
             [
              0.2222222222222222,
              "#7201a8"
             ],
             [
              0.3333333333333333,
              "#9c179e"
             ],
             [
              0.4444444444444444,
              "#bd3786"
             ],
             [
              0.5555555555555556,
              "#d8576b"
             ],
             [
              0.6666666666666666,
              "#ed7953"
             ],
             [
              0.7777777777777778,
              "#fb9f3a"
             ],
             [
              0.8888888888888888,
              "#fdca26"
             ],
             [
              1,
              "#f0f921"
             ]
            ],
            "type": "contour"
           }
          ],
          "contourcarpet": [
           {
            "colorbar": {
             "outlinewidth": 0,
             "ticks": ""
            },
            "type": "contourcarpet"
           }
          ],
          "heatmap": [
           {
            "colorbar": {
             "outlinewidth": 0,
             "ticks": ""
            },
            "colorscale": [
             [
              0,
              "#0d0887"
             ],
             [
              0.1111111111111111,
              "#46039f"
             ],
             [
              0.2222222222222222,
              "#7201a8"
             ],
             [
              0.3333333333333333,
              "#9c179e"
             ],
             [
              0.4444444444444444,
              "#bd3786"
             ],
             [
              0.5555555555555556,
              "#d8576b"
             ],
             [
              0.6666666666666666,
              "#ed7953"
             ],
             [
              0.7777777777777778,
              "#fb9f3a"
             ],
             [
              0.8888888888888888,
              "#fdca26"
             ],
             [
              1,
              "#f0f921"
             ]
            ],
            "type": "heatmap"
           }
          ],
          "heatmapgl": [
           {
            "colorbar": {
             "outlinewidth": 0,
             "ticks": ""
            },
            "colorscale": [
             [
              0,
              "#0d0887"
             ],
             [
              0.1111111111111111,
              "#46039f"
             ],
             [
              0.2222222222222222,
              "#7201a8"
             ],
             [
              0.3333333333333333,
              "#9c179e"
             ],
             [
              0.4444444444444444,
              "#bd3786"
             ],
             [
              0.5555555555555556,
              "#d8576b"
             ],
             [
              0.6666666666666666,
              "#ed7953"
             ],
             [
              0.7777777777777778,
              "#fb9f3a"
             ],
             [
              0.8888888888888888,
              "#fdca26"
             ],
             [
              1,
              "#f0f921"
             ]
            ],
            "type": "heatmapgl"
           }
          ],
          "histogram": [
           {
            "marker": {
             "pattern": {
              "fillmode": "overlay",
              "size": 10,
              "solidity": 0.2
             }
            },
            "type": "histogram"
           }
          ],
          "histogram2d": [
           {
            "colorbar": {
             "outlinewidth": 0,
             "ticks": ""
            },
            "colorscale": [
             [
              0,
              "#0d0887"
             ],
             [
              0.1111111111111111,
              "#46039f"
             ],
             [
              0.2222222222222222,
              "#7201a8"
             ],
             [
              0.3333333333333333,
              "#9c179e"
             ],
             [
              0.4444444444444444,
              "#bd3786"
             ],
             [
              0.5555555555555556,
              "#d8576b"
             ],
             [
              0.6666666666666666,
              "#ed7953"
             ],
             [
              0.7777777777777778,
              "#fb9f3a"
             ],
             [
              0.8888888888888888,
              "#fdca26"
             ],
             [
              1,
              "#f0f921"
             ]
            ],
            "type": "histogram2d"
           }
          ],
          "histogram2dcontour": [
           {
            "colorbar": {
             "outlinewidth": 0,
             "ticks": ""
            },
            "colorscale": [
             [
              0,
              "#0d0887"
             ],
             [
              0.1111111111111111,
              "#46039f"
             ],
             [
              0.2222222222222222,
              "#7201a8"
             ],
             [
              0.3333333333333333,
              "#9c179e"
             ],
             [
              0.4444444444444444,
              "#bd3786"
             ],
             [
              0.5555555555555556,
              "#d8576b"
             ],
             [
              0.6666666666666666,
              "#ed7953"
             ],
             [
              0.7777777777777778,
              "#fb9f3a"
             ],
             [
              0.8888888888888888,
              "#fdca26"
             ],
             [
              1,
              "#f0f921"
             ]
            ],
            "type": "histogram2dcontour"
           }
          ],
          "mesh3d": [
           {
            "colorbar": {
             "outlinewidth": 0,
             "ticks": ""
            },
            "type": "mesh3d"
           }
          ],
          "parcoords": [
           {
            "line": {
             "colorbar": {
              "outlinewidth": 0,
              "ticks": ""
             }
            },
            "type": "parcoords"
           }
          ],
          "pie": [
           {
            "automargin": true,
            "type": "pie"
           }
          ],
          "scatter": [
           {
            "fillpattern": {
             "fillmode": "overlay",
             "size": 10,
             "solidity": 0.2
            },
            "type": "scatter"
           }
          ],
          "scatter3d": [
           {
            "line": {
             "colorbar": {
              "outlinewidth": 0,
              "ticks": ""
             }
            },
            "marker": {
             "colorbar": {
              "outlinewidth": 0,
              "ticks": ""
             }
            },
            "type": "scatter3d"
           }
          ],
          "scattercarpet": [
           {
            "marker": {
             "colorbar": {
              "outlinewidth": 0,
              "ticks": ""
             }
            },
            "type": "scattercarpet"
           }
          ],
          "scattergeo": [
           {
            "marker": {
             "colorbar": {
              "outlinewidth": 0,
              "ticks": ""
             }
            },
            "type": "scattergeo"
           }
          ],
          "scattergl": [
           {
            "marker": {
             "colorbar": {
              "outlinewidth": 0,
              "ticks": ""
             }
            },
            "type": "scattergl"
           }
          ],
          "scattermapbox": [
           {
            "marker": {
             "colorbar": {
              "outlinewidth": 0,
              "ticks": ""
             }
            },
            "type": "scattermapbox"
           }
          ],
          "scatterpolar": [
           {
            "marker": {
             "colorbar": {
              "outlinewidth": 0,
              "ticks": ""
             }
            },
            "type": "scatterpolar"
           }
          ],
          "scatterpolargl": [
           {
            "marker": {
             "colorbar": {
              "outlinewidth": 0,
              "ticks": ""
             }
            },
            "type": "scatterpolargl"
           }
          ],
          "scatterternary": [
           {
            "marker": {
             "colorbar": {
              "outlinewidth": 0,
              "ticks": ""
             }
            },
            "type": "scatterternary"
           }
          ],
          "surface": [
           {
            "colorbar": {
             "outlinewidth": 0,
             "ticks": ""
            },
            "colorscale": [
             [
              0,
              "#0d0887"
             ],
             [
              0.1111111111111111,
              "#46039f"
             ],
             [
              0.2222222222222222,
              "#7201a8"
             ],
             [
              0.3333333333333333,
              "#9c179e"
             ],
             [
              0.4444444444444444,
              "#bd3786"
             ],
             [
              0.5555555555555556,
              "#d8576b"
             ],
             [
              0.6666666666666666,
              "#ed7953"
             ],
             [
              0.7777777777777778,
              "#fb9f3a"
             ],
             [
              0.8888888888888888,
              "#fdca26"
             ],
             [
              1,
              "#f0f921"
             ]
            ],
            "type": "surface"
           }
          ],
          "table": [
           {
            "cells": {
             "fill": {
              "color": "#EBF0F8"
             },
             "line": {
              "color": "white"
             }
            },
            "header": {
             "fill": {
              "color": "#C8D4E3"
             },
             "line": {
              "color": "white"
             }
            },
            "type": "table"
           }
          ]
         },
         "layout": {
          "annotationdefaults": {
           "arrowcolor": "#2a3f5f",
           "arrowhead": 0,
           "arrowwidth": 1
          },
          "autotypenumbers": "strict",
          "coloraxis": {
           "colorbar": {
            "outlinewidth": 0,
            "ticks": ""
           }
          },
          "colorscale": {
           "diverging": [
            [
             0,
             "#8e0152"
            ],
            [
             0.1,
             "#c51b7d"
            ],
            [
             0.2,
             "#de77ae"
            ],
            [
             0.3,
             "#f1b6da"
            ],
            [
             0.4,
             "#fde0ef"
            ],
            [
             0.5,
             "#f7f7f7"
            ],
            [
             0.6,
             "#e6f5d0"
            ],
            [
             0.7,
             "#b8e186"
            ],
            [
             0.8,
             "#7fbc41"
            ],
            [
             0.9,
             "#4d9221"
            ],
            [
             1,
             "#276419"
            ]
           ],
           "sequential": [
            [
             0,
             "#0d0887"
            ],
            [
             0.1111111111111111,
             "#46039f"
            ],
            [
             0.2222222222222222,
             "#7201a8"
            ],
            [
             0.3333333333333333,
             "#9c179e"
            ],
            [
             0.4444444444444444,
             "#bd3786"
            ],
            [
             0.5555555555555556,
             "#d8576b"
            ],
            [
             0.6666666666666666,
             "#ed7953"
            ],
            [
             0.7777777777777778,
             "#fb9f3a"
            ],
            [
             0.8888888888888888,
             "#fdca26"
            ],
            [
             1,
             "#f0f921"
            ]
           ],
           "sequentialminus": [
            [
             0,
             "#0d0887"
            ],
            [
             0.1111111111111111,
             "#46039f"
            ],
            [
             0.2222222222222222,
             "#7201a8"
            ],
            [
             0.3333333333333333,
             "#9c179e"
            ],
            [
             0.4444444444444444,
             "#bd3786"
            ],
            [
             0.5555555555555556,
             "#d8576b"
            ],
            [
             0.6666666666666666,
             "#ed7953"
            ],
            [
             0.7777777777777778,
             "#fb9f3a"
            ],
            [
             0.8888888888888888,
             "#fdca26"
            ],
            [
             1,
             "#f0f921"
            ]
           ]
          },
          "colorway": [
           "#636efa",
           "#EF553B",
           "#00cc96",
           "#ab63fa",
           "#FFA15A",
           "#19d3f3",
           "#FF6692",
           "#B6E880",
           "#FF97FF",
           "#FECB52"
          ],
          "font": {
           "color": "#2a3f5f"
          },
          "geo": {
           "bgcolor": "white",
           "lakecolor": "white",
           "landcolor": "#E5ECF6",
           "showlakes": true,
           "showland": true,
           "subunitcolor": "white"
          },
          "hoverlabel": {
           "align": "left"
          },
          "hovermode": "closest",
          "mapbox": {
           "style": "light"
          },
          "paper_bgcolor": "white",
          "plot_bgcolor": "#E5ECF6",
          "polar": {
           "angularaxis": {
            "gridcolor": "white",
            "linecolor": "white",
            "ticks": ""
           },
           "bgcolor": "#E5ECF6",
           "radialaxis": {
            "gridcolor": "white",
            "linecolor": "white",
            "ticks": ""
           }
          },
          "scene": {
           "xaxis": {
            "backgroundcolor": "#E5ECF6",
            "gridcolor": "white",
            "gridwidth": 2,
            "linecolor": "white",
            "showbackground": true,
            "ticks": "",
            "zerolinecolor": "white"
           },
           "yaxis": {
            "backgroundcolor": "#E5ECF6",
            "gridcolor": "white",
            "gridwidth": 2,
            "linecolor": "white",
            "showbackground": true,
            "ticks": "",
            "zerolinecolor": "white"
           },
           "zaxis": {
            "backgroundcolor": "#E5ECF6",
            "gridcolor": "white",
            "gridwidth": 2,
            "linecolor": "white",
            "showbackground": true,
            "ticks": "",
            "zerolinecolor": "white"
           }
          },
          "shapedefaults": {
           "line": {
            "color": "#2a3f5f"
           }
          },
          "ternary": {
           "aaxis": {
            "gridcolor": "white",
            "linecolor": "white",
            "ticks": ""
           },
           "baxis": {
            "gridcolor": "white",
            "linecolor": "white",
            "ticks": ""
           },
           "bgcolor": "#E5ECF6",
           "caxis": {
            "gridcolor": "white",
            "linecolor": "white",
            "ticks": ""
           }
          },
          "title": {
           "x": 0.05
          },
          "xaxis": {
           "automargin": true,
           "gridcolor": "white",
           "linecolor": "white",
           "ticks": "",
           "title": {
            "standoff": 15
           },
           "zerolinecolor": "white",
           "zerolinewidth": 2
          },
          "yaxis": {
           "automargin": true,
           "gridcolor": "white",
           "linecolor": "white",
           "ticks": "",
           "title": {
            "standoff": 15
           },
           "zerolinecolor": "white",
           "zerolinewidth": 2
          }
         }
        },
        "title": {
         "text": "Hyperparameter Importances"
        },
        "xaxis": {
         "title": {
          "text": "Hyperparameter Importance"
         }
        },
        "yaxis": {
         "title": {
          "text": "Hyperparameter"
         }
        }
       }
      }
     },
     "metadata": {},
     "output_type": "display_data"
    }
   ],
   "source": [
    "p_importance_feat_eng = optuna.visualization.plot_param_importances(study_feat_eng)\n",
    "p_importance_feat_eng.show()"
   ]
  },
  {
   "cell_type": "code",
   "execution_count": 23,
   "metadata": {},
   "outputs": [
    {
     "data": {
      "application/vnd.plotly.v1+json": {
       "config": {
        "plotlyServerURL": "https://plot.ly"
       },
       "data": [
        {
         "mode": "markers",
         "name": "Objective Value",
         "type": "scatter",
         "x": [
          0,
          1,
          2,
          3,
          4,
          5,
          6,
          7,
          8,
          9,
          10,
          11,
          12,
          13,
          14,
          15,
          16,
          17,
          18,
          19,
          20,
          21,
          22,
          23,
          24,
          25,
          26,
          29,
          31,
          32,
          34,
          37,
          41,
          42,
          43,
          44,
          49,
          50,
          51,
          53,
          55,
          58,
          61,
          62,
          65,
          71,
          73,
          75,
          81,
          82,
          83,
          84,
          85,
          87,
          91,
          92,
          94,
          95,
          101,
          102,
          103,
          104,
          110,
          111,
          112,
          113,
          115,
          121,
          122,
          123,
          125,
          126,
          130,
          131,
          132,
          133,
          136,
          137,
          139,
          140,
          141,
          145,
          146,
          148,
          151,
          152,
          154,
          156,
          161,
          162,
          163,
          165,
          169,
          171,
          172,
          174,
          176,
          179,
          180,
          181,
          182,
          183,
          187,
          188,
          191,
          195,
          198
         ],
         "y": [
          0.9801833776989056,
          0.9764428739693758,
          0.9692712906057945,
          0.9712609970674487,
          0.9767578699617535,
          0.9694814814814815,
          0.9769911504424779,
          0.976634131913635,
          0.9703725432678205,
          0.9652122641509434,
          0.9837037037037037,
          0.9834123222748815,
          0.9837037037037037,
          0.9804849201655825,
          0.9842962962962963,
          0.9707878430215403,
          0.9781194559432289,
          0.96667649660867,
          0.9793021880544057,
          0.9740412979351032,
          0.9769503546099291,
          0.9837133550488599,
          0.9822485207100592,
          0.9763593380614657,
          0.9799054373522459,
          0.9834123222748815,
          0.9804849201655825,
          0.980195093112622,
          0.9837037037037037,
          0.9822380106571936,
          0.9825701624815362,
          0.9798935541099941,
          0.9837037037037037,
          0.9819580005915409,
          0.981377475613361,
          0.9843055966834469,
          0.9801833776989056,
          0.9836843666567784,
          0.9845971563981043,
          0.9822485207100592,
          0.9819580005915409,
          0.9819473216928085,
          0.9837037037037037,
          0.9816676522767593,
          0.9816676522767593,
          0.9837037037037037,
          0.9813554306007695,
          0.9825392127848476,
          0.9837037037037037,
          0.9828199052132701,
          0.9819473216928085,
          0.9819580005915409,
          0.9822485207100592,
          0.9831111111111112,
          0.9837037037037037,
          0.9837037037037037,
          0.9825288717796861,
          0.9828300769686205,
          0.9837037037037037,
          0.9819580005915409,
          0.982809721398933,
          0.9819580005915409,
          0.981377475613361,
          0.9837037037037037,
          0.9837037037037037,
          0.9834123222748815,
          0.9822590183323477,
          0.9837037037037037,
          0.9816676522767593,
          0.9843055966834469,
          0.9828300769686205,
          0.9816676522767593,
          0.982809721398933,
          0.9837037037037037,
          0.9819580005915409,
          0.9837037037037037,
          0.9819580005915409,
          0.9825392127848476,
          0.9819580005915409,
          0.9828300769686205,
          0.9837037037037037,
          0.9819580005915409,
          0.9831010969463386,
          0.9837037037037037,
          0.9837037037037037,
          0.9837037037037037,
          0.9843055966834469,
          0.9828300769686205,
          0.9837037037037037,
          0.9837037037037037,
          0.9828300769686205,
          0.9827995255041518,
          0.9840047393364929,
          0.9840047393364929,
          0.9843055966834469,
          0.9840047393364929,
          0.9828300769686205,
          0.9840047393364929,
          0.9825495415557527,
          0.9837037037037037,
          0.9843055966834469,
          0.9843055966834469,
          0.9834123222748815,
          0.9840047393364929,
          0.9840047393364929,
          0.9825392127848476,
          0.982809721398933
         ]
        },
        {
         "mode": "lines",
         "name": "Best Value",
         "type": "scatter",
         "x": [
          0,
          1,
          2,
          3,
          4,
          5,
          6,
          7,
          8,
          9,
          10,
          11,
          12,
          13,
          14,
          15,
          16,
          17,
          18,
          19,
          20,
          21,
          22,
          23,
          24,
          25,
          26,
          27,
          28,
          29,
          30,
          31,
          32,
          33,
          34,
          35,
          36,
          37,
          38,
          39,
          40,
          41,
          42,
          43,
          44,
          45,
          46,
          47,
          48,
          49,
          50,
          51,
          52,
          53,
          54,
          55,
          56,
          57,
          58,
          59,
          60,
          61,
          62,
          63,
          64,
          65,
          66,
          67,
          68,
          69,
          70,
          71,
          72,
          73,
          74,
          75,
          76,
          77,
          78,
          79,
          80,
          81,
          82,
          83,
          84,
          85,
          86,
          87,
          88,
          89,
          90,
          91,
          92,
          93,
          94,
          95,
          96,
          97,
          98,
          99,
          100,
          101,
          102,
          103,
          104,
          105,
          106,
          107,
          108,
          109,
          110,
          111,
          112,
          113,
          114,
          115,
          116,
          117,
          118,
          119,
          120,
          121,
          122,
          123,
          124,
          125,
          126,
          127,
          128,
          129,
          130,
          131,
          132,
          133,
          134,
          135,
          136,
          137,
          138,
          139,
          140,
          141,
          142,
          143,
          144,
          145,
          146,
          147,
          148,
          149,
          150,
          151,
          152,
          153,
          154,
          155,
          156,
          157,
          158,
          159,
          160,
          161,
          162,
          163,
          164,
          165,
          166,
          167,
          168,
          169,
          170,
          171,
          172,
          173,
          174,
          175,
          176,
          177,
          178,
          179,
          180,
          181,
          182,
          183,
          184,
          185,
          186,
          187,
          188,
          189,
          190,
          191,
          192,
          193,
          194,
          195,
          196,
          197,
          198,
          199
         ],
         "y": [
          0.9801833776989056,
          0.9801833776989056,
          0.9801833776989056,
          0.9801833776989056,
          0.9801833776989056,
          0.9801833776989056,
          0.9801833776989056,
          0.9801833776989056,
          0.9801833776989056,
          0.9801833776989056,
          0.9837037037037037,
          0.9837037037037037,
          0.9837037037037037,
          0.9837037037037037,
          0.9842962962962963,
          0.9842962962962963,
          0.9842962962962963,
          0.9842962962962963,
          0.9842962962962963,
          0.9842962962962963,
          0.9842962962962963,
          0.9842962962962963,
          0.9842962962962963,
          0.9842962962962963,
          0.9842962962962963,
          0.9842962962962963,
          0.9842962962962963,
          0.9842962962962963,
          0.9842962962962963,
          0.9842962962962963,
          0.9842962962962963,
          0.9842962962962963,
          0.9842962962962963,
          0.9842962962962963,
          0.9842962962962963,
          0.9842962962962963,
          0.9842962962962963,
          0.9842962962962963,
          0.9842962962962963,
          0.9842962962962963,
          0.9842962962962963,
          0.9842962962962963,
          0.9842962962962963,
          0.9842962962962963,
          0.9843055966834469,
          0.9843055966834469,
          0.9843055966834469,
          0.9843055966834469,
          0.9843055966834469,
          0.9843055966834469,
          0.9843055966834469,
          0.9845971563981043,
          0.9845971563981043,
          0.9845971563981043,
          0.9845971563981043,
          0.9845971563981043,
          0.9845971563981043,
          0.9845971563981043,
          0.9845971563981043,
          0.9845971563981043,
          0.9845971563981043,
          0.9845971563981043,
          0.9845971563981043,
          0.9845971563981043,
          0.9845971563981043,
          0.9845971563981043,
          0.9845971563981043,
          0.9845971563981043,
          0.9845971563981043,
          0.9845971563981043,
          0.9845971563981043,
          0.9845971563981043,
          0.9845971563981043,
          0.9845971563981043,
          0.9845971563981043,
          0.9845971563981043,
          0.9845971563981043,
          0.9845971563981043,
          0.9845971563981043,
          0.9845971563981043,
          0.9845971563981043,
          0.9845971563981043,
          0.9845971563981043,
          0.9845971563981043,
          0.9845971563981043,
          0.9845971563981043,
          0.9845971563981043,
          0.9845971563981043,
          0.9845971563981043,
          0.9845971563981043,
          0.9845971563981043,
          0.9845971563981043,
          0.9845971563981043,
          0.9845971563981043,
          0.9845971563981043,
          0.9845971563981043,
          0.9845971563981043,
          0.9845971563981043,
          0.9845971563981043,
          0.9845971563981043,
          0.9845971563981043,
          0.9845971563981043,
          0.9845971563981043,
          0.9845971563981043,
          0.9845971563981043,
          0.9845971563981043,
          0.9845971563981043,
          0.9845971563981043,
          0.9845971563981043,
          0.9845971563981043,
          0.9845971563981043,
          0.9845971563981043,
          0.9845971563981043,
          0.9845971563981043,
          0.9845971563981043,
          0.9845971563981043,
          0.9845971563981043,
          0.9845971563981043,
          0.9845971563981043,
          0.9845971563981043,
          0.9845971563981043,
          0.9845971563981043,
          0.9845971563981043,
          0.9845971563981043,
          0.9845971563981043,
          0.9845971563981043,
          0.9845971563981043,
          0.9845971563981043,
          0.9845971563981043,
          0.9845971563981043,
          0.9845971563981043,
          0.9845971563981043,
          0.9845971563981043,
          0.9845971563981043,
          0.9845971563981043,
          0.9845971563981043,
          0.9845971563981043,
          0.9845971563981043,
          0.9845971563981043,
          0.9845971563981043,
          0.9845971563981043,
          0.9845971563981043,
          0.9845971563981043,
          0.9845971563981043,
          0.9845971563981043,
          0.9845971563981043,
          0.9845971563981043,
          0.9845971563981043,
          0.9845971563981043,
          0.9845971563981043,
          0.9845971563981043,
          0.9845971563981043,
          0.9845971563981043,
          0.9845971563981043,
          0.9845971563981043,
          0.9845971563981043,
          0.9845971563981043,
          0.9845971563981043,
          0.9845971563981043,
          0.9845971563981043,
          0.9845971563981043,
          0.9845971563981043,
          0.9845971563981043,
          0.9845971563981043,
          0.9845971563981043,
          0.9845971563981043,
          0.9845971563981043,
          0.9845971563981043,
          0.9845971563981043,
          0.9845971563981043,
          0.9845971563981043,
          0.9845971563981043,
          0.9845971563981043,
          0.9845971563981043,
          0.9845971563981043,
          0.9845971563981043,
          0.9845971563981043,
          0.9845971563981043,
          0.9845971563981043,
          0.9845971563981043,
          0.9845971563981043,
          0.9845971563981043,
          0.9845971563981043,
          0.9845971563981043,
          0.9845971563981043,
          0.9845971563981043,
          0.9845971563981043,
          0.9845971563981043,
          0.9845971563981043,
          0.9845971563981043,
          0.9845971563981043,
          0.9845971563981043,
          0.9845971563981043,
          0.9845971563981043,
          0.9845971563981043,
          0.9845971563981043,
          0.9845971563981043,
          0.9845971563981043,
          0.9845971563981043,
          0.9845971563981043
         ]
        },
        {
         "marker": {
          "color": "#cccccc"
         },
         "mode": "markers",
         "name": "Infeasible Trial",
         "showlegend": false,
         "type": "scatter",
         "x": [],
         "y": []
        }
       ],
       "layout": {
        "template": {
         "data": {
          "bar": [
           {
            "error_x": {
             "color": "#2a3f5f"
            },
            "error_y": {
             "color": "#2a3f5f"
            },
            "marker": {
             "line": {
              "color": "#E5ECF6",
              "width": 0.5
             },
             "pattern": {
              "fillmode": "overlay",
              "size": 10,
              "solidity": 0.2
             }
            },
            "type": "bar"
           }
          ],
          "barpolar": [
           {
            "marker": {
             "line": {
              "color": "#E5ECF6",
              "width": 0.5
             },
             "pattern": {
              "fillmode": "overlay",
              "size": 10,
              "solidity": 0.2
             }
            },
            "type": "barpolar"
           }
          ],
          "carpet": [
           {
            "aaxis": {
             "endlinecolor": "#2a3f5f",
             "gridcolor": "white",
             "linecolor": "white",
             "minorgridcolor": "white",
             "startlinecolor": "#2a3f5f"
            },
            "baxis": {
             "endlinecolor": "#2a3f5f",
             "gridcolor": "white",
             "linecolor": "white",
             "minorgridcolor": "white",
             "startlinecolor": "#2a3f5f"
            },
            "type": "carpet"
           }
          ],
          "choropleth": [
           {
            "colorbar": {
             "outlinewidth": 0,
             "ticks": ""
            },
            "type": "choropleth"
           }
          ],
          "contour": [
           {
            "colorbar": {
             "outlinewidth": 0,
             "ticks": ""
            },
            "colorscale": [
             [
              0,
              "#0d0887"
             ],
             [
              0.1111111111111111,
              "#46039f"
             ],
             [
              0.2222222222222222,
              "#7201a8"
             ],
             [
              0.3333333333333333,
              "#9c179e"
             ],
             [
              0.4444444444444444,
              "#bd3786"
             ],
             [
              0.5555555555555556,
              "#d8576b"
             ],
             [
              0.6666666666666666,
              "#ed7953"
             ],
             [
              0.7777777777777778,
              "#fb9f3a"
             ],
             [
              0.8888888888888888,
              "#fdca26"
             ],
             [
              1,
              "#f0f921"
             ]
            ],
            "type": "contour"
           }
          ],
          "contourcarpet": [
           {
            "colorbar": {
             "outlinewidth": 0,
             "ticks": ""
            },
            "type": "contourcarpet"
           }
          ],
          "heatmap": [
           {
            "colorbar": {
             "outlinewidth": 0,
             "ticks": ""
            },
            "colorscale": [
             [
              0,
              "#0d0887"
             ],
             [
              0.1111111111111111,
              "#46039f"
             ],
             [
              0.2222222222222222,
              "#7201a8"
             ],
             [
              0.3333333333333333,
              "#9c179e"
             ],
             [
              0.4444444444444444,
              "#bd3786"
             ],
             [
              0.5555555555555556,
              "#d8576b"
             ],
             [
              0.6666666666666666,
              "#ed7953"
             ],
             [
              0.7777777777777778,
              "#fb9f3a"
             ],
             [
              0.8888888888888888,
              "#fdca26"
             ],
             [
              1,
              "#f0f921"
             ]
            ],
            "type": "heatmap"
           }
          ],
          "heatmapgl": [
           {
            "colorbar": {
             "outlinewidth": 0,
             "ticks": ""
            },
            "colorscale": [
             [
              0,
              "#0d0887"
             ],
             [
              0.1111111111111111,
              "#46039f"
             ],
             [
              0.2222222222222222,
              "#7201a8"
             ],
             [
              0.3333333333333333,
              "#9c179e"
             ],
             [
              0.4444444444444444,
              "#bd3786"
             ],
             [
              0.5555555555555556,
              "#d8576b"
             ],
             [
              0.6666666666666666,
              "#ed7953"
             ],
             [
              0.7777777777777778,
              "#fb9f3a"
             ],
             [
              0.8888888888888888,
              "#fdca26"
             ],
             [
              1,
              "#f0f921"
             ]
            ],
            "type": "heatmapgl"
           }
          ],
          "histogram": [
           {
            "marker": {
             "pattern": {
              "fillmode": "overlay",
              "size": 10,
              "solidity": 0.2
             }
            },
            "type": "histogram"
           }
          ],
          "histogram2d": [
           {
            "colorbar": {
             "outlinewidth": 0,
             "ticks": ""
            },
            "colorscale": [
             [
              0,
              "#0d0887"
             ],
             [
              0.1111111111111111,
              "#46039f"
             ],
             [
              0.2222222222222222,
              "#7201a8"
             ],
             [
              0.3333333333333333,
              "#9c179e"
             ],
             [
              0.4444444444444444,
              "#bd3786"
             ],
             [
              0.5555555555555556,
              "#d8576b"
             ],
             [
              0.6666666666666666,
              "#ed7953"
             ],
             [
              0.7777777777777778,
              "#fb9f3a"
             ],
             [
              0.8888888888888888,
              "#fdca26"
             ],
             [
              1,
              "#f0f921"
             ]
            ],
            "type": "histogram2d"
           }
          ],
          "histogram2dcontour": [
           {
            "colorbar": {
             "outlinewidth": 0,
             "ticks": ""
            },
            "colorscale": [
             [
              0,
              "#0d0887"
             ],
             [
              0.1111111111111111,
              "#46039f"
             ],
             [
              0.2222222222222222,
              "#7201a8"
             ],
             [
              0.3333333333333333,
              "#9c179e"
             ],
             [
              0.4444444444444444,
              "#bd3786"
             ],
             [
              0.5555555555555556,
              "#d8576b"
             ],
             [
              0.6666666666666666,
              "#ed7953"
             ],
             [
              0.7777777777777778,
              "#fb9f3a"
             ],
             [
              0.8888888888888888,
              "#fdca26"
             ],
             [
              1,
              "#f0f921"
             ]
            ],
            "type": "histogram2dcontour"
           }
          ],
          "mesh3d": [
           {
            "colorbar": {
             "outlinewidth": 0,
             "ticks": ""
            },
            "type": "mesh3d"
           }
          ],
          "parcoords": [
           {
            "line": {
             "colorbar": {
              "outlinewidth": 0,
              "ticks": ""
             }
            },
            "type": "parcoords"
           }
          ],
          "pie": [
           {
            "automargin": true,
            "type": "pie"
           }
          ],
          "scatter": [
           {
            "fillpattern": {
             "fillmode": "overlay",
             "size": 10,
             "solidity": 0.2
            },
            "type": "scatter"
           }
          ],
          "scatter3d": [
           {
            "line": {
             "colorbar": {
              "outlinewidth": 0,
              "ticks": ""
             }
            },
            "marker": {
             "colorbar": {
              "outlinewidth": 0,
              "ticks": ""
             }
            },
            "type": "scatter3d"
           }
          ],
          "scattercarpet": [
           {
            "marker": {
             "colorbar": {
              "outlinewidth": 0,
              "ticks": ""
             }
            },
            "type": "scattercarpet"
           }
          ],
          "scattergeo": [
           {
            "marker": {
             "colorbar": {
              "outlinewidth": 0,
              "ticks": ""
             }
            },
            "type": "scattergeo"
           }
          ],
          "scattergl": [
           {
            "marker": {
             "colorbar": {
              "outlinewidth": 0,
              "ticks": ""
             }
            },
            "type": "scattergl"
           }
          ],
          "scattermapbox": [
           {
            "marker": {
             "colorbar": {
              "outlinewidth": 0,
              "ticks": ""
             }
            },
            "type": "scattermapbox"
           }
          ],
          "scatterpolar": [
           {
            "marker": {
             "colorbar": {
              "outlinewidth": 0,
              "ticks": ""
             }
            },
            "type": "scatterpolar"
           }
          ],
          "scatterpolargl": [
           {
            "marker": {
             "colorbar": {
              "outlinewidth": 0,
              "ticks": ""
             }
            },
            "type": "scatterpolargl"
           }
          ],
          "scatterternary": [
           {
            "marker": {
             "colorbar": {
              "outlinewidth": 0,
              "ticks": ""
             }
            },
            "type": "scatterternary"
           }
          ],
          "surface": [
           {
            "colorbar": {
             "outlinewidth": 0,
             "ticks": ""
            },
            "colorscale": [
             [
              0,
              "#0d0887"
             ],
             [
              0.1111111111111111,
              "#46039f"
             ],
             [
              0.2222222222222222,
              "#7201a8"
             ],
             [
              0.3333333333333333,
              "#9c179e"
             ],
             [
              0.4444444444444444,
              "#bd3786"
             ],
             [
              0.5555555555555556,
              "#d8576b"
             ],
             [
              0.6666666666666666,
              "#ed7953"
             ],
             [
              0.7777777777777778,
              "#fb9f3a"
             ],
             [
              0.8888888888888888,
              "#fdca26"
             ],
             [
              1,
              "#f0f921"
             ]
            ],
            "type": "surface"
           }
          ],
          "table": [
           {
            "cells": {
             "fill": {
              "color": "#EBF0F8"
             },
             "line": {
              "color": "white"
             }
            },
            "header": {
             "fill": {
              "color": "#C8D4E3"
             },
             "line": {
              "color": "white"
             }
            },
            "type": "table"
           }
          ]
         },
         "layout": {
          "annotationdefaults": {
           "arrowcolor": "#2a3f5f",
           "arrowhead": 0,
           "arrowwidth": 1
          },
          "autotypenumbers": "strict",
          "coloraxis": {
           "colorbar": {
            "outlinewidth": 0,
            "ticks": ""
           }
          },
          "colorscale": {
           "diverging": [
            [
             0,
             "#8e0152"
            ],
            [
             0.1,
             "#c51b7d"
            ],
            [
             0.2,
             "#de77ae"
            ],
            [
             0.3,
             "#f1b6da"
            ],
            [
             0.4,
             "#fde0ef"
            ],
            [
             0.5,
             "#f7f7f7"
            ],
            [
             0.6,
             "#e6f5d0"
            ],
            [
             0.7,
             "#b8e186"
            ],
            [
             0.8,
             "#7fbc41"
            ],
            [
             0.9,
             "#4d9221"
            ],
            [
             1,
             "#276419"
            ]
           ],
           "sequential": [
            [
             0,
             "#0d0887"
            ],
            [
             0.1111111111111111,
             "#46039f"
            ],
            [
             0.2222222222222222,
             "#7201a8"
            ],
            [
             0.3333333333333333,
             "#9c179e"
            ],
            [
             0.4444444444444444,
             "#bd3786"
            ],
            [
             0.5555555555555556,
             "#d8576b"
            ],
            [
             0.6666666666666666,
             "#ed7953"
            ],
            [
             0.7777777777777778,
             "#fb9f3a"
            ],
            [
             0.8888888888888888,
             "#fdca26"
            ],
            [
             1,
             "#f0f921"
            ]
           ],
           "sequentialminus": [
            [
             0,
             "#0d0887"
            ],
            [
             0.1111111111111111,
             "#46039f"
            ],
            [
             0.2222222222222222,
             "#7201a8"
            ],
            [
             0.3333333333333333,
             "#9c179e"
            ],
            [
             0.4444444444444444,
             "#bd3786"
            ],
            [
             0.5555555555555556,
             "#d8576b"
            ],
            [
             0.6666666666666666,
             "#ed7953"
            ],
            [
             0.7777777777777778,
             "#fb9f3a"
            ],
            [
             0.8888888888888888,
             "#fdca26"
            ],
            [
             1,
             "#f0f921"
            ]
           ]
          },
          "colorway": [
           "#636efa",
           "#EF553B",
           "#00cc96",
           "#ab63fa",
           "#FFA15A",
           "#19d3f3",
           "#FF6692",
           "#B6E880",
           "#FF97FF",
           "#FECB52"
          ],
          "font": {
           "color": "#2a3f5f"
          },
          "geo": {
           "bgcolor": "white",
           "lakecolor": "white",
           "landcolor": "#E5ECF6",
           "showlakes": true,
           "showland": true,
           "subunitcolor": "white"
          },
          "hoverlabel": {
           "align": "left"
          },
          "hovermode": "closest",
          "mapbox": {
           "style": "light"
          },
          "paper_bgcolor": "white",
          "plot_bgcolor": "#E5ECF6",
          "polar": {
           "angularaxis": {
            "gridcolor": "white",
            "linecolor": "white",
            "ticks": ""
           },
           "bgcolor": "#E5ECF6",
           "radialaxis": {
            "gridcolor": "white",
            "linecolor": "white",
            "ticks": ""
           }
          },
          "scene": {
           "xaxis": {
            "backgroundcolor": "#E5ECF6",
            "gridcolor": "white",
            "gridwidth": 2,
            "linecolor": "white",
            "showbackground": true,
            "ticks": "",
            "zerolinecolor": "white"
           },
           "yaxis": {
            "backgroundcolor": "#E5ECF6",
            "gridcolor": "white",
            "gridwidth": 2,
            "linecolor": "white",
            "showbackground": true,
            "ticks": "",
            "zerolinecolor": "white"
           },
           "zaxis": {
            "backgroundcolor": "#E5ECF6",
            "gridcolor": "white",
            "gridwidth": 2,
            "linecolor": "white",
            "showbackground": true,
            "ticks": "",
            "zerolinecolor": "white"
           }
          },
          "shapedefaults": {
           "line": {
            "color": "#2a3f5f"
           }
          },
          "ternary": {
           "aaxis": {
            "gridcolor": "white",
            "linecolor": "white",
            "ticks": ""
           },
           "baxis": {
            "gridcolor": "white",
            "linecolor": "white",
            "ticks": ""
           },
           "bgcolor": "#E5ECF6",
           "caxis": {
            "gridcolor": "white",
            "linecolor": "white",
            "ticks": ""
           }
          },
          "title": {
           "x": 0.05
          },
          "xaxis": {
           "automargin": true,
           "gridcolor": "white",
           "linecolor": "white",
           "ticks": "",
           "title": {
            "standoff": 15
           },
           "zerolinecolor": "white",
           "zerolinewidth": 2
          },
          "yaxis": {
           "automargin": true,
           "gridcolor": "white",
           "linecolor": "white",
           "ticks": "",
           "title": {
            "standoff": 15
           },
           "zerolinecolor": "white",
           "zerolinewidth": 2
          }
         }
        },
        "title": {
         "text": "Optimization History Plot"
        },
        "xaxis": {
         "title": {
          "text": "Trial"
         }
        },
        "yaxis": {
         "title": {
          "text": "Objective Value"
         }
        }
       }
      }
     },
     "metadata": {},
     "output_type": "display_data"
    }
   ],
   "source": [
    "p_history_feat_eng = optuna.visualization.plot_optimization_history(study_feat_eng)\n",
    "p_history_feat_eng.show()"
   ]
  }
 ],
 "metadata": {
  "kernelspec": {
   "display_name": "ml4hc",
   "language": "python",
   "name": "python3"
  },
  "language_info": {
   "codemirror_mode": {
    "name": "ipython",
    "version": 3
   },
   "file_extension": ".py",
   "mimetype": "text/x-python",
   "name": "python",
   "nbconvert_exporter": "python",
   "pygments_lexer": "ipython3",
   "version": "3.10.14"
  }
 },
 "nbformat": 4,
 "nbformat_minor": 2
}
