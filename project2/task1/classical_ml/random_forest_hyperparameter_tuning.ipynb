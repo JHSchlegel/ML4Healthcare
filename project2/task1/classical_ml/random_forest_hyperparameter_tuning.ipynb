{
 "cells": [
  {
   "cell_type": "markdown",
   "metadata": {},
   "source": [
    "# Random Forest: Hyperparameter Tuning"
   ]
  },
  {
   "cell_type": "markdown",
   "metadata": {},
   "source": [
    "## Packages and Presets"
   ]
  },
  {
   "cell_type": "code",
   "execution_count": 1,
   "metadata": {},
   "outputs": [],
   "source": [
    "import pandas as pd\n",
    "import numpy as np\n",
    "import yaml\n",
    "import os\n",
    "import joblib\n",
    "\n",
    "from sklearn.metrics import (\n",
    "    f1_score, \n",
    "    balanced_accuracy_score,\n",
    ")\n",
    "\n",
    "from sklearn.preprocessing import StandardScaler, OneHotEncoder\n",
    "\n",
    "from sklearn.model_selection import StratifiedKFold\n",
    "\n",
    "import matplotlib.pyplot as plt\n",
    "import seaborn as sns \n",
    "\n",
    "from imblearn.over_sampling import SMOTE\n",
    "\n",
    "from sklearn.ensemble import RandomForestClassifier\n",
    "\n",
    "from tsfresh.transformers.per_column_imputer import PerColumnImputer\n",
    "from tsfresh.feature_extraction.settings import EfficientFCParameters, ComprehensiveFCParameters\n",
    "from tsfresh.feature_extraction import extract_features\n",
    "\n",
    "from sklearn.pipeline import Pipeline\n",
    "from sklearn.compose import ColumnTransformer\n",
    "\n",
    "pd.set_option('display.max_columns', None)\n",
    "%load_ext blackcellmagic\n",
    "%load_ext autoreload\n",
    "\n",
    "import optuna\n",
    "import warnings"
   ]
  },
  {
   "cell_type": "code",
   "execution_count": 3,
   "metadata": {},
   "outputs": [],
   "source": [
    "NUM_TRIALS = 500\n",
    "\n",
    "with open(\"classical_ml_config.yaml\", \"r\") as file:\n",
    "    config = yaml.safe_load(file)"
   ]
  },
  {
   "cell_type": "markdown",
   "metadata": {},
   "source": [
    "## No Feature Engineering"
   ]
  },
  {
   "cell_type": "code",
   "execution_count": 4,
   "metadata": {},
   "outputs": [],
   "source": [
    "# Load data\n",
    "train_df = pd.read_csv(config[\"paths\"][\"ptb_train\"], header=None)"
   ]
  },
  {
   "cell_type": "code",
   "execution_count": 29,
   "metadata": {},
   "outputs": [],
   "source": [
    "X_train_all = train_df.iloc[:, :-1]\n",
    "y_train_all = train_df.iloc[:, -1]"
   ]
  },
  {
   "cell_type": "code",
   "execution_count": 5,
   "metadata": {},
   "outputs": [],
   "source": [
    "smote = SMOTE(random_state=config[\"general\"][\"seed\"])\n",
    "X_train_all, y_train_all = smote.fit_resample(X_train_all, y_train_all)"
   ]
  },
  {
   "cell_type": "code",
   "execution_count": 6,
   "metadata": {},
   "outputs": [],
   "source": [
    "# create objective function for optuna\n",
    "def objective_no_feat_eng(trial):\n",
    "\n",
    "    # see: https://medium.com/@ethannabatchian/optimizing-random-forest-models-a-deep-dive-into-hyperparameter-tuning-with-optuna-b8e4fe7f3670\n",
    "    hyperparams = {\n",
    "        \"n_estimators\": trial.suggest_int(\"n_estimators\", 100, 1000),\n",
    "        \"max_depth\": trial.suggest_int(\"max_depth\", 10, 50),\n",
    "        \"min_samples_split\": trial.suggest_int(\"min_samples_split\", 2, 32),\n",
    "        \"min_samples_leaf\": trial.suggest_int(\"min_samples_leaf\", 1, 32),\n",
    "        \"criterion\": trial.suggest_categorical(\"criterion\", [\"gini\", \"entropy\", \"log_loss\"]),\n",
    "        \"bootstrap\": trial.suggest_categorical(\"bootstrap\", [True, False]),\n",
    "    }\n",
    "    \n",
    "    \n",
    "    f1_scores = []\n",
    "    \n",
    "    skf = StratifiedKFold(n_splits=5, random_state=config[\"general\"][\"seed\"], shuffle=True)\n",
    "    for fold_num, (train_idx, val_idx) in enumerate(skf.split(X_train_all, y_train_all)):\n",
    "        X_train, X_val = X_train_all.iloc[train_idx], X_train_all.iloc[val_idx]\n",
    "        y_train, y_val = y_train_all[train_idx], y_train_all[val_idx]\n",
    "        \n",
    "        \n",
    "        rf = RandomForestClassifier(\n",
    "            random_state=config[\"general\"][\"seed\"],\n",
    "            n_jobs=-1,\n",
    "            **hyperparams\n",
    "        )\n",
    "        rf.fit(X_train, y_train)\n",
    "        \n",
    "        y_preds = rf.predict(X_val)\n",
    "        \n",
    "        score = f1_score(y_val, y_preds)\n",
    "        f1_scores.append(score)\n",
    "            \n",
    "        trial.report(np.mean(f1_scores), fold_num)\n",
    "        if trial.should_prune():\n",
    "            raise optuna.TrialPruned()\n",
    "                    \n",
    "        \n",
    "    return np.mean(f1_scores)"
   ]
  },
  {
   "cell_type": "code",
   "execution_count": 7,
   "metadata": {},
   "outputs": [
    {
     "name": "stderr",
     "output_type": "stream",
     "text": [
      "[I 2024-05-10 12:07:16,489] A new study created in memory with name: rf_no_feat_eng\n"
     ]
    }
   ],
   "source": [
    "# prune bad trials \n",
    "pruner = optuna.pruners.MedianPruner(n_startup_trials=20, n_warmup_steps=2)\n",
    "\n",
    "study_no_feat_eng = optuna.create_study(\n",
    "    direction=\"maximize\",\n",
    "    study_name=\"rf_no_feat_eng\",\n",
    "    sampler=optuna.samplers.TPESampler(seed=config[\"general\"][\"seed\"]),\n",
    "    pruner=pruner,\n",
    ")"
   ]
  },
  {
   "cell_type": "code",
   "execution_count": 8,
   "metadata": {},
   "outputs": [
    {
     "data": {
      "application/vnd.jupyter.widget-view+json": {
       "model_id": "432884e0f58649869b22d95c4b147a30",
       "version_major": 2,
       "version_minor": 0
      },
      "text/plain": [
       "  0%|          | 0/500 [00:00<?, ?it/s]"
      ]
     },
     "metadata": {},
     "output_type": "display_data"
    },
    {
     "name": "stdout",
     "output_type": "stream",
     "text": [
      "[I 2024-05-10 12:07:23,162] Trial 0 finished with value: 0.9532119724290524 and parameters: {'n_estimators': 437, 'max_depth': 48, 'min_samples_split': 24, 'min_samples_leaf': 20, 'criterion': 'gini'}. Best is trial 0 with value: 0.9532119724290524.\n",
      "[I 2024-05-10 12:07:37,891] Trial 1 finished with value: 0.972841631428144 and parameters: {'n_estimators': 880, 'max_depth': 34, 'min_samples_split': 23, 'min_samples_leaf': 1, 'criterion': 'gini'}. Best is trial 1 with value: 0.972841631428144.\n",
      "[I 2024-05-10 12:07:42,607] Trial 2 finished with value: 0.9597617704996864 and parameters: {'n_estimators': 263, 'max_depth': 17, 'min_samples_split': 11, 'min_samples_leaf': 17, 'criterion': 'log_loss'}. Best is trial 1 with value: 0.972841631428144.\n",
      "[I 2024-05-10 12:07:45,974] Trial 3 finished with value: 0.9583604988987255 and parameters: {'n_estimators': 225, 'max_depth': 21, 'min_samples_split': 13, 'min_samples_leaf': 15, 'criterion': 'gini'}. Best is trial 1 with value: 0.972841631428144.\n",
      "[I 2024-05-10 12:07:55,398] Trial 4 finished with value: 0.9442334595456214 and parameters: {'n_estimators': 633, 'max_depth': 11, 'min_samples_split': 20, 'min_samples_leaf': 6, 'criterion': 'log_loss'}. Best is trial 1 with value: 0.972841631428144.\n",
      "[I 2024-05-10 12:08:08,585] Trial 5 finished with value: 0.955480170018203 and parameters: {'n_estimators': 828, 'max_depth': 22, 'min_samples_split': 5, 'min_samples_leaf': 22, 'criterion': 'log_loss'}. Best is trial 1 with value: 0.972841631428144.\n",
      "[I 2024-05-10 12:08:11,060] Trial 6 finished with value: 0.9554679362801008 and parameters: {'n_estimators': 130, 'max_depth': 47, 'min_samples_split': 10, 'min_samples_leaf': 22, 'criterion': 'log_loss'}. Best is trial 1 with value: 0.972841631428144.\n",
      "[I 2024-05-10 12:08:15,493] Trial 7 finished with value: 0.946431711337237 and parameters: {'n_estimators': 266, 'max_depth': 49, 'min_samples_split': 26, 'min_samples_leaf': 31, 'criterion': 'log_loss'}. Best is trial 1 with value: 0.972841631428144.\n",
      "[I 2024-05-10 12:08:18,849] Trial 8 finished with value: 0.9664306314241891 and parameters: {'n_estimators': 179, 'max_depth': 18, 'min_samples_split': 3, 'min_samples_leaf': 11, 'criterion': 'log_loss'}. Best is trial 1 with value: 0.972841631428144.\n",
      "[I 2024-05-10 12:08:26,391] Trial 9 finished with value: 0.9727436285378473 and parameters: {'n_estimators': 421, 'max_depth': 21, 'min_samples_split': 18, 'min_samples_leaf': 5, 'criterion': 'log_loss'}. Best is trial 1 with value: 0.972841631428144.\n",
      "[I 2024-05-10 12:08:43,821] Trial 10 finished with value: 0.9722395841163618 and parameters: {'n_estimators': 981, 'max_depth': 36, 'min_samples_split': 32, 'min_samples_leaf': 1, 'criterion': 'entropy'}. Best is trial 1 with value: 0.972841631428144.\n",
      "[I 2024-05-10 12:08:52,841] Trial 11 finished with value: 0.9755165954743401 and parameters: {'n_estimators': 553, 'max_depth': 32, 'min_samples_split': 17, 'min_samples_leaf': 1, 'criterion': 'gini'}. Best is trial 11 with value: 0.9755165954743401.\n",
      "[I 2024-05-10 12:09:03,595] Trial 12 finished with value: 0.9710348150807668 and parameters: {'n_estimators': 684, 'max_depth': 34, 'min_samples_split': 24, 'min_samples_leaf': 2, 'criterion': 'gini'}. Best is trial 11 with value: 0.9755165954743401.\n",
      "[I 2024-05-10 12:09:14,943] Trial 13 finished with value: 0.9631584922538124 and parameters: {'n_estimators': 808, 'max_depth': 39, 'min_samples_split': 29, 'min_samples_leaf': 9, 'criterion': 'gini'}. Best is trial 11 with value: 0.9755165954743401.\n",
      "[I 2024-05-10 12:09:28,569] Trial 14 finished with value: 0.9654940463610945 and parameters: {'n_estimators': 973, 'max_depth': 28, 'min_samples_split': 15, 'min_samples_leaf': 10, 'criterion': 'gini'}. Best is trial 11 with value: 0.9755165954743401.\n",
      "[I 2024-05-10 12:09:37,440] Trial 15 finished with value: 0.9717187385678269 and parameters: {'n_estimators': 506, 'max_depth': 29, 'min_samples_split': 21, 'min_samples_leaf': 5, 'criterion': 'entropy'}. Best is trial 11 with value: 0.9755165954743401.\n",
      "[I 2024-05-10 12:09:47,764] Trial 16 finished with value: 0.9452898632064309 and parameters: {'n_estimators': 820, 'max_depth': 40, 'min_samples_split': 17, 'min_samples_leaf': 28, 'criterion': 'gini'}. Best is trial 11 with value: 0.9755165954743401.\n",
      "[I 2024-05-10 12:09:58,815] Trial 17 finished with value: 0.9776476932402453 and parameters: {'n_estimators': 680, 'max_depth': 43, 'min_samples_split': 8, 'min_samples_leaf': 1, 'criterion': 'gini'}. Best is trial 17 with value: 0.9776476932402453.\n",
      "[I 2024-05-10 12:10:08,116] Trial 18 finished with value: 0.9617889408758138 and parameters: {'n_estimators': 668, 'max_depth': 42, 'min_samples_split': 6, 'min_samples_leaf': 13, 'criterion': 'gini'}. Best is trial 17 with value: 0.9776476932402453.\n",
      "[I 2024-05-10 12:10:18,133] Trial 19 finished with value: 0.9730860774482831 and parameters: {'n_estimators': 578, 'max_depth': 44, 'min_samples_split': 8, 'min_samples_leaf': 7, 'criterion': 'entropy'}. Best is trial 17 with value: 0.9776476932402453.\n",
      "[I 2024-05-10 12:10:24,235] Trial 20 finished with value: 0.9738587230805263 and parameters: {'n_estimators': 388, 'max_depth': 28, 'min_samples_split': 2, 'min_samples_leaf': 4, 'criterion': 'gini'}. Best is trial 17 with value: 0.9776476932402453.\n",
      "[I 2024-05-10 12:10:30,044] Trial 21 finished with value: 0.9737931898233534 and parameters: {'n_estimators': 363, 'max_depth': 26, 'min_samples_split': 2, 'min_samples_leaf': 4, 'criterion': 'gini'}. Best is trial 17 with value: 0.9776476932402453.\n",
      "[I 2024-05-10 12:10:38,163] Trial 22 finished with value: 0.9761963871247265 and parameters: {'n_estimators': 518, 'max_depth': 32, 'min_samples_split': 6, 'min_samples_leaf': 3, 'criterion': 'gini'}. Best is trial 17 with value: 0.9776476932402453.\n",
      "[I 2024-05-10 12:10:46,083] Trial 23 finished with value: 0.9682334867677118 and parameters: {'n_estimators': 542, 'max_depth': 33, 'min_samples_split': 8, 'min_samples_leaf': 8, 'criterion': 'gini'}. Best is trial 17 with value: 0.9776476932402453.\n",
      "[I 2024-05-10 12:10:57,948] Trial 24 finished with value: 0.9762269517105759 and parameters: {'n_estimators': 742, 'max_depth': 37, 'min_samples_split': 14, 'min_samples_leaf': 1, 'criterion': 'gini'}. Best is trial 17 with value: 0.9776476932402453.\n",
      "[I 2024-05-10 12:11:09,194] Trial 25 finished with value: 0.9743424671857485 and parameters: {'n_estimators': 727, 'max_depth': 38, 'min_samples_split': 12, 'min_samples_leaf': 3, 'criterion': 'gini'}. Best is trial 17 with value: 0.9776476932402453.\n",
      "[I 2024-05-10 12:11:21,984] Trial 26 finished with value: 0.9733908389691577 and parameters: {'n_estimators': 742, 'max_depth': 42, 'min_samples_split': 8, 'min_samples_leaf': 7, 'criterion': 'entropy'}. Best is trial 17 with value: 0.9776476932402453.\n",
      "[I 2024-05-10 12:11:31,291] Trial 27 finished with value: 0.9725199281781152 and parameters: {'n_estimators': 612, 'max_depth': 44, 'min_samples_split': 14, 'min_samples_leaf': 4, 'criterion': 'gini'}. Best is trial 17 with value: 0.9776476932402453.\n",
      "[I 2024-05-10 12:11:35,638] Trial 28 pruned. \n",
      "[I 2024-05-10 12:11:41,613] Trial 29 pruned. \n",
      "[I 2024-05-10 12:11:45,566] Trial 30 pruned. \n",
      "[I 2024-05-10 12:11:54,822] Trial 31 finished with value: 0.975225377573094 and parameters: {'n_estimators': 572, 'max_depth': 32, 'min_samples_split': 16, 'min_samples_leaf': 1, 'criterion': 'gini'}. Best is trial 17 with value: 0.9776476932402453.\n",
      "[I 2024-05-10 12:12:09,486] Trial 32 finished with value: 0.9737852617108235 and parameters: {'n_estimators': 901, 'max_depth': 35, 'min_samples_split': 19, 'min_samples_leaf': 1, 'criterion': 'gini'}. Best is trial 17 with value: 0.9776476932402453.\n",
      "[I 2024-05-10 12:12:19,664] Trial 33 finished with value: 0.9742503678158261 and parameters: {'n_estimators': 664, 'max_depth': 24, 'min_samples_split': 10, 'min_samples_leaf': 3, 'criterion': 'gini'}. Best is trial 17 with value: 0.9776476932402453.\n",
      "[I 2024-05-10 12:12:25,044] Trial 34 finished with value: 0.9763396286524539 and parameters: {'n_estimators': 317, 'max_depth': 41, 'min_samples_split': 13, 'min_samples_leaf': 1, 'criterion': 'gini'}. Best is trial 17 with value: 0.9776476932402453.\n",
      "[I 2024-05-10 12:12:28,994] Trial 35 pruned. \n",
      "[I 2024-05-10 12:12:35,111] Trial 36 pruned. \n",
      "[I 2024-05-10 12:12:40,768] Trial 37 pruned. \n",
      "[I 2024-05-10 12:12:45,405] Trial 38 pruned. \n",
      "[I 2024-05-10 12:12:46,420] Trial 39 pruned. \n",
      "[I 2024-05-10 12:12:50,509] Trial 40 finished with value: 0.9738045514733653 and parameters: {'n_estimators': 213, 'max_depth': 50, 'min_samples_split': 12, 'min_samples_leaf': 6, 'criterion': 'log_loss'}. Best is trial 17 with value: 0.9776476932402453.\n",
      "[I 2024-05-10 12:13:00,155] Trial 41 finished with value: 0.9724748378218191 and parameters: {'n_estimators': 612, 'max_depth': 35, 'min_samples_split': 20, 'min_samples_leaf': 2, 'criterion': 'gini'}. Best is trial 17 with value: 0.9776476932402453.\n",
      "[I 2024-05-10 12:13:08,929] Trial 42 finished with value: 0.9729678882929301 and parameters: {'n_estimators': 537, 'max_depth': 32, 'min_samples_split': 22, 'min_samples_leaf': 1, 'criterion': 'gini'}. Best is trial 17 with value: 0.9776476932402453.\n",
      "[I 2024-05-10 12:13:19,670] Trial 43 finished with value: 0.9719621695742212 and parameters: {'n_estimators': 700, 'max_depth': 43, 'min_samples_split': 18, 'min_samples_leaf': 3, 'criterion': 'gini'}. Best is trial 17 with value: 0.9776476932402453.\n",
      "[I 2024-05-10 12:13:26,925] Trial 44 finished with value: 0.9759263553692143 and parameters: {'n_estimators': 438, 'max_depth': 40, 'min_samples_split': 14, 'min_samples_leaf': 1, 'criterion': 'gini'}. Best is trial 17 with value: 0.9776476932402453.\n",
      "[I 2024-05-10 12:13:33,916] Trial 45 finished with value: 0.9738713093728595 and parameters: {'n_estimators': 384, 'max_depth': 40, 'min_samples_split': 14, 'min_samples_leaf': 5, 'criterion': 'log_loss'}. Best is trial 17 with value: 0.9776476932402453.\n",
      "[I 2024-05-10 12:13:41,094] Trial 46 finished with value: 0.976694274573523 and parameters: {'n_estimators': 438, 'max_depth': 37, 'min_samples_split': 9, 'min_samples_leaf': 2, 'criterion': 'gini'}. Best is trial 17 with value: 0.9776476932402453.\n",
      "[I 2024-05-10 12:13:43,919] Trial 47 pruned. \n",
      "[I 2024-05-10 12:13:47,619] Trial 48 pruned. \n",
      "[I 2024-05-10 12:13:52,594] Trial 49 finished with value: 0.9801276752972269 and parameters: {'n_estimators': 261, 'max_depth': 37, 'min_samples_split': 4, 'min_samples_leaf': 2, 'criterion': 'log_loss'}. Best is trial 49 with value: 0.9801276752972269.\n",
      "[I 2024-05-10 12:13:55,047] Trial 50 pruned. \n",
      "[I 2024-05-10 12:13:58,874] Trial 51 finished with value: 0.9800267758345207 and parameters: {'n_estimators': 185, 'max_depth': 34, 'min_samples_split': 6, 'min_samples_leaf': 2, 'criterion': 'log_loss'}. Best is trial 49 with value: 0.9801276752972269.\n",
      "[I 2024-05-10 12:14:02,392] Trial 52 finished with value: 0.9801839421351835 and parameters: {'n_estimators': 170, 'max_depth': 34, 'min_samples_split': 4, 'min_samples_leaf': 2, 'criterion': 'log_loss'}. Best is trial 52 with value: 0.9801839421351835.\n",
      "[I 2024-05-10 12:14:05,555] Trial 53 finished with value: 0.9801868538330482 and parameters: {'n_estimators': 156, 'max_depth': 34, 'min_samples_split': 4, 'min_samples_leaf': 2, 'criterion': 'log_loss'}. Best is trial 53 with value: 0.9801868538330482.\n",
      "[I 2024-05-10 12:14:08,640] Trial 54 finished with value: 0.9738006234400073 and parameters: {'n_estimators': 156, 'max_depth': 30, 'min_samples_split': 3, 'min_samples_leaf': 6, 'criterion': 'log_loss'}. Best is trial 53 with value: 0.9801868538330482.\n",
      "[I 2024-05-10 12:14:12,684] Trial 55 finished with value: 0.9804979704352446 and parameters: {'n_estimators': 201, 'max_depth': 34, 'min_samples_split': 4, 'min_samples_leaf': 2, 'criterion': 'log_loss'}. Best is trial 55 with value: 0.9804979704352446.\n",
      "[I 2024-05-10 12:14:16,422] Trial 56 finished with value: 0.9785821150372378 and parameters: {'n_estimators': 188, 'max_depth': 34, 'min_samples_split': 4, 'min_samples_leaf': 3, 'criterion': 'log_loss'}. Best is trial 55 with value: 0.9804979704352446.\n",
      "[I 2024-05-10 12:14:20,179] Trial 57 finished with value: 0.9727304107734203 and parameters: {'n_estimators': 193, 'max_depth': 27, 'min_samples_split': 4, 'min_samples_leaf': 7, 'criterion': 'log_loss'}. Best is trial 55 with value: 0.9804979704352446.\n",
      "[I 2024-05-10 12:14:23,288] Trial 58 finished with value: 0.975813992843016 and parameters: {'n_estimators': 151, 'max_depth': 35, 'min_samples_split': 2, 'min_samples_leaf': 4, 'criterion': 'log_loss'}. Best is trial 55 with value: 0.9804979704352446.\n",
      "[I 2024-05-10 12:14:26,235] Trial 59 pruned. \n",
      "[I 2024-05-10 12:14:28,907] Trial 60 finished with value: 0.975094335209822 and parameters: {'n_estimators': 129, 'max_depth': 34, 'min_samples_split': 3, 'min_samples_leaf': 5, 'criterion': 'log_loss'}. Best is trial 55 with value: 0.9804979704352446.\n",
      "[I 2024-05-10 12:14:32,948] Trial 61 finished with value: 0.9769998148482454 and parameters: {'n_estimators': 189, 'max_depth': 33, 'min_samples_split': 7, 'min_samples_leaf': 3, 'criterion': 'log_loss'}. Best is trial 55 with value: 0.9804979704352446.\n",
      "[I 2024-05-10 12:14:37,633] Trial 62 finished with value: 0.9796039257286854 and parameters: {'n_estimators': 245, 'max_depth': 34, 'min_samples_split': 6, 'min_samples_leaf': 2, 'criterion': 'log_loss'}. Best is trial 55 with value: 0.9804979704352446.\n",
      "[I 2024-05-10 12:14:42,206] Trial 63 finished with value: 0.9796706689292503 and parameters: {'n_estimators': 231, 'max_depth': 34, 'min_samples_split': 6, 'min_samples_leaf': 2, 'criterion': 'log_loss'}. Best is trial 55 with value: 0.9804979704352446.\n",
      "[I 2024-05-10 12:14:47,301] Trial 64 finished with value: 0.979239413492109 and parameters: {'n_estimators': 265, 'max_depth': 36, 'min_samples_split': 5, 'min_samples_leaf': 2, 'criterion': 'log_loss'}. Best is trial 55 with value: 0.9804979704352446.\n",
      "[I 2024-05-10 12:14:51,755] Trial 65 finished with value: 0.976535143579252 and parameters: {'n_estimators': 227, 'max_depth': 30, 'min_samples_split': 7, 'min_samples_leaf': 4, 'criterion': 'log_loss'}. Best is trial 55 with value: 0.9804979704352446.\n",
      "[I 2024-05-10 12:14:54,271] Trial 66 finished with value: 0.979661845813409 and parameters: {'n_estimators': 104, 'max_depth': 31, 'min_samples_split': 6, 'min_samples_leaf': 2, 'criterion': 'log_loss'}. Best is trial 55 with value: 0.9804979704352446.\n",
      "[I 2024-05-10 12:14:55,581] Trial 67 pruned. \n",
      "[I 2024-05-10 12:14:58,732] Trial 68 finished with value: 0.975202647707429 and parameters: {'n_estimators': 157, 'max_depth': 33, 'min_samples_split': 3, 'min_samples_leaf': 5, 'criterion': 'log_loss'}. Best is trial 55 with value: 0.9804979704352446.\n",
      "[I 2024-05-10 12:15:01,652] Trial 69 finished with value: 0.9759295037281055 and parameters: {'n_estimators': 140, 'max_depth': 26, 'min_samples_split': 6, 'min_samples_leaf': 4, 'criterion': 'log_loss'}. Best is trial 55 with value: 0.9804979704352446.\n",
      "[I 2024-05-10 12:15:05,943] Trial 70 pruned. \n",
      "[I 2024-05-10 12:15:10,240] Trial 71 finished with value: 0.9789894410488131 and parameters: {'n_estimators': 215, 'max_depth': 34, 'min_samples_split': 7, 'min_samples_leaf': 2, 'criterion': 'log_loss'}. Best is trial 55 with value: 0.9804979704352446.\n",
      "[I 2024-05-10 12:15:14,900] Trial 72 finished with value: 0.9791212626542336 and parameters: {'n_estimators': 241, 'max_depth': 36, 'min_samples_split': 5, 'min_samples_leaf': 2, 'criterion': 'log_loss'}. Best is trial 55 with value: 0.9804979704352446.\n",
      "[I 2024-05-10 12:15:18,194] Trial 73 finished with value: 0.9758081139730098 and parameters: {'n_estimators': 161, 'max_depth': 33, 'min_samples_split': 6, 'min_samples_leaf': 4, 'criterion': 'log_loss'}. Best is trial 55 with value: 0.9804979704352446.\n",
      "[I 2024-05-10 12:15:23,493] Trial 74 finished with value: 0.9738076335628689 and parameters: {'n_estimators': 293, 'max_depth': 29, 'min_samples_split': 3, 'min_samples_leaf': 6, 'criterion': 'log_loss'}. Best is trial 55 with value: 0.9804979704352446.\n",
      "[I 2024-05-10 12:15:27,706] Trial 75 finished with value: 0.9774514491311319 and parameters: {'n_estimators': 207, 'max_depth': 39, 'min_samples_split': 9, 'min_samples_leaf': 2, 'criterion': 'log_loss'}. Best is trial 55 with value: 0.9804979704352446.\n",
      "[I 2024-05-10 12:15:29,642] Trial 76 pruned. \n",
      "[I 2024-05-10 12:15:33,545] Trial 77 pruned. \n",
      "[I 2024-05-10 12:15:36,116] Trial 78 finished with value: 0.978773586576767 and parameters: {'n_estimators': 121, 'max_depth': 31, 'min_samples_split': 8, 'min_samples_leaf': 1, 'criterion': 'entropy'}. Best is trial 55 with value: 0.9804979704352446.\n",
      "[I 2024-05-10 12:15:38,511] Trial 79 pruned. \n",
      "[I 2024-05-10 12:15:40,855] Trial 80 finished with value: 0.97635240633652 and parameters: {'n_estimators': 103, 'max_depth': 32, 'min_samples_split': 6, 'min_samples_leaf': 4, 'criterion': 'log_loss'}. Best is trial 55 with value: 0.9804979704352446.\n",
      "[I 2024-05-10 12:15:45,980] Trial 81 finished with value: 0.9791142503553338 and parameters: {'n_estimators': 261, 'max_depth': 36, 'min_samples_split': 5, 'min_samples_leaf': 2, 'criterion': 'log_loss'}. Best is trial 55 with value: 0.9804979704352446.\n",
      "[I 2024-05-10 12:15:50,785] Trial 82 finished with value: 0.9792497908937495 and parameters: {'n_estimators': 250, 'max_depth': 34, 'min_samples_split': 7, 'min_samples_leaf': 1, 'criterion': 'log_loss'}. Best is trial 55 with value: 0.9804979704352446.\n",
      "[I 2024-05-10 12:15:57,398] Trial 83 finished with value: 0.979912270952517 and parameters: {'n_estimators': 349, 'max_depth': 34, 'min_samples_split': 7, 'min_samples_leaf': 1, 'criterion': 'log_loss'}. Best is trial 55 with value: 0.9804979704352446.\n",
      "[I 2024-05-10 12:16:01,047] Trial 84 finished with value: 0.9783456414646702 and parameters: {'n_estimators': 181, 'max_depth': 38, 'min_samples_split': 4, 'min_samples_leaf': 3, 'criterion': 'log_loss'}. Best is trial 55 with value: 0.9804979704352446.\n",
      "[I 2024-05-10 12:16:06,650] Trial 85 finished with value: 0.9812085354728483 and parameters: {'n_estimators': 291, 'max_depth': 30, 'min_samples_split': 3, 'min_samples_leaf': 1, 'criterion': 'log_loss'}. Best is trial 85 with value: 0.9812085354728483.\n",
      "[I 2024-05-10 12:16:12,515] Trial 86 finished with value: 0.9812083102946529 and parameters: {'n_estimators': 294, 'max_depth': 28, 'min_samples_split': 2, 'min_samples_leaf': 1, 'criterion': 'log_loss'}. Best is trial 85 with value: 0.9812085354728483.\n",
      "[I 2024-05-10 12:16:18,137] Trial 87 finished with value: 0.9809630923464061 and parameters: {'n_estimators': 291, 'max_depth': 26, 'min_samples_split': 2, 'min_samples_leaf': 1, 'criterion': 'log_loss'}. Best is trial 85 with value: 0.9812085354728483.\n",
      "[I 2024-05-10 12:16:24,821] Trial 88 finished with value: 0.9810207570325419 and parameters: {'n_estimators': 353, 'max_depth': 25, 'min_samples_split': 2, 'min_samples_leaf': 1, 'criterion': 'entropy'}. Best is trial 85 with value: 0.9812085354728483.\n",
      "[I 2024-05-10 12:16:28,710] Trial 89 pruned. \n",
      "[I 2024-05-10 12:16:34,328] Trial 90 finished with value: 0.981387402913418 and parameters: {'n_estimators': 288, 'max_depth': 25, 'min_samples_split': 2, 'min_samples_leaf': 1, 'criterion': 'entropy'}. Best is trial 90 with value: 0.981387402913418.\n",
      "[I 2024-05-10 12:16:39,651] Trial 91 finished with value: 0.9807100611121387 and parameters: {'n_estimators': 281, 'max_depth': 22, 'min_samples_split': 2, 'min_samples_leaf': 1, 'criterion': 'entropy'}. Best is trial 90 with value: 0.981387402913418.\n",
      "[I 2024-05-10 12:16:45,904] Trial 92 finished with value: 0.9802192452840188 and parameters: {'n_estimators': 334, 'max_depth': 19, 'min_samples_split': 2, 'min_samples_leaf': 1, 'criterion': 'entropy'}. Best is trial 90 with value: 0.981387402913418.\n",
      "[I 2024-05-10 12:16:52,272] Trial 93 finished with value: 0.9799740788809421 and parameters: {'n_estimators': 339, 'max_depth': 19, 'min_samples_split': 2, 'min_samples_leaf': 1, 'criterion': 'entropy'}. Best is trial 90 with value: 0.981387402913418.\n",
      "[I 2024-05-10 12:16:57,823] Trial 94 finished with value: 0.9805849000585776 and parameters: {'n_estimators': 291, 'max_depth': 22, 'min_samples_split': 3, 'min_samples_leaf': 1, 'criterion': 'entropy'}. Best is trial 90 with value: 0.981387402913418.\n",
      "[I 2024-05-10 12:17:03,726] Trial 95 finished with value: 0.9808270788655928 and parameters: {'n_estimators': 301, 'max_depth': 22, 'min_samples_split': 3, 'min_samples_leaf': 1, 'criterion': 'entropy'}. Best is trial 90 with value: 0.981387402913418.\n",
      "[I 2024-05-10 12:17:09,420] Trial 96 finished with value: 0.980766388668332 and parameters: {'n_estimators': 296, 'max_depth': 22, 'min_samples_split': 3, 'min_samples_leaf': 1, 'criterion': 'entropy'}. Best is trial 90 with value: 0.981387402913418.\n",
      "[I 2024-05-10 12:17:15,126] Trial 97 finished with value: 0.9780441462772835 and parameters: {'n_estimators': 296, 'max_depth': 22, 'min_samples_split': 3, 'min_samples_leaf': 3, 'criterion': 'entropy'}. Best is trial 90 with value: 0.981387402913418.\n",
      "[I 2024-05-10 12:17:22,670] Trial 98 finished with value: 0.9810697662271742 and parameters: {'n_estimators': 406, 'max_depth': 22, 'min_samples_split': 3, 'min_samples_leaf': 1, 'criterion': 'entropy'}. Best is trial 90 with value: 0.981387402913418.\n",
      "[I 2024-05-10 12:17:29,820] Trial 99 finished with value: 0.9807097452375766 and parameters: {'n_estimators': 373, 'max_depth': 21, 'min_samples_split': 3, 'min_samples_leaf': 1, 'criterion': 'entropy'}. Best is trial 90 with value: 0.981387402913418.\n",
      "[I 2024-05-10 12:17:37,023] Trial 100 finished with value: 0.9809601776517365 and parameters: {'n_estimators': 375, 'max_depth': 25, 'min_samples_split': 2, 'min_samples_leaf': 1, 'criterion': 'entropy'}. Best is trial 90 with value: 0.981387402913418.\n",
      "[I 2024-05-10 12:17:44,659] Trial 101 finished with value: 0.980955757132574 and parameters: {'n_estimators': 409, 'max_depth': 23, 'min_samples_split': 2, 'min_samples_leaf': 1, 'criterion': 'entropy'}. Best is trial 90 with value: 0.981387402913418.\n",
      "[I 2024-05-10 12:17:52,103] Trial 102 finished with value: 0.9784032057948628 and parameters: {'n_estimators': 406, 'max_depth': 25, 'min_samples_split': 2, 'min_samples_leaf': 3, 'criterion': 'entropy'}. Best is trial 90 with value: 0.981387402913418.\n",
      "[I 2024-05-10 12:18:00,045] Trial 103 finished with value: 0.9810793323898807 and parameters: {'n_estimators': 420, 'max_depth': 23, 'min_samples_split': 2, 'min_samples_leaf': 1, 'criterion': 'entropy'}. Best is trial 90 with value: 0.981387402913418.\n",
      "[I 2024-05-10 12:18:07,683] Trial 104 finished with value: 0.9782840237378888 and parameters: {'n_estimators': 420, 'max_depth': 23, 'min_samples_split': 3, 'min_samples_leaf': 3, 'criterion': 'entropy'}. Best is trial 90 with value: 0.981387402913418.\n",
      "[I 2024-05-10 12:18:16,499] Trial 105 finished with value: 0.9813161833448125 and parameters: {'n_estimators': 478, 'max_depth': 27, 'min_samples_split': 2, 'min_samples_leaf': 1, 'criterion': 'entropy'}. Best is trial 90 with value: 0.981387402913418.\n",
      "[I 2024-05-10 12:18:24,852] Trial 106 finished with value: 0.9768304140890729 and parameters: {'n_estimators': 462, 'max_depth': 27, 'min_samples_split': 2, 'min_samples_leaf': 4, 'criterion': 'entropy'}. Best is trial 90 with value: 0.981387402913418.\n",
      "[I 2024-05-10 12:18:33,327] Trial 107 finished with value: 0.9813780569935151 and parameters: {'n_estimators': 455, 'max_depth': 25, 'min_samples_split': 2, 'min_samples_leaf': 1, 'criterion': 'entropy'}. Best is trial 90 with value: 0.981387402913418.\n",
      "[I 2024-05-10 12:18:42,030] Trial 108 finished with value: 0.9754494454858508 and parameters: {'n_estimators': 492, 'max_depth': 26, 'min_samples_split': 2, 'min_samples_leaf': 5, 'criterion': 'entropy'}. Best is trial 90 with value: 0.981387402913418.\n",
      "[I 2024-05-10 12:18:49,674] Trial 109 finished with value: 0.978711346502965 and parameters: {'n_estimators': 417, 'max_depth': 25, 'min_samples_split': 2, 'min_samples_leaf': 3, 'criterion': 'entropy'}. Best is trial 90 with value: 0.981387402913418.\n",
      "[I 2024-05-10 12:18:57,999] Trial 110 finished with value: 0.978161766888823 and parameters: {'n_estimators': 452, 'max_depth': 28, 'min_samples_split': 2, 'min_samples_leaf': 3, 'criterion': 'entropy'}. Best is trial 90 with value: 0.981387402913418.\n",
      "[I 2024-05-10 12:19:04,874] Trial 111 finished with value: 0.9816149334298562 and parameters: {'n_estimators': 368, 'max_depth': 25, 'min_samples_split': 3, 'min_samples_leaf': 1, 'criterion': 'entropy'}. Best is trial 111 with value: 0.9816149334298562.\n",
      "[I 2024-05-10 12:19:11,792] Trial 112 finished with value: 0.9808453389904861 and parameters: {'n_estimators': 368, 'max_depth': 25, 'min_samples_split': 4, 'min_samples_leaf': 1, 'criterion': 'entropy'}. Best is trial 111 with value: 0.9816149334298562.\n",
      "[I 2024-05-10 12:19:18,851] Trial 113 finished with value: 0.9800668604629162 and parameters: {'n_estimators': 381, 'max_depth': 27, 'min_samples_split': 3, 'min_samples_leaf': 2, 'criterion': 'entropy'}. Best is trial 111 with value: 0.9816149334298562.\n",
      "[I 2024-05-10 12:19:27,765] Trial 114 finished with value: 0.9809027771001235 and parameters: {'n_estimators': 481, 'max_depth': 23, 'min_samples_split': 3, 'min_samples_leaf': 1, 'criterion': 'entropy'}. Best is trial 111 with value: 0.9816149334298562.\n",
      "[I 2024-05-10 12:19:35,713] Trial 115 finished with value: 0.9789083381387277 and parameters: {'n_estimators': 440, 'max_depth': 20, 'min_samples_split': 2, 'min_samples_leaf': 2, 'criterion': 'entropy'}. Best is trial 111 with value: 0.9816149334298562.\n",
      "[I 2024-05-10 12:19:42,964] Trial 116 finished with value: 0.9767655455467754 and parameters: {'n_estimators': 400, 'max_depth': 23, 'min_samples_split': 4, 'min_samples_leaf': 4, 'criterion': 'entropy'}. Best is trial 111 with value: 0.9816149334298562.\n",
      "[I 2024-05-10 12:19:48,999] Trial 117 finished with value: 0.978166287425236 and parameters: {'n_estimators': 321, 'max_depth': 28, 'min_samples_split': 3, 'min_samples_leaf': 3, 'criterion': 'entropy'}. Best is trial 111 with value: 0.9816149334298562.\n",
      "[I 2024-05-10 12:19:53,867] Trial 118 pruned. \n",
      "[I 2024-05-10 12:20:00,433] Trial 119 finished with value: 0.9799489177721705 and parameters: {'n_estimators': 352, 'max_depth': 26, 'min_samples_split': 2, 'min_samples_leaf': 2, 'criterion': 'entropy'}. Best is trial 111 with value: 0.9816149334298562.\n",
      "[I 2024-05-10 12:20:09,864] Trial 120 finished with value: 0.9765883493142896 and parameters: {'n_estimators': 531, 'max_depth': 25, 'min_samples_split': 4, 'min_samples_leaf': 4, 'criterion': 'entropy'}. Best is trial 111 with value: 0.9816149334298562.\n",
      "[I 2024-05-10 12:20:18,985] Trial 121 finished with value: 0.9806024590194434 and parameters: {'n_estimators': 498, 'max_depth': 23, 'min_samples_split': 3, 'min_samples_leaf': 1, 'criterion': 'entropy'}. Best is trial 111 with value: 0.9816149334298562.\n",
      "[I 2024-05-10 12:20:28,021] Trial 122 finished with value: 0.9809638365093016 and parameters: {'n_estimators': 486, 'max_depth': 23, 'min_samples_split': 3, 'min_samples_leaf': 1, 'criterion': 'entropy'}. Best is trial 111 with value: 0.9816149334298562.\n",
      "[I 2024-05-10 12:20:36,109] Trial 123 finished with value: 0.979581197488234 and parameters: {'n_estimators': 428, 'max_depth': 24, 'min_samples_split': 2, 'min_samples_leaf': 2, 'criterion': 'entropy'}. Best is trial 111 with value: 0.9816149334298562.\n",
      "[I 2024-05-10 12:20:46,544] Trial 124 finished with value: 0.9807973398679163 and parameters: {'n_estimators': 562, 'max_depth': 28, 'min_samples_split': 5, 'min_samples_leaf': 1, 'criterion': 'entropy'}. Best is trial 111 with value: 0.9816149334298562.\n",
      "[I 2024-05-10 12:20:55,879] Trial 125 finished with value: 0.9794703572726748 and parameters: {'n_estimators': 512, 'max_depth': 27, 'min_samples_split': 4, 'min_samples_leaf': 2, 'criterion': 'entropy'}. Best is trial 111 with value: 0.9816149334298562.\n",
      "[I 2024-05-10 12:21:00,771] Trial 126 pruned. \n",
      "[I 2024-05-10 12:21:04,572] Trial 127 pruned. \n",
      "[I 2024-05-10 12:21:08,761] Trial 128 pruned. \n",
      "[I 2024-05-10 12:21:16,911] Trial 129 finished with value: 0.9804194285994761 and parameters: {'n_estimators': 441, 'max_depth': 24, 'min_samples_split': 4, 'min_samples_leaf': 1, 'criterion': 'entropy'}. Best is trial 111 with value: 0.9816149334298562.\n",
      "[I 2024-05-10 12:21:25,777] Trial 130 finished with value: 0.979586401377127 and parameters: {'n_estimators': 478, 'max_depth': 26, 'min_samples_split': 3, 'min_samples_leaf': 2, 'criterion': 'entropy'}. Best is trial 111 with value: 0.9816149334298562.\n",
      "[I 2024-05-10 12:21:34,536] Trial 131 finished with value: 0.9808998642832722 and parameters: {'n_estimators': 478, 'max_depth': 23, 'min_samples_split': 3, 'min_samples_leaf': 1, 'criterion': 'entropy'}. Best is trial 111 with value: 0.9816149334298562.\n",
      "[I 2024-05-10 12:21:41,271] Trial 132 finished with value: 0.9790854614146337 and parameters: {'n_estimators': 368, 'max_depth': 20, 'min_samples_split': 2, 'min_samples_leaf': 2, 'criterion': 'entropy'}. Best is trial 111 with value: 0.9816149334298562.\n",
      "[I 2024-05-10 12:21:52,063] Trial 133 finished with value: 0.9805303455649728 and parameters: {'n_estimators': 595, 'max_depth': 21, 'min_samples_split': 3, 'min_samples_leaf': 1, 'criterion': 'entropy'}. Best is trial 111 with value: 0.9816149334298562.\n",
      "[I 2024-05-10 12:22:01,767] Trial 134 finished with value: 0.9811882718201248 and parameters: {'n_estimators': 525, 'max_depth': 23, 'min_samples_split': 2, 'min_samples_leaf': 1, 'criterion': 'entropy'}. Best is trial 111 with value: 0.9816149334298562.\n",
      "[I 2024-05-10 12:22:11,060] Trial 135 finished with value: 0.9781036625030165 and parameters: {'n_estimators': 519, 'max_depth': 24, 'min_samples_split': 2, 'min_samples_leaf': 3, 'criterion': 'entropy'}. Best is trial 111 with value: 0.9816149334298562.\n",
      "[I 2024-05-10 12:22:14,456] Trial 136 pruned. \n",
      "[I 2024-05-10 12:22:24,264] Trial 137 finished with value: 0.9795933337686318 and parameters: {'n_estimators': 546, 'max_depth': 25, 'min_samples_split': 4, 'min_samples_leaf': 2, 'criterion': 'entropy'}. Best is trial 111 with value: 0.9816149334298562.\n",
      "[I 2024-05-10 12:22:30,440] Trial 138 finished with value: 0.9806030853123662 and parameters: {'n_estimators': 312, 'max_depth': 26, 'min_samples_split': 5, 'min_samples_leaf': 1, 'criterion': 'entropy'}. Best is trial 111 with value: 0.9816149334298562.\n",
      "[I 2024-05-10 12:22:38,575] Trial 139 finished with value: 0.9796499923629678 and parameters: {'n_estimators': 420, 'max_depth': 28, 'min_samples_split': 2, 'min_samples_leaf': 2, 'criterion': 'entropy'}. Best is trial 111 with value: 0.9816149334298562.\n",
      "[I 2024-05-10 12:22:45,834] Trial 140 finished with value: 0.9781551123473591 and parameters: {'n_estimators': 390, 'max_depth': 24, 'min_samples_split': 4, 'min_samples_leaf': 3, 'criterion': 'entropy'}. Best is trial 111 with value: 0.9816149334298562.\n",
      "[I 2024-05-10 12:22:54,744] Trial 141 finished with value: 0.9809027872498882 and parameters: {'n_estimators': 485, 'max_depth': 23, 'min_samples_split': 3, 'min_samples_leaf': 1, 'criterion': 'entropy'}. Best is trial 111 with value: 0.9816149334298562.\n",
      "[I 2024-05-10 12:23:04,334] Trial 142 finished with value: 0.9807243746684702 and parameters: {'n_estimators': 521, 'max_depth': 23, 'min_samples_split': 3, 'min_samples_leaf': 1, 'criterion': 'entropy'}. Best is trial 111 with value: 0.9816149334298562.\n",
      "[I 2024-05-10 12:23:12,828] Trial 143 finished with value: 0.980892413777639 and parameters: {'n_estimators': 457, 'max_depth': 26, 'min_samples_split': 2, 'min_samples_leaf': 1, 'criterion': 'entropy'}. Best is trial 111 with value: 0.9816149334298562.\n",
      "[I 2024-05-10 12:23:21,753] Trial 144 finished with value: 0.9791013449202648 and parameters: {'n_estimators': 495, 'max_depth': 20, 'min_samples_split': 5, 'min_samples_leaf': 2, 'criterion': 'entropy'}. Best is trial 111 with value: 0.9816149334298562.\n",
      "[I 2024-05-10 12:23:29,895] Trial 145 finished with value: 0.9813827917050737 and parameters: {'n_estimators': 437, 'max_depth': 30, 'min_samples_split': 3, 'min_samples_leaf': 1, 'criterion': 'entropy'}. Best is trial 111 with value: 0.9816149334298562.\n",
      "[I 2024-05-10 12:23:38,227] Trial 146 finished with value: 0.9797619573339729 and parameters: {'n_estimators': 442, 'max_depth': 29, 'min_samples_split': 2, 'min_samples_leaf': 2, 'criterion': 'entropy'}. Best is trial 111 with value: 0.9816149334298562.\n",
      "[I 2024-05-10 12:23:43,348] Trial 147 finished with value: 0.9779237100428759 and parameters: {'n_estimators': 273, 'max_depth': 27, 'min_samples_split': 3, 'min_samples_leaf': 3, 'criterion': 'entropy'}. Best is trial 111 with value: 0.9816149334298562.\n",
      "[I 2024-05-10 12:23:50,112] Trial 148 finished with value: 0.9807823946847897 and parameters: {'n_estimators': 362, 'max_depth': 30, 'min_samples_split': 4, 'min_samples_leaf': 1, 'criterion': 'entropy'}. Best is trial 111 with value: 0.9816149334298562.\n",
      "[I 2024-05-10 12:23:57,804] Trial 149 finished with value: 0.9796460863923565 and parameters: {'n_estimators': 417, 'max_depth': 25, 'min_samples_split': 2, 'min_samples_leaf': 2, 'criterion': 'entropy'}. Best is trial 111 with value: 0.9816149334298562.\n",
      "[I 2024-05-10 12:24:04,025] Trial 150 finished with value: 0.9783440265711398 and parameters: {'n_estimators': 327, 'max_depth': 29, 'min_samples_split': 3, 'min_samples_leaf': 3, 'criterion': 'entropy'}. Best is trial 111 with value: 0.9816149334298562.\n",
      "[I 2024-05-10 12:24:12,632] Trial 151 finished with value: 0.9810246911443002 and parameters: {'n_estimators': 470, 'max_depth': 23, 'min_samples_split': 3, 'min_samples_leaf': 1, 'criterion': 'entropy'}. Best is trial 111 with value: 0.9816149334298562.\n",
      "[I 2024-05-10 12:24:20,078] Trial 152 finished with value: 0.9806576696762551 and parameters: {'n_estimators': 396, 'max_depth': 24, 'min_samples_split': 4, 'min_samples_leaf': 1, 'criterion': 'entropy'}. Best is trial 111 with value: 0.9816149334298562.\n",
      "[I 2024-05-10 12:24:28,682] Trial 153 finished with value: 0.9810778800256814 and parameters: {'n_estimators': 470, 'max_depth': 22, 'min_samples_split': 3, 'min_samples_leaf': 1, 'criterion': 'entropy'}. Best is trial 111 with value: 0.9816149334298562.\n",
      "[I 2024-05-10 12:24:37,348] Trial 154 finished with value: 0.9806463759693091 and parameters: {'n_estimators': 465, 'max_depth': 21, 'min_samples_split': 3, 'min_samples_leaf': 1, 'criterion': 'entropy'}. Best is trial 111 with value: 0.9816149334298562.\n",
      "[I 2024-05-10 12:24:46,478] Trial 155 finished with value: 0.9790959617594581 and parameters: {'n_estimators': 505, 'max_depth': 22, 'min_samples_split': 3, 'min_samples_leaf': 2, 'criterion': 'entropy'}. Best is trial 111 with value: 0.9816149334298562.\n",
      "[I 2024-05-10 12:24:54,482] Trial 156 finished with value: 0.9797036111620134 and parameters: {'n_estimators': 435, 'max_depth': 26, 'min_samples_split': 4, 'min_samples_leaf': 2, 'criterion': 'entropy'}. Best is trial 111 with value: 0.9816149334298562.\n",
      "[I 2024-05-10 12:25:02,804] Trial 157 finished with value: 0.9813761913419542 and parameters: {'n_estimators': 454, 'max_depth': 25, 'min_samples_split': 2, 'min_samples_leaf': 1, 'criterion': 'entropy'}. Best is trial 111 with value: 0.9816149334298562.\n",
      "[I 2024-05-10 12:25:11,284] Trial 158 finished with value: 0.9785229290172033 and parameters: {'n_estimators': 466, 'max_depth': 24, 'min_samples_split': 3, 'min_samples_leaf': 3, 'criterion': 'entropy'}. Best is trial 111 with value: 0.9816149334298562.\n",
      "[I 2024-05-10 12:25:19,486] Trial 159 finished with value: 0.9798232510316774 and parameters: {'n_estimators': 450, 'max_depth': 30, 'min_samples_split': 2, 'min_samples_leaf': 2, 'criterion': 'entropy'}. Best is trial 111 with value: 0.9816149334298562.\n",
      "[I 2024-05-10 12:25:26,426] Trial 160 pruned. \n",
      "[I 2024-05-10 12:25:34,419] Trial 161 finished with value: 0.9810825576194757 and parameters: {'n_estimators': 429, 'max_depth': 25, 'min_samples_split': 2, 'min_samples_leaf': 1, 'criterion': 'entropy'}. Best is trial 111 with value: 0.9816149334298562.\n",
      "[I 2024-05-10 12:25:42,578] Trial 162 finished with value: 0.9811996714981428 and parameters: {'n_estimators': 433, 'max_depth': 25, 'min_samples_split': 2, 'min_samples_leaf': 1, 'criterion': 'entropy'}. Best is trial 111 with value: 0.9816149334298562.\n",
      "[I 2024-05-10 12:25:50,558] Trial 163 finished with value: 0.9811390716554607 and parameters: {'n_estimators': 429, 'max_depth': 25, 'min_samples_split': 3, 'min_samples_leaf': 1, 'criterion': 'entropy'}. Best is trial 111 with value: 0.9816149334298562.\n",
      "[I 2024-05-10 12:26:08,088] Trial 164 finished with value: 0.9798283708562913 and parameters: {'n_estimators': 1000, 'max_depth': 27, 'min_samples_split': 2, 'min_samples_leaf': 2, 'criterion': 'entropy'}. Best is trial 111 with value: 0.9816149334298562.\n",
      "[I 2024-05-10 12:26:16,140] Trial 165 finished with value: 0.9806638194814793 and parameters: {'n_estimators': 434, 'max_depth': 25, 'min_samples_split': 4, 'min_samples_leaf': 1, 'criterion': 'entropy'}. Best is trial 111 with value: 0.9816149334298562.\n",
      "[I 2024-05-10 12:26:24,066] Trial 166 finished with value: 0.9795225093728754 and parameters: {'n_estimators': 427, 'max_depth': 25, 'min_samples_split': 3, 'min_samples_leaf': 2, 'criterion': 'entropy'}. Best is trial 111 with value: 0.9816149334298562.\n",
      "[I 2024-05-10 12:26:32,531] Trial 167 finished with value: 0.9808260515906915 and parameters: {'n_estimators': 456, 'max_depth': 24, 'min_samples_split': 2, 'min_samples_leaf': 1, 'criterion': 'entropy'}. Best is trial 111 with value: 0.9816149334298562.\n",
      "[I 2024-05-10 12:26:40,066] Trial 168 finished with value: 0.9784005627341905 and parameters: {'n_estimators': 408, 'max_depth': 28, 'min_samples_split': 3, 'min_samples_leaf': 3, 'criterion': 'entropy'}. Best is trial 111 with value: 0.9816149334298562.\n",
      "[I 2024-05-10 12:26:45,205] Trial 169 pruned. \n",
      "[I 2024-05-10 12:26:53,042] Trial 170 finished with value: 0.9796448956676551 and parameters: {'n_estimators': 426, 'max_depth': 26, 'min_samples_split': 4, 'min_samples_leaf': 2, 'criterion': 'entropy'}. Best is trial 111 with value: 0.9816149334298562.\n",
      "[I 2024-05-10 12:27:02,284] Trial 171 finished with value: 0.981134476090668 and parameters: {'n_estimators': 505, 'max_depth': 23, 'min_samples_split': 2, 'min_samples_leaf': 1, 'criterion': 'entropy'}. Best is trial 111 with value: 0.9816149334298562.\n",
      "[I 2024-05-10 12:27:07,614] Trial 172 pruned. \n",
      "[I 2024-05-10 12:27:16,975] Trial 173 finished with value: 0.9808334886956027 and parameters: {'n_estimators': 515, 'max_depth': 24, 'min_samples_split': 2, 'min_samples_leaf': 1, 'criterion': 'entropy'}. Best is trial 111 with value: 0.9816149334298562.\n",
      "[I 2024-05-10 12:27:25,234] Trial 174 finished with value: 0.9794556504428229 and parameters: {'n_estimators': 447, 'max_depth': 23, 'min_samples_split': 2, 'min_samples_leaf': 2, 'criterion': 'entropy'}. Best is trial 111 with value: 0.9816149334298562.\n",
      "[I 2024-05-10 12:27:32,513] Trial 175 finished with value: 0.9818005908916791 and parameters: {'n_estimators': 391, 'max_depth': 25, 'min_samples_split': 3, 'min_samples_leaf': 1, 'criterion': 'entropy'}. Best is trial 175 with value: 0.9818005908916791.\n",
      "[I 2024-05-10 12:27:39,835] Trial 176 finished with value: 0.981204216321118 and parameters: {'n_estimators': 389, 'max_depth': 24, 'min_samples_split': 3, 'min_samples_leaf': 1, 'criterion': 'entropy'}. Best is trial 175 with value: 0.9818005908916791.\n",
      "[I 2024-05-10 12:27:47,124] Trial 177 finished with value: 0.9799449522273338 and parameters: {'n_estimators': 389, 'max_depth': 26, 'min_samples_split': 4, 'min_samples_leaf': 2, 'criterion': 'entropy'}. Best is trial 175 with value: 0.9818005908916791.\n",
      "[I 2024-05-10 12:27:54,578] Trial 178 finished with value: 0.9813852378736542 and parameters: {'n_estimators': 398, 'max_depth': 24, 'min_samples_split': 3, 'min_samples_leaf': 1, 'criterion': 'entropy'}. Best is trial 175 with value: 0.9818005908916791.\n",
      "[I 2024-05-10 12:28:01,549] Trial 179 finished with value: 0.9785917699089524 and parameters: {'n_estimators': 376, 'max_depth': 25, 'min_samples_split': 3, 'min_samples_leaf': 3, 'criterion': 'entropy'}. Best is trial 175 with value: 0.9818005908916791.\n",
      "[I 2024-05-10 12:28:06,165] Trial 180 pruned. \n",
      "[I 2024-05-10 12:28:13,590] Trial 181 finished with value: 0.9805806501977598 and parameters: {'n_estimators': 401, 'max_depth': 21, 'min_samples_split': 3, 'min_samples_leaf': 1, 'criterion': 'entropy'}. Best is trial 175 with value: 0.9818005908916791.\n",
      "[I 2024-05-10 12:28:21,276] Trial 182 finished with value: 0.9805284438694265 and parameters: {'n_estimators': 407, 'max_depth': 24, 'min_samples_split': 2, 'min_samples_leaf': 1, 'criterion': 'entropy'}. Best is trial 175 with value: 0.9818005908916791.\n",
      "[I 2024-05-10 12:28:29,407] Trial 183 finished with value: 0.9803591364789191 and parameters: {'n_estimators': 442, 'max_depth': 28, 'min_samples_split': 4, 'min_samples_leaf': 1, 'criterion': 'entropy'}. Best is trial 175 with value: 0.9818005908916791.\n",
      "[I 2024-05-10 12:28:36,706] Trial 184 finished with value: 0.9798258874953081 and parameters: {'n_estimators': 387, 'max_depth': 25, 'min_samples_split': 3, 'min_samples_leaf': 2, 'criterion': 'entropy'}. Best is trial 175 with value: 0.9818005908916791.\n",
      "[I 2024-05-10 12:28:44,441] Trial 185 finished with value: 0.9804062530611851 and parameters: {'n_estimators': 419, 'max_depth': 22, 'min_samples_split': 2, 'min_samples_leaf': 1, 'criterion': 'entropy'}. Best is trial 175 with value: 0.9818005908916791.\n",
      "[I 2024-05-10 12:28:53,590] Trial 186 finished with value: 0.9795877976650068 and parameters: {'n_estimators': 504, 'max_depth': 26, 'min_samples_split': 3, 'min_samples_leaf': 2, 'criterion': 'entropy'}. Best is trial 175 with value: 0.9818005908916791.\n",
      "[I 2024-05-10 12:29:01,790] Trial 187 finished with value: 0.9806144196756309 and parameters: {'n_estimators': 442, 'max_depth': 24, 'min_samples_split': 5, 'min_samples_leaf': 1, 'criterion': 'entropy'}. Best is trial 175 with value: 0.9818005908916791.\n",
      "[I 2024-05-10 12:29:08,664] Trial 188 finished with value: 0.9806019125732768 and parameters: {'n_estimators': 369, 'max_depth': 27, 'min_samples_split': 4, 'min_samples_leaf': 1, 'criterion': 'entropy'}. Best is trial 175 with value: 0.9818005908916791.\n",
      "[I 2024-05-10 12:29:16,256] Trial 189 pruned. \n",
      "[I 2024-05-10 12:29:26,557] Trial 190 finished with value: 0.9796488964691541 and parameters: {'n_estimators': 570, 'max_depth': 26, 'min_samples_split': 3, 'min_samples_leaf': 2, 'criterion': 'entropy'}. Best is trial 175 with value: 0.9818005908916791.\n",
      "[I 2024-05-10 12:29:35,491] Trial 191 finished with value: 0.9808998642832722 and parameters: {'n_estimators': 478, 'max_depth': 23, 'min_samples_split': 3, 'min_samples_leaf': 1, 'criterion': 'entropy'}. Best is trial 175 with value: 0.9818005908916791.\n",
      "[I 2024-05-10 12:29:44,080] Trial 192 finished with value: 0.9812531492104357 and parameters: {'n_estimators': 458, 'max_depth': 25, 'min_samples_split': 2, 'min_samples_leaf': 1, 'criterion': 'entropy'}. Best is trial 175 with value: 0.9818005908916791.\n",
      "[I 2024-05-10 12:29:52,471] Trial 193 finished with value: 0.9795813721922901 and parameters: {'n_estimators': 452, 'max_depth': 25, 'min_samples_split': 2, 'min_samples_leaf': 2, 'criterion': 'entropy'}. Best is trial 175 with value: 0.9818005908916791.\n",
      "[I 2024-05-10 12:30:00,407] Trial 194 finished with value: 0.9806483338362517 and parameters: {'n_estimators': 428, 'max_depth': 24, 'min_samples_split': 2, 'min_samples_leaf': 1, 'criterion': 'entropy'}. Best is trial 175 with value: 0.9818005908916791.\n",
      "[I 2024-05-10 12:30:08,061] Trial 195 finished with value: 0.9807234181010793 and parameters: {'n_estimators': 407, 'max_depth': 25, 'min_samples_split': 2, 'min_samples_leaf': 1, 'criterion': 'entropy'}. Best is trial 175 with value: 0.9818005908916791.\n",
      "[I 2024-05-10 12:30:16,347] Trial 196 pruned. \n",
      "[I 2024-05-10 12:30:21,670] Trial 197 pruned. \n",
      "[I 2024-05-10 12:30:25,509] Trial 198 pruned. \n",
      "[I 2024-05-10 12:30:31,974] Trial 199 finished with value: 0.9803078765485165 and parameters: {'n_estimators': 345, 'max_depth': 30, 'min_samples_split': 4, 'min_samples_leaf': 2, 'criterion': 'entropy'}. Best is trial 175 with value: 0.9818005908916791.\n",
      "[I 2024-05-10 12:30:39,995] Trial 200 finished with value: 0.9805314326718817 and parameters: {'n_estimators': 430, 'max_depth': 26, 'min_samples_split': 2, 'min_samples_leaf': 1, 'criterion': 'entropy'}. Best is trial 175 with value: 0.9818005908916791.\n",
      "[I 2024-05-10 12:30:48,550] Trial 201 finished with value: 0.9811435452990922 and parameters: {'n_estimators': 463, 'max_depth': 23, 'min_samples_split': 3, 'min_samples_leaf': 1, 'criterion': 'entropy'}. Best is trial 175 with value: 0.9818005908916791.\n",
      "[I 2024-05-10 12:30:57,355] Trial 202 finished with value: 0.9810802647511487 and parameters: {'n_estimators': 473, 'max_depth': 23, 'min_samples_split': 3, 'min_samples_leaf': 1, 'criterion': 'entropy'}. Best is trial 175 with value: 0.9818005908916791.\n",
      "[I 2024-05-10 12:31:06,003] Trial 203 finished with value: 0.980829059319395 and parameters: {'n_estimators': 473, 'max_depth': 24, 'min_samples_split': 2, 'min_samples_leaf': 1, 'criterion': 'entropy'}. Best is trial 175 with value: 0.9818005908916791.\n",
      "[I 2024-05-10 12:31:15,159] Trial 204 finished with value: 0.9790415086170879 and parameters: {'n_estimators': 502, 'max_depth': 23, 'min_samples_split': 4, 'min_samples_leaf': 2, 'criterion': 'entropy'}. Best is trial 175 with value: 0.9818005908916791.\n",
      "[I 2024-05-10 12:31:23,600] Trial 205 finished with value: 0.9813801718897327 and parameters: {'n_estimators': 453, 'max_depth': 25, 'min_samples_split': 2, 'min_samples_leaf': 1, 'criterion': 'entropy'}. Best is trial 175 with value: 0.9818005908916791.\n",
      "[I 2024-05-10 12:31:31,948] Trial 206 finished with value: 0.9782274001022315 and parameters: {'n_estimators': 454, 'max_depth': 25, 'min_samples_split': 2, 'min_samples_leaf': 3, 'criterion': 'entropy'}. Best is trial 175 with value: 0.9818005908916791.\n",
      "[I 2024-05-10 12:31:39,965] Trial 207 finished with value: 0.9812584955224757 and parameters: {'n_estimators': 434, 'max_depth': 25, 'min_samples_split': 2, 'min_samples_leaf': 1, 'criterion': 'entropy'}. Best is trial 175 with value: 0.9818005908916791.\n",
      "[I 2024-05-10 12:31:48,123] Trial 208 finished with value: 0.9813808487351153 and parameters: {'n_estimators': 442, 'max_depth': 25, 'min_samples_split': 3, 'min_samples_leaf': 1, 'criterion': 'entropy'}. Best is trial 175 with value: 0.9818005908916791.\n",
      "[I 2024-05-10 12:31:56,169] Trial 209 finished with value: 0.9796378233703071 and parameters: {'n_estimators': 441, 'max_depth': 25, 'min_samples_split': 2, 'min_samples_leaf': 2, 'criterion': 'entropy'}. Best is trial 175 with value: 0.9818005908916791.\n",
      "[I 2024-05-10 12:32:00,549] Trial 210 pruned. \n",
      "[I 2024-05-10 12:32:09,230] Trial 211 finished with value: 0.9816842740549154 and parameters: {'n_estimators': 472, 'max_depth': 24, 'min_samples_split': 3, 'min_samples_leaf': 1, 'criterion': 'entropy'}. Best is trial 175 with value: 0.9818005908916791.\n",
      "[I 2024-05-10 12:32:17,569] Trial 212 finished with value: 0.9808265082578066 and parameters: {'n_estimators': 453, 'max_depth': 24, 'min_samples_split': 2, 'min_samples_leaf': 1, 'criterion': 'entropy'}. Best is trial 175 with value: 0.9818005908916791.\n",
      "[I 2024-05-10 12:32:24,799] Trial 213 pruned. \n",
      "[I 2024-05-10 12:32:32,810] Trial 214 finished with value: 0.9814394539886871 and parameters: {'n_estimators': 421, 'max_depth': 25, 'min_samples_split': 3, 'min_samples_leaf': 1, 'criterion': 'entropy'}. Best is trial 175 with value: 0.9818005908916791.\n",
      "[I 2024-05-10 12:32:38,545] Trial 215 finished with value: 0.9798223261248374 and parameters: {'n_estimators': 306, 'max_depth': 24, 'min_samples_split': 4, 'min_samples_leaf': 2, 'criterion': 'entropy'}. Best is trial 175 with value: 0.9818005908916791.\n",
      "[I 2024-05-10 12:32:43,217] Trial 216 pruned. \n",
      "[I 2024-05-10 12:32:52,100] Trial 217 finished with value: 0.9812612854118266 and parameters: {'n_estimators': 481, 'max_depth': 27, 'min_samples_split': 3, 'min_samples_leaf': 1, 'criterion': 'entropy'}. Best is trial 175 with value: 0.9818005908916791.\n",
      "[I 2024-05-10 12:32:59,775] Trial 218 finished with value: 0.9795888513182203 and parameters: {'n_estimators': 414, 'max_depth': 28, 'min_samples_split': 3, 'min_samples_leaf': 2, 'criterion': 'entropy'}. Best is trial 175 with value: 0.9818005908916791.\n",
      "[I 2024-05-10 12:33:08,331] Trial 219 finished with value: 0.9796439593401487 and parameters: {'n_estimators': 472, 'max_depth': 27, 'min_samples_split': 4, 'min_samples_leaf': 2, 'criterion': 'entropy'}. Best is trial 175 with value: 0.9818005908916791.\n",
      "[I 2024-05-10 12:33:13,632] Trial 220 finished with value: 0.9803057155194527 and parameters: {'n_estimators': 275, 'max_depth': 28, 'min_samples_split': 4, 'min_samples_leaf': 1, 'criterion': 'entropy'}. Best is trial 175 with value: 0.9818005908916791.\n",
      "[I 2024-05-10 12:33:22,510] Trial 221 finished with value: 0.9816826685091378 and parameters: {'n_estimators': 486, 'max_depth': 26, 'min_samples_split': 3, 'min_samples_leaf': 1, 'criterion': 'entropy'}. Best is trial 175 with value: 0.9818005908916791.\n",
      "[I 2024-05-10 12:33:31,510] Trial 222 finished with value: 0.9816171035260914 and parameters: {'n_estimators': 480, 'max_depth': 26, 'min_samples_split': 3, 'min_samples_leaf': 1, 'criterion': 'entropy'}. Best is trial 175 with value: 0.9818005908916791.\n",
      "[I 2024-05-10 12:33:40,412] Trial 223 finished with value: 0.981561317606561 and parameters: {'n_estimators': 477, 'max_depth': 26, 'min_samples_split': 3, 'min_samples_leaf': 1, 'criterion': 'entropy'}. Best is trial 175 with value: 0.9818005908916791.\n",
      "[I 2024-05-10 12:33:49,231] Trial 224 finished with value: 0.9793434100138727 and parameters: {'n_estimators': 485, 'max_depth': 27, 'min_samples_split': 3, 'min_samples_leaf': 2, 'criterion': 'entropy'}. Best is trial 175 with value: 0.9818005908916791.\n",
      "[I 2024-05-10 12:33:58,828] Trial 225 finished with value: 0.9813148004809488 and parameters: {'n_estimators': 526, 'max_depth': 26, 'min_samples_split': 2, 'min_samples_leaf': 1, 'criterion': 'entropy'}. Best is trial 175 with value: 0.9818005908916791.\n",
      "[I 2024-05-10 12:34:07,852] Trial 226 finished with value: 0.9816834134636361 and parameters: {'n_estimators': 494, 'max_depth': 26, 'min_samples_split': 3, 'min_samples_leaf': 1, 'criterion': 'entropy'}. Best is trial 175 with value: 0.9818005908916791.\n",
      "[I 2024-05-10 12:34:16,701] Trial 227 finished with value: 0.9804221158378006 and parameters: {'n_estimators': 487, 'max_depth': 26, 'min_samples_split': 4, 'min_samples_leaf': 1, 'criterion': 'entropy'}. Best is trial 175 with value: 0.9818005908916791.\n",
      "[I 2024-05-10 12:34:22,164] Trial 228 pruned. \n",
      "[I 2024-05-10 12:34:31,693] Trial 229 finished with value: 0.981447195107753 and parameters: {'n_estimators': 519, 'max_depth': 26, 'min_samples_split': 3, 'min_samples_leaf': 1, 'criterion': 'entropy'}. Best is trial 175 with value: 0.9818005908916791.\n",
      "[I 2024-05-10 12:34:41,410] Trial 230 finished with value: 0.9795269015059322 and parameters: {'n_estimators': 534, 'max_depth': 29, 'min_samples_split': 3, 'min_samples_leaf': 2, 'criterion': 'entropy'}. Best is trial 175 with value: 0.9818005908916791.\n",
      "[I 2024-05-10 12:34:51,440] Trial 231 finished with value: 0.9812664470747992 and parameters: {'n_estimators': 553, 'max_depth': 27, 'min_samples_split': 3, 'min_samples_leaf': 1, 'criterion': 'entropy'}. Best is trial 175 with value: 0.9818005908916791.\n",
      "[I 2024-05-10 12:35:01,660] Trial 232 finished with value: 0.9803638006306246 and parameters: {'n_estimators': 562, 'max_depth': 27, 'min_samples_split': 4, 'min_samples_leaf': 1, 'criterion': 'entropy'}. Best is trial 175 with value: 0.9818005908916791.\n",
      "[I 2024-05-10 12:35:11,522] Trial 233 finished with value: 0.9815674205257476 and parameters: {'n_estimators': 542, 'max_depth': 26, 'min_samples_split': 3, 'min_samples_leaf': 1, 'criterion': 'entropy'}. Best is trial 175 with value: 0.9818005908916791.\n",
      "[I 2024-05-10 12:35:22,292] Trial 234 finished with value: 0.980557205759719 and parameters: {'n_estimators': 591, 'max_depth': 26, 'min_samples_split': 5, 'min_samples_leaf': 1, 'criterion': 'entropy'}. Best is trial 175 with value: 0.9818005908916791.\n",
      "[I 2024-05-10 12:35:32,473] Trial 235 finished with value: 0.9797098908287569 and parameters: {'n_estimators': 553, 'max_depth': 26, 'min_samples_split': 3, 'min_samples_leaf': 2, 'criterion': 'entropy'}. Best is trial 175 with value: 0.9818005908916791.\n",
      "[I 2024-05-10 12:35:42,519] Trial 236 finished with value: 0.9805458996291199 and parameters: {'n_estimators': 547, 'max_depth': 26, 'min_samples_split': 4, 'min_samples_leaf': 1, 'criterion': 'entropy'}. Best is trial 175 with value: 0.9818005908916791.\n",
      "[I 2024-05-10 12:35:52,268] Trial 237 finished with value: 0.9813250985954992 and parameters: {'n_estimators': 533, 'max_depth': 27, 'min_samples_split': 3, 'min_samples_leaf': 1, 'criterion': 'entropy'}. Best is trial 175 with value: 0.9818005908916791.\n",
      "[I 2024-05-10 12:36:02,045] Trial 238 finished with value: 0.9795291976924686 and parameters: {'n_estimators': 536, 'max_depth': 27, 'min_samples_split': 3, 'min_samples_leaf': 2, 'criterion': 'entropy'}. Best is trial 175 with value: 0.9818005908916791.\n",
      "[I 2024-05-10 12:36:11,453] Trial 239 finished with value: 0.9805476680251385 and parameters: {'n_estimators': 512, 'max_depth': 26, 'min_samples_split': 4, 'min_samples_leaf': 1, 'criterion': 'entropy'}. Best is trial 175 with value: 0.9818005908916791.\n",
      "[I 2024-05-10 12:36:21,922] Trial 240 finished with value: 0.9785311735604628 and parameters: {'n_estimators': 586, 'max_depth': 28, 'min_samples_split': 2, 'min_samples_leaf': 3, 'criterion': 'entropy'}. Best is trial 175 with value: 0.9818005908916791.\n",
      "[I 2024-05-10 12:36:31,398] Trial 241 finished with value: 0.9813233859220343 and parameters: {'n_estimators': 519, 'max_depth': 25, 'min_samples_split': 3, 'min_samples_leaf': 1, 'criterion': 'entropy'}. Best is trial 175 with value: 0.9818005908916791.\n",
      "[I 2024-05-10 12:36:41,065] Trial 242 finished with value: 0.9815058444389662 and parameters: {'n_estimators': 525, 'max_depth': 26, 'min_samples_split': 3, 'min_samples_leaf': 1, 'criterion': 'entropy'}. Best is trial 175 with value: 0.9818005908916791.\n",
      "[I 2024-05-10 12:36:50,395] Trial 243 finished with value: 0.9795930676140945 and parameters: {'n_estimators': 517, 'max_depth': 26, 'min_samples_split': 3, 'min_samples_leaf': 2, 'criterion': 'entropy'}. Best is trial 175 with value: 0.9818005908916791.\n",
      "[I 2024-05-10 12:36:59,959] Trial 244 finished with value: 0.9814446798102449 and parameters: {'n_estimators': 525, 'max_depth': 27, 'min_samples_split': 3, 'min_samples_leaf': 1, 'criterion': 'entropy'}. Best is trial 175 with value: 0.9818005908916791.\n",
      "[I 2024-05-10 12:37:09,656] Trial 245 finished with value: 0.9804842943010801 and parameters: {'n_estimators': 528, 'max_depth': 27, 'min_samples_split': 4, 'min_samples_leaf': 1, 'criterion': 'entropy'}. Best is trial 175 with value: 0.9818005908916791.\n",
      "[I 2024-05-10 12:37:19,610] Trial 246 finished with value: 0.9813275195719484 and parameters: {'n_estimators': 545, 'max_depth': 27, 'min_samples_split': 3, 'min_samples_leaf': 1, 'criterion': 'entropy'}. Best is trial 175 with value: 0.9818005908916791.\n",
      "[I 2024-05-10 12:37:30,112] Trial 247 finished with value: 0.9796490699862043 and parameters: {'n_estimators': 574, 'max_depth': 26, 'min_samples_split': 3, 'min_samples_leaf': 2, 'criterion': 'entropy'}. Best is trial 175 with value: 0.9818005908916791.\n",
      "[I 2024-05-10 12:37:40,031] Trial 248 finished with value: 0.979539258963203 and parameters: {'n_estimators': 540, 'max_depth': 26, 'min_samples_split': 5, 'min_samples_leaf': 2, 'criterion': 'entropy'}. Best is trial 175 with value: 0.9818005908916791.\n",
      "[I 2024-05-10 12:37:49,615] Trial 249 finished with value: 0.9805449891452496 and parameters: {'n_estimators': 521, 'max_depth': 27, 'min_samples_split': 4, 'min_samples_leaf': 1, 'criterion': 'entropy'}. Best is trial 175 with value: 0.9818005908916791.\n",
      "[I 2024-05-10 12:37:59,730] Trial 250 finished with value: 0.9815104751353726 and parameters: {'n_estimators': 553, 'max_depth': 28, 'min_samples_split': 3, 'min_samples_leaf': 1, 'criterion': 'entropy'}. Best is trial 175 with value: 0.9818005908916791.\n",
      "[I 2024-05-10 12:38:09,464] Trial 251 finished with value: 0.9794072153795457 and parameters: {'n_estimators': 543, 'max_depth': 28, 'min_samples_split': 4, 'min_samples_leaf': 2, 'criterion': 'entropy'}. Best is trial 175 with value: 0.9818005908916791.\n",
      "[I 2024-05-10 12:38:19,774] Trial 252 finished with value: 0.9812661120663424 and parameters: {'n_estimators': 562, 'max_depth': 25, 'min_samples_split': 3, 'min_samples_leaf': 1, 'criterion': 'entropy'}. Best is trial 175 with value: 0.9818005908916791.\n",
      "[I 2024-05-10 12:38:29,448] Trial 253 finished with value: 0.9815058444389662 and parameters: {'n_estimators': 525, 'max_depth': 26, 'min_samples_split': 3, 'min_samples_leaf': 1, 'criterion': 'entropy'}. Best is trial 175 with value: 0.9818005908916791.\n",
      "[I 2024-05-10 12:38:38,737] Trial 254 finished with value: 0.979346060926692 and parameters: {'n_estimators': 503, 'max_depth': 28, 'min_samples_split': 4, 'min_samples_leaf': 2, 'criterion': 'entropy'}. Best is trial 175 with value: 0.9818005908916791.\n",
      "[I 2024-05-10 12:38:48,401] Trial 255 finished with value: 0.9812692378290733 and parameters: {'n_estimators': 514, 'max_depth': 29, 'min_samples_split': 3, 'min_samples_leaf': 1, 'criterion': 'entropy'}. Best is trial 175 with value: 0.9818005908916791.\n",
      "[I 2024-05-10 12:38:57,480] Trial 256 finished with value: 0.9796510247974923 and parameters: {'n_estimators': 500, 'max_depth': 25, 'min_samples_split': 4, 'min_samples_leaf': 2, 'criterion': 'entropy'}. Best is trial 175 with value: 0.9818005908916791.\n",
      "[I 2024-05-10 12:39:06,429] Trial 257 pruned. \n",
      "[I 2024-05-10 12:39:16,002] Trial 258 finished with value: 0.9783499548410808 and parameters: {'n_estimators': 533, 'max_depth': 25, 'min_samples_split': 3, 'min_samples_leaf': 3, 'criterion': 'entropy'}. Best is trial 175 with value: 0.9818005908916791.\n",
      "[I 2024-05-10 12:39:24,979] Trial 259 finished with value: 0.9794706273353025 and parameters: {'n_estimators': 496, 'max_depth': 27, 'min_samples_split': 3, 'min_samples_leaf': 2, 'criterion': 'entropy'}. Best is trial 175 with value: 0.9818005908916791.\n",
      "[I 2024-05-10 12:39:30,980] Trial 260 pruned. \n",
      "[I 2024-05-10 12:39:40,412] Trial 261 finished with value: 0.9813253371724044 and parameters: {'n_estimators': 516, 'max_depth': 25, 'min_samples_split': 3, 'min_samples_leaf': 1, 'criterion': 'entropy'}. Best is trial 175 with value: 0.9818005908916791.\n",
      "[I 2024-05-10 12:39:50,901] Trial 262 finished with value: 0.9812641033431996 and parameters: {'n_estimators': 572, 'max_depth': 25, 'min_samples_split': 3, 'min_samples_leaf': 1, 'criterion': 'entropy'}. Best is trial 175 with value: 0.9818005908916791.\n",
      "[I 2024-05-10 12:39:56,397] Trial 263 pruned. \n",
      "[I 2024-05-10 12:40:05,582] Trial 264 finished with value: 0.9794118374733453 and parameters: {'n_estimators': 507, 'max_depth': 24, 'min_samples_split': 3, 'min_samples_leaf': 2, 'criterion': 'entropy'}. Best is trial 175 with value: 0.9818005908916791.\n",
      "[I 2024-05-10 12:40:15,378] Trial 265 finished with value: 0.978289360547165 and parameters: {'n_estimators': 542, 'max_depth': 25, 'min_samples_split': 5, 'min_samples_leaf': 3, 'criterion': 'entropy'}. Best is trial 175 with value: 0.9818005908916791.\n",
      "[I 2024-05-10 12:40:24,850] Trial 266 finished with value: 0.9804230790589376 and parameters: {'n_estimators': 515, 'max_depth': 26, 'min_samples_split': 4, 'min_samples_leaf': 1, 'criterion': 'entropy'}. Best is trial 175 with value: 0.9818005908916791.\n",
      "[I 2024-05-10 12:40:35,038] Trial 267 finished with value: 0.9817453927504711 and parameters: {'n_estimators': 561, 'max_depth': 24, 'min_samples_split': 3, 'min_samples_leaf': 1, 'criterion': 'entropy'}. Best is trial 175 with value: 0.9818005908916791.\n",
      "[I 2024-05-10 12:40:45,555] Trial 268 finished with value: 0.9815628819593869 and parameters: {'n_estimators': 576, 'max_depth': 24, 'min_samples_split': 3, 'min_samples_leaf': 1, 'criterion': 'entropy'}. Best is trial 175 with value: 0.9818005908916791.\n",
      "[I 2024-05-10 12:40:56,710] Trial 269 finished with value: 0.9796489040754455 and parameters: {'n_estimators': 615, 'max_depth': 24, 'min_samples_split': 2, 'min_samples_leaf': 2, 'criterion': 'entropy'}. Best is trial 175 with value: 0.9818005908916791.\n",
      "[I 2024-05-10 12:41:06,908] Trial 270 finished with value: 0.9796435208099918 and parameters: {'n_estimators': 563, 'max_depth': 24, 'min_samples_split': 4, 'min_samples_leaf': 2, 'criterion': 'entropy'}. Best is trial 175 with value: 0.9818005908916791.\n",
      "[I 2024-05-10 12:41:17,527] Trial 271 finished with value: 0.981501966737091 and parameters: {'n_estimators': 584, 'max_depth': 24, 'min_samples_split': 3, 'min_samples_leaf': 1, 'criterion': 'entropy'}. Best is trial 175 with value: 0.9818005908916791.\n",
      "[I 2024-05-10 12:41:27,768] Trial 272 pruned. \n",
      "[I 2024-05-10 12:41:38,709] Trial 273 finished with value: 0.9796535513908127 and parameters: {'n_estimators': 600, 'max_depth': 24, 'min_samples_split': 5, 'min_samples_leaf': 2, 'criterion': 'entropy'}. Best is trial 175 with value: 0.9818005908916791.\n",
      "[I 2024-05-10 12:41:49,383] Trial 274 finished with value: 0.9813309978772381 and parameters: {'n_estimators': 588, 'max_depth': 26, 'min_samples_split': 3, 'min_samples_leaf': 1, 'criterion': 'entropy'}. Best is trial 175 with value: 0.9818005908916791.\n",
      "[I 2024-05-10 12:41:59,968] Trial 275 finished with value: 0.9812687011699888 and parameters: {'n_estimators': 582, 'max_depth': 25, 'min_samples_split': 3, 'min_samples_leaf': 1, 'criterion': 'entropy'}. Best is trial 175 with value: 0.9818005908916791.\n",
      "[I 2024-05-10 12:42:11,459] Trial 276 finished with value: 0.9807148469647157 and parameters: {'n_estimators': 632, 'max_depth': 24, 'min_samples_split': 2, 'min_samples_leaf': 1, 'criterion': 'entropy'}. Best is trial 175 with value: 0.9818005908916791.\n",
      "[I 2024-05-10 12:42:22,039] Trial 277 finished with value: 0.9797687946195476 and parameters: {'n_estimators': 588, 'max_depth': 26, 'min_samples_split': 4, 'min_samples_leaf': 2, 'criterion': 'entropy'}. Best is trial 175 with value: 0.9818005908916791.\n",
      "[I 2024-05-10 12:42:28,842] Trial 278 pruned. \n",
      "[I 2024-05-10 12:42:39,802] Trial 279 finished with value: 0.9795857817624392 and parameters: {'n_estimators': 610, 'max_depth': 24, 'min_samples_split': 2, 'min_samples_leaf': 2, 'criterion': 'entropy'}. Best is trial 175 with value: 0.9818005908916791.\n",
      "[I 2024-05-10 12:42:49,007] Trial 280 finished with value: 0.9789882731184208 and parameters: {'n_estimators': 568, 'max_depth': 26, 'min_samples_split': 3, 'min_samples_leaf': 1, 'criterion': 'gini'}. Best is trial 175 with value: 0.9818005908916791.\n",
      "[I 2024-05-10 12:42:54,040] Trial 281 pruned. \n",
      "[I 2024-05-10 12:43:04,380] Trial 282 pruned. \n",
      "[I 2024-05-10 12:43:12,998] Trial 283 finished with value: 0.9795884974293356 and parameters: {'n_estimators': 474, 'max_depth': 24, 'min_samples_split': 4, 'min_samples_leaf': 2, 'criterion': 'entropy'}. Best is trial 175 with value: 0.9818005908916791.\n",
      "[I 2024-05-10 12:43:23,869] Trial 284 finished with value: 0.9814330788979724 and parameters: {'n_estimators': 590, 'max_depth': 26, 'min_samples_split': 2, 'min_samples_leaf': 1, 'criterion': 'entropy'}. Best is trial 175 with value: 0.9818005908916791.\n",
      "[I 2024-05-10 12:43:34,026] Trial 285 finished with value: 0.9794704666348844 and parameters: {'n_estimators': 554, 'max_depth': 25, 'min_samples_split': 2, 'min_samples_leaf': 2, 'criterion': 'entropy'}. Best is trial 175 with value: 0.9818005908916791.\n",
      "[I 2024-05-10 12:43:44,919] Trial 286 finished with value: 0.9814325137581648 and parameters: {'n_estimators': 601, 'max_depth': 28, 'min_samples_split': 2, 'min_samples_leaf': 1, 'criterion': 'entropy'}. Best is trial 175 with value: 0.9818005908916791.\n",
      "[I 2024-05-10 12:43:52,205] Trial 287 pruned. \n",
      "[I 2024-05-10 12:44:03,032] Trial 288 finished with value: 0.978464137629872 and parameters: {'n_estimators': 605, 'max_depth': 27, 'min_samples_split': 2, 'min_samples_leaf': 3, 'criterion': 'entropy'}. Best is trial 175 with value: 0.9818005908916791.\n",
      "[I 2024-05-10 12:44:14,475] Trial 289 finished with value: 0.9814500307328876 and parameters: {'n_estimators': 632, 'max_depth': 28, 'min_samples_split': 3, 'min_samples_leaf': 1, 'criterion': 'entropy'}. Best is trial 175 with value: 0.9818005908916791.\n",
      "[I 2024-05-10 12:44:25,518] Trial 290 finished with value: 0.9804889584968673 and parameters: {'n_estimators': 610, 'max_depth': 29, 'min_samples_split': 4, 'min_samples_leaf': 1, 'criterion': 'entropy'}. Best is trial 175 with value: 0.9818005908916791.\n",
      "[I 2024-05-10 12:44:37,017] Trial 291 finished with value: 0.9792263858669795 and parameters: {'n_estimators': 625, 'max_depth': 28, 'min_samples_split': 3, 'min_samples_leaf': 2, 'criterion': 'entropy'}. Best is trial 175 with value: 0.9818005908916791.\n",
      "[I 2024-05-10 12:44:54,042] Trial 292 finished with value: 0.981386941324697 and parameters: {'n_estimators': 941, 'max_depth': 29, 'min_samples_split': 3, 'min_samples_leaf': 1, 'criterion': 'entropy'}. Best is trial 175 with value: 0.9818005908916791.\n",
      "[I 2024-05-10 12:45:10,552] Trial 293 finished with value: 0.9803059514993997 and parameters: {'n_estimators': 926, 'max_depth': 31, 'min_samples_split': 4, 'min_samples_leaf': 1, 'criterion': 'entropy'}. Best is trial 175 with value: 0.9818005908916791.\n",
      "[I 2024-05-10 12:45:21,313] Trial 294 finished with value: 0.9800200883733124 and parameters: {'n_estimators': 593, 'max_depth': 29, 'min_samples_split': 5, 'min_samples_leaf': 2, 'criterion': 'entropy'}. Best is trial 175 with value: 0.9818005908916791.\n",
      "[I 2024-05-10 12:45:36,535] Trial 295 finished with value: 0.9792890057586974 and parameters: {'n_estimators': 857, 'max_depth': 30, 'min_samples_split': 3, 'min_samples_leaf': 2, 'criterion': 'entropy'}. Best is trial 175 with value: 0.9818005908916791.\n",
      "[I 2024-05-10 12:45:49,346] Trial 296 finished with value: 0.9803728906700471 and parameters: {'n_estimators': 711, 'max_depth': 28, 'min_samples_split': 4, 'min_samples_leaf': 1, 'criterion': 'entropy'}. Best is trial 175 with value: 0.9818005908916791.\n",
      "[I 2024-05-10 12:46:01,113] Trial 297 finished with value: 0.9815130990809111 and parameters: {'n_estimators': 651, 'max_depth': 28, 'min_samples_split': 3, 'min_samples_leaf': 1, 'criterion': 'entropy'}. Best is trial 175 with value: 0.9818005908916791.\n",
      "[I 2024-05-10 12:46:12,536] Trial 298 finished with value: 0.9783446106474045 and parameters: {'n_estimators': 637, 'max_depth': 28, 'min_samples_split': 4, 'min_samples_leaf': 3, 'criterion': 'entropy'}. Best is trial 175 with value: 0.9818005908916791.\n",
      "[I 2024-05-10 12:46:23,913] Trial 299 finished with value: 0.9795907998117611 and parameters: {'n_estimators': 636, 'max_depth': 29, 'min_samples_split': 3, 'min_samples_leaf': 2, 'criterion': 'entropy'}. Best is trial 175 with value: 0.9818005908916791.\n",
      "[I 2024-05-10 12:46:31,664] Trial 300 pruned. \n",
      "[I 2024-05-10 12:46:37,256] Trial 301 pruned. \n",
      "[I 2024-05-10 12:46:45,460] Trial 302 pruned. \n",
      "[I 2024-05-10 12:46:57,198] Trial 303 finished with value: 0.9814472007846321 and parameters: {'n_estimators': 646, 'max_depth': 31, 'min_samples_split': 3, 'min_samples_leaf': 1, 'criterion': 'entropy'}. Best is trial 175 with value: 0.9818005908916791.\n",
      "[I 2024-05-10 12:47:08,442] Trial 304 finished with value: 0.9813890246907434 and parameters: {'n_estimators': 615, 'max_depth': 32, 'min_samples_split': 3, 'min_samples_leaf': 1, 'criterion': 'entropy'}. Best is trial 175 with value: 0.9818005908916791.\n",
      "[I 2024-05-10 12:47:20,259] Trial 305 finished with value: 0.9817983752048395 and parameters: {'n_estimators': 656, 'max_depth': 31, 'min_samples_split': 2, 'min_samples_leaf': 1, 'criterion': 'entropy'}. Best is trial 175 with value: 0.9818005908916791.\n",
      "[I 2024-05-10 12:47:32,743] Trial 306 finished with value: 0.9795343401189444 and parameters: {'n_estimators': 685, 'max_depth': 33, 'min_samples_split': 2, 'min_samples_leaf': 2, 'criterion': 'entropy'}. Best is trial 175 with value: 0.9818005908916791.\n",
      "[I 2024-05-10 12:47:44,819] Trial 307 finished with value: 0.9817395517913298 and parameters: {'n_estimators': 657, 'max_depth': 31, 'min_samples_split': 2, 'min_samples_leaf': 1, 'criterion': 'entropy'}. Best is trial 175 with value: 0.9818005908916791.\n",
      "[I 2024-05-10 12:47:56,778] Trial 308 finished with value: 0.9816766414082381 and parameters: {'n_estimators': 665, 'max_depth': 32, 'min_samples_split': 2, 'min_samples_leaf': 1, 'criterion': 'entropy'}. Best is trial 175 with value: 0.9818005908916791.\n",
      "[I 2024-05-10 12:48:08,585] Trial 309 finished with value: 0.9795907659914439 and parameters: {'n_estimators': 660, 'max_depth': 32, 'min_samples_split': 2, 'min_samples_leaf': 2, 'criterion': 'entropy'}. Best is trial 175 with value: 0.9818005908916791.\n",
      "[I 2024-05-10 12:48:20,437] Trial 310 finished with value: 0.9785252911539113 and parameters: {'n_estimators': 656, 'max_depth': 33, 'min_samples_split': 2, 'min_samples_leaf': 3, 'criterion': 'entropy'}. Best is trial 175 with value: 0.9818005908916791.\n",
      "[I 2024-05-10 12:48:32,073] Trial 311 finished with value: 0.9816746299154463 and parameters: {'n_estimators': 648, 'max_depth': 31, 'min_samples_split': 2, 'min_samples_leaf': 1, 'criterion': 'entropy'}. Best is trial 175 with value: 0.9818005908916791.\n",
      "[I 2024-05-10 12:48:44,242] Trial 312 finished with value: 0.9795927764556364 and parameters: {'n_estimators': 684, 'max_depth': 31, 'min_samples_split': 2, 'min_samples_leaf': 2, 'criterion': 'entropy'}. Best is trial 175 with value: 0.9818005908916791.\n",
      "[I 2024-05-10 12:48:53,466] Trial 313 pruned. \n",
      "[I 2024-05-10 12:48:59,583] Trial 314 pruned. \n",
      "[I 2024-05-10 12:49:12,157] Trial 315 finished with value: 0.9814471411636522 and parameters: {'n_estimators': 701, 'max_depth': 32, 'min_samples_split': 3, 'min_samples_leaf': 1, 'criterion': 'entropy'}. Best is trial 175 with value: 0.9818005908916791.\n",
      "[I 2024-05-10 12:49:24,898] Trial 316 finished with value: 0.9795319233439453 and parameters: {'n_estimators': 711, 'max_depth': 32, 'min_samples_split': 4, 'min_samples_leaf': 2, 'criterion': 'entropy'}. Best is trial 175 with value: 0.9818005908916791.\n",
      "[I 2024-05-10 12:49:38,540] Trial 317 finished with value: 0.9815040041072314 and parameters: {'n_estimators': 758, 'max_depth': 31, 'min_samples_split': 3, 'min_samples_leaf': 1, 'criterion': 'entropy'}. Best is trial 175 with value: 0.9818005908916791.\n",
      "[I 2024-05-10 12:49:52,486] Trial 318 finished with value: 0.9813281493453111 and parameters: {'n_estimators': 782, 'max_depth': 31, 'min_samples_split': 3, 'min_samples_leaf': 1, 'criterion': 'entropy'}. Best is trial 175 with value: 0.9818005908916791.\n",
      "[I 2024-05-10 12:50:04,635] Trial 319 finished with value: 0.9784662039468234 and parameters: {'n_estimators': 690, 'max_depth': 32, 'min_samples_split': 4, 'min_samples_leaf': 3, 'criterion': 'entropy'}. Best is trial 175 with value: 0.9818005908916791.\n",
      "[I 2024-05-10 12:50:18,171] Trial 320 finished with value: 0.9794098085185396 and parameters: {'n_estimators': 761, 'max_depth': 32, 'min_samples_split': 4, 'min_samples_leaf': 2, 'criterion': 'entropy'}. Best is trial 175 with value: 0.9818005908916791.\n",
      "[I 2024-05-10 12:50:25,033] Trial 321 pruned. \n",
      "[I 2024-05-10 12:50:30,757] Trial 322 pruned. \n",
      "[I 2024-05-10 12:50:44,078] Trial 323 finished with value: 0.9815041934259711 and parameters: {'n_estimators': 720, 'max_depth': 30, 'min_samples_split': 3, 'min_samples_leaf': 1, 'criterion': 'entropy'}. Best is trial 175 with value: 0.9818005908916791.\n",
      "[I 2024-05-10 12:50:57,580] Trial 324 finished with value: 0.9815032029511176 and parameters: {'n_estimators': 748, 'max_depth': 31, 'min_samples_split': 3, 'min_samples_leaf': 1, 'criterion': 'entropy'}. Best is trial 175 with value: 0.9818005908916791.\n",
      "[I 2024-05-10 12:51:10,955] Trial 325 finished with value: 0.9785221184025336 and parameters: {'n_estimators': 751, 'max_depth': 30, 'min_samples_split': 2, 'min_samples_leaf': 3, 'criterion': 'entropy'}. Best is trial 175 with value: 0.9818005908916791.\n",
      "[I 2024-05-10 12:51:23,692] Trial 326 finished with value: 0.9795294168658092 and parameters: {'n_estimators': 719, 'max_depth': 31, 'min_samples_split': 3, 'min_samples_leaf': 2, 'criterion': 'entropy'}. Best is trial 175 with value: 0.9818005908916791.\n",
      "[I 2024-05-10 12:51:31,339] Trial 327 pruned. \n",
      "[I 2024-05-10 12:51:38,442] Trial 328 pruned. \n",
      "[I 2024-05-10 12:51:50,026] Trial 329 finished with value: 0.9793483315160136 and parameters: {'n_estimators': 644, 'max_depth': 31, 'min_samples_split': 2, 'min_samples_leaf': 2, 'criterion': 'entropy'}. Best is trial 175 with value: 0.9818005908916791.\n",
      "[I 2024-05-10 12:52:03,708] Trial 330 finished with value: 0.9803666776751339 and parameters: {'n_estimators': 762, 'max_depth': 31, 'min_samples_split': 4, 'min_samples_leaf': 1, 'criterion': 'entropy'}. Best is trial 175 with value: 0.9818005908916791.\n",
      "[I 2024-05-10 12:52:15,765] Trial 331 finished with value: 0.9795959191016756 and parameters: {'n_estimators': 672, 'max_depth': 33, 'min_samples_split': 3, 'min_samples_leaf': 2, 'criterion': 'entropy'}. Best is trial 175 with value: 0.9818005908916791.\n",
      "[I 2024-05-10 12:52:30,097] Trial 332 finished with value: 0.9814465981686894 and parameters: {'n_estimators': 785, 'max_depth': 30, 'min_samples_split': 2, 'min_samples_leaf': 1, 'criterion': 'entropy'}. Best is trial 175 with value: 0.9818005908916791.\n",
      "[I 2024-05-10 12:52:43,536] Trial 333 finished with value: 0.9814472042817745 and parameters: {'n_estimators': 734, 'max_depth': 31, 'min_samples_split': 3, 'min_samples_leaf': 1, 'criterion': 'entropy'}. Best is trial 175 with value: 0.9818005908916791.\n",
      "[I 2024-05-10 12:52:56,577] Trial 334 finished with value: 0.9797765239118179 and parameters: {'n_estimators': 732, 'max_depth': 31, 'min_samples_split': 5, 'min_samples_leaf': 2, 'criterion': 'entropy'}. Best is trial 175 with value: 0.9818005908916791.\n",
      "[I 2024-05-10 12:53:10,224] Trial 335 finished with value: 0.9785778547694607 and parameters: {'n_estimators': 766, 'max_depth': 30, 'min_samples_split': 3, 'min_samples_leaf': 3, 'criterion': 'entropy'}. Best is trial 175 with value: 0.9818005908916791.\n",
      "[I 2024-05-10 12:53:22,713] Trial 336 finished with value: 0.9803620689372581 and parameters: {'n_estimators': 689, 'max_depth': 32, 'min_samples_split': 4, 'min_samples_leaf': 1, 'criterion': 'entropy'}. Best is trial 175 with value: 0.9818005908916791.\n",
      "[I 2024-05-10 12:53:35,608] Trial 337 finished with value: 0.97934816967511 and parameters: {'n_estimators': 705, 'max_depth': 31, 'min_samples_split': 2, 'min_samples_leaf': 2, 'criterion': 'entropy'}. Best is trial 175 with value: 0.9818005908916791.\n",
      "[I 2024-05-10 12:53:47,256] Trial 338 finished with value: 0.9814475218178449 and parameters: {'n_estimators': 635, 'max_depth': 30, 'min_samples_split': 3, 'min_samples_leaf': 1, 'criterion': 'entropy'}. Best is trial 175 with value: 0.9818005908916791.\n",
      "[I 2024-05-10 12:54:00,432] Trial 339 finished with value: 0.9794702346134778 and parameters: {'n_estimators': 735, 'max_depth': 30, 'min_samples_split': 4, 'min_samples_leaf': 2, 'criterion': 'entropy'}. Best is trial 175 with value: 0.9818005908916791.\n",
      "[I 2024-05-10 12:54:11,885] Trial 340 finished with value: 0.9815599841944349 and parameters: {'n_estimators': 629, 'max_depth': 31, 'min_samples_split': 2, 'min_samples_leaf': 1, 'criterion': 'entropy'}. Best is trial 175 with value: 0.9818005908916791.\n",
      "[I 2024-05-10 12:54:23,063] Trial 341 finished with value: 0.9794097868838415 and parameters: {'n_estimators': 622, 'max_depth': 32, 'min_samples_split': 2, 'min_samples_leaf': 2, 'criterion': 'entropy'}. Best is trial 175 with value: 0.9818005908916791.\n",
      "[I 2024-05-10 12:54:34,462] Trial 342 finished with value: 0.9814991869781862 and parameters: {'n_estimators': 625, 'max_depth': 29, 'min_samples_split': 2, 'min_samples_leaf': 1, 'criterion': 'entropy'}. Best is trial 175 with value: 0.9818005908916791.\n",
      "[I 2024-05-10 12:54:46,617] Trial 343 finished with value: 0.981317027823548 and parameters: {'n_estimators': 675, 'max_depth': 29, 'min_samples_split': 2, 'min_samples_leaf': 1, 'criterion': 'entropy'}. Best is trial 175 with value: 0.9818005908916791.\n",
      "[I 2024-05-10 12:54:53,543] Trial 344 pruned. \n",
      "[I 2024-05-10 12:54:58,605] Trial 345 pruned. \n",
      "[I 2024-05-10 12:55:10,003] Trial 346 finished with value: 0.9784675797634605 and parameters: {'n_estimators': 641, 'max_depth': 30, 'min_samples_split': 2, 'min_samples_leaf': 3, 'criterion': 'entropy'}. Best is trial 175 with value: 0.9818005908916791.\n",
      "[I 2024-05-10 12:55:21,205] Trial 347 finished with value: 0.9794683915480974 and parameters: {'n_estimators': 623, 'max_depth': 33, 'min_samples_split': 2, 'min_samples_leaf': 2, 'criterion': 'entropy'}. Best is trial 175 with value: 0.9818005908916791.\n",
      "[I 2024-05-10 12:55:35,660] Trial 348 finished with value: 0.9813257449555401 and parameters: {'n_estimators': 808, 'max_depth': 32, 'min_samples_split': 3, 'min_samples_leaf': 1, 'criterion': 'entropy'}. Best is trial 175 with value: 0.9818005908916791.\n",
      "[I 2024-05-10 12:55:47,591] Trial 349 finished with value: 0.98143693961891 and parameters: {'n_estimators': 658, 'max_depth': 29, 'min_samples_split': 2, 'min_samples_leaf': 1, 'criterion': 'entropy'}. Best is trial 175 with value: 0.9818005908916791.\n",
      "[I 2024-05-10 12:55:59,502] Trial 350 finished with value: 0.9814473071735733 and parameters: {'n_estimators': 652, 'max_depth': 30, 'min_samples_split': 3, 'min_samples_leaf': 1, 'criterion': 'entropy'}. Best is trial 175 with value: 0.9818005908916791.\n",
      "[I 2024-05-10 12:56:06,057] Trial 351 pruned. \n",
      "[I 2024-05-10 12:56:18,481] Trial 352 finished with value: 0.9813150610743737 and parameters: {'n_estimators': 694, 'max_depth': 29, 'min_samples_split': 2, 'min_samples_leaf': 1, 'criterion': 'entropy'}. Best is trial 175 with value: 0.9818005908916791.\n",
      "[I 2024-05-10 12:56:30,433] Trial 353 finished with value: 0.9795317024887653 and parameters: {'n_estimators': 672, 'max_depth': 31, 'min_samples_split': 4, 'min_samples_leaf': 2, 'criterion': 'entropy'}. Best is trial 175 with value: 0.9818005908916791.\n",
      "[I 2024-05-10 12:56:41,298] Trial 354 finished with value: 0.9814493926364953 and parameters: {'n_estimators': 573, 'max_depth': 28, 'min_samples_split': 3, 'min_samples_leaf': 1, 'criterion': 'entropy'}. Best is trial 175 with value: 0.9818005908916791.\n",
      "[I 2024-05-10 12:56:52,489] Trial 355 finished with value: 0.9792265357703274 and parameters: {'n_estimators': 620, 'max_depth': 28, 'min_samples_split': 2, 'min_samples_leaf': 2, 'criterion': 'entropy'}. Best is trial 175 with value: 0.9818005908916791.\n",
      "[I 2024-05-10 12:57:00,512] Trial 356 pruned. \n",
      "[I 2024-05-10 12:57:11,520] Trial 357 pruned. \n",
      "[I 2024-05-10 12:57:23,099] Trial 358 finished with value: 0.981322649223378 and parameters: {'n_estimators': 642, 'max_depth': 27, 'min_samples_split': 2, 'min_samples_leaf': 1, 'criterion': 'entropy'}. Best is trial 175 with value: 0.9818005908916791.\n",
      "[I 2024-05-10 12:57:34,333] Trial 359 finished with value: 0.9794097868838415 and parameters: {'n_estimators': 624, 'max_depth': 32, 'min_samples_split': 3, 'min_samples_leaf': 2, 'criterion': 'entropy'}. Best is trial 175 with value: 0.9818005908916791.\n",
      "[I 2024-05-10 12:57:47,613] Trial 360 finished with value: 0.9796515797229995 and parameters: {'n_estimators': 747, 'max_depth': 28, 'min_samples_split': 4, 'min_samples_leaf': 2, 'criterion': 'entropy'}. Best is trial 175 with value: 0.9818005908916791.\n",
      "[I 2024-05-10 12:57:57,775] Trial 361 finished with value: 0.9815674637053163 and parameters: {'n_estimators': 552, 'max_depth': 29, 'min_samples_split': 3, 'min_samples_leaf': 1, 'criterion': 'entropy'}. Best is trial 175 with value: 0.9818005908916791.\n",
      "[I 2024-05-10 12:58:07,993] Trial 362 finished with value: 0.9805450976055905 and parameters: {'n_estimators': 558, 'max_depth': 30, 'min_samples_split': 4, 'min_samples_leaf': 1, 'criterion': 'entropy'}. Best is trial 175 with value: 0.9818005908916791.\n",
      "[I 2024-05-10 12:58:17,869] Trial 363 finished with value: 0.9798386017912456 and parameters: {'n_estimators': 545, 'max_depth': 31, 'min_samples_split': 5, 'min_samples_leaf': 2, 'criterion': 'entropy'}. Best is trial 175 with value: 0.9818005908916791.\n",
      "[I 2024-05-10 12:58:23,809] Trial 364 pruned. \n",
      "[I 2024-05-10 12:58:33,217] Trial 365 finished with value: 0.9802710252047546 and parameters: {'n_estimators': 572, 'max_depth': 32, 'min_samples_split': 2, 'min_samples_leaf': 1, 'criterion': 'gini'}. Best is trial 175 with value: 0.9818005908916791.\n",
      "[I 2024-05-10 12:58:43,240] Trial 366 finished with value: 0.9816868277667103 and parameters: {'n_estimators': 541, 'max_depth': 30, 'min_samples_split': 3, 'min_samples_leaf': 1, 'criterion': 'entropy'}. Best is trial 175 with value: 0.9818005908916791.\n",
      "[I 2024-05-10 12:58:52,881] Trial 367 finished with value: 0.9796467928305959 and parameters: {'n_estimators': 533, 'max_depth': 31, 'min_samples_split': 4, 'min_samples_leaf': 2, 'criterion': 'entropy'}. Best is trial 175 with value: 0.9818005908916791.\n",
      "[I 2024-05-10 12:59:07,021] Trial 368 finished with value: 0.9815654710972741 and parameters: {'n_estimators': 793, 'max_depth': 33, 'min_samples_split': 3, 'min_samples_leaf': 1, 'criterion': 'entropy'}. Best is trial 175 with value: 0.9818005908916791.\n",
      "[I 2024-05-10 12:59:21,671] Trial 369 finished with value: 0.9795343176124917 and parameters: {'n_estimators': 828, 'max_depth': 34, 'min_samples_split': 3, 'min_samples_leaf': 2, 'criterion': 'entropy'}. Best is trial 175 with value: 0.9818005908916791.\n",
      "[I 2024-05-10 12:59:35,827] Trial 370 finished with value: 0.9801857283038409 and parameters: {'n_estimators': 787, 'max_depth': 33, 'min_samples_split': 4, 'min_samples_leaf': 1, 'criterion': 'entropy'}. Best is trial 175 with value: 0.9818005908916791.\n",
      "[I 2024-05-10 12:59:50,934] Trial 371 finished with value: 0.9813866609186253 and parameters: {'n_estimators': 845, 'max_depth': 48, 'min_samples_split': 3, 'min_samples_leaf': 1, 'criterion': 'entropy'}. Best is trial 175 with value: 0.9818005908916791.\n",
      "[I 2024-05-10 13:00:04,945] Trial 372 finished with value: 0.9786416327613742 and parameters: {'n_estimators': 797, 'max_depth': 35, 'min_samples_split': 4, 'min_samples_leaf': 3, 'criterion': 'entropy'}. Best is trial 175 with value: 0.9818005908916791.\n",
      "[I 2024-05-10 13:00:14,657] Trial 373 finished with value: 0.9816289057267144 and parameters: {'n_estimators': 531, 'max_depth': 32, 'min_samples_split': 3, 'min_samples_leaf': 1, 'criterion': 'entropy'}. Best is trial 175 with value: 0.9818005908916791.\n",
      "[I 2024-05-10 13:00:24,455] Trial 374 finished with value: 0.9794656794275441 and parameters: {'n_estimators': 540, 'max_depth': 34, 'min_samples_split': 3, 'min_samples_leaf': 2, 'criterion': 'entropy'}. Best is trial 175 with value: 0.9818005908916791.\n",
      "[I 2024-05-10 13:00:29,900] Trial 375 pruned. \n",
      "[I 2024-05-10 13:00:39,674] Trial 376 finished with value: 0.9788285909785657 and parameters: {'n_estimators': 535, 'max_depth': 32, 'min_samples_split': 9, 'min_samples_leaf': 1, 'criterion': 'entropy'}. Best is trial 175 with value: 0.9818005908916791.\n",
      "[I 2024-05-10 13:00:48,942] Trial 377 finished with value: 0.9794703274615673 and parameters: {'n_estimators': 516, 'max_depth': 33, 'min_samples_split': 2, 'min_samples_leaf': 2, 'criterion': 'entropy'}. Best is trial 175 with value: 0.9818005908916791.\n",
      "[I 2024-05-10 13:00:58,918] Trial 378 finished with value: 0.9814475029122572 and parameters: {'n_estimators': 548, 'max_depth': 33, 'min_samples_split': 3, 'min_samples_leaf': 1, 'criterion': 'entropy'}. Best is trial 175 with value: 0.9818005908916791.\n",
      "[I 2024-05-10 13:01:07,898] Trial 379 finished with value: 0.9795878096275805 and parameters: {'n_estimators': 493, 'max_depth': 30, 'min_samples_split': 4, 'min_samples_leaf': 2, 'criterion': 'entropy'}. Best is trial 175 with value: 0.9818005908916791.\n",
      "[I 2024-05-10 13:01:22,468] Trial 380 finished with value: 0.9785803485422029 and parameters: {'n_estimators': 826, 'max_depth': 32, 'min_samples_split': 3, 'min_samples_leaf': 3, 'criterion': 'entropy'}. Best is trial 175 with value: 0.9818005908916791.\n",
      "[I 2024-05-10 13:01:31,984] Trial 381 finished with value: 0.9803762201955797 and parameters: {'n_estimators': 521, 'max_depth': 27, 'min_samples_split': 6, 'min_samples_leaf': 1, 'criterion': 'entropy'}. Best is trial 175 with value: 0.9818005908916791.\n",
      "[I 2024-05-10 13:01:42,086] Trial 382 finished with value: 0.9813110956654922 and parameters: {'n_estimators': 556, 'max_depth': 30, 'min_samples_split': 2, 'min_samples_leaf': 1, 'criterion': 'entropy'}. Best is trial 175 with value: 0.9818005908916791.\n",
      "[I 2024-05-10 13:01:47,190] Trial 383 pruned. \n",
      "[I 2024-05-10 13:01:56,249] Trial 384 finished with value: 0.9796465380737341 and parameters: {'n_estimators': 495, 'max_depth': 31, 'min_samples_split': 4, 'min_samples_leaf': 2, 'criterion': 'entropy'}. Best is trial 175 with value: 0.9818005908916791.\n",
      "[I 2024-05-10 13:02:05,451] Trial 385 finished with value: 0.9811937495602319 and parameters: {'n_estimators': 502, 'max_depth': 27, 'min_samples_split': 2, 'min_samples_leaf': 1, 'criterion': 'entropy'}. Best is trial 175 with value: 0.9818005908916791.\n",
      "[I 2024-05-10 13:02:11,278] Trial 386 pruned. \n",
      "[I 2024-05-10 13:02:18,514] Trial 387 pruned. \n",
      "[I 2024-05-10 13:02:23,574] Trial 388 pruned. \n",
      "[I 2024-05-10 13:02:32,988] Trial 389 finished with value: 0.9794729520115524 and parameters: {'n_estimators': 512, 'max_depth': 34, 'min_samples_split': 3, 'min_samples_leaf': 2, 'criterion': 'entropy'}. Best is trial 175 with value: 0.9818005908916791.\n",
      "[I 2024-05-10 13:02:39,923] Trial 390 pruned. \n",
      "[I 2024-05-10 13:02:50,075] Trial 391 pruned. \n",
      "[I 2024-05-10 13:02:58,995] Trial 392 finished with value: 0.9804229084702321 and parameters: {'n_estimators': 484, 'max_depth': 27, 'min_samples_split': 4, 'min_samples_leaf': 1, 'criterion': 'entropy'}. Best is trial 175 with value: 0.9818005908916791.\n",
      "[I 2024-05-10 13:03:09,182] Trial 393 finished with value: 0.9813154138843017 and parameters: {'n_estimators': 553, 'max_depth': 31, 'min_samples_split': 2, 'min_samples_leaf': 1, 'criterion': 'entropy'}. Best is trial 175 with value: 0.9818005908916791.\n",
      "[I 2024-05-10 13:03:18,705] Trial 394 finished with value: 0.9795856864530356 and parameters: {'n_estimators': 530, 'max_depth': 29, 'min_samples_split': 3, 'min_samples_leaf': 2, 'criterion': 'entropy'}. Best is trial 175 with value: 0.9818005908916791.\n",
      "[I 2024-05-10 13:03:27,991] Trial 395 finished with value: 0.9804832660428859 and parameters: {'n_estimators': 506, 'max_depth': 32, 'min_samples_split': 4, 'min_samples_leaf': 1, 'criterion': 'entropy'}. Best is trial 175 with value: 0.9818005908916791.\n",
      "[I 2024-05-10 13:03:34,772] Trial 396 finished with value: 0.9798268399885453 and parameters: {'n_estimators': 358, 'max_depth': 26, 'min_samples_split': 2, 'min_samples_leaf': 2, 'criterion': 'entropy'}. Best is trial 175 with value: 0.9818005908916791.\n",
      "[I 2024-05-10 13:03:46,932] Trial 397 finished with value: 0.9813854828131268 and parameters: {'n_estimators': 662, 'max_depth': 45, 'min_samples_split': 3, 'min_samples_leaf': 1, 'criterion': 'entropy'}. Best is trial 175 with value: 0.9818005908916791.\n",
      "[I 2024-05-10 13:03:57,405] Trial 398 finished with value: 0.9805469911925947 and parameters: {'n_estimators': 577, 'max_depth': 28, 'min_samples_split': 4, 'min_samples_leaf': 1, 'criterion': 'entropy'}. Best is trial 175 with value: 0.9818005908916791.\n",
      "[I 2024-05-10 13:04:06,178] Trial 399 pruned. \n",
      "[I 2024-05-10 13:04:15,869] Trial 400 finished with value: 0.9802574993411955 and parameters: {'n_estimators': 527, 'max_depth': 27, 'min_samples_split': 5, 'min_samples_leaf': 1, 'criterion': 'entropy'}. Best is trial 175 with value: 0.9818005908916791.\n",
      "[I 2024-05-10 13:04:24,421] Trial 401 pruned. \n",
      "[I 2024-05-10 13:04:37,130] Trial 402 finished with value: 0.9794727448061563 and parameters: {'n_estimators': 716, 'max_depth': 26, 'min_samples_split': 3, 'min_samples_leaf': 2, 'criterion': 'entropy'}. Best is trial 175 with value: 0.9818005908916791.\n",
      "[I 2024-05-10 13:04:48,080] Trial 403 finished with value: 0.9803026821904579 and parameters: {'n_estimators': 600, 'max_depth': 33, 'min_samples_split': 4, 'min_samples_leaf': 1, 'criterion': 'entropy'}. Best is trial 175 with value: 0.9818005908916791.\n",
      "[I 2024-05-10 13:04:53,826] Trial 404 pruned. \n",
      "[I 2024-05-10 13:04:59,671] Trial 405 pruned. \n",
      "[I 2024-05-10 13:05:09,075] Trial 406 finished with value: 0.9813788270513928 and parameters: {'n_estimators': 511, 'max_depth': 31, 'min_samples_split': 2, 'min_samples_leaf': 1, 'criterion': 'entropy'}. Best is trial 175 with value: 0.9818005908916791.\n",
      "[I 2024-05-10 13:05:21,534] Trial 407 finished with value: 0.9815060007174419 and parameters: {'n_estimators': 690, 'max_depth': 24, 'min_samples_split': 3, 'min_samples_leaf': 1, 'criterion': 'entropy'}. Best is trial 175 with value: 0.9818005908916791.\n",
      "[I 2024-05-10 13:05:34,251] Trial 408 finished with value: 0.979595034111956 and parameters: {'n_estimators': 696, 'max_depth': 24, 'min_samples_split': 4, 'min_samples_leaf': 2, 'criterion': 'entropy'}. Best is trial 175 with value: 0.9818005908916791.\n",
      "[I 2024-05-10 13:05:40,484] Trial 409 pruned. \n",
      "[I 2024-05-10 13:05:52,517] Trial 410 finished with value: 0.9795896875883459 and parameters: {'n_estimators': 665, 'max_depth': 24, 'min_samples_split': 3, 'min_samples_leaf': 2, 'criterion': 'entropy'}. Best is trial 175 with value: 0.9818005908916791.\n",
      "[I 2024-05-10 13:06:04,269] Trial 411 finished with value: 0.9813243760326037 and parameters: {'n_estimators': 656, 'max_depth': 25, 'min_samples_split': 3, 'min_samples_leaf': 1, 'criterion': 'entropy'}. Best is trial 175 with value: 0.9818005908916791.\n",
      "[I 2024-05-10 13:06:19,904] Trial 412 finished with value: 0.9807269690513255 and parameters: {'n_estimators': 870, 'max_depth': 26, 'min_samples_split': 4, 'min_samples_leaf': 1, 'criterion': 'log_loss'}. Best is trial 175 with value: 0.9818005908916791.\n",
      "[I 2024-05-10 13:06:26,775] Trial 413 pruned. \n",
      "[I 2024-05-10 13:06:39,004] Trial 414 finished with value: 0.9795897994295035 and parameters: {'n_estimators': 683, 'max_depth': 23, 'min_samples_split': 3, 'min_samples_leaf': 2, 'criterion': 'entropy'}. Best is trial 175 with value: 0.9818005908916791.\n",
      "[I 2024-05-10 13:06:45,270] Trial 415 finished with value: 0.981015723722089 and parameters: {'n_estimators': 333, 'max_depth': 25, 'min_samples_split': 2, 'min_samples_leaf': 1, 'criterion': 'entropy'}. Best is trial 175 with value: 0.9818005908916791.\n",
      "[I 2024-05-10 13:06:51,313] Trial 416 pruned. \n",
      "[I 2024-05-10 13:06:57,928] Trial 417 pruned. \n",
      "[I 2024-05-10 13:07:06,721] Trial 418 finished with value: 0.980616294155023 and parameters: {'n_estimators': 477, 'max_depth': 26, 'min_samples_split': 5, 'min_samples_leaf': 1, 'criterion': 'entropy'}. Best is trial 175 with value: 0.9818005908916791.\n",
      "[I 2024-05-10 13:07:18,529] Trial 419 finished with value: 0.9782842630536944 and parameters: {'n_estimators': 667, 'max_depth': 24, 'min_samples_split': 3, 'min_samples_leaf': 3, 'criterion': 'entropy'}. Best is trial 175 with value: 0.9818005908916791.\n",
      "[I 2024-05-10 13:07:31,616] Trial 420 finished with value: 0.9804862307495285 and parameters: {'n_estimators': 702, 'max_depth': 29, 'min_samples_split': 4, 'min_samples_leaf': 1, 'criterion': 'entropy'}. Best is trial 175 with value: 0.9818005908916791.\n",
      "[I 2024-05-10 13:07:41,082] Trial 421 finished with value: 0.9793456499844119 and parameters: {'n_estimators': 524, 'max_depth': 24, 'min_samples_split': 2, 'min_samples_leaf': 2, 'criterion': 'entropy'}. Best is trial 175 with value: 0.9818005908916791.\n",
      "[I 2024-05-10 13:07:45,862] Trial 422 pruned. \n",
      "[I 2024-05-10 13:07:56,510] Trial 423 finished with value: 0.981148765088688 and parameters: {'n_estimators': 587, 'max_depth': 27, 'min_samples_split': 3, 'min_samples_leaf': 1, 'criterion': 'entropy'}. Best is trial 175 with value: 0.9818005908916791.\n",
      "[I 2024-05-10 13:08:04,573] Trial 424 pruned. \n",
      "[I 2024-05-10 13:08:16,712] Trial 425 finished with value: 0.9792917582950885 and parameters: {'n_estimators': 675, 'max_depth': 25, 'min_samples_split': 2, 'min_samples_leaf': 2, 'criterion': 'entropy'}. Best is trial 175 with value: 0.9818005908916791.\n",
      "[I 2024-05-10 13:08:26,478] Trial 426 finished with value: 0.980767602106075 and parameters: {'n_estimators': 531, 'max_depth': 22, 'min_samples_split': 2, 'min_samples_leaf': 1, 'criterion': 'entropy'}. Best is trial 175 with value: 0.9818005908916791.\n",
      "[I 2024-05-10 13:08:31,863] Trial 427 pruned. \n",
      "[I 2024-05-10 13:08:40,808] Trial 428 finished with value: 0.9797057151015304 and parameters: {'n_estimators': 469, 'max_depth': 28, 'min_samples_split': 4, 'min_samples_leaf': 2, 'criterion': 'entropy'}. Best is trial 175 with value: 0.9818005908916791.\n",
      "[I 2024-05-10 13:08:50,296] Trial 429 finished with value: 0.981015298120643 and parameters: {'n_estimators': 499, 'max_depth': 27, 'min_samples_split': 2, 'min_samples_leaf': 1, 'criterion': 'entropy'}. Best is trial 175 with value: 0.9818005908916791.\n",
      "[I 2024-05-10 13:09:01,893] Trial 430 finished with value: 0.9793508115466005 and parameters: {'n_estimators': 645, 'max_depth': 42, 'min_samples_split': 3, 'min_samples_leaf': 2, 'criterion': 'entropy'}. Best is trial 175 with value: 0.9818005908916791.\n",
      "[I 2024-05-10 13:09:12,851] Trial 431 finished with value: 0.9813301332731428 and parameters: {'n_estimators': 604, 'max_depth': 32, 'min_samples_split': 3, 'min_samples_leaf': 1, 'criterion': 'entropy'}. Best is trial 175 with value: 0.9818005908916791.\n",
      "[I 2024-05-10 13:09:22,257] Trial 432 finished with value: 0.979411914063413 and parameters: {'n_estimators': 520, 'max_depth': 30, 'min_samples_split': 2, 'min_samples_leaf': 2, 'criterion': 'entropy'}. Best is trial 175 with value: 0.9818005908916791.\n",
      "[I 2024-05-10 13:09:32,925] Trial 433 finished with value: 0.9806080365590706 and parameters: {'n_estimators': 581, 'max_depth': 26, 'min_samples_split': 4, 'min_samples_leaf': 1, 'criterion': 'log_loss'}. Best is trial 175 with value: 0.9818005908916791.\n",
      "[I 2024-05-10 13:09:41,671] Trial 434 pruned. \n",
      "[I 2024-05-10 13:09:57,711] Trial 435 finished with value: 0.9812651012046857 and parameters: {'n_estimators': 895, 'max_depth': 29, 'min_samples_split': 3, 'min_samples_leaf': 1, 'criterion': 'entropy'}. Best is trial 175 with value: 0.9818005908916791.\n",
      "[I 2024-05-10 13:10:07,705] Trial 436 finished with value: 0.9795832838534639 and parameters: {'n_estimators': 550, 'max_depth': 33, 'min_samples_split': 2, 'min_samples_leaf': 2, 'criterion': 'entropy'}. Best is trial 175 with value: 0.9818005908916791.\n",
      "[I 2024-05-10 13:10:13,768] Trial 437 pruned. \n",
      "[I 2024-05-10 13:10:24,026] Trial 438 finished with value: 0.9797689592986145 and parameters: {'n_estimators': 571, 'max_depth': 25, 'min_samples_split': 4, 'min_samples_leaf': 2, 'criterion': 'entropy'}. Best is trial 175 with value: 0.9818005908916791.\n",
      "[I 2024-05-10 13:10:33,197] Trial 439 finished with value: 0.9784566966051942 and parameters: {'n_estimators': 510, 'max_depth': 34, 'min_samples_split': 3, 'min_samples_leaf': 3, 'criterion': 'entropy'}. Best is trial 175 with value: 0.9818005908916791.\n",
      "[I 2024-05-10 13:10:42,017] Trial 440 finished with value: 0.9810113631645144 and parameters: {'n_estimators': 480, 'max_depth': 23, 'min_samples_split': 2, 'min_samples_leaf': 1, 'criterion': 'entropy'}. Best is trial 175 with value: 0.9818005908916791.\n",
      "[I 2024-05-10 13:10:51,416] Trial 441 pruned. \n",
      "[I 2024-05-10 13:11:01,179] Trial 442 finished with value: 0.979646571279684 and parameters: {'n_estimators': 531, 'max_depth': 30, 'min_samples_split': 4, 'min_samples_leaf': 2, 'criterion': 'entropy'}. Best is trial 175 with value: 0.9818005908916791.\n",
      "[I 2024-05-10 13:11:13,753] Trial 443 finished with value: 0.9815644278341601 and parameters: {'n_estimators': 695, 'max_depth': 27, 'min_samples_split': 3, 'min_samples_leaf': 1, 'criterion': 'entropy'}. Best is trial 175 with value: 0.9818005908916791.\n",
      "[I 2024-05-10 13:11:24,867] Trial 444 finished with value: 0.9792896515878919 and parameters: {'n_estimators': 618, 'max_depth': 27, 'min_samples_split': 2, 'min_samples_leaf': 2, 'criterion': 'entropy'}. Best is trial 175 with value: 0.9818005908916791.\n",
      "[I 2024-05-10 13:11:36,677] Trial 445 finished with value: 0.9806085078334321 and parameters: {'n_estimators': 645, 'max_depth': 27, 'min_samples_split': 4, 'min_samples_leaf': 1, 'criterion': 'entropy'}. Best is trial 175 with value: 0.9818005908916791.\n",
      "[I 2024-05-10 13:11:49,288] Trial 446 finished with value: 0.9812564449463796 and parameters: {'n_estimators': 696, 'max_depth': 26, 'min_samples_split': 2, 'min_samples_leaf': 1, 'criterion': 'entropy'}. Best is trial 175 with value: 0.9818005908916791.\n",
      "[I 2024-05-10 13:11:58,461] Trial 447 finished with value: 0.9813325513630863 and parameters: {'n_estimators': 493, 'max_depth': 28, 'min_samples_split': 3, 'min_samples_leaf': 1, 'criterion': 'entropy'}. Best is trial 175 with value: 0.9818005908916791.\n",
      "[I 2024-05-10 13:12:04,368] Trial 448 pruned. \n",
      "[I 2024-05-10 13:12:13,688] Trial 449 finished with value: 0.9813273382034297 and parameters: {'n_estimators': 508, 'max_depth': 26, 'min_samples_split': 3, 'min_samples_leaf': 1, 'criterion': 'entropy'}. Best is trial 175 with value: 0.9818005908916791.\n",
      "[I 2024-05-10 13:12:19,677] Trial 450 pruned. \n",
      "[I 2024-05-10 13:12:30,514] Trial 451 finished with value: 0.9797184127714867 and parameters: {'n_estimators': 602, 'max_depth': 25, 'min_samples_split': 5, 'min_samples_leaf': 2, 'criterion': 'entropy'}. Best is trial 175 with value: 0.9818005908916791.\n",
      "[I 2024-05-10 13:12:40,172] Trial 452 finished with value: 0.9811343503486623 and parameters: {'n_estimators': 524, 'max_depth': 24, 'min_samples_split': 2, 'min_samples_leaf': 1, 'criterion': 'entropy'}. Best is trial 175 with value: 0.9818005908916791.\n",
      "[I 2024-05-10 13:12:46,903] Trial 453 finished with value: 0.9807190249660745 and parameters: {'n_estimators': 358, 'max_depth': 50, 'min_samples_split': 4, 'min_samples_leaf': 1, 'criterion': 'log_loss'}. Best is trial 175 with value: 0.9818005908916791.\n",
      "[I 2024-05-10 13:12:53,813] Trial 454 finished with value: 0.9801861045178614 and parameters: {'n_estimators': 376, 'max_depth': 27, 'min_samples_split': 3, 'min_samples_leaf': 2, 'criterion': 'entropy'}. Best is trial 175 with value: 0.9818005908916791.\n",
      "[I 2024-05-10 13:12:58,209] Trial 455 pruned. \n",
      "[I 2024-05-10 13:13:09,714] Trial 456 finished with value: 0.9806537736384197 and parameters: {'n_estimators': 629, 'max_depth': 24, 'min_samples_split': 2, 'min_samples_leaf': 1, 'criterion': 'entropy'}. Best is trial 175 with value: 0.9818005908916791.\n",
      "[I 2024-05-10 13:13:21,445] Trial 457 finished with value: 0.9794708060337474 and parameters: {'n_estimators': 656, 'max_depth': 28, 'min_samples_split': 4, 'min_samples_leaf': 2, 'criterion': 'entropy'}. Best is trial 175 with value: 0.9818005908916791.\n",
      "[I 2024-05-10 13:13:31,391] Trial 458 finished with value: 0.9812642199553799 and parameters: {'n_estimators': 548, 'max_depth': 27, 'min_samples_split': 3, 'min_samples_leaf': 1, 'criterion': 'entropy'}. Best is trial 175 with value: 0.9818005908916791.\n",
      "[I 2024-05-10 13:13:40,280] Trial 459 finished with value: 0.9795296135390649 and parameters: {'n_estimators': 484, 'max_depth': 25, 'min_samples_split': 2, 'min_samples_leaf': 2, 'criterion': 'entropy'}. Best is trial 175 with value: 0.9818005908916791.\n",
      "[I 2024-05-10 13:13:48,731] Trial 460 pruned. \n",
      "[I 2024-05-10 13:14:01,158] Trial 461 finished with value: 0.980429519885816 and parameters: {'n_estimators': 689, 'max_depth': 28, 'min_samples_split': 4, 'min_samples_leaf': 1, 'criterion': 'entropy'}. Best is trial 175 with value: 0.9818005908916791.\n",
      "[I 2024-05-10 13:14:10,500] Trial 462 finished with value: 0.9813191111468468 and parameters: {'n_estimators': 514, 'max_depth': 25, 'min_samples_split': 2, 'min_samples_leaf': 1, 'criterion': 'entropy'}. Best is trial 175 with value: 0.9818005908916791.\n",
      "[I 2024-05-10 13:14:23,879] Trial 463 pruned. \n",
      "[I 2024-05-10 13:14:35,488] Trial 464 finished with value: 0.9808998939709241 and parameters: {'n_estimators': 634, 'max_depth': 23, 'min_samples_split': 3, 'min_samples_leaf': 1, 'criterion': 'entropy'}. Best is trial 175 with value: 0.9818005908916791.\n",
      "[I 2024-05-10 13:14:45,493] Trial 465 finished with value: 0.9795244318462482 and parameters: {'n_estimators': 544, 'max_depth': 33, 'min_samples_split': 3, 'min_samples_leaf': 2, 'criterion': 'entropy'}. Best is trial 175 with value: 0.9818005908916791.\n",
      "[I 2024-05-10 13:14:57,423] Trial 466 finished with value: 0.9815567700180363 and parameters: {'n_estimators': 666, 'max_depth': 29, 'min_samples_split': 2, 'min_samples_leaf': 1, 'criterion': 'entropy'}. Best is trial 175 with value: 0.9818005908916791.\n",
      "[I 2024-05-10 13:15:09,386] Trial 467 finished with value: 0.981615593431546 and parameters: {'n_estimators': 662, 'max_depth': 29, 'min_samples_split': 2, 'min_samples_leaf': 1, 'criterion': 'entropy'}. Best is trial 175 with value: 0.9818005908916791.\n",
      "[I 2024-05-10 13:15:16,047] Trial 468 pruned. \n",
      "[I 2024-05-10 13:15:27,965] Trial 469 finished with value: 0.9797122821644507 and parameters: {'n_estimators': 661, 'max_depth': 29, 'min_samples_split': 2, 'min_samples_leaf': 2, 'criterion': 'entropy'}. Best is trial 175 with value: 0.9818005908916791.\n",
      "[I 2024-05-10 13:15:40,003] Trial 470 finished with value: 0.9784665497939964 and parameters: {'n_estimators': 675, 'max_depth': 29, 'min_samples_split': 2, 'min_samples_leaf': 3, 'criterion': 'entropy'}. Best is trial 175 with value: 0.9818005908916791.\n",
      "[I 2024-05-10 13:15:51,961] Trial 471 finished with value: 0.9814979517069423 and parameters: {'n_estimators': 655, 'max_depth': 35, 'min_samples_split': 2, 'min_samples_leaf': 1, 'criterion': 'entropy'}. Best is trial 175 with value: 0.9818005908916791.\n",
      "[I 2024-05-10 13:15:58,689] Trial 472 pruned. \n",
      "[I 2024-05-10 13:16:11,329] Trial 473 finished with value: 0.9815613244491427 and parameters: {'n_estimators': 703, 'max_depth': 31, 'min_samples_split': 2, 'min_samples_leaf': 1, 'criterion': 'entropy'}. Best is trial 175 with value: 0.9818005908916791.\n",
      "[I 2024-05-10 13:16:22,809] Trial 474 finished with value: 0.9793485138860227 and parameters: {'n_estimators': 641, 'max_depth': 31, 'min_samples_split': 2, 'min_samples_leaf': 2, 'criterion': 'entropy'}. Best is trial 175 with value: 0.9818005908916791.\n",
      "[I 2024-05-10 13:16:35,525] Trial 475 finished with value: 0.97935071156676 and parameters: {'n_estimators': 703, 'max_depth': 31, 'min_samples_split': 2, 'min_samples_leaf': 2, 'criterion': 'entropy'}. Best is trial 175 with value: 0.9818005908916791.\n",
      "[I 2024-05-10 13:16:47,174] Trial 476 finished with value: 0.9814960442177352 and parameters: {'n_estimators': 646, 'max_depth': 30, 'min_samples_split': 2, 'min_samples_leaf': 1, 'criterion': 'log_loss'}. Best is trial 175 with value: 0.9818005908916791.\n",
      "[I 2024-05-10 13:16:58,357] Trial 477 finished with value: 0.9814990074273398 and parameters: {'n_estimators': 619, 'max_depth': 29, 'min_samples_split': 2, 'min_samples_leaf': 1, 'criterion': 'entropy'}. Best is trial 175 with value: 0.9818005908916791.\n",
      "[I 2024-05-10 13:17:10,508] Trial 478 finished with value: 0.9796516886071425 and parameters: {'n_estimators': 671, 'max_depth': 31, 'min_samples_split': 2, 'min_samples_leaf': 2, 'criterion': 'entropy'}. Best is trial 175 with value: 0.9818005908916791.\n",
      "[I 2024-05-10 13:17:17,257] Trial 479 pruned. \n",
      "[I 2024-05-10 13:17:23,287] Trial 480 pruned. \n",
      "[I 2024-05-10 13:17:34,762] Trial 481 finished with value: 0.9793051813609204 and parameters: {'n_estimators': 706, 'max_depth': 29, 'min_samples_split': 3, 'min_samples_leaf': 1, 'criterion': 'gini'}. Best is trial 175 with value: 0.9818005908916791.\n",
      "[I 2024-05-10 13:17:45,802] Trial 482 finished with value: 0.9792288255651747 and parameters: {'n_estimators': 604, 'max_depth': 28, 'min_samples_split': 2, 'min_samples_leaf': 2, 'criterion': 'entropy'}. Best is trial 175 with value: 0.9818005908916791.\n",
      "[I 2024-05-10 13:17:57,582] Trial 483 finished with value: 0.9786475462598041 and parameters: {'n_estimators': 662, 'max_depth': 32, 'min_samples_split': 3, 'min_samples_leaf': 3, 'criterion': 'entropy'}. Best is trial 175 with value: 0.9818005908916791.\n",
      "[I 2024-05-10 13:18:09,867] Trial 484 finished with value: 0.9812027810687265 and parameters: {'n_estimators': 681, 'max_depth': 31, 'min_samples_split': 3, 'min_samples_leaf': 1, 'criterion': 'entropy'}. Best is trial 175 with value: 0.9818005908916791.\n",
      "[I 2024-05-10 13:18:21,486] Trial 485 finished with value: 0.978467872769771 and parameters: {'n_estimators': 652, 'max_depth': 30, 'min_samples_split': 2, 'min_samples_leaf': 3, 'criterion': 'entropy'}. Best is trial 175 with value: 0.9818005908916791.\n",
      "[I 2024-05-10 13:18:34,483] Trial 486 finished with value: 0.9803142041227064 and parameters: {'n_estimators': 718, 'max_depth': 28, 'min_samples_split': 4, 'min_samples_leaf': 1, 'criterion': 'entropy'}. Best is trial 175 with value: 0.9818005908916791.\n",
      "[I 2024-05-10 13:18:46,924] Trial 487 finished with value: 0.9795317893422023 and parameters: {'n_estimators': 694, 'max_depth': 33, 'min_samples_split': 3, 'min_samples_leaf': 2, 'criterion': 'entropy'}. Best is trial 175 with value: 0.9818005908916791.\n",
      "[I 2024-05-10 13:18:58,131] Trial 488 finished with value: 0.9815600906252768 and parameters: {'n_estimators': 617, 'max_depth': 32, 'min_samples_split': 2, 'min_samples_leaf': 1, 'criterion': 'entropy'}. Best is trial 175 with value: 0.9818005908916791.\n",
      "[I 2024-05-10 13:19:09,039] Trial 489 finished with value: 0.9795908459143078 and parameters: {'n_estimators': 608, 'max_depth': 34, 'min_samples_split': 2, 'min_samples_leaf': 2, 'criterion': 'entropy'}. Best is trial 175 with value: 0.9818005908916791.\n",
      "[I 2024-05-10 13:19:15,911] Trial 490 pruned. \n",
      "[I 2024-05-10 13:19:26,978] Trial 491 finished with value: 0.9815573719201934 and parameters: {'n_estimators': 610, 'max_depth': 33, 'min_samples_split': 2, 'min_samples_leaf': 1, 'criterion': 'entropy'}. Best is trial 175 with value: 0.9818005908916791.\n",
      "[I 2024-05-10 13:19:37,632] Trial 492 finished with value: 0.9794687337183949 and parameters: {'n_estimators': 594, 'max_depth': 34, 'min_samples_split': 2, 'min_samples_leaf': 2, 'criterion': 'entropy'}. Best is trial 175 with value: 0.9818005908916791.\n",
      "[I 2024-05-10 13:19:48,779] Trial 493 finished with value: 0.9816795017283478 and parameters: {'n_estimators': 613, 'max_depth': 33, 'min_samples_split': 2, 'min_samples_leaf': 1, 'criterion': 'entropy'}. Best is trial 175 with value: 0.9818005908916791.\n",
      "[I 2024-05-10 13:19:59,884] Trial 494 finished with value: 0.979468680239003 and parameters: {'n_estimators': 611, 'max_depth': 33, 'min_samples_split': 2, 'min_samples_leaf': 2, 'criterion': 'entropy'}. Best is trial 175 with value: 0.9818005908916791.\n",
      "[I 2024-05-10 13:20:10,579] Trial 495 finished with value: 0.9814329851725798 and parameters: {'n_estimators': 586, 'max_depth': 33, 'min_samples_split': 2, 'min_samples_leaf': 1, 'criterion': 'entropy'}. Best is trial 175 with value: 0.9818005908916791.\n",
      "[I 2024-05-10 13:20:21,980] Trial 496 finished with value: 0.9814990074273398 and parameters: {'n_estimators': 631, 'max_depth': 33, 'min_samples_split': 2, 'min_samples_leaf': 1, 'criterion': 'entropy'}. Best is trial 175 with value: 0.9818005908916791.\n",
      "[I 2024-05-10 13:20:28,567] Trial 497 pruned. \n",
      "[I 2024-05-10 13:20:39,485] Trial 498 finished with value: 0.9794688335957911 and parameters: {'n_estimators': 590, 'max_depth': 32, 'min_samples_split': 3, 'min_samples_leaf': 2, 'criterion': 'entropy'}. Best is trial 175 with value: 0.9818005908916791.\n",
      "[I 2024-05-10 13:20:50,598] Trial 499 finished with value: 0.9785840435726151 and parameters: {'n_estimators': 616, 'max_depth': 34, 'min_samples_split': 2, 'min_samples_leaf': 3, 'criterion': 'log_loss'}. Best is trial 175 with value: 0.9818005908916791.\n"
     ]
    }
   ],
   "source": [
    "study_no_feat_eng.optimize(\n",
    "    objective_no_feat_eng, \n",
    "    n_trials=NUM_TRIALS,\n",
    "    timeout = 20 * 60 * 60, # timeout after 20 hours\n",
    "    show_progress_bar=True\n",
    ")"
   ]
  },
  {
   "cell_type": "code",
   "execution_count": 9,
   "metadata": {},
   "outputs": [
    {
     "name": "stdout",
     "output_type": "stream",
     "text": [
      "{'n_estimators': 391, 'max_depth': 25, 'min_samples_split': 3, 'min_samples_leaf': 1, 'criterion': 'entropy'}\n"
     ]
    }
   ],
   "source": [
    "best_params = study_no_feat_eng.best_params\n",
    "    \n",
    "print(best_params)\n",
    "\n",
    "if \"random_forest_no_feat_eng\" in config:\n",
    "    config[\"random_forest_no_feat_eng\"].update(best_params)\n",
    "else:\n",
    "    config[\"random_forest_no_feat_eng\"] = best_params\n",
    "\n",
    "# see: https://stackoverflow.com/questions/12470665/how-can-i-write-data-in-yaml-format-in-a-file\n",
    "with open(\"classical_ml_config.yaml\", \"w\") as file:\n",
    "    yaml.dump(config, file, default_flow_style=False)"
   ]
  },
  {
   "cell_type": "code",
   "execution_count": 10,
   "metadata": {},
   "outputs": [
    {
     "data": {
      "application/vnd.plotly.v1+json": {
       "config": {
        "plotlyServerURL": "https://plot.ly"
       },
       "data": [
        {
         "cliponaxis": false,
         "hovertemplate": [
          "n_estimators (IntDistribution): 0.007012439659590641<extra></extra>",
          "criterion (CategoricalDistribution): 0.026793811393017446<extra></extra>",
          "max_depth (IntDistribution): 0.047624997650845956<extra></extra>",
          "min_samples_split (IntDistribution): 0.17183454995503006<extra></extra>",
          "min_samples_leaf (IntDistribution): 0.746734201341516<extra></extra>"
         ],
         "name": "Objective Value",
         "orientation": "h",
         "text": [
          "<0.01",
          "0.03",
          "0.05",
          "0.17",
          "0.75"
         ],
         "textposition": "outside",
         "type": "bar",
         "x": [
          0.007012439659590641,
          0.026793811393017446,
          0.047624997650845956,
          0.17183454995503006,
          0.746734201341516
         ],
         "y": [
          "n_estimators",
          "criterion",
          "max_depth",
          "min_samples_split",
          "min_samples_leaf"
         ]
        }
       ],
       "layout": {
        "template": {
         "data": {
          "bar": [
           {
            "error_x": {
             "color": "#2a3f5f"
            },
            "error_y": {
             "color": "#2a3f5f"
            },
            "marker": {
             "line": {
              "color": "#E5ECF6",
              "width": 0.5
             },
             "pattern": {
              "fillmode": "overlay",
              "size": 10,
              "solidity": 0.2
             }
            },
            "type": "bar"
           }
          ],
          "barpolar": [
           {
            "marker": {
             "line": {
              "color": "#E5ECF6",
              "width": 0.5
             },
             "pattern": {
              "fillmode": "overlay",
              "size": 10,
              "solidity": 0.2
             }
            },
            "type": "barpolar"
           }
          ],
          "carpet": [
           {
            "aaxis": {
             "endlinecolor": "#2a3f5f",
             "gridcolor": "white",
             "linecolor": "white",
             "minorgridcolor": "white",
             "startlinecolor": "#2a3f5f"
            },
            "baxis": {
             "endlinecolor": "#2a3f5f",
             "gridcolor": "white",
             "linecolor": "white",
             "minorgridcolor": "white",
             "startlinecolor": "#2a3f5f"
            },
            "type": "carpet"
           }
          ],
          "choropleth": [
           {
            "colorbar": {
             "outlinewidth": 0,
             "ticks": ""
            },
            "type": "choropleth"
           }
          ],
          "contour": [
           {
            "colorbar": {
             "outlinewidth": 0,
             "ticks": ""
            },
            "colorscale": [
             [
              0,
              "#0d0887"
             ],
             [
              0.1111111111111111,
              "#46039f"
             ],
             [
              0.2222222222222222,
              "#7201a8"
             ],
             [
              0.3333333333333333,
              "#9c179e"
             ],
             [
              0.4444444444444444,
              "#bd3786"
             ],
             [
              0.5555555555555556,
              "#d8576b"
             ],
             [
              0.6666666666666666,
              "#ed7953"
             ],
             [
              0.7777777777777778,
              "#fb9f3a"
             ],
             [
              0.8888888888888888,
              "#fdca26"
             ],
             [
              1,
              "#f0f921"
             ]
            ],
            "type": "contour"
           }
          ],
          "contourcarpet": [
           {
            "colorbar": {
             "outlinewidth": 0,
             "ticks": ""
            },
            "type": "contourcarpet"
           }
          ],
          "heatmap": [
           {
            "colorbar": {
             "outlinewidth": 0,
             "ticks": ""
            },
            "colorscale": [
             [
              0,
              "#0d0887"
             ],
             [
              0.1111111111111111,
              "#46039f"
             ],
             [
              0.2222222222222222,
              "#7201a8"
             ],
             [
              0.3333333333333333,
              "#9c179e"
             ],
             [
              0.4444444444444444,
              "#bd3786"
             ],
             [
              0.5555555555555556,
              "#d8576b"
             ],
             [
              0.6666666666666666,
              "#ed7953"
             ],
             [
              0.7777777777777778,
              "#fb9f3a"
             ],
             [
              0.8888888888888888,
              "#fdca26"
             ],
             [
              1,
              "#f0f921"
             ]
            ],
            "type": "heatmap"
           }
          ],
          "heatmapgl": [
           {
            "colorbar": {
             "outlinewidth": 0,
             "ticks": ""
            },
            "colorscale": [
             [
              0,
              "#0d0887"
             ],
             [
              0.1111111111111111,
              "#46039f"
             ],
             [
              0.2222222222222222,
              "#7201a8"
             ],
             [
              0.3333333333333333,
              "#9c179e"
             ],
             [
              0.4444444444444444,
              "#bd3786"
             ],
             [
              0.5555555555555556,
              "#d8576b"
             ],
             [
              0.6666666666666666,
              "#ed7953"
             ],
             [
              0.7777777777777778,
              "#fb9f3a"
             ],
             [
              0.8888888888888888,
              "#fdca26"
             ],
             [
              1,
              "#f0f921"
             ]
            ],
            "type": "heatmapgl"
           }
          ],
          "histogram": [
           {
            "marker": {
             "pattern": {
              "fillmode": "overlay",
              "size": 10,
              "solidity": 0.2
             }
            },
            "type": "histogram"
           }
          ],
          "histogram2d": [
           {
            "colorbar": {
             "outlinewidth": 0,
             "ticks": ""
            },
            "colorscale": [
             [
              0,
              "#0d0887"
             ],
             [
              0.1111111111111111,
              "#46039f"
             ],
             [
              0.2222222222222222,
              "#7201a8"
             ],
             [
              0.3333333333333333,
              "#9c179e"
             ],
             [
              0.4444444444444444,
              "#bd3786"
             ],
             [
              0.5555555555555556,
              "#d8576b"
             ],
             [
              0.6666666666666666,
              "#ed7953"
             ],
             [
              0.7777777777777778,
              "#fb9f3a"
             ],
             [
              0.8888888888888888,
              "#fdca26"
             ],
             [
              1,
              "#f0f921"
             ]
            ],
            "type": "histogram2d"
           }
          ],
          "histogram2dcontour": [
           {
            "colorbar": {
             "outlinewidth": 0,
             "ticks": ""
            },
            "colorscale": [
             [
              0,
              "#0d0887"
             ],
             [
              0.1111111111111111,
              "#46039f"
             ],
             [
              0.2222222222222222,
              "#7201a8"
             ],
             [
              0.3333333333333333,
              "#9c179e"
             ],
             [
              0.4444444444444444,
              "#bd3786"
             ],
             [
              0.5555555555555556,
              "#d8576b"
             ],
             [
              0.6666666666666666,
              "#ed7953"
             ],
             [
              0.7777777777777778,
              "#fb9f3a"
             ],
             [
              0.8888888888888888,
              "#fdca26"
             ],
             [
              1,
              "#f0f921"
             ]
            ],
            "type": "histogram2dcontour"
           }
          ],
          "mesh3d": [
           {
            "colorbar": {
             "outlinewidth": 0,
             "ticks": ""
            },
            "type": "mesh3d"
           }
          ],
          "parcoords": [
           {
            "line": {
             "colorbar": {
              "outlinewidth": 0,
              "ticks": ""
             }
            },
            "type": "parcoords"
           }
          ],
          "pie": [
           {
            "automargin": true,
            "type": "pie"
           }
          ],
          "scatter": [
           {
            "fillpattern": {
             "fillmode": "overlay",
             "size": 10,
             "solidity": 0.2
            },
            "type": "scatter"
           }
          ],
          "scatter3d": [
           {
            "line": {
             "colorbar": {
              "outlinewidth": 0,
              "ticks": ""
             }
            },
            "marker": {
             "colorbar": {
              "outlinewidth": 0,
              "ticks": ""
             }
            },
            "type": "scatter3d"
           }
          ],
          "scattercarpet": [
           {
            "marker": {
             "colorbar": {
              "outlinewidth": 0,
              "ticks": ""
             }
            },
            "type": "scattercarpet"
           }
          ],
          "scattergeo": [
           {
            "marker": {
             "colorbar": {
              "outlinewidth": 0,
              "ticks": ""
             }
            },
            "type": "scattergeo"
           }
          ],
          "scattergl": [
           {
            "marker": {
             "colorbar": {
              "outlinewidth": 0,
              "ticks": ""
             }
            },
            "type": "scattergl"
           }
          ],
          "scattermapbox": [
           {
            "marker": {
             "colorbar": {
              "outlinewidth": 0,
              "ticks": ""
             }
            },
            "type": "scattermapbox"
           }
          ],
          "scatterpolar": [
           {
            "marker": {
             "colorbar": {
              "outlinewidth": 0,
              "ticks": ""
             }
            },
            "type": "scatterpolar"
           }
          ],
          "scatterpolargl": [
           {
            "marker": {
             "colorbar": {
              "outlinewidth": 0,
              "ticks": ""
             }
            },
            "type": "scatterpolargl"
           }
          ],
          "scatterternary": [
           {
            "marker": {
             "colorbar": {
              "outlinewidth": 0,
              "ticks": ""
             }
            },
            "type": "scatterternary"
           }
          ],
          "surface": [
           {
            "colorbar": {
             "outlinewidth": 0,
             "ticks": ""
            },
            "colorscale": [
             [
              0,
              "#0d0887"
             ],
             [
              0.1111111111111111,
              "#46039f"
             ],
             [
              0.2222222222222222,
              "#7201a8"
             ],
             [
              0.3333333333333333,
              "#9c179e"
             ],
             [
              0.4444444444444444,
              "#bd3786"
             ],
             [
              0.5555555555555556,
              "#d8576b"
             ],
             [
              0.6666666666666666,
              "#ed7953"
             ],
             [
              0.7777777777777778,
              "#fb9f3a"
             ],
             [
              0.8888888888888888,
              "#fdca26"
             ],
             [
              1,
              "#f0f921"
             ]
            ],
            "type": "surface"
           }
          ],
          "table": [
           {
            "cells": {
             "fill": {
              "color": "#EBF0F8"
             },
             "line": {
              "color": "white"
             }
            },
            "header": {
             "fill": {
              "color": "#C8D4E3"
             },
             "line": {
              "color": "white"
             }
            },
            "type": "table"
           }
          ]
         },
         "layout": {
          "annotationdefaults": {
           "arrowcolor": "#2a3f5f",
           "arrowhead": 0,
           "arrowwidth": 1
          },
          "autotypenumbers": "strict",
          "coloraxis": {
           "colorbar": {
            "outlinewidth": 0,
            "ticks": ""
           }
          },
          "colorscale": {
           "diverging": [
            [
             0,
             "#8e0152"
            ],
            [
             0.1,
             "#c51b7d"
            ],
            [
             0.2,
             "#de77ae"
            ],
            [
             0.3,
             "#f1b6da"
            ],
            [
             0.4,
             "#fde0ef"
            ],
            [
             0.5,
             "#f7f7f7"
            ],
            [
             0.6,
             "#e6f5d0"
            ],
            [
             0.7,
             "#b8e186"
            ],
            [
             0.8,
             "#7fbc41"
            ],
            [
             0.9,
             "#4d9221"
            ],
            [
             1,
             "#276419"
            ]
           ],
           "sequential": [
            [
             0,
             "#0d0887"
            ],
            [
             0.1111111111111111,
             "#46039f"
            ],
            [
             0.2222222222222222,
             "#7201a8"
            ],
            [
             0.3333333333333333,
             "#9c179e"
            ],
            [
             0.4444444444444444,
             "#bd3786"
            ],
            [
             0.5555555555555556,
             "#d8576b"
            ],
            [
             0.6666666666666666,
             "#ed7953"
            ],
            [
             0.7777777777777778,
             "#fb9f3a"
            ],
            [
             0.8888888888888888,
             "#fdca26"
            ],
            [
             1,
             "#f0f921"
            ]
           ],
           "sequentialminus": [
            [
             0,
             "#0d0887"
            ],
            [
             0.1111111111111111,
             "#46039f"
            ],
            [
             0.2222222222222222,
             "#7201a8"
            ],
            [
             0.3333333333333333,
             "#9c179e"
            ],
            [
             0.4444444444444444,
             "#bd3786"
            ],
            [
             0.5555555555555556,
             "#d8576b"
            ],
            [
             0.6666666666666666,
             "#ed7953"
            ],
            [
             0.7777777777777778,
             "#fb9f3a"
            ],
            [
             0.8888888888888888,
             "#fdca26"
            ],
            [
             1,
             "#f0f921"
            ]
           ]
          },
          "colorway": [
           "#636efa",
           "#EF553B",
           "#00cc96",
           "#ab63fa",
           "#FFA15A",
           "#19d3f3",
           "#FF6692",
           "#B6E880",
           "#FF97FF",
           "#FECB52"
          ],
          "font": {
           "color": "#2a3f5f"
          },
          "geo": {
           "bgcolor": "white",
           "lakecolor": "white",
           "landcolor": "#E5ECF6",
           "showlakes": true,
           "showland": true,
           "subunitcolor": "white"
          },
          "hoverlabel": {
           "align": "left"
          },
          "hovermode": "closest",
          "mapbox": {
           "style": "light"
          },
          "paper_bgcolor": "white",
          "plot_bgcolor": "#E5ECF6",
          "polar": {
           "angularaxis": {
            "gridcolor": "white",
            "linecolor": "white",
            "ticks": ""
           },
           "bgcolor": "#E5ECF6",
           "radialaxis": {
            "gridcolor": "white",
            "linecolor": "white",
            "ticks": ""
           }
          },
          "scene": {
           "xaxis": {
            "backgroundcolor": "#E5ECF6",
            "gridcolor": "white",
            "gridwidth": 2,
            "linecolor": "white",
            "showbackground": true,
            "ticks": "",
            "zerolinecolor": "white"
           },
           "yaxis": {
            "backgroundcolor": "#E5ECF6",
            "gridcolor": "white",
            "gridwidth": 2,
            "linecolor": "white",
            "showbackground": true,
            "ticks": "",
            "zerolinecolor": "white"
           },
           "zaxis": {
            "backgroundcolor": "#E5ECF6",
            "gridcolor": "white",
            "gridwidth": 2,
            "linecolor": "white",
            "showbackground": true,
            "ticks": "",
            "zerolinecolor": "white"
           }
          },
          "shapedefaults": {
           "line": {
            "color": "#2a3f5f"
           }
          },
          "ternary": {
           "aaxis": {
            "gridcolor": "white",
            "linecolor": "white",
            "ticks": ""
           },
           "baxis": {
            "gridcolor": "white",
            "linecolor": "white",
            "ticks": ""
           },
           "bgcolor": "#E5ECF6",
           "caxis": {
            "gridcolor": "white",
            "linecolor": "white",
            "ticks": ""
           }
          },
          "title": {
           "x": 0.05
          },
          "xaxis": {
           "automargin": true,
           "gridcolor": "white",
           "linecolor": "white",
           "ticks": "",
           "title": {
            "standoff": 15
           },
           "zerolinecolor": "white",
           "zerolinewidth": 2
          },
          "yaxis": {
           "automargin": true,
           "gridcolor": "white",
           "linecolor": "white",
           "ticks": "",
           "title": {
            "standoff": 15
           },
           "zerolinecolor": "white",
           "zerolinewidth": 2
          }
         }
        },
        "title": {
         "text": "Hyperparameter Importances"
        },
        "xaxis": {
         "title": {
          "text": "Hyperparameter Importance"
         }
        },
        "yaxis": {
         "title": {
          "text": "Hyperparameter"
         }
        }
       }
      }
     },
     "metadata": {},
     "output_type": "display_data"
    }
   ],
   "source": [
    "p_importance_no_feat_eng = optuna.visualization.plot_param_importances(study_no_feat_eng)\n",
    "p_importance_no_feat_eng.show()"
   ]
  },
  {
   "cell_type": "code",
   "execution_count": 11,
   "metadata": {},
   "outputs": [
    {
     "data": {
      "application/vnd.plotly.v1+json": {
       "config": {
        "plotlyServerURL": "https://plot.ly"
       },
       "data": [
        {
         "mode": "markers",
         "name": "Objective Value",
         "type": "scatter",
         "x": [
          0,
          1,
          2,
          3,
          4,
          5,
          6,
          7,
          8,
          9,
          10,
          11,
          12,
          13,
          14,
          15,
          16,
          17,
          18,
          19,
          20,
          21,
          22,
          23,
          24,
          25,
          26,
          27,
          31,
          32,
          33,
          34,
          40,
          41,
          42,
          43,
          44,
          45,
          46,
          49,
          51,
          52,
          53,
          54,
          55,
          56,
          57,
          58,
          60,
          61,
          62,
          63,
          64,
          65,
          66,
          68,
          69,
          71,
          72,
          73,
          74,
          75,
          78,
          80,
          81,
          82,
          83,
          84,
          85,
          86,
          87,
          88,
          90,
          91,
          92,
          93,
          94,
          95,
          96,
          97,
          98,
          99,
          100,
          101,
          102,
          103,
          104,
          105,
          106,
          107,
          108,
          109,
          110,
          111,
          112,
          113,
          114,
          115,
          116,
          117,
          119,
          120,
          121,
          122,
          123,
          124,
          125,
          129,
          130,
          131,
          132,
          133,
          134,
          135,
          137,
          138,
          139,
          140,
          141,
          142,
          143,
          144,
          145,
          146,
          147,
          148,
          149,
          150,
          151,
          152,
          153,
          154,
          155,
          156,
          157,
          158,
          159,
          161,
          162,
          163,
          164,
          165,
          166,
          167,
          168,
          170,
          171,
          173,
          174,
          175,
          176,
          177,
          178,
          179,
          181,
          182,
          183,
          184,
          185,
          186,
          187,
          188,
          190,
          191,
          192,
          193,
          194,
          195,
          199,
          200,
          201,
          202,
          203,
          204,
          205,
          206,
          207,
          208,
          209,
          211,
          212,
          214,
          215,
          217,
          218,
          219,
          220,
          221,
          222,
          223,
          224,
          225,
          226,
          227,
          229,
          230,
          231,
          232,
          233,
          234,
          235,
          236,
          237,
          238,
          239,
          240,
          241,
          242,
          243,
          244,
          245,
          246,
          247,
          248,
          249,
          250,
          251,
          252,
          253,
          254,
          255,
          256,
          258,
          259,
          261,
          262,
          264,
          265,
          266,
          267,
          268,
          269,
          270,
          271,
          273,
          274,
          275,
          276,
          277,
          279,
          280,
          283,
          284,
          285,
          286,
          288,
          289,
          290,
          291,
          292,
          293,
          294,
          295,
          296,
          297,
          298,
          299,
          303,
          304,
          305,
          306,
          307,
          308,
          309,
          310,
          311,
          312,
          315,
          316,
          317,
          318,
          319,
          320,
          323,
          324,
          325,
          326,
          329,
          330,
          331,
          332,
          333,
          334,
          335,
          336,
          337,
          338,
          339,
          340,
          341,
          342,
          343,
          346,
          347,
          348,
          349,
          350,
          352,
          353,
          354,
          355,
          358,
          359,
          360,
          361,
          362,
          363,
          365,
          366,
          367,
          368,
          369,
          370,
          371,
          372,
          373,
          374,
          376,
          377,
          378,
          379,
          380,
          381,
          382,
          384,
          385,
          389,
          392,
          393,
          394,
          395,
          396,
          397,
          398,
          400,
          402,
          403,
          406,
          407,
          408,
          410,
          411,
          412,
          414,
          415,
          418,
          419,
          420,
          421,
          423,
          425,
          426,
          428,
          429,
          430,
          431,
          432,
          433,
          435,
          436,
          438,
          439,
          440,
          442,
          443,
          444,
          445,
          446,
          447,
          449,
          451,
          452,
          453,
          454,
          456,
          457,
          458,
          459,
          461,
          462,
          464,
          465,
          466,
          467,
          469,
          470,
          471,
          473,
          474,
          475,
          476,
          477,
          478,
          481,
          482,
          483,
          484,
          485,
          486,
          487,
          488,
          489,
          491,
          492,
          493,
          494,
          495,
          496,
          498,
          499
         ],
         "y": [
          0.9532119724290524,
          0.972841631428144,
          0.9597617704996864,
          0.9583604988987255,
          0.9442334595456214,
          0.955480170018203,
          0.9554679362801008,
          0.946431711337237,
          0.9664306314241891,
          0.9727436285378473,
          0.9722395841163618,
          0.9755165954743401,
          0.9710348150807668,
          0.9631584922538124,
          0.9654940463610945,
          0.9717187385678269,
          0.9452898632064309,
          0.9776476932402453,
          0.9617889408758138,
          0.9730860774482831,
          0.9738587230805263,
          0.9737931898233534,
          0.9761963871247265,
          0.9682334867677118,
          0.9762269517105759,
          0.9743424671857485,
          0.9733908389691577,
          0.9725199281781152,
          0.975225377573094,
          0.9737852617108235,
          0.9742503678158261,
          0.9763396286524539,
          0.9738045514733653,
          0.9724748378218191,
          0.9729678882929301,
          0.9719621695742212,
          0.9759263553692143,
          0.9738713093728595,
          0.976694274573523,
          0.9801276752972269,
          0.9800267758345207,
          0.9801839421351835,
          0.9801868538330482,
          0.9738006234400073,
          0.9804979704352446,
          0.9785821150372378,
          0.9727304107734203,
          0.975813992843016,
          0.975094335209822,
          0.9769998148482454,
          0.9796039257286854,
          0.9796706689292503,
          0.979239413492109,
          0.976535143579252,
          0.979661845813409,
          0.975202647707429,
          0.9759295037281055,
          0.9789894410488131,
          0.9791212626542336,
          0.9758081139730098,
          0.9738076335628689,
          0.9774514491311319,
          0.978773586576767,
          0.97635240633652,
          0.9791142503553338,
          0.9792497908937495,
          0.979912270952517,
          0.9783456414646702,
          0.9812085354728483,
          0.9812083102946529,
          0.9809630923464061,
          0.9810207570325419,
          0.981387402913418,
          0.9807100611121387,
          0.9802192452840188,
          0.9799740788809421,
          0.9805849000585776,
          0.9808270788655928,
          0.980766388668332,
          0.9780441462772835,
          0.9810697662271742,
          0.9807097452375766,
          0.9809601776517365,
          0.980955757132574,
          0.9784032057948628,
          0.9810793323898807,
          0.9782840237378888,
          0.9813161833448125,
          0.9768304140890729,
          0.9813780569935151,
          0.9754494454858508,
          0.978711346502965,
          0.978161766888823,
          0.9816149334298562,
          0.9808453389904861,
          0.9800668604629162,
          0.9809027771001235,
          0.9789083381387277,
          0.9767655455467754,
          0.978166287425236,
          0.9799489177721705,
          0.9765883493142896,
          0.9806024590194434,
          0.9809638365093016,
          0.979581197488234,
          0.9807973398679163,
          0.9794703572726748,
          0.9804194285994761,
          0.979586401377127,
          0.9808998642832722,
          0.9790854614146337,
          0.9805303455649728,
          0.9811882718201248,
          0.9781036625030165,
          0.9795933337686318,
          0.9806030853123662,
          0.9796499923629678,
          0.9781551123473591,
          0.9809027872498882,
          0.9807243746684702,
          0.980892413777639,
          0.9791013449202648,
          0.9813827917050737,
          0.9797619573339729,
          0.9779237100428759,
          0.9807823946847897,
          0.9796460863923565,
          0.9783440265711398,
          0.9810246911443002,
          0.9806576696762551,
          0.9810778800256814,
          0.9806463759693091,
          0.9790959617594581,
          0.9797036111620134,
          0.9813761913419542,
          0.9785229290172033,
          0.9798232510316774,
          0.9810825576194757,
          0.9811996714981428,
          0.9811390716554607,
          0.9798283708562913,
          0.9806638194814793,
          0.9795225093728754,
          0.9808260515906915,
          0.9784005627341905,
          0.9796448956676551,
          0.981134476090668,
          0.9808334886956027,
          0.9794556504428229,
          0.9818005908916791,
          0.981204216321118,
          0.9799449522273338,
          0.9813852378736542,
          0.9785917699089524,
          0.9805806501977598,
          0.9805284438694265,
          0.9803591364789191,
          0.9798258874953081,
          0.9804062530611851,
          0.9795877976650068,
          0.9806144196756309,
          0.9806019125732768,
          0.9796488964691541,
          0.9808998642832722,
          0.9812531492104357,
          0.9795813721922901,
          0.9806483338362517,
          0.9807234181010793,
          0.9803078765485165,
          0.9805314326718817,
          0.9811435452990922,
          0.9810802647511487,
          0.980829059319395,
          0.9790415086170879,
          0.9813801718897327,
          0.9782274001022315,
          0.9812584955224757,
          0.9813808487351153,
          0.9796378233703071,
          0.9816842740549154,
          0.9808265082578066,
          0.9814394539886871,
          0.9798223261248374,
          0.9812612854118266,
          0.9795888513182203,
          0.9796439593401487,
          0.9803057155194527,
          0.9816826685091378,
          0.9816171035260914,
          0.981561317606561,
          0.9793434100138727,
          0.9813148004809488,
          0.9816834134636361,
          0.9804221158378006,
          0.981447195107753,
          0.9795269015059322,
          0.9812664470747992,
          0.9803638006306246,
          0.9815674205257476,
          0.980557205759719,
          0.9797098908287569,
          0.9805458996291199,
          0.9813250985954992,
          0.9795291976924686,
          0.9805476680251385,
          0.9785311735604628,
          0.9813233859220343,
          0.9815058444389662,
          0.9795930676140945,
          0.9814446798102449,
          0.9804842943010801,
          0.9813275195719484,
          0.9796490699862043,
          0.979539258963203,
          0.9805449891452496,
          0.9815104751353726,
          0.9794072153795457,
          0.9812661120663424,
          0.9815058444389662,
          0.979346060926692,
          0.9812692378290733,
          0.9796510247974923,
          0.9783499548410808,
          0.9794706273353025,
          0.9813253371724044,
          0.9812641033431996,
          0.9794118374733453,
          0.978289360547165,
          0.9804230790589376,
          0.9817453927504711,
          0.9815628819593869,
          0.9796489040754455,
          0.9796435208099918,
          0.981501966737091,
          0.9796535513908127,
          0.9813309978772381,
          0.9812687011699888,
          0.9807148469647157,
          0.9797687946195476,
          0.9795857817624392,
          0.9789882731184208,
          0.9795884974293356,
          0.9814330788979724,
          0.9794704666348844,
          0.9814325137581648,
          0.978464137629872,
          0.9814500307328876,
          0.9804889584968673,
          0.9792263858669795,
          0.981386941324697,
          0.9803059514993997,
          0.9800200883733124,
          0.9792890057586974,
          0.9803728906700471,
          0.9815130990809111,
          0.9783446106474045,
          0.9795907998117611,
          0.9814472007846321,
          0.9813890246907434,
          0.9817983752048395,
          0.9795343401189444,
          0.9817395517913298,
          0.9816766414082381,
          0.9795907659914439,
          0.9785252911539113,
          0.9816746299154463,
          0.9795927764556364,
          0.9814471411636522,
          0.9795319233439453,
          0.9815040041072314,
          0.9813281493453111,
          0.9784662039468234,
          0.9794098085185396,
          0.9815041934259711,
          0.9815032029511176,
          0.9785221184025336,
          0.9795294168658092,
          0.9793483315160136,
          0.9803666776751339,
          0.9795959191016756,
          0.9814465981686894,
          0.9814472042817745,
          0.9797765239118179,
          0.9785778547694607,
          0.9803620689372581,
          0.97934816967511,
          0.9814475218178449,
          0.9794702346134778,
          0.9815599841944349,
          0.9794097868838415,
          0.9814991869781862,
          0.981317027823548,
          0.9784675797634605,
          0.9794683915480974,
          0.9813257449555401,
          0.98143693961891,
          0.9814473071735733,
          0.9813150610743737,
          0.9795317024887653,
          0.9814493926364953,
          0.9792265357703274,
          0.981322649223378,
          0.9794097868838415,
          0.9796515797229995,
          0.9815674637053163,
          0.9805450976055905,
          0.9798386017912456,
          0.9802710252047546,
          0.9816868277667103,
          0.9796467928305959,
          0.9815654710972741,
          0.9795343176124917,
          0.9801857283038409,
          0.9813866609186253,
          0.9786416327613742,
          0.9816289057267144,
          0.9794656794275441,
          0.9788285909785657,
          0.9794703274615673,
          0.9814475029122572,
          0.9795878096275805,
          0.9785803485422029,
          0.9803762201955797,
          0.9813110956654922,
          0.9796465380737341,
          0.9811937495602319,
          0.9794729520115524,
          0.9804229084702321,
          0.9813154138843017,
          0.9795856864530356,
          0.9804832660428859,
          0.9798268399885453,
          0.9813854828131268,
          0.9805469911925947,
          0.9802574993411955,
          0.9794727448061563,
          0.9803026821904579,
          0.9813788270513928,
          0.9815060007174419,
          0.979595034111956,
          0.9795896875883459,
          0.9813243760326037,
          0.9807269690513255,
          0.9795897994295035,
          0.981015723722089,
          0.980616294155023,
          0.9782842630536944,
          0.9804862307495285,
          0.9793456499844119,
          0.981148765088688,
          0.9792917582950885,
          0.980767602106075,
          0.9797057151015304,
          0.981015298120643,
          0.9793508115466005,
          0.9813301332731428,
          0.979411914063413,
          0.9806080365590706,
          0.9812651012046857,
          0.9795832838534639,
          0.9797689592986145,
          0.9784566966051942,
          0.9810113631645144,
          0.979646571279684,
          0.9815644278341601,
          0.9792896515878919,
          0.9806085078334321,
          0.9812564449463796,
          0.9813325513630863,
          0.9813273382034297,
          0.9797184127714867,
          0.9811343503486623,
          0.9807190249660745,
          0.9801861045178614,
          0.9806537736384197,
          0.9794708060337474,
          0.9812642199553799,
          0.9795296135390649,
          0.980429519885816,
          0.9813191111468468,
          0.9808998939709241,
          0.9795244318462482,
          0.9815567700180363,
          0.981615593431546,
          0.9797122821644507,
          0.9784665497939964,
          0.9814979517069423,
          0.9815613244491427,
          0.9793485138860227,
          0.97935071156676,
          0.9814960442177352,
          0.9814990074273398,
          0.9796516886071425,
          0.9793051813609204,
          0.9792288255651747,
          0.9786475462598041,
          0.9812027810687265,
          0.978467872769771,
          0.9803142041227064,
          0.9795317893422023,
          0.9815600906252768,
          0.9795908459143078,
          0.9815573719201934,
          0.9794687337183949,
          0.9816795017283478,
          0.979468680239003,
          0.9814329851725798,
          0.9814990074273398,
          0.9794688335957911,
          0.9785840435726151
         ]
        },
        {
         "mode": "lines",
         "name": "Best Value",
         "type": "scatter",
         "x": [
          0,
          1,
          2,
          3,
          4,
          5,
          6,
          7,
          8,
          9,
          10,
          11,
          12,
          13,
          14,
          15,
          16,
          17,
          18,
          19,
          20,
          21,
          22,
          23,
          24,
          25,
          26,
          27,
          28,
          29,
          30,
          31,
          32,
          33,
          34,
          35,
          36,
          37,
          38,
          39,
          40,
          41,
          42,
          43,
          44,
          45,
          46,
          47,
          48,
          49,
          50,
          51,
          52,
          53,
          54,
          55,
          56,
          57,
          58,
          59,
          60,
          61,
          62,
          63,
          64,
          65,
          66,
          67,
          68,
          69,
          70,
          71,
          72,
          73,
          74,
          75,
          76,
          77,
          78,
          79,
          80,
          81,
          82,
          83,
          84,
          85,
          86,
          87,
          88,
          89,
          90,
          91,
          92,
          93,
          94,
          95,
          96,
          97,
          98,
          99,
          100,
          101,
          102,
          103,
          104,
          105,
          106,
          107,
          108,
          109,
          110,
          111,
          112,
          113,
          114,
          115,
          116,
          117,
          118,
          119,
          120,
          121,
          122,
          123,
          124,
          125,
          126,
          127,
          128,
          129,
          130,
          131,
          132,
          133,
          134,
          135,
          136,
          137,
          138,
          139,
          140,
          141,
          142,
          143,
          144,
          145,
          146,
          147,
          148,
          149,
          150,
          151,
          152,
          153,
          154,
          155,
          156,
          157,
          158,
          159,
          160,
          161,
          162,
          163,
          164,
          165,
          166,
          167,
          168,
          169,
          170,
          171,
          172,
          173,
          174,
          175,
          176,
          177,
          178,
          179,
          180,
          181,
          182,
          183,
          184,
          185,
          186,
          187,
          188,
          189,
          190,
          191,
          192,
          193,
          194,
          195,
          196,
          197,
          198,
          199,
          200,
          201,
          202,
          203,
          204,
          205,
          206,
          207,
          208,
          209,
          210,
          211,
          212,
          213,
          214,
          215,
          216,
          217,
          218,
          219,
          220,
          221,
          222,
          223,
          224,
          225,
          226,
          227,
          228,
          229,
          230,
          231,
          232,
          233,
          234,
          235,
          236,
          237,
          238,
          239,
          240,
          241,
          242,
          243,
          244,
          245,
          246,
          247,
          248,
          249,
          250,
          251,
          252,
          253,
          254,
          255,
          256,
          257,
          258,
          259,
          260,
          261,
          262,
          263,
          264,
          265,
          266,
          267,
          268,
          269,
          270,
          271,
          272,
          273,
          274,
          275,
          276,
          277,
          278,
          279,
          280,
          281,
          282,
          283,
          284,
          285,
          286,
          287,
          288,
          289,
          290,
          291,
          292,
          293,
          294,
          295,
          296,
          297,
          298,
          299,
          300,
          301,
          302,
          303,
          304,
          305,
          306,
          307,
          308,
          309,
          310,
          311,
          312,
          313,
          314,
          315,
          316,
          317,
          318,
          319,
          320,
          321,
          322,
          323,
          324,
          325,
          326,
          327,
          328,
          329,
          330,
          331,
          332,
          333,
          334,
          335,
          336,
          337,
          338,
          339,
          340,
          341,
          342,
          343,
          344,
          345,
          346,
          347,
          348,
          349,
          350,
          351,
          352,
          353,
          354,
          355,
          356,
          357,
          358,
          359,
          360,
          361,
          362,
          363,
          364,
          365,
          366,
          367,
          368,
          369,
          370,
          371,
          372,
          373,
          374,
          375,
          376,
          377,
          378,
          379,
          380,
          381,
          382,
          383,
          384,
          385,
          386,
          387,
          388,
          389,
          390,
          391,
          392,
          393,
          394,
          395,
          396,
          397,
          398,
          399,
          400,
          401,
          402,
          403,
          404,
          405,
          406,
          407,
          408,
          409,
          410,
          411,
          412,
          413,
          414,
          415,
          416,
          417,
          418,
          419,
          420,
          421,
          422,
          423,
          424,
          425,
          426,
          427,
          428,
          429,
          430,
          431,
          432,
          433,
          434,
          435,
          436,
          437,
          438,
          439,
          440,
          441,
          442,
          443,
          444,
          445,
          446,
          447,
          448,
          449,
          450,
          451,
          452,
          453,
          454,
          455,
          456,
          457,
          458,
          459,
          460,
          461,
          462,
          463,
          464,
          465,
          466,
          467,
          468,
          469,
          470,
          471,
          472,
          473,
          474,
          475,
          476,
          477,
          478,
          479,
          480,
          481,
          482,
          483,
          484,
          485,
          486,
          487,
          488,
          489,
          490,
          491,
          492,
          493,
          494,
          495,
          496,
          497,
          498,
          499
         ],
         "y": [
          0.9532119724290524,
          0.972841631428144,
          0.972841631428144,
          0.972841631428144,
          0.972841631428144,
          0.972841631428144,
          0.972841631428144,
          0.972841631428144,
          0.972841631428144,
          0.972841631428144,
          0.972841631428144,
          0.9755165954743401,
          0.9755165954743401,
          0.9755165954743401,
          0.9755165954743401,
          0.9755165954743401,
          0.9755165954743401,
          0.9776476932402453,
          0.9776476932402453,
          0.9776476932402453,
          0.9776476932402453,
          0.9776476932402453,
          0.9776476932402453,
          0.9776476932402453,
          0.9776476932402453,
          0.9776476932402453,
          0.9776476932402453,
          0.9776476932402453,
          0.9776476932402453,
          0.9776476932402453,
          0.9776476932402453,
          0.9776476932402453,
          0.9776476932402453,
          0.9776476932402453,
          0.9776476932402453,
          0.9776476932402453,
          0.9776476932402453,
          0.9776476932402453,
          0.9776476932402453,
          0.9776476932402453,
          0.9776476932402453,
          0.9776476932402453,
          0.9776476932402453,
          0.9776476932402453,
          0.9776476932402453,
          0.9776476932402453,
          0.9776476932402453,
          0.9776476932402453,
          0.9776476932402453,
          0.9801276752972269,
          0.9801276752972269,
          0.9801276752972269,
          0.9801839421351835,
          0.9801868538330482,
          0.9801868538330482,
          0.9804979704352446,
          0.9804979704352446,
          0.9804979704352446,
          0.9804979704352446,
          0.9804979704352446,
          0.9804979704352446,
          0.9804979704352446,
          0.9804979704352446,
          0.9804979704352446,
          0.9804979704352446,
          0.9804979704352446,
          0.9804979704352446,
          0.9804979704352446,
          0.9804979704352446,
          0.9804979704352446,
          0.9804979704352446,
          0.9804979704352446,
          0.9804979704352446,
          0.9804979704352446,
          0.9804979704352446,
          0.9804979704352446,
          0.9804979704352446,
          0.9804979704352446,
          0.9804979704352446,
          0.9804979704352446,
          0.9804979704352446,
          0.9804979704352446,
          0.9804979704352446,
          0.9804979704352446,
          0.9804979704352446,
          0.9812085354728483,
          0.9812085354728483,
          0.9812085354728483,
          0.9812085354728483,
          0.9812085354728483,
          0.981387402913418,
          0.981387402913418,
          0.981387402913418,
          0.981387402913418,
          0.981387402913418,
          0.981387402913418,
          0.981387402913418,
          0.981387402913418,
          0.981387402913418,
          0.981387402913418,
          0.981387402913418,
          0.981387402913418,
          0.981387402913418,
          0.981387402913418,
          0.981387402913418,
          0.981387402913418,
          0.981387402913418,
          0.981387402913418,
          0.981387402913418,
          0.981387402913418,
          0.981387402913418,
          0.9816149334298562,
          0.9816149334298562,
          0.9816149334298562,
          0.9816149334298562,
          0.9816149334298562,
          0.9816149334298562,
          0.9816149334298562,
          0.9816149334298562,
          0.9816149334298562,
          0.9816149334298562,
          0.9816149334298562,
          0.9816149334298562,
          0.9816149334298562,
          0.9816149334298562,
          0.9816149334298562,
          0.9816149334298562,
          0.9816149334298562,
          0.9816149334298562,
          0.9816149334298562,
          0.9816149334298562,
          0.9816149334298562,
          0.9816149334298562,
          0.9816149334298562,
          0.9816149334298562,
          0.9816149334298562,
          0.9816149334298562,
          0.9816149334298562,
          0.9816149334298562,
          0.9816149334298562,
          0.9816149334298562,
          0.9816149334298562,
          0.9816149334298562,
          0.9816149334298562,
          0.9816149334298562,
          0.9816149334298562,
          0.9816149334298562,
          0.9816149334298562,
          0.9816149334298562,
          0.9816149334298562,
          0.9816149334298562,
          0.9816149334298562,
          0.9816149334298562,
          0.9816149334298562,
          0.9816149334298562,
          0.9816149334298562,
          0.9816149334298562,
          0.9816149334298562,
          0.9816149334298562,
          0.9816149334298562,
          0.9816149334298562,
          0.9816149334298562,
          0.9816149334298562,
          0.9816149334298562,
          0.9816149334298562,
          0.9816149334298562,
          0.9816149334298562,
          0.9816149334298562,
          0.9816149334298562,
          0.9816149334298562,
          0.9816149334298562,
          0.9816149334298562,
          0.9816149334298562,
          0.9816149334298562,
          0.9816149334298562,
          0.9818005908916791,
          0.9818005908916791,
          0.9818005908916791,
          0.9818005908916791,
          0.9818005908916791,
          0.9818005908916791,
          0.9818005908916791,
          0.9818005908916791,
          0.9818005908916791,
          0.9818005908916791,
          0.9818005908916791,
          0.9818005908916791,
          0.9818005908916791,
          0.9818005908916791,
          0.9818005908916791,
          0.9818005908916791,
          0.9818005908916791,
          0.9818005908916791,
          0.9818005908916791,
          0.9818005908916791,
          0.9818005908916791,
          0.9818005908916791,
          0.9818005908916791,
          0.9818005908916791,
          0.9818005908916791,
          0.9818005908916791,
          0.9818005908916791,
          0.9818005908916791,
          0.9818005908916791,
          0.9818005908916791,
          0.9818005908916791,
          0.9818005908916791,
          0.9818005908916791,
          0.9818005908916791,
          0.9818005908916791,
          0.9818005908916791,
          0.9818005908916791,
          0.9818005908916791,
          0.9818005908916791,
          0.9818005908916791,
          0.9818005908916791,
          0.9818005908916791,
          0.9818005908916791,
          0.9818005908916791,
          0.9818005908916791,
          0.9818005908916791,
          0.9818005908916791,
          0.9818005908916791,
          0.9818005908916791,
          0.9818005908916791,
          0.9818005908916791,
          0.9818005908916791,
          0.9818005908916791,
          0.9818005908916791,
          0.9818005908916791,
          0.9818005908916791,
          0.9818005908916791,
          0.9818005908916791,
          0.9818005908916791,
          0.9818005908916791,
          0.9818005908916791,
          0.9818005908916791,
          0.9818005908916791,
          0.9818005908916791,
          0.9818005908916791,
          0.9818005908916791,
          0.9818005908916791,
          0.9818005908916791,
          0.9818005908916791,
          0.9818005908916791,
          0.9818005908916791,
          0.9818005908916791,
          0.9818005908916791,
          0.9818005908916791,
          0.9818005908916791,
          0.9818005908916791,
          0.9818005908916791,
          0.9818005908916791,
          0.9818005908916791,
          0.9818005908916791,
          0.9818005908916791,
          0.9818005908916791,
          0.9818005908916791,
          0.9818005908916791,
          0.9818005908916791,
          0.9818005908916791,
          0.9818005908916791,
          0.9818005908916791,
          0.9818005908916791,
          0.9818005908916791,
          0.9818005908916791,
          0.9818005908916791,
          0.9818005908916791,
          0.9818005908916791,
          0.9818005908916791,
          0.9818005908916791,
          0.9818005908916791,
          0.9818005908916791,
          0.9818005908916791,
          0.9818005908916791,
          0.9818005908916791,
          0.9818005908916791,
          0.9818005908916791,
          0.9818005908916791,
          0.9818005908916791,
          0.9818005908916791,
          0.9818005908916791,
          0.9818005908916791,
          0.9818005908916791,
          0.9818005908916791,
          0.9818005908916791,
          0.9818005908916791,
          0.9818005908916791,
          0.9818005908916791,
          0.9818005908916791,
          0.9818005908916791,
          0.9818005908916791,
          0.9818005908916791,
          0.9818005908916791,
          0.9818005908916791,
          0.9818005908916791,
          0.9818005908916791,
          0.9818005908916791,
          0.9818005908916791,
          0.9818005908916791,
          0.9818005908916791,
          0.9818005908916791,
          0.9818005908916791,
          0.9818005908916791,
          0.9818005908916791,
          0.9818005908916791,
          0.9818005908916791,
          0.9818005908916791,
          0.9818005908916791,
          0.9818005908916791,
          0.9818005908916791,
          0.9818005908916791,
          0.9818005908916791,
          0.9818005908916791,
          0.9818005908916791,
          0.9818005908916791,
          0.9818005908916791,
          0.9818005908916791,
          0.9818005908916791,
          0.9818005908916791,
          0.9818005908916791,
          0.9818005908916791,
          0.9818005908916791,
          0.9818005908916791,
          0.9818005908916791,
          0.9818005908916791,
          0.9818005908916791,
          0.9818005908916791,
          0.9818005908916791,
          0.9818005908916791,
          0.9818005908916791,
          0.9818005908916791,
          0.9818005908916791,
          0.9818005908916791,
          0.9818005908916791,
          0.9818005908916791,
          0.9818005908916791,
          0.9818005908916791,
          0.9818005908916791,
          0.9818005908916791,
          0.9818005908916791,
          0.9818005908916791,
          0.9818005908916791,
          0.9818005908916791,
          0.9818005908916791,
          0.9818005908916791,
          0.9818005908916791,
          0.9818005908916791,
          0.9818005908916791,
          0.9818005908916791,
          0.9818005908916791,
          0.9818005908916791,
          0.9818005908916791,
          0.9818005908916791,
          0.9818005908916791,
          0.9818005908916791,
          0.9818005908916791,
          0.9818005908916791,
          0.9818005908916791,
          0.9818005908916791,
          0.9818005908916791,
          0.9818005908916791,
          0.9818005908916791,
          0.9818005908916791,
          0.9818005908916791,
          0.9818005908916791,
          0.9818005908916791,
          0.9818005908916791,
          0.9818005908916791,
          0.9818005908916791,
          0.9818005908916791,
          0.9818005908916791,
          0.9818005908916791,
          0.9818005908916791,
          0.9818005908916791,
          0.9818005908916791,
          0.9818005908916791,
          0.9818005908916791,
          0.9818005908916791,
          0.9818005908916791,
          0.9818005908916791,
          0.9818005908916791,
          0.9818005908916791,
          0.9818005908916791,
          0.9818005908916791,
          0.9818005908916791,
          0.9818005908916791,
          0.9818005908916791,
          0.9818005908916791,
          0.9818005908916791,
          0.9818005908916791,
          0.9818005908916791,
          0.9818005908916791,
          0.9818005908916791,
          0.9818005908916791,
          0.9818005908916791,
          0.9818005908916791,
          0.9818005908916791,
          0.9818005908916791,
          0.9818005908916791,
          0.9818005908916791,
          0.9818005908916791,
          0.9818005908916791,
          0.9818005908916791,
          0.9818005908916791,
          0.9818005908916791,
          0.9818005908916791,
          0.9818005908916791,
          0.9818005908916791,
          0.9818005908916791,
          0.9818005908916791,
          0.9818005908916791,
          0.9818005908916791,
          0.9818005908916791,
          0.9818005908916791,
          0.9818005908916791,
          0.9818005908916791,
          0.9818005908916791,
          0.9818005908916791,
          0.9818005908916791,
          0.9818005908916791,
          0.9818005908916791,
          0.9818005908916791,
          0.9818005908916791,
          0.9818005908916791,
          0.9818005908916791,
          0.9818005908916791,
          0.9818005908916791,
          0.9818005908916791,
          0.9818005908916791,
          0.9818005908916791,
          0.9818005908916791,
          0.9818005908916791,
          0.9818005908916791,
          0.9818005908916791,
          0.9818005908916791,
          0.9818005908916791,
          0.9818005908916791,
          0.9818005908916791,
          0.9818005908916791,
          0.9818005908916791,
          0.9818005908916791,
          0.9818005908916791,
          0.9818005908916791,
          0.9818005908916791,
          0.9818005908916791,
          0.9818005908916791,
          0.9818005908916791,
          0.9818005908916791,
          0.9818005908916791,
          0.9818005908916791,
          0.9818005908916791,
          0.9818005908916791,
          0.9818005908916791,
          0.9818005908916791,
          0.9818005908916791,
          0.9818005908916791,
          0.9818005908916791,
          0.9818005908916791,
          0.9818005908916791,
          0.9818005908916791,
          0.9818005908916791,
          0.9818005908916791,
          0.9818005908916791,
          0.9818005908916791,
          0.9818005908916791,
          0.9818005908916791,
          0.9818005908916791,
          0.9818005908916791,
          0.9818005908916791,
          0.9818005908916791,
          0.9818005908916791,
          0.9818005908916791,
          0.9818005908916791,
          0.9818005908916791,
          0.9818005908916791,
          0.9818005908916791,
          0.9818005908916791,
          0.9818005908916791,
          0.9818005908916791,
          0.9818005908916791,
          0.9818005908916791,
          0.9818005908916791,
          0.9818005908916791,
          0.9818005908916791,
          0.9818005908916791,
          0.9818005908916791,
          0.9818005908916791,
          0.9818005908916791,
          0.9818005908916791,
          0.9818005908916791,
          0.9818005908916791,
          0.9818005908916791,
          0.9818005908916791,
          0.9818005908916791,
          0.9818005908916791,
          0.9818005908916791,
          0.9818005908916791,
          0.9818005908916791,
          0.9818005908916791
         ]
        },
        {
         "marker": {
          "color": "#cccccc"
         },
         "mode": "markers",
         "name": "Infeasible Trial",
         "showlegend": false,
         "type": "scatter",
         "x": [],
         "y": []
        }
       ],
       "layout": {
        "template": {
         "data": {
          "bar": [
           {
            "error_x": {
             "color": "#2a3f5f"
            },
            "error_y": {
             "color": "#2a3f5f"
            },
            "marker": {
             "line": {
              "color": "#E5ECF6",
              "width": 0.5
             },
             "pattern": {
              "fillmode": "overlay",
              "size": 10,
              "solidity": 0.2
             }
            },
            "type": "bar"
           }
          ],
          "barpolar": [
           {
            "marker": {
             "line": {
              "color": "#E5ECF6",
              "width": 0.5
             },
             "pattern": {
              "fillmode": "overlay",
              "size": 10,
              "solidity": 0.2
             }
            },
            "type": "barpolar"
           }
          ],
          "carpet": [
           {
            "aaxis": {
             "endlinecolor": "#2a3f5f",
             "gridcolor": "white",
             "linecolor": "white",
             "minorgridcolor": "white",
             "startlinecolor": "#2a3f5f"
            },
            "baxis": {
             "endlinecolor": "#2a3f5f",
             "gridcolor": "white",
             "linecolor": "white",
             "minorgridcolor": "white",
             "startlinecolor": "#2a3f5f"
            },
            "type": "carpet"
           }
          ],
          "choropleth": [
           {
            "colorbar": {
             "outlinewidth": 0,
             "ticks": ""
            },
            "type": "choropleth"
           }
          ],
          "contour": [
           {
            "colorbar": {
             "outlinewidth": 0,
             "ticks": ""
            },
            "colorscale": [
             [
              0,
              "#0d0887"
             ],
             [
              0.1111111111111111,
              "#46039f"
             ],
             [
              0.2222222222222222,
              "#7201a8"
             ],
             [
              0.3333333333333333,
              "#9c179e"
             ],
             [
              0.4444444444444444,
              "#bd3786"
             ],
             [
              0.5555555555555556,
              "#d8576b"
             ],
             [
              0.6666666666666666,
              "#ed7953"
             ],
             [
              0.7777777777777778,
              "#fb9f3a"
             ],
             [
              0.8888888888888888,
              "#fdca26"
             ],
             [
              1,
              "#f0f921"
             ]
            ],
            "type": "contour"
           }
          ],
          "contourcarpet": [
           {
            "colorbar": {
             "outlinewidth": 0,
             "ticks": ""
            },
            "type": "contourcarpet"
           }
          ],
          "heatmap": [
           {
            "colorbar": {
             "outlinewidth": 0,
             "ticks": ""
            },
            "colorscale": [
             [
              0,
              "#0d0887"
             ],
             [
              0.1111111111111111,
              "#46039f"
             ],
             [
              0.2222222222222222,
              "#7201a8"
             ],
             [
              0.3333333333333333,
              "#9c179e"
             ],
             [
              0.4444444444444444,
              "#bd3786"
             ],
             [
              0.5555555555555556,
              "#d8576b"
             ],
             [
              0.6666666666666666,
              "#ed7953"
             ],
             [
              0.7777777777777778,
              "#fb9f3a"
             ],
             [
              0.8888888888888888,
              "#fdca26"
             ],
             [
              1,
              "#f0f921"
             ]
            ],
            "type": "heatmap"
           }
          ],
          "heatmapgl": [
           {
            "colorbar": {
             "outlinewidth": 0,
             "ticks": ""
            },
            "colorscale": [
             [
              0,
              "#0d0887"
             ],
             [
              0.1111111111111111,
              "#46039f"
             ],
             [
              0.2222222222222222,
              "#7201a8"
             ],
             [
              0.3333333333333333,
              "#9c179e"
             ],
             [
              0.4444444444444444,
              "#bd3786"
             ],
             [
              0.5555555555555556,
              "#d8576b"
             ],
             [
              0.6666666666666666,
              "#ed7953"
             ],
             [
              0.7777777777777778,
              "#fb9f3a"
             ],
             [
              0.8888888888888888,
              "#fdca26"
             ],
             [
              1,
              "#f0f921"
             ]
            ],
            "type": "heatmapgl"
           }
          ],
          "histogram": [
           {
            "marker": {
             "pattern": {
              "fillmode": "overlay",
              "size": 10,
              "solidity": 0.2
             }
            },
            "type": "histogram"
           }
          ],
          "histogram2d": [
           {
            "colorbar": {
             "outlinewidth": 0,
             "ticks": ""
            },
            "colorscale": [
             [
              0,
              "#0d0887"
             ],
             [
              0.1111111111111111,
              "#46039f"
             ],
             [
              0.2222222222222222,
              "#7201a8"
             ],
             [
              0.3333333333333333,
              "#9c179e"
             ],
             [
              0.4444444444444444,
              "#bd3786"
             ],
             [
              0.5555555555555556,
              "#d8576b"
             ],
             [
              0.6666666666666666,
              "#ed7953"
             ],
             [
              0.7777777777777778,
              "#fb9f3a"
             ],
             [
              0.8888888888888888,
              "#fdca26"
             ],
             [
              1,
              "#f0f921"
             ]
            ],
            "type": "histogram2d"
           }
          ],
          "histogram2dcontour": [
           {
            "colorbar": {
             "outlinewidth": 0,
             "ticks": ""
            },
            "colorscale": [
             [
              0,
              "#0d0887"
             ],
             [
              0.1111111111111111,
              "#46039f"
             ],
             [
              0.2222222222222222,
              "#7201a8"
             ],
             [
              0.3333333333333333,
              "#9c179e"
             ],
             [
              0.4444444444444444,
              "#bd3786"
             ],
             [
              0.5555555555555556,
              "#d8576b"
             ],
             [
              0.6666666666666666,
              "#ed7953"
             ],
             [
              0.7777777777777778,
              "#fb9f3a"
             ],
             [
              0.8888888888888888,
              "#fdca26"
             ],
             [
              1,
              "#f0f921"
             ]
            ],
            "type": "histogram2dcontour"
           }
          ],
          "mesh3d": [
           {
            "colorbar": {
             "outlinewidth": 0,
             "ticks": ""
            },
            "type": "mesh3d"
           }
          ],
          "parcoords": [
           {
            "line": {
             "colorbar": {
              "outlinewidth": 0,
              "ticks": ""
             }
            },
            "type": "parcoords"
           }
          ],
          "pie": [
           {
            "automargin": true,
            "type": "pie"
           }
          ],
          "scatter": [
           {
            "fillpattern": {
             "fillmode": "overlay",
             "size": 10,
             "solidity": 0.2
            },
            "type": "scatter"
           }
          ],
          "scatter3d": [
           {
            "line": {
             "colorbar": {
              "outlinewidth": 0,
              "ticks": ""
             }
            },
            "marker": {
             "colorbar": {
              "outlinewidth": 0,
              "ticks": ""
             }
            },
            "type": "scatter3d"
           }
          ],
          "scattercarpet": [
           {
            "marker": {
             "colorbar": {
              "outlinewidth": 0,
              "ticks": ""
             }
            },
            "type": "scattercarpet"
           }
          ],
          "scattergeo": [
           {
            "marker": {
             "colorbar": {
              "outlinewidth": 0,
              "ticks": ""
             }
            },
            "type": "scattergeo"
           }
          ],
          "scattergl": [
           {
            "marker": {
             "colorbar": {
              "outlinewidth": 0,
              "ticks": ""
             }
            },
            "type": "scattergl"
           }
          ],
          "scattermapbox": [
           {
            "marker": {
             "colorbar": {
              "outlinewidth": 0,
              "ticks": ""
             }
            },
            "type": "scattermapbox"
           }
          ],
          "scatterpolar": [
           {
            "marker": {
             "colorbar": {
              "outlinewidth": 0,
              "ticks": ""
             }
            },
            "type": "scatterpolar"
           }
          ],
          "scatterpolargl": [
           {
            "marker": {
             "colorbar": {
              "outlinewidth": 0,
              "ticks": ""
             }
            },
            "type": "scatterpolargl"
           }
          ],
          "scatterternary": [
           {
            "marker": {
             "colorbar": {
              "outlinewidth": 0,
              "ticks": ""
             }
            },
            "type": "scatterternary"
           }
          ],
          "surface": [
           {
            "colorbar": {
             "outlinewidth": 0,
             "ticks": ""
            },
            "colorscale": [
             [
              0,
              "#0d0887"
             ],
             [
              0.1111111111111111,
              "#46039f"
             ],
             [
              0.2222222222222222,
              "#7201a8"
             ],
             [
              0.3333333333333333,
              "#9c179e"
             ],
             [
              0.4444444444444444,
              "#bd3786"
             ],
             [
              0.5555555555555556,
              "#d8576b"
             ],
             [
              0.6666666666666666,
              "#ed7953"
             ],
             [
              0.7777777777777778,
              "#fb9f3a"
             ],
             [
              0.8888888888888888,
              "#fdca26"
             ],
             [
              1,
              "#f0f921"
             ]
            ],
            "type": "surface"
           }
          ],
          "table": [
           {
            "cells": {
             "fill": {
              "color": "#EBF0F8"
             },
             "line": {
              "color": "white"
             }
            },
            "header": {
             "fill": {
              "color": "#C8D4E3"
             },
             "line": {
              "color": "white"
             }
            },
            "type": "table"
           }
          ]
         },
         "layout": {
          "annotationdefaults": {
           "arrowcolor": "#2a3f5f",
           "arrowhead": 0,
           "arrowwidth": 1
          },
          "autotypenumbers": "strict",
          "coloraxis": {
           "colorbar": {
            "outlinewidth": 0,
            "ticks": ""
           }
          },
          "colorscale": {
           "diverging": [
            [
             0,
             "#8e0152"
            ],
            [
             0.1,
             "#c51b7d"
            ],
            [
             0.2,
             "#de77ae"
            ],
            [
             0.3,
             "#f1b6da"
            ],
            [
             0.4,
             "#fde0ef"
            ],
            [
             0.5,
             "#f7f7f7"
            ],
            [
             0.6,
             "#e6f5d0"
            ],
            [
             0.7,
             "#b8e186"
            ],
            [
             0.8,
             "#7fbc41"
            ],
            [
             0.9,
             "#4d9221"
            ],
            [
             1,
             "#276419"
            ]
           ],
           "sequential": [
            [
             0,
             "#0d0887"
            ],
            [
             0.1111111111111111,
             "#46039f"
            ],
            [
             0.2222222222222222,
             "#7201a8"
            ],
            [
             0.3333333333333333,
             "#9c179e"
            ],
            [
             0.4444444444444444,
             "#bd3786"
            ],
            [
             0.5555555555555556,
             "#d8576b"
            ],
            [
             0.6666666666666666,
             "#ed7953"
            ],
            [
             0.7777777777777778,
             "#fb9f3a"
            ],
            [
             0.8888888888888888,
             "#fdca26"
            ],
            [
             1,
             "#f0f921"
            ]
           ],
           "sequentialminus": [
            [
             0,
             "#0d0887"
            ],
            [
             0.1111111111111111,
             "#46039f"
            ],
            [
             0.2222222222222222,
             "#7201a8"
            ],
            [
             0.3333333333333333,
             "#9c179e"
            ],
            [
             0.4444444444444444,
             "#bd3786"
            ],
            [
             0.5555555555555556,
             "#d8576b"
            ],
            [
             0.6666666666666666,
             "#ed7953"
            ],
            [
             0.7777777777777778,
             "#fb9f3a"
            ],
            [
             0.8888888888888888,
             "#fdca26"
            ],
            [
             1,
             "#f0f921"
            ]
           ]
          },
          "colorway": [
           "#636efa",
           "#EF553B",
           "#00cc96",
           "#ab63fa",
           "#FFA15A",
           "#19d3f3",
           "#FF6692",
           "#B6E880",
           "#FF97FF",
           "#FECB52"
          ],
          "font": {
           "color": "#2a3f5f"
          },
          "geo": {
           "bgcolor": "white",
           "lakecolor": "white",
           "landcolor": "#E5ECF6",
           "showlakes": true,
           "showland": true,
           "subunitcolor": "white"
          },
          "hoverlabel": {
           "align": "left"
          },
          "hovermode": "closest",
          "mapbox": {
           "style": "light"
          },
          "paper_bgcolor": "white",
          "plot_bgcolor": "#E5ECF6",
          "polar": {
           "angularaxis": {
            "gridcolor": "white",
            "linecolor": "white",
            "ticks": ""
           },
           "bgcolor": "#E5ECF6",
           "radialaxis": {
            "gridcolor": "white",
            "linecolor": "white",
            "ticks": ""
           }
          },
          "scene": {
           "xaxis": {
            "backgroundcolor": "#E5ECF6",
            "gridcolor": "white",
            "gridwidth": 2,
            "linecolor": "white",
            "showbackground": true,
            "ticks": "",
            "zerolinecolor": "white"
           },
           "yaxis": {
            "backgroundcolor": "#E5ECF6",
            "gridcolor": "white",
            "gridwidth": 2,
            "linecolor": "white",
            "showbackground": true,
            "ticks": "",
            "zerolinecolor": "white"
           },
           "zaxis": {
            "backgroundcolor": "#E5ECF6",
            "gridcolor": "white",
            "gridwidth": 2,
            "linecolor": "white",
            "showbackground": true,
            "ticks": "",
            "zerolinecolor": "white"
           }
          },
          "shapedefaults": {
           "line": {
            "color": "#2a3f5f"
           }
          },
          "ternary": {
           "aaxis": {
            "gridcolor": "white",
            "linecolor": "white",
            "ticks": ""
           },
           "baxis": {
            "gridcolor": "white",
            "linecolor": "white",
            "ticks": ""
           },
           "bgcolor": "#E5ECF6",
           "caxis": {
            "gridcolor": "white",
            "linecolor": "white",
            "ticks": ""
           }
          },
          "title": {
           "x": 0.05
          },
          "xaxis": {
           "automargin": true,
           "gridcolor": "white",
           "linecolor": "white",
           "ticks": "",
           "title": {
            "standoff": 15
           },
           "zerolinecolor": "white",
           "zerolinewidth": 2
          },
          "yaxis": {
           "automargin": true,
           "gridcolor": "white",
           "linecolor": "white",
           "ticks": "",
           "title": {
            "standoff": 15
           },
           "zerolinecolor": "white",
           "zerolinewidth": 2
          }
         }
        },
        "title": {
         "text": "Optimization History Plot"
        },
        "xaxis": {
         "title": {
          "text": "Trial"
         }
        },
        "yaxis": {
         "title": {
          "text": "Objective Value"
         }
        }
       }
      }
     },
     "metadata": {},
     "output_type": "display_data"
    }
   ],
   "source": [
    "p_history_no_feat_eng = optuna.visualization.plot_optimization_history(study_no_feat_eng)\n",
    "p_history_no_feat_eng.show()"
   ]
  },
  {
   "cell_type": "markdown",
   "metadata": {},
   "source": [
    "## With Feature Engineering"
   ]
  },
  {
   "cell_type": "code",
   "execution_count": 18,
   "metadata": {},
   "outputs": [],
   "source": [
    "# Load data\n",
    "train_df = pd.read_csv(config[\"paths\"][\"ptb_train\"], header=None)"
   ]
  },
  {
   "cell_type": "code",
   "execution_count": 19,
   "metadata": {},
   "outputs": [],
   "source": [
    "X_train_all = train_df.iloc[:, :-1]\n",
    "y_train_all = train_df.iloc[:, -1]"
   ]
  },
  {
   "cell_type": "code",
   "execution_count": 20,
   "metadata": {},
   "outputs": [],
   "source": [
    "X_train_all.columns = X_train_all.columns.astype(str)"
   ]
  },
  {
   "cell_type": "markdown",
   "metadata": {},
   "source": [
    "Note that for reasons of time, we will not carry out feature engineering for every validation split separately. Instead, we will use the same feature engineering for all validation splits. This is not ideal, but it is a compromise that we have to make in order to keep the runtime of this notebook within reasonable limits."
   ]
  },
  {
   "cell_type": "code",
   "execution_count": 21,
   "metadata": {},
   "outputs": [],
   "source": [
    "X_train_all[\"id\"] = X_train_all.index\n",
    "X_train_melted =(\n",
    "    X_train_all\n",
    "    .melt(id_vars=\"id\", var_name=\"time\", value_name=\"value\")\n",
    "    .sort_values(by=[\"id\", \"time\"])\n",
    ")\n",
    "\n",
    "# get rid of padding to not ruin the engineered features\n",
    "# for simplicity, we drop all 0s, as only few \"true\" 0s are in the data\n",
    "X_train_melted[\"value\"] = X_train_melted[\"value\"].replace(0, np.nan)\n",
    "X_train_melted = X_train_melted.dropna()"
   ]
  },
  {
   "cell_type": "code",
   "execution_count": 22,
   "metadata": {},
   "outputs": [
    {
     "name": "stderr",
     "output_type": "stream",
     "text": [
      "Feature Extraction:  10%|█         | 8/80 [00:09<00:36,  1.96it/s]"
     ]
    }
   ],
   "source": [
    "# We will follow this tutorial:\n",
    "# https://towardsdatascience.com/expanding-your-regression-repertoire-with-regularisation-903d2c9f7b28\n",
    "# and will use the EfficientFCParameters\n",
    "# for feature extraction\n",
    "X_train_augmented = extract_features(\n",
    "    X_train_melted,\n",
    "    column_id=\"id\",\n",
    "    column_sort=\"time\",\n",
    "    column_value=\"value\",\n",
    "    default_fc_parameters=EfficientFCParameters(),\n",
    ")  \n",
    "\n",
    "X_train_merged = pd.merge(\n",
    "    X_train_all, X_train_augmented, left_index=True, right_index=True\n",
    ")\n",
    "\n",
    "# assert that no rows were lost\n",
    "assert X_train_merged.shape[0] == X_train_all.shape[0]\n",
    "assert X_train_merged.index.equals(X_train_all.index)"
   ]
  },
  {
   "cell_type": "code",
   "execution_count": null,
   "metadata": {},
   "outputs": [],
   "source": [
    "imputer = PerColumnImputer()\n",
    "X_train_merged = imputer.fit_transform(X_train_merged)"
   ]
  },
  {
   "cell_type": "markdown",
   "metadata": {},
   "source": [
    "Next, we create a Pipeline to standardize and one-hot encode the data. This is necessary since some of the newly created features are categorical or do not lie within the same range as the original features."
   ]
  },
  {
   "cell_type": "code",
   "execution_count": null,
   "metadata": {},
   "outputs": [],
   "source": [
    "cat_cols = X_train_merged.loc[:, X_train_merged.nunique() < 5].columns\n",
    "numeric_cols = X_train_merged.loc[:, X_train_merged.nunique() >= 5].columns\n",
    "\n",
    "# preprocessing pipeline for numerical features\n",
    "num_trans = Pipeline(steps=[\n",
    "    (\"scaler\", StandardScaler())\n",
    "])\n",
    "\n",
    "# preprocessing pipeline for categorical features\n",
    "cat_trans = Pipeline(steps=[\n",
    "    ('encoder', OneHotEncoder(handle_unknown=\"ignore\"))\n",
    "])\n",
    "\n",
    "\n",
    "preprocessor = ColumnTransformer(transformers=[\n",
    "    (\"num\", num_trans, numeric_cols),\n",
    "    (\"cat\", cat_trans, cat_cols)\n",
    "])"
   ]
  },
  {
   "cell_type": "code",
   "execution_count": null,
   "metadata": {},
   "outputs": [],
   "source": [
    "# create objective function for optuna\n",
    "def objective_feat_eng(trial):\n",
    "    \n",
    "    # see: https://medium.com/@ethannabatchian/optimizing-random-forest-models-a-deep-dive-into-hyperparameter-tuning-with-optuna-b8e4fe7f3670\n",
    "    hyperparams = {\n",
    "        \"n_estimators\": trial.suggest_int(\"n_estimators\", 100, 1000),\n",
    "        \"max_depth\": trial.suggest_int(\"max_depth\", 10, 50),\n",
    "        \"min_samples_split\": trial.suggest_int(\"min_samples_split\", 2, 32),\n",
    "        \"min_samples_leaf\": trial.suggest_int(\"min_samples_leaf\", 1, 32),\n",
    "        \"criterion\": trial.suggest_categorical(\"criterion\", [\"gini\", \"entropy\", \"log_loss\"]),\n",
    "        \"bootstrap\": trial.suggest_categorical(\"bootstrap\", [True, False]),\n",
    "    }\n",
    "    \n",
    "    \n",
    "    \n",
    "    f1_scores = []\n",
    "    \n",
    "    skf = StratifiedKFold(n_splits=5, random_state=config[\"general\"][\"seed\"], shuffle=True)\n",
    "    for fold_num, (train_idx, val_idx) in enumerate(skf.split(X_train_merged, y_train_all)):\n",
    "        X_train, X_val = X_train_merged.iloc[train_idx], X_train_merged.iloc[val_idx]\n",
    "        y_train, y_val = y_train_all[train_idx], y_train_all[val_idx] \n",
    "        \n",
    "        smote = SMOTE(random_state=config[\"general\"][\"seed\"])\n",
    "        X_train, y_train = smote.fit_resample(X_train, y_train) \n",
    "        \n",
    "        X_train = preprocessor.fit_transform(X_train)\n",
    "        X_val = preprocessor.transform(X_val)\n",
    "        \n",
    "        rf = RandomForestClassifier(\n",
    "            random_state=config[\"general\"][\"seed\"],\n",
    "            n_jobs=-1,\n",
    "            **hyperparams\n",
    "        )\n",
    "        rf.fit(X_train, y_train)\n",
    "        \n",
    "        y_preds = rf.predict(X_val)\n",
    "        \n",
    "        score = f1_score(y_val, y_preds)\n",
    "        f1_scores.append(score)\n",
    "            \n",
    "        trial.report(np.mean(f1_scores), fold_num)\n",
    "        if trial.should_prune():\n",
    "            raise optuna.TrialPruned()\n",
    "        \n",
    "            \n",
    "        \n",
    "    return np.mean(score)"
   ]
  },
  {
   "cell_type": "code",
   "execution_count": null,
   "metadata": {},
   "outputs": [
    {
     "name": "stderr",
     "output_type": "stream",
     "text": [
      "[I 2024-05-10 16:35:20,107] A new study created in memory with name: rf_feat_eng\n"
     ]
    }
   ],
   "source": [
    "# prune bad trials \n",
    "pruner = optuna.pruners.MedianPruner(n_startup_trials=20, n_warmup_steps=2)\n",
    "\n",
    "study_feat_eng = optuna.create_study(\n",
    "    direction=\"maximize\",\n",
    "    study_name=\"rf_feat_eng\",\n",
    "    sampler=optuna.samplers.TPESampler(seed=config[\"general\"][\"seed\"]),\n",
    "    pruner=pruner,\n",
    ")"
   ]
  },
  {
   "cell_type": "code",
   "execution_count": null,
   "metadata": {},
   "outputs": [
    {
     "data": {
      "application/vnd.jupyter.widget-view+json": {
       "model_id": "12c601ac8ae4483cabfa22ad5359d6a5",
       "version_major": 2,
       "version_minor": 0
      },
      "text/plain": [
       "  0%|          | 0/500 [00:00<?, ?it/s]"
      ]
     },
     "metadata": {},
     "output_type": "display_data"
    },
    {
     "name": "stdout",
     "output_type": "stream",
     "text": [
      "[I 2024-05-10 16:35:34,743] Trial 0 finished with value: 0.9636904761904762 and parameters: {'n_estimators': 437, 'max_depth': 48, 'min_samples_split': 24, 'min_samples_leaf': 20, 'criterion': 'gini'}. Best is trial 0 with value: 0.9636904761904762.\n",
      "[I 2024-05-10 16:36:06,479] Trial 1 finished with value: 0.973037037037037 and parameters: {'n_estimators': 880, 'max_depth': 34, 'min_samples_split': 23, 'min_samples_leaf': 1, 'criterion': 'gini'}. Best is trial 1 with value: 0.973037037037037.\n",
      "[I 2024-05-10 16:36:16,939] Trial 2 finished with value: 0.9666666666666667 and parameters: {'n_estimators': 263, 'max_depth': 17, 'min_samples_split': 11, 'min_samples_leaf': 17, 'criterion': 'log_loss'}. Best is trial 1 with value: 0.973037037037037.\n",
      "[I 2024-05-10 16:36:26,265] Trial 3 finished with value: 0.9648809523809524 and parameters: {'n_estimators': 225, 'max_depth': 21, 'min_samples_split': 13, 'min_samples_leaf': 15, 'criterion': 'gini'}. Best is trial 1 with value: 0.973037037037037.\n",
      "[I 2024-05-10 16:36:45,125] Trial 4 finished with value: 0.9667365897512736 and parameters: {'n_estimators': 633, 'max_depth': 11, 'min_samples_split': 20, 'min_samples_leaf': 6, 'criterion': 'log_loss'}. Best is trial 1 with value: 0.973037037037037.\n",
      "[I 2024-05-10 16:37:08,653] Trial 5 finished with value: 0.9638698118841446 and parameters: {'n_estimators': 828, 'max_depth': 22, 'min_samples_split': 5, 'min_samples_leaf': 22, 'criterion': 'log_loss'}. Best is trial 1 with value: 0.973037037037037.\n",
      "[I 2024-05-10 16:37:15,832] Trial 6 finished with value: 0.9644882124738884 and parameters: {'n_estimators': 130, 'max_depth': 47, 'min_samples_split': 10, 'min_samples_leaf': 22, 'criterion': 'log_loss'}. Best is trial 1 with value: 0.973037037037037.\n",
      "[I 2024-05-10 16:37:26,078] Trial 7 finished with value: 0.9620782323081517 and parameters: {'n_estimators': 266, 'max_depth': 49, 'min_samples_split': 26, 'min_samples_leaf': 31, 'criterion': 'log_loss'}. Best is trial 1 with value: 0.973037037037037.\n",
      "[I 2024-05-10 16:37:34,754] Trial 8 finished with value: 0.9708159618820726 and parameters: {'n_estimators': 179, 'max_depth': 18, 'min_samples_split': 3, 'min_samples_leaf': 11, 'criterion': 'log_loss'}. Best is trial 1 with value: 0.973037037037037.\n",
      "[I 2024-05-10 16:37:50,067] Trial 9 finished with value: 0.9714625445897741 and parameters: {'n_estimators': 421, 'max_depth': 21, 'min_samples_split': 18, 'min_samples_leaf': 5, 'criterion': 'log_loss'}. Best is trial 1 with value: 0.973037037037037.\n",
      "[I 2024-05-10 16:38:20,601] Trial 10 finished with value: 0.9705794947994056 and parameters: {'n_estimators': 981, 'max_depth': 36, 'min_samples_split': 32, 'min_samples_leaf': 1, 'criterion': 'entropy'}. Best is trial 1 with value: 0.973037037037037.\n",
      "[I 2024-05-10 16:38:41,893] Trial 11 finished with value: 0.9727002967359051 and parameters: {'n_estimators': 553, 'max_depth': 32, 'min_samples_split': 17, 'min_samples_leaf': 1, 'criterion': 'gini'}. Best is trial 1 with value: 0.973037037037037.\n",
      "[I 2024-05-10 16:39:06,300] Trial 12 finished with value: 0.971547125074096 and parameters: {'n_estimators': 684, 'max_depth': 34, 'min_samples_split': 24, 'min_samples_leaf': 2, 'criterion': 'gini'}. Best is trial 1 with value: 0.973037037037037.\n",
      "[I 2024-05-10 16:39:31,078] Trial 13 finished with value: 0.9678953626634959 and parameters: {'n_estimators': 808, 'max_depth': 39, 'min_samples_split': 29, 'min_samples_leaf': 9, 'criterion': 'gini'}. Best is trial 1 with value: 0.973037037037037.\n",
      "[I 2024-05-10 16:40:00,704] Trial 14 finished with value: 0.9693725840023788 and parameters: {'n_estimators': 973, 'max_depth': 28, 'min_samples_split': 15, 'min_samples_leaf': 10, 'criterion': 'gini'}. Best is trial 1 with value: 0.973037037037037.\n",
      "[I 2024-05-10 16:40:18,173] Trial 15 finished with value: 0.9708853238265003 and parameters: {'n_estimators': 506, 'max_depth': 29, 'min_samples_split': 21, 'min_samples_leaf': 5, 'criterion': 'entropy'}. Best is trial 1 with value: 0.973037037037037.\n",
      "[I 2024-05-10 16:40:39,452] Trial 16 finished with value: 0.9599761051373955 and parameters: {'n_estimators': 820, 'max_depth': 40, 'min_samples_split': 17, 'min_samples_leaf': 28, 'criterion': 'gini'}. Best is trial 1 with value: 0.973037037037037.\n",
      "[I 2024-05-10 16:41:05,609] Trial 17 finished with value: 0.976882039122703 and parameters: {'n_estimators': 680, 'max_depth': 43, 'min_samples_split': 8, 'min_samples_leaf': 1, 'criterion': 'gini'}. Best is trial 17 with value: 0.976882039122703.\n",
      "[I 2024-05-10 16:41:27,128] Trial 18 finished with value: 0.9663790538530199 and parameters: {'n_estimators': 711, 'max_depth': 42, 'min_samples_split': 10, 'min_samples_leaf': 13, 'criterion': 'gini'}. Best is trial 17 with value: 0.976882039122703.\n",
      "[I 2024-05-10 16:41:55,710] Trial 19 finished with value: 0.9735040190532896 and parameters: {'n_estimators': 892, 'max_depth': 44, 'min_samples_split': 7, 'min_samples_leaf': 7, 'criterion': 'entropy'}. Best is trial 17 with value: 0.976882039122703.\n",
      "[I 2024-05-10 16:42:19,863] Trial 20 finished with value: 0.9732142857142857 and parameters: {'n_estimators': 750, 'max_depth': 45, 'min_samples_split': 6, 'min_samples_leaf': 7, 'criterion': 'entropy'}. Best is trial 17 with value: 0.976882039122703.\n",
      "[I 2024-05-10 16:42:43,740] Trial 21 finished with value: 0.9732302201070792 and parameters: {'n_estimators': 746, 'max_depth': 44, 'min_samples_split': 6, 'min_samples_leaf': 7, 'criterion': 'entropy'}. Best is trial 17 with value: 0.976882039122703.\n",
      "[I 2024-05-10 16:43:04,928] Trial 22 finished with value: 0.9735669735669735 and parameters: {'n_estimators': 614, 'max_depth': 43, 'min_samples_split': 7, 'min_samples_leaf': 4, 'criterion': 'entropy'}. Best is trial 17 with value: 0.976882039122703.\n",
      "[I 2024-05-10 16:43:25,610] Trial 23 finished with value: 0.9735669735669735 and parameters: {'n_estimators': 596, 'max_depth': 38, 'min_samples_split': 2, 'min_samples_leaf': 4, 'criterion': 'entropy'}. Best is trial 17 with value: 0.976882039122703.\n",
      "[I 2024-05-10 16:43:47,303] Trial 24 finished with value: 0.9759715218036191 and parameters: {'n_estimators': 616, 'max_depth': 38, 'min_samples_split': 2, 'min_samples_leaf': 3, 'criterion': 'entropy'}. Best is trial 17 with value: 0.976882039122703.\n",
      "[I 2024-05-10 16:44:05,215] Trial 25 finished with value: 0.9744807121661722 and parameters: {'n_estimators': 486, 'max_depth': 41, 'min_samples_split': 8, 'min_samples_leaf': 3, 'criterion': 'entropy'}. Best is trial 17 with value: 0.976882039122703.\n",
      "[I 2024-05-10 16:44:22,792] Trial 26 finished with value: 0.9765648175615544 and parameters: {'n_estimators': 459, 'max_depth': 50, 'min_samples_split': 3, 'min_samples_leaf': 3, 'criterion': 'entropy'}. Best is trial 17 with value: 0.976882039122703.\n",
      "[I 2024-05-10 16:44:30,992] Trial 27 pruned. \n",
      "[I 2024-05-10 16:44:54,059] Trial 28 finished with value: 0.9756532066508313 and parameters: {'n_estimators': 664, 'max_depth': 37, 'min_samples_split': 4, 'min_samples_leaf': 3, 'criterion': 'entropy'}. Best is trial 17 with value: 0.976882039122703.\n",
      "[I 2024-05-10 16:45:02,353] Trial 29 pruned. \n",
      "[I 2024-05-10 16:45:12,106] Trial 30 pruned. \n",
      "[I 2024-05-10 16:45:35,075] Trial 31 finished with value: 0.9756532066508313 and parameters: {'n_estimators': 668, 'max_depth': 37, 'min_samples_split': 4, 'min_samples_leaf': 3, 'criterion': 'entropy'}. Best is trial 17 with value: 0.976882039122703.\n",
      "[I 2024-05-10 16:45:55,845] Trial 32 finished with value: 0.9771309771309772 and parameters: {'n_estimators': 574, 'max_depth': 35, 'min_samples_split': 5, 'min_samples_leaf': 1, 'criterion': 'entropy'}. Best is trial 32 with value: 0.9771309771309772.\n",
      "[I 2024-05-10 16:46:17,030] Trial 33 finished with value: 0.9753928253780018 and parameters: {'n_estimators': 588, 'max_depth': 31, 'min_samples_split': 12, 'min_samples_leaf': 2, 'criterion': 'entropy'}. Best is trial 32 with value: 0.9771309771309772.\n",
      "[I 2024-05-10 16:46:31,552] Trial 34 finished with value: 0.9768270944741533 and parameters: {'n_estimators': 349, 'max_depth': 26, 'min_samples_split': 5, 'min_samples_leaf': 1, 'criterion': 'entropy'}. Best is trial 32 with value: 0.9771309771309772.\n",
      "[I 2024-05-10 16:46:45,389] Trial 35 finished with value: 0.972732661529342 and parameters: {'n_estimators': 319, 'max_depth': 25, 'min_samples_split': 14, 'min_samples_leaf': 1, 'criterion': 'gini'}. Best is trial 32 with value: 0.9771309771309772.\n",
      "[W 2024-05-10 16:46:55,519] Trial 36 failed with parameters: {'n_estimators': 445, 'max_depth': 25, 'min_samples_split': 5, 'min_samples_leaf': 6, 'criterion': 'entropy'} because of the following error: KeyboardInterrupt().\n",
      "Traceback (most recent call last):\n",
      "  File \"/home/janhsc/miniconda3/envs/ml4hc/lib/python3.10/site-packages/optuna/study/_optimize.py\", line 196, in _run_trial\n",
      "    value_or_values = func(trial)\n",
      "  File \"/tmp/ipykernel_713420/1336012686.py\", line 23, in objective_feat_eng\n",
      "    X_train, y_train = smote.fit_resample(X_train, y_train)\n",
      "  File \"/home/janhsc/miniconda3/envs/ml4hc/lib/python3.10/site-packages/imblearn/base.py\", line 208, in fit_resample\n",
      "    return super().fit_resample(X, y)\n",
      "  File \"/home/janhsc/miniconda3/envs/ml4hc/lib/python3.10/site-packages/imblearn/base.py\", line 118, in fit_resample\n",
      "    X_, y_ = arrays_transformer.transform(output[0], y_)\n",
      "  File \"/home/janhsc/miniconda3/envs/ml4hc/lib/python3.10/site-packages/imblearn/utils/_validation.py\", line 40, in transform\n",
      "    X = self._transfrom_one(X, self.x_props)\n",
      "  File \"/home/janhsc/miniconda3/envs/ml4hc/lib/python3.10/site-packages/imblearn/utils/_validation.py\", line 71, in _transfrom_one\n",
      "    ret = ret.astype(props[\"dtypes\"])\n",
      "  File \"/home/janhsc/miniconda3/envs/ml4hc/lib/python3.10/site-packages/pandas/core/generic.py\", line 6611, in astype\n",
      "    for i, (col_name, col) in enumerate(self.items()):\n",
      "  File \"/home/janhsc/miniconda3/envs/ml4hc/lib/python3.10/site-packages/pandas/core/frame.py\", line 1488, in items\n",
      "    yield k, self._get_item_cache(k)\n",
      "  File \"/home/janhsc/miniconda3/envs/ml4hc/lib/python3.10/site-packages/pandas/core/frame.py\", line 4627, in _get_item_cache\n",
      "    res = self._ixs(loc, axis=1)\n",
      "  File \"/home/janhsc/miniconda3/envs/ml4hc/lib/python3.10/site-packages/pandas/core/frame.py\", line 3999, in _ixs\n",
      "    result = self._box_col_values(col_mgr, i)\n",
      "  File \"/home/janhsc/miniconda3/envs/ml4hc/lib/python3.10/site-packages/pandas/core/frame.py\", line 4604, in _box_col_values\n",
      "    obj = self._constructor_sliced_from_mgr(values, axes=values.axes)\n",
      "  File \"/home/janhsc/miniconda3/envs/ml4hc/lib/python3.10/site-packages/pandas/core/frame.py\", line 674, in _constructor_sliced_from_mgr\n",
      "    ser = self._sliced_from_mgr(mgr, axes)\n",
      "  File \"/home/janhsc/miniconda3/envs/ml4hc/lib/python3.10/site-packages/pandas/core/frame.py\", line 670, in _sliced_from_mgr\n",
      "    return Series._from_mgr(mgr, axes)\n",
      "  File \"/home/janhsc/miniconda3/envs/ml4hc/lib/python3.10/site-packages/pandas/core/generic.py\", line 356, in _from_mgr\n",
      "    NDFrame.__init__(obj, mgr)\n",
      "  File \"/home/janhsc/miniconda3/envs/ml4hc/lib/python3.10/site-packages/pandas/core/generic.py\", line 279, in __init__\n",
      "    object.__setattr__(self, \"_is_copy\", None)\n",
      "KeyboardInterrupt\n",
      "[W 2024-05-10 16:46:55,523] Trial 36 failed with value None.\n"
     ]
    },
    {
     "ename": "KeyboardInterrupt",
     "evalue": "",
     "output_type": "error",
     "traceback": [
      "\u001b[0;31m---------------------------------------------------------------------------\u001b[0m",
      "\u001b[0;31mKeyboardInterrupt\u001b[0m                         Traceback (most recent call last)",
      "\u001b[0;32m/tmp/ipykernel_713420/2638296290.py\u001b[0m in \u001b[0;36m?\u001b[0;34m()\u001b[0m\n\u001b[1;32m      1\u001b[0m \u001b[0mwarnings\u001b[0m\u001b[0;34m.\u001b[0m\u001b[0mfilterwarnings\u001b[0m\u001b[0;34m(\u001b[0m\u001b[0;34m'ignore'\u001b[0m\u001b[0;34m)\u001b[0m \u001b[0;31m#ignore pandas warnings\u001b[0m\u001b[0;34m\u001b[0m\u001b[0;34m\u001b[0m\u001b[0m\n\u001b[1;32m      2\u001b[0m \u001b[0;34m\u001b[0m\u001b[0m\n\u001b[0;32m----> 3\u001b[0;31m study_feat_eng.optimize(\n\u001b[0m\u001b[1;32m      4\u001b[0m     \u001b[0mobjective_feat_eng\u001b[0m\u001b[0;34m,\u001b[0m\u001b[0;34m\u001b[0m\u001b[0;34m\u001b[0m\u001b[0m\n\u001b[1;32m      5\u001b[0m     \u001b[0mn_trials\u001b[0m\u001b[0;34m=\u001b[0m\u001b[0mNUM_TRIALS\u001b[0m\u001b[0;34m,\u001b[0m\u001b[0;34m\u001b[0m\u001b[0;34m\u001b[0m\u001b[0m\n\u001b[1;32m      6\u001b[0m     \u001b[0mtimeout\u001b[0m \u001b[0;34m=\u001b[0m \u001b[0;36m20\u001b[0m \u001b[0;34m*\u001b[0m \u001b[0;36m60\u001b[0m \u001b[0;34m*\u001b[0m \u001b[0;36m60\u001b[0m\u001b[0;34m,\u001b[0m \u001b[0;31m# timeout after 8 hours\u001b[0m\u001b[0;34m\u001b[0m\u001b[0;34m\u001b[0m\u001b[0m\n",
      "\u001b[0;32m~/miniconda3/envs/ml4hc/lib/python3.10/site-packages/optuna/study/study.py\u001b[0m in \u001b[0;36m?\u001b[0;34m(self, func, n_trials, timeout, n_jobs, catch, callbacks, gc_after_trial, show_progress_bar)\u001b[0m\n\u001b[1;32m    447\u001b[0m         \u001b[0mRaises\u001b[0m\u001b[0;34m:\u001b[0m\u001b[0;34m\u001b[0m\u001b[0;34m\u001b[0m\u001b[0m\n\u001b[1;32m    448\u001b[0m             \u001b[0mRuntimeError\u001b[0m\u001b[0;34m:\u001b[0m\u001b[0;34m\u001b[0m\u001b[0;34m\u001b[0m\u001b[0m\n\u001b[1;32m    449\u001b[0m                 \u001b[0mIf\u001b[0m \u001b[0mnested\u001b[0m \u001b[0minvocation\u001b[0m \u001b[0mof\u001b[0m \u001b[0mthis\u001b[0m \u001b[0mmethod\u001b[0m \u001b[0moccurs\u001b[0m\u001b[0;34m.\u001b[0m\u001b[0;34m\u001b[0m\u001b[0;34m\u001b[0m\u001b[0m\n\u001b[1;32m    450\u001b[0m         \"\"\"\n\u001b[0;32m--> 451\u001b[0;31m         _optimize(\n\u001b[0m\u001b[1;32m    452\u001b[0m             \u001b[0mstudy\u001b[0m\u001b[0;34m=\u001b[0m\u001b[0mself\u001b[0m\u001b[0;34m,\u001b[0m\u001b[0;34m\u001b[0m\u001b[0;34m\u001b[0m\u001b[0m\n\u001b[1;32m    453\u001b[0m             \u001b[0mfunc\u001b[0m\u001b[0;34m=\u001b[0m\u001b[0mfunc\u001b[0m\u001b[0;34m,\u001b[0m\u001b[0;34m\u001b[0m\u001b[0;34m\u001b[0m\u001b[0m\n\u001b[1;32m    454\u001b[0m             \u001b[0mn_trials\u001b[0m\u001b[0;34m=\u001b[0m\u001b[0mn_trials\u001b[0m\u001b[0;34m,\u001b[0m\u001b[0;34m\u001b[0m\u001b[0;34m\u001b[0m\u001b[0m\n",
      "\u001b[0;32m~/miniconda3/envs/ml4hc/lib/python3.10/site-packages/optuna/study/_optimize.py\u001b[0m in \u001b[0;36m?\u001b[0;34m(study, func, n_trials, timeout, n_jobs, catch, callbacks, gc_after_trial, show_progress_bar)\u001b[0m\n\u001b[1;32m    114\u001b[0m                         )\n\u001b[1;32m    115\u001b[0m                     )\n\u001b[1;32m    116\u001b[0m     \u001b[0;32mfinally\u001b[0m\u001b[0;34m:\u001b[0m\u001b[0;34m\u001b[0m\u001b[0;34m\u001b[0m\u001b[0m\n\u001b[1;32m    117\u001b[0m         \u001b[0mstudy\u001b[0m\u001b[0;34m.\u001b[0m\u001b[0m_thread_local\u001b[0m\u001b[0;34m.\u001b[0m\u001b[0min_optimize_loop\u001b[0m \u001b[0;34m=\u001b[0m \u001b[0;32mFalse\u001b[0m\u001b[0;34m\u001b[0m\u001b[0;34m\u001b[0m\u001b[0m\n\u001b[0;32m--> 118\u001b[0;31m         \u001b[0mprogress_bar\u001b[0m\u001b[0;34m.\u001b[0m\u001b[0mclose\u001b[0m\u001b[0;34m(\u001b[0m\u001b[0;34m)\u001b[0m\u001b[0;34m\u001b[0m\u001b[0;34m\u001b[0m\u001b[0m\n\u001b[0m",
      "\u001b[0;32m~/miniconda3/envs/ml4hc/lib/python3.10/site-packages/optuna/study/_optimize.py\u001b[0m in \u001b[0;36m?\u001b[0;34m(study, func, n_trials, timeout, catch, callbacks, gc_after_trial, reseed_sampler_rng, time_start, progress_bar)\u001b[0m\n\u001b[1;32m    161\u001b[0m             \u001b[0;31m# The following line mitigates memory problems that can be occurred in some\u001b[0m\u001b[0;34m\u001b[0m\u001b[0;34m\u001b[0m\u001b[0m\n\u001b[1;32m    162\u001b[0m             \u001b[0;31m# environments (e.g., services that use computing containers such as GitHub Actions).\u001b[0m\u001b[0;34m\u001b[0m\u001b[0;34m\u001b[0m\u001b[0m\n\u001b[1;32m    163\u001b[0m             \u001b[0;31m# Please refer to the following PR for further details:\u001b[0m\u001b[0;34m\u001b[0m\u001b[0;34m\u001b[0m\u001b[0m\n\u001b[1;32m    164\u001b[0m             \u001b[0;31m# https://github.com/optuna/optuna/pull/325.\u001b[0m\u001b[0;34m\u001b[0m\u001b[0;34m\u001b[0m\u001b[0m\n\u001b[0;32m--> 165\u001b[0;31m             \u001b[0;32mif\u001b[0m \u001b[0mgc_after_trial\u001b[0m\u001b[0;34m:\u001b[0m\u001b[0;34m\u001b[0m\u001b[0;34m\u001b[0m\u001b[0m\n\u001b[0m\u001b[1;32m    166\u001b[0m                 \u001b[0mgc\u001b[0m\u001b[0;34m.\u001b[0m\u001b[0mcollect\u001b[0m\u001b[0;34m(\u001b[0m\u001b[0;34m)\u001b[0m\u001b[0;34m\u001b[0m\u001b[0;34m\u001b[0m\u001b[0m\n\u001b[1;32m    167\u001b[0m \u001b[0;34m\u001b[0m\u001b[0m\n\u001b[1;32m    168\u001b[0m         \u001b[0;32mif\u001b[0m \u001b[0mcallbacks\u001b[0m \u001b[0;32mis\u001b[0m \u001b[0;32mnot\u001b[0m \u001b[0;32mNone\u001b[0m\u001b[0;34m:\u001b[0m\u001b[0;34m\u001b[0m\u001b[0;34m\u001b[0m\u001b[0m\n",
      "\u001b[0;32m~/miniconda3/envs/ml4hc/lib/python3.10/site-packages/optuna/study/_optimize.py\u001b[0m in \u001b[0;36m?\u001b[0;34m(study, func, catch)\u001b[0m\n\u001b[1;32m    243\u001b[0m         \u001b[0mfrozen_trial\u001b[0m\u001b[0;34m.\u001b[0m\u001b[0mstate\u001b[0m \u001b[0;34m==\u001b[0m \u001b[0mTrialState\u001b[0m\u001b[0;34m.\u001b[0m\u001b[0mFAIL\u001b[0m\u001b[0;34m\u001b[0m\u001b[0;34m\u001b[0m\u001b[0m\n\u001b[1;32m    244\u001b[0m         \u001b[0;32mand\u001b[0m \u001b[0mfunc_err\u001b[0m \u001b[0;32mis\u001b[0m \u001b[0;32mnot\u001b[0m \u001b[0;32mNone\u001b[0m\u001b[0;34m\u001b[0m\u001b[0;34m\u001b[0m\u001b[0m\n\u001b[1;32m    245\u001b[0m         \u001b[0;32mand\u001b[0m \u001b[0;32mnot\u001b[0m \u001b[0misinstance\u001b[0m\u001b[0;34m(\u001b[0m\u001b[0mfunc_err\u001b[0m\u001b[0;34m,\u001b[0m \u001b[0mcatch\u001b[0m\u001b[0;34m)\u001b[0m\u001b[0;34m\u001b[0m\u001b[0;34m\u001b[0m\u001b[0m\n\u001b[1;32m    246\u001b[0m     ):\n\u001b[0;32m--> 247\u001b[0;31m         \u001b[0;32mraise\u001b[0m \u001b[0mfunc_err\u001b[0m\u001b[0;34m\u001b[0m\u001b[0;34m\u001b[0m\u001b[0m\n\u001b[0m\u001b[1;32m    248\u001b[0m     \u001b[0;32mreturn\u001b[0m \u001b[0mfrozen_trial\u001b[0m\u001b[0;34m\u001b[0m\u001b[0;34m\u001b[0m\u001b[0m\n",
      "\u001b[0;32m~/miniconda3/envs/ml4hc/lib/python3.10/site-packages/optuna/study/_optimize.py\u001b[0m in \u001b[0;36m?\u001b[0;34m(study, func, catch)\u001b[0m\n\u001b[1;32m    243\u001b[0m         \u001b[0mfrozen_trial\u001b[0m\u001b[0;34m.\u001b[0m\u001b[0mstate\u001b[0m \u001b[0;34m==\u001b[0m \u001b[0mTrialState\u001b[0m\u001b[0;34m.\u001b[0m\u001b[0mFAIL\u001b[0m\u001b[0;34m\u001b[0m\u001b[0;34m\u001b[0m\u001b[0m\n\u001b[1;32m    244\u001b[0m         \u001b[0;32mand\u001b[0m \u001b[0mfunc_err\u001b[0m \u001b[0;32mis\u001b[0m \u001b[0;32mnot\u001b[0m \u001b[0;32mNone\u001b[0m\u001b[0;34m\u001b[0m\u001b[0;34m\u001b[0m\u001b[0m\n\u001b[1;32m    245\u001b[0m         \u001b[0;32mand\u001b[0m \u001b[0;32mnot\u001b[0m \u001b[0misinstance\u001b[0m\u001b[0;34m(\u001b[0m\u001b[0mfunc_err\u001b[0m\u001b[0;34m,\u001b[0m \u001b[0mcatch\u001b[0m\u001b[0;34m)\u001b[0m\u001b[0;34m\u001b[0m\u001b[0;34m\u001b[0m\u001b[0m\n\u001b[1;32m    246\u001b[0m     ):\n\u001b[0;32m--> 247\u001b[0;31m         \u001b[0;32mraise\u001b[0m \u001b[0mfunc_err\u001b[0m\u001b[0;34m\u001b[0m\u001b[0;34m\u001b[0m\u001b[0m\n\u001b[0m\u001b[1;32m    248\u001b[0m     \u001b[0;32mreturn\u001b[0m \u001b[0mfrozen_trial\u001b[0m\u001b[0;34m\u001b[0m\u001b[0;34m\u001b[0m\u001b[0m\n",
      "\u001b[0;32m/tmp/ipykernel_713420/1336012686.py\u001b[0m in \u001b[0;36m?\u001b[0;34m(trial)\u001b[0m\n\u001b[1;32m     19\u001b[0m         \u001b[0mX_train\u001b[0m\u001b[0;34m,\u001b[0m \u001b[0mX_val\u001b[0m \u001b[0;34m=\u001b[0m \u001b[0mX_train_merged\u001b[0m\u001b[0;34m.\u001b[0m\u001b[0miloc\u001b[0m\u001b[0;34m[\u001b[0m\u001b[0mtrain_idx\u001b[0m\u001b[0;34m]\u001b[0m\u001b[0;34m,\u001b[0m \u001b[0mX_train_merged\u001b[0m\u001b[0;34m.\u001b[0m\u001b[0miloc\u001b[0m\u001b[0;34m[\u001b[0m\u001b[0mval_idx\u001b[0m\u001b[0;34m]\u001b[0m\u001b[0;34m\u001b[0m\u001b[0;34m\u001b[0m\u001b[0m\n\u001b[1;32m     20\u001b[0m         \u001b[0my_train\u001b[0m\u001b[0;34m,\u001b[0m \u001b[0my_val\u001b[0m \u001b[0;34m=\u001b[0m \u001b[0my_train_all\u001b[0m\u001b[0;34m[\u001b[0m\u001b[0mtrain_idx\u001b[0m\u001b[0;34m]\u001b[0m\u001b[0;34m,\u001b[0m \u001b[0my_train_all\u001b[0m\u001b[0;34m[\u001b[0m\u001b[0mval_idx\u001b[0m\u001b[0;34m]\u001b[0m\u001b[0;34m\u001b[0m\u001b[0;34m\u001b[0m\u001b[0m\n\u001b[1;32m     21\u001b[0m \u001b[0;34m\u001b[0m\u001b[0m\n\u001b[1;32m     22\u001b[0m         \u001b[0msmote\u001b[0m \u001b[0;34m=\u001b[0m \u001b[0mSMOTE\u001b[0m\u001b[0;34m(\u001b[0m\u001b[0mrandom_state\u001b[0m\u001b[0;34m=\u001b[0m\u001b[0mconfig\u001b[0m\u001b[0;34m[\u001b[0m\u001b[0;34m\"general\"\u001b[0m\u001b[0;34m]\u001b[0m\u001b[0;34m[\u001b[0m\u001b[0;34m\"seed\"\u001b[0m\u001b[0;34m]\u001b[0m\u001b[0;34m)\u001b[0m\u001b[0;34m\u001b[0m\u001b[0;34m\u001b[0m\u001b[0m\n\u001b[0;32m---> 23\u001b[0;31m         \u001b[0mX_train\u001b[0m\u001b[0;34m,\u001b[0m \u001b[0my_train\u001b[0m \u001b[0;34m=\u001b[0m \u001b[0msmote\u001b[0m\u001b[0;34m.\u001b[0m\u001b[0mfit_resample\u001b[0m\u001b[0;34m(\u001b[0m\u001b[0mX_train\u001b[0m\u001b[0;34m,\u001b[0m \u001b[0my_train\u001b[0m\u001b[0;34m)\u001b[0m\u001b[0;34m\u001b[0m\u001b[0;34m\u001b[0m\u001b[0m\n\u001b[0m\u001b[1;32m     24\u001b[0m \u001b[0;34m\u001b[0m\u001b[0m\n\u001b[1;32m     25\u001b[0m         \u001b[0mX_train\u001b[0m \u001b[0;34m=\u001b[0m \u001b[0mpreprocessor\u001b[0m\u001b[0;34m.\u001b[0m\u001b[0mfit_transform\u001b[0m\u001b[0;34m(\u001b[0m\u001b[0mX_train\u001b[0m\u001b[0;34m)\u001b[0m\u001b[0;34m\u001b[0m\u001b[0;34m\u001b[0m\u001b[0m\n\u001b[1;32m     26\u001b[0m         \u001b[0mX_val\u001b[0m \u001b[0;34m=\u001b[0m \u001b[0mpreprocessor\u001b[0m\u001b[0;34m.\u001b[0m\u001b[0mtransform\u001b[0m\u001b[0;34m(\u001b[0m\u001b[0mX_val\u001b[0m\u001b[0;34m)\u001b[0m\u001b[0;34m\u001b[0m\u001b[0;34m\u001b[0m\u001b[0m\n",
      "\u001b[0;32m~/miniconda3/envs/ml4hc/lib/python3.10/site-packages/imblearn/base.py\u001b[0m in \u001b[0;36m?\u001b[0;34m(self, X, y)\u001b[0m\n\u001b[1;32m    204\u001b[0m         \u001b[0my_resampled\u001b[0m \u001b[0;34m:\u001b[0m \u001b[0marray\u001b[0m\u001b[0;34m-\u001b[0m\u001b[0mlike\u001b[0m \u001b[0mof\u001b[0m \u001b[0mshape\u001b[0m \u001b[0;34m(\u001b[0m\u001b[0mn_samples_new\u001b[0m\u001b[0;34m,\u001b[0m\u001b[0;34m)\u001b[0m\u001b[0;34m\u001b[0m\u001b[0;34m\u001b[0m\u001b[0m\n\u001b[1;32m    205\u001b[0m             \u001b[0mThe\u001b[0m \u001b[0mcorresponding\u001b[0m \u001b[0mlabel\u001b[0m \u001b[0mof\u001b[0m\u001b[0;31m \u001b[0m\u001b[0;31m`\u001b[0m\u001b[0mX_resampled\u001b[0m\u001b[0;31m`\u001b[0m\u001b[0;34m.\u001b[0m\u001b[0;34m\u001b[0m\u001b[0;34m\u001b[0m\u001b[0m\n\u001b[1;32m    206\u001b[0m         \"\"\"\n\u001b[1;32m    207\u001b[0m         \u001b[0mself\u001b[0m\u001b[0;34m.\u001b[0m\u001b[0m_validate_params\u001b[0m\u001b[0;34m(\u001b[0m\u001b[0;34m)\u001b[0m\u001b[0;34m\u001b[0m\u001b[0;34m\u001b[0m\u001b[0m\n\u001b[0;32m--> 208\u001b[0;31m         \u001b[0;32mreturn\u001b[0m \u001b[0msuper\u001b[0m\u001b[0;34m(\u001b[0m\u001b[0;34m)\u001b[0m\u001b[0;34m.\u001b[0m\u001b[0mfit_resample\u001b[0m\u001b[0;34m(\u001b[0m\u001b[0mX\u001b[0m\u001b[0;34m,\u001b[0m \u001b[0my\u001b[0m\u001b[0;34m)\u001b[0m\u001b[0;34m\u001b[0m\u001b[0;34m\u001b[0m\u001b[0m\n\u001b[0m",
      "\u001b[0;32m~/miniconda3/envs/ml4hc/lib/python3.10/site-packages/imblearn/base.py\u001b[0m in \u001b[0;36m?\u001b[0;34m(self, X, y)\u001b[0m\n\u001b[1;32m    114\u001b[0m         y_ = (\n\u001b[1;32m    115\u001b[0m             \u001b[0mlabel_binarize\u001b[0m\u001b[0;34m(\u001b[0m\u001b[0moutput\u001b[0m\u001b[0;34m[\u001b[0m\u001b[0;36m1\u001b[0m\u001b[0;34m]\u001b[0m\u001b[0;34m,\u001b[0m \u001b[0mclasses\u001b[0m\u001b[0;34m=\u001b[0m\u001b[0mnp\u001b[0m\u001b[0;34m.\u001b[0m\u001b[0munique\u001b[0m\u001b[0;34m(\u001b[0m\u001b[0my\u001b[0m\u001b[0;34m)\u001b[0m\u001b[0;34m)\u001b[0m \u001b[0;32mif\u001b[0m \u001b[0mbinarize_y\u001b[0m \u001b[0;32melse\u001b[0m \u001b[0moutput\u001b[0m\u001b[0;34m[\u001b[0m\u001b[0;36m1\u001b[0m\u001b[0;34m]\u001b[0m\u001b[0;34m\u001b[0m\u001b[0;34m\u001b[0m\u001b[0m\n\u001b[1;32m    116\u001b[0m         )\n\u001b[1;32m    117\u001b[0m \u001b[0;34m\u001b[0m\u001b[0m\n\u001b[0;32m--> 118\u001b[0;31m         \u001b[0mX_\u001b[0m\u001b[0;34m,\u001b[0m \u001b[0my_\u001b[0m \u001b[0;34m=\u001b[0m \u001b[0marrays_transformer\u001b[0m\u001b[0;34m.\u001b[0m\u001b[0mtransform\u001b[0m\u001b[0;34m(\u001b[0m\u001b[0moutput\u001b[0m\u001b[0;34m[\u001b[0m\u001b[0;36m0\u001b[0m\u001b[0;34m]\u001b[0m\u001b[0;34m,\u001b[0m \u001b[0my_\u001b[0m\u001b[0;34m)\u001b[0m\u001b[0;34m\u001b[0m\u001b[0;34m\u001b[0m\u001b[0m\n\u001b[0m\u001b[1;32m    119\u001b[0m         \u001b[0;32mreturn\u001b[0m \u001b[0;34m(\u001b[0m\u001b[0mX_\u001b[0m\u001b[0;34m,\u001b[0m \u001b[0my_\u001b[0m\u001b[0;34m)\u001b[0m \u001b[0;32mif\u001b[0m \u001b[0mlen\u001b[0m\u001b[0;34m(\u001b[0m\u001b[0moutput\u001b[0m\u001b[0;34m)\u001b[0m \u001b[0;34m==\u001b[0m \u001b[0;36m2\u001b[0m \u001b[0;32melse\u001b[0m \u001b[0;34m(\u001b[0m\u001b[0mX_\u001b[0m\u001b[0;34m,\u001b[0m \u001b[0my_\u001b[0m\u001b[0;34m,\u001b[0m \u001b[0moutput\u001b[0m\u001b[0;34m[\u001b[0m\u001b[0;36m2\u001b[0m\u001b[0;34m]\u001b[0m\u001b[0;34m)\u001b[0m\u001b[0;34m\u001b[0m\u001b[0;34m\u001b[0m\u001b[0m\n",
      "\u001b[0;32m~/miniconda3/envs/ml4hc/lib/python3.10/site-packages/imblearn/utils/_validation.py\u001b[0m in \u001b[0;36m?\u001b[0;34m(self, X, y)\u001b[0m\n\u001b[1;32m     39\u001b[0m     \u001b[0;32mdef\u001b[0m \u001b[0mtransform\u001b[0m\u001b[0;34m(\u001b[0m\u001b[0mself\u001b[0m\u001b[0;34m,\u001b[0m \u001b[0mX\u001b[0m\u001b[0;34m,\u001b[0m \u001b[0my\u001b[0m\u001b[0;34m)\u001b[0m\u001b[0;34m:\u001b[0m\u001b[0;34m\u001b[0m\u001b[0;34m\u001b[0m\u001b[0m\n\u001b[0;32m---> 40\u001b[0;31m         \u001b[0mX\u001b[0m \u001b[0;34m=\u001b[0m \u001b[0mself\u001b[0m\u001b[0;34m.\u001b[0m\u001b[0m_transfrom_one\u001b[0m\u001b[0;34m(\u001b[0m\u001b[0mX\u001b[0m\u001b[0;34m,\u001b[0m \u001b[0mself\u001b[0m\u001b[0;34m.\u001b[0m\u001b[0mx_props\u001b[0m\u001b[0;34m)\u001b[0m\u001b[0;34m\u001b[0m\u001b[0;34m\u001b[0m\u001b[0m\n\u001b[0m\u001b[1;32m     41\u001b[0m         \u001b[0my\u001b[0m \u001b[0;34m=\u001b[0m \u001b[0mself\u001b[0m\u001b[0;34m.\u001b[0m\u001b[0m_transfrom_one\u001b[0m\u001b[0;34m(\u001b[0m\u001b[0my\u001b[0m\u001b[0;34m,\u001b[0m \u001b[0mself\u001b[0m\u001b[0;34m.\u001b[0m\u001b[0my_props\u001b[0m\u001b[0;34m)\u001b[0m\u001b[0;34m\u001b[0m\u001b[0;34m\u001b[0m\u001b[0m\n\u001b[1;32m     42\u001b[0m         if self.x_props[\"type\"].lower() == \"dataframe\" and self.y_props[\n\u001b[1;32m     43\u001b[0m             \u001b[0;34m\"type\"\u001b[0m\u001b[0;34m\u001b[0m\u001b[0;34m\u001b[0m\u001b[0m\n",
      "\u001b[0;32m~/miniconda3/envs/ml4hc/lib/python3.10/site-packages/imblearn/utils/_validation.py\u001b[0m in \u001b[0;36m?\u001b[0;34m(self, array, props)\u001b[0m\n\u001b[1;32m     68\u001b[0m                 \u001b[0mret\u001b[0m \u001b[0;34m=\u001b[0m \u001b[0mpd\u001b[0m\u001b[0;34m.\u001b[0m\u001b[0mDataFrame\u001b[0m\u001b[0;34m(\u001b[0m\u001b[0marray\u001b[0m\u001b[0;34m,\u001b[0m \u001b[0mcolumns\u001b[0m\u001b[0;34m=\u001b[0m\u001b[0mprops\u001b[0m\u001b[0;34m[\u001b[0m\u001b[0;34m\"columns\"\u001b[0m\u001b[0;34m]\u001b[0m\u001b[0;34m)\u001b[0m\u001b[0;34m\u001b[0m\u001b[0;34m\u001b[0m\u001b[0m\n\u001b[1;32m     69\u001b[0m \u001b[0;34m\u001b[0m\u001b[0m\n\u001b[1;32m     70\u001b[0m             \u001b[0;32mtry\u001b[0m\u001b[0;34m:\u001b[0m\u001b[0;34m\u001b[0m\u001b[0;34m\u001b[0m\u001b[0m\n\u001b[1;32m     71\u001b[0m                 \u001b[0mret\u001b[0m \u001b[0;34m=\u001b[0m \u001b[0mret\u001b[0m\u001b[0;34m.\u001b[0m\u001b[0mastype\u001b[0m\u001b[0;34m(\u001b[0m\u001b[0mprops\u001b[0m\u001b[0;34m[\u001b[0m\u001b[0;34m\"dtypes\"\u001b[0m\u001b[0;34m]\u001b[0m\u001b[0;34m)\u001b[0m\u001b[0;34m\u001b[0m\u001b[0;34m\u001b[0m\u001b[0m\n\u001b[0;32m---> 72\u001b[0;31m             \u001b[0;32mexcept\u001b[0m \u001b[0mTypeError\u001b[0m\u001b[0;34m:\u001b[0m\u001b[0;34m\u001b[0m\u001b[0;34m\u001b[0m\u001b[0m\n\u001b[0m\u001b[1;32m     73\u001b[0m                 \u001b[0;31m# We special case the following error:\u001b[0m\u001b[0;34m\u001b[0m\u001b[0;34m\u001b[0m\u001b[0m\n\u001b[1;32m     74\u001b[0m                 \u001b[0;31m# https://github.com/scikit-learn-contrib/imbalanced-learn/issues/1055\u001b[0m\u001b[0;34m\u001b[0m\u001b[0;34m\u001b[0m\u001b[0m\n\u001b[1;32m     75\u001b[0m                 \u001b[0;31m# There is no easy way to have a generic workaround. Here, we detect\u001b[0m\u001b[0;34m\u001b[0m\u001b[0;34m\u001b[0m\u001b[0m\n",
      "\u001b[0;32m~/miniconda3/envs/ml4hc/lib/python3.10/site-packages/pandas/core/generic.py\u001b[0m in \u001b[0;36m?\u001b[0;34m(self, dtype, copy, errors)\u001b[0m\n\u001b[1;32m   6607\u001b[0m \u001b[0;34m\u001b[0m\u001b[0m\n\u001b[1;32m   6608\u001b[0m             \u001b[0mdtype_ser\u001b[0m \u001b[0;34m=\u001b[0m \u001b[0mdtype_ser\u001b[0m\u001b[0;34m.\u001b[0m\u001b[0mreindex\u001b[0m\u001b[0;34m(\u001b[0m\u001b[0mself\u001b[0m\u001b[0;34m.\u001b[0m\u001b[0mcolumns\u001b[0m\u001b[0;34m,\u001b[0m \u001b[0mfill_value\u001b[0m\u001b[0;34m=\u001b[0m\u001b[0;32mNone\u001b[0m\u001b[0;34m,\u001b[0m \u001b[0mcopy\u001b[0m\u001b[0;34m=\u001b[0m\u001b[0;32mFalse\u001b[0m\u001b[0;34m)\u001b[0m\u001b[0;34m\u001b[0m\u001b[0;34m\u001b[0m\u001b[0m\n\u001b[1;32m   6609\u001b[0m \u001b[0;34m\u001b[0m\u001b[0m\n\u001b[1;32m   6610\u001b[0m             \u001b[0mresults\u001b[0m \u001b[0;34m=\u001b[0m \u001b[0;34m[\u001b[0m\u001b[0;34m]\u001b[0m\u001b[0;34m\u001b[0m\u001b[0;34m\u001b[0m\u001b[0m\n\u001b[0;32m-> 6611\u001b[0;31m             \u001b[0;32mfor\u001b[0m \u001b[0mi\u001b[0m\u001b[0;34m,\u001b[0m \u001b[0;34m(\u001b[0m\u001b[0mcol_name\u001b[0m\u001b[0;34m,\u001b[0m \u001b[0mcol\u001b[0m\u001b[0;34m)\u001b[0m \u001b[0;32min\u001b[0m \u001b[0menumerate\u001b[0m\u001b[0;34m(\u001b[0m\u001b[0mself\u001b[0m\u001b[0;34m.\u001b[0m\u001b[0mitems\u001b[0m\u001b[0;34m(\u001b[0m\u001b[0;34m)\u001b[0m\u001b[0;34m)\u001b[0m\u001b[0;34m:\u001b[0m\u001b[0;34m\u001b[0m\u001b[0;34m\u001b[0m\u001b[0m\n\u001b[0m\u001b[1;32m   6612\u001b[0m                 \u001b[0mcdt\u001b[0m \u001b[0;34m=\u001b[0m \u001b[0mdtype_ser\u001b[0m\u001b[0;34m.\u001b[0m\u001b[0miat\u001b[0m\u001b[0;34m[\u001b[0m\u001b[0mi\u001b[0m\u001b[0;34m]\u001b[0m\u001b[0;34m\u001b[0m\u001b[0;34m\u001b[0m\u001b[0m\n\u001b[1;32m   6613\u001b[0m                 \u001b[0;32mif\u001b[0m \u001b[0misna\u001b[0m\u001b[0;34m(\u001b[0m\u001b[0mcdt\u001b[0m\u001b[0;34m)\u001b[0m\u001b[0;34m:\u001b[0m\u001b[0;34m\u001b[0m\u001b[0;34m\u001b[0m\u001b[0m\n\u001b[1;32m   6614\u001b[0m                     \u001b[0mres_col\u001b[0m \u001b[0;34m=\u001b[0m \u001b[0mcol\u001b[0m\u001b[0;34m.\u001b[0m\u001b[0mcopy\u001b[0m\u001b[0;34m(\u001b[0m\u001b[0mdeep\u001b[0m\u001b[0;34m=\u001b[0m\u001b[0mcopy\u001b[0m\u001b[0;34m)\u001b[0m\u001b[0;34m\u001b[0m\u001b[0;34m\u001b[0m\u001b[0m\n",
      "\u001b[0;32m~/miniconda3/envs/ml4hc/lib/python3.10/site-packages/pandas/core/frame.py\u001b[0m in \u001b[0;36m?\u001b[0;34m(self)\u001b[0m\n\u001b[1;32m   1484\u001b[0m     \u001b[0;34m@\u001b[0m\u001b[0mAppender\u001b[0m\u001b[0;34m(\u001b[0m\u001b[0m_shared_docs\u001b[0m\u001b[0;34m[\u001b[0m\u001b[0;34m\"items\"\u001b[0m\u001b[0;34m]\u001b[0m\u001b[0;34m)\u001b[0m\u001b[0;34m\u001b[0m\u001b[0;34m\u001b[0m\u001b[0m\n\u001b[1;32m   1485\u001b[0m     \u001b[0;32mdef\u001b[0m \u001b[0mitems\u001b[0m\u001b[0;34m(\u001b[0m\u001b[0mself\u001b[0m\u001b[0;34m)\u001b[0m \u001b[0;34m->\u001b[0m \u001b[0mIterable\u001b[0m\u001b[0;34m[\u001b[0m\u001b[0mtuple\u001b[0m\u001b[0;34m[\u001b[0m\u001b[0mHashable\u001b[0m\u001b[0;34m,\u001b[0m \u001b[0mSeries\u001b[0m\u001b[0;34m]\u001b[0m\u001b[0;34m]\u001b[0m\u001b[0;34m:\u001b[0m\u001b[0;34m\u001b[0m\u001b[0;34m\u001b[0m\u001b[0m\n\u001b[1;32m   1486\u001b[0m         \u001b[0;32mif\u001b[0m \u001b[0mself\u001b[0m\u001b[0;34m.\u001b[0m\u001b[0mcolumns\u001b[0m\u001b[0;34m.\u001b[0m\u001b[0mis_unique\u001b[0m \u001b[0;32mand\u001b[0m \u001b[0mhasattr\u001b[0m\u001b[0;34m(\u001b[0m\u001b[0mself\u001b[0m\u001b[0;34m,\u001b[0m \u001b[0;34m\"_item_cache\"\u001b[0m\u001b[0;34m)\u001b[0m\u001b[0;34m:\u001b[0m\u001b[0;34m\u001b[0m\u001b[0;34m\u001b[0m\u001b[0m\n\u001b[1;32m   1487\u001b[0m             \u001b[0;32mfor\u001b[0m \u001b[0mk\u001b[0m \u001b[0;32min\u001b[0m \u001b[0mself\u001b[0m\u001b[0;34m.\u001b[0m\u001b[0mcolumns\u001b[0m\u001b[0;34m:\u001b[0m\u001b[0;34m\u001b[0m\u001b[0;34m\u001b[0m\u001b[0m\n\u001b[0;32m-> 1488\u001b[0;31m                 \u001b[0;32myield\u001b[0m \u001b[0mk\u001b[0m\u001b[0;34m,\u001b[0m \u001b[0mself\u001b[0m\u001b[0;34m.\u001b[0m\u001b[0m_get_item_cache\u001b[0m\u001b[0;34m(\u001b[0m\u001b[0mk\u001b[0m\u001b[0;34m)\u001b[0m\u001b[0;34m\u001b[0m\u001b[0;34m\u001b[0m\u001b[0m\n\u001b[0m\u001b[1;32m   1489\u001b[0m         \u001b[0;32melse\u001b[0m\u001b[0;34m:\u001b[0m\u001b[0;34m\u001b[0m\u001b[0;34m\u001b[0m\u001b[0m\n\u001b[1;32m   1490\u001b[0m             \u001b[0;32mfor\u001b[0m \u001b[0mi\u001b[0m\u001b[0;34m,\u001b[0m \u001b[0mk\u001b[0m \u001b[0;32min\u001b[0m \u001b[0menumerate\u001b[0m\u001b[0;34m(\u001b[0m\u001b[0mself\u001b[0m\u001b[0;34m.\u001b[0m\u001b[0mcolumns\u001b[0m\u001b[0;34m)\u001b[0m\u001b[0;34m:\u001b[0m\u001b[0;34m\u001b[0m\u001b[0;34m\u001b[0m\u001b[0m\n\u001b[1;32m   1491\u001b[0m                 \u001b[0;32myield\u001b[0m \u001b[0mk\u001b[0m\u001b[0;34m,\u001b[0m \u001b[0mself\u001b[0m\u001b[0;34m.\u001b[0m\u001b[0m_ixs\u001b[0m\u001b[0;34m(\u001b[0m\u001b[0mi\u001b[0m\u001b[0;34m,\u001b[0m \u001b[0maxis\u001b[0m\u001b[0;34m=\u001b[0m\u001b[0;36m1\u001b[0m\u001b[0;34m)\u001b[0m\u001b[0;34m\u001b[0m\u001b[0;34m\u001b[0m\u001b[0m\n",
      "\u001b[0;32m~/miniconda3/envs/ml4hc/lib/python3.10/site-packages/pandas/core/frame.py\u001b[0m in \u001b[0;36m?\u001b[0;34m(self, item)\u001b[0m\n\u001b[1;32m   4623\u001b[0m             \u001b[0;31m# All places that call _get_item_cache have unique columns,\u001b[0m\u001b[0;34m\u001b[0m\u001b[0;34m\u001b[0m\u001b[0m\n\u001b[1;32m   4624\u001b[0m             \u001b[0;31m#  pending resolution of GH#33047\u001b[0m\u001b[0;34m\u001b[0m\u001b[0;34m\u001b[0m\u001b[0m\n\u001b[1;32m   4625\u001b[0m \u001b[0;34m\u001b[0m\u001b[0m\n\u001b[1;32m   4626\u001b[0m             \u001b[0mloc\u001b[0m \u001b[0;34m=\u001b[0m \u001b[0mself\u001b[0m\u001b[0;34m.\u001b[0m\u001b[0mcolumns\u001b[0m\u001b[0;34m.\u001b[0m\u001b[0mget_loc\u001b[0m\u001b[0;34m(\u001b[0m\u001b[0mitem\u001b[0m\u001b[0;34m)\u001b[0m\u001b[0;34m\u001b[0m\u001b[0;34m\u001b[0m\u001b[0m\n\u001b[0;32m-> 4627\u001b[0;31m             \u001b[0mres\u001b[0m \u001b[0;34m=\u001b[0m \u001b[0mself\u001b[0m\u001b[0;34m.\u001b[0m\u001b[0m_ixs\u001b[0m\u001b[0;34m(\u001b[0m\u001b[0mloc\u001b[0m\u001b[0;34m,\u001b[0m \u001b[0maxis\u001b[0m\u001b[0;34m=\u001b[0m\u001b[0;36m1\u001b[0m\u001b[0;34m)\u001b[0m\u001b[0;34m\u001b[0m\u001b[0;34m\u001b[0m\u001b[0m\n\u001b[0m\u001b[1;32m   4628\u001b[0m \u001b[0;34m\u001b[0m\u001b[0m\n\u001b[1;32m   4629\u001b[0m             \u001b[0mcache\u001b[0m\u001b[0;34m[\u001b[0m\u001b[0mitem\u001b[0m\u001b[0;34m]\u001b[0m \u001b[0;34m=\u001b[0m \u001b[0mres\u001b[0m\u001b[0;34m\u001b[0m\u001b[0;34m\u001b[0m\u001b[0m\n\u001b[1;32m   4630\u001b[0m \u001b[0;34m\u001b[0m\u001b[0m\n",
      "\u001b[0;32m~/miniconda3/envs/ml4hc/lib/python3.10/site-packages/pandas/core/frame.py\u001b[0m in \u001b[0;36m?\u001b[0;34m(self, i, axis)\u001b[0m\n\u001b[1;32m   3995\u001b[0m         \u001b[0;32melse\u001b[0m\u001b[0;34m:\u001b[0m\u001b[0;34m\u001b[0m\u001b[0;34m\u001b[0m\u001b[0m\n\u001b[1;32m   3996\u001b[0m             \u001b[0mlabel\u001b[0m \u001b[0;34m=\u001b[0m \u001b[0mself\u001b[0m\u001b[0;34m.\u001b[0m\u001b[0mcolumns\u001b[0m\u001b[0;34m[\u001b[0m\u001b[0mi\u001b[0m\u001b[0;34m]\u001b[0m\u001b[0;34m\u001b[0m\u001b[0;34m\u001b[0m\u001b[0m\n\u001b[1;32m   3997\u001b[0m \u001b[0;34m\u001b[0m\u001b[0m\n\u001b[1;32m   3998\u001b[0m             \u001b[0mcol_mgr\u001b[0m \u001b[0;34m=\u001b[0m \u001b[0mself\u001b[0m\u001b[0;34m.\u001b[0m\u001b[0m_mgr\u001b[0m\u001b[0;34m.\u001b[0m\u001b[0miget\u001b[0m\u001b[0;34m(\u001b[0m\u001b[0mi\u001b[0m\u001b[0;34m)\u001b[0m\u001b[0;34m\u001b[0m\u001b[0;34m\u001b[0m\u001b[0m\n\u001b[0;32m-> 3999\u001b[0;31m             \u001b[0mresult\u001b[0m \u001b[0;34m=\u001b[0m \u001b[0mself\u001b[0m\u001b[0;34m.\u001b[0m\u001b[0m_box_col_values\u001b[0m\u001b[0;34m(\u001b[0m\u001b[0mcol_mgr\u001b[0m\u001b[0;34m,\u001b[0m \u001b[0mi\u001b[0m\u001b[0;34m)\u001b[0m\u001b[0;34m\u001b[0m\u001b[0;34m\u001b[0m\u001b[0m\n\u001b[0m\u001b[1;32m   4000\u001b[0m \u001b[0;34m\u001b[0m\u001b[0m\n\u001b[1;32m   4001\u001b[0m             \u001b[0;31m# this is a cached value, mark it so\u001b[0m\u001b[0;34m\u001b[0m\u001b[0;34m\u001b[0m\u001b[0m\n\u001b[1;32m   4002\u001b[0m             \u001b[0mresult\u001b[0m\u001b[0;34m.\u001b[0m\u001b[0m_set_as_cached\u001b[0m\u001b[0;34m(\u001b[0m\u001b[0mlabel\u001b[0m\u001b[0;34m,\u001b[0m \u001b[0mself\u001b[0m\u001b[0;34m)\u001b[0m\u001b[0;34m\u001b[0m\u001b[0;34m\u001b[0m\u001b[0m\n",
      "\u001b[0;32m~/miniconda3/envs/ml4hc/lib/python3.10/site-packages/pandas/core/frame.py\u001b[0m in \u001b[0;36m?\u001b[0;34m(self, values, loc)\u001b[0m\n\u001b[1;32m   4600\u001b[0m         \u001b[0;31m# Lookup in columns so that if e.g. a str datetime was passed\u001b[0m\u001b[0;34m\u001b[0m\u001b[0;34m\u001b[0m\u001b[0m\n\u001b[1;32m   4601\u001b[0m         \u001b[0;31m#  we attach the Timestamp object as the name.\u001b[0m\u001b[0;34m\u001b[0m\u001b[0;34m\u001b[0m\u001b[0m\n\u001b[1;32m   4602\u001b[0m         \u001b[0mname\u001b[0m \u001b[0;34m=\u001b[0m \u001b[0mself\u001b[0m\u001b[0;34m.\u001b[0m\u001b[0mcolumns\u001b[0m\u001b[0;34m[\u001b[0m\u001b[0mloc\u001b[0m\u001b[0;34m]\u001b[0m\u001b[0;34m\u001b[0m\u001b[0;34m\u001b[0m\u001b[0m\n\u001b[1;32m   4603\u001b[0m         \u001b[0;31m# We get index=self.index bc values is a SingleDataManager\u001b[0m\u001b[0;34m\u001b[0m\u001b[0;34m\u001b[0m\u001b[0m\n\u001b[0;32m-> 4604\u001b[0;31m         \u001b[0mobj\u001b[0m \u001b[0;34m=\u001b[0m \u001b[0mself\u001b[0m\u001b[0;34m.\u001b[0m\u001b[0m_constructor_sliced_from_mgr\u001b[0m\u001b[0;34m(\u001b[0m\u001b[0mvalues\u001b[0m\u001b[0;34m,\u001b[0m \u001b[0maxes\u001b[0m\u001b[0;34m=\u001b[0m\u001b[0mvalues\u001b[0m\u001b[0;34m.\u001b[0m\u001b[0maxes\u001b[0m\u001b[0;34m)\u001b[0m\u001b[0;34m\u001b[0m\u001b[0;34m\u001b[0m\u001b[0m\n\u001b[0m\u001b[1;32m   4605\u001b[0m         \u001b[0mobj\u001b[0m\u001b[0;34m.\u001b[0m\u001b[0m_name\u001b[0m \u001b[0;34m=\u001b[0m \u001b[0mname\u001b[0m\u001b[0;34m\u001b[0m\u001b[0;34m\u001b[0m\u001b[0m\n\u001b[1;32m   4606\u001b[0m         \u001b[0;32mreturn\u001b[0m \u001b[0mobj\u001b[0m\u001b[0;34m.\u001b[0m\u001b[0m__finalize__\u001b[0m\u001b[0;34m(\u001b[0m\u001b[0mself\u001b[0m\u001b[0;34m)\u001b[0m\u001b[0;34m\u001b[0m\u001b[0;34m\u001b[0m\u001b[0m\n",
      "\u001b[0;32m~/miniconda3/envs/ml4hc/lib/python3.10/site-packages/pandas/core/frame.py\u001b[0m in \u001b[0;36m?\u001b[0;34m(self, mgr, axes)\u001b[0m\n\u001b[1;32m    672\u001b[0m     \u001b[0;32mdef\u001b[0m \u001b[0m_constructor_sliced_from_mgr\u001b[0m\u001b[0;34m(\u001b[0m\u001b[0mself\u001b[0m\u001b[0;34m,\u001b[0m \u001b[0mmgr\u001b[0m\u001b[0;34m,\u001b[0m \u001b[0maxes\u001b[0m\u001b[0;34m)\u001b[0m\u001b[0;34m:\u001b[0m\u001b[0;34m\u001b[0m\u001b[0;34m\u001b[0m\u001b[0m\n\u001b[1;32m    673\u001b[0m         \u001b[0;32mif\u001b[0m \u001b[0mself\u001b[0m\u001b[0;34m.\u001b[0m\u001b[0m_constructor_sliced\u001b[0m \u001b[0;32mis\u001b[0m \u001b[0mSeries\u001b[0m\u001b[0;34m:\u001b[0m\u001b[0;34m\u001b[0m\u001b[0;34m\u001b[0m\u001b[0m\n\u001b[0;32m--> 674\u001b[0;31m             \u001b[0mser\u001b[0m \u001b[0;34m=\u001b[0m \u001b[0mself\u001b[0m\u001b[0;34m.\u001b[0m\u001b[0m_sliced_from_mgr\u001b[0m\u001b[0;34m(\u001b[0m\u001b[0mmgr\u001b[0m\u001b[0;34m,\u001b[0m \u001b[0maxes\u001b[0m\u001b[0;34m)\u001b[0m\u001b[0;34m\u001b[0m\u001b[0;34m\u001b[0m\u001b[0m\n\u001b[0m\u001b[1;32m    675\u001b[0m             \u001b[0mser\u001b[0m\u001b[0;34m.\u001b[0m\u001b[0m_name\u001b[0m \u001b[0;34m=\u001b[0m \u001b[0;32mNone\u001b[0m  \u001b[0;31m# caller is responsible for setting real name\u001b[0m\u001b[0;34m\u001b[0m\u001b[0;34m\u001b[0m\u001b[0m\n\u001b[1;32m    676\u001b[0m             \u001b[0;32mreturn\u001b[0m \u001b[0mser\u001b[0m\u001b[0;34m\u001b[0m\u001b[0;34m\u001b[0m\u001b[0m\n\u001b[1;32m    677\u001b[0m         \u001b[0;32massert\u001b[0m \u001b[0maxes\u001b[0m \u001b[0;32mis\u001b[0m \u001b[0mmgr\u001b[0m\u001b[0;34m.\u001b[0m\u001b[0maxes\u001b[0m\u001b[0;34m\u001b[0m\u001b[0;34m\u001b[0m\u001b[0m\n",
      "\u001b[0;32m~/miniconda3/envs/ml4hc/lib/python3.10/site-packages/pandas/core/frame.py\u001b[0m in \u001b[0;36m?\u001b[0;34m(self, mgr, axes)\u001b[0m\n\u001b[1;32m    669\u001b[0m     \u001b[0;32mdef\u001b[0m \u001b[0m_sliced_from_mgr\u001b[0m\u001b[0;34m(\u001b[0m\u001b[0mself\u001b[0m\u001b[0;34m,\u001b[0m \u001b[0mmgr\u001b[0m\u001b[0;34m,\u001b[0m \u001b[0maxes\u001b[0m\u001b[0;34m)\u001b[0m \u001b[0;34m->\u001b[0m \u001b[0mSeries\u001b[0m\u001b[0;34m:\u001b[0m\u001b[0;34m\u001b[0m\u001b[0;34m\u001b[0m\u001b[0m\n\u001b[0;32m--> 670\u001b[0;31m         \u001b[0;32mreturn\u001b[0m \u001b[0mSeries\u001b[0m\u001b[0;34m.\u001b[0m\u001b[0m_from_mgr\u001b[0m\u001b[0;34m(\u001b[0m\u001b[0mmgr\u001b[0m\u001b[0;34m,\u001b[0m \u001b[0maxes\u001b[0m\u001b[0;34m)\u001b[0m\u001b[0;34m\u001b[0m\u001b[0;34m\u001b[0m\u001b[0m\n\u001b[0m",
      "\u001b[0;32m~/miniconda3/envs/ml4hc/lib/python3.10/site-packages/pandas/core/generic.py\u001b[0m in \u001b[0;36m?\u001b[0;34m(cls, mgr, axes)\u001b[0m\n\u001b[1;32m    352\u001b[0m         \u001b[0mThe\u001b[0m \u001b[0maxes\u001b[0m \u001b[0mmust\u001b[0m \u001b[0mmatch\u001b[0m \u001b[0mmgr\u001b[0m\u001b[0;34m.\u001b[0m\u001b[0maxes\u001b[0m\u001b[0;34m,\u001b[0m \u001b[0mbut\u001b[0m \u001b[0mare\u001b[0m \u001b[0mrequired\u001b[0m \u001b[0;32mfor\u001b[0m \u001b[0mfuture\u001b[0m\u001b[0;34m-\u001b[0m\u001b[0mproofing\u001b[0m\u001b[0;34m\u001b[0m\u001b[0;34m\u001b[0m\u001b[0m\n\u001b[1;32m    353\u001b[0m         \u001b[0;32min\u001b[0m \u001b[0mthe\u001b[0m \u001b[0mevent\u001b[0m \u001b[0mthat\u001b[0m \u001b[0maxes\u001b[0m \u001b[0mare\u001b[0m \u001b[0mrefactored\u001b[0m \u001b[0mout\u001b[0m \u001b[0mof\u001b[0m \u001b[0mthe\u001b[0m \u001b[0mManager\u001b[0m \u001b[0mobjects\u001b[0m\u001b[0;34m.\u001b[0m\u001b[0;34m\u001b[0m\u001b[0;34m\u001b[0m\u001b[0m\n\u001b[1;32m    354\u001b[0m         \"\"\"\n\u001b[1;32m    355\u001b[0m         \u001b[0mobj\u001b[0m \u001b[0;34m=\u001b[0m \u001b[0mcls\u001b[0m\u001b[0;34m.\u001b[0m\u001b[0m__new__\u001b[0m\u001b[0;34m(\u001b[0m\u001b[0mcls\u001b[0m\u001b[0;34m)\u001b[0m\u001b[0;34m\u001b[0m\u001b[0;34m\u001b[0m\u001b[0m\n\u001b[0;32m--> 356\u001b[0;31m         \u001b[0mNDFrame\u001b[0m\u001b[0;34m.\u001b[0m\u001b[0m__init__\u001b[0m\u001b[0;34m(\u001b[0m\u001b[0mobj\u001b[0m\u001b[0;34m,\u001b[0m \u001b[0mmgr\u001b[0m\u001b[0;34m)\u001b[0m\u001b[0;34m\u001b[0m\u001b[0;34m\u001b[0m\u001b[0m\n\u001b[0m\u001b[1;32m    357\u001b[0m         \u001b[0;32mreturn\u001b[0m \u001b[0mobj\u001b[0m\u001b[0;34m\u001b[0m\u001b[0;34m\u001b[0m\u001b[0m\n",
      "\u001b[0;32m~/miniconda3/envs/ml4hc/lib/python3.10/site-packages/pandas/core/generic.py\u001b[0m in \u001b[0;36m?\u001b[0;34m(self, data)\u001b[0m\n\u001b[1;32m    278\u001b[0m     \u001b[0;32mdef\u001b[0m \u001b[0m__init__\u001b[0m\u001b[0;34m(\u001b[0m\u001b[0mself\u001b[0m\u001b[0;34m,\u001b[0m \u001b[0mdata\u001b[0m\u001b[0;34m:\u001b[0m \u001b[0mManager\u001b[0m\u001b[0;34m)\u001b[0m \u001b[0;34m->\u001b[0m \u001b[0;32mNone\u001b[0m\u001b[0;34m:\u001b[0m\u001b[0;34m\u001b[0m\u001b[0;34m\u001b[0m\u001b[0m\n\u001b[0;32m--> 279\u001b[0;31m         \u001b[0mobject\u001b[0m\u001b[0;34m.\u001b[0m\u001b[0m__setattr__\u001b[0m\u001b[0;34m(\u001b[0m\u001b[0mself\u001b[0m\u001b[0;34m,\u001b[0m \u001b[0;34m\"_is_copy\"\u001b[0m\u001b[0;34m,\u001b[0m \u001b[0;32mNone\u001b[0m\u001b[0;34m)\u001b[0m\u001b[0;34m\u001b[0m\u001b[0;34m\u001b[0m\u001b[0m\n\u001b[0m\u001b[1;32m    280\u001b[0m         \u001b[0mobject\u001b[0m\u001b[0;34m.\u001b[0m\u001b[0m__setattr__\u001b[0m\u001b[0;34m(\u001b[0m\u001b[0mself\u001b[0m\u001b[0;34m,\u001b[0m \u001b[0;34m\"_mgr\"\u001b[0m\u001b[0;34m,\u001b[0m \u001b[0mdata\u001b[0m\u001b[0;34m)\u001b[0m\u001b[0;34m\u001b[0m\u001b[0;34m\u001b[0m\u001b[0m\n\u001b[1;32m    281\u001b[0m         \u001b[0mobject\u001b[0m\u001b[0;34m.\u001b[0m\u001b[0m__setattr__\u001b[0m\u001b[0;34m(\u001b[0m\u001b[0mself\u001b[0m\u001b[0;34m,\u001b[0m \u001b[0;34m\"_item_cache\"\u001b[0m\u001b[0;34m,\u001b[0m \u001b[0;34m{\u001b[0m\u001b[0;34m}\u001b[0m\u001b[0;34m)\u001b[0m\u001b[0;34m\u001b[0m\u001b[0;34m\u001b[0m\u001b[0m\n\u001b[1;32m    282\u001b[0m         \u001b[0mobject\u001b[0m\u001b[0;34m.\u001b[0m\u001b[0m__setattr__\u001b[0m\u001b[0;34m(\u001b[0m\u001b[0mself\u001b[0m\u001b[0;34m,\u001b[0m \u001b[0;34m\"_attrs\"\u001b[0m\u001b[0;34m,\u001b[0m \u001b[0;34m{\u001b[0m\u001b[0;34m}\u001b[0m\u001b[0;34m)\u001b[0m\u001b[0;34m\u001b[0m\u001b[0;34m\u001b[0m\u001b[0m\n",
      "\u001b[0;31mKeyboardInterrupt\u001b[0m: "
     ]
    }
   ],
   "source": [
    "warnings.filterwarnings('ignore') #ignore pandas warnings\n",
    "\n",
    "study_feat_eng.optimize(\n",
    "    objective_feat_eng, \n",
    "    n_trials=NUM_TRIALS,\n",
    "    timeout = 20 * 60 * 60, # timeout after 8 hours\n",
    "    show_progress_bar=True\n",
    ")"
   ]
  },
  {
   "cell_type": "code",
   "execution_count": null,
   "metadata": {},
   "outputs": [
    {
     "name": "stdout",
     "output_type": "stream",
     "text": [
      "{'n_estimators': 680, 'max_depth': 43, 'min_samples_split': 8, 'min_samples_leaf': 1, 'criterion': 'gini'}\n"
     ]
    }
   ],
   "source": [
    "best_params = study_feat_eng.best_params\n",
    "    \n",
    "print(best_params)\n",
    "\n",
    "if \"random_forest_feat_eng\" in config:\n",
    "    config[\"random_forest_feat_eng\"].update(best_params)\n",
    "else:\n",
    "    config[\"random_forest_feat_eng\"] = best_params\n",
    "\n",
    "# see: https://stackoverflow.com/questions/12470665/how-can-i-write-data-in-yaml-format-in-a-file\n",
    "with open(\"classical_ml_config.yaml\", \"w\") as file:\n",
    "    yaml.dump(config, file, default_flow_style=False)"
   ]
  },
  {
   "cell_type": "code",
   "execution_count": null,
   "metadata": {},
   "outputs": [
    {
     "data": {
      "application/vnd.plotly.v1+json": {
       "config": {
        "plotlyServerURL": "https://plot.ly"
       },
       "data": [
        {
         "cliponaxis": false,
         "hovertemplate": [
          "criterion (CategoricalDistribution): 0.01218991910695717<extra></extra>",
          "n_estimators (IntDistribution): 0.034499819232771116<extra></extra>",
          "max_depth (IntDistribution): 0.052837631175574044<extra></extra>",
          "min_samples_split (IntDistribution): 0.07611199214682522<extra></extra>",
          "min_samples_leaf (IntDistribution): 0.8243606383378724<extra></extra>"
         ],
         "name": "Objective Value",
         "orientation": "h",
         "text": [
          "0.01",
          "0.03",
          "0.05",
          "0.08",
          "0.82"
         ],
         "textposition": "outside",
         "type": "bar",
         "x": [
          0.01218991910695717,
          0.034499819232771116,
          0.052837631175574044,
          0.07611199214682522,
          0.8243606383378724
         ],
         "y": [
          "criterion",
          "n_estimators",
          "max_depth",
          "min_samples_split",
          "min_samples_leaf"
         ]
        }
       ],
       "layout": {
        "template": {
         "data": {
          "bar": [
           {
            "error_x": {
             "color": "#2a3f5f"
            },
            "error_y": {
             "color": "#2a3f5f"
            },
            "marker": {
             "line": {
              "color": "#E5ECF6",
              "width": 0.5
             },
             "pattern": {
              "fillmode": "overlay",
              "size": 10,
              "solidity": 0.2
             }
            },
            "type": "bar"
           }
          ],
          "barpolar": [
           {
            "marker": {
             "line": {
              "color": "#E5ECF6",
              "width": 0.5
             },
             "pattern": {
              "fillmode": "overlay",
              "size": 10,
              "solidity": 0.2
             }
            },
            "type": "barpolar"
           }
          ],
          "carpet": [
           {
            "aaxis": {
             "endlinecolor": "#2a3f5f",
             "gridcolor": "white",
             "linecolor": "white",
             "minorgridcolor": "white",
             "startlinecolor": "#2a3f5f"
            },
            "baxis": {
             "endlinecolor": "#2a3f5f",
             "gridcolor": "white",
             "linecolor": "white",
             "minorgridcolor": "white",
             "startlinecolor": "#2a3f5f"
            },
            "type": "carpet"
           }
          ],
          "choropleth": [
           {
            "colorbar": {
             "outlinewidth": 0,
             "ticks": ""
            },
            "type": "choropleth"
           }
          ],
          "contour": [
           {
            "colorbar": {
             "outlinewidth": 0,
             "ticks": ""
            },
            "colorscale": [
             [
              0,
              "#0d0887"
             ],
             [
              0.1111111111111111,
              "#46039f"
             ],
             [
              0.2222222222222222,
              "#7201a8"
             ],
             [
              0.3333333333333333,
              "#9c179e"
             ],
             [
              0.4444444444444444,
              "#bd3786"
             ],
             [
              0.5555555555555556,
              "#d8576b"
             ],
             [
              0.6666666666666666,
              "#ed7953"
             ],
             [
              0.7777777777777778,
              "#fb9f3a"
             ],
             [
              0.8888888888888888,
              "#fdca26"
             ],
             [
              1,
              "#f0f921"
             ]
            ],
            "type": "contour"
           }
          ],
          "contourcarpet": [
           {
            "colorbar": {
             "outlinewidth": 0,
             "ticks": ""
            },
            "type": "contourcarpet"
           }
          ],
          "heatmap": [
           {
            "colorbar": {
             "outlinewidth": 0,
             "ticks": ""
            },
            "colorscale": [
             [
              0,
              "#0d0887"
             ],
             [
              0.1111111111111111,
              "#46039f"
             ],
             [
              0.2222222222222222,
              "#7201a8"
             ],
             [
              0.3333333333333333,
              "#9c179e"
             ],
             [
              0.4444444444444444,
              "#bd3786"
             ],
             [
              0.5555555555555556,
              "#d8576b"
             ],
             [
              0.6666666666666666,
              "#ed7953"
             ],
             [
              0.7777777777777778,
              "#fb9f3a"
             ],
             [
              0.8888888888888888,
              "#fdca26"
             ],
             [
              1,
              "#f0f921"
             ]
            ],
            "type": "heatmap"
           }
          ],
          "heatmapgl": [
           {
            "colorbar": {
             "outlinewidth": 0,
             "ticks": ""
            },
            "colorscale": [
             [
              0,
              "#0d0887"
             ],
             [
              0.1111111111111111,
              "#46039f"
             ],
             [
              0.2222222222222222,
              "#7201a8"
             ],
             [
              0.3333333333333333,
              "#9c179e"
             ],
             [
              0.4444444444444444,
              "#bd3786"
             ],
             [
              0.5555555555555556,
              "#d8576b"
             ],
             [
              0.6666666666666666,
              "#ed7953"
             ],
             [
              0.7777777777777778,
              "#fb9f3a"
             ],
             [
              0.8888888888888888,
              "#fdca26"
             ],
             [
              1,
              "#f0f921"
             ]
            ],
            "type": "heatmapgl"
           }
          ],
          "histogram": [
           {
            "marker": {
             "pattern": {
              "fillmode": "overlay",
              "size": 10,
              "solidity": 0.2
             }
            },
            "type": "histogram"
           }
          ],
          "histogram2d": [
           {
            "colorbar": {
             "outlinewidth": 0,
             "ticks": ""
            },
            "colorscale": [
             [
              0,
              "#0d0887"
             ],
             [
              0.1111111111111111,
              "#46039f"
             ],
             [
              0.2222222222222222,
              "#7201a8"
             ],
             [
              0.3333333333333333,
              "#9c179e"
             ],
             [
              0.4444444444444444,
              "#bd3786"
             ],
             [
              0.5555555555555556,
              "#d8576b"
             ],
             [
              0.6666666666666666,
              "#ed7953"
             ],
             [
              0.7777777777777778,
              "#fb9f3a"
             ],
             [
              0.8888888888888888,
              "#fdca26"
             ],
             [
              1,
              "#f0f921"
             ]
            ],
            "type": "histogram2d"
           }
          ],
          "histogram2dcontour": [
           {
            "colorbar": {
             "outlinewidth": 0,
             "ticks": ""
            },
            "colorscale": [
             [
              0,
              "#0d0887"
             ],
             [
              0.1111111111111111,
              "#46039f"
             ],
             [
              0.2222222222222222,
              "#7201a8"
             ],
             [
              0.3333333333333333,
              "#9c179e"
             ],
             [
              0.4444444444444444,
              "#bd3786"
             ],
             [
              0.5555555555555556,
              "#d8576b"
             ],
             [
              0.6666666666666666,
              "#ed7953"
             ],
             [
              0.7777777777777778,
              "#fb9f3a"
             ],
             [
              0.8888888888888888,
              "#fdca26"
             ],
             [
              1,
              "#f0f921"
             ]
            ],
            "type": "histogram2dcontour"
           }
          ],
          "mesh3d": [
           {
            "colorbar": {
             "outlinewidth": 0,
             "ticks": ""
            },
            "type": "mesh3d"
           }
          ],
          "parcoords": [
           {
            "line": {
             "colorbar": {
              "outlinewidth": 0,
              "ticks": ""
             }
            },
            "type": "parcoords"
           }
          ],
          "pie": [
           {
            "automargin": true,
            "type": "pie"
           }
          ],
          "scatter": [
           {
            "fillpattern": {
             "fillmode": "overlay",
             "size": 10,
             "solidity": 0.2
            },
            "type": "scatter"
           }
          ],
          "scatter3d": [
           {
            "line": {
             "colorbar": {
              "outlinewidth": 0,
              "ticks": ""
             }
            },
            "marker": {
             "colorbar": {
              "outlinewidth": 0,
              "ticks": ""
             }
            },
            "type": "scatter3d"
           }
          ],
          "scattercarpet": [
           {
            "marker": {
             "colorbar": {
              "outlinewidth": 0,
              "ticks": ""
             }
            },
            "type": "scattercarpet"
           }
          ],
          "scattergeo": [
           {
            "marker": {
             "colorbar": {
              "outlinewidth": 0,
              "ticks": ""
             }
            },
            "type": "scattergeo"
           }
          ],
          "scattergl": [
           {
            "marker": {
             "colorbar": {
              "outlinewidth": 0,
              "ticks": ""
             }
            },
            "type": "scattergl"
           }
          ],
          "scattermapbox": [
           {
            "marker": {
             "colorbar": {
              "outlinewidth": 0,
              "ticks": ""
             }
            },
            "type": "scattermapbox"
           }
          ],
          "scatterpolar": [
           {
            "marker": {
             "colorbar": {
              "outlinewidth": 0,
              "ticks": ""
             }
            },
            "type": "scatterpolar"
           }
          ],
          "scatterpolargl": [
           {
            "marker": {
             "colorbar": {
              "outlinewidth": 0,
              "ticks": ""
             }
            },
            "type": "scatterpolargl"
           }
          ],
          "scatterternary": [
           {
            "marker": {
             "colorbar": {
              "outlinewidth": 0,
              "ticks": ""
             }
            },
            "type": "scatterternary"
           }
          ],
          "surface": [
           {
            "colorbar": {
             "outlinewidth": 0,
             "ticks": ""
            },
            "colorscale": [
             [
              0,
              "#0d0887"
             ],
             [
              0.1111111111111111,
              "#46039f"
             ],
             [
              0.2222222222222222,
              "#7201a8"
             ],
             [
              0.3333333333333333,
              "#9c179e"
             ],
             [
              0.4444444444444444,
              "#bd3786"
             ],
             [
              0.5555555555555556,
              "#d8576b"
             ],
             [
              0.6666666666666666,
              "#ed7953"
             ],
             [
              0.7777777777777778,
              "#fb9f3a"
             ],
             [
              0.8888888888888888,
              "#fdca26"
             ],
             [
              1,
              "#f0f921"
             ]
            ],
            "type": "surface"
           }
          ],
          "table": [
           {
            "cells": {
             "fill": {
              "color": "#EBF0F8"
             },
             "line": {
              "color": "white"
             }
            },
            "header": {
             "fill": {
              "color": "#C8D4E3"
             },
             "line": {
              "color": "white"
             }
            },
            "type": "table"
           }
          ]
         },
         "layout": {
          "annotationdefaults": {
           "arrowcolor": "#2a3f5f",
           "arrowhead": 0,
           "arrowwidth": 1
          },
          "autotypenumbers": "strict",
          "coloraxis": {
           "colorbar": {
            "outlinewidth": 0,
            "ticks": ""
           }
          },
          "colorscale": {
           "diverging": [
            [
             0,
             "#8e0152"
            ],
            [
             0.1,
             "#c51b7d"
            ],
            [
             0.2,
             "#de77ae"
            ],
            [
             0.3,
             "#f1b6da"
            ],
            [
             0.4,
             "#fde0ef"
            ],
            [
             0.5,
             "#f7f7f7"
            ],
            [
             0.6,
             "#e6f5d0"
            ],
            [
             0.7,
             "#b8e186"
            ],
            [
             0.8,
             "#7fbc41"
            ],
            [
             0.9,
             "#4d9221"
            ],
            [
             1,
             "#276419"
            ]
           ],
           "sequential": [
            [
             0,
             "#0d0887"
            ],
            [
             0.1111111111111111,
             "#46039f"
            ],
            [
             0.2222222222222222,
             "#7201a8"
            ],
            [
             0.3333333333333333,
             "#9c179e"
            ],
            [
             0.4444444444444444,
             "#bd3786"
            ],
            [
             0.5555555555555556,
             "#d8576b"
            ],
            [
             0.6666666666666666,
             "#ed7953"
            ],
            [
             0.7777777777777778,
             "#fb9f3a"
            ],
            [
             0.8888888888888888,
             "#fdca26"
            ],
            [
             1,
             "#f0f921"
            ]
           ],
           "sequentialminus": [
            [
             0,
             "#0d0887"
            ],
            [
             0.1111111111111111,
             "#46039f"
            ],
            [
             0.2222222222222222,
             "#7201a8"
            ],
            [
             0.3333333333333333,
             "#9c179e"
            ],
            [
             0.4444444444444444,
             "#bd3786"
            ],
            [
             0.5555555555555556,
             "#d8576b"
            ],
            [
             0.6666666666666666,
             "#ed7953"
            ],
            [
             0.7777777777777778,
             "#fb9f3a"
            ],
            [
             0.8888888888888888,
             "#fdca26"
            ],
            [
             1,
             "#f0f921"
            ]
           ]
          },
          "colorway": [
           "#636efa",
           "#EF553B",
           "#00cc96",
           "#ab63fa",
           "#FFA15A",
           "#19d3f3",
           "#FF6692",
           "#B6E880",
           "#FF97FF",
           "#FECB52"
          ],
          "font": {
           "color": "#2a3f5f"
          },
          "geo": {
           "bgcolor": "white",
           "lakecolor": "white",
           "landcolor": "#E5ECF6",
           "showlakes": true,
           "showland": true,
           "subunitcolor": "white"
          },
          "hoverlabel": {
           "align": "left"
          },
          "hovermode": "closest",
          "mapbox": {
           "style": "light"
          },
          "paper_bgcolor": "white",
          "plot_bgcolor": "#E5ECF6",
          "polar": {
           "angularaxis": {
            "gridcolor": "white",
            "linecolor": "white",
            "ticks": ""
           },
           "bgcolor": "#E5ECF6",
           "radialaxis": {
            "gridcolor": "white",
            "linecolor": "white",
            "ticks": ""
           }
          },
          "scene": {
           "xaxis": {
            "backgroundcolor": "#E5ECF6",
            "gridcolor": "white",
            "gridwidth": 2,
            "linecolor": "white",
            "showbackground": true,
            "ticks": "",
            "zerolinecolor": "white"
           },
           "yaxis": {
            "backgroundcolor": "#E5ECF6",
            "gridcolor": "white",
            "gridwidth": 2,
            "linecolor": "white",
            "showbackground": true,
            "ticks": "",
            "zerolinecolor": "white"
           },
           "zaxis": {
            "backgroundcolor": "#E5ECF6",
            "gridcolor": "white",
            "gridwidth": 2,
            "linecolor": "white",
            "showbackground": true,
            "ticks": "",
            "zerolinecolor": "white"
           }
          },
          "shapedefaults": {
           "line": {
            "color": "#2a3f5f"
           }
          },
          "ternary": {
           "aaxis": {
            "gridcolor": "white",
            "linecolor": "white",
            "ticks": ""
           },
           "baxis": {
            "gridcolor": "white",
            "linecolor": "white",
            "ticks": ""
           },
           "bgcolor": "#E5ECF6",
           "caxis": {
            "gridcolor": "white",
            "linecolor": "white",
            "ticks": ""
           }
          },
          "title": {
           "x": 0.05
          },
          "xaxis": {
           "automargin": true,
           "gridcolor": "white",
           "linecolor": "white",
           "ticks": "",
           "title": {
            "standoff": 15
           },
           "zerolinecolor": "white",
           "zerolinewidth": 2
          },
          "yaxis": {
           "automargin": true,
           "gridcolor": "white",
           "linecolor": "white",
           "ticks": "",
           "title": {
            "standoff": 15
           },
           "zerolinecolor": "white",
           "zerolinewidth": 2
          }
         }
        },
        "title": {
         "text": "Hyperparameter Importances"
        },
        "xaxis": {
         "title": {
          "text": "Hyperparameter Importance"
         }
        },
        "yaxis": {
         "title": {
          "text": "Hyperparameter"
         }
        }
       }
      }
     },
     "metadata": {},
     "output_type": "display_data"
    }
   ],
   "source": [
    "p_importance_feat_eng = optuna.visualization.plot_param_importances(study_feat_eng)\n",
    "p_importance_feat_eng.show()"
   ]
  },
  {
   "cell_type": "code",
   "execution_count": null,
   "metadata": {},
   "outputs": [
    {
     "data": {
      "application/vnd.plotly.v1+json": {
       "config": {
        "plotlyServerURL": "https://plot.ly"
       },
       "data": [
        {
         "mode": "markers",
         "name": "Objective Value",
         "type": "scatter",
         "x": [
          0,
          1,
          2,
          3,
          4,
          5,
          6,
          7,
          8,
          9,
          10,
          11,
          12,
          13,
          14,
          15,
          16,
          17,
          18,
          19,
          20,
          21,
          22,
          23,
          24,
          26,
          27,
          31,
          32,
          33,
          34,
          35,
          36,
          40,
          41,
          43,
          45,
          46,
          48,
          51,
          52,
          53,
          56,
          57,
          59,
          61,
          62,
          63,
          66,
          67,
          69,
          71,
          72,
          78,
          82,
          83,
          86,
          87,
          89,
          90,
          97,
          98,
          99,
          101,
          102,
          105,
          108,
          111,
          112,
          113,
          114,
          115,
          116,
          117,
          118,
          121,
          122,
          123,
          125,
          129,
          134,
          135,
          138,
          139,
          141,
          142,
          144,
          151,
          154,
          155,
          157,
          159,
          162,
          163,
          164,
          167,
          168,
          169,
          170,
          171,
          172,
          173,
          174,
          175,
          176,
          178,
          180,
          181,
          182,
          183,
          184,
          185,
          186,
          187,
          188,
          189,
          190,
          191,
          192,
          193,
          194,
          195,
          196,
          197,
          198,
          199,
          200,
          201,
          202,
          203,
          204,
          205,
          206,
          207,
          208,
          209,
          210,
          211,
          212,
          213,
          214,
          215,
          216,
          217,
          218,
          219,
          220,
          221,
          222,
          223,
          224,
          225,
          226,
          227,
          228,
          229,
          230,
          231,
          232,
          233,
          234,
          235,
          236,
          237,
          238,
          240,
          241,
          242,
          243,
          244,
          245,
          246,
          247,
          248,
          249,
          250,
          251,
          252,
          253,
          254,
          255,
          256,
          257,
          258,
          259,
          260,
          261,
          262,
          264,
          265,
          267,
          268,
          269,
          270,
          271,
          272,
          273,
          274,
          275,
          277,
          278,
          279,
          281,
          282,
          284,
          285,
          288,
          289,
          290,
          291,
          292,
          294,
          298,
          299,
          300,
          301,
          303,
          305,
          308,
          309,
          311,
          312,
          313,
          315,
          316,
          317,
          318,
          319,
          320,
          321,
          322,
          323,
          324,
          325,
          326,
          327,
          330,
          331,
          332,
          333,
          334,
          335,
          336,
          337,
          338,
          339,
          341,
          342,
          343,
          345,
          346,
          347,
          348,
          349,
          350,
          352,
          353,
          354,
          355,
          356,
          357,
          358,
          359,
          360,
          361,
          362,
          363,
          364,
          365,
          366,
          367,
          368,
          369,
          370,
          371,
          372,
          373,
          374,
          375,
          376,
          377,
          378,
          379,
          380,
          381,
          382,
          383,
          384,
          385,
          386,
          387,
          388,
          389,
          390,
          391,
          392,
          393,
          394,
          395,
          396,
          397,
          398,
          399,
          400,
          401,
          402,
          403,
          404,
          405,
          406,
          407,
          408,
          409,
          410,
          411,
          412,
          413,
          414,
          415,
          416,
          417,
          418,
          419,
          420,
          421,
          423,
          424,
          425,
          426,
          427,
          428,
          429,
          430,
          431,
          432,
          433,
          434,
          435,
          436,
          437,
          438,
          439,
          440,
          441,
          442,
          443,
          445,
          446,
          447,
          448,
          449,
          450,
          451,
          452,
          453,
          455,
          456,
          457,
          459,
          461,
          462,
          463,
          464,
          466,
          467,
          468,
          470,
          471,
          472,
          473,
          474,
          475,
          476,
          477,
          478,
          479,
          480,
          481,
          482,
          483,
          484,
          485,
          486,
          489,
          490,
          491,
          492,
          493,
          494,
          496,
          499
         ],
         "y": [
          0.9674963396778916,
          0.9770723104056437,
          0.9724016441573693,
          0.970407266334603,
          0.9746312684365782,
          0.9706916764361079,
          0.9686492821564606,
          0.965962441314554,
          0.9770318021201413,
          0.9779086892488954,
          0.9775943396226415,
          0.9770318021201413,
          0.9750073507791825,
          0.9779216956137768,
          0.9767441860465116,
          0.9693937610359035,
          0.974132863021752,
          0.9686676427525622,
          0.9744343226564796,
          0.9735605170387779,
          0.976155431262879,
          0.9773329408301442,
          0.9773329408301442,
          0.9775943396226415,
          0.97789566755084,
          0.9773329408301442,
          0.9767578699617535,
          0.9784851164161509,
          0.9767441860465116,
          0.9784851164161509,
          0.9799410029498525,
          0.9790498672174682,
          0.9787610619469026,
          0.97789566755084,
          0.9793388429752066,
          0.9784851164161509,
          0.9779086892488954,
          0.9781839622641509,
          0.9770047169811321,
          0.9784851164161509,
          0.9784724270126807,
          0.9781968179139658,
          0.9787735849056604,
          0.9770318021201413,
          0.9776207302709069,
          0.9776207302709069,
          0.97789566755084,
          0.977306218685529,
          0.9781839622641509,
          0.9790498672174682,
          0.9793510324483776,
          0.9793510324483776,
          0.9790622235328812,
          0.9784977908689249,
          0.9796400118028917,
          0.97789566755084,
          0.9781968179139658,
          0.9776207302709069,
          0.9779086892488954,
          0.9784851164161509,
          0.9784724270126807,
          0.9776075427224514,
          0.9779216956137768,
          0.9781968179139658,
          0.9790745652814619,
          0.9781839622641509,
          0.9770453207769276,
          0.9776207302709069,
          0.9776075427224514,
          0.9784851164161509,
          0.9787735849056604,
          0.9790622235328812,
          0.9787735849056604,
          0.9779086892488954,
          0.9790622235328812,
          0.9790622235328812,
          0.9790622235328812,
          0.9790622235328812,
          0.9793510324483776,
          0.9787735849056604,
          0.9796400118028917,
          0.9787610619469026,
          0.9790622235328812,
          0.9793510324483776,
          0.9793510324483776,
          0.9793510324483776,
          0.9793510324483776,
          0.9790622235328812,
          0.9787735849056604,
          0.9799410029498525,
          0.9793510324483776,
          0.9784977908689249,
          0.9790622235328812,
          0.9793632075471698,
          0.9790622235328812,
          0.9790622235328812,
          0.9807976366322009,
          0.9796279893711249,
          0.9810986414648553,
          0.9810986414648553,
          0.9787860931054803,
          0.9787985865724381,
          0.9790498672174682,
          0.9810986414648553,
          0.9810986414648553,
          0.9779216956137768,
          0.9810986414648553,
          0.9810986414648553,
          0.9782096584216725,
          0.9808089754945379,
          0.9810986414648553,
          0.9810986414648553,
          0.9787735849056604,
          0.9793388429752066,
          0.9810986414648553,
          0.9799410029498525,
          0.9799528301886793,
          0.9802301563883151,
          0.9810986414648553,
          0.9810986414648553,
          0.9787860931054803,
          0.9810986414648553,
          0.9793388429752066,
          0.9813884785819793,
          0.9784977908689249,
          0.9810986414648553,
          0.9810986414648553,
          0.9813884785819793,
          0.9813884785819793,
          0.9810986414648553,
          0.9810986414648553,
          0.9784724270126807,
          0.9813884785819793,
          0.9813884785819793,
          0.9787860931054803,
          0.9782096584216725,
          0.9787860931054803,
          0.9810986414648553,
          0.9810986414648553,
          0.9810986414648553,
          0.9813884785819793,
          0.9787860931054803,
          0.9810986414648553,
          0.9784724270126807,
          0.9787860931054803,
          0.9810986414648553,
          0.9810986414648553,
          0.9813884785819793,
          0.9813884785819793,
          0.9787860931054803,
          0.9813884785819793,
          0.9784977908689249,
          0.9790745652814619,
          0.9810986414648553,
          0.9796279893711249,
          0.9790498672174682,
          0.9813884785819793,
          0.9813884785819793,
          0.9810986414648553,
          0.9790745652814619,
          0.9813884785819793,
          0.9799054373522459,
          0.9784977908689249,
          0.9805194805194806,
          0.9802301563883151,
          0.9813884785819793,
          0.9810986414648553,
          0.9810986414648553,
          0.980507974010632,
          0.9810986414648553,
          0.9784977908689249,
          0.9810986414648553,
          0.9805194805194806,
          0.9813884785819793,
          0.9784724270126807,
          0.981410445559162,
          0.981410445559162,
          0.9805309734513274,
          0.981410445559162,
          0.9808316130934828,
          0.981410445559162,
          0.9811209439528024,
          0.9811209439528024,
          0.9808316130934828,
          0.9802301563883151,
          0.9808316130934828,
          0.9811209439528024,
          0.9811209439528024,
          0.9799410029498525,
          0.9811209439528024,
          0.9805309734513274,
          0.981410445559162,
          0.981410445559162,
          0.9805424528301887,
          0.9808316130934828,
          0.981410445559162,
          0.9805424528301887,
          0.981410445559162,
          0.9813884785819793,
          0.9813994685562445,
          0.9808089754945379,
          0.9810986414648553,
          0.9808089754945379,
          0.9808429118773946,
          0.9807976366322009,
          0.981410445559162,
          0.9811209439528024,
          0.9790745652814619,
          0.9808316130934828,
          0.9805424528301887,
          0.9813884785819793,
          0.980507974010632,
          0.9819580005915409,
          0.9813884785819793,
          0.9802418165732822,
          0.9810986414648553,
          0.9808089754945379,
          0.9808316130934828,
          0.9813884785819793,
          0.9808203009737385,
          0.9810986414648553,
          0.9805309734513274,
          0.9808089754945379,
          0.9816568047337279,
          0.9808429118773946,
          0.980507974010632,
          0.9810874704491725,
          0.9805309734513274,
          0.981410445559162,
          0.9808429118773946,
          0.9808316130934828,
          0.9808429118773946,
          0.9811209439528024,
          0.9811209439528024,
          0.981410445559162,
          0.9808429118773946,
          0.981410445559162,
          0.9802418165732822,
          0.9811320754716981,
          0.9813994685562445,
          0.9810986414648553,
          0.9805309734513274,
          0.9808089754945379,
          0.981410445559162,
          0.9811209439528024,
          0.9805309734513274,
          0.9805309734513274,
          0.9811320754716981,
          0.9808316130934828,
          0.9811320754716981,
          0.9808316130934828,
          0.9808429118773946,
          0.9811209439528024,
          0.9811209439528024,
          0.9811320754716981,
          0.9802067946824224,
          0.9808316130934828,
          0.981410445559162,
          0.9817001180637545,
          0.9810986414648553,
          0.9817001180637545,
          0.9819899616179509,
          0.9819793205317577,
          0.9813884785819793,
          0.9822799763733018,
          0.9825701624815362,
          0.9825701624815362,
          0.9825701624815362,
          0.9822799763733018,
          0.9822799763733018,
          0.9825701624815362,
          0.9822799763733018,
          0.9822799763733018,
          0.9822799763733018,
          0.9822799763733018,
          0.9825701624815362,
          0.9825701624815362,
          0.9822799763733018,
          0.9822799763733018,
          0.9822799763733018,
          0.9796879599646747,
          0.9825701624815362,
          0.9825701624815362,
          0.9825701624815362,
          0.9825701624815362,
          0.9822799763733018,
          0.9825701624815362,
          0.9825701624815362,
          0.9825701624815362,
          0.9819793205317577,
          0.9822799763733018,
          0.9822799763733018,
          0.9819793205317577,
          0.9825701624815362,
          0.9822799763733018,
          0.9828605200945626,
          0.9828605200945626,
          0.9825701624815362,
          0.9822799763733018,
          0.9828605200945626,
          0.9828605200945626,
          0.9828605200945626,
          0.9828605200945626,
          0.9796640141467727,
          0.9822799763733018,
          0.9831510493644694,
          0.9813884785819793,
          0.9828605200945626,
          0.9810986414648553,
          0.9831510493644694,
          0.9828605200945626,
          0.9810986414648553,
          0.9828605200945626,
          0.9813884785819793,
          0.9811097992916175,
          0.9810986414648553,
          0.9822799763733018,
          0.9808089754945379,
          0.9828605200945626,
          0.9813994685562445,
          0.9813884785819793,
          0.9822799763733018,
          0.9810986414648553,
          0.9828605200945626,
          0.9810986414648553,
          0.981410445559162,
          0.9811097992916175,
          0.9808203009737385,
          0.9808089754945379,
          0.981410445559162,
          0.9805309734513274,
          0.9822799763733018,
          0.981410445559162,
          0.9810986414648553,
          0.9825701624815362,
          0.9808089754945379,
          0.9808203009737385,
          0.981410445559162,
          0.9813884785819793,
          0.981410445559162,
          0.9810986414648553,
          0.9811097992916175,
          0.9831510493644694,
          0.9810986414648553,
          0.981410445559162,
          0.9810986414648553,
          0.9819793205317577,
          0.9813884785819793,
          0.9825701624815362,
          0.981410445559162,
          0.981410445559162,
          0.9810986414648553,
          0.9831510493644694,
          0.9831510493644694,
          0.981410445559162,
          0.9810986414648553,
          0.9811209439528024,
          0.9825701624815362,
          0.981410445559162,
          0.9819793205317577,
          0.9808203009737385,
          0.9810986414648553,
          0.9831510493644694,
          0.9811097992916175,
          0.9813884785819793,
          0.9828605200945626,
          0.9811209439528024,
          0.9811097992916175,
          0.9813884785819793,
          0.9828503843879361,
          0.9811097992916175,
          0.9810986414648553,
          0.9813994685562445,
          0.9810986414648553,
          0.981410445559162,
          0.9828503843879361,
          0.9811209439528024,
          0.9831510493644694,
          0.9811097992916175,
          0.981410445559162,
          0.9822799763733018,
          0.9811209439528024,
          0.9813994685562445,
          0.9811097992916175,
          0.9811209439528024,
          0.9813884785819793,
          0.9819793205317577,
          0.9811209439528024,
          0.9825701624815362,
          0.9808203009737385,
          0.981410445559162
         ]
        },
        {
         "mode": "lines",
         "name": "Best Value",
         "type": "scatter",
         "x": [
          0,
          1,
          2,
          3,
          4,
          5,
          6,
          7,
          8,
          9,
          10,
          11,
          12,
          13,
          14,
          15,
          16,
          17,
          18,
          19,
          20,
          21,
          22,
          23,
          24,
          25,
          26,
          27,
          28,
          29,
          30,
          31,
          32,
          33,
          34,
          35,
          36,
          37,
          38,
          39,
          40,
          41,
          42,
          43,
          44,
          45,
          46,
          47,
          48,
          49,
          50,
          51,
          52,
          53,
          54,
          55,
          56,
          57,
          58,
          59,
          60,
          61,
          62,
          63,
          64,
          65,
          66,
          67,
          68,
          69,
          70,
          71,
          72,
          73,
          74,
          75,
          76,
          77,
          78,
          79,
          80,
          81,
          82,
          83,
          84,
          85,
          86,
          87,
          88,
          89,
          90,
          91,
          92,
          93,
          94,
          95,
          96,
          97,
          98,
          99,
          100,
          101,
          102,
          103,
          104,
          105,
          106,
          107,
          108,
          109,
          110,
          111,
          112,
          113,
          114,
          115,
          116,
          117,
          118,
          119,
          120,
          121,
          122,
          123,
          124,
          125,
          126,
          127,
          128,
          129,
          130,
          131,
          132,
          133,
          134,
          135,
          136,
          137,
          138,
          139,
          140,
          141,
          142,
          143,
          144,
          145,
          146,
          147,
          148,
          149,
          150,
          151,
          152,
          153,
          154,
          155,
          156,
          157,
          158,
          159,
          160,
          161,
          162,
          163,
          164,
          165,
          166,
          167,
          168,
          169,
          170,
          171,
          172,
          173,
          174,
          175,
          176,
          177,
          178,
          179,
          180,
          181,
          182,
          183,
          184,
          185,
          186,
          187,
          188,
          189,
          190,
          191,
          192,
          193,
          194,
          195,
          196,
          197,
          198,
          199,
          200,
          201,
          202,
          203,
          204,
          205,
          206,
          207,
          208,
          209,
          210,
          211,
          212,
          213,
          214,
          215,
          216,
          217,
          218,
          219,
          220,
          221,
          222,
          223,
          224,
          225,
          226,
          227,
          228,
          229,
          230,
          231,
          232,
          233,
          234,
          235,
          236,
          237,
          238,
          239,
          240,
          241,
          242,
          243,
          244,
          245,
          246,
          247,
          248,
          249,
          250,
          251,
          252,
          253,
          254,
          255,
          256,
          257,
          258,
          259,
          260,
          261,
          262,
          263,
          264,
          265,
          266,
          267,
          268,
          269,
          270,
          271,
          272,
          273,
          274,
          275,
          276,
          277,
          278,
          279,
          280,
          281,
          282,
          283,
          284,
          285,
          286,
          287,
          288,
          289,
          290,
          291,
          292,
          293,
          294,
          295,
          296,
          297,
          298,
          299,
          300,
          301,
          302,
          303,
          304,
          305,
          306,
          307,
          308,
          309,
          310,
          311,
          312,
          313,
          314,
          315,
          316,
          317,
          318,
          319,
          320,
          321,
          322,
          323,
          324,
          325,
          326,
          327,
          328,
          329,
          330,
          331,
          332,
          333,
          334,
          335,
          336,
          337,
          338,
          339,
          340,
          341,
          342,
          343,
          344,
          345,
          346,
          347,
          348,
          349,
          350,
          351,
          352,
          353,
          354,
          355,
          356,
          357,
          358,
          359,
          360,
          361,
          362,
          363,
          364,
          365,
          366,
          367,
          368,
          369,
          370,
          371,
          372,
          373,
          374,
          375,
          376,
          377,
          378,
          379,
          380,
          381,
          382,
          383,
          384,
          385,
          386,
          387,
          388,
          389,
          390,
          391,
          392,
          393,
          394,
          395,
          396,
          397,
          398,
          399,
          400,
          401,
          402,
          403,
          404,
          405,
          406,
          407,
          408,
          409,
          410,
          411,
          412,
          413,
          414,
          415,
          416,
          417,
          418,
          419,
          420,
          421,
          422,
          423,
          424,
          425,
          426,
          427,
          428,
          429,
          430,
          431,
          432,
          433,
          434,
          435,
          436,
          437,
          438,
          439,
          440,
          441,
          442,
          443,
          444,
          445,
          446,
          447,
          448,
          449,
          450,
          451,
          452,
          453,
          454,
          455,
          456,
          457,
          458,
          459,
          460,
          461,
          462,
          463,
          464,
          465,
          466,
          467,
          468,
          469,
          470,
          471,
          472,
          473,
          474,
          475,
          476,
          477,
          478,
          479,
          480,
          481,
          482,
          483,
          484,
          485,
          486,
          487,
          488,
          489,
          490,
          491,
          492,
          493,
          494,
          495,
          496,
          497,
          498,
          499
         ],
         "y": [
          0.9674963396778916,
          0.9770723104056437,
          0.9770723104056437,
          0.9770723104056437,
          0.9770723104056437,
          0.9770723104056437,
          0.9770723104056437,
          0.9770723104056437,
          0.9770723104056437,
          0.9779086892488954,
          0.9779086892488954,
          0.9779086892488954,
          0.9779086892488954,
          0.9779216956137768,
          0.9779216956137768,
          0.9779216956137768,
          0.9779216956137768,
          0.9779216956137768,
          0.9779216956137768,
          0.9779216956137768,
          0.9779216956137768,
          0.9779216956137768,
          0.9779216956137768,
          0.9779216956137768,
          0.9779216956137768,
          0.9779216956137768,
          0.9779216956137768,
          0.9779216956137768,
          0.9779216956137768,
          0.9779216956137768,
          0.9779216956137768,
          0.9784851164161509,
          0.9784851164161509,
          0.9784851164161509,
          0.9799410029498525,
          0.9799410029498525,
          0.9799410029498525,
          0.9799410029498525,
          0.9799410029498525,
          0.9799410029498525,
          0.9799410029498525,
          0.9799410029498525,
          0.9799410029498525,
          0.9799410029498525,
          0.9799410029498525,
          0.9799410029498525,
          0.9799410029498525,
          0.9799410029498525,
          0.9799410029498525,
          0.9799410029498525,
          0.9799410029498525,
          0.9799410029498525,
          0.9799410029498525,
          0.9799410029498525,
          0.9799410029498525,
          0.9799410029498525,
          0.9799410029498525,
          0.9799410029498525,
          0.9799410029498525,
          0.9799410029498525,
          0.9799410029498525,
          0.9799410029498525,
          0.9799410029498525,
          0.9799410029498525,
          0.9799410029498525,
          0.9799410029498525,
          0.9799410029498525,
          0.9799410029498525,
          0.9799410029498525,
          0.9799410029498525,
          0.9799410029498525,
          0.9799410029498525,
          0.9799410029498525,
          0.9799410029498525,
          0.9799410029498525,
          0.9799410029498525,
          0.9799410029498525,
          0.9799410029498525,
          0.9799410029498525,
          0.9799410029498525,
          0.9799410029498525,
          0.9799410029498525,
          0.9799410029498525,
          0.9799410029498525,
          0.9799410029498525,
          0.9799410029498525,
          0.9799410029498525,
          0.9799410029498525,
          0.9799410029498525,
          0.9799410029498525,
          0.9799410029498525,
          0.9799410029498525,
          0.9799410029498525,
          0.9799410029498525,
          0.9799410029498525,
          0.9799410029498525,
          0.9799410029498525,
          0.9799410029498525,
          0.9799410029498525,
          0.9799410029498525,
          0.9799410029498525,
          0.9799410029498525,
          0.9799410029498525,
          0.9799410029498525,
          0.9799410029498525,
          0.9799410029498525,
          0.9799410029498525,
          0.9799410029498525,
          0.9799410029498525,
          0.9799410029498525,
          0.9799410029498525,
          0.9799410029498525,
          0.9799410029498525,
          0.9799410029498525,
          0.9799410029498525,
          0.9799410029498525,
          0.9799410029498525,
          0.9799410029498525,
          0.9799410029498525,
          0.9799410029498525,
          0.9799410029498525,
          0.9799410029498525,
          0.9799410029498525,
          0.9799410029498525,
          0.9799410029498525,
          0.9799410029498525,
          0.9799410029498525,
          0.9799410029498525,
          0.9799410029498525,
          0.9799410029498525,
          0.9799410029498525,
          0.9799410029498525,
          0.9799410029498525,
          0.9799410029498525,
          0.9799410029498525,
          0.9799410029498525,
          0.9799410029498525,
          0.9799410029498525,
          0.9799410029498525,
          0.9799410029498525,
          0.9799410029498525,
          0.9799410029498525,
          0.9799410029498525,
          0.9799410029498525,
          0.9799410029498525,
          0.9799410029498525,
          0.9799410029498525,
          0.9799410029498525,
          0.9799410029498525,
          0.9799410029498525,
          0.9799410029498525,
          0.9799410029498525,
          0.9799410029498525,
          0.9799410029498525,
          0.9799410029498525,
          0.9799410029498525,
          0.9799410029498525,
          0.9799410029498525,
          0.9799410029498525,
          0.9799410029498525,
          0.9799410029498525,
          0.9799410029498525,
          0.9799410029498525,
          0.9799410029498525,
          0.9799410029498525,
          0.9799410029498525,
          0.9799410029498525,
          0.9799410029498525,
          0.9807976366322009,
          0.9807976366322009,
          0.9810986414648553,
          0.9810986414648553,
          0.9810986414648553,
          0.9810986414648553,
          0.9810986414648553,
          0.9810986414648553,
          0.9810986414648553,
          0.9810986414648553,
          0.9810986414648553,
          0.9810986414648553,
          0.9810986414648553,
          0.9810986414648553,
          0.9810986414648553,
          0.9810986414648553,
          0.9810986414648553,
          0.9810986414648553,
          0.9810986414648553,
          0.9810986414648553,
          0.9810986414648553,
          0.9810986414648553,
          0.9810986414648553,
          0.9810986414648553,
          0.9810986414648553,
          0.9810986414648553,
          0.9810986414648553,
          0.9810986414648553,
          0.9810986414648553,
          0.9813884785819793,
          0.9813884785819793,
          0.9813884785819793,
          0.9813884785819793,
          0.9813884785819793,
          0.9813884785819793,
          0.9813884785819793,
          0.9813884785819793,
          0.9813884785819793,
          0.9813884785819793,
          0.9813884785819793,
          0.9813884785819793,
          0.9813884785819793,
          0.9813884785819793,
          0.9813884785819793,
          0.9813884785819793,
          0.9813884785819793,
          0.9813884785819793,
          0.9813884785819793,
          0.9813884785819793,
          0.9813884785819793,
          0.9813884785819793,
          0.9813884785819793,
          0.9813884785819793,
          0.9813884785819793,
          0.9813884785819793,
          0.9813884785819793,
          0.9813884785819793,
          0.9813884785819793,
          0.9813884785819793,
          0.9813884785819793,
          0.9813884785819793,
          0.9813884785819793,
          0.9813884785819793,
          0.9813884785819793,
          0.9813884785819793,
          0.9813884785819793,
          0.9813884785819793,
          0.9813884785819793,
          0.9813884785819793,
          0.9813884785819793,
          0.9813884785819793,
          0.9813884785819793,
          0.9813884785819793,
          0.9813884785819793,
          0.9813884785819793,
          0.9813884785819793,
          0.9813884785819793,
          0.9813884785819793,
          0.9813884785819793,
          0.9813884785819793,
          0.9813884785819793,
          0.9813884785819793,
          0.981410445559162,
          0.981410445559162,
          0.981410445559162,
          0.981410445559162,
          0.981410445559162,
          0.981410445559162,
          0.981410445559162,
          0.981410445559162,
          0.981410445559162,
          0.981410445559162,
          0.981410445559162,
          0.981410445559162,
          0.981410445559162,
          0.981410445559162,
          0.981410445559162,
          0.981410445559162,
          0.981410445559162,
          0.981410445559162,
          0.981410445559162,
          0.981410445559162,
          0.981410445559162,
          0.981410445559162,
          0.981410445559162,
          0.981410445559162,
          0.981410445559162,
          0.981410445559162,
          0.981410445559162,
          0.981410445559162,
          0.981410445559162,
          0.981410445559162,
          0.981410445559162,
          0.981410445559162,
          0.981410445559162,
          0.981410445559162,
          0.981410445559162,
          0.981410445559162,
          0.981410445559162,
          0.981410445559162,
          0.981410445559162,
          0.981410445559162,
          0.981410445559162,
          0.981410445559162,
          0.981410445559162,
          0.981410445559162,
          0.981410445559162,
          0.981410445559162,
          0.981410445559162,
          0.981410445559162,
          0.9819580005915409,
          0.9819580005915409,
          0.9819580005915409,
          0.9819580005915409,
          0.9819580005915409,
          0.9819580005915409,
          0.9819580005915409,
          0.9819580005915409,
          0.9819580005915409,
          0.9819580005915409,
          0.9819580005915409,
          0.9819580005915409,
          0.9819580005915409,
          0.9819580005915409,
          0.9819580005915409,
          0.9819580005915409,
          0.9819580005915409,
          0.9819580005915409,
          0.9819580005915409,
          0.9819580005915409,
          0.9819580005915409,
          0.9819580005915409,
          0.9819580005915409,
          0.9819580005915409,
          0.9819580005915409,
          0.9819580005915409,
          0.9819580005915409,
          0.9819580005915409,
          0.9819580005915409,
          0.9819580005915409,
          0.9819580005915409,
          0.9819580005915409,
          0.9819580005915409,
          0.9819580005915409,
          0.9819580005915409,
          0.9819580005915409,
          0.9819580005915409,
          0.9819580005915409,
          0.9819580005915409,
          0.9819580005915409,
          0.9819580005915409,
          0.9819580005915409,
          0.9819580005915409,
          0.9819580005915409,
          0.9819580005915409,
          0.9819580005915409,
          0.9819580005915409,
          0.9819580005915409,
          0.9819580005915409,
          0.9819580005915409,
          0.9819580005915409,
          0.9819580005915409,
          0.9819580005915409,
          0.9819580005915409,
          0.9819580005915409,
          0.9819580005915409,
          0.9819580005915409,
          0.9819580005915409,
          0.9819580005915409,
          0.9819580005915409,
          0.9819899616179509,
          0.9819899616179509,
          0.9819899616179509,
          0.9822799763733018,
          0.9825701624815362,
          0.9825701624815362,
          0.9825701624815362,
          0.9825701624815362,
          0.9825701624815362,
          0.9825701624815362,
          0.9825701624815362,
          0.9825701624815362,
          0.9825701624815362,
          0.9825701624815362,
          0.9825701624815362,
          0.9825701624815362,
          0.9825701624815362,
          0.9825701624815362,
          0.9825701624815362,
          0.9825701624815362,
          0.9825701624815362,
          0.9825701624815362,
          0.9825701624815362,
          0.9825701624815362,
          0.9825701624815362,
          0.9825701624815362,
          0.9825701624815362,
          0.9825701624815362,
          0.9825701624815362,
          0.9825701624815362,
          0.9825701624815362,
          0.9825701624815362,
          0.9825701624815362,
          0.9825701624815362,
          0.9828605200945626,
          0.9828605200945626,
          0.9828605200945626,
          0.9828605200945626,
          0.9828605200945626,
          0.9828605200945626,
          0.9828605200945626,
          0.9828605200945626,
          0.9828605200945626,
          0.9828605200945626,
          0.9831510493644694,
          0.9831510493644694,
          0.9831510493644694,
          0.9831510493644694,
          0.9831510493644694,
          0.9831510493644694,
          0.9831510493644694,
          0.9831510493644694,
          0.9831510493644694,
          0.9831510493644694,
          0.9831510493644694,
          0.9831510493644694,
          0.9831510493644694,
          0.9831510493644694,
          0.9831510493644694,
          0.9831510493644694,
          0.9831510493644694,
          0.9831510493644694,
          0.9831510493644694,
          0.9831510493644694,
          0.9831510493644694,
          0.9831510493644694,
          0.9831510493644694,
          0.9831510493644694,
          0.9831510493644694,
          0.9831510493644694,
          0.9831510493644694,
          0.9831510493644694,
          0.9831510493644694,
          0.9831510493644694,
          0.9831510493644694,
          0.9831510493644694,
          0.9831510493644694,
          0.9831510493644694,
          0.9831510493644694,
          0.9831510493644694,
          0.9831510493644694,
          0.9831510493644694,
          0.9831510493644694,
          0.9831510493644694,
          0.9831510493644694,
          0.9831510493644694,
          0.9831510493644694,
          0.9831510493644694,
          0.9831510493644694,
          0.9831510493644694,
          0.9831510493644694,
          0.9831510493644694,
          0.9831510493644694,
          0.9831510493644694,
          0.9831510493644694,
          0.9831510493644694,
          0.9831510493644694,
          0.9831510493644694,
          0.9831510493644694,
          0.9831510493644694,
          0.9831510493644694,
          0.9831510493644694,
          0.9831510493644694,
          0.9831510493644694,
          0.9831510493644694,
          0.9831510493644694,
          0.9831510493644694,
          0.9831510493644694,
          0.9831510493644694,
          0.9831510493644694,
          0.9831510493644694,
          0.9831510493644694,
          0.9831510493644694,
          0.9831510493644694,
          0.9831510493644694,
          0.9831510493644694,
          0.9831510493644694,
          0.9831510493644694,
          0.9831510493644694,
          0.9831510493644694,
          0.9831510493644694,
          0.9831510493644694,
          0.9831510493644694,
          0.9831510493644694,
          0.9831510493644694,
          0.9831510493644694,
          0.9831510493644694,
          0.9831510493644694,
          0.9831510493644694,
          0.9831510493644694,
          0.9831510493644694,
          0.9831510493644694,
          0.9831510493644694,
          0.9831510493644694,
          0.9831510493644694,
          0.9831510493644694,
          0.9831510493644694,
          0.9831510493644694,
          0.9831510493644694,
          0.9831510493644694,
          0.9831510493644694,
          0.9831510493644694
         ]
        },
        {
         "marker": {
          "color": "#cccccc"
         },
         "mode": "markers",
         "name": "Infeasible Trial",
         "showlegend": false,
         "type": "scatter",
         "x": [],
         "y": []
        }
       ],
       "layout": {
        "template": {
         "data": {
          "bar": [
           {
            "error_x": {
             "color": "#2a3f5f"
            },
            "error_y": {
             "color": "#2a3f5f"
            },
            "marker": {
             "line": {
              "color": "#E5ECF6",
              "width": 0.5
             },
             "pattern": {
              "fillmode": "overlay",
              "size": 10,
              "solidity": 0.2
             }
            },
            "type": "bar"
           }
          ],
          "barpolar": [
           {
            "marker": {
             "line": {
              "color": "#E5ECF6",
              "width": 0.5
             },
             "pattern": {
              "fillmode": "overlay",
              "size": 10,
              "solidity": 0.2
             }
            },
            "type": "barpolar"
           }
          ],
          "carpet": [
           {
            "aaxis": {
             "endlinecolor": "#2a3f5f",
             "gridcolor": "white",
             "linecolor": "white",
             "minorgridcolor": "white",
             "startlinecolor": "#2a3f5f"
            },
            "baxis": {
             "endlinecolor": "#2a3f5f",
             "gridcolor": "white",
             "linecolor": "white",
             "minorgridcolor": "white",
             "startlinecolor": "#2a3f5f"
            },
            "type": "carpet"
           }
          ],
          "choropleth": [
           {
            "colorbar": {
             "outlinewidth": 0,
             "ticks": ""
            },
            "type": "choropleth"
           }
          ],
          "contour": [
           {
            "colorbar": {
             "outlinewidth": 0,
             "ticks": ""
            },
            "colorscale": [
             [
              0,
              "#0d0887"
             ],
             [
              0.1111111111111111,
              "#46039f"
             ],
             [
              0.2222222222222222,
              "#7201a8"
             ],
             [
              0.3333333333333333,
              "#9c179e"
             ],
             [
              0.4444444444444444,
              "#bd3786"
             ],
             [
              0.5555555555555556,
              "#d8576b"
             ],
             [
              0.6666666666666666,
              "#ed7953"
             ],
             [
              0.7777777777777778,
              "#fb9f3a"
             ],
             [
              0.8888888888888888,
              "#fdca26"
             ],
             [
              1,
              "#f0f921"
             ]
            ],
            "type": "contour"
           }
          ],
          "contourcarpet": [
           {
            "colorbar": {
             "outlinewidth": 0,
             "ticks": ""
            },
            "type": "contourcarpet"
           }
          ],
          "heatmap": [
           {
            "colorbar": {
             "outlinewidth": 0,
             "ticks": ""
            },
            "colorscale": [
             [
              0,
              "#0d0887"
             ],
             [
              0.1111111111111111,
              "#46039f"
             ],
             [
              0.2222222222222222,
              "#7201a8"
             ],
             [
              0.3333333333333333,
              "#9c179e"
             ],
             [
              0.4444444444444444,
              "#bd3786"
             ],
             [
              0.5555555555555556,
              "#d8576b"
             ],
             [
              0.6666666666666666,
              "#ed7953"
             ],
             [
              0.7777777777777778,
              "#fb9f3a"
             ],
             [
              0.8888888888888888,
              "#fdca26"
             ],
             [
              1,
              "#f0f921"
             ]
            ],
            "type": "heatmap"
           }
          ],
          "heatmapgl": [
           {
            "colorbar": {
             "outlinewidth": 0,
             "ticks": ""
            },
            "colorscale": [
             [
              0,
              "#0d0887"
             ],
             [
              0.1111111111111111,
              "#46039f"
             ],
             [
              0.2222222222222222,
              "#7201a8"
             ],
             [
              0.3333333333333333,
              "#9c179e"
             ],
             [
              0.4444444444444444,
              "#bd3786"
             ],
             [
              0.5555555555555556,
              "#d8576b"
             ],
             [
              0.6666666666666666,
              "#ed7953"
             ],
             [
              0.7777777777777778,
              "#fb9f3a"
             ],
             [
              0.8888888888888888,
              "#fdca26"
             ],
             [
              1,
              "#f0f921"
             ]
            ],
            "type": "heatmapgl"
           }
          ],
          "histogram": [
           {
            "marker": {
             "pattern": {
              "fillmode": "overlay",
              "size": 10,
              "solidity": 0.2
             }
            },
            "type": "histogram"
           }
          ],
          "histogram2d": [
           {
            "colorbar": {
             "outlinewidth": 0,
             "ticks": ""
            },
            "colorscale": [
             [
              0,
              "#0d0887"
             ],
             [
              0.1111111111111111,
              "#46039f"
             ],
             [
              0.2222222222222222,
              "#7201a8"
             ],
             [
              0.3333333333333333,
              "#9c179e"
             ],
             [
              0.4444444444444444,
              "#bd3786"
             ],
             [
              0.5555555555555556,
              "#d8576b"
             ],
             [
              0.6666666666666666,
              "#ed7953"
             ],
             [
              0.7777777777777778,
              "#fb9f3a"
             ],
             [
              0.8888888888888888,
              "#fdca26"
             ],
             [
              1,
              "#f0f921"
             ]
            ],
            "type": "histogram2d"
           }
          ],
          "histogram2dcontour": [
           {
            "colorbar": {
             "outlinewidth": 0,
             "ticks": ""
            },
            "colorscale": [
             [
              0,
              "#0d0887"
             ],
             [
              0.1111111111111111,
              "#46039f"
             ],
             [
              0.2222222222222222,
              "#7201a8"
             ],
             [
              0.3333333333333333,
              "#9c179e"
             ],
             [
              0.4444444444444444,
              "#bd3786"
             ],
             [
              0.5555555555555556,
              "#d8576b"
             ],
             [
              0.6666666666666666,
              "#ed7953"
             ],
             [
              0.7777777777777778,
              "#fb9f3a"
             ],
             [
              0.8888888888888888,
              "#fdca26"
             ],
             [
              1,
              "#f0f921"
             ]
            ],
            "type": "histogram2dcontour"
           }
          ],
          "mesh3d": [
           {
            "colorbar": {
             "outlinewidth": 0,
             "ticks": ""
            },
            "type": "mesh3d"
           }
          ],
          "parcoords": [
           {
            "line": {
             "colorbar": {
              "outlinewidth": 0,
              "ticks": ""
             }
            },
            "type": "parcoords"
           }
          ],
          "pie": [
           {
            "automargin": true,
            "type": "pie"
           }
          ],
          "scatter": [
           {
            "fillpattern": {
             "fillmode": "overlay",
             "size": 10,
             "solidity": 0.2
            },
            "type": "scatter"
           }
          ],
          "scatter3d": [
           {
            "line": {
             "colorbar": {
              "outlinewidth": 0,
              "ticks": ""
             }
            },
            "marker": {
             "colorbar": {
              "outlinewidth": 0,
              "ticks": ""
             }
            },
            "type": "scatter3d"
           }
          ],
          "scattercarpet": [
           {
            "marker": {
             "colorbar": {
              "outlinewidth": 0,
              "ticks": ""
             }
            },
            "type": "scattercarpet"
           }
          ],
          "scattergeo": [
           {
            "marker": {
             "colorbar": {
              "outlinewidth": 0,
              "ticks": ""
             }
            },
            "type": "scattergeo"
           }
          ],
          "scattergl": [
           {
            "marker": {
             "colorbar": {
              "outlinewidth": 0,
              "ticks": ""
             }
            },
            "type": "scattergl"
           }
          ],
          "scattermapbox": [
           {
            "marker": {
             "colorbar": {
              "outlinewidth": 0,
              "ticks": ""
             }
            },
            "type": "scattermapbox"
           }
          ],
          "scatterpolar": [
           {
            "marker": {
             "colorbar": {
              "outlinewidth": 0,
              "ticks": ""
             }
            },
            "type": "scatterpolar"
           }
          ],
          "scatterpolargl": [
           {
            "marker": {
             "colorbar": {
              "outlinewidth": 0,
              "ticks": ""
             }
            },
            "type": "scatterpolargl"
           }
          ],
          "scatterternary": [
           {
            "marker": {
             "colorbar": {
              "outlinewidth": 0,
              "ticks": ""
             }
            },
            "type": "scatterternary"
           }
          ],
          "surface": [
           {
            "colorbar": {
             "outlinewidth": 0,
             "ticks": ""
            },
            "colorscale": [
             [
              0,
              "#0d0887"
             ],
             [
              0.1111111111111111,
              "#46039f"
             ],
             [
              0.2222222222222222,
              "#7201a8"
             ],
             [
              0.3333333333333333,
              "#9c179e"
             ],
             [
              0.4444444444444444,
              "#bd3786"
             ],
             [
              0.5555555555555556,
              "#d8576b"
             ],
             [
              0.6666666666666666,
              "#ed7953"
             ],
             [
              0.7777777777777778,
              "#fb9f3a"
             ],
             [
              0.8888888888888888,
              "#fdca26"
             ],
             [
              1,
              "#f0f921"
             ]
            ],
            "type": "surface"
           }
          ],
          "table": [
           {
            "cells": {
             "fill": {
              "color": "#EBF0F8"
             },
             "line": {
              "color": "white"
             }
            },
            "header": {
             "fill": {
              "color": "#C8D4E3"
             },
             "line": {
              "color": "white"
             }
            },
            "type": "table"
           }
          ]
         },
         "layout": {
          "annotationdefaults": {
           "arrowcolor": "#2a3f5f",
           "arrowhead": 0,
           "arrowwidth": 1
          },
          "autotypenumbers": "strict",
          "coloraxis": {
           "colorbar": {
            "outlinewidth": 0,
            "ticks": ""
           }
          },
          "colorscale": {
           "diverging": [
            [
             0,
             "#8e0152"
            ],
            [
             0.1,
             "#c51b7d"
            ],
            [
             0.2,
             "#de77ae"
            ],
            [
             0.3,
             "#f1b6da"
            ],
            [
             0.4,
             "#fde0ef"
            ],
            [
             0.5,
             "#f7f7f7"
            ],
            [
             0.6,
             "#e6f5d0"
            ],
            [
             0.7,
             "#b8e186"
            ],
            [
             0.8,
             "#7fbc41"
            ],
            [
             0.9,
             "#4d9221"
            ],
            [
             1,
             "#276419"
            ]
           ],
           "sequential": [
            [
             0,
             "#0d0887"
            ],
            [
             0.1111111111111111,
             "#46039f"
            ],
            [
             0.2222222222222222,
             "#7201a8"
            ],
            [
             0.3333333333333333,
             "#9c179e"
            ],
            [
             0.4444444444444444,
             "#bd3786"
            ],
            [
             0.5555555555555556,
             "#d8576b"
            ],
            [
             0.6666666666666666,
             "#ed7953"
            ],
            [
             0.7777777777777778,
             "#fb9f3a"
            ],
            [
             0.8888888888888888,
             "#fdca26"
            ],
            [
             1,
             "#f0f921"
            ]
           ],
           "sequentialminus": [
            [
             0,
             "#0d0887"
            ],
            [
             0.1111111111111111,
             "#46039f"
            ],
            [
             0.2222222222222222,
             "#7201a8"
            ],
            [
             0.3333333333333333,
             "#9c179e"
            ],
            [
             0.4444444444444444,
             "#bd3786"
            ],
            [
             0.5555555555555556,
             "#d8576b"
            ],
            [
             0.6666666666666666,
             "#ed7953"
            ],
            [
             0.7777777777777778,
             "#fb9f3a"
            ],
            [
             0.8888888888888888,
             "#fdca26"
            ],
            [
             1,
             "#f0f921"
            ]
           ]
          },
          "colorway": [
           "#636efa",
           "#EF553B",
           "#00cc96",
           "#ab63fa",
           "#FFA15A",
           "#19d3f3",
           "#FF6692",
           "#B6E880",
           "#FF97FF",
           "#FECB52"
          ],
          "font": {
           "color": "#2a3f5f"
          },
          "geo": {
           "bgcolor": "white",
           "lakecolor": "white",
           "landcolor": "#E5ECF6",
           "showlakes": true,
           "showland": true,
           "subunitcolor": "white"
          },
          "hoverlabel": {
           "align": "left"
          },
          "hovermode": "closest",
          "mapbox": {
           "style": "light"
          },
          "paper_bgcolor": "white",
          "plot_bgcolor": "#E5ECF6",
          "polar": {
           "angularaxis": {
            "gridcolor": "white",
            "linecolor": "white",
            "ticks": ""
           },
           "bgcolor": "#E5ECF6",
           "radialaxis": {
            "gridcolor": "white",
            "linecolor": "white",
            "ticks": ""
           }
          },
          "scene": {
           "xaxis": {
            "backgroundcolor": "#E5ECF6",
            "gridcolor": "white",
            "gridwidth": 2,
            "linecolor": "white",
            "showbackground": true,
            "ticks": "",
            "zerolinecolor": "white"
           },
           "yaxis": {
            "backgroundcolor": "#E5ECF6",
            "gridcolor": "white",
            "gridwidth": 2,
            "linecolor": "white",
            "showbackground": true,
            "ticks": "",
            "zerolinecolor": "white"
           },
           "zaxis": {
            "backgroundcolor": "#E5ECF6",
            "gridcolor": "white",
            "gridwidth": 2,
            "linecolor": "white",
            "showbackground": true,
            "ticks": "",
            "zerolinecolor": "white"
           }
          },
          "shapedefaults": {
           "line": {
            "color": "#2a3f5f"
           }
          },
          "ternary": {
           "aaxis": {
            "gridcolor": "white",
            "linecolor": "white",
            "ticks": ""
           },
           "baxis": {
            "gridcolor": "white",
            "linecolor": "white",
            "ticks": ""
           },
           "bgcolor": "#E5ECF6",
           "caxis": {
            "gridcolor": "white",
            "linecolor": "white",
            "ticks": ""
           }
          },
          "title": {
           "x": 0.05
          },
          "xaxis": {
           "automargin": true,
           "gridcolor": "white",
           "linecolor": "white",
           "ticks": "",
           "title": {
            "standoff": 15
           },
           "zerolinecolor": "white",
           "zerolinewidth": 2
          },
          "yaxis": {
           "automargin": true,
           "gridcolor": "white",
           "linecolor": "white",
           "ticks": "",
           "title": {
            "standoff": 15
           },
           "zerolinecolor": "white",
           "zerolinewidth": 2
          }
         }
        },
        "title": {
         "text": "Optimization History Plot"
        },
        "xaxis": {
         "title": {
          "text": "Trial"
         }
        },
        "yaxis": {
         "title": {
          "text": "Objective Value"
         }
        }
       }
      }
     },
     "metadata": {},
     "output_type": "display_data"
    }
   ],
   "source": [
    "p_history_feat_eng = optuna.visualization.plot_optimization_history(study_feat_eng)\n",
    "p_history_feat_eng.show()"
   ]
  }
 ],
 "metadata": {
  "kernelspec": {
   "display_name": "ml4hc",
   "language": "python",
   "name": "python3"
  },
  "language_info": {
   "codemirror_mode": {
    "name": "ipython",
    "version": 3
   },
   "file_extension": ".py",
   "mimetype": "text/x-python",
   "name": "python",
   "nbconvert_exporter": "python",
   "pygments_lexer": "ipython3",
   "version": "3.10.14"
  }
 },
 "nbformat": 4,
 "nbformat_minor": 2
}
