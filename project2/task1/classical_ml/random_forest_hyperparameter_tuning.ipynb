{
 "cells": [
  {
   "cell_type": "markdown",
   "metadata": {},
   "source": [
    "# Random Forest: Hyperparameter Tuning"
   ]
  },
  {
   "cell_type": "markdown",
   "metadata": {},
   "source": [
    "## Packages and Presets"
   ]
  },
  {
   "cell_type": "code",
   "execution_count": 1,
   "metadata": {},
   "outputs": [],
   "source": [
    "import pandas as pd\n",
    "import numpy as np\n",
    "import yaml\n",
    "import os\n",
    "import joblib\n",
    "\n",
    "from sklearn.metrics import (\n",
    "    f1_score, \n",
    "    balanced_accuracy_score,\n",
    ")\n",
    "\n",
    "from sklearn.preprocessing import StandardScaler, OneHotEncoder\n",
    "\n",
    "from sklearn.model_selection import StratifiedKFold\n",
    "\n",
    "import matplotlib.pyplot as plt\n",
    "import seaborn as sns \n",
    "\n",
    "from imblearn.over_sampling import SMOTE\n",
    "\n",
    "from sklearn.ensemble import RandomForestClassifier\n",
    "\n",
    "from tsfresh.transformers.per_column_imputer import PerColumnImputer\n",
    "from tsfresh.feature_extraction.settings import EfficientFCParameters, ComprehensiveFCParameters\n",
    "from tsfresh.feature_extraction import extract_features\n",
    "\n",
    "from sklearn.pipeline import Pipeline\n",
    "from sklearn.compose import ColumnTransformer\n",
    "\n",
    "pd.set_option('display.max_columns', None)\n",
    "%load_ext blackcellmagic\n",
    "%load_ext autoreload\n",
    "\n",
    "import optuna\n",
    "import warnings"
   ]
  },
  {
   "cell_type": "code",
   "execution_count": 2,
   "metadata": {},
   "outputs": [],
   "source": [
    "NUM_TRIALS = 500\n",
    "\n",
    "with open(\"classical_ml_config.yaml\", \"r\") as file:\n",
    "    config = yaml.safe_load(file)"
   ]
  },
  {
   "cell_type": "markdown",
   "metadata": {},
   "source": [
    "## No Feature Engineering"
   ]
  },
  {
   "cell_type": "code",
   "execution_count": 3,
   "metadata": {},
   "outputs": [],
   "source": [
    "# Load data\n",
    "train_df = pd.read_csv(config[\"paths\"][\"ptb_train\"], header=None)"
   ]
  },
  {
   "cell_type": "code",
   "execution_count": 4,
   "metadata": {},
   "outputs": [],
   "source": [
    "X_train_all = train_df.iloc[:, :-1]\n",
    "y_train_all = train_df.iloc[:, -1]"
   ]
  },
  {
   "cell_type": "code",
   "execution_count": 5,
   "metadata": {},
   "outputs": [],
   "source": [
    "# create objective function for optuna\n",
    "def objective_no_feat_eng(trial):\n",
    "\n",
    "    # see: https://medium.com/@ethannabatchian/optimizing-random-forest-models-a-deep-dive-into-hyperparameter-tuning-with-optuna-b8e4fe7f3670\n",
    "    hyperparams = {\n",
    "        \"n_estimators\": trial.suggest_int(\"n_estimators\", 100, 1000),\n",
    "        \"max_depth\": trial.suggest_int(\"max_depth\", 10, 50),\n",
    "        \"min_samples_split\": trial.suggest_int(\"min_samples_split\", 2, 32),\n",
    "        \"min_samples_leaf\": trial.suggest_int(\"min_samples_leaf\", 1, 32),\n",
    "        \"criterion\": trial.suggest_categorical(\"criterion\", [\"gini\", \"entropy\", \"log_loss\"]),\n",
    "        \"max_features\": trial.suggest_categorical(\"max_features\", [\"sqrt\", \"log2\"]),\n",
    "        \"bootstrap\": trial.suggest_categorical(\"bootstrap\", [True, False]),\n",
    "    }\n",
    "    \n",
    "    \n",
    "    f1_scores = []\n",
    "    \n",
    "    skf = StratifiedKFold(n_splits=5, random_state=config[\"general\"][\"seed\"], shuffle=True)\n",
    "    for fold_num, (train_idx, val_idx) in enumerate(skf.split(X_train_all, y_train_all)):\n",
    "        X_train, X_val = X_train_all.iloc[train_idx], X_train_all.iloc[val_idx]\n",
    "        y_train, y_val = y_train_all[train_idx], y_train_all[val_idx]\n",
    "        \n",
    "        smote = SMOTE(random_state=config[\"general\"][\"seed\"])\n",
    "        X_train, y_train = smote.fit_resample(X_train, y_train)\n",
    "        \n",
    "        rf = RandomForestClassifier(\n",
    "            random_state=config[\"general\"][\"seed\"],\n",
    "            n_jobs=-1,\n",
    "            **hyperparams\n",
    "        )\n",
    "        rf.fit(X_train, y_train)\n",
    "        \n",
    "        y_preds = rf.predict(X_val)\n",
    "        \n",
    "        score = f1_score(y_val, y_preds)\n",
    "        f1_scores.append(score)\n",
    "            \n",
    "        trial.report(np.mean(f1_scores), fold_num)\n",
    "        if trial.should_prune():\n",
    "            raise optuna.TrialPruned()\n",
    "                    \n",
    "        \n",
    "    return np.mean(f1_scores)"
   ]
  },
  {
   "cell_type": "code",
   "execution_count": 6,
   "metadata": {},
   "outputs": [
    {
     "name": "stderr",
     "output_type": "stream",
     "text": [
      "[I 2024-05-13 02:47:37,097] A new study created in memory with name: rf_no_feat_eng\n"
     ]
    }
   ],
   "source": [
    "# prune bad trials \n",
    "pruner = optuna.pruners.MedianPruner(n_startup_trials=20, n_warmup_steps=2)\n",
    "\n",
    "study_no_feat_eng = optuna.create_study(\n",
    "    direction=\"maximize\",\n",
    "    study_name=\"rf_no_feat_eng\",\n",
    "    sampler=optuna.samplers.TPESampler(seed=config[\"general\"][\"seed\"]),\n",
    "    pruner=pruner,\n",
    ")"
   ]
  },
  {
   "cell_type": "code",
   "execution_count": 7,
   "metadata": {},
   "outputs": [
    {
     "data": {
      "application/vnd.jupyter.widget-view+json": {
       "model_id": "fc081e4d182641cf9b205f0a07a700d6",
       "version_major": 2,
       "version_minor": 0
      },
      "text/plain": [
       "  0%|          | 0/500 [00:00<?, ?it/s]"
      ]
     },
     "metadata": {},
     "output_type": "display_data"
    },
    {
     "name": "stdout",
     "output_type": "stream",
     "text": [
      "[I 2024-05-13 02:47:43,491] Trial 0 finished with value: 0.9569141022666043 and parameters: {'n_estimators': 437, 'max_depth': 48, 'min_samples_split': 24, 'min_samples_leaf': 20, 'criterion': 'gini', 'max_features': 'sqrt', 'bootstrap': True}. Best is trial 0 with value: 0.9569141022666043.\n",
      "[I 2024-05-13 02:48:00,785] Trial 1 finished with value: 0.9745820069295019 and parameters: {'n_estimators': 973, 'max_depth': 44, 'min_samples_split': 8, 'min_samples_leaf': 6, 'criterion': 'log_loss', 'max_features': 'sqrt', 'bootstrap': True}. Best is trial 1 with value: 0.9745820069295019.\n",
      "[I 2024-05-13 02:48:04,956] Trial 2 finished with value: 0.9517243808293319 and parameters: {'n_estimators': 363, 'max_depth': 25, 'min_samples_split': 16, 'min_samples_leaf': 26, 'criterion': 'log_loss', 'max_features': 'log2', 'bootstrap': True}. Best is trial 1 with value: 0.9745820069295019.\n",
      "[I 2024-05-13 02:48:19,788] Trial 3 finished with value: 0.972773930680168 and parameters: {'n_estimators': 954, 'max_depth': 49, 'min_samples_split': 27, 'min_samples_leaf': 10, 'criterion': 'entropy', 'max_features': 'log2', 'bootstrap': False}. Best is trial 1 with value: 0.9745820069295019.\n",
      "[I 2024-05-13 02:48:23,463] Trial 4 finished with value: 0.9590354806967852 and parameters: {'n_estimators': 333, 'max_depth': 37, 'min_samples_split': 11, 'min_samples_leaf': 17, 'criterion': 'log_loss', 'max_features': 'log2', 'bootstrap': True}. Best is trial 1 with value: 0.9745820069295019.\n",
      "[I 2024-05-13 02:48:46,459] Trial 5 finished with value: 0.9639067933580854 and parameters: {'n_estimators': 930, 'max_depth': 13, 'min_samples_split': 8, 'min_samples_leaf': 2, 'criterion': 'entropy', 'max_features': 'sqrt', 'bootstrap': False}. Best is trial 1 with value: 0.9745820069295019.\n",
      "[I 2024-05-13 02:48:51,483] Trial 6 finished with value: 0.9584027215321456 and parameters: {'n_estimators': 226, 'max_depth': 42, 'min_samples_split': 4, 'min_samples_leaf': 32, 'criterion': 'gini', 'max_features': 'sqrt', 'bootstrap': False}. Best is trial 1 with value: 0.9745820069295019.\n",
      "[I 2024-05-13 02:48:53,243] Trial 7 finished with value: 0.9474639705749771 and parameters: {'n_estimators': 166, 'max_depth': 24, 'min_samples_split': 5, 'min_samples_leaf': 28, 'criterion': 'gini', 'max_features': 'log2', 'bootstrap': True}. Best is trial 1 with value: 0.9745820069295019.\n",
      "[I 2024-05-13 02:49:01,983] Trial 8 finished with value: 0.9539385164365578 and parameters: {'n_estimators': 899, 'max_depth': 29, 'min_samples_split': 5, 'min_samples_leaf': 23, 'criterion': 'log_loss', 'max_features': 'log2', 'bootstrap': True}. Best is trial 1 with value: 0.9745820069295019.\n",
      "[I 2024-05-13 02:49:04,214] Trial 9 finished with value: 0.9412432311462151 and parameters: {'n_estimators': 197, 'max_depth': 11, 'min_samples_split': 21, 'min_samples_leaf': 11, 'criterion': 'entropy', 'max_features': 'log2', 'bootstrap': True}. Best is trial 1 with value: 0.9745820069295019.\n",
      "[I 2024-05-13 02:49:23,668] Trial 10 finished with value: 0.9775132056547525 and parameters: {'n_estimators': 688, 'max_depth': 38, 'min_samples_split': 32, 'min_samples_leaf': 1, 'criterion': 'log_loss', 'max_features': 'sqrt', 'bootstrap': False}. Best is trial 10 with value: 0.9775132056547525.\n",
      "[I 2024-05-13 02:49:42,631] Trial 11 finished with value: 0.9775131381755073 and parameters: {'n_estimators': 674, 'max_depth': 37, 'min_samples_split': 32, 'min_samples_leaf': 1, 'criterion': 'log_loss', 'max_features': 'sqrt', 'bootstrap': False}. Best is trial 10 with value: 0.9775132056547525.\n",
      "[I 2024-05-13 02:50:02,521] Trial 12 finished with value: 0.9774550826243615 and parameters: {'n_estimators': 697, 'max_depth': 35, 'min_samples_split': 32, 'min_samples_leaf': 1, 'criterion': 'log_loss', 'max_features': 'sqrt', 'bootstrap': False}. Best is trial 10 with value: 0.9775132056547525.\n",
      "[I 2024-05-13 02:50:21,192] Trial 13 finished with value: 0.9744367721222569 and parameters: {'n_estimators': 686, 'max_depth': 37, 'min_samples_split': 31, 'min_samples_leaf': 8, 'criterion': 'log_loss', 'max_features': 'sqrt', 'bootstrap': False}. Best is trial 10 with value: 0.9775132056547525.\n",
      "[I 2024-05-13 02:50:39,157] Trial 14 finished with value: 0.9769925667046835 and parameters: {'n_estimators': 642, 'max_depth': 32, 'min_samples_split': 28, 'min_samples_leaf': 5, 'criterion': 'log_loss', 'max_features': 'sqrt', 'bootstrap': False}. Best is trial 10 with value: 0.9775132056547525.\n",
      "[I 2024-05-13 02:51:00,776] Trial 15 finished with value: 0.9727350255886564 and parameters: {'n_estimators': 808, 'max_depth': 43, 'min_samples_split': 19, 'min_samples_leaf': 14, 'criterion': 'log_loss', 'max_features': 'sqrt', 'bootstrap': False}. Best is trial 10 with value: 0.9775132056547525.\n",
      "[I 2024-05-13 02:51:16,260] Trial 16 finished with value: 0.9784223313855647 and parameters: {'n_estimators': 537, 'max_depth': 22, 'min_samples_split': 27, 'min_samples_leaf': 1, 'criterion': 'log_loss', 'max_features': 'sqrt', 'bootstrap': False}. Best is trial 16 with value: 0.9784223313855647.\n",
      "[I 2024-05-13 02:51:30,624] Trial 17 finished with value: 0.9757187011153761 and parameters: {'n_estimators': 504, 'max_depth': 19, 'min_samples_split': 25, 'min_samples_leaf': 5, 'criterion': 'log_loss', 'max_features': 'sqrt', 'bootstrap': False}. Best is trial 16 with value: 0.9784223313855647.\n",
      "[I 2024-05-13 02:51:42,512] Trial 18 finished with value: 0.9692885049169842 and parameters: {'n_estimators': 536, 'max_depth': 20, 'min_samples_split': 16, 'min_samples_leaf': 13, 'criterion': 'gini', 'max_features': 'sqrt', 'bootstrap': False}. Best is trial 16 with value: 0.9784223313855647.\n",
      "[I 2024-05-13 02:51:58,784] Trial 19 finished with value: 0.9734584929061876 and parameters: {'n_estimators': 599, 'max_depth': 16, 'min_samples_split': 22, 'min_samples_leaf': 4, 'criterion': 'entropy', 'max_features': 'sqrt', 'bootstrap': False}. Best is trial 16 with value: 0.9784223313855647.\n",
      "[I 2024-05-13 02:52:19,493] Trial 20 finished with value: 0.9745737229705342 and parameters: {'n_estimators': 754, 'max_depth': 27, 'min_samples_split': 28, 'min_samples_leaf': 9, 'criterion': 'log_loss', 'max_features': 'sqrt', 'bootstrap': False}. Best is trial 16 with value: 0.9784223313855647.\n",
      "[I 2024-05-13 02:52:42,793] Trial 21 finished with value: 0.9773917545680157 and parameters: {'n_estimators': 829, 'max_depth': 33, 'min_samples_split': 32, 'min_samples_leaf': 1, 'criterion': 'log_loss', 'max_features': 'sqrt', 'bootstrap': False}. Best is trial 16 with value: 0.9784223313855647.\n",
      "[I 2024-05-13 02:52:59,599] Trial 22 finished with value: 0.9770811137660196 and parameters: {'n_estimators': 586, 'max_depth': 40, 'min_samples_split': 29, 'min_samples_leaf': 3, 'criterion': 'log_loss', 'max_features': 'sqrt', 'bootstrap': False}. Best is trial 16 with value: 0.9784223313855647.\n",
      "[I 2024-05-13 02:53:12,735] Trial 23 finished with value: 0.9751137225764056 and parameters: {'n_estimators': 465, 'max_depth': 30, 'min_samples_split': 30, 'min_samples_leaf': 7, 'criterion': 'log_loss', 'max_features': 'sqrt', 'bootstrap': False}. Best is trial 16 with value: 0.9784223313855647.\n",
      "[I 2024-05-13 02:53:34,319] Trial 24 finished with value: 0.9786656745477249 and parameters: {'n_estimators': 745, 'max_depth': 22, 'min_samples_split': 24, 'min_samples_leaf': 1, 'criterion': 'log_loss', 'max_features': 'sqrt', 'bootstrap': False}. Best is trial 24 with value: 0.9786656745477249.\n",
      "[I 2024-05-13 02:53:56,011] Trial 25 finished with value: 0.9766496968184504 and parameters: {'n_estimators': 757, 'max_depth': 20, 'min_samples_split': 25, 'min_samples_leaf': 4, 'criterion': 'log_loss', 'max_features': 'sqrt', 'bootstrap': False}. Best is trial 24 with value: 0.9786656745477249.\n",
      "[I 2024-05-13 02:54:19,592] Trial 26 finished with value: 0.9763256263667583 and parameters: {'n_estimators': 857, 'max_depth': 23, 'min_samples_split': 22, 'min_samples_leaf': 7, 'criterion': 'log_loss', 'max_features': 'sqrt', 'bootstrap': False}. Best is trial 24 with value: 0.9786656745477249.\n",
      "[I 2024-05-13 02:54:29,300] Trial 27 pruned. \n",
      "[I 2024-05-13 02:54:47,673] Trial 28 finished with value: 0.9747404415979893 and parameters: {'n_estimators': 772, 'max_depth': 22, 'min_samples_split': 19, 'min_samples_leaf': 3, 'criterion': 'gini', 'max_features': 'sqrt', 'bootstrap': False}. Best is trial 24 with value: 0.9786656745477249.\n",
      "[I 2024-05-13 02:54:54,947] Trial 29 pruned. \n",
      "[I 2024-05-13 02:54:59,445] Trial 30 pruned. \n",
      "[I 2024-05-13 02:55:18,783] Trial 31 finished with value: 0.9781172448133546 and parameters: {'n_estimators': 679, 'max_depth': 39, 'min_samples_split': 30, 'min_samples_leaf': 1, 'criterion': 'log_loss', 'max_features': 'sqrt', 'bootstrap': False}. Best is trial 24 with value: 0.9786656745477249.\n",
      "[I 2024-05-13 02:55:38,502] Trial 32 finished with value: 0.9758549797877111 and parameters: {'n_estimators': 715, 'max_depth': 46, 'min_samples_split': 29, 'min_samples_leaf': 6, 'criterion': 'log_loss', 'max_features': 'sqrt', 'bootstrap': False}. Best is trial 24 with value: 0.9786656745477249.\n",
      "[I 2024-05-13 02:55:56,631] Trial 33 finished with value: 0.9784857055098184 and parameters: {'n_estimators': 635, 'max_depth': 39, 'min_samples_split': 27, 'min_samples_leaf': 1, 'criterion': 'log_loss', 'max_features': 'sqrt', 'bootstrap': False}. Best is trial 24 with value: 0.9786656745477249.\n",
      "[I 2024-05-13 02:56:02,471] Trial 34 pruned. \n",
      "[I 2024-05-13 02:56:12,509] Trial 35 finished with value: 0.9771178700983659 and parameters: {'n_estimators': 602, 'max_depth': 26, 'min_samples_split': 24, 'min_samples_leaf': 3, 'criterion': 'log_loss', 'max_features': 'log2', 'bootstrap': False}. Best is trial 24 with value: 0.9786656745477249.\n",
      "[I 2024-05-13 02:56:19,477] Trial 36 pruned. \n",
      "[I 2024-05-13 02:56:23,932] Trial 37 pruned. \n",
      "[I 2024-05-13 02:56:35,711] Trial 38 finished with value: 0.9797357383313479 and parameters: {'n_estimators': 396, 'max_depth': 32, 'min_samples_split': 20, 'min_samples_leaf': 2, 'criterion': 'entropy', 'max_features': 'sqrt', 'bootstrap': False}. Best is trial 38 with value: 0.9797357383313479.\n",
      "[I 2024-05-13 02:56:39,161] Trial 39 pruned. \n",
      "[I 2024-05-13 02:56:45,937] Trial 40 finished with value: 0.9779098643586499 and parameters: {'n_estimators': 395, 'max_depth': 34, 'min_samples_split': 20, 'min_samples_leaf': 3, 'criterion': 'entropy', 'max_features': 'log2', 'bootstrap': False}. Best is trial 38 with value: 0.9797357383313479.\n",
      "[I 2024-05-13 02:57:13,709] Trial 41 finished with value: 0.9787850205854312 and parameters: {'n_estimators': 994, 'max_depth': 40, 'min_samples_split': 24, 'min_samples_leaf': 2, 'criterion': 'entropy', 'max_features': 'sqrt', 'bootstrap': False}. Best is trial 38 with value: 0.9797357383313479.\n",
      "[I 2024-05-13 02:57:41,501] Trial 42 finished with value: 0.9792043299969521 and parameters: {'n_estimators': 966, 'max_depth': 44, 'min_samples_split': 23, 'min_samples_leaf': 2, 'criterion': 'entropy', 'max_features': 'sqrt', 'bootstrap': False}. Best is trial 38 with value: 0.9797357383313479.\n",
      "[I 2024-05-13 02:58:08,989] Trial 43 finished with value: 0.9795427264133008 and parameters: {'n_estimators': 962, 'max_depth': 45, 'min_samples_split': 14, 'min_samples_leaf': 5, 'criterion': 'entropy', 'max_features': 'sqrt', 'bootstrap': False}. Best is trial 38 with value: 0.9797357383313479.\n",
      "[I 2024-05-13 02:58:36,175] Trial 44 finished with value: 0.9797853577625109 and parameters: {'n_estimators': 977, 'max_depth': 44, 'min_samples_split': 13, 'min_samples_leaf': 5, 'criterion': 'entropy', 'max_features': 'sqrt', 'bootstrap': False}. Best is trial 44 with value: 0.9797853577625109.\n",
      "[I 2024-05-13 02:59:03,438] Trial 45 finished with value: 0.977348639692627 and parameters: {'n_estimators': 1000, 'max_depth': 44, 'min_samples_split': 13, 'min_samples_leaf': 8, 'criterion': 'entropy', 'max_features': 'sqrt', 'bootstrap': False}. Best is trial 44 with value: 0.9797853577625109.\n",
      "[I 2024-05-13 02:59:09,325] Trial 46 pruned. \n",
      "[I 2024-05-13 02:59:22,726] Trial 47 pruned. \n",
      "[I 2024-05-13 02:59:50,605] Trial 48 finished with value: 0.9786406941872405 and parameters: {'n_estimators': 965, 'max_depth': 42, 'min_samples_split': 16, 'min_samples_leaf': 6, 'criterion': 'entropy', 'max_features': 'sqrt', 'bootstrap': False}. Best is trial 44 with value: 0.9797853577625109.\n",
      "[I 2024-05-13 03:00:19,175] Trial 49 finished with value: 0.979726690072529 and parameters: {'n_estimators': 998, 'max_depth': 36, 'min_samples_split': 10, 'min_samples_leaf': 5, 'criterion': 'entropy', 'max_features': 'sqrt', 'bootstrap': False}. Best is trial 44 with value: 0.9797853577625109.\n",
      "[I 2024-05-13 03:00:20,891] Trial 50 pruned. \n",
      "[I 2024-05-13 03:00:48,490] Trial 51 finished with value: 0.9800320443705746 and parameters: {'n_estimators': 996, 'max_depth': 36, 'min_samples_split': 14, 'min_samples_leaf': 4, 'criterion': 'entropy', 'max_features': 'sqrt', 'bootstrap': False}. Best is trial 51 with value: 0.9800320443705746.\n",
      "[I 2024-05-13 03:01:14,257] Trial 52 finished with value: 0.979543008083194 and parameters: {'n_estimators': 935, 'max_depth': 36, 'min_samples_split': 14, 'min_samples_leaf': 5, 'criterion': 'entropy', 'max_features': 'sqrt', 'bootstrap': False}. Best is trial 51 with value: 0.9800320443705746.\n",
      "[I 2024-05-13 03:01:39,630] Trial 53 finished with value: 0.9794817696449647 and parameters: {'n_estimators': 913, 'max_depth': 36, 'min_samples_split': 14, 'min_samples_leaf': 5, 'criterion': 'entropy', 'max_features': 'sqrt', 'bootstrap': False}. Best is trial 51 with value: 0.9800320443705746.\n",
      "[I 2024-05-13 03:01:53,998] Trial 54 pruned. \n",
      "[I 2024-05-13 03:02:20,845] Trial 55 finished with value: 0.9799041009724399 and parameters: {'n_estimators': 956, 'max_depth': 30, 'min_samples_split': 7, 'min_samples_leaf': 5, 'criterion': 'entropy', 'max_features': 'sqrt', 'bootstrap': False}. Best is trial 51 with value: 0.9800320443705746.\n",
      "[I 2024-05-13 03:02:43,624] Trial 56 finished with value: 0.9777289273972251 and parameters: {'n_estimators': 832, 'max_depth': 30, 'min_samples_split': 6, 'min_samples_leaf': 7, 'criterion': 'entropy', 'max_features': 'sqrt', 'bootstrap': False}. Best is trial 51 with value: 0.9800320443705746.\n",
      "[I 2024-05-13 03:02:58,992] Trial 57 finished with value: 0.9802414644219193 and parameters: {'n_estimators': 933, 'max_depth': 32, 'min_samples_split': 2, 'min_samples_leaf': 4, 'criterion': 'entropy', 'max_features': 'log2', 'bootstrap': False}. Best is trial 57 with value: 0.9802414644219193.\n",
      "[I 2024-05-13 03:03:03,900] Trial 58 finished with value: 0.9802328352166831 and parameters: {'n_estimators': 274, 'max_depth': 32, 'min_samples_split': 2, 'min_samples_leaf': 4, 'criterion': 'entropy', 'max_features': 'log2', 'bootstrap': False}. Best is trial 57 with value: 0.9802414644219193.\n",
      "[I 2024-05-13 03:03:06,481] Trial 59 pruned. \n",
      "[I 2024-05-13 03:03:12,266] Trial 60 finished with value: 0.9812663906037864 and parameters: {'n_estimators': 307, 'max_depth': 31, 'min_samples_split': 2, 'min_samples_leaf': 3, 'criterion': 'entropy', 'max_features': 'log2', 'bootstrap': False}. Best is trial 60 with value: 0.9812663906037864.\n",
      "[I 2024-05-13 03:03:18,021] Trial 61 finished with value: 0.9812655387414744 and parameters: {'n_estimators': 312, 'max_depth': 31, 'min_samples_split': 2, 'min_samples_leaf': 3, 'criterion': 'entropy', 'max_features': 'log2', 'bootstrap': False}. Best is trial 60 with value: 0.9812663906037864.\n",
      "[I 2024-05-13 03:03:23,599] Trial 62 finished with value: 0.9801694398783228 and parameters: {'n_estimators': 306, 'max_depth': 29, 'min_samples_split': 2, 'min_samples_leaf': 4, 'criterion': 'entropy', 'max_features': 'log2', 'bootstrap': False}. Best is trial 60 with value: 0.9812663906037864.\n",
      "[I 2024-05-13 03:03:28,346] Trial 63 finished with value: 0.9812718292405791 and parameters: {'n_estimators': 243, 'max_depth': 28, 'min_samples_split': 2, 'min_samples_leaf': 3, 'criterion': 'entropy', 'max_features': 'log2', 'bootstrap': False}. Best is trial 63 with value: 0.9812718292405791.\n",
      "[I 2024-05-13 03:03:33,376] Trial 64 finished with value: 0.9813267242507955 and parameters: {'n_estimators': 266, 'max_depth': 25, 'min_samples_split': 2, 'min_samples_leaf': 3, 'criterion': 'entropy', 'max_features': 'log2', 'bootstrap': False}. Best is trial 64 with value: 0.9813267242507955.\n",
      "[I 2024-05-13 03:03:38,735] Trial 65 finished with value: 0.9810289225942321 and parameters: {'n_estimators': 290, 'max_depth': 25, 'min_samples_split': 2, 'min_samples_leaf': 3, 'criterion': 'entropy', 'max_features': 'log2', 'bootstrap': False}. Best is trial 64 with value: 0.9813267242507955.\n",
      "[I 2024-05-13 03:03:42,201] Trial 66 finished with value: 0.9784867576417907 and parameters: {'n_estimators': 209, 'max_depth': 25, 'min_samples_split': 4, 'min_samples_leaf': 3, 'criterion': 'gini', 'max_features': 'log2', 'bootstrap': False}. Best is trial 64 with value: 0.9813267242507955.\n",
      "[I 2024-05-13 03:03:45,460] Trial 67 finished with value: 0.9823569268823593 and parameters: {'n_estimators': 160, 'max_depth': 27, 'min_samples_split': 3, 'min_samples_leaf': 2, 'criterion': 'entropy', 'max_features': 'log2', 'bootstrap': False}. Best is trial 67 with value: 0.9823569268823593.\n",
      "[I 2024-05-13 03:03:48,346] Trial 68 finished with value: 0.9822299340205738 and parameters: {'n_estimators': 135, 'max_depth': 27, 'min_samples_split': 4, 'min_samples_leaf': 2, 'criterion': 'entropy', 'max_features': 'log2', 'bootstrap': False}. Best is trial 67 with value: 0.9823569268823593.\n",
      "[I 2024-05-13 03:03:51,663] Trial 69 finished with value: 0.9821124026523351 and parameters: {'n_estimators': 162, 'max_depth': 27, 'min_samples_split': 4, 'min_samples_leaf': 2, 'criterion': 'entropy', 'max_features': 'log2', 'bootstrap': False}. Best is trial 67 with value: 0.9823569268823593.\n",
      "[I 2024-05-13 03:03:55,280] Trial 70 finished with value: 0.9818199989295604 and parameters: {'n_estimators': 167, 'max_depth': 27, 'min_samples_split': 4, 'min_samples_leaf': 2, 'criterion': 'entropy', 'max_features': 'log2', 'bootstrap': False}. Best is trial 67 with value: 0.9823569268823593.\n",
      "[I 2024-05-13 03:03:58,522] Trial 71 finished with value: 0.9823569268823593 and parameters: {'n_estimators': 160, 'max_depth': 27, 'min_samples_split': 4, 'min_samples_leaf': 2, 'criterion': 'entropy', 'max_features': 'log2', 'bootstrap': False}. Best is trial 67 with value: 0.9823569268823593.\n",
      "[I 2024-05-13 03:04:01,682] Trial 72 finished with value: 0.9823569268823593 and parameters: {'n_estimators': 160, 'max_depth': 27, 'min_samples_split': 4, 'min_samples_leaf': 2, 'criterion': 'entropy', 'max_features': 'log2', 'bootstrap': False}. Best is trial 67 with value: 0.9823569268823593.\n",
      "[I 2024-05-13 03:04:04,651] Trial 73 finished with value: 0.9822902682657692 and parameters: {'n_estimators': 138, 'max_depth': 27, 'min_samples_split': 4, 'min_samples_leaf': 2, 'criterion': 'entropy', 'max_features': 'log2', 'bootstrap': False}. Best is trial 67 with value: 0.9823569268823593.\n",
      "[I 2024-05-13 03:04:08,027] Trial 74 finished with value: 0.9825328396836703 and parameters: {'n_estimators': 163, 'max_depth': 27, 'min_samples_split': 4, 'min_samples_leaf': 1, 'criterion': 'entropy', 'max_features': 'log2', 'bootstrap': False}. Best is trial 74 with value: 0.9825328396836703.\n",
      "[I 2024-05-13 03:04:11,174] Trial 75 finished with value: 0.9813585853082397 and parameters: {'n_estimators': 172, 'max_depth': 27, 'min_samples_split': 4, 'min_samples_leaf': 1, 'criterion': 'gini', 'max_features': 'log2', 'bootstrap': False}. Best is trial 74 with value: 0.9825328396836703.\n",
      "[I 2024-05-13 03:04:12,550] Trial 76 pruned. \n",
      "[I 2024-05-13 03:04:15,455] Trial 77 finished with value: 0.9811033427109035 and parameters: {'n_estimators': 142, 'max_depth': 27, 'min_samples_split': 6, 'min_samples_leaf': 2, 'criterion': 'entropy', 'max_features': 'log2', 'bootstrap': False}. Best is trial 74 with value: 0.9825328396836703.\n",
      "[I 2024-05-13 03:04:18,967] Trial 78 finished with value: 0.9817545706222637 and parameters: {'n_estimators': 178, 'max_depth': 28, 'min_samples_split': 5, 'min_samples_leaf': 1, 'criterion': 'entropy', 'max_features': 'log2', 'bootstrap': False}. Best is trial 74 with value: 0.9825328396836703.\n",
      "[I 2024-05-13 03:04:21,924] Trial 79 finished with value: 0.9825751073331874 and parameters: {'n_estimators': 141, 'max_depth': 24, 'min_samples_split': 4, 'min_samples_leaf': 2, 'criterion': 'entropy', 'max_features': 'log2', 'bootstrap': False}. Best is trial 79 with value: 0.9825751073331874.\n",
      "[I 2024-05-13 03:04:24,768] Trial 80 finished with value: 0.9815172566648119 and parameters: {'n_estimators': 139, 'max_depth': 24, 'min_samples_split': 7, 'min_samples_leaf': 1, 'criterion': 'entropy', 'max_features': 'log2', 'bootstrap': False}. Best is trial 79 with value: 0.9825751073331874.\n",
      "[I 2024-05-13 03:04:28,651] Trial 81 finished with value: 0.981517257396938 and parameters: {'n_estimators': 204, 'max_depth': 26, 'min_samples_split': 3, 'min_samples_leaf': 2, 'criterion': 'entropy', 'max_features': 'log2', 'bootstrap': False}. Best is trial 79 with value: 0.9825751073331874.\n",
      "[I 2024-05-13 03:04:31,694] Trial 82 finished with value: 0.9813145391379466 and parameters: {'n_estimators': 150, 'max_depth': 21, 'min_samples_split': 4, 'min_samples_leaf': 2, 'criterion': 'entropy', 'max_features': 'log2', 'bootstrap': False}. Best is trial 79 with value: 0.9825751073331874.\n",
      "[I 2024-05-13 03:04:35,903] Trial 83 finished with value: 0.9821054900850896 and parameters: {'n_estimators': 223, 'max_depth': 26, 'min_samples_split': 6, 'min_samples_leaf': 1, 'criterion': 'entropy', 'max_features': 'log2', 'bootstrap': False}. Best is trial 79 with value: 0.9825751073331874.\n",
      "[I 2024-05-13 03:04:39,961] Trial 84 finished with value: 0.9821691313053382 and parameters: {'n_estimators': 218, 'max_depth': 24, 'min_samples_split': 6, 'min_samples_leaf': 1, 'criterion': 'entropy', 'max_features': 'log2', 'bootstrap': False}. Best is trial 79 with value: 0.9825751073331874.\n",
      "[I 2024-05-13 03:04:43,593] Trial 85 finished with value: 0.9791167881497247 and parameters: {'n_estimators': 191, 'max_depth': 18, 'min_samples_split': 3, 'min_samples_leaf': 1, 'criterion': 'entropy', 'max_features': 'log2', 'bootstrap': False}. Best is trial 79 with value: 0.9825751073331874.\n",
      "[I 2024-05-13 03:04:45,574] Trial 86 finished with value: 0.9784630604784856 and parameters: {'n_estimators': 104, 'max_depth': 23, 'min_samples_split': 7, 'min_samples_leaf': 2, 'criterion': 'gini', 'max_features': 'log2', 'bootstrap': False}. Best is trial 79 with value: 0.9825751073331874.\n",
      "[I 2024-05-13 03:04:48,223] Trial 87 finished with value: 0.9795041694322482 and parameters: {'n_estimators': 129, 'max_depth': 29, 'min_samples_split': 3, 'min_samples_leaf': 4, 'criterion': 'entropy', 'max_features': 'log2', 'bootstrap': False}. Best is trial 79 with value: 0.9825751073331874.\n",
      "[I 2024-05-13 03:04:49,941] Trial 88 pruned. \n",
      "[I 2024-05-13 03:04:53,001] Trial 89 finished with value: 0.9815789750785887 and parameters: {'n_estimators': 156, 'max_depth': 29, 'min_samples_split': 5, 'min_samples_leaf': 2, 'criterion': 'entropy', 'max_features': 'log2', 'bootstrap': False}. Best is trial 79 with value: 0.9825751073331874.\n",
      "[I 2024-05-13 03:04:55,119] Trial 90 pruned. \n",
      "[I 2024-05-13 03:04:59,181] Trial 91 finished with value: 0.9821099809473818 and parameters: {'n_estimators': 212, 'max_depth': 26, 'min_samples_split': 6, 'min_samples_leaf': 1, 'criterion': 'entropy', 'max_features': 'log2', 'bootstrap': False}. Best is trial 79 with value: 0.9825751073331874.\n",
      "[I 2024-05-13 03:05:03,402] Trial 92 finished with value: 0.9783677131870185 and parameters: {'n_estimators': 217, 'max_depth': 26, 'min_samples_split': 3, 'min_samples_leaf': 6, 'criterion': 'entropy', 'max_features': 'log2', 'bootstrap': False}. Best is trial 79 with value: 0.9825751073331874.\n",
      "[I 2024-05-13 03:05:06,247] Trial 93 finished with value: 0.9821094435040205 and parameters: {'n_estimators': 133, 'max_depth': 24, 'min_samples_split': 6, 'min_samples_leaf': 1, 'criterion': 'entropy', 'max_features': 'log2', 'bootstrap': False}. Best is trial 79 with value: 0.9825751073331874.\n",
      "[I 2024-05-13 03:05:09,666] Trial 94 finished with value: 0.9819368470121873 and parameters: {'n_estimators': 176, 'max_depth': 28, 'min_samples_split': 4, 'min_samples_leaf': 2, 'criterion': 'entropy', 'max_features': 'log2', 'bootstrap': False}. Best is trial 79 with value: 0.9825751073331874.\n",
      "[I 2024-05-13 03:05:12,125] Trial 95 finished with value: 0.9795844805556918 and parameters: {'n_estimators': 118, 'max_depth': 25, 'min_samples_split': 8, 'min_samples_leaf': 4, 'criterion': 'entropy', 'max_features': 'log2', 'bootstrap': False}. Best is trial 79 with value: 0.9825751073331874.\n",
      "[I 2024-05-13 03:05:14,422] Trial 96 finished with value: 0.9812136747026674 and parameters: {'n_estimators': 101, 'max_depth': 26, 'min_samples_split': 6, 'min_samples_leaf': 1, 'criterion': 'entropy', 'max_features': 'log2', 'bootstrap': False}. Best is trial 79 with value: 0.9825751073331874.\n",
      "[I 2024-05-13 03:05:17,512] Trial 97 finished with value: 0.9803663265257805 and parameters: {'n_estimators': 151, 'max_depth': 28, 'min_samples_split': 3, 'min_samples_leaf': 3, 'criterion': 'entropy', 'max_features': 'log2', 'bootstrap': False}. Best is trial 79 with value: 0.9825751073331874.\n",
      "[I 2024-05-13 03:05:19,693] Trial 98 pruned. \n",
      "[I 2024-05-13 03:05:21,798] Trial 99 pruned. \n",
      "[I 2024-05-13 03:05:23,039] Trial 100 pruned. \n",
      "[I 2024-05-13 03:05:25,795] Trial 101 finished with value: 0.9813223487239291 and parameters: {'n_estimators': 132, 'max_depth': 23, 'min_samples_split': 6, 'min_samples_leaf': 1, 'criterion': 'entropy', 'max_features': 'log2', 'bootstrap': False}. Best is trial 79 with value: 0.9825751073331874.\n",
      "[I 2024-05-13 03:05:28,693] Trial 102 finished with value: 0.9815820802441622 and parameters: {'n_estimators': 133, 'max_depth': 24, 'min_samples_split': 5, 'min_samples_leaf': 1, 'criterion': 'entropy', 'max_features': 'log2', 'bootstrap': False}. Best is trial 79 with value: 0.9825751073331874.\n",
      "[I 2024-05-13 03:05:32,547] Trial 103 finished with value: 0.9818045788159206 and parameters: {'n_estimators': 202, 'max_depth': 24, 'min_samples_split': 3, 'min_samples_leaf': 2, 'criterion': 'entropy', 'max_features': 'log2', 'bootstrap': False}. Best is trial 79 with value: 0.9825751073331874.\n",
      "[I 2024-05-13 03:05:35,659] Trial 104 finished with value: 0.9804292558830051 and parameters: {'n_estimators': 159, 'max_depth': 26, 'min_samples_split': 9, 'min_samples_leaf': 4, 'criterion': 'entropy', 'max_features': 'log2', 'bootstrap': False}. Best is trial 79 with value: 0.9825751073331874.\n",
      "[I 2024-05-13 03:05:39,974] Trial 105 finished with value: 0.9820584312876826 and parameters: {'n_estimators': 228, 'max_depth': 29, 'min_samples_split': 4, 'min_samples_leaf': 2, 'criterion': 'entropy', 'max_features': 'log2', 'bootstrap': False}. Best is trial 79 with value: 0.9825751073331874.\n",
      "[I 2024-05-13 03:05:41,332] Trial 106 pruned. \n",
      "[I 2024-05-13 03:05:43,322] Trial 107 pruned. \n",
      "[I 2024-05-13 03:05:45,645] Trial 108 finished with value: 0.9820477810491053 and parameters: {'n_estimators': 102, 'max_depth': 27, 'min_samples_split': 3, 'min_samples_leaf': 1, 'criterion': 'entropy', 'max_features': 'log2', 'bootstrap': False}. Best is trial 79 with value: 0.9825751073331874.\n",
      "[I 2024-05-13 03:05:47,225] Trial 109 pruned. \n",
      "[I 2024-05-13 03:05:51,373] Trial 110 finished with value: 0.9825962149459597 and parameters: {'n_estimators': 213, 'max_depth': 31, 'min_samples_split': 4, 'min_samples_leaf': 1, 'criterion': 'entropy', 'max_features': 'log2', 'bootstrap': False}. Best is trial 110 with value: 0.9825962149459597.\n",
      "[I 2024-05-13 03:05:54,414] Trial 111 finished with value: 0.9823473655187094 and parameters: {'n_estimators': 148, 'max_depth': 31, 'min_samples_split': 4, 'min_samples_leaf': 1, 'criterion': 'entropy', 'max_features': 'log2', 'bootstrap': False}. Best is trial 110 with value: 0.9825962149459597.\n",
      "[I 2024-05-13 03:05:58,708] Trial 112 finished with value: 0.9819955690894977 and parameters: {'n_estimators': 228, 'max_depth': 31, 'min_samples_split': 4, 'min_samples_leaf': 2, 'criterion': 'entropy', 'max_features': 'log2', 'bootstrap': False}. Best is trial 110 with value: 0.9825962149459597.\n",
      "[I 2024-05-13 03:06:02,673] Trial 113 finished with value: 0.9814582439930136 and parameters: {'n_estimators': 194, 'max_depth': 33, 'min_samples_split': 3, 'min_samples_leaf': 3, 'criterion': 'entropy', 'max_features': 'log2', 'bootstrap': False}. Best is trial 110 with value: 0.9825962149459597.\n",
      "[I 2024-05-13 03:06:09,256] Trial 114 finished with value: 0.982418616472226 and parameters: {'n_estimators': 347, 'max_depth': 28, 'min_samples_split': 5, 'min_samples_leaf': 1, 'criterion': 'entropy', 'max_features': 'log2', 'bootstrap': False}. Best is trial 110 with value: 0.9825962149459597.\n",
      "[I 2024-05-13 03:06:12,432] Trial 115 finished with value: 0.9820431675579508 and parameters: {'n_estimators': 152, 'max_depth': 31, 'min_samples_split': 4, 'min_samples_leaf': 2, 'criterion': 'entropy', 'max_features': 'log2', 'bootstrap': False}. Best is trial 110 with value: 0.9825962149459597.\n",
      "[I 2024-05-13 03:06:15,391] Trial 116 pruned. \n",
      "[I 2024-05-13 03:06:21,283] Trial 117 finished with value: 0.9813915848375411 and parameters: {'n_estimators': 323, 'max_depth': 28, 'min_samples_split': 3, 'min_samples_leaf': 3, 'criterion': 'entropy', 'max_features': 'log2', 'bootstrap': False}. Best is trial 110 with value: 0.9825962149459597.\n",
      "[I 2024-05-13 03:06:27,972] Trial 118 finished with value: 0.9825382270693351 and parameters: {'n_estimators': 364, 'max_depth': 34, 'min_samples_split': 4, 'min_samples_leaf': 1, 'criterion': 'entropy', 'max_features': 'log2', 'bootstrap': False}. Best is trial 110 with value: 0.9825962149459597.\n",
      "[I 2024-05-13 03:06:34,767] Trial 119 finished with value: 0.9827215402712358 and parameters: {'n_estimators': 373, 'max_depth': 34, 'min_samples_split': 4, 'min_samples_leaf': 1, 'criterion': 'entropy', 'max_features': 'log2', 'bootstrap': False}. Best is trial 119 with value: 0.9827215402712358.\n",
      "[I 2024-05-13 03:06:38,484] Trial 120 pruned. \n",
      "[I 2024-05-13 03:06:45,725] Trial 121 finished with value: 0.9828824233049278 and parameters: {'n_estimators': 402, 'max_depth': 33, 'min_samples_split': 3, 'min_samples_leaf': 1, 'criterion': 'entropy', 'max_features': 'log2', 'bootstrap': False}. Best is trial 121 with value: 0.9828824233049278.\n",
      "[I 2024-05-13 03:06:52,949] Trial 122 finished with value: 0.9829412638684006 and parameters: {'n_estimators': 383, 'max_depth': 34, 'min_samples_split': 3, 'min_samples_leaf': 1, 'criterion': 'entropy', 'max_features': 'log2', 'bootstrap': False}. Best is trial 122 with value: 0.9829412638684006.\n",
      "[I 2024-05-13 03:07:00,011] Trial 123 finished with value: 0.9828240144553295 and parameters: {'n_estimators': 390, 'max_depth': 34, 'min_samples_split': 3, 'min_samples_leaf': 1, 'criterion': 'entropy', 'max_features': 'log2', 'bootstrap': False}. Best is trial 122 with value: 0.9829412638684006.\n",
      "[I 2024-05-13 03:07:07,386] Trial 124 finished with value: 0.9830052929869773 and parameters: {'n_estimators': 401, 'max_depth': 38, 'min_samples_split': 3, 'min_samples_leaf': 1, 'criterion': 'entropy', 'max_features': 'log2', 'bootstrap': False}. Best is trial 124 with value: 0.9830052929869773.\n",
      "[I 2024-05-13 03:07:14,489] Trial 125 finished with value: 0.9827117332272934 and parameters: {'n_estimators': 397, 'max_depth': 38, 'min_samples_split': 2, 'min_samples_leaf': 1, 'criterion': 'entropy', 'max_features': 'log2', 'bootstrap': False}. Best is trial 124 with value: 0.9830052929869773.\n",
      "[I 2024-05-13 03:07:21,626] Trial 126 finished with value: 0.9827703944691644 and parameters: {'n_estimators': 407, 'max_depth': 38, 'min_samples_split': 2, 'min_samples_leaf': 1, 'criterion': 'entropy', 'max_features': 'log2', 'bootstrap': False}. Best is trial 124 with value: 0.9830052929869773.\n",
      "[I 2024-05-13 03:07:24,202] Trial 127 pruned. \n",
      "[I 2024-05-13 03:07:31,580] Trial 128 finished with value: 0.982648917705451 and parameters: {'n_estimators': 422, 'max_depth': 34, 'min_samples_split': 2, 'min_samples_leaf': 1, 'criterion': 'entropy', 'max_features': 'log2', 'bootstrap': False}. Best is trial 124 with value: 0.9830052929869773.\n",
      "[I 2024-05-13 03:07:38,780] Trial 129 finished with value: 0.9826491878106347 and parameters: {'n_estimators': 414, 'max_depth': 34, 'min_samples_split': 2, 'min_samples_leaf': 1, 'criterion': 'entropy', 'max_features': 'log2', 'bootstrap': False}. Best is trial 124 with value: 0.9830052929869773.\n",
      "[I 2024-05-13 03:07:46,237] Trial 130 finished with value: 0.9825885329731812 and parameters: {'n_estimators': 428, 'max_depth': 35, 'min_samples_split': 2, 'min_samples_leaf': 1, 'criterion': 'entropy', 'max_features': 'log2', 'bootstrap': False}. Best is trial 124 with value: 0.9830052929869773.\n",
      "[I 2024-05-13 03:07:53,658] Trial 131 finished with value: 0.9827137192149811 and parameters: {'n_estimators': 421, 'max_depth': 35, 'min_samples_split': 2, 'min_samples_leaf': 1, 'criterion': 'entropy', 'max_features': 'log2', 'bootstrap': False}. Best is trial 124 with value: 0.9830052929869773.\n",
      "[I 2024-05-13 03:08:00,961] Trial 132 finished with value: 0.9825907500738719 and parameters: {'n_estimators': 420, 'max_depth': 34, 'min_samples_split': 2, 'min_samples_leaf': 1, 'criterion': 'entropy', 'max_features': 'log2', 'bootstrap': False}. Best is trial 124 with value: 0.9830052929869773.\n",
      "[I 2024-05-13 03:08:08,665] Trial 133 finished with value: 0.9815004520418217 and parameters: {'n_estimators': 445, 'max_depth': 37, 'min_samples_split': 2, 'min_samples_leaf': 3, 'criterion': 'entropy', 'max_features': 'log2', 'bootstrap': False}. Best is trial 124 with value: 0.9830052929869773.\n",
      "[I 2024-05-13 03:08:15,864] Trial 134 finished with value: 0.9827723713078977 and parameters: {'n_estimators': 411, 'max_depth': 35, 'min_samples_split': 2, 'min_samples_leaf': 1, 'criterion': 'entropy', 'max_features': 'log2', 'bootstrap': False}. Best is trial 124 with value: 0.9830052929869773.\n",
      "[I 2024-05-13 03:08:23,364] Trial 135 finished with value: 0.9828286288275028 and parameters: {'n_estimators': 418, 'max_depth': 35, 'min_samples_split': 2, 'min_samples_leaf': 1, 'criterion': 'entropy', 'max_features': 'log2', 'bootstrap': False}. Best is trial 124 with value: 0.9830052929869773.\n",
      "[I 2024-05-13 03:08:32,073] Trial 136 finished with value: 0.9826509700296173 and parameters: {'n_estimators': 497, 'max_depth': 33, 'min_samples_split': 2, 'min_samples_leaf': 1, 'criterion': 'entropy', 'max_features': 'log2', 'bootstrap': False}. Best is trial 124 with value: 0.9830052929869773.\n",
      "[I 2024-05-13 03:08:40,407] Trial 137 finished with value: 0.9815639936783276 and parameters: {'n_estimators': 487, 'max_depth': 38, 'min_samples_split': 2, 'min_samples_leaf': 3, 'criterion': 'entropy', 'max_features': 'log2', 'bootstrap': False}. Best is trial 124 with value: 0.9830052929869773.\n",
      "[I 2024-05-13 03:08:44,007] Trial 138 pruned. \n",
      "[I 2024-05-13 03:08:52,151] Trial 139 finished with value: 0.9824706489795878 and parameters: {'n_estimators': 462, 'max_depth': 39, 'min_samples_split': 2, 'min_samples_leaf': 2, 'criterion': 'entropy', 'max_features': 'log2', 'bootstrap': False}. Best is trial 124 with value: 0.9830052929869773.\n",
      "[I 2024-05-13 03:09:00,995] Trial 140 finished with value: 0.9828271952072993 and parameters: {'n_estimators': 516, 'max_depth': 36, 'min_samples_split': 3, 'min_samples_leaf': 1, 'criterion': 'entropy', 'max_features': 'log2', 'bootstrap': False}. Best is trial 124 with value: 0.9830052929869773.\n",
      "[I 2024-05-13 03:09:08,486] Trial 141 finished with value: 0.9829450815410345 and parameters: {'n_estimators': 407, 'max_depth': 36, 'min_samples_split': 3, 'min_samples_leaf': 1, 'criterion': 'entropy', 'max_features': 'log2', 'bootstrap': False}. Best is trial 124 with value: 0.9830052929869773.\n",
      "[I 2024-05-13 03:09:15,924] Trial 142 finished with value: 0.982592193198603 and parameters: {'n_estimators': 410, 'max_depth': 35, 'min_samples_split': 3, 'min_samples_leaf': 2, 'criterion': 'entropy', 'max_features': 'log2', 'bootstrap': False}. Best is trial 124 with value: 0.9830052929869773.\n",
      "[I 2024-05-13 03:09:24,904] Trial 143 finished with value: 0.9828271952072993 and parameters: {'n_estimators': 521, 'max_depth': 36, 'min_samples_split': 3, 'min_samples_leaf': 1, 'criterion': 'entropy', 'max_features': 'log2', 'bootstrap': False}. Best is trial 124 with value: 0.9830052929869773.\n",
      "[I 2024-05-13 03:09:33,629] Trial 144 finished with value: 0.981202603869612 and parameters: {'n_estimators': 510, 'max_depth': 36, 'min_samples_split': 3, 'min_samples_leaf': 3, 'criterion': 'entropy', 'max_features': 'log2', 'bootstrap': False}. Best is trial 124 with value: 0.9830052929869773.\n",
      "[I 2024-05-13 03:09:43,205] Trial 145 finished with value: 0.9825312895429816 and parameters: {'n_estimators': 565, 'max_depth': 38, 'min_samples_split': 3, 'min_samples_leaf': 1, 'criterion': 'entropy', 'max_features': 'log2', 'bootstrap': False}. Best is trial 124 with value: 0.9830052929869773.\n",
      "[I 2024-05-13 03:09:49,901] Trial 146 finished with value: 0.9827645326363446 and parameters: {'n_estimators': 383, 'max_depth': 37, 'min_samples_split': 2, 'min_samples_leaf': 2, 'criterion': 'entropy', 'max_features': 'log2', 'bootstrap': False}. Best is trial 124 with value: 0.9830052929869773.\n",
      "[I 2024-05-13 03:09:56,704] Trial 147 finished with value: 0.9813234550998986 and parameters: {'n_estimators': 386, 'max_depth': 37, 'min_samples_split': 3, 'min_samples_leaf': 3, 'criterion': 'entropy', 'max_features': 'log2', 'bootstrap': False}. Best is trial 124 with value: 0.9830052929869773.\n",
      "[I 2024-05-13 03:10:04,574] Trial 148 finished with value: 0.9824778118228652 and parameters: {'n_estimators': 442, 'max_depth': 40, 'min_samples_split': 2, 'min_samples_leaf': 2, 'criterion': 'entropy', 'max_features': 'log2', 'bootstrap': False}. Best is trial 124 with value: 0.9830052929869773.\n",
      "[I 2024-05-13 03:10:07,376] Trial 149 pruned. \n",
      "[I 2024-05-13 03:10:17,006] Trial 150 finished with value: 0.9826492286578132 and parameters: {'n_estimators': 526, 'max_depth': 36, 'min_samples_split': 2, 'min_samples_leaf': 1, 'criterion': 'entropy', 'max_features': 'log2', 'bootstrap': False}. Best is trial 124 with value: 0.9830052929869773.\n",
      "[I 2024-05-13 03:10:26,353] Trial 151 finished with value: 0.9826537469818881 and parameters: {'n_estimators': 521, 'max_depth': 36, 'min_samples_split': 2, 'min_samples_leaf': 1, 'criterion': 'entropy', 'max_features': 'log2', 'bootstrap': False}. Best is trial 124 with value: 0.9830052929869773.\n",
      "[I 2024-05-13 03:10:34,852] Trial 152 finished with value: 0.9825291332253048 and parameters: {'n_estimators': 472, 'max_depth': 39, 'min_samples_split': 3, 'min_samples_leaf': 2, 'criterion': 'entropy', 'max_features': 'log2', 'bootstrap': False}. Best is trial 124 with value: 0.9830052929869773.\n",
      "[I 2024-05-13 03:10:43,496] Trial 153 finished with value: 0.98223452163602 and parameters: {'n_estimators': 493, 'max_depth': 37, 'min_samples_split': 2, 'min_samples_leaf': 1, 'criterion': 'entropy', 'max_features': 'log2', 'bootstrap': False}. Best is trial 124 with value: 0.9830052929869773.\n",
      "[I 2024-05-13 03:10:47,283] Trial 154 pruned. \n",
      "[I 2024-05-13 03:10:55,210] Trial 155 finished with value: 0.9815636051272097 and parameters: {'n_estimators': 453, 'max_depth': 36, 'min_samples_split': 2, 'min_samples_leaf': 3, 'criterion': 'entropy', 'max_features': 'log2', 'bootstrap': False}. Best is trial 124 with value: 0.9830052929869773.\n",
      "[I 2024-05-13 03:10:59,045] Trial 156 pruned. \n",
      "[I 2024-05-13 03:11:08,813] Trial 157 finished with value: 0.9823458100752873 and parameters: {'n_estimators': 571, 'max_depth': 37, 'min_samples_split': 3, 'min_samples_leaf': 2, 'criterion': 'entropy', 'max_features': 'log2', 'bootstrap': False}. Best is trial 124 with value: 0.9830052929869773.\n",
      "[I 2024-05-13 03:11:17,865] Trial 158 finished with value: 0.9827102306090294 and parameters: {'n_estimators': 522, 'max_depth': 41, 'min_samples_split': 3, 'min_samples_leaf': 1, 'criterion': 'entropy', 'max_features': 'log2', 'bootstrap': False}. Best is trial 124 with value: 0.9830052929869773.\n",
      "[I 2024-05-13 03:11:24,291] Trial 159 finished with value: 0.9822865246291661 and parameters: {'n_estimators': 357, 'max_depth': 41, 'min_samples_split': 3, 'min_samples_leaf': 2, 'criterion': 'entropy', 'max_features': 'log2', 'bootstrap': False}. Best is trial 124 with value: 0.9830052929869773.\n",
      "[I 2024-05-13 03:11:28,299] Trial 160 pruned. \n",
      "[I 2024-05-13 03:11:37,546] Trial 161 finished with value: 0.9825351148330833 and parameters: {'n_estimators': 518, 'max_depth': 35, 'min_samples_split': 2, 'min_samples_leaf': 1, 'criterion': 'entropy', 'max_features': 'log2', 'bootstrap': False}. Best is trial 124 with value: 0.9830052929869773.\n",
      "[I 2024-05-13 03:11:47,305] Trial 162 finished with value: 0.9827115635755505 and parameters: {'n_estimators': 543, 'max_depth': 33, 'min_samples_split': 2, 'min_samples_leaf': 1, 'criterion': 'entropy', 'max_features': 'log2', 'bootstrap': False}. Best is trial 124 with value: 0.9830052929869773.\n",
      "[I 2024-05-13 03:11:57,181] Trial 163 finished with value: 0.982170399561489 and parameters: {'n_estimators': 548, 'max_depth': 36, 'min_samples_split': 3, 'min_samples_leaf': 2, 'criterion': 'entropy', 'max_features': 'log2', 'bootstrap': False}. Best is trial 124 with value: 0.9830052929869773.\n",
      "[I 2024-05-13 03:12:05,089] Trial 164 finished with value: 0.9824675047591349 and parameters: {'n_estimators': 432, 'max_depth': 40, 'min_samples_split': 2, 'min_samples_leaf': 1, 'criterion': 'entropy', 'max_features': 'log2', 'bootstrap': False}. Best is trial 124 with value: 0.9830052929869773.\n",
      "[I 2024-05-13 03:12:14,508] Trial 165 finished with value: 0.9814496471739161 and parameters: {'n_estimators': 546, 'max_depth': 36, 'min_samples_split': 3, 'min_samples_leaf': 3, 'criterion': 'entropy', 'max_features': 'log2', 'bootstrap': False}. Best is trial 124 with value: 0.9830052929869773.\n",
      "[I 2024-05-13 03:12:21,610] Trial 166 finished with value: 0.9826494707522693 and parameters: {'n_estimators': 408, 'max_depth': 38, 'min_samples_split': 2, 'min_samples_leaf': 1, 'criterion': 'entropy', 'max_features': 'log2', 'bootstrap': False}. Best is trial 124 with value: 0.9830052929869773.\n",
      "[I 2024-05-13 03:12:27,503] Trial 167 finished with value: 0.9822248794874273 and parameters: {'n_estimators': 329, 'max_depth': 39, 'min_samples_split': 3, 'min_samples_leaf': 2, 'criterion': 'entropy', 'max_features': 'log2', 'bootstrap': False}. Best is trial 124 with value: 0.9830052929869773.\n",
      "[I 2024-05-13 03:12:37,801] Trial 168 finished with value: 0.9822911782435734 and parameters: {'n_estimators': 606, 'max_depth': 42, 'min_samples_split': 4, 'min_samples_leaf': 2, 'criterion': 'entropy', 'max_features': 'log2', 'bootstrap': False}. Best is trial 124 with value: 0.9830052929869773.\n",
      "[I 2024-05-13 03:12:45,985] Trial 169 finished with value: 0.9827216635812519 and parameters: {'n_estimators': 474, 'max_depth': 33, 'min_samples_split': 5, 'min_samples_leaf': 1, 'criterion': 'entropy', 'max_features': 'log2', 'bootstrap': False}. Best is trial 124 with value: 0.9830052929869773.\n",
      "[I 2024-05-13 03:12:54,345] Trial 170 finished with value: 0.9826028169844487 and parameters: {'n_estimators': 480, 'max_depth': 33, 'min_samples_split': 5, 'min_samples_leaf': 2, 'criterion': 'entropy', 'max_features': 'log2', 'bootstrap': False}. Best is trial 124 with value: 0.9830052929869773.\n",
      "[I 2024-05-13 03:13:02,253] Trial 171 finished with value: 0.9827664190395196 and parameters: {'n_estimators': 452, 'max_depth': 34, 'min_samples_split': 3, 'min_samples_leaf': 1, 'criterion': 'entropy', 'max_features': 'log2', 'bootstrap': False}. Best is trial 124 with value: 0.9830052929869773.\n",
      "[I 2024-05-13 03:13:07,087] Trial 172 pruned. \n",
      "[I 2024-05-13 03:13:14,581] Trial 173 finished with value: 0.9830638096117411 and parameters: {'n_estimators': 400, 'max_depth': 34, 'min_samples_split': 3, 'min_samples_leaf': 1, 'criterion': 'entropy', 'max_features': 'log2', 'bootstrap': False}. Best is trial 173 with value: 0.9830638096117411.\n",
      "[I 2024-05-13 03:13:21,735] Trial 174 finished with value: 0.9826572319431774 and parameters: {'n_estimators': 393, 'max_depth': 32, 'min_samples_split': 4, 'min_samples_leaf': 1, 'criterion': 'entropy', 'max_features': 'log2', 'bootstrap': False}. Best is trial 173 with value: 0.9830638096117411.\n",
      "[I 2024-05-13 03:13:29,897] Trial 175 finished with value: 0.9826525455086879 and parameters: {'n_estimators': 433, 'max_depth': 37, 'min_samples_split': 4, 'min_samples_leaf': 2, 'criterion': 'entropy', 'max_features': 'log2', 'bootstrap': False}. Best is trial 173 with value: 0.9830638096117411.\n",
      "[I 2024-05-13 03:13:36,724] Trial 176 finished with value: 0.9815012248681858 and parameters: {'n_estimators': 372, 'max_depth': 35, 'min_samples_split': 3, 'min_samples_leaf': 3, 'criterion': 'entropy', 'max_features': 'log2', 'bootstrap': False}. Best is trial 173 with value: 0.9830638096117411.\n",
      "[I 2024-05-13 03:13:44,058] Trial 177 finished with value: 0.982710038510102 and parameters: {'n_estimators': 407, 'max_depth': 34, 'min_samples_split': 2, 'min_samples_leaf': 1, 'criterion': 'entropy', 'max_features': 'log2', 'bootstrap': False}. Best is trial 173 with value: 0.9830638096117411.\n",
      "[I 2024-05-13 03:13:47,680] Trial 178 pruned. \n",
      "[I 2024-05-13 03:13:54,320] Trial 179 finished with value: 0.9825873773309247 and parameters: {'n_estimators': 347, 'max_depth': 35, 'min_samples_split': 4, 'min_samples_leaf': 2, 'criterion': 'entropy', 'max_features': 'log2', 'bootstrap': False}. Best is trial 173 with value: 0.9830638096117411.\n",
      "[I 2024-05-13 03:13:58,850] Trial 180 pruned. \n",
      "[I 2024-05-13 03:14:05,914] Trial 181 finished with value: 0.9828260681345788 and parameters: {'n_estimators': 391, 'max_depth': 34, 'min_samples_split': 3, 'min_samples_leaf': 1, 'criterion': 'entropy', 'max_features': 'log2', 'bootstrap': False}. Best is trial 173 with value: 0.9830638096117411.\n",
      "[I 2024-05-13 03:14:12,902] Trial 182 finished with value: 0.9828324428496398 and parameters: {'n_estimators': 389, 'max_depth': 34, 'min_samples_split': 2, 'min_samples_leaf': 1, 'criterion': 'entropy', 'max_features': 'log2', 'bootstrap': False}. Best is trial 173 with value: 0.9830638096117411.\n",
      "[I 2024-05-13 03:14:19,673] Trial 183 finished with value: 0.9827666859688741 and parameters: {'n_estimators': 387, 'max_depth': 34, 'min_samples_split': 3, 'min_samples_leaf': 2, 'criterion': 'entropy', 'max_features': 'log2', 'bootstrap': False}. Best is trial 173 with value: 0.9830638096117411.\n",
      "[I 2024-05-13 03:14:26,303] Trial 184 finished with value: 0.9827086239426464 and parameters: {'n_estimators': 374, 'max_depth': 34, 'min_samples_split': 3, 'min_samples_leaf': 2, 'criterion': 'entropy', 'max_features': 'log2', 'bootstrap': False}. Best is trial 173 with value: 0.9830638096117411.\n",
      "[I 2024-05-13 03:14:33,850] Trial 185 finished with value: 0.982242767346237 and parameters: {'n_estimators': 434, 'max_depth': 35, 'min_samples_split': 5, 'min_samples_leaf': 2, 'criterion': 'entropy', 'max_features': 'log2', 'bootstrap': False}. Best is trial 173 with value: 0.9830638096117411.\n",
      "[I 2024-05-13 03:14:37,740] Trial 186 pruned. \n",
      "[I 2024-05-13 03:14:44,203] Trial 187 finished with value: 0.9827171319878408 and parameters: {'n_estimators': 355, 'max_depth': 36, 'min_samples_split': 4, 'min_samples_leaf': 1, 'criterion': 'entropy', 'max_features': 'log2', 'bootstrap': False}. Best is trial 173 with value: 0.9830638096117411.\n",
      "[I 2024-05-13 03:14:50,496] Trial 188 finished with value: 0.9824678691908624 and parameters: {'n_estimators': 358, 'max_depth': 37, 'min_samples_split': 4, 'min_samples_leaf': 2, 'criterion': 'entropy', 'max_features': 'log2', 'bootstrap': False}. Best is trial 173 with value: 0.9830638096117411.\n",
      "[I 2024-05-13 03:14:54,121] Trial 189 pruned. \n",
      "[I 2024-05-13 03:15:00,300] Trial 190 finished with value: 0.9828373932484127 and parameters: {'n_estimators': 345, 'max_depth': 36, 'min_samples_split': 5, 'min_samples_leaf': 1, 'criterion': 'entropy', 'max_features': 'log2', 'bootstrap': False}. Best is trial 173 with value: 0.9830638096117411.\n",
      "[I 2024-05-13 03:15:06,437] Trial 191 finished with value: 0.982660383213253 and parameters: {'n_estimators': 338, 'max_depth': 36, 'min_samples_split': 5, 'min_samples_leaf': 1, 'criterion': 'entropy', 'max_features': 'log2', 'bootstrap': False}. Best is trial 173 with value: 0.9830638096117411.\n",
      "[I 2024-05-13 03:15:12,978] Trial 192 finished with value: 0.9825382270693351 and parameters: {'n_estimators': 364, 'max_depth': 34, 'min_samples_split': 4, 'min_samples_leaf': 1, 'criterion': 'entropy', 'max_features': 'log2', 'bootstrap': False}. Best is trial 173 with value: 0.9830638096117411.\n",
      "[I 2024-05-13 03:15:18,716] Trial 193 finished with value: 0.9821664953911571 and parameters: {'n_estimators': 317, 'max_depth': 36, 'min_samples_split': 3, 'min_samples_leaf': 2, 'criterion': 'entropy', 'max_features': 'log2', 'bootstrap': False}. Best is trial 173 with value: 0.9830638096117411.\n",
      "[I 2024-05-13 03:15:25,546] Trial 194 finished with value: 0.9827196675204583 and parameters: {'n_estimators': 379, 'max_depth': 32, 'min_samples_split': 4, 'min_samples_leaf': 1, 'criterion': 'entropy', 'max_features': 'log2', 'bootstrap': False}. Best is trial 173 with value: 0.9830638096117411.\n",
      "[I 2024-05-13 03:15:29,543] Trial 195 pruned. \n",
      "[I 2024-05-13 03:15:36,733] Trial 196 finished with value: 0.9829409448076017 and parameters: {'n_estimators': 407, 'max_depth': 33, 'min_samples_split': 3, 'min_samples_leaf': 1, 'criterion': 'log_loss', 'max_features': 'log2', 'bootstrap': False}. Best is trial 173 with value: 0.9830638096117411.\n",
      "[I 2024-05-13 03:15:43,886] Trial 197 finished with value: 0.9827090189052896 and parameters: {'n_estimators': 409, 'max_depth': 35, 'min_samples_split': 3, 'min_samples_leaf': 2, 'criterion': 'log_loss', 'max_features': 'log2', 'bootstrap': False}. Best is trial 173 with value: 0.9830638096117411.\n",
      "[I 2024-05-13 03:15:52,042] Trial 198 finished with value: 0.9827701576097609 and parameters: {'n_estimators': 472, 'max_depth': 34, 'min_samples_split': 3, 'min_samples_leaf': 1, 'criterion': 'entropy', 'max_features': 'log2', 'bootstrap': False}. Best is trial 173 with value: 0.9830638096117411.\n",
      "[I 2024-05-13 03:16:00,047] Trial 199 finished with value: 0.9822916389319911 and parameters: {'n_estimators': 461, 'max_depth': 37, 'min_samples_split': 2, 'min_samples_leaf': 2, 'criterion': 'log_loss', 'max_features': 'log2', 'bootstrap': False}. Best is trial 173 with value: 0.9830638096117411.\n",
      "[I 2024-05-13 03:16:05,000] Trial 200 pruned. \n",
      "[I 2024-05-13 03:16:12,872] Trial 201 finished with value: 0.9827050034445065 and parameters: {'n_estimators': 437, 'max_depth': 34, 'min_samples_split': 3, 'min_samples_leaf': 1, 'criterion': 'log_loss', 'max_features': 'log2', 'bootstrap': False}. Best is trial 173 with value: 0.9830638096117411.\n",
      "[I 2024-05-13 03:16:20,488] Trial 202 finished with value: 0.9827102185892169 and parameters: {'n_estimators': 410, 'max_depth': 35, 'min_samples_split': 2, 'min_samples_leaf': 1, 'criterion': 'log_loss', 'max_features': 'log2', 'bootstrap': False}. Best is trial 173 with value: 0.9830638096117411.\n",
      "[I 2024-05-13 03:16:27,703] Trial 203 finished with value: 0.9827656427811047 and parameters: {'n_estimators': 392, 'max_depth': 34, 'min_samples_split': 3, 'min_samples_leaf': 1, 'criterion': 'entropy', 'max_features': 'log2', 'bootstrap': False}. Best is trial 173 with value: 0.9830638096117411.\n",
      "[I 2024-05-13 03:16:34,917] Trial 204 finished with value: 0.9827723727043385 and parameters: {'n_estimators': 397, 'max_depth': 34, 'min_samples_split': 2, 'min_samples_leaf': 1, 'criterion': 'entropy', 'max_features': 'log2', 'bootstrap': False}. Best is trial 173 with value: 0.9830638096117411.\n",
      "[I 2024-05-13 03:16:42,242] Trial 205 finished with value: 0.9825273503874492 and parameters: {'n_estimators': 394, 'max_depth': 35, 'min_samples_split': 2, 'min_samples_leaf': 2, 'criterion': 'entropy', 'max_features': 'log2', 'bootstrap': False}. Best is trial 173 with value: 0.9830638096117411.\n",
      "[I 2024-05-13 03:16:49,790] Trial 206 finished with value: 0.9828241249419433 and parameters: {'n_estimators': 419, 'max_depth': 34, 'min_samples_split': 3, 'min_samples_leaf': 1, 'criterion': 'entropy', 'max_features': 'log2', 'bootstrap': False}. Best is trial 173 with value: 0.9830638096117411.\n",
      "[I 2024-05-13 03:16:57,433] Trial 207 finished with value: 0.9827655639580047 and parameters: {'n_estimators': 424, 'max_depth': 34, 'min_samples_split': 3, 'min_samples_leaf': 1, 'criterion': 'entropy', 'max_features': 'log2', 'bootstrap': False}. Best is trial 173 with value: 0.9830638096117411.\n",
      "[I 2024-05-13 03:17:01,470] Trial 208 pruned. \n",
      "[I 2024-05-13 03:17:09,281] Trial 209 finished with value: 0.9823528665334285 and parameters: {'n_estimators': 444, 'max_depth': 35, 'min_samples_split': 2, 'min_samples_leaf': 1, 'criterion': 'entropy', 'max_features': 'log2', 'bootstrap': False}. Best is trial 173 with value: 0.9830638096117411.\n",
      "[I 2024-05-13 03:17:12,094] Trial 210 pruned. \n",
      "[I 2024-05-13 03:17:19,464] Trial 211 finished with value: 0.9827655639580047 and parameters: {'n_estimators': 424, 'max_depth': 34, 'min_samples_split': 3, 'min_samples_leaf': 1, 'criterion': 'entropy', 'max_features': 'log2', 'bootstrap': False}. Best is trial 173 with value: 0.9830638096117411.\n",
      "[I 2024-05-13 03:17:26,927] Trial 212 finished with value: 0.982828140773852 and parameters: {'n_estimators': 424, 'max_depth': 32, 'min_samples_split': 3, 'min_samples_leaf': 1, 'criterion': 'entropy', 'max_features': 'log2', 'bootstrap': False}. Best is trial 173 with value: 0.9830638096117411.\n",
      "[I 2024-05-13 03:17:33,886] Trial 213 finished with value: 0.9827103847039108 and parameters: {'n_estimators': 397, 'max_depth': 33, 'min_samples_split': 4, 'min_samples_leaf': 2, 'criterion': 'entropy', 'max_features': 'log2', 'bootstrap': False}. Best is trial 173 with value: 0.9830638096117411.\n",
      "[I 2024-05-13 03:17:41,587] Trial 214 finished with value: 0.9824765310840411 and parameters: {'n_estimators': 441, 'max_depth': 32, 'min_samples_split': 2, 'min_samples_leaf': 1, 'criterion': 'entropy', 'max_features': 'log2', 'bootstrap': False}. Best is trial 173 with value: 0.9830638096117411.\n",
      "[I 2024-05-13 03:17:48,776] Trial 215 finished with value: 0.9828867745185523 and parameters: {'n_estimators': 410, 'max_depth': 35, 'min_samples_split': 3, 'min_samples_leaf': 1, 'criterion': 'entropy', 'max_features': 'log2', 'bootstrap': False}. Best is trial 173 with value: 0.9830638096117411.\n",
      "[I 2024-05-13 03:17:56,062] Trial 216 finished with value: 0.982652754533911 and parameters: {'n_estimators': 416, 'max_depth': 36, 'min_samples_split': 2, 'min_samples_leaf': 2, 'criterion': 'entropy', 'max_features': 'log2', 'bootstrap': False}. Best is trial 173 with value: 0.9830638096117411.\n",
      "[I 2024-05-13 03:18:04,099] Trial 217 finished with value: 0.9823564694730212 and parameters: {'n_estimators': 457, 'max_depth': 35, 'min_samples_split': 3, 'min_samples_leaf': 2, 'criterion': 'entropy', 'max_features': 'log2', 'bootstrap': False}. Best is trial 173 with value: 0.9830638096117411.\n",
      "[I 2024-05-13 03:18:11,632] Trial 218 finished with value: 0.9825280705257804 and parameters: {'n_estimators': 426, 'max_depth': 36, 'min_samples_split': 2, 'min_samples_leaf': 1, 'criterion': 'entropy', 'max_features': 'log2', 'bootstrap': False}. Best is trial 173 with value: 0.9830638096117411.\n",
      "[I 2024-05-13 03:18:20,217] Trial 219 finished with value: 0.9826493686547243 and parameters: {'n_estimators': 500, 'max_depth': 33, 'min_samples_split': 4, 'min_samples_leaf': 2, 'criterion': 'log_loss', 'max_features': 'log2', 'bootstrap': False}. Best is trial 173 with value: 0.9830638096117411.\n",
      "[I 2024-05-13 03:18:27,229] Trial 220 finished with value: 0.9829489263075768 and parameters: {'n_estimators': 404, 'max_depth': 32, 'min_samples_split': 3, 'min_samples_leaf': 1, 'criterion': 'entropy', 'max_features': 'log2', 'bootstrap': False}. Best is trial 173 with value: 0.9830638096117411.\n",
      "[I 2024-05-13 03:18:34,451] Trial 221 finished with value: 0.9828825720280104 and parameters: {'n_estimators': 412, 'max_depth': 31, 'min_samples_split': 3, 'min_samples_leaf': 1, 'criterion': 'entropy', 'max_features': 'log2', 'bootstrap': False}. Best is trial 173 with value: 0.9830638096117411.\n",
      "[I 2024-05-13 03:18:41,697] Trial 222 finished with value: 0.9830052216076084 and parameters: {'n_estimators': 407, 'max_depth': 31, 'min_samples_split': 3, 'min_samples_leaf': 1, 'criterion': 'entropy', 'max_features': 'log2', 'bootstrap': False}. Best is trial 173 with value: 0.9830638096117411.\n",
      "[I 2024-05-13 03:18:48,963] Trial 223 finished with value: 0.9828869526657021 and parameters: {'n_estimators': 405, 'max_depth': 30, 'min_samples_split': 2, 'min_samples_leaf': 1, 'criterion': 'entropy', 'max_features': 'log2', 'bootstrap': False}. Best is trial 173 with value: 0.9830638096117411.\n",
      "[I 2024-05-13 03:18:56,098] Trial 224 finished with value: 0.9828823098846913 and parameters: {'n_estimators': 406, 'max_depth': 31, 'min_samples_split': 2, 'min_samples_leaf': 1, 'criterion': 'entropy', 'max_features': 'log2', 'bootstrap': False}. Best is trial 173 with value: 0.9830638096117411.\n",
      "[I 2024-05-13 03:19:02,644] Trial 225 finished with value: 0.9829465755810107 and parameters: {'n_estimators': 368, 'max_depth': 30, 'min_samples_split': 2, 'min_samples_leaf': 1, 'criterion': 'entropy', 'max_features': 'log2', 'bootstrap': False}. Best is trial 173 with value: 0.9830638096117411.\n",
      "[I 2024-05-13 03:19:09,071] Trial 226 finished with value: 0.9830047445798884 and parameters: {'n_estimators': 366, 'max_depth': 30, 'min_samples_split': 2, 'min_samples_leaf': 1, 'criterion': 'entropy', 'max_features': 'log2', 'bootstrap': False}. Best is trial 173 with value: 0.9830638096117411.\n",
      "[I 2024-05-13 03:19:15,256] Trial 227 finished with value: 0.9826459712618278 and parameters: {'n_estimators': 343, 'max_depth': 30, 'min_samples_split': 4, 'min_samples_leaf': 2, 'criterion': 'entropy', 'max_features': 'log2', 'bootstrap': False}. Best is trial 173 with value: 0.9830638096117411.\n",
      "[I 2024-05-13 03:19:21,615] Trial 228 finished with value: 0.9831193771476299 and parameters: {'n_estimators': 361, 'max_depth': 31, 'min_samples_split': 2, 'min_samples_leaf': 1, 'criterion': 'entropy', 'max_features': 'log2', 'bootstrap': False}. Best is trial 228 with value: 0.9831193771476299.\n",
      "[I 2024-05-13 03:19:24,959] Trial 229 pruned. \n",
      "[I 2024-05-13 03:19:31,498] Trial 230 finished with value: 0.9829465755810107 and parameters: {'n_estimators': 367, 'max_depth': 30, 'min_samples_split': 2, 'min_samples_leaf': 1, 'criterion': 'entropy', 'max_features': 'log2', 'bootstrap': False}. Best is trial 228 with value: 0.9831193771476299.\n",
      "[I 2024-05-13 03:19:38,128] Trial 231 finished with value: 0.9829485132277951 and parameters: {'n_estimators': 374, 'max_depth': 30, 'min_samples_split': 2, 'min_samples_leaf': 1, 'criterion': 'entropy', 'max_features': 'log2', 'bootstrap': False}. Best is trial 228 with value: 0.9831193771476299.\n",
      "[I 2024-05-13 03:19:44,577] Trial 232 finished with value: 0.9831776936328058 and parameters: {'n_estimators': 366, 'max_depth': 31, 'min_samples_split': 2, 'min_samples_leaf': 1, 'criterion': 'entropy', 'max_features': 'log2', 'bootstrap': False}. Best is trial 232 with value: 0.9831776936328058.\n",
      "[I 2024-05-13 03:19:48,138] Trial 233 pruned. \n",
      "[I 2024-05-13 03:19:54,642] Trial 234 finished with value: 0.9831776936328058 and parameters: {'n_estimators': 366, 'max_depth': 31, 'min_samples_split': 2, 'min_samples_leaf': 1, 'criterion': 'entropy', 'max_features': 'log2', 'bootstrap': False}. Best is trial 232 with value: 0.9831776936328058.\n",
      "[I 2024-05-13 03:20:01,090] Trial 235 finished with value: 0.9829443192264143 and parameters: {'n_estimators': 362, 'max_depth': 30, 'min_samples_split': 2, 'min_samples_leaf': 1, 'criterion': 'entropy', 'max_features': 'log2', 'bootstrap': False}. Best is trial 232 with value: 0.9831776936328058.\n",
      "[I 2024-05-13 03:20:07,407] Trial 236 finished with value: 0.9827713441177972 and parameters: {'n_estimators': 351, 'max_depth': 30, 'min_samples_split': 2, 'min_samples_leaf': 1, 'criterion': 'entropy', 'max_features': 'log2', 'bootstrap': False}. Best is trial 232 with value: 0.9831776936328058.\n",
      "[I 2024-05-13 03:20:13,895] Trial 237 finished with value: 0.9826469234259319 and parameters: {'n_estimators': 367, 'max_depth': 31, 'min_samples_split': 2, 'min_samples_leaf': 2, 'criterion': 'entropy', 'max_features': 'log2', 'bootstrap': False}. Best is trial 232 with value: 0.9831776936328058.\n",
      "[I 2024-05-13 03:20:19,727] Trial 238 finished with value: 0.9828320614455783 and parameters: {'n_estimators': 327, 'max_depth': 30, 'min_samples_split': 2, 'min_samples_leaf': 1, 'criterion': 'entropy', 'max_features': 'log2', 'bootstrap': False}. Best is trial 232 with value: 0.9831776936328058.\n",
      "[I 2024-05-13 03:20:25,235] Trial 239 finished with value: 0.9822801513459662 and parameters: {'n_estimators': 297, 'max_depth': 30, 'min_samples_split': 2, 'min_samples_leaf': 2, 'criterion': 'entropy', 'max_features': 'log2', 'bootstrap': False}. Best is trial 232 with value: 0.9831776936328058.\n",
      "[I 2024-05-13 03:20:31,160] Trial 240 finished with value: 0.9827088070657041 and parameters: {'n_estimators': 325, 'max_depth': 29, 'min_samples_split': 2, 'min_samples_leaf': 2, 'criterion': 'entropy', 'max_features': 'log2', 'bootstrap': False}. Best is trial 232 with value: 0.9831776936328058.\n",
      "[I 2024-05-13 03:20:37,401] Trial 241 finished with value: 0.9831233367180839 and parameters: {'n_estimators': 353, 'max_depth': 31, 'min_samples_split': 2, 'min_samples_leaf': 1, 'criterion': 'entropy', 'max_features': 'log2', 'bootstrap': False}. Best is trial 232 with value: 0.9831776936328058.\n",
      "[I 2024-05-13 03:20:43,617] Trial 242 finished with value: 0.9830610052274681 and parameters: {'n_estimators': 348, 'max_depth': 31, 'min_samples_split': 2, 'min_samples_leaf': 1, 'criterion': 'entropy', 'max_features': 'log2', 'bootstrap': False}. Best is trial 232 with value: 0.9831776936328058.\n",
      "[I 2024-05-13 03:20:49,662] Trial 243 finished with value: 0.9830609672525391 and parameters: {'n_estimators': 342, 'max_depth': 31, 'min_samples_split': 2, 'min_samples_leaf': 1, 'criterion': 'entropy', 'max_features': 'log2', 'bootstrap': False}. Best is trial 232 with value: 0.9831776936328058.\n",
      "[I 2024-05-13 03:20:55,841] Trial 244 finished with value: 0.9831190919240302 and parameters: {'n_estimators': 345, 'max_depth': 31, 'min_samples_split': 2, 'min_samples_leaf': 1, 'criterion': 'entropy', 'max_features': 'log2', 'bootstrap': False}. Best is trial 232 with value: 0.9831776936328058.\n",
      "[I 2024-05-13 03:21:02,076] Trial 245 finished with value: 0.9830610052274681 and parameters: {'n_estimators': 348, 'max_depth': 31, 'min_samples_split': 2, 'min_samples_leaf': 1, 'criterion': 'entropy', 'max_features': 'log2', 'bootstrap': False}. Best is trial 232 with value: 0.9831776936328058.\n",
      "[I 2024-05-13 03:21:08,467] Trial 246 finished with value: 0.9830607971305254 and parameters: {'n_estimators': 365, 'max_depth': 31, 'min_samples_split': 2, 'min_samples_leaf': 1, 'criterion': 'entropy', 'max_features': 'log2', 'bootstrap': False}. Best is trial 232 with value: 0.9831776936328058.\n",
      "[I 2024-05-13 03:21:14,824] Trial 247 finished with value: 0.9825303779171849 and parameters: {'n_estimators': 361, 'max_depth': 31, 'min_samples_split': 2, 'min_samples_leaf': 2, 'criterion': 'entropy', 'max_features': 'log2', 'bootstrap': False}. Best is trial 232 with value: 0.9831776936328058.\n",
      "[I 2024-05-13 03:21:18,265] Trial 248 pruned. \n",
      "[I 2024-05-13 03:21:24,798] Trial 249 finished with value: 0.9831256752640778 and parameters: {'n_estimators': 369, 'max_depth': 29, 'min_samples_split': 2, 'min_samples_leaf': 1, 'criterion': 'entropy', 'max_features': 'log2', 'bootstrap': False}. Best is trial 232 with value: 0.9831776936328058.\n",
      "[I 2024-05-13 03:21:28,122] Trial 250 pruned. \n",
      "[I 2024-05-13 03:21:30,736] Trial 251 pruned. \n",
      "[I 2024-05-13 03:21:37,312] Trial 252 finished with value: 0.9831256752640778 and parameters: {'n_estimators': 370, 'max_depth': 29, 'min_samples_split': 2, 'min_samples_leaf': 1, 'criterion': 'entropy', 'max_features': 'log2', 'bootstrap': False}. Best is trial 232 with value: 0.9831776936328058.\n",
      "[I 2024-05-13 03:21:43,762] Trial 253 finished with value: 0.9823523291753228 and parameters: {'n_estimators': 369, 'max_depth': 29, 'min_samples_split': 2, 'min_samples_leaf': 2, 'criterion': 'log_loss', 'max_features': 'log2', 'bootstrap': False}. Best is trial 232 with value: 0.9831776936328058.\n",
      "[I 2024-05-13 03:21:50,228] Trial 254 finished with value: 0.9829484407135712 and parameters: {'n_estimators': 369, 'max_depth': 30, 'min_samples_split': 2, 'min_samples_leaf': 1, 'criterion': 'entropy', 'max_features': 'log2', 'bootstrap': False}. Best is trial 232 with value: 0.9831776936328058.\n",
      "[I 2024-05-13 03:21:54,022] Trial 255 pruned. \n",
      "[I 2024-05-13 03:22:00,607] Trial 256 finished with value: 0.9829465755810107 and parameters: {'n_estimators': 368, 'max_depth': 30, 'min_samples_split': 2, 'min_samples_leaf': 1, 'criterion': 'entropy', 'max_features': 'log2', 'bootstrap': False}. Best is trial 232 with value: 0.9831776936328058.\n",
      "[I 2024-05-13 03:22:06,981] Trial 257 finished with value: 0.9830649201784188 and parameters: {'n_estimators': 361, 'max_depth': 30, 'min_samples_split': 2, 'min_samples_leaf': 1, 'criterion': 'entropy', 'max_features': 'log2', 'bootstrap': False}. Best is trial 232 with value: 0.9831776936328058.\n",
      "[I 2024-05-13 03:22:13,433] Trial 258 finished with value: 0.9825224033528418 and parameters: {'n_estimators': 367, 'max_depth': 30, 'min_samples_split': 2, 'min_samples_leaf': 2, 'criterion': 'entropy', 'max_features': 'log2', 'bootstrap': False}. Best is trial 232 with value: 0.9831776936328058.\n",
      "[I 2024-05-13 03:22:16,585] Trial 259 pruned. \n",
      "[I 2024-05-13 03:22:22,868] Trial 260 finished with value: 0.9831253873901714 and parameters: {'n_estimators': 356, 'max_depth': 29, 'min_samples_split': 2, 'min_samples_leaf': 1, 'criterion': 'entropy', 'max_features': 'log2', 'bootstrap': False}. Best is trial 232 with value: 0.9831776936328058.\n",
      "[I 2024-05-13 03:22:26,365] Trial 261 pruned. \n",
      "[I 2024-05-13 03:22:32,711] Trial 262 finished with value: 0.98306715727585 and parameters: {'n_estimators': 353, 'max_depth': 28, 'min_samples_split': 2, 'min_samples_leaf': 1, 'criterion': 'entropy', 'max_features': 'log2', 'bootstrap': False}. Best is trial 232 with value: 0.9831776936328058.\n",
      "[I 2024-05-13 03:22:38,950] Trial 263 finished with value: 0.98306715727585 and parameters: {'n_estimators': 353, 'max_depth': 28, 'min_samples_split': 2, 'min_samples_leaf': 1, 'criterion': 'entropy', 'max_features': 'log2', 'bootstrap': False}. Best is trial 232 with value: 0.9831776936328058.\n",
      "[I 2024-05-13 03:22:45,079] Trial 264 finished with value: 0.9831274696852832 and parameters: {'n_estimators': 347, 'max_depth': 28, 'min_samples_split': 2, 'min_samples_leaf': 1, 'criterion': 'entropy', 'max_features': 'log2', 'bootstrap': False}. Best is trial 232 with value: 0.9831776936328058.\n",
      "[I 2024-05-13 03:22:51,428] Trial 265 finished with value: 0.9827687601177759 and parameters: {'n_estimators': 347, 'max_depth': 28, 'min_samples_split': 2, 'min_samples_leaf': 2, 'criterion': 'entropy', 'max_features': 'log2', 'bootstrap': False}. Best is trial 232 with value: 0.9831776936328058.\n",
      "[I 2024-05-13 03:22:56,905] Trial 266 finished with value: 0.9827102878700679 and parameters: {'n_estimators': 302, 'max_depth': 28, 'min_samples_split': 2, 'min_samples_leaf': 1, 'criterion': 'entropy', 'max_features': 'log2', 'bootstrap': False}. Best is trial 232 with value: 0.9831776936328058.\n",
      "[I 2024-05-13 03:23:00,321] Trial 267 pruned. \n",
      "[I 2024-05-13 03:23:03,533] Trial 268 pruned. \n",
      "[I 2024-05-13 03:23:07,042] Trial 269 pruned. \n",
      "[I 2024-05-13 03:23:13,602] Trial 270 finished with value: 0.9831172311854051 and parameters: {'n_estimators': 370, 'max_depth': 31, 'min_samples_split': 2, 'min_samples_leaf': 1, 'criterion': 'entropy', 'max_features': 'log2', 'bootstrap': False}. Best is trial 232 with value: 0.9831776936328058.\n",
      "[I 2024-05-13 03:23:16,140] Trial 271 pruned. \n",
      "[I 2024-05-13 03:23:21,982] Trial 272 finished with value: 0.982528695223475 and parameters: {'n_estimators': 323, 'max_depth': 31, 'min_samples_split': 3, 'min_samples_leaf': 2, 'criterion': 'entropy', 'max_features': 'log2', 'bootstrap': False}. Best is trial 232 with value: 0.9831776936328058.\n",
      "[I 2024-05-13 03:23:28,594] Trial 273 finished with value: 0.98253158688975 and parameters: {'n_estimators': 374, 'max_depth': 29, 'min_samples_split': 3, 'min_samples_leaf': 2, 'criterion': 'entropy', 'max_features': 'log2', 'bootstrap': False}. Best is trial 232 with value: 0.9831776936328058.\n",
      "[I 2024-05-13 03:23:32,216] Trial 274 pruned. \n",
      "[I 2024-05-13 03:23:43,492] Trial 275 finished with value: 0.9834583825625766 and parameters: {'n_estimators': 375, 'max_depth': 28, 'min_samples_split': 3, 'min_samples_leaf': 1, 'criterion': 'entropy', 'max_features': 'sqrt', 'bootstrap': False}. Best is trial 275 with value: 0.9834583825625766.\n",
      "[I 2024-05-13 03:23:54,559] Trial 276 finished with value: 0.9834587415044063 and parameters: {'n_estimators': 353, 'max_depth': 28, 'min_samples_split': 3, 'min_samples_leaf': 1, 'criterion': 'entropy', 'max_features': 'sqrt', 'bootstrap': False}. Best is trial 276 with value: 0.9834587415044063.\n",
      "[I 2024-05-13 03:24:00,530] Trial 277 pruned. \n",
      "[I 2024-05-13 03:24:09,821] Trial 278 finished with value: 0.9834564764064524 and parameters: {'n_estimators': 291, 'max_depth': 28, 'min_samples_split': 3, 'min_samples_leaf': 1, 'criterion': 'entropy', 'max_features': 'sqrt', 'bootstrap': False}. Best is trial 276 with value: 0.9834587415044063.\n",
      "[I 2024-05-13 03:24:18,476] Trial 279 finished with value: 0.9831607870777747 and parameters: {'n_estimators': 282, 'max_depth': 28, 'min_samples_split': 3, 'min_samples_leaf': 2, 'criterion': 'entropy', 'max_features': 'sqrt', 'bootstrap': False}. Best is trial 276 with value: 0.9834587415044063.\n",
      "[I 2024-05-13 03:24:26,077] Trial 280 finished with value: 0.983223305220579 and parameters: {'n_estimators': 250, 'max_depth': 28, 'min_samples_split': 3, 'min_samples_leaf': 2, 'criterion': 'entropy', 'max_features': 'sqrt', 'bootstrap': False}. Best is trial 276 with value: 0.9834587415044063.\n",
      "[I 2024-05-13 03:24:34,429] Trial 281 finished with value: 0.9829208143088151 and parameters: {'n_estimators': 270, 'max_depth': 28, 'min_samples_split': 3, 'min_samples_leaf': 2, 'criterion': 'entropy', 'max_features': 'sqrt', 'bootstrap': False}. Best is trial 276 with value: 0.9834587415044063.\n",
      "[I 2024-05-13 03:24:39,111] Trial 282 pruned. \n",
      "[I 2024-05-13 03:24:44,405] Trial 283 pruned. \n",
      "[I 2024-05-13 03:24:49,548] Trial 284 pruned. \n",
      "[I 2024-05-13 03:24:53,949] Trial 285 pruned. \n",
      "[I 2024-05-13 03:25:03,336] Trial 286 finished with value: 0.9832188068615902 and parameters: {'n_estimators': 311, 'max_depth': 28, 'min_samples_split': 3, 'min_samples_leaf': 2, 'criterion': 'entropy', 'max_features': 'sqrt', 'bootstrap': False}. Best is trial 276 with value: 0.9834587415044063.\n",
      "[I 2024-05-13 03:25:12,585] Trial 287 finished with value: 0.9830998950087789 and parameters: {'n_estimators': 308, 'max_depth': 28, 'min_samples_split': 3, 'min_samples_leaf': 2, 'criterion': 'entropy', 'max_features': 'sqrt', 'bootstrap': False}. Best is trial 276 with value: 0.9834587415044063.\n",
      "[I 2024-05-13 03:25:17,972] Trial 288 pruned. \n",
      "[I 2024-05-13 03:25:27,334] Trial 289 finished with value: 0.98340023303567 and parameters: {'n_estimators': 314, 'max_depth': 28, 'min_samples_split': 3, 'min_samples_leaf': 2, 'criterion': 'entropy', 'max_features': 'sqrt', 'bootstrap': False}. Best is trial 276 with value: 0.9834587415044063.\n",
      "[I 2024-05-13 03:25:32,183] Trial 290 pruned. \n",
      "[I 2024-05-13 03:25:37,770] Trial 291 pruned. \n",
      "[I 2024-05-13 03:25:43,030] Trial 292 pruned. \n",
      "[I 2024-05-13 03:25:46,182] Trial 293 pruned. \n",
      "[I 2024-05-13 03:25:56,168] Trial 294 finished with value: 0.983518666029773 and parameters: {'n_estimators': 322, 'max_depth': 27, 'min_samples_split': 3, 'min_samples_leaf': 2, 'criterion': 'entropy', 'max_features': 'sqrt', 'bootstrap': False}. Best is trial 294 with value: 0.983518666029773.\n",
      "[I 2024-05-13 03:26:05,496] Trial 295 finished with value: 0.9833337134045147 and parameters: {'n_estimators': 305, 'max_depth': 26, 'min_samples_split': 4, 'min_samples_leaf': 2, 'criterion': 'entropy', 'max_features': 'sqrt', 'bootstrap': False}. Best is trial 294 with value: 0.983518666029773.\n",
      "[I 2024-05-13 03:26:11,036] Trial 296 pruned. \n",
      "[I 2024-05-13 03:26:19,538] Trial 297 finished with value: 0.9832815975241518 and parameters: {'n_estimators': 273, 'max_depth': 26, 'min_samples_split': 3, 'min_samples_leaf': 2, 'criterion': 'entropy', 'max_features': 'sqrt', 'bootstrap': False}. Best is trial 294 with value: 0.983518666029773.\n",
      "[I 2024-05-13 03:26:28,213] Trial 298 finished with value: 0.9831663032604275 and parameters: {'n_estimators': 281, 'max_depth': 27, 'min_samples_split': 4, 'min_samples_leaf': 2, 'criterion': 'entropy', 'max_features': 'sqrt', 'bootstrap': False}. Best is trial 294 with value: 0.983518666029773.\n",
      "[I 2024-05-13 03:26:33,180] Trial 299 pruned. \n",
      "[I 2024-05-13 03:26:37,841] Trial 300 pruned. \n",
      "[I 2024-05-13 03:26:46,454] Trial 301 finished with value: 0.9832891357705978 and parameters: {'n_estimators': 279, 'max_depth': 27, 'min_samples_split': 4, 'min_samples_leaf': 2, 'criterion': 'entropy', 'max_features': 'sqrt', 'bootstrap': False}. Best is trial 294 with value: 0.983518666029773.\n",
      "[I 2024-05-13 03:26:51,493] Trial 302 pruned. \n",
      "[I 2024-05-13 03:26:56,208] Trial 303 pruned. \n",
      "[I 2024-05-13 03:27:05,237] Trial 304 finished with value: 0.9832851737910699 and parameters: {'n_estimators': 293, 'max_depth': 27, 'min_samples_split': 3, 'min_samples_leaf': 2, 'criterion': 'entropy', 'max_features': 'sqrt', 'bootstrap': False}. Best is trial 294 with value: 0.983518666029773.\n",
      "[I 2024-05-13 03:27:10,724] Trial 305 pruned. \n",
      "[I 2024-05-13 03:27:19,758] Trial 306 finished with value: 0.9833943500582023 and parameters: {'n_estimators': 301, 'max_depth': 25, 'min_samples_split': 3, 'min_samples_leaf': 2, 'criterion': 'entropy', 'max_features': 'sqrt', 'bootstrap': False}. Best is trial 294 with value: 0.983518666029773.\n",
      "[I 2024-05-13 03:27:28,414] Trial 307 finished with value: 0.9833402952811617 and parameters: {'n_estimators': 280, 'max_depth': 26, 'min_samples_split': 4, 'min_samples_leaf': 2, 'criterion': 'entropy', 'max_features': 'sqrt', 'bootstrap': False}. Best is trial 294 with value: 0.983518666029773.\n",
      "[I 2024-05-13 03:27:33,807] Trial 308 pruned. \n",
      "[I 2024-05-13 03:27:38,825] Trial 309 pruned. \n",
      "[I 2024-05-13 03:27:47,392] Trial 310 finished with value: 0.982564630525404 and parameters: {'n_estimators': 283, 'max_depth': 27, 'min_samples_split': 5, 'min_samples_leaf': 2, 'criterion': 'entropy', 'max_features': 'sqrt', 'bootstrap': False}. Best is trial 294 with value: 0.983518666029773.\n",
      "[I 2024-05-13 03:27:54,941] Trial 311 finished with value: 0.983042160339442 and parameters: {'n_estimators': 245, 'max_depth': 25, 'min_samples_split': 4, 'min_samples_leaf': 2, 'criterion': 'entropy', 'max_features': 'sqrt', 'bootstrap': False}. Best is trial 294 with value: 0.983518666029773.\n",
      "[I 2024-05-13 03:28:00,334] Trial 312 pruned. \n",
      "[I 2024-05-13 03:28:10,316] Trial 313 finished with value: 0.9834580264808859 and parameters: {'n_estimators': 321, 'max_depth': 27, 'min_samples_split': 3, 'min_samples_leaf': 2, 'criterion': 'entropy', 'max_features': 'sqrt', 'bootstrap': False}. Best is trial 294 with value: 0.983518666029773.\n",
      "[I 2024-05-13 03:28:13,802] Trial 314 pruned. \n",
      "[I 2024-05-13 03:28:18,871] Trial 315 pruned. \n",
      "[I 2024-05-13 03:28:24,261] Trial 316 pruned. \n",
      "[I 2024-05-13 03:28:30,114] Trial 317 pruned. \n",
      "[I 2024-05-13 03:28:38,163] Trial 318 finished with value: 0.9833987410142223 and parameters: {'n_estimators': 264, 'max_depth': 26, 'min_samples_split': 3, 'min_samples_leaf': 2, 'criterion': 'entropy', 'max_features': 'sqrt', 'bootstrap': False}. Best is trial 294 with value: 0.983518666029773.\n",
      "[I 2024-05-13 03:28:42,376] Trial 319 pruned. \n",
      "[I 2024-05-13 03:28:47,138] Trial 320 pruned. \n",
      "[I 2024-05-13 03:28:55,267] Trial 321 finished with value: 0.9832795514198187 and parameters: {'n_estimators': 268, 'max_depth': 26, 'min_samples_split': 3, 'min_samples_leaf': 2, 'criterion': 'entropy', 'max_features': 'sqrt', 'bootstrap': False}. Best is trial 294 with value: 0.983518666029773.\n",
      "[I 2024-05-13 03:28:59,755] Trial 322 pruned. \n",
      "[I 2024-05-13 03:29:04,674] Trial 323 pruned. \n",
      "[I 2024-05-13 03:29:13,671] Trial 324 finished with value: 0.9832832271885057 and parameters: {'n_estimators': 295, 'max_depth': 27, 'min_samples_split': 3, 'min_samples_leaf': 2, 'criterion': 'entropy', 'max_features': 'sqrt', 'bootstrap': False}. Best is trial 294 with value: 0.983518666029773.\n",
      "[I 2024-05-13 03:29:19,014] Trial 325 pruned. \n",
      "[I 2024-05-13 03:29:27,045] Trial 326 finished with value: 0.9832800465670223 and parameters: {'n_estimators': 262, 'max_depth': 26, 'min_samples_split': 3, 'min_samples_leaf': 2, 'criterion': 'entropy', 'max_features': 'sqrt', 'bootstrap': False}. Best is trial 294 with value: 0.983518666029773.\n",
      "[I 2024-05-13 03:29:35,258] Trial 327 finished with value: 0.9833987410142223 and parameters: {'n_estimators': 264, 'max_depth': 26, 'min_samples_split': 4, 'min_samples_leaf': 2, 'criterion': 'entropy', 'max_features': 'sqrt', 'bootstrap': False}. Best is trial 294 with value: 0.983518666029773.\n",
      "[I 2024-05-13 03:29:40,025] Trial 328 pruned. \n",
      "[I 2024-05-13 03:29:44,351] Trial 329 pruned. \n",
      "[I 2024-05-13 03:29:52,689] Trial 330 finished with value: 0.983223262989003 and parameters: {'n_estimators': 272, 'max_depth': 26, 'min_samples_split': 4, 'min_samples_leaf': 2, 'criterion': 'entropy', 'max_features': 'sqrt', 'bootstrap': False}. Best is trial 294 with value: 0.983518666029773.\n",
      "[I 2024-05-13 03:29:57,726] Trial 331 pruned. \n",
      "[I 2024-05-13 03:30:05,251] Trial 332 finished with value: 0.9831025879043352 and parameters: {'n_estimators': 244, 'max_depth': 25, 'min_samples_split': 4, 'min_samples_leaf': 2, 'criterion': 'entropy', 'max_features': 'sqrt', 'bootstrap': False}. Best is trial 294 with value: 0.983518666029773.\n",
      "[I 2024-05-13 03:30:08,467] Trial 333 pruned. \n",
      "[I 2024-05-13 03:30:13,843] Trial 334 pruned. \n",
      "[I 2024-05-13 03:30:19,307] Trial 335 pruned. \n",
      "[I 2024-05-13 03:30:23,572] Trial 336 pruned. \n",
      "[I 2024-05-13 03:30:27,942] Trial 337 pruned. \n",
      "[I 2024-05-13 03:30:36,472] Trial 338 finished with value: 0.9832250338677208 and parameters: {'n_estimators': 283, 'max_depth': 26, 'min_samples_split': 4, 'min_samples_leaf': 2, 'criterion': 'entropy', 'max_features': 'sqrt', 'bootstrap': False}. Best is trial 294 with value: 0.983518666029773.\n",
      "[I 2024-05-13 03:30:41,582] Trial 339 pruned. \n",
      "[I 2024-05-13 03:30:46,292] Trial 340 pruned. \n",
      "[I 2024-05-13 03:30:54,720] Trial 341 finished with value: 0.9827334607136973 and parameters: {'n_estimators': 277, 'max_depth': 25, 'min_samples_split': 5, 'min_samples_leaf': 2, 'criterion': 'entropy', 'max_features': 'sqrt', 'bootstrap': False}. Best is trial 294 with value: 0.983518666029773.\n",
      "[I 2024-05-13 03:30:59,609] Trial 342 pruned. \n",
      "[I 2024-05-13 03:31:05,145] Trial 343 pruned. \n",
      "[I 2024-05-13 03:31:10,521] Trial 344 pruned. \n",
      "[I 2024-05-13 03:31:16,407] Trial 345 pruned. \n",
      "[I 2024-05-13 03:31:21,082] Trial 346 pruned. \n",
      "[I 2024-05-13 03:31:29,916] Trial 347 finished with value: 0.983107894820427 and parameters: {'n_estimators': 284, 'max_depth': 27, 'min_samples_split': 3, 'min_samples_leaf': 2, 'criterion': 'entropy', 'max_features': 'sqrt', 'bootstrap': False}. Best is trial 294 with value: 0.983518666029773.\n",
      "[I 2024-05-13 03:31:36,974] Trial 348 finished with value: 0.9832156118975698 and parameters: {'n_estimators': 220, 'max_depth': 28, 'min_samples_split': 4, 'min_samples_leaf': 2, 'criterion': 'entropy', 'max_features': 'sqrt', 'bootstrap': False}. Best is trial 294 with value: 0.983518666029773.\n",
      "[I 2024-05-13 03:31:40,623] Trial 349 pruned. \n",
      "[I 2024-05-13 03:31:44,800] Trial 350 pruned. \n",
      "[I 2024-05-13 03:31:49,148] Trial 351 pruned. \n",
      "[I 2024-05-13 03:31:54,010] Trial 352 pruned. \n",
      "[I 2024-05-13 03:31:57,795] Trial 353 pruned. \n",
      "[I 2024-05-13 03:32:08,734] Trial 354 pruned. \n",
      "[I 2024-05-13 03:32:13,150] Trial 355 pruned. \n",
      "[I 2024-05-13 03:32:18,819] Trial 356 pruned. \n",
      "[I 2024-05-13 03:32:28,031] Trial 357 finished with value: 0.9832124999633717 and parameters: {'n_estimators': 299, 'max_depth': 25, 'min_samples_split': 4, 'min_samples_leaf': 2, 'criterion': 'entropy', 'max_features': 'sqrt', 'bootstrap': False}. Best is trial 294 with value: 0.983518666029773.\n",
      "[I 2024-05-13 03:32:32,946] Trial 358 pruned. \n",
      "[I 2024-05-13 03:32:37,615] Trial 359 pruned. \n",
      "[I 2024-05-13 03:32:43,142] Trial 360 pruned. \n",
      "[I 2024-05-13 03:32:51,437] Trial 361 finished with value: 0.983223262989003 and parameters: {'n_estimators': 272, 'max_depth': 26, 'min_samples_split': 3, 'min_samples_leaf': 2, 'criterion': 'entropy', 'max_features': 'sqrt', 'bootstrap': False}. Best is trial 294 with value: 0.983518666029773.\n",
      "[I 2024-05-13 03:32:56,520] Trial 362 pruned. \n",
      "[I 2024-05-13 03:33:01,473] Trial 363 pruned. \n",
      "[I 2024-05-13 03:33:11,305] Trial 364 finished with value: 0.9835783569956489 and parameters: {'n_estimators': 319, 'max_depth': 26, 'min_samples_split': 3, 'min_samples_leaf': 2, 'criterion': 'entropy', 'max_features': 'sqrt', 'bootstrap': False}. Best is trial 364 with value: 0.9835783569956489.\n",
      "[I 2024-05-13 03:33:17,052] Trial 365 pruned. \n",
      "[I 2024-05-13 03:33:25,779] Trial 366 finished with value: 0.9831621314410579 and parameters: {'n_estimators': 284, 'max_depth': 26, 'min_samples_split': 3, 'min_samples_leaf': 2, 'criterion': 'entropy', 'max_features': 'sqrt', 'bootstrap': False}. Best is trial 364 with value: 0.9835783569956489.\n",
      "[I 2024-05-13 03:33:29,796] Trial 367 pruned. \n",
      "[I 2024-05-13 03:33:35,338] Trial 368 pruned. \n",
      "[I 2024-05-13 03:33:43,660] Trial 369 finished with value: 0.9833361121650638 and parameters: {'n_estimators': 272, 'max_depth': 25, 'min_samples_split': 3, 'min_samples_leaf': 2, 'criterion': 'entropy', 'max_features': 'sqrt', 'bootstrap': False}. Best is trial 364 with value: 0.9835783569956489.\n",
      "[I 2024-05-13 03:33:51,244] Trial 370 finished with value: 0.9831044691342944 and parameters: {'n_estimators': 243, 'max_depth': 28, 'min_samples_split': 3, 'min_samples_leaf': 2, 'criterion': 'entropy', 'max_features': 'sqrt', 'bootstrap': False}. Best is trial 364 with value: 0.9835783569956489.\n",
      "[I 2024-05-13 03:33:56,123] Trial 371 pruned. \n",
      "[I 2024-05-13 03:34:04,339] Trial 372 finished with value: 0.9830943052416735 and parameters: {'n_estimators': 271, 'max_depth': 23, 'min_samples_split': 3, 'min_samples_leaf': 2, 'criterion': 'entropy', 'max_features': 'sqrt', 'bootstrap': False}. Best is trial 364 with value: 0.9835783569956489.\n",
      "[I 2024-05-13 03:34:08,078] Trial 373 pruned. \n",
      "[I 2024-05-13 03:34:12,527] Trial 374 pruned. \n",
      "[I 2024-05-13 03:34:17,686] Trial 375 pruned. \n",
      "[I 2024-05-13 03:34:22,349] Trial 376 pruned. \n",
      "[I 2024-05-13 03:34:31,054] Trial 377 finished with value: 0.9833984498525048 and parameters: {'n_estimators': 289, 'max_depth': 25, 'min_samples_split': 4, 'min_samples_leaf': 2, 'criterion': 'entropy', 'max_features': 'sqrt', 'bootstrap': False}. Best is trial 364 with value: 0.9835783569956489.\n",
      "[I 2024-05-13 03:34:53,294] Trial 378 finished with value: 0.9828641712262961 and parameters: {'n_estimators': 781, 'max_depth': 25, 'min_samples_split': 3, 'min_samples_leaf': 2, 'criterion': 'entropy', 'max_features': 'sqrt', 'bootstrap': False}. Best is trial 364 with value: 0.9835783569956489.\n",
      "[I 2024-05-13 03:34:58,159] Trial 379 pruned. \n",
      "[I 2024-05-13 03:35:07,781] Trial 380 finished with value: 0.9832701957774139 and parameters: {'n_estimators': 317, 'max_depth': 24, 'min_samples_split': 3, 'min_samples_leaf': 2, 'criterion': 'entropy', 'max_features': 'sqrt', 'bootstrap': False}. Best is trial 364 with value: 0.9835783569956489.\n",
      "[I 2024-05-13 03:35:12,691] Trial 381 pruned. \n",
      "[I 2024-05-13 03:35:17,594] Trial 382 pruned. \n",
      "[I 2024-05-13 03:35:23,034] Trial 383 pruned. \n",
      "[I 2024-05-13 03:35:28,152] Trial 384 pruned. \n",
      "[I 2024-05-13 03:35:32,997] Trial 385 pruned. \n",
      "[I 2024-05-13 03:35:42,321] Trial 386 finished with value: 0.9832773603726904 and parameters: {'n_estimators': 310, 'max_depth': 26, 'min_samples_split': 4, 'min_samples_leaf': 2, 'criterion': 'entropy', 'max_features': 'sqrt', 'bootstrap': False}. Best is trial 364 with value: 0.9835783569956489.\n",
      "[I 2024-05-13 03:35:51,516] Trial 387 finished with value: 0.9827964841373718 and parameters: {'n_estimators': 308, 'max_depth': 25, 'min_samples_split': 5, 'min_samples_leaf': 2, 'criterion': 'entropy', 'max_features': 'sqrt', 'bootstrap': False}. Best is trial 364 with value: 0.9835783569956489.\n",
      "[I 2024-05-13 03:36:01,014] Trial 388 finished with value: 0.9835781405895683 and parameters: {'n_estimators': 318, 'max_depth': 26, 'min_samples_split': 4, 'min_samples_leaf': 2, 'criterion': 'entropy', 'max_features': 'sqrt', 'bootstrap': False}. Best is trial 364 with value: 0.9835783569956489.\n",
      "[I 2024-05-13 03:36:06,814] Trial 389 pruned. \n",
      "[I 2024-05-13 03:36:12,393] Trial 390 pruned. \n",
      "[I 2024-05-13 03:36:18,341] Trial 391 pruned. \n",
      "[I 2024-05-13 03:36:23,654] Trial 392 pruned. \n",
      "[I 2024-05-13 03:36:27,155] Trial 393 pruned. \n",
      "[I 2024-05-13 03:36:32,126] Trial 394 pruned. \n",
      "[I 2024-05-13 03:36:41,856] Trial 395 finished with value: 0.9835803701946124 and parameters: {'n_estimators': 326, 'max_depth': 26, 'min_samples_split': 4, 'min_samples_leaf': 2, 'criterion': 'entropy', 'max_features': 'sqrt', 'bootstrap': False}. Best is trial 395 with value: 0.9835803701946124.\n",
      "[I 2024-05-13 03:36:47,626] Trial 396 pruned. \n",
      "[I 2024-05-13 03:36:57,555] Trial 397 finished with value: 0.9827298533578277 and parameters: {'n_estimators': 331, 'max_depth': 24, 'min_samples_split': 5, 'min_samples_leaf': 2, 'criterion': 'entropy', 'max_features': 'sqrt', 'bootstrap': False}. Best is trial 395 with value: 0.9835803701946124.\n",
      "[I 2024-05-13 03:37:03,122] Trial 398 pruned. \n",
      "[I 2024-05-13 03:37:08,580] Trial 399 pruned. \n",
      "[I 2024-05-13 03:37:18,744] Trial 400 finished with value: 0.9833409254626366 and parameters: {'n_estimators': 326, 'max_depth': 27, 'min_samples_split': 4, 'min_samples_leaf': 2, 'criterion': 'entropy', 'max_features': 'sqrt', 'bootstrap': False}. Best is trial 395 with value: 0.9835803701946124.\n",
      "[I 2024-05-13 03:37:24,352] Trial 401 pruned. \n",
      "[I 2024-05-13 03:37:30,198] Trial 402 pruned. \n",
      "[I 2024-05-13 03:37:35,604] Trial 403 pruned. \n",
      "[I 2024-05-13 03:37:40,582] Trial 404 pruned. \n",
      "[I 2024-05-13 03:37:49,619] Trial 405 finished with value: 0.983224583230581 and parameters: {'n_estimators': 299, 'max_depth': 50, 'min_samples_split': 3, 'min_samples_leaf': 2, 'criterion': 'entropy', 'max_features': 'sqrt', 'bootstrap': False}. Best is trial 395 with value: 0.9835803701946124.\n",
      "[I 2024-05-13 03:37:55,299] Trial 406 pruned. \n",
      "[I 2024-05-13 03:38:00,563] Trial 407 pruned. \n",
      "[I 2024-05-13 03:38:10,482] Trial 408 finished with value: 0.9833397663571215 and parameters: {'n_estimators': 331, 'max_depth': 26, 'min_samples_split': 4, 'min_samples_leaf': 2, 'criterion': 'entropy', 'max_features': 'sqrt', 'bootstrap': False}. Best is trial 395 with value: 0.9835803701946124.\n",
      "[I 2024-05-13 03:38:16,333] Trial 409 pruned. \n",
      "[I 2024-05-13 03:38:21,764] Trial 410 pruned. \n",
      "[I 2024-05-13 03:38:39,550] Trial 411 finished with value: 0.9831647464680913 and parameters: {'n_estimators': 620, 'max_depth': 28, 'min_samples_split': 4, 'min_samples_leaf': 2, 'criterion': 'log_loss', 'max_features': 'sqrt', 'bootstrap': False}. Best is trial 395 with value: 0.9835803701946124.\n",
      "[I 2024-05-13 03:38:45,454] Trial 412 pruned. \n",
      "[I 2024-05-13 03:38:53,758] Trial 413 finished with value: 0.9828505657825619 and parameters: {'n_estimators': 261, 'max_depth': 25, 'min_samples_split': 5, 'min_samples_leaf': 2, 'criterion': 'entropy', 'max_features': 'sqrt', 'bootstrap': False}. Best is trial 395 with value: 0.9835803701946124.\n",
      "[I 2024-05-13 03:38:57,468] Trial 414 pruned. \n",
      "[I 2024-05-13 03:39:02,244] Trial 415 pruned. \n",
      "[I 2024-05-13 03:39:08,085] Trial 416 pruned. \n",
      "[I 2024-05-13 03:39:17,156] Trial 417 finished with value: 0.9831604719342047 and parameters: {'n_estimators': 294, 'max_depth': 28, 'min_samples_split': 4, 'min_samples_leaf': 2, 'criterion': 'entropy', 'max_features': 'sqrt', 'bootstrap': False}. Best is trial 395 with value: 0.9835803701946124.\n",
      "[I 2024-05-13 03:39:22,077] Trial 418 pruned. \n",
      "[I 2024-05-13 03:39:32,274] Trial 419 finished with value: 0.9832203217252309 and parameters: {'n_estimators': 334, 'max_depth': 27, 'min_samples_split': 3, 'min_samples_leaf': 1, 'criterion': 'entropy', 'max_features': 'sqrt', 'bootstrap': False}. Best is trial 395 with value: 0.9835803701946124.\n",
      "[I 2024-05-13 03:39:37,814] Trial 420 pruned. \n",
      "[I 2024-05-13 03:39:45,814] Trial 421 finished with value: 0.9833384911165812 and parameters: {'n_estimators': 249, 'max_depth': 28, 'min_samples_split': 3, 'min_samples_leaf': 1, 'criterion': 'entropy', 'max_features': 'sqrt', 'bootstrap': False}. Best is trial 395 with value: 0.9835803701946124.\n",
      "[I 2024-05-13 03:39:53,515] Trial 422 finished with value: 0.9832740666998389 and parameters: {'n_estimators': 248, 'max_depth': 29, 'min_samples_split': 3, 'min_samples_leaf': 1, 'criterion': 'entropy', 'max_features': 'sqrt', 'bootstrap': False}. Best is trial 395 with value: 0.9835803701946124.\n",
      "[I 2024-05-13 03:39:57,778] Trial 423 pruned. \n",
      "[I 2024-05-13 03:40:05,749] Trial 424 finished with value: 0.9833409339493553 and parameters: {'n_estimators': 258, 'max_depth': 28, 'min_samples_split': 3, 'min_samples_leaf': 1, 'criterion': 'entropy', 'max_features': 'sqrt', 'bootstrap': False}. Best is trial 395 with value: 0.9835803701946124.\n",
      "[I 2024-05-13 03:40:13,068] Trial 425 finished with value: 0.9832183138273228 and parameters: {'n_estimators': 236, 'max_depth': 28, 'min_samples_split': 3, 'min_samples_leaf': 1, 'criterion': 'entropy', 'max_features': 'sqrt', 'bootstrap': False}. Best is trial 395 with value: 0.9835803701946124.\n",
      "[I 2024-05-13 03:40:17,762] Trial 426 pruned. \n",
      "[I 2024-05-13 03:40:22,909] Trial 427 pruned. \n",
      "[I 2024-05-13 03:40:27,306] Trial 428 pruned. \n",
      "[I 2024-05-13 03:40:36,061] Trial 429 finished with value: 0.9832221563656034 and parameters: {'n_estimators': 288, 'max_depth': 27, 'min_samples_split': 3, 'min_samples_leaf': 1, 'criterion': 'entropy', 'max_features': 'sqrt', 'bootstrap': False}. Best is trial 395 with value: 0.9835803701946124.\n",
      "[I 2024-05-13 03:40:40,695] Trial 430 pruned. \n",
      "[I 2024-05-13 03:40:51,169] Trial 431 finished with value: 0.9837510017615418 and parameters: {'n_estimators': 339, 'max_depth': 25, 'min_samples_split': 4, 'min_samples_leaf': 2, 'criterion': 'entropy', 'max_features': 'sqrt', 'bootstrap': False}. Best is trial 431 with value: 0.9837510017615418.\n",
      "[I 2024-05-13 03:41:01,270] Trial 432 finished with value: 0.9832857114326259 and parameters: {'n_estimators': 333, 'max_depth': 25, 'min_samples_split': 4, 'min_samples_leaf': 1, 'criterion': 'entropy', 'max_features': 'sqrt', 'bootstrap': False}. Best is trial 431 with value: 0.9837510017615418.\n",
      "[I 2024-05-13 03:41:05,116] Trial 433 pruned. \n",
      "[I 2024-05-13 03:41:11,130] Trial 434 pruned. \n",
      "[I 2024-05-13 03:41:16,990] Trial 435 pruned. \n",
      "[I 2024-05-13 03:41:27,207] Trial 436 finished with value: 0.9829772979373426 and parameters: {'n_estimators': 340, 'max_depth': 47, 'min_samples_split': 4, 'min_samples_leaf': 1, 'criterion': 'entropy', 'max_features': 'sqrt', 'bootstrap': False}. Best is trial 431 with value: 0.9837510017615418.\n",
      "[I 2024-05-13 03:41:37,287] Trial 437 finished with value: 0.983283091996819 and parameters: {'n_estimators': 341, 'max_depth': 29, 'min_samples_split': 4, 'min_samples_leaf': 2, 'criterion': 'entropy', 'max_features': 'sqrt', 'bootstrap': False}. Best is trial 431 with value: 0.9837510017615418.\n",
      "[I 2024-05-13 03:41:42,287] Trial 438 pruned. \n",
      "[I 2024-05-13 03:41:51,615] Trial 439 finished with value: 0.9833964774010674 and parameters: {'n_estimators': 303, 'max_depth': 25, 'min_samples_split': 4, 'min_samples_leaf': 2, 'criterion': 'entropy', 'max_features': 'sqrt', 'bootstrap': False}. Best is trial 431 with value: 0.9837510017615418.\n",
      "[I 2024-05-13 03:42:01,924] Trial 440 finished with value: 0.9833434563764148 and parameters: {'n_estimators': 343, 'max_depth': 24, 'min_samples_split': 4, 'min_samples_leaf': 1, 'criterion': 'entropy', 'max_features': 'sqrt', 'bootstrap': False}. Best is trial 431 with value: 0.9837510017615418.\n",
      "[I 2024-05-13 03:42:08,061] Trial 441 pruned. \n",
      "[I 2024-05-13 03:42:18,015] Trial 442 finished with value: 0.982972310351987 and parameters: {'n_estimators': 332, 'max_depth': 23, 'min_samples_split': 5, 'min_samples_leaf': 1, 'criterion': 'entropy', 'max_features': 'sqrt', 'bootstrap': False}. Best is trial 431 with value: 0.9837510017615418.\n",
      "[I 2024-05-13 03:42:24,205] Trial 443 pruned. \n",
      "[I 2024-05-13 03:42:29,481] Trial 444 pruned. \n",
      "[I 2024-05-13 03:42:35,355] Trial 445 pruned. \n",
      "[I 2024-05-13 03:42:41,588] Trial 446 pruned. \n",
      "[I 2024-05-13 03:42:50,857] Trial 447 finished with value: 0.9827943209251364 and parameters: {'n_estimators': 306, 'max_depth': 25, 'min_samples_split': 5, 'min_samples_leaf': 2, 'criterion': 'entropy', 'max_features': 'sqrt', 'bootstrap': False}. Best is trial 431 with value: 0.9837510017615418.\n",
      "[I 2024-05-13 03:42:56,667] Trial 448 pruned. \n",
      "[I 2024-05-13 03:43:01,912] Trial 449 pruned. \n",
      "[I 2024-05-13 03:43:10,968] Trial 450 finished with value: 0.9830915669237328 and parameters: {'n_estimators': 300, 'max_depth': 23, 'min_samples_split': 5, 'min_samples_leaf': 1, 'criterion': 'entropy', 'max_features': 'sqrt', 'bootstrap': False}. Best is trial 431 with value: 0.9837510017615418.\n",
      "[I 2024-05-13 03:43:20,542] Trial 451 finished with value: 0.9833962652411644 and parameters: {'n_estimators': 319, 'max_depth': 25, 'min_samples_split': 4, 'min_samples_leaf': 2, 'criterion': 'entropy', 'max_features': 'sqrt', 'bootstrap': False}. Best is trial 431 with value: 0.9837510017615418.\n",
      "[I 2024-05-13 03:43:35,164] Trial 452 pruned. \n",
      "[I 2024-05-13 03:43:38,882] Trial 453 pruned. \n",
      "[I 2024-05-13 03:43:43,868] Trial 454 pruned. \n",
      "[I 2024-05-13 03:43:48,935] Trial 455 pruned. \n",
      "[I 2024-05-13 03:43:54,702] Trial 456 pruned. \n",
      "[I 2024-05-13 03:44:05,034] Trial 457 finished with value: 0.9833411393731393 and parameters: {'n_estimators': 349, 'max_depth': 27, 'min_samples_split': 4, 'min_samples_leaf': 2, 'criterion': 'entropy', 'max_features': 'sqrt', 'bootstrap': False}. Best is trial 431 with value: 0.9837510017615418.\n",
      "[I 2024-05-13 03:44:11,339] Trial 458 pruned. \n",
      "[I 2024-05-13 03:44:21,682] Trial 459 finished with value: 0.9836906044185826 and parameters: {'n_estimators': 352, 'max_depth': 25, 'min_samples_split': 3, 'min_samples_leaf': 2, 'criterion': 'entropy', 'max_features': 'sqrt', 'bootstrap': False}. Best is trial 431 with value: 0.9837510017615418.\n",
      "[I 2024-05-13 03:44:33,184] Trial 460 pruned. \n",
      "[I 2024-05-13 03:44:39,328] Trial 461 pruned. \n",
      "[I 2024-05-13 03:44:45,712] Trial 462 pruned. \n",
      "[I 2024-05-13 03:44:56,179] Trial 463 finished with value: 0.9833453256206072 and parameters: {'n_estimators': 347, 'max_depth': 29, 'min_samples_split': 3, 'min_samples_leaf': 2, 'criterion': 'entropy', 'max_features': 'sqrt', 'bootstrap': False}. Best is trial 431 with value: 0.9837510017615418.\n",
      "[I 2024-05-13 03:45:06,880] Trial 464 finished with value: 0.9835764776713104 and parameters: {'n_estimators': 357, 'max_depth': 29, 'min_samples_split': 3, 'min_samples_leaf': 1, 'criterion': 'entropy', 'max_features': 'sqrt', 'bootstrap': False}. Best is trial 431 with value: 0.9837510017615418.\n",
      "[I 2024-05-13 03:45:17,309] Trial 465 finished with value: 0.9833456045367163 and parameters: {'n_estimators': 351, 'max_depth': 29, 'min_samples_split': 3, 'min_samples_leaf': 2, 'criterion': 'entropy', 'max_features': 'sqrt', 'bootstrap': False}. Best is trial 431 with value: 0.9837510017615418.\n",
      "[I 2024-05-13 03:45:23,646] Trial 466 pruned. \n",
      "[I 2024-05-13 03:45:29,903] Trial 467 pruned. \n",
      "[I 2024-05-13 03:45:35,999] Trial 468 pruned. \n",
      "[I 2024-05-13 03:45:42,515] Trial 469 pruned. \n",
      "[I 2024-05-13 03:45:53,769] Trial 470 finished with value: 0.9836402014172553 and parameters: {'n_estimators': 378, 'max_depth': 29, 'min_samples_split': 3, 'min_samples_leaf': 2, 'criterion': 'entropy', 'max_features': 'sqrt', 'bootstrap': False}. Best is trial 431 with value: 0.9837510017615418.\n",
      "[I 2024-05-13 03:46:05,268] Trial 471 finished with value: 0.9834006476729705 and parameters: {'n_estimators': 387, 'max_depth': 29, 'min_samples_split': 3, 'min_samples_leaf': 2, 'criterion': 'entropy', 'max_features': 'sqrt', 'bootstrap': False}. Best is trial 431 with value: 0.9837510017615418.\n",
      "[I 2024-05-13 03:46:12,120] Trial 472 pruned. \n",
      "[I 2024-05-13 03:46:16,073] Trial 473 pruned. \n",
      "[I 2024-05-13 03:46:27,115] Trial 474 finished with value: 0.9836951743598545 and parameters: {'n_estimators': 375, 'max_depth': 29, 'min_samples_split': 3, 'min_samples_leaf': 1, 'criterion': 'entropy', 'max_features': 'sqrt', 'bootstrap': False}. Best is trial 431 with value: 0.9837510017615418.\n",
      "[I 2024-05-13 03:46:33,975] Trial 475 pruned. \n",
      "[I 2024-05-13 03:46:45,503] Trial 476 finished with value: 0.9835211892185048 and parameters: {'n_estimators': 383, 'max_depth': 29, 'min_samples_split': 3, 'min_samples_leaf': 2, 'criterion': 'entropy', 'max_features': 'sqrt', 'bootstrap': False}. Best is trial 431 with value: 0.9837510017615418.\n",
      "[I 2024-05-13 03:46:56,740] Trial 477 finished with value: 0.9835742695913545 and parameters: {'n_estimators': 379, 'max_depth': 30, 'min_samples_split': 3, 'min_samples_leaf': 1, 'criterion': 'entropy', 'max_features': 'sqrt', 'bootstrap': False}. Best is trial 431 with value: 0.9837510017615418.\n",
      "[I 2024-05-13 03:47:08,097] Trial 478 finished with value: 0.9837539346557159 and parameters: {'n_estimators': 382, 'max_depth': 29, 'min_samples_split': 3, 'min_samples_leaf': 1, 'criterion': 'entropy', 'max_features': 'sqrt', 'bootstrap': False}. Best is trial 478 with value: 0.9837539346557159.\n",
      "[I 2024-05-13 03:47:19,744] Trial 479 finished with value: 0.9835862487353717 and parameters: {'n_estimators': 392, 'max_depth': 30, 'min_samples_split': 2, 'min_samples_leaf': 1, 'criterion': 'log_loss', 'max_features': 'sqrt', 'bootstrap': False}. Best is trial 478 with value: 0.9837539346557159.\n",
      "[I 2024-05-13 03:47:31,222] Trial 480 finished with value: 0.9834048635066968 and parameters: {'n_estimators': 385, 'max_depth': 30, 'min_samples_split': 2, 'min_samples_leaf': 1, 'criterion': 'log_loss', 'max_features': 'sqrt', 'bootstrap': False}. Best is trial 478 with value: 0.9837539346557159.\n",
      "[I 2024-05-13 03:47:42,738] Trial 481 finished with value: 0.9835224172982727 and parameters: {'n_estimators': 387, 'max_depth': 29, 'min_samples_split': 2, 'min_samples_leaf': 1, 'criterion': 'log_loss', 'max_features': 'sqrt', 'bootstrap': False}. Best is trial 478 with value: 0.9837539346557159.\n",
      "[I 2024-05-13 03:47:49,684] Trial 482 pruned. \n",
      "[I 2024-05-13 03:48:01,293] Trial 483 finished with value: 0.9834674477842972 and parameters: {'n_estimators': 387, 'max_depth': 30, 'min_samples_split': 2, 'min_samples_leaf': 1, 'criterion': 'log_loss', 'max_features': 'sqrt', 'bootstrap': False}. Best is trial 478 with value: 0.9837539346557159.\n",
      "[I 2024-05-13 03:48:13,077] Trial 484 finished with value: 0.9837644776577023 and parameters: {'n_estimators': 402, 'max_depth': 30, 'min_samples_split': 2, 'min_samples_leaf': 1, 'criterion': 'log_loss', 'max_features': 'sqrt', 'bootstrap': False}. Best is trial 484 with value: 0.9837644776577023.\n",
      "[I 2024-05-13 03:48:24,497] Trial 485 finished with value: 0.9834634492261886 and parameters: {'n_estimators': 386, 'max_depth': 30, 'min_samples_split': 2, 'min_samples_leaf': 1, 'criterion': 'log_loss', 'max_features': 'sqrt', 'bootstrap': False}. Best is trial 484 with value: 0.9837644776577023.\n",
      "[I 2024-05-13 03:48:35,794] Trial 486 finished with value: 0.9834048635066968 and parameters: {'n_estimators': 385, 'max_depth': 30, 'min_samples_split': 2, 'min_samples_leaf': 1, 'criterion': 'log_loss', 'max_features': 'sqrt', 'bootstrap': False}. Best is trial 484 with value: 0.9837644776577023.\n",
      "[I 2024-05-13 03:48:47,375] Trial 487 finished with value: 0.9835862487353717 and parameters: {'n_estimators': 392, 'max_depth': 30, 'min_samples_split': 2, 'min_samples_leaf': 1, 'criterion': 'log_loss', 'max_features': 'sqrt', 'bootstrap': False}. Best is trial 484 with value: 0.9837644776577023.\n",
      "[I 2024-05-13 03:48:59,034] Trial 488 finished with value: 0.9834652202520664 and parameters: {'n_estimators': 390, 'max_depth': 30, 'min_samples_split': 2, 'min_samples_leaf': 1, 'criterion': 'log_loss', 'max_features': 'sqrt', 'bootstrap': False}. Best is trial 484 with value: 0.9837644776577023.\n",
      "[I 2024-05-13 03:49:10,663] Trial 489 finished with value: 0.9835279068718041 and parameters: {'n_estimators': 393, 'max_depth': 30, 'min_samples_split': 2, 'min_samples_leaf': 1, 'criterion': 'log_loss', 'max_features': 'sqrt', 'bootstrap': False}. Best is trial 484 with value: 0.9837644776577023.\n",
      "[I 2024-05-13 03:49:22,323] Trial 490 finished with value: 0.9834693925143027 and parameters: {'n_estimators': 395, 'max_depth': 30, 'min_samples_split': 2, 'min_samples_leaf': 1, 'criterion': 'log_loss', 'max_features': 'sqrt', 'bootstrap': False}. Best is trial 484 with value: 0.9837644776577023.\n",
      "[I 2024-05-13 03:49:33,979] Trial 491 finished with value: 0.9834693925143027 and parameters: {'n_estimators': 395, 'max_depth': 30, 'min_samples_split': 2, 'min_samples_leaf': 1, 'criterion': 'log_loss', 'max_features': 'sqrt', 'bootstrap': False}. Best is trial 484 with value: 0.9837644776577023.\n",
      "[I 2024-05-13 03:49:45,753] Trial 492 finished with value: 0.9836436574599243 and parameters: {'n_estimators': 398, 'max_depth': 30, 'min_samples_split': 2, 'min_samples_leaf': 1, 'criterion': 'log_loss', 'max_features': 'sqrt', 'bootstrap': False}. Best is trial 484 with value: 0.9837644776577023.\n",
      "[I 2024-05-13 03:49:58,258] Trial 493 finished with value: 0.983648969124123 and parameters: {'n_estimators': 422, 'max_depth': 30, 'min_samples_split': 2, 'min_samples_leaf': 1, 'criterion': 'log_loss', 'max_features': 'sqrt', 'bootstrap': False}. Best is trial 484 with value: 0.9837644776577023.\n",
      "[I 2024-05-13 03:50:10,129] Trial 494 finished with value: 0.9836474103978137 and parameters: {'n_estimators': 401, 'max_depth': 30, 'min_samples_split': 2, 'min_samples_leaf': 1, 'criterion': 'log_loss', 'max_features': 'sqrt', 'bootstrap': False}. Best is trial 484 with value: 0.9837644776577023.\n",
      "[I 2024-05-13 03:50:15,077] Trial 495 pruned. \n",
      "[I 2024-05-13 03:50:26,952] Trial 496 finished with value: 0.9837061357941348 and parameters: {'n_estimators': 402, 'max_depth': 32, 'min_samples_split': 2, 'min_samples_leaf': 1, 'criterion': 'log_loss', 'max_features': 'sqrt', 'bootstrap': False}. Best is trial 484 with value: 0.9837644776577023.\n",
      "[I 2024-05-13 03:50:38,906] Trial 497 finished with value: 0.9837061357941348 and parameters: {'n_estimators': 403, 'max_depth': 32, 'min_samples_split': 2, 'min_samples_leaf': 1, 'criterion': 'log_loss', 'max_features': 'sqrt', 'bootstrap': False}. Best is trial 484 with value: 0.9837644776577023.\n",
      "[I 2024-05-13 03:50:51,555] Trial 498 finished with value: 0.9837075553804453 and parameters: {'n_estimators': 431, 'max_depth': 32, 'min_samples_split': 2, 'min_samples_leaf': 1, 'criterion': 'log_loss', 'max_features': 'sqrt', 'bootstrap': False}. Best is trial 484 with value: 0.9837644776577023.\n",
      "[I 2024-05-13 03:51:04,566] Trial 499 finished with value: 0.9836487252681986 and parameters: {'n_estimators': 438, 'max_depth': 32, 'min_samples_split': 2, 'min_samples_leaf': 1, 'criterion': 'log_loss', 'max_features': 'sqrt', 'bootstrap': False}. Best is trial 484 with value: 0.9837644776577023.\n"
     ]
    }
   ],
   "source": [
    "study_no_feat_eng.optimize(\n",
    "    objective_no_feat_eng, \n",
    "    n_trials=NUM_TRIALS,\n",
    "    timeout = 20 * 60 * 60, # timeout after 20 hours\n",
    "    show_progress_bar=True\n",
    ")"
   ]
  },
  {
   "cell_type": "code",
   "execution_count": 8,
   "metadata": {},
   "outputs": [
    {
     "name": "stdout",
     "output_type": "stream",
     "text": [
      "{'n_estimators': 402, 'max_depth': 30, 'min_samples_split': 2, 'min_samples_leaf': 1, 'criterion': 'log_loss', 'max_features': 'sqrt', 'bootstrap': False}\n"
     ]
    }
   ],
   "source": [
    "best_params = study_no_feat_eng.best_params\n",
    "    \n",
    "print(best_params)\n",
    "\n",
    "if \"random_forest_no_feat_eng\" in config:\n",
    "    config[\"random_forest_no_feat_eng\"].update(best_params)\n",
    "else:\n",
    "    config[\"random_forest_no_feat_eng\"] = best_params\n",
    "\n",
    "# see: https://stackoverflow.com/questions/12470665/how-can-i-write-data-in-yaml-format-in-a-file\n",
    "with open(\"classical_ml_config.yaml\", \"w\") as file:\n",
    "    yaml.dump(config, file, default_flow_style=False)"
   ]
  },
  {
   "cell_type": "code",
   "execution_count": 9,
   "metadata": {},
   "outputs": [
    {
     "data": {
      "application/vnd.plotly.v1+json": {
       "config": {
        "plotlyServerURL": "https://plot.ly"
       },
       "data": [
        {
         "cliponaxis": false,
         "hovertemplate": [
          "criterion (CategoricalDistribution): 0.004493379626625063<extra></extra>",
          "max_features (CategoricalDistribution): 0.01130550085599619<extra></extra>",
          "min_samples_split (IntDistribution): 0.01459040818081241<extra></extra>",
          "n_estimators (IntDistribution): 0.05652439217125371<extra></extra>",
          "max_depth (IntDistribution): 0.0740268011121118<extra></extra>",
          "bootstrap (CategoricalDistribution): 0.16312339516177102<extra></extra>",
          "min_samples_leaf (IntDistribution): 0.6759361228914299<extra></extra>"
         ],
         "name": "Objective Value",
         "orientation": "h",
         "text": [
          "<0.01",
          "0.01",
          "0.01",
          "0.06",
          "0.07",
          "0.16",
          "0.68"
         ],
         "textposition": "outside",
         "type": "bar",
         "x": [
          0.004493379626625063,
          0.01130550085599619,
          0.01459040818081241,
          0.05652439217125371,
          0.0740268011121118,
          0.16312339516177102,
          0.6759361228914299
         ],
         "y": [
          "criterion",
          "max_features",
          "min_samples_split",
          "n_estimators",
          "max_depth",
          "bootstrap",
          "min_samples_leaf"
         ]
        }
       ],
       "layout": {
        "template": {
         "data": {
          "bar": [
           {
            "error_x": {
             "color": "#2a3f5f"
            },
            "error_y": {
             "color": "#2a3f5f"
            },
            "marker": {
             "line": {
              "color": "#E5ECF6",
              "width": 0.5
             },
             "pattern": {
              "fillmode": "overlay",
              "size": 10,
              "solidity": 0.2
             }
            },
            "type": "bar"
           }
          ],
          "barpolar": [
           {
            "marker": {
             "line": {
              "color": "#E5ECF6",
              "width": 0.5
             },
             "pattern": {
              "fillmode": "overlay",
              "size": 10,
              "solidity": 0.2
             }
            },
            "type": "barpolar"
           }
          ],
          "carpet": [
           {
            "aaxis": {
             "endlinecolor": "#2a3f5f",
             "gridcolor": "white",
             "linecolor": "white",
             "minorgridcolor": "white",
             "startlinecolor": "#2a3f5f"
            },
            "baxis": {
             "endlinecolor": "#2a3f5f",
             "gridcolor": "white",
             "linecolor": "white",
             "minorgridcolor": "white",
             "startlinecolor": "#2a3f5f"
            },
            "type": "carpet"
           }
          ],
          "choropleth": [
           {
            "colorbar": {
             "outlinewidth": 0,
             "ticks": ""
            },
            "type": "choropleth"
           }
          ],
          "contour": [
           {
            "colorbar": {
             "outlinewidth": 0,
             "ticks": ""
            },
            "colorscale": [
             [
              0,
              "#0d0887"
             ],
             [
              0.1111111111111111,
              "#46039f"
             ],
             [
              0.2222222222222222,
              "#7201a8"
             ],
             [
              0.3333333333333333,
              "#9c179e"
             ],
             [
              0.4444444444444444,
              "#bd3786"
             ],
             [
              0.5555555555555556,
              "#d8576b"
             ],
             [
              0.6666666666666666,
              "#ed7953"
             ],
             [
              0.7777777777777778,
              "#fb9f3a"
             ],
             [
              0.8888888888888888,
              "#fdca26"
             ],
             [
              1,
              "#f0f921"
             ]
            ],
            "type": "contour"
           }
          ],
          "contourcarpet": [
           {
            "colorbar": {
             "outlinewidth": 0,
             "ticks": ""
            },
            "type": "contourcarpet"
           }
          ],
          "heatmap": [
           {
            "colorbar": {
             "outlinewidth": 0,
             "ticks": ""
            },
            "colorscale": [
             [
              0,
              "#0d0887"
             ],
             [
              0.1111111111111111,
              "#46039f"
             ],
             [
              0.2222222222222222,
              "#7201a8"
             ],
             [
              0.3333333333333333,
              "#9c179e"
             ],
             [
              0.4444444444444444,
              "#bd3786"
             ],
             [
              0.5555555555555556,
              "#d8576b"
             ],
             [
              0.6666666666666666,
              "#ed7953"
             ],
             [
              0.7777777777777778,
              "#fb9f3a"
             ],
             [
              0.8888888888888888,
              "#fdca26"
             ],
             [
              1,
              "#f0f921"
             ]
            ],
            "type": "heatmap"
           }
          ],
          "heatmapgl": [
           {
            "colorbar": {
             "outlinewidth": 0,
             "ticks": ""
            },
            "colorscale": [
             [
              0,
              "#0d0887"
             ],
             [
              0.1111111111111111,
              "#46039f"
             ],
             [
              0.2222222222222222,
              "#7201a8"
             ],
             [
              0.3333333333333333,
              "#9c179e"
             ],
             [
              0.4444444444444444,
              "#bd3786"
             ],
             [
              0.5555555555555556,
              "#d8576b"
             ],
             [
              0.6666666666666666,
              "#ed7953"
             ],
             [
              0.7777777777777778,
              "#fb9f3a"
             ],
             [
              0.8888888888888888,
              "#fdca26"
             ],
             [
              1,
              "#f0f921"
             ]
            ],
            "type": "heatmapgl"
           }
          ],
          "histogram": [
           {
            "marker": {
             "pattern": {
              "fillmode": "overlay",
              "size": 10,
              "solidity": 0.2
             }
            },
            "type": "histogram"
           }
          ],
          "histogram2d": [
           {
            "colorbar": {
             "outlinewidth": 0,
             "ticks": ""
            },
            "colorscale": [
             [
              0,
              "#0d0887"
             ],
             [
              0.1111111111111111,
              "#46039f"
             ],
             [
              0.2222222222222222,
              "#7201a8"
             ],
             [
              0.3333333333333333,
              "#9c179e"
             ],
             [
              0.4444444444444444,
              "#bd3786"
             ],
             [
              0.5555555555555556,
              "#d8576b"
             ],
             [
              0.6666666666666666,
              "#ed7953"
             ],
             [
              0.7777777777777778,
              "#fb9f3a"
             ],
             [
              0.8888888888888888,
              "#fdca26"
             ],
             [
              1,
              "#f0f921"
             ]
            ],
            "type": "histogram2d"
           }
          ],
          "histogram2dcontour": [
           {
            "colorbar": {
             "outlinewidth": 0,
             "ticks": ""
            },
            "colorscale": [
             [
              0,
              "#0d0887"
             ],
             [
              0.1111111111111111,
              "#46039f"
             ],
             [
              0.2222222222222222,
              "#7201a8"
             ],
             [
              0.3333333333333333,
              "#9c179e"
             ],
             [
              0.4444444444444444,
              "#bd3786"
             ],
             [
              0.5555555555555556,
              "#d8576b"
             ],
             [
              0.6666666666666666,
              "#ed7953"
             ],
             [
              0.7777777777777778,
              "#fb9f3a"
             ],
             [
              0.8888888888888888,
              "#fdca26"
             ],
             [
              1,
              "#f0f921"
             ]
            ],
            "type": "histogram2dcontour"
           }
          ],
          "mesh3d": [
           {
            "colorbar": {
             "outlinewidth": 0,
             "ticks": ""
            },
            "type": "mesh3d"
           }
          ],
          "parcoords": [
           {
            "line": {
             "colorbar": {
              "outlinewidth": 0,
              "ticks": ""
             }
            },
            "type": "parcoords"
           }
          ],
          "pie": [
           {
            "automargin": true,
            "type": "pie"
           }
          ],
          "scatter": [
           {
            "fillpattern": {
             "fillmode": "overlay",
             "size": 10,
             "solidity": 0.2
            },
            "type": "scatter"
           }
          ],
          "scatter3d": [
           {
            "line": {
             "colorbar": {
              "outlinewidth": 0,
              "ticks": ""
             }
            },
            "marker": {
             "colorbar": {
              "outlinewidth": 0,
              "ticks": ""
             }
            },
            "type": "scatter3d"
           }
          ],
          "scattercarpet": [
           {
            "marker": {
             "colorbar": {
              "outlinewidth": 0,
              "ticks": ""
             }
            },
            "type": "scattercarpet"
           }
          ],
          "scattergeo": [
           {
            "marker": {
             "colorbar": {
              "outlinewidth": 0,
              "ticks": ""
             }
            },
            "type": "scattergeo"
           }
          ],
          "scattergl": [
           {
            "marker": {
             "colorbar": {
              "outlinewidth": 0,
              "ticks": ""
             }
            },
            "type": "scattergl"
           }
          ],
          "scattermapbox": [
           {
            "marker": {
             "colorbar": {
              "outlinewidth": 0,
              "ticks": ""
             }
            },
            "type": "scattermapbox"
           }
          ],
          "scatterpolar": [
           {
            "marker": {
             "colorbar": {
              "outlinewidth": 0,
              "ticks": ""
             }
            },
            "type": "scatterpolar"
           }
          ],
          "scatterpolargl": [
           {
            "marker": {
             "colorbar": {
              "outlinewidth": 0,
              "ticks": ""
             }
            },
            "type": "scatterpolargl"
           }
          ],
          "scatterternary": [
           {
            "marker": {
             "colorbar": {
              "outlinewidth": 0,
              "ticks": ""
             }
            },
            "type": "scatterternary"
           }
          ],
          "surface": [
           {
            "colorbar": {
             "outlinewidth": 0,
             "ticks": ""
            },
            "colorscale": [
             [
              0,
              "#0d0887"
             ],
             [
              0.1111111111111111,
              "#46039f"
             ],
             [
              0.2222222222222222,
              "#7201a8"
             ],
             [
              0.3333333333333333,
              "#9c179e"
             ],
             [
              0.4444444444444444,
              "#bd3786"
             ],
             [
              0.5555555555555556,
              "#d8576b"
             ],
             [
              0.6666666666666666,
              "#ed7953"
             ],
             [
              0.7777777777777778,
              "#fb9f3a"
             ],
             [
              0.8888888888888888,
              "#fdca26"
             ],
             [
              1,
              "#f0f921"
             ]
            ],
            "type": "surface"
           }
          ],
          "table": [
           {
            "cells": {
             "fill": {
              "color": "#EBF0F8"
             },
             "line": {
              "color": "white"
             }
            },
            "header": {
             "fill": {
              "color": "#C8D4E3"
             },
             "line": {
              "color": "white"
             }
            },
            "type": "table"
           }
          ]
         },
         "layout": {
          "annotationdefaults": {
           "arrowcolor": "#2a3f5f",
           "arrowhead": 0,
           "arrowwidth": 1
          },
          "autotypenumbers": "strict",
          "coloraxis": {
           "colorbar": {
            "outlinewidth": 0,
            "ticks": ""
           }
          },
          "colorscale": {
           "diverging": [
            [
             0,
             "#8e0152"
            ],
            [
             0.1,
             "#c51b7d"
            ],
            [
             0.2,
             "#de77ae"
            ],
            [
             0.3,
             "#f1b6da"
            ],
            [
             0.4,
             "#fde0ef"
            ],
            [
             0.5,
             "#f7f7f7"
            ],
            [
             0.6,
             "#e6f5d0"
            ],
            [
             0.7,
             "#b8e186"
            ],
            [
             0.8,
             "#7fbc41"
            ],
            [
             0.9,
             "#4d9221"
            ],
            [
             1,
             "#276419"
            ]
           ],
           "sequential": [
            [
             0,
             "#0d0887"
            ],
            [
             0.1111111111111111,
             "#46039f"
            ],
            [
             0.2222222222222222,
             "#7201a8"
            ],
            [
             0.3333333333333333,
             "#9c179e"
            ],
            [
             0.4444444444444444,
             "#bd3786"
            ],
            [
             0.5555555555555556,
             "#d8576b"
            ],
            [
             0.6666666666666666,
             "#ed7953"
            ],
            [
             0.7777777777777778,
             "#fb9f3a"
            ],
            [
             0.8888888888888888,
             "#fdca26"
            ],
            [
             1,
             "#f0f921"
            ]
           ],
           "sequentialminus": [
            [
             0,
             "#0d0887"
            ],
            [
             0.1111111111111111,
             "#46039f"
            ],
            [
             0.2222222222222222,
             "#7201a8"
            ],
            [
             0.3333333333333333,
             "#9c179e"
            ],
            [
             0.4444444444444444,
             "#bd3786"
            ],
            [
             0.5555555555555556,
             "#d8576b"
            ],
            [
             0.6666666666666666,
             "#ed7953"
            ],
            [
             0.7777777777777778,
             "#fb9f3a"
            ],
            [
             0.8888888888888888,
             "#fdca26"
            ],
            [
             1,
             "#f0f921"
            ]
           ]
          },
          "colorway": [
           "#636efa",
           "#EF553B",
           "#00cc96",
           "#ab63fa",
           "#FFA15A",
           "#19d3f3",
           "#FF6692",
           "#B6E880",
           "#FF97FF",
           "#FECB52"
          ],
          "font": {
           "color": "#2a3f5f"
          },
          "geo": {
           "bgcolor": "white",
           "lakecolor": "white",
           "landcolor": "#E5ECF6",
           "showlakes": true,
           "showland": true,
           "subunitcolor": "white"
          },
          "hoverlabel": {
           "align": "left"
          },
          "hovermode": "closest",
          "mapbox": {
           "style": "light"
          },
          "paper_bgcolor": "white",
          "plot_bgcolor": "#E5ECF6",
          "polar": {
           "angularaxis": {
            "gridcolor": "white",
            "linecolor": "white",
            "ticks": ""
           },
           "bgcolor": "#E5ECF6",
           "radialaxis": {
            "gridcolor": "white",
            "linecolor": "white",
            "ticks": ""
           }
          },
          "scene": {
           "xaxis": {
            "backgroundcolor": "#E5ECF6",
            "gridcolor": "white",
            "gridwidth": 2,
            "linecolor": "white",
            "showbackground": true,
            "ticks": "",
            "zerolinecolor": "white"
           },
           "yaxis": {
            "backgroundcolor": "#E5ECF6",
            "gridcolor": "white",
            "gridwidth": 2,
            "linecolor": "white",
            "showbackground": true,
            "ticks": "",
            "zerolinecolor": "white"
           },
           "zaxis": {
            "backgroundcolor": "#E5ECF6",
            "gridcolor": "white",
            "gridwidth": 2,
            "linecolor": "white",
            "showbackground": true,
            "ticks": "",
            "zerolinecolor": "white"
           }
          },
          "shapedefaults": {
           "line": {
            "color": "#2a3f5f"
           }
          },
          "ternary": {
           "aaxis": {
            "gridcolor": "white",
            "linecolor": "white",
            "ticks": ""
           },
           "baxis": {
            "gridcolor": "white",
            "linecolor": "white",
            "ticks": ""
           },
           "bgcolor": "#E5ECF6",
           "caxis": {
            "gridcolor": "white",
            "linecolor": "white",
            "ticks": ""
           }
          },
          "title": {
           "x": 0.05
          },
          "xaxis": {
           "automargin": true,
           "gridcolor": "white",
           "linecolor": "white",
           "ticks": "",
           "title": {
            "standoff": 15
           },
           "zerolinecolor": "white",
           "zerolinewidth": 2
          },
          "yaxis": {
           "automargin": true,
           "gridcolor": "white",
           "linecolor": "white",
           "ticks": "",
           "title": {
            "standoff": 15
           },
           "zerolinecolor": "white",
           "zerolinewidth": 2
          }
         }
        },
        "title": {
         "text": "Hyperparameter Importances"
        },
        "xaxis": {
         "title": {
          "text": "Hyperparameter Importance"
         }
        },
        "yaxis": {
         "title": {
          "text": "Hyperparameter"
         }
        }
       }
      }
     },
     "metadata": {},
     "output_type": "display_data"
    }
   ],
   "source": [
    "p_importance_no_feat_eng = optuna.visualization.plot_param_importances(study_no_feat_eng)\n",
    "p_importance_no_feat_eng.show()"
   ]
  },
  {
   "cell_type": "code",
   "execution_count": 10,
   "metadata": {},
   "outputs": [
    {
     "data": {
      "application/vnd.plotly.v1+json": {
       "config": {
        "plotlyServerURL": "https://plot.ly"
       },
       "data": [
        {
         "mode": "markers",
         "name": "Objective Value",
         "type": "scatter",
         "x": [
          0,
          1,
          2,
          3,
          4,
          5,
          6,
          7,
          8,
          9,
          10,
          11,
          12,
          13,
          14,
          15,
          16,
          17,
          18,
          19,
          20,
          21,
          22,
          23,
          24,
          25,
          26,
          28,
          31,
          32,
          33,
          35,
          38,
          40,
          41,
          42,
          43,
          44,
          45,
          48,
          49,
          51,
          52,
          53,
          55,
          56,
          57,
          58,
          60,
          61,
          62,
          63,
          64,
          65,
          66,
          67,
          68,
          69,
          70,
          71,
          72,
          73,
          74,
          75,
          77,
          78,
          79,
          80,
          81,
          82,
          83,
          84,
          85,
          86,
          87,
          89,
          91,
          92,
          93,
          94,
          95,
          96,
          97,
          101,
          102,
          103,
          104,
          105,
          108,
          110,
          111,
          112,
          113,
          114,
          115,
          117,
          118,
          119,
          121,
          122,
          123,
          124,
          125,
          126,
          128,
          129,
          130,
          131,
          132,
          133,
          134,
          135,
          136,
          137,
          139,
          140,
          141,
          142,
          143,
          144,
          145,
          146,
          147,
          148,
          150,
          151,
          152,
          153,
          155,
          157,
          158,
          159,
          161,
          162,
          163,
          164,
          165,
          166,
          167,
          168,
          169,
          170,
          171,
          173,
          174,
          175,
          176,
          177,
          179,
          181,
          182,
          183,
          184,
          185,
          187,
          188,
          190,
          191,
          192,
          193,
          194,
          196,
          197,
          198,
          199,
          201,
          202,
          203,
          204,
          205,
          206,
          207,
          209,
          211,
          212,
          213,
          214,
          215,
          216,
          217,
          218,
          219,
          220,
          221,
          222,
          223,
          224,
          225,
          226,
          227,
          228,
          230,
          231,
          232,
          234,
          235,
          236,
          237,
          238,
          239,
          240,
          241,
          242,
          243,
          244,
          245,
          246,
          247,
          249,
          252,
          253,
          254,
          256,
          257,
          258,
          260,
          262,
          263,
          264,
          265,
          266,
          270,
          272,
          273,
          275,
          276,
          278,
          279,
          280,
          281,
          286,
          287,
          289,
          294,
          295,
          297,
          298,
          301,
          304,
          306,
          307,
          310,
          311,
          313,
          318,
          321,
          324,
          326,
          327,
          330,
          332,
          338,
          341,
          347,
          348,
          357,
          361,
          364,
          366,
          369,
          370,
          372,
          377,
          378,
          380,
          386,
          387,
          388,
          395,
          397,
          400,
          405,
          408,
          411,
          413,
          417,
          419,
          421,
          422,
          424,
          425,
          429,
          431,
          432,
          436,
          437,
          439,
          440,
          442,
          447,
          450,
          451,
          457,
          459,
          463,
          464,
          465,
          470,
          471,
          474,
          476,
          477,
          478,
          479,
          480,
          481,
          483,
          484,
          485,
          486,
          487,
          488,
          489,
          490,
          491,
          492,
          493,
          494,
          496,
          497,
          498,
          499
         ],
         "y": [
          0.9569141022666043,
          0.9745820069295019,
          0.9517243808293319,
          0.972773930680168,
          0.9590354806967852,
          0.9639067933580854,
          0.9584027215321456,
          0.9474639705749771,
          0.9539385164365578,
          0.9412432311462151,
          0.9775132056547525,
          0.9775131381755073,
          0.9774550826243615,
          0.9744367721222569,
          0.9769925667046835,
          0.9727350255886564,
          0.9784223313855647,
          0.9757187011153761,
          0.9692885049169842,
          0.9734584929061876,
          0.9745737229705342,
          0.9773917545680157,
          0.9770811137660196,
          0.9751137225764056,
          0.9786656745477249,
          0.9766496968184504,
          0.9763256263667583,
          0.9747404415979893,
          0.9781172448133546,
          0.9758549797877111,
          0.9784857055098184,
          0.9771178700983659,
          0.9797357383313479,
          0.9779098643586499,
          0.9787850205854312,
          0.9792043299969521,
          0.9795427264133008,
          0.9797853577625109,
          0.977348639692627,
          0.9786406941872405,
          0.979726690072529,
          0.9800320443705746,
          0.979543008083194,
          0.9794817696449647,
          0.9799041009724399,
          0.9777289273972251,
          0.9802414644219193,
          0.9802328352166831,
          0.9812663906037864,
          0.9812655387414744,
          0.9801694398783228,
          0.9812718292405791,
          0.9813267242507955,
          0.9810289225942321,
          0.9784867576417907,
          0.9823569268823593,
          0.9822299340205738,
          0.9821124026523351,
          0.9818199989295604,
          0.9823569268823593,
          0.9823569268823593,
          0.9822902682657692,
          0.9825328396836703,
          0.9813585853082397,
          0.9811033427109035,
          0.9817545706222637,
          0.9825751073331874,
          0.9815172566648119,
          0.981517257396938,
          0.9813145391379466,
          0.9821054900850896,
          0.9821691313053382,
          0.9791167881497247,
          0.9784630604784856,
          0.9795041694322482,
          0.9815789750785887,
          0.9821099809473818,
          0.9783677131870185,
          0.9821094435040205,
          0.9819368470121873,
          0.9795844805556918,
          0.9812136747026674,
          0.9803663265257805,
          0.9813223487239291,
          0.9815820802441622,
          0.9818045788159206,
          0.9804292558830051,
          0.9820584312876826,
          0.9820477810491053,
          0.9825962149459597,
          0.9823473655187094,
          0.9819955690894977,
          0.9814582439930136,
          0.982418616472226,
          0.9820431675579508,
          0.9813915848375411,
          0.9825382270693351,
          0.9827215402712358,
          0.9828824233049278,
          0.9829412638684006,
          0.9828240144553295,
          0.9830052929869773,
          0.9827117332272934,
          0.9827703944691644,
          0.982648917705451,
          0.9826491878106347,
          0.9825885329731812,
          0.9827137192149811,
          0.9825907500738719,
          0.9815004520418217,
          0.9827723713078977,
          0.9828286288275028,
          0.9826509700296173,
          0.9815639936783276,
          0.9824706489795878,
          0.9828271952072993,
          0.9829450815410345,
          0.982592193198603,
          0.9828271952072993,
          0.981202603869612,
          0.9825312895429816,
          0.9827645326363446,
          0.9813234550998986,
          0.9824778118228652,
          0.9826492286578132,
          0.9826537469818881,
          0.9825291332253048,
          0.98223452163602,
          0.9815636051272097,
          0.9823458100752873,
          0.9827102306090294,
          0.9822865246291661,
          0.9825351148330833,
          0.9827115635755505,
          0.982170399561489,
          0.9824675047591349,
          0.9814496471739161,
          0.9826494707522693,
          0.9822248794874273,
          0.9822911782435734,
          0.9827216635812519,
          0.9826028169844487,
          0.9827664190395196,
          0.9830638096117411,
          0.9826572319431774,
          0.9826525455086879,
          0.9815012248681858,
          0.982710038510102,
          0.9825873773309247,
          0.9828260681345788,
          0.9828324428496398,
          0.9827666859688741,
          0.9827086239426464,
          0.982242767346237,
          0.9827171319878408,
          0.9824678691908624,
          0.9828373932484127,
          0.982660383213253,
          0.9825382270693351,
          0.9821664953911571,
          0.9827196675204583,
          0.9829409448076017,
          0.9827090189052896,
          0.9827701576097609,
          0.9822916389319911,
          0.9827050034445065,
          0.9827102185892169,
          0.9827656427811047,
          0.9827723727043385,
          0.9825273503874492,
          0.9828241249419433,
          0.9827655639580047,
          0.9823528665334285,
          0.9827655639580047,
          0.982828140773852,
          0.9827103847039108,
          0.9824765310840411,
          0.9828867745185523,
          0.982652754533911,
          0.9823564694730212,
          0.9825280705257804,
          0.9826493686547243,
          0.9829489263075768,
          0.9828825720280104,
          0.9830052216076084,
          0.9828869526657021,
          0.9828823098846913,
          0.9829465755810107,
          0.9830047445798884,
          0.9826459712618278,
          0.9831193771476299,
          0.9829465755810107,
          0.9829485132277951,
          0.9831776936328058,
          0.9831776936328058,
          0.9829443192264143,
          0.9827713441177972,
          0.9826469234259319,
          0.9828320614455783,
          0.9822801513459662,
          0.9827088070657041,
          0.9831233367180839,
          0.9830610052274681,
          0.9830609672525391,
          0.9831190919240302,
          0.9830610052274681,
          0.9830607971305254,
          0.9825303779171849,
          0.9831256752640778,
          0.9831256752640778,
          0.9823523291753228,
          0.9829484407135712,
          0.9829465755810107,
          0.9830649201784188,
          0.9825224033528418,
          0.9831253873901714,
          0.98306715727585,
          0.98306715727585,
          0.9831274696852832,
          0.9827687601177759,
          0.9827102878700679,
          0.9831172311854051,
          0.982528695223475,
          0.98253158688975,
          0.9834583825625766,
          0.9834587415044063,
          0.9834564764064524,
          0.9831607870777747,
          0.983223305220579,
          0.9829208143088151,
          0.9832188068615902,
          0.9830998950087789,
          0.98340023303567,
          0.983518666029773,
          0.9833337134045147,
          0.9832815975241518,
          0.9831663032604275,
          0.9832891357705978,
          0.9832851737910699,
          0.9833943500582023,
          0.9833402952811617,
          0.982564630525404,
          0.983042160339442,
          0.9834580264808859,
          0.9833987410142223,
          0.9832795514198187,
          0.9832832271885057,
          0.9832800465670223,
          0.9833987410142223,
          0.983223262989003,
          0.9831025879043352,
          0.9832250338677208,
          0.9827334607136973,
          0.983107894820427,
          0.9832156118975698,
          0.9832124999633717,
          0.983223262989003,
          0.9835783569956489,
          0.9831621314410579,
          0.9833361121650638,
          0.9831044691342944,
          0.9830943052416735,
          0.9833984498525048,
          0.9828641712262961,
          0.9832701957774139,
          0.9832773603726904,
          0.9827964841373718,
          0.9835781405895683,
          0.9835803701946124,
          0.9827298533578277,
          0.9833409254626366,
          0.983224583230581,
          0.9833397663571215,
          0.9831647464680913,
          0.9828505657825619,
          0.9831604719342047,
          0.9832203217252309,
          0.9833384911165812,
          0.9832740666998389,
          0.9833409339493553,
          0.9832183138273228,
          0.9832221563656034,
          0.9837510017615418,
          0.9832857114326259,
          0.9829772979373426,
          0.983283091996819,
          0.9833964774010674,
          0.9833434563764148,
          0.982972310351987,
          0.9827943209251364,
          0.9830915669237328,
          0.9833962652411644,
          0.9833411393731393,
          0.9836906044185826,
          0.9833453256206072,
          0.9835764776713104,
          0.9833456045367163,
          0.9836402014172553,
          0.9834006476729705,
          0.9836951743598545,
          0.9835211892185048,
          0.9835742695913545,
          0.9837539346557159,
          0.9835862487353717,
          0.9834048635066968,
          0.9835224172982727,
          0.9834674477842972,
          0.9837644776577023,
          0.9834634492261886,
          0.9834048635066968,
          0.9835862487353717,
          0.9834652202520664,
          0.9835279068718041,
          0.9834693925143027,
          0.9834693925143027,
          0.9836436574599243,
          0.983648969124123,
          0.9836474103978137,
          0.9837061357941348,
          0.9837061357941348,
          0.9837075553804453,
          0.9836487252681986
         ]
        },
        {
         "mode": "lines",
         "name": "Best Value",
         "type": "scatter",
         "x": [
          0,
          1,
          2,
          3,
          4,
          5,
          6,
          7,
          8,
          9,
          10,
          11,
          12,
          13,
          14,
          15,
          16,
          17,
          18,
          19,
          20,
          21,
          22,
          23,
          24,
          25,
          26,
          27,
          28,
          29,
          30,
          31,
          32,
          33,
          34,
          35,
          36,
          37,
          38,
          39,
          40,
          41,
          42,
          43,
          44,
          45,
          46,
          47,
          48,
          49,
          50,
          51,
          52,
          53,
          54,
          55,
          56,
          57,
          58,
          59,
          60,
          61,
          62,
          63,
          64,
          65,
          66,
          67,
          68,
          69,
          70,
          71,
          72,
          73,
          74,
          75,
          76,
          77,
          78,
          79,
          80,
          81,
          82,
          83,
          84,
          85,
          86,
          87,
          88,
          89,
          90,
          91,
          92,
          93,
          94,
          95,
          96,
          97,
          98,
          99,
          100,
          101,
          102,
          103,
          104,
          105,
          106,
          107,
          108,
          109,
          110,
          111,
          112,
          113,
          114,
          115,
          116,
          117,
          118,
          119,
          120,
          121,
          122,
          123,
          124,
          125,
          126,
          127,
          128,
          129,
          130,
          131,
          132,
          133,
          134,
          135,
          136,
          137,
          138,
          139,
          140,
          141,
          142,
          143,
          144,
          145,
          146,
          147,
          148,
          149,
          150,
          151,
          152,
          153,
          154,
          155,
          156,
          157,
          158,
          159,
          160,
          161,
          162,
          163,
          164,
          165,
          166,
          167,
          168,
          169,
          170,
          171,
          172,
          173,
          174,
          175,
          176,
          177,
          178,
          179,
          180,
          181,
          182,
          183,
          184,
          185,
          186,
          187,
          188,
          189,
          190,
          191,
          192,
          193,
          194,
          195,
          196,
          197,
          198,
          199,
          200,
          201,
          202,
          203,
          204,
          205,
          206,
          207,
          208,
          209,
          210,
          211,
          212,
          213,
          214,
          215,
          216,
          217,
          218,
          219,
          220,
          221,
          222,
          223,
          224,
          225,
          226,
          227,
          228,
          229,
          230,
          231,
          232,
          233,
          234,
          235,
          236,
          237,
          238,
          239,
          240,
          241,
          242,
          243,
          244,
          245,
          246,
          247,
          248,
          249,
          250,
          251,
          252,
          253,
          254,
          255,
          256,
          257,
          258,
          259,
          260,
          261,
          262,
          263,
          264,
          265,
          266,
          267,
          268,
          269,
          270,
          271,
          272,
          273,
          274,
          275,
          276,
          277,
          278,
          279,
          280,
          281,
          282,
          283,
          284,
          285,
          286,
          287,
          288,
          289,
          290,
          291,
          292,
          293,
          294,
          295,
          296,
          297,
          298,
          299,
          300,
          301,
          302,
          303,
          304,
          305,
          306,
          307,
          308,
          309,
          310,
          311,
          312,
          313,
          314,
          315,
          316,
          317,
          318,
          319,
          320,
          321,
          322,
          323,
          324,
          325,
          326,
          327,
          328,
          329,
          330,
          331,
          332,
          333,
          334,
          335,
          336,
          337,
          338,
          339,
          340,
          341,
          342,
          343,
          344,
          345,
          346,
          347,
          348,
          349,
          350,
          351,
          352,
          353,
          354,
          355,
          356,
          357,
          358,
          359,
          360,
          361,
          362,
          363,
          364,
          365,
          366,
          367,
          368,
          369,
          370,
          371,
          372,
          373,
          374,
          375,
          376,
          377,
          378,
          379,
          380,
          381,
          382,
          383,
          384,
          385,
          386,
          387,
          388,
          389,
          390,
          391,
          392,
          393,
          394,
          395,
          396,
          397,
          398,
          399,
          400,
          401,
          402,
          403,
          404,
          405,
          406,
          407,
          408,
          409,
          410,
          411,
          412,
          413,
          414,
          415,
          416,
          417,
          418,
          419,
          420,
          421,
          422,
          423,
          424,
          425,
          426,
          427,
          428,
          429,
          430,
          431,
          432,
          433,
          434,
          435,
          436,
          437,
          438,
          439,
          440,
          441,
          442,
          443,
          444,
          445,
          446,
          447,
          448,
          449,
          450,
          451,
          452,
          453,
          454,
          455,
          456,
          457,
          458,
          459,
          460,
          461,
          462,
          463,
          464,
          465,
          466,
          467,
          468,
          469,
          470,
          471,
          472,
          473,
          474,
          475,
          476,
          477,
          478,
          479,
          480,
          481,
          482,
          483,
          484,
          485,
          486,
          487,
          488,
          489,
          490,
          491,
          492,
          493,
          494,
          495,
          496,
          497,
          498,
          499
         ],
         "y": [
          0.9569141022666043,
          0.9745820069295019,
          0.9745820069295019,
          0.9745820069295019,
          0.9745820069295019,
          0.9745820069295019,
          0.9745820069295019,
          0.9745820069295019,
          0.9745820069295019,
          0.9745820069295019,
          0.9775132056547525,
          0.9775132056547525,
          0.9775132056547525,
          0.9775132056547525,
          0.9775132056547525,
          0.9775132056547525,
          0.9784223313855647,
          0.9784223313855647,
          0.9784223313855647,
          0.9784223313855647,
          0.9784223313855647,
          0.9784223313855647,
          0.9784223313855647,
          0.9784223313855647,
          0.9786656745477249,
          0.9786656745477249,
          0.9786656745477249,
          0.9786656745477249,
          0.9786656745477249,
          0.9786656745477249,
          0.9786656745477249,
          0.9786656745477249,
          0.9786656745477249,
          0.9786656745477249,
          0.9786656745477249,
          0.9786656745477249,
          0.9786656745477249,
          0.9786656745477249,
          0.9797357383313479,
          0.9797357383313479,
          0.9797357383313479,
          0.9797357383313479,
          0.9797357383313479,
          0.9797357383313479,
          0.9797853577625109,
          0.9797853577625109,
          0.9797853577625109,
          0.9797853577625109,
          0.9797853577625109,
          0.9797853577625109,
          0.9797853577625109,
          0.9800320443705746,
          0.9800320443705746,
          0.9800320443705746,
          0.9800320443705746,
          0.9800320443705746,
          0.9800320443705746,
          0.9802414644219193,
          0.9802414644219193,
          0.9802414644219193,
          0.9812663906037864,
          0.9812663906037864,
          0.9812663906037864,
          0.9812718292405791,
          0.9813267242507955,
          0.9813267242507955,
          0.9813267242507955,
          0.9823569268823593,
          0.9823569268823593,
          0.9823569268823593,
          0.9823569268823593,
          0.9823569268823593,
          0.9823569268823593,
          0.9823569268823593,
          0.9825328396836703,
          0.9825328396836703,
          0.9825328396836703,
          0.9825328396836703,
          0.9825328396836703,
          0.9825751073331874,
          0.9825751073331874,
          0.9825751073331874,
          0.9825751073331874,
          0.9825751073331874,
          0.9825751073331874,
          0.9825751073331874,
          0.9825751073331874,
          0.9825751073331874,
          0.9825751073331874,
          0.9825751073331874,
          0.9825751073331874,
          0.9825751073331874,
          0.9825751073331874,
          0.9825751073331874,
          0.9825751073331874,
          0.9825751073331874,
          0.9825751073331874,
          0.9825751073331874,
          0.9825751073331874,
          0.9825751073331874,
          0.9825751073331874,
          0.9825751073331874,
          0.9825751073331874,
          0.9825751073331874,
          0.9825751073331874,
          0.9825751073331874,
          0.9825751073331874,
          0.9825751073331874,
          0.9825751073331874,
          0.9825751073331874,
          0.9825962149459597,
          0.9825962149459597,
          0.9825962149459597,
          0.9825962149459597,
          0.9825962149459597,
          0.9825962149459597,
          0.9825962149459597,
          0.9825962149459597,
          0.9825962149459597,
          0.9827215402712358,
          0.9827215402712358,
          0.9828824233049278,
          0.9829412638684006,
          0.9829412638684006,
          0.9830052929869773,
          0.9830052929869773,
          0.9830052929869773,
          0.9830052929869773,
          0.9830052929869773,
          0.9830052929869773,
          0.9830052929869773,
          0.9830052929869773,
          0.9830052929869773,
          0.9830052929869773,
          0.9830052929869773,
          0.9830052929869773,
          0.9830052929869773,
          0.9830052929869773,
          0.9830052929869773,
          0.9830052929869773,
          0.9830052929869773,
          0.9830052929869773,
          0.9830052929869773,
          0.9830052929869773,
          0.9830052929869773,
          0.9830052929869773,
          0.9830052929869773,
          0.9830052929869773,
          0.9830052929869773,
          0.9830052929869773,
          0.9830052929869773,
          0.9830052929869773,
          0.9830052929869773,
          0.9830052929869773,
          0.9830052929869773,
          0.9830052929869773,
          0.9830052929869773,
          0.9830052929869773,
          0.9830052929869773,
          0.9830052929869773,
          0.9830052929869773,
          0.9830052929869773,
          0.9830052929869773,
          0.9830052929869773,
          0.9830052929869773,
          0.9830052929869773,
          0.9830052929869773,
          0.9830052929869773,
          0.9830052929869773,
          0.9830052929869773,
          0.9830052929869773,
          0.9830052929869773,
          0.9830052929869773,
          0.9830638096117411,
          0.9830638096117411,
          0.9830638096117411,
          0.9830638096117411,
          0.9830638096117411,
          0.9830638096117411,
          0.9830638096117411,
          0.9830638096117411,
          0.9830638096117411,
          0.9830638096117411,
          0.9830638096117411,
          0.9830638096117411,
          0.9830638096117411,
          0.9830638096117411,
          0.9830638096117411,
          0.9830638096117411,
          0.9830638096117411,
          0.9830638096117411,
          0.9830638096117411,
          0.9830638096117411,
          0.9830638096117411,
          0.9830638096117411,
          0.9830638096117411,
          0.9830638096117411,
          0.9830638096117411,
          0.9830638096117411,
          0.9830638096117411,
          0.9830638096117411,
          0.9830638096117411,
          0.9830638096117411,
          0.9830638096117411,
          0.9830638096117411,
          0.9830638096117411,
          0.9830638096117411,
          0.9830638096117411,
          0.9830638096117411,
          0.9830638096117411,
          0.9830638096117411,
          0.9830638096117411,
          0.9830638096117411,
          0.9830638096117411,
          0.9830638096117411,
          0.9830638096117411,
          0.9830638096117411,
          0.9830638096117411,
          0.9830638096117411,
          0.9830638096117411,
          0.9830638096117411,
          0.9830638096117411,
          0.9830638096117411,
          0.9830638096117411,
          0.9830638096117411,
          0.9830638096117411,
          0.9830638096117411,
          0.9830638096117411,
          0.9831193771476299,
          0.9831193771476299,
          0.9831193771476299,
          0.9831193771476299,
          0.9831776936328058,
          0.9831776936328058,
          0.9831776936328058,
          0.9831776936328058,
          0.9831776936328058,
          0.9831776936328058,
          0.9831776936328058,
          0.9831776936328058,
          0.9831776936328058,
          0.9831776936328058,
          0.9831776936328058,
          0.9831776936328058,
          0.9831776936328058,
          0.9831776936328058,
          0.9831776936328058,
          0.9831776936328058,
          0.9831776936328058,
          0.9831776936328058,
          0.9831776936328058,
          0.9831776936328058,
          0.9831776936328058,
          0.9831776936328058,
          0.9831776936328058,
          0.9831776936328058,
          0.9831776936328058,
          0.9831776936328058,
          0.9831776936328058,
          0.9831776936328058,
          0.9831776936328058,
          0.9831776936328058,
          0.9831776936328058,
          0.9831776936328058,
          0.9831776936328058,
          0.9831776936328058,
          0.9831776936328058,
          0.9831776936328058,
          0.9831776936328058,
          0.9831776936328058,
          0.9831776936328058,
          0.9831776936328058,
          0.9831776936328058,
          0.9831776936328058,
          0.9831776936328058,
          0.9834583825625766,
          0.9834587415044063,
          0.9834587415044063,
          0.9834587415044063,
          0.9834587415044063,
          0.9834587415044063,
          0.9834587415044063,
          0.9834587415044063,
          0.9834587415044063,
          0.9834587415044063,
          0.9834587415044063,
          0.9834587415044063,
          0.9834587415044063,
          0.9834587415044063,
          0.9834587415044063,
          0.9834587415044063,
          0.9834587415044063,
          0.9834587415044063,
          0.9834587415044063,
          0.983518666029773,
          0.983518666029773,
          0.983518666029773,
          0.983518666029773,
          0.983518666029773,
          0.983518666029773,
          0.983518666029773,
          0.983518666029773,
          0.983518666029773,
          0.983518666029773,
          0.983518666029773,
          0.983518666029773,
          0.983518666029773,
          0.983518666029773,
          0.983518666029773,
          0.983518666029773,
          0.983518666029773,
          0.983518666029773,
          0.983518666029773,
          0.983518666029773,
          0.983518666029773,
          0.983518666029773,
          0.983518666029773,
          0.983518666029773,
          0.983518666029773,
          0.983518666029773,
          0.983518666029773,
          0.983518666029773,
          0.983518666029773,
          0.983518666029773,
          0.983518666029773,
          0.983518666029773,
          0.983518666029773,
          0.983518666029773,
          0.983518666029773,
          0.983518666029773,
          0.983518666029773,
          0.983518666029773,
          0.983518666029773,
          0.983518666029773,
          0.983518666029773,
          0.983518666029773,
          0.983518666029773,
          0.983518666029773,
          0.983518666029773,
          0.983518666029773,
          0.983518666029773,
          0.983518666029773,
          0.983518666029773,
          0.983518666029773,
          0.983518666029773,
          0.983518666029773,
          0.983518666029773,
          0.983518666029773,
          0.983518666029773,
          0.983518666029773,
          0.983518666029773,
          0.983518666029773,
          0.983518666029773,
          0.983518666029773,
          0.983518666029773,
          0.983518666029773,
          0.983518666029773,
          0.983518666029773,
          0.983518666029773,
          0.983518666029773,
          0.983518666029773,
          0.983518666029773,
          0.983518666029773,
          0.983518666029773,
          0.9835783569956489,
          0.9835783569956489,
          0.9835783569956489,
          0.9835783569956489,
          0.9835783569956489,
          0.9835783569956489,
          0.9835783569956489,
          0.9835783569956489,
          0.9835783569956489,
          0.9835783569956489,
          0.9835783569956489,
          0.9835783569956489,
          0.9835783569956489,
          0.9835783569956489,
          0.9835783569956489,
          0.9835783569956489,
          0.9835783569956489,
          0.9835783569956489,
          0.9835783569956489,
          0.9835783569956489,
          0.9835783569956489,
          0.9835783569956489,
          0.9835783569956489,
          0.9835783569956489,
          0.9835783569956489,
          0.9835783569956489,
          0.9835783569956489,
          0.9835783569956489,
          0.9835783569956489,
          0.9835783569956489,
          0.9835783569956489,
          0.9835803701946124,
          0.9835803701946124,
          0.9835803701946124,
          0.9835803701946124,
          0.9835803701946124,
          0.9835803701946124,
          0.9835803701946124,
          0.9835803701946124,
          0.9835803701946124,
          0.9835803701946124,
          0.9835803701946124,
          0.9835803701946124,
          0.9835803701946124,
          0.9835803701946124,
          0.9835803701946124,
          0.9835803701946124,
          0.9835803701946124,
          0.9835803701946124,
          0.9835803701946124,
          0.9835803701946124,
          0.9835803701946124,
          0.9835803701946124,
          0.9835803701946124,
          0.9835803701946124,
          0.9835803701946124,
          0.9835803701946124,
          0.9835803701946124,
          0.9835803701946124,
          0.9835803701946124,
          0.9835803701946124,
          0.9835803701946124,
          0.9835803701946124,
          0.9835803701946124,
          0.9835803701946124,
          0.9835803701946124,
          0.9835803701946124,
          0.9837510017615418,
          0.9837510017615418,
          0.9837510017615418,
          0.9837510017615418,
          0.9837510017615418,
          0.9837510017615418,
          0.9837510017615418,
          0.9837510017615418,
          0.9837510017615418,
          0.9837510017615418,
          0.9837510017615418,
          0.9837510017615418,
          0.9837510017615418,
          0.9837510017615418,
          0.9837510017615418,
          0.9837510017615418,
          0.9837510017615418,
          0.9837510017615418,
          0.9837510017615418,
          0.9837510017615418,
          0.9837510017615418,
          0.9837510017615418,
          0.9837510017615418,
          0.9837510017615418,
          0.9837510017615418,
          0.9837510017615418,
          0.9837510017615418,
          0.9837510017615418,
          0.9837510017615418,
          0.9837510017615418,
          0.9837510017615418,
          0.9837510017615418,
          0.9837510017615418,
          0.9837510017615418,
          0.9837510017615418,
          0.9837510017615418,
          0.9837510017615418,
          0.9837510017615418,
          0.9837510017615418,
          0.9837510017615418,
          0.9837510017615418,
          0.9837510017615418,
          0.9837510017615418,
          0.9837510017615418,
          0.9837510017615418,
          0.9837510017615418,
          0.9837510017615418,
          0.9837539346557159,
          0.9837539346557159,
          0.9837539346557159,
          0.9837539346557159,
          0.9837539346557159,
          0.9837539346557159,
          0.9837644776577023,
          0.9837644776577023,
          0.9837644776577023,
          0.9837644776577023,
          0.9837644776577023,
          0.9837644776577023,
          0.9837644776577023,
          0.9837644776577023,
          0.9837644776577023,
          0.9837644776577023,
          0.9837644776577023,
          0.9837644776577023,
          0.9837644776577023,
          0.9837644776577023,
          0.9837644776577023,
          0.9837644776577023
         ]
        },
        {
         "marker": {
          "color": "#cccccc"
         },
         "mode": "markers",
         "name": "Infeasible Trial",
         "showlegend": false,
         "type": "scatter",
         "x": [],
         "y": []
        }
       ],
       "layout": {
        "template": {
         "data": {
          "bar": [
           {
            "error_x": {
             "color": "#2a3f5f"
            },
            "error_y": {
             "color": "#2a3f5f"
            },
            "marker": {
             "line": {
              "color": "#E5ECF6",
              "width": 0.5
             },
             "pattern": {
              "fillmode": "overlay",
              "size": 10,
              "solidity": 0.2
             }
            },
            "type": "bar"
           }
          ],
          "barpolar": [
           {
            "marker": {
             "line": {
              "color": "#E5ECF6",
              "width": 0.5
             },
             "pattern": {
              "fillmode": "overlay",
              "size": 10,
              "solidity": 0.2
             }
            },
            "type": "barpolar"
           }
          ],
          "carpet": [
           {
            "aaxis": {
             "endlinecolor": "#2a3f5f",
             "gridcolor": "white",
             "linecolor": "white",
             "minorgridcolor": "white",
             "startlinecolor": "#2a3f5f"
            },
            "baxis": {
             "endlinecolor": "#2a3f5f",
             "gridcolor": "white",
             "linecolor": "white",
             "minorgridcolor": "white",
             "startlinecolor": "#2a3f5f"
            },
            "type": "carpet"
           }
          ],
          "choropleth": [
           {
            "colorbar": {
             "outlinewidth": 0,
             "ticks": ""
            },
            "type": "choropleth"
           }
          ],
          "contour": [
           {
            "colorbar": {
             "outlinewidth": 0,
             "ticks": ""
            },
            "colorscale": [
             [
              0,
              "#0d0887"
             ],
             [
              0.1111111111111111,
              "#46039f"
             ],
             [
              0.2222222222222222,
              "#7201a8"
             ],
             [
              0.3333333333333333,
              "#9c179e"
             ],
             [
              0.4444444444444444,
              "#bd3786"
             ],
             [
              0.5555555555555556,
              "#d8576b"
             ],
             [
              0.6666666666666666,
              "#ed7953"
             ],
             [
              0.7777777777777778,
              "#fb9f3a"
             ],
             [
              0.8888888888888888,
              "#fdca26"
             ],
             [
              1,
              "#f0f921"
             ]
            ],
            "type": "contour"
           }
          ],
          "contourcarpet": [
           {
            "colorbar": {
             "outlinewidth": 0,
             "ticks": ""
            },
            "type": "contourcarpet"
           }
          ],
          "heatmap": [
           {
            "colorbar": {
             "outlinewidth": 0,
             "ticks": ""
            },
            "colorscale": [
             [
              0,
              "#0d0887"
             ],
             [
              0.1111111111111111,
              "#46039f"
             ],
             [
              0.2222222222222222,
              "#7201a8"
             ],
             [
              0.3333333333333333,
              "#9c179e"
             ],
             [
              0.4444444444444444,
              "#bd3786"
             ],
             [
              0.5555555555555556,
              "#d8576b"
             ],
             [
              0.6666666666666666,
              "#ed7953"
             ],
             [
              0.7777777777777778,
              "#fb9f3a"
             ],
             [
              0.8888888888888888,
              "#fdca26"
             ],
             [
              1,
              "#f0f921"
             ]
            ],
            "type": "heatmap"
           }
          ],
          "heatmapgl": [
           {
            "colorbar": {
             "outlinewidth": 0,
             "ticks": ""
            },
            "colorscale": [
             [
              0,
              "#0d0887"
             ],
             [
              0.1111111111111111,
              "#46039f"
             ],
             [
              0.2222222222222222,
              "#7201a8"
             ],
             [
              0.3333333333333333,
              "#9c179e"
             ],
             [
              0.4444444444444444,
              "#bd3786"
             ],
             [
              0.5555555555555556,
              "#d8576b"
             ],
             [
              0.6666666666666666,
              "#ed7953"
             ],
             [
              0.7777777777777778,
              "#fb9f3a"
             ],
             [
              0.8888888888888888,
              "#fdca26"
             ],
             [
              1,
              "#f0f921"
             ]
            ],
            "type": "heatmapgl"
           }
          ],
          "histogram": [
           {
            "marker": {
             "pattern": {
              "fillmode": "overlay",
              "size": 10,
              "solidity": 0.2
             }
            },
            "type": "histogram"
           }
          ],
          "histogram2d": [
           {
            "colorbar": {
             "outlinewidth": 0,
             "ticks": ""
            },
            "colorscale": [
             [
              0,
              "#0d0887"
             ],
             [
              0.1111111111111111,
              "#46039f"
             ],
             [
              0.2222222222222222,
              "#7201a8"
             ],
             [
              0.3333333333333333,
              "#9c179e"
             ],
             [
              0.4444444444444444,
              "#bd3786"
             ],
             [
              0.5555555555555556,
              "#d8576b"
             ],
             [
              0.6666666666666666,
              "#ed7953"
             ],
             [
              0.7777777777777778,
              "#fb9f3a"
             ],
             [
              0.8888888888888888,
              "#fdca26"
             ],
             [
              1,
              "#f0f921"
             ]
            ],
            "type": "histogram2d"
           }
          ],
          "histogram2dcontour": [
           {
            "colorbar": {
             "outlinewidth": 0,
             "ticks": ""
            },
            "colorscale": [
             [
              0,
              "#0d0887"
             ],
             [
              0.1111111111111111,
              "#46039f"
             ],
             [
              0.2222222222222222,
              "#7201a8"
             ],
             [
              0.3333333333333333,
              "#9c179e"
             ],
             [
              0.4444444444444444,
              "#bd3786"
             ],
             [
              0.5555555555555556,
              "#d8576b"
             ],
             [
              0.6666666666666666,
              "#ed7953"
             ],
             [
              0.7777777777777778,
              "#fb9f3a"
             ],
             [
              0.8888888888888888,
              "#fdca26"
             ],
             [
              1,
              "#f0f921"
             ]
            ],
            "type": "histogram2dcontour"
           }
          ],
          "mesh3d": [
           {
            "colorbar": {
             "outlinewidth": 0,
             "ticks": ""
            },
            "type": "mesh3d"
           }
          ],
          "parcoords": [
           {
            "line": {
             "colorbar": {
              "outlinewidth": 0,
              "ticks": ""
             }
            },
            "type": "parcoords"
           }
          ],
          "pie": [
           {
            "automargin": true,
            "type": "pie"
           }
          ],
          "scatter": [
           {
            "fillpattern": {
             "fillmode": "overlay",
             "size": 10,
             "solidity": 0.2
            },
            "type": "scatter"
           }
          ],
          "scatter3d": [
           {
            "line": {
             "colorbar": {
              "outlinewidth": 0,
              "ticks": ""
             }
            },
            "marker": {
             "colorbar": {
              "outlinewidth": 0,
              "ticks": ""
             }
            },
            "type": "scatter3d"
           }
          ],
          "scattercarpet": [
           {
            "marker": {
             "colorbar": {
              "outlinewidth": 0,
              "ticks": ""
             }
            },
            "type": "scattercarpet"
           }
          ],
          "scattergeo": [
           {
            "marker": {
             "colorbar": {
              "outlinewidth": 0,
              "ticks": ""
             }
            },
            "type": "scattergeo"
           }
          ],
          "scattergl": [
           {
            "marker": {
             "colorbar": {
              "outlinewidth": 0,
              "ticks": ""
             }
            },
            "type": "scattergl"
           }
          ],
          "scattermapbox": [
           {
            "marker": {
             "colorbar": {
              "outlinewidth": 0,
              "ticks": ""
             }
            },
            "type": "scattermapbox"
           }
          ],
          "scatterpolar": [
           {
            "marker": {
             "colorbar": {
              "outlinewidth": 0,
              "ticks": ""
             }
            },
            "type": "scatterpolar"
           }
          ],
          "scatterpolargl": [
           {
            "marker": {
             "colorbar": {
              "outlinewidth": 0,
              "ticks": ""
             }
            },
            "type": "scatterpolargl"
           }
          ],
          "scatterternary": [
           {
            "marker": {
             "colorbar": {
              "outlinewidth": 0,
              "ticks": ""
             }
            },
            "type": "scatterternary"
           }
          ],
          "surface": [
           {
            "colorbar": {
             "outlinewidth": 0,
             "ticks": ""
            },
            "colorscale": [
             [
              0,
              "#0d0887"
             ],
             [
              0.1111111111111111,
              "#46039f"
             ],
             [
              0.2222222222222222,
              "#7201a8"
             ],
             [
              0.3333333333333333,
              "#9c179e"
             ],
             [
              0.4444444444444444,
              "#bd3786"
             ],
             [
              0.5555555555555556,
              "#d8576b"
             ],
             [
              0.6666666666666666,
              "#ed7953"
             ],
             [
              0.7777777777777778,
              "#fb9f3a"
             ],
             [
              0.8888888888888888,
              "#fdca26"
             ],
             [
              1,
              "#f0f921"
             ]
            ],
            "type": "surface"
           }
          ],
          "table": [
           {
            "cells": {
             "fill": {
              "color": "#EBF0F8"
             },
             "line": {
              "color": "white"
             }
            },
            "header": {
             "fill": {
              "color": "#C8D4E3"
             },
             "line": {
              "color": "white"
             }
            },
            "type": "table"
           }
          ]
         },
         "layout": {
          "annotationdefaults": {
           "arrowcolor": "#2a3f5f",
           "arrowhead": 0,
           "arrowwidth": 1
          },
          "autotypenumbers": "strict",
          "coloraxis": {
           "colorbar": {
            "outlinewidth": 0,
            "ticks": ""
           }
          },
          "colorscale": {
           "diverging": [
            [
             0,
             "#8e0152"
            ],
            [
             0.1,
             "#c51b7d"
            ],
            [
             0.2,
             "#de77ae"
            ],
            [
             0.3,
             "#f1b6da"
            ],
            [
             0.4,
             "#fde0ef"
            ],
            [
             0.5,
             "#f7f7f7"
            ],
            [
             0.6,
             "#e6f5d0"
            ],
            [
             0.7,
             "#b8e186"
            ],
            [
             0.8,
             "#7fbc41"
            ],
            [
             0.9,
             "#4d9221"
            ],
            [
             1,
             "#276419"
            ]
           ],
           "sequential": [
            [
             0,
             "#0d0887"
            ],
            [
             0.1111111111111111,
             "#46039f"
            ],
            [
             0.2222222222222222,
             "#7201a8"
            ],
            [
             0.3333333333333333,
             "#9c179e"
            ],
            [
             0.4444444444444444,
             "#bd3786"
            ],
            [
             0.5555555555555556,
             "#d8576b"
            ],
            [
             0.6666666666666666,
             "#ed7953"
            ],
            [
             0.7777777777777778,
             "#fb9f3a"
            ],
            [
             0.8888888888888888,
             "#fdca26"
            ],
            [
             1,
             "#f0f921"
            ]
           ],
           "sequentialminus": [
            [
             0,
             "#0d0887"
            ],
            [
             0.1111111111111111,
             "#46039f"
            ],
            [
             0.2222222222222222,
             "#7201a8"
            ],
            [
             0.3333333333333333,
             "#9c179e"
            ],
            [
             0.4444444444444444,
             "#bd3786"
            ],
            [
             0.5555555555555556,
             "#d8576b"
            ],
            [
             0.6666666666666666,
             "#ed7953"
            ],
            [
             0.7777777777777778,
             "#fb9f3a"
            ],
            [
             0.8888888888888888,
             "#fdca26"
            ],
            [
             1,
             "#f0f921"
            ]
           ]
          },
          "colorway": [
           "#636efa",
           "#EF553B",
           "#00cc96",
           "#ab63fa",
           "#FFA15A",
           "#19d3f3",
           "#FF6692",
           "#B6E880",
           "#FF97FF",
           "#FECB52"
          ],
          "font": {
           "color": "#2a3f5f"
          },
          "geo": {
           "bgcolor": "white",
           "lakecolor": "white",
           "landcolor": "#E5ECF6",
           "showlakes": true,
           "showland": true,
           "subunitcolor": "white"
          },
          "hoverlabel": {
           "align": "left"
          },
          "hovermode": "closest",
          "mapbox": {
           "style": "light"
          },
          "paper_bgcolor": "white",
          "plot_bgcolor": "#E5ECF6",
          "polar": {
           "angularaxis": {
            "gridcolor": "white",
            "linecolor": "white",
            "ticks": ""
           },
           "bgcolor": "#E5ECF6",
           "radialaxis": {
            "gridcolor": "white",
            "linecolor": "white",
            "ticks": ""
           }
          },
          "scene": {
           "xaxis": {
            "backgroundcolor": "#E5ECF6",
            "gridcolor": "white",
            "gridwidth": 2,
            "linecolor": "white",
            "showbackground": true,
            "ticks": "",
            "zerolinecolor": "white"
           },
           "yaxis": {
            "backgroundcolor": "#E5ECF6",
            "gridcolor": "white",
            "gridwidth": 2,
            "linecolor": "white",
            "showbackground": true,
            "ticks": "",
            "zerolinecolor": "white"
           },
           "zaxis": {
            "backgroundcolor": "#E5ECF6",
            "gridcolor": "white",
            "gridwidth": 2,
            "linecolor": "white",
            "showbackground": true,
            "ticks": "",
            "zerolinecolor": "white"
           }
          },
          "shapedefaults": {
           "line": {
            "color": "#2a3f5f"
           }
          },
          "ternary": {
           "aaxis": {
            "gridcolor": "white",
            "linecolor": "white",
            "ticks": ""
           },
           "baxis": {
            "gridcolor": "white",
            "linecolor": "white",
            "ticks": ""
           },
           "bgcolor": "#E5ECF6",
           "caxis": {
            "gridcolor": "white",
            "linecolor": "white",
            "ticks": ""
           }
          },
          "title": {
           "x": 0.05
          },
          "xaxis": {
           "automargin": true,
           "gridcolor": "white",
           "linecolor": "white",
           "ticks": "",
           "title": {
            "standoff": 15
           },
           "zerolinecolor": "white",
           "zerolinewidth": 2
          },
          "yaxis": {
           "automargin": true,
           "gridcolor": "white",
           "linecolor": "white",
           "ticks": "",
           "title": {
            "standoff": 15
           },
           "zerolinecolor": "white",
           "zerolinewidth": 2
          }
         }
        },
        "title": {
         "text": "Optimization History Plot"
        },
        "xaxis": {
         "title": {
          "text": "Trial"
         }
        },
        "yaxis": {
         "title": {
          "text": "Objective Value"
         }
        }
       }
      }
     },
     "metadata": {},
     "output_type": "display_data"
    }
   ],
   "source": [
    "p_history_no_feat_eng = optuna.visualization.plot_optimization_history(study_no_feat_eng)\n",
    "p_history_no_feat_eng.show()"
   ]
  },
  {
   "cell_type": "markdown",
   "metadata": {},
   "source": [
    "## With Feature Engineering"
   ]
  },
  {
   "cell_type": "code",
   "execution_count": 11,
   "metadata": {},
   "outputs": [],
   "source": [
    "# Load data\n",
    "train_df = pd.read_csv(config[\"paths\"][\"ptb_train\"], header=None)"
   ]
  },
  {
   "cell_type": "code",
   "execution_count": 12,
   "metadata": {},
   "outputs": [],
   "source": [
    "X_train_all = train_df.iloc[:, :-1]\n",
    "y_train_all = train_df.iloc[:, -1]"
   ]
  },
  {
   "cell_type": "code",
   "execution_count": 13,
   "metadata": {},
   "outputs": [],
   "source": [
    "X_train_all.columns = X_train_all.columns.astype(str)"
   ]
  },
  {
   "cell_type": "markdown",
   "metadata": {},
   "source": [
    "Note that for reasons of time, we will not carry out feature engineering for every validation split separately. Instead, we will use the same feature engineering for all validation splits. This is not ideal, but it is a compromise that we have to make in order to keep the runtime of this notebook within reasonable limits."
   ]
  },
  {
   "cell_type": "code",
   "execution_count": 14,
   "metadata": {},
   "outputs": [],
   "source": [
    "X_train_all[\"id\"] = X_train_all.index\n",
    "X_train_melted =(\n",
    "    X_train_all\n",
    "    .melt(id_vars=\"id\", var_name=\"time\", value_name=\"value\")\n",
    "    .sort_values(by=[\"id\", \"time\"])\n",
    ")\n",
    "\n",
    "# get rid of padding to not ruin the engineered features\n",
    "# for simplicity, we drop all 0s, as only few \"true\" 0s are in the data\n",
    "X_train_melted[\"value\"] = X_train_melted[\"value\"].replace(0, np.nan)\n",
    "X_train_melted = X_train_melted.dropna()"
   ]
  },
  {
   "cell_type": "code",
   "execution_count": 15,
   "metadata": {},
   "outputs": [
    {
     "name": "stderr",
     "output_type": "stream",
     "text": [
      "Feature Extraction: 100%|██████████| 80/80 [00:27<00:00,  2.86it/s]\n"
     ]
    }
   ],
   "source": [
    "# We will follow this tutorial:\n",
    "# https://towardsdatascience.com/expanding-your-regression-repertoire-with-regularisation-903d2c9f7b28\n",
    "# and will use the EfficientFCParameters\n",
    "# for feature extraction\n",
    "X_train_augmented = extract_features(\n",
    "    X_train_melted,\n",
    "    column_id=\"id\",\n",
    "    column_sort=\"time\",\n",
    "    column_value=\"value\",\n",
    "    default_fc_parameters=EfficientFCParameters(),\n",
    ")  \n",
    "\n",
    "X_train_merged = pd.merge(\n",
    "    X_train_all, X_train_augmented, left_index=True, right_index=True\n",
    ")\n",
    "\n",
    "# assert that no rows were lost\n",
    "assert X_train_merged.shape[0] == X_train_all.shape[0]\n",
    "assert X_train_merged.index.equals(X_train_all.index)"
   ]
  },
  {
   "cell_type": "code",
   "execution_count": 16,
   "metadata": {},
   "outputs": [
    {
     "name": "stderr",
     "output_type": "stream",
     "text": [
      "/home/janhsc/miniconda3/envs/ml4hc/lib/python3.10/site-packages/tsfresh/utilities/dataframe_functions.py:198: RuntimeWarning:\n",
      "\n",
      "The columns ['value__fft_coefficient__attr_\"real\"__coeff_93'\n",
      " 'value__fft_coefficient__attr_\"real\"__coeff_94'\n",
      " 'value__fft_coefficient__attr_\"real\"__coeff_95'\n",
      " 'value__fft_coefficient__attr_\"real\"__coeff_96'\n",
      " 'value__fft_coefficient__attr_\"real\"__coeff_97'\n",
      " 'value__fft_coefficient__attr_\"real\"__coeff_98'\n",
      " 'value__fft_coefficient__attr_\"real\"__coeff_99'\n",
      " 'value__fft_coefficient__attr_\"imag\"__coeff_93'\n",
      " 'value__fft_coefficient__attr_\"imag\"__coeff_94'\n",
      " 'value__fft_coefficient__attr_\"imag\"__coeff_95'\n",
      " 'value__fft_coefficient__attr_\"imag\"__coeff_96'\n",
      " 'value__fft_coefficient__attr_\"imag\"__coeff_97'\n",
      " 'value__fft_coefficient__attr_\"imag\"__coeff_98'\n",
      " 'value__fft_coefficient__attr_\"imag\"__coeff_99'\n",
      " 'value__fft_coefficient__attr_\"abs\"__coeff_93'\n",
      " 'value__fft_coefficient__attr_\"abs\"__coeff_94'\n",
      " 'value__fft_coefficient__attr_\"abs\"__coeff_95'\n",
      " 'value__fft_coefficient__attr_\"abs\"__coeff_96'\n",
      " 'value__fft_coefficient__attr_\"abs\"__coeff_97'\n",
      " 'value__fft_coefficient__attr_\"abs\"__coeff_98'\n",
      " 'value__fft_coefficient__attr_\"abs\"__coeff_99'\n",
      " 'value__fft_coefficient__attr_\"angle\"__coeff_93'\n",
      " 'value__fft_coefficient__attr_\"angle\"__coeff_94'\n",
      " 'value__fft_coefficient__attr_\"angle\"__coeff_95'\n",
      " 'value__fft_coefficient__attr_\"angle\"__coeff_96'\n",
      " 'value__fft_coefficient__attr_\"angle\"__coeff_97'\n",
      " 'value__fft_coefficient__attr_\"angle\"__coeff_98'\n",
      " 'value__fft_coefficient__attr_\"angle\"__coeff_99'\n",
      " 'value__query_similarity_count__query_None__threshold_0.0'] did not have any finite values. Filling with zeros.\n",
      "\n"
     ]
    }
   ],
   "source": [
    "imputer = PerColumnImputer()\n",
    "X_train_merged = imputer.fit_transform(X_train_merged)"
   ]
  },
  {
   "cell_type": "markdown",
   "metadata": {},
   "source": [
    "Next, we create a Pipeline to standardize and one-hot encode the data. This is necessary since some of the newly created features are categorical or do not lie within the same range as the original features."
   ]
  },
  {
   "cell_type": "code",
   "execution_count": 17,
   "metadata": {},
   "outputs": [],
   "source": [
    "cat_cols = X_train_merged.loc[:, X_train_merged.nunique() < 5].columns\n",
    "numeric_cols = X_train_merged.loc[:, X_train_merged.nunique() >= 5].columns\n",
    "\n",
    "# preprocessing pipeline for numerical features\n",
    "num_trans = Pipeline(steps=[\n",
    "    (\"scaler\", StandardScaler())\n",
    "])\n",
    "\n",
    "# preprocessing pipeline for categorical features\n",
    "cat_trans = Pipeline(steps=[\n",
    "    ('encoder', OneHotEncoder(handle_unknown=\"ignore\"))\n",
    "])\n",
    "\n",
    "\n",
    "preprocessor = ColumnTransformer(transformers=[\n",
    "    (\"num\", num_trans, numeric_cols),\n",
    "    (\"cat\", cat_trans, cat_cols)\n",
    "])"
   ]
  },
  {
   "cell_type": "code",
   "execution_count": 18,
   "metadata": {},
   "outputs": [],
   "source": [
    "# create objective function for optuna\n",
    "def objective_feat_eng(trial):\n",
    "    \n",
    "    # see: https://medium.com/@ethannabatchian/optimizing-random-forest-models-a-deep-dive-into-hyperparameter-tuning-with-optuna-b8e4fe7f3670\n",
    "    hyperparams = {\n",
    "        \"n_estimators\": trial.suggest_int(\"n_estimators\", 100, 1000),\n",
    "        \"max_depth\": trial.suggest_int(\"max_depth\", 10, 50),\n",
    "        \"min_samples_split\": trial.suggest_int(\"min_samples_split\", 2, 32),\n",
    "        \"min_samples_leaf\": trial.suggest_int(\"min_samples_leaf\", 1, 32),\n",
    "        \"criterion\": trial.suggest_categorical(\"criterion\", [\"gini\", \"entropy\", \"log_loss\"]),\n",
    "        \"max_features\": trial.suggest_categorical(\"max_features\", [\"sqrt\", \"log2\"]),\n",
    "        \"bootstrap\": trial.suggest_categorical(\"bootstrap\", [True, False]),\n",
    "    }\n",
    "    \n",
    "    \n",
    "    \n",
    "    f1_scores = []\n",
    "    \n",
    "    skf = StratifiedKFold(n_splits=5, random_state=config[\"general\"][\"seed\"], shuffle=True)\n",
    "    for fold_num, (train_idx, val_idx) in enumerate(skf.split(X_train_merged, y_train_all)):\n",
    "        X_train, X_val = X_train_merged.iloc[train_idx], X_train_merged.iloc[val_idx]\n",
    "        y_train, y_val = y_train_all[train_idx], y_train_all[val_idx] \n",
    "        \n",
    "        smote = SMOTE(random_state=config[\"general\"][\"seed\"])\n",
    "        X_train, y_train = smote.fit_resample(X_train, y_train) \n",
    "        \n",
    "        X_train = preprocessor.fit_transform(X_train)\n",
    "        X_val = preprocessor.transform(X_val)\n",
    "        \n",
    "        rf = RandomForestClassifier(\n",
    "            random_state=config[\"general\"][\"seed\"],\n",
    "            n_jobs=-1,\n",
    "            **hyperparams\n",
    "        )\n",
    "        rf.fit(X_train, y_train)\n",
    "        \n",
    "        y_preds = rf.predict(X_val)\n",
    "        \n",
    "        score = f1_score(y_val, y_preds)\n",
    "        f1_scores.append(score)\n",
    "            \n",
    "        trial.report(np.mean(f1_scores), fold_num)\n",
    "        if trial.should_prune():\n",
    "            raise optuna.TrialPruned()\n",
    "        \n",
    "            \n",
    "        \n",
    "    return np.mean(score)"
   ]
  },
  {
   "cell_type": "code",
   "execution_count": 19,
   "metadata": {},
   "outputs": [
    {
     "name": "stderr",
     "output_type": "stream",
     "text": [
      "[I 2024-05-13 03:51:42,654] A new study created in memory with name: rf_feat_eng\n"
     ]
    }
   ],
   "source": [
    "# prune bad trials \n",
    "pruner = optuna.pruners.MedianPruner(n_startup_trials=20, n_warmup_steps=2)\n",
    "\n",
    "study_feat_eng = optuna.create_study(\n",
    "    direction=\"maximize\",\n",
    "    study_name=\"rf_feat_eng\",\n",
    "    sampler=optuna.samplers.TPESampler(seed=config[\"general\"][\"seed\"]),\n",
    "    pruner=pruner,\n",
    ")"
   ]
  },
  {
   "cell_type": "code",
   "execution_count": 20,
   "metadata": {},
   "outputs": [
    {
     "data": {
      "application/vnd.jupyter.widget-view+json": {
       "model_id": "c30fa5bede66481ea591c19a06341654",
       "version_major": 2,
       "version_minor": 0
      },
      "text/plain": [
       "  0%|          | 0/500 [00:00<?, ?it/s]"
      ]
     },
     "metadata": {},
     "output_type": "display_data"
    },
    {
     "name": "stdout",
     "output_type": "stream",
     "text": [
      "[I 2024-05-13 03:51:56,556] Trial 0 finished with value: 0.9636904761904762 and parameters: {'n_estimators': 437, 'max_depth': 48, 'min_samples_split': 24, 'min_samples_leaf': 20, 'criterion': 'gini', 'max_features': 'sqrt', 'bootstrap': True}. Best is trial 0 with value: 0.9636904761904762.\n",
      "[I 2024-05-13 03:52:26,324] Trial 1 finished with value: 0.9735512630014859 and parameters: {'n_estimators': 973, 'max_depth': 44, 'min_samples_split': 8, 'min_samples_leaf': 6, 'criterion': 'log_loss', 'max_features': 'sqrt', 'bootstrap': True}. Best is trial 1 with value: 0.9735512630014859.\n",
      "[I 2024-05-13 03:52:32,089] Trial 2 finished with value: 0.89125 and parameters: {'n_estimators': 363, 'max_depth': 25, 'min_samples_split': 16, 'min_samples_leaf': 26, 'criterion': 'log_loss', 'max_features': 'log2', 'bootstrap': True}. Best is trial 1 with value: 0.9735512630014859.\n",
      "[I 2024-05-13 03:52:41,765] Trial 3 finished with value: 0.9119203236850296 and parameters: {'n_estimators': 954, 'max_depth': 49, 'min_samples_split': 27, 'min_samples_leaf': 10, 'criterion': 'entropy', 'max_features': 'log2', 'bootstrap': False}. Best is trial 1 with value: 0.9735512630014859.\n",
      "[I 2024-05-13 03:52:47,356] Trial 4 finished with value: 0.9011808576755749 and parameters: {'n_estimators': 333, 'max_depth': 37, 'min_samples_split': 11, 'min_samples_leaf': 17, 'criterion': 'log_loss', 'max_features': 'log2', 'bootstrap': True}. Best is trial 1 with value: 0.9735512630014859.\n",
      "[I 2024-05-13 03:53:26,141] Trial 5 finished with value: 0.9746495675514465 and parameters: {'n_estimators': 930, 'max_depth': 13, 'min_samples_split': 8, 'min_samples_leaf': 2, 'criterion': 'entropy', 'max_features': 'sqrt', 'bootstrap': False}. Best is trial 5 with value: 0.9746495675514465.\n",
      "[I 2024-05-13 03:53:37,404] Trial 6 finished with value: 0.966030989272944 and parameters: {'n_estimators': 226, 'max_depth': 42, 'min_samples_split': 4, 'min_samples_leaf': 32, 'criterion': 'gini', 'max_features': 'sqrt', 'bootstrap': False}. Best is trial 5 with value: 0.9746495675514465.\n",
      "[I 2024-05-13 03:53:41,901] Trial 7 finished with value: 0.881259842519685 and parameters: {'n_estimators': 166, 'max_depth': 24, 'min_samples_split': 5, 'min_samples_leaf': 28, 'criterion': 'gini', 'max_features': 'log2', 'bootstrap': True}. Best is trial 5 with value: 0.9746495675514465.\n",
      "[I 2024-05-13 03:53:50,732] Trial 8 finished with value: 0.8922980588603632 and parameters: {'n_estimators': 899, 'max_depth': 29, 'min_samples_split': 5, 'min_samples_leaf': 23, 'criterion': 'log_loss', 'max_features': 'log2', 'bootstrap': True}. Best is trial 5 with value: 0.9746495675514465.\n",
      "[I 2024-05-13 03:53:55,553] Trial 9 finished with value: 0.8860201511335013 and parameters: {'n_estimators': 197, 'max_depth': 11, 'min_samples_split': 21, 'min_samples_leaf': 11, 'criterion': 'entropy', 'max_features': 'log2', 'bootstrap': True}. Best is trial 5 with value: 0.9746495675514465.\n",
      "[I 2024-05-13 03:54:20,499] Trial 10 finished with value: 0.9639423076923077 and parameters: {'n_estimators': 696, 'max_depth': 10, 'min_samples_split': 32, 'min_samples_leaf': 1, 'criterion': 'entropy', 'max_features': 'sqrt', 'bootstrap': False}. Best is trial 5 with value: 0.9746495675514465.\n",
      "[I 2024-05-13 03:54:53,348] Trial 11 finished with value: 0.9795434331455678 and parameters: {'n_estimators': 698, 'max_depth': 17, 'min_samples_split': 11, 'min_samples_leaf': 1, 'criterion': 'entropy', 'max_features': 'sqrt', 'bootstrap': False}. Best is trial 11 with value: 0.9795434331455678.\n",
      "[I 2024-05-13 03:55:27,255] Trial 12 finished with value: 0.9786729857819905 and parameters: {'n_estimators': 717, 'max_depth': 19, 'min_samples_split': 13, 'min_samples_leaf': 1, 'criterion': 'entropy', 'max_features': 'sqrt', 'bootstrap': False}. Best is trial 11 with value: 0.9795434331455678.\n",
      "[I 2024-05-13 03:55:58,811] Trial 13 finished with value: 0.9762611275964391 and parameters: {'n_estimators': 694, 'max_depth': 19, 'min_samples_split': 15, 'min_samples_leaf': 8, 'criterion': 'entropy', 'max_features': 'sqrt', 'bootstrap': False}. Best is trial 11 with value: 0.9795434331455678.\n",
      "[I 2024-05-13 03:56:30,160] Trial 14 finished with value: 0.9777646012451824 and parameters: {'n_estimators': 670, 'max_depth': 18, 'min_samples_split': 13, 'min_samples_leaf': 5, 'criterion': 'entropy', 'max_features': 'sqrt', 'bootstrap': False}. Best is trial 11 with value: 0.9795434331455678.\n",
      "[I 2024-05-13 03:56:54,176] Trial 15 finished with value: 0.9723625557206538 and parameters: {'n_estimators': 525, 'max_depth': 19, 'min_samples_split': 19, 'min_samples_leaf': 14, 'criterion': 'entropy', 'max_features': 'sqrt', 'bootstrap': False}. Best is trial 11 with value: 0.9795434331455678.\n",
      "[I 2024-05-13 03:57:32,375] Trial 16 finished with value: 0.981042654028436 and parameters: {'n_estimators': 803, 'max_depth': 32, 'min_samples_split': 11, 'min_samples_leaf': 1, 'criterion': 'entropy', 'max_features': 'sqrt', 'bootstrap': False}. Best is trial 16 with value: 0.981042654028436.\n",
      "[I 2024-05-13 03:58:09,284] Trial 17 finished with value: 0.9789380005932957 and parameters: {'n_estimators': 803, 'max_depth': 34, 'min_samples_split': 10, 'min_samples_leaf': 5, 'criterion': 'entropy', 'max_features': 'sqrt', 'bootstrap': False}. Best is trial 16 with value: 0.981042654028436.\n",
      "[I 2024-05-13 03:58:44,674] Trial 18 finished with value: 0.9741456166419019 and parameters: {'n_estimators': 825, 'max_depth': 32, 'min_samples_split': 2, 'min_samples_leaf': 13, 'criterion': 'entropy', 'max_features': 'sqrt', 'bootstrap': False}. Best is trial 16 with value: 0.981042654028436.\n",
      "[I 2024-05-13 03:59:14,042] Trial 19 finished with value: 0.9757109004739336 and parameters: {'n_estimators': 620, 'max_depth': 27, 'min_samples_split': 19, 'min_samples_leaf': 4, 'criterion': 'gini', 'max_features': 'sqrt', 'bootstrap': False}. Best is trial 16 with value: 0.981042654028436.\n",
      "[I 2024-05-13 03:59:40,769] Trial 20 finished with value: 0.9762470308788599 and parameters: {'n_estimators': 578, 'max_depth': 37, 'min_samples_split': 8, 'min_samples_leaf': 9, 'criterion': 'entropy', 'max_features': 'sqrt', 'bootstrap': False}. Best is trial 16 with value: 0.981042654028436.\n",
      "[I 2024-05-13 04:00:18,166] Trial 21 finished with value: 0.9789380005932957 and parameters: {'n_estimators': 803, 'max_depth': 35, 'min_samples_split': 10, 'min_samples_leaf': 5, 'criterion': 'entropy', 'max_features': 'sqrt', 'bootstrap': False}. Best is trial 16 with value: 0.981042654028436.\n",
      "[I 2024-05-13 04:00:55,445] Trial 22 finished with value: 0.9795555555555555 and parameters: {'n_estimators': 802, 'max_depth': 34, 'min_samples_split': 12, 'min_samples_leaf': 3, 'criterion': 'entropy', 'max_features': 'sqrt', 'bootstrap': False}. Best is trial 16 with value: 0.981042654028436.\n",
      "[I 2024-05-13 04:01:31,785] Trial 23 finished with value: 0.980438648488441 and parameters: {'n_estimators': 769, 'max_depth': 40, 'min_samples_split': 13, 'min_samples_leaf': 1, 'criterion': 'entropy', 'max_features': 'sqrt', 'bootstrap': False}. Best is trial 16 with value: 0.981042654028436.\n",
      "[I 2024-05-13 04:02:10,550] Trial 24 finished with value: 0.9771309771309772 and parameters: {'n_estimators': 867, 'max_depth': 41, 'min_samples_split': 14, 'min_samples_leaf': 7, 'criterion': 'entropy', 'max_features': 'sqrt', 'bootstrap': False}. Best is trial 16 with value: 0.981042654028436.\n",
      "[I 2024-05-13 04:02:45,887] Trial 25 finished with value: 0.9783703703703703 and parameters: {'n_estimators': 765, 'max_depth': 40, 'min_samples_split': 17, 'min_samples_leaf': 3, 'criterion': 'entropy', 'max_features': 'sqrt', 'bootstrap': False}. Best is trial 16 with value: 0.981042654028436.\n",
      "[I 2024-05-13 04:02:59,970] Trial 26 pruned. \n",
      "[I 2024-05-13 04:03:24,690] Trial 27 pruned. \n",
      "[I 2024-05-13 04:04:03,059] Trial 28 finished with value: 0.9765230312035661 and parameters: {'n_estimators': 867, 'max_depth': 38, 'min_samples_split': 12, 'min_samples_leaf': 8, 'criterion': 'log_loss', 'max_features': 'sqrt', 'bootstrap': False}. Best is trial 16 with value: 0.981042654028436.\n",
      "[I 2024-05-13 04:04:35,082] Trial 29 finished with value: 0.9798816568047337 and parameters: {'n_estimators': 629, 'max_depth': 47, 'min_samples_split': 7, 'min_samples_leaf': 3, 'criterion': 'gini', 'max_features': 'sqrt', 'bootstrap': False}. Best is trial 16 with value: 0.981042654028436.\n",
      "[I 2024-05-13 04:04:50,111] Trial 30 pruned. \n",
      "[I 2024-05-13 04:05:27,998] Trial 31 finished with value: 0.977804084048535 and parameters: {'n_estimators': 772, 'max_depth': 33, 'min_samples_split': 9, 'min_samples_leaf': 3, 'criterion': 'gini', 'max_features': 'sqrt', 'bootstrap': False}. Best is trial 16 with value: 0.981042654028436.\n",
      "[I 2024-05-13 04:06:00,938] Trial 32 finished with value: 0.9793021880544057 and parameters: {'n_estimators': 641, 'max_depth': 45, 'min_samples_split': 6, 'min_samples_leaf': 3, 'criterion': 'gini', 'max_features': 'sqrt', 'bootstrap': False}. Best is trial 16 with value: 0.981042654028436.\n",
      "[I 2024-05-13 04:06:35,549] Trial 33 finished with value: 0.976606455433817 and parameters: {'n_estimators': 741, 'max_depth': 50, 'min_samples_split': 2, 'min_samples_leaf': 6, 'criterion': 'gini', 'max_features': 'sqrt', 'bootstrap': False}. Best is trial 16 with value: 0.981042654028436.\n",
      "[I 2024-05-13 04:06:45,926] Trial 34 pruned. \n",
      "[I 2024-05-13 04:06:51,478] Trial 35 pruned. \n",
      "[I 2024-05-13 04:07:09,793] Trial 36 pruned. \n",
      "[I 2024-05-13 04:07:14,248] Trial 37 pruned. \n",
      "[I 2024-05-13 04:07:49,965] Trial 38 finished with value: 0.9795434331455678 and parameters: {'n_estimators': 767, 'max_depth': 25, 'min_samples_split': 13, 'min_samples_leaf': 3, 'criterion': 'entropy', 'max_features': 'sqrt', 'bootstrap': False}. Best is trial 16 with value: 0.981042654028436.\n",
      "[I 2024-05-13 04:07:59,944] Trial 39 pruned. \n",
      "[I 2024-05-13 04:08:04,583] Trial 40 pruned. \n",
      "[I 2024-05-13 04:08:39,430] Trial 41 finished with value: 0.9792654028436019 and parameters: {'n_estimators': 730, 'max_depth': 22, 'min_samples_split': 11, 'min_samples_leaf': 1, 'criterion': 'entropy', 'max_features': 'sqrt', 'bootstrap': False}. Best is trial 16 with value: 0.981042654028436.\n",
      "[I 2024-05-13 04:09:21,059] Trial 42 finished with value: 0.9786729857819905 and parameters: {'n_estimators': 897, 'max_depth': 30, 'min_samples_split': 16, 'min_samples_leaf': 2, 'criterion': 'entropy', 'max_features': 'sqrt', 'bootstrap': False}. Best is trial 16 with value: 0.981042654028436.\n",
      "[I 2024-05-13 04:09:59,972] Trial 43 finished with value: 0.9789629629629629 and parameters: {'n_estimators': 820, 'max_depth': 28, 'min_samples_split': 12, 'min_samples_leaf': 1, 'criterion': 'entropy', 'max_features': 'sqrt', 'bootstrap': False}. Best is trial 16 with value: 0.981042654028436.\n",
      "[I 2024-05-13 04:10:32,738] Trial 44 finished with value: 0.9801833776989056 and parameters: {'n_estimators': 693, 'max_depth': 43, 'min_samples_split': 9, 'min_samples_leaf': 4, 'criterion': 'entropy', 'max_features': 'sqrt', 'bootstrap': False}. Best is trial 16 with value: 0.981042654028436.\n",
      "[I 2024-05-13 04:10:47,298] Trial 45 pruned. \n",
      "[I 2024-05-13 04:10:53,041] Trial 46 pruned. \n",
      "[I 2024-05-13 04:11:09,775] Trial 47 finished with value: 0.9792654028436019 and parameters: {'n_estimators': 303, 'max_depth': 39, 'min_samples_split': 14, 'min_samples_leaf': 2, 'criterion': 'entropy', 'max_features': 'sqrt', 'bootstrap': False}. Best is trial 16 with value: 0.981042654028436.\n",
      "[I 2024-05-13 04:11:27,874] Trial 48 pruned. \n",
      "[I 2024-05-13 04:12:01,912] Trial 49 finished with value: 0.9786476868327402 and parameters: {'n_estimators': 714, 'max_depth': 43, 'min_samples_split': 7, 'min_samples_leaf': 5, 'criterion': 'entropy', 'max_features': 'sqrt', 'bootstrap': False}. Best is trial 16 with value: 0.981042654028436.\n",
      "[I 2024-05-13 04:12:16,119] Trial 50 pruned. \n",
      "[I 2024-05-13 04:12:48,991] Trial 51 finished with value: 0.9795797573246523 and parameters: {'n_estimators': 689, 'max_depth': 32, 'min_samples_split': 10, 'min_samples_leaf': 2, 'criterion': 'entropy', 'max_features': 'sqrt', 'bootstrap': False}. Best is trial 16 with value: 0.981042654028436.\n",
      "[I 2024-05-13 04:13:22,058] Trial 52 finished with value: 0.9795797573246523 and parameters: {'n_estimators': 691, 'max_depth': 33, 'min_samples_split': 10, 'min_samples_leaf': 2, 'criterion': 'entropy', 'max_features': 'sqrt', 'bootstrap': False}. Best is trial 16 with value: 0.981042654028436.\n",
      "[I 2024-05-13 04:13:51,632] Trial 53 finished with value: 0.9807521468759254 and parameters: {'n_estimators': 610, 'max_depth': 32, 'min_samples_split': 10, 'min_samples_leaf': 2, 'criterion': 'entropy', 'max_features': 'sqrt', 'bootstrap': False}. Best is trial 16 with value: 0.981042654028436.\n",
      "[I 2024-05-13 04:14:17,759] Trial 54 finished with value: 0.9795797573246523 and parameters: {'n_estimators': 529, 'max_depth': 27, 'min_samples_split': 9, 'min_samples_leaf': 4, 'criterion': 'entropy', 'max_features': 'sqrt', 'bootstrap': False}. Best is trial 16 with value: 0.981042654028436.\n",
      "[I 2024-05-13 04:14:47,783] Trial 55 finished with value: 0.9807635395087304 and parameters: {'n_estimators': 608, 'max_depth': 31, 'min_samples_split': 6, 'min_samples_leaf': 1, 'criterion': 'entropy', 'max_features': 'sqrt', 'bootstrap': False}. Best is trial 16 with value: 0.981042654028436.\n",
      "[I 2024-05-13 04:15:05,835] Trial 56 pruned. \n",
      "[I 2024-05-13 04:15:12,781] Trial 57 pruned. \n",
      "[I 2024-05-13 04:15:27,023] Trial 58 pruned. \n",
      "[I 2024-05-13 04:15:54,307] Trial 59 finished with value: 0.9801481481481481 and parameters: {'n_estimators': 549, 'max_depth': 47, 'min_samples_split': 6, 'min_samples_leaf': 3, 'criterion': 'entropy', 'max_features': 'sqrt', 'bootstrap': False}. Best is trial 16 with value: 0.981042654028436.\n",
      "[I 2024-05-13 04:16:05,204] Trial 60 pruned. \n",
      "[I 2024-05-13 04:16:32,275] Trial 61 finished with value: 0.9801481481481481 and parameters: {'n_estimators': 547, 'max_depth': 47, 'min_samples_split': 6, 'min_samples_leaf': 3, 'criterion': 'entropy', 'max_features': 'sqrt', 'bootstrap': False}. Best is trial 16 with value: 0.981042654028436.\n",
      "[I 2024-05-13 04:17:00,003] Trial 62 finished with value: 0.9810650887573964 and parameters: {'n_estimators': 550, 'max_depth': 45, 'min_samples_split': 6, 'min_samples_leaf': 1, 'criterion': 'entropy', 'max_features': 'sqrt', 'bootstrap': False}. Best is trial 62 with value: 0.9810650887573964.\n",
      "[I 2024-05-13 04:17:24,902] Trial 63 finished with value: 0.9801599052413384 and parameters: {'n_estimators': 488, 'max_depth': 45, 'min_samples_split': 8, 'min_samples_leaf': 1, 'criterion': 'entropy', 'max_features': 'sqrt', 'bootstrap': False}. Best is trial 62 with value: 0.9810650887573964.\n",
      "[I 2024-05-13 04:17:48,340] Trial 64 finished with value: 0.9798578199052133 and parameters: {'n_estimators': 458, 'max_depth': 45, 'min_samples_split': 8, 'min_samples_leaf': 1, 'criterion': 'entropy', 'max_features': 'sqrt', 'bootstrap': False}. Best is trial 62 with value: 0.9810650887573964.\n",
      "[I 2024-05-13 04:18:13,644] Trial 65 finished with value: 0.9798578199052133 and parameters: {'n_estimators': 501, 'max_depth': 44, 'min_samples_split': 11, 'min_samples_leaf': 2, 'criterion': 'entropy', 'max_features': 'sqrt', 'bootstrap': False}. Best is trial 62 with value: 0.9810650887573964.\n",
      "[I 2024-05-13 04:18:31,186] Trial 66 finished with value: 0.9786350148367953 and parameters: {'n_estimators': 330, 'max_depth': 31, 'min_samples_split': 13, 'min_samples_leaf': 4, 'criterion': 'entropy', 'max_features': 'sqrt', 'bootstrap': False}. Best is trial 62 with value: 0.9810650887573964.\n",
      "[I 2024-05-13 04:18:52,903] Trial 67 finished with value: 0.9819366301450992 and parameters: {'n_estimators': 400, 'max_depth': 38, 'min_samples_split': 3, 'min_samples_leaf': 1, 'criterion': 'entropy', 'max_features': 'sqrt', 'bootstrap': False}. Best is trial 67 with value: 0.9819366301450992.\n",
      "[I 2024-05-13 04:19:02,155] Trial 68 pruned. \n",
      "[I 2024-05-13 04:19:22,387] Trial 69 finished with value: 0.9783959751405741 and parameters: {'n_estimators': 377, 'max_depth': 35, 'min_samples_split': 3, 'min_samples_leaf': 2, 'criterion': 'entropy', 'max_features': 'sqrt', 'bootstrap': False}. Best is trial 67 with value: 0.9819366301450992.\n",
      "[I 2024-05-13 04:19:27,541] Trial 70 pruned. \n",
      "[I 2024-05-13 04:19:50,862] Trial 71 finished with value: 0.9801716484166914 and parameters: {'n_estimators': 450, 'max_depth': 42, 'min_samples_split': 7, 'min_samples_leaf': 1, 'criterion': 'entropy', 'max_features': 'sqrt', 'bootstrap': False}. Best is trial 67 with value: 0.9819366301450992.\n",
      "[I 2024-05-13 04:20:11,046] Trial 72 finished with value: 0.979531296351231 and parameters: {'n_estimators': 384, 'max_depth': 42, 'min_samples_split': 3, 'min_samples_leaf': 4, 'criterion': 'entropy', 'max_features': 'sqrt', 'bootstrap': False}. Best is trial 67 with value: 0.9819366301450992.\n",
      "[I 2024-05-13 04:20:34,014] Trial 73 finished with value: 0.9795676636067515 and parameters: {'n_estimators': 443, 'max_depth': 38, 'min_samples_split': 5, 'min_samples_leaf': 2, 'criterion': 'entropy', 'max_features': 'sqrt', 'bootstrap': False}. Best is trial 67 with value: 0.9819366301450992.\n",
      "[I 2024-05-13 04:21:08,736] Trial 74 finished with value: 0.9786476868327402 and parameters: {'n_estimators': 736, 'max_depth': 42, 'min_samples_split': 7, 'min_samples_leaf': 5, 'criterion': 'entropy', 'max_features': 'sqrt', 'bootstrap': False}. Best is trial 67 with value: 0.9819366301450992.\n",
      "[I 2024-05-13 04:21:23,071] Trial 75 finished with value: 0.9789754219721647 and parameters: {'n_estimators': 240, 'max_depth': 39, 'min_samples_split': 10, 'min_samples_leaf': 1, 'criterion': 'entropy', 'max_features': 'sqrt', 'bootstrap': False}. Best is trial 67 with value: 0.9819366301450992.\n",
      "[I 2024-05-13 04:21:28,183] Trial 76 pruned. \n",
      "[I 2024-05-13 04:21:33,568] Trial 77 pruned. \n",
      "[I 2024-05-13 04:22:02,050] Trial 78 finished with value: 0.980438648488441 and parameters: {'n_estimators': 574, 'max_depth': 31, 'min_samples_split': 5, 'min_samples_leaf': 3, 'criterion': 'entropy', 'max_features': 'sqrt', 'bootstrap': False}. Best is trial 67 with value: 0.9819366301450992.\n",
      "[I 2024-05-13 04:22:17,994] Trial 79 pruned. \n",
      "[I 2024-05-13 04:22:47,225] Trial 80 finished with value: 0.9801481481481481 and parameters: {'n_estimators': 597, 'max_depth': 31, 'min_samples_split': 6, 'min_samples_leaf': 3, 'criterion': 'log_loss', 'max_features': 'sqrt', 'bootstrap': False}. Best is trial 67 with value: 0.9819366301450992.\n",
      "[I 2024-05-13 04:23:18,659] Trial 81 finished with value: 0.9801481481481481 and parameters: {'n_estimators': 641, 'max_depth': 29, 'min_samples_split': 8, 'min_samples_leaf': 1, 'criterion': 'entropy', 'max_features': 'sqrt', 'bootstrap': False}. Best is trial 67 with value: 0.9819366301450992.\n",
      "[I 2024-05-13 04:23:44,847] Trial 82 finished with value: 0.9801481481481481 and parameters: {'n_estimators': 525, 'max_depth': 33, 'min_samples_split': 5, 'min_samples_leaf': 3, 'criterion': 'entropy', 'max_features': 'sqrt', 'bootstrap': False}. Best is trial 67 with value: 0.9819366301450992.\n",
      "[I 2024-05-13 04:24:23,470] Trial 83 finished with value: 0.9816459443457667 and parameters: {'n_estimators': 790, 'max_depth': 31, 'min_samples_split': 4, 'min_samples_leaf': 1, 'criterion': 'entropy', 'max_features': 'sqrt', 'bootstrap': False}. Best is trial 67 with value: 0.9819366301450992.\n",
      "[I 2024-05-13 04:25:03,130] Trial 84 finished with value: 0.9795676636067515 and parameters: {'n_estimators': 847, 'max_depth': 31, 'min_samples_split': 4, 'min_samples_leaf': 3, 'criterion': 'entropy', 'max_features': 'sqrt', 'bootstrap': False}. Best is trial 67 with value: 0.9819366301450992.\n",
      "[I 2024-05-13 04:25:41,463] Trial 85 finished with value: 0.9793021880544057 and parameters: {'n_estimators': 798, 'max_depth': 27, 'min_samples_split': 2, 'min_samples_leaf': 2, 'criterion': 'entropy', 'max_features': 'sqrt', 'bootstrap': False}. Best is trial 67 with value: 0.9819366301450992.\n",
      "[I 2024-05-13 04:25:56,255] Trial 86 pruned. \n",
      "[I 2024-05-13 04:26:01,548] Trial 87 pruned. \n",
      "[I 2024-05-13 04:26:38,237] Trial 88 finished with value: 0.9813333333333333 and parameters: {'n_estimators': 782, 'max_depth': 30, 'min_samples_split': 11, 'min_samples_leaf': 2, 'criterion': 'entropy', 'max_features': 'sqrt', 'bootstrap': False}. Best is trial 67 with value: 0.9819366301450992.\n",
      "[I 2024-05-13 04:27:00,192] Trial 89 pruned. \n",
      "[I 2024-05-13 04:27:37,497] Trial 90 finished with value: 0.980438648488441 and parameters: {'n_estimators': 791, 'max_depth': 32, 'min_samples_split': 13, 'min_samples_leaf': 1, 'criterion': 'entropy', 'max_features': 'sqrt', 'bootstrap': False}. Best is trial 67 with value: 0.9819366301450992.\n",
      "[I 2024-05-13 04:27:59,742] Trial 91 pruned. \n",
      "[I 2024-05-13 04:28:38,674] Trial 92 finished with value: 0.9783575452119775 and parameters: {'n_estimators': 839, 'max_depth': 33, 'min_samples_split': 13, 'min_samples_leaf': 2, 'criterion': 'entropy', 'max_features': 'sqrt', 'bootstrap': False}. Best is trial 67 with value: 0.9819366301450992.\n",
      "[I 2024-05-13 04:29:01,330] Trial 93 pruned. \n",
      "[I 2024-05-13 04:29:42,015] Trial 94 finished with value: 0.9789504891787726 and parameters: {'n_estimators': 873, 'max_depth': 31, 'min_samples_split': 12, 'min_samples_leaf': 1, 'criterion': 'entropy', 'max_features': 'sqrt', 'bootstrap': False}. Best is trial 67 with value: 0.9819366301450992.\n",
      "[I 2024-05-13 04:30:19,512] Trial 95 finished with value: 0.9807407407407407 and parameters: {'n_estimators': 783, 'max_depth': 34, 'min_samples_split': 11, 'min_samples_leaf': 1, 'criterion': 'entropy', 'max_features': 'sqrt', 'bootstrap': False}. Best is trial 67 with value: 0.9819366301450992.\n",
      "[I 2024-05-13 04:30:55,500] Trial 96 finished with value: 0.9798697454114861 and parameters: {'n_estimators': 768, 'max_depth': 34, 'min_samples_split': 11, 'min_samples_leaf': 3, 'criterion': 'entropy', 'max_features': 'sqrt', 'bootstrap': False}. Best is trial 67 with value: 0.9819366301450992.\n",
      "[I 2024-05-13 04:31:13,945] Trial 97 pruned. \n",
      "[I 2024-05-13 04:31:49,134] Trial 98 finished with value: 0.9795434331455678 and parameters: {'n_estimators': 727, 'max_depth': 37, 'min_samples_split': 5, 'min_samples_leaf': 2, 'criterion': 'entropy', 'max_features': 'sqrt', 'bootstrap': False}. Best is trial 67 with value: 0.9819366301450992.\n",
      "[I 2024-05-13 04:32:05,539] Trial 99 pruned. \n",
      "[I 2024-05-13 04:32:10,169] Trial 100 pruned. \n",
      "[I 2024-05-13 04:32:50,324] Trial 101 finished with value: 0.9789504891787726 and parameters: {'n_estimators': 858, 'max_depth': 32, 'min_samples_split': 12, 'min_samples_leaf': 1, 'criterion': 'entropy', 'max_features': 'sqrt', 'bootstrap': False}. Best is trial 67 with value: 0.9819366301450992.\n",
      "[I 2024-05-13 04:33:12,867] Trial 102 pruned. \n",
      "[I 2024-05-13 04:33:35,716] Trial 103 pruned. \n",
      "[I 2024-05-13 04:34:12,491] Trial 104 finished with value: 0.980438648488441 and parameters: {'n_estimators': 781, 'max_depth': 30, 'min_samples_split': 13, 'min_samples_leaf': 1, 'criterion': 'entropy', 'max_features': 'sqrt', 'bootstrap': False}. Best is trial 67 with value: 0.9819366301450992.\n",
      "[I 2024-05-13 04:34:47,909] Trial 105 finished with value: 0.9798697454114861 and parameters: {'n_estimators': 756, 'max_depth': 33, 'min_samples_split': 11, 'min_samples_leaf': 3, 'criterion': 'entropy', 'max_features': 'sqrt', 'bootstrap': False}. Best is trial 67 with value: 0.9819366301450992.\n",
      "[I 2024-05-13 04:35:30,648] Trial 106 finished with value: 0.9789754219721647 and parameters: {'n_estimators': 934, 'max_depth': 31, 'min_samples_split': 10, 'min_samples_leaf': 3, 'criterion': 'entropy', 'max_features': 'sqrt', 'bootstrap': False}. Best is trial 67 with value: 0.9819366301450992.\n",
      "[I 2024-05-13 04:36:01,527] Trial 107 finished with value: 0.979012710611883 and parameters: {'n_estimators': 616, 'max_depth': 29, 'min_samples_split': 3, 'min_samples_leaf': 2, 'criterion': 'entropy', 'max_features': 'sqrt', 'bootstrap': False}. Best is trial 67 with value: 0.9819366301450992.\n",
      "[I 2024-05-13 04:36:24,706] Trial 108 pruned. \n",
      "[I 2024-05-13 04:36:58,797] Trial 109 finished with value: 0.9798816568047337 and parameters: {'n_estimators': 714, 'max_depth': 34, 'min_samples_split': 7, 'min_samples_leaf': 2, 'criterion': 'entropy', 'max_features': 'sqrt', 'bootstrap': False}. Best is trial 67 with value: 0.9819366301450992.\n",
      "[I 2024-05-13 04:37:18,414] Trial 110 pruned. \n",
      "[I 2024-05-13 04:37:37,153] Trial 111 pruned. \n",
      "[I 2024-05-13 04:38:14,241] Trial 112 finished with value: 0.980438648488441 and parameters: {'n_estimators': 781, 'max_depth': 30, 'min_samples_split': 13, 'min_samples_leaf': 1, 'criterion': 'entropy', 'max_features': 'sqrt', 'bootstrap': False}. Best is trial 67 with value: 0.9819366301450992.\n",
      "[I 2024-05-13 04:38:55,803] Trial 113 finished with value: 0.9819366301450992 and parameters: {'n_estimators': 880, 'max_depth': 32, 'min_samples_split': 9, 'min_samples_leaf': 1, 'criterion': 'entropy', 'max_features': 'sqrt', 'bootstrap': False}. Best is trial 67 with value: 0.9819366301450992.\n",
      "[I 2024-05-13 04:39:23,814] Trial 114 finished with value: 0.9801481481481481 and parameters: {'n_estimators': 568, 'max_depth': 33, 'min_samples_split': 8, 'min_samples_leaf': 2, 'criterion': 'entropy', 'max_features': 'sqrt', 'bootstrap': False}. Best is trial 67 with value: 0.9819366301450992.\n",
      "[I 2024-05-13 04:40:09,518] Trial 115 finished with value: 0.9804618117229129 and parameters: {'n_estimators': 994, 'max_depth': 31, 'min_samples_split': 9, 'min_samples_leaf': 3, 'criterion': 'entropy', 'max_features': 'sqrt', 'bootstrap': False}. Best is trial 67 with value: 0.9819366301450992.\n",
      "[I 2024-05-13 04:40:34,594] Trial 116 pruned. \n",
      "[I 2024-05-13 04:41:00,117] Trial 117 pruned. \n",
      "[I 2024-05-13 04:41:44,345] Trial 118 finished with value: 0.9789754219721647 and parameters: {'n_estimators': 972, 'max_depth': 31, 'min_samples_split': 10, 'min_samples_leaf': 3, 'criterion': 'log_loss', 'max_features': 'sqrt', 'bootstrap': False}. Best is trial 67 with value: 0.9819366301450992.\n",
      "[I 2024-05-13 04:42:02,023] Trial 119 pruned. \n",
      "[I 2024-05-13 04:42:06,516] Trial 120 pruned. \n",
      "[I 2024-05-13 04:42:30,852] Trial 121 finished with value: 0.9795676636067515 and parameters: {'n_estimators': 478, 'max_depth': 32, 'min_samples_split': 10, 'min_samples_leaf': 1, 'criterion': 'entropy', 'max_features': 'sqrt', 'bootstrap': False}. Best is trial 67 with value: 0.9819366301450992.\n",
      "[I 2024-05-13 04:43:15,082] Trial 122 finished with value: 0.981042654028436 and parameters: {'n_estimators': 946, 'max_depth': 29, 'min_samples_split': 6, 'min_samples_leaf': 2, 'criterion': 'entropy', 'max_features': 'sqrt', 'bootstrap': False}. Best is trial 67 with value: 0.9819366301450992.\n",
      "[I 2024-05-13 04:44:01,065] Trial 123 finished with value: 0.981042654028436 and parameters: {'n_estimators': 981, 'max_depth': 29, 'min_samples_split': 6, 'min_samples_leaf': 2, 'criterion': 'entropy', 'max_features': 'sqrt', 'bootstrap': False}. Best is trial 67 with value: 0.9819366301450992.\n",
      "[I 2024-05-13 04:44:45,506] Trial 124 finished with value: 0.9816350710900474 and parameters: {'n_estimators': 944, 'max_depth': 23, 'min_samples_split': 6, 'min_samples_leaf': 2, 'criterion': 'entropy', 'max_features': 'sqrt', 'bootstrap': False}. Best is trial 67 with value: 0.9819366301450992.\n",
      "[I 2024-05-13 04:45:29,762] Trial 125 finished with value: 0.9801833776989056 and parameters: {'n_estimators': 936, 'max_depth': 23, 'min_samples_split': 7, 'min_samples_leaf': 2, 'criterion': 'entropy', 'max_features': 'sqrt', 'bootstrap': False}. Best is trial 67 with value: 0.9819366301450992.\n",
      "[I 2024-05-13 04:45:55,940] Trial 126 pruned. \n",
      "[I 2024-05-13 04:46:23,256] Trial 127 pruned. \n",
      "[I 2024-05-13 04:47:08,590] Trial 128 finished with value: 0.9798697454114861 and parameters: {'n_estimators': 976, 'max_depth': 26, 'min_samples_split': 6, 'min_samples_leaf': 3, 'criterion': 'entropy', 'max_features': 'sqrt', 'bootstrap': False}. Best is trial 67 with value: 0.9819366301450992.\n",
      "[I 2024-05-13 04:47:51,139] Trial 129 finished with value: 0.9792776791000593 and parameters: {'n_estimators': 906, 'max_depth': 29, 'min_samples_split': 7, 'min_samples_leaf': 2, 'criterion': 'entropy', 'max_features': 'sqrt', 'bootstrap': False}. Best is trial 67 with value: 0.9819366301450992.\n",
      "[I 2024-05-13 04:48:15,617] Trial 130 pruned. \n",
      "[I 2024-05-13 04:49:00,894] Trial 131 finished with value: 0.9810650887573964 and parameters: {'n_estimators': 960, 'max_depth': 28, 'min_samples_split': 5, 'min_samples_leaf': 1, 'criterion': 'entropy', 'max_features': 'sqrt', 'bootstrap': False}. Best is trial 67 with value: 0.9819366301450992.\n",
      "[I 2024-05-13 04:49:44,453] Trial 132 finished with value: 0.9819366301450992 and parameters: {'n_estimators': 922, 'max_depth': 20, 'min_samples_split': 5, 'min_samples_leaf': 1, 'criterion': 'entropy', 'max_features': 'sqrt', 'bootstrap': False}. Best is trial 67 with value: 0.9819366301450992.\n",
      "[I 2024-05-13 04:50:28,006] Trial 133 finished with value: 0.981042654028436 and parameters: {'n_estimators': 924, 'max_depth': 18, 'min_samples_split': 4, 'min_samples_leaf': 1, 'criterion': 'entropy', 'max_features': 'sqrt', 'bootstrap': False}. Best is trial 67 with value: 0.9819366301450992.\n",
      "[I 2024-05-13 04:51:10,842] Trial 134 finished with value: 0.9801363771123629 and parameters: {'n_estimators': 917, 'max_depth': 17, 'min_samples_split': 5, 'min_samples_leaf': 1, 'criterion': 'entropy', 'max_features': 'sqrt', 'bootstrap': False}. Best is trial 67 with value: 0.9819366301450992.\n",
      "[I 2024-05-13 04:51:35,901] Trial 135 pruned. \n",
      "[I 2024-05-13 04:52:20,390] Trial 136 finished with value: 0.9816132858837485 and parameters: {'n_estimators': 932, 'max_depth': 19, 'min_samples_split': 2, 'min_samples_leaf': 1, 'criterion': 'entropy', 'max_features': 'sqrt', 'bootstrap': False}. Best is trial 67 with value: 0.9819366301450992.\n",
      "[I 2024-05-13 04:53:02,422] Trial 137 finished with value: 0.9816132858837485 and parameters: {'n_estimators': 880, 'max_depth': 19, 'min_samples_split': 2, 'min_samples_leaf': 1, 'criterion': 'entropy', 'max_features': 'sqrt', 'bootstrap': False}. Best is trial 67 with value: 0.9819366301450992.\n",
      "[I 2024-05-13 04:53:46,613] Trial 138 finished with value: 0.9807521468759254 and parameters: {'n_estimators': 925, 'max_depth': 20, 'min_samples_split': 2, 'min_samples_leaf': 1, 'criterion': 'entropy', 'max_features': 'sqrt', 'bootstrap': False}. Best is trial 67 with value: 0.9819366301450992.\n",
      "[I 2024-05-13 04:54:28,317] Trial 139 finished with value: 0.980438648488441 and parameters: {'n_estimators': 878, 'max_depth': 19, 'min_samples_split': 3, 'min_samples_leaf': 2, 'criterion': 'entropy', 'max_features': 'sqrt', 'bootstrap': False}. Best is trial 67 with value: 0.9819366301450992.\n",
      "[I 2024-05-13 04:55:10,791] Trial 140 finished with value: 0.981031416716064 and parameters: {'n_estimators': 900, 'max_depth': 18, 'min_samples_split': 3, 'min_samples_leaf': 1, 'criterion': 'entropy', 'max_features': 'sqrt', 'bootstrap': False}. Best is trial 67 with value: 0.9819366301450992.\n",
      "[I 2024-05-13 04:55:53,628] Trial 141 finished with value: 0.979531296351231 and parameters: {'n_estimators': 903, 'max_depth': 18, 'min_samples_split': 2, 'min_samples_leaf': 1, 'criterion': 'entropy', 'max_features': 'sqrt', 'bootstrap': False}. Best is trial 67 with value: 0.9819366301450992.\n",
      "[I 2024-05-13 04:56:17,157] Trial 142 pruned. \n",
      "[I 2024-05-13 04:56:41,385] Trial 143 pruned. \n",
      "[I 2024-05-13 04:57:26,707] Trial 144 finished with value: 0.9813333333333333 and parameters: {'n_estimators': 958, 'max_depth': 20, 'min_samples_split': 2, 'min_samples_leaf': 2, 'criterion': 'entropy', 'max_features': 'sqrt', 'bootstrap': False}. Best is trial 67 with value: 0.9819366301450992.\n",
      "[I 2024-05-13 04:58:12,023] Trial 145 finished with value: 0.9801363771123629 and parameters: {'n_estimators': 966, 'max_depth': 20, 'min_samples_split': 5, 'min_samples_leaf': 2, 'criterion': 'entropy', 'max_features': 'sqrt', 'bootstrap': False}. Best is trial 67 with value: 0.9819366301450992.\n",
      "[I 2024-05-13 04:58:30,669] Trial 146 pruned. \n",
      "[I 2024-05-13 04:59:16,504] Trial 147 finished with value: 0.980729321079158 and parameters: {'n_estimators': 991, 'max_depth': 21, 'min_samples_split': 2, 'min_samples_leaf': 3, 'criterion': 'log_loss', 'max_features': 'sqrt', 'bootstrap': False}. Best is trial 67 with value: 0.9819366301450992.\n",
      "[I 2024-05-13 05:00:00,642] Trial 148 finished with value: 0.9798219584569733 and parameters: {'n_estimators': 959, 'max_depth': 20, 'min_samples_split': 4, 'min_samples_leaf': 4, 'criterion': 'entropy', 'max_features': 'sqrt', 'bootstrap': False}. Best is trial 67 with value: 0.9819366301450992.\n",
      "[I 2024-05-13 05:00:10,107] Trial 149 pruned. \n",
      "[I 2024-05-13 05:00:53,409] Trial 150 finished with value: 0.9804618117229129 and parameters: {'n_estimators': 916, 'max_depth': 21, 'min_samples_split': 3, 'min_samples_leaf': 2, 'criterion': 'entropy', 'max_features': 'sqrt', 'bootstrap': False}. Best is trial 67 with value: 0.9819366301450992.\n",
      "[I 2024-05-13 05:01:36,005] Trial 151 finished with value: 0.9813333333333333 and parameters: {'n_estimators': 898, 'max_depth': 18, 'min_samples_split': 3, 'min_samples_leaf': 1, 'criterion': 'entropy', 'max_features': 'sqrt', 'bootstrap': False}. Best is trial 67 with value: 0.9819366301450992.\n",
      "[I 2024-05-13 05:02:16,943] Trial 152 finished with value: 0.9798339264531435 and parameters: {'n_estimators': 894, 'max_depth': 16, 'min_samples_split': 2, 'min_samples_leaf': 2, 'criterion': 'entropy', 'max_features': 'sqrt', 'bootstrap': False}. Best is trial 67 with value: 0.9819366301450992.\n",
      "[I 2024-05-13 05:03:03,926] Trial 153 finished with value: 0.9819473216928085 and parameters: {'n_estimators': 980, 'max_depth': 23, 'min_samples_split': 4, 'min_samples_leaf': 1, 'criterion': 'entropy', 'max_features': 'sqrt', 'bootstrap': False}. Best is trial 153 with value: 0.9819473216928085.\n",
      "[I 2024-05-13 05:03:50,580] Trial 154 finished with value: 0.9813443885105123 and parameters: {'n_estimators': 983, 'max_depth': 23, 'min_samples_split': 3, 'min_samples_leaf': 1, 'criterion': 'entropy', 'max_features': 'sqrt', 'bootstrap': False}. Best is trial 153 with value: 0.9819473216928085.\n",
      "[I 2024-05-13 05:04:36,518] Trial 155 finished with value: 0.981042654028436 and parameters: {'n_estimators': 957, 'max_depth': 24, 'min_samples_split': 3, 'min_samples_leaf': 1, 'criterion': 'entropy', 'max_features': 'sqrt', 'bootstrap': False}. Best is trial 153 with value: 0.9819473216928085.\n",
      "[I 2024-05-13 05:05:21,819] Trial 156 finished with value: 0.9813443885105123 and parameters: {'n_estimators': 945, 'max_depth': 23, 'min_samples_split': 2, 'min_samples_leaf': 1, 'criterion': 'entropy', 'max_features': 'sqrt', 'bootstrap': False}. Best is trial 153 with value: 0.9819473216928085.\n",
      "[I 2024-05-13 05:06:03,694] Trial 157 finished with value: 0.9801481481481481 and parameters: {'n_estimators': 864, 'max_depth': 23, 'min_samples_split': 2, 'min_samples_leaf': 1, 'criterion': 'entropy', 'max_features': 'sqrt', 'bootstrap': False}. Best is trial 153 with value: 0.9819473216928085.\n",
      "[I 2024-05-13 05:06:43,451] Trial 158 finished with value: 0.9798578199052133 and parameters: {'n_estimators': 842, 'max_depth': 23, 'min_samples_split': 3, 'min_samples_leaf': 3, 'criterion': 'entropy', 'max_features': 'sqrt', 'bootstrap': False}. Best is trial 153 with value: 0.9819473216928085.\n",
      "[I 2024-05-13 05:07:06,337] Trial 159 pruned. \n",
      "[I 2024-05-13 05:07:32,740] Trial 160 pruned. \n",
      "[I 2024-05-13 05:08:17,652] Trial 161 finished with value: 0.9816350710900474 and parameters: {'n_estimators': 942, 'max_depth': 20, 'min_samples_split': 3, 'min_samples_leaf': 1, 'criterion': 'entropy', 'max_features': 'sqrt', 'bootstrap': False}. Best is trial 153 with value: 0.9819473216928085.\n",
      "[I 2024-05-13 05:09:02,646] Trial 162 finished with value: 0.9813443885105123 and parameters: {'n_estimators': 942, 'max_depth': 19, 'min_samples_split': 3, 'min_samples_leaf': 1, 'criterion': 'entropy', 'max_features': 'sqrt', 'bootstrap': False}. Best is trial 153 with value: 0.9819473216928085.\n",
      "[I 2024-05-13 05:09:47,372] Trial 163 finished with value: 0.9813443885105123 and parameters: {'n_estimators': 939, 'max_depth': 20, 'min_samples_split': 3, 'min_samples_leaf': 1, 'criterion': 'entropy', 'max_features': 'sqrt', 'bootstrap': False}. Best is trial 153 with value: 0.9819473216928085.\n",
      "[I 2024-05-13 05:10:32,344] Trial 164 finished with value: 0.9816459443457667 and parameters: {'n_estimators': 939, 'max_depth': 21, 'min_samples_split': 3, 'min_samples_leaf': 1, 'criterion': 'entropy', 'max_features': 'sqrt', 'bootstrap': False}. Best is trial 153 with value: 0.9819473216928085.\n",
      "[I 2024-05-13 05:11:16,446] Trial 165 finished with value: 0.9813333333333333 and parameters: {'n_estimators': 933, 'max_depth': 20, 'min_samples_split': 3, 'min_samples_leaf': 2, 'criterion': 'entropy', 'max_features': 'sqrt', 'bootstrap': False}. Best is trial 153 with value: 0.9819473216928085.\n",
      "[I 2024-05-13 05:12:02,774] Trial 166 finished with value: 0.980729321079158 and parameters: {'n_estimators': 998, 'max_depth': 21, 'min_samples_split': 2, 'min_samples_leaf': 3, 'criterion': 'entropy', 'max_features': 'sqrt', 'bootstrap': False}. Best is trial 153 with value: 0.9819473216928085.\n",
      "[I 2024-05-13 05:12:46,258] Trial 167 finished with value: 0.9816459443457667 and parameters: {'n_estimators': 907, 'max_depth': 19, 'min_samples_split': 3, 'min_samples_leaf': 1, 'criterion': 'entropy', 'max_features': 'sqrt', 'bootstrap': False}. Best is trial 153 with value: 0.9819473216928085.\n",
      "[I 2024-05-13 05:13:08,026] Trial 168 pruned. \n",
      "[I 2024-05-13 05:13:51,159] Trial 169 finished with value: 0.9813333333333333 and parameters: {'n_estimators': 910, 'max_depth': 20, 'min_samples_split': 4, 'min_samples_leaf': 2, 'criterion': 'entropy', 'max_features': 'sqrt', 'bootstrap': False}. Best is trial 153 with value: 0.9819473216928085.\n",
      "[I 2024-05-13 05:14:37,493] Trial 170 finished with value: 0.9816350710900474 and parameters: {'n_estimators': 973, 'max_depth': 24, 'min_samples_split': 2, 'min_samples_leaf': 1, 'criterion': 'entropy', 'max_features': 'sqrt', 'bootstrap': False}. Best is trial 153 with value: 0.9819473216928085.\n",
      "[I 2024-05-13 05:15:24,565] Trial 171 finished with value: 0.981031416716064 and parameters: {'n_estimators': 980, 'max_depth': 22, 'min_samples_split': 2, 'min_samples_leaf': 1, 'criterion': 'entropy', 'max_features': 'sqrt', 'bootstrap': False}. Best is trial 153 with value: 0.9819473216928085.\n",
      "[I 2024-05-13 05:16:10,790] Trial 172 finished with value: 0.9816350710900474 and parameters: {'n_estimators': 964, 'max_depth': 24, 'min_samples_split': 2, 'min_samples_leaf': 1, 'criterion': 'entropy', 'max_features': 'sqrt', 'bootstrap': False}. Best is trial 153 with value: 0.9819473216928085.\n",
      "[I 2024-05-13 05:16:55,702] Trial 173 finished with value: 0.9813443885105123 and parameters: {'n_estimators': 937, 'max_depth': 24, 'min_samples_split': 3, 'min_samples_leaf': 1, 'criterion': 'entropy', 'max_features': 'sqrt', 'bootstrap': False}. Best is trial 153 with value: 0.9819473216928085.\n",
      "[I 2024-05-13 05:17:40,638] Trial 174 finished with value: 0.9813443885105123 and parameters: {'n_estimators': 939, 'max_depth': 24, 'min_samples_split': 3, 'min_samples_leaf': 1, 'criterion': 'entropy', 'max_features': 'sqrt', 'bootstrap': False}. Best is trial 153 with value: 0.9819473216928085.\n",
      "[I 2024-05-13 05:18:25,093] Trial 175 finished with value: 0.9816568047337279 and parameters: {'n_estimators': 917, 'max_depth': 23, 'min_samples_split': 4, 'min_samples_leaf': 1, 'criterion': 'entropy', 'max_features': 'sqrt', 'bootstrap': False}. Best is trial 153 with value: 0.9819473216928085.\n",
      "[I 2024-05-13 05:19:09,108] Trial 176 finished with value: 0.9816568047337279 and parameters: {'n_estimators': 916, 'max_depth': 23, 'min_samples_split': 4, 'min_samples_leaf': 1, 'criterion': 'entropy', 'max_features': 'sqrt', 'bootstrap': False}. Best is trial 153 with value: 0.9819473216928085.\n",
      "[I 2024-05-13 05:19:26,716] Trial 177 pruned. \n",
      "[I 2024-05-13 05:20:10,035] Trial 178 finished with value: 0.981042654028436 and parameters: {'n_estimators': 915, 'max_depth': 23, 'min_samples_split': 4, 'min_samples_leaf': 2, 'criterion': 'entropy', 'max_features': 'sqrt', 'bootstrap': False}. Best is trial 153 with value: 0.9819473216928085.\n",
      "[I 2024-05-13 05:20:56,715] Trial 179 finished with value: 0.9813222650459532 and parameters: {'n_estimators': 971, 'max_depth': 25, 'min_samples_split': 2, 'min_samples_leaf': 1, 'criterion': 'entropy', 'max_features': 'sqrt', 'bootstrap': False}. Best is trial 153 with value: 0.9819473216928085.\n",
      "[I 2024-05-13 05:21:42,264] Trial 180 finished with value: 0.9798697454114861 and parameters: {'n_estimators': 985, 'max_depth': 25, 'min_samples_split': 2, 'min_samples_leaf': 3, 'criterion': 'entropy', 'max_features': 'sqrt', 'bootstrap': False}. Best is trial 153 with value: 0.9819473216928085.\n",
      "[I 2024-05-13 05:22:26,485] Trial 181 finished with value: 0.9816459443457667 and parameters: {'n_estimators': 926, 'max_depth': 21, 'min_samples_split': 3, 'min_samples_leaf': 1, 'criterion': 'entropy', 'max_features': 'sqrt', 'bootstrap': False}. Best is trial 153 with value: 0.9819473216928085.\n",
      "[I 2024-05-13 05:23:10,239] Trial 182 finished with value: 0.9816568047337279 and parameters: {'n_estimators': 915, 'max_depth': 23, 'min_samples_split': 4, 'min_samples_leaf': 1, 'criterion': 'entropy', 'max_features': 'sqrt', 'bootstrap': False}. Best is trial 153 with value: 0.9819473216928085.\n",
      "[I 2024-05-13 05:23:53,599] Trial 183 finished with value: 0.981042654028436 and parameters: {'n_estimators': 915, 'max_depth': 23, 'min_samples_split': 4, 'min_samples_leaf': 2, 'criterion': 'entropy', 'max_features': 'sqrt', 'bootstrap': False}. Best is trial 153 with value: 0.9819473216928085.\n",
      "[I 2024-05-13 05:24:03,156] Trial 184 pruned. \n",
      "[I 2024-05-13 05:24:26,214] Trial 185 pruned. \n",
      "[I 2024-05-13 05:25:11,517] Trial 186 finished with value: 0.9813443885105123 and parameters: {'n_estimators': 957, 'max_depth': 22, 'min_samples_split': 3, 'min_samples_leaf': 2, 'criterion': 'entropy', 'max_features': 'sqrt', 'bootstrap': False}. Best is trial 153 with value: 0.9819473216928085.\n",
      "[I 2024-05-13 05:25:59,042] Trial 187 finished with value: 0.9813554306007695 and parameters: {'n_estimators': 999, 'max_depth': 24, 'min_samples_split': 4, 'min_samples_leaf': 1, 'criterion': 'entropy', 'max_features': 'sqrt', 'bootstrap': False}. Best is trial 153 with value: 0.9819473216928085.\n",
      "[I 2024-05-13 05:26:45,021] Trial 188 finished with value: 0.981042654028436 and parameters: {'n_estimators': 973, 'max_depth': 24, 'min_samples_split': 4, 'min_samples_leaf': 2, 'criterion': 'entropy', 'max_features': 'sqrt', 'bootstrap': False}. Best is trial 153 with value: 0.9819473216928085.\n",
      "[I 2024-05-13 05:27:32,707] Trial 189 finished with value: 0.9819366301450992 and parameters: {'n_estimators': 1000, 'max_depth': 21, 'min_samples_split': 5, 'min_samples_leaf': 1, 'criterion': 'entropy', 'max_features': 'sqrt', 'bootstrap': False}. Best is trial 153 with value: 0.9819473216928085.\n",
      "[I 2024-05-13 05:28:09,891] Trial 190 pruned. \n",
      "[I 2024-05-13 05:28:57,213] Trial 191 finished with value: 0.9813554306007695 and parameters: {'n_estimators': 1000, 'max_depth': 22, 'min_samples_split': 4, 'min_samples_leaf': 1, 'criterion': 'entropy', 'max_features': 'sqrt', 'bootstrap': False}. Best is trial 153 with value: 0.9819473216928085.\n",
      "[I 2024-05-13 05:29:42,893] Trial 192 finished with value: 0.9804618117229129 and parameters: {'n_estimators': 966, 'max_depth': 22, 'min_samples_split': 5, 'min_samples_leaf': 1, 'criterion': 'entropy', 'max_features': 'sqrt', 'bootstrap': False}. Best is trial 153 with value: 0.9819473216928085.\n",
      "[I 2024-05-13 05:30:09,813] Trial 193 pruned. \n",
      "[I 2024-05-13 05:30:24,463] Trial 194 finished with value: 0.9792654028436019 and parameters: {'n_estimators': 245, 'max_depth': 24, 'min_samples_split': 4, 'min_samples_leaf': 2, 'criterion': 'entropy', 'max_features': 'sqrt', 'bootstrap': False}. Best is trial 153 with value: 0.9819473216928085.\n",
      "[I 2024-05-13 05:31:07,490] Trial 195 finished with value: 0.9807521468759254 and parameters: {'n_estimators': 905, 'max_depth': 22, 'min_samples_split': 4, 'min_samples_leaf': 2, 'criterion': 'entropy', 'max_features': 'sqrt', 'bootstrap': False}. Best is trial 153 with value: 0.9819473216928085.\n",
      "[I 2024-05-13 05:31:53,093] Trial 196 finished with value: 0.9813443885105123 and parameters: {'n_estimators': 963, 'max_depth': 21, 'min_samples_split': 5, 'min_samples_leaf': 1, 'criterion': 'entropy', 'max_features': 'sqrt', 'bootstrap': False}. Best is trial 153 with value: 0.9819473216928085.\n",
      "[I 2024-05-13 05:32:14,218] Trial 197 pruned. \n",
      "[I 2024-05-13 05:32:37,804] Trial 198 pruned. \n",
      "[I 2024-05-13 05:33:24,112] Trial 199 finished with value: 0.9804270462633452 and parameters: {'n_estimators': 982, 'max_depth': 26, 'min_samples_split': 5, 'min_samples_leaf': 2, 'criterion': 'entropy', 'max_features': 'sqrt', 'bootstrap': False}. Best is trial 153 with value: 0.9819473216928085.\n",
      "[I 2024-05-13 05:34:07,046] Trial 200 finished with value: 0.981300089047195 and parameters: {'n_estimators': 888, 'max_depth': 25, 'min_samples_split': 2, 'min_samples_leaf': 1, 'criterion': 'entropy', 'max_features': 'sqrt', 'bootstrap': False}. Best is trial 153 with value: 0.9819473216928085.\n",
      "[I 2024-05-13 05:34:53,986] Trial 201 finished with value: 0.9813443885105123 and parameters: {'n_estimators': 983, 'max_depth': 23, 'min_samples_split': 3, 'min_samples_leaf': 1, 'criterion': 'entropy', 'max_features': 'sqrt', 'bootstrap': False}. Best is trial 153 with value: 0.9819473216928085.\n",
      "[I 2024-05-13 05:35:41,798] Trial 202 finished with value: 0.9819473216928085 and parameters: {'n_estimators': 1000, 'max_depth': 24, 'min_samples_split': 3, 'min_samples_leaf': 1, 'criterion': 'entropy', 'max_features': 'sqrt', 'bootstrap': False}. Best is trial 153 with value: 0.9819473216928085.\n",
      "[I 2024-05-13 05:36:27,525] Trial 203 finished with value: 0.980438648488441 and parameters: {'n_estimators': 954, 'max_depth': 19, 'min_samples_split': 4, 'min_samples_leaf': 2, 'criterion': 'entropy', 'max_features': 'sqrt', 'bootstrap': False}. Best is trial 153 with value: 0.9819473216928085.\n",
      "[I 2024-05-13 05:37:15,165] Trial 204 finished with value: 0.9819473216928085 and parameters: {'n_estimators': 998, 'max_depth': 24, 'min_samples_split': 3, 'min_samples_leaf': 1, 'criterion': 'entropy', 'max_features': 'sqrt', 'bootstrap': False}. Best is trial 153 with value: 0.9819473216928085.\n",
      "[I 2024-05-13 05:38:01,493] Trial 205 finished with value: 0.9813222650459532 and parameters: {'n_estimators': 966, 'max_depth': 25, 'min_samples_split': 2, 'min_samples_leaf': 1, 'criterion': 'entropy', 'max_features': 'sqrt', 'bootstrap': False}. Best is trial 153 with value: 0.9819473216928085.\n",
      "[I 2024-05-13 05:38:27,875] Trial 206 pruned. \n",
      "[I 2024-05-13 05:38:52,239] Trial 207 pruned. \n",
      "[I 2024-05-13 05:39:08,142] Trial 208 pruned. \n",
      "[I 2024-05-13 05:39:55,399] Trial 209 finished with value: 0.9807407407407407 and parameters: {'n_estimators': 986, 'max_depth': 22, 'min_samples_split': 2, 'min_samples_leaf': 1, 'criterion': 'entropy', 'max_features': 'sqrt', 'bootstrap': False}. Best is trial 153 with value: 0.9819473216928085.\n",
      "[I 2024-05-13 05:40:05,719] Trial 210 pruned. \n",
      "[I 2024-05-13 05:40:53,007] Trial 211 finished with value: 0.9816568047337279 and parameters: {'n_estimators': 993, 'max_depth': 23, 'min_samples_split': 4, 'min_samples_leaf': 1, 'criterion': 'entropy', 'max_features': 'sqrt', 'bootstrap': False}. Best is trial 153 with value: 0.9819473216928085.\n",
      "[I 2024-05-13 05:41:40,295] Trial 212 finished with value: 0.9822485207100592 and parameters: {'n_estimators': 998, 'max_depth': 25, 'min_samples_split': 4, 'min_samples_leaf': 1, 'criterion': 'entropy', 'max_features': 'sqrt', 'bootstrap': False}. Best is trial 212 with value: 0.9822485207100592.\n",
      "[I 2024-05-13 05:42:07,878] Trial 213 pruned. \n",
      "[I 2024-05-13 05:42:53,066] Trial 214 finished with value: 0.9813554306007695 and parameters: {'n_estimators': 944, 'max_depth': 21, 'min_samples_split': 3, 'min_samples_leaf': 1, 'criterion': 'entropy', 'max_features': 'sqrt', 'bootstrap': False}. Best is trial 212 with value: 0.9822485207100592.\n",
      "[I 2024-05-13 05:43:39,334] Trial 215 finished with value: 0.9798816568047337 and parameters: {'n_estimators': 978, 'max_depth': 25, 'min_samples_split': 4, 'min_samples_leaf': 2, 'criterion': 'entropy', 'max_features': 'sqrt', 'bootstrap': False}. Best is trial 212 with value: 0.9822485207100592.\n",
      "[I 2024-05-13 05:44:25,320] Trial 216 finished with value: 0.9816350710900474 and parameters: {'n_estimators': 957, 'max_depth': 23, 'min_samples_split': 2, 'min_samples_leaf': 1, 'criterion': 'entropy', 'max_features': 'sqrt', 'bootstrap': False}. Best is trial 212 with value: 0.9822485207100592.\n",
      "[I 2024-05-13 05:44:52,544] Trial 217 pruned. \n",
      "[I 2024-05-13 05:45:37,903] Trial 218 finished with value: 0.9816459443457667 and parameters: {'n_estimators': 946, 'max_depth': 22, 'min_samples_split': 3, 'min_samples_leaf': 1, 'criterion': 'entropy', 'max_features': 'sqrt', 'bootstrap': False}. Best is trial 212 with value: 0.9822485207100592.\n",
      "[I 2024-05-13 05:46:05,407] Trial 219 pruned. \n",
      "[I 2024-05-13 05:46:50,916] Trial 220 finished with value: 0.981042654028436 and parameters: {'n_estimators': 958, 'max_depth': 23, 'min_samples_split': 3, 'min_samples_leaf': 2, 'criterion': 'entropy', 'max_features': 'sqrt', 'bootstrap': False}. Best is trial 212 with value: 0.9822485207100592.\n",
      "[I 2024-05-13 05:47:36,000] Trial 221 finished with value: 0.9819473216928085 and parameters: {'n_estimators': 938, 'max_depth': 21, 'min_samples_split': 2, 'min_samples_leaf': 1, 'criterion': 'entropy', 'max_features': 'sqrt', 'bootstrap': False}. Best is trial 212 with value: 0.9822485207100592.\n",
      "[I 2024-05-13 05:48:21,414] Trial 222 finished with value: 0.9813554306007695 and parameters: {'n_estimators': 944, 'max_depth': 21, 'min_samples_split': 3, 'min_samples_leaf': 1, 'criterion': 'entropy', 'max_features': 'sqrt', 'bootstrap': False}. Best is trial 212 with value: 0.9822485207100592.\n",
      "[I 2024-05-13 05:49:05,209] Trial 223 finished with value: 0.9813333333333333 and parameters: {'n_estimators': 913, 'max_depth': 24, 'min_samples_split': 2, 'min_samples_leaf': 1, 'criterion': 'entropy', 'max_features': 'sqrt', 'bootstrap': False}. Best is trial 212 with value: 0.9822485207100592.\n",
      "[I 2024-05-13 05:49:50,847] Trial 224 finished with value: 0.9816459443457667 and parameters: {'n_estimators': 968, 'max_depth': 22, 'min_samples_split': 3, 'min_samples_leaf': 2, 'criterion': 'entropy', 'max_features': 'sqrt', 'bootstrap': False}. Best is trial 212 with value: 0.9822485207100592.\n",
      "[I 2024-05-13 05:50:19,250] Trial 225 pruned. \n",
      "[I 2024-05-13 05:51:05,546] Trial 226 finished with value: 0.9810538780343399 and parameters: {'n_estimators': 977, 'max_depth': 21, 'min_samples_split': 4, 'min_samples_leaf': 2, 'criterion': 'entropy', 'max_features': 'sqrt', 'bootstrap': False}. Best is trial 212 with value: 0.9822485207100592.\n",
      "[I 2024-05-13 05:51:50,411] Trial 227 finished with value: 0.9816459443457667 and parameters: {'n_estimators': 934, 'max_depth': 22, 'min_samples_split': 3, 'min_samples_leaf': 1, 'criterion': 'entropy', 'max_features': 'sqrt', 'bootstrap': False}. Best is trial 212 with value: 0.9822485207100592.\n",
      "[I 2024-05-13 05:52:34,794] Trial 228 finished with value: 0.9813443885105123 and parameters: {'n_estimators': 935, 'max_depth': 22, 'min_samples_split': 3, 'min_samples_leaf': 2, 'criterion': 'entropy', 'max_features': 'sqrt', 'bootstrap': False}. Best is trial 212 with value: 0.9822485207100592.\n",
      "[I 2024-05-13 05:53:18,227] Trial 229 finished with value: 0.9816568047337279 and parameters: {'n_estimators': 914, 'max_depth': 20, 'min_samples_split': 4, 'min_samples_leaf': 1, 'criterion': 'entropy', 'max_features': 'sqrt', 'bootstrap': False}. Best is trial 212 with value: 0.9822485207100592.\n",
      "[I 2024-05-13 05:53:43,813] Trial 230 pruned. \n",
      "[I 2024-05-13 05:54:06,145] Trial 231 pruned. \n",
      "[I 2024-05-13 05:54:25,650] Trial 232 finished with value: 0.9801599052413384 and parameters: {'n_estimators': 352, 'max_depth': 20, 'min_samples_split': 4, 'min_samples_leaf': 1, 'criterion': 'entropy', 'max_features': 'sqrt', 'bootstrap': False}. Best is trial 212 with value: 0.9822485207100592.\n",
      "[I 2024-05-13 05:55:10,732] Trial 233 finished with value: 0.9816459443457667 and parameters: {'n_estimators': 941, 'max_depth': 22, 'min_samples_split': 3, 'min_samples_leaf': 1, 'criterion': 'entropy', 'max_features': 'sqrt', 'bootstrap': False}. Best is trial 212 with value: 0.9822485207100592.\n",
      "[I 2024-05-13 05:55:54,840] Trial 234 finished with value: 0.9804618117229129 and parameters: {'n_estimators': 935, 'max_depth': 22, 'min_samples_split': 5, 'min_samples_leaf': 1, 'criterion': 'entropy', 'max_features': 'sqrt', 'bootstrap': False}. Best is trial 212 with value: 0.9822485207100592.\n",
      "[I 2024-05-13 05:56:37,372] Trial 235 finished with value: 0.9816459443457667 and parameters: {'n_estimators': 889, 'max_depth': 21, 'min_samples_split': 4, 'min_samples_leaf': 1, 'criterion': 'entropy', 'max_features': 'sqrt', 'bootstrap': False}. Best is trial 212 with value: 0.9822485207100592.\n",
      "[I 2024-05-13 05:57:20,167] Trial 236 finished with value: 0.9807635395087304 and parameters: {'n_estimators': 893, 'max_depth': 21, 'min_samples_split': 4, 'min_samples_leaf': 2, 'criterion': 'entropy', 'max_features': 'sqrt', 'bootstrap': False}. Best is trial 212 with value: 0.9822485207100592.\n",
      "[I 2024-05-13 05:57:43,231] Trial 237 pruned. \n",
      "[I 2024-05-13 05:58:24,330] Trial 238 finished with value: 0.9819473216928085 and parameters: {'n_estimators': 854, 'max_depth': 23, 'min_samples_split': 4, 'min_samples_leaf': 1, 'criterion': 'entropy', 'max_features': 'sqrt', 'bootstrap': False}. Best is trial 212 with value: 0.9822485207100592.\n",
      "[I 2024-05-13 05:59:05,552] Trial 239 finished with value: 0.9816459443457667 and parameters: {'n_estimators': 857, 'max_depth': 21, 'min_samples_split': 3, 'min_samples_leaf': 1, 'criterion': 'entropy', 'max_features': 'sqrt', 'bootstrap': False}. Best is trial 212 with value: 0.9822485207100592.\n",
      "[I 2024-05-13 05:59:30,771] Trial 240 pruned. \n",
      "[I 2024-05-13 06:00:11,549] Trial 241 finished with value: 0.981042654028436 and parameters: {'n_estimators': 843, 'max_depth': 21, 'min_samples_split': 3, 'min_samples_leaf': 1, 'criterion': 'entropy', 'max_features': 'sqrt', 'bootstrap': False}. Best is trial 212 with value: 0.9822485207100592.\n",
      "[I 2024-05-13 06:00:53,197] Trial 242 finished with value: 0.9816459443457667 and parameters: {'n_estimators': 856, 'max_depth': 22, 'min_samples_split': 3, 'min_samples_leaf': 1, 'criterion': 'entropy', 'max_features': 'sqrt', 'bootstrap': False}. Best is trial 212 with value: 0.9822485207100592.\n",
      "[I 2024-05-13 06:01:34,825] Trial 243 finished with value: 0.9813443885105123 and parameters: {'n_estimators': 870, 'max_depth': 20, 'min_samples_split': 5, 'min_samples_leaf': 1, 'criterion': 'entropy', 'max_features': 'sqrt', 'bootstrap': False}. Best is trial 212 with value: 0.9822485207100592.\n",
      "[I 2024-05-13 06:02:17,176] Trial 244 finished with value: 0.9807635395087304 and parameters: {'n_estimators': 897, 'max_depth': 21, 'min_samples_split': 3, 'min_samples_leaf': 2, 'criterion': 'entropy', 'max_features': 'sqrt', 'bootstrap': False}. Best is trial 212 with value: 0.9822485207100592.\n",
      "[I 2024-05-13 06:02:59,334] Trial 245 finished with value: 0.9819580005915409 and parameters: {'n_estimators': 880, 'max_depth': 22, 'min_samples_split': 4, 'min_samples_leaf': 1, 'criterion': 'entropy', 'max_features': 'sqrt', 'bootstrap': False}. Best is trial 212 with value: 0.9822485207100592.\n",
      "[I 2024-05-13 06:03:24,873] Trial 246 pruned. \n",
      "[I 2024-05-13 06:04:08,472] Trial 247 finished with value: 0.9816568047337279 and parameters: {'n_estimators': 915, 'max_depth': 22, 'min_samples_split': 4, 'min_samples_leaf': 1, 'criterion': 'entropy', 'max_features': 'sqrt', 'bootstrap': False}. Best is trial 212 with value: 0.9822485207100592.\n",
      "[I 2024-05-13 06:04:52,250] Trial 248 finished with value: 0.981042654028436 and parameters: {'n_estimators': 921, 'max_depth': 22, 'min_samples_split': 4, 'min_samples_leaf': 2, 'criterion': 'entropy', 'max_features': 'sqrt', 'bootstrap': False}. Best is trial 212 with value: 0.9822485207100592.\n",
      "[I 2024-05-13 06:05:10,540] Trial 249 pruned. \n",
      "[I 2024-05-13 06:05:14,434] Trial 250 pruned. \n",
      "[I 2024-05-13 06:05:58,450] Trial 251 finished with value: 0.9798816568047337 and parameters: {'n_estimators': 924, 'max_depth': 23, 'min_samples_split': 5, 'min_samples_leaf': 1, 'criterion': 'entropy', 'max_features': 'sqrt', 'bootstrap': False}. Best is trial 212 with value: 0.9822485207100592.\n",
      "[I 2024-05-13 06:06:26,879] Trial 252 pruned. \n",
      "[I 2024-05-13 06:07:10,148] Trial 253 finished with value: 0.9819473216928085 and parameters: {'n_estimators': 904, 'max_depth': 24, 'min_samples_split': 4, 'min_samples_leaf': 1, 'criterion': 'entropy', 'max_features': 'sqrt', 'bootstrap': False}. Best is trial 212 with value: 0.9822485207100592.\n",
      "[I 2024-05-13 06:07:52,193] Trial 254 finished with value: 0.9816459443457667 and parameters: {'n_estimators': 878, 'max_depth': 25, 'min_samples_split': 5, 'min_samples_leaf': 1, 'criterion': 'entropy', 'max_features': 'sqrt', 'bootstrap': False}. Best is trial 212 with value: 0.9822485207100592.\n",
      "[I 2024-05-13 06:08:35,265] Trial 255 finished with value: 0.9804502369668247 and parameters: {'n_estimators': 908, 'max_depth': 24, 'min_samples_split': 4, 'min_samples_leaf': 2, 'criterion': 'entropy', 'max_features': 'sqrt', 'bootstrap': False}. Best is trial 212 with value: 0.9822485207100592.\n",
      "[I 2024-05-13 06:08:52,044] Trial 256 finished with value: 0.9795676636067515 and parameters: {'n_estimators': 294, 'max_depth': 23, 'min_samples_split': 4, 'min_samples_leaf': 2, 'criterion': 'log_loss', 'max_features': 'sqrt', 'bootstrap': False}. Best is trial 212 with value: 0.9822485207100592.\n",
      "[I 2024-05-13 06:09:34,236] Trial 257 finished with value: 0.9816459443457667 and parameters: {'n_estimators': 871, 'max_depth': 24, 'min_samples_split': 4, 'min_samples_leaf': 1, 'criterion': 'entropy', 'max_features': 'sqrt', 'bootstrap': False}. Best is trial 212 with value: 0.9822485207100592.\n",
      "[I 2024-05-13 06:10:17,185] Trial 258 finished with value: 0.9813554306007695 and parameters: {'n_estimators': 902, 'max_depth': 25, 'min_samples_split': 5, 'min_samples_leaf': 1, 'criterion': 'entropy', 'max_features': 'sqrt', 'bootstrap': False}. Best is trial 212 with value: 0.9822485207100592.\n",
      "[I 2024-05-13 06:10:43,772] Trial 259 pruned. \n",
      "[I 2024-05-13 06:11:30,371] Trial 260 finished with value: 0.981042654028436 and parameters: {'n_estimators': 986, 'max_depth': 24, 'min_samples_split': 3, 'min_samples_leaf': 2, 'criterion': 'entropy', 'max_features': 'sqrt', 'bootstrap': False}. Best is trial 212 with value: 0.9822485207100592.\n",
      "[I 2024-05-13 06:12:13,261] Trial 261 finished with value: 0.9798816568047337 and parameters: {'n_estimators': 897, 'max_depth': 23, 'min_samples_split': 5, 'min_samples_leaf': 1, 'criterion': 'entropy', 'max_features': 'sqrt', 'bootstrap': False}. Best is trial 212 with value: 0.9822485207100592.\n",
      "[I 2024-05-13 06:12:18,858] Trial 262 pruned. \n",
      "[I 2024-05-13 06:13:03,658] Trial 263 finished with value: 0.980438648488441 and parameters: {'n_estimators': 956, 'max_depth': 19, 'min_samples_split': 4, 'min_samples_leaf': 2, 'criterion': 'entropy', 'max_features': 'sqrt', 'bootstrap': False}. Best is trial 212 with value: 0.9822485207100592.\n",
      "[I 2024-05-13 06:13:47,784] Trial 264 finished with value: 0.9816350710900474 and parameters: {'n_estimators': 924, 'max_depth': 20, 'min_samples_split': 3, 'min_samples_leaf': 1, 'criterion': 'entropy', 'max_features': 'sqrt', 'bootstrap': False}. Best is trial 212 with value: 0.9822485207100592.\n",
      "[I 2024-05-13 06:14:14,901] Trial 265 pruned. \n",
      "[I 2024-05-13 06:14:43,856] Trial 266 pruned. \n",
      "[I 2024-05-13 06:15:02,961] Trial 267 pruned. \n",
      "[I 2024-05-13 06:15:28,432] Trial 268 pruned. \n",
      "[I 2024-05-13 06:16:13,762] Trial 269 finished with value: 0.9801599052413384 and parameters: {'n_estimators': 961, 'max_depth': 25, 'min_samples_split': 4, 'min_samples_leaf': 2, 'criterion': 'entropy', 'max_features': 'sqrt', 'bootstrap': False}. Best is trial 212 with value: 0.9822485207100592.\n",
      "[I 2024-05-13 06:16:23,641] Trial 270 pruned. \n",
      "[I 2024-05-13 06:16:50,164] Trial 271 pruned. \n",
      "[I 2024-05-13 06:17:36,316] Trial 272 finished with value: 0.9798816568047337 and parameters: {'n_estimators': 977, 'max_depth': 23, 'min_samples_split': 5, 'min_samples_leaf': 1, 'criterion': 'entropy', 'max_features': 'sqrt', 'bootstrap': False}. Best is trial 212 with value: 0.9822485207100592.\n",
      "[I 2024-05-13 06:18:02,426] Trial 273 pruned. \n",
      "[I 2024-05-13 06:18:50,092] Trial 274 finished with value: 0.981042654028436 and parameters: {'n_estimators': 1000, 'max_depth': 22, 'min_samples_split': 3, 'min_samples_leaf': 1, 'criterion': 'entropy', 'max_features': 'sqrt', 'bootstrap': False}. Best is trial 212 with value: 0.9822485207100592.\n",
      "[I 2024-05-13 06:19:15,938] Trial 275 pruned. \n",
      "[I 2024-05-13 06:19:40,238] Trial 276 pruned. \n",
      "[I 2024-05-13 06:20:20,219] Trial 277 finished with value: 0.980729321079158 and parameters: {'n_estimators': 831, 'max_depth': 24, 'min_samples_split': 3, 'min_samples_leaf': 2, 'criterion': 'entropy', 'max_features': 'sqrt', 'bootstrap': False}. Best is trial 212 with value: 0.9822485207100592.\n",
      "[I 2024-05-13 06:21:06,246] Trial 278 finished with value: 0.9813554306007695 and parameters: {'n_estimators': 968, 'max_depth': 22, 'min_samples_split': 4, 'min_samples_leaf': 1, 'criterion': 'log_loss', 'max_features': 'sqrt', 'bootstrap': False}. Best is trial 212 with value: 0.9822485207100592.\n",
      "[I 2024-05-13 06:21:29,181] Trial 279 pruned. \n",
      "[I 2024-05-13 06:21:55,467] Trial 280 pruned. \n",
      "[I 2024-05-13 06:22:40,379] Trial 281 finished with value: 0.9813443885105123 and parameters: {'n_estimators': 955, 'max_depth': 20, 'min_samples_split': 5, 'min_samples_leaf': 1, 'criterion': 'entropy', 'max_features': 'sqrt', 'bootstrap': False}. Best is trial 212 with value: 0.9822485207100592.\n",
      "[I 2024-05-13 06:23:08,341] Trial 282 pruned. \n",
      "[I 2024-05-13 06:23:52,853] Trial 283 finished with value: 0.981042654028436 and parameters: {'n_estimators': 903, 'max_depth': 24, 'min_samples_split': 2, 'min_samples_leaf': 1, 'criterion': 'entropy', 'max_features': 'sqrt', 'bootstrap': False}. Best is trial 212 with value: 0.9822485207100592.\n",
      "[I 2024-05-13 06:24:37,517] Trial 284 finished with value: 0.9813554306007695 and parameters: {'n_estimators': 941, 'max_depth': 23, 'min_samples_split': 4, 'min_samples_leaf': 1, 'criterion': 'entropy', 'max_features': 'sqrt', 'bootstrap': False}. Best is trial 212 with value: 0.9822485207100592.\n",
      "[I 2024-05-13 06:25:02,216] Trial 285 pruned. \n",
      "[I 2024-05-13 06:25:20,348] Trial 286 pruned. \n",
      "[I 2024-05-13 06:26:06,530] Trial 287 finished with value: 0.9813443885105123 and parameters: {'n_estimators': 968, 'max_depth': 23, 'min_samples_split': 3, 'min_samples_leaf': 1, 'criterion': 'entropy', 'max_features': 'sqrt', 'bootstrap': False}. Best is trial 212 with value: 0.9822485207100592.\n",
      "[I 2024-05-13 06:26:33,716] Trial 288 pruned. \n",
      "[I 2024-05-13 06:27:00,507] Trial 289 pruned. \n",
      "[I 2024-05-13 06:27:07,168] Trial 290 pruned. \n",
      "[I 2024-05-13 06:27:48,965] Trial 291 finished with value: 0.9816568047337279 and parameters: {'n_estimators': 872, 'max_depth': 20, 'min_samples_split': 4, 'min_samples_leaf': 1, 'criterion': 'entropy', 'max_features': 'sqrt', 'bootstrap': False}. Best is trial 212 with value: 0.9822485207100592.\n",
      "[I 2024-05-13 06:28:12,762] Trial 292 pruned. \n",
      "[I 2024-05-13 06:28:53,333] Trial 293 finished with value: 0.9801481481481481 and parameters: {'n_estimators': 863, 'max_depth': 19, 'min_samples_split': 6, 'min_samples_leaf': 1, 'criterion': 'entropy', 'max_features': 'sqrt', 'bootstrap': False}. Best is trial 212 with value: 0.9822485207100592.\n",
      "[I 2024-05-13 06:29:18,629] Trial 294 pruned. \n",
      "[I 2024-05-13 06:30:06,118] Trial 295 finished with value: 0.9813443885105123 and parameters: {'n_estimators': 1000, 'max_depth': 20, 'min_samples_split': 5, 'min_samples_leaf': 1, 'criterion': 'entropy', 'max_features': 'sqrt', 'bootstrap': False}. Best is trial 212 with value: 0.9822485207100592.\n",
      "[I 2024-05-13 06:30:48,085] Trial 296 finished with value: 0.9813554306007695 and parameters: {'n_estimators': 869, 'max_depth': 39, 'min_samples_split': 4, 'min_samples_leaf': 1, 'criterion': 'entropy', 'max_features': 'sqrt', 'bootstrap': False}. Best is trial 212 with value: 0.9822485207100592.\n",
      "[I 2024-05-13 06:31:13,611] Trial 297 pruned. \n",
      "[I 2024-05-13 06:31:37,670] Trial 298 pruned. \n",
      "[I 2024-05-13 06:32:04,539] Trial 299 pruned. \n",
      "[I 2024-05-13 06:32:47,129] Trial 300 finished with value: 0.981042654028436 and parameters: {'n_estimators': 896, 'max_depth': 23, 'min_samples_split': 2, 'min_samples_leaf': 2, 'criterion': 'entropy', 'max_features': 'sqrt', 'bootstrap': False}. Best is trial 212 with value: 0.9822485207100592.\n",
      "[I 2024-05-13 06:33:31,370] Trial 301 finished with value: 0.9810538780343399 and parameters: {'n_estimators': 922, 'max_depth': 26, 'min_samples_split': 3, 'min_samples_leaf': 1, 'criterion': 'log_loss', 'max_features': 'sqrt', 'bootstrap': False}. Best is trial 212 with value: 0.9822485207100592.\n",
      "[I 2024-05-13 06:34:17,639] Trial 302 finished with value: 0.9813333333333333 and parameters: {'n_estimators': 983, 'max_depth': 21, 'min_samples_split': 5, 'min_samples_leaf': 1, 'criterion': 'entropy', 'max_features': 'sqrt', 'bootstrap': False}. Best is trial 212 with value: 0.9822485207100592.\n",
      "[I 2024-05-13 06:34:38,585] Trial 303 pruned. \n",
      "[I 2024-05-13 06:35:03,040] Trial 304 pruned. \n",
      "[I 2024-05-13 06:35:29,412] Trial 305 pruned. \n",
      "[I 2024-05-13 06:35:47,588] Trial 306 pruned. \n",
      "[I 2024-05-13 06:36:09,322] Trial 307 pruned. \n",
      "[I 2024-05-13 06:36:53,970] Trial 308 finished with value: 0.981042654028436 and parameters: {'n_estimators': 928, 'max_depth': 23, 'min_samples_split': 3, 'min_samples_leaf': 1, 'criterion': 'entropy', 'max_features': 'sqrt', 'bootstrap': False}. Best is trial 212 with value: 0.9822485207100592.\n",
      "[I 2024-05-13 06:36:58,388] Trial 309 pruned. \n",
      "[I 2024-05-13 06:37:45,157] Trial 310 finished with value: 0.9813554306007695 and parameters: {'n_estimators': 983, 'max_depth': 21, 'min_samples_split': 4, 'min_samples_leaf': 1, 'criterion': 'entropy', 'max_features': 'sqrt', 'bootstrap': False}. Best is trial 212 with value: 0.9822485207100592.\n",
      "[I 2024-05-13 06:38:28,011] Trial 311 finished with value: 0.9804502369668247 and parameters: {'n_estimators': 896, 'max_depth': 24, 'min_samples_split': 3, 'min_samples_leaf': 2, 'criterion': 'entropy', 'max_features': 'sqrt', 'bootstrap': False}. Best is trial 212 with value: 0.9822485207100592.\n",
      "[I 2024-05-13 06:38:53,679] Trial 312 pruned. \n",
      "[I 2024-05-13 06:39:40,640] Trial 313 finished with value: 0.9807635395087304 and parameters: {'n_estimators': 998, 'max_depth': 40, 'min_samples_split': 5, 'min_samples_leaf': 1, 'criterion': 'entropy', 'max_features': 'sqrt', 'bootstrap': False}. Best is trial 212 with value: 0.9822485207100592.\n",
      "[I 2024-05-13 06:40:03,727] Trial 314 finished with value: 0.9795555555555555 and parameters: {'n_estimators': 437, 'max_depth': 23, 'min_samples_split': 2, 'min_samples_leaf': 2, 'criterion': 'entropy', 'max_features': 'sqrt', 'bootstrap': False}. Best is trial 212 with value: 0.9822485207100592.\n",
      "[I 2024-05-13 06:40:42,902] Trial 315 finished with value: 0.9810538780343399 and parameters: {'n_estimators': 810, 'max_depth': 21, 'min_samples_split': 4, 'min_samples_leaf': 1, 'criterion': 'entropy', 'max_features': 'sqrt', 'bootstrap': False}. Best is trial 212 with value: 0.9822485207100592.\n",
      "[I 2024-05-13 06:41:05,758] Trial 316 pruned. \n",
      "[I 2024-05-13 06:41:33,612] Trial 317 pruned. \n",
      "[I 2024-05-13 06:42:17,206] Trial 318 finished with value: 0.9798697454114861 and parameters: {'n_estimators': 913, 'max_depth': 25, 'min_samples_split': 3, 'min_samples_leaf': 2, 'criterion': 'entropy', 'max_features': 'sqrt', 'bootstrap': False}. Best is trial 212 with value: 0.9822485207100592.\n",
      "[I 2024-05-13 06:42:43,024] Trial 319 pruned. \n",
      "[I 2024-05-13 06:42:50,604] Trial 320 pruned. \n",
      "[I 2024-05-13 06:43:18,709] Trial 321 pruned. \n",
      "[I 2024-05-13 06:44:05,801] Trial 322 finished with value: 0.9813333333333333 and parameters: {'n_estimators': 1000, 'max_depth': 24, 'min_samples_split': 2, 'min_samples_leaf': 2, 'criterion': 'entropy', 'max_features': 'sqrt', 'bootstrap': False}. Best is trial 212 with value: 0.9822485207100592.\n",
      "[I 2024-05-13 06:44:22,001] Trial 323 finished with value: 0.9795676636067515 and parameters: {'n_estimators': 277, 'max_depth': 20, 'min_samples_split': 3, 'min_samples_leaf': 1, 'criterion': 'log_loss', 'max_features': 'sqrt', 'bootstrap': False}. Best is trial 212 with value: 0.9822485207100592.\n",
      "[I 2024-05-13 06:44:48,640] Trial 324 pruned. \n",
      "[I 2024-05-13 06:45:06,592] Trial 325 pruned. \n",
      "[I 2024-05-13 06:45:51,464] Trial 326 finished with value: 0.9813333333333333 and parameters: {'n_estimators': 956, 'max_depth': 23, 'min_samples_split': 3, 'min_samples_leaf': 2, 'criterion': 'entropy', 'max_features': 'sqrt', 'bootstrap': False}. Best is trial 212 with value: 0.9822485207100592.\n",
      "[I 2024-05-13 06:45:57,277] Trial 327 pruned. \n",
      "[I 2024-05-13 06:46:21,818] Trial 328 pruned. \n",
      "[I 2024-05-13 06:47:06,552] Trial 329 finished with value: 0.9813111836250371 and parameters: {'n_estimators': 932, 'max_depth': 37, 'min_samples_split': 2, 'min_samples_leaf': 1, 'criterion': 'entropy', 'max_features': 'sqrt', 'bootstrap': False}. Best is trial 212 with value: 0.9822485207100592.\n",
      "[I 2024-05-13 06:47:53,146] Trial 330 finished with value: 0.9813554306007695 and parameters: {'n_estimators': 973, 'max_depth': 27, 'min_samples_split': 3, 'min_samples_leaf': 1, 'criterion': 'entropy', 'max_features': 'sqrt', 'bootstrap': False}. Best is trial 212 with value: 0.9822485207100592.\n",
      "[I 2024-05-13 06:48:38,485] Trial 331 finished with value: 0.9816568047337279 and parameters: {'n_estimators': 951, 'max_depth': 22, 'min_samples_split': 4, 'min_samples_leaf': 1, 'criterion': 'entropy', 'max_features': 'sqrt', 'bootstrap': False}. Best is trial 212 with value: 0.9822485207100592.\n",
      "[I 2024-05-13 06:48:56,766] Trial 332 finished with value: 0.9813443885105123 and parameters: {'n_estimators': 334, 'max_depth': 25, 'min_samples_split': 6, 'min_samples_leaf': 2, 'criterion': 'entropy', 'max_features': 'sqrt', 'bootstrap': False}. Best is trial 212 with value: 0.9822485207100592.\n",
      "[I 2024-05-13 06:49:39,902] Trial 333 finished with value: 0.9813554306007695 and parameters: {'n_estimators': 912, 'max_depth': 19, 'min_samples_split': 5, 'min_samples_leaf': 1, 'criterion': 'entropy', 'max_features': 'sqrt', 'bootstrap': False}. Best is trial 212 with value: 0.9822485207100592.\n",
      "[I 2024-05-13 06:49:58,616] Trial 334 pruned. \n",
      "[I 2024-05-13 06:50:43,614] Trial 335 finished with value: 0.9816459443457667 and parameters: {'n_estimators': 935, 'max_depth': 23, 'min_samples_split': 4, 'min_samples_leaf': 1, 'criterion': 'entropy', 'max_features': 'sqrt', 'bootstrap': False}. Best is trial 212 with value: 0.9822485207100592.\n",
      "[I 2024-05-13 06:51:08,719] Trial 336 pruned. \n",
      "[I 2024-05-13 06:51:35,219] Trial 337 pruned. \n",
      "[I 2024-05-13 06:52:18,965] Trial 338 finished with value: 0.981031416716064 and parameters: {'n_estimators': 919, 'max_depth': 24, 'min_samples_split': 4, 'min_samples_leaf': 2, 'criterion': 'entropy', 'max_features': 'sqrt', 'bootstrap': False}. Best is trial 212 with value: 0.9822485207100592.\n",
      "[I 2024-05-13 06:53:00,468] Trial 339 finished with value: 0.9816459443457667 and parameters: {'n_estimators': 860, 'max_depth': 21, 'min_samples_split': 3, 'min_samples_leaf': 1, 'criterion': 'entropy', 'max_features': 'sqrt', 'bootstrap': False}. Best is trial 212 with value: 0.9822485207100592.\n",
      "[I 2024-05-13 06:53:25,638] Trial 340 pruned. \n",
      "[I 2024-05-13 06:53:40,361] Trial 341 pruned. \n",
      "[I 2024-05-13 06:54:08,468] Trial 342 pruned. \n",
      "[I 2024-05-13 06:54:50,679] Trial 343 finished with value: 0.9804618117229129 and parameters: {'n_estimators': 888, 'max_depth': 44, 'min_samples_split': 4, 'min_samples_leaf': 2, 'criterion': 'entropy', 'max_features': 'sqrt', 'bootstrap': False}. Best is trial 212 with value: 0.9822485207100592.\n",
      "[I 2024-05-13 06:55:35,974] Trial 344 finished with value: 0.9813443885105123 and parameters: {'n_estimators': 951, 'max_depth': 20, 'min_samples_split': 3, 'min_samples_leaf': 1, 'criterion': 'entropy', 'max_features': 'sqrt', 'bootstrap': False}. Best is trial 212 with value: 0.9822485207100592.\n",
      "[I 2024-05-13 06:55:54,996] Trial 345 pruned. \n",
      "[I 2024-05-13 06:56:20,600] Trial 346 pruned. \n",
      "[I 2024-05-13 06:56:30,033] Trial 347 pruned. \n",
      "[I 2024-05-13 06:56:58,354] Trial 348 pruned. \n",
      "[I 2024-05-13 06:57:31,977] Trial 349 pruned. \n",
      "[I 2024-05-13 06:58:13,901] Trial 350 finished with value: 0.9819473216928085 and parameters: {'n_estimators': 870, 'max_depth': 24, 'min_samples_split': 4, 'min_samples_leaf': 1, 'criterion': 'entropy', 'max_features': 'sqrt', 'bootstrap': False}. Best is trial 212 with value: 0.9822485207100592.\n",
      "[I 2024-05-13 06:58:55,021] Trial 351 finished with value: 0.9807635395087304 and parameters: {'n_estimators': 863, 'max_depth': 25, 'min_samples_split': 5, 'min_samples_leaf': 1, 'criterion': 'entropy', 'max_features': 'sqrt', 'bootstrap': False}. Best is trial 212 with value: 0.9822485207100592.\n",
      "[I 2024-05-13 06:59:19,084] Trial 352 pruned. \n",
      "[I 2024-05-13 06:59:43,064] Trial 353 pruned. \n",
      "[I 2024-05-13 07:00:08,235] Trial 354 pruned. \n",
      "[I 2024-05-13 07:00:29,536] Trial 355 pruned. \n",
      "[I 2024-05-13 07:01:08,829] Trial 356 finished with value: 0.9798816568047337 and parameters: {'n_estimators': 816, 'max_depth': 33, 'min_samples_split': 4, 'min_samples_leaf': 2, 'criterion': 'entropy', 'max_features': 'sqrt', 'bootstrap': False}. Best is trial 212 with value: 0.9822485207100592.\n",
      "[I 2024-05-13 07:01:32,839] Trial 357 pruned. \n",
      "[I 2024-05-13 07:01:52,781] Trial 358 pruned. \n",
      "[I 2024-05-13 07:02:17,220] Trial 359 pruned. \n",
      "[I 2024-05-13 07:02:44,858] Trial 360 pruned. \n",
      "[I 2024-05-13 07:03:26,582] Trial 361 finished with value: 0.9816568047337279 and parameters: {'n_estimators': 870, 'max_depth': 22, 'min_samples_split': 4, 'min_samples_leaf': 1, 'criterion': 'entropy', 'max_features': 'sqrt', 'bootstrap': False}. Best is trial 212 with value: 0.9822485207100592.\n",
      "[I 2024-05-13 07:04:07,694] Trial 362 finished with value: 0.9816350710900474 and parameters: {'n_estimators': 869, 'max_depth': 23, 'min_samples_split': 6, 'min_samples_leaf': 2, 'criterion': 'entropy', 'max_features': 'sqrt', 'bootstrap': False}. Best is trial 212 with value: 0.9822485207100592.\n",
      "[I 2024-05-13 07:04:48,426] Trial 363 finished with value: 0.9813554306007695 and parameters: {'n_estimators': 855, 'max_depth': 25, 'min_samples_split': 5, 'min_samples_leaf': 1, 'criterion': 'entropy', 'max_features': 'sqrt', 'bootstrap': False}. Best is trial 212 with value: 0.9822485207100592.\n",
      "[I 2024-05-13 07:05:10,309] Trial 364 pruned. \n",
      "[I 2024-05-13 07:05:48,339] Trial 365 pruned. \n",
      "[I 2024-05-13 07:06:05,122] Trial 366 pruned. \n",
      "[I 2024-05-13 07:06:14,600] Trial 367 pruned. \n",
      "[I 2024-05-13 07:06:39,589] Trial 368 pruned. \n",
      "[I 2024-05-13 07:06:51,775] Trial 369 pruned. \n",
      "[I 2024-05-13 07:07:34,481] Trial 370 finished with value: 0.9816459443457667 and parameters: {'n_estimators': 886, 'max_depth': 27, 'min_samples_split': 3, 'min_samples_leaf': 1, 'criterion': 'entropy', 'max_features': 'sqrt', 'bootstrap': False}. Best is trial 212 with value: 0.9822485207100592.\n",
      "[I 2024-05-13 07:08:20,594] Trial 371 finished with value: 0.9798816568047337 and parameters: {'n_estimators': 976, 'max_depth': 23, 'min_samples_split': 5, 'min_samples_leaf': 1, 'criterion': 'entropy', 'max_features': 'sqrt', 'bootstrap': False}. Best is trial 212 with value: 0.9822485207100592.\n",
      "[I 2024-05-13 07:08:47,005] Trial 372 pruned. \n",
      "[I 2024-05-13 07:09:11,306] Trial 373 pruned. \n",
      "[I 2024-05-13 07:09:43,917] Trial 374 pruned. \n",
      "[I 2024-05-13 07:10:10,283] Trial 375 pruned. \n",
      "[I 2024-05-13 07:10:56,280] Trial 376 finished with value: 0.9807407407407407 and parameters: {'n_estimators': 962, 'max_depth': 22, 'min_samples_split': 2, 'min_samples_leaf': 1, 'criterion': 'entropy', 'max_features': 'sqrt', 'bootstrap': False}. Best is trial 212 with value: 0.9822485207100592.\n",
      "[I 2024-05-13 07:11:17,845] Trial 377 finished with value: 0.9801245921091665 and parameters: {'n_estimators': 407, 'max_depth': 23, 'min_samples_split': 4, 'min_samples_leaf': 2, 'criterion': 'entropy', 'max_features': 'sqrt', 'bootstrap': False}. Best is trial 212 with value: 0.9822485207100592.\n",
      "[I 2024-05-13 07:11:43,777] Trial 378 pruned. \n",
      "[I 2024-05-13 07:11:54,357] Trial 379 finished with value: 0.9807521468759254 and parameters: {'n_estimators': 149, 'max_depth': 22, 'min_samples_split': 5, 'min_samples_leaf': 1, 'criterion': 'entropy', 'max_features': 'sqrt', 'bootstrap': False}. Best is trial 212 with value: 0.9822485207100592.\n",
      "[I 2024-05-13 07:12:20,732] Trial 380 pruned. \n",
      "[I 2024-05-13 07:12:43,562] Trial 381 pruned. \n",
      "[I 2024-05-13 07:13:26,618] Trial 382 finished with value: 0.9807635395087304 and parameters: {'n_estimators': 889, 'max_depth': 23, 'min_samples_split': 3, 'min_samples_leaf': 1, 'criterion': 'entropy', 'max_features': 'sqrt', 'bootstrap': False}. Best is trial 212 with value: 0.9822485207100592.\n",
      "[I 2024-05-13 07:13:52,498] Trial 383 pruned. \n",
      "[I 2024-05-13 07:14:08,711] Trial 384 pruned. \n",
      "[I 2024-05-13 07:14:51,756] Trial 385 finished with value: 0.9813664596273292 and parameters: {'n_estimators': 906, 'max_depth': 28, 'min_samples_split': 5, 'min_samples_leaf': 1, 'criterion': 'entropy', 'max_features': 'sqrt', 'bootstrap': False}. Best is trial 212 with value: 0.9822485207100592.\n",
      "[I 2024-05-13 07:15:19,657] Trial 386 pruned. \n",
      "[I 2024-05-13 07:15:29,960] Trial 387 pruned. \n",
      "[I 2024-05-13 07:16:16,461] Trial 388 finished with value: 0.9813443885105123 and parameters: {'n_estimators': 974, 'max_depth': 38, 'min_samples_split': 3, 'min_samples_leaf': 1, 'criterion': 'entropy', 'max_features': 'sqrt', 'bootstrap': False}. Best is trial 212 with value: 0.9822485207100592.\n",
      "[I 2024-05-13 07:17:03,685] Trial 389 finished with value: 0.9807635395087304 and parameters: {'n_estimators': 1000, 'max_depth': 46, 'min_samples_split': 4, 'min_samples_leaf': 2, 'criterion': 'entropy', 'max_features': 'sqrt', 'bootstrap': False}. Best is trial 212 with value: 0.9822485207100592.\n",
      "[I 2024-05-13 07:17:28,168] Trial 390 pruned. \n",
      "[I 2024-05-13 07:18:10,723] Trial 391 finished with value: 0.981042654028436 and parameters: {'n_estimators': 885, 'max_depth': 20, 'min_samples_split': 3, 'min_samples_leaf': 1, 'criterion': 'log_loss', 'max_features': 'sqrt', 'bootstrap': False}. Best is trial 212 with value: 0.9822485207100592.\n",
      "[I 2024-05-13 07:18:34,910] Trial 392 pruned. \n",
      "[I 2024-05-13 07:19:19,412] Trial 393 finished with value: 0.9804502369668247 and parameters: {'n_estimators': 927, 'max_depth': 22, 'min_samples_split': 2, 'min_samples_leaf': 1, 'criterion': 'entropy', 'max_features': 'sqrt', 'bootstrap': False}. Best is trial 212 with value: 0.9822485207100592.\n",
      "[I 2024-05-13 07:19:45,899] Trial 394 pruned. \n",
      "[I 2024-05-13 07:20:11,951] Trial 395 pruned. \n",
      "[I 2024-05-13 07:20:56,859] Trial 396 finished with value: 0.9801833776989056 and parameters: {'n_estimators': 945, 'max_depth': 26, 'min_samples_split': 4, 'min_samples_leaf': 2, 'criterion': 'entropy', 'max_features': 'sqrt', 'bootstrap': False}. Best is trial 212 with value: 0.9822485207100592.\n",
      "[I 2024-05-13 07:21:37,466] Trial 397 finished with value: 0.9801716484166914 and parameters: {'n_estimators': 849, 'max_depth': 23, 'min_samples_split': 5, 'min_samples_leaf': 1, 'criterion': 'entropy', 'max_features': 'sqrt', 'bootstrap': False}. Best is trial 212 with value: 0.9822485207100592.\n",
      "[I 2024-05-13 07:22:03,223] Trial 398 pruned. \n",
      "[I 2024-05-13 07:22:28,541] Trial 399 pruned. \n",
      "[I 2024-05-13 07:22:55,722] Trial 400 pruned. \n",
      "[I 2024-05-13 07:23:19,462] Trial 401 pruned. \n",
      "[I 2024-05-13 07:23:46,907] Trial 402 pruned. \n",
      "[I 2024-05-13 07:24:13,140] Trial 403 pruned. \n",
      "[I 2024-05-13 07:24:32,255] Trial 404 pruned. \n",
      "[I 2024-05-13 07:25:15,192] Trial 405 finished with value: 0.9813664596273292 and parameters: {'n_estimators': 891, 'max_depth': 25, 'min_samples_split': 3, 'min_samples_leaf': 1, 'criterion': 'entropy', 'max_features': 'sqrt', 'bootstrap': False}. Best is trial 212 with value: 0.9822485207100592.\n",
      "[I 2024-05-13 07:25:20,419] Trial 406 pruned. \n",
      "[I 2024-05-13 07:26:02,325] Trial 407 finished with value: 0.9807407407407407 and parameters: {'n_estimators': 867, 'max_depth': 24, 'min_samples_split': 2, 'min_samples_leaf': 1, 'criterion': 'entropy', 'max_features': 'sqrt', 'bootstrap': False}. Best is trial 212 with value: 0.9822485207100592.\n",
      "[I 2024-05-13 07:26:28,385] Trial 408 pruned. \n",
      "[I 2024-05-13 07:26:55,792] Trial 409 pruned. \n",
      "[I 2024-05-13 07:27:21,433] Trial 410 pruned. \n",
      "[I 2024-05-13 07:27:30,800] Trial 411 pruned. \n",
      "[I 2024-05-13 07:27:57,735] Trial 412 pruned. \n",
      "[I 2024-05-13 07:28:25,251] Trial 413 pruned. \n",
      "[I 2024-05-13 07:29:07,780] Trial 414 finished with value: 0.9804733727810651 and parameters: {'n_estimators': 899, 'max_depth': 29, 'min_samples_split': 3, 'min_samples_leaf': 2, 'criterion': 'log_loss', 'max_features': 'sqrt', 'bootstrap': False}. Best is trial 212 with value: 0.9822485207100592.\n",
      "[I 2024-05-13 07:29:49,422] Trial 415 finished with value: 0.9804502369668247 and parameters: {'n_estimators': 856, 'max_depth': 23, 'min_samples_split': 2, 'min_samples_leaf': 1, 'criterion': 'entropy', 'max_features': 'sqrt', 'bootstrap': False}. Best is trial 212 with value: 0.9822485207100592.\n",
      "[I 2024-05-13 07:30:36,647] Trial 416 finished with value: 0.9813554306007695 and parameters: {'n_estimators': 998, 'max_depth': 24, 'min_samples_split': 4, 'min_samples_leaf': 1, 'criterion': 'entropy', 'max_features': 'sqrt', 'bootstrap': False}. Best is trial 212 with value: 0.9822485207100592.\n",
      "[I 2024-05-13 07:31:02,432] Trial 417 pruned. \n",
      "[I 2024-05-13 07:31:44,292] Trial 418 finished with value: 0.9789878662326132 and parameters: {'n_estimators': 882, 'max_depth': 25, 'min_samples_split': 3, 'min_samples_leaf': 2, 'criterion': 'entropy', 'max_features': 'sqrt', 'bootstrap': False}. Best is trial 212 with value: 0.9822485207100592.\n",
      "[I 2024-05-13 07:32:08,132] Trial 419 pruned. \n",
      "[I 2024-05-13 07:32:52,075] Trial 420 finished with value: 0.9813664596273292 and parameters: {'n_estimators': 911, 'max_depth': 42, 'min_samples_split': 5, 'min_samples_leaf': 1, 'criterion': 'entropy', 'max_features': 'sqrt', 'bootstrap': False}. Best is trial 212 with value: 0.9822485207100592.\n",
      "[I 2024-05-13 07:33:39,115] Trial 421 finished with value: 0.9813443885105123 and parameters: {'n_estimators': 1000, 'max_depth': 23, 'min_samples_split': 3, 'min_samples_leaf': 2, 'criterion': 'entropy', 'max_features': 'sqrt', 'bootstrap': False}. Best is trial 212 with value: 0.9822485207100592.\n",
      "[I 2024-05-13 07:33:58,062] Trial 422 pruned. \n",
      "[I 2024-05-13 07:34:18,882] Trial 423 pruned. \n",
      "[I 2024-05-13 07:34:28,279] Trial 424 pruned. \n",
      "[I 2024-05-13 07:35:12,517] Trial 425 finished with value: 0.9810650887573964 and parameters: {'n_estimators': 935, 'max_depth': 24, 'min_samples_split': 5, 'min_samples_leaf': 1, 'criterion': 'entropy', 'max_features': 'sqrt', 'bootstrap': False}. Best is trial 212 with value: 0.9822485207100592.\n",
      "[I 2024-05-13 07:35:38,077] Trial 426 pruned. \n",
      "[I 2024-05-13 07:35:49,900] Trial 427 pruned. \n",
      "[I 2024-05-13 07:36:14,801] Trial 428 pruned. \n",
      "[I 2024-05-13 07:36:40,279] Trial 429 pruned. \n",
      "[I 2024-05-13 07:37:26,217] Trial 430 finished with value: 0.981042654028436 and parameters: {'n_estimators': 980, 'max_depth': 19, 'min_samples_split': 5, 'min_samples_leaf': 1, 'criterion': 'entropy', 'max_features': 'sqrt', 'bootstrap': False}. Best is trial 212 with value: 0.9822485207100592.\n",
      "[I 2024-05-13 07:37:51,577] Trial 431 pruned. \n",
      "[I 2024-05-13 07:38:32,545] Trial 432 finished with value: 0.9798578199052133 and parameters: {'n_estimators': 850, 'max_depth': 23, 'min_samples_split': 2, 'min_samples_leaf': 1, 'criterion': 'entropy', 'max_features': 'sqrt', 'bootstrap': False}. Best is trial 212 with value: 0.9822485207100592.\n",
      "[I 2024-05-13 07:39:15,751] Trial 433 finished with value: 0.9801599052413384 and parameters: {'n_estimators': 905, 'max_depth': 24, 'min_samples_split': 3, 'min_samples_leaf': 2, 'criterion': 'entropy', 'max_features': 'sqrt', 'bootstrap': False}. Best is trial 212 with value: 0.9822485207100592.\n",
      "[I 2024-05-13 07:39:49,539] Trial 434 pruned. \n",
      "[I 2024-05-13 07:40:11,656] Trial 435 pruned. \n",
      "[I 2024-05-13 07:40:37,934] Trial 436 pruned. \n",
      "[I 2024-05-13 07:40:56,011] Trial 437 finished with value: 0.979253112033195 and parameters: {'n_estimators': 319, 'max_depth': 20, 'min_samples_split': 3, 'min_samples_leaf': 1, 'criterion': 'entropy', 'max_features': 'sqrt', 'bootstrap': False}. Best is trial 212 with value: 0.9822485207100592.\n",
      "[I 2024-05-13 07:41:23,298] Trial 438 pruned. \n",
      "[I 2024-05-13 07:41:38,166] Trial 439 pruned. \n",
      "[I 2024-05-13 07:42:06,237] Trial 440 pruned. \n",
      "[I 2024-05-13 07:42:21,021] Trial 441 pruned. \n",
      "[I 2024-05-13 07:42:46,841] Trial 442 pruned. \n",
      "[I 2024-05-13 07:43:11,059] Trial 443 pruned. \n",
      "[I 2024-05-13 07:43:20,789] Trial 444 pruned. \n",
      "[I 2024-05-13 07:43:40,477] Trial 445 pruned. \n",
      "[I 2024-05-13 07:44:25,677] Trial 446 finished with value: 0.9816459443457667 and parameters: {'n_estimators': 948, 'max_depth': 24, 'min_samples_split': 3, 'min_samples_leaf': 1, 'criterion': 'entropy', 'max_features': 'sqrt', 'bootstrap': False}. Best is trial 212 with value: 0.9822485207100592.\n",
      "[I 2024-05-13 07:44:52,399] Trial 447 pruned. \n",
      "[I 2024-05-13 07:45:16,848] Trial 448 pruned. \n",
      "[I 2024-05-13 07:46:04,018] Trial 449 finished with value: 0.9813111836250371 and parameters: {'n_estimators': 985, 'max_depth': 40, 'min_samples_split': 2, 'min_samples_leaf': 1, 'criterion': 'entropy', 'max_features': 'sqrt', 'bootstrap': False}. Best is trial 212 with value: 0.9822485207100592.\n",
      "[I 2024-05-13 07:46:28,837] Trial 450 pruned. \n",
      "[I 2024-05-13 07:46:52,177] Trial 451 pruned. \n",
      "[I 2024-05-13 07:47:19,822] Trial 452 pruned. \n",
      "[I 2024-05-13 07:47:46,636] Trial 453 pruned. \n",
      "[I 2024-05-13 07:48:12,577] Trial 454 pruned. \n",
      "[I 2024-05-13 07:48:36,573] Trial 455 pruned. \n",
      "[I 2024-05-13 07:49:20,650] Trial 456 finished with value: 0.9813443885105123 and parameters: {'n_estimators': 934, 'max_depth': 20, 'min_samples_split': 5, 'min_samples_leaf': 1, 'criterion': 'entropy', 'max_features': 'sqrt', 'bootstrap': False}. Best is trial 212 with value: 0.9822485207100592.\n",
      "[I 2024-05-13 07:50:02,492] Trial 457 finished with value: 0.9810650887573964 and parameters: {'n_estimators': 870, 'max_depth': 21, 'min_samples_split': 4, 'min_samples_leaf': 1, 'criterion': 'log_loss', 'max_features': 'sqrt', 'bootstrap': False}. Best is trial 212 with value: 0.9822485207100592.\n",
      "[I 2024-05-13 07:50:16,291] Trial 458 pruned. \n",
      "[I 2024-05-13 07:50:39,443] Trial 459 pruned. \n",
      "[I 2024-05-13 07:50:57,219] Trial 460 pruned. \n",
      "[I 2024-05-13 07:51:25,243] Trial 461 pruned. \n",
      "[I 2024-05-13 07:51:31,829] Trial 462 pruned. \n",
      "[I 2024-05-13 07:51:55,406] Trial 463 pruned. \n",
      "[I 2024-05-13 07:52:40,219] Trial 464 finished with value: 0.9813664596273292 and parameters: {'n_estimators': 951, 'max_depth': 31, 'min_samples_split': 5, 'min_samples_leaf': 1, 'criterion': 'entropy', 'max_features': 'sqrt', 'bootstrap': False}. Best is trial 212 with value: 0.9822485207100592.\n",
      "[I 2024-05-13 07:53:03,807] Trial 465 pruned. \n",
      "[I 2024-05-13 07:53:26,060] Trial 466 pruned. \n",
      "[I 2024-05-13 07:53:52,570] Trial 467 pruned. \n",
      "[I 2024-05-13 07:54:17,916] Trial 468 pruned. \n",
      "[I 2024-05-13 07:54:44,766] Trial 469 pruned. \n",
      "[I 2024-05-13 07:55:10,095] Trial 470 pruned. \n",
      "[I 2024-05-13 07:55:50,324] Trial 471 finished with value: 0.9801599052413384 and parameters: {'n_estimators': 841, 'max_depth': 23, 'min_samples_split': 5, 'min_samples_leaf': 1, 'criterion': 'entropy', 'max_features': 'sqrt', 'bootstrap': False}. Best is trial 212 with value: 0.9822485207100592.\n",
      "[I 2024-05-13 07:56:34,668] Trial 472 finished with value: 0.9807407407407407 and parameters: {'n_estimators': 937, 'max_depth': 24, 'min_samples_split': 3, 'min_samples_leaf': 2, 'criterion': 'entropy', 'max_features': 'sqrt', 'bootstrap': False}. Best is trial 212 with value: 0.9822485207100592.\n",
      "[I 2024-05-13 07:56:58,679] Trial 473 pruned. \n",
      "[I 2024-05-13 07:57:24,265] Trial 474 pruned. \n",
      "[I 2024-05-13 07:57:35,846] Trial 475 finished with value: 0.9795555555555555 and parameters: {'n_estimators': 171, 'max_depth': 24, 'min_samples_split': 2, 'min_samples_leaf': 1, 'criterion': 'entropy', 'max_features': 'sqrt', 'bootstrap': False}. Best is trial 212 with value: 0.9822485207100592.\n",
      "[I 2024-05-13 07:57:52,865] Trial 476 pruned. \n",
      "[I 2024-05-13 07:58:36,415] Trial 477 finished with value: 0.9807521468759254 and parameters: {'n_estimators': 910, 'max_depth': 23, 'min_samples_split': 3, 'min_samples_leaf': 1, 'criterion': 'entropy', 'max_features': 'sqrt', 'bootstrap': False}. Best is trial 212 with value: 0.9822485207100592.\n",
      "[I 2024-05-13 07:59:01,432] Trial 478 pruned. \n",
      "[I 2024-05-13 07:59:17,677] Trial 479 pruned. \n",
      "[I 2024-05-13 07:59:44,102] Trial 480 pruned. \n",
      "[I 2024-05-13 07:59:53,917] Trial 481 pruned. \n",
      "[I 2024-05-13 08:00:39,463] Trial 482 finished with value: 0.9816459443457667 and parameters: {'n_estimators': 955, 'max_depth': 22, 'min_samples_split': 3, 'min_samples_leaf': 1, 'criterion': 'entropy', 'max_features': 'sqrt', 'bootstrap': False}. Best is trial 212 with value: 0.9822485207100592.\n",
      "[I 2024-05-13 08:01:07,378] Trial 483 pruned. \n",
      "[I 2024-05-13 08:01:51,226] Trial 484 finished with value: 0.9807521468759254 and parameters: {'n_estimators': 915, 'max_depth': 23, 'min_samples_split': 3, 'min_samples_leaf': 1, 'criterion': 'entropy', 'max_features': 'sqrt', 'bootstrap': False}. Best is trial 212 with value: 0.9822485207100592.\n",
      "[I 2024-05-13 08:02:18,563] Trial 485 finished with value: 0.9813443885105123 and parameters: {'n_estimators': 550, 'max_depth': 29, 'min_samples_split': 6, 'min_samples_leaf': 2, 'criterion': 'entropy', 'max_features': 'sqrt', 'bootstrap': False}. Best is trial 212 with value: 0.9822485207100592.\n",
      "[I 2024-05-13 08:02:37,892] Trial 486 pruned. \n",
      "[I 2024-05-13 08:03:20,222] Trial 487 finished with value: 0.9819473216928085 and parameters: {'n_estimators': 880, 'max_depth': 24, 'min_samples_split': 4, 'min_samples_leaf': 1, 'criterion': 'entropy', 'max_features': 'sqrt', 'bootstrap': False}. Best is trial 212 with value: 0.9822485207100592.\n",
      "[I 2024-05-13 08:03:43,452] Trial 488 pruned. \n",
      "[I 2024-05-13 08:04:25,504] Trial 489 finished with value: 0.9819473216928085 and parameters: {'n_estimators': 876, 'max_depth': 25, 'min_samples_split': 4, 'min_samples_leaf': 1, 'criterion': 'entropy', 'max_features': 'sqrt', 'bootstrap': False}. Best is trial 212 with value: 0.9822485207100592.\n",
      "[I 2024-05-13 08:04:56,853] Trial 490 pruned. \n",
      "[I 2024-05-13 08:05:21,497] Trial 491 pruned. \n",
      "[I 2024-05-13 08:05:46,732] Trial 492 pruned. \n",
      "[I 2024-05-13 08:06:11,615] Trial 493 pruned. \n",
      "[I 2024-05-13 08:06:34,469] Trial 494 pruned. \n",
      "[I 2024-05-13 08:07:07,578] Trial 495 pruned. \n",
      "[I 2024-05-13 08:07:32,584] Trial 496 pruned. \n",
      "[I 2024-05-13 08:07:57,816] Trial 497 pruned. \n",
      "[I 2024-05-13 08:08:21,982] Trial 498 pruned. \n",
      "[I 2024-05-13 08:08:39,750] Trial 499 pruned. \n"
     ]
    }
   ],
   "source": [
    "warnings.filterwarnings('ignore') #ignore pandas warnings\n",
    "\n",
    "study_feat_eng.optimize(\n",
    "    objective_feat_eng, \n",
    "    n_trials=NUM_TRIALS,\n",
    "    timeout = 20 * 60 * 60, # timeout after 8 hours\n",
    "    show_progress_bar=True\n",
    ")"
   ]
  },
  {
   "cell_type": "code",
   "execution_count": 21,
   "metadata": {},
   "outputs": [
    {
     "name": "stdout",
     "output_type": "stream",
     "text": [
      "{'n_estimators': 998, 'max_depth': 25, 'min_samples_split': 4, 'min_samples_leaf': 1, 'criterion': 'entropy', 'max_features': 'sqrt', 'bootstrap': False}\n"
     ]
    }
   ],
   "source": [
    "best_params = study_feat_eng.best_params\n",
    "    \n",
    "print(best_params)\n",
    "\n",
    "if \"random_forest_feat_eng\" in config:\n",
    "    config[\"random_forest_feat_eng\"].update(best_params)\n",
    "else:\n",
    "    config[\"random_forest_feat_eng\"] = best_params\n",
    "\n",
    "# see: https://stackoverflow.com/questions/12470665/how-can-i-write-data-in-yaml-format-in-a-file\n",
    "with open(\"classical_ml_config.yaml\", \"w\") as file:\n",
    "    yaml.dump(config, file, default_flow_style=False)"
   ]
  },
  {
   "cell_type": "code",
   "execution_count": 22,
   "metadata": {},
   "outputs": [
    {
     "data": {
      "application/vnd.plotly.v1+json": {
       "config": {
        "plotlyServerURL": "https://plot.ly"
       },
       "data": [
        {
         "cliponaxis": false,
         "hovertemplate": [
          "criterion (CategoricalDistribution): 0.0010419789054915867<extra></extra>",
          "n_estimators (IntDistribution): 0.0016443905481477521<extra></extra>",
          "min_samples_split (IntDistribution): 0.002465375435139241<extra></extra>",
          "max_depth (IntDistribution): 0.006191118070245363<extra></extra>",
          "min_samples_leaf (IntDistribution): 0.01958993336037687<extra></extra>",
          "bootstrap (CategoricalDistribution): 0.063774613523853<extra></extra>",
          "max_features (CategoricalDistribution): 0.9052925901567461<extra></extra>"
         ],
         "name": "Objective Value",
         "orientation": "h",
         "text": [
          "<0.01",
          "<0.01",
          "<0.01",
          "<0.01",
          "0.02",
          "0.06",
          "0.91"
         ],
         "textposition": "outside",
         "type": "bar",
         "x": [
          0.0010419789054915867,
          0.0016443905481477521,
          0.002465375435139241,
          0.006191118070245363,
          0.01958993336037687,
          0.063774613523853,
          0.9052925901567461
         ],
         "y": [
          "criterion",
          "n_estimators",
          "min_samples_split",
          "max_depth",
          "min_samples_leaf",
          "bootstrap",
          "max_features"
         ]
        }
       ],
       "layout": {
        "template": {
         "data": {
          "bar": [
           {
            "error_x": {
             "color": "#2a3f5f"
            },
            "error_y": {
             "color": "#2a3f5f"
            },
            "marker": {
             "line": {
              "color": "#E5ECF6",
              "width": 0.5
             },
             "pattern": {
              "fillmode": "overlay",
              "size": 10,
              "solidity": 0.2
             }
            },
            "type": "bar"
           }
          ],
          "barpolar": [
           {
            "marker": {
             "line": {
              "color": "#E5ECF6",
              "width": 0.5
             },
             "pattern": {
              "fillmode": "overlay",
              "size": 10,
              "solidity": 0.2
             }
            },
            "type": "barpolar"
           }
          ],
          "carpet": [
           {
            "aaxis": {
             "endlinecolor": "#2a3f5f",
             "gridcolor": "white",
             "linecolor": "white",
             "minorgridcolor": "white",
             "startlinecolor": "#2a3f5f"
            },
            "baxis": {
             "endlinecolor": "#2a3f5f",
             "gridcolor": "white",
             "linecolor": "white",
             "minorgridcolor": "white",
             "startlinecolor": "#2a3f5f"
            },
            "type": "carpet"
           }
          ],
          "choropleth": [
           {
            "colorbar": {
             "outlinewidth": 0,
             "ticks": ""
            },
            "type": "choropleth"
           }
          ],
          "contour": [
           {
            "colorbar": {
             "outlinewidth": 0,
             "ticks": ""
            },
            "colorscale": [
             [
              0,
              "#0d0887"
             ],
             [
              0.1111111111111111,
              "#46039f"
             ],
             [
              0.2222222222222222,
              "#7201a8"
             ],
             [
              0.3333333333333333,
              "#9c179e"
             ],
             [
              0.4444444444444444,
              "#bd3786"
             ],
             [
              0.5555555555555556,
              "#d8576b"
             ],
             [
              0.6666666666666666,
              "#ed7953"
             ],
             [
              0.7777777777777778,
              "#fb9f3a"
             ],
             [
              0.8888888888888888,
              "#fdca26"
             ],
             [
              1,
              "#f0f921"
             ]
            ],
            "type": "contour"
           }
          ],
          "contourcarpet": [
           {
            "colorbar": {
             "outlinewidth": 0,
             "ticks": ""
            },
            "type": "contourcarpet"
           }
          ],
          "heatmap": [
           {
            "colorbar": {
             "outlinewidth": 0,
             "ticks": ""
            },
            "colorscale": [
             [
              0,
              "#0d0887"
             ],
             [
              0.1111111111111111,
              "#46039f"
             ],
             [
              0.2222222222222222,
              "#7201a8"
             ],
             [
              0.3333333333333333,
              "#9c179e"
             ],
             [
              0.4444444444444444,
              "#bd3786"
             ],
             [
              0.5555555555555556,
              "#d8576b"
             ],
             [
              0.6666666666666666,
              "#ed7953"
             ],
             [
              0.7777777777777778,
              "#fb9f3a"
             ],
             [
              0.8888888888888888,
              "#fdca26"
             ],
             [
              1,
              "#f0f921"
             ]
            ],
            "type": "heatmap"
           }
          ],
          "heatmapgl": [
           {
            "colorbar": {
             "outlinewidth": 0,
             "ticks": ""
            },
            "colorscale": [
             [
              0,
              "#0d0887"
             ],
             [
              0.1111111111111111,
              "#46039f"
             ],
             [
              0.2222222222222222,
              "#7201a8"
             ],
             [
              0.3333333333333333,
              "#9c179e"
             ],
             [
              0.4444444444444444,
              "#bd3786"
             ],
             [
              0.5555555555555556,
              "#d8576b"
             ],
             [
              0.6666666666666666,
              "#ed7953"
             ],
             [
              0.7777777777777778,
              "#fb9f3a"
             ],
             [
              0.8888888888888888,
              "#fdca26"
             ],
             [
              1,
              "#f0f921"
             ]
            ],
            "type": "heatmapgl"
           }
          ],
          "histogram": [
           {
            "marker": {
             "pattern": {
              "fillmode": "overlay",
              "size": 10,
              "solidity": 0.2
             }
            },
            "type": "histogram"
           }
          ],
          "histogram2d": [
           {
            "colorbar": {
             "outlinewidth": 0,
             "ticks": ""
            },
            "colorscale": [
             [
              0,
              "#0d0887"
             ],
             [
              0.1111111111111111,
              "#46039f"
             ],
             [
              0.2222222222222222,
              "#7201a8"
             ],
             [
              0.3333333333333333,
              "#9c179e"
             ],
             [
              0.4444444444444444,
              "#bd3786"
             ],
             [
              0.5555555555555556,
              "#d8576b"
             ],
             [
              0.6666666666666666,
              "#ed7953"
             ],
             [
              0.7777777777777778,
              "#fb9f3a"
             ],
             [
              0.8888888888888888,
              "#fdca26"
             ],
             [
              1,
              "#f0f921"
             ]
            ],
            "type": "histogram2d"
           }
          ],
          "histogram2dcontour": [
           {
            "colorbar": {
             "outlinewidth": 0,
             "ticks": ""
            },
            "colorscale": [
             [
              0,
              "#0d0887"
             ],
             [
              0.1111111111111111,
              "#46039f"
             ],
             [
              0.2222222222222222,
              "#7201a8"
             ],
             [
              0.3333333333333333,
              "#9c179e"
             ],
             [
              0.4444444444444444,
              "#bd3786"
             ],
             [
              0.5555555555555556,
              "#d8576b"
             ],
             [
              0.6666666666666666,
              "#ed7953"
             ],
             [
              0.7777777777777778,
              "#fb9f3a"
             ],
             [
              0.8888888888888888,
              "#fdca26"
             ],
             [
              1,
              "#f0f921"
             ]
            ],
            "type": "histogram2dcontour"
           }
          ],
          "mesh3d": [
           {
            "colorbar": {
             "outlinewidth": 0,
             "ticks": ""
            },
            "type": "mesh3d"
           }
          ],
          "parcoords": [
           {
            "line": {
             "colorbar": {
              "outlinewidth": 0,
              "ticks": ""
             }
            },
            "type": "parcoords"
           }
          ],
          "pie": [
           {
            "automargin": true,
            "type": "pie"
           }
          ],
          "scatter": [
           {
            "fillpattern": {
             "fillmode": "overlay",
             "size": 10,
             "solidity": 0.2
            },
            "type": "scatter"
           }
          ],
          "scatter3d": [
           {
            "line": {
             "colorbar": {
              "outlinewidth": 0,
              "ticks": ""
             }
            },
            "marker": {
             "colorbar": {
              "outlinewidth": 0,
              "ticks": ""
             }
            },
            "type": "scatter3d"
           }
          ],
          "scattercarpet": [
           {
            "marker": {
             "colorbar": {
              "outlinewidth": 0,
              "ticks": ""
             }
            },
            "type": "scattercarpet"
           }
          ],
          "scattergeo": [
           {
            "marker": {
             "colorbar": {
              "outlinewidth": 0,
              "ticks": ""
             }
            },
            "type": "scattergeo"
           }
          ],
          "scattergl": [
           {
            "marker": {
             "colorbar": {
              "outlinewidth": 0,
              "ticks": ""
             }
            },
            "type": "scattergl"
           }
          ],
          "scattermapbox": [
           {
            "marker": {
             "colorbar": {
              "outlinewidth": 0,
              "ticks": ""
             }
            },
            "type": "scattermapbox"
           }
          ],
          "scatterpolar": [
           {
            "marker": {
             "colorbar": {
              "outlinewidth": 0,
              "ticks": ""
             }
            },
            "type": "scatterpolar"
           }
          ],
          "scatterpolargl": [
           {
            "marker": {
             "colorbar": {
              "outlinewidth": 0,
              "ticks": ""
             }
            },
            "type": "scatterpolargl"
           }
          ],
          "scatterternary": [
           {
            "marker": {
             "colorbar": {
              "outlinewidth": 0,
              "ticks": ""
             }
            },
            "type": "scatterternary"
           }
          ],
          "surface": [
           {
            "colorbar": {
             "outlinewidth": 0,
             "ticks": ""
            },
            "colorscale": [
             [
              0,
              "#0d0887"
             ],
             [
              0.1111111111111111,
              "#46039f"
             ],
             [
              0.2222222222222222,
              "#7201a8"
             ],
             [
              0.3333333333333333,
              "#9c179e"
             ],
             [
              0.4444444444444444,
              "#bd3786"
             ],
             [
              0.5555555555555556,
              "#d8576b"
             ],
             [
              0.6666666666666666,
              "#ed7953"
             ],
             [
              0.7777777777777778,
              "#fb9f3a"
             ],
             [
              0.8888888888888888,
              "#fdca26"
             ],
             [
              1,
              "#f0f921"
             ]
            ],
            "type": "surface"
           }
          ],
          "table": [
           {
            "cells": {
             "fill": {
              "color": "#EBF0F8"
             },
             "line": {
              "color": "white"
             }
            },
            "header": {
             "fill": {
              "color": "#C8D4E3"
             },
             "line": {
              "color": "white"
             }
            },
            "type": "table"
           }
          ]
         },
         "layout": {
          "annotationdefaults": {
           "arrowcolor": "#2a3f5f",
           "arrowhead": 0,
           "arrowwidth": 1
          },
          "autotypenumbers": "strict",
          "coloraxis": {
           "colorbar": {
            "outlinewidth": 0,
            "ticks": ""
           }
          },
          "colorscale": {
           "diverging": [
            [
             0,
             "#8e0152"
            ],
            [
             0.1,
             "#c51b7d"
            ],
            [
             0.2,
             "#de77ae"
            ],
            [
             0.3,
             "#f1b6da"
            ],
            [
             0.4,
             "#fde0ef"
            ],
            [
             0.5,
             "#f7f7f7"
            ],
            [
             0.6,
             "#e6f5d0"
            ],
            [
             0.7,
             "#b8e186"
            ],
            [
             0.8,
             "#7fbc41"
            ],
            [
             0.9,
             "#4d9221"
            ],
            [
             1,
             "#276419"
            ]
           ],
           "sequential": [
            [
             0,
             "#0d0887"
            ],
            [
             0.1111111111111111,
             "#46039f"
            ],
            [
             0.2222222222222222,
             "#7201a8"
            ],
            [
             0.3333333333333333,
             "#9c179e"
            ],
            [
             0.4444444444444444,
             "#bd3786"
            ],
            [
             0.5555555555555556,
             "#d8576b"
            ],
            [
             0.6666666666666666,
             "#ed7953"
            ],
            [
             0.7777777777777778,
             "#fb9f3a"
            ],
            [
             0.8888888888888888,
             "#fdca26"
            ],
            [
             1,
             "#f0f921"
            ]
           ],
           "sequentialminus": [
            [
             0,
             "#0d0887"
            ],
            [
             0.1111111111111111,
             "#46039f"
            ],
            [
             0.2222222222222222,
             "#7201a8"
            ],
            [
             0.3333333333333333,
             "#9c179e"
            ],
            [
             0.4444444444444444,
             "#bd3786"
            ],
            [
             0.5555555555555556,
             "#d8576b"
            ],
            [
             0.6666666666666666,
             "#ed7953"
            ],
            [
             0.7777777777777778,
             "#fb9f3a"
            ],
            [
             0.8888888888888888,
             "#fdca26"
            ],
            [
             1,
             "#f0f921"
            ]
           ]
          },
          "colorway": [
           "#636efa",
           "#EF553B",
           "#00cc96",
           "#ab63fa",
           "#FFA15A",
           "#19d3f3",
           "#FF6692",
           "#B6E880",
           "#FF97FF",
           "#FECB52"
          ],
          "font": {
           "color": "#2a3f5f"
          },
          "geo": {
           "bgcolor": "white",
           "lakecolor": "white",
           "landcolor": "#E5ECF6",
           "showlakes": true,
           "showland": true,
           "subunitcolor": "white"
          },
          "hoverlabel": {
           "align": "left"
          },
          "hovermode": "closest",
          "mapbox": {
           "style": "light"
          },
          "paper_bgcolor": "white",
          "plot_bgcolor": "#E5ECF6",
          "polar": {
           "angularaxis": {
            "gridcolor": "white",
            "linecolor": "white",
            "ticks": ""
           },
           "bgcolor": "#E5ECF6",
           "radialaxis": {
            "gridcolor": "white",
            "linecolor": "white",
            "ticks": ""
           }
          },
          "scene": {
           "xaxis": {
            "backgroundcolor": "#E5ECF6",
            "gridcolor": "white",
            "gridwidth": 2,
            "linecolor": "white",
            "showbackground": true,
            "ticks": "",
            "zerolinecolor": "white"
           },
           "yaxis": {
            "backgroundcolor": "#E5ECF6",
            "gridcolor": "white",
            "gridwidth": 2,
            "linecolor": "white",
            "showbackground": true,
            "ticks": "",
            "zerolinecolor": "white"
           },
           "zaxis": {
            "backgroundcolor": "#E5ECF6",
            "gridcolor": "white",
            "gridwidth": 2,
            "linecolor": "white",
            "showbackground": true,
            "ticks": "",
            "zerolinecolor": "white"
           }
          },
          "shapedefaults": {
           "line": {
            "color": "#2a3f5f"
           }
          },
          "ternary": {
           "aaxis": {
            "gridcolor": "white",
            "linecolor": "white",
            "ticks": ""
           },
           "baxis": {
            "gridcolor": "white",
            "linecolor": "white",
            "ticks": ""
           },
           "bgcolor": "#E5ECF6",
           "caxis": {
            "gridcolor": "white",
            "linecolor": "white",
            "ticks": ""
           }
          },
          "title": {
           "x": 0.05
          },
          "xaxis": {
           "automargin": true,
           "gridcolor": "white",
           "linecolor": "white",
           "ticks": "",
           "title": {
            "standoff": 15
           },
           "zerolinecolor": "white",
           "zerolinewidth": 2
          },
          "yaxis": {
           "automargin": true,
           "gridcolor": "white",
           "linecolor": "white",
           "ticks": "",
           "title": {
            "standoff": 15
           },
           "zerolinecolor": "white",
           "zerolinewidth": 2
          }
         }
        },
        "title": {
         "text": "Hyperparameter Importances"
        },
        "xaxis": {
         "title": {
          "text": "Hyperparameter Importance"
         }
        },
        "yaxis": {
         "title": {
          "text": "Hyperparameter"
         }
        }
       }
      }
     },
     "metadata": {},
     "output_type": "display_data"
    }
   ],
   "source": [
    "p_importance_feat_eng = optuna.visualization.plot_param_importances(study_feat_eng)\n",
    "p_importance_feat_eng.show()"
   ]
  },
  {
   "cell_type": "code",
   "execution_count": 23,
   "metadata": {},
   "outputs": [
    {
     "data": {
      "application/vnd.plotly.v1+json": {
       "config": {
        "plotlyServerURL": "https://plot.ly"
       },
       "data": [
        {
         "mode": "markers",
         "name": "Objective Value",
         "type": "scatter",
         "x": [
          0,
          1,
          2,
          3,
          4,
          5,
          6,
          7,
          8,
          9,
          10,
          11,
          12,
          13,
          14,
          15,
          16,
          17,
          18,
          19,
          20,
          21,
          22,
          23,
          24,
          25,
          28,
          29,
          31,
          32,
          33,
          38,
          41,
          42,
          43,
          44,
          47,
          49,
          51,
          52,
          53,
          54,
          55,
          59,
          61,
          62,
          63,
          64,
          65,
          66,
          67,
          69,
          71,
          72,
          73,
          74,
          75,
          78,
          80,
          81,
          82,
          83,
          84,
          85,
          88,
          90,
          92,
          94,
          95,
          96,
          98,
          101,
          104,
          105,
          106,
          107,
          109,
          112,
          113,
          114,
          115,
          118,
          121,
          122,
          123,
          124,
          125,
          128,
          129,
          131,
          132,
          133,
          134,
          136,
          137,
          138,
          139,
          140,
          141,
          144,
          145,
          147,
          148,
          150,
          151,
          152,
          153,
          154,
          155,
          156,
          157,
          158,
          161,
          162,
          163,
          164,
          165,
          166,
          167,
          169,
          170,
          171,
          172,
          173,
          174,
          175,
          176,
          178,
          179,
          180,
          181,
          182,
          183,
          186,
          187,
          188,
          189,
          191,
          192,
          194,
          195,
          196,
          199,
          200,
          201,
          202,
          203,
          204,
          205,
          209,
          211,
          212,
          214,
          215,
          216,
          218,
          220,
          221,
          222,
          223,
          224,
          226,
          227,
          228,
          229,
          232,
          233,
          234,
          235,
          236,
          238,
          239,
          241,
          242,
          243,
          244,
          245,
          247,
          248,
          251,
          253,
          254,
          255,
          256,
          257,
          258,
          260,
          261,
          263,
          264,
          269,
          272,
          274,
          277,
          278,
          281,
          283,
          284,
          287,
          291,
          293,
          295,
          296,
          300,
          301,
          302,
          308,
          310,
          311,
          313,
          314,
          315,
          318,
          322,
          323,
          326,
          329,
          330,
          331,
          332,
          333,
          335,
          338,
          339,
          343,
          344,
          350,
          351,
          356,
          361,
          362,
          363,
          370,
          371,
          376,
          377,
          379,
          382,
          385,
          388,
          389,
          391,
          393,
          396,
          397,
          405,
          407,
          414,
          415,
          416,
          418,
          420,
          421,
          425,
          430,
          432,
          433,
          437,
          446,
          449,
          456,
          457,
          464,
          471,
          472,
          475,
          477,
          482,
          484,
          485,
          487,
          489
         ],
         "y": [
          0.9636904761904762,
          0.9735512630014859,
          0.89125,
          0.9119203236850296,
          0.9011808576755749,
          0.9746495675514465,
          0.966030989272944,
          0.881259842519685,
          0.8922980588603632,
          0.8860201511335013,
          0.9639423076923077,
          0.9795434331455678,
          0.9786729857819905,
          0.9762611275964391,
          0.9777646012451824,
          0.9723625557206538,
          0.981042654028436,
          0.9789380005932957,
          0.9741456166419019,
          0.9757109004739336,
          0.9762470308788599,
          0.9789380005932957,
          0.9795555555555555,
          0.980438648488441,
          0.9771309771309772,
          0.9783703703703703,
          0.9765230312035661,
          0.9798816568047337,
          0.977804084048535,
          0.9793021880544057,
          0.976606455433817,
          0.9795434331455678,
          0.9792654028436019,
          0.9786729857819905,
          0.9789629629629629,
          0.9801833776989056,
          0.9792654028436019,
          0.9786476868327402,
          0.9795797573246523,
          0.9795797573246523,
          0.9807521468759254,
          0.9795797573246523,
          0.9807635395087304,
          0.9801481481481481,
          0.9801481481481481,
          0.9810650887573964,
          0.9801599052413384,
          0.9798578199052133,
          0.9798578199052133,
          0.9786350148367953,
          0.9819366301450992,
          0.9783959751405741,
          0.9801716484166914,
          0.979531296351231,
          0.9795676636067515,
          0.9786476868327402,
          0.9789754219721647,
          0.980438648488441,
          0.9801481481481481,
          0.9801481481481481,
          0.9801481481481481,
          0.9816459443457667,
          0.9795676636067515,
          0.9793021880544057,
          0.9813333333333333,
          0.980438648488441,
          0.9783575452119775,
          0.9789504891787726,
          0.9807407407407407,
          0.9798697454114861,
          0.9795434331455678,
          0.9789504891787726,
          0.980438648488441,
          0.9798697454114861,
          0.9789754219721647,
          0.979012710611883,
          0.9798816568047337,
          0.980438648488441,
          0.9819366301450992,
          0.9801481481481481,
          0.9804618117229129,
          0.9789754219721647,
          0.9795676636067515,
          0.981042654028436,
          0.981042654028436,
          0.9816350710900474,
          0.9801833776989056,
          0.9798697454114861,
          0.9792776791000593,
          0.9810650887573964,
          0.9819366301450992,
          0.981042654028436,
          0.9801363771123629,
          0.9816132858837485,
          0.9816132858837485,
          0.9807521468759254,
          0.980438648488441,
          0.981031416716064,
          0.979531296351231,
          0.9813333333333333,
          0.9801363771123629,
          0.980729321079158,
          0.9798219584569733,
          0.9804618117229129,
          0.9813333333333333,
          0.9798339264531435,
          0.9819473216928085,
          0.9813443885105123,
          0.981042654028436,
          0.9813443885105123,
          0.9801481481481481,
          0.9798578199052133,
          0.9816350710900474,
          0.9813443885105123,
          0.9813443885105123,
          0.9816459443457667,
          0.9813333333333333,
          0.980729321079158,
          0.9816459443457667,
          0.9813333333333333,
          0.9816350710900474,
          0.981031416716064,
          0.9816350710900474,
          0.9813443885105123,
          0.9813443885105123,
          0.9816568047337279,
          0.9816568047337279,
          0.981042654028436,
          0.9813222650459532,
          0.9798697454114861,
          0.9816459443457667,
          0.9816568047337279,
          0.981042654028436,
          0.9813443885105123,
          0.9813554306007695,
          0.981042654028436,
          0.9819366301450992,
          0.9813554306007695,
          0.9804618117229129,
          0.9792654028436019,
          0.9807521468759254,
          0.9813443885105123,
          0.9804270462633452,
          0.981300089047195,
          0.9813443885105123,
          0.9819473216928085,
          0.980438648488441,
          0.9819473216928085,
          0.9813222650459532,
          0.9807407407407407,
          0.9816568047337279,
          0.9822485207100592,
          0.9813554306007695,
          0.9798816568047337,
          0.9816350710900474,
          0.9816459443457667,
          0.981042654028436,
          0.9819473216928085,
          0.9813554306007695,
          0.9813333333333333,
          0.9816459443457667,
          0.9810538780343399,
          0.9816459443457667,
          0.9813443885105123,
          0.9816568047337279,
          0.9801599052413384,
          0.9816459443457667,
          0.9804618117229129,
          0.9816459443457667,
          0.9807635395087304,
          0.9819473216928085,
          0.9816459443457667,
          0.981042654028436,
          0.9816459443457667,
          0.9813443885105123,
          0.9807635395087304,
          0.9819580005915409,
          0.9816568047337279,
          0.981042654028436,
          0.9798816568047337,
          0.9819473216928085,
          0.9816459443457667,
          0.9804502369668247,
          0.9795676636067515,
          0.9816459443457667,
          0.9813554306007695,
          0.981042654028436,
          0.9798816568047337,
          0.980438648488441,
          0.9816350710900474,
          0.9801599052413384,
          0.9798816568047337,
          0.981042654028436,
          0.980729321079158,
          0.9813554306007695,
          0.9813443885105123,
          0.981042654028436,
          0.9813554306007695,
          0.9813443885105123,
          0.9816568047337279,
          0.9801481481481481,
          0.9813443885105123,
          0.9813554306007695,
          0.981042654028436,
          0.9810538780343399,
          0.9813333333333333,
          0.981042654028436,
          0.9813554306007695,
          0.9804502369668247,
          0.9807635395087304,
          0.9795555555555555,
          0.9810538780343399,
          0.9798697454114861,
          0.9813333333333333,
          0.9795676636067515,
          0.9813333333333333,
          0.9813111836250371,
          0.9813554306007695,
          0.9816568047337279,
          0.9813443885105123,
          0.9813554306007695,
          0.9816459443457667,
          0.981031416716064,
          0.9816459443457667,
          0.9804618117229129,
          0.9813443885105123,
          0.9819473216928085,
          0.9807635395087304,
          0.9798816568047337,
          0.9816568047337279,
          0.9816350710900474,
          0.9813554306007695,
          0.9816459443457667,
          0.9798816568047337,
          0.9807407407407407,
          0.9801245921091665,
          0.9807521468759254,
          0.9807635395087304,
          0.9813664596273292,
          0.9813443885105123,
          0.9807635395087304,
          0.981042654028436,
          0.9804502369668247,
          0.9801833776989056,
          0.9801716484166914,
          0.9813664596273292,
          0.9807407407407407,
          0.9804733727810651,
          0.9804502369668247,
          0.9813554306007695,
          0.9789878662326132,
          0.9813664596273292,
          0.9813443885105123,
          0.9810650887573964,
          0.981042654028436,
          0.9798578199052133,
          0.9801599052413384,
          0.979253112033195,
          0.9816459443457667,
          0.9813111836250371,
          0.9813443885105123,
          0.9810650887573964,
          0.9813664596273292,
          0.9801599052413384,
          0.9807407407407407,
          0.9795555555555555,
          0.9807521468759254,
          0.9816459443457667,
          0.9807521468759254,
          0.9813443885105123,
          0.9819473216928085,
          0.9819473216928085
         ]
        },
        {
         "mode": "lines",
         "name": "Best Value",
         "type": "scatter",
         "x": [
          0,
          1,
          2,
          3,
          4,
          5,
          6,
          7,
          8,
          9,
          10,
          11,
          12,
          13,
          14,
          15,
          16,
          17,
          18,
          19,
          20,
          21,
          22,
          23,
          24,
          25,
          26,
          27,
          28,
          29,
          30,
          31,
          32,
          33,
          34,
          35,
          36,
          37,
          38,
          39,
          40,
          41,
          42,
          43,
          44,
          45,
          46,
          47,
          48,
          49,
          50,
          51,
          52,
          53,
          54,
          55,
          56,
          57,
          58,
          59,
          60,
          61,
          62,
          63,
          64,
          65,
          66,
          67,
          68,
          69,
          70,
          71,
          72,
          73,
          74,
          75,
          76,
          77,
          78,
          79,
          80,
          81,
          82,
          83,
          84,
          85,
          86,
          87,
          88,
          89,
          90,
          91,
          92,
          93,
          94,
          95,
          96,
          97,
          98,
          99,
          100,
          101,
          102,
          103,
          104,
          105,
          106,
          107,
          108,
          109,
          110,
          111,
          112,
          113,
          114,
          115,
          116,
          117,
          118,
          119,
          120,
          121,
          122,
          123,
          124,
          125,
          126,
          127,
          128,
          129,
          130,
          131,
          132,
          133,
          134,
          135,
          136,
          137,
          138,
          139,
          140,
          141,
          142,
          143,
          144,
          145,
          146,
          147,
          148,
          149,
          150,
          151,
          152,
          153,
          154,
          155,
          156,
          157,
          158,
          159,
          160,
          161,
          162,
          163,
          164,
          165,
          166,
          167,
          168,
          169,
          170,
          171,
          172,
          173,
          174,
          175,
          176,
          177,
          178,
          179,
          180,
          181,
          182,
          183,
          184,
          185,
          186,
          187,
          188,
          189,
          190,
          191,
          192,
          193,
          194,
          195,
          196,
          197,
          198,
          199,
          200,
          201,
          202,
          203,
          204,
          205,
          206,
          207,
          208,
          209,
          210,
          211,
          212,
          213,
          214,
          215,
          216,
          217,
          218,
          219,
          220,
          221,
          222,
          223,
          224,
          225,
          226,
          227,
          228,
          229,
          230,
          231,
          232,
          233,
          234,
          235,
          236,
          237,
          238,
          239,
          240,
          241,
          242,
          243,
          244,
          245,
          246,
          247,
          248,
          249,
          250,
          251,
          252,
          253,
          254,
          255,
          256,
          257,
          258,
          259,
          260,
          261,
          262,
          263,
          264,
          265,
          266,
          267,
          268,
          269,
          270,
          271,
          272,
          273,
          274,
          275,
          276,
          277,
          278,
          279,
          280,
          281,
          282,
          283,
          284,
          285,
          286,
          287,
          288,
          289,
          290,
          291,
          292,
          293,
          294,
          295,
          296,
          297,
          298,
          299,
          300,
          301,
          302,
          303,
          304,
          305,
          306,
          307,
          308,
          309,
          310,
          311,
          312,
          313,
          314,
          315,
          316,
          317,
          318,
          319,
          320,
          321,
          322,
          323,
          324,
          325,
          326,
          327,
          328,
          329,
          330,
          331,
          332,
          333,
          334,
          335,
          336,
          337,
          338,
          339,
          340,
          341,
          342,
          343,
          344,
          345,
          346,
          347,
          348,
          349,
          350,
          351,
          352,
          353,
          354,
          355,
          356,
          357,
          358,
          359,
          360,
          361,
          362,
          363,
          364,
          365,
          366,
          367,
          368,
          369,
          370,
          371,
          372,
          373,
          374,
          375,
          376,
          377,
          378,
          379,
          380,
          381,
          382,
          383,
          384,
          385,
          386,
          387,
          388,
          389,
          390,
          391,
          392,
          393,
          394,
          395,
          396,
          397,
          398,
          399,
          400,
          401,
          402,
          403,
          404,
          405,
          406,
          407,
          408,
          409,
          410,
          411,
          412,
          413,
          414,
          415,
          416,
          417,
          418,
          419,
          420,
          421,
          422,
          423,
          424,
          425,
          426,
          427,
          428,
          429,
          430,
          431,
          432,
          433,
          434,
          435,
          436,
          437,
          438,
          439,
          440,
          441,
          442,
          443,
          444,
          445,
          446,
          447,
          448,
          449,
          450,
          451,
          452,
          453,
          454,
          455,
          456,
          457,
          458,
          459,
          460,
          461,
          462,
          463,
          464,
          465,
          466,
          467,
          468,
          469,
          470,
          471,
          472,
          473,
          474,
          475,
          476,
          477,
          478,
          479,
          480,
          481,
          482,
          483,
          484,
          485,
          486,
          487,
          488,
          489,
          490,
          491,
          492,
          493,
          494,
          495,
          496,
          497,
          498,
          499
         ],
         "y": [
          0.9636904761904762,
          0.9735512630014859,
          0.9735512630014859,
          0.9735512630014859,
          0.9735512630014859,
          0.9746495675514465,
          0.9746495675514465,
          0.9746495675514465,
          0.9746495675514465,
          0.9746495675514465,
          0.9746495675514465,
          0.9795434331455678,
          0.9795434331455678,
          0.9795434331455678,
          0.9795434331455678,
          0.9795434331455678,
          0.981042654028436,
          0.981042654028436,
          0.981042654028436,
          0.981042654028436,
          0.981042654028436,
          0.981042654028436,
          0.981042654028436,
          0.981042654028436,
          0.981042654028436,
          0.981042654028436,
          0.981042654028436,
          0.981042654028436,
          0.981042654028436,
          0.981042654028436,
          0.981042654028436,
          0.981042654028436,
          0.981042654028436,
          0.981042654028436,
          0.981042654028436,
          0.981042654028436,
          0.981042654028436,
          0.981042654028436,
          0.981042654028436,
          0.981042654028436,
          0.981042654028436,
          0.981042654028436,
          0.981042654028436,
          0.981042654028436,
          0.981042654028436,
          0.981042654028436,
          0.981042654028436,
          0.981042654028436,
          0.981042654028436,
          0.981042654028436,
          0.981042654028436,
          0.981042654028436,
          0.981042654028436,
          0.981042654028436,
          0.981042654028436,
          0.981042654028436,
          0.981042654028436,
          0.981042654028436,
          0.981042654028436,
          0.981042654028436,
          0.981042654028436,
          0.981042654028436,
          0.9810650887573964,
          0.9810650887573964,
          0.9810650887573964,
          0.9810650887573964,
          0.9810650887573964,
          0.9819366301450992,
          0.9819366301450992,
          0.9819366301450992,
          0.9819366301450992,
          0.9819366301450992,
          0.9819366301450992,
          0.9819366301450992,
          0.9819366301450992,
          0.9819366301450992,
          0.9819366301450992,
          0.9819366301450992,
          0.9819366301450992,
          0.9819366301450992,
          0.9819366301450992,
          0.9819366301450992,
          0.9819366301450992,
          0.9819366301450992,
          0.9819366301450992,
          0.9819366301450992,
          0.9819366301450992,
          0.9819366301450992,
          0.9819366301450992,
          0.9819366301450992,
          0.9819366301450992,
          0.9819366301450992,
          0.9819366301450992,
          0.9819366301450992,
          0.9819366301450992,
          0.9819366301450992,
          0.9819366301450992,
          0.9819366301450992,
          0.9819366301450992,
          0.9819366301450992,
          0.9819366301450992,
          0.9819366301450992,
          0.9819366301450992,
          0.9819366301450992,
          0.9819366301450992,
          0.9819366301450992,
          0.9819366301450992,
          0.9819366301450992,
          0.9819366301450992,
          0.9819366301450992,
          0.9819366301450992,
          0.9819366301450992,
          0.9819366301450992,
          0.9819366301450992,
          0.9819366301450992,
          0.9819366301450992,
          0.9819366301450992,
          0.9819366301450992,
          0.9819366301450992,
          0.9819366301450992,
          0.9819366301450992,
          0.9819366301450992,
          0.9819366301450992,
          0.9819366301450992,
          0.9819366301450992,
          0.9819366301450992,
          0.9819366301450992,
          0.9819366301450992,
          0.9819366301450992,
          0.9819366301450992,
          0.9819366301450992,
          0.9819366301450992,
          0.9819366301450992,
          0.9819366301450992,
          0.9819366301450992,
          0.9819366301450992,
          0.9819366301450992,
          0.9819366301450992,
          0.9819366301450992,
          0.9819366301450992,
          0.9819366301450992,
          0.9819366301450992,
          0.9819366301450992,
          0.9819366301450992,
          0.9819366301450992,
          0.9819366301450992,
          0.9819366301450992,
          0.9819366301450992,
          0.9819366301450992,
          0.9819366301450992,
          0.9819366301450992,
          0.9819366301450992,
          0.9819366301450992,
          0.9819473216928085,
          0.9819473216928085,
          0.9819473216928085,
          0.9819473216928085,
          0.9819473216928085,
          0.9819473216928085,
          0.9819473216928085,
          0.9819473216928085,
          0.9819473216928085,
          0.9819473216928085,
          0.9819473216928085,
          0.9819473216928085,
          0.9819473216928085,
          0.9819473216928085,
          0.9819473216928085,
          0.9819473216928085,
          0.9819473216928085,
          0.9819473216928085,
          0.9819473216928085,
          0.9819473216928085,
          0.9819473216928085,
          0.9819473216928085,
          0.9819473216928085,
          0.9819473216928085,
          0.9819473216928085,
          0.9819473216928085,
          0.9819473216928085,
          0.9819473216928085,
          0.9819473216928085,
          0.9819473216928085,
          0.9819473216928085,
          0.9819473216928085,
          0.9819473216928085,
          0.9819473216928085,
          0.9819473216928085,
          0.9819473216928085,
          0.9819473216928085,
          0.9819473216928085,
          0.9819473216928085,
          0.9819473216928085,
          0.9819473216928085,
          0.9819473216928085,
          0.9819473216928085,
          0.9819473216928085,
          0.9819473216928085,
          0.9819473216928085,
          0.9819473216928085,
          0.9819473216928085,
          0.9819473216928085,
          0.9819473216928085,
          0.9819473216928085,
          0.9819473216928085,
          0.9819473216928085,
          0.9819473216928085,
          0.9819473216928085,
          0.9819473216928085,
          0.9819473216928085,
          0.9819473216928085,
          0.9819473216928085,
          0.9822485207100592,
          0.9822485207100592,
          0.9822485207100592,
          0.9822485207100592,
          0.9822485207100592,
          0.9822485207100592,
          0.9822485207100592,
          0.9822485207100592,
          0.9822485207100592,
          0.9822485207100592,
          0.9822485207100592,
          0.9822485207100592,
          0.9822485207100592,
          0.9822485207100592,
          0.9822485207100592,
          0.9822485207100592,
          0.9822485207100592,
          0.9822485207100592,
          0.9822485207100592,
          0.9822485207100592,
          0.9822485207100592,
          0.9822485207100592,
          0.9822485207100592,
          0.9822485207100592,
          0.9822485207100592,
          0.9822485207100592,
          0.9822485207100592,
          0.9822485207100592,
          0.9822485207100592,
          0.9822485207100592,
          0.9822485207100592,
          0.9822485207100592,
          0.9822485207100592,
          0.9822485207100592,
          0.9822485207100592,
          0.9822485207100592,
          0.9822485207100592,
          0.9822485207100592,
          0.9822485207100592,
          0.9822485207100592,
          0.9822485207100592,
          0.9822485207100592,
          0.9822485207100592,
          0.9822485207100592,
          0.9822485207100592,
          0.9822485207100592,
          0.9822485207100592,
          0.9822485207100592,
          0.9822485207100592,
          0.9822485207100592,
          0.9822485207100592,
          0.9822485207100592,
          0.9822485207100592,
          0.9822485207100592,
          0.9822485207100592,
          0.9822485207100592,
          0.9822485207100592,
          0.9822485207100592,
          0.9822485207100592,
          0.9822485207100592,
          0.9822485207100592,
          0.9822485207100592,
          0.9822485207100592,
          0.9822485207100592,
          0.9822485207100592,
          0.9822485207100592,
          0.9822485207100592,
          0.9822485207100592,
          0.9822485207100592,
          0.9822485207100592,
          0.9822485207100592,
          0.9822485207100592,
          0.9822485207100592,
          0.9822485207100592,
          0.9822485207100592,
          0.9822485207100592,
          0.9822485207100592,
          0.9822485207100592,
          0.9822485207100592,
          0.9822485207100592,
          0.9822485207100592,
          0.9822485207100592,
          0.9822485207100592,
          0.9822485207100592,
          0.9822485207100592,
          0.9822485207100592,
          0.9822485207100592,
          0.9822485207100592,
          0.9822485207100592,
          0.9822485207100592,
          0.9822485207100592,
          0.9822485207100592,
          0.9822485207100592,
          0.9822485207100592,
          0.9822485207100592,
          0.9822485207100592,
          0.9822485207100592,
          0.9822485207100592,
          0.9822485207100592,
          0.9822485207100592,
          0.9822485207100592,
          0.9822485207100592,
          0.9822485207100592,
          0.9822485207100592,
          0.9822485207100592,
          0.9822485207100592,
          0.9822485207100592,
          0.9822485207100592,
          0.9822485207100592,
          0.9822485207100592,
          0.9822485207100592,
          0.9822485207100592,
          0.9822485207100592,
          0.9822485207100592,
          0.9822485207100592,
          0.9822485207100592,
          0.9822485207100592,
          0.9822485207100592,
          0.9822485207100592,
          0.9822485207100592,
          0.9822485207100592,
          0.9822485207100592,
          0.9822485207100592,
          0.9822485207100592,
          0.9822485207100592,
          0.9822485207100592,
          0.9822485207100592,
          0.9822485207100592,
          0.9822485207100592,
          0.9822485207100592,
          0.9822485207100592,
          0.9822485207100592,
          0.9822485207100592,
          0.9822485207100592,
          0.9822485207100592,
          0.9822485207100592,
          0.9822485207100592,
          0.9822485207100592,
          0.9822485207100592,
          0.9822485207100592,
          0.9822485207100592,
          0.9822485207100592,
          0.9822485207100592,
          0.9822485207100592,
          0.9822485207100592,
          0.9822485207100592,
          0.9822485207100592,
          0.9822485207100592,
          0.9822485207100592,
          0.9822485207100592,
          0.9822485207100592,
          0.9822485207100592,
          0.9822485207100592,
          0.9822485207100592,
          0.9822485207100592,
          0.9822485207100592,
          0.9822485207100592,
          0.9822485207100592,
          0.9822485207100592,
          0.9822485207100592,
          0.9822485207100592,
          0.9822485207100592,
          0.9822485207100592,
          0.9822485207100592,
          0.9822485207100592,
          0.9822485207100592,
          0.9822485207100592,
          0.9822485207100592,
          0.9822485207100592,
          0.9822485207100592,
          0.9822485207100592,
          0.9822485207100592,
          0.9822485207100592,
          0.9822485207100592,
          0.9822485207100592,
          0.9822485207100592,
          0.9822485207100592,
          0.9822485207100592,
          0.9822485207100592,
          0.9822485207100592,
          0.9822485207100592,
          0.9822485207100592,
          0.9822485207100592,
          0.9822485207100592,
          0.9822485207100592,
          0.9822485207100592,
          0.9822485207100592,
          0.9822485207100592,
          0.9822485207100592,
          0.9822485207100592,
          0.9822485207100592,
          0.9822485207100592,
          0.9822485207100592,
          0.9822485207100592,
          0.9822485207100592,
          0.9822485207100592,
          0.9822485207100592,
          0.9822485207100592,
          0.9822485207100592,
          0.9822485207100592,
          0.9822485207100592,
          0.9822485207100592,
          0.9822485207100592,
          0.9822485207100592,
          0.9822485207100592,
          0.9822485207100592,
          0.9822485207100592,
          0.9822485207100592,
          0.9822485207100592,
          0.9822485207100592,
          0.9822485207100592,
          0.9822485207100592,
          0.9822485207100592,
          0.9822485207100592,
          0.9822485207100592,
          0.9822485207100592,
          0.9822485207100592,
          0.9822485207100592,
          0.9822485207100592,
          0.9822485207100592,
          0.9822485207100592,
          0.9822485207100592,
          0.9822485207100592,
          0.9822485207100592,
          0.9822485207100592,
          0.9822485207100592,
          0.9822485207100592,
          0.9822485207100592,
          0.9822485207100592,
          0.9822485207100592,
          0.9822485207100592,
          0.9822485207100592,
          0.9822485207100592,
          0.9822485207100592,
          0.9822485207100592,
          0.9822485207100592,
          0.9822485207100592,
          0.9822485207100592,
          0.9822485207100592,
          0.9822485207100592,
          0.9822485207100592,
          0.9822485207100592,
          0.9822485207100592,
          0.9822485207100592,
          0.9822485207100592,
          0.9822485207100592,
          0.9822485207100592,
          0.9822485207100592,
          0.9822485207100592,
          0.9822485207100592,
          0.9822485207100592,
          0.9822485207100592,
          0.9822485207100592,
          0.9822485207100592,
          0.9822485207100592,
          0.9822485207100592,
          0.9822485207100592,
          0.9822485207100592,
          0.9822485207100592,
          0.9822485207100592,
          0.9822485207100592,
          0.9822485207100592,
          0.9822485207100592,
          0.9822485207100592,
          0.9822485207100592,
          0.9822485207100592,
          0.9822485207100592,
          0.9822485207100592,
          0.9822485207100592,
          0.9822485207100592,
          0.9822485207100592,
          0.9822485207100592,
          0.9822485207100592,
          0.9822485207100592,
          0.9822485207100592,
          0.9822485207100592,
          0.9822485207100592,
          0.9822485207100592,
          0.9822485207100592,
          0.9822485207100592,
          0.9822485207100592,
          0.9822485207100592,
          0.9822485207100592,
          0.9822485207100592,
          0.9822485207100592,
          0.9822485207100592,
          0.9822485207100592,
          0.9822485207100592
         ]
        },
        {
         "marker": {
          "color": "#cccccc"
         },
         "mode": "markers",
         "name": "Infeasible Trial",
         "showlegend": false,
         "type": "scatter",
         "x": [],
         "y": []
        }
       ],
       "layout": {
        "template": {
         "data": {
          "bar": [
           {
            "error_x": {
             "color": "#2a3f5f"
            },
            "error_y": {
             "color": "#2a3f5f"
            },
            "marker": {
             "line": {
              "color": "#E5ECF6",
              "width": 0.5
             },
             "pattern": {
              "fillmode": "overlay",
              "size": 10,
              "solidity": 0.2
             }
            },
            "type": "bar"
           }
          ],
          "barpolar": [
           {
            "marker": {
             "line": {
              "color": "#E5ECF6",
              "width": 0.5
             },
             "pattern": {
              "fillmode": "overlay",
              "size": 10,
              "solidity": 0.2
             }
            },
            "type": "barpolar"
           }
          ],
          "carpet": [
           {
            "aaxis": {
             "endlinecolor": "#2a3f5f",
             "gridcolor": "white",
             "linecolor": "white",
             "minorgridcolor": "white",
             "startlinecolor": "#2a3f5f"
            },
            "baxis": {
             "endlinecolor": "#2a3f5f",
             "gridcolor": "white",
             "linecolor": "white",
             "minorgridcolor": "white",
             "startlinecolor": "#2a3f5f"
            },
            "type": "carpet"
           }
          ],
          "choropleth": [
           {
            "colorbar": {
             "outlinewidth": 0,
             "ticks": ""
            },
            "type": "choropleth"
           }
          ],
          "contour": [
           {
            "colorbar": {
             "outlinewidth": 0,
             "ticks": ""
            },
            "colorscale": [
             [
              0,
              "#0d0887"
             ],
             [
              0.1111111111111111,
              "#46039f"
             ],
             [
              0.2222222222222222,
              "#7201a8"
             ],
             [
              0.3333333333333333,
              "#9c179e"
             ],
             [
              0.4444444444444444,
              "#bd3786"
             ],
             [
              0.5555555555555556,
              "#d8576b"
             ],
             [
              0.6666666666666666,
              "#ed7953"
             ],
             [
              0.7777777777777778,
              "#fb9f3a"
             ],
             [
              0.8888888888888888,
              "#fdca26"
             ],
             [
              1,
              "#f0f921"
             ]
            ],
            "type": "contour"
           }
          ],
          "contourcarpet": [
           {
            "colorbar": {
             "outlinewidth": 0,
             "ticks": ""
            },
            "type": "contourcarpet"
           }
          ],
          "heatmap": [
           {
            "colorbar": {
             "outlinewidth": 0,
             "ticks": ""
            },
            "colorscale": [
             [
              0,
              "#0d0887"
             ],
             [
              0.1111111111111111,
              "#46039f"
             ],
             [
              0.2222222222222222,
              "#7201a8"
             ],
             [
              0.3333333333333333,
              "#9c179e"
             ],
             [
              0.4444444444444444,
              "#bd3786"
             ],
             [
              0.5555555555555556,
              "#d8576b"
             ],
             [
              0.6666666666666666,
              "#ed7953"
             ],
             [
              0.7777777777777778,
              "#fb9f3a"
             ],
             [
              0.8888888888888888,
              "#fdca26"
             ],
             [
              1,
              "#f0f921"
             ]
            ],
            "type": "heatmap"
           }
          ],
          "heatmapgl": [
           {
            "colorbar": {
             "outlinewidth": 0,
             "ticks": ""
            },
            "colorscale": [
             [
              0,
              "#0d0887"
             ],
             [
              0.1111111111111111,
              "#46039f"
             ],
             [
              0.2222222222222222,
              "#7201a8"
             ],
             [
              0.3333333333333333,
              "#9c179e"
             ],
             [
              0.4444444444444444,
              "#bd3786"
             ],
             [
              0.5555555555555556,
              "#d8576b"
             ],
             [
              0.6666666666666666,
              "#ed7953"
             ],
             [
              0.7777777777777778,
              "#fb9f3a"
             ],
             [
              0.8888888888888888,
              "#fdca26"
             ],
             [
              1,
              "#f0f921"
             ]
            ],
            "type": "heatmapgl"
           }
          ],
          "histogram": [
           {
            "marker": {
             "pattern": {
              "fillmode": "overlay",
              "size": 10,
              "solidity": 0.2
             }
            },
            "type": "histogram"
           }
          ],
          "histogram2d": [
           {
            "colorbar": {
             "outlinewidth": 0,
             "ticks": ""
            },
            "colorscale": [
             [
              0,
              "#0d0887"
             ],
             [
              0.1111111111111111,
              "#46039f"
             ],
             [
              0.2222222222222222,
              "#7201a8"
             ],
             [
              0.3333333333333333,
              "#9c179e"
             ],
             [
              0.4444444444444444,
              "#bd3786"
             ],
             [
              0.5555555555555556,
              "#d8576b"
             ],
             [
              0.6666666666666666,
              "#ed7953"
             ],
             [
              0.7777777777777778,
              "#fb9f3a"
             ],
             [
              0.8888888888888888,
              "#fdca26"
             ],
             [
              1,
              "#f0f921"
             ]
            ],
            "type": "histogram2d"
           }
          ],
          "histogram2dcontour": [
           {
            "colorbar": {
             "outlinewidth": 0,
             "ticks": ""
            },
            "colorscale": [
             [
              0,
              "#0d0887"
             ],
             [
              0.1111111111111111,
              "#46039f"
             ],
             [
              0.2222222222222222,
              "#7201a8"
             ],
             [
              0.3333333333333333,
              "#9c179e"
             ],
             [
              0.4444444444444444,
              "#bd3786"
             ],
             [
              0.5555555555555556,
              "#d8576b"
             ],
             [
              0.6666666666666666,
              "#ed7953"
             ],
             [
              0.7777777777777778,
              "#fb9f3a"
             ],
             [
              0.8888888888888888,
              "#fdca26"
             ],
             [
              1,
              "#f0f921"
             ]
            ],
            "type": "histogram2dcontour"
           }
          ],
          "mesh3d": [
           {
            "colorbar": {
             "outlinewidth": 0,
             "ticks": ""
            },
            "type": "mesh3d"
           }
          ],
          "parcoords": [
           {
            "line": {
             "colorbar": {
              "outlinewidth": 0,
              "ticks": ""
             }
            },
            "type": "parcoords"
           }
          ],
          "pie": [
           {
            "automargin": true,
            "type": "pie"
           }
          ],
          "scatter": [
           {
            "fillpattern": {
             "fillmode": "overlay",
             "size": 10,
             "solidity": 0.2
            },
            "type": "scatter"
           }
          ],
          "scatter3d": [
           {
            "line": {
             "colorbar": {
              "outlinewidth": 0,
              "ticks": ""
             }
            },
            "marker": {
             "colorbar": {
              "outlinewidth": 0,
              "ticks": ""
             }
            },
            "type": "scatter3d"
           }
          ],
          "scattercarpet": [
           {
            "marker": {
             "colorbar": {
              "outlinewidth": 0,
              "ticks": ""
             }
            },
            "type": "scattercarpet"
           }
          ],
          "scattergeo": [
           {
            "marker": {
             "colorbar": {
              "outlinewidth": 0,
              "ticks": ""
             }
            },
            "type": "scattergeo"
           }
          ],
          "scattergl": [
           {
            "marker": {
             "colorbar": {
              "outlinewidth": 0,
              "ticks": ""
             }
            },
            "type": "scattergl"
           }
          ],
          "scattermapbox": [
           {
            "marker": {
             "colorbar": {
              "outlinewidth": 0,
              "ticks": ""
             }
            },
            "type": "scattermapbox"
           }
          ],
          "scatterpolar": [
           {
            "marker": {
             "colorbar": {
              "outlinewidth": 0,
              "ticks": ""
             }
            },
            "type": "scatterpolar"
           }
          ],
          "scatterpolargl": [
           {
            "marker": {
             "colorbar": {
              "outlinewidth": 0,
              "ticks": ""
             }
            },
            "type": "scatterpolargl"
           }
          ],
          "scatterternary": [
           {
            "marker": {
             "colorbar": {
              "outlinewidth": 0,
              "ticks": ""
             }
            },
            "type": "scatterternary"
           }
          ],
          "surface": [
           {
            "colorbar": {
             "outlinewidth": 0,
             "ticks": ""
            },
            "colorscale": [
             [
              0,
              "#0d0887"
             ],
             [
              0.1111111111111111,
              "#46039f"
             ],
             [
              0.2222222222222222,
              "#7201a8"
             ],
             [
              0.3333333333333333,
              "#9c179e"
             ],
             [
              0.4444444444444444,
              "#bd3786"
             ],
             [
              0.5555555555555556,
              "#d8576b"
             ],
             [
              0.6666666666666666,
              "#ed7953"
             ],
             [
              0.7777777777777778,
              "#fb9f3a"
             ],
             [
              0.8888888888888888,
              "#fdca26"
             ],
             [
              1,
              "#f0f921"
             ]
            ],
            "type": "surface"
           }
          ],
          "table": [
           {
            "cells": {
             "fill": {
              "color": "#EBF0F8"
             },
             "line": {
              "color": "white"
             }
            },
            "header": {
             "fill": {
              "color": "#C8D4E3"
             },
             "line": {
              "color": "white"
             }
            },
            "type": "table"
           }
          ]
         },
         "layout": {
          "annotationdefaults": {
           "arrowcolor": "#2a3f5f",
           "arrowhead": 0,
           "arrowwidth": 1
          },
          "autotypenumbers": "strict",
          "coloraxis": {
           "colorbar": {
            "outlinewidth": 0,
            "ticks": ""
           }
          },
          "colorscale": {
           "diverging": [
            [
             0,
             "#8e0152"
            ],
            [
             0.1,
             "#c51b7d"
            ],
            [
             0.2,
             "#de77ae"
            ],
            [
             0.3,
             "#f1b6da"
            ],
            [
             0.4,
             "#fde0ef"
            ],
            [
             0.5,
             "#f7f7f7"
            ],
            [
             0.6,
             "#e6f5d0"
            ],
            [
             0.7,
             "#b8e186"
            ],
            [
             0.8,
             "#7fbc41"
            ],
            [
             0.9,
             "#4d9221"
            ],
            [
             1,
             "#276419"
            ]
           ],
           "sequential": [
            [
             0,
             "#0d0887"
            ],
            [
             0.1111111111111111,
             "#46039f"
            ],
            [
             0.2222222222222222,
             "#7201a8"
            ],
            [
             0.3333333333333333,
             "#9c179e"
            ],
            [
             0.4444444444444444,
             "#bd3786"
            ],
            [
             0.5555555555555556,
             "#d8576b"
            ],
            [
             0.6666666666666666,
             "#ed7953"
            ],
            [
             0.7777777777777778,
             "#fb9f3a"
            ],
            [
             0.8888888888888888,
             "#fdca26"
            ],
            [
             1,
             "#f0f921"
            ]
           ],
           "sequentialminus": [
            [
             0,
             "#0d0887"
            ],
            [
             0.1111111111111111,
             "#46039f"
            ],
            [
             0.2222222222222222,
             "#7201a8"
            ],
            [
             0.3333333333333333,
             "#9c179e"
            ],
            [
             0.4444444444444444,
             "#bd3786"
            ],
            [
             0.5555555555555556,
             "#d8576b"
            ],
            [
             0.6666666666666666,
             "#ed7953"
            ],
            [
             0.7777777777777778,
             "#fb9f3a"
            ],
            [
             0.8888888888888888,
             "#fdca26"
            ],
            [
             1,
             "#f0f921"
            ]
           ]
          },
          "colorway": [
           "#636efa",
           "#EF553B",
           "#00cc96",
           "#ab63fa",
           "#FFA15A",
           "#19d3f3",
           "#FF6692",
           "#B6E880",
           "#FF97FF",
           "#FECB52"
          ],
          "font": {
           "color": "#2a3f5f"
          },
          "geo": {
           "bgcolor": "white",
           "lakecolor": "white",
           "landcolor": "#E5ECF6",
           "showlakes": true,
           "showland": true,
           "subunitcolor": "white"
          },
          "hoverlabel": {
           "align": "left"
          },
          "hovermode": "closest",
          "mapbox": {
           "style": "light"
          },
          "paper_bgcolor": "white",
          "plot_bgcolor": "#E5ECF6",
          "polar": {
           "angularaxis": {
            "gridcolor": "white",
            "linecolor": "white",
            "ticks": ""
           },
           "bgcolor": "#E5ECF6",
           "radialaxis": {
            "gridcolor": "white",
            "linecolor": "white",
            "ticks": ""
           }
          },
          "scene": {
           "xaxis": {
            "backgroundcolor": "#E5ECF6",
            "gridcolor": "white",
            "gridwidth": 2,
            "linecolor": "white",
            "showbackground": true,
            "ticks": "",
            "zerolinecolor": "white"
           },
           "yaxis": {
            "backgroundcolor": "#E5ECF6",
            "gridcolor": "white",
            "gridwidth": 2,
            "linecolor": "white",
            "showbackground": true,
            "ticks": "",
            "zerolinecolor": "white"
           },
           "zaxis": {
            "backgroundcolor": "#E5ECF6",
            "gridcolor": "white",
            "gridwidth": 2,
            "linecolor": "white",
            "showbackground": true,
            "ticks": "",
            "zerolinecolor": "white"
           }
          },
          "shapedefaults": {
           "line": {
            "color": "#2a3f5f"
           }
          },
          "ternary": {
           "aaxis": {
            "gridcolor": "white",
            "linecolor": "white",
            "ticks": ""
           },
           "baxis": {
            "gridcolor": "white",
            "linecolor": "white",
            "ticks": ""
           },
           "bgcolor": "#E5ECF6",
           "caxis": {
            "gridcolor": "white",
            "linecolor": "white",
            "ticks": ""
           }
          },
          "title": {
           "x": 0.05
          },
          "xaxis": {
           "automargin": true,
           "gridcolor": "white",
           "linecolor": "white",
           "ticks": "",
           "title": {
            "standoff": 15
           },
           "zerolinecolor": "white",
           "zerolinewidth": 2
          },
          "yaxis": {
           "automargin": true,
           "gridcolor": "white",
           "linecolor": "white",
           "ticks": "",
           "title": {
            "standoff": 15
           },
           "zerolinecolor": "white",
           "zerolinewidth": 2
          }
         }
        },
        "title": {
         "text": "Optimization History Plot"
        },
        "xaxis": {
         "title": {
          "text": "Trial"
         }
        },
        "yaxis": {
         "title": {
          "text": "Objective Value"
         }
        }
       }
      }
     },
     "metadata": {},
     "output_type": "display_data"
    }
   ],
   "source": [
    "p_history_feat_eng = optuna.visualization.plot_optimization_history(study_feat_eng)\n",
    "p_history_feat_eng.show()"
   ]
  }
 ],
 "metadata": {
  "kernelspec": {
   "display_name": "ml4hc",
   "language": "python",
   "name": "python3"
  },
  "language_info": {
   "codemirror_mode": {
    "name": "ipython",
    "version": 3
   },
   "file_extension": ".py",
   "mimetype": "text/x-python",
   "name": "python",
   "nbconvert_exporter": "python",
   "pygments_lexer": "ipython3",
   "version": "3.10.14"
  }
 },
 "nbformat": 4,
 "nbformat_minor": 2
}
