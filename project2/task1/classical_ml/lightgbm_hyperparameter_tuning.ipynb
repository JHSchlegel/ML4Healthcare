{
 "cells": [
  {
   "cell_type": "markdown",
   "metadata": {},
   "source": [
    "# Gradient Boosting: Hyperparameter Tuning"
   ]
  },
  {
   "cell_type": "markdown",
   "metadata": {},
   "source": [
    "## Packages and Presets"
   ]
  },
  {
   "cell_type": "code",
   "execution_count": 1,
   "metadata": {},
   "outputs": [],
   "source": [
    "import pandas as pd\n",
    "import numpy as np\n",
    "import yaml\n",
    "import os\n",
    "\n",
    "from sklearn.preprocessing import StandardScaler, OneHotEncoder\n",
    "\n",
    "from sklearn.pipeline import Pipeline\n",
    "from sklearn.compose import ColumnTransformer\n",
    "\n",
    "from sklearn.metrics import f1_score\n",
    "\n",
    "from sklearn.model_selection import StratifiedKFold\n",
    "\n",
    "import matplotlib.pyplot as plt\n",
    "import seaborn as sns \n",
    "\n",
    "from imblearn.over_sampling import SMOTE\n",
    "\n",
    "from lightgbm import LGBMClassifier\n",
    "\n",
    "from tsfresh.transformers.per_column_imputer import PerColumnImputer\n",
    "from tsfresh.feature_extraction.settings import EfficientFCParameters, ComprehensiveFCParameters\n",
    "from tsfresh.feature_extraction import extract_features\n",
    "\n",
    "\n",
    "pd.set_option('display.max_columns', None)\n",
    "%load_ext blackcellmagic\n",
    "%load_ext autoreload\n",
    "\n",
    "import optuna\n",
    "import warnings"
   ]
  },
  {
   "cell_type": "code",
   "execution_count": 2,
   "metadata": {},
   "outputs": [],
   "source": [
    "NUM_TRIALS = 500\n",
    "\n",
    "with open(\"classical_ml_config.yaml\", \"r\") as file:\n",
    "    config = yaml.safe_load(file)"
   ]
  },
  {
   "cell_type": "markdown",
   "metadata": {},
   "source": [
    "## No Feature Engineering"
   ]
  },
  {
   "cell_type": "code",
   "execution_count": 3,
   "metadata": {},
   "outputs": [],
   "source": [
    "# Load data\n",
    "train_df = pd.read_csv(config[\"paths\"][\"ptb_train\"], header=None)"
   ]
  },
  {
   "cell_type": "code",
   "execution_count": 4,
   "metadata": {},
   "outputs": [],
   "source": [
    "X_train_all = train_df.iloc[:, :-1]\n",
    "y_train_all = train_df.iloc[:, -1]"
   ]
  },
  {
   "cell_type": "code",
   "execution_count": 5,
   "metadata": {},
   "outputs": [],
   "source": [
    "smote = SMOTE(random_state=config[\"general\"][\"seed\"])\n",
    "X_train_all, y_train_all = smote.fit_resample(X_train_all, y_train_all)"
   ]
  },
  {
   "cell_type": "code",
   "execution_count": 6,
   "metadata": {},
   "outputs": [],
   "source": [
    "# create objective function for optuna\n",
    "def objective_no_feat_eng(trial):\n",
    "    \n",
    "    # see: https://towardsdatascience.com/beginners-guide-to-the-must-know-lightgbm-hyperparameters-a0005a812702\n",
    "    hyperparams = {\n",
    "        \"learning_rate\": trial.suggest_float(\"learning_rate\", 1e-3, 0.1, log=True),\n",
    "        \"max_depth\": trial.suggest_int(\"depth\", 5, 15),\n",
    "        \"num_leaves\": trial.suggest_int(\"num_leaves\", 10, 200),\n",
    "        \"n_estimators\": trial.suggest_int(\"n_estimators\", 100, 1000),\n",
    "        \"min_data_in_leaf\": trial.suggest_int(\"min_data_in_leaf\", 10, 100),\n",
    "        \"min_gain_to_split\": trial.suggest_float(\"min_gain_to_split\", 0, 15)\n",
    "    }\n",
    "    \n",
    "    \n",
    "    f1_scores = []\n",
    "    \n",
    "    skf = StratifiedKFold(n_splits=5, random_state=config[\"general\"][\"seed\"], shuffle=True)\n",
    "    for fold_num, (train_idx, val_idx) in enumerate(skf.split(X_train_all, y_train_all)):\n",
    "        X_train, X_val = X_train_all.iloc[train_idx], X_train_all.iloc[val_idx]\n",
    "        y_train, y_val = y_train_all[train_idx], y_train_all[val_idx]\n",
    "\n",
    "        \n",
    "        \n",
    "        boost = LGBMClassifier(\n",
    "            random_state=config[\"general\"][\"seed\"],\n",
    "            verbose=-1,\n",
    "            n_jobs=-1,\n",
    "            **hyperparams\n",
    "        )\n",
    "        boost.fit(X_train, y_train)\n",
    "        \n",
    "        y_preds = boost.predict(X_val)\n",
    "        \n",
    "        score = f1_score(y_val, y_preds)\n",
    "        f1_scores.append(score)\n",
    "            \n",
    "        trial.report(np.mean(f1_scores), fold_num)\n",
    "        if trial.should_prune():\n",
    "            raise optuna.TrialPruned()\n",
    "            \n",
    "        \n",
    "    return np.mean(f1_scores)"
   ]
  },
  {
   "cell_type": "code",
   "execution_count": 7,
   "metadata": {},
   "outputs": [
    {
     "name": "stderr",
     "output_type": "stream",
     "text": [
      "[I 2024-05-10 01:48:25,344] A new study created in memory with name: boost_no_feat_eng\n"
     ]
    }
   ],
   "source": [
    "# prune bad trials \n",
    "pruner = optuna.pruners.MedianPruner(n_startup_trials=20, n_warmup_steps=2)\n",
    "\n",
    "study_no_feat_eng = optuna.create_study(\n",
    "    direction=\"maximize\",\n",
    "    study_name=\"boost_no_feat_eng\",\n",
    "    sampler=optuna.samplers.TPESampler(seed=config[\"general\"][\"seed\"]),\n",
    "    pruner=pruner,\n",
    ")"
   ]
  },
  {
   "cell_type": "code",
   "execution_count": 8,
   "metadata": {},
   "outputs": [
    {
     "data": {
      "application/vnd.jupyter.widget-view+json": {
       "model_id": "4eb9dd0eefd54825a0bf89597220b22e",
       "version_major": 2,
       "version_minor": 0
      },
      "text/plain": [
       "  0%|          | 0/500 [00:00<?, ?it/s]"
      ]
     },
     "metadata": {},
     "output_type": "display_data"
    },
    {
     "name": "stdout",
     "output_type": "stream",
     "text": [
      "[I 2024-05-10 01:48:54,888] Trial 0 finished with value: 0.9727231946106423 and parameters: {'learning_rate': 0.005611516415334507, 'depth': 15, 'num_leaves': 149, 'n_estimators': 639, 'min_data_in_leaf': 24, 'min_gain_to_split': 2.3399178050430396}. Best is trial 0 with value: 0.9727231946106423.\n",
      "[I 2024-05-10 01:49:22,860] Trial 1 finished with value: 0.9281055158226851 and parameters: {'learning_rate': 0.0013066739238053278, 'depth': 14, 'num_leaves': 124, 'n_estimators': 737, 'min_data_in_leaf': 11, 'min_gain_to_split': 14.548647782429915}. Best is trial 0 with value: 0.9727231946106423.\n",
      "[I 2024-05-10 01:49:26,018] Trial 2 finished with value: 0.9532628853965488 and parameters: {'learning_rate': 0.04622589001020832, 'depth': 7, 'num_leaves': 44, 'n_estimators': 265, 'min_data_in_leaf': 37, 'min_gain_to_split': 7.871346474483568}. Best is trial 0 with value: 0.9727231946106423.\n",
      "[I 2024-05-10 01:49:50,549] Trial 3 finished with value: 0.9293390945984374 and parameters: {'learning_rate': 0.007309539835912915, 'depth': 8, 'num_leaves': 126, 'n_estimators': 225, 'min_data_in_leaf': 36, 'min_gain_to_split': 5.495427649405375}. Best is trial 0 with value: 0.9727231946106423.\n",
      "[I 2024-05-10 01:50:08,694] Trial 4 finished with value: 0.9710762926161515 and parameters: {'learning_rate': 0.008168455894760165, 'depth': 13, 'num_leaves': 48, 'n_estimators': 563, 'min_data_in_leaf': 63, 'min_gain_to_split': 0.6967561907999659}. Best is trial 0 with value: 0.9727231946106423.\n",
      "[I 2024-05-10 01:50:13,865] Trial 5 finished with value: 0.9337763993777706 and parameters: {'learning_rate': 0.016409286730647923, 'depth': 6, 'num_leaves': 22, 'n_estimators': 954, 'min_data_in_leaf': 97, 'min_gain_to_split': 12.125960221746917}. Best is trial 0 with value: 0.9727231946106423.\n",
      "[I 2024-05-10 01:50:19,363] Trial 6 finished with value: 0.9094999129444338 and parameters: {'learning_rate': 0.0040665633135147945, 'depth': 6, 'num_leaves': 140, 'n_estimators': 496, 'min_data_in_leaf': 21, 'min_gain_to_split': 7.427653651669052}. Best is trial 0 with value: 0.9727231946106423.\n",
      "[I 2024-05-10 01:50:33,450] Trial 7 finished with value: 0.9323928748020809 and parameters: {'learning_rate': 0.001171593739230706, 'depth': 15, 'num_leaves': 59, 'n_estimators': 696, 'min_data_in_leaf': 38, 'min_gain_to_split': 7.801020317667162}. Best is trial 0 with value: 0.9727231946106423.\n",
      "[I 2024-05-10 01:50:37,952] Trial 8 finished with value: 0.9357584534952565 and parameters: {'learning_rate': 0.0123999678368461, 'depth': 7, 'num_leaves': 195, 'n_estimators': 798, 'min_data_in_leaf': 95, 'min_gain_to_split': 13.422410256414732}. Best is trial 0 with value: 0.9727231946106423.\n",
      "[I 2024-05-10 01:50:41,811] Trial 9 finished with value: 0.9546434580390889 and parameters: {'learning_rate': 0.015696396388661146, 'depth': 15, 'num_leaves': 26, 'n_estimators': 276, 'min_data_in_leaf': 14, 'min_gain_to_split': 4.8799549614489655}. Best is trial 0 with value: 0.9727231946106423.\n",
      "[I 2024-05-10 01:50:45,154] Trial 10 finished with value: 0.9818444713000998 and parameters: {'learning_rate': 0.0776735381623706, 'depth': 11, 'num_leaves': 184, 'n_estimators': 441, 'min_data_in_leaf': 68, 'min_gain_to_split': 0.5808779994177424}. Best is trial 10 with value: 0.9818444713000998.\n",
      "[I 2024-05-10 01:50:49,359] Trial 11 finished with value: 0.9863700154310138 and parameters: {'learning_rate': 0.09024477781474669, 'depth': 11, 'num_leaves': 184, 'n_estimators': 442, 'min_data_in_leaf': 71, 'min_gain_to_split': 0.13841059692619373}. Best is trial 11 with value: 0.9863700154310138.\n",
      "[I 2024-05-10 01:50:58,777] Trial 12 finished with value: 0.9865450229678331 and parameters: {'learning_rate': 0.08847826679705376, 'depth': 11, 'num_leaves': 199, 'n_estimators': 396, 'min_data_in_leaf': 72, 'min_gain_to_split': 0.06337686368384629}. Best is trial 12 with value: 0.9865450229678331.\n",
      "[I 2024-05-10 01:51:01,684] Trial 13 finished with value: 0.9696403460117953 and parameters: {'learning_rate': 0.0394706451105579, 'depth': 11, 'num_leaves': 170, 'n_estimators': 389, 'min_data_in_leaf': 80, 'min_gain_to_split': 3.1323790614393987}. Best is trial 12 with value: 0.9865450229678331.\n",
      "[I 2024-05-10 01:51:07,546] Trial 14 finished with value: 0.9836472163347671 and parameters: {'learning_rate': 0.09529347769222628, 'depth': 9, 'num_leaves': 101, 'n_estimators': 133, 'min_data_in_leaf': 83, 'min_gain_to_split': 0.044284449608288284}. Best is trial 12 with value: 0.9865450229678331.\n",
      "[I 2024-05-10 01:51:10,793] Trial 15 finished with value: 0.9709926913659028 and parameters: {'learning_rate': 0.0359743852798569, 'depth': 12, 'num_leaves': 165, 'n_estimators': 396, 'min_data_in_leaf': 52, 'min_gain_to_split': 3.3596058885702735}. Best is trial 12 with value: 0.9865450229678331.\n",
      "[I 2024-05-10 01:51:13,800] Trial 16 finished with value: 0.951218805909712 and parameters: {'learning_rate': 0.028818386329330196, 'depth': 10, 'num_leaves': 200, 'n_estimators': 587, 'min_data_in_leaf': 76, 'min_gain_to_split': 9.76841896563449}. Best is trial 12 with value: 0.9865450229678331.\n",
      "[I 2024-05-10 01:51:16,666] Trial 17 finished with value: 0.9742956153329295 and parameters: {'learning_rate': 0.06330896226306486, 'depth': 10, 'num_leaves': 88, 'n_estimators': 339, 'min_data_in_leaf': 53, 'min_gain_to_split': 1.871228012241413}. Best is trial 12 with value: 0.9865450229678331.\n",
      "[I 2024-05-10 01:51:21,818] Trial 18 finished with value: 0.9650499718624719 and parameters: {'learning_rate': 0.02574665519746673, 'depth': 12, 'num_leaves': 171, 'n_estimators': 476, 'min_data_in_leaf': 65, 'min_gain_to_split': 4.803657131671933}. Best is trial 12 with value: 0.9865450229678331.\n",
      "[I 2024-05-10 01:51:23,820] Trial 19 finished with value: 0.9731363204390563 and parameters: {'learning_rate': 0.05915818520774154, 'depth': 9, 'num_leaves': 150, 'n_estimators': 109, 'min_data_in_leaf': 86, 'min_gain_to_split': 1.7353585243068084}. Best is trial 12 with value: 0.9865450229678331.\n",
      "[I 2024-05-10 01:51:25,112] Trial 20 pruned. \n",
      "[I 2024-05-10 01:51:28,236] Trial 21 finished with value: 0.9826934784326514 and parameters: {'learning_rate': 0.09284808528417836, 'depth': 9, 'num_leaves': 105, 'n_estimators': 128, 'min_data_in_leaf': 86, 'min_gain_to_split': 0.2030233226997277}. Best is trial 12 with value: 0.9865450229678331.\n",
      "[I 2024-05-10 01:51:37,276] Trial 22 finished with value: 0.9830432121265831 and parameters: {'learning_rate': 0.05603553956608588, 'depth': 9, 'num_leaves': 100, 'n_estimators': 196, 'min_data_in_leaf': 71, 'min_gain_to_split': 0.21266357056582774}. Best is trial 12 with value: 0.9865450229678331.\n",
      "[I 2024-05-10 01:51:51,950] Trial 23 pruned. \n",
      "[I 2024-05-10 01:52:01,353] Trial 24 finished with value: 0.9704504527743143 and parameters: {'learning_rate': 0.022501939407350447, 'depth': 12, 'num_leaves': 122, 'n_estimators': 185, 'min_data_in_leaf': 76, 'min_gain_to_split': 1.5973953037213795}. Best is trial 12 with value: 0.9865450229678331.\n",
      "[I 2024-05-10 01:52:02,659] Trial 25 pruned. \n",
      "[I 2024-05-10 01:52:05,880] Trial 26 pruned. \n",
      "[I 2024-05-10 01:52:09,127] Trial 27 finished with value: 0.9746806353169275 and parameters: {'learning_rate': 0.095479517678495, 'depth': 5, 'num_leaves': 180, 'n_estimators': 554, 'min_data_in_leaf': 92, 'min_gain_to_split': 1.2744478260793892}. Best is trial 12 with value: 0.9865450229678331.\n",
      "[I 2024-05-10 01:52:15,788] Trial 28 finished with value: 0.9756177012567683 and parameters: {'learning_rate': 0.05938747895856154, 'depth': 13, 'num_leaves': 136, 'n_estimators': 397, 'min_data_in_leaf': 58, 'min_gain_to_split': 2.265757380063842}. Best is trial 12 with value: 0.9865450229678331.\n",
      "[I 2024-05-10 01:52:32,726] Trial 29 pruned. \n",
      "[I 2024-05-10 01:52:36,135] Trial 30 pruned. \n",
      "[I 2024-05-10 01:52:42,834] Trial 31 finished with value: 0.9838934765145144 and parameters: {'learning_rate': 0.053729246875925486, 'depth': 9, 'num_leaves': 102, 'n_estimators': 215, 'min_data_in_leaf': 70, 'min_gain_to_split': 0.12009794459052053}. Best is trial 12 with value: 0.9865450229678331.\n",
      "[I 2024-05-10 01:52:48,507] Trial 32 finished with value: 0.9861313405488964 and parameters: {'learning_rate': 0.0691531286134868, 'depth': 8, 'num_leaves': 93, 'n_estimators': 267, 'min_data_in_leaf': 90, 'min_gain_to_split': 0.1182748816116685}. Best is trial 12 with value: 0.9865450229678331.\n",
      "[I 2024-05-10 01:52:53,136] Trial 33 finished with value: 0.9761232046431811 and parameters: {'learning_rate': 0.050025046519674925, 'depth': 8, 'num_leaves': 85, 'n_estimators': 242, 'min_data_in_leaf': 45, 'min_gain_to_split': 1.3897210839835135}. Best is trial 12 with value: 0.9865450229678331.\n",
      "[I 2024-05-10 01:52:56,945] Trial 34 finished with value: 0.9755239327568589 and parameters: {'learning_rate': 0.07061974249871368, 'depth': 7, 'num_leaves': 67, 'n_estimators': 286, 'min_data_in_leaf': 92, 'min_gain_to_split': 1.2753941745733335}. Best is trial 12 with value: 0.9865450229678331.\n",
      "[I 2024-05-10 01:53:00,958] Trial 35 pruned. \n",
      "[I 2024-05-10 01:53:09,251] Trial 36 finished with value: 0.9782059600809841 and parameters: {'learning_rate': 0.04786476087916023, 'depth': 9, 'num_leaves': 94, 'n_estimators': 353, 'min_data_in_leaf': 100, 'min_gain_to_split': 0.9329205235721377}. Best is trial 12 with value: 0.9865450229678331.\n",
      "[I 2024-05-10 01:53:19,852] Trial 37 pruned. \n",
      "[I 2024-05-10 01:53:21,764] Trial 38 pruned. \n",
      "[I 2024-05-10 01:53:23,048] Trial 39 pruned. \n",
      "[I 2024-05-10 01:53:27,537] Trial 40 pruned. \n",
      "[I 2024-05-10 01:53:32,097] Trial 41 finished with value: 0.9838345072621888 and parameters: {'learning_rate': 0.08263048838047506, 'depth': 9, 'num_leaves': 114, 'n_estimators': 156, 'min_data_in_leaf': 79, 'min_gain_to_split': 0.20786974100017996}. Best is trial 12 with value: 0.9865450229678331.\n",
      "[I 2024-05-10 01:53:35,277] Trial 42 finished with value: 0.9784262794281592 and parameters: {'learning_rate': 0.0758199337267649, 'depth': 7, 'num_leaves': 44, 'n_estimators': 255, 'min_data_in_leaf': 80, 'min_gain_to_split': 0.8944555031247343}. Best is trial 12 with value: 0.9865450229678331.\n",
      "[I 2024-05-10 01:53:37,526] Trial 43 pruned. \n",
      "[I 2024-05-10 01:53:40,855] Trial 44 finished with value: 0.9797407494503382 and parameters: {'learning_rate': 0.09938704778814869, 'depth': 11, 'num_leaves': 31, 'n_estimators': 260, 'min_data_in_leaf': 59, 'min_gain_to_split': 0.7794680113685608}. Best is trial 12 with value: 0.9865450229678331.\n",
      "[I 2024-05-10 01:53:46,640] Trial 45 finished with value: 0.9725473459752262 and parameters: {'learning_rate': 0.042153959605089046, 'depth': 9, 'num_leaves': 114, 'n_estimators': 366, 'min_data_in_leaf': 64, 'min_gain_to_split': 2.2027286992110353}. Best is trial 12 with value: 0.9865450229678331.\n",
      "[I 2024-05-10 01:53:51,610] Trial 46 finished with value: 0.9804562016951118 and parameters: {'learning_rate': 0.06479080643528767, 'depth': 8, 'num_leaves': 193, 'n_estimators': 955, 'min_data_in_leaf': 79, 'min_gain_to_split': 0.753811703621538}. Best is trial 12 with value: 0.9865450229678331.\n",
      "[I 2024-05-10 01:53:59,596] Trial 47 finished with value: 0.9865514653814703 and parameters: {'learning_rate': 0.0834381203548725, 'depth': 10, 'num_leaves': 179, 'n_estimators': 414, 'min_data_in_leaf': 95, 'min_gain_to_split': 0.057347246320259476}. Best is trial 47 with value: 0.9865514653814703.\n",
      "[I 2024-05-10 01:54:00,801] Trial 48 pruned. \n",
      "[I 2024-05-10 01:54:15,922] Trial 49 finished with value: 0.97505211135217 and parameters: {'learning_rate': 0.015865133512040393, 'depth': 10, 'num_leaves': 187, 'n_estimators': 415, 'min_data_in_leaf': 92, 'min_gain_to_split': 1.8491889135311683}. Best is trial 47 with value: 0.9865514653814703.\n",
      "[I 2024-05-10 01:54:34,786] Trial 50 pruned. \n",
      "[I 2024-05-10 01:54:43,237] Trial 51 finished with value: 0.986910362047946 and parameters: {'learning_rate': 0.08182416136495693, 'depth': 10, 'num_leaves': 168, 'n_estimators': 328, 'min_data_in_leaf': 99, 'min_gain_to_split': 0.057691237560922655}. Best is trial 51 with value: 0.986910362047946.\n",
      "[I 2024-05-10 01:54:58,331] Trial 52 finished with value: 0.9797969050654212 and parameters: {'learning_rate': 0.08178598010821121, 'depth': 10, 'num_leaves': 165, 'n_estimators': 310, 'min_data_in_leaf': 100, 'min_gain_to_split': 0.6993138613747544}. Best is trial 51 with value: 0.986910362047946.\n",
      "[I 2024-05-10 01:55:35,095] Trial 53 finished with value: 0.9880485981683902 and parameters: {'learning_rate': 0.06241763092951814, 'depth': 10, 'num_leaves': 173, 'n_estimators': 444, 'min_data_in_leaf': 95, 'min_gain_to_split': 0.01939510255780283}. Best is trial 53 with value: 0.9880485981683902.\n",
      "[I 2024-05-10 01:55:40,837] Trial 54 finished with value: 0.9765415673767522 and parameters: {'learning_rate': 0.07133154935954217, 'depth': 11, 'num_leaves': 174, 'n_estimators': 450, 'min_data_in_leaf': 96, 'min_gain_to_split': 1.3952581259604164}. Best is trial 53 with value: 0.9880485981683902.\n",
      "[I 2024-05-10 01:55:49,837] Trial 55 finished with value: 0.981557191809402 and parameters: {'learning_rate': 0.06285676734281619, 'depth': 11, 'num_leaves': 166, 'n_estimators': 522, 'min_data_in_leaf': 94, 'min_gain_to_split': 0.5846871475894972}. Best is trial 53 with value: 0.9880485981683902.\n",
      "[I 2024-05-10 01:56:15,865] Trial 56 finished with value: 0.9731099727330254 and parameters: {'learning_rate': 0.03924826790143363, 'depth': 10, 'num_leaves': 148, 'n_estimators': 423, 'min_data_in_leaf': 89, 'min_gain_to_split': 2.09974041915004}. Best is trial 53 with value: 0.9880485981683902.\n",
      "[I 2024-05-10 01:56:24,432] Trial 57 finished with value: 0.9881790743207859 and parameters: {'learning_rate': 0.08683353713118039, 'depth': 12, 'num_leaves': 188, 'n_estimators': 362, 'min_data_in_leaf': 98, 'min_gain_to_split': 0.027996485241013593}. Best is trial 57 with value: 0.9881790743207859.\n",
      "[I 2024-05-10 01:56:28,781] Trial 58 finished with value: 0.9785358091895748 and parameters: {'learning_rate': 0.08431422513691623, 'depth': 13, 'num_leaves': 188, 'n_estimators': 372, 'min_data_in_leaf': 98, 'min_gain_to_split': 1.0470920222108355}. Best is trial 57 with value: 0.9881790743207859.\n",
      "[I 2024-05-10 01:56:30,495] Trial 59 pruned. \n",
      "[I 2024-05-10 01:56:32,528] Trial 60 pruned. \n",
      "[I 2024-05-10 01:56:41,562] Trial 61 finished with value: 0.9867304541707199 and parameters: {'learning_rate': 0.06608152778434206, 'depth': 11, 'num_leaves': 178, 'n_estimators': 382, 'min_data_in_leaf': 92, 'min_gain_to_split': 0.09091900329460957}. Best is trial 57 with value: 0.9881790743207859.\n",
      "[I 2024-05-10 01:56:47,880] Trial 62 finished with value: 0.9827504622076418 and parameters: {'learning_rate': 0.057939529880753224, 'depth': 11, 'num_leaves': 177, 'n_estimators': 399, 'min_data_in_leaf': 94, 'min_gain_to_split': 0.431116211910661}. Best is trial 57 with value: 0.9881790743207859.\n",
      "[I 2024-05-10 01:56:52,177] Trial 63 finished with value: 0.9774577888333219 and parameters: {'learning_rate': 0.06556322345838805, 'depth': 12, 'num_leaves': 191, 'n_estimators': 462, 'min_data_in_leaf': 100, 'min_gain_to_split': 1.1979097653214945}. Best is trial 57 with value: 0.9881790743207859.\n",
      "[I 2024-05-10 01:56:56,642] Trial 64 finished with value: 0.9818003334814511 and parameters: {'learning_rate': 0.08421148305063401, 'depth': 13, 'num_leaves': 168, 'n_estimators': 377, 'min_data_in_leaf': 95, 'min_gain_to_split': 0.5614799620617158}. Best is trial 57 with value: 0.9881790743207859.\n",
      "[I 2024-05-10 01:57:00,806] Trial 65 pruned. \n",
      "[I 2024-05-10 01:57:02,319] Trial 66 pruned. \n",
      "[I 2024-05-10 01:57:10,564] Trial 67 finished with value: 0.975318933316353 and parameters: {'learning_rate': 0.03863080782490535, 'depth': 10, 'num_leaves': 173, 'n_estimators': 535, 'min_data_in_leaf': 97, 'min_gain_to_split': 1.6225934184896333}. Best is trial 57 with value: 0.9881790743207859.\n",
      "[I 2024-05-10 01:57:20,805] Trial 68 finished with value: 0.9876871566536668 and parameters: {'learning_rate': 0.08664547654164449, 'depth': 12, 'num_leaves': 160, 'n_estimators': 420, 'min_data_in_leaf': 87, 'min_gain_to_split': 0.01645786236208001}. Best is trial 57 with value: 0.9881790743207859.\n",
      "[I 2024-05-10 01:57:46,140] Trial 69 finished with value: 0.9820958711024648 and parameters: {'learning_rate': 0.026019770734503754, 'depth': 12, 'num_leaves': 149, 'n_estimators': 417, 'min_data_in_leaf': 87, 'min_gain_to_split': 0.5382931655857207}. Best is trial 57 with value: 0.9881790743207859.\n",
      "[I 2024-05-10 01:58:04,065] Trial 70 finished with value: 0.9787050549651936 and parameters: {'learning_rate': 0.05349466286406356, 'depth': 13, 'num_leaves': 161, 'n_estimators': 574, 'min_data_in_leaf': 82, 'min_gain_to_split': 1.1148179931895275}. Best is trial 57 with value: 0.9881790743207859.\n",
      "[I 2024-05-10 01:58:17,161] Trial 71 finished with value: 0.9880583655210942 and parameters: {'learning_rate': 0.08498101220197078, 'depth': 11, 'num_leaves': 187, 'n_estimators': 450, 'min_data_in_leaf': 93, 'min_gain_to_split': 0.018285000507688463}. Best is trial 57 with value: 0.9881790743207859.\n",
      "[I 2024-05-10 01:58:27,684] Trial 72 finished with value: 0.982686703440154 and parameters: {'learning_rate': 0.0699883979063834, 'depth': 11, 'num_leaves': 188, 'n_estimators': 487, 'min_data_in_leaf': 93, 'min_gain_to_split': 0.4454913187532018}. Best is trial 57 with value: 0.9881790743207859.\n",
      "[I 2024-05-10 01:58:32,955] Trial 73 finished with value: 0.9852243745131315 and parameters: {'learning_rate': 0.09135710294773598, 'depth': 11, 'num_leaves': 181, 'n_estimators': 355, 'min_data_in_leaf': 97, 'min_gain_to_split': 0.1619785713549355}. Best is trial 57 with value: 0.9881790743207859.\n",
      "[I 2024-05-10 01:58:45,573] Trial 74 finished with value: 0.9877531362238171 and parameters: {'learning_rate': 0.07816367117237205, 'depth': 12, 'num_leaves': 171, 'n_estimators': 392, 'min_data_in_leaf': 91, 'min_gain_to_split': 0.03136106898925597}. Best is trial 57 with value: 0.9881790743207859.\n",
      "[I 2024-05-10 01:59:04,024] Trial 75 pruned. \n",
      "[I 2024-05-10 01:59:25,090] Trial 76 finished with value: 0.9790775135279739 and parameters: {'learning_rate': 0.0628006909146572, 'depth': 12, 'num_leaves': 162, 'n_estimators': 715, 'min_data_in_leaf': 16, 'min_gain_to_split': 0.9057915070986978}. Best is trial 57 with value: 0.9881790743207859.\n",
      "[I 2024-05-10 01:59:30,843] Trial 77 pruned. \n",
      "[I 2024-05-10 01:59:46,891] Trial 78 finished with value: 0.978427327970581 and parameters: {'learning_rate': 0.057431711160124035, 'depth': 13, 'num_leaves': 171, 'n_estimators': 333, 'min_data_in_leaf': 95, 'min_gain_to_split': 1.1351923435571305}. Best is trial 57 with value: 0.9881790743207859.\n",
      "[I 2024-05-10 01:59:48,464] Trial 79 pruned. \n",
      "[I 2024-05-10 01:59:56,538] Trial 80 pruned. \n",
      "[I 2024-05-10 02:00:01,616] Trial 81 finished with value: 0.981977328330682 and parameters: {'learning_rate': 0.08926398634646131, 'depth': 12, 'num_leaves': 196, 'n_estimators': 408, 'min_data_in_leaf': 93, 'min_gain_to_split': 0.6079613334190997}. Best is trial 57 with value: 0.9881790743207859.\n",
      "[I 2024-05-10 02:00:05,606] Trial 82 finished with value: 0.9820988697841436 and parameters: {'learning_rate': 0.09900632653106375, 'depth': 10, 'num_leaves': 186, 'n_estimators': 378, 'min_data_in_leaf': 83, 'min_gain_to_split': 0.3911949090682143}. Best is trial 57 with value: 0.9881790743207859.\n",
      "[I 2024-05-10 02:00:10,508] Trial 83 finished with value: 0.9779843167242624 and parameters: {'learning_rate': 0.06920739127583068, 'depth': 11, 'num_leaves': 200, 'n_estimators': 439, 'min_data_in_leaf': 90, 'min_gain_to_split': 1.0429981710514693}. Best is trial 57 with value: 0.9881790743207859.\n",
      "[I 2024-05-10 02:00:23,762] Trial 84 finished with value: 0.9877546854608396 and parameters: {'learning_rate': 0.05112935898756872, 'depth': 12, 'num_leaves': 192, 'n_estimators': 350, 'min_data_in_leaf': 96, 'min_gain_to_split': 0.031020298018356568}. Best is trial 57 with value: 0.9881790743207859.\n",
      "[I 2024-05-10 02:00:26,904] Trial 85 pruned. \n",
      "[I 2024-05-10 02:00:33,622] Trial 86 finished with value: 0.9837850515743665 and parameters: {'learning_rate': 0.06043699102032758, 'depth': 13, 'num_leaves': 191, 'n_estimators': 364, 'min_data_in_leaf': 95, 'min_gain_to_split': 0.4056465687199732}. Best is trial 57 with value: 0.9881790743207859.\n",
      "[I 2024-05-10 02:00:39,362] Trial 87 finished with value: 0.979919891594451 and parameters: {'learning_rate': 0.05072691175017635, 'depth': 12, 'num_leaves': 175, 'n_estimators': 355, 'min_data_in_leaf': 87, 'min_gain_to_split': 0.8278503162803248}. Best is trial 57 with value: 0.9881790743207859.\n",
      "[I 2024-05-10 02:00:53,363] Trial 88 finished with value: 0.9890088272119918 and parameters: {'learning_rate': 0.07712989506638332, 'depth': 11, 'num_leaves': 162, 'n_estimators': 501, 'min_data_in_leaf': 100, 'min_gain_to_split': 0.0017535275813789983}. Best is trial 88 with value: 0.9890088272119918.\n",
      "[I 2024-05-10 02:00:56,752] Trial 89 pruned. \n",
      "[I 2024-05-10 02:00:58,523] Trial 90 pruned. \n",
      "[I 2024-05-10 02:01:04,296] Trial 91 finished with value: 0.9874502863935616 and parameters: {'learning_rate': 0.0876487688242784, 'depth': 10, 'num_leaves': 166, 'n_estimators': 450, 'min_data_in_leaf': 97, 'min_gain_to_split': 0.03155545748427509}. Best is trial 88 with value: 0.9890088272119918.\n",
      "[I 2024-05-10 02:01:10,504] Trial 92 finished with value: 0.9833597406632503 and parameters: {'learning_rate': 0.06565424938139057, 'depth': 11, 'num_leaves': 165, 'n_estimators': 465, 'min_data_in_leaf': 97, 'min_gain_to_split': 0.3349988801278766}. Best is trial 88 with value: 0.9890088272119918.\n",
      "[I 2024-05-10 02:01:18,346] Trial 93 finished with value: 0.9796040059332626 and parameters: {'learning_rate': 0.08890872990867539, 'depth': 10, 'num_leaves': 171, 'n_estimators': 785, 'min_data_in_leaf': 91, 'min_gain_to_split': 0.7894087607893473}. Best is trial 88 with value: 0.9890088272119918.\n",
      "[I 2024-05-10 02:01:22,417] Trial 94 pruned. \n",
      "[I 2024-05-10 02:01:30,846] Trial 95 finished with value: 0.9819624946998811 and parameters: {'learning_rate': 0.05507879016728398, 'depth': 9, 'num_leaves': 133, 'n_estimators': 382, 'min_data_in_leaf': 96, 'min_gain_to_split': 0.37414850232937114}. Best is trial 88 with value: 0.9890088272119918.\n",
      "[I 2024-05-10 02:01:44,743] Trial 96 finished with value: 0.9854068425128885 and parameters: {'learning_rate': 0.04346582345095049, 'depth': 11, 'num_leaves': 181, 'n_estimators': 304, 'min_data_in_leaf': 100, 'min_gain_to_split': 0.02774981939487905}. Best is trial 88 with value: 0.9890088272119918.\n",
      "[I 2024-05-10 02:01:53,399] Trial 97 pruned. \n",
      "[I 2024-05-10 02:01:55,603] Trial 98 pruned. \n",
      "[I 2024-05-10 02:02:04,725] Trial 99 finished with value: 0.9872158163658684 and parameters: {'learning_rate': 0.09963356938275109, 'depth': 12, 'num_leaves': 142, 'n_estimators': 528, 'min_data_in_leaf': 27, 'min_gain_to_split': 0.017902417139875233}. Best is trial 88 with value: 0.9890088272119918.\n",
      "[I 2024-05-10 02:02:06,953] Trial 100 pruned. \n",
      "[I 2024-05-10 02:02:20,249] Trial 101 finished with value: 0.9827441667009698 and parameters: {'learning_rate': 0.09780449814849101, 'depth': 12, 'num_leaves': 169, 'n_estimators': 495, 'min_data_in_leaf': 36, 'min_gain_to_split': 0.42028498641267453}. Best is trial 88 with value: 0.9890088272119918.\n",
      "[I 2024-05-10 02:02:23,639] Trial 102 pruned. \n",
      "[I 2024-05-10 02:02:32,838] Trial 103 finished with value: 0.9814711476084229 and parameters: {'learning_rate': 0.06672991956000139, 'depth': 11, 'num_leaves': 153, 'n_estimators': 344, 'min_data_in_leaf': 26, 'min_gain_to_split': 0.6339660290737604}. Best is trial 88 with value: 0.9890088272119918.\n",
      "[I 2024-05-10 02:02:41,115] Trial 104 pruned. \n",
      "[I 2024-05-10 02:02:49,176] Trial 105 finished with value: 0.983904555300653 and parameters: {'learning_rate': 0.0753043072808497, 'depth': 12, 'num_leaves': 192, 'n_estimators': 425, 'min_data_in_leaf': 51, 'min_gain_to_split': 0.35438641438311147}. Best is trial 88 with value: 0.9890088272119918.\n",
      "[I 2024-05-10 02:02:50,569] Trial 106 pruned. \n",
      "[I 2024-05-10 02:03:07,785] Trial 107 finished with value: 0.9881065100295489 and parameters: {'learning_rate': 0.08775234283628627, 'depth': 10, 'num_leaves': 142, 'n_estimators': 274, 'min_data_in_leaf': 56, 'min_gain_to_split': 0.01581172807975285}. Best is trial 88 with value: 0.9890088272119918.\n",
      "[I 2024-05-10 02:03:14,105] Trial 108 pruned. \n",
      "[I 2024-05-10 02:03:18,769] Trial 109 finished with value: 0.9806237573013087 and parameters: {'learning_rate': 0.09188819736733549, 'depth': 9, 'num_leaves': 137, 'n_estimators': 252, 'min_data_in_leaf': 56, 'min_gain_to_split': 0.5675532353125401}. Best is trial 88 with value: 0.9890088272119918.\n",
      "[I 2024-05-10 02:03:23,446] Trial 110 pruned. \n",
      "[I 2024-05-10 02:03:32,797] Trial 111 finished with value: 0.9832182438834576 and parameters: {'learning_rate': 0.07834821337527913, 'depth': 10, 'num_leaves': 140, 'n_estimators': 396, 'min_data_in_leaf': 30, 'min_gain_to_split': 0.2842635877550781}. Best is trial 88 with value: 0.9890088272119918.\n",
      "[I 2024-05-10 02:03:54,297] Trial 112 finished with value: 0.9874597354057186 and parameters: {'learning_rate': 0.07097957771321271, 'depth': 11, 'num_leaves': 188, 'n_estimators': 480, 'min_data_in_leaf': 98, 'min_gain_to_split': 0.06359004589617513}. Best is trial 88 with value: 0.9890088272119918.\n",
      "[I 2024-05-10 02:04:09,019] Trial 113 finished with value: 0.9887075118450361 and parameters: {'learning_rate': 0.099801281138115, 'depth': 12, 'num_leaves': 189, 'n_estimators': 521, 'min_data_in_leaf': 61, 'min_gain_to_split': 0.011999186479803657}. Best is trial 88 with value: 0.9890088272119918.\n",
      "[I 2024-05-10 02:04:15,077] Trial 114 finished with value: 0.9811829465178381 and parameters: {'learning_rate': 0.07300634838087804, 'depth': 13, 'num_leaves': 189, 'n_estimators': 564, 'min_data_in_leaf': 62, 'min_gain_to_split': 0.7023128106715991}. Best is trial 88 with value: 0.9890088272119918.\n",
      "[I 2024-05-10 02:04:31,633] Trial 115 finished with value: 0.9893730569274914 and parameters: {'learning_rate': 0.09883473251930207, 'depth': 12, 'num_leaves': 196, 'n_estimators': 517, 'min_data_in_leaf': 55, 'min_gain_to_split': 0.0026972508602276304}. Best is trial 115 with value: 0.9893730569274914.\n",
      "[I 2024-05-10 02:04:34,507] Trial 116 pruned. \n",
      "[I 2024-05-10 02:04:40,185] Trial 117 pruned. \n",
      "[I 2024-05-10 02:04:45,945] Trial 118 finished with value: 0.9836502955536421 and parameters: {'learning_rate': 0.09989334258523509, 'depth': 11, 'num_leaves': 186, 'n_estimators': 508, 'min_data_in_leaf': 54, 'min_gain_to_split': 0.3671197257281448}. Best is trial 115 with value: 0.9893730569274914.\n",
      "[I 2024-05-10 02:04:55,151] Trial 119 finished with value: 0.9819058655310308 and parameters: {'learning_rate': 0.07044258827378269, 'depth': 11, 'num_leaves': 183, 'n_estimators': 470, 'min_data_in_leaf': 57, 'min_gain_to_split': 0.6117252227293442}. Best is trial 115 with value: 0.9893730569274914.\n",
      "[I 2024-05-10 02:04:59,936] Trial 120 pruned. \n",
      "[I 2024-05-10 02:05:10,512] Trial 121 finished with value: 0.9884075716053113 and parameters: {'learning_rate': 0.0915470663571541, 'depth': 12, 'num_leaves': 143, 'n_estimators': 535, 'min_data_in_leaf': 61, 'min_gain_to_split': 0.014127029015064643}. Best is trial 115 with value: 0.9893730569274914.\n",
      "[I 2024-05-10 02:05:19,944] Trial 122 finished with value: 0.9874473513859737 and parameters: {'learning_rate': 0.08934816571497185, 'depth': 12, 'num_leaves': 186, 'n_estimators': 494, 'min_data_in_leaf': 49, 'min_gain_to_split': 0.022176081510722246}. Best is trial 115 with value: 0.9893730569274914.\n",
      "[I 2024-05-10 02:05:31,060] Trial 123 finished with value: 0.9831134742956635 and parameters: {'learning_rate': 0.08296584789728752, 'depth': 13, 'num_leaves': 189, 'n_estimators': 445, 'min_data_in_leaf': 59, 'min_gain_to_split': 0.33275103949509677}. Best is trial 115 with value: 0.9893730569274914.\n",
      "[I 2024-05-10 02:05:36,799] Trial 124 pruned. \n",
      "[I 2024-05-10 02:05:42,925] Trial 125 finished with value: 0.9836038489935532 and parameters: {'learning_rate': 0.0918235733816337, 'depth': 12, 'num_leaves': 200, 'n_estimators': 667, 'min_data_in_leaf': 98, 'min_gain_to_split': 0.3616462987608091}. Best is trial 115 with value: 0.9893730569274914.\n",
      "[I 2024-05-10 02:05:45,650] Trial 126 pruned. \n",
      "[I 2024-05-10 02:05:50,699] Trial 127 pruned. \n",
      "[I 2024-05-10 02:05:59,361] Trial 128 finished with value: 0.9863573529199332 and parameters: {'learning_rate': 0.07106224417043455, 'depth': 5, 'num_leaves': 174, 'n_estimators': 587, 'min_data_in_leaf': 64, 'min_gain_to_split': 0.02386858167429622}. Best is trial 115 with value: 0.9893730569274914.\n",
      "[I 2024-05-10 02:06:02,251] Trial 129 pruned. \n",
      "[I 2024-05-10 02:06:05,342] Trial 130 pruned. \n",
      "[I 2024-05-10 02:06:12,223] Trial 131 finished with value: 0.9841459788816346 and parameters: {'learning_rate': 0.0910706277139009, 'depth': 12, 'num_leaves': 185, 'n_estimators': 499, 'min_data_in_leaf': 45, 'min_gain_to_split': 0.2807905350958691}. Best is trial 115 with value: 0.9893730569274914.\n",
      "[I 2024-05-10 02:06:18,363] Trial 132 finished with value: 0.9817261577430558 and parameters: {'learning_rate': 0.08988692798492398, 'depth': 12, 'num_leaves': 183, 'n_estimators': 489, 'min_data_in_leaf': 53, 'min_gain_to_split': 0.6187887256079281}. Best is trial 115 with value: 0.9893730569274914.\n",
      "[I 2024-05-10 02:06:44,170] Trial 133 pruned. \n",
      "[I 2024-05-10 02:06:49,550] Trial 134 finished with value: 0.9818653343306138 and parameters: {'learning_rate': 0.07934957819392924, 'depth': 12, 'num_leaves': 191, 'n_estimators': 560, 'min_data_in_leaf': 51, 'min_gain_to_split': 0.5949224937819011}. Best is trial 115 with value: 0.9893730569274914.\n",
      "[I 2024-05-10 02:06:59,251] Trial 135 finished with value: 0.9842583191418619 and parameters: {'learning_rate': 0.09969803715743482, 'depth': 11, 'num_leaves': 151, 'n_estimators': 502, 'min_data_in_leaf': 60, 'min_gain_to_split': 0.29150860502320874}. Best is trial 115 with value: 0.9893730569274914.\n",
      "[I 2024-05-10 02:07:09,661] Trial 136 finished with value: 0.988706476002289 and parameters: {'learning_rate': 0.0719922781910861, 'depth': 12, 'num_leaves': 162, 'n_estimators': 421, 'min_data_in_leaf': 50, 'min_gain_to_split': 0.01807615592108492}. Best is trial 115 with value: 0.9893730569274914.\n",
      "[I 2024-05-10 02:07:16,844] Trial 137 pruned. \n",
      "[I 2024-05-10 02:07:20,628] Trial 138 finished with value: 0.9829421615944598 and parameters: {'learning_rate': 0.06629129632519223, 'depth': 13, 'num_leaves': 158, 'n_estimators': 388, 'min_data_in_leaf': 98, 'min_gain_to_split': 0.4630248239648448}. Best is trial 115 with value: 0.9893730569274914.\n",
      "[I 2024-05-10 02:07:32,402] Trial 139 finished with value: 0.9888358312632812 and parameters: {'learning_rate': 0.07179718870731021, 'depth': 11, 'num_leaves': 146, 'n_estimators': 429, 'min_data_in_leaf': 100, 'min_gain_to_split': 0.0034123468582325615}. Best is trial 115 with value: 0.9893730569274914.\n",
      "[I 2024-05-10 02:07:34,401] Trial 140 pruned. \n",
      "[I 2024-05-10 02:07:38,361] Trial 141 finished with value: 0.9840844963734986 and parameters: {'learning_rate': 0.07035440824468778, 'depth': 11, 'num_leaves': 148, 'n_estimators': 368, 'min_data_in_leaf': 97, 'min_gain_to_split': 0.30511532727323987}. Best is trial 115 with value: 0.9893730569274914.\n",
      "[I 2024-05-10 02:07:43,330] Trial 142 finished with value: 0.9874566995478812 and parameters: {'learning_rate': 0.08452725025809717, 'depth': 12, 'num_leaves': 146, 'n_estimators': 437, 'min_data_in_leaf': 92, 'min_gain_to_split': 0.05588005893001943}. Best is trial 115 with value: 0.9893730569274914.\n",
      "[I 2024-05-10 02:07:47,078] Trial 143 finished with value: 0.9811409242000524 and parameters: {'learning_rate': 0.08000315570013443, 'depth': 12, 'num_leaves': 155, 'n_estimators': 867, 'min_data_in_leaf': 92, 'min_gain_to_split': 0.5561615109947856}. Best is trial 115 with value: 0.9893730569274914.\n",
      "[I 2024-05-10 02:07:53,963] Trial 144 pruned. \n",
      "[I 2024-05-10 02:07:56,012] Trial 145 pruned. \n",
      "[I 2024-05-10 02:07:57,858] Trial 146 pruned. \n",
      "[I 2024-05-10 02:08:08,871] Trial 147 finished with value: 0.9896756912195459 and parameters: {'learning_rate': 0.07297865990872122, 'depth': 13, 'num_leaves': 145, 'n_estimators': 430, 'min_data_in_leaf': 99, 'min_gain_to_split': 0.0007283619776541836}. Best is trial 147 with value: 0.9896756912195459.\n",
      "[I 2024-05-10 02:08:13,607] Trial 148 finished with value: 0.983315271953914 and parameters: {'learning_rate': 0.04877495356026658, 'depth': 14, 'num_leaves': 150, 'n_estimators': 348, 'min_data_in_leaf': 100, 'min_gain_to_split': 0.35518791883848216}. Best is trial 147 with value: 0.9896756912195459.\n",
      "[I 2024-05-10 02:08:18,079] Trial 149 pruned. \n",
      "[I 2024-05-10 02:08:21,697] Trial 150 finished with value: 0.9822715923631022 and parameters: {'learning_rate': 0.07313438875384805, 'depth': 15, 'num_leaves': 162, 'n_estimators': 420, 'min_data_in_leaf': 55, 'min_gain_to_split': 0.5659135996382906}. Best is trial 147 with value: 0.9896756912195459.\n",
      "[I 2024-05-10 02:08:25,261] Trial 151 finished with value: 0.9846328806135028 and parameters: {'learning_rate': 0.0837289701986045, 'depth': 13, 'num_leaves': 131, 'n_estimators': 430, 'min_data_in_leaf': 96, 'min_gain_to_split': 0.29217989216213447}. Best is trial 147 with value: 0.9896756912195459.\n",
      "[I 2024-05-10 02:08:29,936] Trial 152 finished with value: 0.9853518081482691 and parameters: {'learning_rate': 0.09321728882757964, 'depth': 12, 'num_leaves': 146, 'n_estimators': 517, 'min_data_in_leaf': 92, 'min_gain_to_split': 0.2237838803294968}. Best is trial 147 with value: 0.9896756912195459.\n",
      "[I 2024-05-10 02:08:35,597] Trial 153 finished with value: 0.9876299294616395 and parameters: {'learning_rate': 0.07722868715378953, 'depth': 12, 'num_leaves': 143, 'n_estimators': 380, 'min_data_in_leaf': 98, 'min_gain_to_split': 0.04250058490155194}. Best is trial 147 with value: 0.9896756912195459.\n",
      "[I 2024-05-10 02:08:43,537] Trial 154 finished with value: 0.9887709602352419 and parameters: {'learning_rate': 0.0762923544406853, 'depth': 13, 'num_leaves': 142, 'n_estimators': 390, 'min_data_in_leaf': 99, 'min_gain_to_split': 0.00795377972442881}. Best is trial 147 with value: 0.9896756912195459.\n",
      "[I 2024-05-10 02:08:44,425] Trial 155 pruned. \n",
      "[I 2024-05-10 02:08:47,173] Trial 156 finished with value: 0.9817428182230937 and parameters: {'learning_rate': 0.09928580438475132, 'depth': 13, 'num_leaves': 135, 'n_estimators': 363, 'min_data_in_leaf': 96, 'min_gain_to_split': 0.5696504450025146}. Best is trial 147 with value: 0.9896756912195459.\n",
      "[I 2024-05-10 02:08:49,125] Trial 157 pruned. \n",
      "[I 2024-05-10 02:08:52,383] Trial 158 finished with value: 0.9802877633101288 and parameters: {'learning_rate': 0.07396593838981377, 'depth': 13, 'num_leaves': 143, 'n_estimators': 311, 'min_data_in_leaf': 98, 'min_gain_to_split': 0.7219996826353138}. Best is trial 147 with value: 0.9896756912195459.\n",
      "[I 2024-05-10 02:08:56,258] Trial 159 finished with value: 0.98276331936702 and parameters: {'learning_rate': 0.0670092022077136, 'depth': 12, 'num_leaves': 125, 'n_estimators': 410, 'min_data_in_leaf': 95, 'min_gain_to_split': 0.4361924620894011}. Best is trial 147 with value: 0.9896756912195459.\n",
      "[I 2024-05-10 02:09:01,432] Trial 160 pruned. \n",
      "[I 2024-05-10 02:09:08,623] Trial 161 finished with value: 0.9871480059465962 and parameters: {'learning_rate': 0.07600113582549317, 'depth': 11, 'num_leaves': 196, 'n_estimators': 389, 'min_data_in_leaf': 97, 'min_gain_to_split': 0.05429453506649472}. Best is trial 147 with value: 0.9896756912195459.\n",
      "[I 2024-05-10 02:09:13,815] Trial 162 finished with value: 0.9869128703823884 and parameters: {'learning_rate': 0.0854828270599574, 'depth': 10, 'num_leaves': 138, 'n_estimators': 414, 'min_data_in_leaf': 99, 'min_gain_to_split': 0.04064979013588238}. Best is trial 147 with value: 0.9896756912195459.\n",
      "[I 2024-05-10 02:09:17,244] Trial 163 finished with value: 0.9823331868500327 and parameters: {'learning_rate': 0.07132109454459244, 'depth': 12, 'num_leaves': 154, 'n_estimators': 450, 'min_data_in_leaf': 98, 'min_gain_to_split': 0.5140372329850901}. Best is trial 147 with value: 0.9896756912195459.\n",
      "[I 2024-05-10 02:09:25,812] Trial 164 finished with value: 0.9884747153499032 and parameters: {'learning_rate': 0.0641654266430022, 'depth': 13, 'num_leaves': 180, 'n_estimators': 361, 'min_data_in_leaf': 100, 'min_gain_to_split': 0.009587449276252758}. Best is trial 147 with value: 0.9896756912195459.\n",
      "[I 2024-05-10 02:09:27,661] Trial 165 pruned. \n",
      "[I 2024-05-10 02:09:30,991] Trial 166 finished with value: 0.9840797383691632 and parameters: {'learning_rate': 0.09254832160331787, 'depth': 13, 'num_leaves': 149, 'n_estimators': 378, 'min_data_in_leaf': 58, 'min_gain_to_split': 0.3421629762754435}. Best is trial 147 with value: 0.9896756912195459.\n",
      "[I 2024-05-10 02:09:32,757] Trial 167 pruned. \n",
      "[I 2024-05-10 02:09:41,081] Trial 168 finished with value: 0.9875150514581955 and parameters: {'learning_rate': 0.05255287376462116, 'depth': 13, 'num_leaves': 175, 'n_estimators': 369, 'min_data_in_leaf': 96, 'min_gain_to_split': 0.03699878622347211}. Best is trial 147 with value: 0.9896756912195459.\n",
      "[I 2024-05-10 02:09:42,085] Trial 169 pruned. \n",
      "[I 2024-05-10 02:09:45,602] Trial 170 finished with value: 0.9828051709422739 and parameters: {'learning_rate': 0.09999127072491498, 'depth': 12, 'num_leaves': 142, 'n_estimators': 286, 'min_data_in_leaf': 61, 'min_gain_to_split': 0.45554456747245553}. Best is trial 147 with value: 0.9896756912195459.\n",
      "[I 2024-05-10 02:09:53,853] Trial 171 finished with value: 0.9878171927523614 and parameters: {'learning_rate': 0.05424262415724692, 'depth': 13, 'num_leaves': 173, 'n_estimators': 375, 'min_data_in_leaf': 96, 'min_gain_to_split': 0.023631330931026026}. Best is trial 147 with value: 0.9896756912195459.\n",
      "[I 2024-05-10 02:09:58,624] Trial 172 finished with value: 0.9837833323442181 and parameters: {'learning_rate': 0.05607531001931992, 'depth': 13, 'num_leaves': 181, 'n_estimators': 412, 'min_data_in_leaf': 100, 'min_gain_to_split': 0.30824688596028155}. Best is trial 147 with value: 0.9896756912195459.\n",
      "[I 2024-05-10 02:10:08,022] Trial 173 finished with value: 0.9875724475713457 and parameters: {'learning_rate': 0.04439185231036474, 'depth': 13, 'num_leaves': 171, 'n_estimators': 332, 'min_data_in_leaf': 96, 'min_gain_to_split': 0.0005088841953234044}. Best is trial 147 with value: 0.9896756912195459.\n",
      "[I 2024-05-10 02:10:11,288] Trial 174 finished with value: 0.9839796822288319 and parameters: {'learning_rate': 0.08677742726925931, 'depth': 14, 'num_leaves': 160, 'n_estimators': 366, 'min_data_in_leaf': 94, 'min_gain_to_split': 0.32086581648517143}. Best is trial 147 with value: 0.9896756912195459.\n",
      "[I 2024-05-10 02:10:13,991] Trial 175 finished with value: 0.9802366064575276 and parameters: {'learning_rate': 0.07980635809924268, 'depth': 12, 'num_leaves': 178, 'n_estimators': 314, 'min_data_in_leaf': 98, 'min_gain_to_split': 0.7092649504753621}. Best is trial 147 with value: 0.9896756912195459.\n",
      "[I 2024-05-10 02:10:15,622] Trial 176 pruned. \n",
      "[I 2024-05-10 02:10:19,737] Trial 177 pruned. \n",
      "[I 2024-05-10 02:10:26,532] Trial 178 pruned. \n",
      "[I 2024-05-10 02:10:30,132] Trial 179 finished with value: 0.9827041776945507 and parameters: {'learning_rate': 0.07569826197149755, 'depth': 13, 'num_leaves': 183, 'n_estimators': 439, 'min_data_in_leaf': 39, 'min_gain_to_split': 0.5182759385334064}. Best is trial 147 with value: 0.9896756912195459.\n",
      "[I 2024-05-10 02:10:33,869] Trial 180 finished with value: 0.9839530405562071 and parameters: {'learning_rate': 0.09086056025647596, 'depth': 12, 'num_leaves': 129, 'n_estimators': 529, 'min_data_in_leaf': 43, 'min_gain_to_split': 0.28515273891165926}. Best is trial 147 with value: 0.9896756912195459.\n",
      "[I 2024-05-10 02:10:44,018] Trial 181 finished with value: 0.9876895146450491 and parameters: {'learning_rate': 0.049518075477521614, 'depth': 13, 'num_leaves': 172, 'n_estimators': 333, 'min_data_in_leaf': 96, 'min_gain_to_split': 0.00044655262800065995}. Best is trial 147 with value: 0.9896756912195459.\n",
      "[I 2024-05-10 02:10:53,584] Trial 182 finished with value: 0.9879324831384986 and parameters: {'learning_rate': 0.054378995947286825, 'depth': 13, 'num_leaves': 170, 'n_estimators': 351, 'min_data_in_leaf': 100, 'min_gain_to_split': 0.0049327233300869265}. Best is trial 147 with value: 0.9896756912195459.\n",
      "[I 2024-05-10 02:10:57,574] Trial 183 finished with value: 0.981918654983971 and parameters: {'learning_rate': 0.04902589558530145, 'depth': 14, 'num_leaves': 168, 'n_estimators': 342, 'min_data_in_leaf': 100, 'min_gain_to_split': 0.678582803464033}. Best is trial 147 with value: 0.9896756912195459.\n",
      "[I 2024-05-10 02:11:02,625] Trial 184 finished with value: 0.9840953898681697 and parameters: {'learning_rate': 0.051574867428535585, 'depth': 13, 'num_leaves': 172, 'n_estimators': 312, 'min_data_in_leaf': 94, 'min_gain_to_split': 0.2972293699330005}. Best is trial 147 with value: 0.9896756912195459.\n",
      "[I 2024-05-10 02:11:08,403] Trial 185 finished with value: 0.983968167722176 and parameters: {'learning_rate': 0.04035770576574838, 'depth': 13, 'num_leaves': 176, 'n_estimators': 267, 'min_data_in_leaf': 96, 'min_gain_to_split': 0.3560319487905554}. Best is trial 147 with value: 0.9896756912195459.\n",
      "[I 2024-05-10 02:11:18,889] Trial 186 finished with value: 0.9881725879536672 and parameters: {'learning_rate': 0.0455162470017717, 'depth': 13, 'num_leaves': 161, 'n_estimators': 357, 'min_data_in_leaf': 98, 'min_gain_to_split': 0.006437989000868867}. Best is trial 147 with value: 0.9896756912195459.\n",
      "[I 2024-05-10 02:11:22,348] Trial 187 finished with value: 0.9803552322355802 and parameters: {'learning_rate': 0.056891449584901964, 'depth': 13, 'num_leaves': 163, 'n_estimators': 357, 'min_data_in_leaf': 98, 'min_gain_to_split': 0.8685487582190353}. Best is trial 147 with value: 0.9896756912195459.\n",
      "[I 2024-05-10 02:11:27,231] Trial 188 finished with value: 0.9818577785272152 and parameters: {'learning_rate': 0.044453415759690994, 'depth': 14, 'num_leaves': 180, 'n_estimators': 323, 'min_data_in_leaf': 100, 'min_gain_to_split': 0.558397697002378}. Best is trial 147 with value: 0.9896756912195459.\n",
      "[I 2024-05-10 02:11:32,656] Trial 189 finished with value: 0.9839129610338148 and parameters: {'learning_rate': 0.047447899895675126, 'depth': 13, 'num_leaves': 185, 'n_estimators': 298, 'min_data_in_leaf': 95, 'min_gain_to_split': 0.2885637614483624}. Best is trial 147 with value: 0.9896756912195459.\n",
      "[I 2024-05-10 02:11:42,913] Trial 190 finished with value: 0.9878130157207192 and parameters: {'learning_rate': 0.053095572924607336, 'depth': 13, 'num_leaves': 170, 'n_estimators': 344, 'min_data_in_leaf': 98, 'min_gain_to_split': 0.011744979617583612}. Best is trial 147 with value: 0.9896756912195459.\n",
      "[I 2024-05-10 02:11:48,755] Trial 191 finished with value: 0.9841421558613757 and parameters: {'learning_rate': 0.05255052684874406, 'depth': 13, 'num_leaves': 165, 'n_estimators': 344, 'min_data_in_leaf': 98, 'min_gain_to_split': 0.2954575959703091}. Best is trial 147 with value: 0.9896756912195459.\n",
      "[I 2024-05-10 02:11:58,973] Trial 192 finished with value: 0.9868626114969083 and parameters: {'learning_rate': 0.041783778921027706, 'depth': 13, 'num_leaves': 170, 'n_estimators': 365, 'min_data_in_leaf': 96, 'min_gain_to_split': 0.01692966285819053}. Best is trial 147 with value: 0.9896756912195459.\n",
      "[I 2024-05-10 02:12:08,240] Trial 193 finished with value: 0.9880540404037136 and parameters: {'learning_rate': 0.06007053920259991, 'depth': 14, 'num_leaves': 175, 'n_estimators': 327, 'min_data_in_leaf': 100, 'min_gain_to_split': 0.00794709323265024}. Best is trial 147 with value: 0.9896756912195459.\n",
      "[I 2024-05-10 02:12:10,429] Trial 194 pruned. \n",
      "[I 2024-05-10 02:12:15,129] Trial 195 finished with value: 0.9832511035302159 and parameters: {'learning_rate': 0.058030426218460635, 'depth': 15, 'num_leaves': 109, 'n_estimators': 390, 'min_data_in_leaf': 98, 'min_gain_to_split': 0.33974741900216066}. Best is trial 147 with value: 0.9896756912195459.\n",
      "[I 2024-05-10 02:12:17,018] Trial 196 pruned. \n",
      "[I 2024-05-10 02:12:24,377] Trial 197 finished with value: 0.9836093285613539 and parameters: {'learning_rate': 0.05434101785092873, 'depth': 14, 'num_leaves': 198, 'n_estimators': 402, 'min_data_in_leaf': 49, 'min_gain_to_split': 0.2870353432945106}. Best is trial 147 with value: 0.9896756912195459.\n",
      "[I 2024-05-10 02:12:36,710] Trial 198 finished with value: 0.9888979011600867 and parameters: {'learning_rate': 0.060197658242822395, 'depth': 13, 'num_leaves': 183, 'n_estimators': 321, 'min_data_in_leaf': 63, 'min_gain_to_split': 0.00874157466148593}. Best is trial 147 with value: 0.9896756912195459.\n",
      "[I 2024-05-10 02:12:40,731] Trial 199 finished with value: 0.9825924064582839 and parameters: {'learning_rate': 0.06033148126404297, 'depth': 13, 'num_leaves': 182, 'n_estimators': 316, 'min_data_in_leaf': 59, 'min_gain_to_split': 0.5191865308825251}. Best is trial 147 with value: 0.9896756912195459.\n",
      "[I 2024-05-10 02:12:49,063] Trial 200 finished with value: 0.9881740517866268 and parameters: {'learning_rate': 0.06860981985806687, 'depth': 14, 'num_leaves': 186, 'n_estimators': 274, 'min_data_in_leaf': 64, 'min_gain_to_split': 0.012548362074128482}. Best is trial 147 with value: 0.9896756912195459.\n",
      "[I 2024-05-10 02:12:53,855] Trial 201 finished with value: 0.9841480546662756 and parameters: {'learning_rate': 0.06764267976152102, 'depth': 14, 'num_leaves': 188, 'n_estimators': 266, 'min_data_in_leaf': 63, 'min_gain_to_split': 0.3003027646140408}. Best is trial 147 with value: 0.9896756912195459.\n",
      "[I 2024-05-10 02:13:00,213] Trial 202 finished with value: 0.9846843793430018 and parameters: {'learning_rate': 0.05707515804924747, 'depth': 15, 'num_leaves': 194, 'n_estimators': 243, 'min_data_in_leaf': 65, 'min_gain_to_split': 0.2626500639574299}. Best is trial 147 with value: 0.9896756912195459.\n",
      "[I 2024-05-10 02:13:10,725] Trial 203 finished with value: 0.9881695015660634 and parameters: {'learning_rate': 0.0641559695823671, 'depth': 14, 'num_leaves': 186, 'n_estimators': 289, 'min_data_in_leaf': 56, 'min_gain_to_split': 0.006133904296793896}. Best is trial 147 with value: 0.9896756912195459.\n",
      "[I 2024-05-10 02:13:11,933] Trial 204 pruned. \n",
      "[I 2024-05-10 02:13:23,403] Trial 205 finished with value: 0.9893704113208559 and parameters: {'learning_rate': 0.062295659785528736, 'depth': 14, 'num_leaves': 179, 'n_estimators': 284, 'min_data_in_leaf': 54, 'min_gain_to_split': 0.0020250652970361946}. Best is trial 147 with value: 0.9896756912195459.\n",
      "[I 2024-05-10 02:13:25,614] Trial 206 pruned. \n",
      "[I 2024-05-10 02:13:35,462] Trial 207 finished with value: 0.988897206178325 and parameters: {'learning_rate': 0.07052381940635415, 'depth': 14, 'num_leaves': 187, 'n_estimators': 239, 'min_data_in_leaf': 55, 'min_gain_to_split': 0.0017110564936241822}. Best is trial 147 with value: 0.9896756912195459.\n",
      "[I 2024-05-10 02:13:36,150] Trial 208 pruned. \n",
      "[I 2024-05-10 02:13:41,108] Trial 209 finished with value: 0.9824632356764396 and parameters: {'learning_rate': 0.07281057796753862, 'depth': 14, 'num_leaves': 189, 'n_estimators': 223, 'min_data_in_leaf': 55, 'min_gain_to_split': 0.5290254387357165}. Best is trial 147 with value: 0.9896756912195459.\n",
      "[I 2024-05-10 02:13:42,956] Trial 210 pruned. \n",
      "[I 2024-05-10 02:13:53,363] Trial 211 finished with value: 0.9882998413056301 and parameters: {'learning_rate': 0.059676466515560384, 'depth': 14, 'num_leaves': 178, 'n_estimators': 257, 'min_data_in_leaf': 58, 'min_gain_to_split': 0.006161987470868281}. Best is trial 147 with value: 0.9896756912195459.\n",
      "[I 2024-05-10 02:13:57,725] Trial 212 finished with value: 0.9839037120253726 and parameters: {'learning_rate': 0.08370620406619665, 'depth': 14, 'num_leaves': 185, 'n_estimators': 252, 'min_data_in_leaf': 57, 'min_gain_to_split': 0.2840695627958869}. Best is trial 147 with value: 0.9896756912195459.\n",
      "[I 2024-05-10 02:14:06,287] Trial 213 finished with value: 0.9883583458406757 and parameters: {'learning_rate': 0.061968766266043245, 'depth': 14, 'num_leaves': 177, 'n_estimators': 254, 'min_data_in_leaf': 62, 'min_gain_to_split': 0.014461468981689585}. Best is trial 147 with value: 0.9896756912195459.\n",
      "[I 2024-05-10 02:14:17,062] Trial 214 finished with value: 0.9888961001698993 and parameters: {'learning_rate': 0.06807598424556827, 'depth': 14, 'num_leaves': 179, 'n_estimators': 275, 'min_data_in_leaf': 59, 'min_gain_to_split': 0.001998061483711013}. Best is trial 147 with value: 0.9896756912195459.\n",
      "[I 2024-05-10 02:14:20,582] Trial 215 finished with value: 0.9831804830896204 and parameters: {'learning_rate': 0.07589955853948244, 'depth': 14, 'num_leaves': 179, 'n_estimators': 237, 'min_data_in_leaf': 62, 'min_gain_to_split': 0.33123909184933586}. Best is trial 147 with value: 0.9896756912195459.\n",
      "[I 2024-05-10 02:14:24,023] Trial 216 pruned. \n",
      "[I 2024-05-10 02:14:31,937] Trial 217 finished with value: 0.988655963236288 and parameters: {'learning_rate': 0.0817508474756777, 'depth': 14, 'num_leaves': 183, 'n_estimators': 255, 'min_data_in_leaf': 63, 'min_gain_to_split': 0.0076203505617013145}. Best is trial 147 with value: 0.9896756912195459.\n",
      "[I 2024-05-10 02:14:33,526] Trial 218 pruned. \n",
      "[I 2024-05-10 02:14:37,042] Trial 219 finished with value: 0.9846213916213532 and parameters: {'learning_rate': 0.08930953796550568, 'depth': 14, 'num_leaves': 184, 'n_estimators': 267, 'min_data_in_leaf': 68, 'min_gain_to_split': 0.25593270120817957}. Best is trial 147 with value: 0.9896756912195459.\n",
      "[I 2024-05-10 02:14:47,063] Trial 220 finished with value: 0.9884755380982171 and parameters: {'learning_rate': 0.07875262776031947, 'depth': 15, 'num_leaves': 195, 'n_estimators': 240, 'min_data_in_leaf': 59, 'min_gain_to_split': 0.005193779181967437}. Best is trial 147 with value: 0.9896756912195459.\n",
      "[I 2024-05-10 02:14:50,748] Trial 221 finished with value: 0.9840912072098579 and parameters: {'learning_rate': 0.07762123421741406, 'depth': 15, 'num_leaves': 195, 'n_estimators': 234, 'min_data_in_leaf': 58, 'min_gain_to_split': 0.30327138666821946}. Best is trial 147 with value: 0.9896756912195459.\n",
      "[I 2024-05-10 02:14:57,203] Trial 222 finished with value: 0.9883579245384204 and parameters: {'learning_rate': 0.09298684348871153, 'depth': 15, 'num_leaves': 191, 'n_estimators': 273, 'min_data_in_leaf': 56, 'min_gain_to_split': 0.014587823268140877}. Best is trial 147 with value: 0.9896756912195459.\n",
      "[I 2024-05-10 02:15:00,234] Trial 223 pruned. \n",
      "[I 2024-05-10 02:15:04,650] Trial 224 finished with value: 0.9845052805689505 and parameters: {'learning_rate': 0.07259819693162657, 'depth': 15, 'num_leaves': 199, 'n_estimators': 249, 'min_data_in_leaf': 53, 'min_gain_to_split': 0.2330477458649322}. Best is trial 147 with value: 0.9896756912195459.\n",
      "[I 2024-05-10 02:15:11,738] Trial 225 finished with value: 0.9878697751389419 and parameters: {'learning_rate': 0.077453292077764, 'depth': 15, 'num_leaves': 191, 'n_estimators': 288, 'min_data_in_leaf': 56, 'min_gain_to_split': 0.016247812408170893}. Best is trial 147 with value: 0.9896756912195459.\n",
      "[I 2024-05-10 02:15:13,291] Trial 226 pruned. \n",
      "[I 2024-05-10 02:15:19,889] Trial 227 finished with value: 0.9882943860186104 and parameters: {'learning_rate': 0.0836288490150939, 'depth': 15, 'num_leaves': 195, 'n_estimators': 272, 'min_data_in_leaf': 61, 'min_gain_to_split': 0.015192565326454537}. Best is trial 147 with value: 0.9896756912195459.\n",
      "[I 2024-05-10 02:15:29,093] Trial 228 finished with value: 0.9891377242759256 and parameters: {'learning_rate': 0.06775678896994727, 'depth': 15, 'num_leaves': 196, 'n_estimators': 221, 'min_data_in_leaf': 61, 'min_gain_to_split': 0.0034671697112613822}. Best is trial 147 with value: 0.9896756912195459.\n",
      "[I 2024-05-10 02:15:32,642] Trial 229 finished with value: 0.9836764270513966 and parameters: {'learning_rate': 0.0804066453959685, 'depth': 15, 'num_leaves': 196, 'n_estimators': 241, 'min_data_in_leaf': 66, 'min_gain_to_split': 0.31397712670468025}. Best is trial 147 with value: 0.9896756912195459.\n",
      "[I 2024-05-10 02:15:34,442] Trial 230 pruned. \n",
      "[I 2024-05-10 02:15:38,904] Trial 231 finished with value: 0.9842718130529299 and parameters: {'learning_rate': 0.06512252946111942, 'depth': 15, 'num_leaves': 191, 'n_estimators': 188, 'min_data_in_leaf': 61, 'min_gain_to_split': 0.2691249529236035}. Best is trial 147 with value: 0.9896756912195459.\n",
      "[I 2024-05-10 02:15:48,148] Trial 232 finished with value: 0.9888421468000935 and parameters: {'learning_rate': 0.06775990669026974, 'depth': 15, 'num_leaves': 188, 'n_estimators': 262, 'min_data_in_leaf': 59, 'min_gain_to_split': 0.008081323282995122}. Best is trial 147 with value: 0.9896756912195459.\n",
      "[I 2024-05-10 02:15:53,670] Trial 233 finished with value: 0.9881122641177926 and parameters: {'learning_rate': 0.09953936358343786, 'depth': 15, 'num_leaves': 199, 'n_estimators': 223, 'min_data_in_leaf': 60, 'min_gain_to_split': 0.017524876508844038}. Best is trial 147 with value: 0.9896756912195459.\n",
      "[I 2024-05-10 02:15:57,082] Trial 234 pruned. \n",
      "[I 2024-05-10 02:16:00,553] Trial 235 finished with value: 0.9845129948536593 and parameters: {'learning_rate': 0.08325455140049928, 'depth': 15, 'num_leaves': 189, 'n_estimators': 258, 'min_data_in_leaf': 62, 'min_gain_to_split': 0.2809059275134228}. Best is trial 147 with value: 0.9896756912195459.\n",
      "[I 2024-05-10 02:16:04,620] Trial 236 finished with value: 0.9844467281896503 and parameters: {'learning_rate': 0.06874940653268762, 'depth': 15, 'num_leaves': 200, 'n_estimators': 232, 'min_data_in_leaf': 64, 'min_gain_to_split': 0.2828966031736393}. Best is trial 147 with value: 0.9896756912195459.\n",
      "[I 2024-05-10 02:16:16,274] Trial 237 finished with value: 0.9896783881078157 and parameters: {'learning_rate': 0.0817469806334254, 'depth': 15, 'num_leaves': 193, 'n_estimators': 258, 'min_data_in_leaf': 58, 'min_gain_to_split': 0.0011133455141070156}. Best is trial 237 with value: 0.9896783881078157.\n",
      "[I 2024-05-10 02:16:19,337] Trial 238 finished with value: 0.9824075696326908 and parameters: {'learning_rate': 0.08202029418195525, 'depth': 15, 'num_leaves': 194, 'n_estimators': 259, 'min_data_in_leaf': 58, 'min_gain_to_split': 0.587249498883597}. Best is trial 237 with value: 0.9896783881078157.\n",
      "[I 2024-05-10 02:16:20,146] Trial 239 pruned. \n",
      "[I 2024-05-10 02:16:24,351] Trial 240 finished with value: 0.9831266195434175 and parameters: {'learning_rate': 0.0744475056436472, 'depth': 15, 'num_leaves': 193, 'n_estimators': 302, 'min_data_in_leaf': 54, 'min_gain_to_split': 0.27603507111222575}. Best is trial 237 with value: 0.9896783881078157.\n",
      "[I 2024-05-10 02:16:29,695] Trial 241 finished with value: 0.9861263366354519 and parameters: {'learning_rate': 0.07919358709293585, 'depth': 15, 'num_leaves': 186, 'n_estimators': 277, 'min_data_in_leaf': 59, 'min_gain_to_split': 0.07293579299358921}. Best is trial 237 with value: 0.9896783881078157.\n",
      "[I 2024-05-10 02:16:37,144] Trial 242 finished with value: 0.9881765602791936 and parameters: {'learning_rate': 0.06790969077078782, 'depth': 15, 'num_leaves': 181, 'n_estimators': 249, 'min_data_in_leaf': 62, 'min_gain_to_split': 0.025353794692803227}. Best is trial 237 with value: 0.9896783881078157.\n",
      "[I 2024-05-10 02:16:38,078] Trial 243 pruned. \n",
      "[I 2024-05-10 02:16:47,545] Trial 244 finished with value: 0.9877532078657026 and parameters: {'learning_rate': 0.09235747853226481, 'depth': 15, 'num_leaves': 183, 'n_estimators': 226, 'min_data_in_leaf': 62, 'min_gain_to_split': 0.01698186251300611}. Best is trial 237 with value: 0.9896783881078157.\n",
      "[I 2024-05-10 02:16:57,809] Trial 245 finished with value: 0.9882910239580683 and parameters: {'learning_rate': 0.06488537750389202, 'depth': 15, 'num_leaves': 178, 'n_estimators': 260, 'min_data_in_leaf': 60, 'min_gain_to_split': 0.009425837873355717}. Best is trial 237 with value: 0.9896783881078157.\n",
      "[I 2024-05-10 02:17:00,337] Trial 246 pruned. \n",
      "[I 2024-05-10 02:17:05,185] Trial 247 finished with value: 0.9842603015961823 and parameters: {'learning_rate': 0.07607693388070665, 'depth': 15, 'num_leaves': 182, 'n_estimators': 240, 'min_data_in_leaf': 57, 'min_gain_to_split': 0.3117440440079739}. Best is trial 237 with value: 0.9896783881078157.\n",
      "[I 2024-05-10 02:17:11,090] Trial 248 pruned. \n",
      "[I 2024-05-10 02:17:12,848] Trial 249 pruned. \n",
      "[I 2024-05-10 02:17:24,532] Trial 250 finished with value: 0.9886574263369221 and parameters: {'learning_rate': 0.06003606442908328, 'depth': 15, 'num_leaves': 189, 'n_estimators': 298, 'min_data_in_leaf': 54, 'min_gain_to_split': 0.003989364044443356}. Best is trial 237 with value: 0.9896783881078157.\n",
      "[I 2024-05-10 02:17:30,387] Trial 251 finished with value: 0.9842092943445545 and parameters: {'learning_rate': 0.05975699563428146, 'depth': 15, 'num_leaves': 191, 'n_estimators': 299, 'min_data_in_leaf': 51, 'min_gain_to_split': 0.3119003078804453}. Best is trial 237 with value: 0.9896783881078157.\n",
      "[I 2024-05-10 02:17:32,037] Trial 252 pruned. \n",
      "[I 2024-05-10 02:17:34,469] Trial 253 pruned. \n",
      "[I 2024-05-10 02:17:37,818] Trial 254 finished with value: 0.9841547174731554 and parameters: {'learning_rate': 0.09981527316379107, 'depth': 15, 'num_leaves': 186, 'n_estimators': 282, 'min_data_in_leaf': 57, 'min_gain_to_split': 0.2839663224737998}. Best is trial 237 with value: 0.9896783881078157.\n",
      "[I 2024-05-10 02:17:42,976] Trial 255 finished with value: 0.9828139867891004 and parameters: {'learning_rate': 0.0763423520128155, 'depth': 14, 'num_leaves': 200, 'n_estimators': 173, 'min_data_in_leaf': 54, 'min_gain_to_split': 0.2872383777008547}. Best is trial 237 with value: 0.9896783881078157.\n",
      "[I 2024-05-10 02:17:44,605] Trial 256 pruned. \n",
      "[I 2024-05-10 02:17:47,324] Trial 257 pruned. \n",
      "[I 2024-05-10 02:17:52,141] Trial 258 finished with value: 0.9837949001163693 and parameters: {'learning_rate': 0.07277274757568343, 'depth': 15, 'num_leaves': 186, 'n_estimators': 306, 'min_data_in_leaf': 56, 'min_gain_to_split': 0.24709903881521553}. Best is trial 237 with value: 0.9896783881078157.\n",
      "[I 2024-05-10 02:18:03,406] Trial 259 finished with value: 0.9891399351138641 and parameters: {'learning_rate': 0.08170352668913314, 'depth': 14, 'num_leaves': 189, 'n_estimators': 219, 'min_data_in_leaf': 59, 'min_gain_to_split': 0.0007822325909794987}. Best is trial 237 with value: 0.9896783881078157.\n",
      "[I 2024-05-10 02:18:12,784] Trial 260 finished with value: 0.9885911695953432 and parameters: {'learning_rate': 0.0661002188088623, 'depth': 14, 'num_leaves': 196, 'n_estimators': 227, 'min_data_in_leaf': 59, 'min_gain_to_split': 0.005167444765143715}. Best is trial 237 with value: 0.9896783881078157.\n",
      "[I 2024-05-10 02:18:21,935] Trial 261 finished with value: 0.9888405813880585 and parameters: {'learning_rate': 0.08123541601725714, 'depth': 14, 'num_leaves': 197, 'n_estimators': 224, 'min_data_in_leaf': 58, 'min_gain_to_split': 0.0015363449913325805}. Best is trial 237 with value: 0.9896783881078157.\n",
      "[I 2024-05-10 02:18:25,187] Trial 262 pruned. \n",
      "[I 2024-05-10 02:18:26,746] Trial 263 pruned. \n",
      "[I 2024-05-10 02:18:31,651] Trial 264 finished with value: 0.9838960907330604 and parameters: {'learning_rate': 0.06833863968415657, 'depth': 14, 'num_leaves': 200, 'n_estimators': 141, 'min_data_in_leaf': 54, 'min_gain_to_split': 0.32207055934704903}. Best is trial 237 with value: 0.9896783881078157.\n",
      "[I 2024-05-10 02:18:41,750] Trial 265 finished with value: 0.9887109342683562 and parameters: {'learning_rate': 0.06005889599291403, 'depth': 14, 'num_leaves': 196, 'n_estimators': 247, 'min_data_in_leaf': 59, 'min_gain_to_split': 0.020012694843651764}. Best is trial 237 with value: 0.9896783881078157.\n",
      "[I 2024-05-10 02:18:43,889] Trial 266 pruned. \n",
      "[I 2024-05-10 02:18:52,840] Trial 267 finished with value: 0.9886596126104298 and parameters: {'learning_rate': 0.07790656505128757, 'depth': 14, 'num_leaves': 190, 'n_estimators': 201, 'min_data_in_leaf': 49, 'min_gain_to_split': 0.005189771882192616}. Best is trial 237 with value: 0.9896783881078157.\n",
      "[I 2024-05-10 02:18:56,624] Trial 268 pruned. \n",
      "[I 2024-05-10 02:19:05,337] Trial 269 finished with value: 0.9892544479164425 and parameters: {'learning_rate': 0.07916240755780904, 'depth': 14, 'num_leaves': 188, 'n_estimators': 197, 'min_data_in_leaf': 51, 'min_gain_to_split': 0.0021790198897837405}. Best is trial 237 with value: 0.9896783881078157.\n",
      "[I 2024-05-10 02:19:07,035] Trial 270 pruned. \n",
      "[I 2024-05-10 02:19:10,581] Trial 271 finished with value: 0.9840277356892763 and parameters: {'learning_rate': 0.081253008297594, 'depth': 14, 'num_leaves': 192, 'n_estimators': 152, 'min_data_in_leaf': 49, 'min_gain_to_split': 0.33956447330048845}. Best is trial 237 with value: 0.9896783881078157.\n",
      "[I 2024-05-10 02:19:15,487] Trial 272 pruned. \n",
      "[I 2024-05-10 02:19:17,526] Trial 273 pruned. \n",
      "[I 2024-05-10 02:19:19,381] Trial 274 pruned. \n",
      "[I 2024-05-10 02:19:21,449] Trial 275 pruned. \n",
      "[I 2024-05-10 02:19:22,948] Trial 276 pruned. \n",
      "[I 2024-05-10 02:19:26,936] Trial 277 finished with value: 0.9836101943379669 and parameters: {'learning_rate': 0.06739887989811552, 'depth': 14, 'num_leaves': 197, 'n_estimators': 227, 'min_data_in_leaf': 70, 'min_gain_to_split': 0.3201300895934141}. Best is trial 237 with value: 0.9896783881078157.\n",
      "[I 2024-05-10 02:19:30,838] Trial 278 finished with value: 0.9840325490185384 and parameters: {'learning_rate': 0.07829668352763113, 'depth': 14, 'num_leaves': 185, 'n_estimators': 226, 'min_data_in_leaf': 48, 'min_gain_to_split': 0.29166551751880637}. Best is trial 237 with value: 0.9896783881078157.\n",
      "[I 2024-05-10 02:19:33,002] Trial 279 pruned. \n",
      "[I 2024-05-10 02:19:34,421] Trial 280 pruned. \n",
      "[I 2024-05-10 02:19:35,202] Trial 281 pruned. \n",
      "[I 2024-05-10 02:19:41,714] Trial 282 finished with value: 0.9873304207715948 and parameters: {'learning_rate': 0.05771130013907193, 'depth': 14, 'num_leaves': 63, 'n_estimators': 240, 'min_data_in_leaf': 59, 'min_gain_to_split': 0.003070052090423315}. Best is trial 237 with value: 0.9896783881078157.\n",
      "[I 2024-05-10 02:19:47,209] Trial 283 finished with value: 0.9879353190036765 and parameters: {'learning_rate': 0.08293213406980965, 'depth': 14, 'num_leaves': 79, 'n_estimators': 167, 'min_data_in_leaf': 55, 'min_gain_to_split': 0.006656019349505863}. Best is trial 237 with value: 0.9896783881078157.\n",
      "[I 2024-05-10 02:19:52,077] Trial 284 pruned. \n",
      "[I 2024-05-10 02:19:53,589] Trial 285 pruned. \n",
      "[I 2024-05-10 02:20:02,345] Trial 286 finished with value: 0.9884155035351461 and parameters: {'learning_rate': 0.07785373940887592, 'depth': 14, 'num_leaves': 183, 'n_estimators': 215, 'min_data_in_leaf': 53, 'min_gain_to_split': 0.005527961643882039}. Best is trial 237 with value: 0.9896783881078157.\n",
      "[I 2024-05-10 02:20:03,882] Trial 287 pruned. \n",
      "[I 2024-05-10 02:20:12,602] Trial 288 finished with value: 0.9870322189957704 and parameters: {'learning_rate': 0.06613792023130015, 'depth': 14, 'num_leaves': 183, 'n_estimators': 187, 'min_data_in_leaf': 53, 'min_gain_to_split': 0.00047333834368421413}. Best is trial 237 with value: 0.9896783881078157.\n",
      "[I 2024-05-10 02:20:15,554] Trial 289 finished with value: 0.9825372699600166 and parameters: {'learning_rate': 0.07830238662397411, 'depth': 14, 'num_leaves': 189, 'n_estimators': 219, 'min_data_in_leaf': 78, 'min_gain_to_split': 0.5365943745399496}. Best is trial 237 with value: 0.9896783881078157.\n",
      "[I 2024-05-10 02:20:20,406] Trial 290 finished with value: 0.9845140896510444 and parameters: {'learning_rate': 0.05856903432666565, 'depth': 14, 'num_leaves': 194, 'n_estimators': 240, 'min_data_in_leaf': 49, 'min_gain_to_split': 0.3110098079393396}. Best is trial 237 with value: 0.9896783881078157.\n",
      "[I 2024-05-10 02:20:24,069] Trial 291 finished with value: 0.983301708909439 and parameters: {'learning_rate': 0.06853441784259787, 'depth': 14, 'num_leaves': 47, 'n_estimators': 215, 'min_data_in_leaf': 54, 'min_gain_to_split': 0.2748459488869507}. Best is trial 237 with value: 0.9896783881078157.\n",
      "[I 2024-05-10 02:20:25,865] Trial 292 pruned. \n",
      "[I 2024-05-10 02:20:27,449] Trial 293 pruned. \n",
      "[I 2024-05-10 02:20:29,429] Trial 294 pruned. \n",
      "[I 2024-05-10 02:20:33,318] Trial 295 finished with value: 0.9843764670990739 and parameters: {'learning_rate': 0.07429343594140896, 'depth': 14, 'num_leaves': 196, 'n_estimators': 217, 'min_data_in_leaf': 57, 'min_gain_to_split': 0.2986188446211861}. Best is trial 237 with value: 0.9896783881078157.\n",
      "[I 2024-05-10 02:20:36,968] Trial 296 finished with value: 0.9845067026498681 and parameters: {'learning_rate': 0.08488700813990059, 'depth': 14, 'num_leaves': 188, 'n_estimators': 232, 'min_data_in_leaf': 53, 'min_gain_to_split': 0.2396190824901317}. Best is trial 237 with value: 0.9896783881078157.\n",
      "[I 2024-05-10 02:20:47,264] Trial 297 finished with value: 0.9893150426687545 and parameters: {'learning_rate': 0.06568349121880655, 'depth': 13, 'num_leaves': 181, 'n_estimators': 288, 'min_data_in_leaf': 55, 'min_gain_to_split': 0.002450979597604315}. Best is trial 237 with value: 0.9896783881078157.\n",
      "[I 2024-05-10 02:20:49,644] Trial 298 pruned. \n",
      "[I 2024-05-10 02:20:59,538] Trial 299 finished with value: 0.9892510523673386 and parameters: {'learning_rate': 0.06749168944841916, 'depth': 13, 'num_leaves': 200, 'n_estimators': 314, 'min_data_in_leaf': 55, 'min_gain_to_split': 0.0032798925329602414}. Best is trial 237 with value: 0.9896783881078157.\n",
      "[I 2024-05-10 02:21:01,754] Trial 300 pruned. \n",
      "[I 2024-05-10 02:21:07,968] Trial 301 pruned. \n",
      "[I 2024-05-10 02:21:18,169] Trial 302 finished with value: 0.9890137872707638 and parameters: {'learning_rate': 0.07008063080965327, 'depth': 13, 'num_leaves': 196, 'n_estimators': 304, 'min_data_in_leaf': 58, 'min_gain_to_split': 0.0026733500466282617}. Best is trial 237 with value: 0.9896783881078157.\n",
      "[I 2024-05-10 02:21:21,093] Trial 303 pruned. \n",
      "[I 2024-05-10 02:21:23,394] Trial 304 pruned. \n",
      "[I 2024-05-10 02:21:34,240] Trial 305 finished with value: 0.9879971683202233 and parameters: {'learning_rate': 0.05642868101007709, 'depth': 13, 'num_leaves': 192, 'n_estimators': 295, 'min_data_in_leaf': 51, 'min_gain_to_split': 0.008661574723600353}. Best is trial 237 with value: 0.9896783881078157.\n",
      "[I 2024-05-10 02:21:36,804] Trial 306 pruned. \n",
      "[I 2024-05-10 02:21:38,770] Trial 307 pruned. \n",
      "[I 2024-05-10 02:21:40,244] Trial 308 pruned. \n",
      "[I 2024-05-10 02:21:50,906] Trial 309 finished with value: 0.987628144799982 and parameters: {'learning_rate': 0.05195647449117411, 'depth': 13, 'num_leaves': 186, 'n_estimators': 260, 'min_data_in_leaf': 55, 'min_gain_to_split': 0.005189860512358593}. Best is trial 237 with value: 0.9896783881078157.\n",
      "[I 2024-05-10 02:21:57,936] Trial 310 pruned. \n",
      "[I 2024-05-10 02:22:00,349] Trial 311 pruned. \n",
      "[I 2024-05-10 02:22:03,649] Trial 312 pruned. \n",
      "[I 2024-05-10 02:22:07,150] Trial 313 finished with value: 0.98347844864549 and parameters: {'learning_rate': 0.08464340933114446, 'depth': 14, 'num_leaves': 184, 'n_estimators': 261, 'min_data_in_leaf': 57, 'min_gain_to_split': 0.3048636663638382}. Best is trial 237 with value: 0.9896783881078157.\n",
      "[I 2024-05-10 02:22:10,748] Trial 314 finished with value: 0.9840701426095713 and parameters: {'learning_rate': 0.06976071683589669, 'depth': 13, 'num_leaves': 191, 'n_estimators': 113, 'min_data_in_leaf': 60, 'min_gain_to_split': 0.2685642584999518}. Best is trial 237 with value: 0.9896783881078157.\n",
      "[I 2024-05-10 02:22:21,305] Trial 315 finished with value: 0.9886544464054114 and parameters: {'learning_rate': 0.07649129739886293, 'depth': 14, 'num_leaves': 195, 'n_estimators': 315, 'min_data_in_leaf': 63, 'min_gain_to_split': 0.005338201467614145}. Best is trial 237 with value: 0.9896783881078157.\n",
      "[I 2024-05-10 02:22:22,216] Trial 316 pruned. \n",
      "[I 2024-05-10 02:22:24,143] Trial 317 pruned. \n",
      "[I 2024-05-10 02:22:27,529] Trial 318 finished with value: 0.9836014461151056 and parameters: {'learning_rate': 0.0824860573389036, 'depth': 14, 'num_leaves': 194, 'n_estimators': 303, 'min_data_in_leaf': 67, 'min_gain_to_split': 0.2944579976836203}. Best is trial 237 with value: 0.9896783881078157.\n",
      "[I 2024-05-10 02:22:38,038] Trial 319 finished with value: 0.9889558507213454 and parameters: {'learning_rate': 0.07311160652488562, 'depth': 14, 'num_leaves': 185, 'n_estimators': 327, 'min_data_in_leaf': 54, 'min_gain_to_split': 0.0014053216986458037}. Best is trial 237 with value: 0.9896783881078157.\n",
      "[I 2024-05-10 02:22:38,926] Trial 320 pruned. \n",
      "[I 2024-05-10 02:22:40,978] Trial 321 pruned. \n",
      "[I 2024-05-10 02:22:43,333] Trial 322 pruned. \n",
      "[I 2024-05-10 02:22:47,963] Trial 323 finished with value: 0.984444880229827 and parameters: {'learning_rate': 0.06446484857042616, 'depth': 14, 'num_leaves': 176, 'n_estimators': 269, 'min_data_in_leaf': 49, 'min_gain_to_split': 0.28116641615875404}. Best is trial 237 with value: 0.9896783881078157.\n",
      "[I 2024-05-10 02:22:54,875] Trial 324 pruned. \n",
      "[I 2024-05-10 02:22:56,943] Trial 325 pruned. \n",
      "[I 2024-05-10 02:23:04,683] Trial 326 finished with value: 0.9896196780151263 and parameters: {'learning_rate': 0.09361167160072423, 'depth': 15, 'num_leaves': 190, 'n_estimators': 246, 'min_data_in_leaf': 51, 'min_gain_to_split': 0.0026915287724247356}. Best is trial 237 with value: 0.9896783881078157.\n",
      "[I 2024-05-10 02:23:08,002] Trial 327 finished with value: 0.9842114590451672 and parameters: {'learning_rate': 0.08838604704161392, 'depth': 15, 'num_leaves': 190, 'n_estimators': 187, 'min_data_in_leaf': 50, 'min_gain_to_split': 0.3066042549297321}. Best is trial 237 with value: 0.9896783881078157.\n",
      "[I 2024-05-10 02:23:09,709] Trial 328 pruned. \n",
      "[I 2024-05-10 02:23:12,969] Trial 329 finished with value: 0.9840836212251336 and parameters: {'learning_rate': 0.09397386289260014, 'depth': 15, 'num_leaves': 187, 'n_estimators': 268, 'min_data_in_leaf': 52, 'min_gain_to_split': 0.31273714540559183}. Best is trial 237 with value: 0.9896783881078157.\n",
      "[I 2024-05-10 02:23:25,217] Trial 330 finished with value: 0.9900925743237394 and parameters: {'learning_rate': 0.0699463429232261, 'depth': 15, 'num_leaves': 190, 'n_estimators': 514, 'min_data_in_leaf': 54, 'min_gain_to_split': 0.0009305355534203407}. Best is trial 330 with value: 0.9900925743237394.\n",
      "[I 2024-05-10 02:23:27,955] Trial 331 pruned. \n",
      "[I 2024-05-10 02:23:29,558] Trial 332 pruned. \n",
      "[I 2024-05-10 02:23:31,603] Trial 333 pruned. \n",
      "[I 2024-05-10 02:23:45,296] Trial 334 finished with value: 0.9894326103608048 and parameters: {'learning_rate': 0.06879044129017177, 'depth': 12, 'num_leaves': 190, 'n_estimators': 486, 'min_data_in_leaf': 56, 'min_gain_to_split': 0.002159237545155397}. Best is trial 330 with value: 0.9900925743237394.\n",
      "[I 2024-05-10 02:23:47,612] Trial 335 pruned. \n",
      "[I 2024-05-10 02:23:51,294] Trial 336 pruned. \n",
      "[I 2024-05-10 02:23:53,566] Trial 337 pruned. \n",
      "[I 2024-05-10 02:23:59,422] Trial 338 finished with value: 0.9846865982837671 and parameters: {'learning_rate': 0.09935288021200288, 'depth': 12, 'num_leaves': 197, 'n_estimators': 499, 'min_data_in_leaf': 56, 'min_gain_to_split': 0.26081702296071024}. Best is trial 330 with value: 0.9900925743237394.\n",
      "[I 2024-05-10 02:24:11,451] Trial 339 finished with value: 0.9843243571132698 and parameters: {'learning_rate': 0.07210701051702635, 'depth': 12, 'num_leaves': 192, 'n_estimators': 452, 'min_data_in_leaf': 58, 'min_gain_to_split': 0.27943549435758436}. Best is trial 330 with value: 0.9900925743237394.\n",
      "[I 2024-05-10 02:24:13,688] Trial 340 pruned. \n",
      "[I 2024-05-10 02:24:16,365] Trial 341 pruned. \n",
      "[I 2024-05-10 02:24:22,153] Trial 342 finished with value: 0.9844448828626741 and parameters: {'learning_rate': 0.05629211397352044, 'depth': 15, 'num_leaves': 134, 'n_estimators': 523, 'min_data_in_leaf': 60, 'min_gain_to_split': 0.2515843284479705}. Best is trial 330 with value: 0.9900925743237394.\n",
      "[I 2024-05-10 02:24:25,735] Trial 343 pruned. \n",
      "[I 2024-05-10 02:24:32,678] Trial 344 finished with value: 0.9883634469619981 and parameters: {'learning_rate': 0.09195552567927628, 'depth': 13, 'num_leaves': 196, 'n_estimators': 461, 'min_data_in_leaf': 53, 'min_gain_to_split': 0.011553635565841804}. Best is trial 330 with value: 0.9900925743237394.\n",
      "[I 2024-05-10 02:24:33,742] Trial 345 pruned. \n",
      "[I 2024-05-10 02:24:36,522] Trial 346 pruned. \n",
      "[I 2024-05-10 02:24:46,021] Trial 347 pruned. \n",
      "[I 2024-05-10 02:24:53,261] Trial 348 pruned. \n",
      "[I 2024-05-10 02:25:00,062] Trial 349 finished with value: 0.9877563758648531 and parameters: {'learning_rate': 0.07651183854816937, 'depth': 13, 'num_leaves': 200, 'n_estimators': 244, 'min_data_in_leaf': 58, 'min_gain_to_split': 0.020457365761067742}. Best is trial 330 with value: 0.9900925743237394.\n",
      "[I 2024-05-10 02:25:03,898] Trial 350 finished with value: 0.9845097505257401 and parameters: {'learning_rate': 0.0860687945303031, 'depth': 15, 'num_leaves': 189, 'n_estimators': 416, 'min_data_in_leaf': 53, 'min_gain_to_split': 0.2877832127939863}. Best is trial 330 with value: 0.9900925743237394.\n",
      "[I 2024-05-10 02:25:07,764] Trial 351 finished with value: 0.9844740366124288 and parameters: {'learning_rate': 0.06833676667381199, 'depth': 7, 'num_leaves': 174, 'n_estimators': 244, 'min_data_in_leaf': 61, 'min_gain_to_split': 0.0036871967560829196}. Best is trial 330 with value: 0.9900925743237394.\n",
      "[I 2024-05-10 02:25:10,301] Trial 352 pruned. \n",
      "[I 2024-05-10 02:25:22,368] Trial 353 pruned. \n",
      "[I 2024-05-10 02:25:28,873] Trial 354 pruned. \n",
      "[I 2024-05-10 02:25:31,020] Trial 355 pruned. \n",
      "[I 2024-05-10 02:25:33,528] Trial 356 pruned. \n",
      "[I 2024-05-10 02:25:38,047] Trial 357 pruned. \n",
      "[I 2024-05-10 02:25:42,150] Trial 358 pruned. \n",
      "[I 2024-05-10 02:25:50,338] Trial 359 finished with value: 0.9884800615348543 and parameters: {'learning_rate': 0.06846088256573525, 'depth': 15, 'num_leaves': 184, 'n_estimators': 477, 'min_data_in_leaf': 55, 'min_gain_to_split': 0.020785067470290464}. Best is trial 330 with value: 0.9900925743237394.\n",
      "[I 2024-05-10 02:25:59,726] Trial 360 finished with value: 0.9882305271397771 and parameters: {'learning_rate': 0.08426718996599483, 'depth': 13, 'num_leaves': 192, 'n_estimators': 518, 'min_data_in_leaf': 61, 'min_gain_to_split': 0.008272980918924379}. Best is trial 330 with value: 0.9900925743237394.\n",
      "[I 2024-05-10 02:26:01,908] Trial 361 pruned. \n",
      "[I 2024-05-10 02:26:04,021] Trial 362 pruned. \n",
      "[I 2024-05-10 02:26:07,256] Trial 363 finished with value: 0.9845148734149618 and parameters: {'learning_rate': 0.0997740723485381, 'depth': 14, 'num_leaves': 176, 'n_estimators': 281, 'min_data_in_leaf': 57, 'min_gain_to_split': 0.2936804018763445}. Best is trial 330 with value: 0.9900925743237394.\n",
      "[I 2024-05-10 02:26:15,798] Trial 364 finished with value: 0.9880493582729034 and parameters: {'learning_rate': 0.06360894112898244, 'depth': 12, 'num_leaves': 200, 'n_estimators': 230, 'min_data_in_leaf': 51, 'min_gain_to_split': 0.007058284495085277}. Best is trial 330 with value: 0.9900925743237394.\n",
      "[I 2024-05-10 02:26:17,904] Trial 365 pruned. \n",
      "[I 2024-05-10 02:26:18,689] Trial 366 pruned. \n",
      "[I 2024-05-10 02:26:23,006] Trial 367 finished with value: 0.9840816163548883 and parameters: {'learning_rate': 0.07908302213147424, 'depth': 14, 'num_leaves': 145, 'n_estimators': 539, 'min_data_in_leaf': 53, 'min_gain_to_split': 0.3007690484682714}. Best is trial 330 with value: 0.9900925743237394.\n",
      "[I 2024-05-10 02:26:24,156] Trial 368 pruned. \n",
      "[I 2024-05-10 02:26:25,437] Trial 369 pruned. \n",
      "[I 2024-05-10 02:26:28,089] Trial 370 pruned. \n",
      "[I 2024-05-10 02:26:33,453] Trial 371 finished with value: 0.9843124969105009 and parameters: {'learning_rate': 0.07223503958512174, 'depth': 14, 'num_leaves': 183, 'n_estimators': 998, 'min_data_in_leaf': 50, 'min_gain_to_split': 0.25469838225746166}. Best is trial 330 with value: 0.9900925743237394.\n",
      "[I 2024-05-10 02:26:36,699] Trial 372 finished with value: 0.9826328626597176 and parameters: {'learning_rate': 0.08425701565731113, 'depth': 15, 'num_leaves': 186, 'n_estimators': 316, 'min_data_in_leaf': 52, 'min_gain_to_split': 0.49952241441183776}. Best is trial 330 with value: 0.9900925743237394.\n",
      "[I 2024-05-10 02:26:38,693] Trial 373 pruned. \n",
      "[I 2024-05-10 02:26:41,972] Trial 374 finished with value: 0.9841970951812151 and parameters: {'learning_rate': 0.09111029187696466, 'depth': 12, 'num_leaves': 189, 'n_estimators': 226, 'min_data_in_leaf': 59, 'min_gain_to_split': 0.2733784973517385}. Best is trial 330 with value: 0.9900925743237394.\n",
      "[I 2024-05-10 02:26:43,808] Trial 375 pruned. \n",
      "[I 2024-05-10 02:26:51,843] Trial 376 finished with value: 0.9885342667286634 and parameters: {'learning_rate': 0.07034235701038774, 'depth': 13, 'num_leaves': 181, 'n_estimators': 289, 'min_data_in_leaf': 54, 'min_gain_to_split': 0.015655581445212993}. Best is trial 330 with value: 0.9900925743237394.\n",
      "[I 2024-05-10 02:26:56,278] Trial 377 finished with value: 0.9845095854451953 and parameters: {'learning_rate': 0.06097365405114735, 'depth': 14, 'num_leaves': 151, 'n_estimators': 249, 'min_data_in_leaf': 61, 'min_gain_to_split': 0.30892223258079327}. Best is trial 330 with value: 0.9900925743237394.\n",
      "[I 2024-05-10 02:27:07,215] Trial 378 pruned. \n",
      "[I 2024-05-10 02:27:09,337] Trial 379 pruned. \n",
      "[I 2024-05-10 02:27:16,578] Trial 380 finished with value: 0.9884045499420075 and parameters: {'learning_rate': 0.07471499914361085, 'depth': 12, 'num_leaves': 193, 'n_estimators': 314, 'min_data_in_leaf': 59, 'min_gain_to_split': 0.016614773699615688}. Best is trial 330 with value: 0.9900925743237394.\n",
      "[I 2024-05-10 02:27:18,174] Trial 381 pruned. \n",
      "[I 2024-05-10 02:27:20,863] Trial 382 pruned. \n",
      "[I 2024-05-10 02:27:25,830] Trial 383 finished with value: 0.9843198369396644 and parameters: {'learning_rate': 0.056487345920886715, 'depth': 15, 'num_leaves': 141, 'n_estimators': 228, 'min_data_in_leaf': 49, 'min_gain_to_split': 0.3023255853326333}. Best is trial 330 with value: 0.9900925743237394.\n",
      "[I 2024-05-10 02:27:27,991] Trial 384 pruned. \n",
      "[I 2024-05-10 02:27:28,918] Trial 385 pruned. \n",
      "[I 2024-05-10 02:27:35,005] Trial 386 finished with value: 0.9876942089729468 and parameters: {'learning_rate': 0.09960708767234486, 'depth': 14, 'num_leaves': 179, 'n_estimators': 302, 'min_data_in_leaf': 56, 'min_gain_to_split': 0.016499124262106084}. Best is trial 330 with value: 0.9900925743237394.\n",
      "[I 2024-05-10 02:27:39,789] Trial 387 finished with value: 0.9841378701819856 and parameters: {'learning_rate': 0.06092702923127409, 'depth': 15, 'num_leaves': 183, 'n_estimators': 240, 'min_data_in_leaf': 61, 'min_gain_to_split': 0.2825163185455939}. Best is trial 330 with value: 0.9900925743237394.\n",
      "[I 2024-05-10 02:27:42,412] Trial 388 pruned. \n",
      "[I 2024-05-10 02:27:44,792] Trial 389 pruned. \n",
      "[I 2024-05-10 02:27:46,394] Trial 390 pruned. \n",
      "[I 2024-05-10 02:27:54,614] Trial 391 finished with value: 0.9884130958702009 and parameters: {'learning_rate': 0.06623663782117983, 'depth': 13, 'num_leaves': 195, 'n_estimators': 274, 'min_data_in_leaf': 59, 'min_gain_to_split': 0.01619298062259112}. Best is trial 330 with value: 0.9900925743237394.\n",
      "[I 2024-05-10 02:27:57,863] Trial 392 pruned. \n",
      "[I 2024-05-10 02:28:01,465] Trial 393 finished with value: 0.9835975912114396 and parameters: {'learning_rate': 0.07496428741295698, 'depth': 11, 'num_leaves': 167, 'n_estimators': 216, 'min_data_in_leaf': 64, 'min_gain_to_split': 0.29106623065944187}. Best is trial 330 with value: 0.9900925743237394.\n",
      "[I 2024-05-10 02:28:10,557] Trial 394 finished with value: 0.9889579293750927 and parameters: {'learning_rate': 0.08978561385261787, 'depth': 14, 'num_leaves': 185, 'n_estimators': 467, 'min_data_in_leaf': 45, 'min_gain_to_split': 0.0028448388928430106}. Best is trial 330 with value: 0.9900925743237394.\n",
      "[I 2024-05-10 02:28:12,844] Trial 395 pruned. \n",
      "[I 2024-05-10 02:28:14,866] Trial 396 pruned. \n",
      "[I 2024-05-10 02:28:19,180] Trial 397 finished with value: 0.9868469009550628 and parameters: {'learning_rate': 0.08530170891614422, 'depth': 5, 'num_leaves': 190, 'n_estimators': 487, 'min_data_in_leaf': 57, 'min_gain_to_split': 0.011331935417709764}. Best is trial 330 with value: 0.9900925743237394.\n",
      "[I 2024-05-10 02:28:21,279] Trial 398 pruned. \n",
      "[I 2024-05-10 02:28:23,007] Trial 399 pruned. \n",
      "[I 2024-05-10 02:28:25,423] Trial 400 pruned. \n",
      "[I 2024-05-10 02:28:32,058] Trial 401 finished with value: 0.9873296964628008 and parameters: {'learning_rate': 0.09040280542086249, 'depth': 10, 'num_leaves': 191, 'n_estimators': 511, 'min_data_in_leaf': 38, 'min_gain_to_split': 0.017015368626419843}. Best is trial 330 with value: 0.9900925743237394.\n",
      "[I 2024-05-10 02:28:44,296] Trial 402 finished with value: 0.988536201506428 and parameters: {'learning_rate': 0.06116056700118474, 'depth': 14, 'num_leaves': 183, 'n_estimators': 289, 'min_data_in_leaf': 56, 'min_gain_to_split': 0.007339075611952112}. Best is trial 330 with value: 0.9900925743237394.\n",
      "[I 2024-05-10 02:28:45,151] Trial 403 pruned. \n",
      "[I 2024-05-10 02:28:47,384] Trial 404 pruned. \n",
      "[I 2024-05-10 02:28:49,081] Trial 405 pruned. \n",
      "[I 2024-05-10 02:28:56,618] Trial 406 finished with value: 0.9884093632025868 and parameters: {'learning_rate': 0.08741304464411581, 'depth': 14, 'num_leaves': 185, 'n_estimators': 217, 'min_data_in_leaf': 60, 'min_gain_to_split': 0.007882475171199992}. Best is trial 330 with value: 0.9900925743237394.\n",
      "[I 2024-05-10 02:29:06,117] Trial 407 finished with value: 0.9893136496738837 and parameters: {'learning_rate': 0.07521772956236743, 'depth': 13, 'num_leaves': 73, 'n_estimators': 304, 'min_data_in_leaf': 43, 'min_gain_to_split': 3.6563590534054364e-05}. Best is trial 330 with value: 0.9900925743237394.\n",
      "[I 2024-05-10 02:29:08,302] Trial 408 pruned. \n",
      "[I 2024-05-10 02:29:09,159] Trial 409 pruned. \n",
      "[I 2024-05-10 02:29:12,752] Trial 410 pruned. \n",
      "[I 2024-05-10 02:29:14,459] Trial 411 pruned. \n",
      "[I 2024-05-10 02:29:20,277] Trial 412 pruned. \n",
      "[I 2024-05-10 02:29:22,150] Trial 413 pruned. \n",
      "[I 2024-05-10 02:29:25,377] Trial 414 pruned. \n",
      "[I 2024-05-10 02:29:27,120] Trial 415 pruned. \n",
      "[I 2024-05-10 02:29:29,644] Trial 416 pruned. \n",
      "[I 2024-05-10 02:29:37,097] Trial 417 finished with value: 0.986852222107929 and parameters: {'learning_rate': 0.05896229118070676, 'depth': 15, 'num_leaves': 89, 'n_estimators': 199, 'min_data_in_leaf': 55, 'min_gain_to_split': 0.004001830305392854}. Best is trial 330 with value: 0.9900925743237394.\n",
      "[I 2024-05-10 02:29:46,771] Trial 418 finished with value: 0.9891334805138283 and parameters: {'learning_rate': 0.08018676894358522, 'depth': 14, 'num_leaves': 136, 'n_estimators': 274, 'min_data_in_leaf': 99, 'min_gain_to_split': 0.0010617843050282532}. Best is trial 330 with value: 0.9900925743237394.\n",
      "[I 2024-05-10 02:29:50,421] Trial 419 pruned. \n",
      "[I 2024-05-10 02:29:59,648] Trial 420 finished with value: 0.9894978189166934 and parameters: {'learning_rate': 0.078366006092225, 'depth': 14, 'num_leaves': 134, 'n_estimators': 311, 'min_data_in_leaf': 99, 'min_gain_to_split': 0.00040749566454830876}. Best is trial 330 with value: 0.9900925743237394.\n",
      "[I 2024-05-10 02:30:01,306] Trial 421 pruned. \n",
      "[I 2024-05-10 02:30:05,202] Trial 422 finished with value: 0.9838465385478388 and parameters: {'learning_rate': 0.07414169654988886, 'depth': 14, 'num_leaves': 130, 'n_estimators': 318, 'min_data_in_leaf': 99, 'min_gain_to_split': 0.28021428937968096}. Best is trial 330 with value: 0.9900925743237394.\n",
      "[I 2024-05-10 02:30:06,768] Trial 423 pruned. \n",
      "[I 2024-05-10 02:30:14,044] Trial 424 finished with value: 0.9879989094714805 and parameters: {'learning_rate': 0.07038663972180473, 'depth': 14, 'num_leaves': 62, 'n_estimators': 314, 'min_data_in_leaf': 97, 'min_gain_to_split': 0.009944236966077614}. Best is trial 330 with value: 0.9900925743237394.\n",
      "[I 2024-05-10 02:30:17,020] Trial 425 finished with value: 0.9836710392913843 and parameters: {'learning_rate': 0.087182998833227, 'depth': 14, 'num_leaves': 134, 'n_estimators': 272, 'min_data_in_leaf': 99, 'min_gain_to_split': 0.48836620001574277}. Best is trial 330 with value: 0.9900925743237394.\n",
      "[I 2024-05-10 02:30:20,829] Trial 426 finished with value: 0.9847028043628692 and parameters: {'learning_rate': 0.0756987818800164, 'depth': 14, 'num_leaves': 138, 'n_estimators': 295, 'min_data_in_leaf': 100, 'min_gain_to_split': 0.2603172512187427}. Best is trial 330 with value: 0.9900925743237394.\n",
      "[I 2024-05-10 02:30:22,748] Trial 427 pruned. \n",
      "[I 2024-05-10 02:30:25,508] Trial 428 pruned. \n",
      "[I 2024-05-10 02:30:32,000] Trial 429 pruned. \n",
      "[I 2024-05-10 02:30:38,862] Trial 430 finished with value: 0.9885340251395066 and parameters: {'learning_rate': 0.08032098392858672, 'depth': 14, 'num_leaves': 134, 'n_estimators': 316, 'min_data_in_leaf': 97, 'min_gain_to_split': 0.007884368658707777}. Best is trial 330 with value: 0.9900925743237394.\n",
      "[I 2024-05-10 02:30:49,292] Trial 431 finished with value: 0.9879944938210482 and parameters: {'learning_rate': 0.07107682275867012, 'depth': 15, 'num_leaves': 182, 'n_estimators': 663, 'min_data_in_leaf': 42, 'min_gain_to_split': 0.0066193524850045975}. Best is trial 330 with value: 0.9900925743237394.\n",
      "[I 2024-05-10 02:30:51,288] Trial 432 pruned. \n",
      "[I 2024-05-10 02:30:55,136] Trial 433 finished with value: 0.9845634237505495 and parameters: {'learning_rate': 0.06521664529358137, 'depth': 14, 'num_leaves': 50, 'n_estimators': 300, 'min_data_in_leaf': 57, 'min_gain_to_split': 0.23627432247394708}. Best is trial 330 with value: 0.9900925743237394.\n",
      "[I 2024-05-10 02:30:56,317] Trial 434 pruned. \n",
      "[I 2024-05-10 02:30:57,643] Trial 435 pruned. \n",
      "[I 2024-05-10 02:31:01,458] Trial 436 pruned. \n",
      "[I 2024-05-10 02:31:05,148] Trial 437 finished with value: 0.9839104175871377 and parameters: {'learning_rate': 0.07782949113578161, 'depth': 14, 'num_leaves': 150, 'n_estimators': 245, 'min_data_in_leaf': 100, 'min_gain_to_split': 0.3087477628145285}. Best is trial 330 with value: 0.9900925743237394.\n",
      "[I 2024-05-10 02:31:21,623] Trial 438 finished with value: 0.9888349762663895 and parameters: {'learning_rate': 0.03568497374108313, 'depth': 14, 'num_leaves': 105, 'n_estimators': 612, 'min_data_in_leaf': 45, 'min_gain_to_split': 0.00588234837409266}. Best is trial 330 with value: 0.9900925743237394.\n",
      "[I 2024-05-10 02:31:22,339] Trial 439 pruned. \n",
      "[I 2024-05-10 02:31:24,076] Trial 440 pruned. \n",
      "[I 2024-05-10 02:31:25,990] Trial 441 pruned. \n",
      "[I 2024-05-10 02:31:28,796] Trial 442 finished with value: 0.9833631798155785 and parameters: {'learning_rate': 0.09116039820798165, 'depth': 10, 'num_leaves': 190, 'n_estimators': 190, 'min_data_in_leaf': 83, 'min_gain_to_split': 0.2867499079696182}. Best is trial 330 with value: 0.9900925743237394.\n",
      "[I 2024-05-10 02:31:30,391] Trial 443 pruned. \n",
      "[I 2024-05-10 02:31:34,509] Trial 444 finished with value: 0.9845738260078983 and parameters: {'learning_rate': 0.07331797451436478, 'depth': 15, 'num_leaves': 186, 'n_estimators': 233, 'min_data_in_leaf': 55, 'min_gain_to_split': 0.27876167128104246}. Best is trial 330 with value: 0.9900925743237394.\n",
      "[I 2024-05-10 02:31:36,331] Trial 445 pruned. \n",
      "[I 2024-05-10 02:31:39,944] Trial 446 finished with value: 0.9846274624364026 and parameters: {'learning_rate': 0.08412725883379733, 'depth': 13, 'num_leaves': 142, 'n_estimators': 313, 'min_data_in_leaf': 57, 'min_gain_to_split': 0.2676426594965542}. Best is trial 330 with value: 0.9900925743237394.\n",
      "[I 2024-05-10 02:31:53,695] Trial 447 finished with value: 0.9880521631144553 and parameters: {'learning_rate': 0.06952831824513958, 'depth': 14, 'num_leaves': 190, 'n_estimators': 268, 'min_data_in_leaf': 53, 'min_gain_to_split': 0.009906244259253459}. Best is trial 330 with value: 0.9900925743237394.\n",
      "[I 2024-05-10 02:31:55,959] Trial 448 pruned. \n",
      "[I 2024-05-10 02:31:58,577] Trial 449 pruned. \n",
      "[I 2024-05-10 02:31:59,402] Trial 450 pruned. \n",
      "[I 2024-05-10 02:32:01,492] Trial 451 pruned. \n",
      "[I 2024-05-10 02:32:12,462] Trial 452 finished with value: 0.9886587152202526 and parameters: {'learning_rate': 0.06952211892812107, 'depth': 15, 'num_leaves': 194, 'n_estimators': 346, 'min_data_in_leaf': 55, 'min_gain_to_split': 0.00338234469371011}. Best is trial 330 with value: 0.9900925743237394.\n",
      "[I 2024-05-10 02:32:13,423] Trial 453 pruned. \n",
      "[I 2024-05-10 02:32:17,065] Trial 454 pruned. \n",
      "[I 2024-05-10 02:32:19,374] Trial 455 pruned. \n",
      "[I 2024-05-10 02:32:23,625] Trial 456 finished with value: 0.9833658804376787 and parameters: {'learning_rate': 0.08958510764065777, 'depth': 13, 'num_leaves': 196, 'n_estimators': 307, 'min_data_in_leaf': 62, 'min_gain_to_split': 0.3164010031858873}. Best is trial 330 with value: 0.9900925743237394.\n",
      "[I 2024-05-10 02:32:34,515] Trial 457 finished with value: 0.9888295361245181 and parameters: {'learning_rate': 0.07065028150232724, 'depth': 10, 'num_leaves': 171, 'n_estimators': 503, 'min_data_in_leaf': 54, 'min_gain_to_split': 0.0020313430863953988}. Best is trial 330 with value: 0.9900925743237394.\n",
      "[I 2024-05-10 02:32:37,156] Trial 458 pruned. \n",
      "[I 2024-05-10 02:32:39,140] Trial 459 pruned. \n",
      "[I 2024-05-10 02:32:43,516] Trial 460 finished with value: 0.9839081687874695 and parameters: {'learning_rate': 0.0766958813058563, 'depth': 15, 'num_leaves': 186, 'n_estimators': 258, 'min_data_in_leaf': 56, 'min_gain_to_split': 0.2930538976958352}. Best is trial 330 with value: 0.9900925743237394.\n",
      "[I 2024-05-10 02:32:54,584] Trial 461 finished with value: 0.9897348205891587 and parameters: {'learning_rate': 0.08674611400483458, 'depth': 13, 'num_leaves': 196, 'n_estimators': 229, 'min_data_in_leaf': 52, 'min_gain_to_split': 0.0024130879528444027}. Best is trial 330 with value: 0.9900925743237394.\n",
      "[I 2024-05-10 02:32:56,071] Trial 462 pruned. \n",
      "[I 2024-05-10 02:33:06,111] Trial 463 finished with value: 0.9896726225025742 and parameters: {'learning_rate': 0.08891997704321634, 'depth': 13, 'num_leaves': 193, 'n_estimators': 228, 'min_data_in_leaf': 49, 'min_gain_to_split': 0.0007198719208390226}. Best is trial 330 with value: 0.9900925743237394.\n",
      "[I 2024-05-10 02:33:10,648] Trial 464 pruned. \n",
      "[I 2024-05-10 02:33:12,671] Trial 465 pruned. \n",
      "[I 2024-05-10 02:33:14,373] Trial 466 pruned. \n",
      "[I 2024-05-10 02:33:22,604] Trial 467 finished with value: 0.9885979253180839 and parameters: {'learning_rate': 0.09385423749613261, 'depth': 13, 'num_leaves': 193, 'n_estimators': 188, 'min_data_in_leaf': 50, 'min_gain_to_split': 0.0015848817665073643}. Best is trial 330 with value: 0.9900925743237394.\n",
      "[I 2024-05-10 02:33:23,792] Trial 468 pruned. \n",
      "[I 2024-05-10 02:33:25,568] Trial 469 pruned. \n",
      "[I 2024-05-10 02:33:29,263] Trial 470 finished with value: 0.9846855315949707 and parameters: {'learning_rate': 0.08394920062480707, 'depth': 13, 'num_leaves': 181, 'n_estimators': 218, 'min_data_in_leaf': 52, 'min_gain_to_split': 0.27571295042065536}. Best is trial 330 with value: 0.9900925743237394.\n",
      "[I 2024-05-10 02:33:31,010] Trial 471 pruned. \n",
      "[I 2024-05-10 02:33:37,127] Trial 472 finished with value: 0.9879944695204989 and parameters: {'learning_rate': 0.07765110563753987, 'depth': 13, 'num_leaves': 77, 'n_estimators': 258, 'min_data_in_leaf': 48, 'min_gain_to_split': 0.015939071769584}. Best is trial 330 with value: 0.9900925743237394.\n",
      "[I 2024-05-10 02:33:38,867] Trial 473 pruned. \n",
      "[I 2024-05-10 02:33:42,808] Trial 474 pruned. \n",
      "[I 2024-05-10 02:33:44,556] Trial 475 pruned. \n",
      "[I 2024-05-10 02:33:54,170] Trial 476 finished with value: 0.9888888203335702 and parameters: {'learning_rate': 0.07243070639795747, 'depth': 13, 'num_leaves': 177, 'n_estimators': 311, 'min_data_in_leaf': 42, 'min_gain_to_split': 0.005698580037168163}. Best is trial 330 with value: 0.9900925743237394.\n",
      "[I 2024-05-10 02:34:05,680] Trial 477 finished with value: 0.9897325260330861 and parameters: {'learning_rate': 0.09993190563139615, 'depth': 13, 'num_leaves': 174, 'n_estimators': 342, 'min_data_in_leaf': 40, 'min_gain_to_split': 7.838397921324739e-05}. Best is trial 330 with value: 0.9900925743237394.\n",
      "[I 2024-05-10 02:34:07,546] Trial 478 pruned. \n",
      "[I 2024-05-10 02:34:11,037] Trial 479 pruned. \n",
      "[I 2024-05-10 02:34:12,724] Trial 480 pruned. \n",
      "[I 2024-05-10 02:34:19,951] Trial 481 finished with value: 0.9885321607448772 and parameters: {'learning_rate': 0.08737972484337117, 'depth': 13, 'num_leaves': 168, 'n_estimators': 304, 'min_data_in_leaf': 41, 'min_gain_to_split': 0.011082153859288325}. Best is trial 330 with value: 0.9900925743237394.\n",
      "[I 2024-05-10 02:34:21,574] Trial 482 pruned. \n",
      "[I 2024-05-10 02:34:23,810] Trial 483 pruned. \n",
      "[I 2024-05-10 02:34:25,040] Trial 484 pruned. \n",
      "[I 2024-05-10 02:34:27,732] Trial 485 pruned. \n",
      "[I 2024-05-10 02:34:35,328] Trial 486 finished with value: 0.9901521854186415 and parameters: {'learning_rate': 0.09991472256779813, 'depth': 14, 'num_leaves': 184, 'n_estimators': 308, 'min_data_in_leaf': 80, 'min_gain_to_split': 0.002058283006754594}. Best is trial 486 with value: 0.9901521854186415.\n",
      "[I 2024-05-10 02:34:36,917] Trial 487 pruned. \n",
      "[I 2024-05-10 02:34:39,810] Trial 488 pruned. \n",
      "[I 2024-05-10 02:34:43,243] Trial 489 finished with value: 0.9843787302802955 and parameters: {'learning_rate': 0.08982473972739982, 'depth': 13, 'num_leaves': 183, 'n_estimators': 309, 'min_data_in_leaf': 85, 'min_gain_to_split': 0.2539439678291517}. Best is trial 486 with value: 0.9901521854186415.\n",
      "[I 2024-05-10 02:34:44,719] Trial 490 pruned. \n",
      "[I 2024-05-10 02:34:46,918] Trial 491 pruned. \n",
      "[I 2024-05-10 02:34:54,059] Trial 492 pruned. \n",
      "[I 2024-05-10 02:34:55,449] Trial 493 pruned. \n",
      "[I 2024-05-10 02:34:57,807] Trial 494 pruned. \n",
      "[I 2024-05-10 02:35:04,810] Trial 495 finished with value: 0.9884110568180999 and parameters: {'learning_rate': 0.082007212507636, 'depth': 14, 'num_leaves': 200, 'n_estimators': 347, 'min_data_in_leaf': 52, 'min_gain_to_split': 0.017413445814890682}. Best is trial 486 with value: 0.9901521854186415.\n",
      "[I 2024-05-10 02:35:06,559] Trial 496 pruned. \n",
      "[I 2024-05-10 02:35:14,050] Trial 497 finished with value: 0.9882895956466429 and parameters: {'learning_rate': 0.07734700392092651, 'depth': 13, 'num_leaves': 186, 'n_estimators': 190, 'min_data_in_leaf': 41, 'min_gain_to_split': 0.006515169466635888}. Best is trial 486 with value: 0.9901521854186415.\n",
      "[I 2024-05-10 02:35:15,050] Trial 498 pruned. \n",
      "[I 2024-05-10 02:35:16,740] Trial 499 pruned. \n"
     ]
    }
   ],
   "source": [
    "study_no_feat_eng.optimize(\n",
    "    objective_no_feat_eng, \n",
    "    n_trials=NUM_TRIALS,\n",
    "    timeout = 10 * 60 * 60, # timeout after 10 hours\n",
    "    show_progress_bar=True\n",
    ")"
   ]
  },
  {
   "cell_type": "code",
   "execution_count": 9,
   "metadata": {},
   "outputs": [
    {
     "name": "stdout",
     "output_type": "stream",
     "text": [
      "{'learning_rate': 0.09991472256779813, 'depth': 14, 'num_leaves': 184, 'n_estimators': 308, 'min_data_in_leaf': 80, 'min_gain_to_split': 0.002058283006754594}\n"
     ]
    }
   ],
   "source": [
    "best_params = study_no_feat_eng.best_params\n",
    "    \n",
    "print(best_params)\n",
    "\n",
    "if \"catboost_no_feat_eng\" in config:\n",
    "    config[\"catboost_no_feat_eng\"].update(best_params)\n",
    "else:\n",
    "    config[\"catboost_no_feat_eng\"] = best_params\n",
    "\n",
    "# see: https://stackoverflow.com/questions/12470665/how-can-i-write-data-in-yaml-format-in-a-file\n",
    "with open(\"classical_ml_config.yaml\", \"w\") as file:\n",
    "    yaml.dump(config, file, default_flow_style=False)"
   ]
  },
  {
   "cell_type": "code",
   "execution_count": 10,
   "metadata": {},
   "outputs": [
    {
     "data": {
      "application/vnd.plotly.v1+json": {
       "config": {
        "plotlyServerURL": "https://plot.ly"
       },
       "data": [
        {
         "cliponaxis": false,
         "hovertemplate": [
          "num_leaves (IntDistribution): 0.006227652340868335<extra></extra>",
          "depth (IntDistribution): 0.014645226853210779<extra></extra>",
          "n_estimators (IntDistribution): 0.016931603166543983<extra></extra>",
          "min_data_in_leaf (IntDistribution): 0.019737568380506727<extra></extra>",
          "learning_rate (FloatDistribution): 0.12868614099040232<extra></extra>",
          "min_gain_to_split (FloatDistribution): 0.8137718082684677<extra></extra>"
         ],
         "name": "Objective Value",
         "orientation": "h",
         "text": [
          "<0.01",
          "0.01",
          "0.02",
          "0.02",
          "0.13",
          "0.81"
         ],
         "textposition": "outside",
         "type": "bar",
         "x": [
          0.006227652340868335,
          0.014645226853210779,
          0.016931603166543983,
          0.019737568380506727,
          0.12868614099040232,
          0.8137718082684677
         ],
         "y": [
          "num_leaves",
          "depth",
          "n_estimators",
          "min_data_in_leaf",
          "learning_rate",
          "min_gain_to_split"
         ]
        }
       ],
       "layout": {
        "template": {
         "data": {
          "bar": [
           {
            "error_x": {
             "color": "#2a3f5f"
            },
            "error_y": {
             "color": "#2a3f5f"
            },
            "marker": {
             "line": {
              "color": "#E5ECF6",
              "width": 0.5
             },
             "pattern": {
              "fillmode": "overlay",
              "size": 10,
              "solidity": 0.2
             }
            },
            "type": "bar"
           }
          ],
          "barpolar": [
           {
            "marker": {
             "line": {
              "color": "#E5ECF6",
              "width": 0.5
             },
             "pattern": {
              "fillmode": "overlay",
              "size": 10,
              "solidity": 0.2
             }
            },
            "type": "barpolar"
           }
          ],
          "carpet": [
           {
            "aaxis": {
             "endlinecolor": "#2a3f5f",
             "gridcolor": "white",
             "linecolor": "white",
             "minorgridcolor": "white",
             "startlinecolor": "#2a3f5f"
            },
            "baxis": {
             "endlinecolor": "#2a3f5f",
             "gridcolor": "white",
             "linecolor": "white",
             "minorgridcolor": "white",
             "startlinecolor": "#2a3f5f"
            },
            "type": "carpet"
           }
          ],
          "choropleth": [
           {
            "colorbar": {
             "outlinewidth": 0,
             "ticks": ""
            },
            "type": "choropleth"
           }
          ],
          "contour": [
           {
            "colorbar": {
             "outlinewidth": 0,
             "ticks": ""
            },
            "colorscale": [
             [
              0,
              "#0d0887"
             ],
             [
              0.1111111111111111,
              "#46039f"
             ],
             [
              0.2222222222222222,
              "#7201a8"
             ],
             [
              0.3333333333333333,
              "#9c179e"
             ],
             [
              0.4444444444444444,
              "#bd3786"
             ],
             [
              0.5555555555555556,
              "#d8576b"
             ],
             [
              0.6666666666666666,
              "#ed7953"
             ],
             [
              0.7777777777777778,
              "#fb9f3a"
             ],
             [
              0.8888888888888888,
              "#fdca26"
             ],
             [
              1,
              "#f0f921"
             ]
            ],
            "type": "contour"
           }
          ],
          "contourcarpet": [
           {
            "colorbar": {
             "outlinewidth": 0,
             "ticks": ""
            },
            "type": "contourcarpet"
           }
          ],
          "heatmap": [
           {
            "colorbar": {
             "outlinewidth": 0,
             "ticks": ""
            },
            "colorscale": [
             [
              0,
              "#0d0887"
             ],
             [
              0.1111111111111111,
              "#46039f"
             ],
             [
              0.2222222222222222,
              "#7201a8"
             ],
             [
              0.3333333333333333,
              "#9c179e"
             ],
             [
              0.4444444444444444,
              "#bd3786"
             ],
             [
              0.5555555555555556,
              "#d8576b"
             ],
             [
              0.6666666666666666,
              "#ed7953"
             ],
             [
              0.7777777777777778,
              "#fb9f3a"
             ],
             [
              0.8888888888888888,
              "#fdca26"
             ],
             [
              1,
              "#f0f921"
             ]
            ],
            "type": "heatmap"
           }
          ],
          "heatmapgl": [
           {
            "colorbar": {
             "outlinewidth": 0,
             "ticks": ""
            },
            "colorscale": [
             [
              0,
              "#0d0887"
             ],
             [
              0.1111111111111111,
              "#46039f"
             ],
             [
              0.2222222222222222,
              "#7201a8"
             ],
             [
              0.3333333333333333,
              "#9c179e"
             ],
             [
              0.4444444444444444,
              "#bd3786"
             ],
             [
              0.5555555555555556,
              "#d8576b"
             ],
             [
              0.6666666666666666,
              "#ed7953"
             ],
             [
              0.7777777777777778,
              "#fb9f3a"
             ],
             [
              0.8888888888888888,
              "#fdca26"
             ],
             [
              1,
              "#f0f921"
             ]
            ],
            "type": "heatmapgl"
           }
          ],
          "histogram": [
           {
            "marker": {
             "pattern": {
              "fillmode": "overlay",
              "size": 10,
              "solidity": 0.2
             }
            },
            "type": "histogram"
           }
          ],
          "histogram2d": [
           {
            "colorbar": {
             "outlinewidth": 0,
             "ticks": ""
            },
            "colorscale": [
             [
              0,
              "#0d0887"
             ],
             [
              0.1111111111111111,
              "#46039f"
             ],
             [
              0.2222222222222222,
              "#7201a8"
             ],
             [
              0.3333333333333333,
              "#9c179e"
             ],
             [
              0.4444444444444444,
              "#bd3786"
             ],
             [
              0.5555555555555556,
              "#d8576b"
             ],
             [
              0.6666666666666666,
              "#ed7953"
             ],
             [
              0.7777777777777778,
              "#fb9f3a"
             ],
             [
              0.8888888888888888,
              "#fdca26"
             ],
             [
              1,
              "#f0f921"
             ]
            ],
            "type": "histogram2d"
           }
          ],
          "histogram2dcontour": [
           {
            "colorbar": {
             "outlinewidth": 0,
             "ticks": ""
            },
            "colorscale": [
             [
              0,
              "#0d0887"
             ],
             [
              0.1111111111111111,
              "#46039f"
             ],
             [
              0.2222222222222222,
              "#7201a8"
             ],
             [
              0.3333333333333333,
              "#9c179e"
             ],
             [
              0.4444444444444444,
              "#bd3786"
             ],
             [
              0.5555555555555556,
              "#d8576b"
             ],
             [
              0.6666666666666666,
              "#ed7953"
             ],
             [
              0.7777777777777778,
              "#fb9f3a"
             ],
             [
              0.8888888888888888,
              "#fdca26"
             ],
             [
              1,
              "#f0f921"
             ]
            ],
            "type": "histogram2dcontour"
           }
          ],
          "mesh3d": [
           {
            "colorbar": {
             "outlinewidth": 0,
             "ticks": ""
            },
            "type": "mesh3d"
           }
          ],
          "parcoords": [
           {
            "line": {
             "colorbar": {
              "outlinewidth": 0,
              "ticks": ""
             }
            },
            "type": "parcoords"
           }
          ],
          "pie": [
           {
            "automargin": true,
            "type": "pie"
           }
          ],
          "scatter": [
           {
            "fillpattern": {
             "fillmode": "overlay",
             "size": 10,
             "solidity": 0.2
            },
            "type": "scatter"
           }
          ],
          "scatter3d": [
           {
            "line": {
             "colorbar": {
              "outlinewidth": 0,
              "ticks": ""
             }
            },
            "marker": {
             "colorbar": {
              "outlinewidth": 0,
              "ticks": ""
             }
            },
            "type": "scatter3d"
           }
          ],
          "scattercarpet": [
           {
            "marker": {
             "colorbar": {
              "outlinewidth": 0,
              "ticks": ""
             }
            },
            "type": "scattercarpet"
           }
          ],
          "scattergeo": [
           {
            "marker": {
             "colorbar": {
              "outlinewidth": 0,
              "ticks": ""
             }
            },
            "type": "scattergeo"
           }
          ],
          "scattergl": [
           {
            "marker": {
             "colorbar": {
              "outlinewidth": 0,
              "ticks": ""
             }
            },
            "type": "scattergl"
           }
          ],
          "scattermapbox": [
           {
            "marker": {
             "colorbar": {
              "outlinewidth": 0,
              "ticks": ""
             }
            },
            "type": "scattermapbox"
           }
          ],
          "scatterpolar": [
           {
            "marker": {
             "colorbar": {
              "outlinewidth": 0,
              "ticks": ""
             }
            },
            "type": "scatterpolar"
           }
          ],
          "scatterpolargl": [
           {
            "marker": {
             "colorbar": {
              "outlinewidth": 0,
              "ticks": ""
             }
            },
            "type": "scatterpolargl"
           }
          ],
          "scatterternary": [
           {
            "marker": {
             "colorbar": {
              "outlinewidth": 0,
              "ticks": ""
             }
            },
            "type": "scatterternary"
           }
          ],
          "surface": [
           {
            "colorbar": {
             "outlinewidth": 0,
             "ticks": ""
            },
            "colorscale": [
             [
              0,
              "#0d0887"
             ],
             [
              0.1111111111111111,
              "#46039f"
             ],
             [
              0.2222222222222222,
              "#7201a8"
             ],
             [
              0.3333333333333333,
              "#9c179e"
             ],
             [
              0.4444444444444444,
              "#bd3786"
             ],
             [
              0.5555555555555556,
              "#d8576b"
             ],
             [
              0.6666666666666666,
              "#ed7953"
             ],
             [
              0.7777777777777778,
              "#fb9f3a"
             ],
             [
              0.8888888888888888,
              "#fdca26"
             ],
             [
              1,
              "#f0f921"
             ]
            ],
            "type": "surface"
           }
          ],
          "table": [
           {
            "cells": {
             "fill": {
              "color": "#EBF0F8"
             },
             "line": {
              "color": "white"
             }
            },
            "header": {
             "fill": {
              "color": "#C8D4E3"
             },
             "line": {
              "color": "white"
             }
            },
            "type": "table"
           }
          ]
         },
         "layout": {
          "annotationdefaults": {
           "arrowcolor": "#2a3f5f",
           "arrowhead": 0,
           "arrowwidth": 1
          },
          "autotypenumbers": "strict",
          "coloraxis": {
           "colorbar": {
            "outlinewidth": 0,
            "ticks": ""
           }
          },
          "colorscale": {
           "diverging": [
            [
             0,
             "#8e0152"
            ],
            [
             0.1,
             "#c51b7d"
            ],
            [
             0.2,
             "#de77ae"
            ],
            [
             0.3,
             "#f1b6da"
            ],
            [
             0.4,
             "#fde0ef"
            ],
            [
             0.5,
             "#f7f7f7"
            ],
            [
             0.6,
             "#e6f5d0"
            ],
            [
             0.7,
             "#b8e186"
            ],
            [
             0.8,
             "#7fbc41"
            ],
            [
             0.9,
             "#4d9221"
            ],
            [
             1,
             "#276419"
            ]
           ],
           "sequential": [
            [
             0,
             "#0d0887"
            ],
            [
             0.1111111111111111,
             "#46039f"
            ],
            [
             0.2222222222222222,
             "#7201a8"
            ],
            [
             0.3333333333333333,
             "#9c179e"
            ],
            [
             0.4444444444444444,
             "#bd3786"
            ],
            [
             0.5555555555555556,
             "#d8576b"
            ],
            [
             0.6666666666666666,
             "#ed7953"
            ],
            [
             0.7777777777777778,
             "#fb9f3a"
            ],
            [
             0.8888888888888888,
             "#fdca26"
            ],
            [
             1,
             "#f0f921"
            ]
           ],
           "sequentialminus": [
            [
             0,
             "#0d0887"
            ],
            [
             0.1111111111111111,
             "#46039f"
            ],
            [
             0.2222222222222222,
             "#7201a8"
            ],
            [
             0.3333333333333333,
             "#9c179e"
            ],
            [
             0.4444444444444444,
             "#bd3786"
            ],
            [
             0.5555555555555556,
             "#d8576b"
            ],
            [
             0.6666666666666666,
             "#ed7953"
            ],
            [
             0.7777777777777778,
             "#fb9f3a"
            ],
            [
             0.8888888888888888,
             "#fdca26"
            ],
            [
             1,
             "#f0f921"
            ]
           ]
          },
          "colorway": [
           "#636efa",
           "#EF553B",
           "#00cc96",
           "#ab63fa",
           "#FFA15A",
           "#19d3f3",
           "#FF6692",
           "#B6E880",
           "#FF97FF",
           "#FECB52"
          ],
          "font": {
           "color": "#2a3f5f"
          },
          "geo": {
           "bgcolor": "white",
           "lakecolor": "white",
           "landcolor": "#E5ECF6",
           "showlakes": true,
           "showland": true,
           "subunitcolor": "white"
          },
          "hoverlabel": {
           "align": "left"
          },
          "hovermode": "closest",
          "mapbox": {
           "style": "light"
          },
          "paper_bgcolor": "white",
          "plot_bgcolor": "#E5ECF6",
          "polar": {
           "angularaxis": {
            "gridcolor": "white",
            "linecolor": "white",
            "ticks": ""
           },
           "bgcolor": "#E5ECF6",
           "radialaxis": {
            "gridcolor": "white",
            "linecolor": "white",
            "ticks": ""
           }
          },
          "scene": {
           "xaxis": {
            "backgroundcolor": "#E5ECF6",
            "gridcolor": "white",
            "gridwidth": 2,
            "linecolor": "white",
            "showbackground": true,
            "ticks": "",
            "zerolinecolor": "white"
           },
           "yaxis": {
            "backgroundcolor": "#E5ECF6",
            "gridcolor": "white",
            "gridwidth": 2,
            "linecolor": "white",
            "showbackground": true,
            "ticks": "",
            "zerolinecolor": "white"
           },
           "zaxis": {
            "backgroundcolor": "#E5ECF6",
            "gridcolor": "white",
            "gridwidth": 2,
            "linecolor": "white",
            "showbackground": true,
            "ticks": "",
            "zerolinecolor": "white"
           }
          },
          "shapedefaults": {
           "line": {
            "color": "#2a3f5f"
           }
          },
          "ternary": {
           "aaxis": {
            "gridcolor": "white",
            "linecolor": "white",
            "ticks": ""
           },
           "baxis": {
            "gridcolor": "white",
            "linecolor": "white",
            "ticks": ""
           },
           "bgcolor": "#E5ECF6",
           "caxis": {
            "gridcolor": "white",
            "linecolor": "white",
            "ticks": ""
           }
          },
          "title": {
           "x": 0.05
          },
          "xaxis": {
           "automargin": true,
           "gridcolor": "white",
           "linecolor": "white",
           "ticks": "",
           "title": {
            "standoff": 15
           },
           "zerolinecolor": "white",
           "zerolinewidth": 2
          },
          "yaxis": {
           "automargin": true,
           "gridcolor": "white",
           "linecolor": "white",
           "ticks": "",
           "title": {
            "standoff": 15
           },
           "zerolinecolor": "white",
           "zerolinewidth": 2
          }
         }
        },
        "title": {
         "text": "Hyperparameter Importances"
        },
        "xaxis": {
         "title": {
          "text": "Hyperparameter Importance"
         }
        },
        "yaxis": {
         "title": {
          "text": "Hyperparameter"
         }
        }
       }
      }
     },
     "metadata": {},
     "output_type": "display_data"
    }
   ],
   "source": [
    "p_importance_no_feat_eng = optuna.visualization.plot_param_importances(study_no_feat_eng)\n",
    "p_importance_no_feat_eng.show()"
   ]
  },
  {
   "cell_type": "code",
   "execution_count": 11,
   "metadata": {},
   "outputs": [
    {
     "data": {
      "application/vnd.plotly.v1+json": {
       "config": {
        "plotlyServerURL": "https://plot.ly"
       },
       "data": [
        {
         "mode": "markers",
         "name": "Objective Value",
         "type": "scatter",
         "x": [
          0,
          1,
          2,
          3,
          4,
          5,
          6,
          7,
          8,
          9,
          10,
          11,
          12,
          13,
          14,
          15,
          16,
          17,
          18,
          19,
          21,
          22,
          24,
          27,
          28,
          31,
          32,
          33,
          34,
          36,
          41,
          42,
          44,
          45,
          46,
          47,
          49,
          51,
          52,
          53,
          54,
          55,
          56,
          57,
          58,
          61,
          62,
          63,
          64,
          67,
          68,
          69,
          70,
          71,
          72,
          73,
          74,
          76,
          78,
          81,
          82,
          83,
          84,
          86,
          87,
          88,
          91,
          92,
          93,
          95,
          96,
          99,
          101,
          103,
          105,
          107,
          109,
          111,
          112,
          113,
          114,
          115,
          118,
          119,
          121,
          122,
          123,
          125,
          128,
          131,
          132,
          134,
          135,
          136,
          138,
          139,
          141,
          142,
          143,
          147,
          148,
          150,
          151,
          152,
          153,
          154,
          156,
          158,
          159,
          161,
          162,
          163,
          164,
          166,
          168,
          170,
          171,
          172,
          173,
          174,
          175,
          179,
          180,
          181,
          182,
          183,
          184,
          185,
          186,
          187,
          188,
          189,
          190,
          191,
          192,
          193,
          195,
          197,
          198,
          199,
          200,
          201,
          202,
          203,
          205,
          207,
          209,
          211,
          212,
          213,
          214,
          215,
          217,
          219,
          220,
          221,
          222,
          224,
          225,
          227,
          228,
          229,
          231,
          232,
          233,
          235,
          236,
          237,
          238,
          240,
          241,
          242,
          244,
          245,
          247,
          250,
          251,
          254,
          255,
          258,
          259,
          260,
          261,
          264,
          265,
          267,
          269,
          271,
          277,
          278,
          282,
          283,
          286,
          288,
          289,
          290,
          291,
          295,
          296,
          297,
          299,
          302,
          305,
          309,
          313,
          314,
          315,
          318,
          319,
          323,
          326,
          327,
          329,
          330,
          334,
          338,
          339,
          342,
          344,
          349,
          350,
          351,
          359,
          360,
          363,
          364,
          367,
          371,
          372,
          374,
          376,
          377,
          380,
          383,
          386,
          387,
          391,
          393,
          394,
          397,
          401,
          402,
          406,
          407,
          417,
          418,
          420,
          422,
          424,
          425,
          426,
          430,
          431,
          433,
          437,
          438,
          442,
          444,
          446,
          447,
          452,
          456,
          457,
          460,
          461,
          463,
          467,
          470,
          472,
          476,
          477,
          481,
          486,
          489,
          495,
          497
         ],
         "y": [
          0.9727231946106423,
          0.9281055158226851,
          0.9532628853965488,
          0.9293390945984374,
          0.9710762926161515,
          0.9337763993777706,
          0.9094999129444338,
          0.9323928748020809,
          0.9357584534952565,
          0.9546434580390889,
          0.9818444713000998,
          0.9863700154310138,
          0.9865450229678331,
          0.9696403460117953,
          0.9836472163347671,
          0.9709926913659028,
          0.951218805909712,
          0.9742956153329295,
          0.9650499718624719,
          0.9731363204390563,
          0.9826934784326514,
          0.9830432121265831,
          0.9704504527743143,
          0.9746806353169275,
          0.9756177012567683,
          0.9838934765145144,
          0.9861313405488964,
          0.9761232046431811,
          0.9755239327568589,
          0.9782059600809841,
          0.9838345072621888,
          0.9784262794281592,
          0.9797407494503382,
          0.9725473459752262,
          0.9804562016951118,
          0.9865514653814703,
          0.97505211135217,
          0.986910362047946,
          0.9797969050654212,
          0.9880485981683902,
          0.9765415673767522,
          0.981557191809402,
          0.9731099727330254,
          0.9881790743207859,
          0.9785358091895748,
          0.9867304541707199,
          0.9827504622076418,
          0.9774577888333219,
          0.9818003334814511,
          0.975318933316353,
          0.9876871566536668,
          0.9820958711024648,
          0.9787050549651936,
          0.9880583655210942,
          0.982686703440154,
          0.9852243745131315,
          0.9877531362238171,
          0.9790775135279739,
          0.978427327970581,
          0.981977328330682,
          0.9820988697841436,
          0.9779843167242624,
          0.9877546854608396,
          0.9837850515743665,
          0.979919891594451,
          0.9890088272119918,
          0.9874502863935616,
          0.9833597406632503,
          0.9796040059332626,
          0.9819624946998811,
          0.9854068425128885,
          0.9872158163658684,
          0.9827441667009698,
          0.9814711476084229,
          0.983904555300653,
          0.9881065100295489,
          0.9806237573013087,
          0.9832182438834576,
          0.9874597354057186,
          0.9887075118450361,
          0.9811829465178381,
          0.9893730569274914,
          0.9836502955536421,
          0.9819058655310308,
          0.9884075716053113,
          0.9874473513859737,
          0.9831134742956635,
          0.9836038489935532,
          0.9863573529199332,
          0.9841459788816346,
          0.9817261577430558,
          0.9818653343306138,
          0.9842583191418619,
          0.988706476002289,
          0.9829421615944598,
          0.9888358312632812,
          0.9840844963734986,
          0.9874566995478812,
          0.9811409242000524,
          0.9896756912195459,
          0.983315271953914,
          0.9822715923631022,
          0.9846328806135028,
          0.9853518081482691,
          0.9876299294616395,
          0.9887709602352419,
          0.9817428182230937,
          0.9802877633101288,
          0.98276331936702,
          0.9871480059465962,
          0.9869128703823884,
          0.9823331868500327,
          0.9884747153499032,
          0.9840797383691632,
          0.9875150514581955,
          0.9828051709422739,
          0.9878171927523614,
          0.9837833323442181,
          0.9875724475713457,
          0.9839796822288319,
          0.9802366064575276,
          0.9827041776945507,
          0.9839530405562071,
          0.9876895146450491,
          0.9879324831384986,
          0.981918654983971,
          0.9840953898681697,
          0.983968167722176,
          0.9881725879536672,
          0.9803552322355802,
          0.9818577785272152,
          0.9839129610338148,
          0.9878130157207192,
          0.9841421558613757,
          0.9868626114969083,
          0.9880540404037136,
          0.9832511035302159,
          0.9836093285613539,
          0.9888979011600867,
          0.9825924064582839,
          0.9881740517866268,
          0.9841480546662756,
          0.9846843793430018,
          0.9881695015660634,
          0.9893704113208559,
          0.988897206178325,
          0.9824632356764396,
          0.9882998413056301,
          0.9839037120253726,
          0.9883583458406757,
          0.9888961001698993,
          0.9831804830896204,
          0.988655963236288,
          0.9846213916213532,
          0.9884755380982171,
          0.9840912072098579,
          0.9883579245384204,
          0.9845052805689505,
          0.9878697751389419,
          0.9882943860186104,
          0.9891377242759256,
          0.9836764270513966,
          0.9842718130529299,
          0.9888421468000935,
          0.9881122641177926,
          0.9845129948536593,
          0.9844467281896503,
          0.9896783881078157,
          0.9824075696326908,
          0.9831266195434175,
          0.9861263366354519,
          0.9881765602791936,
          0.9877532078657026,
          0.9882910239580683,
          0.9842603015961823,
          0.9886574263369221,
          0.9842092943445545,
          0.9841547174731554,
          0.9828139867891004,
          0.9837949001163693,
          0.9891399351138641,
          0.9885911695953432,
          0.9888405813880585,
          0.9838960907330604,
          0.9887109342683562,
          0.9886596126104298,
          0.9892544479164425,
          0.9840277356892763,
          0.9836101943379669,
          0.9840325490185384,
          0.9873304207715948,
          0.9879353190036765,
          0.9884155035351461,
          0.9870322189957704,
          0.9825372699600166,
          0.9845140896510444,
          0.983301708909439,
          0.9843764670990739,
          0.9845067026498681,
          0.9893150426687545,
          0.9892510523673386,
          0.9890137872707638,
          0.9879971683202233,
          0.987628144799982,
          0.98347844864549,
          0.9840701426095713,
          0.9886544464054114,
          0.9836014461151056,
          0.9889558507213454,
          0.984444880229827,
          0.9896196780151263,
          0.9842114590451672,
          0.9840836212251336,
          0.9900925743237394,
          0.9894326103608048,
          0.9846865982837671,
          0.9843243571132698,
          0.9844448828626741,
          0.9883634469619981,
          0.9877563758648531,
          0.9845097505257401,
          0.9844740366124288,
          0.9884800615348543,
          0.9882305271397771,
          0.9845148734149618,
          0.9880493582729034,
          0.9840816163548883,
          0.9843124969105009,
          0.9826328626597176,
          0.9841970951812151,
          0.9885342667286634,
          0.9845095854451953,
          0.9884045499420075,
          0.9843198369396644,
          0.9876942089729468,
          0.9841378701819856,
          0.9884130958702009,
          0.9835975912114396,
          0.9889579293750927,
          0.9868469009550628,
          0.9873296964628008,
          0.988536201506428,
          0.9884093632025868,
          0.9893136496738837,
          0.986852222107929,
          0.9891334805138283,
          0.9894978189166934,
          0.9838465385478388,
          0.9879989094714805,
          0.9836710392913843,
          0.9847028043628692,
          0.9885340251395066,
          0.9879944938210482,
          0.9845634237505495,
          0.9839104175871377,
          0.9888349762663895,
          0.9833631798155785,
          0.9845738260078983,
          0.9846274624364026,
          0.9880521631144553,
          0.9886587152202526,
          0.9833658804376787,
          0.9888295361245181,
          0.9839081687874695,
          0.9897348205891587,
          0.9896726225025742,
          0.9885979253180839,
          0.9846855315949707,
          0.9879944695204989,
          0.9888888203335702,
          0.9897325260330861,
          0.9885321607448772,
          0.9901521854186415,
          0.9843787302802955,
          0.9884110568180999,
          0.9882895956466429
         ]
        },
        {
         "mode": "lines",
         "name": "Best Value",
         "type": "scatter",
         "x": [
          0,
          1,
          2,
          3,
          4,
          5,
          6,
          7,
          8,
          9,
          10,
          11,
          12,
          13,
          14,
          15,
          16,
          17,
          18,
          19,
          20,
          21,
          22,
          23,
          24,
          25,
          26,
          27,
          28,
          29,
          30,
          31,
          32,
          33,
          34,
          35,
          36,
          37,
          38,
          39,
          40,
          41,
          42,
          43,
          44,
          45,
          46,
          47,
          48,
          49,
          50,
          51,
          52,
          53,
          54,
          55,
          56,
          57,
          58,
          59,
          60,
          61,
          62,
          63,
          64,
          65,
          66,
          67,
          68,
          69,
          70,
          71,
          72,
          73,
          74,
          75,
          76,
          77,
          78,
          79,
          80,
          81,
          82,
          83,
          84,
          85,
          86,
          87,
          88,
          89,
          90,
          91,
          92,
          93,
          94,
          95,
          96,
          97,
          98,
          99,
          100,
          101,
          102,
          103,
          104,
          105,
          106,
          107,
          108,
          109,
          110,
          111,
          112,
          113,
          114,
          115,
          116,
          117,
          118,
          119,
          120,
          121,
          122,
          123,
          124,
          125,
          126,
          127,
          128,
          129,
          130,
          131,
          132,
          133,
          134,
          135,
          136,
          137,
          138,
          139,
          140,
          141,
          142,
          143,
          144,
          145,
          146,
          147,
          148,
          149,
          150,
          151,
          152,
          153,
          154,
          155,
          156,
          157,
          158,
          159,
          160,
          161,
          162,
          163,
          164,
          165,
          166,
          167,
          168,
          169,
          170,
          171,
          172,
          173,
          174,
          175,
          176,
          177,
          178,
          179,
          180,
          181,
          182,
          183,
          184,
          185,
          186,
          187,
          188,
          189,
          190,
          191,
          192,
          193,
          194,
          195,
          196,
          197,
          198,
          199,
          200,
          201,
          202,
          203,
          204,
          205,
          206,
          207,
          208,
          209,
          210,
          211,
          212,
          213,
          214,
          215,
          216,
          217,
          218,
          219,
          220,
          221,
          222,
          223,
          224,
          225,
          226,
          227,
          228,
          229,
          230,
          231,
          232,
          233,
          234,
          235,
          236,
          237,
          238,
          239,
          240,
          241,
          242,
          243,
          244,
          245,
          246,
          247,
          248,
          249,
          250,
          251,
          252,
          253,
          254,
          255,
          256,
          257,
          258,
          259,
          260,
          261,
          262,
          263,
          264,
          265,
          266,
          267,
          268,
          269,
          270,
          271,
          272,
          273,
          274,
          275,
          276,
          277,
          278,
          279,
          280,
          281,
          282,
          283,
          284,
          285,
          286,
          287,
          288,
          289,
          290,
          291,
          292,
          293,
          294,
          295,
          296,
          297,
          298,
          299,
          300,
          301,
          302,
          303,
          304,
          305,
          306,
          307,
          308,
          309,
          310,
          311,
          312,
          313,
          314,
          315,
          316,
          317,
          318,
          319,
          320,
          321,
          322,
          323,
          324,
          325,
          326,
          327,
          328,
          329,
          330,
          331,
          332,
          333,
          334,
          335,
          336,
          337,
          338,
          339,
          340,
          341,
          342,
          343,
          344,
          345,
          346,
          347,
          348,
          349,
          350,
          351,
          352,
          353,
          354,
          355,
          356,
          357,
          358,
          359,
          360,
          361,
          362,
          363,
          364,
          365,
          366,
          367,
          368,
          369,
          370,
          371,
          372,
          373,
          374,
          375,
          376,
          377,
          378,
          379,
          380,
          381,
          382,
          383,
          384,
          385,
          386,
          387,
          388,
          389,
          390,
          391,
          392,
          393,
          394,
          395,
          396,
          397,
          398,
          399,
          400,
          401,
          402,
          403,
          404,
          405,
          406,
          407,
          408,
          409,
          410,
          411,
          412,
          413,
          414,
          415,
          416,
          417,
          418,
          419,
          420,
          421,
          422,
          423,
          424,
          425,
          426,
          427,
          428,
          429,
          430,
          431,
          432,
          433,
          434,
          435,
          436,
          437,
          438,
          439,
          440,
          441,
          442,
          443,
          444,
          445,
          446,
          447,
          448,
          449,
          450,
          451,
          452,
          453,
          454,
          455,
          456,
          457,
          458,
          459,
          460,
          461,
          462,
          463,
          464,
          465,
          466,
          467,
          468,
          469,
          470,
          471,
          472,
          473,
          474,
          475,
          476,
          477,
          478,
          479,
          480,
          481,
          482,
          483,
          484,
          485,
          486,
          487,
          488,
          489,
          490,
          491,
          492,
          493,
          494,
          495,
          496,
          497,
          498,
          499
         ],
         "y": [
          0.9727231946106423,
          0.9727231946106423,
          0.9727231946106423,
          0.9727231946106423,
          0.9727231946106423,
          0.9727231946106423,
          0.9727231946106423,
          0.9727231946106423,
          0.9727231946106423,
          0.9727231946106423,
          0.9818444713000998,
          0.9863700154310138,
          0.9865450229678331,
          0.9865450229678331,
          0.9865450229678331,
          0.9865450229678331,
          0.9865450229678331,
          0.9865450229678331,
          0.9865450229678331,
          0.9865450229678331,
          0.9865450229678331,
          0.9865450229678331,
          0.9865450229678331,
          0.9865450229678331,
          0.9865450229678331,
          0.9865450229678331,
          0.9865450229678331,
          0.9865450229678331,
          0.9865450229678331,
          0.9865450229678331,
          0.9865450229678331,
          0.9865450229678331,
          0.9865450229678331,
          0.9865450229678331,
          0.9865450229678331,
          0.9865450229678331,
          0.9865450229678331,
          0.9865450229678331,
          0.9865450229678331,
          0.9865450229678331,
          0.9865450229678331,
          0.9865450229678331,
          0.9865450229678331,
          0.9865450229678331,
          0.9865450229678331,
          0.9865450229678331,
          0.9865450229678331,
          0.9865514653814703,
          0.9865514653814703,
          0.9865514653814703,
          0.9865514653814703,
          0.986910362047946,
          0.986910362047946,
          0.9880485981683902,
          0.9880485981683902,
          0.9880485981683902,
          0.9880485981683902,
          0.9881790743207859,
          0.9881790743207859,
          0.9881790743207859,
          0.9881790743207859,
          0.9881790743207859,
          0.9881790743207859,
          0.9881790743207859,
          0.9881790743207859,
          0.9881790743207859,
          0.9881790743207859,
          0.9881790743207859,
          0.9881790743207859,
          0.9881790743207859,
          0.9881790743207859,
          0.9881790743207859,
          0.9881790743207859,
          0.9881790743207859,
          0.9881790743207859,
          0.9881790743207859,
          0.9881790743207859,
          0.9881790743207859,
          0.9881790743207859,
          0.9881790743207859,
          0.9881790743207859,
          0.9881790743207859,
          0.9881790743207859,
          0.9881790743207859,
          0.9881790743207859,
          0.9881790743207859,
          0.9881790743207859,
          0.9881790743207859,
          0.9890088272119918,
          0.9890088272119918,
          0.9890088272119918,
          0.9890088272119918,
          0.9890088272119918,
          0.9890088272119918,
          0.9890088272119918,
          0.9890088272119918,
          0.9890088272119918,
          0.9890088272119918,
          0.9890088272119918,
          0.9890088272119918,
          0.9890088272119918,
          0.9890088272119918,
          0.9890088272119918,
          0.9890088272119918,
          0.9890088272119918,
          0.9890088272119918,
          0.9890088272119918,
          0.9890088272119918,
          0.9890088272119918,
          0.9890088272119918,
          0.9890088272119918,
          0.9890088272119918,
          0.9890088272119918,
          0.9890088272119918,
          0.9890088272119918,
          0.9893730569274914,
          0.9893730569274914,
          0.9893730569274914,
          0.9893730569274914,
          0.9893730569274914,
          0.9893730569274914,
          0.9893730569274914,
          0.9893730569274914,
          0.9893730569274914,
          0.9893730569274914,
          0.9893730569274914,
          0.9893730569274914,
          0.9893730569274914,
          0.9893730569274914,
          0.9893730569274914,
          0.9893730569274914,
          0.9893730569274914,
          0.9893730569274914,
          0.9893730569274914,
          0.9893730569274914,
          0.9893730569274914,
          0.9893730569274914,
          0.9893730569274914,
          0.9893730569274914,
          0.9893730569274914,
          0.9893730569274914,
          0.9893730569274914,
          0.9893730569274914,
          0.9893730569274914,
          0.9893730569274914,
          0.9893730569274914,
          0.9893730569274914,
          0.9896756912195459,
          0.9896756912195459,
          0.9896756912195459,
          0.9896756912195459,
          0.9896756912195459,
          0.9896756912195459,
          0.9896756912195459,
          0.9896756912195459,
          0.9896756912195459,
          0.9896756912195459,
          0.9896756912195459,
          0.9896756912195459,
          0.9896756912195459,
          0.9896756912195459,
          0.9896756912195459,
          0.9896756912195459,
          0.9896756912195459,
          0.9896756912195459,
          0.9896756912195459,
          0.9896756912195459,
          0.9896756912195459,
          0.9896756912195459,
          0.9896756912195459,
          0.9896756912195459,
          0.9896756912195459,
          0.9896756912195459,
          0.9896756912195459,
          0.9896756912195459,
          0.9896756912195459,
          0.9896756912195459,
          0.9896756912195459,
          0.9896756912195459,
          0.9896756912195459,
          0.9896756912195459,
          0.9896756912195459,
          0.9896756912195459,
          0.9896756912195459,
          0.9896756912195459,
          0.9896756912195459,
          0.9896756912195459,
          0.9896756912195459,
          0.9896756912195459,
          0.9896756912195459,
          0.9896756912195459,
          0.9896756912195459,
          0.9896756912195459,
          0.9896756912195459,
          0.9896756912195459,
          0.9896756912195459,
          0.9896756912195459,
          0.9896756912195459,
          0.9896756912195459,
          0.9896756912195459,
          0.9896756912195459,
          0.9896756912195459,
          0.9896756912195459,
          0.9896756912195459,
          0.9896756912195459,
          0.9896756912195459,
          0.9896756912195459,
          0.9896756912195459,
          0.9896756912195459,
          0.9896756912195459,
          0.9896756912195459,
          0.9896756912195459,
          0.9896756912195459,
          0.9896756912195459,
          0.9896756912195459,
          0.9896756912195459,
          0.9896756912195459,
          0.9896756912195459,
          0.9896756912195459,
          0.9896756912195459,
          0.9896756912195459,
          0.9896756912195459,
          0.9896756912195459,
          0.9896756912195459,
          0.9896756912195459,
          0.9896756912195459,
          0.9896756912195459,
          0.9896756912195459,
          0.9896756912195459,
          0.9896756912195459,
          0.9896756912195459,
          0.9896756912195459,
          0.9896756912195459,
          0.9896756912195459,
          0.9896756912195459,
          0.9896756912195459,
          0.9896756912195459,
          0.9896783881078157,
          0.9896783881078157,
          0.9896783881078157,
          0.9896783881078157,
          0.9896783881078157,
          0.9896783881078157,
          0.9896783881078157,
          0.9896783881078157,
          0.9896783881078157,
          0.9896783881078157,
          0.9896783881078157,
          0.9896783881078157,
          0.9896783881078157,
          0.9896783881078157,
          0.9896783881078157,
          0.9896783881078157,
          0.9896783881078157,
          0.9896783881078157,
          0.9896783881078157,
          0.9896783881078157,
          0.9896783881078157,
          0.9896783881078157,
          0.9896783881078157,
          0.9896783881078157,
          0.9896783881078157,
          0.9896783881078157,
          0.9896783881078157,
          0.9896783881078157,
          0.9896783881078157,
          0.9896783881078157,
          0.9896783881078157,
          0.9896783881078157,
          0.9896783881078157,
          0.9896783881078157,
          0.9896783881078157,
          0.9896783881078157,
          0.9896783881078157,
          0.9896783881078157,
          0.9896783881078157,
          0.9896783881078157,
          0.9896783881078157,
          0.9896783881078157,
          0.9896783881078157,
          0.9896783881078157,
          0.9896783881078157,
          0.9896783881078157,
          0.9896783881078157,
          0.9896783881078157,
          0.9896783881078157,
          0.9896783881078157,
          0.9896783881078157,
          0.9896783881078157,
          0.9896783881078157,
          0.9896783881078157,
          0.9896783881078157,
          0.9896783881078157,
          0.9896783881078157,
          0.9896783881078157,
          0.9896783881078157,
          0.9896783881078157,
          0.9896783881078157,
          0.9896783881078157,
          0.9896783881078157,
          0.9896783881078157,
          0.9896783881078157,
          0.9896783881078157,
          0.9896783881078157,
          0.9896783881078157,
          0.9896783881078157,
          0.9896783881078157,
          0.9896783881078157,
          0.9896783881078157,
          0.9896783881078157,
          0.9896783881078157,
          0.9896783881078157,
          0.9896783881078157,
          0.9896783881078157,
          0.9896783881078157,
          0.9896783881078157,
          0.9896783881078157,
          0.9896783881078157,
          0.9896783881078157,
          0.9896783881078157,
          0.9896783881078157,
          0.9896783881078157,
          0.9896783881078157,
          0.9896783881078157,
          0.9896783881078157,
          0.9896783881078157,
          0.9896783881078157,
          0.9896783881078157,
          0.9896783881078157,
          0.9896783881078157,
          0.9900925743237394,
          0.9900925743237394,
          0.9900925743237394,
          0.9900925743237394,
          0.9900925743237394,
          0.9900925743237394,
          0.9900925743237394,
          0.9900925743237394,
          0.9900925743237394,
          0.9900925743237394,
          0.9900925743237394,
          0.9900925743237394,
          0.9900925743237394,
          0.9900925743237394,
          0.9900925743237394,
          0.9900925743237394,
          0.9900925743237394,
          0.9900925743237394,
          0.9900925743237394,
          0.9900925743237394,
          0.9900925743237394,
          0.9900925743237394,
          0.9900925743237394,
          0.9900925743237394,
          0.9900925743237394,
          0.9900925743237394,
          0.9900925743237394,
          0.9900925743237394,
          0.9900925743237394,
          0.9900925743237394,
          0.9900925743237394,
          0.9900925743237394,
          0.9900925743237394,
          0.9900925743237394,
          0.9900925743237394,
          0.9900925743237394,
          0.9900925743237394,
          0.9900925743237394,
          0.9900925743237394,
          0.9900925743237394,
          0.9900925743237394,
          0.9900925743237394,
          0.9900925743237394,
          0.9900925743237394,
          0.9900925743237394,
          0.9900925743237394,
          0.9900925743237394,
          0.9900925743237394,
          0.9900925743237394,
          0.9900925743237394,
          0.9900925743237394,
          0.9900925743237394,
          0.9900925743237394,
          0.9900925743237394,
          0.9900925743237394,
          0.9900925743237394,
          0.9900925743237394,
          0.9900925743237394,
          0.9900925743237394,
          0.9900925743237394,
          0.9900925743237394,
          0.9900925743237394,
          0.9900925743237394,
          0.9900925743237394,
          0.9900925743237394,
          0.9900925743237394,
          0.9900925743237394,
          0.9900925743237394,
          0.9900925743237394,
          0.9900925743237394,
          0.9900925743237394,
          0.9900925743237394,
          0.9900925743237394,
          0.9900925743237394,
          0.9900925743237394,
          0.9900925743237394,
          0.9900925743237394,
          0.9900925743237394,
          0.9900925743237394,
          0.9900925743237394,
          0.9900925743237394,
          0.9900925743237394,
          0.9900925743237394,
          0.9900925743237394,
          0.9900925743237394,
          0.9900925743237394,
          0.9900925743237394,
          0.9900925743237394,
          0.9900925743237394,
          0.9900925743237394,
          0.9900925743237394,
          0.9900925743237394,
          0.9900925743237394,
          0.9900925743237394,
          0.9900925743237394,
          0.9900925743237394,
          0.9900925743237394,
          0.9900925743237394,
          0.9900925743237394,
          0.9900925743237394,
          0.9900925743237394,
          0.9900925743237394,
          0.9900925743237394,
          0.9900925743237394,
          0.9900925743237394,
          0.9900925743237394,
          0.9900925743237394,
          0.9900925743237394,
          0.9900925743237394,
          0.9900925743237394,
          0.9900925743237394,
          0.9900925743237394,
          0.9900925743237394,
          0.9900925743237394,
          0.9900925743237394,
          0.9900925743237394,
          0.9900925743237394,
          0.9900925743237394,
          0.9900925743237394,
          0.9900925743237394,
          0.9900925743237394,
          0.9900925743237394,
          0.9900925743237394,
          0.9900925743237394,
          0.9900925743237394,
          0.9900925743237394,
          0.9900925743237394,
          0.9900925743237394,
          0.9900925743237394,
          0.9900925743237394,
          0.9900925743237394,
          0.9900925743237394,
          0.9900925743237394,
          0.9900925743237394,
          0.9900925743237394,
          0.9900925743237394,
          0.9900925743237394,
          0.9900925743237394,
          0.9900925743237394,
          0.9900925743237394,
          0.9900925743237394,
          0.9900925743237394,
          0.9900925743237394,
          0.9900925743237394,
          0.9900925743237394,
          0.9900925743237394,
          0.9900925743237394,
          0.9900925743237394,
          0.9900925743237394,
          0.9900925743237394,
          0.9900925743237394,
          0.9900925743237394,
          0.9900925743237394,
          0.9900925743237394,
          0.9900925743237394,
          0.9900925743237394,
          0.9901521854186415,
          0.9901521854186415,
          0.9901521854186415,
          0.9901521854186415,
          0.9901521854186415,
          0.9901521854186415,
          0.9901521854186415,
          0.9901521854186415,
          0.9901521854186415,
          0.9901521854186415,
          0.9901521854186415,
          0.9901521854186415,
          0.9901521854186415,
          0.9901521854186415
         ]
        },
        {
         "marker": {
          "color": "#cccccc"
         },
         "mode": "markers",
         "name": "Infeasible Trial",
         "showlegend": false,
         "type": "scatter",
         "x": [],
         "y": []
        }
       ],
       "layout": {
        "template": {
         "data": {
          "bar": [
           {
            "error_x": {
             "color": "#2a3f5f"
            },
            "error_y": {
             "color": "#2a3f5f"
            },
            "marker": {
             "line": {
              "color": "#E5ECF6",
              "width": 0.5
             },
             "pattern": {
              "fillmode": "overlay",
              "size": 10,
              "solidity": 0.2
             }
            },
            "type": "bar"
           }
          ],
          "barpolar": [
           {
            "marker": {
             "line": {
              "color": "#E5ECF6",
              "width": 0.5
             },
             "pattern": {
              "fillmode": "overlay",
              "size": 10,
              "solidity": 0.2
             }
            },
            "type": "barpolar"
           }
          ],
          "carpet": [
           {
            "aaxis": {
             "endlinecolor": "#2a3f5f",
             "gridcolor": "white",
             "linecolor": "white",
             "minorgridcolor": "white",
             "startlinecolor": "#2a3f5f"
            },
            "baxis": {
             "endlinecolor": "#2a3f5f",
             "gridcolor": "white",
             "linecolor": "white",
             "minorgridcolor": "white",
             "startlinecolor": "#2a3f5f"
            },
            "type": "carpet"
           }
          ],
          "choropleth": [
           {
            "colorbar": {
             "outlinewidth": 0,
             "ticks": ""
            },
            "type": "choropleth"
           }
          ],
          "contour": [
           {
            "colorbar": {
             "outlinewidth": 0,
             "ticks": ""
            },
            "colorscale": [
             [
              0,
              "#0d0887"
             ],
             [
              0.1111111111111111,
              "#46039f"
             ],
             [
              0.2222222222222222,
              "#7201a8"
             ],
             [
              0.3333333333333333,
              "#9c179e"
             ],
             [
              0.4444444444444444,
              "#bd3786"
             ],
             [
              0.5555555555555556,
              "#d8576b"
             ],
             [
              0.6666666666666666,
              "#ed7953"
             ],
             [
              0.7777777777777778,
              "#fb9f3a"
             ],
             [
              0.8888888888888888,
              "#fdca26"
             ],
             [
              1,
              "#f0f921"
             ]
            ],
            "type": "contour"
           }
          ],
          "contourcarpet": [
           {
            "colorbar": {
             "outlinewidth": 0,
             "ticks": ""
            },
            "type": "contourcarpet"
           }
          ],
          "heatmap": [
           {
            "colorbar": {
             "outlinewidth": 0,
             "ticks": ""
            },
            "colorscale": [
             [
              0,
              "#0d0887"
             ],
             [
              0.1111111111111111,
              "#46039f"
             ],
             [
              0.2222222222222222,
              "#7201a8"
             ],
             [
              0.3333333333333333,
              "#9c179e"
             ],
             [
              0.4444444444444444,
              "#bd3786"
             ],
             [
              0.5555555555555556,
              "#d8576b"
             ],
             [
              0.6666666666666666,
              "#ed7953"
             ],
             [
              0.7777777777777778,
              "#fb9f3a"
             ],
             [
              0.8888888888888888,
              "#fdca26"
             ],
             [
              1,
              "#f0f921"
             ]
            ],
            "type": "heatmap"
           }
          ],
          "heatmapgl": [
           {
            "colorbar": {
             "outlinewidth": 0,
             "ticks": ""
            },
            "colorscale": [
             [
              0,
              "#0d0887"
             ],
             [
              0.1111111111111111,
              "#46039f"
             ],
             [
              0.2222222222222222,
              "#7201a8"
             ],
             [
              0.3333333333333333,
              "#9c179e"
             ],
             [
              0.4444444444444444,
              "#bd3786"
             ],
             [
              0.5555555555555556,
              "#d8576b"
             ],
             [
              0.6666666666666666,
              "#ed7953"
             ],
             [
              0.7777777777777778,
              "#fb9f3a"
             ],
             [
              0.8888888888888888,
              "#fdca26"
             ],
             [
              1,
              "#f0f921"
             ]
            ],
            "type": "heatmapgl"
           }
          ],
          "histogram": [
           {
            "marker": {
             "pattern": {
              "fillmode": "overlay",
              "size": 10,
              "solidity": 0.2
             }
            },
            "type": "histogram"
           }
          ],
          "histogram2d": [
           {
            "colorbar": {
             "outlinewidth": 0,
             "ticks": ""
            },
            "colorscale": [
             [
              0,
              "#0d0887"
             ],
             [
              0.1111111111111111,
              "#46039f"
             ],
             [
              0.2222222222222222,
              "#7201a8"
             ],
             [
              0.3333333333333333,
              "#9c179e"
             ],
             [
              0.4444444444444444,
              "#bd3786"
             ],
             [
              0.5555555555555556,
              "#d8576b"
             ],
             [
              0.6666666666666666,
              "#ed7953"
             ],
             [
              0.7777777777777778,
              "#fb9f3a"
             ],
             [
              0.8888888888888888,
              "#fdca26"
             ],
             [
              1,
              "#f0f921"
             ]
            ],
            "type": "histogram2d"
           }
          ],
          "histogram2dcontour": [
           {
            "colorbar": {
             "outlinewidth": 0,
             "ticks": ""
            },
            "colorscale": [
             [
              0,
              "#0d0887"
             ],
             [
              0.1111111111111111,
              "#46039f"
             ],
             [
              0.2222222222222222,
              "#7201a8"
             ],
             [
              0.3333333333333333,
              "#9c179e"
             ],
             [
              0.4444444444444444,
              "#bd3786"
             ],
             [
              0.5555555555555556,
              "#d8576b"
             ],
             [
              0.6666666666666666,
              "#ed7953"
             ],
             [
              0.7777777777777778,
              "#fb9f3a"
             ],
             [
              0.8888888888888888,
              "#fdca26"
             ],
             [
              1,
              "#f0f921"
             ]
            ],
            "type": "histogram2dcontour"
           }
          ],
          "mesh3d": [
           {
            "colorbar": {
             "outlinewidth": 0,
             "ticks": ""
            },
            "type": "mesh3d"
           }
          ],
          "parcoords": [
           {
            "line": {
             "colorbar": {
              "outlinewidth": 0,
              "ticks": ""
             }
            },
            "type": "parcoords"
           }
          ],
          "pie": [
           {
            "automargin": true,
            "type": "pie"
           }
          ],
          "scatter": [
           {
            "fillpattern": {
             "fillmode": "overlay",
             "size": 10,
             "solidity": 0.2
            },
            "type": "scatter"
           }
          ],
          "scatter3d": [
           {
            "line": {
             "colorbar": {
              "outlinewidth": 0,
              "ticks": ""
             }
            },
            "marker": {
             "colorbar": {
              "outlinewidth": 0,
              "ticks": ""
             }
            },
            "type": "scatter3d"
           }
          ],
          "scattercarpet": [
           {
            "marker": {
             "colorbar": {
              "outlinewidth": 0,
              "ticks": ""
             }
            },
            "type": "scattercarpet"
           }
          ],
          "scattergeo": [
           {
            "marker": {
             "colorbar": {
              "outlinewidth": 0,
              "ticks": ""
             }
            },
            "type": "scattergeo"
           }
          ],
          "scattergl": [
           {
            "marker": {
             "colorbar": {
              "outlinewidth": 0,
              "ticks": ""
             }
            },
            "type": "scattergl"
           }
          ],
          "scattermapbox": [
           {
            "marker": {
             "colorbar": {
              "outlinewidth": 0,
              "ticks": ""
             }
            },
            "type": "scattermapbox"
           }
          ],
          "scatterpolar": [
           {
            "marker": {
             "colorbar": {
              "outlinewidth": 0,
              "ticks": ""
             }
            },
            "type": "scatterpolar"
           }
          ],
          "scatterpolargl": [
           {
            "marker": {
             "colorbar": {
              "outlinewidth": 0,
              "ticks": ""
             }
            },
            "type": "scatterpolargl"
           }
          ],
          "scatterternary": [
           {
            "marker": {
             "colorbar": {
              "outlinewidth": 0,
              "ticks": ""
             }
            },
            "type": "scatterternary"
           }
          ],
          "surface": [
           {
            "colorbar": {
             "outlinewidth": 0,
             "ticks": ""
            },
            "colorscale": [
             [
              0,
              "#0d0887"
             ],
             [
              0.1111111111111111,
              "#46039f"
             ],
             [
              0.2222222222222222,
              "#7201a8"
             ],
             [
              0.3333333333333333,
              "#9c179e"
             ],
             [
              0.4444444444444444,
              "#bd3786"
             ],
             [
              0.5555555555555556,
              "#d8576b"
             ],
             [
              0.6666666666666666,
              "#ed7953"
             ],
             [
              0.7777777777777778,
              "#fb9f3a"
             ],
             [
              0.8888888888888888,
              "#fdca26"
             ],
             [
              1,
              "#f0f921"
             ]
            ],
            "type": "surface"
           }
          ],
          "table": [
           {
            "cells": {
             "fill": {
              "color": "#EBF0F8"
             },
             "line": {
              "color": "white"
             }
            },
            "header": {
             "fill": {
              "color": "#C8D4E3"
             },
             "line": {
              "color": "white"
             }
            },
            "type": "table"
           }
          ]
         },
         "layout": {
          "annotationdefaults": {
           "arrowcolor": "#2a3f5f",
           "arrowhead": 0,
           "arrowwidth": 1
          },
          "autotypenumbers": "strict",
          "coloraxis": {
           "colorbar": {
            "outlinewidth": 0,
            "ticks": ""
           }
          },
          "colorscale": {
           "diverging": [
            [
             0,
             "#8e0152"
            ],
            [
             0.1,
             "#c51b7d"
            ],
            [
             0.2,
             "#de77ae"
            ],
            [
             0.3,
             "#f1b6da"
            ],
            [
             0.4,
             "#fde0ef"
            ],
            [
             0.5,
             "#f7f7f7"
            ],
            [
             0.6,
             "#e6f5d0"
            ],
            [
             0.7,
             "#b8e186"
            ],
            [
             0.8,
             "#7fbc41"
            ],
            [
             0.9,
             "#4d9221"
            ],
            [
             1,
             "#276419"
            ]
           ],
           "sequential": [
            [
             0,
             "#0d0887"
            ],
            [
             0.1111111111111111,
             "#46039f"
            ],
            [
             0.2222222222222222,
             "#7201a8"
            ],
            [
             0.3333333333333333,
             "#9c179e"
            ],
            [
             0.4444444444444444,
             "#bd3786"
            ],
            [
             0.5555555555555556,
             "#d8576b"
            ],
            [
             0.6666666666666666,
             "#ed7953"
            ],
            [
             0.7777777777777778,
             "#fb9f3a"
            ],
            [
             0.8888888888888888,
             "#fdca26"
            ],
            [
             1,
             "#f0f921"
            ]
           ],
           "sequentialminus": [
            [
             0,
             "#0d0887"
            ],
            [
             0.1111111111111111,
             "#46039f"
            ],
            [
             0.2222222222222222,
             "#7201a8"
            ],
            [
             0.3333333333333333,
             "#9c179e"
            ],
            [
             0.4444444444444444,
             "#bd3786"
            ],
            [
             0.5555555555555556,
             "#d8576b"
            ],
            [
             0.6666666666666666,
             "#ed7953"
            ],
            [
             0.7777777777777778,
             "#fb9f3a"
            ],
            [
             0.8888888888888888,
             "#fdca26"
            ],
            [
             1,
             "#f0f921"
            ]
           ]
          },
          "colorway": [
           "#636efa",
           "#EF553B",
           "#00cc96",
           "#ab63fa",
           "#FFA15A",
           "#19d3f3",
           "#FF6692",
           "#B6E880",
           "#FF97FF",
           "#FECB52"
          ],
          "font": {
           "color": "#2a3f5f"
          },
          "geo": {
           "bgcolor": "white",
           "lakecolor": "white",
           "landcolor": "#E5ECF6",
           "showlakes": true,
           "showland": true,
           "subunitcolor": "white"
          },
          "hoverlabel": {
           "align": "left"
          },
          "hovermode": "closest",
          "mapbox": {
           "style": "light"
          },
          "paper_bgcolor": "white",
          "plot_bgcolor": "#E5ECF6",
          "polar": {
           "angularaxis": {
            "gridcolor": "white",
            "linecolor": "white",
            "ticks": ""
           },
           "bgcolor": "#E5ECF6",
           "radialaxis": {
            "gridcolor": "white",
            "linecolor": "white",
            "ticks": ""
           }
          },
          "scene": {
           "xaxis": {
            "backgroundcolor": "#E5ECF6",
            "gridcolor": "white",
            "gridwidth": 2,
            "linecolor": "white",
            "showbackground": true,
            "ticks": "",
            "zerolinecolor": "white"
           },
           "yaxis": {
            "backgroundcolor": "#E5ECF6",
            "gridcolor": "white",
            "gridwidth": 2,
            "linecolor": "white",
            "showbackground": true,
            "ticks": "",
            "zerolinecolor": "white"
           },
           "zaxis": {
            "backgroundcolor": "#E5ECF6",
            "gridcolor": "white",
            "gridwidth": 2,
            "linecolor": "white",
            "showbackground": true,
            "ticks": "",
            "zerolinecolor": "white"
           }
          },
          "shapedefaults": {
           "line": {
            "color": "#2a3f5f"
           }
          },
          "ternary": {
           "aaxis": {
            "gridcolor": "white",
            "linecolor": "white",
            "ticks": ""
           },
           "baxis": {
            "gridcolor": "white",
            "linecolor": "white",
            "ticks": ""
           },
           "bgcolor": "#E5ECF6",
           "caxis": {
            "gridcolor": "white",
            "linecolor": "white",
            "ticks": ""
           }
          },
          "title": {
           "x": 0.05
          },
          "xaxis": {
           "automargin": true,
           "gridcolor": "white",
           "linecolor": "white",
           "ticks": "",
           "title": {
            "standoff": 15
           },
           "zerolinecolor": "white",
           "zerolinewidth": 2
          },
          "yaxis": {
           "automargin": true,
           "gridcolor": "white",
           "linecolor": "white",
           "ticks": "",
           "title": {
            "standoff": 15
           },
           "zerolinecolor": "white",
           "zerolinewidth": 2
          }
         }
        },
        "title": {
         "text": "Optimization History Plot"
        },
        "xaxis": {
         "title": {
          "text": "Trial"
         }
        },
        "yaxis": {
         "title": {
          "text": "Objective Value"
         }
        }
       }
      }
     },
     "metadata": {},
     "output_type": "display_data"
    }
   ],
   "source": [
    "p_history_no_feat_eng = optuna.visualization.plot_optimization_history(study_no_feat_eng)\n",
    "p_history_no_feat_eng.show()"
   ]
  },
  {
   "cell_type": "markdown",
   "metadata": {},
   "source": [
    "## With Feature Engineering"
   ]
  },
  {
   "cell_type": "code",
   "execution_count": 12,
   "metadata": {},
   "outputs": [],
   "source": [
    "# Load data\n",
    "train_df = pd.read_csv(config[\"paths\"][\"ptb_train\"], header=None)"
   ]
  },
  {
   "cell_type": "code",
   "execution_count": 13,
   "metadata": {},
   "outputs": [],
   "source": [
    "X_train_all = train_df.iloc[:, :-1]\n",
    "y_train_all = train_df.iloc[:, -1]"
   ]
  },
  {
   "cell_type": "code",
   "execution_count": 14,
   "metadata": {},
   "outputs": [],
   "source": []
  },
  {
   "cell_type": "code",
   "execution_count": 15,
   "metadata": {},
   "outputs": [],
   "source": [
    "X_train_all.columns = X_train_all.columns.astype(str)"
   ]
  },
  {
   "cell_type": "markdown",
   "metadata": {},
   "source": [
    "Note that for reasons of time, we will not carry out feature engineering for every validation split separately. Instead, we will use the same feature engineering for all validation splits. This is not ideal, but it is a compromise that we have to make in order to keep the runtime of this notebook within reasonable limits."
   ]
  },
  {
   "cell_type": "code",
   "execution_count": 16,
   "metadata": {},
   "outputs": [
    {
     "name": "stderr",
     "output_type": "stream",
     "text": [
      "/tmp/ipykernel_2082788/3679911473.py:1: PerformanceWarning:\n",
      "\n",
      "DataFrame is highly fragmented.  This is usually the result of calling `frame.insert` many times, which has poor performance.  Consider joining all columns at once using pd.concat(axis=1) instead. To get a de-fragmented frame, use `newframe = frame.copy()`\n",
      "\n"
     ]
    }
   ],
   "source": [
    "X_train_all[\"id\"] = X_train_all.index\n",
    "X_train_melted =(\n",
    "    X_train_all\n",
    "    .melt(id_vars=\"id\", var_name=\"time\", value_name=\"value\")\n",
    "    .sort_values(by=[\"id\", \"time\"])\n",
    ")\n",
    "\n",
    "# get rid of padding to not ruin the engineered features\n",
    "# for simplicity, we drop all 0s, as only few \"true\" 0s are in the data\n",
    "X_train_melted[\"value\"] = X_train_melted[\"value\"].replace(0, np.nan)\n",
    "X_train_melted = X_train_melted.dropna()"
   ]
  },
  {
   "cell_type": "code",
   "execution_count": 17,
   "metadata": {},
   "outputs": [
    {
     "name": "stderr",
     "output_type": "stream",
     "text": [
      "Feature Extraction: 100%|██████████| 80/80 [00:40<00:00,  1.97it/s]\n"
     ]
    }
   ],
   "source": [
    "# We will follow this tutorial:\n",
    "# https://towardsdatascience.com/expanding-your-regression-repertoire-with-regularisation-903d2c9f7b28\n",
    "# but will use the ComprehensiveFCParameters instead of the EfficientFCParameters\n",
    "# for feature extraction\n",
    "X_train_augmented = extract_features(\n",
    "    X_train_melted,\n",
    "    column_id=\"id\",\n",
    "    column_sort=\"time\",\n",
    "    column_value=\"value\",\n",
    "    default_fc_parameters=EfficientFCParameters(),\n",
    ")  \n",
    "\n",
    "X_train_merged = pd.merge(\n",
    "    X_train_all, X_train_augmented, left_index=True, right_index=True\n",
    ")\n",
    "\n",
    "# assert that no rows were lost\n",
    "assert X_train_merged.shape[0] == X_train_all.shape[0]\n",
    "assert X_train_merged.index.equals(X_train_all.index)"
   ]
  },
  {
   "cell_type": "markdown",
   "metadata": {},
   "source": [
    "Impute the newly created missing values:"
   ]
  },
  {
   "cell_type": "code",
   "execution_count": 18,
   "metadata": {},
   "outputs": [
    {
     "name": "stderr",
     "output_type": "stream",
     "text": [
      "/home/janhsc/miniconda3/envs/ml4hc/lib/python3.10/site-packages/tsfresh/utilities/dataframe_functions.py:198: RuntimeWarning:\n",
      "\n",
      "The columns ['value__fft_coefficient__attr_\"real\"__coeff_94'\n",
      " 'value__fft_coefficient__attr_\"real\"__coeff_95'\n",
      " 'value__fft_coefficient__attr_\"real\"__coeff_96'\n",
      " 'value__fft_coefficient__attr_\"real\"__coeff_97'\n",
      " 'value__fft_coefficient__attr_\"real\"__coeff_98'\n",
      " 'value__fft_coefficient__attr_\"real\"__coeff_99'\n",
      " 'value__fft_coefficient__attr_\"imag\"__coeff_94'\n",
      " 'value__fft_coefficient__attr_\"imag\"__coeff_95'\n",
      " 'value__fft_coefficient__attr_\"imag\"__coeff_96'\n",
      " 'value__fft_coefficient__attr_\"imag\"__coeff_97'\n",
      " 'value__fft_coefficient__attr_\"imag\"__coeff_98'\n",
      " 'value__fft_coefficient__attr_\"imag\"__coeff_99'\n",
      " 'value__fft_coefficient__attr_\"abs\"__coeff_94'\n",
      " 'value__fft_coefficient__attr_\"abs\"__coeff_95'\n",
      " 'value__fft_coefficient__attr_\"abs\"__coeff_96'\n",
      " 'value__fft_coefficient__attr_\"abs\"__coeff_97'\n",
      " 'value__fft_coefficient__attr_\"abs\"__coeff_98'\n",
      " 'value__fft_coefficient__attr_\"abs\"__coeff_99'\n",
      " 'value__fft_coefficient__attr_\"angle\"__coeff_94'\n",
      " 'value__fft_coefficient__attr_\"angle\"__coeff_95'\n",
      " 'value__fft_coefficient__attr_\"angle\"__coeff_96'\n",
      " 'value__fft_coefficient__attr_\"angle\"__coeff_97'\n",
      " 'value__fft_coefficient__attr_\"angle\"__coeff_98'\n",
      " 'value__fft_coefficient__attr_\"angle\"__coeff_99'\n",
      " 'value__query_similarity_count__query_None__threshold_0.0'] did not have any finite values. Filling with zeros.\n",
      "\n"
     ]
    }
   ],
   "source": [
    "imputer = PerColumnImputer()\n",
    "X_train_merged = imputer.fit_transform(X_train_merged)"
   ]
  },
  {
   "cell_type": "markdown",
   "metadata": {},
   "source": [
    "Next, we create a Pipeline to standardize and one-hot encode the data. This is necessary since some of the newly created features are categorical or do not lie within the same range as the original features."
   ]
  },
  {
   "cell_type": "code",
   "execution_count": 19,
   "metadata": {},
   "outputs": [],
   "source": [
    "cat_cols = X_train_merged.loc[:, X_train_merged.nunique() < 5].columns\n",
    "numeric_cols = X_train_merged.loc[:, X_train_merged.nunique() >= 5].columns\n",
    "\n",
    "# preprocessing pipeline for numerical features\n",
    "num_trans = Pipeline(steps=[\n",
    "    (\"scaler\", StandardScaler())\n",
    "])\n",
    "\n",
    "# preprocessing pipeline for categorical features\n",
    "cat_trans = Pipeline(steps=[\n",
    "    ('encoder', OneHotEncoder(handle_unknown=\"ignore\"))\n",
    "])\n",
    "\n",
    "\n",
    "preprocessor = ColumnTransformer(transformers=[\n",
    "    (\"num\", num_trans, numeric_cols),\n",
    "    (\"cat\", cat_trans, cat_cols)\n",
    "])"
   ]
  },
  {
   "cell_type": "code",
   "execution_count": 20,
   "metadata": {},
   "outputs": [],
   "source": [
    "scaler = StandardScaler()\n",
    "\n",
    "# create objective function for optuna\n",
    "def objective_feat_eng(trial):\n",
    "\n",
    "    # see: https://towardsdatascience.com/beginners-guide-to-the-must-know-lightgbm-hyperparameters-a0005a812702\n",
    "    hyperparams = {\n",
    "        \"learning_rate\": trial.suggest_float(\"learning_rate\", 1e-3, 0.1, log=True),\n",
    "        \"max_depth\": trial.suggest_int(\"max_depth\", 5, 15),\n",
    "        \"num_leaves\": trial.suggest_int(\"num_leaves\", 10, 200),\n",
    "        \"n_estimators\": trial.suggest_int(\"n_estimators\", 100, 1000),\n",
    "        \"min_data_in_leaf\": trial.suggest_int(\"min_data_in_leaf\", 10, 100),\n",
    "        \"min_gain_to_split\": trial.suggest_float(\"min_gain_to_split\", 0, 15)\n",
    "    }\n",
    "    \n",
    "    \n",
    "    f1_scores = []\n",
    "    \n",
    "    skf = StratifiedKFold(n_splits=5, random_state=config[\"general\"][\"seed\"], shuffle=True)\n",
    "    for fold_num, (train_idx, val_idx) in enumerate(skf.split(X_train_merged, y_train_all)):\n",
    "        X_train, X_val = X_train_merged.iloc[train_idx], X_train_merged.iloc[val_idx]\n",
    "        y_train, y_val = y_train_all[train_idx], y_train_all[val_idx] \n",
    "        \n",
    "        smote = SMOTE(random_state=config[\"general\"][\"seed\"])\n",
    "        X_train, y_train = smote.fit_resample(X_train, y_train)\n",
    "        \n",
    "        X_train = preprocessor.fit_transform(X_train)\n",
    "        X_val = preprocessor.transform(X_val)       \n",
    "        \n",
    "        boost = LGBMClassifier(\n",
    "            random_state=config[\"general\"][\"seed\"],\n",
    "            verbose=-1,\n",
    "            n_jobs=-1,\n",
    "            **hyperparams\n",
    "        )\n",
    "        boost.fit(X_train, y_train)\n",
    "        \n",
    "        y_preds = boost.predict(X_val)\n",
    "        \n",
    "        score = f1_score(y_val, y_preds)\n",
    "        \n",
    "        f1_scores.append(score)\n",
    "            \n",
    "        trial.report(np.mean(f1_scores), fold_num)\n",
    "        if trial.should_prune():\n",
    "            raise optuna.TrialPruned()            \n",
    "        \n",
    "    return np.mean(score)"
   ]
  },
  {
   "cell_type": "code",
   "execution_count": 21,
   "metadata": {},
   "outputs": [
    {
     "name": "stderr",
     "output_type": "stream",
     "text": [
      "[I 2024-05-10 02:36:10,456] A new study created in memory with name: boost_feat_eng\n"
     ]
    }
   ],
   "source": [
    "# prune bad trials \n",
    "pruner = optuna.pruners.MedianPruner(n_startup_trials=20, n_warmup_steps=2)\n",
    "\n",
    "study_feat_eng = optuna.create_study(\n",
    "    direction=\"maximize\",\n",
    "    study_name=\"boost_feat_eng\",\n",
    "    sampler=optuna.samplers.TPESampler(seed=config[\"general\"][\"seed\"]),\n",
    "    pruner=pruner,\n",
    ")"
   ]
  },
  {
   "cell_type": "code",
   "execution_count": 22,
   "metadata": {},
   "outputs": [
    {
     "data": {
      "application/vnd.jupyter.widget-view+json": {
       "model_id": "b82ce024306c4c9fabf446f3155efde1",
       "version_major": 2,
       "version_minor": 0
      },
      "text/plain": [
       "  0%|          | 0/500 [00:00<?, ?it/s]"
      ]
     },
     "metadata": {},
     "output_type": "display_data"
    },
    {
     "name": "stdout",
     "output_type": "stream",
     "text": [
      "[I 2024-05-10 02:36:39,618] Trial 0 finished with value: 0.9831510493644694 and parameters: {'learning_rate': 0.005611516415334507, 'depth': 15, 'num_leaves': 149, 'n_estimators': 639, 'min_data_in_leaf': 24, 'min_gain_to_split': 2.3399178050430396}. Best is trial 0 with value: 0.9831510493644694.\n",
      "[I 2024-05-10 02:37:00,272] Trial 1 finished with value: 0.9619214997070885 and parameters: {'learning_rate': 0.0013066739238053278, 'depth': 14, 'num_leaves': 124, 'n_estimators': 737, 'min_data_in_leaf': 11, 'min_gain_to_split': 14.548647782429915}. Best is trial 0 with value: 0.9831510493644694.\n",
      "[I 2024-05-10 02:37:05,340] Trial 2 finished with value: 0.9781453041937389 and parameters: {'learning_rate': 0.04622589001020832, 'depth': 7, 'num_leaves': 44, 'n_estimators': 265, 'min_data_in_leaf': 37, 'min_gain_to_split': 7.871346474483568}. Best is trial 0 with value: 0.9831510493644694.\n",
      "[I 2024-05-10 02:37:14,643] Trial 3 finished with value: 0.96901740926527 and parameters: {'learning_rate': 0.007309539835912915, 'depth': 8, 'num_leaves': 126, 'n_estimators': 225, 'min_data_in_leaf': 36, 'min_gain_to_split': 5.495427649405375}. Best is trial 0 with value: 0.9831510493644694.\n",
      "[I 2024-05-10 02:37:43,689] Trial 4 finished with value: 0.9846062759029012 and parameters: {'learning_rate': 0.008168455894760165, 'depth': 13, 'num_leaves': 48, 'n_estimators': 563, 'min_data_in_leaf': 63, 'min_gain_to_split': 0.6967561907999659}. Best is trial 4 with value: 0.9846062759029012.\n",
      "[I 2024-05-10 02:37:53,165] Trial 5 finished with value: 0.9707013909440663 and parameters: {'learning_rate': 0.016409286730647923, 'depth': 6, 'num_leaves': 22, 'n_estimators': 954, 'min_data_in_leaf': 97, 'min_gain_to_split': 12.125960221746917}. Best is trial 4 with value: 0.9846062759029012.\n",
      "[I 2024-05-10 02:38:05,993] Trial 6 finished with value: 0.9582107121836374 and parameters: {'learning_rate': 0.0040665633135147945, 'depth': 6, 'num_leaves': 140, 'n_estimators': 496, 'min_data_in_leaf': 21, 'min_gain_to_split': 7.427653651669052}. Best is trial 4 with value: 0.9846062759029012.\n",
      "[I 2024-05-10 02:38:30,308] Trial 7 finished with value: 0.9638978573525095 and parameters: {'learning_rate': 0.001171593739230706, 'depth': 15, 'num_leaves': 59, 'n_estimators': 696, 'min_data_in_leaf': 38, 'min_gain_to_split': 7.801020317667162}. Best is trial 4 with value: 0.9846062759029012.\n",
      "[I 2024-05-10 02:38:41,217] Trial 8 finished with value: 0.9698581560283688 and parameters: {'learning_rate': 0.0123999678368461, 'depth': 7, 'num_leaves': 195, 'n_estimators': 798, 'min_data_in_leaf': 95, 'min_gain_to_split': 13.422410256414732}. Best is trial 4 with value: 0.9846062759029012.\n",
      "[I 2024-05-10 02:38:51,417] Trial 9 finished with value: 0.9801833776989056 and parameters: {'learning_rate': 0.015696396388661146, 'depth': 15, 'num_leaves': 26, 'n_estimators': 276, 'min_data_in_leaf': 14, 'min_gain_to_split': 4.8799549614489655}. Best is trial 4 with value: 0.9846062759029012.\n",
      "[I 2024-05-10 02:38:59,890] Trial 10 finished with value: 0.9884444444444445 and parameters: {'learning_rate': 0.0776735381623706, 'depth': 12, 'num_leaves': 80, 'n_estimators': 484, 'min_data_in_leaf': 70, 'min_gain_to_split': 0.5808779994177424}. Best is trial 10 with value: 0.9884444444444445.\n",
      "[I 2024-05-10 02:39:10,284] Trial 11 finished with value: 0.9908202546639029 and parameters: {'learning_rate': 0.09024477781474669, 'depth': 12, 'num_leaves': 78, 'n_estimators': 442, 'min_data_in_leaf': 72, 'min_gain_to_split': 0.1302905399500378}. Best is trial 11 with value: 0.9908202546639029.\n",
      "[I 2024-05-10 02:39:21,667] Trial 12 finished with value: 0.9902222222222222 and parameters: {'learning_rate': 0.08847826679705376, 'depth': 11, 'num_leaves': 87, 'n_estimators': 431, 'min_data_in_leaf': 72, 'min_gain_to_split': 0.06326687236422737}. Best is trial 11 with value: 0.9908202546639029.\n",
      "[I 2024-05-10 02:39:28,802] Trial 13 finished with value: 0.9834221432800474 and parameters: {'learning_rate': 0.0394706451105579, 'depth': 10, 'num_leaves': 89, 'n_estimators': 389, 'min_data_in_leaf': 80, 'min_gain_to_split': 3.1323317593028754}. Best is trial 11 with value: 0.9908202546639029.\n",
      "[I 2024-05-10 02:39:38,328] Trial 14 finished with value: 0.9902222222222222 and parameters: {'learning_rate': 0.09529347769222628, 'depth': 11, 'num_leaves': 97, 'n_estimators': 141, 'min_data_in_leaf': 83, 'min_gain_to_split': 0.04428634347374351}. Best is trial 11 with value: 0.9908202546639029.\n",
      "[I 2024-05-10 02:39:45,610] Trial 15 finished with value: 0.9822380106571936 and parameters: {'learning_rate': 0.0359743852798569, 'depth': 10, 'num_leaves': 74, 'n_estimators': 397, 'min_data_in_leaf': 52, 'min_gain_to_split': 3.3596058885702735}. Best is trial 11 with value: 0.9908202546639029.\n",
      "[I 2024-05-10 02:39:51,716] Trial 16 finished with value: 0.9757683215130024 and parameters: {'learning_rate': 0.028818386329330196, 'depth': 9, 'num_leaves': 169, 'n_estimators': 393, 'min_data_in_leaf': 53, 'min_gain_to_split': 9.76841896563449}. Best is trial 11 with value: 0.9908202546639029.\n",
      "[I 2024-05-10 02:39:59,334] Trial 17 finished with value: 0.9849067771530039 and parameters: {'learning_rate': 0.06330896226306486, 'depth': 12, 'num_leaves': 107, 'n_estimators': 595, 'min_data_in_leaf': 74, 'min_gain_to_split': 1.8715337969754635}. Best is trial 11 with value: 0.9908202546639029.\n",
      "[I 2024-05-10 02:40:09,013] Trial 18 finished with value: 0.9813884785819793 and parameters: {'learning_rate': 0.02574665519746673, 'depth': 12, 'num_leaves': 65, 'n_estimators': 877, 'min_data_in_leaf': 62, 'min_gain_to_split': 4.805044284507402}. Best is trial 11 with value: 0.9908202546639029.\n",
      "[I 2024-05-10 02:40:14,377] Trial 19 finished with value: 0.9866745632217945 and parameters: {'learning_rate': 0.05915818520774154, 'depth': 11, 'num_leaves': 112, 'n_estimators': 111, 'min_data_in_leaf': 86, 'min_gain_to_split': 1.7353271327660844}. Best is trial 11 with value: 0.9908202546639029.\n",
      "[I 2024-05-10 02:40:16,993] Trial 20 pruned. \n",
      "[I 2024-05-10 02:40:24,415] Trial 21 finished with value: 0.9911032028469751 and parameters: {'learning_rate': 0.09284808528417836, 'depth': 11, 'num_leaves': 93, 'n_estimators': 131, 'min_data_in_leaf': 86, 'min_gain_to_split': 0.20302342141735502}. Best is trial 21 with value: 0.9911032028469751.\n",
      "[I 2024-05-10 02:40:35,880] Trial 22 finished with value: 0.9899289099526066 and parameters: {'learning_rate': 0.05603553956608588, 'depth': 11, 'num_leaves': 87, 'n_estimators': 489, 'min_data_in_leaf': 89, 'min_gain_to_split': 0.21265756008264938}. Best is trial 21 with value: 0.9911032028469751.\n",
      "[I 2024-05-10 02:40:41,680] Trial 23 pruned. \n",
      "[I 2024-05-10 02:40:53,054] Trial 24 finished with value: 0.9860823215872075 and parameters: {'learning_rate': 0.022501939407350447, 'depth': 13, 'num_leaves': 47, 'n_estimators': 333, 'min_data_in_leaf': 78, 'min_gain_to_split': 1.6167375586858928}. Best is trial 21 with value: 0.9911032028469751.\n",
      "[I 2024-05-10 02:40:56,321] Trial 25 pruned. \n",
      "[I 2024-05-10 02:41:00,752] Trial 26 pruned. \n",
      "[I 2024-05-10 02:41:08,176] Trial 27 finished with value: 0.9849157054125999 and parameters: {'learning_rate': 0.09537915572931702, 'depth': 11, 'num_leaves': 115, 'n_estimators': 640, 'min_data_in_leaf': 44, 'min_gain_to_split': 1.3300505937181653}. Best is trial 21 with value: 0.9911032028469751.\n",
      "[I 2024-05-10 02:41:14,302] Trial 28 finished with value: 0.9842869848799288 and parameters: {'learning_rate': 0.05886619017724616, 'depth': 12, 'num_leaves': 141, 'n_estimators': 332, 'min_data_in_leaf': 70, 'min_gain_to_split': 2.860290469469771}. Best is trial 21 with value: 0.9911032028469751.\n",
      "[I 2024-05-10 02:41:23,489] Trial 29 finished with value: 0.9849067771530039 and parameters: {'learning_rate': 0.033949691752507144, 'depth': 14, 'num_leaves': 165, 'n_estimators': 638, 'min_data_in_leaf': 99, 'min_gain_to_split': 2.3912797764130764}. Best is trial 21 with value: 0.9911032028469751.\n",
      "[I 2024-05-10 02:41:29,699] Trial 30 pruned. \n",
      "[I 2024-05-10 02:41:37,839] Trial 31 finished with value: 0.9902395740905058 and parameters: {'learning_rate': 0.0965738257179224, 'depth': 11, 'num_leaves': 98, 'n_estimators': 123, 'min_data_in_leaf': 84, 'min_gain_to_split': 0.12009380597206289}. Best is trial 21 with value: 0.9911032028469751.\n",
      "[I 2024-05-10 02:41:47,389] Trial 32 finished with value: 0.9872668048563814 and parameters: {'learning_rate': 0.07579637810949377, 'depth': 11, 'num_leaves': 81, 'n_estimators': 110, 'min_data_in_leaf': 91, 'min_gain_to_split': 0.11827472661311919}. Best is trial 21 with value: 0.9911032028469751.\n",
      "[I 2024-05-10 02:41:55,323] Trial 33 finished with value: 0.9840236686390532 and parameters: {'learning_rate': 0.05134217762119056, 'depth': 13, 'num_leaves': 120, 'n_estimators': 304, 'min_data_in_leaf': 76, 'min_gain_to_split': 2.333492513192619}. Best is trial 21 with value: 0.9911032028469751.\n",
      "[I 2024-05-10 02:42:04,045] Trial 34 finished with value: 0.9845880260818021 and parameters: {'learning_rate': 0.07165463273927902, 'depth': 12, 'num_leaves': 97, 'n_estimators': 242, 'min_data_in_leaf': 83, 'min_gain_to_split': 1.2759592810600924}. Best is trial 21 with value: 0.9911032028469751.\n",
      "[I 2024-05-10 02:42:11,771] Trial 35 pruned. \n",
      "[I 2024-05-10 02:42:20,977] Trial 36 finished with value: 0.9866666666666667 and parameters: {'learning_rate': 0.04630577950604629, 'depth': 9, 'num_leaves': 73, 'n_estimators': 544, 'min_data_in_leaf': 83, 'min_gain_to_split': 1.0785202445704258}. Best is trial 21 with value: 0.9911032028469751.\n",
      "[I 2024-05-10 02:42:26,557] Trial 37 pruned. \n",
      "[I 2024-05-10 02:42:31,514] Trial 38 finished with value: 0.9843241644483881 and parameters: {'learning_rate': 0.09878651691053453, 'depth': 10, 'num_leaves': 41, 'n_estimators': 255, 'min_data_in_leaf': 58, 'min_gain_to_split': 2.2203087808046544}. Best is trial 21 with value: 0.9911032028469751.\n",
      "[I 2024-05-10 02:42:36,601] Trial 39 pruned. \n",
      "[I 2024-05-10 02:42:40,231] Trial 40 pruned. \n",
      "[I 2024-05-10 02:42:45,909] Trial 41 finished with value: 0.9872743415211601 and parameters: {'learning_rate': 0.08761939029899551, 'depth': 11, 'num_leaves': 87, 'n_estimators': 154, 'min_data_in_leaf': 81, 'min_gain_to_split': 0.9470304601581783}. Best is trial 21 with value: 0.9911032028469751.\n",
      "[I 2024-05-10 02:42:55,422] Trial 42 finished with value: 0.9872668048563814 and parameters: {'learning_rate': 0.07230836577318045, 'depth': 11, 'num_leaves': 98, 'n_estimators': 109, 'min_data_in_leaf': 77, 'min_gain_to_split': 0.01582149963889122}. Best is trial 21 with value: 0.9911032028469751.\n",
      "[I 2024-05-10 02:43:01,585] Trial 43 finished with value: 0.9872592592592593 and parameters: {'learning_rate': 0.09903178532895432, 'depth': 12, 'num_leaves': 83, 'n_estimators': 160, 'min_data_in_leaf': 85, 'min_gain_to_split': 0.50839329150476}. Best is trial 21 with value: 0.9911032028469751.\n",
      "[I 2024-05-10 02:43:08,555] Trial 44 finished with value: 0.9878374369623257 and parameters: {'learning_rate': 0.0657713772123605, 'depth': 11, 'num_leaves': 94, 'n_estimators': 207, 'min_data_in_leaf': 100, 'min_gain_to_split': 0.7615546991778996}. Best is trial 21 with value: 0.9911032028469751.\n",
      "[I 2024-05-10 02:43:16,031] Trial 45 pruned. \n",
      "[I 2024-05-10 02:43:18,316] Trial 46 pruned. \n",
      "[I 2024-05-10 02:43:25,675] Trial 47 finished with value: 0.9842962962962963 and parameters: {'learning_rate': 0.054622575249220776, 'depth': 13, 'num_leaves': 111, 'n_estimators': 450, 'min_data_in_leaf': 72, 'min_gain_to_split': 1.8113696705295865}. Best is trial 21 with value: 0.9911032028469751.\n",
      "[I 2024-05-10 02:43:28,709] Trial 48 pruned. \n",
      "[I 2024-05-10 02:43:38,619] Trial 49 finished with value: 0.9890240284781964 and parameters: {'learning_rate': 0.06725270131558052, 'depth': 11, 'num_leaves': 63, 'n_estimators': 850, 'min_data_in_leaf': 61, 'min_gain_to_split': 0.769465136329204}. Best is trial 21 with value: 0.9911032028469751.\n",
      "[I 2024-05-10 02:43:56,109] Trial 50 pruned. \n",
      "[I 2024-05-10 02:44:11,672] Trial 51 finished with value: 0.9916963226571768 and parameters: {'learning_rate': 0.05508548601157805, 'depth': 11, 'num_leaves': 90, 'n_estimators': 456, 'min_data_in_leaf': 89, 'min_gain_to_split': 0.059255428404915655}. Best is trial 51 with value: 0.9916963226571768.\n",
      "[I 2024-05-10 02:44:19,404] Trial 52 finished with value: 0.9884444444444445 and parameters: {'learning_rate': 0.08178598010821121, 'depth': 11, 'num_leaves': 89, 'n_estimators': 433, 'min_data_in_leaf': 87, 'min_gain_to_split': 0.6992871461943526}. Best is trial 51 with value: 0.9916963226571768.\n",
      "[I 2024-05-10 02:44:33,670] Trial 53 finished with value: 0.9908093685146754 and parameters: {'learning_rate': 0.06241763092951814, 'depth': 10, 'num_leaves': 99, 'n_estimators': 585, 'min_data_in_leaf': 81, 'min_gain_to_split': 0.07030156345315089}. Best is trial 51 with value: 0.9916963226571768.\n",
      "[I 2024-05-10 02:44:43,709] Trial 54 finished with value: 0.9899348727057431 and parameters: {'learning_rate': 0.06425414812341283, 'depth': 10, 'num_leaves': 105, 'n_estimators': 591, 'min_data_in_leaf': 81, 'min_gain_to_split': 0.4130750840006122}. Best is trial 51 with value: 0.9916963226571768.\n",
      "[I 2024-05-10 02:44:54,460] Trial 55 finished with value: 0.9866745632217945 and parameters: {'learning_rate': 0.03691230368033023, 'depth': 9, 'num_leaves': 77, 'n_estimators': 708, 'min_data_in_leaf': 95, 'min_gain_to_split': 1.1342834475293413}. Best is trial 51 with value: 0.9916963226571768.\n",
      "[I 2024-05-10 02:45:01,713] Trial 56 finished with value: 0.985198342214328 and parameters: {'learning_rate': 0.05328665711655873, 'depth': 10, 'num_leaves': 91, 'n_estimators': 498, 'min_data_in_leaf': 67, 'min_gain_to_split': 2.1321889053903114}. Best is trial 51 with value: 0.9916963226571768.\n",
      "[I 2024-05-10 02:45:05,371] Trial 57 pruned. \n",
      "[I 2024-05-10 02:45:12,300] Trial 58 finished with value: 0.9816568047337279 and parameters: {'learning_rate': 0.04874721844492328, 'depth': 11, 'num_leaves': 53, 'n_estimators': 526, 'min_data_in_leaf': 75, 'min_gain_to_split': 3.6270917596068264}. Best is trial 51 with value: 0.9916963226571768.\n",
      "[I 2024-05-10 02:45:25,001] Trial 59 finished with value: 0.9851895734597157 and parameters: {'learning_rate': 0.026018665738865965, 'depth': 13, 'num_leaves': 196, 'n_estimators': 598, 'min_data_in_leaf': 79, 'min_gain_to_split': 1.3955597331601446}. Best is trial 51 with value: 0.9916963226571768.\n",
      "[I 2024-05-10 02:45:31,587] Trial 60 finished with value: 0.9819473216928085 and parameters: {'learning_rate': 0.060907459453796046, 'depth': 9, 'num_leaves': 84, 'n_estimators': 476, 'min_data_in_leaf': 85, 'min_gain_to_split': 2.8997243624580475}. Best is trial 51 with value: 0.9916963226571768.\n",
      "[I 2024-05-10 02:45:42,067] Trial 61 finished with value: 0.9893238434163701 and parameters: {'learning_rate': 0.09794518069889797, 'depth': 11, 'num_leaves': 98, 'n_estimators': 565, 'min_data_in_leaf': 83, 'min_gain_to_split': 0.09364683929754769}. Best is trial 51 with value: 0.9916963226571768.\n",
      "[I 2024-05-10 02:45:49,720] Trial 62 finished with value: 0.9872592592592593 and parameters: {'learning_rate': 0.08232330209447332, 'depth': 11, 'num_leaves': 110, 'n_estimators': 427, 'min_data_in_leaf': 73, 'min_gain_to_split': 0.609178098496098}. Best is trial 51 with value: 0.9916963226571768.\n",
      "[I 2024-05-10 02:45:56,044] Trial 63 finished with value: 0.9849067771530039 and parameters: {'learning_rate': 0.07610828882553047, 'depth': 10, 'num_leaves': 117, 'n_estimators': 371, 'min_data_in_leaf': 92, 'min_gain_to_split': 1.5574855983679898}. Best is trial 51 with value: 0.9916963226571768.\n",
      "[I 2024-05-10 02:46:03,399] Trial 64 finished with value: 0.9884375926474949 and parameters: {'learning_rate': 0.06580055793242585, 'depth': 12, 'num_leaves': 74, 'n_estimators': 134, 'min_data_in_leaf': 88, 'min_gain_to_split': 0.41647400882223995}. Best is trial 51 with value: 0.9916963226571768.\n",
      "[I 2024-05-10 02:46:08,833] Trial 65 finished with value: 0.9869745411486086 and parameters: {'learning_rate': 0.08706626929878096, 'depth': 10, 'num_leaves': 125, 'n_estimators': 188, 'min_data_in_leaf': 80, 'min_gain_to_split': 1.251133339607704}. Best is trial 51 with value: 0.9916963226571768.\n",
      "[I 2024-05-10 02:46:22,898] Trial 66 finished with value: 0.9913972115099378 and parameters: {'learning_rate': 0.05666949597939487, 'depth': 12, 'num_leaves': 91, 'n_estimators': 469, 'min_data_in_leaf': 96, 'min_gain_to_split': 0.10110567225393063}. Best is trial 51 with value: 0.9916963226571768.\n",
      "[I 2024-05-10 02:46:34,749] Trial 67 finished with value: 0.9881516587677726 and parameters: {'learning_rate': 0.038288483165235074, 'depth': 12, 'num_leaves': 92, 'n_estimators': 469, 'min_data_in_leaf': 97, 'min_gain_to_split': 0.530689444387542}. Best is trial 51 with value: 0.9916963226571768.\n",
      "[I 2024-05-10 02:46:59,989] Trial 68 finished with value: 0.9908148148148148 and parameters: {'learning_rate': 0.05111527578721757, 'depth': 12, 'num_leaves': 69, 'n_estimators': 510, 'min_data_in_leaf': 96, 'min_gain_to_split': 0.016539949871523296}. Best is trial 51 with value: 0.9916963226571768.\n",
      "[I 2024-05-10 02:47:06,961] Trial 69 pruned. \n",
      "[I 2024-05-10 02:47:15,007] Trial 70 pruned. \n",
      "[I 2024-05-10 02:47:34,672] Trial 71 finished with value: 0.9919905072678731 and parameters: {'learning_rate': 0.05412970859229148, 'depth': 12, 'num_leaves': 69, 'n_estimators': 405, 'min_data_in_leaf': 90, 'min_gain_to_split': 0.018704163518000146}. Best is trial 71 with value: 0.9919905072678731.\n",
      "[I 2024-05-10 02:47:45,221] Trial 72 finished with value: 0.9878518518518519 and parameters: {'learning_rate': 0.051052228340077346, 'depth': 13, 'num_leaves': 73, 'n_estimators': 676, 'min_data_in_leaf': 90, 'min_gain_to_split': 0.9571873847939556}. Best is trial 71 with value: 0.9919905072678731.\n",
      "[I 2024-05-10 02:47:56,294] Trial 73 finished with value: 0.9881376037959668 and parameters: {'learning_rate': 0.04313510527118609, 'depth': 13, 'num_leaves': 59, 'n_estimators': 410, 'min_data_in_leaf': 98, 'min_gain_to_split': 0.42316668034374194}. Best is trial 71 with value: 0.9919905072678731.\n",
      "[I 2024-05-10 02:48:12,907] Trial 74 finished with value: 0.990521327014218 and parameters: {'learning_rate': 0.05756173913552651, 'depth': 12, 'num_leaves': 69, 'n_estimators': 455, 'min_data_in_leaf': 94, 'min_gain_to_split': 0.03207596504654321}. Best is trial 71 with value: 0.9919905072678731.\n",
      "[I 2024-05-10 02:48:19,089] Trial 75 pruned. \n",
      "[I 2024-05-10 02:48:34,349] Trial 76 pruned. \n",
      "[I 2024-05-10 02:48:51,422] Trial 77 finished with value: 0.988737403675163 and parameters: {'learning_rate': 0.02879591465339014, 'depth': 12, 'num_leaves': 71, 'n_estimators': 492, 'min_data_in_leaf': 93, 'min_gain_to_split': 0.389474404401849}. Best is trial 71 with value: 0.9919905072678731.\n",
      "[I 2024-05-10 02:48:54,813] Trial 78 pruned. \n",
      "[I 2024-05-10 02:49:06,331] Trial 79 finished with value: 0.9893364928909952 and parameters: {'learning_rate': 0.07209504689655201, 'depth': 12, 'num_leaves': 61, 'n_estimators': 425, 'min_data_in_leaf': 91, 'min_gain_to_split': 0.11250413393134799}. Best is trial 71 with value: 0.9919905072678731.\n",
      "[I 2024-05-10 02:49:31,622] Trial 80 pruned. \n",
      "[I 2024-05-10 02:49:40,568] Trial 81 finished with value: 0.9860823215872075 and parameters: {'learning_rate': 0.05740484490130007, 'depth': 11, 'num_leaves': 85, 'n_estimators': 516, 'min_data_in_leaf': 85, 'min_gain_to_split': 0.872577572602866}. Best is trial 71 with value: 0.9919905072678731.\n",
      "[I 2024-05-10 02:49:47,565] Trial 82 finished with value: 0.9878518518518519 and parameters: {'learning_rate': 0.06962803804152526, 'depth': 11, 'num_leaves': 101, 'n_estimators': 393, 'min_data_in_leaf': 86, 'min_gain_to_split': 1.2658689611871368}. Best is trial 71 with value: 0.9919905072678731.\n",
      "[I 2024-05-10 02:49:57,617] Trial 83 finished with value: 0.9890435297601421 and parameters: {'learning_rate': 0.0509548197619933, 'depth': 12, 'num_leaves': 94, 'n_estimators': 449, 'min_data_in_leaf': 96, 'min_gain_to_split': 0.4506761540442999}. Best is trial 71 with value: 0.9919905072678731.\n",
      "[I 2024-05-10 02:50:00,874] Trial 84 pruned. \n",
      "[I 2024-05-10 02:50:11,491] Trial 85 finished with value: 0.9866824504291211 and parameters: {'learning_rate': 0.03994591244545334, 'depth': 11, 'num_leaves': 82, 'n_estimators': 545, 'min_data_in_leaf': 83, 'min_gain_to_split': 0.7929569267774254}. Best is trial 71 with value: 0.9919905072678731.\n",
      "[I 2024-05-10 02:50:17,273] Trial 86 pruned. \n",
      "[I 2024-05-10 02:50:29,246] Trial 87 finished with value: 0.989635771394729 and parameters: {'learning_rate': 0.04745623328342245, 'depth': 11, 'num_leaves': 109, 'n_estimators': 473, 'min_data_in_leaf': 100, 'min_gain_to_split': 0.3047869822785107}. Best is trial 71 with value: 0.9919905072678731.\n",
      "[I 2024-05-10 02:50:47,797] Trial 88 finished with value: 0.9919952564482657 and parameters: {'learning_rate': 0.07866533375665959, 'depth': 10, 'num_leaves': 78, 'n_estimators': 298, 'min_data_in_leaf': 83, 'min_gain_to_split': 0.001832423368990005}. Best is trial 88 with value: 0.9919952564482657.\n",
      "[I 2024-05-10 02:51:02,627] Trial 89 finished with value: 0.9919952564482657 and parameters: {'learning_rate': 0.07519384961252487, 'depth': 10, 'num_leaves': 57, 'n_estimators': 280, 'min_data_in_leaf': 81, 'min_gain_to_split': 0.010946113310116624}. Best is trial 88 with value: 0.9919952564482657.\n",
      "[I 2024-05-10 02:51:09,810] Trial 90 finished with value: 0.9878590464909683 and parameters: {'learning_rate': 0.07164650513075052, 'depth': 10, 'num_leaves': 55, 'n_estimators': 302, 'min_data_in_leaf': 82, 'min_gain_to_split': 0.7780901032981694}. Best is trial 88 with value: 0.9919952564482657.\n",
      "[I 2024-05-10 02:51:26,867] Trial 91 finished with value: 0.9911032028469751 and parameters: {'learning_rate': 0.05602353408645503, 'depth': 10, 'num_leaves': 76, 'n_estimators': 379, 'min_data_in_leaf': 77, 'min_gain_to_split': 0.031557094837324814}. Best is trial 88 with value: 0.9919952564482657.\n",
      "[I 2024-05-10 02:51:32,876] Trial 92 finished with value: 0.9863582443653618 and parameters: {'learning_rate': 0.07641979378523156, 'depth': 9, 'num_leaves': 30, 'n_estimators': 264, 'min_data_in_leaf': 77, 'min_gain_to_split': 1.122613436673323}. Best is trial 88 with value: 0.9919952564482657.\n",
      "[I 2024-05-10 02:51:41,332] Trial 93 finished with value: 0.9893238434163701 and parameters: {'learning_rate': 0.06326026866882087, 'depth': 10, 'num_leaves': 76, 'n_estimators': 358, 'min_data_in_leaf': 78, 'min_gain_to_split': 0.5680423198162056}. Best is trial 88 with value: 0.9919952564482657.\n",
      "[I 2024-05-10 02:51:53,694] Trial 94 finished with value: 0.9913921044820422 and parameters: {'learning_rate': 0.08955869754949608, 'depth': 10, 'num_leaves': 79, 'n_estimators': 235, 'min_data_in_leaf': 87, 'min_gain_to_split': 0.015940268230346652}. Best is trial 88 with value: 0.9919952564482657.\n",
      "[I 2024-05-10 02:52:01,059] Trial 95 finished with value: 0.988737403675163 and parameters: {'learning_rate': 0.0882161680700388, 'depth': 9, 'num_leaves': 47, 'n_estimators': 317, 'min_data_in_leaf': 86, 'min_gain_to_split': 0.37423295107651117}. Best is trial 88 with value: 0.9919952564482657.\n",
      "[I 2024-05-10 02:52:07,140] Trial 96 finished with value: 0.9860658167803142 and parameters: {'learning_rate': 0.07939784839600318, 'depth': 10, 'num_leaves': 80, 'n_estimators': 232, 'min_data_in_leaf': 71, 'min_gain_to_split': 1.072389085226419}. Best is trial 88 with value: 0.9919952564482657.\n",
      "[I 2024-05-10 02:52:09,873] Trial 97 pruned. \n",
      "[I 2024-05-10 02:52:14,182] Trial 98 pruned. \n",
      "[I 2024-05-10 02:52:21,604] Trial 99 finished with value: 0.9884581237052382 and parameters: {'learning_rate': 0.07832684518504675, 'depth': 10, 'num_leaves': 85, 'n_estimators': 385, 'min_data_in_leaf': 80, 'min_gain_to_split': 0.5882721882448438}. Best is trial 88 with value: 0.9919952564482657.\n",
      "[I 2024-05-10 02:52:31,561] Trial 100 pruned. \n",
      "[I 2024-05-10 02:52:42,753] Trial 101 finished with value: 0.9899348727057431 and parameters: {'learning_rate': 0.06698306895087408, 'depth': 10, 'num_leaves': 91, 'n_estimators': 405, 'min_data_in_leaf': 81, 'min_gain_to_split': 0.1162685188502378}. Best is trial 88 with value: 0.9919952564482657.\n",
      "[I 2024-05-10 02:52:52,886] Trial 102 finished with value: 0.9899289099526066 and parameters: {'learning_rate': 0.05620838183927488, 'depth': 10, 'num_leaves': 87, 'n_estimators': 225, 'min_data_in_leaf': 84, 'min_gain_to_split': 0.24663457341705552}. Best is trial 88 with value: 0.9919952564482657.\n",
      "[I 2024-05-10 02:52:57,889] Trial 103 pruned. \n",
      "[I 2024-05-10 02:53:07,475] Trial 104 finished with value: 0.9890435297601421 and parameters: {'learning_rate': 0.07259301502568431, 'depth': 11, 'num_leaves': 78, 'n_estimators': 429, 'min_data_in_leaf': 69, 'min_gain_to_split': 0.2926095921578911}. Best is trial 88 with value: 0.9919952564482657.\n",
      "[I 2024-05-10 02:53:26,034] Trial 105 finished with value: 0.9902222222222222 and parameters: {'learning_rate': 0.04807882444482825, 'depth': 11, 'num_leaves': 165, 'n_estimators': 241, 'min_data_in_leaf': 87, 'min_gain_to_split': 0.013549272167229632}. Best is trial 88 with value: 0.9919952564482657.\n",
      "[I 2024-05-10 02:53:33,379] Trial 106 finished with value: 0.9881726788882318 and parameters: {'learning_rate': 0.06149555737146642, 'depth': 8, 'num_leaves': 100, 'n_estimators': 203, 'min_data_in_leaf': 76, 'min_gain_to_split': 0.6255871919542302}. Best is trial 88 with value: 0.9919952564482657.\n",
      "[I 2024-05-10 02:53:36,229] Trial 107 pruned. \n",
      "[I 2024-05-10 02:53:47,878] Trial 108 finished with value: 0.9869513641755635 and parameters: {'learning_rate': 0.04141064598882284, 'depth': 10, 'num_leaves': 189, 'n_estimators': 378, 'min_data_in_leaf': 79, 'min_gain_to_split': 1.00770312993132}. Best is trial 88 with value: 0.9919952564482657.\n",
      "[I 2024-05-10 02:53:56,909] Trial 109 pruned. \n",
      "[I 2024-05-10 02:54:00,046] Trial 110 pruned. \n",
      "[I 2024-05-10 02:54:23,307] Trial 111 finished with value: 0.9908148148148148 and parameters: {'learning_rate': 0.0342898019304408, 'depth': 13, 'num_leaves': 71, 'n_estimators': 458, 'min_data_in_leaf': 91, 'min_gain_to_split': 0.0569555060854699}. Best is trial 88 with value: 0.9919952564482657.\n",
      "[I 2024-05-10 02:54:38,946] Trial 112 finished with value: 0.9887573964497042 and parameters: {'learning_rate': 0.03588745022013523, 'depth': 14, 'num_leaves': 72, 'n_estimators': 417, 'min_data_in_leaf': 34, 'min_gain_to_split': 0.34382620217191895}. Best is trial 88 with value: 0.9919952564482657.\n",
      "[I 2024-05-10 02:55:00,903] Trial 113 finished with value: 0.9916963226571768 and parameters: {'learning_rate': 0.05104334609733541, 'depth': 13, 'num_leaves': 76, 'n_estimators': 439, 'min_data_in_leaf': 91, 'min_gain_to_split': 0.012495774659817709}. Best is trial 88 with value: 0.9919952564482657.\n",
      "[I 2024-05-10 02:55:10,186] Trial 114 finished with value: 0.9884444444444445 and parameters: {'learning_rate': 0.05364783728349421, 'depth': 13, 'num_leaves': 75, 'n_estimators': 443, 'min_data_in_leaf': 91, 'min_gain_to_split': 0.7024948456399029}. Best is trial 88 with value: 0.9919952564482657.\n",
      "[I 2024-05-10 02:55:39,812] Trial 115 finished with value: 0.9922848664688427 and parameters: {'learning_rate': 0.04526855693521082, 'depth': 13, 'num_leaves': 65, 'n_estimators': 481, 'min_data_in_leaf': 96, 'min_gain_to_split': 0.0026673896632763705}. Best is trial 115 with value: 0.9922848664688427.\n",
      "[I 2024-05-10 02:55:50,510] Trial 116 finished with value: 0.9878518518518519 and parameters: {'learning_rate': 0.04577090620476647, 'depth': 13, 'num_leaves': 58, 'n_estimators': 514, 'min_data_in_leaf': 96, 'min_gain_to_split': 0.6389220649465891}. Best is trial 115 with value: 0.9922848664688427.\n",
      "[I 2024-05-10 02:55:56,110] Trial 117 pruned. \n",
      "[I 2024-05-10 02:56:08,333] Trial 118 finished with value: 0.988737403675163 and parameters: {'learning_rate': 0.05931420156578257, 'depth': 14, 'num_leaves': 64, 'n_estimators': 476, 'min_data_in_leaf': 88, 'min_gain_to_split': 0.3637847892256526}. Best is trial 115 with value: 0.9922848664688427.\n",
      "[I 2024-05-10 02:56:15,424] Trial 119 pruned. \n",
      "[I 2024-05-10 02:56:23,570] Trial 120 finished with value: 0.9884581237052382 and parameters: {'learning_rate': 0.07156030986491477, 'depth': 15, 'num_leaves': 78, 'n_estimators': 252, 'min_data_in_leaf': 96, 'min_gain_to_split': 0.4192062271543757}. Best is trial 115 with value: 0.9922848664688427.\n",
      "[I 2024-05-10 02:56:48,421] Trial 121 finished with value: 0.9919952564482657 and parameters: {'learning_rate': 0.04276926530413008, 'depth': 13, 'num_leaves': 69, 'n_estimators': 456, 'min_data_in_leaf': 91, 'min_gain_to_split': 0.013988542269161722}. Best is trial 115 with value: 0.9922848664688427.\n",
      "[I 2024-05-10 02:57:13,830] Trial 122 finished with value: 0.991701244813278 and parameters: {'learning_rate': 0.03836227628117006, 'depth': 13, 'num_leaves': 68, 'n_estimators': 407, 'min_data_in_leaf': 86, 'min_gain_to_split': 0.022173649543002237}. Best is trial 115 with value: 0.9922848664688427.\n",
      "[I 2024-05-10 02:57:27,851] Trial 123 finished with value: 0.9875592417061612 and parameters: {'learning_rate': 0.02899983655953705, 'depth': 14, 'num_leaves': 66, 'n_estimators': 443, 'min_data_in_leaf': 85, 'min_gain_to_split': 0.6574281998450706}. Best is trial 115 with value: 0.9922848664688427.\n",
      "[I 2024-05-10 02:57:41,071] Trial 124 finished with value: 0.989922940130409 and parameters: {'learning_rate': 0.04021663800035384, 'depth': 13, 'num_leaves': 74, 'n_estimators': 408, 'min_data_in_leaf': 89, 'min_gain_to_split': 0.3154052055517379}. Best is trial 115 with value: 0.9922848664688427.\n",
      "[I 2024-05-10 02:57:49,503] Trial 125 finished with value: 0.9857904085257548 and parameters: {'learning_rate': 0.04452328172041328, 'depth': 14, 'num_leaves': 89, 'n_estimators': 316, 'min_data_in_leaf': 87, 'min_gain_to_split': 1.0723161060248738}. Best is trial 115 with value: 0.9922848664688427.\n",
      "[I 2024-05-10 02:58:02,695] Trial 126 finished with value: 0.9919905072678731 and parameters: {'learning_rate': 0.08181696302561363, 'depth': 13, 'num_leaves': 62, 'n_estimators': 433, 'min_data_in_leaf': 84, 'min_gain_to_split': 0.031585819184459865}. Best is trial 115 with value: 0.9922848664688427.\n",
      "[I 2024-05-10 02:58:14,155] Trial 127 finished with value: 0.9875518672199171 and parameters: {'learning_rate': 0.03740309319604934, 'depth': 13, 'num_leaves': 56, 'n_estimators': 422, 'min_data_in_leaf': 83, 'min_gain_to_split': 0.7138839841163472}. Best is trial 115 with value: 0.9922848664688427.\n",
      "[I 2024-05-10 02:58:31,450] Trial 128 finished with value: 0.9914023124814705 and parameters: {'learning_rate': 0.055504703414085796, 'depth': 13, 'num_leaves': 61, 'n_estimators': 364, 'min_data_in_leaf': 85, 'min_gain_to_split': 0.02331674880495034}. Best is trial 115 with value: 0.9922848664688427.\n",
      "[I 2024-05-10 02:58:39,654] Trial 129 finished with value: 0.9884512881255553 and parameters: {'learning_rate': 0.07689535697248112, 'depth': 13, 'num_leaves': 62, 'n_estimators': 354, 'min_data_in_leaf': 92, 'min_gain_to_split': 0.3788266678956111}. Best is trial 115 with value: 0.9922848664688427.\n",
      "[I 2024-05-10 02:58:48,454] Trial 130 finished with value: 0.9872517047139046 and parameters: {'learning_rate': 0.06309578784608873, 'depth': 13, 'num_leaves': 44, 'n_estimators': 404, 'min_data_in_leaf': 86, 'min_gain_to_split': 0.9629026985123625}. Best is trial 115 with value: 0.9922848664688427.\n",
      "[I 2024-05-10 02:59:03,060] Trial 131 finished with value: 0.991108476585655 and parameters: {'learning_rate': 0.05806563668488669, 'depth': 13, 'num_leaves': 69, 'n_estimators': 377, 'min_data_in_leaf': 84, 'min_gain_to_split': 0.06168784626297831}. Best is trial 115 with value: 0.9922848664688427.\n",
      "[I 2024-05-10 02:59:15,795] Trial 132 finished with value: 0.988737403675163 and parameters: {'learning_rate': 0.047271003863477205, 'depth': 13, 'num_leaves': 51, 'n_estimators': 442, 'min_data_in_leaf': 89, 'min_gain_to_split': 0.2491940777161272}. Best is trial 115 with value: 0.9922848664688427.\n",
      "[I 2024-05-10 02:59:34,781] Trial 133 finished with value: 0.991701244813278 and parameters: {'learning_rate': 0.0553179834051962, 'depth': 14, 'num_leaves': 61, 'n_estimators': 373, 'min_data_in_leaf': 84, 'min_gain_to_split': 0.019968056223316887}. Best is trial 115 with value: 0.9922848664688427.\n",
      "[I 2024-05-10 02:59:54,055] Trial 134 finished with value: 0.9911137440758294 and parameters: {'learning_rate': 0.05322612864285593, 'depth': 14, 'num_leaves': 60, 'n_estimators': 371, 'min_data_in_leaf': 84, 'min_gain_to_split': 0.04060969940179039}. Best is trial 115 with value: 0.9922848664688427.\n",
      "[I 2024-05-10 03:00:04,383] Trial 135 finished with value: 0.9884512881255553 and parameters: {'learning_rate': 0.04183113941969684, 'depth': 14, 'num_leaves': 60, 'n_estimators': 329, 'min_data_in_leaf': 94, 'min_gain_to_split': 0.5786734044425341}. Best is trial 115 with value: 0.9922848664688427.\n",
      "[I 2024-05-10 03:00:23,383] Trial 136 finished with value: 0.9908148148148148 and parameters: {'learning_rate': 0.050176427017904854, 'depth': 14, 'num_leaves': 55, 'n_estimators': 365, 'min_data_in_leaf': 85, 'min_gain_to_split': 0.01839428246416106}. Best is trial 115 with value: 0.9922848664688427.\n",
      "[I 2024-05-10 03:00:26,410] Trial 137 pruned. \n",
      "[I 2024-05-10 03:00:30,289] Trial 138 pruned. \n",
      "[I 2024-05-10 03:00:39,160] Trial 139 finished with value: 0.98814463544754 and parameters: {'learning_rate': 0.06720960986751214, 'depth': 14, 'num_leaves': 64, 'n_estimators': 390, 'min_data_in_leaf': 87, 'min_gain_to_split': 0.5621119104731896}. Best is trial 115 with value: 0.9922848664688427.\n",
      "[I 2024-05-10 03:00:44,377] Trial 140 pruned. \n",
      "[I 2024-05-10 03:00:54,693] Trial 141 finished with value: 0.9884444444444445 and parameters: {'learning_rate': 0.059264991673994634, 'depth': 13, 'num_leaves': 69, 'n_estimators': 375, 'min_data_in_leaf': 84, 'min_gain_to_split': 0.3098222338120049}. Best is trial 115 with value: 0.9922848664688427.\n",
      "[I 2024-05-10 03:01:11,430] Trial 142 finished with value: 0.990521327014218 and parameters: {'learning_rate': 0.05364492194415218, 'depth': 13, 'num_leaves': 66, 'n_estimators': 413, 'min_data_in_leaf': 80, 'min_gain_to_split': 0.05685026353323325}. Best is trial 115 with value: 0.9922848664688427.\n",
      "[I 2024-05-10 03:01:19,761] Trial 143 finished with value: 0.9872668048563814 and parameters: {'learning_rate': 0.059528902815490024, 'depth': 14, 'num_leaves': 69, 'n_estimators': 359, 'min_data_in_leaf': 84, 'min_gain_to_split': 0.8324561085097947}. Best is trial 115 with value: 0.9922848664688427.\n",
      "[I 2024-05-10 03:01:38,924] Trial 144 finished with value: 0.9908148148148148 and parameters: {'learning_rate': 0.04798629628180883, 'depth': 13, 'num_leaves': 59, 'n_estimators': 485, 'min_data_in_leaf': 86, 'min_gain_to_split': 0.03325173300756066}. Best is trial 115 with value: 0.9922848664688427.\n",
      "[I 2024-05-10 03:01:55,015] Trial 145 finished with value: 0.9890240284781964 and parameters: {'learning_rate': 0.03811733310253692, 'depth': 14, 'num_leaves': 51, 'n_estimators': 401, 'min_data_in_leaf': 93, 'min_gain_to_split': 0.4490871129566459}. Best is trial 115 with value: 0.9922848664688427.\n",
      "[I 2024-05-10 03:02:15,459] Trial 146 finished with value: 0.9908148148148148 and parameters: {'learning_rate': 0.06858646007137413, 'depth': 13, 'num_leaves': 73, 'n_estimators': 458, 'min_data_in_leaf': 90, 'min_gain_to_split': 0.004390561704278298}. Best is trial 115 with value: 0.9922848664688427.\n",
      "[I 2024-05-10 03:02:22,591] Trial 147 finished with value: 0.9878446486806997 and parameters: {'learning_rate': 0.07994855577858874, 'depth': 15, 'num_leaves': 80, 'n_estimators': 330, 'min_data_in_leaf': 88, 'min_gain_to_split': 0.7539923270606116}. Best is trial 115 with value: 0.9922848664688427.\n",
      "[I 2024-05-10 03:02:32,839] Trial 148 finished with value: 0.9899348727057431 and parameters: {'learning_rate': 0.057668149543565514, 'depth': 13, 'num_leaves': 62, 'n_estimators': 434, 'min_data_in_leaf': 82, 'min_gain_to_split': 0.36663084076859515}. Best is trial 115 with value: 0.9922848664688427.\n",
      "[I 2024-05-10 03:02:40,260] Trial 149 pruned. \n",
      "[I 2024-05-10 03:02:50,595] Trial 150 finished with value: 0.9884581237052382 and parameters: {'learning_rate': 0.04464604262996553, 'depth': 15, 'num_leaves': 65, 'n_estimators': 287, 'min_data_in_leaf': 79, 'min_gain_to_split': 0.5764405106973681}. Best is trial 115 with value: 0.9922848664688427.\n",
      "[I 2024-05-10 03:02:58,476] Trial 151 finished with value: 0.9902164245478803 and parameters: {'learning_rate': 0.0829475289148425, 'depth': 6, 'num_leaves': 82, 'n_estimators': 419, 'min_data_in_leaf': 86, 'min_gain_to_split': 0.2922763481685622}. Best is trial 115 with value: 0.9922848664688427.\n",
      "[I 2024-05-10 03:03:06,744] Trial 152 finished with value: 0.9893428063943162 and parameters: {'learning_rate': 0.08651619796643632, 'depth': 12, 'num_leaves': 76, 'n_estimators': 344, 'min_data_in_leaf': 89, 'min_gain_to_split': 0.2954551663186486}. Best is trial 115 with value: 0.9922848664688427.\n",
      "[I 2024-05-10 03:03:13,798] Trial 153 finished with value: 0.9866745632217945 and parameters: {'learning_rate': 0.07218946310897562, 'depth': 13, 'num_leaves': 92, 'n_estimators': 311, 'min_data_in_leaf': 92, 'min_gain_to_split': 0.8355420407747216}. Best is trial 115 with value: 0.9922848664688427.\n",
      "[I 2024-05-10 03:03:34,399] Trial 154 finished with value: 0.990521327014218 and parameters: {'learning_rate': 0.05420671206563029, 'depth': 12, 'num_leaves': 57, 'n_estimators': 368, 'min_data_in_leaf': 49, 'min_gain_to_split': 0.00819224329423172}. Best is trial 115 with value: 0.9922848664688427.\n",
      "[I 2024-05-10 03:03:36,611] Trial 155 pruned. \n",
      "[I 2024-05-10 03:03:45,410] Trial 156 pruned. \n",
      "[I 2024-05-10 03:04:09,755] Trial 157 finished with value: 0.9922894424673784 and parameters: {'learning_rate': 0.050296527025835536, 'depth': 14, 'num_leaves': 70, 'n_estimators': 399, 'min_data_in_leaf': 81, 'min_gain_to_split': 0.00815226286587054}. Best is trial 157 with value: 0.9922894424673784.\n",
      "[I 2024-05-10 03:04:31,420] Trial 158 finished with value: 0.9878518518518519 and parameters: {'learning_rate': 0.018158074273061733, 'depth': 14, 'num_leaves': 69, 'n_estimators': 396, 'min_data_in_leaf': 81, 'min_gain_to_split': 0.3669743852040742}. Best is trial 157 with value: 0.9922894424673784.\n",
      "[I 2024-05-10 03:04:38,008] Trial 159 pruned. \n",
      "[I 2024-05-10 03:04:41,404] Trial 160 pruned. \n",
      "[I 2024-05-10 03:04:51,915] Trial 161 finished with value: 0.9893428063943162 and parameters: {'learning_rate': 0.06648677013666747, 'depth': 13, 'num_leaves': 79, 'n_estimators': 477, 'min_data_in_leaf': 81, 'min_gain_to_split': 0.250648482496026}. Best is trial 157 with value: 0.9922894424673784.\n",
      "[I 2024-05-10 03:05:03,156] Trial 162 finished with value: 0.9908093685146754 and parameters: {'learning_rate': 0.08887463179944388, 'depth': 14, 'num_leaves': 75, 'n_estimators': 216, 'min_data_in_leaf': 90, 'min_gain_to_split': 0.04122099261561141}. Best is trial 157 with value: 0.9922894424673784.\n",
      "[I 2024-05-10 03:05:12,602] Trial 163 finished with value: 0.9884375926474949 and parameters: {'learning_rate': 0.057050196978086984, 'depth': 13, 'num_leaves': 65, 'n_estimators': 499, 'min_data_in_leaf': 84, 'min_gain_to_split': 0.6285045768805071}. Best is trial 157 with value: 0.9922894424673784.\n",
      "[I 2024-05-10 03:05:36,672] Trial 164 finished with value: 0.9916963226571768 and parameters: {'learning_rate': 0.047105106737309776, 'depth': 13, 'num_leaves': 72, 'n_estimators': 395, 'min_data_in_leaf': 79, 'min_gain_to_split': 0.009638582333821723}. Best is trial 157 with value: 0.9922894424673784.\n",
      "[I 2024-05-10 03:05:57,878] Trial 165 finished with value: 0.990515708358032 and parameters: {'learning_rate': 0.04742960553229334, 'depth': 13, 'num_leaves': 71, 'n_estimators': 388, 'min_data_in_leaf': 78, 'min_gain_to_split': 0.03265399017544907}. Best is trial 157 with value: 0.9922894424673784.\n",
      "[I 2024-05-10 03:06:07,315] Trial 166 finished with value: 0.9872592592592593 and parameters: {'learning_rate': 0.042279926297724015, 'depth': 13, 'num_leaves': 59, 'n_estimators': 403, 'min_data_in_leaf': 80, 'min_gain_to_split': 0.9279077789171739}. Best is trial 157 with value: 0.9922894424673784.\n",
      "[I 2024-05-10 03:06:20,799] Trial 167 finished with value: 0.9884375926474949 and parameters: {'learning_rate': 0.034054334938497306, 'depth': 14, 'num_leaves': 67, 'n_estimators': 434, 'min_data_in_leaf': 87, 'min_gain_to_split': 0.45046189915174456}. Best is trial 157 with value: 0.9922894424673784.\n",
      "[I 2024-05-10 03:06:29,752] Trial 168 finished with value: 0.98814463544754 and parameters: {'learning_rate': 0.049381892110601684, 'depth': 13, 'num_leaves': 84, 'n_estimators': 349, 'min_data_in_leaf': 82, 'min_gain_to_split': 0.7247615496861494}. Best is trial 157 with value: 0.9922894424673784.\n",
      "[I 2024-05-10 03:06:58,385] Trial 169 finished with value: 0.991108476585655 and parameters: {'learning_rate': 0.052488376348493695, 'depth': 13, 'num_leaves': 73, 'n_estimators': 379, 'min_data_in_leaf': 21, 'min_gain_to_split': 0.003542357667681014}. Best is trial 157 with value: 0.9922894424673784.\n",
      "[I 2024-05-10 03:07:08,245] Trial 170 finished with value: 0.9899348727057431 and parameters: {'learning_rate': 0.062019753612630533, 'depth': 14, 'num_leaves': 63, 'n_estimators': 264, 'min_data_in_leaf': 85, 'min_gain_to_split': 0.2643347725024871}. Best is trial 157 with value: 0.9922894424673784.\n",
      "[I 2024-05-10 03:07:27,591] Trial 171 finished with value: 0.989037037037037 and parameters: {'learning_rate': 0.05312570478611039, 'depth': 13, 'num_leaves': 72, 'n_estimators': 375, 'min_data_in_leaf': 23, 'min_gain_to_split': 0.023226726068721865}. Best is trial 157 with value: 0.9922894424673784.\n",
      "[I 2024-05-10 03:07:40,227] Trial 172 finished with value: 0.9902164245478803 and parameters: {'learning_rate': 0.044539292258008074, 'depth': 13, 'num_leaves': 77, 'n_estimators': 418, 'min_data_in_leaf': 58, 'min_gain_to_split': 0.3407484771293201}. Best is trial 157 with value: 0.9922894424673784.\n",
      "[I 2024-05-10 03:08:09,330] Trial 173 finished with value: 0.9914023124814705 and parameters: {'learning_rate': 0.055928149085171776, 'depth': 13, 'num_leaves': 67, 'n_estimators': 362, 'min_data_in_leaf': 88, 'min_gain_to_split': 0.0004980400801943272}. Best is trial 157 with value: 0.9922894424673784.\n",
      "[I 2024-05-10 03:08:18,100] Trial 174 finished with value: 0.9878518518518519 and parameters: {'learning_rate': 0.05845892694116678, 'depth': 13, 'num_leaves': 66, 'n_estimators': 356, 'min_data_in_leaf': 88, 'min_gain_to_split': 0.5603223320812888}. Best is trial 157 with value: 0.9922894424673784.\n",
      "[I 2024-05-10 03:08:29,824] Trial 175 pruned. \n",
      "[I 2024-05-10 03:08:39,092] Trial 176 finished with value: 0.9875666074600356 and parameters: {'learning_rate': 0.046378267366996774, 'depth': 12, 'num_leaves': 60, 'n_estimators': 443, 'min_data_in_leaf': 95, 'min_gain_to_split': 0.8089293441723071}. Best is trial 157 with value: 0.9922894424673784.\n",
      "[I 2024-05-10 03:09:02,751] Trial 177 finished with value: 0.992 and parameters: {'learning_rate': 0.0635043450862855, 'depth': 13, 'num_leaves': 70, 'n_estimators': 413, 'min_data_in_leaf': 83, 'min_gain_to_split': 0.0038308897168743868}. Best is trial 157 with value: 0.9922894424673784.\n",
      "[I 2024-05-10 03:09:09,979] Trial 178 pruned. \n",
      "[I 2024-05-10 03:09:30,915] Trial 179 finished with value: 0.9925838030258084 and parameters: {'learning_rate': 0.06299163021038331, 'depth': 13, 'num_leaves': 64, 'n_estimators': 405, 'min_data_in_leaf': 83, 'min_gain_to_split': 0.0042070053735717775}. Best is trial 179 with value: 0.9925838030258084.\n",
      "[I 2024-05-10 03:09:38,401] Trial 180 pruned. \n",
      "[I 2024-05-10 03:10:08,666] Trial 181 finished with value: 0.9925882004150608 and parameters: {'learning_rate': 0.053107744614806406, 'depth': 13, 'num_leaves': 62, 'n_estimators': 429, 'min_data_in_leaf': 83, 'min_gain_to_split': 0.00045644946803623937}. Best is trial 181 with value: 0.9925882004150608.\n",
      "[I 2024-05-10 03:10:18,128] Trial 182 finished with value: 0.988737403675163 and parameters: {'learning_rate': 0.0747522056053169, 'depth': 13, 'num_leaves': 65, 'n_estimators': 421, 'min_data_in_leaf': 82, 'min_gain_to_split': 0.28576108763636954}. Best is trial 181 with value: 0.9925882004150608.\n",
      "[I 2024-05-10 03:10:28,515] Trial 183 finished with value: 0.9896234805810851 and parameters: {'learning_rate': 0.06741709760800708, 'depth': 13, 'num_leaves': 75, 'n_estimators': 438, 'min_data_in_leaf': 86, 'min_gain_to_split': 0.29156960856994196}. Best is trial 181 with value: 0.9925882004150608.\n",
      "[I 2024-05-10 03:10:38,179] Trial 184 finished with value: 0.98903053661429 and parameters: {'learning_rate': 0.05087269932651511, 'depth': 13, 'num_leaves': 63, 'n_estimators': 406, 'min_data_in_leaf': 83, 'min_gain_to_split': 0.6061795110185771}. Best is trial 181 with value: 0.9925882004150608.\n",
      "[I 2024-05-10 03:10:54,406] Trial 185 pruned. \n",
      "[I 2024-05-10 03:11:12,511] Trial 186 finished with value: 0.9925925925925926 and parameters: {'learning_rate': 0.06282751136793614, 'depth': 10, 'num_leaves': 57, 'n_estimators': 434, 'min_data_in_leaf': 80, 'min_gain_to_split': 0.00647607308031636}. Best is trial 186 with value: 0.9925925925925926.\n",
      "[I 2024-05-10 03:11:20,971] Trial 187 finished with value: 0.9875666074600356 and parameters: {'learning_rate': 0.06107600081248589, 'depth': 12, 'num_leaves': 47, 'n_estimators': 433, 'min_data_in_leaf': 80, 'min_gain_to_split': 0.6486200455362777}. Best is trial 186 with value: 0.9925925925925926.\n",
      "[I 2024-05-10 03:11:44,188] Trial 188 finished with value: 0.9925925925925926 and parameters: {'learning_rate': 0.05608506278733272, 'depth': 13, 'num_leaves': 52, 'n_estimators': 478, 'min_data_in_leaf': 78, 'min_gain_to_split': 0.0032277044910613423}. Best is trial 186 with value: 0.9925925925925926.\n",
      "[I 2024-05-10 03:11:57,340] Trial 189 finished with value: 0.9893364928909952 and parameters: {'learning_rate': 0.041497961397511836, 'depth': 13, 'num_leaves': 42, 'n_estimators': 493, 'min_data_in_leaf': 77, 'min_gain_to_split': 0.4056459007226648}. Best is trial 186 with value: 0.9925925925925926.\n",
      "[I 2024-05-10 03:12:10,218] Trial 190 finished with value: 0.9878446486806997 and parameters: {'learning_rate': 0.047856178126414316, 'depth': 13, 'num_leaves': 11, 'n_estimators': 532, 'min_data_in_leaf': 79, 'min_gain_to_split': 0.011493216548534768}. Best is trial 186 with value: 0.9925925925925926.\n",
      "[I 2024-05-10 03:12:21,286] Trial 191 finished with value: 0.9893554109994086 and parameters: {'learning_rate': 0.05640480709701067, 'depth': 13, 'num_leaves': 54, 'n_estimators': 464, 'min_data_in_leaf': 74, 'min_gain_to_split': 0.30025723379936375}. Best is trial 186 with value: 0.9925925925925926.\n",
      "[I 2024-05-10 03:12:40,519] Trial 192 finished with value: 0.9914124962984898 and parameters: {'learning_rate': 0.05471354808815741, 'depth': 13, 'num_leaves': 59, 'n_estimators': 477, 'min_data_in_leaf': 81, 'min_gain_to_split': 0.01653714021051489}. Best is trial 186 with value: 0.9925925925925926.\n",
      "[I 2024-05-10 03:12:58,218] Trial 193 finished with value: 0.9899289099526066 and parameters: {'learning_rate': 0.06448607978083204, 'depth': 13, 'num_leaves': 49, 'n_estimators': 393, 'min_data_in_leaf': 82, 'min_gain_to_split': 0.007275776420397478}. Best is trial 186 with value: 0.9925925925925926.\n",
      "[I 2024-05-10 03:13:08,008] Trial 194 finished with value: 0.9872668048563814 and parameters: {'learning_rate': 0.05306422265627626, 'depth': 13, 'num_leaves': 58, 'n_estimators': 420, 'min_data_in_leaf': 78, 'min_gain_to_split': 0.5949893268536526}. Best is trial 186 with value: 0.9925925925925926.\n",
      "[I 2024-05-10 03:13:20,390] Trial 195 finished with value: 0.989330171902786 and parameters: {'learning_rate': 0.04477089638854185, 'depth': 13, 'num_leaves': 54, 'n_estimators': 483, 'min_data_in_leaf': 80, 'min_gain_to_split': 0.3423487411501875}. Best is trial 186 with value: 0.9925925925925926.\n",
      "[I 2024-05-10 03:13:27,222] Trial 196 pruned. \n",
      "[I 2024-05-10 03:13:39,578] Trial 197 finished with value: 0.989330171902786 and parameters: {'learning_rate': 0.049545659659352564, 'depth': 13, 'num_leaves': 57, 'n_estimators': 510, 'min_data_in_leaf': 84, 'min_gain_to_split': 0.28949300793321386}. Best is trial 186 with value: 0.9925925925925926.\n",
      "[I 2024-05-10 03:14:11,293] Trial 198 finished with value: 0.992294013040901 and parameters: {'learning_rate': 0.037509248030288385, 'depth': 13, 'num_leaves': 65, 'n_estimators': 437, 'min_data_in_leaf': 86, 'min_gain_to_split': 0.008552893463341838}. Best is trial 186 with value: 0.9925925925925926.\n",
      "[I 2024-05-10 03:14:22,612] Trial 199 pruned. \n",
      "[I 2024-05-10 03:14:34,468] Trial 200 finished with value: 0.9878590464909683 and parameters: {'learning_rate': 0.04177963325138363, 'depth': 13, 'num_leaves': 53, 'n_estimators': 456, 'min_data_in_leaf': 76, 'min_gain_to_split': 0.5024901957274819}. Best is trial 186 with value: 0.9925925925925926.\n",
      "[I 2024-05-10 03:14:58,623] Trial 201 finished with value: 0.9916963226571768 and parameters: {'learning_rate': 0.03718636861384843, 'depth': 13, 'num_leaves': 67, 'n_estimators': 410, 'min_data_in_leaf': 86, 'min_gain_to_split': 0.03951137894682391}. Best is trial 186 with value: 0.9925925925925926.\n",
      "[I 2024-05-10 03:15:13,826] Trial 202 finished with value: 0.9899289099526066 and parameters: {'learning_rate': 0.033691156942600956, 'depth': 13, 'num_leaves': 61, 'n_estimators': 412, 'min_data_in_leaf': 85, 'min_gain_to_split': 0.2689076657484917}. Best is trial 186 with value: 0.9925925925925926.\n",
      "[I 2024-05-10 03:15:37,911] Trial 203 finished with value: 0.990521327014218 and parameters: {'learning_rate': 0.03591330762440378, 'depth': 13, 'num_leaves': 65, 'n_estimators': 426, 'min_data_in_leaf': 82, 'min_gain_to_split': 0.03424867057993885}. Best is trial 186 with value: 0.9925925925925926.\n",
      "[I 2024-05-10 03:16:08,470] Trial 204 finished with value: 0.9911032028469751 and parameters: {'learning_rate': 0.02607675706825808, 'depth': 13, 'num_leaves': 70, 'n_estimators': 396, 'min_data_in_leaf': 86, 'min_gain_to_split': 0.016315170279873698}. Best is trial 186 with value: 0.9925925925925926.\n",
      "[I 2024-05-10 03:16:19,211] Trial 205 pruned. \n",
      "[I 2024-05-10 03:16:32,764] Trial 206 finished with value: 0.9893428063943162 and parameters: {'learning_rate': 0.037558351160324306, 'depth': 10, 'num_leaves': 67, 'n_estimators': 475, 'min_data_in_leaf': 81, 'min_gain_to_split': 0.3288616799145255}. Best is trial 186 with value: 0.9925925925925926.\n",
      "[I 2024-05-10 03:17:02,027] Trial 207 finished with value: 0.991108476585655 and parameters: {'learning_rate': 0.06307788027691326, 'depth': 14, 'num_leaves': 73, 'n_estimators': 444, 'min_data_in_leaf': 85, 'min_gain_to_split': 0.0017111640800972494}. Best is trial 186 with value: 0.9925925925925926.\n",
      "[I 2024-05-10 03:17:15,370] Trial 208 pruned. \n",
      "[I 2024-05-10 03:17:26,649] Trial 209 finished with value: 0.9878662326131992 and parameters: {'learning_rate': 0.0505302078539538, 'depth': 13, 'num_leaves': 49, 'n_estimators': 430, 'min_data_in_leaf': 83, 'min_gain_to_split': 0.3159794470427423}. Best is trial 186 with value: 0.9925925925925926.\n",
      "[I 2024-05-10 03:17:39,993] Trial 210 finished with value: 0.9881516587677726 and parameters: {'learning_rate': 0.03082380973033934, 'depth': 10, 'num_leaves': 56, 'n_estimators': 392, 'min_data_in_leaf': 86, 'min_gain_to_split': 0.5558402567556555}. Best is trial 186 with value: 0.9925925925925926.\n",
      "[I 2024-05-10 03:18:00,749] Trial 211 finished with value: 0.9916963226571768 and parameters: {'learning_rate': 0.07027124854881268, 'depth': 13, 'num_leaves': 67, 'n_estimators': 409, 'min_data_in_leaf': 88, 'min_gain_to_split': 0.006135850177907274}. Best is trial 186 with value: 0.9925925925925926.\n",
      "[I 2024-05-10 03:18:04,082] Trial 212 pruned. \n",
      "[I 2024-05-10 03:18:21,725] Trial 213 finished with value: 0.9914074074074074 and parameters: {'learning_rate': 0.06646697031172977, 'depth': 13, 'num_leaves': 65, 'n_estimators': 455, 'min_data_in_leaf': 83, 'min_gain_to_split': 0.014291743701085949}. Best is trial 186 with value: 0.9925925925925926.\n",
      "[I 2024-05-10 03:18:41,750] Trial 214 finished with value: 0.9914074074074074 and parameters: {'learning_rate': 0.07547079906013203, 'depth': 13, 'num_leaves': 65, 'n_estimators': 463, 'min_data_in_leaf': 81, 'min_gain_to_split': 0.0020410218374190686}. Best is trial 186 with value: 0.9925925925925926.\n",
      "[I 2024-05-10 03:18:53,327] Trial 215 finished with value: 0.9899169632265717 and parameters: {'learning_rate': 0.0656502077870369, 'depth': 10, 'num_leaves': 73, 'n_estimators': 499, 'min_data_in_leaf': 83, 'min_gain_to_split': 0.30314994326147876}. Best is trial 186 with value: 0.9925925925925926.\n",
      "[I 2024-05-10 03:19:02,412] Trial 216 finished with value: 0.98903053661429 and parameters: {'learning_rate': 0.07859953655569829, 'depth': 13, 'num_leaves': 68, 'n_estimators': 435, 'min_data_in_leaf': 91, 'min_gain_to_split': 0.2919372131530358}. Best is trial 186 with value: 0.9925925925925926.\n",
      "[I 2024-05-10 03:19:10,910] Trial 217 finished with value: 0.988737403675163 and parameters: {'learning_rate': 0.07042140416749915, 'depth': 12, 'num_leaves': 63, 'n_estimators': 447, 'min_data_in_leaf': 87, 'min_gain_to_split': 0.5701906448140925}. Best is trial 186 with value: 0.9925925925925926.\n",
      "[I 2024-05-10 03:19:21,748] Trial 218 finished with value: 0.9884444444444445 and parameters: {'learning_rate': 0.05984613619922108, 'depth': 12, 'num_leaves': 59, 'n_estimators': 480, 'min_data_in_leaf': 90, 'min_gain_to_split': 0.27249716795810963}. Best is trial 186 with value: 0.9925925925925926.\n",
      "[I 2024-05-10 03:19:29,692] Trial 219 pruned. \n",
      "[I 2024-05-10 03:19:50,172] Trial 220 finished with value: 0.9911137440758294 and parameters: {'learning_rate': 0.0658331953508827, 'depth': 14, 'num_leaves': 71, 'n_estimators': 456, 'min_data_in_leaf': 84, 'min_gain_to_split': 0.005196047007604501}. Best is trial 186 with value: 0.9925925925925926.\n",
      "[I 2024-05-10 03:20:04,726] Trial 221 finished with value: 0.9899289099526066 and parameters: {'learning_rate': 0.07358872030995442, 'depth': 13, 'num_leaves': 64, 'n_estimators': 467, 'min_data_in_leaf': 81, 'min_gain_to_split': 0.03051515543815901}. Best is trial 186 with value: 0.9925925925925926.\n",
      "[I 2024-05-10 03:20:19,889] Trial 222 finished with value: 0.9919952564482657 and parameters: {'learning_rate': 0.08433980330194817, 'depth': 13, 'num_leaves': 76, 'n_estimators': 462, 'min_data_in_leaf': 80, 'min_gain_to_split': 0.014537900751120969}. Best is trial 186 with value: 0.9925925925925926.\n",
      "[I 2024-05-10 03:20:28,600] Trial 223 finished with value: 0.9884512881255553 and parameters: {'learning_rate': 0.08405147001135606, 'depth': 13, 'num_leaves': 74, 'n_estimators': 435, 'min_data_in_leaf': 80, 'min_gain_to_split': 0.33027101883187737}. Best is trial 186 with value: 0.9925925925925926.\n",
      "[I 2024-05-10 03:20:38,726] Trial 224 finished with value: 0.9875518672199171 and parameters: {'learning_rate': 0.04769966562645093, 'depth': 13, 'num_leaves': 18, 'n_estimators': 404, 'min_data_in_leaf': 83, 'min_gain_to_split': 0.526992922709669}. Best is trial 186 with value: 0.9925925925925926.\n",
      "[I 2024-05-10 03:20:48,018] Trial 225 finished with value: 0.9908093685146754 and parameters: {'learning_rate': 0.08263456558180463, 'depth': 13, 'num_leaves': 76, 'n_estimators': 482, 'min_data_in_leaf': 78, 'min_gain_to_split': 0.27296328699259914}. Best is trial 186 with value: 0.9925925925925926.\n",
      "[I 2024-05-10 03:20:57,503] Trial 226 finished with value: 0.9878590464909683 and parameters: {'learning_rate': 0.06115813197559909, 'depth': 13, 'num_leaves': 68, 'n_estimators': 454, 'min_data_in_leaf': 86, 'min_gain_to_split': 0.5167898782630697}. Best is trial 186 with value: 0.9925925925925926.\n",
      "[I 2024-05-10 03:21:17,149] Trial 227 finished with value: 0.9914023124814705 and parameters: {'learning_rate': 0.051616863791724504, 'depth': 10, 'num_leaves': 78, 'n_estimators': 426, 'min_data_in_leaf': 82, 'min_gain_to_split': 0.015402070538923111}. Best is trial 186 with value: 0.9925925925925926.\n",
      "[I 2024-05-10 03:21:44,161] Trial 228 finished with value: 0.9911032028469751 and parameters: {'learning_rate': 0.04360731681512379, 'depth': 13, 'num_leaves': 57, 'n_estimators': 391, 'min_data_in_leaf': 89, 'min_gain_to_split': 0.0034768315313264565}. Best is trial 186 with value: 0.9925925925925926.\n",
      "[I 2024-05-10 03:21:55,463] Trial 229 finished with value: 0.9884444444444445 and parameters: {'learning_rate': 0.05570241406368809, 'depth': 14, 'num_leaves': 71, 'n_estimators': 505, 'min_data_in_leaf': 84, 'min_gain_to_split': 0.3053404420697109}. Best is trial 186 with value: 0.9925925925925926.\n",
      "[I 2024-05-10 03:21:58,817] Trial 230 pruned. \n",
      "[I 2024-05-10 03:22:08,485] Trial 231 finished with value: 0.9884512881255553 and parameters: {'learning_rate': 0.07540014187063372, 'depth': 13, 'num_leaves': 65, 'n_estimators': 464, 'min_data_in_leaf': 81, 'min_gain_to_split': 0.2682857817950533}. Best is trial 186 with value: 0.9925925925925926.\n",
      "[I 2024-05-10 03:22:25,015] Trial 232 finished with value: 0.9922894424673784 and parameters: {'learning_rate': 0.07908697945860582, 'depth': 13, 'num_leaves': 61, 'n_estimators': 449, 'min_data_in_leaf': 77, 'min_gain_to_split': 0.00793593836563615}. Best is trial 186 with value: 0.9925925925925926.\n",
      "[I 2024-05-10 03:22:32,814] Trial 233 finished with value: 0.9887573964497042 and parameters: {'learning_rate': 0.0819012169508513, 'depth': 13, 'num_leaves': 61, 'n_estimators': 444, 'min_data_in_leaf': 76, 'min_gain_to_split': 0.6456682899942329}. Best is trial 186 with value: 0.9925925925925926.\n",
      "[I 2024-05-10 03:22:43,396] Trial 234 finished with value: 0.9887307236061684 and parameters: {'learning_rate': 0.06508472645199957, 'depth': 13, 'num_leaves': 53, 'n_estimators': 481, 'min_data_in_leaf': 78, 'min_gain_to_split': 0.27557578148297346}. Best is trial 186 with value: 0.9925925925925926.\n",
      "[I 2024-05-10 03:22:59,622] Trial 235 pruned. \n",
      "[I 2024-05-10 03:23:03,830] Trial 236 pruned. \n",
      "[I 2024-05-10 03:23:30,693] Trial 237 finished with value: 0.9919952564482657 and parameters: {'learning_rate': 0.05336485057373282, 'depth': 13, 'num_leaves': 64, 'n_estimators': 431, 'min_data_in_leaf': 75, 'min_gain_to_split': 0.0011296149585040514}. Best is trial 186 with value: 0.9925925925925926.\n",
      "[I 2024-05-10 03:23:40,626] Trial 238 finished with value: 0.9878590464909683 and parameters: {'learning_rate': 0.051110398804062894, 'depth': 13, 'num_leaves': 75, 'n_estimators': 401, 'min_data_in_leaf': 74, 'min_gain_to_split': 0.4845278666773674}. Best is trial 186 with value: 0.9925925925925926.\n",
      "[I 2024-05-10 03:23:55,169] Trial 239 finished with value: 0.989330171902786 and parameters: {'learning_rate': 0.05825295140117536, 'depth': 14, 'num_leaves': 55, 'n_estimators': 424, 'min_data_in_leaf': 75, 'min_gain_to_split': 0.25475903807224176}. Best is trial 186 with value: 0.9925925925925926.\n",
      "[I 2024-05-10 03:24:05,652] Trial 240 finished with value: 0.9878518518518519 and parameters: {'learning_rate': 0.047251531234545494, 'depth': 13, 'num_leaves': 62, 'n_estimators': 432, 'min_data_in_leaf': 77, 'min_gain_to_split': 0.49458517687513315}. Best is trial 186 with value: 0.9925925925925926.\n",
      "[I 2024-05-10 03:24:21,009] Trial 241 finished with value: 0.9907984565152864 and parameters: {'learning_rate': 0.05448165808257581, 'depth': 13, 'num_leaves': 66, 'n_estimators': 457, 'min_data_in_leaf': 82, 'min_gain_to_split': 0.07209201123248085}. Best is trial 186 with value: 0.9925925925925926.\n",
      "[I 2024-05-10 03:24:37,450] Trial 242 finished with value: 0.9908148148148148 and parameters: {'learning_rate': 0.061231207154440165, 'depth': 13, 'num_leaves': 69, 'n_estimators': 386, 'min_data_in_leaf': 84, 'min_gain_to_split': 0.025431335767894747}. Best is trial 186 with value: 0.9925925925925926.\n",
      "[I 2024-05-10 03:24:53,143] Trial 243 finished with value: 0.9914124962984898 and parameters: {'learning_rate': 0.06941690383791468, 'depth': 13, 'num_leaves': 62, 'n_estimators': 442, 'min_data_in_leaf': 80, 'min_gain_to_split': 0.021048487083301173}. Best is trial 186 with value: 0.9925925925925926.\n",
      "[I 2024-05-10 03:25:08,783] Trial 244 finished with value: 0.9916963226571768 and parameters: {'learning_rate': 0.07395927756783616, 'depth': 13, 'num_leaves': 59, 'n_estimators': 415, 'min_data_in_leaf': 79, 'min_gain_to_split': 0.016845505763191982}. Best is trial 186 with value: 0.9925925925925926.\n",
      "[I 2024-05-10 03:25:17,596] Trial 245 finished with value: 0.9896296296296296 and parameters: {'learning_rate': 0.08695192577484966, 'depth': 13, 'num_leaves': 57, 'n_estimators': 406, 'min_data_in_leaf': 76, 'min_gain_to_split': 0.32357838394141497}. Best is trial 186 with value: 0.9925925925925926.\n",
      "[I 2024-05-10 03:25:33,462] Trial 246 finished with value: 0.9925794004155536 and parameters: {'learning_rate': 0.07811768912004272, 'depth': 13, 'num_leaves': 52, 'n_estimators': 418, 'min_data_in_leaf': 78, 'min_gain_to_split': 0.006702128821668913}. Best is trial 186 with value: 0.9925925925925926.\n",
      "[I 2024-05-10 03:25:41,607] Trial 247 finished with value: 0.9878518518518519 and parameters: {'learning_rate': 0.07727647249232472, 'depth': 13, 'num_leaves': 52, 'n_estimators': 416, 'min_data_in_leaf': 78, 'min_gain_to_split': 0.48295185375437544}. Best is trial 186 with value: 0.9925925925925926.\n",
      "[I 2024-05-10 03:25:44,510] Trial 248 pruned. \n",
      "[I 2024-05-10 03:25:50,499] Trial 249 pruned. \n",
      "[I 2024-05-10 03:26:04,733] Trial 250 finished with value: 0.991701244813278 and parameters: {'learning_rate': 0.08991023122057903, 'depth': 10, 'num_leaves': 44, 'n_estimators': 426, 'min_data_in_leaf': 73, 'min_gain_to_split': 0.003978181465037648}. Best is trial 186 with value: 0.9925925925925926.\n",
      "[I 2024-05-10 03:26:12,763] Trial 251 finished with value: 0.9878518518518519 and parameters: {'learning_rate': 0.08747675991463762, 'depth': 10, 'num_leaves': 38, 'n_estimators': 429, 'min_data_in_leaf': 88, 'min_gain_to_split': 0.3006769960224205}. Best is trial 186 with value: 0.9925925925925926.\n",
      "[I 2024-05-10 03:26:20,531] Trial 252 finished with value: 0.9893238434163701 and parameters: {'learning_rate': 0.089645158578727, 'depth': 10, 'num_leaves': 46, 'n_estimators': 378, 'min_data_in_leaf': 86, 'min_gain_to_split': 0.3291435929604729}. Best is trial 186 with value: 0.9925925925925926.\n",
      "[I 2024-05-10 03:26:31,516] Trial 253 finished with value: 0.9887307236061684 and parameters: {'learning_rate': 0.04300463271581453, 'depth': 15, 'num_leaves': 68, 'n_estimators': 432, 'min_data_in_leaf': 71, 'min_gain_to_split': 0.6119500613236524}. Best is trial 186 with value: 0.9925925925925926.\n",
      "[I 2024-05-10 03:26:39,520] Trial 254 finished with value: 0.9884512881255553 and parameters: {'learning_rate': 0.09802407955248374, 'depth': 11, 'num_leaves': 44, 'n_estimators': 398, 'min_data_in_leaf': 75, 'min_gain_to_split': 0.28650784908401006}. Best is trial 186 with value: 0.9925925925925926.\n",
      "[I 2024-05-10 03:27:03,946] Trial 255 finished with value: 0.990521327014218 and parameters: {'learning_rate': 0.040004551812047075, 'depth': 14, 'num_leaves': 77, 'n_estimators': 438, 'min_data_in_leaf': 74, 'min_gain_to_split': 0.027606076484431863}. Best is trial 186 with value: 0.9925925925925926.\n",
      "[I 2024-05-10 03:27:12,480] Trial 256 pruned. \n",
      "[I 2024-05-10 03:27:22,803] Trial 257 finished with value: 0.9887507400828893 and parameters: {'learning_rate': 0.04667894240494037, 'depth': 9, 'num_leaves': 32, 'n_estimators': 446, 'min_data_in_leaf': 93, 'min_gain_to_split': 0.5050818279736449}. Best is trial 186 with value: 0.9925925925925926.\n",
      "[I 2024-05-10 03:27:30,318] Trial 258 finished with value: 0.991108476585655 and parameters: {'learning_rate': 0.08407629233431112, 'depth': 7, 'num_leaves': 65, 'n_estimators': 277, 'min_data_in_leaf': 90, 'min_gain_to_split': 0.24938818517480596}. Best is trial 186 with value: 0.9925925925925926.\n",
      "[I 2024-05-10 03:27:51,836] Trial 259 finished with value: 0.992 and parameters: {'learning_rate': 0.07873536237352623, 'depth': 12, 'num_leaves': 72, 'n_estimators': 425, 'min_data_in_leaf': 85, 'min_gain_to_split': 0.0007941157737466238}. Best is trial 186 with value: 0.9925925925925926.\n",
      "[I 2024-05-10 03:28:06,732] Trial 260 finished with value: 0.9925969795676636 and parameters: {'learning_rate': 0.0928889589236473, 'depth': 10, 'num_leaves': 81, 'n_estimators': 468, 'min_data_in_leaf': 84, 'min_gain_to_split': 0.005274758554902559}. Best is trial 260 with value: 0.9925969795676636.\n",
      "[I 2024-05-10 03:28:28,484] Trial 261 finished with value: 0.992 and parameters: {'learning_rate': 0.09642969688664879, 'depth': 10, 'num_leaves': 81, 'n_estimators': 467, 'min_data_in_leaf': 80, 'min_gain_to_split': 0.00012141285076606133}. Best is trial 260 with value: 0.9925969795676636.\n",
      "[I 2024-05-10 03:28:34,722] Trial 262 pruned. \n",
      "[I 2024-05-10 03:28:37,853] Trial 263 pruned. \n",
      "[I 2024-05-10 03:28:43,607] Trial 264 pruned. \n",
      "[I 2024-05-10 03:28:53,243] Trial 265 finished with value: 0.98903053661429 and parameters: {'learning_rate': 0.08806281101066402, 'depth': 10, 'num_leaves': 75, 'n_estimators': 466, 'min_data_in_leaf': 77, 'min_gain_to_split': 0.3023589392671284}. Best is trial 260 with value: 0.9925969795676636.\n",
      "[I 2024-05-10 03:28:56,579] Trial 266 pruned. \n",
      "[I 2024-05-10 03:29:14,706] Trial 267 finished with value: 0.991108476585655 and parameters: {'learning_rate': 0.08087736144672188, 'depth': 11, 'num_leaves': 82, 'n_estimators': 521, 'min_data_in_leaf': 69, 'min_gain_to_split': 0.005217625070236309}. Best is trial 260 with value: 0.9925969795676636.\n",
      "[I 2024-05-10 03:29:22,279] Trial 268 finished with value: 0.9878518518518519 and parameters: {'learning_rate': 0.09310417327285027, 'depth': 10, 'num_leaves': 78, 'n_estimators': 453, 'min_data_in_leaf': 82, 'min_gain_to_split': 0.5901831665834387}. Best is trial 260 with value: 0.9925969795676636.\n",
      "[I 2024-05-10 03:29:26,676] Trial 269 pruned. \n",
      "[I 2024-05-10 03:29:47,844] Trial 270 pruned. \n",
      "[I 2024-05-10 03:30:02,026] Trial 271 pruned. \n",
      "[I 2024-05-10 03:30:20,373] Trial 272 finished with value: 0.9916963226571768 and parameters: {'learning_rate': 0.08135028961140849, 'depth': 10, 'num_leaves': 73, 'n_estimators': 556, 'min_data_in_leaf': 85, 'min_gain_to_split': 0.003291367302549742}. Best is trial 260 with value: 0.9925969795676636.\n",
      "[I 2024-05-10 03:30:29,233] Trial 273 finished with value: 0.9887640449438202 and parameters: {'learning_rate': 0.08931033883250003, 'depth': 11, 'num_leaves': 78, 'n_estimators': 451, 'min_data_in_leaf': 77, 'min_gain_to_split': 0.3045239665926852}. Best is trial 260 with value: 0.9925969795676636.\n",
      "[I 2024-05-10 03:30:36,872] Trial 274 finished with value: 0.9875444839857651 and parameters: {'learning_rate': 0.07745630141406075, 'depth': 10, 'num_leaves': 50, 'n_estimators': 493, 'min_data_in_leaf': 81, 'min_gain_to_split': 0.7365034351427011}. Best is trial 260 with value: 0.9925969795676636.\n",
      "[I 2024-05-10 03:30:50,507] Trial 275 finished with value: 0.9914124962984898 and parameters: {'learning_rate': 0.09896906728829866, 'depth': 9, 'num_leaves': 71, 'n_estimators': 431, 'min_data_in_leaf': 83, 'min_gain_to_split': 0.006297860987828285}. Best is trial 260 with value: 0.9925969795676636.\n",
      "[I 2024-05-10 03:31:06,960] Trial 276 pruned. \n",
      "[I 2024-05-10 03:31:17,384] Trial 277 finished with value: 0.98814463544754 and parameters: {'learning_rate': 0.06198346283923835, 'depth': 12, 'num_leaves': 62, 'n_estimators': 429, 'min_data_in_leaf': 86, 'min_gain_to_split': 0.3246534964037076}. Best is trial 260 with value: 0.9925969795676636.\n",
      "[I 2024-05-10 03:31:27,465] Trial 278 finished with value: 0.9884375926474949 and parameters: {'learning_rate': 0.07014618178243287, 'depth': 10, 'num_leaves': 57, 'n_estimators': 473, 'min_data_in_leaf': 84, 'min_gain_to_split': 0.28991193653825414}. Best is trial 260 with value: 0.9925969795676636.\n",
      "[I 2024-05-10 03:31:31,038] Trial 279 pruned. \n",
      "[I 2024-05-10 03:31:35,277] Trial 280 pruned. \n",
      "[I 2024-05-10 03:31:49,213] Trial 281 finished with value: 0.9872668048563814 and parameters: {'learning_rate': 0.052747089043868996, 'depth': 10, 'num_leaves': 74, 'n_estimators': 419, 'min_data_in_leaf': 65, 'min_gain_to_split': 0.6500015355830939}. Best is trial 260 with value: 0.9925969795676636.\n",
      "[I 2024-05-10 03:32:11,662] Trial 282 finished with value: 0.991701244813278 and parameters: {'learning_rate': 0.06469923106960485, 'depth': 12, 'num_leaves': 55, 'n_estimators': 783, 'min_data_in_leaf': 76, 'min_gain_to_split': 0.0030721390119942725}. Best is trial 260 with value: 0.9925969795676636.\n",
      "[I 2024-05-10 03:32:30,034] Trial 283 finished with value: 0.9925838030258084 and parameters: {'learning_rate': 0.06650373486600364, 'depth': 11, 'num_leaves': 53, 'n_estimators': 503, 'min_data_in_leaf': 75, 'min_gain_to_split': 0.0066413938508198865}. Best is trial 260 with value: 0.9925969795676636.\n",
      "[I 2024-05-10 03:32:41,064] Trial 284 finished with value: 0.9887507400828893 and parameters: {'learning_rate': 0.07469193350891011, 'depth': 12, 'num_leaves': 53, 'n_estimators': 768, 'min_data_in_leaf': 73, 'min_gain_to_split': 0.25105039519932937}. Best is trial 260 with value: 0.9925969795676636.\n",
      "[I 2024-05-10 03:32:58,690] Trial 285 finished with value: 0.991108476585655 and parameters: {'learning_rate': 0.06534065641171816, 'depth': 12, 'num_leaves': 43, 'n_estimators': 843, 'min_data_in_leaf': 76, 'min_gain_to_split': 0.013842126116178893}. Best is trial 260 with value: 0.9925969795676636.\n",
      "[I 2024-05-10 03:33:03,392] Trial 286 pruned. \n",
      "[I 2024-05-10 03:33:11,291] Trial 287 finished with value: 0.9881586737714624 and parameters: {'learning_rate': 0.08995804268980358, 'depth': 12, 'num_leaves': 56, 'n_estimators': 539, 'min_data_in_leaf': 75, 'min_gain_to_split': 0.6076924138281483}. Best is trial 260 with value: 0.9925969795676636.\n",
      "[I 2024-05-10 03:33:31,203] Trial 288 finished with value: 0.9917061611374408 and parameters: {'learning_rate': 0.07756088695325061, 'depth': 12, 'num_leaves': 48, 'n_estimators': 487, 'min_data_in_leaf': 75, 'min_gain_to_split': 0.00047456984376228334}. Best is trial 260 with value: 0.9925969795676636.\n",
      "[I 2024-05-10 03:33:39,961] Trial 289 finished with value: 0.989922940130409 and parameters: {'learning_rate': 0.08008019615653236, 'depth': 11, 'num_leaves': 46, 'n_estimators': 512, 'min_data_in_leaf': 72, 'min_gain_to_split': 0.33233111796183484}. Best is trial 260 with value: 0.9925969795676636.\n",
      "[I 2024-05-10 03:33:48,003] Trial 290 pruned. \n",
      "[I 2024-05-10 03:33:56,386] Trial 291 finished with value: 0.9896234805810851 and parameters: {'learning_rate': 0.09129285434254539, 'depth': 10, 'num_leaves': 49, 'n_estimators': 492, 'min_data_in_leaf': 79, 'min_gain_to_split': 0.30372838770139504}. Best is trial 260 with value: 0.9925969795676636.\n",
      "[I 2024-05-10 03:34:02,992] Trial 292 pruned. \n",
      "[I 2024-05-10 03:34:06,287] Trial 293 pruned. \n",
      "[I 2024-05-10 03:34:21,342] Trial 294 finished with value: 0.9911032028469751 and parameters: {'learning_rate': 0.08389541976179561, 'depth': 14, 'num_leaves': 59, 'n_estimators': 488, 'min_data_in_leaf': 77, 'min_gain_to_split': 0.011138266451592264}. Best is trial 260 with value: 0.9925969795676636.\n",
      "[I 2024-05-10 03:34:31,025] Trial 295 finished with value: 0.9887440758293838 and parameters: {'learning_rate': 0.07225705441416694, 'depth': 11, 'num_leaves': 61, 'n_estimators': 511, 'min_data_in_leaf': 80, 'min_gain_to_split': 0.29843090501533714}. Best is trial 260 with value: 0.9925969795676636.\n",
      "[I 2024-05-10 03:34:38,752] Trial 296 finished with value: 0.985781990521327 and parameters: {'learning_rate': 0.06528073184912668, 'depth': 13, 'num_leaves': 54, 'n_estimators': 375, 'min_data_in_leaf': 81, 'min_gain_to_split': 0.7626826303239812}. Best is trial 260 with value: 0.9925969795676636.\n",
      "[I 2024-05-10 03:34:58,159] Trial 297 finished with value: 0.9920047379330766 and parameters: {'learning_rate': 0.07774631240922912, 'depth': 10, 'num_leaves': 65, 'n_estimators': 481, 'min_data_in_leaf': 74, 'min_gain_to_split': 0.0024739623681533877}. Best is trial 260 with value: 0.9925969795676636.\n",
      "[I 2024-05-10 03:35:07,585] Trial 298 finished with value: 0.9878590464909683 and parameters: {'learning_rate': 0.06054526599968306, 'depth': 12, 'num_leaves': 65, 'n_estimators': 477, 'min_data_in_leaf': 75, 'min_gain_to_split': 0.524754384726623}. Best is trial 260 with value: 0.9925969795676636.\n",
      "[I 2024-05-10 03:35:16,132] Trial 299 finished with value: 0.9878446486806997 and parameters: {'learning_rate': 0.0770578140210646, 'depth': 14, 'num_leaves': 60, 'n_estimators': 253, 'min_data_in_leaf': 78, 'min_gain_to_split': 0.27706822758657407}. Best is trial 260 with value: 0.9925969795676636.\n",
      "[I 2024-05-10 03:35:19,799] Trial 300 pruned. \n",
      "[I 2024-05-10 03:35:29,479] Trial 301 finished with value: 0.9887240356083086 and parameters: {'learning_rate': 0.0751963345717018, 'depth': 13, 'num_leaves': 69, 'n_estimators': 464, 'min_data_in_leaf': 84, 'min_gain_to_split': 0.27768909475547987}. Best is trial 260 with value: 0.9925969795676636.\n",
      "[I 2024-05-10 03:35:34,338] Trial 302 pruned. \n",
      "[I 2024-05-10 03:35:52,499] Trial 303 finished with value: 0.992 and parameters: {'learning_rate': 0.06780857762066102, 'depth': 10, 'num_leaves': 66, 'n_estimators': 449, 'min_data_in_leaf': 75, 'min_gain_to_split': 0.011031352146275894}. Best is trial 260 with value: 0.9925969795676636.\n",
      "[I 2024-05-10 03:36:10,691] Trial 304 pruned. \n",
      "[I 2024-05-10 03:36:28,452] Trial 305 finished with value: 0.9916963226571768 and parameters: {'learning_rate': 0.06833666194690866, 'depth': 10, 'num_leaves': 70, 'n_estimators': 452, 'min_data_in_leaf': 74, 'min_gain_to_split': 0.008874696609383954}. Best is trial 260 with value: 0.9925969795676636.\n",
      "[I 2024-05-10 03:36:34,557] Trial 306 pruned. \n",
      "[I 2024-05-10 03:36:44,581] Trial 307 finished with value: 0.9878518518518519 and parameters: {'learning_rate': 0.06547404304082402, 'depth': 9, 'num_leaves': 62, 'n_estimators': 455, 'min_data_in_leaf': 77, 'min_gain_to_split': 0.3374072481698838}. Best is trial 260 with value: 0.9925969795676636.\n",
      "[I 2024-05-10 03:36:52,197] Trial 308 finished with value: 0.9872668048563814 and parameters: {'learning_rate': 0.09906355120239999, 'depth': 10, 'num_leaves': 71, 'n_estimators': 486, 'min_data_in_leaf': 78, 'min_gain_to_split': 0.5343789093255016}. Best is trial 260 with value: 0.9925969795676636.\n",
      "[I 2024-05-10 03:37:07,500] Trial 309 finished with value: 0.9916913946587537 and parameters: {'learning_rate': 0.08405100205196421, 'depth': 8, 'num_leaves': 67, 'n_estimators': 466, 'min_data_in_leaf': 76, 'min_gain_to_split': 0.005269391578497902}. Best is trial 260 with value: 0.9925969795676636.\n",
      "[I 2024-05-10 03:37:17,029] Trial 310 finished with value: 0.9887440758293838 and parameters: {'learning_rate': 0.0751543390571664, 'depth': 10, 'num_leaves': 56, 'n_estimators': 448, 'min_data_in_leaf': 99, 'min_gain_to_split': 0.27224193560842896}. Best is trial 260 with value: 0.9925969795676636.\n",
      "[I 2024-05-10 03:37:38,356] Trial 311 finished with value: 0.9931811443818559 and parameters: {'learning_rate': 0.07033509000793697, 'depth': 9, 'num_leaves': 61, 'n_estimators': 498, 'min_data_in_leaf': 80, 'min_gain_to_split': 0.0015148286701155873}. Best is trial 311 with value: 0.9931811443818559.\n",
      "[I 2024-05-10 03:37:45,198] Trial 312 pruned. \n",
      "[I 2024-05-10 03:37:56,523] Trial 313 finished with value: 0.990515708358032 and parameters: {'learning_rate': 0.0624569830613229, 'depth': 11, 'num_leaves': 50, 'n_estimators': 524, 'min_data_in_leaf': 80, 'min_gain_to_split': 0.24106000602154198}. Best is trial 311 with value: 0.9931811443818559.\n",
      "[I 2024-05-10 03:38:01,152] Trial 314 pruned. \n",
      "[I 2024-05-10 03:38:19,230] Trial 315 finished with value: 0.991108476585655 and parameters: {'learning_rate': 0.06930279527927649, 'depth': 9, 'num_leaves': 56, 'n_estimators': 485, 'min_data_in_leaf': 76, 'min_gain_to_split': 0.005300717110656948}. Best is trial 311 with value: 0.9931811443818559.\n",
      "[I 2024-05-10 03:38:27,984] Trial 316 finished with value: 0.9875666074600356 and parameters: {'learning_rate': 0.08550431825527409, 'depth': 11, 'num_leaves': 53, 'n_estimators': 544, 'min_data_in_leaf': 81, 'min_gain_to_split': 0.4739678352701843}. Best is trial 311 with value: 0.9931811443818559.\n",
      "[I 2024-05-10 03:38:38,232] Trial 317 finished with value: 0.9887307236061684 and parameters: {'learning_rate': 0.06308496081162933, 'depth': 8, 'num_leaves': 61, 'n_estimators': 471, 'min_data_in_leaf': 78, 'min_gain_to_split': 0.2718172459475385}. Best is trial 311 with value: 0.9931811443818559.\n",
      "[I 2024-05-10 03:38:43,146] Trial 318 pruned. \n",
      "[I 2024-05-10 03:39:17,844] Trial 319 pruned. \n",
      "[I 2024-05-10 03:39:29,269] Trial 320 finished with value: 0.9896234805810851 and parameters: {'learning_rate': 0.05725024347413415, 'depth': 12, 'num_leaves': 58, 'n_estimators': 448, 'min_data_in_leaf': 82, 'min_gain_to_split': 0.25625272006156424}. Best is trial 311 with value: 0.9931811443818559.\n",
      "[I 2024-05-10 03:39:34,774] Trial 321 pruned. \n",
      "[I 2024-05-10 03:39:52,360] Trial 322 finished with value: 0.9896173242361317 and parameters: {'learning_rate': 0.0719306119520797, 'depth': 10, 'num_leaves': 69, 'n_estimators': 439, 'min_data_in_leaf': 77, 'min_gain_to_split': 0.32188071907377097}. Best is trial 311 with value: 0.9931811443818559.\n",
      "[I 2024-05-10 03:40:00,323] Trial 323 finished with value: 0.9878518518518519 and parameters: {'learning_rate': 0.08209844400325346, 'depth': 10, 'num_leaves': 77, 'n_estimators': 477, 'min_data_in_leaf': 82, 'min_gain_to_split': 0.5238925151978381}. Best is trial 311 with value: 0.9931811443818559.\n",
      "[I 2024-05-10 03:40:03,631] Trial 324 pruned. \n",
      "[I 2024-05-10 03:40:14,580] Trial 325 finished with value: 0.990228013029316 and parameters: {'learning_rate': 0.05992781013464207, 'depth': 13, 'num_leaves': 66, 'n_estimators': 456, 'min_data_in_leaf': 71, 'min_gain_to_split': 0.27146420685796335}. Best is trial 311 with value: 0.9931811443818559.\n",
      "[I 2024-05-10 03:40:40,663] Trial 326 finished with value: 0.991701244813278 and parameters: {'learning_rate': 0.05305047525296229, 'depth': 11, 'num_leaves': 130, 'n_estimators': 425, 'min_data_in_leaf': 83, 'min_gain_to_split': 0.0027167602207269267}. Best is trial 311 with value: 0.9931811443818559.\n",
      "[I 2024-05-10 03:40:44,936] Trial 327 pruned. \n",
      "[I 2024-05-10 03:40:47,890] Trial 328 pruned. \n",
      "[I 2024-05-10 03:40:54,786] Trial 329 pruned. \n",
      "[I 2024-05-10 03:41:34,712] Trial 330 finished with value: 0.9893364928909952 and parameters: {'learning_rate': 0.022830003097079485, 'depth': 13, 'num_leaves': 72, 'n_estimators': 420, 'min_data_in_leaf': 50, 'min_gain_to_split': 0.0009289632466613482}. Best is trial 311 with value: 0.9931811443818559.\n",
      "[I 2024-05-10 03:41:43,606] Trial 331 finished with value: 0.989330171902786 and parameters: {'learning_rate': 0.0917772559095769, 'depth': 15, 'num_leaves': 64, 'n_estimators': 499, 'min_data_in_leaf': 85, 'min_gain_to_split': 0.28937824806721685}. Best is trial 311 with value: 0.9931811443818559.\n",
      "[I 2024-05-10 03:41:48,269] Trial 332 pruned. \n",
      "[I 2024-05-10 03:41:55,490] Trial 333 pruned. \n",
      "[I 2024-05-10 03:42:21,783] Trial 334 finished with value: 0.9925838030258084 and parameters: {'learning_rate': 0.05067504728431174, 'depth': 11, 'num_leaves': 80, 'n_estimators': 470, 'min_data_in_leaf': 77, 'min_gain_to_split': 0.003978589844980902}. Best is trial 311 with value: 0.9931811443818559.\n",
      "[I 2024-05-10 03:42:32,496] Trial 335 pruned. \n",
      "[I 2024-05-10 03:42:44,136] Trial 336 finished with value: 0.9896234805810851 and parameters: {'learning_rate': 0.05217080765755799, 'depth': 10, 'num_leaves': 83, 'n_estimators': 403, 'min_data_in_leaf': 77, 'min_gain_to_split': 0.2764069579133501}. Best is trial 311 with value: 0.9931811443818559.\n",
      "[I 2024-05-10 03:42:54,852] Trial 337 finished with value: 0.9878446486806997 and parameters: {'learning_rate': 0.045069751346930996, 'depth': 11, 'num_leaves': 76, 'n_estimators': 422, 'min_data_in_leaf': 81, 'min_gain_to_split': 0.5703443004048366}. Best is trial 311 with value: 0.9931811443818559.\n",
      "[I 2024-05-10 03:43:01,571] Trial 338 pruned. \n",
      "[I 2024-05-10 03:43:12,143] Trial 339 finished with value: 0.9896296296296296 and parameters: {'learning_rate': 0.06149591835503388, 'depth': 10, 'num_leaves': 73, 'n_estimators': 438, 'min_data_in_leaf': 79, 'min_gain_to_split': 0.2790169433999182}. Best is trial 311 with value: 0.9931811443818559.\n",
      "[I 2024-05-10 03:43:24,680] Trial 340 finished with value: 0.9902222222222222 and parameters: {'learning_rate': 0.0488693651711254, 'depth': 13, 'num_leaves': 81, 'n_estimators': 528, 'min_data_in_leaf': 86, 'min_gain_to_split': 0.2966071731953102}. Best is trial 311 with value: 0.9931811443818559.\n",
      "[I 2024-05-10 03:43:29,013] Trial 341 pruned. \n",
      "[I 2024-05-10 03:43:39,555] Trial 342 finished with value: 0.989037037037037 and parameters: {'learning_rate': 0.06162487833103493, 'depth': 13, 'num_leaves': 62, 'n_estimators': 406, 'min_data_in_leaf': 77, 'min_gain_to_split': 0.2590159617296802}. Best is trial 311 with value: 0.9931811443818559.\n",
      "[I 2024-05-10 03:43:50,862] Trial 343 finished with value: 0.9869745411486086 and parameters: {'learning_rate': 0.05422406759994124, 'depth': 13, 'num_leaves': 69, 'n_estimators': 449, 'min_data_in_leaf': 83, 'min_gain_to_split': 0.5067847956622501}. Best is trial 311 with value: 0.9931811443818559.\n",
      "[I 2024-05-10 03:44:14,402] Trial 344 finished with value: 0.991108476585655 and parameters: {'learning_rate': 0.04374015597670848, 'depth': 10, 'num_leaves': 74, 'n_estimators': 432, 'min_data_in_leaf': 73, 'min_gain_to_split': 0.01153094634127361}. Best is trial 311 with value: 0.9931811443818559.\n",
      "[I 2024-05-10 03:44:24,609] Trial 345 finished with value: 0.989635771394729 and parameters: {'learning_rate': 0.06659614550975884, 'depth': 11, 'num_leaves': 65, 'n_estimators': 390, 'min_data_in_leaf': 79, 'min_gain_to_split': 0.2535201113560664}. Best is trial 311 with value: 0.9931811443818559.\n",
      "[I 2024-05-10 03:44:31,439] Trial 346 finished with value: 0.9878518518518519 and parameters: {'learning_rate': 0.08820741914710686, 'depth': 13, 'num_leaves': 79, 'n_estimators': 307, 'min_data_in_leaf': 87, 'min_gain_to_split': 0.6806890164749052}. Best is trial 311 with value: 0.9931811443818559.\n",
      "[I 2024-05-10 03:44:40,815] Trial 347 pruned. \n",
      "[I 2024-05-10 03:44:59,357] Trial 348 finished with value: 0.990515708358032 and parameters: {'learning_rate': 0.05693321265053218, 'depth': 10, 'num_leaves': 68, 'n_estimators': 422, 'min_data_in_leaf': 85, 'min_gain_to_split': 0.016165590199019638}. Best is trial 311 with value: 0.9931811443818559.\n",
      "[I 2024-05-10 03:45:25,039] Trial 349 finished with value: 0.9914074074074074 and parameters: {'learning_rate': 0.048232811145479046, 'depth': 11, 'num_leaves': 71, 'n_estimators': 496, 'min_data_in_leaf': 81, 'min_gain_to_split': 0.006011419445765945}. Best is trial 311 with value: 0.9931811443818559.\n",
      "[I 2024-05-10 03:45:33,567] Trial 350 finished with value: 0.9881656804733728 and parameters: {'learning_rate': 0.07288198652731578, 'depth': 13, 'num_leaves': 62, 'n_estimators': 447, 'min_data_in_leaf': 83, 'min_gain_to_split': 0.4980160188775113}. Best is trial 311 with value: 0.9931811443818559.\n",
      "[I 2024-05-10 03:45:49,880] Trial 351 finished with value: 0.9925838030258084 and parameters: {'learning_rate': 0.08080076531715881, 'depth': 7, 'num_leaves': 114, 'n_estimators': 731, 'min_data_in_leaf': 77, 'min_gain_to_split': 0.0036798916944788293}. Best is trial 311 with value: 0.9931811443818559.\n",
      "[I 2024-05-10 03:46:00,119] Trial 352 finished with value: 0.9893238434163701 and parameters: {'learning_rate': 0.06450391177262607, 'depth': 11, 'num_leaves': 74, 'n_estimators': 481, 'min_data_in_leaf': 76, 'min_gain_to_split': 0.2977073720030722}. Best is trial 311 with value: 0.9931811443818559.\n",
      "[I 2024-05-10 03:46:06,645] Trial 353 pruned. \n",
      "[I 2024-05-10 03:46:16,304] Trial 354 finished with value: 0.9881516587677726 and parameters: {'learning_rate': 0.05776353308037558, 'depth': 8, 'num_leaves': 113, 'n_estimators': 532, 'min_data_in_leaf': 78, 'min_gain_to_split': 0.5079995042422858}. Best is trial 311 with value: 0.9931811443818559.\n",
      "[I 2024-05-10 03:46:29,175] Trial 355 finished with value: 0.9896296296296296 and parameters: {'learning_rate': 0.051226020982767066, 'depth': 10, 'num_leaves': 102, 'n_estimators': 659, 'min_data_in_leaf': 77, 'min_gain_to_split': 0.26045306081960773}. Best is trial 311 with value: 0.9931811443818559.\n",
      "[I 2024-05-10 03:46:34,478] Trial 356 pruned. \n",
      "[I 2024-05-10 03:46:47,387] Trial 357 finished with value: 0.9896234805810851 and parameters: {'learning_rate': 0.09002881740149232, 'depth': 7, 'num_leaves': 78, 'n_estimators': 806, 'min_data_in_leaf': 76, 'min_gain_to_split': 0.2847927361122123}. Best is trial 311 with value: 0.9931811443818559.\n",
      "[I 2024-05-10 03:46:54,389] Trial 358 pruned. \n",
      "[I 2024-05-10 03:47:12,450] Trial 359 finished with value: 0.992 and parameters: {'learning_rate': 0.06041187457954259, 'depth': 11, 'num_leaves': 122, 'n_estimators': 464, 'min_data_in_leaf': 73, 'min_gain_to_split': 0.02106910269540622}. Best is trial 311 with value: 0.9931811443818559.\n",
      "[I 2024-05-10 03:47:32,391] Trial 360 finished with value: 0.9916963226571768 and parameters: {'learning_rate': 0.06446102098146517, 'depth': 11, 'num_leaves': 120, 'n_estimators': 482, 'min_data_in_leaf': 69, 'min_gain_to_split': 0.008329229332407472}. Best is trial 311 with value: 0.9931811443818559.\n",
      "[I 2024-05-10 03:47:39,054] Trial 361 pruned. \n",
      "[I 2024-05-10 03:47:52,415] Trial 362 finished with value: 0.9884444444444445 and parameters: {'learning_rate': 0.06098949801997555, 'depth': 11, 'num_leaves': 136, 'n_estimators': 698, 'min_data_in_leaf': 75, 'min_gain_to_split': 0.25240490415342587}. Best is trial 311 with value: 0.9931811443818559.\n",
      "[I 2024-05-10 03:48:06,869] Trial 363 finished with value: 0.9914023124814705 and parameters: {'learning_rate': 0.08419032685311077, 'depth': 10, 'num_leaves': 124, 'n_estimators': 460, 'min_data_in_leaf': 74, 'min_gain_to_split': 0.02063516520028017}. Best is trial 311 with value: 0.9931811443818559.\n",
      "[I 2024-05-10 03:48:23,572] Trial 364 finished with value: 0.991108476585655 and parameters: {'learning_rate': 0.07436012054218799, 'depth': 11, 'num_leaves': 56, 'n_estimators': 493, 'min_data_in_leaf': 72, 'min_gain_to_split': 0.007050816808495919}. Best is trial 311 with value: 0.9931811443818559.\n",
      "[I 2024-05-10 03:48:29,236] Trial 365 pruned. \n",
      "[I 2024-05-10 03:48:36,402] Trial 366 pruned. \n",
      "[I 2024-05-10 03:48:47,844] Trial 367 finished with value: 0.9902222222222222 and parameters: {'learning_rate': 0.06736522688761366, 'depth': 7, 'num_leaves': 121, 'n_estimators': 583, 'min_data_in_leaf': 79, 'min_gain_to_split': 0.3005322309259174}. Best is trial 311 with value: 0.9931811443818559.\n",
      "[I 2024-05-10 03:49:06,413] Trial 368 finished with value: 0.9922894424673784 and parameters: {'learning_rate': 0.057024342981181905, 'depth': 6, 'num_leaves': 108, 'n_estimators': 849, 'min_data_in_leaf': 76, 'min_gain_to_split': 0.010261061632821708}. Best is trial 311 with value: 0.9931811443818559.\n",
      "[I 2024-05-10 03:49:16,955] Trial 369 finished with value: 0.98814463544754 and parameters: {'learning_rate': 0.060698276610601315, 'depth': 6, 'num_leaves': 105, 'n_estimators': 833, 'min_data_in_leaf': 80, 'min_gain_to_split': 0.4886747013809773}. Best is trial 311 with value: 0.9931811443818559.\n",
      "[I 2024-05-10 03:49:21,119] Trial 370 pruned. \n",
      "[I 2024-05-10 03:49:29,051] Trial 371 pruned. \n",
      "[I 2024-05-10 03:49:40,320] Trial 372 pruned. \n",
      "[I 2024-05-10 03:49:47,488] Trial 373 finished with value: 0.9910926365795725 and parameters: {'learning_rate': 0.08240327851280212, 'depth': 5, 'num_leaves': 108, 'n_estimators': 293, 'min_data_in_leaf': 81, 'min_gain_to_split': 0.272794746057228}. Best is trial 311 with value: 0.9931811443818559.\n",
      "[I 2024-05-10 03:49:57,523] Trial 374 finished with value: 0.9884375926474949 and parameters: {'learning_rate': 0.05727443159456522, 'depth': 6, 'num_leaves': 110, 'n_estimators': 882, 'min_data_in_leaf': 73, 'min_gain_to_split': 0.7235846001770638}. Best is trial 311 with value: 0.9931811443818559.\n",
      "[I 2024-05-10 03:50:07,782] Trial 375 finished with value: 0.9893238434163701 and parameters: {'learning_rate': 0.06638179079161628, 'depth': 6, 'num_leaves': 107, 'n_estimators': 944, 'min_data_in_leaf': 79, 'min_gain_to_split': 0.5087705343394155}. Best is trial 311 with value: 0.9931811443818559.\n",
      "[I 2024-05-10 03:50:21,508] Trial 376 finished with value: 0.9919905072678731 and parameters: {'learning_rate': 0.07468091399525581, 'depth': 7, 'num_leaves': 82, 'n_estimators': 495, 'min_data_in_leaf': 81, 'min_gain_to_split': 0.015564353562355856}. Best is trial 311 with value: 0.9931811443818559.\n",
      "[I 2024-05-10 03:50:34,636] Trial 377 pruned. \n",
      "[I 2024-05-10 03:50:57,688] Trial 378 finished with value: 0.991701244813278 and parameters: {'learning_rate': 0.04745534412886885, 'depth': 11, 'num_leaves': 118, 'n_estimators': 451, 'min_data_in_leaf': 100, 'min_gain_to_split': 0.01094662834842233}. Best is trial 311 with value: 0.9931811443818559.\n",
      "[I 2024-05-10 03:51:01,182] Trial 379 pruned. \n",
      "[I 2024-05-10 03:51:09,274] Trial 380 pruned. \n",
      "[I 2024-05-10 03:51:29,303] Trial 381 finished with value: 0.9908039157520023 and parameters: {'learning_rate': 0.0553125026307058, 'depth': 8, 'num_leaves': 54, 'n_estimators': 542, 'min_data_in_leaf': 29, 'min_gain_to_split': 0.009213193332341696}. Best is trial 311 with value: 0.9931811443818559.\n",
      "[I 2024-05-10 03:51:38,652] Trial 382 pruned. \n",
      "[I 2024-05-10 03:51:49,889] Trial 383 finished with value: 0.9875592417061612 and parameters: {'learning_rate': 0.08090828856680421, 'depth': 13, 'num_leaves': 116, 'n_estimators': 861, 'min_data_in_leaf': 75, 'min_gain_to_split': 0.3019861165512881}. Best is trial 311 with value: 0.9931811443818559.\n",
      "[I 2024-05-10 03:51:59,992] Trial 384 finished with value: 0.9884444444444445 and parameters: {'learning_rate': 0.06439639937293207, 'depth': 11, 'num_leaves': 58, 'n_estimators': 464, 'min_data_in_leaf': 67, 'min_gain_to_split': 0.3059094572610036}. Best is trial 311 with value: 0.9931811443818559.\n",
      "[I 2024-05-10 03:52:07,888] Trial 385 pruned. \n",
      "[I 2024-05-10 03:52:24,307] Trial 386 finished with value: 0.9916963226571768 and parameters: {'learning_rate': 0.05154536932817089, 'depth': 6, 'num_leaves': 71, 'n_estimators': 518, 'min_data_in_leaf': 74, 'min_gain_to_split': 0.016474417487823412}. Best is trial 311 with value: 0.9931811443818559.\n",
      "[I 2024-05-10 03:52:33,170] Trial 387 finished with value: 0.9908039157520023 and parameters: {'learning_rate': 0.08291355219974889, 'depth': 10, 'num_leaves': 52, 'n_estimators': 499, 'min_data_in_leaf': 80, 'min_gain_to_split': 0.28250720790502015}. Best is trial 311 with value: 0.9931811443818559.\n",
      "[I 2024-05-10 03:52:42,647] Trial 388 finished with value: 0.9872365687147522 and parameters: {'learning_rate': 0.09081474044774858, 'depth': 9, 'num_leaves': 67, 'n_estimators': 911, 'min_data_in_leaf': 77, 'min_gain_to_split': 0.751871057844771}. Best is trial 311 with value: 0.9931811443818559.\n",
      "[I 2024-05-10 03:53:02,017] Trial 389 finished with value: 0.9919952564482657 and parameters: {'learning_rate': 0.057485713177357935, 'depth': 11, 'num_leaves': 76, 'n_estimators': 445, 'min_data_in_leaf': 82, 'min_gain_to_split': 0.014167473344178507}. Best is trial 311 with value: 0.9931811443818559.\n",
      "[I 2024-05-10 03:53:11,297] Trial 390 finished with value: 0.9884444444444445 and parameters: {'learning_rate': 0.06636040383108466, 'depth': 10, 'num_leaves': 126, 'n_estimators': 481, 'min_data_in_leaf': 84, 'min_gain_to_split': 0.4817252735240623}. Best is trial 311 with value: 0.9931811443818559.\n",
      "[I 2024-05-10 03:53:28,231] Trial 391 finished with value: 0.9916963226571768 and parameters: {'learning_rate': 0.07563649353720148, 'depth': 13, 'num_leaves': 60, 'n_estimators': 439, 'min_data_in_leaf': 79, 'min_gain_to_split': 0.00923842324850936}. Best is trial 311 with value: 0.9931811443818559.\n",
      "[I 2024-05-10 03:53:40,827] Trial 392 finished with value: 0.9878518518518519 and parameters: {'learning_rate': 0.045368071542233414, 'depth': 10, 'num_leaves': 112, 'n_estimators': 555, 'min_data_in_leaf': 77, 'min_gain_to_split': 0.3383428915452151}. Best is trial 311 with value: 0.9931811443818559.\n",
      "[I 2024-05-10 03:53:50,018] Trial 393 pruned. \n",
      "[I 2024-05-10 03:53:53,016] Trial 394 pruned. \n",
      "[I 2024-05-10 03:54:02,028] Trial 395 finished with value: 0.989330171902786 and parameters: {'learning_rate': 0.07125840023857978, 'depth': 12, 'num_leaves': 81, 'n_estimators': 472, 'min_data_in_leaf': 76, 'min_gain_to_split': 0.53774390026773}. Best is trial 311 with value: 0.9931811443818559.\n",
      "[I 2024-05-10 03:54:10,002] Trial 396 finished with value: 0.98814463544754 and parameters: {'learning_rate': 0.08392009546510255, 'depth': 15, 'num_leaves': 72, 'n_estimators': 255, 'min_data_in_leaf': 85, 'min_gain_to_split': 0.2777074103758065}. Best is trial 311 with value: 0.9931811443818559.\n",
      "[I 2024-05-10 03:54:13,829] Trial 397 pruned. \n",
      "[I 2024-05-10 03:54:21,545] Trial 398 finished with value: 0.9872743415211601 and parameters: {'learning_rate': 0.09271170501839306, 'depth': 13, 'num_leaves': 105, 'n_estimators': 503, 'min_data_in_leaf': 78, 'min_gain_to_split': 0.707684928368912}. Best is trial 311 with value: 0.9931811443818559.\n",
      "[I 2024-05-10 03:54:39,687] Trial 399 finished with value: 0.9911137440758294 and parameters: {'learning_rate': 0.055636950664873744, 'depth': 11, 'num_leaves': 51, 'n_estimators': 414, 'min_data_in_leaf': 84, 'min_gain_to_split': 0.015068461800942377}. Best is trial 311 with value: 0.9931811443818559.\n",
      "[I 2024-05-10 03:54:49,431] Trial 400 finished with value: 0.9890435297601421 and parameters: {'learning_rate': 0.06672569436180675, 'depth': 13, 'num_leaves': 87, 'n_estimators': 341, 'min_data_in_leaf': 71, 'min_gain_to_split': 0.26074899952384606}. Best is trial 311 with value: 0.9931811443818559.\n",
      "[I 2024-05-10 03:54:58,308] Trial 401 finished with value: 0.989330171902786 and parameters: {'learning_rate': 0.06152533175096232, 'depth': 8, 'num_leaves': 61, 'n_estimators': 446, 'min_data_in_leaf': 74, 'min_gain_to_split': 0.5187247064167029}. Best is trial 311 with value: 0.9931811443818559.\n",
      "[I 2024-05-10 03:55:11,915] Trial 402 finished with value: 0.9911137440758294 and parameters: {'learning_rate': 0.09973246022129115, 'depth': 10, 'num_leaves': 75, 'n_estimators': 481, 'min_data_in_leaf': 97, 'min_gain_to_split': 0.007295895154271767}. Best is trial 311 with value: 0.9931811443818559.\n",
      "[I 2024-05-10 03:55:21,655] Trial 403 finished with value: 0.9902164245478803 and parameters: {'learning_rate': 0.07314332590296228, 'depth': 13, 'num_leaves': 59, 'n_estimators': 461, 'min_data_in_leaf': 80, 'min_gain_to_split': 0.24427835192683975}. Best is trial 311 with value: 0.9931811443818559.\n",
      "[I 2024-05-10 03:55:28,102] Trial 404 pruned. \n",
      "[I 2024-05-10 03:55:38,523] Trial 405 pruned. \n",
      "[I 2024-05-10 03:55:44,932] Trial 406 pruned. \n",
      "[I 2024-05-10 03:56:03,201] Trial 407 finished with value: 0.9925882004150608 and parameters: {'learning_rate': 0.06735953743063933, 'depth': 5, 'num_leaves': 80, 'n_estimators': 744, 'min_data_in_leaf': 76, 'min_gain_to_split': 3.687673454185261e-05}. Best is trial 311 with value: 0.9931811443818559.\n",
      "[I 2024-05-10 03:56:16,389] Trial 408 finished with value: 0.9899169632265717 and parameters: {'learning_rate': 0.05927922252130682, 'depth': 6, 'num_leaves': 200, 'n_estimators': 733, 'min_data_in_leaf': 76, 'min_gain_to_split': 0.2757258589713996}. Best is trial 311 with value: 0.9931811443818559.\n",
      "[I 2024-05-10 03:56:26,523] Trial 409 finished with value: 0.9905100830367735 and parameters: {'learning_rate': 0.06621312365369163, 'depth': 5, 'num_leaves': 85, 'n_estimators': 627, 'min_data_in_leaf': 74, 'min_gain_to_split': 0.2740752134926672}. Best is trial 311 with value: 0.9931811443818559.\n",
      "[I 2024-05-10 03:56:35,001] Trial 410 finished with value: 0.9887307236061684 and parameters: {'learning_rate': 0.055641997463479066, 'depth': 6, 'num_leaves': 80, 'n_estimators': 407, 'min_data_in_leaf': 76, 'min_gain_to_split': 0.6226210651409433}. Best is trial 311 with value: 0.9931811443818559.\n",
      "[I 2024-05-10 03:56:46,204] Trial 411 finished with value: 0.9910926365795725 and parameters: {'learning_rate': 0.06274680356855829, 'depth': 5, 'num_leaves': 89, 'n_estimators': 782, 'min_data_in_leaf': 75, 'min_gain_to_split': 0.25044278837571066}. Best is trial 311 with value: 0.9931811443818559.\n",
      "[I 2024-05-10 03:56:55,662] Trial 412 finished with value: 0.9887173396674585 and parameters: {'learning_rate': 0.0686311303879792, 'depth': 5, 'num_leaves': 121, 'n_estimators': 745, 'min_data_in_leaf': 53, 'min_gain_to_split': 0.5125368361443386}. Best is trial 311 with value: 0.9931811443818559.\n",
      "[I 2024-05-10 03:57:00,387] Trial 413 pruned. \n",
      "[I 2024-05-10 03:57:14,278] Trial 414 finished with value: 0.990210619994067 and parameters: {'learning_rate': 0.040958332375019744, 'depth': 5, 'num_leaves': 48, 'n_estimators': 867, 'min_data_in_leaf': 78, 'min_gain_to_split': 0.3064281709125911}. Best is trial 311 with value: 0.9931811443818559.\n",
      "[I 2024-05-10 03:57:26,068] Trial 415 finished with value: 0.9896173242361317 and parameters: {'learning_rate': 0.053669996977439224, 'depth': 5, 'num_leaves': 65, 'n_estimators': 774, 'min_data_in_leaf': 85, 'min_gain_to_split': 0.2669349921328597}. Best is trial 311 with value: 0.9931811443818559.\n",
      "[I 2024-05-10 03:57:51,102] Trial 416 pruned. \n",
      "[I 2024-05-10 03:58:17,131] Trial 417 finished with value: 0.9919952564482657 and parameters: {'learning_rate': 0.04848419978228353, 'depth': 10, 'num_leaves': 83, 'n_estimators': 522, 'min_data_in_leaf': 88, 'min_gain_to_split': 0.0040259674397179895}. Best is trial 311 with value: 0.9931811443818559.\n",
      "[I 2024-05-10 03:58:37,394] Trial 418 finished with value: 0.9919905072678731 and parameters: {'learning_rate': 0.07324170635965285, 'depth': 7, 'num_leaves': 54, 'n_estimators': 797, 'min_data_in_leaf': 95, 'min_gain_to_split': 0.001062507715195578}. Best is trial 311 with value: 0.9931811443818559.\n",
      "[I 2024-05-10 03:58:43,340] Trial 419 pruned. \n",
      "[I 2024-05-10 03:59:12,124] Trial 420 finished with value: 0.9922848664688427 and parameters: {'learning_rate': 0.06689346985186244, 'depth': 10, 'num_leaves': 79, 'n_estimators': 906, 'min_data_in_leaf': 83, 'min_gain_to_split': 0.0004115212852330982}. Best is trial 311 with value: 0.9931811443818559.\n",
      "[I 2024-05-10 03:59:23,267] Trial 421 finished with value: 0.9881516587677726 and parameters: {'learning_rate': 0.0658873249494578, 'depth': 10, 'num_leaves': 78, 'n_estimators': 886, 'min_data_in_leaf': 83, 'min_gain_to_split': 0.4880003201961511}. Best is trial 311 with value: 0.9931811443818559.\n",
      "[I 2024-05-10 03:59:28,904] Trial 422 pruned. \n",
      "[I 2024-05-10 03:59:33,302] Trial 423 pruned. \n",
      "[I 2024-05-10 03:59:54,370] Trial 424 finished with value: 0.9914074074074074 and parameters: {'learning_rate': 0.061611224023933875, 'depth': 10, 'num_leaves': 83, 'n_estimators': 908, 'min_data_in_leaf': 82, 'min_gain_to_split': 0.009945352910626716}. Best is trial 311 with value: 0.9931811443818559.\n",
      "[I 2024-05-10 03:59:59,558] Trial 425 pruned. \n",
      "[I 2024-05-10 04:00:10,060] Trial 426 finished with value: 0.98903053661429 and parameters: {'learning_rate': 0.07010299606141927, 'depth': 9, 'num_leaves': 75, 'n_estimators': 837, 'min_data_in_leaf': 64, 'min_gain_to_split': 0.46968490369950605}. Best is trial 311 with value: 0.9931811443818559.\n",
      "[I 2024-05-10 04:00:13,440] Trial 427 pruned. \n",
      "[I 2024-05-10 04:00:24,158] Trial 428 finished with value: 0.9881516587677726 and parameters: {'learning_rate': 0.06545276741628395, 'depth': 11, 'num_leaves': 115, 'n_estimators': 961, 'min_data_in_leaf': 80, 'min_gain_to_split': 0.7917370164747621}. Best is trial 311 with value: 0.9931811443818559.\n",
      "[I 2024-05-10 04:00:27,618] Trial 429 pruned. \n",
      "[I 2024-05-10 04:00:36,937] Trial 430 finished with value: 0.989037037037037 and parameters: {'learning_rate': 0.08099475316725807, 'depth': 10, 'num_leaves': 94, 'n_estimators': 493, 'min_data_in_leaf': 73, 'min_gain_to_split': 0.33558600873041744}. Best is trial 311 with value: 0.9931811443818559.\n",
      "[I 2024-05-10 04:00:56,466] Trial 431 finished with value: 0.9925882004150608 and parameters: {'learning_rate': 0.05623260338113685, 'depth': 6, 'num_leaves': 99, 'n_estimators': 858, 'min_data_in_leaf': 81, 'min_gain_to_split': 0.006617087068211111}. Best is trial 311 with value: 0.9931811443818559.\n",
      "[I 2024-05-10 04:01:19,444] Trial 432 finished with value: 0.9922848664688427 and parameters: {'learning_rate': 0.05470247351184324, 'depth': 7, 'num_leaves': 103, 'n_estimators': 871, 'min_data_in_leaf': 78, 'min_gain_to_split': 0.0034396301253499617}. Best is trial 311 with value: 0.9931811443818559.\n",
      "[I 2024-05-10 04:01:31,836] Trial 433 finished with value: 0.9878590464909683 and parameters: {'learning_rate': 0.052393330531889465, 'depth': 7, 'num_leaves': 98, 'n_estimators': 926, 'min_data_in_leaf': 67, 'min_gain_to_split': 0.3519531785646889}. Best is trial 311 with value: 0.9931811443818559.\n",
      "[I 2024-05-10 04:02:00,231] Trial 434 finished with value: 0.9934718100890207 and parameters: {'learning_rate': 0.0551289786029738, 'depth': 6, 'num_leaves': 103, 'n_estimators': 872, 'min_data_in_leaf': 75, 'min_gain_to_split': 0.0016259661223933233}. Best is trial 434 with value: 0.9934718100890207.\n",
      "[I 2024-05-10 04:02:10,980] Trial 435 finished with value: 0.988737403675163 and parameters: {'learning_rate': 0.054692802257231575, 'depth': 6, 'num_leaves': 102, 'n_estimators': 859, 'min_data_in_leaf': 78, 'min_gain_to_split': 0.6650280427600191}. Best is trial 434 with value: 0.9934718100890207.\n",
      "[I 2024-05-10 04:02:24,250] Trial 436 finished with value: 0.9896173242361317 and parameters: {'learning_rate': 0.04888724742119617, 'depth': 6, 'num_leaves': 108, 'n_estimators': 896, 'min_data_in_leaf': 76, 'min_gain_to_split': 0.2617319485931451}. Best is trial 434 with value: 0.9934718100890207.\n",
      "[I 2024-05-10 04:02:36,124] Trial 437 finished with value: 0.990210619994067 and parameters: {'learning_rate': 0.055508350030909356, 'depth': 6, 'num_leaves': 105, 'n_estimators': 875, 'min_data_in_leaf': 78, 'min_gain_to_split': 0.310890858576954}. Best is trial 434 with value: 0.9934718100890207.\n",
      "[I 2024-05-10 04:02:42,219] Trial 438 pruned. \n",
      "[I 2024-05-10 04:02:46,686] Trial 439 pruned. \n",
      "[I 2024-05-10 04:02:54,580] Trial 440 pruned. \n",
      "[I 2024-05-10 04:03:21,454] Trial 441 finished with value: 0.9922848664688427 and parameters: {'learning_rate': 0.04754407224276647, 'depth': 6, 'num_leaves': 100, 'n_estimators': 819, 'min_data_in_leaf': 79, 'min_gain_to_split': 0.0005638791313176674}. Best is trial 434 with value: 0.9934718100890207.\n",
      "[I 2024-05-10 04:03:32,950] Trial 442 finished with value: 0.98814463544754 and parameters: {'learning_rate': 0.045354488578520306, 'depth': 5, 'num_leaves': 98, 'n_estimators': 855, 'min_data_in_leaf': 79, 'min_gain_to_split': 0.5513253505532176}. Best is trial 434 with value: 0.9934718100890207.\n",
      "[I 2024-05-10 04:03:58,277] Trial 443 finished with value: 0.9922802850356295 and parameters: {'learning_rate': 0.0473400166722662, 'depth': 6, 'num_leaves': 94, 'n_estimators': 839, 'min_data_in_leaf': 81, 'min_gain_to_split': 0.0035811845328360386}. Best is trial 434 with value: 0.9934718100890207.\n",
      "[I 2024-05-10 04:04:11,420] Trial 444 finished with value: 0.9908039157520023 and parameters: {'learning_rate': 0.04443373050641664, 'depth': 6, 'num_leaves': 94, 'n_estimators': 822, 'min_data_in_leaf': 82, 'min_gain_to_split': 0.2801215709367124}. Best is trial 434 with value: 0.9934718100890207.\n",
      "[I 2024-05-10 04:04:22,899] Trial 445 finished with value: 0.9896173242361317 and parameters: {'learning_rate': 0.04955817122497701, 'depth': 6, 'num_leaves': 100, 'n_estimators': 871, 'min_data_in_leaf': 81, 'min_gain_to_split': 0.5696299538273255}. Best is trial 434 with value: 0.9934718100890207.\n",
      "[I 2024-05-10 04:04:37,019] Trial 446 finished with value: 0.9896234805810851 and parameters: {'learning_rate': 0.04045606959056912, 'depth': 6, 'num_leaves': 97, 'n_estimators': 852, 'min_data_in_leaf': 83, 'min_gain_to_split': 0.2689571550219335}. Best is trial 434 with value: 0.9934718100890207.\n",
      "[I 2024-05-10 04:04:57,831] Trial 447 finished with value: 0.9922848664688427 and parameters: {'learning_rate': 0.04689574255672186, 'depth': 6, 'num_leaves': 103, 'n_estimators': 826, 'min_data_in_leaf': 56, 'min_gain_to_split': 0.009969610809822494}. Best is trial 434 with value: 0.9934718100890207.\n",
      "[I 2024-05-10 04:05:21,314] Trial 448 finished with value: 0.9922894424673784 and parameters: {'learning_rate': 0.04641599896796019, 'depth': 6, 'num_leaves': 100, 'n_estimators': 900, 'min_data_in_leaf': 16, 'min_gain_to_split': 0.00619423663243604}. Best is trial 434 with value: 0.9934718100890207.\n",
      "[I 2024-05-10 04:05:32,911] Trial 449 finished with value: 0.98814463544754 and parameters: {'learning_rate': 0.04330659016188898, 'depth': 6, 'num_leaves': 99, 'n_estimators': 824, 'min_data_in_leaf': 29, 'min_gain_to_split': 0.6351019858049138}. Best is trial 434 with value: 0.9934718100890207.\n",
      "[I 2024-05-10 04:06:07,571] Trial 450 finished with value: 0.9914074074074074 and parameters: {'learning_rate': 0.034337019067451645, 'depth': 6, 'num_leaves': 101, 'n_estimators': 893, 'min_data_in_leaf': 43, 'min_gain_to_split': 0.00028640398840281116}. Best is trial 434 with value: 0.9934718100890207.\n",
      "[I 2024-05-10 04:06:20,160] Trial 451 finished with value: 0.9905100830367735 and parameters: {'learning_rate': 0.04819606663907239, 'depth': 6, 'num_leaves': 108, 'n_estimators': 842, 'min_data_in_leaf': 35, 'min_gain_to_split': 0.3118984196634792}. Best is trial 434 with value: 0.9934718100890207.\n",
      "[I 2024-05-10 04:06:28,858] Trial 452 pruned. \n",
      "[I 2024-05-10 04:06:44,700] Trial 453 finished with value: 0.9901989901989902 and parameters: {'learning_rate': 0.03927087649004873, 'depth': 6, 'num_leaves': 96, 'n_estimators': 875, 'min_data_in_leaf': 55, 'min_gain_to_split': 0.28694961769053146}. Best is trial 434 with value: 0.9934718100890207.\n",
      "[I 2024-05-10 04:06:53,626] Trial 454 pruned. \n",
      "[I 2024-05-10 04:07:05,142] Trial 455 finished with value: 0.9896173242361317 and parameters: {'learning_rate': 0.04691007936983566, 'depth': 6, 'num_leaves': 93, 'n_estimators': 839, 'min_data_in_leaf': 40, 'min_gain_to_split': 0.4830656700124479}. Best is trial 434 with value: 0.9934718100890207.\n",
      "[I 2024-05-10 04:07:18,428] Trial 456 finished with value: 0.9905100830367735 and parameters: {'learning_rate': 0.05033632106329174, 'depth': 6, 'num_leaves': 101, 'n_estimators': 907, 'min_data_in_leaf': 55, 'min_gain_to_split': 0.23077629814953401}. Best is trial 434 with value: 0.9934718100890207.\n",
      "[I 2024-05-10 04:07:23,564] Trial 457 pruned. \n",
      "[I 2024-05-10 04:07:34,784] Trial 458 finished with value: 0.989037037037037 and parameters: {'learning_rate': 0.0514112889256041, 'depth': 6, 'num_leaves': 98, 'n_estimators': 840, 'min_data_in_leaf': 78, 'min_gain_to_split': 0.46434183718614463}. Best is trial 434 with value: 0.9934718100890207.\n",
      "[I 2024-05-10 04:07:57,765] Trial 459 finished with value: 0.9919905072678731 and parameters: {'learning_rate': 0.03671727775250665, 'depth': 6, 'num_leaves': 108, 'n_estimators': 880, 'min_data_in_leaf': 77, 'min_gain_to_split': 0.02135221524175153}. Best is trial 434 with value: 0.9934718100890207.\n",
      "[I 2024-05-10 04:08:08,463] Trial 460 finished with value: 0.9863582443653618 and parameters: {'learning_rate': 0.04683195684741191, 'depth': 6, 'num_leaves': 103, 'n_estimators': 834, 'min_data_in_leaf': 80, 'min_gain_to_split': 0.7840809840538502}. Best is trial 434 with value: 0.9934718100890207.\n",
      "[I 2024-05-10 04:08:32,490] Trial 461 finished with value: 0.9919905072678731 and parameters: {'learning_rate': 0.05184266929333149, 'depth': 7, 'num_leaves': 98, 'n_estimators': 806, 'min_data_in_leaf': 63, 'min_gain_to_split': 0.0024321000598860523}. Best is trial 434 with value: 0.9934718100890207.\n",
      "[I 2024-05-10 04:08:46,054] Trial 462 finished with value: 0.9896234805810851 and parameters: {'learning_rate': 0.04401754433591171, 'depth': 6, 'num_leaves': 95, 'n_estimators': 923, 'min_data_in_leaf': 23, 'min_gain_to_split': 0.305812120368363}. Best is trial 434 with value: 0.9934718100890207.\n",
      "[I 2024-05-10 04:09:10,527] Trial 463 finished with value: 0.9928783382789318 and parameters: {'learning_rate': 0.05520256676202141, 'depth': 5, 'num_leaves': 90, 'n_estimators': 890, 'min_data_in_leaf': 19, 'min_gain_to_split': 0.0007175174509030519}. Best is trial 434 with value: 0.9934718100890207.\n",
      "[I 2024-05-10 04:09:19,937] Trial 464 finished with value: 0.9875518672199171 and parameters: {'learning_rate': 0.05379581603926573, 'depth': 5, 'num_leaves': 89, 'n_estimators': 866, 'min_data_in_leaf': 78, 'min_gain_to_split': 1.2629742749496076}. Best is trial 434 with value: 0.9934718100890207.\n",
      "[I 2024-05-10 04:09:31,134] Trial 465 finished with value: 0.9887240356083086 and parameters: {'learning_rate': 0.0487104545023665, 'depth': 5, 'num_leaves': 91, 'n_estimators': 844, 'min_data_in_leaf': 19, 'min_gain_to_split': 0.5499927535040917}. Best is trial 434 with value: 0.9934718100890207.\n",
      "[I 2024-05-10 04:09:42,942] Trial 466 finished with value: 0.9907984565152864 and parameters: {'learning_rate': 0.05485461830757939, 'depth': 5, 'num_leaves': 102, 'n_estimators': 898, 'min_data_in_leaf': 58, 'min_gain_to_split': 0.28051063084057826}. Best is trial 434 with value: 0.9934718100890207.\n",
      "[I 2024-05-10 04:10:05,938] Trial 467 finished with value: 0.9925838030258084 and parameters: {'learning_rate': 0.04570722778410616, 'depth': 5, 'num_leaves': 94, 'n_estimators': 871, 'min_data_in_leaf': 16, 'min_gain_to_split': 0.001592821481346685}. Best is trial 434 with value: 0.9934718100890207.\n",
      "[I 2024-05-10 04:10:17,675] Trial 468 finished with value: 0.9896173242361317 and parameters: {'learning_rate': 0.04213973728400073, 'depth': 5, 'num_leaves': 92, 'n_estimators': 719, 'min_data_in_leaf': 12, 'min_gain_to_split': 0.47881205209822053}. Best is trial 434 with value: 0.9934718100890207.\n",
      "[I 2024-05-10 04:10:27,683] Trial 469 finished with value: 0.988430732720261 and parameters: {'learning_rate': 0.05654442410885527, 'depth': 5, 'num_leaves': 99, 'n_estimators': 879, 'min_data_in_leaf': 19, 'min_gain_to_split': 0.8293012500592363}. Best is trial 434 with value: 0.9934718100890207.\n",
      "[I 2024-05-10 04:10:40,101] Trial 470 finished with value: 0.9896173242361317 and parameters: {'learning_rate': 0.05144341492558528, 'depth': 5, 'num_leaves': 112, 'n_estimators': 887, 'min_data_in_leaf': 17, 'min_gain_to_split': 0.2759867790289722}. Best is trial 434 with value: 0.9934718100890207.\n",
      "[I 2024-05-10 04:10:52,853] Trial 471 pruned. \n",
      "[I 2024-05-10 04:11:04,769] Trial 472 finished with value: 0.98989898989899 and parameters: {'learning_rate': 0.04635099134245857, 'depth': 5, 'num_leaves': 106, 'n_estimators': 900, 'min_data_in_leaf': 18, 'min_gain_to_split': 0.5093344183302386}. Best is trial 434 with value: 0.9934718100890207.\n",
      "[I 2024-05-10 04:11:10,108] Trial 473 pruned. \n",
      "[I 2024-05-10 04:11:25,468] Trial 474 finished with value: 0.9887240356083086 and parameters: {'learning_rate': 0.038133126535878484, 'depth': 7, 'num_leaves': 95, 'n_estimators': 867, 'min_data_in_leaf': 12, 'min_gain_to_split': 0.30653679910184994}. Best is trial 434 with value: 0.9934718100890207.\n",
      "[I 2024-05-10 04:11:36,076] Trial 475 finished with value: 0.988430732720261 and parameters: {'learning_rate': 0.052520882216118545, 'depth': 5, 'num_leaves': 104, 'n_estimators': 910, 'min_data_in_leaf': 12, 'min_gain_to_split': 0.8020259437706175}. Best is trial 434 with value: 0.9934718100890207.\n",
      "[I 2024-05-10 04:12:06,224] Trial 476 finished with value: 0.9908148148148148 and parameters: {'learning_rate': 0.0445448663546043, 'depth': 8, 'num_leaves': 111, 'n_estimators': 855, 'min_data_in_leaf': 17, 'min_gain_to_split': 0.005771808548051123}. Best is trial 434 with value: 0.9934718100890207.\n",
      "[I 2024-05-10 04:12:29,825] Trial 477 finished with value: 0.9931770987837437 and parameters: {'learning_rate': 0.05658793321541531, 'depth': 5, 'num_leaves': 104, 'n_estimators': 869, 'min_data_in_leaf': 14, 'min_gain_to_split': 7.808539521898084e-05}. Best is trial 434 with value: 0.9934718100890207.\n",
      "[I 2024-05-10 04:12:39,950] Trial 478 finished with value: 0.9904988123515439 and parameters: {'learning_rate': 0.05842209297168061, 'depth': 5, 'num_leaves': 92, 'n_estimators': 874, 'min_data_in_leaf': 16, 'min_gain_to_split': 0.5539649563870979}. Best is trial 434 with value: 0.9934718100890207.\n",
      "[I 2024-05-10 04:12:45,975] Trial 479 pruned. \n",
      "[I 2024-05-10 04:12:57,633] Trial 480 finished with value: 0.991108476585655 and parameters: {'learning_rate': 0.059656135155994716, 'depth': 5, 'num_leaves': 108, 'n_estimators': 895, 'min_data_in_leaf': 21, 'min_gain_to_split': 0.2806138081177677}. Best is trial 434 with value: 0.9934718100890207.\n",
      "[I 2024-05-10 04:13:09,902] Trial 481 finished with value: 0.990210619994067 and parameters: {'learning_rate': 0.05148525259869364, 'depth': 5, 'num_leaves': 110, 'n_estimators': 874, 'min_data_in_leaf': 14, 'min_gain_to_split': 0.28630411651601523}. Best is trial 434 with value: 0.9934718100890207.\n",
      "[I 2024-05-10 04:13:19,804] Trial 482 finished with value: 0.9875222816399287 and parameters: {'learning_rate': 0.057302382957128285, 'depth': 5, 'num_leaves': 100, 'n_estimators': 884, 'min_data_in_leaf': 17, 'min_gain_to_split': 0.7354892151102558}. Best is trial 434 with value: 0.9934718100890207.\n",
      "[I 2024-05-10 04:13:31,292] Trial 483 finished with value: 0.9908039157520023 and parameters: {'learning_rate': 0.06172143531758183, 'depth': 5, 'num_leaves': 96, 'n_estimators': 895, 'min_data_in_leaf': 15, 'min_gain_to_split': 0.2757867862317214}. Best is trial 434 with value: 0.9934718100890207.\n",
      "[I 2024-05-10 04:13:41,930] Trial 484 finished with value: 0.9896049896049897 and parameters: {'learning_rate': 0.054274842362638846, 'depth': 5, 'num_leaves': 104, 'n_estimators': 856, 'min_data_in_leaf': 13, 'min_gain_to_split': 0.60509247851888}. Best is trial 434 with value: 0.9934718100890207.\n",
      "[I 2024-05-10 04:13:47,824] Trial 485 pruned. \n",
      "[I 2024-05-10 04:14:08,675] Trial 486 finished with value: 0.994061757719715 and parameters: {'learning_rate': 0.062170719319985725, 'depth': 5, 'num_leaves': 91, 'n_estimators': 868, 'min_data_in_leaf': 15, 'min_gain_to_split': 0.002071608294861996}. Best is trial 486 with value: 0.994061757719715.\n",
      "[I 2024-05-10 04:14:20,318] Trial 487 finished with value: 0.9916815210932858 and parameters: {'learning_rate': 0.06307089059015711, 'depth': 5, 'num_leaves': 92, 'n_estimators': 913, 'min_data_in_leaf': 14, 'min_gain_to_split': 0.2588005848632491}. Best is trial 486 with value: 0.994061757719715.\n",
      "[I 2024-05-10 04:14:31,808] Trial 488 finished with value: 0.9896049896049897 and parameters: {'learning_rate': 0.06056851360936169, 'depth': 5, 'num_leaves': 86, 'n_estimators': 875, 'min_data_in_leaf': 14, 'min_gain_to_split': 0.4192788139530057}. Best is trial 486 with value: 0.994061757719715.\n",
      "[I 2024-05-10 04:14:42,652] Trial 489 finished with value: 0.9890240284781964 and parameters: {'learning_rate': 0.05689889726450916, 'depth': 5, 'num_leaves': 88, 'n_estimators': 894, 'min_data_in_leaf': 16, 'min_gain_to_split': 0.5333403721179775}. Best is trial 486 with value: 0.994061757719715.\n",
      "[I 2024-05-10 04:14:56,949] Trial 490 pruned. \n",
      "[I 2024-05-10 04:15:13,293] Trial 491 finished with value: 0.9878374369623257 and parameters: {'learning_rate': 0.02157091955391338, 'depth': 5, 'num_leaves': 87, 'n_estimators': 938, 'min_data_in_leaf': 15, 'min_gain_to_split': 0.8797742714380613}. Best is trial 486 with value: 0.994061757719715.\n",
      "[I 2024-05-10 04:15:31,043] Trial 492 finished with value: 0.9928825622775801 and parameters: {'learning_rate': 0.06255869985048958, 'depth': 5, 'num_leaves': 91, 'n_estimators': 877, 'min_data_in_leaf': 21, 'min_gain_to_split': 0.010039507484045793}. Best is trial 486 with value: 0.994061757719715.\n",
      "[I 2024-05-10 04:15:51,573] Trial 493 finished with value: 0.9925882004150608 and parameters: {'learning_rate': 0.05953560302997594, 'depth': 5, 'num_leaves': 91, 'n_estimators': 884, 'min_data_in_leaf': 10, 'min_gain_to_split': 0.0042884087556154015}. Best is trial 486 with value: 0.994061757719715.\n",
      "[I 2024-05-10 04:15:56,312] Trial 494 pruned. \n",
      "[I 2024-05-10 04:16:07,001] Trial 495 finished with value: 0.988430732720261 and parameters: {'learning_rate': 0.05848647069307556, 'depth': 5, 'num_leaves': 91, 'n_estimators': 851, 'min_data_in_leaf': 21, 'min_gain_to_split': 0.5191979998151228}. Best is trial 486 with value: 0.994061757719715.\n",
      "[I 2024-05-10 04:16:18,187] Trial 496 finished with value: 0.98903053661429 and parameters: {'learning_rate': 0.06377769283872559, 'depth': 5, 'num_leaves': 87, 'n_estimators': 888, 'min_data_in_leaf': 11, 'min_gain_to_split': 0.2888145326308975}. Best is trial 486 with value: 0.994061757719715.\n",
      "[I 2024-05-10 04:16:31,275] Trial 497 pruned. \n",
      "[I 2024-05-10 04:16:40,746] Trial 498 pruned. \n",
      "[I 2024-05-10 04:17:00,221] Trial 499 finished with value: 0.9881093935790726 and parameters: {'learning_rate': 0.025030756967570376, 'depth': 5, 'num_leaves': 97, 'n_estimators': 758, 'min_data_in_leaf': 23, 'min_gain_to_split': 0.6774281970273821}. Best is trial 486 with value: 0.994061757719715.\n"
     ]
    }
   ],
   "source": [
    "warnings.filterwarnings('ignore') #ignore pandas warnings\n",
    "\n",
    "study_feat_eng.optimize(\n",
    "    objective_feat_eng, \n",
    "    n_trials=NUM_TRIALS,\n",
    "    timeout = 20 * 60 * 60, # timeout after 20 hours\n",
    "    show_progress_bar=True\n",
    ")"
   ]
  },
  {
   "cell_type": "code",
   "execution_count": 23,
   "metadata": {},
   "outputs": [
    {
     "name": "stdout",
     "output_type": "stream",
     "text": [
      "{'learning_rate': 0.062170719319985725, 'depth': 5, 'num_leaves': 91, 'n_estimators': 868, 'min_data_in_leaf': 15, 'min_gain_to_split': 0.002071608294861996}\n"
     ]
    }
   ],
   "source": [
    "best_params = study_feat_eng.best_params\n",
    "    \n",
    "print(best_params)\n",
    "\n",
    "if \"catboost_feat_eng\" in config:\n",
    "    config[\"catboost_feat_eng\"].update(best_params)\n",
    "else:\n",
    "    config[\"catboost_feat_eng\"] = best_params\n",
    "\n",
    "# see: https://stackoverflow.com/questions/12470665/how-can-i-write-data-in-yaml-format-in-a-file\n",
    "with open(\"classical_ml_config.yaml\", \"w\") as file:\n",
    "    yaml.dump(config, file, default_flow_style=False)"
   ]
  },
  {
   "cell_type": "code",
   "execution_count": 24,
   "metadata": {},
   "outputs": [
    {
     "data": {
      "application/vnd.plotly.v1+json": {
       "config": {
        "plotlyServerURL": "https://plot.ly"
       },
       "data": [
        {
         "cliponaxis": false,
         "hovertemplate": [
          "num_leaves (IntDistribution): 0.006807413777240513<extra></extra>",
          "n_estimators (IntDistribution): 0.015829808360601296<extra></extra>",
          "min_data_in_leaf (IntDistribution): 0.027038060914662817<extra></extra>",
          "depth (IntDistribution): 0.03939047883547456<extra></extra>",
          "learning_rate (FloatDistribution): 0.151460906653303<extra></extra>",
          "min_gain_to_split (FloatDistribution): 0.7594733314587176<extra></extra>"
         ],
         "name": "Objective Value",
         "orientation": "h",
         "text": [
          "<0.01",
          "0.02",
          "0.03",
          "0.04",
          "0.15",
          "0.76"
         ],
         "textposition": "outside",
         "type": "bar",
         "x": [
          0.006807413777240513,
          0.015829808360601296,
          0.027038060914662817,
          0.03939047883547456,
          0.151460906653303,
          0.7594733314587176
         ],
         "y": [
          "num_leaves",
          "n_estimators",
          "min_data_in_leaf",
          "depth",
          "learning_rate",
          "min_gain_to_split"
         ]
        }
       ],
       "layout": {
        "template": {
         "data": {
          "bar": [
           {
            "error_x": {
             "color": "#2a3f5f"
            },
            "error_y": {
             "color": "#2a3f5f"
            },
            "marker": {
             "line": {
              "color": "#E5ECF6",
              "width": 0.5
             },
             "pattern": {
              "fillmode": "overlay",
              "size": 10,
              "solidity": 0.2
             }
            },
            "type": "bar"
           }
          ],
          "barpolar": [
           {
            "marker": {
             "line": {
              "color": "#E5ECF6",
              "width": 0.5
             },
             "pattern": {
              "fillmode": "overlay",
              "size": 10,
              "solidity": 0.2
             }
            },
            "type": "barpolar"
           }
          ],
          "carpet": [
           {
            "aaxis": {
             "endlinecolor": "#2a3f5f",
             "gridcolor": "white",
             "linecolor": "white",
             "minorgridcolor": "white",
             "startlinecolor": "#2a3f5f"
            },
            "baxis": {
             "endlinecolor": "#2a3f5f",
             "gridcolor": "white",
             "linecolor": "white",
             "minorgridcolor": "white",
             "startlinecolor": "#2a3f5f"
            },
            "type": "carpet"
           }
          ],
          "choropleth": [
           {
            "colorbar": {
             "outlinewidth": 0,
             "ticks": ""
            },
            "type": "choropleth"
           }
          ],
          "contour": [
           {
            "colorbar": {
             "outlinewidth": 0,
             "ticks": ""
            },
            "colorscale": [
             [
              0,
              "#0d0887"
             ],
             [
              0.1111111111111111,
              "#46039f"
             ],
             [
              0.2222222222222222,
              "#7201a8"
             ],
             [
              0.3333333333333333,
              "#9c179e"
             ],
             [
              0.4444444444444444,
              "#bd3786"
             ],
             [
              0.5555555555555556,
              "#d8576b"
             ],
             [
              0.6666666666666666,
              "#ed7953"
             ],
             [
              0.7777777777777778,
              "#fb9f3a"
             ],
             [
              0.8888888888888888,
              "#fdca26"
             ],
             [
              1,
              "#f0f921"
             ]
            ],
            "type": "contour"
           }
          ],
          "contourcarpet": [
           {
            "colorbar": {
             "outlinewidth": 0,
             "ticks": ""
            },
            "type": "contourcarpet"
           }
          ],
          "heatmap": [
           {
            "colorbar": {
             "outlinewidth": 0,
             "ticks": ""
            },
            "colorscale": [
             [
              0,
              "#0d0887"
             ],
             [
              0.1111111111111111,
              "#46039f"
             ],
             [
              0.2222222222222222,
              "#7201a8"
             ],
             [
              0.3333333333333333,
              "#9c179e"
             ],
             [
              0.4444444444444444,
              "#bd3786"
             ],
             [
              0.5555555555555556,
              "#d8576b"
             ],
             [
              0.6666666666666666,
              "#ed7953"
             ],
             [
              0.7777777777777778,
              "#fb9f3a"
             ],
             [
              0.8888888888888888,
              "#fdca26"
             ],
             [
              1,
              "#f0f921"
             ]
            ],
            "type": "heatmap"
           }
          ],
          "heatmapgl": [
           {
            "colorbar": {
             "outlinewidth": 0,
             "ticks": ""
            },
            "colorscale": [
             [
              0,
              "#0d0887"
             ],
             [
              0.1111111111111111,
              "#46039f"
             ],
             [
              0.2222222222222222,
              "#7201a8"
             ],
             [
              0.3333333333333333,
              "#9c179e"
             ],
             [
              0.4444444444444444,
              "#bd3786"
             ],
             [
              0.5555555555555556,
              "#d8576b"
             ],
             [
              0.6666666666666666,
              "#ed7953"
             ],
             [
              0.7777777777777778,
              "#fb9f3a"
             ],
             [
              0.8888888888888888,
              "#fdca26"
             ],
             [
              1,
              "#f0f921"
             ]
            ],
            "type": "heatmapgl"
           }
          ],
          "histogram": [
           {
            "marker": {
             "pattern": {
              "fillmode": "overlay",
              "size": 10,
              "solidity": 0.2
             }
            },
            "type": "histogram"
           }
          ],
          "histogram2d": [
           {
            "colorbar": {
             "outlinewidth": 0,
             "ticks": ""
            },
            "colorscale": [
             [
              0,
              "#0d0887"
             ],
             [
              0.1111111111111111,
              "#46039f"
             ],
             [
              0.2222222222222222,
              "#7201a8"
             ],
             [
              0.3333333333333333,
              "#9c179e"
             ],
             [
              0.4444444444444444,
              "#bd3786"
             ],
             [
              0.5555555555555556,
              "#d8576b"
             ],
             [
              0.6666666666666666,
              "#ed7953"
             ],
             [
              0.7777777777777778,
              "#fb9f3a"
             ],
             [
              0.8888888888888888,
              "#fdca26"
             ],
             [
              1,
              "#f0f921"
             ]
            ],
            "type": "histogram2d"
           }
          ],
          "histogram2dcontour": [
           {
            "colorbar": {
             "outlinewidth": 0,
             "ticks": ""
            },
            "colorscale": [
             [
              0,
              "#0d0887"
             ],
             [
              0.1111111111111111,
              "#46039f"
             ],
             [
              0.2222222222222222,
              "#7201a8"
             ],
             [
              0.3333333333333333,
              "#9c179e"
             ],
             [
              0.4444444444444444,
              "#bd3786"
             ],
             [
              0.5555555555555556,
              "#d8576b"
             ],
             [
              0.6666666666666666,
              "#ed7953"
             ],
             [
              0.7777777777777778,
              "#fb9f3a"
             ],
             [
              0.8888888888888888,
              "#fdca26"
             ],
             [
              1,
              "#f0f921"
             ]
            ],
            "type": "histogram2dcontour"
           }
          ],
          "mesh3d": [
           {
            "colorbar": {
             "outlinewidth": 0,
             "ticks": ""
            },
            "type": "mesh3d"
           }
          ],
          "parcoords": [
           {
            "line": {
             "colorbar": {
              "outlinewidth": 0,
              "ticks": ""
             }
            },
            "type": "parcoords"
           }
          ],
          "pie": [
           {
            "automargin": true,
            "type": "pie"
           }
          ],
          "scatter": [
           {
            "fillpattern": {
             "fillmode": "overlay",
             "size": 10,
             "solidity": 0.2
            },
            "type": "scatter"
           }
          ],
          "scatter3d": [
           {
            "line": {
             "colorbar": {
              "outlinewidth": 0,
              "ticks": ""
             }
            },
            "marker": {
             "colorbar": {
              "outlinewidth": 0,
              "ticks": ""
             }
            },
            "type": "scatter3d"
           }
          ],
          "scattercarpet": [
           {
            "marker": {
             "colorbar": {
              "outlinewidth": 0,
              "ticks": ""
             }
            },
            "type": "scattercarpet"
           }
          ],
          "scattergeo": [
           {
            "marker": {
             "colorbar": {
              "outlinewidth": 0,
              "ticks": ""
             }
            },
            "type": "scattergeo"
           }
          ],
          "scattergl": [
           {
            "marker": {
             "colorbar": {
              "outlinewidth": 0,
              "ticks": ""
             }
            },
            "type": "scattergl"
           }
          ],
          "scattermapbox": [
           {
            "marker": {
             "colorbar": {
              "outlinewidth": 0,
              "ticks": ""
             }
            },
            "type": "scattermapbox"
           }
          ],
          "scatterpolar": [
           {
            "marker": {
             "colorbar": {
              "outlinewidth": 0,
              "ticks": ""
             }
            },
            "type": "scatterpolar"
           }
          ],
          "scatterpolargl": [
           {
            "marker": {
             "colorbar": {
              "outlinewidth": 0,
              "ticks": ""
             }
            },
            "type": "scatterpolargl"
           }
          ],
          "scatterternary": [
           {
            "marker": {
             "colorbar": {
              "outlinewidth": 0,
              "ticks": ""
             }
            },
            "type": "scatterternary"
           }
          ],
          "surface": [
           {
            "colorbar": {
             "outlinewidth": 0,
             "ticks": ""
            },
            "colorscale": [
             [
              0,
              "#0d0887"
             ],
             [
              0.1111111111111111,
              "#46039f"
             ],
             [
              0.2222222222222222,
              "#7201a8"
             ],
             [
              0.3333333333333333,
              "#9c179e"
             ],
             [
              0.4444444444444444,
              "#bd3786"
             ],
             [
              0.5555555555555556,
              "#d8576b"
             ],
             [
              0.6666666666666666,
              "#ed7953"
             ],
             [
              0.7777777777777778,
              "#fb9f3a"
             ],
             [
              0.8888888888888888,
              "#fdca26"
             ],
             [
              1,
              "#f0f921"
             ]
            ],
            "type": "surface"
           }
          ],
          "table": [
           {
            "cells": {
             "fill": {
              "color": "#EBF0F8"
             },
             "line": {
              "color": "white"
             }
            },
            "header": {
             "fill": {
              "color": "#C8D4E3"
             },
             "line": {
              "color": "white"
             }
            },
            "type": "table"
           }
          ]
         },
         "layout": {
          "annotationdefaults": {
           "arrowcolor": "#2a3f5f",
           "arrowhead": 0,
           "arrowwidth": 1
          },
          "autotypenumbers": "strict",
          "coloraxis": {
           "colorbar": {
            "outlinewidth": 0,
            "ticks": ""
           }
          },
          "colorscale": {
           "diverging": [
            [
             0,
             "#8e0152"
            ],
            [
             0.1,
             "#c51b7d"
            ],
            [
             0.2,
             "#de77ae"
            ],
            [
             0.3,
             "#f1b6da"
            ],
            [
             0.4,
             "#fde0ef"
            ],
            [
             0.5,
             "#f7f7f7"
            ],
            [
             0.6,
             "#e6f5d0"
            ],
            [
             0.7,
             "#b8e186"
            ],
            [
             0.8,
             "#7fbc41"
            ],
            [
             0.9,
             "#4d9221"
            ],
            [
             1,
             "#276419"
            ]
           ],
           "sequential": [
            [
             0,
             "#0d0887"
            ],
            [
             0.1111111111111111,
             "#46039f"
            ],
            [
             0.2222222222222222,
             "#7201a8"
            ],
            [
             0.3333333333333333,
             "#9c179e"
            ],
            [
             0.4444444444444444,
             "#bd3786"
            ],
            [
             0.5555555555555556,
             "#d8576b"
            ],
            [
             0.6666666666666666,
             "#ed7953"
            ],
            [
             0.7777777777777778,
             "#fb9f3a"
            ],
            [
             0.8888888888888888,
             "#fdca26"
            ],
            [
             1,
             "#f0f921"
            ]
           ],
           "sequentialminus": [
            [
             0,
             "#0d0887"
            ],
            [
             0.1111111111111111,
             "#46039f"
            ],
            [
             0.2222222222222222,
             "#7201a8"
            ],
            [
             0.3333333333333333,
             "#9c179e"
            ],
            [
             0.4444444444444444,
             "#bd3786"
            ],
            [
             0.5555555555555556,
             "#d8576b"
            ],
            [
             0.6666666666666666,
             "#ed7953"
            ],
            [
             0.7777777777777778,
             "#fb9f3a"
            ],
            [
             0.8888888888888888,
             "#fdca26"
            ],
            [
             1,
             "#f0f921"
            ]
           ]
          },
          "colorway": [
           "#636efa",
           "#EF553B",
           "#00cc96",
           "#ab63fa",
           "#FFA15A",
           "#19d3f3",
           "#FF6692",
           "#B6E880",
           "#FF97FF",
           "#FECB52"
          ],
          "font": {
           "color": "#2a3f5f"
          },
          "geo": {
           "bgcolor": "white",
           "lakecolor": "white",
           "landcolor": "#E5ECF6",
           "showlakes": true,
           "showland": true,
           "subunitcolor": "white"
          },
          "hoverlabel": {
           "align": "left"
          },
          "hovermode": "closest",
          "mapbox": {
           "style": "light"
          },
          "paper_bgcolor": "white",
          "plot_bgcolor": "#E5ECF6",
          "polar": {
           "angularaxis": {
            "gridcolor": "white",
            "linecolor": "white",
            "ticks": ""
           },
           "bgcolor": "#E5ECF6",
           "radialaxis": {
            "gridcolor": "white",
            "linecolor": "white",
            "ticks": ""
           }
          },
          "scene": {
           "xaxis": {
            "backgroundcolor": "#E5ECF6",
            "gridcolor": "white",
            "gridwidth": 2,
            "linecolor": "white",
            "showbackground": true,
            "ticks": "",
            "zerolinecolor": "white"
           },
           "yaxis": {
            "backgroundcolor": "#E5ECF6",
            "gridcolor": "white",
            "gridwidth": 2,
            "linecolor": "white",
            "showbackground": true,
            "ticks": "",
            "zerolinecolor": "white"
           },
           "zaxis": {
            "backgroundcolor": "#E5ECF6",
            "gridcolor": "white",
            "gridwidth": 2,
            "linecolor": "white",
            "showbackground": true,
            "ticks": "",
            "zerolinecolor": "white"
           }
          },
          "shapedefaults": {
           "line": {
            "color": "#2a3f5f"
           }
          },
          "ternary": {
           "aaxis": {
            "gridcolor": "white",
            "linecolor": "white",
            "ticks": ""
           },
           "baxis": {
            "gridcolor": "white",
            "linecolor": "white",
            "ticks": ""
           },
           "bgcolor": "#E5ECF6",
           "caxis": {
            "gridcolor": "white",
            "linecolor": "white",
            "ticks": ""
           }
          },
          "title": {
           "x": 0.05
          },
          "xaxis": {
           "automargin": true,
           "gridcolor": "white",
           "linecolor": "white",
           "ticks": "",
           "title": {
            "standoff": 15
           },
           "zerolinecolor": "white",
           "zerolinewidth": 2
          },
          "yaxis": {
           "automargin": true,
           "gridcolor": "white",
           "linecolor": "white",
           "ticks": "",
           "title": {
            "standoff": 15
           },
           "zerolinecolor": "white",
           "zerolinewidth": 2
          }
         }
        },
        "title": {
         "text": "Hyperparameter Importances"
        },
        "xaxis": {
         "title": {
          "text": "Hyperparameter Importance"
         }
        },
        "yaxis": {
         "title": {
          "text": "Hyperparameter"
         }
        }
       }
      }
     },
     "metadata": {},
     "output_type": "display_data"
    }
   ],
   "source": [
    "p_importance_feat_eng = optuna.visualization.plot_param_importances(study_feat_eng)\n",
    "p_importance_feat_eng.show()"
   ]
  },
  {
   "cell_type": "code",
   "execution_count": 25,
   "metadata": {},
   "outputs": [
    {
     "data": {
      "application/vnd.plotly.v1+json": {
       "config": {
        "plotlyServerURL": "https://plot.ly"
       },
       "data": [
        {
         "mode": "markers",
         "name": "Objective Value",
         "type": "scatter",
         "x": [
          0,
          1,
          2,
          3,
          4,
          5,
          6,
          7,
          8,
          9,
          10,
          11,
          12,
          13,
          14,
          15,
          16,
          17,
          18,
          19,
          21,
          22,
          24,
          27,
          28,
          29,
          31,
          32,
          33,
          34,
          36,
          38,
          41,
          42,
          43,
          44,
          47,
          49,
          51,
          52,
          53,
          54,
          55,
          56,
          58,
          59,
          60,
          61,
          62,
          63,
          64,
          65,
          66,
          67,
          68,
          71,
          72,
          73,
          74,
          77,
          79,
          81,
          82,
          83,
          85,
          87,
          88,
          89,
          90,
          91,
          92,
          93,
          94,
          95,
          96,
          99,
          101,
          102,
          104,
          105,
          106,
          108,
          111,
          112,
          113,
          114,
          115,
          116,
          118,
          120,
          121,
          122,
          123,
          124,
          125,
          126,
          127,
          128,
          129,
          130,
          131,
          132,
          133,
          134,
          135,
          136,
          139,
          141,
          142,
          143,
          144,
          145,
          146,
          147,
          148,
          150,
          151,
          152,
          153,
          154,
          157,
          158,
          161,
          162,
          163,
          164,
          165,
          166,
          167,
          168,
          169,
          170,
          171,
          172,
          173,
          174,
          176,
          177,
          179,
          181,
          182,
          183,
          184,
          186,
          187,
          188,
          189,
          190,
          191,
          192,
          193,
          194,
          195,
          197,
          198,
          200,
          201,
          202,
          203,
          204,
          206,
          207,
          209,
          210,
          211,
          213,
          214,
          215,
          216,
          217,
          218,
          220,
          221,
          222,
          223,
          224,
          225,
          226,
          227,
          228,
          229,
          231,
          232,
          233,
          234,
          237,
          238,
          239,
          240,
          241,
          242,
          243,
          244,
          245,
          246,
          247,
          250,
          251,
          252,
          253,
          254,
          255,
          257,
          258,
          259,
          260,
          261,
          265,
          267,
          268,
          272,
          273,
          274,
          275,
          277,
          278,
          281,
          282,
          283,
          284,
          285,
          287,
          288,
          289,
          291,
          294,
          295,
          296,
          297,
          298,
          299,
          301,
          303,
          305,
          307,
          308,
          309,
          310,
          311,
          313,
          315,
          316,
          317,
          320,
          322,
          323,
          325,
          326,
          330,
          331,
          334,
          336,
          337,
          339,
          340,
          342,
          343,
          344,
          345,
          346,
          348,
          349,
          350,
          351,
          352,
          354,
          355,
          357,
          359,
          360,
          362,
          363,
          364,
          367,
          368,
          369,
          373,
          374,
          375,
          376,
          378,
          381,
          383,
          384,
          386,
          387,
          388,
          389,
          390,
          391,
          392,
          395,
          396,
          398,
          399,
          400,
          401,
          402,
          403,
          407,
          408,
          409,
          410,
          411,
          412,
          414,
          415,
          417,
          418,
          420,
          421,
          424,
          426,
          428,
          430,
          431,
          432,
          433,
          434,
          435,
          436,
          437,
          441,
          442,
          443,
          444,
          445,
          446,
          447,
          448,
          449,
          450,
          451,
          453,
          455,
          456,
          458,
          459,
          460,
          461,
          462,
          463,
          464,
          465,
          466,
          467,
          468,
          469,
          470,
          472,
          474,
          475,
          476,
          477,
          478,
          480,
          481,
          482,
          483,
          484,
          486,
          487,
          488,
          489,
          491,
          492,
          493,
          495,
          496,
          499
         ],
         "y": [
          0.9831510493644694,
          0.9619214997070885,
          0.9781453041937389,
          0.96901740926527,
          0.9846062759029012,
          0.9707013909440663,
          0.9582107121836374,
          0.9638978573525095,
          0.9698581560283688,
          0.9801833776989056,
          0.9884444444444445,
          0.9908202546639029,
          0.9902222222222222,
          0.9834221432800474,
          0.9902222222222222,
          0.9822380106571936,
          0.9757683215130024,
          0.9849067771530039,
          0.9813884785819793,
          0.9866745632217945,
          0.9911032028469751,
          0.9899289099526066,
          0.9860823215872075,
          0.9849157054125999,
          0.9842869848799288,
          0.9849067771530039,
          0.9902395740905058,
          0.9872668048563814,
          0.9840236686390532,
          0.9845880260818021,
          0.9866666666666667,
          0.9843241644483881,
          0.9872743415211601,
          0.9872668048563814,
          0.9872592592592593,
          0.9878374369623257,
          0.9842962962962963,
          0.9890240284781964,
          0.9916963226571768,
          0.9884444444444445,
          0.9908093685146754,
          0.9899348727057431,
          0.9866745632217945,
          0.985198342214328,
          0.9816568047337279,
          0.9851895734597157,
          0.9819473216928085,
          0.9893238434163701,
          0.9872592592592593,
          0.9849067771530039,
          0.9884375926474949,
          0.9869745411486086,
          0.9913972115099378,
          0.9881516587677726,
          0.9908148148148148,
          0.9919905072678731,
          0.9878518518518519,
          0.9881376037959668,
          0.990521327014218,
          0.988737403675163,
          0.9893364928909952,
          0.9860823215872075,
          0.9878518518518519,
          0.9890435297601421,
          0.9866824504291211,
          0.989635771394729,
          0.9919952564482657,
          0.9919952564482657,
          0.9878590464909683,
          0.9911032028469751,
          0.9863582443653618,
          0.9893238434163701,
          0.9913921044820422,
          0.988737403675163,
          0.9860658167803142,
          0.9884581237052382,
          0.9899348727057431,
          0.9899289099526066,
          0.9890435297601421,
          0.9902222222222222,
          0.9881726788882318,
          0.9869513641755635,
          0.9908148148148148,
          0.9887573964497042,
          0.9916963226571768,
          0.9884444444444445,
          0.9922848664688427,
          0.9878518518518519,
          0.988737403675163,
          0.9884581237052382,
          0.9919952564482657,
          0.991701244813278,
          0.9875592417061612,
          0.989922940130409,
          0.9857904085257548,
          0.9919905072678731,
          0.9875518672199171,
          0.9914023124814705,
          0.9884512881255553,
          0.9872517047139046,
          0.991108476585655,
          0.988737403675163,
          0.991701244813278,
          0.9911137440758294,
          0.9884512881255553,
          0.9908148148148148,
          0.98814463544754,
          0.9884444444444445,
          0.990521327014218,
          0.9872668048563814,
          0.9908148148148148,
          0.9890240284781964,
          0.9908148148148148,
          0.9878446486806997,
          0.9899348727057431,
          0.9884581237052382,
          0.9902164245478803,
          0.9893428063943162,
          0.9866745632217945,
          0.990521327014218,
          0.9922894424673784,
          0.9878518518518519,
          0.9893428063943162,
          0.9908093685146754,
          0.9884375926474949,
          0.9916963226571768,
          0.990515708358032,
          0.9872592592592593,
          0.9884375926474949,
          0.98814463544754,
          0.991108476585655,
          0.9899348727057431,
          0.989037037037037,
          0.9902164245478803,
          0.9914023124814705,
          0.9878518518518519,
          0.9875666074600356,
          0.992,
          0.9925838030258084,
          0.9925882004150608,
          0.988737403675163,
          0.9896234805810851,
          0.98903053661429,
          0.9925925925925926,
          0.9875666074600356,
          0.9925925925925926,
          0.9893364928909952,
          0.9878446486806997,
          0.9893554109994086,
          0.9914124962984898,
          0.9899289099526066,
          0.9872668048563814,
          0.989330171902786,
          0.989330171902786,
          0.992294013040901,
          0.9878590464909683,
          0.9916963226571768,
          0.9899289099526066,
          0.990521327014218,
          0.9911032028469751,
          0.9893428063943162,
          0.991108476585655,
          0.9878662326131992,
          0.9881516587677726,
          0.9916963226571768,
          0.9914074074074074,
          0.9914074074074074,
          0.9899169632265717,
          0.98903053661429,
          0.988737403675163,
          0.9884444444444445,
          0.9911137440758294,
          0.9899289099526066,
          0.9919952564482657,
          0.9884512881255553,
          0.9875518672199171,
          0.9908093685146754,
          0.9878590464909683,
          0.9914023124814705,
          0.9911032028469751,
          0.9884444444444445,
          0.9884512881255553,
          0.9922894424673784,
          0.9887573964497042,
          0.9887307236061684,
          0.9919952564482657,
          0.9878590464909683,
          0.989330171902786,
          0.9878518518518519,
          0.9907984565152864,
          0.9908148148148148,
          0.9914124962984898,
          0.9916963226571768,
          0.9896296296296296,
          0.9925794004155536,
          0.9878518518518519,
          0.991701244813278,
          0.9878518518518519,
          0.9893238434163701,
          0.9887307236061684,
          0.9884512881255553,
          0.990521327014218,
          0.9887507400828893,
          0.991108476585655,
          0.992,
          0.9925969795676636,
          0.992,
          0.98903053661429,
          0.991108476585655,
          0.9878518518518519,
          0.9916963226571768,
          0.9887640449438202,
          0.9875444839857651,
          0.9914124962984898,
          0.98814463544754,
          0.9884375926474949,
          0.9872668048563814,
          0.991701244813278,
          0.9925838030258084,
          0.9887507400828893,
          0.991108476585655,
          0.9881586737714624,
          0.9917061611374408,
          0.989922940130409,
          0.9896234805810851,
          0.9911032028469751,
          0.9887440758293838,
          0.985781990521327,
          0.9920047379330766,
          0.9878590464909683,
          0.9878446486806997,
          0.9887240356083086,
          0.992,
          0.9916963226571768,
          0.9878518518518519,
          0.9872668048563814,
          0.9916913946587537,
          0.9887440758293838,
          0.9931811443818559,
          0.990515708358032,
          0.991108476585655,
          0.9875666074600356,
          0.9887307236061684,
          0.9896234805810851,
          0.9896173242361317,
          0.9878518518518519,
          0.990228013029316,
          0.991701244813278,
          0.9893364928909952,
          0.989330171902786,
          0.9925838030258084,
          0.9896234805810851,
          0.9878446486806997,
          0.9896296296296296,
          0.9902222222222222,
          0.989037037037037,
          0.9869745411486086,
          0.991108476585655,
          0.989635771394729,
          0.9878518518518519,
          0.990515708358032,
          0.9914074074074074,
          0.9881656804733728,
          0.9925838030258084,
          0.9893238434163701,
          0.9881516587677726,
          0.9896296296296296,
          0.9896234805810851,
          0.992,
          0.9916963226571768,
          0.9884444444444445,
          0.9914023124814705,
          0.991108476585655,
          0.9902222222222222,
          0.9922894424673784,
          0.98814463544754,
          0.9910926365795725,
          0.9884375926474949,
          0.9893238434163701,
          0.9919905072678731,
          0.991701244813278,
          0.9908039157520023,
          0.9875592417061612,
          0.9884444444444445,
          0.9916963226571768,
          0.9908039157520023,
          0.9872365687147522,
          0.9919952564482657,
          0.9884444444444445,
          0.9916963226571768,
          0.9878518518518519,
          0.989330171902786,
          0.98814463544754,
          0.9872743415211601,
          0.9911137440758294,
          0.9890435297601421,
          0.989330171902786,
          0.9911137440758294,
          0.9902164245478803,
          0.9925882004150608,
          0.9899169632265717,
          0.9905100830367735,
          0.9887307236061684,
          0.9910926365795725,
          0.9887173396674585,
          0.990210619994067,
          0.9896173242361317,
          0.9919952564482657,
          0.9919905072678731,
          0.9922848664688427,
          0.9881516587677726,
          0.9914074074074074,
          0.98903053661429,
          0.9881516587677726,
          0.989037037037037,
          0.9925882004150608,
          0.9922848664688427,
          0.9878590464909683,
          0.9934718100890207,
          0.988737403675163,
          0.9896173242361317,
          0.990210619994067,
          0.9922848664688427,
          0.98814463544754,
          0.9922802850356295,
          0.9908039157520023,
          0.9896173242361317,
          0.9896234805810851,
          0.9922848664688427,
          0.9922894424673784,
          0.98814463544754,
          0.9914074074074074,
          0.9905100830367735,
          0.9901989901989902,
          0.9896173242361317,
          0.9905100830367735,
          0.989037037037037,
          0.9919905072678731,
          0.9863582443653618,
          0.9919905072678731,
          0.9896234805810851,
          0.9928783382789318,
          0.9875518672199171,
          0.9887240356083086,
          0.9907984565152864,
          0.9925838030258084,
          0.9896173242361317,
          0.988430732720261,
          0.9896173242361317,
          0.98989898989899,
          0.9887240356083086,
          0.988430732720261,
          0.9908148148148148,
          0.9931770987837437,
          0.9904988123515439,
          0.991108476585655,
          0.990210619994067,
          0.9875222816399287,
          0.9908039157520023,
          0.9896049896049897,
          0.994061757719715,
          0.9916815210932858,
          0.9896049896049897,
          0.9890240284781964,
          0.9878374369623257,
          0.9928825622775801,
          0.9925882004150608,
          0.988430732720261,
          0.98903053661429,
          0.9881093935790726
         ]
        },
        {
         "mode": "lines",
         "name": "Best Value",
         "type": "scatter",
         "x": [
          0,
          1,
          2,
          3,
          4,
          5,
          6,
          7,
          8,
          9,
          10,
          11,
          12,
          13,
          14,
          15,
          16,
          17,
          18,
          19,
          20,
          21,
          22,
          23,
          24,
          25,
          26,
          27,
          28,
          29,
          30,
          31,
          32,
          33,
          34,
          35,
          36,
          37,
          38,
          39,
          40,
          41,
          42,
          43,
          44,
          45,
          46,
          47,
          48,
          49,
          50,
          51,
          52,
          53,
          54,
          55,
          56,
          57,
          58,
          59,
          60,
          61,
          62,
          63,
          64,
          65,
          66,
          67,
          68,
          69,
          70,
          71,
          72,
          73,
          74,
          75,
          76,
          77,
          78,
          79,
          80,
          81,
          82,
          83,
          84,
          85,
          86,
          87,
          88,
          89,
          90,
          91,
          92,
          93,
          94,
          95,
          96,
          97,
          98,
          99,
          100,
          101,
          102,
          103,
          104,
          105,
          106,
          107,
          108,
          109,
          110,
          111,
          112,
          113,
          114,
          115,
          116,
          117,
          118,
          119,
          120,
          121,
          122,
          123,
          124,
          125,
          126,
          127,
          128,
          129,
          130,
          131,
          132,
          133,
          134,
          135,
          136,
          137,
          138,
          139,
          140,
          141,
          142,
          143,
          144,
          145,
          146,
          147,
          148,
          149,
          150,
          151,
          152,
          153,
          154,
          155,
          156,
          157,
          158,
          159,
          160,
          161,
          162,
          163,
          164,
          165,
          166,
          167,
          168,
          169,
          170,
          171,
          172,
          173,
          174,
          175,
          176,
          177,
          178,
          179,
          180,
          181,
          182,
          183,
          184,
          185,
          186,
          187,
          188,
          189,
          190,
          191,
          192,
          193,
          194,
          195,
          196,
          197,
          198,
          199,
          200,
          201,
          202,
          203,
          204,
          205,
          206,
          207,
          208,
          209,
          210,
          211,
          212,
          213,
          214,
          215,
          216,
          217,
          218,
          219,
          220,
          221,
          222,
          223,
          224,
          225,
          226,
          227,
          228,
          229,
          230,
          231,
          232,
          233,
          234,
          235,
          236,
          237,
          238,
          239,
          240,
          241,
          242,
          243,
          244,
          245,
          246,
          247,
          248,
          249,
          250,
          251,
          252,
          253,
          254,
          255,
          256,
          257,
          258,
          259,
          260,
          261,
          262,
          263,
          264,
          265,
          266,
          267,
          268,
          269,
          270,
          271,
          272,
          273,
          274,
          275,
          276,
          277,
          278,
          279,
          280,
          281,
          282,
          283,
          284,
          285,
          286,
          287,
          288,
          289,
          290,
          291,
          292,
          293,
          294,
          295,
          296,
          297,
          298,
          299,
          300,
          301,
          302,
          303,
          304,
          305,
          306,
          307,
          308,
          309,
          310,
          311,
          312,
          313,
          314,
          315,
          316,
          317,
          318,
          319,
          320,
          321,
          322,
          323,
          324,
          325,
          326,
          327,
          328,
          329,
          330,
          331,
          332,
          333,
          334,
          335,
          336,
          337,
          338,
          339,
          340,
          341,
          342,
          343,
          344,
          345,
          346,
          347,
          348,
          349,
          350,
          351,
          352,
          353,
          354,
          355,
          356,
          357,
          358,
          359,
          360,
          361,
          362,
          363,
          364,
          365,
          366,
          367,
          368,
          369,
          370,
          371,
          372,
          373,
          374,
          375,
          376,
          377,
          378,
          379,
          380,
          381,
          382,
          383,
          384,
          385,
          386,
          387,
          388,
          389,
          390,
          391,
          392,
          393,
          394,
          395,
          396,
          397,
          398,
          399,
          400,
          401,
          402,
          403,
          404,
          405,
          406,
          407,
          408,
          409,
          410,
          411,
          412,
          413,
          414,
          415,
          416,
          417,
          418,
          419,
          420,
          421,
          422,
          423,
          424,
          425,
          426,
          427,
          428,
          429,
          430,
          431,
          432,
          433,
          434,
          435,
          436,
          437,
          438,
          439,
          440,
          441,
          442,
          443,
          444,
          445,
          446,
          447,
          448,
          449,
          450,
          451,
          452,
          453,
          454,
          455,
          456,
          457,
          458,
          459,
          460,
          461,
          462,
          463,
          464,
          465,
          466,
          467,
          468,
          469,
          470,
          471,
          472,
          473,
          474,
          475,
          476,
          477,
          478,
          479,
          480,
          481,
          482,
          483,
          484,
          485,
          486,
          487,
          488,
          489,
          490,
          491,
          492,
          493,
          494,
          495,
          496,
          497,
          498,
          499
         ],
         "y": [
          0.9831510493644694,
          0.9831510493644694,
          0.9831510493644694,
          0.9831510493644694,
          0.9846062759029012,
          0.9846062759029012,
          0.9846062759029012,
          0.9846062759029012,
          0.9846062759029012,
          0.9846062759029012,
          0.9884444444444445,
          0.9908202546639029,
          0.9908202546639029,
          0.9908202546639029,
          0.9908202546639029,
          0.9908202546639029,
          0.9908202546639029,
          0.9908202546639029,
          0.9908202546639029,
          0.9908202546639029,
          0.9908202546639029,
          0.9911032028469751,
          0.9911032028469751,
          0.9911032028469751,
          0.9911032028469751,
          0.9911032028469751,
          0.9911032028469751,
          0.9911032028469751,
          0.9911032028469751,
          0.9911032028469751,
          0.9911032028469751,
          0.9911032028469751,
          0.9911032028469751,
          0.9911032028469751,
          0.9911032028469751,
          0.9911032028469751,
          0.9911032028469751,
          0.9911032028469751,
          0.9911032028469751,
          0.9911032028469751,
          0.9911032028469751,
          0.9911032028469751,
          0.9911032028469751,
          0.9911032028469751,
          0.9911032028469751,
          0.9911032028469751,
          0.9911032028469751,
          0.9911032028469751,
          0.9911032028469751,
          0.9911032028469751,
          0.9911032028469751,
          0.9916963226571768,
          0.9916963226571768,
          0.9916963226571768,
          0.9916963226571768,
          0.9916963226571768,
          0.9916963226571768,
          0.9916963226571768,
          0.9916963226571768,
          0.9916963226571768,
          0.9916963226571768,
          0.9916963226571768,
          0.9916963226571768,
          0.9916963226571768,
          0.9916963226571768,
          0.9916963226571768,
          0.9916963226571768,
          0.9916963226571768,
          0.9916963226571768,
          0.9916963226571768,
          0.9916963226571768,
          0.9919905072678731,
          0.9919905072678731,
          0.9919905072678731,
          0.9919905072678731,
          0.9919905072678731,
          0.9919905072678731,
          0.9919905072678731,
          0.9919905072678731,
          0.9919905072678731,
          0.9919905072678731,
          0.9919905072678731,
          0.9919905072678731,
          0.9919905072678731,
          0.9919905072678731,
          0.9919905072678731,
          0.9919905072678731,
          0.9919905072678731,
          0.9919952564482657,
          0.9919952564482657,
          0.9919952564482657,
          0.9919952564482657,
          0.9919952564482657,
          0.9919952564482657,
          0.9919952564482657,
          0.9919952564482657,
          0.9919952564482657,
          0.9919952564482657,
          0.9919952564482657,
          0.9919952564482657,
          0.9919952564482657,
          0.9919952564482657,
          0.9919952564482657,
          0.9919952564482657,
          0.9919952564482657,
          0.9919952564482657,
          0.9919952564482657,
          0.9919952564482657,
          0.9919952564482657,
          0.9919952564482657,
          0.9919952564482657,
          0.9919952564482657,
          0.9919952564482657,
          0.9919952564482657,
          0.9919952564482657,
          0.9922848664688427,
          0.9922848664688427,
          0.9922848664688427,
          0.9922848664688427,
          0.9922848664688427,
          0.9922848664688427,
          0.9922848664688427,
          0.9922848664688427,
          0.9922848664688427,
          0.9922848664688427,
          0.9922848664688427,
          0.9922848664688427,
          0.9922848664688427,
          0.9922848664688427,
          0.9922848664688427,
          0.9922848664688427,
          0.9922848664688427,
          0.9922848664688427,
          0.9922848664688427,
          0.9922848664688427,
          0.9922848664688427,
          0.9922848664688427,
          0.9922848664688427,
          0.9922848664688427,
          0.9922848664688427,
          0.9922848664688427,
          0.9922848664688427,
          0.9922848664688427,
          0.9922848664688427,
          0.9922848664688427,
          0.9922848664688427,
          0.9922848664688427,
          0.9922848664688427,
          0.9922848664688427,
          0.9922848664688427,
          0.9922848664688427,
          0.9922848664688427,
          0.9922848664688427,
          0.9922848664688427,
          0.9922848664688427,
          0.9922848664688427,
          0.9922848664688427,
          0.9922894424673784,
          0.9922894424673784,
          0.9922894424673784,
          0.9922894424673784,
          0.9922894424673784,
          0.9922894424673784,
          0.9922894424673784,
          0.9922894424673784,
          0.9922894424673784,
          0.9922894424673784,
          0.9922894424673784,
          0.9922894424673784,
          0.9922894424673784,
          0.9922894424673784,
          0.9922894424673784,
          0.9922894424673784,
          0.9922894424673784,
          0.9922894424673784,
          0.9922894424673784,
          0.9922894424673784,
          0.9922894424673784,
          0.9922894424673784,
          0.9925838030258084,
          0.9925838030258084,
          0.9925882004150608,
          0.9925882004150608,
          0.9925882004150608,
          0.9925882004150608,
          0.9925882004150608,
          0.9925925925925926,
          0.9925925925925926,
          0.9925925925925926,
          0.9925925925925926,
          0.9925925925925926,
          0.9925925925925926,
          0.9925925925925926,
          0.9925925925925926,
          0.9925925925925926,
          0.9925925925925926,
          0.9925925925925926,
          0.9925925925925926,
          0.9925925925925926,
          0.9925925925925926,
          0.9925925925925926,
          0.9925925925925926,
          0.9925925925925926,
          0.9925925925925926,
          0.9925925925925926,
          0.9925925925925926,
          0.9925925925925926,
          0.9925925925925926,
          0.9925925925925926,
          0.9925925925925926,
          0.9925925925925926,
          0.9925925925925926,
          0.9925925925925926,
          0.9925925925925926,
          0.9925925925925926,
          0.9925925925925926,
          0.9925925925925926,
          0.9925925925925926,
          0.9925925925925926,
          0.9925925925925926,
          0.9925925925925926,
          0.9925925925925926,
          0.9925925925925926,
          0.9925925925925926,
          0.9925925925925926,
          0.9925925925925926,
          0.9925925925925926,
          0.9925925925925926,
          0.9925925925925926,
          0.9925925925925926,
          0.9925925925925926,
          0.9925925925925926,
          0.9925925925925926,
          0.9925925925925926,
          0.9925925925925926,
          0.9925925925925926,
          0.9925925925925926,
          0.9925925925925926,
          0.9925925925925926,
          0.9925925925925926,
          0.9925925925925926,
          0.9925925925925926,
          0.9925925925925926,
          0.9925925925925926,
          0.9925925925925926,
          0.9925925925925926,
          0.9925925925925926,
          0.9925925925925926,
          0.9925925925925926,
          0.9925925925925926,
          0.9925925925925926,
          0.9925925925925926,
          0.9925925925925926,
          0.9925925925925926,
          0.9925925925925926,
          0.9925925925925926,
          0.9925925925925926,
          0.9925925925925926,
          0.9925925925925926,
          0.9925925925925926,
          0.9925969795676636,
          0.9925969795676636,
          0.9925969795676636,
          0.9925969795676636,
          0.9925969795676636,
          0.9925969795676636,
          0.9925969795676636,
          0.9925969795676636,
          0.9925969795676636,
          0.9925969795676636,
          0.9925969795676636,
          0.9925969795676636,
          0.9925969795676636,
          0.9925969795676636,
          0.9925969795676636,
          0.9925969795676636,
          0.9925969795676636,
          0.9925969795676636,
          0.9925969795676636,
          0.9925969795676636,
          0.9925969795676636,
          0.9925969795676636,
          0.9925969795676636,
          0.9925969795676636,
          0.9925969795676636,
          0.9925969795676636,
          0.9925969795676636,
          0.9925969795676636,
          0.9925969795676636,
          0.9925969795676636,
          0.9925969795676636,
          0.9925969795676636,
          0.9925969795676636,
          0.9925969795676636,
          0.9925969795676636,
          0.9925969795676636,
          0.9925969795676636,
          0.9925969795676636,
          0.9925969795676636,
          0.9925969795676636,
          0.9925969795676636,
          0.9925969795676636,
          0.9925969795676636,
          0.9925969795676636,
          0.9925969795676636,
          0.9925969795676636,
          0.9925969795676636,
          0.9925969795676636,
          0.9925969795676636,
          0.9925969795676636,
          0.9925969795676636,
          0.9931811443818559,
          0.9931811443818559,
          0.9931811443818559,
          0.9931811443818559,
          0.9931811443818559,
          0.9931811443818559,
          0.9931811443818559,
          0.9931811443818559,
          0.9931811443818559,
          0.9931811443818559,
          0.9931811443818559,
          0.9931811443818559,
          0.9931811443818559,
          0.9931811443818559,
          0.9931811443818559,
          0.9931811443818559,
          0.9931811443818559,
          0.9931811443818559,
          0.9931811443818559,
          0.9931811443818559,
          0.9931811443818559,
          0.9931811443818559,
          0.9931811443818559,
          0.9931811443818559,
          0.9931811443818559,
          0.9931811443818559,
          0.9931811443818559,
          0.9931811443818559,
          0.9931811443818559,
          0.9931811443818559,
          0.9931811443818559,
          0.9931811443818559,
          0.9931811443818559,
          0.9931811443818559,
          0.9931811443818559,
          0.9931811443818559,
          0.9931811443818559,
          0.9931811443818559,
          0.9931811443818559,
          0.9931811443818559,
          0.9931811443818559,
          0.9931811443818559,
          0.9931811443818559,
          0.9931811443818559,
          0.9931811443818559,
          0.9931811443818559,
          0.9931811443818559,
          0.9931811443818559,
          0.9931811443818559,
          0.9931811443818559,
          0.9931811443818559,
          0.9931811443818559,
          0.9931811443818559,
          0.9931811443818559,
          0.9931811443818559,
          0.9931811443818559,
          0.9931811443818559,
          0.9931811443818559,
          0.9931811443818559,
          0.9931811443818559,
          0.9931811443818559,
          0.9931811443818559,
          0.9931811443818559,
          0.9931811443818559,
          0.9931811443818559,
          0.9931811443818559,
          0.9931811443818559,
          0.9931811443818559,
          0.9931811443818559,
          0.9931811443818559,
          0.9931811443818559,
          0.9931811443818559,
          0.9931811443818559,
          0.9931811443818559,
          0.9931811443818559,
          0.9931811443818559,
          0.9931811443818559,
          0.9931811443818559,
          0.9931811443818559,
          0.9931811443818559,
          0.9931811443818559,
          0.9931811443818559,
          0.9931811443818559,
          0.9931811443818559,
          0.9931811443818559,
          0.9931811443818559,
          0.9931811443818559,
          0.9931811443818559,
          0.9931811443818559,
          0.9931811443818559,
          0.9931811443818559,
          0.9931811443818559,
          0.9931811443818559,
          0.9931811443818559,
          0.9931811443818559,
          0.9931811443818559,
          0.9931811443818559,
          0.9931811443818559,
          0.9931811443818559,
          0.9931811443818559,
          0.9931811443818559,
          0.9931811443818559,
          0.9931811443818559,
          0.9931811443818559,
          0.9931811443818559,
          0.9931811443818559,
          0.9931811443818559,
          0.9931811443818559,
          0.9931811443818559,
          0.9931811443818559,
          0.9931811443818559,
          0.9931811443818559,
          0.9931811443818559,
          0.9931811443818559,
          0.9931811443818559,
          0.9931811443818559,
          0.9931811443818559,
          0.9931811443818559,
          0.9931811443818559,
          0.9931811443818559,
          0.9931811443818559,
          0.9931811443818559,
          0.9931811443818559,
          0.9934718100890207,
          0.9934718100890207,
          0.9934718100890207,
          0.9934718100890207,
          0.9934718100890207,
          0.9934718100890207,
          0.9934718100890207,
          0.9934718100890207,
          0.9934718100890207,
          0.9934718100890207,
          0.9934718100890207,
          0.9934718100890207,
          0.9934718100890207,
          0.9934718100890207,
          0.9934718100890207,
          0.9934718100890207,
          0.9934718100890207,
          0.9934718100890207,
          0.9934718100890207,
          0.9934718100890207,
          0.9934718100890207,
          0.9934718100890207,
          0.9934718100890207,
          0.9934718100890207,
          0.9934718100890207,
          0.9934718100890207,
          0.9934718100890207,
          0.9934718100890207,
          0.9934718100890207,
          0.9934718100890207,
          0.9934718100890207,
          0.9934718100890207,
          0.9934718100890207,
          0.9934718100890207,
          0.9934718100890207,
          0.9934718100890207,
          0.9934718100890207,
          0.9934718100890207,
          0.9934718100890207,
          0.9934718100890207,
          0.9934718100890207,
          0.9934718100890207,
          0.9934718100890207,
          0.9934718100890207,
          0.9934718100890207,
          0.9934718100890207,
          0.9934718100890207,
          0.9934718100890207,
          0.9934718100890207,
          0.9934718100890207,
          0.9934718100890207,
          0.9934718100890207,
          0.994061757719715,
          0.994061757719715,
          0.994061757719715,
          0.994061757719715,
          0.994061757719715,
          0.994061757719715,
          0.994061757719715,
          0.994061757719715,
          0.994061757719715,
          0.994061757719715,
          0.994061757719715,
          0.994061757719715,
          0.994061757719715,
          0.994061757719715
         ]
        },
        {
         "marker": {
          "color": "#cccccc"
         },
         "mode": "markers",
         "name": "Infeasible Trial",
         "showlegend": false,
         "type": "scatter",
         "x": [],
         "y": []
        }
       ],
       "layout": {
        "template": {
         "data": {
          "bar": [
           {
            "error_x": {
             "color": "#2a3f5f"
            },
            "error_y": {
             "color": "#2a3f5f"
            },
            "marker": {
             "line": {
              "color": "#E5ECF6",
              "width": 0.5
             },
             "pattern": {
              "fillmode": "overlay",
              "size": 10,
              "solidity": 0.2
             }
            },
            "type": "bar"
           }
          ],
          "barpolar": [
           {
            "marker": {
             "line": {
              "color": "#E5ECF6",
              "width": 0.5
             },
             "pattern": {
              "fillmode": "overlay",
              "size": 10,
              "solidity": 0.2
             }
            },
            "type": "barpolar"
           }
          ],
          "carpet": [
           {
            "aaxis": {
             "endlinecolor": "#2a3f5f",
             "gridcolor": "white",
             "linecolor": "white",
             "minorgridcolor": "white",
             "startlinecolor": "#2a3f5f"
            },
            "baxis": {
             "endlinecolor": "#2a3f5f",
             "gridcolor": "white",
             "linecolor": "white",
             "minorgridcolor": "white",
             "startlinecolor": "#2a3f5f"
            },
            "type": "carpet"
           }
          ],
          "choropleth": [
           {
            "colorbar": {
             "outlinewidth": 0,
             "ticks": ""
            },
            "type": "choropleth"
           }
          ],
          "contour": [
           {
            "colorbar": {
             "outlinewidth": 0,
             "ticks": ""
            },
            "colorscale": [
             [
              0,
              "#0d0887"
             ],
             [
              0.1111111111111111,
              "#46039f"
             ],
             [
              0.2222222222222222,
              "#7201a8"
             ],
             [
              0.3333333333333333,
              "#9c179e"
             ],
             [
              0.4444444444444444,
              "#bd3786"
             ],
             [
              0.5555555555555556,
              "#d8576b"
             ],
             [
              0.6666666666666666,
              "#ed7953"
             ],
             [
              0.7777777777777778,
              "#fb9f3a"
             ],
             [
              0.8888888888888888,
              "#fdca26"
             ],
             [
              1,
              "#f0f921"
             ]
            ],
            "type": "contour"
           }
          ],
          "contourcarpet": [
           {
            "colorbar": {
             "outlinewidth": 0,
             "ticks": ""
            },
            "type": "contourcarpet"
           }
          ],
          "heatmap": [
           {
            "colorbar": {
             "outlinewidth": 0,
             "ticks": ""
            },
            "colorscale": [
             [
              0,
              "#0d0887"
             ],
             [
              0.1111111111111111,
              "#46039f"
             ],
             [
              0.2222222222222222,
              "#7201a8"
             ],
             [
              0.3333333333333333,
              "#9c179e"
             ],
             [
              0.4444444444444444,
              "#bd3786"
             ],
             [
              0.5555555555555556,
              "#d8576b"
             ],
             [
              0.6666666666666666,
              "#ed7953"
             ],
             [
              0.7777777777777778,
              "#fb9f3a"
             ],
             [
              0.8888888888888888,
              "#fdca26"
             ],
             [
              1,
              "#f0f921"
             ]
            ],
            "type": "heatmap"
           }
          ],
          "heatmapgl": [
           {
            "colorbar": {
             "outlinewidth": 0,
             "ticks": ""
            },
            "colorscale": [
             [
              0,
              "#0d0887"
             ],
             [
              0.1111111111111111,
              "#46039f"
             ],
             [
              0.2222222222222222,
              "#7201a8"
             ],
             [
              0.3333333333333333,
              "#9c179e"
             ],
             [
              0.4444444444444444,
              "#bd3786"
             ],
             [
              0.5555555555555556,
              "#d8576b"
             ],
             [
              0.6666666666666666,
              "#ed7953"
             ],
             [
              0.7777777777777778,
              "#fb9f3a"
             ],
             [
              0.8888888888888888,
              "#fdca26"
             ],
             [
              1,
              "#f0f921"
             ]
            ],
            "type": "heatmapgl"
           }
          ],
          "histogram": [
           {
            "marker": {
             "pattern": {
              "fillmode": "overlay",
              "size": 10,
              "solidity": 0.2
             }
            },
            "type": "histogram"
           }
          ],
          "histogram2d": [
           {
            "colorbar": {
             "outlinewidth": 0,
             "ticks": ""
            },
            "colorscale": [
             [
              0,
              "#0d0887"
             ],
             [
              0.1111111111111111,
              "#46039f"
             ],
             [
              0.2222222222222222,
              "#7201a8"
             ],
             [
              0.3333333333333333,
              "#9c179e"
             ],
             [
              0.4444444444444444,
              "#bd3786"
             ],
             [
              0.5555555555555556,
              "#d8576b"
             ],
             [
              0.6666666666666666,
              "#ed7953"
             ],
             [
              0.7777777777777778,
              "#fb9f3a"
             ],
             [
              0.8888888888888888,
              "#fdca26"
             ],
             [
              1,
              "#f0f921"
             ]
            ],
            "type": "histogram2d"
           }
          ],
          "histogram2dcontour": [
           {
            "colorbar": {
             "outlinewidth": 0,
             "ticks": ""
            },
            "colorscale": [
             [
              0,
              "#0d0887"
             ],
             [
              0.1111111111111111,
              "#46039f"
             ],
             [
              0.2222222222222222,
              "#7201a8"
             ],
             [
              0.3333333333333333,
              "#9c179e"
             ],
             [
              0.4444444444444444,
              "#bd3786"
             ],
             [
              0.5555555555555556,
              "#d8576b"
             ],
             [
              0.6666666666666666,
              "#ed7953"
             ],
             [
              0.7777777777777778,
              "#fb9f3a"
             ],
             [
              0.8888888888888888,
              "#fdca26"
             ],
             [
              1,
              "#f0f921"
             ]
            ],
            "type": "histogram2dcontour"
           }
          ],
          "mesh3d": [
           {
            "colorbar": {
             "outlinewidth": 0,
             "ticks": ""
            },
            "type": "mesh3d"
           }
          ],
          "parcoords": [
           {
            "line": {
             "colorbar": {
              "outlinewidth": 0,
              "ticks": ""
             }
            },
            "type": "parcoords"
           }
          ],
          "pie": [
           {
            "automargin": true,
            "type": "pie"
           }
          ],
          "scatter": [
           {
            "fillpattern": {
             "fillmode": "overlay",
             "size": 10,
             "solidity": 0.2
            },
            "type": "scatter"
           }
          ],
          "scatter3d": [
           {
            "line": {
             "colorbar": {
              "outlinewidth": 0,
              "ticks": ""
             }
            },
            "marker": {
             "colorbar": {
              "outlinewidth": 0,
              "ticks": ""
             }
            },
            "type": "scatter3d"
           }
          ],
          "scattercarpet": [
           {
            "marker": {
             "colorbar": {
              "outlinewidth": 0,
              "ticks": ""
             }
            },
            "type": "scattercarpet"
           }
          ],
          "scattergeo": [
           {
            "marker": {
             "colorbar": {
              "outlinewidth": 0,
              "ticks": ""
             }
            },
            "type": "scattergeo"
           }
          ],
          "scattergl": [
           {
            "marker": {
             "colorbar": {
              "outlinewidth": 0,
              "ticks": ""
             }
            },
            "type": "scattergl"
           }
          ],
          "scattermapbox": [
           {
            "marker": {
             "colorbar": {
              "outlinewidth": 0,
              "ticks": ""
             }
            },
            "type": "scattermapbox"
           }
          ],
          "scatterpolar": [
           {
            "marker": {
             "colorbar": {
              "outlinewidth": 0,
              "ticks": ""
             }
            },
            "type": "scatterpolar"
           }
          ],
          "scatterpolargl": [
           {
            "marker": {
             "colorbar": {
              "outlinewidth": 0,
              "ticks": ""
             }
            },
            "type": "scatterpolargl"
           }
          ],
          "scatterternary": [
           {
            "marker": {
             "colorbar": {
              "outlinewidth": 0,
              "ticks": ""
             }
            },
            "type": "scatterternary"
           }
          ],
          "surface": [
           {
            "colorbar": {
             "outlinewidth": 0,
             "ticks": ""
            },
            "colorscale": [
             [
              0,
              "#0d0887"
             ],
             [
              0.1111111111111111,
              "#46039f"
             ],
             [
              0.2222222222222222,
              "#7201a8"
             ],
             [
              0.3333333333333333,
              "#9c179e"
             ],
             [
              0.4444444444444444,
              "#bd3786"
             ],
             [
              0.5555555555555556,
              "#d8576b"
             ],
             [
              0.6666666666666666,
              "#ed7953"
             ],
             [
              0.7777777777777778,
              "#fb9f3a"
             ],
             [
              0.8888888888888888,
              "#fdca26"
             ],
             [
              1,
              "#f0f921"
             ]
            ],
            "type": "surface"
           }
          ],
          "table": [
           {
            "cells": {
             "fill": {
              "color": "#EBF0F8"
             },
             "line": {
              "color": "white"
             }
            },
            "header": {
             "fill": {
              "color": "#C8D4E3"
             },
             "line": {
              "color": "white"
             }
            },
            "type": "table"
           }
          ]
         },
         "layout": {
          "annotationdefaults": {
           "arrowcolor": "#2a3f5f",
           "arrowhead": 0,
           "arrowwidth": 1
          },
          "autotypenumbers": "strict",
          "coloraxis": {
           "colorbar": {
            "outlinewidth": 0,
            "ticks": ""
           }
          },
          "colorscale": {
           "diverging": [
            [
             0,
             "#8e0152"
            ],
            [
             0.1,
             "#c51b7d"
            ],
            [
             0.2,
             "#de77ae"
            ],
            [
             0.3,
             "#f1b6da"
            ],
            [
             0.4,
             "#fde0ef"
            ],
            [
             0.5,
             "#f7f7f7"
            ],
            [
             0.6,
             "#e6f5d0"
            ],
            [
             0.7,
             "#b8e186"
            ],
            [
             0.8,
             "#7fbc41"
            ],
            [
             0.9,
             "#4d9221"
            ],
            [
             1,
             "#276419"
            ]
           ],
           "sequential": [
            [
             0,
             "#0d0887"
            ],
            [
             0.1111111111111111,
             "#46039f"
            ],
            [
             0.2222222222222222,
             "#7201a8"
            ],
            [
             0.3333333333333333,
             "#9c179e"
            ],
            [
             0.4444444444444444,
             "#bd3786"
            ],
            [
             0.5555555555555556,
             "#d8576b"
            ],
            [
             0.6666666666666666,
             "#ed7953"
            ],
            [
             0.7777777777777778,
             "#fb9f3a"
            ],
            [
             0.8888888888888888,
             "#fdca26"
            ],
            [
             1,
             "#f0f921"
            ]
           ],
           "sequentialminus": [
            [
             0,
             "#0d0887"
            ],
            [
             0.1111111111111111,
             "#46039f"
            ],
            [
             0.2222222222222222,
             "#7201a8"
            ],
            [
             0.3333333333333333,
             "#9c179e"
            ],
            [
             0.4444444444444444,
             "#bd3786"
            ],
            [
             0.5555555555555556,
             "#d8576b"
            ],
            [
             0.6666666666666666,
             "#ed7953"
            ],
            [
             0.7777777777777778,
             "#fb9f3a"
            ],
            [
             0.8888888888888888,
             "#fdca26"
            ],
            [
             1,
             "#f0f921"
            ]
           ]
          },
          "colorway": [
           "#636efa",
           "#EF553B",
           "#00cc96",
           "#ab63fa",
           "#FFA15A",
           "#19d3f3",
           "#FF6692",
           "#B6E880",
           "#FF97FF",
           "#FECB52"
          ],
          "font": {
           "color": "#2a3f5f"
          },
          "geo": {
           "bgcolor": "white",
           "lakecolor": "white",
           "landcolor": "#E5ECF6",
           "showlakes": true,
           "showland": true,
           "subunitcolor": "white"
          },
          "hoverlabel": {
           "align": "left"
          },
          "hovermode": "closest",
          "mapbox": {
           "style": "light"
          },
          "paper_bgcolor": "white",
          "plot_bgcolor": "#E5ECF6",
          "polar": {
           "angularaxis": {
            "gridcolor": "white",
            "linecolor": "white",
            "ticks": ""
           },
           "bgcolor": "#E5ECF6",
           "radialaxis": {
            "gridcolor": "white",
            "linecolor": "white",
            "ticks": ""
           }
          },
          "scene": {
           "xaxis": {
            "backgroundcolor": "#E5ECF6",
            "gridcolor": "white",
            "gridwidth": 2,
            "linecolor": "white",
            "showbackground": true,
            "ticks": "",
            "zerolinecolor": "white"
           },
           "yaxis": {
            "backgroundcolor": "#E5ECF6",
            "gridcolor": "white",
            "gridwidth": 2,
            "linecolor": "white",
            "showbackground": true,
            "ticks": "",
            "zerolinecolor": "white"
           },
           "zaxis": {
            "backgroundcolor": "#E5ECF6",
            "gridcolor": "white",
            "gridwidth": 2,
            "linecolor": "white",
            "showbackground": true,
            "ticks": "",
            "zerolinecolor": "white"
           }
          },
          "shapedefaults": {
           "line": {
            "color": "#2a3f5f"
           }
          },
          "ternary": {
           "aaxis": {
            "gridcolor": "white",
            "linecolor": "white",
            "ticks": ""
           },
           "baxis": {
            "gridcolor": "white",
            "linecolor": "white",
            "ticks": ""
           },
           "bgcolor": "#E5ECF6",
           "caxis": {
            "gridcolor": "white",
            "linecolor": "white",
            "ticks": ""
           }
          },
          "title": {
           "x": 0.05
          },
          "xaxis": {
           "automargin": true,
           "gridcolor": "white",
           "linecolor": "white",
           "ticks": "",
           "title": {
            "standoff": 15
           },
           "zerolinecolor": "white",
           "zerolinewidth": 2
          },
          "yaxis": {
           "automargin": true,
           "gridcolor": "white",
           "linecolor": "white",
           "ticks": "",
           "title": {
            "standoff": 15
           },
           "zerolinecolor": "white",
           "zerolinewidth": 2
          }
         }
        },
        "title": {
         "text": "Optimization History Plot"
        },
        "xaxis": {
         "title": {
          "text": "Trial"
         }
        },
        "yaxis": {
         "title": {
          "text": "Objective Value"
         }
        }
       }
      }
     },
     "metadata": {},
     "output_type": "display_data"
    }
   ],
   "source": [
    "p_history_feat_eng = optuna.visualization.plot_optimization_history(study_feat_eng)\n",
    "p_history_feat_eng.show()"
   ]
  }
 ],
 "metadata": {
  "kernelspec": {
   "display_name": "ml4hc",
   "language": "python",
   "name": "python3"
  },
  "language_info": {
   "codemirror_mode": {
    "name": "ipython",
    "version": 3
   },
   "file_extension": ".py",
   "mimetype": "text/x-python",
   "name": "python",
   "nbconvert_exporter": "python",
   "pygments_lexer": "ipython3",
   "version": "3.10.14"
  }
 },
 "nbformat": 4,
 "nbformat_minor": 2
}
