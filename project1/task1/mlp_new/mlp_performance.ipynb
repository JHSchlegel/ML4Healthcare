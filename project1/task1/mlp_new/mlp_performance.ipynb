{
 "cells": [
  {
   "cell_type": "markdown",
   "metadata": {},
   "source": [
    "## Packages and Presets"
   ]
  },
  {
   "cell_type": "code",
   "execution_count": 15,
   "metadata": {},
   "outputs": [],
   "source": [
    "import pandas as pd\n",
    "import numpy as np\n",
    "import matplotlib.pyplot as plt\n",
    "import matplotlib\n",
    "\n",
    "from tqdm import tqdm\n",
    "\n",
    "import torch\n",
    "from skimpy import clean_columns\n",
    "from sklearn.model_selection import train_test_split\n",
    "from sklearn.metrics import confusion_matrix, ConfusionMatrixDisplay, roc_auc_score\n",
    "from pickle import load\n",
    "import shap\n",
    "from torch.utils.data import DataLoader\n",
    "\n",
    "#from neural_additive_model import NAM\n",
    "from mlp import MLP\n",
    "import torch.nn as nn\n",
    "\n",
    "import sys\n",
    "\n",
    "sys.path.append(\"../..\")\n",
    "from utils.utils import (\n",
    "    set_all_seeds,\n",
    "    test,\n",
    "    get_n_units,\n",
    "    HeartFailureDataset,\n",
    "    EarlyStopping,\n",
    "    set_all_seeds,\n",
    "    train_and_validate,\n",
    "    penalized_binary_cross_entropy,\n",
    ")\n",
    "\n",
    "import warnings\n",
    "warnings.filterwarnings(\"ignore\")"
   ]
  },
  {
   "cell_type": "code",
   "execution_count": 16,
   "metadata": {},
   "outputs": [],
   "source": [
    "SEED = 123\n",
    "GRID_SIZE = 10_000\n",
    "\n",
    "TRAIN_BATCH_SIZE = 32\n",
    "VAL_BATCH_SIZE = 128\n",
    "TEST_BATCH_SIZE = 128\n",
    "\n",
    "\n",
    "DEVICE = torch.device('cuda' if torch.cuda.is_available() else 'cpu')\n",
    "N_EPOCHS = 1_000\n",
    "\n",
    "\n",
    "HIDDEN_PROFILE = [1024]\n",
    "USE_EXU = False\n",
    "USE_RELU_N = False\n",
    "WITHIN_FEATURE_DROPOUT = 0.4\n",
    "FEATURE_DROPOUT = 0.0\n",
    "\n",
    "# number of models to train in the multiple models section\n",
    "N_MODELS = 20\n",
    "\n",
    "LEARNING_RATE = 0.003\n",
    "\n",
    "SCHEDULER_STEP_SIZE = 10\n",
    "SCHEDULER_GAMMA = 0.9\n",
    "\n",
    "OPTIMIZER = torch.optim.Adam\n",
    "CRITERION = penalized_binary_cross_entropy\n",
    "\n",
    "OUTPUT_REGULARIZATION = 0.0058\n",
    "L2_REGULARIZATION = 3.87e-5\n",
    "\n",
    "EARLY_STOPPING_START = 60"
   ]
  },
  {
   "cell_type": "markdown",
   "metadata": {},
   "source": [
    "## Loading Data and Model"
   ]
  },
  {
   "cell_type": "code",
   "execution_count": 17,
   "metadata": {},
   "outputs": [
    {
     "name": "stdout",
     "output_type": "stream",
     "text": [
      "outlier_idx=Index([366], dtype='int64')\n"
     ]
    }
   ],
   "source": [
    "train_df = pd.read_csv(\"../data/heart_failure/train_val_split.csv\").pipe(\n",
    "    clean_columns\n",
    ")\n",
    "X_train = train_df.drop(columns=[\"heart_disease\"], axis=1)\n",
    "outlier_idx = X_train.query(\"resting_bp == 0\").index\n",
    "print(f\"{outlier_idx=}\")\n",
    "X_train = X_train.drop(outlier_idx)\n",
    "y_train = train_df[\"heart_disease\"]\n",
    "y_train = y_train[X_train.index]\n",
    "\n",
    "# create categorical variable for cholesterol level\n",
    "X_train[\"chol_level\"] = pd.cut(\n",
    "    X_train[\"cholesterol\"],\n",
    "    bins=[-1, 10, 200, 240, 1000],\n",
    "    labels=[\"imputed\", \"normal\", \"borderline\", \"high\"],\n",
    ")"
   ]
  },
  {
   "cell_type": "markdown",
   "metadata": {},
   "source": [
    "We also have to load the test (X) data as they will be used later for the SHAP values:"
   ]
  },
  {
   "cell_type": "code",
   "execution_count": 18,
   "metadata": {},
   "outputs": [],
   "source": [
    "test_df = pd.read_csv(\"../data/heart_failure/test_split.csv\").pipe(clean_columns)\n",
    "X_test = test_df.drop(columns=[\"heart_disease\"], axis=1)\n",
    "# create categorical variable for cholesterol\n",
    "X_test[\"chol_level\"] = pd.cut(\n",
    "    X_test[\"cholesterol\"],\n",
    "    bins=[-1, 10, 200, 240, 1000],\n",
    "    labels=[\"imputed\", \"normal\", \"borderline\", \"high\"],\n",
    ")\n",
    "y_test = test_df[\"heart_disease\"]"
   ]
  },
  {
   "cell_type": "code",
   "execution_count": 19,
   "metadata": {},
   "outputs": [],
   "source": [
    "X_models_train, X_models_val, y_models_train, y_models_val = train_test_split(\n",
    "    X_train,\n",
    "    y_train.to_numpy(),\n",
    "    test_size=0.2,\n",
    "    shuffle=True,\n",
    "    random_state=SEED,\n",
    "    stratify=y_train.to_numpy(),\n",
    ")"
   ]
  },
  {
   "cell_type": "code",
   "execution_count": 20,
   "metadata": {},
   "outputs": [],
   "source": [
    "preprocessor = load(open(\"../models/preprocessor.pkl\", \"rb\"))\n",
    "\n",
    "categorical_cols = [col for col in X_train.columns if X_train.nunique()[col] < 5]\n",
    "numeric_cols = [col for col in X_train.columns if col not in categorical_cols]\n",
    "\n",
    "# preprocess data\n",
    "X_train_preprocessed = preprocessor.fit_transform(X_models_train)\n",
    "X_val_preprocessed = preprocessor.transform(X_models_val)\n",
    "X_test_preprocessed = preprocessor.transform(X_test)"
   ]
  },
  {
   "cell_type": "code",
   "execution_count": 21,
   "metadata": {},
   "outputs": [],
   "source": [
    "set_all_seeds(SEED)\n",
    "pretrained_mlp = torch.load(\"../models/mlp.pth\")"
   ]
  },
  {
   "cell_type": "markdown",
   "metadata": {},
   "source": [
    "## Performance Metrics"
   ]
  },
  {
   "cell_type": "code",
   "execution_count": 22,
   "metadata": {},
   "outputs": [],
   "source": [
    "test_dataset = HeartFailureDataset(X_test_preprocessed, y_test.to_numpy())\n",
    "test_loader = DataLoader(\n",
    "    test_dataset, batch_size=TEST_BATCH_SIZE, shuffle=False, pin_memory=True\n",
    ")\n"
   ]
  },
  {
   "cell_type": "code",
   "execution_count": 30,
   "metadata": {},
   "outputs": [
    {
     "name": "stdout",
     "output_type": "stream",
     "text": [
      "Test Loss: 0.38983185589313507\n",
      "Test F1 Score: 0.8468468468468469\n",
      "Test Balanced Accuracy: 0.8056511056511056\n"
     ]
    }
   ],
   "source": [
    "\n",
    "test_loss, test_f1_score, balanced_accuracy, model_probs, y_true = test(\n",
    "    model=pretrained_mlp,\n",
    "    test_loader=test_loader,\n",
    "    criterion=nn.BCEWithLogitsLoss(),\n",
    "    device=DEVICE,\n",
    "    use_penalized_BCE=False,\n",
    "    output_regularization=OUTPUT_REGULARIZATION,\n",
    "    l2_regularization=L2_REGULARIZATION,\n",
    ")"
   ]
  },
  {
   "cell_type": "code",
   "execution_count": 31,
   "metadata": {},
   "outputs": [
    {
     "data": {
      "text/plain": [
       "<sklearn.metrics._plot.confusion_matrix.ConfusionMatrixDisplay at 0x1ed47117210>"
      ]
     },
     "execution_count": 31,
     "metadata": {},
     "output_type": "execute_result"
    },
    {
     "data": {
      "image/png": "[encoded data removed]",
      "text/plain": [
       "<Figure size 640x480 with 2 Axes>"
      ]
     },
     "metadata": {},
     "output_type": "display_data"
    }
   ],
   "source": [
    "# Plot confusion matrix\n",
    "labels = y_true\n",
    "preds = model_probs.round()\n",
    "cm  = confusion_matrix(labels, preds)\n",
    "disp = ConfusionMatrixDisplay(cm, display_labels=[\"Normal\", \"Pneumonia\"])\n",
    "disp.plot()"
   ]
  },
  {
   "cell_type": "code",
   "execution_count": 32,
   "metadata": {},
   "outputs": [
    {
     "name": "stdout",
     "output_type": "stream",
     "text": [
      "Accuracy of the model is 0.815\n",
      "Balanced accuracy of the model is 0.806\n",
      "Recall of the model is 0.855\n",
      "Precision of the model is 0.839\n",
      "F1 Score of the model is 0.847\n",
      "ROC AUC of the model is 0.891\n"
     ]
    }
   ],
   "source": [
    "# Compute Performance Metrics\n",
    "tn, fp, fn, tp = cm.ravel()\n",
    "\n",
    "accuracy = (np.array(preds) == np.array(labels)).sum() / len(preds)\n",
    "precision = tp/(tp+fp)\n",
    "recall = tp/(tp+fn)\n",
    "\n",
    "roc_auc = roc_auc_score(y_true, model_probs)\n",
    "\n",
    "\n",
    "print(f\"Accuracy of the model is {accuracy:.3f}\")\n",
    "print(f\"Balanced accuracy of the model is {balanced_accuracy:.3f}\")\n",
    "print(f\"Recall of the model is {recall:.3f}\")\n",
    "print(f\"Precision of the model is {precision:.3f}\")\n",
    "print(f\"F1 Score of the model is {test_f1_score:.3f}\")\n",
    "print(f\"ROC AUC of the model is {roc_auc:.3f}\")"
   ]
  }
 ],
 "metadata": {
  "kernelspec": {
   "display_name": "ml4hc",
   "language": "python",
   "name": "python3"
  },
  "language_info": {
   "codemirror_mode": {
    "name": "ipython",
    "version": 3
   },
   "file_extension": ".py",
   "mimetype": "text/x-python",
   "name": "python",
   "nbconvert_exporter": "python",
   "pygments_lexer": "ipython3",
   "version": "3.11.5"
  }
 },
 "nbformat": 4,
 "nbformat_minor": 2
}
