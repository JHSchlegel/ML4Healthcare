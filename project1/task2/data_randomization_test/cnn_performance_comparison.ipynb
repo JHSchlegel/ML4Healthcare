{
 "cells": [
  {
   "cell_type": "markdown",
   "metadata": {},
   "source": [
    "# Data Randomization Tests"
   ]
  },
  {
   "cell_type": "markdown",
   "metadata": {},
   "source": [
    "## Packages and Presets"
   ]
  },
  {
   "cell_type": "code",
   "execution_count": 1,
   "metadata": {},
   "outputs": [],
   "source": [
    "import numpy as np\n",
    "import torch\n",
    "import torch.nn as nn\n",
    "import torchvision.transforms as transforms\n",
    "from torch.utils.data import DataLoader\n",
    "from torch.utils.tensorboard import SummaryWriter\n",
    "from sklearn.model_selection import train_test_split\n",
    "from torchvision import models\n",
    "\n",
    "\n",
    "# confusion matrix:\n",
    "from sklearn.metrics import confusion_matrix, ConfusionMatrixDisplay\n",
    "\n",
    "# append grandparent directory to path to make sure we can access the utils file\n",
    "import sys\n",
    "\n",
    "sys.path.append(\"../..\")\n",
    "from utils.utils import (\n",
    "    get_pneumonia_images,\n",
    "    PneumoniaDataset,\n",
    "    set_all_seeds,\n",
    "    test,\n",
    "    EarlyStopping,\n",
    ")\n",
    "\n",
    "import warnings\n",
    "warnings.filterwarnings(\"ignore\")"
   ]
  },
  {
   "cell_type": "code",
   "execution_count": 2,
   "metadata": {},
   "outputs": [],
   "source": [
    "\n",
    "SEED = 42\n",
    "VALIDATION_SIZE = 0.2\n",
    "\n",
    "TRAIN_BATCH_SIZE = 16\n",
    "VAL_BATCH_SIZE = 128\n",
    "TEST_BATCH_SIZE = 128\n",
    "\n",
    "DEVICE = torch.device(\"cuda\" if torch.cuda.is_available() else \"cpu\")"
   ]
  },
  {
   "cell_type": "code",
   "execution_count": 3,
   "metadata": {},
   "outputs": [],
   "source": [
    "class CNN(nn.Module):\n",
    "    def __init__(self):\n",
    "        super(CNN, self).__init__()\n",
    "        # use pretrained resnet 50\n",
    "        self.resnet = models.resnet50(pretrained=True)\n",
    "        # replace fully connected layer\n",
    "        self.resnet.fc = nn.Sequential(\n",
    "            nn.LazyLinear(2048),\n",
    "            nn.ReLU(),\n",
    "            nn.Dropout(p=0.5),\n",
    "            nn.Linear(2048, 4096),\n",
    "            nn.ReLU(),\n",
    "            nn.Dropout(p=0.5),\n",
    "            nn.Linear(4096, 2048),\n",
    "            nn.ReLU(),\n",
    "            nn.Dropout(p=0.5),\n",
    "            # return one output for binary classification with BCEWithLogitsLoss\n",
    "            nn.Linear(2048, 2),\n",
    "        )\n",
    "\n",
    "    def forward(self, x):\n",
    "        # squeeze to make sure dimension is compatible with BCEWithLogitsLoss\n",
    "        return self.resnet(x)\n"
   ]
  },
  {
   "cell_type": "markdown",
   "metadata": {},
   "source": [
    "## Loading the Data"
   ]
  },
  {
   "cell_type": "code",
   "execution_count": 4,
   "metadata": {},
   "outputs": [
    {
     "name": "stderr",
     "output_type": "stream",
     "text": [
      "Reading NORMAL train images: 100%|██████████| 1341/1341 [00:13<00:00, 99.79it/s] \n",
      "Reading PNEUMONIA train images: 100%|██████████| 3875/3875 [00:14<00:00, 274.16it/s]\n",
      "Reading NORMAL val images: 100%|██████████| 8/8 [00:00<00:00, 150.34it/s]\n",
      "Reading PNEUMONIA val images: 100%|██████████| 8/8 [00:00<00:00, 298.12it/s]\n",
      "Reading NORMAL test images: 100%|██████████| 234/234 [00:01<00:00, 124.91it/s]\n",
      "Reading PNEUMONIA test images: 100%|██████████| 390/390 [00:01<00:00, 317.53it/s]\n"
     ]
    }
   ],
   "source": [
    "train_images, train_labels = get_pneumonia_images(\"../data/chest_xray/train\")\n",
    "val_images, val_labels = get_pneumonia_images(\"../data/chest_xray/val\")\n",
    "test_images, test_labels = get_pneumonia_images(\"../data/chest_xray/test\")\n",
    "\n",
    "# Since there are so few images (16 in total) in the validation set,\n",
    "# we decided to first concatenate the train and validation images and then\n",
    "# in a second step split this concatenated dateset into train and enlargened\n",
    "# validation set. Further, we will make sure that the classes are similarly\n",
    "# unbalanced in the validation set as in the training set. In the current\n",
    "# validation set, this is not the case.\n",
    "train_images_concat = train_images + val_images\n",
    "train_labels_concat = np.concatenate([train_labels, val_labels])\n",
    "\n",
    "# overwrite names for memory efficiency\n",
    "train_images, val_images, train_labels, val_labels = train_test_split(\n",
    "    train_images_concat,\n",
    "    train_labels_concat,\n",
    "    test_size=VALIDATION_SIZE,\n",
    "    random_state=SEED,\n",
    "    stratify=train_labels_concat,\n",
    ")\n"
   ]
  },
  {
   "cell_type": "code",
   "execution_count": 5,
   "metadata": {},
   "outputs": [],
   "source": [
    "# randomize the labels of the training data only using np.permutation\n",
    "# see https://github.com/adebayoj/sanity_checks_saliency/blob/master/src/train_cnn_models.py\n",
    "np.random.seed(SEED)\n",
    "train_labels_permuted = np.random.permutation(train_labels)\n",
    "\n",
    "\n",
    "test_transforms = transforms.Compose(\n",
    "    [transforms.CenterCrop(224), transforms.ToTensor()]\n",
    ")\n",
    "\n",
    "test_set = PneumoniaDataset(test_images, test_labels, transforms=test_transforms)\n",
    "\n",
    "test_loader = DataLoader(\n",
    "    test_set, batch_size=TEST_BATCH_SIZE, shuffle=False, pin_memory=True\n",
    ")"
   ]
  },
  {
   "cell_type": "code",
   "execution_count": 6,
   "metadata": {},
   "outputs": [],
   "source": [
    "# loss function that will be used for testing the model\n",
    "num_0 = np.sum(train_labels_permuted == 0)\n",
    "num_1 = np.sum(train_labels_permuted== 1)\n",
    "weight = torch.tensor(\n",
    "    [\n",
    "        (1/num_0) * (num_0 + num_1) / 2.0,\n",
    "        (1/num_1) * (num_0 + num_1) / 2.0\n",
    "        \n",
    "    ], dtype = torch.float32\n",
    ").to(DEVICE)\n",
    "criterion = nn.CrossEntropyLoss(weight = weight)"
   ]
  },
  {
   "cell_type": "markdown",
   "metadata": {},
   "source": [
    "## CNN with True Labels"
   ]
  },
  {
   "cell_type": "code",
   "execution_count": 7,
   "metadata": {},
   "outputs": [
    {
     "data": {
      "text/plain": [
       "<All keys matched successfully>"
      ]
     },
     "execution_count": 7,
     "metadata": {},
     "output_type": "execute_result"
    }
   ],
   "source": [
    "# load the model\n",
    "set_all_seeds(SEED)\n",
    "\n",
    "cnn_not_permuted = CNN().to(DEVICE)\n",
    "checkpoint = torch.load(\"../models/cnn_all_unfrozen.pth\", map_location=DEVICE)\n",
    "cnn_not_permuted.load_state_dict(checkpoint)"
   ]
  },
  {
   "cell_type": "code",
   "execution_count": 8,
   "metadata": {},
   "outputs": [
    {
     "name": "stdout",
     "output_type": "stream",
     "text": [
      "Test Loss: 1.3815765224397183\n",
      "Test F1 Score: 0.9050410316529894\n",
      "Test Balanced Accuracy: 0.8303418803418803\n",
      "[[157  77]\n",
      " [  4 386]]\n"
     ]
    }
   ],
   "source": [
    "test_loss, test_f1_score, test_balanced_accuracy, model_probs, y_true = test(\n",
    "    cnn_not_permuted, test_loader, criterion, device=DEVICE\n",
    ")\n",
    "\n",
    "print(confusion_matrix(y_true, model_probs.round()))"
   ]
  },
  {
   "cell_type": "code",
   "execution_count": 9,
   "metadata": {},
   "outputs": [
    {
     "data": {
      "text/plain": [
       "<sklearn.metrics._plot.confusion_matrix.ConfusionMatrixDisplay at 0x7ff90c46bfd0>"
      ]
     },
     "execution_count": 9,
     "metadata": {},
     "output_type": "execute_result"
    },
    {
     "data": {
      "image/png": "[encoded data removed]",
      "text/plain": [
       "<Figure size 640x480 with 2 Axes>"
      ]
     },
     "metadata": {},
     "output_type": "display_data"
    }
   ],
   "source": [
    "# Plot confusion matrix\n",
    "labels = y_true\n",
    "preds = model_probs.round()\n",
    "cm  = confusion_matrix(labels, preds)\n",
    "disp = ConfusionMatrixDisplay(cm, display_labels=[\"Normal\", \"Pneumonia\"])\n",
    "disp.plot()"
   ]
  },
  {
   "cell_type": "code",
   "execution_count": 10,
   "metadata": {},
   "outputs": [
    {
     "name": "stdout",
     "output_type": "stream",
     "text": [
      "Accuracy of the model is 0.87\n",
      "Balanced accuracy of the model is 0.83\n",
      "Recall of the model is 0.99\n",
      "Precision of the model is 0.83\n",
      "F1 Score of the model is 0.91\n"
     ]
    }
   ],
   "source": [
    "# Compute Performance Metrics\n",
    "tn, fp, fn, tp = cm.ravel()\n",
    "\n",
    "accuracy = (np.array(preds) == np.array(labels)).sum() / len(preds)\n",
    "precision = tp/(tp+fp)\n",
    "recall = tp/(tp+fn)\n",
    "\n",
    "\n",
    "print(f\"Accuracy of the model is {accuracy:.2f}\")\n",
    "print(f\"Balanced accuracy of the model is {test_balanced_accuracy:.2f}\")\n",
    "print(f\"Recall of the model is {recall:.2f}\")\n",
    "print(f\"Precision of the model is {precision:.2f}\")\n",
    "print(f\"F1 Score of the model is {test_f1_score:.2f}\")"
   ]
  },
  {
   "cell_type": "markdown",
   "metadata": {},
   "source": [
    "## CNN with Permuted Labels"
   ]
  },
  {
   "cell_type": "code",
   "execution_count": 11,
   "metadata": {},
   "outputs": [
    {
     "data": {
      "text/plain": [
       "<All keys matched successfully>"
      ]
     },
     "execution_count": 11,
     "metadata": {},
     "output_type": "execute_result"
    }
   ],
   "source": [
    "# load the model\n",
    "set_all_seeds(SEED)\n",
    "\n",
    "cnn_permuted = CNN().to(DEVICE)\n",
    "checkpoint = torch.load(\"../models/cnn_permuted_all_unfrozen.pth\", map_location=DEVICE)\n",
    "cnn_permuted.load_state_dict(checkpoint)"
   ]
  },
  {
   "cell_type": "code",
   "execution_count": 12,
   "metadata": {},
   "outputs": [
    {
     "name": "stdout",
     "output_type": "stream",
     "text": [
      "Test Loss: 4.102112889289856\n",
      "Test F1 Score: 0.7238723872387238\n",
      "Test Balanced Accuracy: 0.5158119658119658\n",
      "[[ 44 190]\n",
      " [ 61 329]]\n"
     ]
    }
   ],
   "source": [
    "test_loss, test_f1_score, test_balanced_accuracy, model_probs, y_true = test(\n",
    "    cnn_permuted, test_loader, criterion, device=DEVICE\n",
    ")\n",
    "\n",
    "print(confusion_matrix(y_true, model_probs.round()))"
   ]
  },
  {
   "cell_type": "code",
   "execution_count": 13,
   "metadata": {},
   "outputs": [
    {
     "data": {
      "text/plain": [
       "<sklearn.metrics._plot.confusion_matrix.ConfusionMatrixDisplay at 0x7ff853fdc250>"
      ]
     },
     "execution_count": 13,
     "metadata": {},
     "output_type": "execute_result"
    },
    {
     "data": {
      "image/png": "[encoded data removed]",
      "text/plain": [
       "<Figure size 640x480 with 2 Axes>"
      ]
     },
     "metadata": {},
     "output_type": "display_data"
    }
   ],
   "source": [
    "# Plot confusion matrix\n",
    "labels = y_true\n",
    "preds = model_probs.round()\n",
    "cm  = confusion_matrix(labels, preds)\n",
    "disp = ConfusionMatrixDisplay(cm, display_labels=[\"Normal\", \"Pneumonia\"])\n",
    "disp.plot()"
   ]
  },
  {
   "cell_type": "code",
   "execution_count": 14,
   "metadata": {},
   "outputs": [
    {
     "name": "stdout",
     "output_type": "stream",
     "text": [
      "Accuracy of the model is 0.60\n",
      "Balanced accuracy of the model is 0.52\n",
      "Recall of the model is 0.84\n",
      "Precision of the model is 0.63\n",
      "F1 Score of the model is 0.72\n"
     ]
    }
   ],
   "source": [
    "# Compute Performance Metrics\n",
    "tn, fp, fn, tp = cm.ravel()\n",
    "\n",
    "accuracy = (np.array(preds) == np.array(labels)).sum() / len(preds)\n",
    "precision = tp/(tp+fp)\n",
    "recall = tp/(tp+fn)\n",
    "\n",
    "\n",
    "print(f\"Accuracy of the model is {accuracy:.2f}\")\n",
    "print(f\"Balanced accuracy of the model is {test_balanced_accuracy:.2f}\")\n",
    "print(f\"Recall of the model is {recall:.2f}\")\n",
    "print(f\"Precision of the model is {precision:.2f}\")\n",
    "print(f\"F1 Score of the model is {test_f1_score:.2f}\")"
   ]
  }
 ],
 "metadata": {
  "kernelspec": {
   "display_name": "ml4hc",
   "language": "python",
   "name": "python3"
  },
  "language_info": {
   "codemirror_mode": {
    "name": "ipython",
    "version": 3
   },
   "file_extension": ".py",
   "mimetype": "text/x-python",
   "name": "python",
   "nbconvert_exporter": "python",
   "pygments_lexer": "ipython3",
   "version": "3.10.13"
  }
 },
 "nbformat": 4,
 "nbformat_minor": 2
}
