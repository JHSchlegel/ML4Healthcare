{
 "cells": [
  {
   "cell_type": "code",
   "outputs": [],
   "source": [
    "import numpy as np\n",
    "import pandas as pd\n",
    "import seaborn as sns\n",
    "sns.set(style=\"whitegrid\")\n",
    "import matplotlib.pyplot as plt\n",
    "import os\n",
    "from typing import Tuple\n",
    "# opencv for image processing\n",
    "import cv2\n",
    "import tqdm\n",
    "from sklearn.model_selection import train_test_split\n",
    "%load_ext blackcellmagic\n"
   ],
   "metadata": {
    "collapsed": false,
    "ExecuteTime": {
     "end_time": "2024-03-26T19:16:56.444035Z",
     "start_time": "2024-03-26T19:16:56.167713Z"
    }
   },
   "id": "b8d2adbb8a823366",
   "execution_count": 2
  },
  {
   "cell_type": "code",
   "outputs": [
    {
     "data": {
      "text/plain": "(5216, 256, 256)"
     },
     "execution_count": 16,
     "metadata": {},
     "output_type": "execute_result"
    }
   ],
   "source": [
    "train_images= np.load('train_images.npy')\n",
    "train_labels = np.load('train_labels.npy')\n",
    "val_images= np.load('val_images.npy')\n",
    "val_labels = np.load('val_labels.npy')\n",
    "train_images.shape"
   ],
   "metadata": {
    "collapsed": false,
    "ExecuteTime": {
     "end_time": "2024-03-26T19:30:03.747228Z",
     "start_time": "2024-03-26T19:30:03.614903Z"
    }
   },
   "id": "f67b0b394baf229f",
   "execution_count": 16
  },
  {
   "cell_type": "code",
   "outputs": [],
   "source": [
    "# Merge images\n",
    "merged_images = np.concatenate((train_images, val_images), axis=0)\n",
    "# Merge labels\n",
    "merged_labels = np.concatenate((train_labels, val_labels), axis=0)\n",
    "\n",
    "# Split the merged dataset into training and validation sets\n",
    "train_images, val_images, train_labels, val_labels = train_test_split(\n",
    "    merged_images, merged_labels, test_size=0.15, random_state=42, stratify=merged_labels\n",
    ")"
   ],
   "metadata": {
    "collapsed": false,
    "ExecuteTime": {
     "end_time": "2024-03-26T19:32:20.306004Z",
     "start_time": "2024-03-26T19:32:20.107471Z"
    }
   },
   "id": "1bdb483df301ae84",
   "execution_count": 24
  }
 ],
 "metadata": {
  "kernelspec": {
   "display_name": "Python 3",
   "language": "python",
   "name": "python3"
  },
  "language_info": {
   "codemirror_mode": {
    "name": "ipython",
    "version": 2
   },
   "file_extension": ".py",
   "mimetype": "text/x-python",
   "name": "python",
   "nbconvert_exporter": "python",
   "pygments_lexer": "ipython2",
   "version": "2.7.6"
  }
 },
 "nbformat": 4,
 "nbformat_minor": 5
}
